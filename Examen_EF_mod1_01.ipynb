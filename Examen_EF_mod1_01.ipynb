{
 "cells": [
  {
   "cell_type": "markdown",
   "metadata": {},
   "source": [
    "# Examen Módulo I 1.0"
   ]
  },
  {
   "cell_type": "markdown",
   "metadata": {},
   "source": [
    "## Importar"
   ]
  },
  {
   "cell_type": "code",
   "execution_count": 1,
   "metadata": {
    "ExecuteTime": {
     "end_time": "2020-10-06T17:25:33.027153Z",
     "start_time": "2020-10-06T17:25:33.021413Z"
    }
   },
   "outputs": [],
   "source": [
    "import time\n",
    "start = time.time()"
   ]
  },
  {
   "cell_type": "code",
   "execution_count": 2,
   "metadata": {
    "ExecuteTime": {
     "end_time": "2020-10-06T17:25:33.939719Z",
     "start_time": "2020-10-06T17:25:33.035784Z"
    }
   },
   "outputs": [],
   "source": [
    "# %load basic\n",
    "import pandas as pd\n",
    "import numpy as np\n",
    "import matplotlib.pyplot as plt"
   ]
  },
  {
   "cell_type": "code",
   "execution_count": 3,
   "metadata": {
    "ExecuteTime": {
     "end_time": "2020-10-06T17:25:33.995565Z",
     "start_time": "2020-10-06T17:25:33.945053Z"
    }
   },
   "outputs": [],
   "source": [
    "import chardet"
   ]
  },
  {
   "cell_type": "code",
   "execution_count": 4,
   "metadata": {
    "ExecuteTime": {
     "end_time": "2020-10-06T17:25:34.006625Z",
     "start_time": "2020-10-06T17:25:34.001221Z"
    }
   },
   "outputs": [],
   "source": [
    "## Definir tono de audio\n",
    "from IPython.lib.display import Audio\n",
    "\n",
    "framerate = 4410\n",
    "play_time_seconds = 1\n",
    "\n",
    "t = np.linspace(0, play_time_seconds, framerate*play_time_seconds)\n",
    "audio_data = np.sin(5*np.pi*300*t) + np.sin(2*np.pi*240*t)"
   ]
  },
  {
   "cell_type": "code",
   "execution_count": 5,
   "metadata": {
    "ExecuteTime": {
     "end_time": "2020-10-06T17:25:35.256813Z",
     "start_time": "2020-10-06T17:25:34.010587Z"
    }
   },
   "outputs": [],
   "source": [
    "import seaborn as sns"
   ]
  },
  {
   "cell_type": "code",
   "execution_count": 6,
   "metadata": {
    "ExecuteTime": {
     "end_time": "2020-10-06T17:25:35.365669Z",
     "start_time": "2020-10-06T17:25:35.259089Z"
    }
   },
   "outputs": [
    {
     "name": "stdout",
     "output_type": "stream",
     "text": [
      "{'encoding': 'ISO-8859-1', 'confidence': 0.73, 'language': ''}\n"
     ]
    }
   ],
   "source": [
    "## Conocer encoding\n",
    "with open('/home/ef/Documents/Diplomado/EXAMEN01/asg-2020-07-31.csv', 'rb') as rawdata:\n",
    "    result = chardet.detect(rawdata.read(10000))\n",
    "   \n",
    "print(result)"
   ]
  },
  {
   "cell_type": "code",
   "execution_count": 7,
   "metadata": {
    "ExecuteTime": {
     "end_time": "2020-10-06T17:25:47.365883Z",
     "start_time": "2020-10-06T17:25:35.368666Z"
    }
   },
   "outputs": [
    {
     "data": {
      "text/html": [
       "<div>\n",
       "<style scoped>\n",
       "    .dataframe tbody tr th:only-of-type {\n",
       "        vertical-align: middle;\n",
       "    }\n",
       "\n",
       "    .dataframe tbody tr th {\n",
       "        vertical-align: top;\n",
       "    }\n",
       "\n",
       "    .dataframe thead th {\n",
       "        text-align: right;\n",
       "    }\n",
       "</style>\n",
       "<table border=\"1\" class=\"dataframe\">\n",
       "  <thead>\n",
       "    <tr style=\"text-align: right;\">\n",
       "      <th></th>\n",
       "      <th>cve_delegacion</th>\n",
       "      <th>cve_subdelegacion</th>\n",
       "      <th>cve_entidad</th>\n",
       "      <th>cve_municipio</th>\n",
       "      <th>sector_economico_1</th>\n",
       "      <th>sector_economico_2</th>\n",
       "      <th>sector_economico_4</th>\n",
       "      <th>tamaño_patron</th>\n",
       "      <th>sexo</th>\n",
       "      <th>rango_edad</th>\n",
       "      <th>...</th>\n",
       "      <th>ta_sal</th>\n",
       "      <th>teu_sal</th>\n",
       "      <th>tec_sal</th>\n",
       "      <th>tpu_sal</th>\n",
       "      <th>tpc_sal</th>\n",
       "      <th>masa_sal_ta</th>\n",
       "      <th>masa_sal_teu</th>\n",
       "      <th>masa_sal_tec</th>\n",
       "      <th>masa_sal_tpu</th>\n",
       "      <th>masa_sal_tpc</th>\n",
       "    </tr>\n",
       "  </thead>\n",
       "  <tbody>\n",
       "    <tr>\n",
       "      <th>1223741</th>\n",
       "      <td>14</td>\n",
       "      <td>22</td>\n",
       "      <td>14</td>\n",
       "      <td>B82</td>\n",
       "      <td>9.0</td>\n",
       "      <td>93.0</td>\n",
       "      <td>9303.0</td>\n",
       "      <td>S3</td>\n",
       "      <td>2</td>\n",
       "      <td>E7</td>\n",
       "      <td>...</td>\n",
       "      <td>1</td>\n",
       "      <td>0</td>\n",
       "      <td>0</td>\n",
       "      <td>1</td>\n",
       "      <td>0</td>\n",
       "      <td>270.39</td>\n",
       "      <td>0.00</td>\n",
       "      <td>0.0</td>\n",
       "      <td>270.39</td>\n",
       "      <td>0.0</td>\n",
       "    </tr>\n",
       "    <tr>\n",
       "      <th>2827244</th>\n",
       "      <td>22</td>\n",
       "      <td>22</td>\n",
       "      <td>21</td>\n",
       "      <td>Y46</td>\n",
       "      <td>6.0</td>\n",
       "      <td>65.0</td>\n",
       "      <td>6503.0</td>\n",
       "      <td>S3</td>\n",
       "      <td>2</td>\n",
       "      <td>E8</td>\n",
       "      <td>...</td>\n",
       "      <td>23</td>\n",
       "      <td>1</td>\n",
       "      <td>0</td>\n",
       "      <td>22</td>\n",
       "      <td>0</td>\n",
       "      <td>3108.26</td>\n",
       "      <td>133.59</td>\n",
       "      <td>0.0</td>\n",
       "      <td>2974.67</td>\n",
       "      <td>0.0</td>\n",
       "    </tr>\n",
       "    <tr>\n",
       "      <th>2710067</th>\n",
       "      <td>22</td>\n",
       "      <td>1</td>\n",
       "      <td>21</td>\n",
       "      <td>E06</td>\n",
       "      <td>6.0</td>\n",
       "      <td>62.0</td>\n",
       "      <td>6209.0</td>\n",
       "      <td>S3</td>\n",
       "      <td>2</td>\n",
       "      <td>E10</td>\n",
       "      <td>...</td>\n",
       "      <td>1</td>\n",
       "      <td>0</td>\n",
       "      <td>0</td>\n",
       "      <td>1</td>\n",
       "      <td>0</td>\n",
       "      <td>463.90</td>\n",
       "      <td>0.00</td>\n",
       "      <td>0.0</td>\n",
       "      <td>463.90</td>\n",
       "      <td>0.0</td>\n",
       "    </tr>\n",
       "    <tr>\n",
       "      <th>1069972</th>\n",
       "      <td>12</td>\n",
       "      <td>2</td>\n",
       "      <td>12</td>\n",
       "      <td>B61</td>\n",
       "      <td>8.0</td>\n",
       "      <td>87.0</td>\n",
       "      <td>8702.0</td>\n",
       "      <td>S4</td>\n",
       "      <td>2</td>\n",
       "      <td>E9</td>\n",
       "      <td>...</td>\n",
       "      <td>1</td>\n",
       "      <td>0</td>\n",
       "      <td>0</td>\n",
       "      <td>1</td>\n",
       "      <td>0</td>\n",
       "      <td>247.13</td>\n",
       "      <td>0.00</td>\n",
       "      <td>0.0</td>\n",
       "      <td>247.13</td>\n",
       "      <td>0.0</td>\n",
       "    </tr>\n",
       "  </tbody>\n",
       "</table>\n",
       "<p>4 rows × 29 columns</p>\n",
       "</div>"
      ],
      "text/plain": [
       "         cve_delegacion  cve_subdelegacion  cve_entidad cve_municipio  \\\n",
       "1223741              14                 22           14           B82   \n",
       "2827244              22                 22           21           Y46   \n",
       "2710067              22                  1           21           E06   \n",
       "1069972              12                  2           12           B61   \n",
       "\n",
       "         sector_economico_1  sector_economico_2  sector_economico_4  \\\n",
       "1223741                 9.0                93.0              9303.0   \n",
       "2827244                 6.0                65.0              6503.0   \n",
       "2710067                 6.0                62.0              6209.0   \n",
       "1069972                 8.0                87.0              8702.0   \n",
       "\n",
       "        tamaño_patron  sexo rango_edad  ... ta_sal teu_sal  tec_sal  tpu_sal  \\\n",
       "1223741            S3     2         E7  ...      1       0        0        1   \n",
       "2827244            S3     2         E8  ...     23       1        0       22   \n",
       "2710067            S3     2        E10  ...      1       0        0        1   \n",
       "1069972            S4     2         E9  ...      1       0        0        1   \n",
       "\n",
       "         tpc_sal  masa_sal_ta  masa_sal_teu  masa_sal_tec  masa_sal_tpu  \\\n",
       "1223741        0       270.39          0.00           0.0        270.39   \n",
       "2827244        0      3108.26        133.59           0.0       2974.67   \n",
       "2710067        0       463.90          0.00           0.0        463.90   \n",
       "1069972        0       247.13          0.00           0.0        247.13   \n",
       "\n",
       "         masa_sal_tpc  \n",
       "1223741           0.0  \n",
       "2827244           0.0  \n",
       "2710067           0.0  \n",
       "1069972           0.0  \n",
       "\n",
       "[4 rows x 29 columns]"
      ]
     },
     "execution_count": 7,
     "metadata": {},
     "output_type": "execute_result"
    }
   ],
   "source": [
    "data = pd.read_csv('/home/ef/Documents/Diplomado/EXAMEN01/asg-2020-07-31.csv',\n",
    "                   sep = \"|\",\n",
    "                   encoding = 'ISO-8859-1',\n",
    "                   low_memory = False,\n",
    "                   error_bad_lines = False)\n",
    "data.sample(4)"
   ]
  },
  {
   "cell_type": "code",
   "execution_count": 8,
   "metadata": {
    "ExecuteTime": {
     "end_time": "2020-10-06T17:25:47.421270Z",
     "start_time": "2020-10-06T17:25:47.368683Z"
    }
   },
   "outputs": [
    {
     "name": "stdout",
     "output_type": "stream",
     "text": [
      "<class 'pandas.core.frame.DataFrame'>\n",
      "RangeIndex: 4470204 entries, 0 to 4470203\n",
      "Data columns (total 29 columns):\n",
      " #   Column              Dtype  \n",
      "---  ------              -----  \n",
      " 0   cve_delegacion      int64  \n",
      " 1   cve_subdelegacion   int64  \n",
      " 2   cve_entidad         int64  \n",
      " 3   cve_municipio       object \n",
      " 4   sector_economico_1  float64\n",
      " 5   sector_economico_2  float64\n",
      " 6   sector_economico_4  float64\n",
      " 7   tamaño_patron       object \n",
      " 8   sexo                int64  \n",
      " 9   rango_edad          object \n",
      " 10  rango_salarial      object \n",
      " 11  rango_uma           object \n",
      " 12  asegurados          int64  \n",
      " 13  no_trabajadores     int64  \n",
      " 14  ta                  int64  \n",
      " 15  teu                 int64  \n",
      " 16  tec                 int64  \n",
      " 17  tpu                 int64  \n",
      " 18  tpc                 int64  \n",
      " 19  ta_sal              int64  \n",
      " 20  teu_sal             int64  \n",
      " 21  tec_sal             int64  \n",
      " 22  tpu_sal             int64  \n",
      " 23  tpc_sal             int64  \n",
      " 24  masa_sal_ta         float64\n",
      " 25  masa_sal_teu        float64\n",
      " 26  masa_sal_tec        float64\n",
      " 27  masa_sal_tpu        float64\n",
      " 28  masa_sal_tpc        float64\n",
      "dtypes: float64(8), int64(16), object(5)\n",
      "memory usage: 989.0+ MB\n"
     ]
    }
   ],
   "source": [
    "data.info()"
   ]
  },
  {
   "cell_type": "markdown",
   "metadata": {},
   "source": [
    "## Calidad de datos"
   ]
  },
  {
   "cell_type": "markdown",
   "metadata": {},
   "source": [
    "### Valores ausentes"
   ]
  },
  {
   "cell_type": "code",
   "execution_count": 9,
   "metadata": {
    "ExecuteTime": {
     "end_time": "2020-10-06T17:25:47.443383Z",
     "start_time": "2020-10-06T17:25:47.424280Z"
    }
   },
   "outputs": [
    {
     "data": {
      "text/plain": [
       "(4470204, 29)"
      ]
     },
     "execution_count": 9,
     "metadata": {},
     "output_type": "execute_result"
    }
   ],
   "source": [
    "dim_antes = data.shape[0]\n",
    "data.shape"
   ]
  },
  {
   "cell_type": "code",
   "execution_count": 10,
   "metadata": {
    "ExecuteTime": {
     "end_time": "2020-10-06T17:25:48.693775Z",
     "start_time": "2020-10-06T17:25:47.447984Z"
    }
   },
   "outputs": [
    {
     "data": {
      "text/plain": [
       "cve_delegacion        0.000000\n",
       "cve_subdelegacion     0.000000\n",
       "cve_entidad           0.000000\n",
       "cve_municipio         0.113510\n",
       "sector_economico_1    0.003642\n",
       "sector_economico_2    0.003642\n",
       "sector_economico_4    0.003642\n",
       "tamaño_patron         0.005876\n",
       "sexo                  0.000000\n",
       "rango_edad            0.000000\n",
       "rango_salarial        0.005925\n",
       "rango_uma             0.005925\n",
       "asegurados            0.000000\n",
       "no_trabajadores       0.000000\n",
       "ta                    0.000000\n",
       "teu                   0.000000\n",
       "tec                   0.000000\n",
       "tpu                   0.000000\n",
       "tpc                   0.000000\n",
       "ta_sal                0.000000\n",
       "teu_sal               0.000000\n",
       "tec_sal               0.000000\n",
       "tpu_sal               0.000000\n",
       "tpc_sal               0.000000\n",
       "masa_sal_ta           0.000000\n",
       "masa_sal_teu          0.000000\n",
       "masa_sal_tec          0.000000\n",
       "masa_sal_tpu          0.000000\n",
       "masa_sal_tpc          0.000000\n",
       "dtype: float64"
      ]
     },
     "execution_count": 10,
     "metadata": {},
     "output_type": "execute_result"
    }
   ],
   "source": [
    "## Existen valores ausentes, pero tranquilos, todo tiene explicación\n",
    "data.isnull().sum() / data.shape[0]"
   ]
  },
  {
   "cell_type": "code",
   "execution_count": 11,
   "metadata": {
    "ExecuteTime": {
     "end_time": "2020-10-06T17:25:49.124156Z",
     "start_time": "2020-10-06T17:25:48.695961Z"
    }
   },
   "outputs": [
    {
     "data": {
      "text/plain": [
       "0"
      ]
     },
     "execution_count": 11,
     "metadata": {},
     "output_type": "execute_result"
    }
   ],
   "source": [
    "## En la clave de municipio (variable con más outliers) el valor ausente significa CDMX\n",
    "data['cve_municipio'].fillna('MEX', inplace = True)\n",
    "data['cve_municipio'].isnull().sum()"
   ]
  },
  {
   "cell_type": "code",
   "execution_count": 12,
   "metadata": {
    "ExecuteTime": {
     "end_time": "2020-10-06T17:25:50.482651Z",
     "start_time": "2020-10-06T17:25:49.127150Z"
    }
   },
   "outputs": [
    {
     "data": {
      "text/plain": [
       "sector_economico_1    0\n",
       "sector_economico_2    0\n",
       "sector_economico_4    0\n",
       "dtype: int64"
      ]
     },
     "execution_count": 12,
     "metadata": {},
     "output_type": "execute_result"
    }
   ],
   "source": [
    "## Respecto al sector económico, los valores ausentes significa que no hay empleo asociado,\n",
    "## pueden ser asegurados familiares de trabajadores en el IMSS, CFE, etc. Se omiten\n",
    "data = data[~(data['sector_economico_1'].isnull())].copy()\n",
    "data.reset_index(drop = True, inplace = True)\n",
    "data[['sector_economico_1', 'sector_economico_2', 'sector_economico_4']].isnull().sum()"
   ]
  },
  {
   "cell_type": "code",
   "execution_count": 13,
   "metadata": {
    "ExecuteTime": {
     "end_time": "2020-10-06T17:25:50.497127Z",
     "start_time": "2020-10-06T17:25:50.488307Z"
    }
   },
   "outputs": [
    {
     "data": {
      "text/plain": [
       "0.996358331745039"
      ]
     },
     "execution_count": 13,
     "metadata": {},
     "output_type": "execute_result"
    }
   ],
   "source": [
    "## Aún se cuenta con gran % de los registros originales\n",
    "data.shape[0] / dim_antes"
   ]
  },
  {
   "cell_type": "code",
   "execution_count": 14,
   "metadata": {
    "ExecuteTime": {
     "end_time": "2020-10-06T17:25:50.943419Z",
     "start_time": "2020-10-06T17:25:50.505818Z"
    }
   },
   "outputs": [
    {
     "data": {
      "text/plain": [
       "W2     1660141\n",
       "W3      801435\n",
       "W4      456592\n",
       "W5      337670\n",
       "W6      235052\n",
       "W7      177208\n",
       "W8      142524\n",
       "W9      111779\n",
       "W10      92211\n",
       "W18      83726\n",
       "W11      72861\n",
       "W12      61421\n",
       "W13      51573\n",
       "W14      43653\n",
       "W15      39515\n",
       "W16      33084\n",
       "W17      30365\n",
       "W1       12908\n",
       "NaN      10207\n",
       "Name: rango_salarial, dtype: int64"
      ]
     },
     "execution_count": 14,
     "metadata": {},
     "output_type": "execute_result"
    }
   ],
   "source": [
    "## Los registros vacíos en el rango salarial pueden agruparse con\n",
    "## \"hasta 1 salario mín\":W1 (sigue siendo la categoría más pequeña)\n",
    "data['rango_salarial'].value_counts(dropna = False)"
   ]
  },
  {
   "cell_type": "code",
   "execution_count": 15,
   "metadata": {
    "ExecuteTime": {
     "end_time": "2020-10-06T17:25:51.857609Z",
     "start_time": "2020-10-06T17:25:50.951639Z"
    }
   },
   "outputs": [
    {
     "data": {
      "text/plain": [
       "rango_salarial    0\n",
       "rango_uma         0\n",
       "dtype: int64"
      ]
     },
     "execution_count": 15,
     "metadata": {},
     "output_type": "execute_result"
    }
   ],
   "source": [
    "## Mismo proceso para \"rango_uma\"\n",
    "data['rango_salarial'].fillna('W1', inplace = True)\n",
    "data['rango_uma'].fillna('W1', inplace = True)\n",
    "data[['rango_salarial', 'rango_uma']].isnull().sum()"
   ]
  },
  {
   "cell_type": "code",
   "execution_count": 16,
   "metadata": {
    "ExecuteTime": {
     "end_time": "2020-10-06T17:25:51.869907Z",
     "start_time": "2020-10-06T17:25:51.861763Z"
    }
   },
   "outputs": [
    {
     "data": {
      "text/plain": [
       "Index(['cve_delegacion', 'cve_subdelegacion', 'cve_entidad', 'cve_municipio',\n",
       "       'sector_economico_1', 'sector_economico_2', 'sector_economico_4',\n",
       "       'tamaño_patron', 'sexo', 'rango_edad', 'rango_salarial', 'rango_uma',\n",
       "       'asegurados', 'no_trabajadores', 'ta', 'teu', 'tec', 'tpu', 'tpc',\n",
       "       'ta_sal', 'teu_sal', 'tec_sal', 'tpu_sal', 'tpc_sal', 'masa_sal_ta',\n",
       "       'masa_sal_teu', 'masa_sal_tec', 'masa_sal_tpu', 'masa_sal_tpc'],\n",
       "      dtype='object')"
      ]
     },
     "execution_count": 16,
     "metadata": {},
     "output_type": "execute_result"
    }
   ],
   "source": [
    "data.columns"
   ]
  },
  {
   "cell_type": "markdown",
   "metadata": {
    "ExecuteTime": {
     "end_time": "2020-09-15T21:07:06.845441Z",
     "start_time": "2020-09-15T21:07:06.554689Z"
    }
   },
   "source": [
    "Los registros vacíos restantes pertenecen a la variable \"tamaño_patron\", sin embargo, al analizar qué sector económico engloba, se despliegan los códigos referentes a \"Servicios domésticos\" y \"Servicios profesionales y técnicos\".\n"
   ]
  },
  {
   "cell_type": "code",
   "execution_count": 17,
   "metadata": {
    "ExecuteTime": {
     "end_time": "2020-10-06T17:25:52.079797Z",
     "start_time": "2020-10-06T17:25:51.872343Z"
    }
   },
   "outputs": [
    {
     "data": {
      "text/plain": [
       "8913.0    0.655121\n",
       "8401.0    0.344879\n",
       "Name: sector_economico_4, dtype: float64"
      ]
     },
     "execution_count": 17,
     "metadata": {},
     "output_type": "execute_result"
    }
   ],
   "source": [
    "data[data['tamaño_patron'].isnull()]['sector_economico_4'].value_counts(normalize = True)"
   ]
  },
  {
   "cell_type": "code",
   "execution_count": 18,
   "metadata": {
    "ExecuteTime": {
     "end_time": "2020-10-06T17:25:53.681532Z",
     "start_time": "2020-10-06T17:25:52.084955Z"
    }
   },
   "outputs": [],
   "source": [
    "## Por la cantidad de registros vacíos en esta variable, no hay peligro con eliminarlos.\n",
    "data = data[~(data['tamaño_patron'].isnull())].copy()\n",
    "data.reset_index(drop = True, inplace = True)"
   ]
  },
  {
   "cell_type": "code",
   "execution_count": 19,
   "metadata": {
    "ExecuteTime": {
     "end_time": "2020-10-06T17:25:54.841827Z",
     "start_time": "2020-10-06T17:25:53.685148Z"
    }
   },
   "outputs": [
    {
     "data": {
      "text/plain": [
       "cve_delegacion        0.0\n",
       "cve_subdelegacion     0.0\n",
       "cve_entidad           0.0\n",
       "cve_municipio         0.0\n",
       "sector_economico_1    0.0\n",
       "sector_economico_2    0.0\n",
       "sector_economico_4    0.0\n",
       "tamaño_patron         0.0\n",
       "sexo                  0.0\n",
       "rango_edad            0.0\n",
       "rango_salarial        0.0\n",
       "rango_uma             0.0\n",
       "asegurados            0.0\n",
       "no_trabajadores       0.0\n",
       "ta                    0.0\n",
       "teu                   0.0\n",
       "tec                   0.0\n",
       "tpu                   0.0\n",
       "tpc                   0.0\n",
       "ta_sal                0.0\n",
       "teu_sal               0.0\n",
       "tec_sal               0.0\n",
       "tpu_sal               0.0\n",
       "tpc_sal               0.0\n",
       "masa_sal_ta           0.0\n",
       "masa_sal_teu          0.0\n",
       "masa_sal_tec          0.0\n",
       "masa_sal_tpu          0.0\n",
       "masa_sal_tpc          0.0\n",
       "dtype: float64"
      ]
     },
     "execution_count": 19,
     "metadata": {},
     "output_type": "execute_result"
    }
   ],
   "source": [
    "## Ahora todo está completo (por ahora)\n",
    "data.isnull().sum() / data.shape[0]"
   ]
  },
  {
   "cell_type": "code",
   "execution_count": 20,
   "metadata": {
    "ExecuteTime": {
     "end_time": "2020-10-06T17:25:54.875857Z",
     "start_time": "2020-10-06T17:25:54.847089Z"
    }
   },
   "outputs": [
    {
     "data": {
      "text/plain": [
       "0.9941237581103681"
      ]
     },
     "execution_count": 20,
     "metadata": {},
     "output_type": "execute_result"
    }
   ],
   "source": [
    "## Además, se cuenta con casi la totalidad de registros originales\n",
    "data.shape[0]/dim_antes"
   ]
  },
  {
   "cell_type": "markdown",
   "metadata": {},
   "source": [
    "### Outliers"
   ]
  },
  {
   "cell_type": "code",
   "execution_count": 21,
   "metadata": {
    "ExecuteTime": {
     "end_time": "2020-10-06T17:25:54.898679Z",
     "start_time": "2020-10-06T17:25:54.877911Z"
    }
   },
   "outputs": [
    {
     "data": {
      "text/plain": [
       "Index(['cve_delegacion', 'cve_subdelegacion', 'cve_entidad', 'cve_municipio',\n",
       "       'sector_economico_1', 'sector_economico_2', 'sector_economico_4',\n",
       "       'tamaño_patron', 'sexo', 'rango_edad', 'rango_salarial', 'rango_uma',\n",
       "       'asegurados', 'no_trabajadores', 'ta', 'teu', 'tec', 'tpu', 'tpc',\n",
       "       'ta_sal', 'teu_sal', 'tec_sal', 'tpu_sal', 'tpc_sal', 'masa_sal_ta',\n",
       "       'masa_sal_teu', 'masa_sal_tec', 'masa_sal_tpu', 'masa_sal_tpc'],\n",
       "      dtype='object')"
      ]
     },
     "execution_count": 21,
     "metadata": {},
     "output_type": "execute_result"
    }
   ],
   "source": [
    "data.columns"
   ]
  },
  {
   "cell_type": "markdown",
   "metadata": {},
   "source": [
    "#### Asegurados y no trabajadores"
   ]
  },
  {
   "cell_type": "code",
   "execution_count": 22,
   "metadata": {
    "ExecuteTime": {
     "end_time": "2020-10-06T17:25:54.988684Z",
     "start_time": "2020-10-06T17:25:54.902677Z"
    },
    "scrolled": true
   },
   "outputs": [
    {
     "data": {
      "text/plain": [
       "0    4443936\n",
       "Name: aux, dtype: int64"
      ]
     },
     "execution_count": 22,
     "metadata": {},
     "output_type": "execute_result"
    }
   ],
   "source": [
    "## Al parecer, la cantidad de asegurados es igual a los puestos de trabajo, se elimina \"ta\"\n",
    "data['aux'] = data['asegurados'] - data['ta']\n",
    "data['aux'].value_counts()"
   ]
  },
  {
   "cell_type": "code",
   "execution_count": 23,
   "metadata": {
    "ExecuteTime": {
     "end_time": "2020-10-06T17:25:55.035203Z",
     "start_time": "2020-10-06T17:25:54.990475Z"
    }
   },
   "outputs": [
    {
     "data": {
      "text/plain": [
       "0    4443936\n",
       "Name: no_trabajadores, dtype: int64"
      ]
     },
     "execution_count": 23,
     "metadata": {},
     "output_type": "execute_result"
    }
   ],
   "source": [
    "## La variable \"no_trabajadores\" no aporta al conjunto de datos, se elimina\n",
    "data['no_trabajadores'].value_counts()"
   ]
  },
  {
   "cell_type": "code",
   "execution_count": 24,
   "metadata": {
    "ExecuteTime": {
     "end_time": "2020-10-06T17:25:56.003489Z",
     "start_time": "2020-10-06T17:25:55.041320Z"
    },
    "scrolled": false
   },
   "outputs": [
    {
     "data": {
      "text/plain": [
       "Index(['cve_delegacion', 'cve_subdelegacion', 'cve_entidad', 'cve_municipio',\n",
       "       'sector_economico_1', 'sector_economico_2', 'sector_economico_4',\n",
       "       'tamaño_patron', 'sexo', 'rango_edad', 'rango_salarial', 'rango_uma',\n",
       "       'ta', 'teu', 'tec', 'tpu', 'tpc', 'ta_sal', 'teu_sal', 'tec_sal',\n",
       "       'tpu_sal', 'tpc_sal', 'masa_sal_ta', 'masa_sal_teu', 'masa_sal_tec',\n",
       "       'masa_sal_tpu', 'masa_sal_tpc'],\n",
       "      dtype='object')"
      ]
     },
     "execution_count": 24,
     "metadata": {},
     "output_type": "execute_result"
    }
   ],
   "source": [
    "data.drop(['asegurados', 'aux', 'no_trabajadores'], axis = 1, inplace=True)\n",
    "data.columns"
   ]
  },
  {
   "cell_type": "markdown",
   "metadata": {},
   "source": [
    "#### Puestos de trabajo"
   ]
  },
  {
   "cell_type": "markdown",
   "metadata": {},
   "source": [
    "Parece que la variable \"ta\" es la suma de puestos eventuales y permanentes en el campo y urbanos, se procede a evaluar outliers en estas variables"
   ]
  },
  {
   "cell_type": "code",
   "execution_count": 25,
   "metadata": {
    "ExecuteTime": {
     "end_time": "2020-10-06T17:25:56.808161Z",
     "start_time": "2020-10-06T17:25:56.008479Z"
    }
   },
   "outputs": [
    {
     "data": {
      "text/html": [
       "<div>\n",
       "<style scoped>\n",
       "    .dataframe tbody tr th:only-of-type {\n",
       "        vertical-align: middle;\n",
       "    }\n",
       "\n",
       "    .dataframe tbody tr th {\n",
       "        vertical-align: top;\n",
       "    }\n",
       "\n",
       "    .dataframe thead th {\n",
       "        text-align: right;\n",
       "    }\n",
       "</style>\n",
       "<table border=\"1\" class=\"dataframe\">\n",
       "  <thead>\n",
       "    <tr style=\"text-align: right;\">\n",
       "      <th></th>\n",
       "      <th>ta</th>\n",
       "      <th>teu</th>\n",
       "      <th>tec</th>\n",
       "      <th>tpu</th>\n",
       "      <th>tpc</th>\n",
       "    </tr>\n",
       "  </thead>\n",
       "  <tbody>\n",
       "    <tr>\n",
       "      <th>count</th>\n",
       "      <td>4.443936e+06</td>\n",
       "      <td>4.443936e+06</td>\n",
       "      <td>4.443936e+06</td>\n",
       "      <td>4.443936e+06</td>\n",
       "      <td>4.443936e+06</td>\n",
       "    </tr>\n",
       "    <tr>\n",
       "      <th>mean</th>\n",
       "      <td>4.374382e+00</td>\n",
       "      <td>5.482196e-01</td>\n",
       "      <td>4.458773e-02</td>\n",
       "      <td>3.719204e+00</td>\n",
       "      <td>6.237039e-02</td>\n",
       "    </tr>\n",
       "    <tr>\n",
       "      <th>std</th>\n",
       "      <td>1.657464e+01</td>\n",
       "      <td>4.043423e+00</td>\n",
       "      <td>1.822364e+00</td>\n",
       "      <td>1.511236e+01</td>\n",
       "      <td>1.735259e+00</td>\n",
       "    </tr>\n",
       "    <tr>\n",
       "      <th>min</th>\n",
       "      <td>1.000000e+00</td>\n",
       "      <td>0.000000e+00</td>\n",
       "      <td>0.000000e+00</td>\n",
       "      <td>0.000000e+00</td>\n",
       "      <td>0.000000e+00</td>\n",
       "    </tr>\n",
       "    <tr>\n",
       "      <th>20%</th>\n",
       "      <td>1.000000e+00</td>\n",
       "      <td>0.000000e+00</td>\n",
       "      <td>0.000000e+00</td>\n",
       "      <td>1.000000e+00</td>\n",
       "      <td>0.000000e+00</td>\n",
       "    </tr>\n",
       "    <tr>\n",
       "      <th>40%</th>\n",
       "      <td>1.000000e+00</td>\n",
       "      <td>0.000000e+00</td>\n",
       "      <td>0.000000e+00</td>\n",
       "      <td>1.000000e+00</td>\n",
       "      <td>0.000000e+00</td>\n",
       "    </tr>\n",
       "    <tr>\n",
       "      <th>50%</th>\n",
       "      <td>1.000000e+00</td>\n",
       "      <td>0.000000e+00</td>\n",
       "      <td>0.000000e+00</td>\n",
       "      <td>1.000000e+00</td>\n",
       "      <td>0.000000e+00</td>\n",
       "    </tr>\n",
       "    <tr>\n",
       "      <th>60%</th>\n",
       "      <td>2.000000e+00</td>\n",
       "      <td>0.000000e+00</td>\n",
       "      <td>0.000000e+00</td>\n",
       "      <td>2.000000e+00</td>\n",
       "      <td>0.000000e+00</td>\n",
       "    </tr>\n",
       "    <tr>\n",
       "      <th>80%</th>\n",
       "      <td>4.000000e+00</td>\n",
       "      <td>0.000000e+00</td>\n",
       "      <td>0.000000e+00</td>\n",
       "      <td>3.000000e+00</td>\n",
       "      <td>0.000000e+00</td>\n",
       "    </tr>\n",
       "    <tr>\n",
       "      <th>95%</th>\n",
       "      <td>1.500000e+01</td>\n",
       "      <td>2.000000e+00</td>\n",
       "      <td>0.000000e+00</td>\n",
       "      <td>1.200000e+01</td>\n",
       "      <td>0.000000e+00</td>\n",
       "    </tr>\n",
       "    <tr>\n",
       "      <th>max</th>\n",
       "      <td>2.722000e+03</td>\n",
       "      <td>1.522000e+03</td>\n",
       "      <td>1.005000e+03</td>\n",
       "      <td>2.722000e+03</td>\n",
       "      <td>6.290000e+02</td>\n",
       "    </tr>\n",
       "  </tbody>\n",
       "</table>\n",
       "</div>"
      ],
      "text/plain": [
       "                 ta           teu           tec           tpu           tpc\n",
       "count  4.443936e+06  4.443936e+06  4.443936e+06  4.443936e+06  4.443936e+06\n",
       "mean   4.374382e+00  5.482196e-01  4.458773e-02  3.719204e+00  6.237039e-02\n",
       "std    1.657464e+01  4.043423e+00  1.822364e+00  1.511236e+01  1.735259e+00\n",
       "min    1.000000e+00  0.000000e+00  0.000000e+00  0.000000e+00  0.000000e+00\n",
       "20%    1.000000e+00  0.000000e+00  0.000000e+00  1.000000e+00  0.000000e+00\n",
       "40%    1.000000e+00  0.000000e+00  0.000000e+00  1.000000e+00  0.000000e+00\n",
       "50%    1.000000e+00  0.000000e+00  0.000000e+00  1.000000e+00  0.000000e+00\n",
       "60%    2.000000e+00  0.000000e+00  0.000000e+00  2.000000e+00  0.000000e+00\n",
       "80%    4.000000e+00  0.000000e+00  0.000000e+00  3.000000e+00  0.000000e+00\n",
       "95%    1.500000e+01  2.000000e+00  0.000000e+00  1.200000e+01  0.000000e+00\n",
       "max    2.722000e+03  1.522000e+03  1.005000e+03  2.722000e+03  6.290000e+02"
      ]
     },
     "execution_count": 25,
     "metadata": {},
     "output_type": "execute_result"
    }
   ],
   "source": [
    "data[['ta', 'teu', 'tec', 'tpu', 'tpc']].describe([i/10 for i in range(2,10,2)] + [.95])"
   ]
  },
  {
   "cell_type": "code",
   "execution_count": 26,
   "metadata": {
    "ExecuteTime": {
     "end_time": "2020-10-06T17:25:57.421016Z",
     "start_time": "2020-10-06T17:25:56.810037Z"
    }
   },
   "outputs": [
    {
     "data": {
      "text/plain": [
       "<AxesSubplot:>"
      ]
     },
     "execution_count": 26,
     "metadata": {},
     "output_type": "execute_result"
    },
    {
     "data": {
      "image/png": "[encoded data removed]",
      "text/plain": [
       "<Figure size 432x288 with 1 Axes>"
      ]
     },
     "metadata": {
      "needs_background": "light"
     },
     "output_type": "display_data"
    }
   ],
   "source": [
    "## Es importante evaluar la distribución donde SÍ haya asegurados!\n",
    "\n",
    "## Eventuales urbanos:\n",
    "data[data['teu'] > 0]['teu'].hist()"
   ]
  },
  {
   "cell_type": "code",
   "execution_count": 27,
   "metadata": {
    "ExecuteTime": {
     "end_time": "2020-10-06T17:25:59.248960Z",
     "start_time": "2020-10-06T17:25:57.423581Z"
    }
   },
   "outputs": [
    {
     "name": "stdout",
     "output_type": "stream",
     "text": [
      "AxesSubplot(0.125,0.125;0.775x0.755)\n"
     ]
    },
    {
     "data": {
      "image/png": "[encoded data removed]",
      "text/plain": [
       "<Figure size 432x288 with 1 Axes>"
      ]
     },
     "metadata": {
      "needs_background": "light"
     },
     "output_type": "display_data"
    }
   ],
   "source": [
    "## Se acotan outliers con el método IQR, donde SÍ hay asegurados\n",
    "def outlier(df, x):\n",
    "    puestos = df[df[x] > 0][x]\n",
    "    q1 = puestos.quantile(.25)\n",
    "    q3 = puestos.quantile(.75)\n",
    "    iqr = q3 - q1\n",
    "    \n",
    "    df = df[df[x] <= q3 + 1.5*iqr]\n",
    "    df.reset_index(drop = True, inplace = True)\n",
    "    \n",
    "    global data\n",
    "    data = df.copy()\n",
    "    \n",
    "    print(df[df[x] > 0][x].hist())\n",
    "\n",
    "outlier(data,'teu')"
   ]
  },
  {
   "cell_type": "code",
   "execution_count": 28,
   "metadata": {
    "ExecuteTime": {
     "end_time": "2020-10-06T17:25:59.478952Z",
     "start_time": "2020-10-06T17:25:59.252995Z"
    },
    "scrolled": true
   },
   "outputs": [
    {
     "data": {
      "text/plain": [
       "<AxesSubplot:>"
      ]
     },
     "execution_count": 28,
     "metadata": {},
     "output_type": "execute_result"
    },
    {
     "data": {
      "image/png": "[encoded data removed]",
      "text/plain": [
       "<Figure size 432x288 with 1 Axes>"
      ]
     },
     "metadata": {
      "needs_background": "light"
     },
     "output_type": "display_data"
    }
   ],
   "source": [
    "## Eventuales del campo:\n",
    "data[data['tec'] > 0]['tec'].hist()"
   ]
  },
  {
   "cell_type": "code",
   "execution_count": 29,
   "metadata": {
    "ExecuteTime": {
     "end_time": "2020-10-06T17:26:00.937295Z",
     "start_time": "2020-10-06T17:25:59.482042Z"
    }
   },
   "outputs": [
    {
     "name": "stdout",
     "output_type": "stream",
     "text": [
      "AxesSubplot(0.125,0.125;0.775x0.755)\n"
     ]
    },
    {
     "data": {
      "image/png": "[encoded data removed]",
      "text/plain": [
       "<Figure size 432x288 with 1 Axes>"
      ]
     },
     "metadata": {
      "needs_background": "light"
     },
     "output_type": "display_data"
    }
   ],
   "source": [
    "outlier(data,'tec')"
   ]
  },
  {
   "cell_type": "code",
   "execution_count": 30,
   "metadata": {
    "ExecuteTime": {
     "end_time": "2020-10-06T17:26:02.011648Z",
     "start_time": "2020-10-06T17:26:00.945718Z"
    },
    "scrolled": true
   },
   "outputs": [
    {
     "data": {
      "text/plain": [
       "<AxesSubplot:>"
      ]
     },
     "execution_count": 30,
     "metadata": {},
     "output_type": "execute_result"
    },
    {
     "data": {
      "image/png": "[encoded data removed]",
      "text/plain": [
       "<Figure size 432x288 with 1 Axes>"
      ]
     },
     "metadata": {
      "needs_background": "light"
     },
     "output_type": "display_data"
    }
   ],
   "source": [
    "## Permamentes urbanos:\n",
    "data[data['tpu'] > 0]['tpu'].hist()"
   ]
  },
  {
   "cell_type": "code",
   "execution_count": 31,
   "metadata": {
    "ExecuteTime": {
     "end_time": "2020-10-06T17:26:04.745019Z",
     "start_time": "2020-10-06T17:26:02.021797Z"
    }
   },
   "outputs": [
    {
     "name": "stdout",
     "output_type": "stream",
     "text": [
      "AxesSubplot(0.125,0.125;0.775x0.755)\n"
     ]
    },
    {
     "data": {
      "image/png": "[encoded data removed]",
      "text/plain": [
       "<Figure size 432x288 with 1 Axes>"
      ]
     },
     "metadata": {
      "needs_background": "light"
     },
     "output_type": "display_data"
    }
   ],
   "source": [
    "outlier(data,'tpu')"
   ]
  },
  {
   "cell_type": "code",
   "execution_count": 32,
   "metadata": {
    "ExecuteTime": {
     "end_time": "2020-10-06T17:26:04.989847Z",
     "start_time": "2020-10-06T17:26:04.747795Z"
    },
    "scrolled": true
   },
   "outputs": [
    {
     "data": {
      "text/plain": [
       "<AxesSubplot:>"
      ]
     },
     "execution_count": 32,
     "metadata": {},
     "output_type": "execute_result"
    },
    {
     "data": {
      "image/png": "[encoded data removed]",
      "text/plain": [
       "<Figure size 432x288 with 1 Axes>"
      ]
     },
     "metadata": {
      "needs_background": "light"
     },
     "output_type": "display_data"
    }
   ],
   "source": [
    "## Permanentes del campo:\n",
    "data[data['tpc'] > 0]['tpc'].hist()"
   ]
  },
  {
   "cell_type": "code",
   "execution_count": 33,
   "metadata": {
    "ExecuteTime": {
     "end_time": "2020-10-06T17:26:06.326189Z",
     "start_time": "2020-10-06T17:26:04.992465Z"
    }
   },
   "outputs": [
    {
     "name": "stdout",
     "output_type": "stream",
     "text": [
      "AxesSubplot(0.125,0.125;0.775x0.755)\n"
     ]
    },
    {
     "data": {
      "image/png": "[encoded data removed]",
      "text/plain": [
       "<Figure size 432x288 with 1 Axes>"
      ]
     },
     "metadata": {
      "needs_background": "light"
     },
     "output_type": "display_data"
    }
   ],
   "source": [
    "outlier(data,'tpc')"
   ]
  },
  {
   "cell_type": "code",
   "execution_count": 34,
   "metadata": {
    "ExecuteTime": {
     "end_time": "2020-10-06T17:26:06.630793Z",
     "start_time": "2020-10-06T17:26:06.336582Z"
    },
    "scrolled": true
   },
   "outputs": [
    {
     "data": {
      "text/plain": [
       "<AxesSubplot:>"
      ]
     },
     "execution_count": 34,
     "metadata": {},
     "output_type": "execute_result"
    },
    {
     "data": {
      "image/png": "[encoded data removed]",
      "text/plain": [
       "<Figure size 432x288 with 1 Axes>"
      ]
     },
     "metadata": {
      "needs_background": "light"
     },
     "output_type": "display_data"
    }
   ],
   "source": [
    "## Dado que la distribución de cada variable no tiene alto riesgo de outliers, \n",
    "## la suma tiene una distribución cercana a la realidad\n",
    "data['ta'].hist()"
   ]
  },
  {
   "cell_type": "code",
   "execution_count": 35,
   "metadata": {
    "ExecuteTime": {
     "end_time": "2020-10-06T17:26:06.640231Z",
     "start_time": "2020-10-06T17:26:06.633879Z"
    }
   },
   "outputs": [
    {
     "data": {
      "text/plain": [
       "0.8716561928717347"
      ]
     },
     "execution_count": 35,
     "metadata": {},
     "output_type": "execute_result"
    }
   ],
   "source": [
    "## Y contemplamos el 87% de los registros originales\n",
    "data.shape[0] / dim_antes"
   ]
  },
  {
   "cell_type": "markdown",
   "metadata": {},
   "source": [
    "#### Puestos con salario asociado"
   ]
  },
  {
   "cell_type": "code",
   "execution_count": 36,
   "metadata": {
    "ExecuteTime": {
     "end_time": "2020-10-06T17:26:06.698221Z",
     "start_time": "2020-10-06T17:26:06.644217Z"
    },
    "scrolled": true
   },
   "outputs": [
    {
     "data": {
      "text/plain": [
       "0    3891555\n",
       "1       3577\n",
       "2        566\n",
       "3        290\n",
       "4        204\n",
       "5        146\n",
       "6        143\n",
       "Name: dif, dtype: int64"
      ]
     },
     "execution_count": 36,
     "metadata": {},
     "output_type": "execute_result"
    }
   ],
   "source": [
    "## Hay puestos afiliados sin salario asociado?\n",
    "data['dif'] = data['ta'] - data['ta_sal']\n",
    "data['dif'].value_counts()"
   ]
  },
  {
   "cell_type": "code",
   "execution_count": 37,
   "metadata": {
    "ExecuteTime": {
     "end_time": "2020-10-06T17:26:07.027811Z",
     "start_time": "2020-10-06T17:26:06.704641Z"
    },
    "scrolled": true
   },
   "outputs": [
    {
     "data": {
      "text/plain": [
       "0.0012642176363749753"
      ]
     },
     "execution_count": 37,
     "metadata": {},
     "output_type": "execute_result"
    }
   ],
   "source": [
    "## Sí, pero es menos del 0.2% de los registros\n",
    "data[data['dif'] > 0].shape[0] / data.shape[0]"
   ]
  },
  {
   "cell_type": "code",
   "execution_count": 38,
   "metadata": {
    "ExecuteTime": {
     "end_time": "2020-10-06T17:26:07.055464Z",
     "start_time": "2020-10-06T17:26:07.032100Z"
    },
    "scrolled": true
   },
   "outputs": [
    {
     "data": {
      "text/plain": [
       "S1    0.732440\n",
       "S3    0.089931\n",
       "S4    0.083029\n",
       "S5    0.037150\n",
       "S2    0.030045\n",
       "S6    0.021924\n",
       "S7    0.005481\n",
       "Name: tamaño_patron, dtype: float64"
      ]
     },
     "execution_count": 38,
     "metadata": {},
     "output_type": "execute_result"
    }
   ],
   "source": [
    "## De los registros con diferencia, la mayoría es de un sólo puesto\n",
    "data[data['dif'] > 0]['tamaño_patron'].value_counts(normalize = True)"
   ]
  },
  {
   "cell_type": "code",
   "execution_count": 39,
   "metadata": {
    "ExecuteTime": {
     "end_time": "2020-10-06T17:26:07.082774Z",
     "start_time": "2020-10-06T17:26:07.060417Z"
    },
    "scrolled": true
   },
   "outputs": [
    {
     "data": {
      "text/plain": [
       "6.0    0.467925\n",
       "0.0    0.200771\n",
       "8.0    0.121600\n",
       "3.0    0.085871\n",
       "9.0    0.050548\n",
       "4.0    0.048112\n",
       "7.0    0.023346\n",
       "1.0    0.001218\n",
       "5.0    0.000609\n",
       "Name: sector_economico_1, dtype: float64"
      ]
     },
     "execution_count": 39,
     "metadata": {},
     "output_type": "execute_result"
    }
   ],
   "source": [
    "## Casi la mitad de los registros con diferencia pertenecen al sector comercio\n",
    "data[data['dif'] > 0]['sector_economico_1'].value_counts(normalize = True)"
   ]
  },
  {
   "cell_type": "code",
   "execution_count": 40,
   "metadata": {
    "ExecuteTime": {
     "end_time": "2020-10-06T17:26:08.140848Z",
     "start_time": "2020-10-06T17:26:07.085977Z"
    },
    "scrolled": true
   },
   "outputs": [
    {
     "data": {
      "text/plain": [
       "0.8705542297398507"
      ]
     },
     "execution_count": 40,
     "metadata": {},
     "output_type": "execute_result"
    }
   ],
   "source": [
    "## Se opta por omitir los registros con puestos sin salario asociado,\n",
    "## seguimos con el 87% de registros originales aún disponible\n",
    "data = data[data['dif'] == 0].copy()\n",
    "data.reset_index(drop = True, inplace = True)\n",
    "data.shape[0] / dim_antes"
   ]
  },
  {
   "cell_type": "code",
   "execution_count": 41,
   "metadata": {
    "ExecuteTime": {
     "end_time": "2020-10-06T17:26:09.892625Z",
     "start_time": "2020-10-06T17:26:08.145337Z"
    }
   },
   "outputs": [
    {
     "data": {
      "text/plain": [
       "dif_eu  dif_ec  dif_pu  dif_pc\n",
       "0       0       0       0         3891555\n",
       "dtype: int64"
      ]
     },
     "execution_count": 41,
     "metadata": {},
     "output_type": "execute_result"
    }
   ],
   "source": [
    "## Y ya no tiene caso conservar las columnas con salario asociado,\n",
    "## peeeeero mejor comprobar que las variables sean iguales\n",
    "data['dif_eu'] = data['teu'] - data['teu_sal']\n",
    "data['dif_ec'] = data['tec'] - data['tec_sal']\n",
    "data['dif_pu'] = data['tpu'] - data['tpu_sal']\n",
    "data['dif_pc'] = data['tpc'] - data['tpc_sal']\n",
    "\n",
    "data[data['dif'] == 0][['dif_eu', 'dif_ec', 'dif_pu', 'dif_pc']].value_counts()"
   ]
  },
  {
   "cell_type": "code",
   "execution_count": 42,
   "metadata": {
    "ExecuteTime": {
     "end_time": "2020-10-06T17:26:09.967276Z",
     "start_time": "2020-10-06T17:26:09.895172Z"
    },
    "scrolled": true
   },
   "outputs": [
    {
     "data": {
      "text/plain": [
       "0    3891555\n",
       "Name: tot, dtype: int64"
      ]
     },
     "execution_count": 42,
     "metadata": {},
     "output_type": "execute_result"
    }
   ],
   "source": [
    "## Se comprueba también que ta = teu + tec + tpu + tpc en todos los registros\n",
    "data['tot'] = data['ta'] - (data['teu'] + data['tec'] + data['tpu'] + data['tpc'])\n",
    "data['tot'].value_counts()"
   ]
  },
  {
   "cell_type": "code",
   "execution_count": 43,
   "metadata": {
    "ExecuteTime": {
     "end_time": "2020-10-06T17:26:11.292694Z",
     "start_time": "2020-10-06T17:26:09.970002Z"
    },
    "scrolled": true
   },
   "outputs": [
    {
     "data": {
      "text/plain": [
       "Index(['cve_delegacion', 'cve_subdelegacion', 'cve_entidad', 'cve_municipio',\n",
       "       'sector_economico_1', 'sector_economico_2', 'sector_economico_4',\n",
       "       'tamaño_patron', 'sexo', 'rango_edad', 'rango_salarial', 'rango_uma',\n",
       "       'ta', 'teu', 'tec', 'tpu', 'tpc', 'masa_sal_ta', 'masa_sal_teu',\n",
       "       'masa_sal_tec', 'masa_sal_tpu', 'masa_sal_tpc'],\n",
       "      dtype='object')"
      ]
     },
     "execution_count": 43,
     "metadata": {},
     "output_type": "execute_result"
    }
   ],
   "source": [
    "## Entonces podemos eliminar las columnas redundantes y de apoyo\n",
    "aux = ['ta_sal', 'teu_sal', 'tec_sal', 'tpu_sal', 'tpc_sal',\n",
    "       'dif', 'dif_eu', 'dif_ec', 'dif_pu', 'dif_pc', 'tot']\n",
    "\n",
    "data = data.drop(columns = aux).copy()\n",
    "data.columns"
   ]
  },
  {
   "cell_type": "markdown",
   "metadata": {},
   "source": [
    "#### Masa salarial"
   ]
  },
  {
   "cell_type": "code",
   "execution_count": 44,
   "metadata": {
    "ExecuteTime": {
     "end_time": "2020-10-06T17:26:11.414534Z",
     "start_time": "2020-10-06T17:26:11.301627Z"
    }
   },
   "outputs": [
    {
     "data": {
      "text/plain": [
       "0.0    3891555\n",
       "Name: masa_tot, dtype: int64"
      ]
     },
     "execution_count": 44,
     "metadata": {},
     "output_type": "execute_result"
    }
   ],
   "source": [
    "## Se comprueba también que ta = teu + tec + tpu + tpc en todos los registros\n",
    "data['masa_tot'] = (data['masa_sal_ta'] - (data['masa_sal_teu'] + data['masa_sal_tec'] + data['masa_sal_tpu'] + data['masa_sal_tpc'])).round(2)\n",
    "data['masa_tot'].value_counts()"
   ]
  },
  {
   "cell_type": "code",
   "execution_count": 45,
   "metadata": {
    "ExecuteTime": {
     "end_time": "2020-10-06T17:26:12.099919Z",
     "start_time": "2020-10-06T17:26:11.418204Z"
    }
   },
   "outputs": [],
   "source": [
    "data.drop(columns = ['masa_tot'], inplace = True)"
   ]
  },
  {
   "cell_type": "code",
   "execution_count": 46,
   "metadata": {
    "ExecuteTime": {
     "end_time": "2020-10-06T17:26:13.231484Z",
     "start_time": "2020-10-06T17:26:12.103053Z"
    }
   },
   "outputs": [
    {
     "data": {
      "text/html": [
       "<div>\n",
       "<style scoped>\n",
       "    .dataframe tbody tr th:only-of-type {\n",
       "        vertical-align: middle;\n",
       "    }\n",
       "\n",
       "    .dataframe tbody tr th {\n",
       "        vertical-align: top;\n",
       "    }\n",
       "\n",
       "    .dataframe thead th {\n",
       "        text-align: right;\n",
       "    }\n",
       "</style>\n",
       "<table border=\"1\" class=\"dataframe\">\n",
       "  <thead>\n",
       "    <tr style=\"text-align: right;\">\n",
       "      <th></th>\n",
       "      <th>masa_sal_ta</th>\n",
       "      <th>masa_sal_teu</th>\n",
       "      <th>masa_sal_tec</th>\n",
       "      <th>masa_sal_tpu</th>\n",
       "      <th>masa_sal_tpc</th>\n",
       "    </tr>\n",
       "  </thead>\n",
       "  <tbody>\n",
       "    <tr>\n",
       "      <th>count</th>\n",
       "      <td>3.891555e+06</td>\n",
       "      <td>3.891555e+06</td>\n",
       "      <td>3.891555e+06</td>\n",
       "      <td>3.891555e+06</td>\n",
       "      <td>3.891555e+06</td>\n",
       "    </tr>\n",
       "    <tr>\n",
       "      <th>mean</th>\n",
       "      <td>8.967455e+02</td>\n",
       "      <td>9.247808e+01</td>\n",
       "      <td>3.793787e+00</td>\n",
       "      <td>7.939678e+02</td>\n",
       "      <td>6.505772e+00</td>\n",
       "    </tr>\n",
       "    <tr>\n",
       "      <th>std</th>\n",
       "      <td>1.105100e+03</td>\n",
       "      <td>3.261541e+02</td>\n",
       "      <td>7.242785e+01</td>\n",
       "      <td>1.056038e+03</td>\n",
       "      <td>8.049163e+01</td>\n",
       "    </tr>\n",
       "    <tr>\n",
       "      <th>min</th>\n",
       "      <td>1.026800e+02</td>\n",
       "      <td>0.000000e+00</td>\n",
       "      <td>0.000000e+00</td>\n",
       "      <td>0.000000e+00</td>\n",
       "      <td>0.000000e+00</td>\n",
       "    </tr>\n",
       "    <tr>\n",
       "      <th>20%</th>\n",
       "      <td>2.477800e+02</td>\n",
       "      <td>0.000000e+00</td>\n",
       "      <td>0.000000e+00</td>\n",
       "      <td>1.567800e+02</td>\n",
       "      <td>0.000000e+00</td>\n",
       "    </tr>\n",
       "    <tr>\n",
       "      <th>40%</th>\n",
       "      <td>4.158900e+02</td>\n",
       "      <td>0.000000e+00</td>\n",
       "      <td>0.000000e+00</td>\n",
       "      <td>3.524400e+02</td>\n",
       "      <td>0.000000e+00</td>\n",
       "    </tr>\n",
       "    <tr>\n",
       "      <th>50%</th>\n",
       "      <td>5.433200e+02</td>\n",
       "      <td>0.000000e+00</td>\n",
       "      <td>0.000000e+00</td>\n",
       "      <td>4.604500e+02</td>\n",
       "      <td>0.000000e+00</td>\n",
       "    </tr>\n",
       "    <tr>\n",
       "      <th>60%</th>\n",
       "      <td>7.167800e+02</td>\n",
       "      <td>0.000000e+00</td>\n",
       "      <td>0.000000e+00</td>\n",
       "      <td>6.202400e+02</td>\n",
       "      <td>0.000000e+00</td>\n",
       "    </tr>\n",
       "    <tr>\n",
       "      <th>80%</th>\n",
       "      <td>1.294500e+03</td>\n",
       "      <td>0.000000e+00</td>\n",
       "      <td>0.000000e+00</td>\n",
       "      <td>1.183210e+03</td>\n",
       "      <td>0.000000e+00</td>\n",
       "    </tr>\n",
       "    <tr>\n",
       "      <th>95%</th>\n",
       "      <td>2.711820e+03</td>\n",
       "      <td>6.320530e+02</td>\n",
       "      <td>0.000000e+00</td>\n",
       "      <td>2.445710e+03</td>\n",
       "      <td>0.000000e+00</td>\n",
       "    </tr>\n",
       "    <tr>\n",
       "      <th>max</th>\n",
       "      <td>1.954800e+04</td>\n",
       "      <td>6.516000e+03</td>\n",
       "      <td>8.215990e+03</td>\n",
       "      <td>1.303200e+04</td>\n",
       "      <td>1.303200e+04</td>\n",
       "    </tr>\n",
       "  </tbody>\n",
       "</table>\n",
       "</div>"
      ],
      "text/plain": [
       "        masa_sal_ta  masa_sal_teu  masa_sal_tec  masa_sal_tpu  masa_sal_tpc\n",
       "count  3.891555e+06  3.891555e+06  3.891555e+06  3.891555e+06  3.891555e+06\n",
       "mean   8.967455e+02  9.247808e+01  3.793787e+00  7.939678e+02  6.505772e+00\n",
       "std    1.105100e+03  3.261541e+02  7.242785e+01  1.056038e+03  8.049163e+01\n",
       "min    1.026800e+02  0.000000e+00  0.000000e+00  0.000000e+00  0.000000e+00\n",
       "20%    2.477800e+02  0.000000e+00  0.000000e+00  1.567800e+02  0.000000e+00\n",
       "40%    4.158900e+02  0.000000e+00  0.000000e+00  3.524400e+02  0.000000e+00\n",
       "50%    5.433200e+02  0.000000e+00  0.000000e+00  4.604500e+02  0.000000e+00\n",
       "60%    7.167800e+02  0.000000e+00  0.000000e+00  6.202400e+02  0.000000e+00\n",
       "80%    1.294500e+03  0.000000e+00  0.000000e+00  1.183210e+03  0.000000e+00\n",
       "95%    2.711820e+03  6.320530e+02  0.000000e+00  2.445710e+03  0.000000e+00\n",
       "max    1.954800e+04  6.516000e+03  8.215990e+03  1.303200e+04  1.303200e+04"
      ]
     },
     "execution_count": 46,
     "metadata": {},
     "output_type": "execute_result"
    }
   ],
   "source": [
    "data[['masa_sal_ta', 'masa_sal_teu', 'masa_sal_tec', 'masa_sal_tpu', 'masa_sal_tpc']].describe([i/10 for i in range(2,10,2)] + [.95])"
   ]
  },
  {
   "cell_type": "code",
   "execution_count": 47,
   "metadata": {
    "ExecuteTime": {
     "end_time": "2020-10-06T17:26:13.711694Z",
     "start_time": "2020-10-06T17:26:13.237603Z"
    }
   },
   "outputs": [
    {
     "data": {
      "text/plain": [
       "<AxesSubplot:>"
      ]
     },
     "execution_count": 47,
     "metadata": {},
     "output_type": "execute_result"
    },
    {
     "data": {
      "image/png": "[encoded data removed]",
      "text/plain": [
       "<Figure size 432x288 with 1 Axes>"
      ]
     },
     "metadata": {
      "needs_background": "light"
     },
     "output_type": "display_data"
    }
   ],
   "source": [
    "## Al igual que con los puestos de trabajo,\n",
    "## es importante evaluar la distribución de la masa salarial\n",
    "## pero donde SÍ haya asegurados!\n",
    "\n",
    "## Eventuales urbanos:\n",
    "data[data['teu'] > 0]['masa_sal_teu'].hist()"
   ]
  },
  {
   "cell_type": "code",
   "execution_count": 48,
   "metadata": {
    "ExecuteTime": {
     "end_time": "2020-10-06T17:26:15.356085Z",
     "start_time": "2020-10-06T17:26:13.719904Z"
    }
   },
   "outputs": [
    {
     "name": "stdout",
     "output_type": "stream",
     "text": [
      "AxesSubplot(0.125,0.125;0.775x0.755)\n"
     ]
    },
    {
     "data": {
      "image/png": "[encoded data removed]",
      "text/plain": [
       "<Figure size 432x288 with 1 Axes>"
      ]
     },
     "metadata": {
      "needs_background": "light"
     },
     "output_type": "display_data"
    }
   ],
   "source": [
    "## Se acotan outliers con el método IQR\n",
    "outlier(data,'masa_sal_teu')"
   ]
  },
  {
   "cell_type": "code",
   "execution_count": 49,
   "metadata": {
    "ExecuteTime": {
     "end_time": "2020-10-06T17:26:15.714658Z",
     "start_time": "2020-10-06T17:26:15.358899Z"
    }
   },
   "outputs": [
    {
     "data": {
      "text/plain": [
       "<AxesSubplot:>"
      ]
     },
     "execution_count": 49,
     "metadata": {},
     "output_type": "execute_result"
    },
    {
     "data": {
      "image/png": "[encoded data removed]",
      "text/plain": [
       "<Figure size 432x288 with 1 Axes>"
      ]
     },
     "metadata": {
      "needs_background": "light"
     },
     "output_type": "display_data"
    }
   ],
   "source": [
    "## Eventuales del campo:\n",
    "data[data['tec'] > 0]['masa_sal_tec'].hist()"
   ]
  },
  {
   "cell_type": "code",
   "execution_count": 50,
   "metadata": {
    "ExecuteTime": {
     "end_time": "2020-10-06T17:26:17.031606Z",
     "start_time": "2020-10-06T17:26:15.717119Z"
    }
   },
   "outputs": [
    {
     "name": "stdout",
     "output_type": "stream",
     "text": [
      "AxesSubplot(0.125,0.125;0.775x0.755)\n"
     ]
    },
    {
     "data": {
      "image/png": "[encoded data removed]",
      "text/plain": [
       "<Figure size 432x288 with 1 Axes>"
      ]
     },
     "metadata": {
      "needs_background": "light"
     },
     "output_type": "display_data"
    }
   ],
   "source": [
    "outlier(data,'masa_sal_tec')"
   ]
  },
  {
   "cell_type": "code",
   "execution_count": 51,
   "metadata": {
    "ExecuteTime": {
     "end_time": "2020-10-06T17:26:18.191312Z",
     "start_time": "2020-10-06T17:26:17.034163Z"
    }
   },
   "outputs": [
    {
     "data": {
      "text/plain": [
       "<AxesSubplot:>"
      ]
     },
     "execution_count": 51,
     "metadata": {},
     "output_type": "execute_result"
    },
    {
     "data": {
      "image/png": "[encoded data removed]",
      "text/plain": [
       "<Figure size 432x288 with 1 Axes>"
      ]
     },
     "metadata": {
      "needs_background": "light"
     },
     "output_type": "display_data"
    }
   ],
   "source": [
    "## Permanentes urbanos:\n",
    "data[data['tpu'] > 0]['masa_sal_tpu'].hist()"
   ]
  },
  {
   "cell_type": "code",
   "execution_count": 52,
   "metadata": {
    "ExecuteTime": {
     "end_time": "2020-10-06T17:26:20.757162Z",
     "start_time": "2020-10-06T17:26:18.202942Z"
    }
   },
   "outputs": [
    {
     "name": "stdout",
     "output_type": "stream",
     "text": [
      "AxesSubplot(0.125,0.125;0.775x0.755)\n"
     ]
    },
    {
     "data": {
      "image/png": "[encoded data removed]",
      "text/plain": [
       "<Figure size 432x288 with 1 Axes>"
      ]
     },
     "metadata": {
      "needs_background": "light"
     },
     "output_type": "display_data"
    }
   ],
   "source": [
    "outlier(data,'masa_sal_tpu')"
   ]
  },
  {
   "cell_type": "code",
   "execution_count": 53,
   "metadata": {
    "ExecuteTime": {
     "end_time": "2020-10-06T17:26:21.692678Z",
     "start_time": "2020-10-06T17:26:20.764598Z"
    }
   },
   "outputs": [
    {
     "data": {
      "text/plain": [
       "<AxesSubplot:>"
      ]
     },
     "execution_count": 53,
     "metadata": {},
     "output_type": "execute_result"
    },
    {
     "data": {
      "image/png": "[encoded data removed]",
      "text/plain": [
       "<Figure size 432x288 with 1 Axes>"
      ]
     },
     "metadata": {
      "needs_background": "light"
     },
     "output_type": "display_data"
    }
   ],
   "source": [
    "## Permanentes del campo:\n",
    "data[data['tpu'] > 0]['masa_sal_tpu'].hist()\n",
    "## parece que no tiene problemas con outliers (al fin!)"
   ]
  },
  {
   "cell_type": "code",
   "execution_count": 54,
   "metadata": {
    "ExecuteTime": {
     "end_time": "2020-10-06T17:26:21.717572Z",
     "start_time": "2020-10-06T17:26:21.705015Z"
    }
   },
   "outputs": [
    {
     "data": {
      "text/plain": [
       "0.81490128862128"
      ]
     },
     "execution_count": 54,
     "metadata": {},
     "output_type": "execute_result"
    }
   ],
   "source": [
    "## Se reduce el % de registros originales a 81.5%\n",
    "data.shape[0] / dim_antes"
   ]
  },
  {
   "cell_type": "code",
   "execution_count": 55,
   "metadata": {
    "ExecuteTime": {
     "end_time": "2020-10-06T17:26:22.799938Z",
     "start_time": "2020-10-06T17:26:21.720033Z"
    }
   },
   "outputs": [
    {
     "data": {
      "text/plain": [
       "<AxesSubplot:>"
      ]
     },
     "execution_count": 55,
     "metadata": {},
     "output_type": "execute_result"
    },
    {
     "data": {
      "image/png": "[encoded data removed]",
      "text/plain": [
       "<Figure size 432x288 with 1 Axes>"
      ]
     },
     "metadata": {
      "needs_background": "light"
     },
     "output_type": "display_data"
    }
   ],
   "source": [
    "## Parece que la distribución de la suma total podría ser candidata a tratar con outliers, \n",
    "## sin embargo, esta variable es la suma de las otras masa asalariadas. \n",
    "## Por lo tanto, no se procede a acotar por outliers.\n",
    "data[data['ta'] > 0]['masa_sal_ta'].hist()"
   ]
  },
  {
   "cell_type": "markdown",
   "metadata": {},
   "source": [
    "### Catálogos"
   ]
  },
  {
   "cell_type": "code",
   "execution_count": 56,
   "metadata": {
    "ExecuteTime": {
     "end_time": "2020-10-06T17:26:45.278697Z",
     "start_time": "2020-10-06T17:26:22.803268Z"
    }
   },
   "outputs": [],
   "source": [
    "deleg = pd.read_excel(r'/home/ef/Documents/Diplomado/EXAMEN01/diccionario_de_datos_1.xlsx',\n",
    "                      sheet_name = 2,\n",
    "                      header = 1)\n",
    "ent = pd.read_excel(r'/home/ef/Documents/Diplomado/EXAMEN01/diccionario_de_datos_1.xlsx',\n",
    "                      sheet_name = 3,\n",
    "                      header = 1)\n",
    "sec1 = pd.read_excel(r'/home/ef/Documents/Diplomado/EXAMEN01/diccionario_de_datos_1.xlsx',\n",
    "                      sheet_name = 4,\n",
    "                      header = 1)\n",
    "sec2 = pd.read_excel(r'/home/ef/Documents/Diplomado/EXAMEN01/diccionario_de_datos_1.xlsx',\n",
    "                      sheet_name = 5,\n",
    "                      header = 0)\n",
    "sec4 = pd.read_excel(r'/home/ef/Documents/Diplomado/EXAMEN01/diccionario_de_datos_1.xlsx',\n",
    "                      sheet_name = 6,\n",
    "                      header = 0)\n",
    "tam = pd.read_excel(r'/home/ef/Documents/Diplomado/EXAMEN01/diccionario_de_datos_1.xlsx',\n",
    "                      sheet_name = 7,\n",
    "                      header = 1)\n",
    "edad = pd.read_excel(r'/home/ef/Documents/Diplomado/EXAMEN01/diccionario_de_datos_1.xlsx',\n",
    "                      sheet_name = 9,\n",
    "                      header = 1)\n",
    "salario = pd.read_excel(r'/home/ef/Documents/Diplomado/EXAMEN01/diccionario_de_datos_1.xlsx',\n",
    "                      sheet_name = 10,\n",
    "                      header = 1)\n",
    "uma = pd.read_excel(r'/home/ef/Documents/Diplomado/EXAMEN01/diccionario_de_datos_1.xlsx',\n",
    "                      sheet_name = 11,\n",
    "                      header = 1)"
   ]
  },
  {
   "cell_type": "markdown",
   "metadata": {},
   "source": [
    "#### Delegación y subdelegación"
   ]
  },
  {
   "cell_type": "code",
   "execution_count": 57,
   "metadata": {
    "ExecuteTime": {
     "end_time": "2020-10-06T17:26:45.313001Z",
     "start_time": "2020-10-06T17:26:45.288219Z"
    }
   },
   "outputs": [
    {
     "data": {
      "text/html": [
       "<div>\n",
       "<style scoped>\n",
       "    .dataframe tbody tr th:only-of-type {\n",
       "        vertical-align: middle;\n",
       "    }\n",
       "\n",
       "    .dataframe tbody tr th {\n",
       "        vertical-align: top;\n",
       "    }\n",
       "\n",
       "    .dataframe thead th {\n",
       "        text-align: right;\n",
       "    }\n",
       "</style>\n",
       "<table border=\"1\" class=\"dataframe\">\n",
       "  <thead>\n",
       "    <tr style=\"text-align: right;\">\n",
       "      <th></th>\n",
       "      <th>ID_DELEG_RP</th>\n",
       "      <th>descripcion delegación</th>\n",
       "      <th>ID_SUBDEL_RP</th>\n",
       "      <th>descripcion subdelegación</th>\n",
       "    </tr>\n",
       "  </thead>\n",
       "  <tbody>\n",
       "    <tr>\n",
       "      <th>133</th>\n",
       "      <td>*Actualizado con base en el Reglamento Interio...</td>\n",
       "      <td>NaN</td>\n",
       "      <td>NaN</td>\n",
       "      <td>NaN</td>\n",
       "    </tr>\n",
       "  </tbody>\n",
       "</table>\n",
       "</div>"
      ],
      "text/plain": [
       "                                           ID_DELEG_RP descripcion delegación  \\\n",
       "133  *Actualizado con base en el Reglamento Interio...                    NaN   \n",
       "\n",
       "     ID_SUBDEL_RP descripcion subdelegación  \n",
       "133           NaN                       NaN  "
      ]
     },
     "execution_count": 57,
     "metadata": {},
     "output_type": "execute_result"
    }
   ],
   "source": [
    " ## El último renglón no es un registro (también ocurre en la variable de rango salario)\n",
    "deleg[deleg['descripcion delegación'].isnull()]"
   ]
  },
  {
   "cell_type": "code",
   "execution_count": 58,
   "metadata": {
    "ExecuteTime": {
     "end_time": "2020-10-06T17:26:45.360961Z",
     "start_time": "2020-10-06T17:26:45.326962Z"
    }
   },
   "outputs": [
    {
     "data": {
      "text/html": [
       "<div>\n",
       "<style scoped>\n",
       "    .dataframe tbody tr th:only-of-type {\n",
       "        vertical-align: middle;\n",
       "    }\n",
       "\n",
       "    .dataframe tbody tr th {\n",
       "        vertical-align: top;\n",
       "    }\n",
       "\n",
       "    .dataframe thead th {\n",
       "        text-align: right;\n",
       "    }\n",
       "</style>\n",
       "<table border=\"1\" class=\"dataframe\">\n",
       "  <thead>\n",
       "    <tr style=\"text-align: right;\">\n",
       "      <th></th>\n",
       "      <th>ID_DELEG_RP</th>\n",
       "      <th>descripcion delegación</th>\n",
       "      <th>ID_SUBDEL_RP</th>\n",
       "      <th>descripcion subdelegación</th>\n",
       "    </tr>\n",
       "  </thead>\n",
       "  <tbody>\n",
       "    <tr>\n",
       "      <th>64</th>\n",
       "      <td>19</td>\n",
       "      <td>Nayarit</td>\n",
       "      <td>1</td>\n",
       "      <td>Tepic</td>\n",
       "    </tr>\n",
       "    <tr>\n",
       "      <th>81</th>\n",
       "      <td>23</td>\n",
       "      <td>Querétaro</td>\n",
       "      <td>3</td>\n",
       "      <td>San Juan del Río</td>\n",
       "    </tr>\n",
       "    <tr>\n",
       "      <th>78</th>\n",
       "      <td>22</td>\n",
       "      <td>Puebla</td>\n",
       "      <td>8</td>\n",
       "      <td>Izúcar de Matamoros</td>\n",
       "    </tr>\n",
       "    <tr>\n",
       "      <th>105</th>\n",
       "      <td>29</td>\n",
       "      <td>Tamaulipas</td>\n",
       "      <td>10</td>\n",
       "      <td>Tampico</td>\n",
       "    </tr>\n",
       "  </tbody>\n",
       "</table>\n",
       "</div>"
      ],
      "text/plain": [
       "    ID_DELEG_RP descripcion delegación  ID_SUBDEL_RP descripcion subdelegación\n",
       "64           19                Nayarit             1                     Tepic\n",
       "81           23              Querétaro             3          San Juan del Río\n",
       "78           22                 Puebla             8       Izúcar de Matamoros\n",
       "105          29             Tamaulipas            10                   Tampico"
      ]
     },
     "execution_count": 58,
     "metadata": {},
     "output_type": "execute_result"
    }
   ],
   "source": [
    "deleg.dropna(inplace = True)\n",
    "salario.dropna(inplace = True)\n",
    "deleg['ID_SUBDEL_RP'] = deleg['ID_SUBDEL_RP'].astype(int)\n",
    "deleg.sample(4)"
   ]
  },
  {
   "cell_type": "code",
   "execution_count": 59,
   "metadata": {
    "ExecuteTime": {
     "end_time": "2020-10-06T17:26:45.388391Z",
     "start_time": "2020-10-06T17:26:45.365194Z"
    }
   },
   "outputs": [
    {
     "data": {
      "text/plain": [
       "ID_DELEG_RP  ID_SUBDEL_RP\n",
       "40           58              1\n",
       "14           39              1\n",
       "11           14              1\n",
       "             17              1\n",
       "12           1               1\n",
       "                            ..\n",
       "27           1               1\n",
       "             3               1\n",
       "             7               1\n",
       "             10              1\n",
       "1            1               1\n",
       "Length: 133, dtype: int64"
      ]
     },
     "execution_count": 59,
     "metadata": {},
     "output_type": "execute_result"
    }
   ],
   "source": [
    "## Separar catálogo de subdelegación, el ID de subdeleg depende de la deleg\n",
    "## Comprobar que no haya duplicados\n",
    "subdeleg = deleg [['ID_DELEG_RP', 'ID_SUBDEL_RP','descripcion subdelegación']].copy()\n",
    "subdeleg[['ID_DELEG_RP', 'ID_SUBDEL_RP']].value_counts()"
   ]
  },
  {
   "cell_type": "code",
   "execution_count": 60,
   "metadata": {
    "ExecuteTime": {
     "end_time": "2020-10-06T17:26:45.411082Z",
     "start_time": "2020-10-06T17:26:45.396019Z"
    }
   },
   "outputs": [
    {
     "data": {
      "text/plain": [
       "27_70    1\n",
       "26_01    1\n",
       "29_01    1\n",
       "12_01    1\n",
       "08_22    1\n",
       "        ..\n",
       "27_13    1\n",
       "31_07    1\n",
       "25_60    1\n",
       "17_03    1\n",
       "32_02    1\n",
       "Name: ID_SUBDELEG, Length: 133, dtype: int64"
      ]
     },
     "execution_count": 60,
     "metadata": {},
     "output_type": "execute_result"
    }
   ],
   "source": [
    "## Se crea el verdadero ID de subdelegación, sin duplicados\n",
    "subdeleg['ID_SUBDELEG'] = subdeleg.ID_DELEG_RP.astype(str).str.zfill(2) + \"_\" + subdeleg.ID_SUBDEL_RP.astype(str).str.zfill(2)\n",
    "subdeleg['ID_SUBDELEG'].value_counts()"
   ]
  },
  {
   "cell_type": "code",
   "execution_count": 61,
   "metadata": {
    "ExecuteTime": {
     "end_time": "2020-10-06T17:26:45.433478Z",
     "start_time": "2020-10-06T17:26:45.413633Z"
    }
   },
   "outputs": [
    {
     "data": {
      "text/html": [
       "<div>\n",
       "<style scoped>\n",
       "    .dataframe tbody tr th:only-of-type {\n",
       "        vertical-align: middle;\n",
       "    }\n",
       "\n",
       "    .dataframe tbody tr th {\n",
       "        vertical-align: top;\n",
       "    }\n",
       "\n",
       "    .dataframe thead th {\n",
       "        text-align: right;\n",
       "    }\n",
       "</style>\n",
       "<table border=\"1\" class=\"dataframe\">\n",
       "  <thead>\n",
       "    <tr style=\"text-align: right;\">\n",
       "      <th></th>\n",
       "      <th>cve_subdelegacion</th>\n",
       "      <th>Sub</th>\n",
       "    </tr>\n",
       "  </thead>\n",
       "  <tbody>\n",
       "    <tr>\n",
       "      <th>36</th>\n",
       "      <td>12_01</td>\n",
       "      <td>Chilpancingo</td>\n",
       "    </tr>\n",
       "    <tr>\n",
       "      <th>39</th>\n",
       "      <td>12_13</td>\n",
       "      <td>Zihuatanejo</td>\n",
       "    </tr>\n",
       "    <tr>\n",
       "      <th>90</th>\n",
       "      <td>26_03</td>\n",
       "      <td>Los Mochis</td>\n",
       "    </tr>\n",
       "    <tr>\n",
       "      <th>120</th>\n",
       "      <td>33_33</td>\n",
       "      <td>Mérida Sur</td>\n",
       "    </tr>\n",
       "  </tbody>\n",
       "</table>\n",
       "</div>"
      ],
      "text/plain": [
       "    cve_subdelegacion           Sub\n",
       "36              12_01  Chilpancingo\n",
       "39              12_13   Zihuatanejo\n",
       "90              26_03    Los Mochis\n",
       "120             33_33    Mérida Sur"
      ]
     },
     "execution_count": 61,
     "metadata": {},
     "output_type": "execute_result"
    }
   ],
   "source": [
    "## Ahora se cuenta con la tabla catálogo de subdelegación\n",
    "subdeleg.rename(columns = {'ID_SUBDELEG':'cve_subdelegacion', 'descripcion subdelegación':'Sub'},\n",
    "               inplace = True)\n",
    "subdeleg = subdeleg[['cve_subdelegacion','Sub']].copy()\n",
    "subdeleg.sample(4)"
   ]
  },
  {
   "cell_type": "code",
   "execution_count": 62,
   "metadata": {
    "ExecuteTime": {
     "end_time": "2020-10-06T17:26:45.449744Z",
     "start_time": "2020-10-06T17:26:45.436604Z"
    }
   },
   "outputs": [
    {
     "data": {
      "text/plain": [
       "40    1\n",
       "10    1\n",
       "16    1\n",
       "15    1\n",
       "Name: cve_delegacion, dtype: int64"
      ]
     },
     "execution_count": 62,
     "metadata": {},
     "output_type": "execute_result"
    }
   ],
   "source": [
    "## Comprobar que deleg no tenga duplicados en ID o en descripcion\n",
    "deleg = deleg[['ID_DELEG_RP', 'descripcion delegación']].copy()\n",
    "deleg.rename(columns = {'ID_DELEG_RP':'cve_delegacion', 'descripcion delegación':'Del'},\n",
    "               inplace = True)\n",
    "deleg.drop_duplicates(inplace = True, ignore_index = True)\n",
    "deleg['cve_delegacion'].value_counts().head(4)"
   ]
  },
  {
   "cell_type": "code",
   "execution_count": 63,
   "metadata": {
    "ExecuteTime": {
     "end_time": "2020-10-06T17:26:45.468804Z",
     "start_time": "2020-10-06T17:26:45.453926Z"
    }
   },
   "outputs": [
    {
     "data": {
      "text/plain": [
       "Tamaulipas             1\n",
       "Baja California Sur    1\n",
       "Tlaxcala               1\n",
       "Chihuahua              1\n",
       "Name: Del, dtype: int64"
      ]
     },
     "execution_count": 63,
     "metadata": {},
     "output_type": "execute_result"
    }
   ],
   "source": [
    "## Todo en orden, estos catálogos ya están definidos correctamente\n",
    "deleg['Del'].value_counts().head(4)"
   ]
  },
  {
   "cell_type": "code",
   "execution_count": 64,
   "metadata": {
    "ExecuteTime": {
     "end_time": "2020-10-06T17:26:45.503413Z",
     "start_time": "2020-10-06T17:26:45.471355Z"
    }
   },
   "outputs": [
    {
     "data": {
      "text/html": [
       "<div>\n",
       "<style scoped>\n",
       "    .dataframe tbody tr th:only-of-type {\n",
       "        vertical-align: middle;\n",
       "    }\n",
       "\n",
       "    .dataframe tbody tr th {\n",
       "        vertical-align: top;\n",
       "    }\n",
       "\n",
       "    .dataframe thead th {\n",
       "        text-align: right;\n",
       "    }\n",
       "</style>\n",
       "<table border=\"1\" class=\"dataframe\">\n",
       "  <thead>\n",
       "    <tr style=\"text-align: right;\">\n",
       "      <th></th>\n",
       "      <th>cve_delegacion</th>\n",
       "      <th>Del</th>\n",
       "    </tr>\n",
       "  </thead>\n",
       "  <tbody>\n",
       "    <tr>\n",
       "      <th>14</th>\n",
       "      <td>16</td>\n",
       "      <td>Estado de México Poniente</td>\n",
       "    </tr>\n",
       "    <tr>\n",
       "      <th>6</th>\n",
       "      <td>7</td>\n",
       "      <td>Chiapas</td>\n",
       "    </tr>\n",
       "    <tr>\n",
       "      <th>8</th>\n",
       "      <td>10</td>\n",
       "      <td>Durango</td>\n",
       "    </tr>\n",
       "    <tr>\n",
       "      <th>5</th>\n",
       "      <td>6</td>\n",
       "      <td>Colima</td>\n",
       "    </tr>\n",
       "  </tbody>\n",
       "</table>\n",
       "</div>"
      ],
      "text/plain": [
       "   cve_delegacion                        Del\n",
       "14             16  Estado de México Poniente\n",
       "6               7                    Chiapas\n",
       "8              10                    Durango\n",
       "5               6                     Colima"
      ]
     },
     "execution_count": 64,
     "metadata": {},
     "output_type": "execute_result"
    }
   ],
   "source": [
    "deleg.sample(4)"
   ]
  },
  {
   "cell_type": "markdown",
   "metadata": {},
   "source": [
    "#### Entidad y municipio"
   ]
  },
  {
   "cell_type": "code",
   "execution_count": 65,
   "metadata": {
    "ExecuteTime": {
     "end_time": "2020-10-06T17:26:45.533674Z",
     "start_time": "2020-10-06T17:26:45.507892Z"
    }
   },
   "outputs": [
    {
     "data": {
      "text/html": [
       "<div>\n",
       "<style scoped>\n",
       "    .dataframe tbody tr th:only-of-type {\n",
       "        vertical-align: middle;\n",
       "    }\n",
       "\n",
       "    .dataframe tbody tr th {\n",
       "        vertical-align: top;\n",
       "    }\n",
       "\n",
       "    .dataframe thead th {\n",
       "        text-align: right;\n",
       "    }\n",
       "</style>\n",
       "<table border=\"1\" class=\"dataframe\">\n",
       "  <thead>\n",
       "    <tr style=\"text-align: right;\">\n",
       "      <th></th>\n",
       "      <th>cve_municipio</th>\n",
       "      <th>cve_delegacion</th>\n",
       "      <th>cve_entidad</th>\n",
       "      <th>descripción entidad</th>\n",
       "      <th>descripción municipio</th>\n",
       "    </tr>\n",
       "  </thead>\n",
       "  <tbody>\n",
       "    <tr>\n",
       "      <th>1293</th>\n",
       "      <td>M06</td>\n",
       "      <td>21</td>\n",
       "      <td>20</td>\n",
       "      <td>Oaxaca</td>\n",
       "      <td>San Agustín Atenango</td>\n",
       "    </tr>\n",
       "    <tr>\n",
       "      <th>230</th>\n",
       "      <td>L62</td>\n",
       "      <td>8</td>\n",
       "      <td>8</td>\n",
       "      <td>Chihuahua</td>\n",
       "      <td>López</td>\n",
       "    </tr>\n",
       "    <tr>\n",
       "      <th>293</th>\n",
       "      <td>B23</td>\n",
       "      <td>39</td>\n",
       "      <td>9</td>\n",
       "      <td>Ciudad de México</td>\n",
       "      <td>NaN</td>\n",
       "    </tr>\n",
       "    <tr>\n",
       "      <th>2075</th>\n",
       "      <td>Q05</td>\n",
       "      <td>28</td>\n",
       "      <td>27</td>\n",
       "      <td>Tabasco</td>\n",
       "      <td>Emiliano Zapata</td>\n",
       "    </tr>\n",
       "  </tbody>\n",
       "</table>\n",
       "</div>"
      ],
      "text/plain": [
       "     cve_municipio  cve_delegacion  cve_entidad descripción entidad  \\\n",
       "1293           M06              21           20              Oaxaca   \n",
       "230            L62               8            8           Chihuahua   \n",
       "293            B23              39            9    Ciudad de México   \n",
       "2075           Q05              28           27             Tabasco   \n",
       "\n",
       "     descripción municipio  \n",
       "1293  San Agustín Atenango  \n",
       "230                  López  \n",
       "293                    NaN  \n",
       "2075       Emiliano Zapata  "
      ]
     },
     "execution_count": 65,
     "metadata": {},
     "output_type": "execute_result"
    }
   ],
   "source": [
    "## Un tratamiento similar al catálogo anterior es buena idea\n",
    "ent.sample(4)"
   ]
  },
  {
   "cell_type": "code",
   "execution_count": 66,
   "metadata": {
    "ExecuteTime": {
     "end_time": "2020-10-06T17:26:45.560778Z",
     "start_time": "2020-10-06T17:26:45.539071Z"
    }
   },
   "outputs": [
    {
     "data": {
      "text/plain": [
       "0.033984375"
      ]
     },
     "execution_count": 66,
     "metadata": {},
     "output_type": "execute_result"
    }
   ],
   "source": [
    "## Separar catálogo de entidad y municipio\n",
    "munic = ent[['cve_municipio', 'descripción municipio']].copy()\n",
    "\n",
    "## Hay claves de municipio sin nombre, pertenecen a CDMX\n",
    "## (aporta algo que haya claves pero no nombres? No existen registros con las claves de CDMX)\n",
    "munic['descripción municipio'].isnull().sum() / munic.shape[0]"
   ]
  },
  {
   "cell_type": "code",
   "execution_count": 67,
   "metadata": {
    "ExecuteTime": {
     "end_time": "2020-10-06T17:26:45.603376Z",
     "start_time": "2020-10-06T17:26:45.563316Z"
    }
   },
   "outputs": [
    {
     "data": {
      "text/plain": [
       "Y44    2\n",
       "K70    1\n",
       "I35    1\n",
       "X87    1\n",
       "Name: cve_municipio, dtype: int64"
      ]
     },
     "execution_count": 67,
     "metadata": {},
     "output_type": "execute_result"
    }
   ],
   "source": [
    "## Ya no hay claves repetidas ni vacías (excepto por \"Y44\"!!!)\n",
    "munic.dropna(inplace = True)\n",
    "munic.reset_index(drop = True, inplace = True)\n",
    "munic['cve_municipio'].value_counts().head(4)"
   ]
  },
  {
   "cell_type": "code",
   "execution_count": 68,
   "metadata": {
    "ExecuteTime": {
     "end_time": "2020-10-06T17:26:45.627460Z",
     "start_time": "2020-10-06T17:26:45.607557Z"
    }
   },
   "outputs": [
    {
     "data": {
      "text/html": [
       "<div>\n",
       "<style scoped>\n",
       "    .dataframe tbody tr th:only-of-type {\n",
       "        vertical-align: middle;\n",
       "    }\n",
       "\n",
       "    .dataframe tbody tr th {\n",
       "        vertical-align: top;\n",
       "    }\n",
       "\n",
       "    .dataframe thead th {\n",
       "        text-align: right;\n",
       "    }\n",
       "</style>\n",
       "<table border=\"1\" class=\"dataframe\">\n",
       "  <thead>\n",
       "    <tr style=\"text-align: right;\">\n",
       "      <th></th>\n",
       "      <th>cve_municipio</th>\n",
       "      <th>cve_delegacion</th>\n",
       "      <th>cve_entidad</th>\n",
       "      <th>descripción entidad</th>\n",
       "      <th>descripción municipio</th>\n",
       "    </tr>\n",
       "  </thead>\n",
       "  <tbody>\n",
       "    <tr>\n",
       "      <th>1878</th>\n",
       "      <td>Y44</td>\n",
       "      <td>22</td>\n",
       "      <td>21</td>\n",
       "      <td>Puebla</td>\n",
       "      <td>Puebla</td>\n",
       "    </tr>\n",
       "    <tr>\n",
       "      <th>2058</th>\n",
       "      <td>Y44</td>\n",
       "      <td>27</td>\n",
       "      <td>26</td>\n",
       "      <td>Sonora</td>\n",
       "      <td>General Plutarco Elías Calles</td>\n",
       "    </tr>\n",
       "  </tbody>\n",
       "</table>\n",
       "</div>"
      ],
      "text/plain": [
       "     cve_municipio  cve_delegacion  cve_entidad descripción entidad  \\\n",
       "1878           Y44              22           21              Puebla   \n",
       "2058           Y44              27           26              Sonora   \n",
       "\n",
       "              descripción municipio  \n",
       "1878                         Puebla  \n",
       "2058  General Plutarco Elías Calles  "
      ]
     },
     "execution_count": 68,
     "metadata": {},
     "output_type": "execute_result"
    }
   ],
   "source": [
    "## Podemos guiarnos con la clave de entidad, generando una llave de dos variables\n",
    "ent[ent['cve_municipio'] == \"Y44\" ]"
   ]
  },
  {
   "cell_type": "code",
   "execution_count": 69,
   "metadata": {
    "ExecuteTime": {
     "end_time": "2020-10-06T17:26:45.683650Z",
     "start_time": "2020-10-06T17:26:45.647670Z"
    }
   },
   "outputs": [
    {
     "data": {
      "text/plain": [
       "31_G73    1\n",
       "20_I88    1\n",
       "14_B84    1\n",
       "32_H01    1\n",
       "Name: cve_municipio, dtype: int64"
      ]
     },
     "execution_count": 69,
     "metadata": {},
     "output_type": "execute_result"
    }
   ],
   "source": [
    "## De nuevo se crea el dataframe de municipio pero ahora con clave de entidad\n",
    "munic = ent[['cve_entidad', 'cve_municipio', 'descripción municipio']].copy()\n",
    "## Se omiten las claves vacías\n",
    "munic.dropna(inplace = True)\n",
    "munic.reset_index(drop = True, inplace = True)\n",
    "\n",
    "## Y ahora se crea la llave, ya no hay duplicados\n",
    "munic['cve_municipio'] = munic.cve_entidad.astype(str).str.zfill(2) + \"_\" + munic.cve_municipio\n",
    "munic['cve_municipio'].value_counts().head(4)"
   ]
  },
  {
   "cell_type": "code",
   "execution_count": 70,
   "metadata": {
    "ExecuteTime": {
     "end_time": "2020-10-06T17:26:45.717234Z",
     "start_time": "2020-10-06T17:26:45.694077Z"
    }
   },
   "outputs": [
    {
     "data": {
      "text/html": [
       "<div>\n",
       "<style scoped>\n",
       "    .dataframe tbody tr th:only-of-type {\n",
       "        vertical-align: middle;\n",
       "    }\n",
       "\n",
       "    .dataframe tbody tr th {\n",
       "        vertical-align: top;\n",
       "    }\n",
       "\n",
       "    .dataframe thead th {\n",
       "        text-align: right;\n",
       "    }\n",
       "</style>\n",
       "<table border=\"1\" class=\"dataframe\">\n",
       "  <thead>\n",
       "    <tr style=\"text-align: right;\">\n",
       "      <th></th>\n",
       "      <th>cve_municipio</th>\n",
       "      <th>Munic</th>\n",
       "    </tr>\n",
       "  </thead>\n",
       "  <tbody>\n",
       "    <tr>\n",
       "      <th>279</th>\n",
       "      <td>10_B32</td>\n",
       "      <td>Mapimí</td>\n",
       "    </tr>\n",
       "    <tr>\n",
       "      <th>156</th>\n",
       "      <td>07_M81</td>\n",
       "      <td>Berriozábal</td>\n",
       "    </tr>\n",
       "    <tr>\n",
       "      <th>2407</th>\n",
       "      <td>31_Y24</td>\n",
       "      <td>Chankom</td>\n",
       "    </tr>\n",
       "    <tr>\n",
       "      <th>2263</th>\n",
       "      <td>30_Q39</td>\n",
       "      <td>Soconusco</td>\n",
       "    </tr>\n",
       "  </tbody>\n",
       "</table>\n",
       "</div>"
      ],
      "text/plain": [
       "     cve_municipio        Munic\n",
       "279         10_B32       Mapimí\n",
       "156         07_M81  Berriozábal\n",
       "2407        31_Y24      Chankom\n",
       "2263        30_Q39    Soconusco"
      ]
     },
     "execution_count": 70,
     "metadata": {},
     "output_type": "execute_result"
    }
   ],
   "source": [
    "## Listo, pero falta un pequeño paso\n",
    "munic.rename(columns = {'descripción municipio':'Munic'}, inplace = True)\n",
    "munic = munic[['cve_municipio', 'Munic']].copy()\n",
    "munic.sample(4)"
   ]
  },
  {
   "cell_type": "markdown",
   "metadata": {},
   "source": [
    "Dado que en nuestro conjunto de datos reemplazamos los registros vacíos en la clave de municipio por \"MEX\" ya que según el documento de preguntas frecuentes esto significa que pertenecen a CDMX. Y además, dado en nuestro catálogo eliminamos los registros vacíos, tendríamos que crear un registro con la clave de entidad 9 (perteneciente a CDMX) y la clave de municipio \"MEX\" para traer el nombre \"CDMX\"."
   ]
  },
  {
   "cell_type": "code",
   "execution_count": 71,
   "metadata": {
    "ExecuteTime": {
     "end_time": "2020-10-06T17:26:45.747666Z",
     "start_time": "2020-10-06T17:26:45.723704Z"
    }
   },
   "outputs": [
    {
     "data": {
      "text/html": [
       "<div>\n",
       "<style scoped>\n",
       "    .dataframe tbody tr th:only-of-type {\n",
       "        vertical-align: middle;\n",
       "    }\n",
       "\n",
       "    .dataframe tbody tr th {\n",
       "        vertical-align: top;\n",
       "    }\n",
       "\n",
       "    .dataframe thead th {\n",
       "        text-align: right;\n",
       "    }\n",
       "</style>\n",
       "<table border=\"1\" class=\"dataframe\">\n",
       "  <thead>\n",
       "    <tr style=\"text-align: right;\">\n",
       "      <th></th>\n",
       "      <th>cve_municipio</th>\n",
       "      <th>Munic</th>\n",
       "    </tr>\n",
       "  </thead>\n",
       "  <tbody>\n",
       "    <tr>\n",
       "      <th>2473</th>\n",
       "      <td>09_MEX</td>\n",
       "      <td>CDMX</td>\n",
       "    </tr>\n",
       "  </tbody>\n",
       "</table>\n",
       "</div>"
      ],
      "text/plain": [
       "     cve_municipio Munic\n",
       "2473        09_MEX  CDMX"
      ]
     },
     "execution_count": 71,
     "metadata": {},
     "output_type": "execute_result"
    }
   ],
   "source": [
    "## Ahora sí, tenemos completo el catálogo de municipios \n",
    "falta_cdmx = {'cve_municipio':'09_MEX', 'Munic':'CDMX'}\n",
    "munic = munic.append(falta_cdmx, ignore_index=True).copy()\n",
    "munic[munic['cve_municipio'] == '09_MEX']"
   ]
  },
  {
   "cell_type": "code",
   "execution_count": 72,
   "metadata": {
    "ExecuteTime": {
     "end_time": "2020-10-06T17:26:45.765086Z",
     "start_time": "2020-10-06T17:26:45.751548Z"
    }
   },
   "outputs": [
    {
     "data": {
      "text/plain": [
       "Index(['cve_municipio', 'cve_delegacion', 'cve_entidad', 'descripción entidad',\n",
       "       'descripción municipio'],\n",
       "      dtype='object')"
      ]
     },
     "execution_count": 72,
     "metadata": {},
     "output_type": "execute_result"
    }
   ],
   "source": [
    "ent.columns"
   ]
  },
  {
   "cell_type": "code",
   "execution_count": 73,
   "metadata": {
    "ExecuteTime": {
     "end_time": "2020-10-06T17:26:45.783852Z",
     "start_time": "2020-10-06T17:26:45.768372Z"
    }
   },
   "outputs": [
    {
     "data": {
      "text/plain": [
       "32    1\n",
       "31    1\n",
       "2     1\n",
       "3     1\n",
       "Name: cve_entidad, dtype: int64"
      ]
     },
     "execution_count": 73,
     "metadata": {},
     "output_type": "execute_result"
    }
   ],
   "source": [
    "## Comprobar que entidad no tenga duplicados en clave o en descripcion\n",
    "ent = ent[['cve_entidad', 'descripción entidad']].copy()\n",
    "ent.rename(columns = {'descripción entidad':'Ent'},\n",
    "               inplace = True)\n",
    "ent.drop_duplicates(inplace = True, ignore_index = True)\n",
    "ent['cve_entidad'].value_counts().head(4)"
   ]
  },
  {
   "cell_type": "code",
   "execution_count": 74,
   "metadata": {
    "ExecuteTime": {
     "end_time": "2020-10-06T17:26:45.805577Z",
     "start_time": "2020-10-06T17:26:45.787389Z"
    }
   },
   "outputs": [
    {
     "data": {
      "text/plain": [
       "Tamaulipas             1\n",
       "Puebla                 1\n",
       "Durango                1\n",
       "Michoacán de Ocampo    1\n",
       "Name: Ent, dtype: int64"
      ]
     },
     "execution_count": 74,
     "metadata": {},
     "output_type": "execute_result"
    }
   ],
   "source": [
    "## Todo en orden, estos catálogos ya están definidos correctamente\n",
    "ent['Ent'].value_counts().head(4)"
   ]
  },
  {
   "cell_type": "code",
   "execution_count": 75,
   "metadata": {
    "ExecuteTime": {
     "end_time": "2020-10-06T17:26:45.833062Z",
     "start_time": "2020-10-06T17:26:45.811876Z"
    }
   },
   "outputs": [
    {
     "data": {
      "text/html": [
       "<div>\n",
       "<style scoped>\n",
       "    .dataframe tbody tr th:only-of-type {\n",
       "        vertical-align: middle;\n",
       "    }\n",
       "\n",
       "    .dataframe tbody tr th {\n",
       "        vertical-align: top;\n",
       "    }\n",
       "\n",
       "    .dataframe thead th {\n",
       "        text-align: right;\n",
       "    }\n",
       "</style>\n",
       "<table border=\"1\" class=\"dataframe\">\n",
       "  <thead>\n",
       "    <tr style=\"text-align: right;\">\n",
       "      <th></th>\n",
       "      <th>cve_entidad</th>\n",
       "      <th>Ent</th>\n",
       "    </tr>\n",
       "  </thead>\n",
       "  <tbody>\n",
       "    <tr>\n",
       "      <th>8</th>\n",
       "      <td>9</td>\n",
       "      <td>Ciudad de México</td>\n",
       "    </tr>\n",
       "    <tr>\n",
       "      <th>6</th>\n",
       "      <td>7</td>\n",
       "      <td>Chiapas</td>\n",
       "    </tr>\n",
       "    <tr>\n",
       "      <th>1</th>\n",
       "      <td>2</td>\n",
       "      <td>Baja California</td>\n",
       "    </tr>\n",
       "    <tr>\n",
       "      <th>7</th>\n",
       "      <td>8</td>\n",
       "      <td>Chihuahua</td>\n",
       "    </tr>\n",
       "  </tbody>\n",
       "</table>\n",
       "</div>"
      ],
      "text/plain": [
       "   cve_entidad               Ent\n",
       "8            9  Ciudad de México\n",
       "6            7           Chiapas\n",
       "1            2   Baja California\n",
       "7            8         Chihuahua"
      ]
     },
     "execution_count": 75,
     "metadata": {},
     "output_type": "execute_result"
    }
   ],
   "source": [
    "ent.sample(4)"
   ]
  },
  {
   "cell_type": "markdown",
   "metadata": {},
   "source": [
    "#### Sectores"
   ]
  },
  {
   "cell_type": "code",
   "execution_count": 76,
   "metadata": {
    "ExecuteTime": {
     "end_time": "2020-10-06T17:26:45.866044Z",
     "start_time": "2020-10-06T17:26:45.836642Z"
    }
   },
   "outputs": [
    {
     "data": {
      "text/html": [
       "<div>\n",
       "<style scoped>\n",
       "    .dataframe tbody tr th:only-of-type {\n",
       "        vertical-align: middle;\n",
       "    }\n",
       "\n",
       "    .dataframe tbody tr th {\n",
       "        vertical-align: top;\n",
       "    }\n",
       "\n",
       "    .dataframe thead th {\n",
       "        text-align: right;\n",
       "    }\n",
       "</style>\n",
       "<table border=\"1\" class=\"dataframe\">\n",
       "  <thead>\n",
       "    <tr style=\"text-align: right;\">\n",
       "      <th></th>\n",
       "      <th>sector_economico_1</th>\n",
       "      <th>Sector1</th>\n",
       "    </tr>\n",
       "  </thead>\n",
       "  <tbody>\n",
       "    <tr>\n",
       "      <th>0</th>\n",
       "      <td>0</td>\n",
       "      <td>Agricultura, ganadería, silvicultura, pesca y ...</td>\n",
       "    </tr>\n",
       "    <tr>\n",
       "      <th>1</th>\n",
       "      <td>1</td>\n",
       "      <td>Industrias extractivas</td>\n",
       "    </tr>\n",
       "    <tr>\n",
       "      <th>2</th>\n",
       "      <td>3</td>\n",
       "      <td>Industrias de transformación</td>\n",
       "    </tr>\n",
       "    <tr>\n",
       "      <th>3</th>\n",
       "      <td>4</td>\n",
       "      <td>Industria de la construcción</td>\n",
       "    </tr>\n",
       "    <tr>\n",
       "      <th>4</th>\n",
       "      <td>5</td>\n",
       "      <td>Industria eléctrica, y captación y suministro ...</td>\n",
       "    </tr>\n",
       "    <tr>\n",
       "      <th>5</th>\n",
       "      <td>6</td>\n",
       "      <td>Comercio</td>\n",
       "    </tr>\n",
       "    <tr>\n",
       "      <th>6</th>\n",
       "      <td>7</td>\n",
       "      <td>Transportes y comunicaciones</td>\n",
       "    </tr>\n",
       "    <tr>\n",
       "      <th>7</th>\n",
       "      <td>8</td>\n",
       "      <td>Servicios para empresas, personas y el hogar</td>\n",
       "    </tr>\n",
       "    <tr>\n",
       "      <th>8</th>\n",
       "      <td>9</td>\n",
       "      <td>Servicios sociales y comunales</td>\n",
       "    </tr>\n",
       "  </tbody>\n",
       "</table>\n",
       "</div>"
      ],
      "text/plain": [
       "   sector_economico_1                                            Sector1\n",
       "0                   0  Agricultura, ganadería, silvicultura, pesca y ...\n",
       "1                   1                             Industrias extractivas\n",
       "2                   3                       Industrias de transformación\n",
       "3                   4                       Industria de la construcción\n",
       "4                   5  Industria eléctrica, y captación y suministro ...\n",
       "5                   6                                           Comercio\n",
       "6                   7                       Transportes y comunicaciones\n",
       "7                   8       Servicios para empresas, personas y el hogar\n",
       "8                   9                     Servicios sociales y comunales"
      ]
     },
     "execution_count": 76,
     "metadata": {},
     "output_type": "execute_result"
    }
   ],
   "source": [
    "sec1.rename(columns = {'descripción sector_economico_1':'Sector1'}, inplace = True)\n",
    "sec1"
   ]
  },
  {
   "cell_type": "code",
   "execution_count": 77,
   "metadata": {
    "ExecuteTime": {
     "end_time": "2020-10-06T17:26:45.885668Z",
     "start_time": "2020-10-06T17:26:45.871036Z"
    }
   },
   "outputs": [
    {
     "data": {
      "text/html": [
       "<div>\n",
       "<style scoped>\n",
       "    .dataframe tbody tr th:only-of-type {\n",
       "        vertical-align: middle;\n",
       "    }\n",
       "\n",
       "    .dataframe tbody tr th {\n",
       "        vertical-align: top;\n",
       "    }\n",
       "\n",
       "    .dataframe thead th {\n",
       "        text-align: right;\n",
       "    }\n",
       "</style>\n",
       "<table border=\"1\" class=\"dataframe\">\n",
       "  <thead>\n",
       "    <tr style=\"text-align: right;\">\n",
       "      <th></th>\n",
       "      <th>sector_economico_1</th>\n",
       "      <th>sector_economico_2</th>\n",
       "      <th>sector_economico_2_2pos</th>\n",
       "      <th>descripción sector_economico_2</th>\n",
       "    </tr>\n",
       "  </thead>\n",
       "  <tbody>\n",
       "    <tr>\n",
       "      <th>40</th>\n",
       "      <td>6</td>\n",
       "      <td>8</td>\n",
       "      <td>68</td>\n",
       "      <td>Compraventa de equipo de transporte; sus refac...</td>\n",
       "    </tr>\n",
       "    <tr>\n",
       "      <th>19</th>\n",
       "      <td>3</td>\n",
       "      <td>0</td>\n",
       "      <td>30</td>\n",
       "      <td>Industria química</td>\n",
       "    </tr>\n",
       "    <tr>\n",
       "      <th>16</th>\n",
       "      <td>2</td>\n",
       "      <td>7</td>\n",
       "      <td>27</td>\n",
       "      <td>Fabricación y reparación de muebles de madera ...</td>\n",
       "    </tr>\n",
       "    <tr>\n",
       "      <th>33</th>\n",
       "      <td>6</td>\n",
       "      <td>1</td>\n",
       "      <td>61</td>\n",
       "      <td>Compraventa de alimentos, bebidas y productos ...</td>\n",
       "    </tr>\n",
       "  </tbody>\n",
       "</table>\n",
       "</div>"
      ],
      "text/plain": [
       "    sector_economico_1  sector_economico_2  sector_economico_2_2pos  \\\n",
       "40                   6                   8                       68   \n",
       "19                   3                   0                       30   \n",
       "16                   2                   7                       27   \n",
       "33                   6                   1                       61   \n",
       "\n",
       "                       descripción sector_economico_2  \n",
       "40  Compraventa de equipo de transporte; sus refac...  \n",
       "19                                  Industria química  \n",
       "16  Fabricación y reparación de muebles de madera ...  \n",
       "33  Compraventa de alimentos, bebidas y productos ...  "
      ]
     },
     "execution_count": 77,
     "metadata": {},
     "output_type": "execute_result"
    }
   ],
   "source": [
    "sec2.sample(4)"
   ]
  },
  {
   "cell_type": "code",
   "execution_count": 78,
   "metadata": {
    "ExecuteTime": {
     "end_time": "2020-10-06T17:26:45.938492Z",
     "start_time": "2020-10-06T17:26:45.889039Z"
    }
   },
   "outputs": [
    {
     "data": {
      "text/html": [
       "<div>\n",
       "<style scoped>\n",
       "    .dataframe tbody tr th:only-of-type {\n",
       "        vertical-align: middle;\n",
       "    }\n",
       "\n",
       "    .dataframe tbody tr th {\n",
       "        vertical-align: top;\n",
       "    }\n",
       "\n",
       "    .dataframe thead th {\n",
       "        text-align: right;\n",
       "    }\n",
       "</style>\n",
       "<table border=\"1\" class=\"dataframe\">\n",
       "  <thead>\n",
       "    <tr style=\"text-align: right;\">\n",
       "      <th></th>\n",
       "      <th>sector_economico_2</th>\n",
       "      <th>Sector2</th>\n",
       "    </tr>\n",
       "  </thead>\n",
       "  <tbody>\n",
       "    <tr>\n",
       "      <th>52</th>\n",
       "      <td>85</td>\n",
       "      <td>Servicios de alquiler; excepto de inmuebles   ...</td>\n",
       "    </tr>\n",
       "    <tr>\n",
       "      <th>16</th>\n",
       "      <td>27</td>\n",
       "      <td>Fabricación y reparación de muebles de madera ...</td>\n",
       "    </tr>\n",
       "    <tr>\n",
       "      <th>61</th>\n",
       "      <td>99</td>\n",
       "      <td>Servicios de organizaciones internacionales y ...</td>\n",
       "    </tr>\n",
       "    <tr>\n",
       "      <th>0</th>\n",
       "      <td>1</td>\n",
       "      <td>Agricultura</td>\n",
       "    </tr>\n",
       "  </tbody>\n",
       "</table>\n",
       "</div>"
      ],
      "text/plain": [
       "    sector_economico_2                                            Sector2\n",
       "52                  85  Servicios de alquiler; excepto de inmuebles   ...\n",
       "16                  27  Fabricación y reparación de muebles de madera ...\n",
       "61                  99  Servicios de organizaciones internacionales y ...\n",
       "0                    1                                        Agricultura"
      ]
     },
     "execution_count": 78,
     "metadata": {},
     "output_type": "execute_result"
    }
   ],
   "source": [
    "sec2['sector_economico_2'] = sec2['sector_economico_2_2pos']\n",
    "sec2.rename(columns = {'descripción sector_economico_2':'Sector2'}, inplace = True)\n",
    "sec2 = sec2[['sector_economico_2', 'Sector2']].copy()\n",
    "sec2.sample(4)"
   ]
  },
  {
   "cell_type": "code",
   "execution_count": 79,
   "metadata": {
    "ExecuteTime": {
     "end_time": "2020-10-06T17:26:45.990795Z",
     "start_time": "2020-10-06T17:26:45.951252Z"
    }
   },
   "outputs": [
    {
     "data": {
      "text/html": [
       "<div>\n",
       "<style scoped>\n",
       "    .dataframe tbody tr th:only-of-type {\n",
       "        vertical-align: middle;\n",
       "    }\n",
       "\n",
       "    .dataframe tbody tr th {\n",
       "        vertical-align: top;\n",
       "    }\n",
       "\n",
       "    .dataframe thead th {\n",
       "        text-align: right;\n",
       "    }\n",
       "</style>\n",
       "<table border=\"1\" class=\"dataframe\">\n",
       "  <thead>\n",
       "    <tr style=\"text-align: right;\">\n",
       "      <th></th>\n",
       "      <th>sector_economico_1</th>\n",
       "      <th>sector_economico_2</th>\n",
       "      <th>sector_economico_2_2pos</th>\n",
       "      <th>sector_economico_4</th>\n",
       "      <th>sector_economico_4_4_pos</th>\n",
       "      <th>descripción sector_economico_4</th>\n",
       "    </tr>\n",
       "  </thead>\n",
       "  <tbody>\n",
       "    <tr>\n",
       "      <th>117</th>\n",
       "      <td>3</td>\n",
       "      <td>7</td>\n",
       "      <td>37</td>\n",
       "      <td>4</td>\n",
       "      <td>3704</td>\n",
       "      <td>Fabricación y/o ensamble de aparatos eléctrico...</td>\n",
       "    </tr>\n",
       "    <tr>\n",
       "      <th>141</th>\n",
       "      <td>3</td>\n",
       "      <td>9</td>\n",
       "      <td>39</td>\n",
       "      <td>6</td>\n",
       "      <td>3906</td>\n",
       "      <td>Fabricación de lápices, gomas, plumas y bolígr...</td>\n",
       "    </tr>\n",
       "    <tr>\n",
       "      <th>6</th>\n",
       "      <td>0</td>\n",
       "      <td>4</td>\n",
       "      <td>4</td>\n",
       "      <td>4</td>\n",
       "      <td>404</td>\n",
       "      <td>Trabajos de buceo</td>\n",
       "    </tr>\n",
       "    <tr>\n",
       "      <th>235</th>\n",
       "      <td>8</td>\n",
       "      <td>4</td>\n",
       "      <td>84</td>\n",
       "      <td>5</td>\n",
       "      <td>8405</td>\n",
       "      <td>Servicios de laboratorio para la industria en ...</td>\n",
       "    </tr>\n",
       "  </tbody>\n",
       "</table>\n",
       "</div>"
      ],
      "text/plain": [
       "     sector_economico_1  sector_economico_2  sector_economico_2_2pos  \\\n",
       "117                   3                   7                       37   \n",
       "141                   3                   9                       39   \n",
       "6                     0                   4                        4   \n",
       "235                   8                   4                       84   \n",
       "\n",
       "     sector_economico_4  sector_economico_4_4_pos  \\\n",
       "117                   4                      3704   \n",
       "141                   6                      3906   \n",
       "6                     4                       404   \n",
       "235                   5                      8405   \n",
       "\n",
       "                        descripción sector_economico_4  \n",
       "117  Fabricación y/o ensamble de aparatos eléctrico...  \n",
       "141  Fabricación de lápices, gomas, plumas y bolígr...  \n",
       "6                                    Trabajos de buceo  \n",
       "235  Servicios de laboratorio para la industria en ...  "
      ]
     },
     "execution_count": 79,
     "metadata": {},
     "output_type": "execute_result"
    }
   ],
   "source": [
    "sec4.sample(4)"
   ]
  },
  {
   "cell_type": "code",
   "execution_count": 80,
   "metadata": {
    "ExecuteTime": {
     "end_time": "2020-10-06T17:26:46.015898Z",
     "start_time": "2020-10-06T17:26:45.996827Z"
    }
   },
   "outputs": [
    {
     "data": {
      "text/plain": [
       "Index(['sector_economico_1', 'sector_economico_2', 'sector_economico_2_2pos',\n",
       "       'sector_economico_4', 'sector_economico_4_4_pos',\n",
       "       'descripción sector_economico_4'],\n",
       "      dtype='object')"
      ]
     },
     "execution_count": 80,
     "metadata": {},
     "output_type": "execute_result"
    }
   ],
   "source": [
    "sec4.columns"
   ]
  },
  {
   "cell_type": "code",
   "execution_count": 81,
   "metadata": {
    "ExecuteTime": {
     "end_time": "2020-10-06T17:26:46.051193Z",
     "start_time": "2020-10-06T17:26:46.018228Z"
    }
   },
   "outputs": [
    {
     "data": {
      "text/html": [
       "<div>\n",
       "<style scoped>\n",
       "    .dataframe tbody tr th:only-of-type {\n",
       "        vertical-align: middle;\n",
       "    }\n",
       "\n",
       "    .dataframe tbody tr th {\n",
       "        vertical-align: top;\n",
       "    }\n",
       "\n",
       "    .dataframe thead th {\n",
       "        text-align: right;\n",
       "    }\n",
       "</style>\n",
       "<table border=\"1\" class=\"dataframe\">\n",
       "  <thead>\n",
       "    <tr style=\"text-align: right;\">\n",
       "      <th></th>\n",
       "      <th>sector_economico_4</th>\n",
       "      <th>Sector4</th>\n",
       "    </tr>\n",
       "  </thead>\n",
       "  <tbody>\n",
       "    <tr>\n",
       "      <th>82</th>\n",
       "      <td>3303</td>\n",
       "      <td>Fabricación de vidrio y/o productos de vidrio</td>\n",
       "    </tr>\n",
       "    <tr>\n",
       "      <th>226</th>\n",
       "      <td>7504</td>\n",
       "      <td>Servicios de alquiler de aeronaves, carros de ...</td>\n",
       "    </tr>\n",
       "    <tr>\n",
       "      <th>56</th>\n",
       "      <td>2604</td>\n",
       "      <td>Fabricación de artículos de corcho, palma, var...</td>\n",
       "    </tr>\n",
       "    <tr>\n",
       "      <th>273</th>\n",
       "      <td>9402</td>\n",
       "      <td>Seguridad pública</td>\n",
       "    </tr>\n",
       "  </tbody>\n",
       "</table>\n",
       "</div>"
      ],
      "text/plain": [
       "     sector_economico_4                                            Sector4\n",
       "82                 3303      Fabricación de vidrio y/o productos de vidrio\n",
       "226                7504  Servicios de alquiler de aeronaves, carros de ...\n",
       "56                 2604  Fabricación de artículos de corcho, palma, var...\n",
       "273                9402                                  Seguridad pública"
      ]
     },
     "execution_count": 81,
     "metadata": {},
     "output_type": "execute_result"
    }
   ],
   "source": [
    "sec4['sector_economico_4'] = sec4['sector_economico_4_4_pos']\n",
    "sec4.rename(columns = {'descripción sector_economico_4':'Sector4'}, inplace = True)\n",
    "sec4 = sec4[['sector_economico_4', 'Sector4']].copy()\n",
    "sec4.sample(4)"
   ]
  },
  {
   "cell_type": "markdown",
   "metadata": {},
   "source": [
    "#### Tamaño del registro patronal"
   ]
  },
  {
   "cell_type": "code",
   "execution_count": 82,
   "metadata": {
    "ExecuteTime": {
     "end_time": "2020-10-06T17:26:46.069799Z",
     "start_time": "2020-10-06T17:26:46.054373Z"
    }
   },
   "outputs": [],
   "source": [
    "## El catalogo está en minúsculas, caso contraro en el conjunto de datos\n",
    "tam['tamaño_patron'] = tam.tamaño_patron.str.upper()"
   ]
  },
  {
   "cell_type": "code",
   "execution_count": 83,
   "metadata": {
    "ExecuteTime": {
     "end_time": "2020-10-06T17:26:46.086398Z",
     "start_time": "2020-10-06T17:26:46.074691Z"
    }
   },
   "outputs": [
    {
     "data": {
      "text/plain": [
       "S3    1\n",
       "S2    1\n",
       "S6    1\n",
       "S1    1\n",
       "S4    1\n",
       "S5    1\n",
       "S7    1\n",
       "Name: tamaño_patron, dtype: int64"
      ]
     },
     "execution_count": 83,
     "metadata": {},
     "output_type": "execute_result"
    }
   ],
   "source": [
    "tam['tamaño_patron'].value_counts()"
   ]
  },
  {
   "cell_type": "markdown",
   "metadata": {},
   "source": [
    "Para sexo no hace falta un catálogo, y el resto parece no tener temas de limpieza.\n",
    "Es buena idea convertirlos a diccionario para poder reemplazarlo en nuestro conjunto de datos."
   ]
  },
  {
   "cell_type": "markdown",
   "metadata": {
    "ExecuteTime": {
     "end_time": "2020-09-16T13:20:57.584265Z",
     "start_time": "2020-09-16T13:20:57.558749Z"
    }
   },
   "source": [
    "### Unir con registros"
   ]
  },
  {
   "cell_type": "markdown",
   "metadata": {},
   "source": [
    "#### Diccionarios"
   ]
  },
  {
   "cell_type": "code",
   "execution_count": 84,
   "metadata": {
    "ExecuteTime": {
     "end_time": "2020-10-06T17:26:46.116726Z",
     "start_time": "2020-10-06T17:26:46.093325Z"
    }
   },
   "outputs": [
    {
     "data": {
      "text/plain": [
       "{'S1': ['Con un puesto de trabajo'],\n",
       " 'S2': ['con 2 y hasta 5 puestos de trabajo'],\n",
       " 'S3': ['con 6 y hasta 50 puestos de trabajo'],\n",
       " 'S4': ['con 51 y hasta 250 puestos de trabajo'],\n",
       " 'S5': ['con 251 y hasta 500 puestos de trabajo'],\n",
       " 'S6': ['con 501 y hasta 1,000 puestos de trabajo'],\n",
       " 'S7': ['con más de 1,000 puestos de trabajo'],\n",
       " nan: ['No aplica']}"
      ]
     },
     "execution_count": 84,
     "metadata": {},
     "output_type": "execute_result"
    }
   ],
   "source": [
    "tam = tam.set_index('tamaño_patron').T.to_dict('list')\n",
    "tam"
   ]
  },
  {
   "cell_type": "code",
   "execution_count": 85,
   "metadata": {
    "ExecuteTime": {
     "end_time": "2020-10-06T17:26:46.513068Z",
     "start_time": "2020-10-06T17:26:46.119985Z"
    }
   },
   "outputs": [
    {
     "data": {
      "text/plain": [
       "{0: ['Agricultura, ganadería, silvicultura, pesca y caza'],\n",
       " 1: ['Industrias extractivas'],\n",
       " 3: ['Industrias de transformación'],\n",
       " 4: ['Industria de la construcción'],\n",
       " 5: ['Industria eléctrica, y captación y suministro de agua potable'],\n",
       " 6: ['Comercio'],\n",
       " 7: ['Transportes y comunicaciones'],\n",
       " 8: ['Servicios para empresas, personas y el hogar'],\n",
       " 9: ['Servicios sociales y comunales']}"
      ]
     },
     "execution_count": 85,
     "metadata": {},
     "output_type": "execute_result"
    }
   ],
   "source": [
    "deleg = deleg.set_index('cve_delegacion').T.to_dict('list')\n",
    "subdeleg = subdeleg.set_index('cve_subdelegacion').T.to_dict('list')\n",
    "ent = ent.set_index('cve_entidad').T.to_dict('list')\n",
    "munic = munic.set_index('cve_municipio').T.to_dict('list')\n",
    "\n",
    "sec1 = sec1.set_index('sector_economico_1').T.to_dict('list')\n",
    "sec2 = sec2.set_index('sector_economico_2').T.to_dict('list')\n",
    "sec4 = sec4.set_index('sector_economico_4').T.to_dict('list')\n",
    "\n",
    "edad = edad.set_index('rango_edad').T.to_dict('list')\n",
    "salario = salario.set_index('rango_salarial').T.to_dict('list')\n",
    "uma = uma.set_index('rango_salarial').T.to_dict('list')\n",
    "\n",
    "sec1"
   ]
  },
  {
   "cell_type": "code",
   "execution_count": 86,
   "metadata": {
    "ExecuteTime": {
     "end_time": "2020-10-06T17:26:46.527600Z",
     "start_time": "2020-10-06T17:26:46.521451Z"
    }
   },
   "outputs": [],
   "source": [
    "sexo = {1:'Hombre', 2:'Mujer'}"
   ]
  },
  {
   "cell_type": "markdown",
   "metadata": {},
   "source": [
    "#### Crear llaves"
   ]
  },
  {
   "cell_type": "code",
   "execution_count": 87,
   "metadata": {
    "ExecuteTime": {
     "end_time": "2020-10-06T17:26:46.828175Z",
     "start_time": "2020-10-06T17:26:46.530963Z"
    }
   },
   "outputs": [
    {
     "name": "stdout",
     "output_type": "stream",
     "text": [
      "<class 'pandas.core.frame.DataFrame'>\n",
      "RangeIndex: 3642775 entries, 0 to 3642774\n",
      "Data columns (total 10 columns):\n",
      " #   Column              Dtype  \n",
      "---  ------              -----  \n",
      " 0   cve_delegacion      int64  \n",
      " 1   cve_subdelegacion   int64  \n",
      " 2   cve_entidad         int64  \n",
      " 3   cve_municipio       object \n",
      " 4   sector_economico_1  float64\n",
      " 5   sector_economico_2  float64\n",
      " 6   sector_economico_4  float64\n",
      " 7   tamaño_patron       object \n",
      " 8   sexo                int64  \n",
      " 9   rango_edad          object \n",
      "dtypes: float64(3), int64(4), object(3)\n",
      "memory usage: 277.9+ MB\n"
     ]
    }
   ],
   "source": [
    "data.iloc[:, 0:10].info()"
   ]
  },
  {
   "cell_type": "code",
   "execution_count": 88,
   "metadata": {
    "ExecuteTime": {
     "end_time": "2020-10-06T17:26:54.864494Z",
     "start_time": "2020-10-06T17:26:46.830828Z"
    }
   },
   "outputs": [
    {
     "data": {
      "text/plain": [
       "3035838    31_07\n",
       "249974     04_01\n",
       "3010587    31_02\n",
       "1786386    18_11\n",
       "Name: cve_subdelegacion, dtype: object"
      ]
     },
     "execution_count": 88,
     "metadata": {},
     "output_type": "execute_result"
    }
   ],
   "source": [
    "## Clave subdelegación es la unión a dos dígitos de las primeras dos columnas\n",
    "data['cve_subdelegacion'] = data.cve_delegacion.astype(str).str.zfill(2) + \"_\" + data.cve_subdelegacion.astype(str).str.zfill(2)\n",
    "data['cve_subdelegacion'].sample(4)"
   ]
  },
  {
   "cell_type": "code",
   "execution_count": 89,
   "metadata": {
    "ExecuteTime": {
     "end_time": "2020-10-06T17:26:59.162722Z",
     "start_time": "2020-10-06T17:26:54.868995Z"
    }
   },
   "outputs": [
    {
     "data": {
      "text/plain": [
       "1720769    16_D08\n",
       "2538398    24_E41\n",
       "2860124    28_F05\n",
       "3480967    09_MEX\n",
       "Name: cve_municipio, dtype: object"
      ]
     },
     "execution_count": 89,
     "metadata": {},
     "output_type": "execute_result"
    }
   ],
   "source": [
    "## Clave municipio es la unión a dos dígitos de la entidad junto con el código de municipio\n",
    "data['cve_municipio'] = data.cve_entidad.astype(str).str.zfill(2) + \"_\" + data.cve_municipio\n",
    "data['cve_municipio'].sample(4)"
   ]
  },
  {
   "cell_type": "markdown",
   "metadata": {},
   "source": [
    "#### Unión"
   ]
  },
  {
   "cell_type": "code",
   "execution_count": 90,
   "metadata": {
    "ExecuteTime": {
     "end_time": "2020-10-06T17:27:30.203774Z",
     "start_time": "2020-10-06T17:26:59.170320Z"
    }
   },
   "outputs": [
    {
     "data": {
      "text/html": [
       "<div>\n",
       "<style scoped>\n",
       "    .dataframe tbody tr th:only-of-type {\n",
       "        vertical-align: middle;\n",
       "    }\n",
       "\n",
       "    .dataframe tbody tr th {\n",
       "        vertical-align: top;\n",
       "    }\n",
       "\n",
       "    .dataframe thead th {\n",
       "        text-align: right;\n",
       "    }\n",
       "</style>\n",
       "<table border=\"1\" class=\"dataframe\">\n",
       "  <thead>\n",
       "    <tr style=\"text-align: right;\">\n",
       "      <th></th>\n",
       "      <th>cve_delegacion</th>\n",
       "      <th>cve_subdelegacion</th>\n",
       "      <th>cve_entidad</th>\n",
       "      <th>cve_municipio</th>\n",
       "      <th>sector_economico_1</th>\n",
       "      <th>sector_economico_2</th>\n",
       "      <th>sector_economico_4</th>\n",
       "      <th>tamaño_patron</th>\n",
       "      <th>sexo</th>\n",
       "      <th>rango_edad</th>\n",
       "      <th>rango_salarial</th>\n",
       "      <th>rango_uma</th>\n",
       "    </tr>\n",
       "  </thead>\n",
       "  <tbody>\n",
       "    <tr>\n",
       "      <th>1532671</th>\n",
       "      <td>[Estado de México Poniente]</td>\n",
       "      <td>[Toluca]</td>\n",
       "      <td>[Estado México]</td>\n",
       "      <td>[Metepec]</td>\n",
       "      <td>[Servicios para empresas, personas y el hogar]</td>\n",
       "      <td>[Servicios profesionales y técnicos           ...</td>\n",
       "      <td>[Servicios de instalación de maquinaria y equi...</td>\n",
       "      <td>[con 6 y hasta 50 puestos de trabajo]</td>\n",
       "      <td>Hombre</td>\n",
       "      <td>[Mayor o igual a 55 y menor a 60 años de edad]</td>\n",
       "      <td>[ mayor a 1 y hasta 2 veces el salario mínimo]</td>\n",
       "      <td>[ mayor a 2 y hasta 3 veces la UMA]</td>\n",
       "    </tr>\n",
       "    <tr>\n",
       "      <th>1877121</th>\n",
       "      <td>[Nuevo León]</td>\n",
       "      <td>[Apodaca]</td>\n",
       "      <td>[Nuevo León]</td>\n",
       "      <td>[Guadalupe]</td>\n",
       "      <td>[Comercio]</td>\n",
       "      <td>[Compraventa de alimentos, bebidas y productos...</td>\n",
       "      <td>[Compraventa de alimentos, bebidas y/o product...</td>\n",
       "      <td>[con 2 y hasta 5 puestos de trabajo]</td>\n",
       "      <td>Hombre</td>\n",
       "      <td>[Mayor o igual a 50 y menor a 55 años de edad]</td>\n",
       "      <td>[ mayor a 1 y hasta 2 veces el salario mínimo]</td>\n",
       "      <td>[ mayor a 2 y hasta 3 veces la UMA]</td>\n",
       "    </tr>\n",
       "    <tr>\n",
       "      <th>263952</th>\n",
       "      <td>[Campeche]</td>\n",
       "      <td>[Ciudad del Carmen]</td>\n",
       "      <td>[Campeche]</td>\n",
       "      <td>[Carmen]</td>\n",
       "      <td>[Servicios para empresas, personas y el hogar]</td>\n",
       "      <td>[Servicios de alojamiento temporal            ...</td>\n",
       "      <td>[Servicios de alojamiento temporal]</td>\n",
       "      <td>[con 6 y hasta 50 puestos de trabajo]</td>\n",
       "      <td>Hombre</td>\n",
       "      <td>[Mayor o igual a 30 y menor a 35 años de edad]</td>\n",
       "      <td>[ mayor a 6 y hasta 7 veces el salario mínimo]</td>\n",
       "      <td>[ mayor a 9 y hasta 10 veces la UMA]</td>\n",
       "    </tr>\n",
       "    <tr>\n",
       "      <th>566027</th>\n",
       "      <td>[Chihuahua]</td>\n",
       "      <td>[Juárez 1]</td>\n",
       "      <td>[Chihuahua]</td>\n",
       "      <td>[Juárez]</td>\n",
       "      <td>[Industrias de transformación]</td>\n",
       "      <td>[Fabricación de productos metálicos; excepto m...</td>\n",
       "      <td>[Fabricación y/o reparación de puertas, ventan...</td>\n",
       "      <td>[con 251 y hasta 500 puestos de trabajo]</td>\n",
       "      <td>Hombre</td>\n",
       "      <td>[Mayor o igual a 30 y menor a 35 años de edad]</td>\n",
       "      <td>[ mayor a 7 y hasta 8 veces el salario mínimo]</td>\n",
       "      <td>[ mayor a 11 y hasta 12 veces la UMA]</td>\n",
       "    </tr>\n",
       "  </tbody>\n",
       "</table>\n",
       "</div>"
      ],
      "text/plain": [
       "                      cve_delegacion    cve_subdelegacion      cve_entidad  \\\n",
       "1532671  [Estado de México Poniente]             [Toluca]  [Estado México]   \n",
       "1877121                 [Nuevo León]            [Apodaca]     [Nuevo León]   \n",
       "263952                    [Campeche]  [Ciudad del Carmen]       [Campeche]   \n",
       "566027                   [Chihuahua]           [Juárez 1]      [Chihuahua]   \n",
       "\n",
       "        cve_municipio                              sector_economico_1  \\\n",
       "1532671     [Metepec]  [Servicios para empresas, personas y el hogar]   \n",
       "1877121   [Guadalupe]                                      [Comercio]   \n",
       "263952       [Carmen]  [Servicios para empresas, personas y el hogar]   \n",
       "566027       [Juárez]                  [Industrias de transformación]   \n",
       "\n",
       "                                        sector_economico_2  \\\n",
       "1532671  [Servicios profesionales y técnicos           ...   \n",
       "1877121  [Compraventa de alimentos, bebidas y productos...   \n",
       "263952   [Servicios de alojamiento temporal            ...   \n",
       "566027   [Fabricación de productos metálicos; excepto m...   \n",
       "\n",
       "                                        sector_economico_4  \\\n",
       "1532671  [Servicios de instalación de maquinaria y equi...   \n",
       "1877121  [Compraventa de alimentos, bebidas y/o product...   \n",
       "263952                 [Servicios de alojamiento temporal]   \n",
       "566027   [Fabricación y/o reparación de puertas, ventan...   \n",
       "\n",
       "                                    tamaño_patron    sexo  \\\n",
       "1532671     [con 6 y hasta 50 puestos de trabajo]  Hombre   \n",
       "1877121      [con 2 y hasta 5 puestos de trabajo]  Hombre   \n",
       "263952      [con 6 y hasta 50 puestos de trabajo]  Hombre   \n",
       "566027   [con 251 y hasta 500 puestos de trabajo]  Hombre   \n",
       "\n",
       "                                             rango_edad  \\\n",
       "1532671  [Mayor o igual a 55 y menor a 60 años de edad]   \n",
       "1877121  [Mayor o igual a 50 y menor a 55 años de edad]   \n",
       "263952   [Mayor o igual a 30 y menor a 35 años de edad]   \n",
       "566027   [Mayor o igual a 30 y menor a 35 años de edad]   \n",
       "\n",
       "                                         rango_salarial  \\\n",
       "1532671  [ mayor a 1 y hasta 2 veces el salario mínimo]   \n",
       "1877121  [ mayor a 1 y hasta 2 veces el salario mínimo]   \n",
       "263952   [ mayor a 6 y hasta 7 veces el salario mínimo]   \n",
       "566027   [ mayor a 7 y hasta 8 veces el salario mínimo]   \n",
       "\n",
       "                                     rango_uma  \n",
       "1532671    [ mayor a 2 y hasta 3 veces la UMA]  \n",
       "1877121    [ mayor a 2 y hasta 3 veces la UMA]  \n",
       "263952    [ mayor a 9 y hasta 10 veces la UMA]  \n",
       "566027   [ mayor a 11 y hasta 12 veces la UMA]  "
      ]
     },
     "execution_count": 90,
     "metadata": {},
     "output_type": "execute_result"
    }
   ],
   "source": [
    "## Se intercambian las llaves por el valor correspondiente\n",
    "\n",
    "data['cve_delegacion'] = [deleg[x] for x in data['cve_delegacion']]\n",
    "data['cve_subdelegacion'] = [subdeleg[x] for x in data['cve_subdelegacion']]\n",
    "data['cve_entidad'] = [ent[x] for x in data['cve_entidad']]\n",
    "data['cve_municipio'] = [munic[x] for x in data['cve_municipio']]\n",
    "\n",
    "data['sector_economico_1'] = [sec1[x] for x in data['sector_economico_1']]\n",
    "data['sector_economico_2'] = [sec2[x] for x in data['sector_economico_2']]\n",
    "data['sector_economico_4'] = [sec4[x] for x in data['sector_economico_4']]\n",
    "\n",
    "data['tamaño_patron'] = [tam[x] for x in data['tamaño_patron']]\n",
    "data['sexo'] = [sexo[x] for x in data['sexo']]\n",
    "data['rango_edad'] = [edad[x] for x in data['rango_edad']]\n",
    "data['rango_salarial'] = [salario[x] for x in data['rango_salarial']]\n",
    "data['rango_uma'] = [uma[x] for x in data['rango_uma']]\n",
    "\n",
    "data.iloc[:, 0:12].sample(4)"
   ]
  },
  {
   "cell_type": "code",
   "execution_count": 91,
   "metadata": {
    "ExecuteTime": {
     "end_time": "2020-10-06T17:27:32.898135Z",
     "start_time": "2020-10-06T17:27:30.219309Z"
    }
   },
   "outputs": [
    {
     "data": {
      "text/plain": [
       "cve_delegacion        0.0\n",
       "cve_subdelegacion     0.0\n",
       "cve_entidad           0.0\n",
       "cve_municipio         0.0\n",
       "sector_economico_1    0.0\n",
       "sector_economico_2    0.0\n",
       "sector_economico_4    0.0\n",
       "tamaño_patron         0.0\n",
       "sexo                  0.0\n",
       "rango_edad            0.0\n",
       "rango_salarial        0.0\n",
       "rango_uma             0.0\n",
       "ta                    0.0\n",
       "teu                   0.0\n",
       "tec                   0.0\n",
       "tpu                   0.0\n",
       "tpc                   0.0\n",
       "masa_sal_ta           0.0\n",
       "masa_sal_teu          0.0\n",
       "masa_sal_tec          0.0\n",
       "masa_sal_tpu          0.0\n",
       "masa_sal_tpc          0.0\n",
       "dtype: float64"
      ]
     },
     "execution_count": 91,
     "metadata": {},
     "output_type": "execute_result"
    }
   ],
   "source": [
    "## Y nada se descompuso (al parecer), no hay vacíos\n",
    "data.isnull().sum() / data.shape[0]"
   ]
  },
  {
   "cell_type": "code",
   "execution_count": 92,
   "metadata": {
    "ExecuteTime": {
     "end_time": "2020-10-06T17:28:21.713997Z",
     "start_time": "2020-10-06T17:27:32.914402Z"
    }
   },
   "outputs": [
    {
     "data": {
      "text/html": [
       "<div>\n",
       "<style scoped>\n",
       "    .dataframe tbody tr th:only-of-type {\n",
       "        vertical-align: middle;\n",
       "    }\n",
       "\n",
       "    .dataframe tbody tr th {\n",
       "        vertical-align: top;\n",
       "    }\n",
       "\n",
       "    .dataframe thead th {\n",
       "        text-align: right;\n",
       "    }\n",
       "</style>\n",
       "<table border=\"1\" class=\"dataframe\">\n",
       "  <thead>\n",
       "    <tr style=\"text-align: right;\">\n",
       "      <th></th>\n",
       "      <th>cve_delegacion</th>\n",
       "      <th>cve_subdelegacion</th>\n",
       "      <th>cve_entidad</th>\n",
       "      <th>cve_municipio</th>\n",
       "      <th>sector_economico_1</th>\n",
       "      <th>sector_economico_2</th>\n",
       "      <th>sector_economico_4</th>\n",
       "      <th>tamaño_patron</th>\n",
       "      <th>sexo</th>\n",
       "      <th>rango_edad</th>\n",
       "      <th>...</th>\n",
       "      <th>ta</th>\n",
       "      <th>teu</th>\n",
       "      <th>tec</th>\n",
       "      <th>tpu</th>\n",
       "      <th>tpc</th>\n",
       "      <th>masa_sal_ta</th>\n",
       "      <th>masa_sal_teu</th>\n",
       "      <th>masa_sal_tec</th>\n",
       "      <th>masa_sal_tpu</th>\n",
       "      <th>masa_sal_tpc</th>\n",
       "    </tr>\n",
       "  </thead>\n",
       "  <tbody>\n",
       "    <tr>\n",
       "      <th>3126458</th>\n",
       "      <td>Veracruz Sur</td>\n",
       "      <td>Cosamaloapan</td>\n",
       "      <td>Veracruz de Ignacio de la Llave</td>\n",
       "      <td>Cosamaloapan de Carpio</td>\n",
       "      <td>Industria eléctrica, y captación y suministro ...</td>\n",
       "      <td>Generación, transmisión y distribución de ener...</td>\n",
       "      <td>Generación, transmisión y distribución de ener...</td>\n",
       "      <td>con 251 y hasta 500 puestos de trabajo</td>\n",
       "      <td>Hombre</td>\n",
       "      <td>Mayor o igual a 50 y menor a 55 años de edad</td>\n",
       "      <td>...</td>\n",
       "      <td>1</td>\n",
       "      <td>1</td>\n",
       "      <td>0</td>\n",
       "      <td>0</td>\n",
       "      <td>0</td>\n",
       "      <td>614.30</td>\n",
       "      <td>614.30</td>\n",
       "      <td>0.0</td>\n",
       "      <td>0.00</td>\n",
       "      <td>0.0</td>\n",
       "    </tr>\n",
       "    <tr>\n",
       "      <th>2469452</th>\n",
       "      <td>Quintana Roo</td>\n",
       "      <td>Playa del Carmen</td>\n",
       "      <td>Quintana Roo</td>\n",
       "      <td>Solidaridad</td>\n",
       "      <td>Industrias de transformación</td>\n",
       "      <td>Fabricación de productos de hule y plástico</td>\n",
       "      <td>Fabricación de productos de plástico</td>\n",
       "      <td>con 6 y hasta 50 puestos de trabajo</td>\n",
       "      <td>Hombre</td>\n",
       "      <td>Mayor o igual a 35 y menor a 40 años de edad</td>\n",
       "      <td>...</td>\n",
       "      <td>2</td>\n",
       "      <td>0</td>\n",
       "      <td>0</td>\n",
       "      <td>2</td>\n",
       "      <td>0</td>\n",
       "      <td>440.14</td>\n",
       "      <td>0.00</td>\n",
       "      <td>0.0</td>\n",
       "      <td>440.14</td>\n",
       "      <td>0.0</td>\n",
       "    </tr>\n",
       "    <tr>\n",
       "      <th>2517447</th>\n",
       "      <td>San Luis Potosí</td>\n",
       "      <td>Oriente</td>\n",
       "      <td>San Luis Potosí</td>\n",
       "      <td>San Luis Potosí</td>\n",
       "      <td>Industrias de transformación</td>\n",
       "      <td>Fabricación de productos de minerales no metál...</td>\n",
       "      <td>Fabricación de productos abrasivos</td>\n",
       "      <td>con 51 y hasta 250 puestos de trabajo</td>\n",
       "      <td>Hombre</td>\n",
       "      <td>Mayor o igual a 40 y menor a 45 años de edad</td>\n",
       "      <td>...</td>\n",
       "      <td>1</td>\n",
       "      <td>0</td>\n",
       "      <td>0</td>\n",
       "      <td>1</td>\n",
       "      <td>0</td>\n",
       "      <td>1116.70</td>\n",
       "      <td>0.00</td>\n",
       "      <td>0.0</td>\n",
       "      <td>1116.70</td>\n",
       "      <td>0.0</td>\n",
       "    </tr>\n",
       "    <tr>\n",
       "      <th>814700</th>\n",
       "      <td>Guanajuato</td>\n",
       "      <td>León</td>\n",
       "      <td>Guanajuato</td>\n",
       "      <td>Silao de la Victoria</td>\n",
       "      <td>Transportes y comunicaciones</td>\n",
       "      <td>Transporte terrestre                          ...</td>\n",
       "      <td>Transporte de carga</td>\n",
       "      <td>con 51 y hasta 250 puestos de trabajo</td>\n",
       "      <td>Mujer</td>\n",
       "      <td>Mayor o igual a 35 y menor a 40 años de edad</td>\n",
       "      <td>...</td>\n",
       "      <td>5</td>\n",
       "      <td>1</td>\n",
       "      <td>0</td>\n",
       "      <td>4</td>\n",
       "      <td>0</td>\n",
       "      <td>1097.96</td>\n",
       "      <td>238.38</td>\n",
       "      <td>0.0</td>\n",
       "      <td>859.58</td>\n",
       "      <td>0.0</td>\n",
       "    </tr>\n",
       "  </tbody>\n",
       "</table>\n",
       "<p>4 rows × 22 columns</p>\n",
       "</div>"
      ],
      "text/plain": [
       "          cve_delegacion cve_subdelegacion                      cve_entidad  \\\n",
       "3126458     Veracruz Sur     Cosamaloapan   Veracruz de Ignacio de la Llave   \n",
       "2469452     Quintana Roo  Playa del Carmen                     Quintana Roo   \n",
       "2517447  San Luis Potosí           Oriente                  San Luis Potosí   \n",
       "814700        Guanajuato              León                       Guanajuato   \n",
       "\n",
       "                  cve_municipio  \\\n",
       "3126458  Cosamaloapan de Carpio   \n",
       "2469452             Solidaridad   \n",
       "2517447         San Luis Potosí   \n",
       "814700     Silao de la Victoria   \n",
       "\n",
       "                                        sector_economico_1  \\\n",
       "3126458  Industria eléctrica, y captación y suministro ...   \n",
       "2469452                       Industrias de transformación   \n",
       "2517447                       Industrias de transformación   \n",
       "814700                        Transportes y comunicaciones   \n",
       "\n",
       "                                        sector_economico_2  \\\n",
       "3126458  Generación, transmisión y distribución de ener...   \n",
       "2469452        Fabricación de productos de hule y plástico   \n",
       "2517447  Fabricación de productos de minerales no metál...   \n",
       "814700   Transporte terrestre                          ...   \n",
       "\n",
       "                                        sector_economico_4  \\\n",
       "3126458  Generación, transmisión y distribución de ener...   \n",
       "2469452               Fabricación de productos de plástico   \n",
       "2517447                 Fabricación de productos abrasivos   \n",
       "814700                                 Transporte de carga   \n",
       "\n",
       "                                  tamaño_patron    sexo  \\\n",
       "3126458  con 251 y hasta 500 puestos de trabajo  Hombre   \n",
       "2469452     con 6 y hasta 50 puestos de trabajo  Hombre   \n",
       "2517447   con 51 y hasta 250 puestos de trabajo  Hombre   \n",
       "814700    con 51 y hasta 250 puestos de trabajo   Mujer   \n",
       "\n",
       "                                           rango_edad  ... ta teu  tec  tpu  \\\n",
       "3126458  Mayor o igual a 50 y menor a 55 años de edad  ...  1   1    0    0   \n",
       "2469452  Mayor o igual a 35 y menor a 40 años de edad  ...  2   0    0    2   \n",
       "2517447  Mayor o igual a 40 y menor a 45 años de edad  ...  1   0    0    1   \n",
       "814700   Mayor o igual a 35 y menor a 40 años de edad  ...  5   1    0    4   \n",
       "\n",
       "         tpc  masa_sal_ta  masa_sal_teu  masa_sal_tec  masa_sal_tpu  \\\n",
       "3126458    0       614.30        614.30           0.0          0.00   \n",
       "2469452    0       440.14          0.00           0.0        440.14   \n",
       "2517447    0      1116.70          0.00           0.0       1116.70   \n",
       "814700     0      1097.96        238.38           0.0        859.58   \n",
       "\n",
       "         masa_sal_tpc  \n",
       "3126458           0.0  \n",
       "2469452           0.0  \n",
       "2517447           0.0  \n",
       "814700            0.0  \n",
       "\n",
       "[4 rows x 22 columns]"
      ]
     },
     "execution_count": 92,
     "metadata": {},
     "output_type": "execute_result"
    }
   ],
   "source": [
    "## Pero por venir de diccionario, las variables de dimensión tienen formato incorrecto, \n",
    "## Se omiten los caracteres ['']\n",
    "for i in data.iloc[:,0:12].columns:\n",
    "    data[i] = [str(x).strip('[\\']') for x in data[i]]\n",
    "  \n",
    "data.sample(4)"
   ]
  },
  {
   "cell_type": "markdown",
   "metadata": {},
   "source": [
    "## Ingeniería de variables"
   ]
  },
  {
   "cell_type": "markdown",
   "metadata": {},
   "source": [
    "### Salario base"
   ]
  },
  {
   "cell_type": "code",
   "execution_count": 93,
   "metadata": {
    "ExecuteTime": {
     "end_time": "2020-10-06T17:28:22.427261Z",
     "start_time": "2020-10-06T17:28:21.718321Z"
    }
   },
   "outputs": [
    {
     "data": {
      "text/html": [
       "<div>\n",
       "<style scoped>\n",
       "    .dataframe tbody tr th:only-of-type {\n",
       "        vertical-align: middle;\n",
       "    }\n",
       "\n",
       "    .dataframe tbody tr th {\n",
       "        vertical-align: top;\n",
       "    }\n",
       "\n",
       "    .dataframe thead th {\n",
       "        text-align: right;\n",
       "    }\n",
       "</style>\n",
       "<table border=\"1\" class=\"dataframe\">\n",
       "  <thead>\n",
       "    <tr style=\"text-align: right;\">\n",
       "      <th></th>\n",
       "      <th>base_ta</th>\n",
       "      <th>base_teu</th>\n",
       "      <th>base_tec</th>\n",
       "      <th>base_tpu</th>\n",
       "      <th>base_tpc</th>\n",
       "    </tr>\n",
       "  </thead>\n",
       "  <tbody>\n",
       "    <tr>\n",
       "      <th>2820566</th>\n",
       "      <td>145.83</td>\n",
       "      <td>NaN</td>\n",
       "      <td>NaN</td>\n",
       "      <td>145.83</td>\n",
       "      <td>NaN</td>\n",
       "    </tr>\n",
       "    <tr>\n",
       "      <th>2021863</th>\n",
       "      <td>1212.39</td>\n",
       "      <td>NaN</td>\n",
       "      <td>NaN</td>\n",
       "      <td>1212.39</td>\n",
       "      <td>NaN</td>\n",
       "    </tr>\n",
       "    <tr>\n",
       "      <th>1299803</th>\n",
       "      <td>253.30</td>\n",
       "      <td>NaN</td>\n",
       "      <td>NaN</td>\n",
       "      <td>253.30</td>\n",
       "      <td>NaN</td>\n",
       "    </tr>\n",
       "    <tr>\n",
       "      <th>345343</th>\n",
       "      <td>549.15</td>\n",
       "      <td>NaN</td>\n",
       "      <td>NaN</td>\n",
       "      <td>549.15</td>\n",
       "      <td>NaN</td>\n",
       "    </tr>\n",
       "  </tbody>\n",
       "</table>\n",
       "</div>"
      ],
      "text/plain": [
       "         base_ta  base_teu  base_tec  base_tpu  base_tpc\n",
       "2820566   145.83       NaN       NaN    145.83       NaN\n",
       "2021863  1212.39       NaN       NaN   1212.39       NaN\n",
       "1299803   253.30       NaN       NaN    253.30       NaN\n",
       "345343    549.15       NaN       NaN    549.15       NaN"
      ]
     },
     "execution_count": 93,
     "metadata": {},
     "output_type": "execute_result"
    }
   ],
   "source": [
    "## Se puede calcular el salario base de cotización, es decir, \n",
    "## el promedio de lo que gana un trabajador al día, en éste se basan sus prestaciones\n",
    "data['base_ta'] = data['masa_sal_ta'] / data['ta']\n",
    "data['base_teu'] = data['masa_sal_teu'] / data['teu']\n",
    "data['base_tec'] = data['masa_sal_tec'] / data['tec']\n",
    "data['base_tpu'] = data['masa_sal_tpu'] / data['tpu']\n",
    "data['base_tpc'] = data['masa_sal_tpc'] / data['tpc']\n",
    "\n",
    "data[['base_ta', 'base_teu', 'base_tec', 'base_tpu', 'base_tpc']].sample(4)"
   ]
  },
  {
   "cell_type": "code",
   "execution_count": 94,
   "metadata": {
    "ExecuteTime": {
     "end_time": "2020-10-06T17:28:28.373662Z",
     "start_time": "2020-10-06T17:28:22.430527Z"
    }
   },
   "outputs": [
    {
     "data": {
      "text/html": [
       "<div>\n",
       "<style scoped>\n",
       "    .dataframe tbody tr th:only-of-type {\n",
       "        vertical-align: middle;\n",
       "    }\n",
       "\n",
       "    .dataframe tbody tr th {\n",
       "        vertical-align: top;\n",
       "    }\n",
       "\n",
       "    .dataframe thead th {\n",
       "        text-align: right;\n",
       "    }\n",
       "</style>\n",
       "<table border=\"1\" class=\"dataframe\">\n",
       "  <thead>\n",
       "    <tr style=\"text-align: right;\">\n",
       "      <th></th>\n",
       "      <th>base_ta</th>\n",
       "      <th>base_teu</th>\n",
       "      <th>base_tec</th>\n",
       "      <th>base_tpu</th>\n",
       "      <th>base_tpc</th>\n",
       "    </tr>\n",
       "  </thead>\n",
       "  <tbody>\n",
       "    <tr>\n",
       "      <th>701412</th>\n",
       "      <td>230.754</td>\n",
       "      <td>0.0</td>\n",
       "      <td>0.0</td>\n",
       "      <td>230.754</td>\n",
       "      <td>0.0</td>\n",
       "    </tr>\n",
       "    <tr>\n",
       "      <th>3551190</th>\n",
       "      <td>1514.490</td>\n",
       "      <td>0.0</td>\n",
       "      <td>0.0</td>\n",
       "      <td>1514.490</td>\n",
       "      <td>0.0</td>\n",
       "    </tr>\n",
       "    <tr>\n",
       "      <th>1221102</th>\n",
       "      <td>534.210</td>\n",
       "      <td>0.0</td>\n",
       "      <td>0.0</td>\n",
       "      <td>534.210</td>\n",
       "      <td>0.0</td>\n",
       "    </tr>\n",
       "    <tr>\n",
       "      <th>3266358</th>\n",
       "      <td>167.230</td>\n",
       "      <td>0.0</td>\n",
       "      <td>0.0</td>\n",
       "      <td>167.230</td>\n",
       "      <td>0.0</td>\n",
       "    </tr>\n",
       "  </tbody>\n",
       "</table>\n",
       "</div>"
      ],
      "text/plain": [
       "          base_ta  base_teu  base_tec  base_tpu  base_tpc\n",
       "701412    230.754       0.0       0.0   230.754       0.0\n",
       "3551190  1514.490       0.0       0.0  1514.490       0.0\n",
       "1221102   534.210       0.0       0.0   534.210       0.0\n",
       "3266358   167.230       0.0       0.0   167.230       0.0"
      ]
     },
     "execution_count": 94,
     "metadata": {},
     "output_type": "execute_result"
    }
   ],
   "source": [
    "## Los valores vacíos (cero entre cero) en realidad son cero, pero hay que ser cuidadosos\n",
    "## con estas variables para no sesgar operaciones o modelos futuros\n",
    "data.fillna(0, inplace = True)\n",
    "\n",
    "data[['base_ta', 'base_teu', 'base_tec', 'base_tpu', 'base_tpc']].sample(4)"
   ]
  },
  {
   "cell_type": "code",
   "execution_count": 95,
   "metadata": {
    "ExecuteTime": {
     "end_time": "2020-10-06T17:28:29.154457Z",
     "start_time": "2020-10-06T17:28:28.378628Z"
    }
   },
   "outputs": [
    {
     "data": {
      "text/plain": [
       "<AxesSubplot:>"
      ]
     },
     "execution_count": 95,
     "metadata": {},
     "output_type": "execute_result"
    },
    {
     "data": {
      "image/png": "[encoded data removed]",
      "text/plain": [
       "<Figure size 432x288 with 1 Axes>"
      ]
     },
     "metadata": {
      "needs_background": "light"
     },
     "output_type": "display_data"
    }
   ],
   "source": [
    "## Aún existen outliers para la tarifa base de cotización de algunos tipos de tarifa\n",
    "## Eventuales urbanos está ok\n",
    "data[data['teu'] > 0]['base_teu'].hist()"
   ]
  },
  {
   "cell_type": "code",
   "execution_count": 96,
   "metadata": {
    "ExecuteTime": {
     "end_time": "2020-10-06T17:28:29.494362Z",
     "start_time": "2020-10-06T17:28:29.160323Z"
    }
   },
   "outputs": [
    {
     "data": {
      "text/plain": [
       "<AxesSubplot:>"
      ]
     },
     "execution_count": 96,
     "metadata": {},
     "output_type": "execute_result"
    },
    {
     "data": {
      "image/png": "[encoded data removed]",
      "text/plain": [
       "<Figure size 432x288 with 1 Axes>"
      ]
     },
     "metadata": {
      "needs_background": "light"
     },
     "output_type": "display_data"
    }
   ],
   "source": [
    "## Pero el resto no tanto (jeje)\n",
    "data[data['tec'] > 0]['base_tec'].hist()"
   ]
  },
  {
   "cell_type": "code",
   "execution_count": 97,
   "metadata": {
    "ExecuteTime": {
     "end_time": "2020-10-06T17:28:33.397956Z",
     "start_time": "2020-10-06T17:28:29.497414Z"
    }
   },
   "outputs": [
    {
     "name": "stdout",
     "output_type": "stream",
     "text": [
      "AxesSubplot(0.125,0.125;0.775x0.755)\n"
     ]
    },
    {
     "data": {
      "image/png": "[encoded data removed]",
      "text/plain": [
       "<Figure size 432x288 with 1 Axes>"
      ]
     },
     "metadata": {
      "needs_background": "light"
     },
     "output_type": "display_data"
    }
   ],
   "source": [
    "outlier(data,'base_tec')"
   ]
  },
  {
   "cell_type": "code",
   "execution_count": 98,
   "metadata": {
    "ExecuteTime": {
     "end_time": "2020-10-06T17:28:35.943776Z",
     "start_time": "2020-10-06T17:28:33.408113Z"
    }
   },
   "outputs": [
    {
     "data": {
      "text/plain": [
       "<AxesSubplot:>"
      ]
     },
     "execution_count": 98,
     "metadata": {},
     "output_type": "execute_result"
    },
    {
     "data": {
      "image/png": "[encoded data removed]",
      "text/plain": [
       "<Figure size 432x288 with 1 Axes>"
      ]
     },
     "metadata": {
      "needs_background": "light"
     },
     "output_type": "display_data"
    }
   ],
   "source": [
    "data[data['tpu'] > 0]['base_tpu'].hist()"
   ]
  },
  {
   "cell_type": "code",
   "execution_count": 99,
   "metadata": {
    "ExecuteTime": {
     "end_time": "2020-10-06T17:28:45.247705Z",
     "start_time": "2020-10-06T17:28:35.950212Z"
    }
   },
   "outputs": [
    {
     "name": "stdout",
     "output_type": "stream",
     "text": [
      "AxesSubplot(0.125,0.125;0.775x0.755)\n"
     ]
    },
    {
     "data": {
      "image/png": "[encoded data removed]",
      "text/plain": [
       "<Figure size 432x288 with 1 Axes>"
      ]
     },
     "metadata": {
      "needs_background": "light"
     },
     "output_type": "display_data"
    }
   ],
   "source": [
    "outlier(data,'base_tpu')"
   ]
  },
  {
   "cell_type": "code",
   "execution_count": 100,
   "metadata": {
    "ExecuteTime": {
     "end_time": "2020-10-06T17:28:45.607489Z",
     "start_time": "2020-10-06T17:28:45.254707Z"
    }
   },
   "outputs": [
    {
     "data": {
      "text/plain": [
       "<AxesSubplot:>"
      ]
     },
     "execution_count": 100,
     "metadata": {},
     "output_type": "execute_result"
    },
    {
     "data": {
      "image/png": "[encoded data removed]",
      "text/plain": [
       "<Figure size 432x288 with 1 Axes>"
      ]
     },
     "metadata": {
      "needs_background": "light"
     },
     "output_type": "display_data"
    }
   ],
   "source": [
    "data[data['tpc'] > 0]['base_tpc'].hist()"
   ]
  },
  {
   "cell_type": "code",
   "execution_count": 101,
   "metadata": {
    "ExecuteTime": {
     "end_time": "2020-10-06T17:28:49.539997Z",
     "start_time": "2020-10-06T17:28:45.611147Z"
    }
   },
   "outputs": [
    {
     "name": "stdout",
     "output_type": "stream",
     "text": [
      "AxesSubplot(0.125,0.125;0.775x0.755)\n"
     ]
    },
    {
     "data": {
      "image/png": "[encoded data removed]",
      "text/plain": [
       "<Figure size 432x288 with 1 Axes>"
      ]
     },
     "metadata": {
      "needs_background": "light"
     },
     "output_type": "display_data"
    }
   ],
   "source": [
    "outlier(data,'base_tpc')"
   ]
  },
  {
   "cell_type": "code",
   "execution_count": 102,
   "metadata": {
    "ExecuteTime": {
     "end_time": "2020-10-06T17:28:49.564587Z",
     "start_time": "2020-10-06T17:28:49.549858Z"
    }
   },
   "outputs": [
    {
     "data": {
      "text/plain": [
       "0.7578938231901721"
      ]
     },
     "execution_count": 102,
     "metadata": {},
     "output_type": "execute_result"
    }
   ],
   "source": [
    "## Se reduce el % de registros originales a %\n",
    "data.shape[0] / dim_antes"
   ]
  },
  {
   "cell_type": "markdown",
   "metadata": {},
   "source": [
    "### Cambio de estructura"
   ]
  },
  {
   "cell_type": "code",
   "execution_count": 104,
   "metadata": {
    "ExecuteTime": {
     "end_time": "2020-10-06T17:29:25.197146Z",
     "start_time": "2020-10-06T17:28:49.621183Z"
    }
   },
   "outputs": [
    {
     "data": {
      "text/html": [
       "<div>\n",
       "<style scoped>\n",
       "    .dataframe tbody tr th:only-of-type {\n",
       "        vertical-align: middle;\n",
       "    }\n",
       "\n",
       "    .dataframe tbody tr th {\n",
       "        vertical-align: top;\n",
       "    }\n",
       "\n",
       "    .dataframe thead th {\n",
       "        text-align: right;\n",
       "    }\n",
       "</style>\n",
       "<table border=\"1\" class=\"dataframe\">\n",
       "  <thead>\n",
       "    <tr style=\"text-align: right;\">\n",
       "      <th></th>\n",
       "      <th>cve_delegacion</th>\n",
       "      <th>cve_subdelegacion</th>\n",
       "      <th>cve_entidad</th>\n",
       "      <th>cve_municipio</th>\n",
       "      <th>sector_economico_1</th>\n",
       "      <th>sector_economico_2</th>\n",
       "      <th>sector_economico_4</th>\n",
       "      <th>tamaño_patron</th>\n",
       "      <th>sexo</th>\n",
       "      <th>rango_edad</th>\n",
       "      <th>rango_salarial</th>\n",
       "      <th>rango_uma</th>\n",
       "      <th>Tipo</th>\n",
       "      <th>Tarifa_base</th>\n",
       "    </tr>\n",
       "  </thead>\n",
       "  <tbody>\n",
       "    <tr>\n",
       "      <th>2342964</th>\n",
       "      <td>Oaxaca</td>\n",
       "      <td>Oaxaca</td>\n",
       "      <td>Oaxaca</td>\n",
       "      <td>Oaxaca de Juárez</td>\n",
       "      <td>Industrias de transformación</td>\n",
       "      <td>Fabricación de alimentos</td>\n",
       "      <td>Elaboración y preparación de productos aliment...</td>\n",
       "      <td>con 6 y hasta 50 puestos de trabajo</td>\n",
       "      <td>Hombre</td>\n",
       "      <td>Mayor o igual a 30 y menor a 35 años de edad</td>\n",
       "      <td>mayor a 1 y hasta 2 veces el salario mínimo</td>\n",
       "      <td>mayor a 1 y hasta 2 veces la UMA</td>\n",
       "      <td>base_tpu</td>\n",
       "      <td>134.395000</td>\n",
       "    </tr>\n",
       "    <tr>\n",
       "      <th>2006844</th>\n",
       "      <td>Morelos</td>\n",
       "      <td>Cuernavaca</td>\n",
       "      <td>Morelos</td>\n",
       "      <td>Jiutepec</td>\n",
       "      <td>Industrias de transformación</td>\n",
       "      <td>Fabricación de alimentos</td>\n",
       "      <td>Elaboración, preparación, envasado y/o empacad...</td>\n",
       "      <td>con 251 y hasta 500 puestos de trabajo</td>\n",
       "      <td>Mujer</td>\n",
       "      <td>Mayor o igual a 40 y menor a 45 años de edad</td>\n",
       "      <td>mayor a 4 y hasta 5 veces el salario mínimo</td>\n",
       "      <td>mayor a 5 y hasta 6 veces la UMA</td>\n",
       "      <td>base_tpu</td>\n",
       "      <td>501.360000</td>\n",
       "    </tr>\n",
       "    <tr>\n",
       "      <th>3570905</th>\n",
       "      <td>Aguascalientes</td>\n",
       "      <td>Aguascalientes Norte</td>\n",
       "      <td>Aguascalientes</td>\n",
       "      <td>Aguascalientes</td>\n",
       "      <td>Agricultura, ganadería, silvicultura, pesca y ...</td>\n",
       "      <td>Ganadería</td>\n",
       "      <td>Cría y explotación de ganado y otras clases de...</td>\n",
       "      <td>con 2 y hasta 5 puestos de trabajo</td>\n",
       "      <td>Hombre</td>\n",
       "      <td>Mayor o igual a 25 y menor a 30 años de edad</td>\n",
       "      <td>mayor a 1 y hasta 2 veces el salario mínimo</td>\n",
       "      <td>mayor a 1 y hasta 2 veces la UMA</td>\n",
       "      <td>base_tpc</td>\n",
       "      <td>138.363333</td>\n",
       "    </tr>\n",
       "    <tr>\n",
       "      <th>3575515</th>\n",
       "      <td>Coahuila</td>\n",
       "      <td>Torreón</td>\n",
       "      <td>Coahuila de Zaragoza</td>\n",
       "      <td>Viesca</td>\n",
       "      <td>Agricultura, ganadería, silvicultura, pesca y ...</td>\n",
       "      <td>Agricultura</td>\n",
       "      <td>Agricultura</td>\n",
       "      <td>con más de 1,000 puestos de trabajo</td>\n",
       "      <td>Hombre</td>\n",
       "      <td>Mayor o igual a 30 y menor a 35 años de edad</td>\n",
       "      <td>mayor a 4 y hasta 5 veces el salario mínimo</td>\n",
       "      <td>mayor a 6 y hasta 7 veces la UMA</td>\n",
       "      <td>base_tpc</td>\n",
       "      <td>582.960000</td>\n",
       "    </tr>\n",
       "  </tbody>\n",
       "</table>\n",
       "</div>"
      ],
      "text/plain": [
       "         cve_delegacion     cve_subdelegacion           cve_entidad  \\\n",
       "2342964          Oaxaca                Oaxaca                Oaxaca   \n",
       "2006844         Morelos            Cuernavaca               Morelos   \n",
       "3570905  Aguascalientes  Aguascalientes Norte        Aguascalientes   \n",
       "3575515        Coahuila               Torreón  Coahuila de Zaragoza   \n",
       "\n",
       "            cve_municipio                                 sector_economico_1  \\\n",
       "2342964  Oaxaca de Juárez                       Industrias de transformación   \n",
       "2006844          Jiutepec                       Industrias de transformación   \n",
       "3570905    Aguascalientes  Agricultura, ganadería, silvicultura, pesca y ...   \n",
       "3575515            Viesca  Agricultura, ganadería, silvicultura, pesca y ...   \n",
       "\n",
       "               sector_economico_2  \\\n",
       "2342964  Fabricación de alimentos   \n",
       "2006844  Fabricación de alimentos   \n",
       "3570905                 Ganadería   \n",
       "3575515               Agricultura   \n",
       "\n",
       "                                        sector_economico_4  \\\n",
       "2342964  Elaboración y preparación de productos aliment...   \n",
       "2006844  Elaboración, preparación, envasado y/o empacad...   \n",
       "3570905  Cría y explotación de ganado y otras clases de...   \n",
       "3575515                                        Agricultura   \n",
       "\n",
       "                                  tamaño_patron    sexo  \\\n",
       "2342964     con 6 y hasta 50 puestos de trabajo  Hombre   \n",
       "2006844  con 251 y hasta 500 puestos de trabajo   Mujer   \n",
       "3570905      con 2 y hasta 5 puestos de trabajo  Hombre   \n",
       "3575515     con más de 1,000 puestos de trabajo  Hombre   \n",
       "\n",
       "                                           rango_edad  \\\n",
       "2342964  Mayor o igual a 30 y menor a 35 años de edad   \n",
       "2006844  Mayor o igual a 40 y menor a 45 años de edad   \n",
       "3570905  Mayor o igual a 25 y menor a 30 años de edad   \n",
       "3575515  Mayor o igual a 30 y menor a 35 años de edad   \n",
       "\n",
       "                                       rango_salarial  \\\n",
       "2342964   mayor a 1 y hasta 2 veces el salario mínimo   \n",
       "2006844   mayor a 4 y hasta 5 veces el salario mínimo   \n",
       "3570905   mayor a 1 y hasta 2 veces el salario mínimo   \n",
       "3575515   mayor a 4 y hasta 5 veces el salario mínimo   \n",
       "\n",
       "                                 rango_uma      Tipo  Tarifa_base  \n",
       "2342964   mayor a 1 y hasta 2 veces la UMA  base_tpu   134.395000  \n",
       "2006844   mayor a 5 y hasta 6 veces la UMA  base_tpu   501.360000  \n",
       "3570905   mayor a 1 y hasta 2 veces la UMA  base_tpc   138.363333  \n",
       "3575515   mayor a 6 y hasta 7 veces la UMA  base_tpc   582.960000  "
      ]
     },
     "execution_count": 104,
     "metadata": {},
     "output_type": "execute_result"
    }
   ],
   "source": [
    "## Se quiere evaluar la tarifa base por cotización por tipo y tiempo de puesto \n",
    "## Mantenemos todas las columnas de dimensión\n",
    "\n",
    "colum = data.iloc[:,0:12].columns\n",
    "\n",
    "## Guardamos sólo las variables con tarifa base de cotización\n",
    "tarifa = [col for col in data.columns if col.startswith('base')][1:]\n",
    "\n",
    "## Cambiamos la forma de la tabla\n",
    "ajustada = pd.melt(data,\n",
    "                   id_vars = colum,\n",
    "                   value_vars = tarifa,\n",
    "                   var_name = \"Tipo\",\n",
    "                   value_name = \"Tarifa_base\")\n",
    "\n",
    "## Eliminamos las tarifas base de cotización igual a cero, no hay asegurados de ese tipo\n",
    "ajustada = ajustada[ajustada['Tarifa_base'] > 0].copy()\n",
    "ajustada.reset_index(drop = True, inplace = True)\n",
    "ajustada.sample(4)"
   ]
  },
  {
   "cell_type": "code",
   "execution_count": 106,
   "metadata": {
    "ExecuteTime": {
     "end_time": "2020-10-06T17:29:26.980522Z",
     "start_time": "2020-10-06T17:29:25.214909Z"
    }
   },
   "outputs": [
    {
     "data": {
      "text/plain": [
       "1124036    tpu\n",
       "2386900    tpu\n",
       "1551391    tpu\n",
       "3070218    tpu\n",
       "Name: Tipo, dtype: object"
      ]
     },
     "execution_count": 106,
     "metadata": {},
     "output_type": "execute_result"
    }
   ],
   "source": [
    "## Si queremos conocer la cantidad de puestos, se procede con un truquito\n",
    "ajustada['Tipo'] = [x.strip('base_') for x in ajustada['Tipo']]\n",
    "ajustada['Tipo'].sample(4)"
   ]
  },
  {
   "cell_type": "code",
   "execution_count": 107,
   "metadata": {
    "ExecuteTime": {
     "end_time": "2020-10-06T17:31:47.554217Z",
     "start_time": "2020-10-06T17:29:26.983815Z"
    }
   },
   "outputs": [
    {
     "data": {
      "text/html": [
       "<div>\n",
       "<style scoped>\n",
       "    .dataframe tbody tr th:only-of-type {\n",
       "        vertical-align: middle;\n",
       "    }\n",
       "\n",
       "    .dataframe tbody tr th {\n",
       "        vertical-align: top;\n",
       "    }\n",
       "\n",
       "    .dataframe thead th {\n",
       "        text-align: right;\n",
       "    }\n",
       "</style>\n",
       "<table border=\"1\" class=\"dataframe\">\n",
       "  <thead>\n",
       "    <tr style=\"text-align: right;\">\n",
       "      <th></th>\n",
       "      <th>cve_delegacion</th>\n",
       "      <th>cve_subdelegacion</th>\n",
       "      <th>cve_entidad</th>\n",
       "      <th>cve_municipio</th>\n",
       "      <th>sector_economico_1</th>\n",
       "      <th>sector_economico_2</th>\n",
       "      <th>sector_economico_4</th>\n",
       "      <th>tamaño_patron</th>\n",
       "      <th>sexo</th>\n",
       "      <th>rango_edad</th>\n",
       "      <th>rango_salarial</th>\n",
       "      <th>rango_uma</th>\n",
       "      <th>Tipo</th>\n",
       "      <th>Asegurados</th>\n",
       "    </tr>\n",
       "  </thead>\n",
       "  <tbody>\n",
       "    <tr>\n",
       "      <th>1390694</th>\n",
       "      <td>Jalisco</td>\n",
       "      <td>Hidalgo</td>\n",
       "      <td>Jalisco</td>\n",
       "      <td>Zapopan</td>\n",
       "      <td>Comercio</td>\n",
       "      <td>Compraventa de alimentos, bebidas y productos ...</td>\n",
       "      <td>Compraventa de alimentos, bebidas y/o producto...</td>\n",
       "      <td>con 51 y hasta 250 puestos de trabajo</td>\n",
       "      <td>Hombre</td>\n",
       "      <td>Mayor o igual a 35 y menor a 40 años de edad</td>\n",
       "      <td>mayor a 8 y hasta 9 veces el salario mínimo</td>\n",
       "      <td>mayor a 12 y hasta 13 veces la UMA</td>\n",
       "      <td>tpu</td>\n",
       "      <td>2</td>\n",
       "    </tr>\n",
       "    <tr>\n",
       "      <th>859976</th>\n",
       "      <td>Colima</td>\n",
       "      <td>Colima</td>\n",
       "      <td>Colima</td>\n",
       "      <td>Colima</td>\n",
       "      <td>Servicios para empresas, personas y el hogar</td>\n",
       "      <td>Servicios recreativos y de esparcimiento      ...</td>\n",
       "      <td>Servicios recreativos</td>\n",
       "      <td>con 6 y hasta 50 puestos de trabajo</td>\n",
       "      <td>Hombre</td>\n",
       "      <td>Mayor o igual a 30 y menor a 35 años de edad</td>\n",
       "      <td>mayor a 1 y hasta 2 veces el salario mínimo</td>\n",
       "      <td>mayor a 1 y hasta 2 veces la UMA</td>\n",
       "      <td>tpu</td>\n",
       "      <td>3</td>\n",
       "    </tr>\n",
       "    <tr>\n",
       "      <th>467541</th>\n",
       "      <td>Ciudad de México Sur</td>\n",
       "      <td>San Ángel</td>\n",
       "      <td>Ciudad de México</td>\n",
       "      <td>CDMX</td>\n",
       "      <td>Industrias de transformación</td>\n",
       "      <td>Otras industrias manufactureras               ...</td>\n",
       "      <td>Fabricación, ensamble y/o reparación de equipo...</td>\n",
       "      <td>con 51 y hasta 250 puestos de trabajo</td>\n",
       "      <td>Mujer</td>\n",
       "      <td>Mayor o igual a 30 y menor a 35 años de edad</td>\n",
       "      <td>mayor a 1 y hasta 2 veces el salario mínimo</td>\n",
       "      <td>mayor a 2 y hasta 3 veces la UMA</td>\n",
       "      <td>teu</td>\n",
       "      <td>2</td>\n",
       "    </tr>\n",
       "    <tr>\n",
       "      <th>1497133</th>\n",
       "      <td>Jalisco</td>\n",
       "      <td>Libertad Reforma</td>\n",
       "      <td>Jalisco</td>\n",
       "      <td>Tonalá</td>\n",
       "      <td>Industrias de transformación</td>\n",
       "      <td>Fabricación de alimentos</td>\n",
       "      <td>Elaboración de productos a base de cereales</td>\n",
       "      <td>con 51 y hasta 250 puestos de trabajo</td>\n",
       "      <td>Mujer</td>\n",
       "      <td>Mayor o igual a 15 y menor a 20 años de edad</td>\n",
       "      <td>mayor a 1 y hasta 2 veces el salario mínimo</td>\n",
       "      <td>mayor a 1 y hasta 2 veces la UMA</td>\n",
       "      <td>tpu</td>\n",
       "      <td>3</td>\n",
       "    </tr>\n",
       "  </tbody>\n",
       "</table>\n",
       "</div>"
      ],
      "text/plain": [
       "                cve_delegacion cve_subdelegacion       cve_entidad  \\\n",
       "1390694                Jalisco           Hidalgo           Jalisco   \n",
       "859976                  Colima            Colima            Colima   \n",
       "467541   Ciudad de México Sur          San Ángel  Ciudad de México   \n",
       "1497133                Jalisco  Libertad Reforma           Jalisco   \n",
       "\n",
       "        cve_municipio                            sector_economico_1  \\\n",
       "1390694       Zapopan                                      Comercio   \n",
       "859976         Colima  Servicios para empresas, personas y el hogar   \n",
       "467541           CDMX                  Industrias de transformación   \n",
       "1497133        Tonalá                  Industrias de transformación   \n",
       "\n",
       "                                        sector_economico_2  \\\n",
       "1390694  Compraventa de alimentos, bebidas y productos ...   \n",
       "859976   Servicios recreativos y de esparcimiento      ...   \n",
       "467541   Otras industrias manufactureras               ...   \n",
       "1497133                           Fabricación de alimentos   \n",
       "\n",
       "                                        sector_economico_4  \\\n",
       "1390694  Compraventa de alimentos, bebidas y/o producto...   \n",
       "859976                               Servicios recreativos   \n",
       "467541   Fabricación, ensamble y/o reparación de equipo...   \n",
       "1497133        Elaboración de productos a base de cereales   \n",
       "\n",
       "                                 tamaño_patron    sexo  \\\n",
       "1390694  con 51 y hasta 250 puestos de trabajo  Hombre   \n",
       "859976     con 6 y hasta 50 puestos de trabajo  Hombre   \n",
       "467541   con 51 y hasta 250 puestos de trabajo   Mujer   \n",
       "1497133  con 51 y hasta 250 puestos de trabajo   Mujer   \n",
       "\n",
       "                                           rango_edad  \\\n",
       "1390694  Mayor o igual a 35 y menor a 40 años de edad   \n",
       "859976   Mayor o igual a 30 y menor a 35 años de edad   \n",
       "467541   Mayor o igual a 30 y menor a 35 años de edad   \n",
       "1497133  Mayor o igual a 15 y menor a 20 años de edad   \n",
       "\n",
       "                                       rango_salarial  \\\n",
       "1390694   mayor a 8 y hasta 9 veces el salario mínimo   \n",
       "859976    mayor a 1 y hasta 2 veces el salario mínimo   \n",
       "467541    mayor a 1 y hasta 2 veces el salario mínimo   \n",
       "1497133   mayor a 1 y hasta 2 veces el salario mínimo   \n",
       "\n",
       "                                   rango_uma Tipo  Asegurados  \n",
       "1390694   mayor a 12 y hasta 13 veces la UMA  tpu           2  \n",
       "859976      mayor a 1 y hasta 2 veces la UMA  tpu           3  \n",
       "467541      mayor a 2 y hasta 3 veces la UMA  teu           2  \n",
       "1497133     mayor a 1 y hasta 2 veces la UMA  tpu           3  "
      ]
     },
     "execution_count": 107,
     "metadata": {},
     "output_type": "execute_result"
    }
   ],
   "source": [
    "## Guardamos sólo las variables con cantidad de asegurados\n",
    "asegurados = [col for col in data.columns if col.startswith('t')][2:6]\n",
    "\n",
    "## Cambiamos la forma de la tabla, con misma tabla datailiar y mismas columnas\n",
    "ajustada2 = pd.melt(data,\n",
    "                   id_vars = colum,\n",
    "                   value_vars = asegurados,\n",
    "                   var_name = \"Tipo\",\n",
    "                   value_name = \"Asegurados\")\n",
    "\n",
    "## Eliminamos las tarifas base de cotización igual a cero, no hay asegurados de ese tipo\n",
    "ajustada2 = ajustada2[ajustada2['Asegurados'] > 0].copy()\n",
    "ajustada2.reset_index(drop = True, inplace = True)\n",
    "ajustada2.sample(4)"
   ]
  },
  {
   "cell_type": "code",
   "execution_count": 108,
   "metadata": {
    "ExecuteTime": {
     "end_time": "2020-10-06T17:32:05.678719Z",
     "start_time": "2020-10-06T17:31:47.567148Z"
    },
    "scrolled": true
   },
   "outputs": [
    {
     "data": {
      "text/html": [
       "<div>\n",
       "<style scoped>\n",
       "    .dataframe tbody tr th:only-of-type {\n",
       "        vertical-align: middle;\n",
       "    }\n",
       "\n",
       "    .dataframe tbody tr th {\n",
       "        vertical-align: top;\n",
       "    }\n",
       "\n",
       "    .dataframe thead th {\n",
       "        text-align: right;\n",
       "    }\n",
       "</style>\n",
       "<table border=\"1\" class=\"dataframe\">\n",
       "  <thead>\n",
       "    <tr style=\"text-align: right;\">\n",
       "      <th></th>\n",
       "      <th>cve_delegacion</th>\n",
       "      <th>cve_subdelegacion</th>\n",
       "      <th>cve_entidad</th>\n",
       "      <th>cve_municipio</th>\n",
       "      <th>sector_economico_1</th>\n",
       "      <th>sector_economico_2</th>\n",
       "      <th>sector_economico_4</th>\n",
       "      <th>tamaño_patron</th>\n",
       "      <th>sexo</th>\n",
       "      <th>rango_edad</th>\n",
       "      <th>rango_salarial</th>\n",
       "      <th>rango_uma</th>\n",
       "      <th>Tipo</th>\n",
       "      <th>Tarifa_base</th>\n",
       "      <th>Asegurados</th>\n",
       "      <th>Masa</th>\n",
       "    </tr>\n",
       "  </thead>\n",
       "  <tbody>\n",
       "    <tr>\n",
       "      <th>494189</th>\n",
       "      <td>Ciudad de México Sur</td>\n",
       "      <td>Churubusco</td>\n",
       "      <td>Ciudad de México</td>\n",
       "      <td>CDMX</td>\n",
       "      <td>Servicios para empresas, personas y el hogar</td>\n",
       "      <td>Servicios colaterales a las instituciones fina...</td>\n",
       "      <td>Servicios colaterales a las instituciones fina...</td>\n",
       "      <td>con 6 y hasta 50 puestos de trabajo</td>\n",
       "      <td>Mujer</td>\n",
       "      <td>Mayor o igual a 35 y menor a 40 años de edad</td>\n",
       "      <td>mayor a 1 y hasta 2 veces el salario mínimo</td>\n",
       "      <td>mayor a 1 y hasta 2 veces la UMA</td>\n",
       "      <td>teu</td>\n",
       "      <td>128.79</td>\n",
       "      <td>1</td>\n",
       "      <td>128.79</td>\n",
       "    </tr>\n",
       "    <tr>\n",
       "      <th>2292835</th>\n",
       "      <td>Nuevo León</td>\n",
       "      <td>Noreste</td>\n",
       "      <td>Nuevo León</td>\n",
       "      <td>Monterrey</td>\n",
       "      <td>Servicios para empresas, personas y el hogar</td>\n",
       "      <td>Servicios profesionales y técnicos            ...</td>\n",
       "      <td>Servicios de protección y custodia</td>\n",
       "      <td>con 51 y hasta 250 puestos de trabajo</td>\n",
       "      <td>Hombre</td>\n",
       "      <td>Mayor o igual a 25 y menor a 30 años de edad</td>\n",
       "      <td>mayor a 5 y hasta 6 veces el salario mínimo</td>\n",
       "      <td>mayor a 8 y hasta 9 veces la UMA</td>\n",
       "      <td>tpu</td>\n",
       "      <td>739.12</td>\n",
       "      <td>1</td>\n",
       "      <td>739.12</td>\n",
       "    </tr>\n",
       "    <tr>\n",
       "      <th>1809749</th>\n",
       "      <td>Estado de México Oriente</td>\n",
       "      <td>Tlanepantla de Baz</td>\n",
       "      <td>Estado México</td>\n",
       "      <td>Cuautitlán Izcalli</td>\n",
       "      <td>Transportes y comunicaciones</td>\n",
       "      <td>Servicios relacionados con el transporte en ge...</td>\n",
       "      <td>Servicios de almacenamiento y/o refrigeración</td>\n",
       "      <td>con 251 y hasta 500 puestos de trabajo</td>\n",
       "      <td>Hombre</td>\n",
       "      <td>Mayor o igual a 25 y menor a 30 años de edad</td>\n",
       "      <td>mayor a 6 y hasta 7 veces el salario mínimo</td>\n",
       "      <td>mayor a 8 y hasta 9 veces la UMA</td>\n",
       "      <td>tpu</td>\n",
       "      <td>753.40</td>\n",
       "      <td>3</td>\n",
       "      <td>2260.20</td>\n",
       "    </tr>\n",
       "    <tr>\n",
       "      <th>1640478</th>\n",
       "      <td>Jalisco</td>\n",
       "      <td>Juárez</td>\n",
       "      <td>Jalisco</td>\n",
       "      <td>Guadalajara</td>\n",
       "      <td>Servicios para empresas, personas y el hogar</td>\n",
       "      <td>Preparación y servicio de alimentos y bebidas ...</td>\n",
       "      <td>Preparación y servicio de alimentos</td>\n",
       "      <td>con 2 y hasta 5 puestos de trabajo</td>\n",
       "      <td>Mujer</td>\n",
       "      <td>Mayor o igual a 55 y menor a 60 años de edad</td>\n",
       "      <td>mayor a 1 y hasta 2 veces el salario mínimo</td>\n",
       "      <td>mayor a 1 y hasta 2 veces la UMA</td>\n",
       "      <td>tpu</td>\n",
       "      <td>148.41</td>\n",
       "      <td>2</td>\n",
       "      <td>296.82</td>\n",
       "    </tr>\n",
       "  </tbody>\n",
       "</table>\n",
       "</div>"
      ],
      "text/plain": [
       "                   cve_delegacion   cve_subdelegacion       cve_entidad  \\\n",
       "494189      Ciudad de México Sur           Churubusco  Ciudad de México   \n",
       "2292835                Nuevo León            Noreste         Nuevo León   \n",
       "1809749  Estado de México Oriente  Tlanepantla de Baz     Estado México   \n",
       "1640478                   Jalisco              Juárez           Jalisco   \n",
       "\n",
       "              cve_municipio                            sector_economico_1  \\\n",
       "494189                 CDMX  Servicios para empresas, personas y el hogar   \n",
       "2292835           Monterrey  Servicios para empresas, personas y el hogar   \n",
       "1809749  Cuautitlán Izcalli                  Transportes y comunicaciones   \n",
       "1640478         Guadalajara  Servicios para empresas, personas y el hogar   \n",
       "\n",
       "                                        sector_economico_2  \\\n",
       "494189   Servicios colaterales a las instituciones fina...   \n",
       "2292835  Servicios profesionales y técnicos            ...   \n",
       "1809749  Servicios relacionados con el transporte en ge...   \n",
       "1640478  Preparación y servicio de alimentos y bebidas ...   \n",
       "\n",
       "                                        sector_economico_4  \\\n",
       "494189   Servicios colaterales a las instituciones fina...   \n",
       "2292835                 Servicios de protección y custodia   \n",
       "1809749      Servicios de almacenamiento y/o refrigeración   \n",
       "1640478                Preparación y servicio de alimentos   \n",
       "\n",
       "                                  tamaño_patron    sexo  \\\n",
       "494189      con 6 y hasta 50 puestos de trabajo   Mujer   \n",
       "2292835   con 51 y hasta 250 puestos de trabajo  Hombre   \n",
       "1809749  con 251 y hasta 500 puestos de trabajo  Hombre   \n",
       "1640478      con 2 y hasta 5 puestos de trabajo   Mujer   \n",
       "\n",
       "                                           rango_edad  \\\n",
       "494189   Mayor o igual a 35 y menor a 40 años de edad   \n",
       "2292835  Mayor o igual a 25 y menor a 30 años de edad   \n",
       "1809749  Mayor o igual a 25 y menor a 30 años de edad   \n",
       "1640478  Mayor o igual a 55 y menor a 60 años de edad   \n",
       "\n",
       "                                       rango_salarial  \\\n",
       "494189    mayor a 1 y hasta 2 veces el salario mínimo   \n",
       "2292835   mayor a 5 y hasta 6 veces el salario mínimo   \n",
       "1809749   mayor a 6 y hasta 7 veces el salario mínimo   \n",
       "1640478   mayor a 1 y hasta 2 veces el salario mínimo   \n",
       "\n",
       "                                 rango_uma Tipo  Tarifa_base  Asegurados  \\\n",
       "494189    mayor a 1 y hasta 2 veces la UMA  teu       128.79           1   \n",
       "2292835   mayor a 8 y hasta 9 veces la UMA  tpu       739.12           1   \n",
       "1809749   mayor a 8 y hasta 9 veces la UMA  tpu       753.40           3   \n",
       "1640478   mayor a 1 y hasta 2 veces la UMA  tpu       148.41           2   \n",
       "\n",
       "            Masa  \n",
       "494189    128.79  \n",
       "2292835   739.12  \n",
       "1809749  2260.20  \n",
       "1640478   296.82  "
      ]
     },
     "execution_count": 108,
     "metadata": {},
     "output_type": "execute_result"
    }
   ],
   "source": [
    "## Unimos las dos tablas (con el truquito de cambiar nombres, así \"creamos\" la llave)\n",
    "## para tener cantidad de asegurados y tarifa base en la misma estructura\n",
    "ajustada = pd.merge(ajustada, ajustada2,\n",
    "        on = list(ajustada.iloc[:,:-1].columns),\n",
    "        how = 'outer')\n",
    "\n",
    "## Incluso podemos calcular la masa salarial\n",
    "ajustada['Masa'] = ajustada['Tarifa_base'] * ajustada['Asegurados']\n",
    "\n",
    "ajustada.sample(4)"
   ]
  },
  {
   "cell_type": "code",
   "execution_count": 109,
   "metadata": {
    "ExecuteTime": {
     "end_time": "2020-10-06T17:32:11.765934Z",
     "start_time": "2020-10-06T17:32:05.688861Z"
    }
   },
   "outputs": [
    {
     "data": {
      "text/plain": [
       "Urbano-Permanente    0.850878\n",
       "Urbano-Eventual      0.131482\n",
       "Campo-Permanente     0.012431\n",
       "Campo-Eventual       0.005209\n",
       "Name: Tipo_tiempo, dtype: float64"
      ]
     },
     "execution_count": 109,
     "metadata": {},
     "output_type": "execute_result"
    }
   ],
   "source": [
    "## La columna Tipo puede separarse en dos para distinguir si el puesto es:\n",
    "## permanente o eventual y urbano o del campo\n",
    "ajustada['Tipo'] = [x.strip('t') for x in ajustada['Tipo']]\n",
    "\n",
    "aux1 = []\n",
    "aux2 = []\n",
    "for x in ajustada['Tipo']:\n",
    "    if x.startswith('e'):\n",
    "        aux1.append('Eventual')\n",
    "        if x.endswith('u'):\n",
    "            aux2.append('Urbano')\n",
    "        else:\n",
    "            aux2.append('Campo')\n",
    "    else:\n",
    "        aux1.append('Permanente')\n",
    "        if x.endswith('u'):\n",
    "            aux2.append('Urbano')\n",
    "        else:\n",
    "            aux2.append('Campo')\n",
    "\n",
    "ajustada['Tiempo'] = aux1\n",
    "ajustada['Tipo'] = aux2\n",
    "\n",
    "ajustada['Tipo_tiempo'] = ajustada['Tipo'] + \"-\" + ajustada['Tiempo']\n",
    "\n",
    "ajustada['Tipo_tiempo'].value_counts(normalize = True)       "
   ]
  },
  {
   "cell_type": "markdown",
   "metadata": {},
   "source": [
    "## Inteligencia de negocio"
   ]
  },
  {
   "cell_type": "markdown",
   "metadata": {},
   "source": [
    "### Heatmap"
   ]
  },
  {
   "cell_type": "code",
   "execution_count": 110,
   "metadata": {
    "ExecuteTime": {
     "end_time": "2020-10-06T17:32:13.594672Z",
     "start_time": "2020-10-06T17:32:11.772377Z"
    }
   },
   "outputs": [
    {
     "data": {
      "text/html": [
       "<div>\n",
       "<style scoped>\n",
       "    .dataframe tbody tr th:only-of-type {\n",
       "        vertical-align: middle;\n",
       "    }\n",
       "\n",
       "    .dataframe tbody tr th {\n",
       "        vertical-align: top;\n",
       "    }\n",
       "\n",
       "    .dataframe thead th {\n",
       "        text-align: right;\n",
       "    }\n",
       "</style>\n",
       "<table border=\"1\" class=\"dataframe\">\n",
       "  <thead>\n",
       "    <tr style=\"text-align: right;\">\n",
       "      <th></th>\n",
       "      <th></th>\n",
       "      <th>Tarifa_base</th>\n",
       "    </tr>\n",
       "    <tr>\n",
       "      <th>cve_entidad</th>\n",
       "      <th>sector_economico_1</th>\n",
       "      <th></th>\n",
       "    </tr>\n",
       "  </thead>\n",
       "  <tbody>\n",
       "    <tr>\n",
       "      <th rowspan=\"5\" valign=\"top\">Aguascalientes</th>\n",
       "      <th>Agricultura, ganadería, silvicultura, pesca y caza</th>\n",
       "      <td>247.348498</td>\n",
       "    </tr>\n",
       "    <tr>\n",
       "      <th>Comercio</th>\n",
       "      <td>337.016855</td>\n",
       "    </tr>\n",
       "    <tr>\n",
       "      <th>Industria de la construcción</th>\n",
       "      <td>313.391100</td>\n",
       "    </tr>\n",
       "    <tr>\n",
       "      <th>Industria eléctrica, y captación y suministro de agua potable</th>\n",
       "      <td>720.312682</td>\n",
       "    </tr>\n",
       "    <tr>\n",
       "      <th>Industrias de transformación</th>\n",
       "      <td>382.539198</td>\n",
       "    </tr>\n",
       "    <tr>\n",
       "      <th>...</th>\n",
       "      <th>...</th>\n",
       "      <td>...</td>\n",
       "    </tr>\n",
       "    <tr>\n",
       "      <th rowspan=\"5\" valign=\"top\">Zacatecas</th>\n",
       "      <th>Industrias de transformación</th>\n",
       "      <td>313.099960</td>\n",
       "    </tr>\n",
       "    <tr>\n",
       "      <th>Industrias extractivas</th>\n",
       "      <td>560.078517</td>\n",
       "    </tr>\n",
       "    <tr>\n",
       "      <th>Servicios para empresas, personas y el hogar</th>\n",
       "      <td>280.366772</td>\n",
       "    </tr>\n",
       "    <tr>\n",
       "      <th>Servicios sociales y comunales</th>\n",
       "      <td>395.634246</td>\n",
       "    </tr>\n",
       "    <tr>\n",
       "      <th>Transportes y comunicaciones</th>\n",
       "      <td>293.371963</td>\n",
       "    </tr>\n",
       "  </tbody>\n",
       "</table>\n",
       "<p>288 rows × 1 columns</p>\n",
       "</div>"
      ],
      "text/plain": [
       "                                                                   Tarifa_base\n",
       "cve_entidad    sector_economico_1                                             \n",
       "Aguascalientes Agricultura, ganadería, silvicultura, pesca y caza   247.348498\n",
       "               Comercio                                             337.016855\n",
       "               Industria de la construcción                         313.391100\n",
       "               Industria eléctrica, y captación y suministro d...   720.312682\n",
       "               Industrias de transformación                         382.539198\n",
       "...                                                                        ...\n",
       "Zacatecas      Industrias de transformación                         313.099960\n",
       "               Industrias extractivas                               560.078517\n",
       "               Servicios para empresas, personas y el hogar         280.366772\n",
       "               Servicios sociales y comunales                       395.634246\n",
       "               Transportes y comunicaciones                         293.371963\n",
       "\n",
       "[288 rows x 1 columns]"
      ]
     },
     "execution_count": 110,
     "metadata": {},
     "output_type": "execute_result"
    }
   ],
   "source": [
    "## ¿Qué tan alta es la tarifa base de cotización entre estados y sectores?\n",
    "heat = ajustada.groupby(['cve_entidad', 'sector_economico_1']).agg({'Tarifa_base':'mean'}).copy()\n",
    "heat"
   ]
  },
  {
   "cell_type": "code",
   "execution_count": 111,
   "metadata": {
    "ExecuteTime": {
     "end_time": "2020-10-06T17:32:15.619360Z",
     "start_time": "2020-10-06T17:32:13.601274Z"
    }
   },
   "outputs": [
    {
     "data": {
      "text/plain": [
       "<AxesSubplot:xlabel='None-cve_entidad', ylabel='sector_economico_1'>"
      ]
     },
     "execution_count": 111,
     "metadata": {},
     "output_type": "execute_result"
    },
    {
     "data": {
      "image/png": "[encoded data removed]",
      "text/plain": [
       "<Figure size 432x288 with 2 Axes>"
      ]
     },
     "metadata": {
      "needs_background": "light"
     },
     "output_type": "display_data"
    }
   ],
   "source": [
    "heat = heat.pivot_table(index = 'sector_economico_1',\n",
    "                columns = 'cve_entidad').copy()\n",
    "\n",
    "sns.heatmap(heat,\n",
    "            cmap = 'Blues')"
   ]
  },
  {
   "cell_type": "code",
   "execution_count": 112,
   "metadata": {
    "ExecuteTime": {
     "end_time": "2020-10-06T17:32:22.970300Z",
     "start_time": "2020-10-06T17:32:15.624966Z"
    }
   },
   "outputs": [
    {
     "data": {
      "text/plain": [
       "<AxesSubplot:xlabel='None-cve_entidad', ylabel='sector_economico_1'>"
      ]
     },
     "execution_count": 112,
     "metadata": {},
     "output_type": "execute_result"
    },
    {
     "data": {
      "image/png": "[encoded data removed]",
      "text/plain": [
       "<Figure size 432x288 with 2 Axes>"
      ]
     },
     "metadata": {
      "needs_background": "light"
     },
     "output_type": "display_data"
    }
   ],
   "source": [
    "## Si omitimos la industria eléctrica por ser tan alta?\n",
    "heat = ajustada[ajustada['sector_economico_1'] != 'Industria eléctrica, y captación y suministro de agua potable'].groupby(['cve_entidad', 'sector_economico_1']).agg({'Tarifa_base':'mean'}).copy()\n",
    "heat = heat.pivot_table(index = 'sector_economico_1',\n",
    "                columns = 'cve_entidad').copy()\n",
    "sns.heatmap(heat,\n",
    "            cmap = 'Blues')"
   ]
  },
  {
   "cell_type": "markdown",
   "metadata": {},
   "source": [
    "### Brecha salarial "
   ]
  },
  {
   "cell_type": "code",
   "execution_count": 113,
   "metadata": {
    "ExecuteTime": {
     "end_time": "2020-10-06T17:32:23.663301Z",
     "start_time": "2020-10-06T17:32:22.977702Z"
    }
   },
   "outputs": [
    {
     "data": {
      "text/html": [
       "<div>\n",
       "<style scoped>\n",
       "    .dataframe tbody tr th:only-of-type {\n",
       "        vertical-align: middle;\n",
       "    }\n",
       "\n",
       "    .dataframe tbody tr th {\n",
       "        vertical-align: top;\n",
       "    }\n",
       "\n",
       "    .dataframe thead th {\n",
       "        text-align: right;\n",
       "    }\n",
       "</style>\n",
       "<table border=\"1\" class=\"dataframe\">\n",
       "  <thead>\n",
       "    <tr style=\"text-align: right;\">\n",
       "      <th></th>\n",
       "      <th>index</th>\n",
       "      <th>rango_edad</th>\n",
       "    </tr>\n",
       "  </thead>\n",
       "  <tbody>\n",
       "    <tr>\n",
       "      <th>0</th>\n",
       "      <td>75 o más años de edad</td>\n",
       "      <td>16162</td>\n",
       "    </tr>\n",
       "    <tr>\n",
       "      <th>1</th>\n",
       "      <td>Mayor o igual a 15 y menor a 20 años de edad</td>\n",
       "      <td>94830</td>\n",
       "    </tr>\n",
       "    <tr>\n",
       "      <th>2</th>\n",
       "      <td>Mayor o igual a 20 y menor a 25 años de edad</td>\n",
       "      <td>299868</td>\n",
       "    </tr>\n",
       "    <tr>\n",
       "      <th>3</th>\n",
       "      <td>Mayor o igual a 25 y menor a 30 años de edad</td>\n",
       "      <td>470402</td>\n",
       "    </tr>\n",
       "    <tr>\n",
       "      <th>4</th>\n",
       "      <td>Mayor o igual a 30 y menor a 35 años de edad</td>\n",
       "      <td>516099</td>\n",
       "    </tr>\n",
       "    <tr>\n",
       "      <th>5</th>\n",
       "      <td>Mayor o igual a 35 y menor a 40 años de edad</td>\n",
       "      <td>507026</td>\n",
       "    </tr>\n",
       "    <tr>\n",
       "      <th>6</th>\n",
       "      <td>Mayor o igual a 40 y menor a 45 años de edad</td>\n",
       "      <td>477653</td>\n",
       "    </tr>\n",
       "    <tr>\n",
       "      <th>7</th>\n",
       "      <td>Mayor o igual a 45 y menor a 50 años de edad</td>\n",
       "      <td>452838</td>\n",
       "    </tr>\n",
       "    <tr>\n",
       "      <th>8</th>\n",
       "      <td>Mayor o igual a 50 y menor a 55 años de edad</td>\n",
       "      <td>387967</td>\n",
       "    </tr>\n",
       "    <tr>\n",
       "      <th>9</th>\n",
       "      <td>Mayor o igual a 55 y menor a 60 años de edad</td>\n",
       "      <td>324563</td>\n",
       "    </tr>\n",
       "    <tr>\n",
       "      <th>10</th>\n",
       "      <td>Mayor o igual a 60 y menor a 65 años de edad</td>\n",
       "      <td>178641</td>\n",
       "    </tr>\n",
       "    <tr>\n",
       "      <th>11</th>\n",
       "      <td>Mayor o igual a 65 y menor a 70 años de edad</td>\n",
       "      <td>69227</td>\n",
       "    </tr>\n",
       "    <tr>\n",
       "      <th>12</th>\n",
       "      <td>Mayor o igual a 70 y menor a 75 años de edad</td>\n",
       "      <td>27297</td>\n",
       "    </tr>\n",
       "    <tr>\n",
       "      <th>13</th>\n",
       "      <td>Menores de 15 años de edad</td>\n",
       "      <td>246</td>\n",
       "    </tr>\n",
       "  </tbody>\n",
       "</table>\n",
       "</div>"
      ],
      "text/plain": [
       "                                           index  rango_edad\n",
       "0                          75 o más años de edad       16162\n",
       "1   Mayor o igual a 15 y menor a 20 años de edad       94830\n",
       "2   Mayor o igual a 20 y menor a 25 años de edad      299868\n",
       "3   Mayor o igual a 25 y menor a 30 años de edad      470402\n",
       "4   Mayor o igual a 30 y menor a 35 años de edad      516099\n",
       "5   Mayor o igual a 35 y menor a 40 años de edad      507026\n",
       "6   Mayor o igual a 40 y menor a 45 años de edad      477653\n",
       "7   Mayor o igual a 45 y menor a 50 años de edad      452838\n",
       "8   Mayor o igual a 50 y menor a 55 años de edad      387967\n",
       "9   Mayor o igual a 55 y menor a 60 años de edad      324563\n",
       "10  Mayor o igual a 60 y menor a 65 años de edad      178641\n",
       "11  Mayor o igual a 65 y menor a 70 años de edad       69227\n",
       "12  Mayor o igual a 70 y menor a 75 años de edad       27297\n",
       "13                    Menores de 15 años de edad         246"
      ]
     },
     "execution_count": 113,
     "metadata": {},
     "output_type": "execute_result"
    }
   ],
   "source": [
    "## Tarifa base de cotización por sexo vs edad en sector servicios para el hogar\n",
    "\n",
    "##Primero, hay que convertir a numéricas las categorías de la edad\n",
    "aux = pd.DataFrame(ajustada['rango_edad'].value_counts().sort_index())\n",
    "aux.reset_index(inplace = True)\n",
    "aux"
   ]
  },
  {
   "cell_type": "code",
   "execution_count": 114,
   "metadata": {
    "ExecuteTime": {
     "end_time": "2020-10-06T17:32:23.696644Z",
     "start_time": "2020-10-06T17:32:23.668972Z"
    }
   },
   "outputs": [
    {
     "data": {
      "text/html": [
       "<div>\n",
       "<style scoped>\n",
       "    .dataframe tbody tr th:only-of-type {\n",
       "        vertical-align: middle;\n",
       "    }\n",
       "\n",
       "    .dataframe tbody tr th {\n",
       "        vertical-align: top;\n",
       "    }\n",
       "\n",
       "    .dataframe thead th {\n",
       "        text-align: right;\n",
       "    }\n",
       "</style>\n",
       "<table border=\"1\" class=\"dataframe\">\n",
       "  <thead>\n",
       "    <tr style=\"text-align: right;\">\n",
       "      <th></th>\n",
       "      <th>index</th>\n",
       "      <th>rango_edad</th>\n",
       "      <th>strip</th>\n",
       "    </tr>\n",
       "  </thead>\n",
       "  <tbody>\n",
       "    <tr>\n",
       "      <th>12</th>\n",
       "      <td>Mayor o igual a 70 y menor a 75 años de edad</td>\n",
       "      <td>27297</td>\n",
       "      <td>70 y menor a 75</td>\n",
       "    </tr>\n",
       "    <tr>\n",
       "      <th>5</th>\n",
       "      <td>Mayor o igual a 35 y menor a 40 años de edad</td>\n",
       "      <td>507026</td>\n",
       "      <td>35 y menor a 40</td>\n",
       "    </tr>\n",
       "    <tr>\n",
       "      <th>1</th>\n",
       "      <td>Mayor o igual a 15 y menor a 20 años de edad</td>\n",
       "      <td>94830</td>\n",
       "      <td>15 y menor a 20</td>\n",
       "    </tr>\n",
       "    <tr>\n",
       "      <th>9</th>\n",
       "      <td>Mayor o igual a 55 y menor a 60 años de edad</td>\n",
       "      <td>324563</td>\n",
       "      <td>55 y menor a 60</td>\n",
       "    </tr>\n",
       "  </tbody>\n",
       "</table>\n",
       "</div>"
      ],
      "text/plain": [
       "                                           index  rango_edad            strip\n",
       "12  Mayor o igual a 70 y menor a 75 años de edad       27297  70 y menor a 75\n",
       "5   Mayor o igual a 35 y menor a 40 años de edad      507026  35 y menor a 40\n",
       "1   Mayor o igual a 15 y menor a 20 años de edad       94830  15 y menor a 20\n",
       "9   Mayor o igual a 55 y menor a 60 años de edad      324563  55 y menor a 60"
      ]
     },
     "execution_count": 114,
     "metadata": {},
     "output_type": "execute_result"
    }
   ],
   "source": [
    "aux['strip'] = [x.strip('Mayor o igual años de edad') for x in aux['index']]\n",
    "aux.sample(4)"
   ]
  },
  {
   "cell_type": "code",
   "execution_count": 115,
   "metadata": {
    "ExecuteTime": {
     "end_time": "2020-10-06T17:32:23.772414Z",
     "start_time": "2020-10-06T17:32:23.704475Z"
    }
   },
   "outputs": [
    {
     "name": "stderr",
     "output_type": "stream",
     "text": [
      "<ipython-input-115-c78234cafe6f>:4: SettingWithCopyWarning: \n",
      "A value is trying to be set on a copy of a slice from a DataFrame\n",
      "\n",
      "See the caveats in the documentation: https://pandas.pydata.org/pandas-docs/stable/user_guide/indexing.html#returning-a-view-versus-a-copy\n",
      "  aux['ini'][13] = 0\n",
      "<ipython-input-115-c78234cafe6f>:5: SettingWithCopyWarning: \n",
      "A value is trying to be set on a copy of a slice from a DataFrame\n",
      "\n",
      "See the caveats in the documentation: https://pandas.pydata.org/pandas-docs/stable/user_guide/indexing.html#returning-a-view-versus-a-copy\n",
      "  aux['fin'][0] = 90\n",
      "<ipython-input-115-c78234cafe6f>:6: SettingWithCopyWarning: \n",
      "A value is trying to be set on a copy of a slice from a DataFrame\n",
      "\n",
      "See the caveats in the documentation: https://pandas.pydata.org/pandas-docs/stable/user_guide/indexing.html#returning-a-view-versus-a-copy\n",
      "  aux['fin'][13] = 15\n"
     ]
    },
    {
     "data": {
      "text/html": [
       "<div>\n",
       "<style scoped>\n",
       "    .dataframe tbody tr th:only-of-type {\n",
       "        vertical-align: middle;\n",
       "    }\n",
       "\n",
       "    .dataframe tbody tr th {\n",
       "        vertical-align: top;\n",
       "    }\n",
       "\n",
       "    .dataframe thead th {\n",
       "        text-align: right;\n",
       "    }\n",
       "</style>\n",
       "<table border=\"1\" class=\"dataframe\">\n",
       "  <thead>\n",
       "    <tr style=\"text-align: right;\">\n",
       "      <th></th>\n",
       "      <th>rango_edad</th>\n",
       "      <th>ini</th>\n",
       "      <th>fin</th>\n",
       "    </tr>\n",
       "  </thead>\n",
       "  <tbody>\n",
       "    <tr>\n",
       "      <th>0</th>\n",
       "      <td>75 o más años de edad</td>\n",
       "      <td>75</td>\n",
       "      <td>90</td>\n",
       "    </tr>\n",
       "    <tr>\n",
       "      <th>1</th>\n",
       "      <td>Mayor o igual a 15 y menor a 20 años de edad</td>\n",
       "      <td>15</td>\n",
       "      <td>20</td>\n",
       "    </tr>\n",
       "    <tr>\n",
       "      <th>2</th>\n",
       "      <td>Mayor o igual a 20 y menor a 25 años de edad</td>\n",
       "      <td>20</td>\n",
       "      <td>25</td>\n",
       "    </tr>\n",
       "    <tr>\n",
       "      <th>3</th>\n",
       "      <td>Mayor o igual a 25 y menor a 30 años de edad</td>\n",
       "      <td>25</td>\n",
       "      <td>30</td>\n",
       "    </tr>\n",
       "    <tr>\n",
       "      <th>4</th>\n",
       "      <td>Mayor o igual a 30 y menor a 35 años de edad</td>\n",
       "      <td>30</td>\n",
       "      <td>35</td>\n",
       "    </tr>\n",
       "    <tr>\n",
       "      <th>5</th>\n",
       "      <td>Mayor o igual a 35 y menor a 40 años de edad</td>\n",
       "      <td>35</td>\n",
       "      <td>40</td>\n",
       "    </tr>\n",
       "    <tr>\n",
       "      <th>6</th>\n",
       "      <td>Mayor o igual a 40 y menor a 45 años de edad</td>\n",
       "      <td>40</td>\n",
       "      <td>45</td>\n",
       "    </tr>\n",
       "    <tr>\n",
       "      <th>7</th>\n",
       "      <td>Mayor o igual a 45 y menor a 50 años de edad</td>\n",
       "      <td>45</td>\n",
       "      <td>50</td>\n",
       "    </tr>\n",
       "    <tr>\n",
       "      <th>8</th>\n",
       "      <td>Mayor o igual a 50 y menor a 55 años de edad</td>\n",
       "      <td>50</td>\n",
       "      <td>55</td>\n",
       "    </tr>\n",
       "    <tr>\n",
       "      <th>9</th>\n",
       "      <td>Mayor o igual a 55 y menor a 60 años de edad</td>\n",
       "      <td>55</td>\n",
       "      <td>60</td>\n",
       "    </tr>\n",
       "    <tr>\n",
       "      <th>10</th>\n",
       "      <td>Mayor o igual a 60 y menor a 65 años de edad</td>\n",
       "      <td>60</td>\n",
       "      <td>65</td>\n",
       "    </tr>\n",
       "    <tr>\n",
       "      <th>11</th>\n",
       "      <td>Mayor o igual a 65 y menor a 70 años de edad</td>\n",
       "      <td>65</td>\n",
       "      <td>70</td>\n",
       "    </tr>\n",
       "    <tr>\n",
       "      <th>12</th>\n",
       "      <td>Mayor o igual a 70 y menor a 75 años de edad</td>\n",
       "      <td>70</td>\n",
       "      <td>75</td>\n",
       "    </tr>\n",
       "    <tr>\n",
       "      <th>13</th>\n",
       "      <td>Menores de 15 años de edad</td>\n",
       "      <td>0</td>\n",
       "      <td>15</td>\n",
       "    </tr>\n",
       "  </tbody>\n",
       "</table>\n",
       "</div>"
      ],
      "text/plain": [
       "                                      rango_edad ini fin\n",
       "0                          75 o más años de edad  75  90\n",
       "1   Mayor o igual a 15 y menor a 20 años de edad  15  20\n",
       "2   Mayor o igual a 20 y menor a 25 años de edad  20  25\n",
       "3   Mayor o igual a 25 y menor a 30 años de edad  25  30\n",
       "4   Mayor o igual a 30 y menor a 35 años de edad  30  35\n",
       "5   Mayor o igual a 35 y menor a 40 años de edad  35  40\n",
       "6   Mayor o igual a 40 y menor a 45 años de edad  40  45\n",
       "7   Mayor o igual a 45 y menor a 50 años de edad  45  50\n",
       "8   Mayor o igual a 50 y menor a 55 años de edad  50  55\n",
       "9   Mayor o igual a 55 y menor a 60 años de edad  55  60\n",
       "10  Mayor o igual a 60 y menor a 65 años de edad  60  65\n",
       "11  Mayor o igual a 65 y menor a 70 años de edad  65  70\n",
       "12  Mayor o igual a 70 y menor a 75 años de edad  70  75\n",
       "13                    Menores de 15 años de edad   0  15"
      ]
     },
     "execution_count": 115,
     "metadata": {},
     "output_type": "execute_result"
    }
   ],
   "source": [
    "aux['ini'] = [x[:2] for x in aux['strip']]\n",
    "aux['fin'] = [x[13:] for x in aux['strip']]\n",
    "\n",
    "aux['ini'][13] = 0\n",
    "aux['fin'][0] = 90\n",
    "aux['fin'][13] = 15\n",
    "aux = aux[['index', 'ini', 'fin']].copy()\n",
    "aux.rename(columns = {'index':'rango_edad'}, inplace = True)\n",
    "aux"
   ]
  },
  {
   "cell_type": "code",
   "execution_count": 116,
   "metadata": {
    "ExecuteTime": {
     "end_time": "2020-10-06T17:32:39.824402Z",
     "start_time": "2020-10-06T17:32:23.779399Z"
    }
   },
   "outputs": [
    {
     "data": {
      "text/html": [
       "<div>\n",
       "<style scoped>\n",
       "    .dataframe tbody tr th:only-of-type {\n",
       "        vertical-align: middle;\n",
       "    }\n",
       "\n",
       "    .dataframe tbody tr th {\n",
       "        vertical-align: top;\n",
       "    }\n",
       "\n",
       "    .dataframe thead th {\n",
       "        text-align: right;\n",
       "    }\n",
       "</style>\n",
       "<table border=\"1\" class=\"dataframe\">\n",
       "  <thead>\n",
       "    <tr style=\"text-align: right;\">\n",
       "      <th></th>\n",
       "      <th>rango_edad</th>\n",
       "      <th>ini</th>\n",
       "      <th>fin</th>\n",
       "    </tr>\n",
       "  </thead>\n",
       "  <tbody>\n",
       "    <tr>\n",
       "      <th>3144555</th>\n",
       "      <td>Mayor o igual a 20 y menor a 25 años de edad</td>\n",
       "      <td>20</td>\n",
       "      <td>25</td>\n",
       "    </tr>\n",
       "    <tr>\n",
       "      <th>2590741</th>\n",
       "      <td>Mayor o igual a 30 y menor a 35 años de edad</td>\n",
       "      <td>30</td>\n",
       "      <td>35</td>\n",
       "    </tr>\n",
       "    <tr>\n",
       "      <th>1940182</th>\n",
       "      <td>Mayor o igual a 70 y menor a 75 años de edad</td>\n",
       "      <td>70</td>\n",
       "      <td>75</td>\n",
       "    </tr>\n",
       "    <tr>\n",
       "      <th>556668</th>\n",
       "      <td>Mayor o igual a 20 y menor a 25 años de edad</td>\n",
       "      <td>20</td>\n",
       "      <td>25</td>\n",
       "    </tr>\n",
       "  </tbody>\n",
       "</table>\n",
       "</div>"
      ],
      "text/plain": [
       "                                           rango_edad  ini  fin\n",
       "3144555  Mayor o igual a 20 y menor a 25 años de edad   20   25\n",
       "2590741  Mayor o igual a 30 y menor a 35 años de edad   30   35\n",
       "1940182  Mayor o igual a 70 y menor a 75 años de edad   70   75\n",
       "556668   Mayor o igual a 20 y menor a 25 años de edad   20   25"
      ]
     },
     "execution_count": 116,
     "metadata": {},
     "output_type": "execute_result"
    }
   ],
   "source": [
    "## Ya que tenemos en este formato el rango de edad por registro,...\n",
    "ajustada = pd.merge(ajustada, aux,\n",
    "                   on = 'rango_edad',\n",
    "                   how = 'left')\n",
    "\n",
    "ajustada[['ini', 'fin']] = ajustada[['ini', 'fin']].astype(int)\n",
    "ajustada[['rango_edad', 'ini', 'fin']].sample(4)"
   ]
  },
  {
   "cell_type": "code",
   "execution_count": 117,
   "metadata": {
    "ExecuteTime": {
     "end_time": "2020-10-06T17:36:01.423181Z",
     "start_time": "2020-10-06T17:32:39.828939Z"
    }
   },
   "outputs": [
    {
     "data": {
      "text/html": [
       "<div>\n",
       "<style scoped>\n",
       "    .dataframe tbody tr th:only-of-type {\n",
       "        vertical-align: middle;\n",
       "    }\n",
       "\n",
       "    .dataframe tbody tr th {\n",
       "        vertical-align: top;\n",
       "    }\n",
       "\n",
       "    .dataframe thead th {\n",
       "        text-align: right;\n",
       "    }\n",
       "</style>\n",
       "<table border=\"1\" class=\"dataframe\">\n",
       "  <thead>\n",
       "    <tr style=\"text-align: right;\">\n",
       "      <th></th>\n",
       "      <th>rango_edad</th>\n",
       "      <th>edad_est</th>\n",
       "    </tr>\n",
       "  </thead>\n",
       "  <tbody>\n",
       "    <tr>\n",
       "      <th>3707298</th>\n",
       "      <td>Mayor o igual a 45 y menor a 50 años de edad</td>\n",
       "      <td>45</td>\n",
       "    </tr>\n",
       "    <tr>\n",
       "      <th>2985247</th>\n",
       "      <td>Mayor o igual a 65 y menor a 70 años de edad</td>\n",
       "      <td>68</td>\n",
       "    </tr>\n",
       "    <tr>\n",
       "      <th>3608110</th>\n",
       "      <td>Mayor o igual a 30 y menor a 35 años de edad</td>\n",
       "      <td>32</td>\n",
       "    </tr>\n",
       "    <tr>\n",
       "      <th>2382194</th>\n",
       "      <td>Mayor o igual a 35 y menor a 40 años de edad</td>\n",
       "      <td>37</td>\n",
       "    </tr>\n",
       "  </tbody>\n",
       "</table>\n",
       "</div>"
      ],
      "text/plain": [
       "                                           rango_edad  edad_est\n",
       "3707298  Mayor o igual a 45 y menor a 50 años de edad        45\n",
       "2985247  Mayor o igual a 65 y menor a 70 años de edad        68\n",
       "3608110  Mayor o igual a 30 y menor a 35 años de edad        32\n",
       "2382194  Mayor o igual a 35 y menor a 40 años de edad        37"
      ]
     },
     "execution_count": 117,
     "metadata": {},
     "output_type": "execute_result"
    }
   ],
   "source": [
    "## ... es factible asignar una edad aleatoria (dentro del rango) a nuestros registros\n",
    "\n",
    "edad_est = []\n",
    "\n",
    "for i in range(len(ajustada['rango_edad'])):\n",
    "    edad_est.append( np.random.randint( ajustada['ini'][i],ajustada['fin'][i] ) )\n",
    "\n",
    "ajustada['edad_est'] = edad_est\n",
    "ajustada[['rango_edad', 'edad_est']].sample(4)"
   ]
  },
  {
   "cell_type": "code",
   "execution_count": 118,
   "metadata": {
    "ExecuteTime": {
     "end_time": "2020-10-06T17:36:04.353013Z",
     "start_time": "2020-10-06T17:36:01.428677Z"
    }
   },
   "outputs": [
    {
     "data": {
      "text/plain": [
       "<seaborn.axisgrid.PairGrid at 0x7f17f8eabca0>"
      ]
     },
     "execution_count": 118,
     "metadata": {},
     "output_type": "execute_result"
    },
    {
     "data": {
      "image/png": "[encoded data removed]",
      "text/plain": [
       "<Figure size 435.375x360 with 6 Axes>"
      ]
     },
     "metadata": {
      "needs_background": "light"
     },
     "output_type": "display_data"
    }
   ],
   "source": [
    "## Existe una brecha salarial para este sector :(\n",
    "aux = ajustada[ajustada['sector_economico_2'] ==\n",
    "    'Servicios personales para el hogar y diversos'].sample(frac = .05).copy()\n",
    "\n",
    "aux = aux[['sexo', 'Tarifa_base', 'edad_est']].sort_values(by = ['sexo']).copy()\n",
    "\n",
    "colors = [\"#66A6FE\",\"#D79BFF\"]\n",
    "sns.set_palette(sns.color_palette(colors))\n",
    "\n",
    "sns.pairplot(aux,\n",
    "            hue = 'sexo',\n",
    "            markers = ['X', 'v'])"
   ]
  },
  {
   "cell_type": "code",
   "execution_count": 119,
   "metadata": {
    "ExecuteTime": {
     "end_time": "2020-10-06T17:36:06.232133Z",
     "start_time": "2020-10-06T17:36:04.367508Z"
    }
   },
   "outputs": [],
   "source": [
    "## Y ya no necesitamos el rango numérico de edad\n",
    "ajustada.drop(['ini','fin'], axis = 1, inplace = True)"
   ]
  },
  {
   "cell_type": "markdown",
   "metadata": {},
   "source": [
    "### Pairplot"
   ]
  },
  {
   "cell_type": "code",
   "execution_count": 120,
   "metadata": {
    "ExecuteTime": {
     "end_time": "2020-10-06T17:36:22.212174Z",
     "start_time": "2020-10-06T17:36:06.238332Z"
    },
    "scrolled": false
   },
   "outputs": [
    {
     "data": {
      "text/plain": [
       "<seaborn.axisgrid.PairGrid at 0x7f17f8f36250>"
      ]
     },
     "execution_count": 120,
     "metadata": {},
     "output_type": "execute_result"
    },
    {
     "data": {
      "image/png": "[encoded data removed]",
      "text/plain": [
       "<Figure size 856.375x720 with 20 Axes>"
      ]
     },
     "metadata": {
      "needs_background": "light"
     },
     "output_type": "display_data"
    }
   ],
   "source": [
    "## Correlación de tarifa, masa y cantidad de puestos por tipo y tiempo de puesto\n",
    "aux = ajustada.sample(frac = .01).sort_values(by = ['Tipo_tiempo'],\n",
    "                                 ascending = False).copy()\n",
    "sns.pairplot(aux,\n",
    "            hue = 'Tipo_tiempo',\n",
    "            palette = 'Paired',\n",
    "            markers = ['P','.','P','.'])"
   ]
  },
  {
   "cell_type": "markdown",
   "metadata": {},
   "source": [
    "## FIN"
   ]
  },
  {
   "cell_type": "code",
   "execution_count": 121,
   "metadata": {
    "ExecuteTime": {
     "end_time": "2020-10-06T17:37:37.811971Z",
     "start_time": "2020-10-06T17:36:22.215222Z"
    }
   },
   "outputs": [],
   "source": [
    "ajustada.to_csv('/home/ef/Documents/Diplomado/EXAMEN01/imss.csv', index = False)"
   ]
  },
  {
   "cell_type": "code",
   "execution_count": 122,
   "metadata": {
    "ExecuteTime": {
     "end_time": "2020-10-06T17:37:37.872710Z",
     "start_time": "2020-10-06T17:37:37.857396Z"
    }
   },
   "outputs": [
    {
     "data": {
      "text/html": [
       "\n",
       "                <audio  controls=\"controls\" autoplay=\"autoplay\">\n",
       "                    <source src=\"data:audio/wav;base64,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\" type=\"audio/wav\" />\n",
       "                    Your browser does not support the audio element.\n",
       "                </audio>\n",
       "              "
      ],
      "text/plain": [
       "<IPython.lib.display.Audio object>"
      ]
     },
     "execution_count": 122,
     "metadata": {},
     "output_type": "execute_result"
    }
   ],
   "source": [
    "## La siguiente línea debe ir debajo del código p que suene\n",
    "Audio(audio_data, rate=framerate, autoplay=True)"
   ]
  },
  {
   "cell_type": "code",
   "execution_count": 123,
   "metadata": {
    "ExecuteTime": {
     "end_time": "2020-10-06T17:37:37.894377Z",
     "start_time": "2020-10-06T17:37:37.882418Z"
    }
   },
   "outputs": [
    {
     "data": {
      "text/plain": [
       "'12 minutos con 4.86 segundos'"
      ]
     },
     "execution_count": 123,
     "metadata": {},
     "output_type": "execute_result"
    }
   ],
   "source": [
    "## Tiempo total para correr el notebook\n",
    "end = time.time()\n",
    "tiempo_tot = end - start\n",
    "import math\n",
    "str(int(math.floor(tiempo_tot/60))) + \" minutos con \" + '{:.2f}'.format(60*(tiempo_tot/60 - math.floor(tiempo_tot/60))) + \" segundos\""
   ]
  }
 ],
 "metadata": {
  "kernelspec": {
   "display_name": "Python 3",
   "language": "python",
   "name": "python3"
  },
  "language_info": {
   "codemirror_mode": {
    "name": "ipython",
    "version": 3
   },
   "file_extension": ".py",
   "mimetype": "text/x-python",
   "name": "python",
   "nbconvert_exporter": "python",
   "pygments_lexer": "ipython3",
   "version": "3.8.5"
  },
  "toc": {
   "base_numbering": 1,
   "nav_menu": {},
   "number_sections": true,
   "sideBar": true,
   "skip_h1_title": false,
   "title_cell": "Table of Contents",
   "title_sidebar": "Contents",
   "toc_cell": false,
   "toc_position": {
    "height": "calc(100% - 180px)",
    "left": "10px",
    "top": "150px",
    "width": "410.66px"
   },
   "toc_section_display": true,
   "toc_window_display": true
  },
  "varInspector": {
   "cols": {
    "lenName": 16,
    "lenType": 16,
    "lenVar": 40
   },
   "kernels_config": {
    "python": {
     "delete_cmd_postfix": "",
     "delete_cmd_prefix": "del ",
     "library": "var_list.py",
     "varRefreshCmd": "print(var_dic_list())"
    },
    "r": {
     "delete_cmd_postfix": ") ",
     "delete_cmd_prefix": "rm(",
     "library": "var_list.r",
     "varRefreshCmd": "cat(var_dic_list()) "
    }
   },
   "position": {
    "height": "404.219px",
    "left": "1727.56px",
    "right": "20px",
    "top": "149px",
    "width": "304.757px"
   },
   "types_to_exclude": [
    "module",
    "function",
    "builtin_function_or_method",
    "instance",
    "_Feature"
   ],
   "window_display": false
  }
 },
 "nbformat": 4,
 "nbformat_minor": 4
}
