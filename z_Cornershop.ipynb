{
 "cells": [
  {
   "cell_type": "markdown",
   "metadata": {},
   "source": [
    "# Cornershop"
   ]
  },
  {
   "cell_type": "code",
   "execution_count": 1,
   "metadata": {
    "ExecuteTime": {
     "end_time": "2020-12-11T19:18:22.742300Z",
     "start_time": "2020-12-11T19:18:22.091258Z"
    }
   },
   "outputs": [],
   "source": [
    "# %load basic\n",
    "import pandas as pd\n",
    "import numpy as np\n",
    "import matplotlib.pyplot as plt\n",
    "pd.set_option('display.max_columns',200)\n",
    "pd.options.display.float_format = '{:.2f}'.format"
   ]
  },
  {
   "cell_type": "code",
   "execution_count": 2,
   "metadata": {
    "ExecuteTime": {
     "end_time": "2020-12-11T19:18:22.752084Z",
     "start_time": "2020-12-11T19:18:22.744296Z"
    }
   },
   "outputs": [],
   "source": [
    "import time\n",
    "start = time.time()"
   ]
  },
  {
   "cell_type": "code",
   "execution_count": 3,
   "metadata": {
    "ExecuteTime": {
     "end_time": "2020-12-11T19:18:33.738229Z",
     "start_time": "2020-12-11T19:18:22.754533Z"
    }
   },
   "outputs": [],
   "source": [
    "liga = '/home/ef/Desktop/Prueba SQL- Cornershop'\n",
    "product = pd.read_excel(liga + '/Order_product.xlsx')\n",
    "orders = pd.read_excel(liga + '/Orders.xlsx')\n",
    "shoppers = pd.read_excel(liga + '/Shoppers.xlsx')\n",
    "stores = pd.read_excel(liga + '/Storebranch.xlsx')"
   ]
  },
  {
   "cell_type": "markdown",
   "metadata": {},
   "source": [
    "## Cantidad de pedidos por día de la semana"
   ]
  },
  {
   "cell_type": "code",
   "execution_count": 4,
   "metadata": {
    "ExecuteTime": {
     "end_time": "2020-12-11T19:18:34.452519Z",
     "start_time": "2020-12-11T19:18:33.744767Z"
    }
   },
   "outputs": [
    {
     "data": {
      "text/plain": [
       "<AxesSubplot:xlabel='on_demand', ylabel='dow'>"
      ]
     },
     "execution_count": 4,
     "metadata": {},
     "output_type": "execute_result"
    },
    {
     "data": {
      "image/png": "[encoded data removed]",
      "text/plain": [
       "<Figure size 432x288 with 2 Axes>"
      ]
     },
     "metadata": {
      "needs_background": "light"
     },
     "output_type": "display_data"
    }
   ],
   "source": [
    "import seaborn as sns\n",
    "sns.heatmap(orders.pivot_table(index = 'dow', \n",
    "                               columns = 'on_demand', \n",
    "                               values = 'lat',\n",
    "                               aggfunc = 'count'), \n",
    "            annot = True, \n",
    "            fmt = '.0f',\n",
    "            cmap = 'Blues')"
   ]
  },
  {
   "cell_type": "markdown",
   "metadata": {},
   "source": [
    "## Cantidad promedio de productos distintos que tiene cada pedido agrupado por tienda "
   ]
  },
  {
   "cell_type": "code",
   "execution_count": 5,
   "metadata": {
    "ExecuteTime": {
     "end_time": "2020-12-11T19:18:34.630261Z",
     "start_time": "2020-12-11T19:18:34.460865Z"
    }
   },
   "outputs": [
    {
     "data": {
      "text/html": [
       "<div>\n",
       "<style scoped>\n",
       "    .dataframe tbody tr th:only-of-type {\n",
       "        vertical-align: middle;\n",
       "    }\n",
       "\n",
       "    .dataframe tbody tr th {\n",
       "        vertical-align: top;\n",
       "    }\n",
       "\n",
       "    .dataframe thead th {\n",
       "        text-align: right;\n",
       "    }\n",
       "</style>\n",
       "<table border=\"1\" class=\"dataframe\">\n",
       "  <thead>\n",
       "    <tr style=\"text-align: right;\">\n",
       "      <th></th>\n",
       "      <th>Tienda</th>\n",
       "      <th>Prom_prod_dist</th>\n",
       "    </tr>\n",
       "  </thead>\n",
       "  <tbody>\n",
       "    <tr>\n",
       "      <th>0</th>\n",
       "      <td>60e4c4e1c1a8bc79123738227b9d0b08</td>\n",
       "      <td>22.47</td>\n",
       "    </tr>\n",
       "    <tr>\n",
       "      <th>1</th>\n",
       "      <td>387d4a5b65cf4bf00ad805c4b00eed01</td>\n",
       "      <td>19.93</td>\n",
       "    </tr>\n",
       "    <tr>\n",
       "      <th>2</th>\n",
       "      <td>452ae015bf846e1d2932b7ea15720d64</td>\n",
       "      <td>18.42</td>\n",
       "    </tr>\n",
       "    <tr>\n",
       "      <th>3</th>\n",
       "      <td>451eb58b96f0a36f31d2beebd1c9a7a8</td>\n",
       "      <td>16.57</td>\n",
       "    </tr>\n",
       "    <tr>\n",
       "      <th>4</th>\n",
       "      <td>a3bed30221372366bcd9b9779f395d0b</td>\n",
       "      <td>7.63</td>\n",
       "    </tr>\n",
       "    <tr>\n",
       "      <th>5</th>\n",
       "      <td>0fae7b61265bc7ca4ce4d81440b62501</td>\n",
       "      <td>7.16</td>\n",
       "    </tr>\n",
       "    <tr>\n",
       "      <th>6</th>\n",
       "      <td>044d56734d20e04984d846dade6d39f3</td>\n",
       "      <td>5.68</td>\n",
       "    </tr>\n",
       "    <tr>\n",
       "      <th>7</th>\n",
       "      <td>1174a0029cadfa449af46c53b1c90fbe</td>\n",
       "      <td>5.00</td>\n",
       "    </tr>\n",
       "    <tr>\n",
       "      <th>8</th>\n",
       "      <td>a08814af6c2379a480e261b3598ddbd5</td>\n",
       "      <td>4.94</td>\n",
       "    </tr>\n",
       "    <tr>\n",
       "      <th>9</th>\n",
       "      <td>6447951cd071f6f045fd4e6194920926</td>\n",
       "      <td>4.47</td>\n",
       "    </tr>\n",
       "    <tr>\n",
       "      <th>10</th>\n",
       "      <td>6dd84f26df649bead537d40ec49afd36</td>\n",
       "      <td>4.13</td>\n",
       "    </tr>\n",
       "    <tr>\n",
       "      <th>11</th>\n",
       "      <td>821dc9d74061fe7654b9ec20e574022d</td>\n",
       "      <td>3.90</td>\n",
       "    </tr>\n",
       "    <tr>\n",
       "      <th>12</th>\n",
       "      <td>9d65282d498c0338377867996e761399</td>\n",
       "      <td>2.81</td>\n",
       "    </tr>\n",
       "    <tr>\n",
       "      <th>13</th>\n",
       "      <td>7a44728dc60bafc53140a9f5ef7e4e75</td>\n",
       "      <td>2.50</td>\n",
       "    </tr>\n",
       "    <tr>\n",
       "      <th>14</th>\n",
       "      <td>e27789d5e619b255663b2bfa68b5851f</td>\n",
       "      <td>1.98</td>\n",
       "    </tr>\n",
       "    <tr>\n",
       "      <th>15</th>\n",
       "      <td>0b0d1b4d525596dc61c3fde64a6bf099</td>\n",
       "      <td>1.40</td>\n",
       "    </tr>\n",
       "    <tr>\n",
       "      <th>16</th>\n",
       "      <td>c0b93cf93cf854981b8d6bd849eec4b0</td>\n",
       "      <td>1.04</td>\n",
       "    </tr>\n",
       "  </tbody>\n",
       "</table>\n",
       "</div>"
      ],
      "text/plain": [
       "                              Tienda  Prom_prod_dist\n",
       "0   60e4c4e1c1a8bc79123738227b9d0b08           22.47\n",
       "1   387d4a5b65cf4bf00ad805c4b00eed01           19.93\n",
       "2   452ae015bf846e1d2932b7ea15720d64           18.42\n",
       "3   451eb58b96f0a36f31d2beebd1c9a7a8           16.57\n",
       "4   a3bed30221372366bcd9b9779f395d0b            7.63\n",
       "5   0fae7b61265bc7ca4ce4d81440b62501            7.16\n",
       "6   044d56734d20e04984d846dade6d39f3            5.68\n",
       "7   1174a0029cadfa449af46c53b1c90fbe            5.00\n",
       "8   a08814af6c2379a480e261b3598ddbd5            4.94\n",
       "9   6447951cd071f6f045fd4e6194920926            4.47\n",
       "10  6dd84f26df649bead537d40ec49afd36            4.13\n",
       "11  821dc9d74061fe7654b9ec20e574022d            3.90\n",
       "12  9d65282d498c0338377867996e761399            2.81\n",
       "13  7a44728dc60bafc53140a9f5ef7e4e75            2.50\n",
       "14  e27789d5e619b255663b2bfa68b5851f            1.98\n",
       "15  0b0d1b4d525596dc61c3fde64a6bf099            1.40\n",
       "16  c0b93cf93cf854981b8d6bd849eec4b0            1.04"
      ]
     },
     "execution_count": 5,
     "metadata": {},
     "output_type": "execute_result"
    }
   ],
   "source": [
    "orders.merge(product.drop_duplicates().groupby('order_id')['product_id'].count().reset_index(), \n",
    "             on = 'order_id',\n",
    "             how = 'left'\n",
    "            ).dropna(subset = ['product_id']\n",
    "                    ).merge(stores, \n",
    "                            on = 'store_branch_id',\n",
    "                            how = 'left'\n",
    "                           ).groupby('store'\n",
    "                                    )['product_id'\n",
    "                                     ].mean().reset_index().sort_values(by = 'product_id', \n",
    "                                                                        ascending = False\n",
    "                                                                       ).reset_index(drop = True\n",
    "                                                                                    ).rename(columns = {'store':'Tienda',\n",
    "                                                                                                        'product_id':'Prom_prod_dist'})"
   ]
  },
  {
   "cell_type": "markdown",
   "metadata": {},
   "source": [
    "## Found rate promedio de los pedidos agrupados por formato de producto y día de la semana"
   ]
  },
  {
   "cell_type": "code",
   "execution_count": 6,
   "metadata": {
    "ExecuteTime": {
     "end_time": "2020-12-11T19:18:34.667132Z",
     "start_time": "2020-12-11T19:18:34.632974Z"
    }
   },
   "outputs": [
    {
     "data": {
      "text/plain": [
       "count   26332.00\n",
       "mean        1.66\n",
       "std         2.85\n",
       "min         0.00\n",
       "20%         0.92\n",
       "40%         1.01\n",
       "50%         1.05\n",
       "60%         1.12\n",
       "80%         1.40\n",
       "max       104.50\n",
       "Name: FR, dtype: float64"
      ]
     },
     "execution_count": 6,
     "metadata": {},
     "output_type": "execute_result"
    }
   ],
   "source": [
    "## Se crea el found rate\n",
    "product['FR'] = product['quantity_found'] / product['quantity']\n",
    "product[product['buy_unit'] == 'KG']['FR'].describe([x/10 for x in range(2,10,2)])"
   ]
  },
  {
   "cell_type": "code",
   "execution_count": 7,
   "metadata": {
    "ExecuteTime": {
     "end_time": "2020-12-11T19:18:34.712167Z",
     "start_time": "2020-12-11T19:18:34.669153Z"
    }
   },
   "outputs": [
    {
     "data": {
      "text/plain": [
       "count   118897.00\n",
       "mean         0.89\n",
       "std          0.38\n",
       "min          0.00\n",
       "25%          1.00\n",
       "50%          1.00\n",
       "75%          1.00\n",
       "max          2.71\n",
       "Name: FR, dtype: float64"
      ]
     },
     "execution_count": 7,
     "metadata": {},
     "output_type": "execute_result"
    }
   ],
   "source": [
    "## Se omiten outliers mediante el método IQR (pero con menos sensibilidad)\n",
    "def outlier(df, x , p = 0.2):\n",
    "    var = df[x]\n",
    "    q1 = var.quantile(p/2)\n",
    "    q3 = var.quantile(1 - p/2)\n",
    "    iqr = q3 - q1\n",
    "    df = df[(var.isnull()) | ((var >= q1 - 1.5*iqr) & (var <= q3 + 1.5*iqr))].copy()\n",
    "    df.reset_index(drop = True, inplace = True)\n",
    "    return df\n",
    "\n",
    "product = outlier(product,'FR')\n",
    "product['FR'].describe()"
   ]
  },
  {
   "cell_type": "markdown",
   "metadata": {},
   "source": [
    "### Respuesta"
   ]
  },
  {
   "cell_type": "code",
   "execution_count": 8,
   "metadata": {
    "ExecuteTime": {
     "end_time": "2020-12-11T19:18:34.962920Z",
     "start_time": "2020-12-11T19:18:34.715453Z"
    }
   },
   "outputs": [
    {
     "data": {
      "text/html": [
       "<style  type=\"text/css\" >\n",
       "</style><table id=\"T_a9efa6de_3be5_11eb_a342_e7abf3d055c0\" ><thead>    <tr>        <th class=\"index_name level0\" >buy_unit</th>        <th class=\"col_heading level0 col0\" >KG</th>        <th class=\"col_heading level0 col1\" >UN</th>    </tr>    <tr>        <th class=\"index_name level0\" >dow</th>        <th class=\"blank\" ></th>        <th class=\"blank\" ></th>    </tr></thead><tbody>\n",
       "                <tr>\n",
       "                        <th id=\"T_a9efa6de_3be5_11eb_a342_e7abf3d055c0level0_row0\" class=\"row_heading level0 row0\" >0</th>\n",
       "                        <td id=\"T_a9efa6de_3be5_11eb_a342_e7abf3d055c0row0_col0\" class=\"data row0 col0\" >105.77%</td>\n",
       "                        <td id=\"T_a9efa6de_3be5_11eb_a342_e7abf3d055c0row0_col1\" class=\"data row0 col1\" >83.54%</td>\n",
       "            </tr>\n",
       "            <tr>\n",
       "                        <th id=\"T_a9efa6de_3be5_11eb_a342_e7abf3d055c0level0_row1\" class=\"row_heading level0 row1\" >1</th>\n",
       "                        <td id=\"T_a9efa6de_3be5_11eb_a342_e7abf3d055c0row1_col0\" class=\"data row1 col0\" >107.43%</td>\n",
       "                        <td id=\"T_a9efa6de_3be5_11eb_a342_e7abf3d055c0row1_col1\" class=\"data row1 col1\" >84.63%</td>\n",
       "            </tr>\n",
       "            <tr>\n",
       "                        <th id=\"T_a9efa6de_3be5_11eb_a342_e7abf3d055c0level0_row2\" class=\"row_heading level0 row2\" >2</th>\n",
       "                        <td id=\"T_a9efa6de_3be5_11eb_a342_e7abf3d055c0row2_col0\" class=\"data row2 col0\" >106.79%</td>\n",
       "                        <td id=\"T_a9efa6de_3be5_11eb_a342_e7abf3d055c0row2_col1\" class=\"data row2 col1\" >84.88%</td>\n",
       "            </tr>\n",
       "            <tr>\n",
       "                        <th id=\"T_a9efa6de_3be5_11eb_a342_e7abf3d055c0level0_row3\" class=\"row_heading level0 row3\" >3</th>\n",
       "                        <td id=\"T_a9efa6de_3be5_11eb_a342_e7abf3d055c0row3_col0\" class=\"data row3 col0\" >105.02%</td>\n",
       "                        <td id=\"T_a9efa6de_3be5_11eb_a342_e7abf3d055c0row3_col1\" class=\"data row3 col1\" >84.74%</td>\n",
       "            </tr>\n",
       "            <tr>\n",
       "                        <th id=\"T_a9efa6de_3be5_11eb_a342_e7abf3d055c0level0_row4\" class=\"row_heading level0 row4\" >4</th>\n",
       "                        <td id=\"T_a9efa6de_3be5_11eb_a342_e7abf3d055c0row4_col0\" class=\"data row4 col0\" >105.72%</td>\n",
       "                        <td id=\"T_a9efa6de_3be5_11eb_a342_e7abf3d055c0row4_col1\" class=\"data row4 col1\" >84.78%</td>\n",
       "            </tr>\n",
       "            <tr>\n",
       "                        <th id=\"T_a9efa6de_3be5_11eb_a342_e7abf3d055c0level0_row5\" class=\"row_heading level0 row5\" >5</th>\n",
       "                        <td id=\"T_a9efa6de_3be5_11eb_a342_e7abf3d055c0row5_col0\" class=\"data row5 col0\" >105.62%</td>\n",
       "                        <td id=\"T_a9efa6de_3be5_11eb_a342_e7abf3d055c0row5_col1\" class=\"data row5 col1\" >84.98%</td>\n",
       "            </tr>\n",
       "            <tr>\n",
       "                        <th id=\"T_a9efa6de_3be5_11eb_a342_e7abf3d055c0level0_row6\" class=\"row_heading level0 row6\" >6</th>\n",
       "                        <td id=\"T_a9efa6de_3be5_11eb_a342_e7abf3d055c0row6_col0\" class=\"data row6 col0\" >105.87%</td>\n",
       "                        <td id=\"T_a9efa6de_3be5_11eb_a342_e7abf3d055c0row6_col1\" class=\"data row6 col1\" >84.87%</td>\n",
       "            </tr>\n",
       "    </tbody></table>"
      ],
      "text/plain": [
       "<pandas.io.formats.style.Styler at 0x7fda419604f0>"
      ]
     },
     "execution_count": 8,
     "metadata": {},
     "output_type": "execute_result"
    }
   ],
   "source": [
    "product.merge(orders, \n",
    "              on = 'order_id',\n",
    "              how = 'left')[['buy_unit','FR','dow']\n",
    "                           ].pivot_table(index = 'dow', \n",
    "                                         columns = 'buy_unit',\n",
    "                                         values = 'FR',\n",
    "                                         aggfunc = 'mean').style.format(\"{:.2%}\")"
   ]
  },
  {
   "cell_type": "markdown",
   "metadata": {},
   "source": [
    "##  Error promedio y error cuadrático medio de nuestro modelo de estimación para cada hora del día."
   ]
  },
  {
   "cell_type": "code",
   "execution_count": 9,
   "metadata": {
    "ExecuteTime": {
     "end_time": "2020-12-11T19:18:35.178868Z",
     "start_time": "2020-12-11T19:18:34.965218Z"
    }
   },
   "outputs": [
    {
     "data": {
      "text/html": [
       "<div>\n",
       "<style scoped>\n",
       "    .dataframe tbody tr th:only-of-type {\n",
       "        vertical-align: middle;\n",
       "    }\n",
       "\n",
       "    .dataframe tbody tr th {\n",
       "        vertical-align: top;\n",
       "    }\n",
       "\n",
       "    .dataframe thead th {\n",
       "        text-align: right;\n",
       "    }\n",
       "</style>\n",
       "<table border=\"1\" class=\"dataframe\">\n",
       "  <thead>\n",
       "    <tr style=\"text-align: right;\">\n",
       "      <th></th>\n",
       "      <th>Hora</th>\n",
       "      <th>error_prom</th>\n",
       "      <th>error_abs</th>\n",
       "    </tr>\n",
       "  </thead>\n",
       "  <tbody>\n",
       "    <tr>\n",
       "      <th>0</th>\n",
       "      <td>0</td>\n",
       "      <td>-60.00</td>\n",
       "      <td>60.00</td>\n",
       "    </tr>\n",
       "    <tr>\n",
       "      <th>1</th>\n",
       "      <td>8</td>\n",
       "      <td>-16.72</td>\n",
       "      <td>22.22</td>\n",
       "    </tr>\n",
       "    <tr>\n",
       "      <th>2</th>\n",
       "      <td>9</td>\n",
       "      <td>-29.21</td>\n",
       "      <td>32.93</td>\n",
       "    </tr>\n",
       "    <tr>\n",
       "      <th>3</th>\n",
       "      <td>10</td>\n",
       "      <td>-37.05</td>\n",
       "      <td>39.38</td>\n",
       "    </tr>\n",
       "    <tr>\n",
       "      <th>4</th>\n",
       "      <td>11</td>\n",
       "      <td>-37.24</td>\n",
       "      <td>39.10</td>\n",
       "    </tr>\n",
       "    <tr>\n",
       "      <th>5</th>\n",
       "      <td>12</td>\n",
       "      <td>-38.10</td>\n",
       "      <td>40.65</td>\n",
       "    </tr>\n",
       "    <tr>\n",
       "      <th>6</th>\n",
       "      <td>13</td>\n",
       "      <td>-35.87</td>\n",
       "      <td>38.51</td>\n",
       "    </tr>\n",
       "    <tr>\n",
       "      <th>7</th>\n",
       "      <td>14</td>\n",
       "      <td>-34.26</td>\n",
       "      <td>37.66</td>\n",
       "    </tr>\n",
       "    <tr>\n",
       "      <th>8</th>\n",
       "      <td>15</td>\n",
       "      <td>-32.83</td>\n",
       "      <td>37.01</td>\n",
       "    </tr>\n",
       "    <tr>\n",
       "      <th>9</th>\n",
       "      <td>16</td>\n",
       "      <td>-32.49</td>\n",
       "      <td>35.70</td>\n",
       "    </tr>\n",
       "    <tr>\n",
       "      <th>10</th>\n",
       "      <td>17</td>\n",
       "      <td>-30.31</td>\n",
       "      <td>34.51</td>\n",
       "    </tr>\n",
       "    <tr>\n",
       "      <th>11</th>\n",
       "      <td>18</td>\n",
       "      <td>-32.05</td>\n",
       "      <td>36.11</td>\n",
       "    </tr>\n",
       "    <tr>\n",
       "      <th>12</th>\n",
       "      <td>19</td>\n",
       "      <td>-27.32</td>\n",
       "      <td>33.82</td>\n",
       "    </tr>\n",
       "    <tr>\n",
       "      <th>13</th>\n",
       "      <td>20</td>\n",
       "      <td>-25.37</td>\n",
       "      <td>31.26</td>\n",
       "    </tr>\n",
       "    <tr>\n",
       "      <th>14</th>\n",
       "      <td>21</td>\n",
       "      <td>-26.06</td>\n",
       "      <td>32.07</td>\n",
       "    </tr>\n",
       "    <tr>\n",
       "      <th>15</th>\n",
       "      <td>22</td>\n",
       "      <td>-34.56</td>\n",
       "      <td>38.36</td>\n",
       "    </tr>\n",
       "    <tr>\n",
       "      <th>16</th>\n",
       "      <td>23</td>\n",
       "      <td>-40.11</td>\n",
       "      <td>42.18</td>\n",
       "    </tr>\n",
       "  </tbody>\n",
       "</table>\n",
       "</div>"
      ],
      "text/plain": [
       "    Hora  error_prom  error_abs\n",
       "0      0      -60.00      60.00\n",
       "1      8      -16.72      22.22\n",
       "2      9      -29.21      32.93\n",
       "3     10      -37.05      39.38\n",
       "4     11      -37.24      39.10\n",
       "5     12      -38.10      40.65\n",
       "6     13      -35.87      38.51\n",
       "7     14      -34.26      37.66\n",
       "8     15      -32.83      37.01\n",
       "9     16      -32.49      35.70\n",
       "10    17      -30.31      34.51\n",
       "11    18      -32.05      36.11\n",
       "12    19      -27.32      33.82\n",
       "13    20      -25.37      31.26\n",
       "14    21      -26.06      32.07\n",
       "15    22      -34.56      38.36\n",
       "16    23      -40.11      42.18"
      ]
     },
     "execution_count": 9,
     "metadata": {},
     "output_type": "execute_result"
    }
   ],
   "source": [
    "from sklearn.metrics import mean_absolute_error\n",
    "import math\n",
    "\n",
    "performance = pd.DataFrame()\n",
    "performance['Hora'] = sorted(np.unique([x.hour for x in orders['promised_time']]))\n",
    "\n",
    "ep = []\n",
    "mae = []\n",
    "\n",
    "for i in range(len(performance)):\n",
    "    times = orders[[n.hour for n in orders['promised_time']] == performance['Hora'][i]\n",
    "                  ][['promised_time','actual_time']].copy()\n",
    "    for col in times.columns:\n",
    "        times[col] = [(x.hour + 24)*60*60 + x.minute*60 + x.second \n",
    "                      if x.hour < 1 else\n",
    "                      x.hour*60*60 + x.minute*60 + x.second \n",
    "                      for x in times[col]]\n",
    "    times['dif'] = times['actual_time'] - times['promised_time']\n",
    "    times = outlier(times,'dif')\n",
    "    ep.append(times['dif'].mean())\n",
    "    mae.append(mean_absolute_error(times['promised_time']/60, times['actual_time']/60))\n",
    "    \n",
    "performance['error_prom'] = [x/60 for x in ep]  \n",
    "performance['error_abs'] = mae\n",
    "performance"
   ]
  },
  {
   "cell_type": "code",
   "execution_count": 10,
   "metadata": {
    "ExecuteTime": {
     "end_time": "2020-12-11T19:18:35.201903Z",
     "start_time": "2020-12-11T19:18:35.181418Z"
    }
   },
   "outputs": [
    {
     "data": {
      "text/plain": [
       "'Modelo con precisión: 96.57%'"
      ]
     },
     "execution_count": 10,
     "metadata": {},
     "output_type": "execute_result"
    }
   ],
   "source": [
    "## Bonus\n",
    "from sklearn.metrics import r2_score\n",
    "times = orders[['promised_time','actual_time']].copy()\n",
    "for col in times.columns:\n",
    "    times[col] = [(x.hour + 24)*60*60 + x.minute*60 + x.second \n",
    "                  if x.hour < 1 else\n",
    "                  x.hour*60*60 + x.minute*60 + x.second \n",
    "                  for x in times[col]]\n",
    "'Modelo con precisión: {:.2%}'.format(r2_score(times['promised_time'], times['actual_time']))"
   ]
  },
  {
   "cell_type": "markdown",
   "metadata": {},
   "source": [
    "## Cantidad de pedidos donde el picker_id y el driver_id son distintos"
   ]
  },
  {
   "cell_type": "code",
   "execution_count": 11,
   "metadata": {
    "ExecuteTime": {
     "end_time": "2020-12-11T19:18:35.216784Z",
     "start_time": "2020-12-11T19:18:35.204696Z"
    }
   },
   "outputs": [
    {
     "data": {
      "text/plain": [
       "216"
      ]
     },
     "execution_count": 11,
     "metadata": {},
     "output_type": "execute_result"
    }
   ],
   "source": [
    "len(np.unique((orders[orders['picker_id'] != orders['driver_id']]['order_id'])))"
   ]
  },
  {
   "cell_type": "markdown",
   "metadata": {},
   "source": [
    "# Fin"
   ]
  },
  {
   "cell_type": "code",
   "execution_count": 12,
   "metadata": {
    "ExecuteTime": {
     "end_time": "2020-12-11T19:18:35.223448Z",
     "start_time": "2020-12-11T19:18:35.219100Z"
    }
   },
   "outputs": [],
   "source": [
    "import math\n",
    "def time_exp(x):\n",
    "    x = str(int(math.floor(x/60))\n",
    "           ) + \" minutos con \" + '{:.2f}'.format(60*(x/60 - math.floor(x/60))\n",
    "                                                ) + \" segundos\"\n",
    "    return x"
   ]
  },
  {
   "cell_type": "code",
   "execution_count": 13,
   "metadata": {
    "ExecuteTime": {
     "end_time": "2020-12-11T19:18:35.232233Z",
     "start_time": "2020-12-11T19:18:35.226060Z"
    }
   },
   "outputs": [
    {
     "data": {
      "text/plain": [
       "'0 minutos con 12.48 segundos'"
      ]
     },
     "execution_count": 13,
     "metadata": {},
     "output_type": "execute_result"
    }
   ],
   "source": [
    "## Tiempo total para correr el notebook\n",
    "end = time.time()\n",
    "tiempo_tot = end - start\n",
    "time_exp(tiempo_tot)"
   ]
  }
 ],
 "metadata": {
  "kernelspec": {
   "display_name": "Python 3",
   "language": "python",
   "name": "python3"
  },
  "language_info": {
   "codemirror_mode": {
    "name": "ipython",
    "version": 3
   },
   "file_extension": ".py",
   "mimetype": "text/x-python",
   "name": "python",
   "nbconvert_exporter": "python",
   "pygments_lexer": "ipython3",
   "version": "3.8.5"
  },
  "toc": {
   "base_numbering": 1,
   "nav_menu": {},
   "number_sections": true,
   "sideBar": true,
   "skip_h1_title": true,
   "title_cell": "Table of Contents",
   "title_sidebar": "Contents",
   "toc_cell": false,
   "toc_position": {
    "height": "calc(100% - 180px)",
    "left": "10px",
    "top": "150px",
    "width": "461.973px"
   },
   "toc_section_display": true,
   "toc_window_display": true
  },
  "varInspector": {
   "cols": {
    "lenName": 16,
    "lenType": 16,
    "lenVar": 40
   },
   "kernels_config": {
    "python": {
     "delete_cmd_postfix": "",
     "delete_cmd_prefix": "del ",
     "library": "var_list.py",
     "varRefreshCmd": "print(var_dic_list())"
    },
    "r": {
     "delete_cmd_postfix": ") ",
     "delete_cmd_prefix": "rm(",
     "library": "var_list.r",
     "varRefreshCmd": "cat(var_dic_list()) "
    }
   },
   "types_to_exclude": [
    "module",
    "function",
    "builtin_function_or_method",
    "instance",
    "_Feature"
   ],
   "window_display": false
  }
 },
 "nbformat": 4,
 "nbformat_minor": 4
}
