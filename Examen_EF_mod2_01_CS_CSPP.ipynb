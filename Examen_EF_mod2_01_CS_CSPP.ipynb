{
 "cells": [
  {
   "cell_type": "markdown",
   "metadata": {},
   "source": [
    "# EXAMEN 1 MOD2 REGRESIÓN LINEAL"
   ]
  },
  {
   "cell_type": "markdown",
   "metadata": {},
   "source": [
    "## Importar"
   ]
  },
  {
   "cell_type": "code",
   "execution_count": 60,
   "metadata": {
    "ExecuteTime": {
     "end_time": "2020-11-11T18:31:53.664169Z",
     "start_time": "2020-11-11T18:31:53.651449Z"
    }
   },
   "outputs": [],
   "source": [
    "# %load basic\n",
    "import pandas as pd\n",
    "import numpy as np\n",
    "import matplotlib.pyplot as plt\n",
    "pd.set_option('display.max_columns',200)"
   ]
  },
  {
   "cell_type": "code",
   "execution_count": 61,
   "metadata": {
    "ExecuteTime": {
     "end_time": "2020-11-11T18:31:53.785390Z",
     "start_time": "2020-11-11T18:31:53.676091Z"
    }
   },
   "outputs": [
    {
     "data": {
      "text/plain": [
       "{'encoding': 'ascii', 'confidence': 1.0, 'language': ''}"
      ]
     },
     "execution_count": 61,
     "metadata": {},
     "output_type": "execute_result"
    }
   ],
   "source": [
    "## Conocer encoding de csv\n",
    "liga = '/home/ef/Documents/Diplomado/EXAMEN02/'\n",
    "import chardet\n",
    "with open(liga + 'train_default.csv', 'rb') as rawdata:\n",
    "    result = chardet.detect(rawdata.read(10000))\n",
    "result"
   ]
  },
  {
   "cell_type": "code",
   "execution_count": 62,
   "metadata": {
    "ExecuteTime": {
     "end_time": "2020-11-11T18:31:53.877803Z",
     "start_time": "2020-11-11T18:31:53.789778Z"
    }
   },
   "outputs": [
    {
     "data": {
      "text/html": [
       "<div>\n",
       "<style scoped>\n",
       "    .dataframe tbody tr th:only-of-type {\n",
       "        vertical-align: middle;\n",
       "    }\n",
       "\n",
       "    .dataframe tbody tr th {\n",
       "        vertical-align: top;\n",
       "    }\n",
       "\n",
       "    .dataframe thead th {\n",
       "        text-align: right;\n",
       "    }\n",
       "</style>\n",
       "<table border=\"1\" class=\"dataframe\">\n",
       "  <thead>\n",
       "    <tr style=\"text-align: right;\">\n",
       "      <th></th>\n",
       "      <th>CUSTOMER_ID</th>\n",
       "      <th>LIMIT_BAL</th>\n",
       "      <th>SEX</th>\n",
       "      <th>EDUCATION</th>\n",
       "      <th>MARRIAGE</th>\n",
       "      <th>AGE</th>\n",
       "      <th>PAY_0</th>\n",
       "      <th>PAY_2</th>\n",
       "      <th>PAY_3</th>\n",
       "      <th>PAY_4</th>\n",
       "      <th>PAY_5</th>\n",
       "      <th>PAY_6</th>\n",
       "      <th>BILL_AMT1</th>\n",
       "      <th>BILL_AMT2</th>\n",
       "      <th>BILL_AMT3</th>\n",
       "      <th>BILL_AMT4</th>\n",
       "      <th>BILL_AMT5</th>\n",
       "      <th>BILL_AMT6</th>\n",
       "      <th>PAY_AMT1</th>\n",
       "      <th>PAY_AMT2</th>\n",
       "      <th>PAY_AMT3</th>\n",
       "      <th>PAY_AMT4</th>\n",
       "      <th>PAY_AMT5</th>\n",
       "      <th>PAY_AMT6</th>\n",
       "      <th>default.payment.next.month</th>\n",
       "    </tr>\n",
       "  </thead>\n",
       "  <tbody>\n",
       "    <tr>\n",
       "      <th>4378</th>\n",
       "      <td>3118</td>\n",
       "      <td>210000.0</td>\n",
       "      <td>1</td>\n",
       "      <td>1</td>\n",
       "      <td>2</td>\n",
       "      <td>33</td>\n",
       "      <td>1</td>\n",
       "      <td>-2</td>\n",
       "      <td>-2</td>\n",
       "      <td>-2</td>\n",
       "      <td>-1</td>\n",
       "      <td>-1</td>\n",
       "      <td>0.0</td>\n",
       "      <td>0.0</td>\n",
       "      <td>0.0</td>\n",
       "      <td>0.0</td>\n",
       "      <td>700.0</td>\n",
       "      <td>0.0</td>\n",
       "      <td>0.0</td>\n",
       "      <td>0.0</td>\n",
       "      <td>0.0</td>\n",
       "      <td>700.0</td>\n",
       "      <td>0.0</td>\n",
       "      <td>0.0</td>\n",
       "      <td>1</td>\n",
       "    </tr>\n",
       "    <tr>\n",
       "      <th>4585</th>\n",
       "      <td>23759</td>\n",
       "      <td>310000.0</td>\n",
       "      <td>2</td>\n",
       "      <td>2</td>\n",
       "      <td>2</td>\n",
       "      <td>42</td>\n",
       "      <td>-2</td>\n",
       "      <td>-1</td>\n",
       "      <td>0</td>\n",
       "      <td>0</td>\n",
       "      <td>0</td>\n",
       "      <td>0</td>\n",
       "      <td>-2123.0</td>\n",
       "      <td>246407.0</td>\n",
       "      <td>250249.0</td>\n",
       "      <td>254254.0</td>\n",
       "      <td>259960.0</td>\n",
       "      <td>265702.0</td>\n",
       "      <td>260000.0</td>\n",
       "      <td>10000.0</td>\n",
       "      <td>10000.0</td>\n",
       "      <td>10000.0</td>\n",
       "      <td>10000.0</td>\n",
       "      <td>10000.0</td>\n",
       "      <td>0</td>\n",
       "    </tr>\n",
       "    <tr>\n",
       "      <th>4448</th>\n",
       "      <td>17415</td>\n",
       "      <td>150000.0</td>\n",
       "      <td>2</td>\n",
       "      <td>2</td>\n",
       "      <td>1</td>\n",
       "      <td>35</td>\n",
       "      <td>0</td>\n",
       "      <td>0</td>\n",
       "      <td>0</td>\n",
       "      <td>0</td>\n",
       "      <td>0</td>\n",
       "      <td>0</td>\n",
       "      <td>128278.0</td>\n",
       "      <td>131715.0</td>\n",
       "      <td>133625.0</td>\n",
       "      <td>49019.0</td>\n",
       "      <td>44801.0</td>\n",
       "      <td>39742.0</td>\n",
       "      <td>7000.0</td>\n",
       "      <td>6000.0</td>\n",
       "      <td>1800.0</td>\n",
       "      <td>1600.0</td>\n",
       "      <td>2000.0</td>\n",
       "      <td>1700.0</td>\n",
       "      <td>0</td>\n",
       "    </tr>\n",
       "    <tr>\n",
       "      <th>4629</th>\n",
       "      <td>20301</td>\n",
       "      <td>20000.0</td>\n",
       "      <td>2</td>\n",
       "      <td>2</td>\n",
       "      <td>1</td>\n",
       "      <td>37</td>\n",
       "      <td>0</td>\n",
       "      <td>0</td>\n",
       "      <td>0</td>\n",
       "      <td>0</td>\n",
       "      <td>0</td>\n",
       "      <td>0</td>\n",
       "      <td>19969.0</td>\n",
       "      <td>19568.0</td>\n",
       "      <td>19189.0</td>\n",
       "      <td>13708.0</td>\n",
       "      <td>11467.0</td>\n",
       "      <td>10614.0</td>\n",
       "      <td>1400.0</td>\n",
       "      <td>2000.0</td>\n",
       "      <td>1500.0</td>\n",
       "      <td>1000.0</td>\n",
       "      <td>1000.0</td>\n",
       "      <td>2000.0</td>\n",
       "      <td>0</td>\n",
       "    </tr>\n",
       "  </tbody>\n",
       "</table>\n",
       "</div>"
      ],
      "text/plain": [
       "      CUSTOMER_ID  LIMIT_BAL  SEX  EDUCATION  MARRIAGE  AGE  PAY_0  PAY_2  \\\n",
       "4378         3118   210000.0    1          1         2   33      1     -2   \n",
       "4585        23759   310000.0    2          2         2   42     -2     -1   \n",
       "4448        17415   150000.0    2          2         1   35      0      0   \n",
       "4629        20301    20000.0    2          2         1   37      0      0   \n",
       "\n",
       "      PAY_3  PAY_4  PAY_5  PAY_6  BILL_AMT1  BILL_AMT2  BILL_AMT3  BILL_AMT4  \\\n",
       "4378     -2     -2     -1     -1        0.0        0.0        0.0        0.0   \n",
       "4585      0      0      0      0    -2123.0   246407.0   250249.0   254254.0   \n",
       "4448      0      0      0      0   128278.0   131715.0   133625.0    49019.0   \n",
       "4629      0      0      0      0    19969.0    19568.0    19189.0    13708.0   \n",
       "\n",
       "      BILL_AMT5  BILL_AMT6  PAY_AMT1  PAY_AMT2  PAY_AMT3  PAY_AMT4  PAY_AMT5  \\\n",
       "4378      700.0        0.0       0.0       0.0       0.0     700.0       0.0   \n",
       "4585   259960.0   265702.0  260000.0   10000.0   10000.0   10000.0   10000.0   \n",
       "4448    44801.0    39742.0    7000.0    6000.0    1800.0    1600.0    2000.0   \n",
       "4629    11467.0    10614.0    1400.0    2000.0    1500.0    1000.0    1000.0   \n",
       "\n",
       "      PAY_AMT6  default.payment.next.month  \n",
       "4378       0.0                           1  \n",
       "4585   10000.0                           0  \n",
       "4448    1700.0                           0  \n",
       "4629    2000.0                           0  "
      ]
     },
     "execution_count": 62,
     "metadata": {},
     "output_type": "execute_result"
    }
   ],
   "source": [
    "df = pd.read_csv(liga + 'train_default.csv',\n",
    "                 encoding = 'ascii',\n",
    "                 sep = '|',\n",
    "                 low_memory = False)\n",
    "df.sample(4)"
   ]
  },
  {
   "cell_type": "code",
   "execution_count": 63,
   "metadata": {
    "ExecuteTime": {
     "end_time": "2020-11-11T18:31:53.922505Z",
     "start_time": "2020-11-11T18:31:53.886904Z"
    }
   },
   "outputs": [
    {
     "name": "stdout",
     "output_type": "stream",
     "text": [
      "<class 'pandas.core.frame.DataFrame'>\n",
      "RangeIndex: 5625 entries, 0 to 5624\n",
      "Data columns (total 24 columns):\n",
      " #   Column     Non-Null Count  Dtype  \n",
      "---  ------     --------------  -----  \n",
      " 0   LIMIT_BAL  5625 non-null   float64\n",
      " 1   SEX        5625 non-null   int64  \n",
      " 2   EDUCATION  5625 non-null   int64  \n",
      " 3   MARRIAGE   5625 non-null   int64  \n",
      " 4   AGE        5625 non-null   int64  \n",
      " 5   PAY_1      5625 non-null   int64  \n",
      " 6   PAY_2      5625 non-null   int64  \n",
      " 7   PAY_3      5625 non-null   int64  \n",
      " 8   PAY_4      5625 non-null   int64  \n",
      " 9   PAY_5      5625 non-null   int64  \n",
      " 10  PAY_6      5625 non-null   int64  \n",
      " 11  BILL_AMT1  5625 non-null   float64\n",
      " 12  BILL_AMT2  5625 non-null   float64\n",
      " 13  BILL_AMT3  5625 non-null   float64\n",
      " 14  BILL_AMT4  5625 non-null   float64\n",
      " 15  BILL_AMT5  5625 non-null   float64\n",
      " 16  BILL_AMT6  5625 non-null   float64\n",
      " 17  PAY_AMT1   5625 non-null   float64\n",
      " 18  PAY_AMT2   5625 non-null   float64\n",
      " 19  PAY_AMT3   5625 non-null   float64\n",
      " 20  PAY_AMT4   5625 non-null   float64\n",
      " 21  PAY_AMT5   5625 non-null   float64\n",
      " 22  PAY_AMT6   5625 non-null   float64\n",
      " 23  incumple   5625 non-null   int64  \n",
      "dtypes: float64(13), int64(11)\n",
      "memory usage: 1.0 MB\n"
     ]
    }
   ],
   "source": [
    "df.rename(columns = {'PAY_0':'PAY_1',\n",
    "                    'default.payment.next.month':'incumple'},\n",
    "          inplace = True)\n",
    "dim_antes = len(df)\n",
    "df = df.iloc[:,1:].copy()\n",
    "df.info()"
   ]
  },
  {
   "cell_type": "code",
   "execution_count": 64,
   "metadata": {
    "ExecuteTime": {
     "end_time": "2020-11-11T18:31:53.994049Z",
     "start_time": "2020-11-11T18:31:53.929443Z"
    }
   },
   "outputs": [
    {
     "name": "stdout",
     "output_type": "stream",
     "text": [
      "<class 'pandas.core.frame.DataFrame'>\n",
      "RangeIndex: 5625 entries, 0 to 5624\n",
      "Data columns (total 9 columns):\n",
      " #   Column     Non-Null Count  Dtype \n",
      "---  ------     --------------  ----- \n",
      " 0   SEX        5625 non-null   object\n",
      " 1   EDUCATION  5625 non-null   object\n",
      " 2   MARRIAGE   5625 non-null   object\n",
      " 3   PAY_1      5625 non-null   object\n",
      " 4   PAY_2      5625 non-null   object\n",
      " 5   PAY_3      5625 non-null   object\n",
      " 6   PAY_4      5625 non-null   object\n",
      " 7   PAY_5      5625 non-null   object\n",
      " 8   PAY_6      5625 non-null   object\n",
      "dtypes: object(9)\n",
      "memory usage: 395.6+ KB\n"
     ]
    }
   ],
   "source": [
    "cat = list(df.columns[1:11])\n",
    "cat = [x for x in cat if x not in ['AGE']]\n",
    "for col in cat:\n",
    "    df[col] = df[col].astype(str)\n",
    "df[cat].info()"
   ]
  },
  {
   "cell_type": "code",
   "execution_count": 65,
   "metadata": {
    "ExecuteTime": {
     "end_time": "2020-11-11T18:31:54.022897Z",
     "start_time": "2020-11-11T18:31:53.997654Z"
    }
   },
   "outputs": [
    {
     "name": "stdout",
     "output_type": "stream",
     "text": [
      "<class 'pandas.core.frame.DataFrame'>\n",
      "RangeIndex: 5625 entries, 0 to 5624\n",
      "Data columns (total 14 columns):\n",
      " #   Column     Non-Null Count  Dtype  \n",
      "---  ------     --------------  -----  \n",
      " 0   LIMIT_BAL  5625 non-null   float64\n",
      " 1   AGE        5625 non-null   int64  \n",
      " 2   BILL_AMT1  5625 non-null   float64\n",
      " 3   BILL_AMT2  5625 non-null   float64\n",
      " 4   BILL_AMT3  5625 non-null   float64\n",
      " 5   BILL_AMT4  5625 non-null   float64\n",
      " 6   BILL_AMT5  5625 non-null   float64\n",
      " 7   BILL_AMT6  5625 non-null   float64\n",
      " 8   PAY_AMT1   5625 non-null   float64\n",
      " 9   PAY_AMT2   5625 non-null   float64\n",
      " 10  PAY_AMT3   5625 non-null   float64\n",
      " 11  PAY_AMT4   5625 non-null   float64\n",
      " 12  PAY_AMT5   5625 non-null   float64\n",
      " 13  PAY_AMT6   5625 non-null   float64\n",
      "dtypes: float64(13), int64(1)\n",
      "memory usage: 615.4 KB\n"
     ]
    }
   ],
   "source": [
    "tgt = ['incumple']\n",
    "num = [col for col in df.columns if col not in cat + tgt]\n",
    "df[num].info()"
   ]
  },
  {
   "cell_type": "code",
   "execution_count": 66,
   "metadata": {
    "ExecuteTime": {
     "end_time": "2020-11-11T18:31:54.034139Z",
     "start_time": "2020-11-11T18:31:54.027711Z"
    }
   },
   "outputs": [],
   "source": [
    "pay = [col for col in df.columns if col.startswith('PAY')]\n",
    "pago = [x for x in pay if x.startswith('PAY_AMT')]\n",
    "estatus = [x for x in pay if x not in pago]\n",
    "monto = [col for col in df.columns if col.startswith('BILL')]"
   ]
  },
  {
   "cell_type": "markdown",
   "metadata": {},
   "source": [
    "## Análisis exploratorio"
   ]
  },
  {
   "cell_type": "markdown",
   "metadata": {},
   "source": [
    "### Categóricas"
   ]
  },
  {
   "cell_type": "code",
   "execution_count": 67,
   "metadata": {
    "ExecuteTime": {
     "end_time": "2020-11-11T18:31:54.079261Z",
     "start_time": "2020-11-11T18:31:54.038644Z"
    }
   },
   "outputs": [
    {
     "data": {
      "text/plain": [
       "SEX          0.0\n",
       "EDUCATION    0.0\n",
       "MARRIAGE     0.0\n",
       "PAY_1        0.0\n",
       "PAY_2        0.0\n",
       "PAY_3        0.0\n",
       "PAY_4        0.0\n",
       "PAY_5        0.0\n",
       "PAY_6        0.0\n",
       "dtype: float64"
      ]
     },
     "execution_count": 67,
     "metadata": {},
     "output_type": "execute_result"
    }
   ],
   "source": [
    "## Reemplazar por \"Otros\"\n",
    "dict_replace = {'0':'4',\n",
    "                '5':'4',\n",
    "                '6':'4'}\n",
    "df['EDUCATION'] = df['EDUCATION'].replace(dict_replace).copy()\n",
    "\n",
    "dict_replace = {'0':'3'}\n",
    "df['MARRIAGE'] = df['MARRIAGE'].replace(dict_replace).copy()\n",
    "\n",
    "df[cat].isnull().sum() / len(df)"
   ]
  },
  {
   "cell_type": "code",
   "execution_count": 68,
   "metadata": {
    "ExecuteTime": {
     "end_time": "2020-11-11T18:31:54.091981Z",
     "start_time": "2020-11-11T18:31:54.084193Z"
    }
   },
   "outputs": [
    {
     "data": {
      "text/plain": [
       "1.0"
      ]
     },
     "execution_count": 68,
     "metadata": {},
     "output_type": "execute_result"
    }
   ],
   "source": [
    "len(df) / dim_antes"
   ]
  },
  {
   "cell_type": "markdown",
   "metadata": {},
   "source": [
    "### Numéricas"
   ]
  },
  {
   "cell_type": "code",
   "execution_count": 69,
   "metadata": {
    "ExecuteTime": {
     "end_time": "2020-11-11T18:31:56.694118Z",
     "start_time": "2020-11-11T18:31:54.099544Z"
    }
   },
   "outputs": [
    {
     "data": {
      "text/plain": [
       "array([[<AxesSubplot:title={'center':'LIMIT_BAL'}>,\n",
       "        <AxesSubplot:title={'center':'AGE'}>,\n",
       "        <AxesSubplot:title={'center':'BILL_AMT1'}>,\n",
       "        <AxesSubplot:title={'center':'BILL_AMT2'}>],\n",
       "       [<AxesSubplot:title={'center':'BILL_AMT3'}>,\n",
       "        <AxesSubplot:title={'center':'BILL_AMT4'}>,\n",
       "        <AxesSubplot:title={'center':'BILL_AMT5'}>,\n",
       "        <AxesSubplot:title={'center':'BILL_AMT6'}>],\n",
       "       [<AxesSubplot:title={'center':'PAY_AMT1'}>,\n",
       "        <AxesSubplot:title={'center':'PAY_AMT2'}>,\n",
       "        <AxesSubplot:title={'center':'PAY_AMT3'}>,\n",
       "        <AxesSubplot:title={'center':'PAY_AMT4'}>],\n",
       "       [<AxesSubplot:title={'center':'PAY_AMT5'}>,\n",
       "        <AxesSubplot:title={'center':'PAY_AMT6'}>, <AxesSubplot:>,\n",
       "        <AxesSubplot:>]], dtype=object)"
      ]
     },
     "execution_count": 69,
     "metadata": {},
     "output_type": "execute_result"
    },
    {
     "data": {
      "image/png": "[encoded data removed]",
      "text/plain": [
       "<Figure size 432x288 with 16 Axes>"
      ]
     },
     "metadata": {
      "needs_background": "light"
     },
     "output_type": "display_data"
    }
   ],
   "source": [
    "df[num].hist()"
   ]
  },
  {
   "cell_type": "code",
   "execution_count": 70,
   "metadata": {
    "ExecuteTime": {
     "end_time": "2020-11-11T18:31:56.705714Z",
     "start_time": "2020-11-11T18:31:56.698192Z"
    }
   },
   "outputs": [
    {
     "data": {
      "text/plain": [
       "1.0"
      ]
     },
     "execution_count": 70,
     "metadata": {},
     "output_type": "execute_result"
    }
   ],
   "source": [
    "len(df) / dim_antes"
   ]
  },
  {
   "cell_type": "markdown",
   "metadata": {},
   "source": [
    "## Ingeniería de variables"
   ]
  },
  {
   "cell_type": "markdown",
   "metadata": {},
   "source": [
    "### Numéricas"
   ]
  },
  {
   "cell_type": "code",
   "execution_count": 71,
   "metadata": {
    "ExecuteTime": {
     "end_time": "2020-11-11T18:31:56.866165Z",
     "start_time": "2020-11-11T18:31:56.708721Z"
    },
    "scrolled": false
   },
   "outputs": [
    {
     "data": {
      "text/plain": [
       "count      5625.000000\n",
       "mean      45191.350252\n",
       "std       64282.868301\n",
       "min       -7081.166667\n",
       "25%        4580.500000\n",
       "50%       20064.500000\n",
       "75%       56411.500000\n",
       "max      548854.333333\n",
       "Name: Prom_monto, dtype: float64"
      ]
     },
     "execution_count": 71,
     "metadata": {},
     "output_type": "execute_result"
    }
   ],
   "source": [
    "## Promedio de todos los montos de pago\n",
    "df['Prom_monto'] = df[monto].mean(axis = 1)\n",
    "num += ['Prom_monto']\n",
    "df['Prom_monto'].describe()"
   ]
  },
  {
   "cell_type": "code",
   "execution_count": 72,
   "metadata": {
    "ExecuteTime": {
     "end_time": "2020-11-11T18:31:56.911586Z",
     "start_time": "2020-11-11T18:31:56.870561Z"
    },
    "scrolled": true
   },
   "outputs": [
    {
     "data": {
      "text/plain": [
       "count      5625.000000\n",
       "mean       5328.803081\n",
       "std       12037.570814\n",
       "min           0.000000\n",
       "25%        1092.333333\n",
       "50%        2321.666667\n",
       "75%        5500.000000\n",
       "max      627344.333333\n",
       "Name: Prom_pago, dtype: float64"
      ]
     },
     "execution_count": 72,
     "metadata": {},
     "output_type": "execute_result"
    }
   ],
   "source": [
    "## Promedio de todos los pagos de pago\n",
    "df['Prom_pago'] = df[pago].mean(axis = 1)\n",
    "num += ['Prom_pago']\n",
    "df['Prom_pago'].describe()"
   ]
  },
  {
   "cell_type": "code",
   "execution_count": 73,
   "metadata": {
    "ExecuteTime": {
     "end_time": "2020-11-11T18:31:57.319452Z",
     "start_time": "2020-11-11T18:31:56.915064Z"
    },
    "scrolled": true
   },
   "outputs": [
    {
     "data": {
      "text/plain": [
       "<AxesSubplot:>"
      ]
     },
     "execution_count": 73,
     "metadata": {},
     "output_type": "execute_result"
    },
    {
     "data": {
      "image/png": "[encoded data removed]",
      "text/plain": [
       "<Figure size 432x288 with 1 Axes>"
      ]
     },
     "metadata": {
      "needs_background": "light"
     },
     "output_type": "display_data"
    }
   ],
   "source": [
    "for x in monto:\n",
    "    df[f'Lim_{x}'] = df[x] / df['LIMIT_BAL']\n",
    "\n",
    "df['Lim_edad'] = df['LIMIT_BAL'] / df['AGE']\n",
    "\n",
    "lim = [col for col in df.columns if col.startswith('Lim')]\n",
    "num += lim\n",
    "\n",
    "df['Lim_edad'].hist()"
   ]
  },
  {
   "cell_type": "code",
   "execution_count": 74,
   "metadata": {
    "ExecuteTime": {
     "end_time": "2020-11-11T18:31:57.354408Z",
     "start_time": "2020-11-11T18:31:57.325670Z"
    }
   },
   "outputs": [
    {
     "data": {
      "text/plain": [
       "(5625, 33)"
      ]
     },
     "execution_count": 74,
     "metadata": {},
     "output_type": "execute_result"
    }
   ],
   "source": [
    "## Dimensión hasta ahora\n",
    "df.shape"
   ]
  },
  {
   "cell_type": "code",
   "execution_count": 75,
   "metadata": {
    "ExecuteTime": {
     "end_time": "2020-11-11T18:31:57.378956Z",
     "start_time": "2020-11-11T18:31:57.368239Z"
    }
   },
   "outputs": [],
   "source": [
    "df.reset_index(drop = True, inplace = True)"
   ]
  },
  {
   "cell_type": "markdown",
   "metadata": {},
   "source": [
    "### Categóricas"
   ]
  },
  {
   "cell_type": "code",
   "execution_count": 76,
   "metadata": {
    "ExecuteTime": {
     "end_time": "2020-11-11T18:31:58.029417Z",
     "start_time": "2020-11-11T18:31:57.390677Z"
    }
   },
   "outputs": [
    {
     "data": {
      "text/html": [
       "<div>\n",
       "<style scoped>\n",
       "    .dataframe tbody tr th:only-of-type {\n",
       "        vertical-align: middle;\n",
       "    }\n",
       "\n",
       "    .dataframe tbody tr th {\n",
       "        vertical-align: top;\n",
       "    }\n",
       "\n",
       "    .dataframe thead th {\n",
       "        text-align: right;\n",
       "    }\n",
       "</style>\n",
       "<table border=\"1\" class=\"dataframe\">\n",
       "  <thead>\n",
       "    <tr style=\"text-align: right;\">\n",
       "      <th></th>\n",
       "      <th>index</th>\n",
       "      <th>PAY_1</th>\n",
       "    </tr>\n",
       "  </thead>\n",
       "  <tbody>\n",
       "    <tr>\n",
       "      <th>2</th>\n",
       "      <td>-1</td>\n",
       "      <td>0.188978</td>\n",
       "    </tr>\n",
       "    <tr>\n",
       "      <th>3</th>\n",
       "      <td>-2</td>\n",
       "      <td>0.093156</td>\n",
       "    </tr>\n",
       "    <tr>\n",
       "      <th>0</th>\n",
       "      <td>0</td>\n",
       "      <td>0.494400</td>\n",
       "    </tr>\n",
       "    <tr>\n",
       "      <th>1</th>\n",
       "      <td>&gt;=1</td>\n",
       "      <td>0.223467</td>\n",
       "    </tr>\n",
       "  </tbody>\n",
       "</table>\n",
       "</div>"
      ],
      "text/plain": [
       "  index     PAY_1\n",
       "2    -1  0.188978\n",
       "3    -2  0.093156\n",
       "0     0  0.494400\n",
       "1   >=1  0.223467"
      ]
     },
     "metadata": {},
     "output_type": "display_data"
    },
    {
     "data": {
      "text/html": [
       "<div>\n",
       "<style scoped>\n",
       "    .dataframe tbody tr th:only-of-type {\n",
       "        vertical-align: middle;\n",
       "    }\n",
       "\n",
       "    .dataframe tbody tr th {\n",
       "        vertical-align: top;\n",
       "    }\n",
       "\n",
       "    .dataframe thead th {\n",
       "        text-align: right;\n",
       "    }\n",
       "</style>\n",
       "<table border=\"1\" class=\"dataframe\">\n",
       "  <thead>\n",
       "    <tr style=\"text-align: right;\">\n",
       "      <th></th>\n",
       "      <th>index</th>\n",
       "      <th>PAY_2</th>\n",
       "    </tr>\n",
       "  </thead>\n",
       "  <tbody>\n",
       "    <tr>\n",
       "      <th>1</th>\n",
       "      <td>-1</td>\n",
       "      <td>0.200533</td>\n",
       "    </tr>\n",
       "    <tr>\n",
       "      <th>3</th>\n",
       "      <td>-2</td>\n",
       "      <td>0.125689</td>\n",
       "    </tr>\n",
       "    <tr>\n",
       "      <th>0</th>\n",
       "      <td>0</td>\n",
       "      <td>0.526933</td>\n",
       "    </tr>\n",
       "    <tr>\n",
       "      <th>2</th>\n",
       "      <td>&gt;=1</td>\n",
       "      <td>0.146844</td>\n",
       "    </tr>\n",
       "  </tbody>\n",
       "</table>\n",
       "</div>"
      ],
      "text/plain": [
       "  index     PAY_2\n",
       "1    -1  0.200533\n",
       "3    -2  0.125689\n",
       "0     0  0.526933\n",
       "2   >=1  0.146844"
      ]
     },
     "metadata": {},
     "output_type": "display_data"
    },
    {
     "data": {
      "text/html": [
       "<div>\n",
       "<style scoped>\n",
       "    .dataframe tbody tr th:only-of-type {\n",
       "        vertical-align: middle;\n",
       "    }\n",
       "\n",
       "    .dataframe tbody tr th {\n",
       "        vertical-align: top;\n",
       "    }\n",
       "\n",
       "    .dataframe thead th {\n",
       "        text-align: right;\n",
       "    }\n",
       "</style>\n",
       "<table border=\"1\" class=\"dataframe\">\n",
       "  <thead>\n",
       "    <tr style=\"text-align: right;\">\n",
       "      <th></th>\n",
       "      <th>index</th>\n",
       "      <th>PAY_3</th>\n",
       "    </tr>\n",
       "  </thead>\n",
       "  <tbody>\n",
       "    <tr>\n",
       "      <th>1</th>\n",
       "      <td>-1</td>\n",
       "      <td>0.200356</td>\n",
       "    </tr>\n",
       "    <tr>\n",
       "      <th>3</th>\n",
       "      <td>-2</td>\n",
       "      <td>0.134578</td>\n",
       "    </tr>\n",
       "    <tr>\n",
       "      <th>0</th>\n",
       "      <td>0</td>\n",
       "      <td>0.527822</td>\n",
       "    </tr>\n",
       "    <tr>\n",
       "      <th>2</th>\n",
       "      <td>&gt;=1</td>\n",
       "      <td>0.137244</td>\n",
       "    </tr>\n",
       "  </tbody>\n",
       "</table>\n",
       "</div>"
      ],
      "text/plain": [
       "  index     PAY_3\n",
       "1    -1  0.200356\n",
       "3    -2  0.134578\n",
       "0     0  0.527822\n",
       "2   >=1  0.137244"
      ]
     },
     "metadata": {},
     "output_type": "display_data"
    },
    {
     "data": {
      "text/html": [
       "<div>\n",
       "<style scoped>\n",
       "    .dataframe tbody tr th:only-of-type {\n",
       "        vertical-align: middle;\n",
       "    }\n",
       "\n",
       "    .dataframe tbody tr th {\n",
       "        vertical-align: top;\n",
       "    }\n",
       "\n",
       "    .dataframe thead th {\n",
       "        text-align: right;\n",
       "    }\n",
       "</style>\n",
       "<table border=\"1\" class=\"dataframe\">\n",
       "  <thead>\n",
       "    <tr style=\"text-align: right;\">\n",
       "      <th></th>\n",
       "      <th>index</th>\n",
       "      <th>PAY_4</th>\n",
       "    </tr>\n",
       "  </thead>\n",
       "  <tbody>\n",
       "    <tr>\n",
       "      <th>1</th>\n",
       "      <td>-1</td>\n",
       "      <td>0.191289</td>\n",
       "    </tr>\n",
       "    <tr>\n",
       "      <th>2</th>\n",
       "      <td>-2</td>\n",
       "      <td>0.142933</td>\n",
       "    </tr>\n",
       "    <tr>\n",
       "      <th>0</th>\n",
       "      <td>0</td>\n",
       "      <td>0.552178</td>\n",
       "    </tr>\n",
       "    <tr>\n",
       "      <th>3</th>\n",
       "      <td>&gt;=1</td>\n",
       "      <td>0.113600</td>\n",
       "    </tr>\n",
       "  </tbody>\n",
       "</table>\n",
       "</div>"
      ],
      "text/plain": [
       "  index     PAY_4\n",
       "1    -1  0.191289\n",
       "2    -2  0.142933\n",
       "0     0  0.552178\n",
       "3   >=1  0.113600"
      ]
     },
     "metadata": {},
     "output_type": "display_data"
    },
    {
     "data": {
      "text/html": [
       "<div>\n",
       "<style scoped>\n",
       "    .dataframe tbody tr th:only-of-type {\n",
       "        vertical-align: middle;\n",
       "    }\n",
       "\n",
       "    .dataframe tbody tr th {\n",
       "        vertical-align: top;\n",
       "    }\n",
       "\n",
       "    .dataframe thead th {\n",
       "        text-align: right;\n",
       "    }\n",
       "</style>\n",
       "<table border=\"1\" class=\"dataframe\">\n",
       "  <thead>\n",
       "    <tr style=\"text-align: right;\">\n",
       "      <th></th>\n",
       "      <th>index</th>\n",
       "      <th>PAY_5</th>\n",
       "    </tr>\n",
       "  </thead>\n",
       "  <tbody>\n",
       "    <tr>\n",
       "      <th>1</th>\n",
       "      <td>-1</td>\n",
       "      <td>0.181689</td>\n",
       "    </tr>\n",
       "    <tr>\n",
       "      <th>2</th>\n",
       "      <td>-2</td>\n",
       "      <td>0.150933</td>\n",
       "    </tr>\n",
       "    <tr>\n",
       "      <th>0</th>\n",
       "      <td>0</td>\n",
       "      <td>0.573156</td>\n",
       "    </tr>\n",
       "    <tr>\n",
       "      <th>3</th>\n",
       "      <td>&gt;=1</td>\n",
       "      <td>0.094222</td>\n",
       "    </tr>\n",
       "  </tbody>\n",
       "</table>\n",
       "</div>"
      ],
      "text/plain": [
       "  index     PAY_5\n",
       "1    -1  0.181689\n",
       "2    -2  0.150933\n",
       "0     0  0.573156\n",
       "3   >=1  0.094222"
      ]
     },
     "metadata": {},
     "output_type": "display_data"
    },
    {
     "data": {
      "text/html": [
       "<div>\n",
       "<style scoped>\n",
       "    .dataframe tbody tr th:only-of-type {\n",
       "        vertical-align: middle;\n",
       "    }\n",
       "\n",
       "    .dataframe tbody tr th {\n",
       "        vertical-align: top;\n",
       "    }\n",
       "\n",
       "    .dataframe thead th {\n",
       "        text-align: right;\n",
       "    }\n",
       "</style>\n",
       "<table border=\"1\" class=\"dataframe\">\n",
       "  <thead>\n",
       "    <tr style=\"text-align: right;\">\n",
       "      <th></th>\n",
       "      <th>index</th>\n",
       "      <th>PAY_6</th>\n",
       "    </tr>\n",
       "  </thead>\n",
       "  <tbody>\n",
       "    <tr>\n",
       "      <th>1</th>\n",
       "      <td>-1</td>\n",
       "      <td>0.189156</td>\n",
       "    </tr>\n",
       "    <tr>\n",
       "      <th>2</th>\n",
       "      <td>-2</td>\n",
       "      <td>0.164444</td>\n",
       "    </tr>\n",
       "    <tr>\n",
       "      <th>0</th>\n",
       "      <td>0</td>\n",
       "      <td>0.542044</td>\n",
       "    </tr>\n",
       "    <tr>\n",
       "      <th>3</th>\n",
       "      <td>&gt;=1</td>\n",
       "      <td>0.104356</td>\n",
       "    </tr>\n",
       "  </tbody>\n",
       "</table>\n",
       "</div>"
      ],
      "text/plain": [
       "  index     PAY_6\n",
       "1    -1  0.189156\n",
       "2    -2  0.164444\n",
       "0     0  0.542044\n",
       "3   >=1  0.104356"
      ]
     },
     "metadata": {},
     "output_type": "display_data"
    }
   ],
   "source": [
    "for col in estatus:\n",
    "    aux = []\n",
    "    for i in range(len(df)):\n",
    "        if int(df[col][i]) >= 1:\n",
    "            aux.append('>=1')\n",
    "        else:\n",
    "            aux.append(df[col][i])\n",
    "    df[col] = aux\n",
    "\n",
    "for col in estatus:\n",
    "    display(df[col].value_counts(1).reset_index().sort_values(by = 'index'))"
   ]
  },
  {
   "cell_type": "code",
   "execution_count": 77,
   "metadata": {
    "ExecuteTime": {
     "end_time": "2020-11-11T18:31:58.289927Z",
     "start_time": "2020-11-11T18:31:58.034204Z"
    }
   },
   "outputs": [
    {
     "data": {
      "text/html": [
       "<div>\n",
       "<style scoped>\n",
       "    .dataframe tbody tr th:only-of-type {\n",
       "        vertical-align: middle;\n",
       "    }\n",
       "\n",
       "    .dataframe tbody tr th {\n",
       "        vertical-align: top;\n",
       "    }\n",
       "\n",
       "    .dataframe thead th {\n",
       "        text-align: right;\n",
       "    }\n",
       "</style>\n",
       "<table border=\"1\" class=\"dataframe\">\n",
       "  <thead>\n",
       "    <tr style=\"text-align: right;\">\n",
       "      <th></th>\n",
       "      <th>index</th>\n",
       "      <th>BILL_AMT1_tipo</th>\n",
       "    </tr>\n",
       "  </thead>\n",
       "  <tbody>\n",
       "    <tr>\n",
       "      <th>0</th>\n",
       "      <td>&gt;0</td>\n",
       "      <td>0.914489</td>\n",
       "    </tr>\n",
       "    <tr>\n",
       "      <th>1</th>\n",
       "      <td>&lt;=0</td>\n",
       "      <td>0.085511</td>\n",
       "    </tr>\n",
       "  </tbody>\n",
       "</table>\n",
       "</div>"
      ],
      "text/plain": [
       "  index  BILL_AMT1_tipo\n",
       "0    >0        0.914489\n",
       "1   <=0        0.085511"
      ]
     },
     "metadata": {},
     "output_type": "display_data"
    },
    {
     "data": {
      "text/html": [
       "<div>\n",
       "<style scoped>\n",
       "    .dataframe tbody tr th:only-of-type {\n",
       "        vertical-align: middle;\n",
       "    }\n",
       "\n",
       "    .dataframe tbody tr th {\n",
       "        vertical-align: top;\n",
       "    }\n",
       "\n",
       "    .dataframe thead th {\n",
       "        text-align: right;\n",
       "    }\n",
       "</style>\n",
       "<table border=\"1\" class=\"dataframe\">\n",
       "  <thead>\n",
       "    <tr style=\"text-align: right;\">\n",
       "      <th></th>\n",
       "      <th>index</th>\n",
       "      <th>BILL_AMT2_tipo</th>\n",
       "    </tr>\n",
       "  </thead>\n",
       "  <tbody>\n",
       "    <tr>\n",
       "      <th>0</th>\n",
       "      <td>&gt;0</td>\n",
       "      <td>0.894222</td>\n",
       "    </tr>\n",
       "    <tr>\n",
       "      <th>1</th>\n",
       "      <td>&lt;=0</td>\n",
       "      <td>0.105778</td>\n",
       "    </tr>\n",
       "  </tbody>\n",
       "</table>\n",
       "</div>"
      ],
      "text/plain": [
       "  index  BILL_AMT2_tipo\n",
       "0    >0        0.894222\n",
       "1   <=0        0.105778"
      ]
     },
     "metadata": {},
     "output_type": "display_data"
    },
    {
     "data": {
      "text/html": [
       "<div>\n",
       "<style scoped>\n",
       "    .dataframe tbody tr th:only-of-type {\n",
       "        vertical-align: middle;\n",
       "    }\n",
       "\n",
       "    .dataframe tbody tr th {\n",
       "        vertical-align: top;\n",
       "    }\n",
       "\n",
       "    .dataframe thead th {\n",
       "        text-align: right;\n",
       "    }\n",
       "</style>\n",
       "<table border=\"1\" class=\"dataframe\">\n",
       "  <thead>\n",
       "    <tr style=\"text-align: right;\">\n",
       "      <th></th>\n",
       "      <th>index</th>\n",
       "      <th>BILL_AMT3_tipo</th>\n",
       "    </tr>\n",
       "  </thead>\n",
       "  <tbody>\n",
       "    <tr>\n",
       "      <th>0</th>\n",
       "      <td>&gt;0</td>\n",
       "      <td>0.886222</td>\n",
       "    </tr>\n",
       "    <tr>\n",
       "      <th>1</th>\n",
       "      <td>&lt;=0</td>\n",
       "      <td>0.113778</td>\n",
       "    </tr>\n",
       "  </tbody>\n",
       "</table>\n",
       "</div>"
      ],
      "text/plain": [
       "  index  BILL_AMT3_tipo\n",
       "0    >0        0.886222\n",
       "1   <=0        0.113778"
      ]
     },
     "metadata": {},
     "output_type": "display_data"
    },
    {
     "data": {
      "text/html": [
       "<div>\n",
       "<style scoped>\n",
       "    .dataframe tbody tr th:only-of-type {\n",
       "        vertical-align: middle;\n",
       "    }\n",
       "\n",
       "    .dataframe tbody tr th {\n",
       "        vertical-align: top;\n",
       "    }\n",
       "\n",
       "    .dataframe thead th {\n",
       "        text-align: right;\n",
       "    }\n",
       "</style>\n",
       "<table border=\"1\" class=\"dataframe\">\n",
       "  <thead>\n",
       "    <tr style=\"text-align: right;\">\n",
       "      <th></th>\n",
       "      <th>index</th>\n",
       "      <th>BILL_AMT4_tipo</th>\n",
       "    </tr>\n",
       "  </thead>\n",
       "  <tbody>\n",
       "    <tr>\n",
       "      <th>0</th>\n",
       "      <td>&gt;0</td>\n",
       "      <td>0.870044</td>\n",
       "    </tr>\n",
       "    <tr>\n",
       "      <th>1</th>\n",
       "      <td>&lt;=0</td>\n",
       "      <td>0.129956</td>\n",
       "    </tr>\n",
       "  </tbody>\n",
       "</table>\n",
       "</div>"
      ],
      "text/plain": [
       "  index  BILL_AMT4_tipo\n",
       "0    >0        0.870044\n",
       "1   <=0        0.129956"
      ]
     },
     "metadata": {},
     "output_type": "display_data"
    },
    {
     "data": {
      "text/html": [
       "<div>\n",
       "<style scoped>\n",
       "    .dataframe tbody tr th:only-of-type {\n",
       "        vertical-align: middle;\n",
       "    }\n",
       "\n",
       "    .dataframe tbody tr th {\n",
       "        vertical-align: top;\n",
       "    }\n",
       "\n",
       "    .dataframe thead th {\n",
       "        text-align: right;\n",
       "    }\n",
       "</style>\n",
       "<table border=\"1\" class=\"dataframe\">\n",
       "  <thead>\n",
       "    <tr style=\"text-align: right;\">\n",
       "      <th></th>\n",
       "      <th>index</th>\n",
       "      <th>BILL_AMT5_tipo</th>\n",
       "    </tr>\n",
       "  </thead>\n",
       "  <tbody>\n",
       "    <tr>\n",
       "      <th>0</th>\n",
       "      <td>&gt;0</td>\n",
       "      <td>0.862933</td>\n",
       "    </tr>\n",
       "    <tr>\n",
       "      <th>1</th>\n",
       "      <td>&lt;=0</td>\n",
       "      <td>0.137067</td>\n",
       "    </tr>\n",
       "  </tbody>\n",
       "</table>\n",
       "</div>"
      ],
      "text/plain": [
       "  index  BILL_AMT5_tipo\n",
       "0    >0        0.862933\n",
       "1   <=0        0.137067"
      ]
     },
     "metadata": {},
     "output_type": "display_data"
    },
    {
     "data": {
      "text/html": [
       "<div>\n",
       "<style scoped>\n",
       "    .dataframe tbody tr th:only-of-type {\n",
       "        vertical-align: middle;\n",
       "    }\n",
       "\n",
       "    .dataframe tbody tr th {\n",
       "        vertical-align: top;\n",
       "    }\n",
       "\n",
       "    .dataframe thead th {\n",
       "        text-align: right;\n",
       "    }\n",
       "</style>\n",
       "<table border=\"1\" class=\"dataframe\">\n",
       "  <thead>\n",
       "    <tr style=\"text-align: right;\">\n",
       "      <th></th>\n",
       "      <th>index</th>\n",
       "      <th>BILL_AMT6_tipo</th>\n",
       "    </tr>\n",
       "  </thead>\n",
       "  <tbody>\n",
       "    <tr>\n",
       "      <th>0</th>\n",
       "      <td>&gt;0</td>\n",
       "      <td>0.843378</td>\n",
       "    </tr>\n",
       "    <tr>\n",
       "      <th>1</th>\n",
       "      <td>&lt;=0</td>\n",
       "      <td>0.156622</td>\n",
       "    </tr>\n",
       "  </tbody>\n",
       "</table>\n",
       "</div>"
      ],
      "text/plain": [
       "  index  BILL_AMT6_tipo\n",
       "0    >0        0.843378\n",
       "1   <=0        0.156622"
      ]
     },
     "metadata": {},
     "output_type": "display_data"
    },
    {
     "data": {
      "text/html": [
       "<div>\n",
       "<style scoped>\n",
       "    .dataframe tbody tr th:only-of-type {\n",
       "        vertical-align: middle;\n",
       "    }\n",
       "\n",
       "    .dataframe tbody tr th {\n",
       "        vertical-align: top;\n",
       "    }\n",
       "\n",
       "    .dataframe thead th {\n",
       "        text-align: right;\n",
       "    }\n",
       "</style>\n",
       "<table border=\"1\" class=\"dataframe\">\n",
       "  <thead>\n",
       "    <tr style=\"text-align: right;\">\n",
       "      <th></th>\n",
       "      <th>index</th>\n",
       "      <th>PAY_AMT1_tipo</th>\n",
       "    </tr>\n",
       "  </thead>\n",
       "  <tbody>\n",
       "    <tr>\n",
       "      <th>0</th>\n",
       "      <td>&gt;0</td>\n",
       "      <td>0.824711</td>\n",
       "    </tr>\n",
       "    <tr>\n",
       "      <th>1</th>\n",
       "      <td>&lt;=0</td>\n",
       "      <td>0.175289</td>\n",
       "    </tr>\n",
       "  </tbody>\n",
       "</table>\n",
       "</div>"
      ],
      "text/plain": [
       "  index  PAY_AMT1_tipo\n",
       "0    >0       0.824711\n",
       "1   <=0       0.175289"
      ]
     },
     "metadata": {},
     "output_type": "display_data"
    },
    {
     "data": {
      "text/html": [
       "<div>\n",
       "<style scoped>\n",
       "    .dataframe tbody tr th:only-of-type {\n",
       "        vertical-align: middle;\n",
       "    }\n",
       "\n",
       "    .dataframe tbody tr th {\n",
       "        vertical-align: top;\n",
       "    }\n",
       "\n",
       "    .dataframe thead th {\n",
       "        text-align: right;\n",
       "    }\n",
       "</style>\n",
       "<table border=\"1\" class=\"dataframe\">\n",
       "  <thead>\n",
       "    <tr style=\"text-align: right;\">\n",
       "      <th></th>\n",
       "      <th>index</th>\n",
       "      <th>PAY_AMT2_tipo</th>\n",
       "    </tr>\n",
       "  </thead>\n",
       "  <tbody>\n",
       "    <tr>\n",
       "      <th>0</th>\n",
       "      <td>&gt;0</td>\n",
       "      <td>0.823111</td>\n",
       "    </tr>\n",
       "    <tr>\n",
       "      <th>1</th>\n",
       "      <td>&lt;=0</td>\n",
       "      <td>0.176889</td>\n",
       "    </tr>\n",
       "  </tbody>\n",
       "</table>\n",
       "</div>"
      ],
      "text/plain": [
       "  index  PAY_AMT2_tipo\n",
       "0    >0       0.823111\n",
       "1   <=0       0.176889"
      ]
     },
     "metadata": {},
     "output_type": "display_data"
    },
    {
     "data": {
      "text/html": [
       "<div>\n",
       "<style scoped>\n",
       "    .dataframe tbody tr th:only-of-type {\n",
       "        vertical-align: middle;\n",
       "    }\n",
       "\n",
       "    .dataframe tbody tr th {\n",
       "        vertical-align: top;\n",
       "    }\n",
       "\n",
       "    .dataframe thead th {\n",
       "        text-align: right;\n",
       "    }\n",
       "</style>\n",
       "<table border=\"1\" class=\"dataframe\">\n",
       "  <thead>\n",
       "    <tr style=\"text-align: right;\">\n",
       "      <th></th>\n",
       "      <th>index</th>\n",
       "      <th>PAY_AMT3_tipo</th>\n",
       "    </tr>\n",
       "  </thead>\n",
       "  <tbody>\n",
       "    <tr>\n",
       "      <th>0</th>\n",
       "      <td>&gt;0</td>\n",
       "      <td>0.796622</td>\n",
       "    </tr>\n",
       "    <tr>\n",
       "      <th>1</th>\n",
       "      <td>&lt;=0</td>\n",
       "      <td>0.203378</td>\n",
       "    </tr>\n",
       "  </tbody>\n",
       "</table>\n",
       "</div>"
      ],
      "text/plain": [
       "  index  PAY_AMT3_tipo\n",
       "0    >0       0.796622\n",
       "1   <=0       0.203378"
      ]
     },
     "metadata": {},
     "output_type": "display_data"
    },
    {
     "data": {
      "text/html": [
       "<div>\n",
       "<style scoped>\n",
       "    .dataframe tbody tr th:only-of-type {\n",
       "        vertical-align: middle;\n",
       "    }\n",
       "\n",
       "    .dataframe tbody tr th {\n",
       "        vertical-align: top;\n",
       "    }\n",
       "\n",
       "    .dataframe thead th {\n",
       "        text-align: right;\n",
       "    }\n",
       "</style>\n",
       "<table border=\"1\" class=\"dataframe\">\n",
       "  <thead>\n",
       "    <tr style=\"text-align: right;\">\n",
       "      <th></th>\n",
       "      <th>index</th>\n",
       "      <th>PAY_AMT4_tipo</th>\n",
       "    </tr>\n",
       "  </thead>\n",
       "  <tbody>\n",
       "    <tr>\n",
       "      <th>0</th>\n",
       "      <td>&gt;0</td>\n",
       "      <td>0.791467</td>\n",
       "    </tr>\n",
       "    <tr>\n",
       "      <th>1</th>\n",
       "      <td>&lt;=0</td>\n",
       "      <td>0.208533</td>\n",
       "    </tr>\n",
       "  </tbody>\n",
       "</table>\n",
       "</div>"
      ],
      "text/plain": [
       "  index  PAY_AMT4_tipo\n",
       "0    >0       0.791467\n",
       "1   <=0       0.208533"
      ]
     },
     "metadata": {},
     "output_type": "display_data"
    },
    {
     "data": {
      "text/html": [
       "<div>\n",
       "<style scoped>\n",
       "    .dataframe tbody tr th:only-of-type {\n",
       "        vertical-align: middle;\n",
       "    }\n",
       "\n",
       "    .dataframe tbody tr th {\n",
       "        vertical-align: top;\n",
       "    }\n",
       "\n",
       "    .dataframe thead th {\n",
       "        text-align: right;\n",
       "    }\n",
       "</style>\n",
       "<table border=\"1\" class=\"dataframe\">\n",
       "  <thead>\n",
       "    <tr style=\"text-align: right;\">\n",
       "      <th></th>\n",
       "      <th>index</th>\n",
       "      <th>PAY_AMT5_tipo</th>\n",
       "    </tr>\n",
       "  </thead>\n",
       "  <tbody>\n",
       "    <tr>\n",
       "      <th>0</th>\n",
       "      <td>&gt;0</td>\n",
       "      <td>0.769244</td>\n",
       "    </tr>\n",
       "    <tr>\n",
       "      <th>1</th>\n",
       "      <td>&lt;=0</td>\n",
       "      <td>0.230756</td>\n",
       "    </tr>\n",
       "  </tbody>\n",
       "</table>\n",
       "</div>"
      ],
      "text/plain": [
       "  index  PAY_AMT5_tipo\n",
       "0    >0       0.769244\n",
       "1   <=0       0.230756"
      ]
     },
     "metadata": {},
     "output_type": "display_data"
    },
    {
     "data": {
      "text/html": [
       "<div>\n",
       "<style scoped>\n",
       "    .dataframe tbody tr th:only-of-type {\n",
       "        vertical-align: middle;\n",
       "    }\n",
       "\n",
       "    .dataframe tbody tr th {\n",
       "        vertical-align: top;\n",
       "    }\n",
       "\n",
       "    .dataframe thead th {\n",
       "        text-align: right;\n",
       "    }\n",
       "</style>\n",
       "<table border=\"1\" class=\"dataframe\">\n",
       "  <thead>\n",
       "    <tr style=\"text-align: right;\">\n",
       "      <th></th>\n",
       "      <th>index</th>\n",
       "      <th>PAY_AMT6_tipo</th>\n",
       "    </tr>\n",
       "  </thead>\n",
       "  <tbody>\n",
       "    <tr>\n",
       "      <th>0</th>\n",
       "      <td>&gt;0</td>\n",
       "      <td>0.761956</td>\n",
       "    </tr>\n",
       "    <tr>\n",
       "      <th>1</th>\n",
       "      <td>&lt;=0</td>\n",
       "      <td>0.238044</td>\n",
       "    </tr>\n",
       "  </tbody>\n",
       "</table>\n",
       "</div>"
      ],
      "text/plain": [
       "  index  PAY_AMT6_tipo\n",
       "0    >0       0.761956\n",
       "1   <=0       0.238044"
      ]
     },
     "metadata": {},
     "output_type": "display_data"
    }
   ],
   "source": [
    "## Monto negativo/cero o pago igual a cero?\n",
    "tipo = []\n",
    "for col in monto + pago:\n",
    "    aux = []\n",
    "    for x in df[col]:\n",
    "        if int(x) <= 0:\n",
    "            aux.append('<=0')\n",
    "        else:\n",
    "            aux.append('>0')\n",
    "    df[f'{col}_tipo'] = aux\n",
    "    tipo += [f'{col}_tipo']\n",
    "\n",
    "for x in tipo:\n",
    "    display(df[x].value_counts(1).reset_index())"
   ]
  },
  {
   "cell_type": "code",
   "execution_count": 78,
   "metadata": {
    "ExecuteTime": {
     "end_time": "2020-11-11T18:31:58.363091Z",
     "start_time": "2020-11-11T18:31:58.294540Z"
    }
   },
   "outputs": [
    {
     "name": "stdout",
     "output_type": "stream",
     "text": [
      "<class 'pandas.core.frame.DataFrame'>\n",
      "RangeIndex: 5625 entries, 0 to 5624\n",
      "Data columns (total 9 columns):\n",
      " #   Column     Non-Null Count  Dtype \n",
      "---  ------     --------------  ----- \n",
      " 0   SEX        5625 non-null   object\n",
      " 1   EDUCATION  5625 non-null   object\n",
      " 2   MARRIAGE   5625 non-null   object\n",
      " 3   PAY_1      5625 non-null   object\n",
      " 4   PAY_2      5625 non-null   object\n",
      " 5   PAY_3      5625 non-null   object\n",
      " 6   PAY_4      5625 non-null   object\n",
      " 7   PAY_5      5625 non-null   object\n",
      " 8   PAY_6      5625 non-null   object\n",
      "dtypes: object(9)\n",
      "memory usage: 395.6+ KB\n"
     ]
    }
   ],
   "source": [
    "for col in cat[:3]:\n",
    "    df[col] = df[col].astype(int)\n",
    "    df[col] = df[col].astype(str)\n",
    "df[cat].info()"
   ]
  },
  {
   "cell_type": "markdown",
   "metadata": {},
   "source": [
    "### Diccionarios"
   ]
  },
  {
   "cell_type": "code",
   "execution_count": 79,
   "metadata": {
    "ExecuteTime": {
     "end_time": "2020-11-11T18:31:58.436925Z",
     "start_time": "2020-11-11T18:31:58.367137Z"
    }
   },
   "outputs": [],
   "source": [
    "df['SEX'].replace({'1':'Hombre',\n",
    "                   '2':'Mujer'},inplace = True)\n",
    "\n",
    "df['EDUCATION'].replace({'1':'Preparatoria',\n",
    "                         '2':'Universidad',\n",
    "                         '3':'Secundaria', \n",
    "                         '4':'Otros'}, inplace = True)\n",
    "\n",
    "df['MARRIAGE'].replace({'1':'Soltero',\n",
    "                        '2':'Casado',\n",
    "                        '3':'Otros'}, inplace = True)\n",
    "\n",
    "for i in range(1,7):\n",
    "    df[f'PAY_{i}'].replace({'-2':'No_uso',\n",
    "                           '0':'Uso', \n",
    "                           '-1':'Pago_correcto', \n",
    "                           '>=1':'Pago_retrasado'}, inplace = True)"
   ]
  },
  {
   "cell_type": "code",
   "execution_count": 80,
   "metadata": {
    "ExecuteTime": {
     "end_time": "2020-11-11T18:31:58.633501Z",
     "start_time": "2020-11-11T18:31:58.446005Z"
    },
    "scrolled": true
   },
   "outputs": [
    {
     "name": "stdout",
     "output_type": "stream",
     "text": [
      "<class 'pandas.core.frame.DataFrame'>\n",
      "RangeIndex: 5625 entries, 0 to 5624\n",
      "Data columns (total 45 columns):\n",
      " #   Column          Non-Null Count  Dtype  \n",
      "---  ------          --------------  -----  \n",
      " 0   SEX             5625 non-null   object \n",
      " 1   EDUCATION       5625 non-null   object \n",
      " 2   MARRIAGE        5625 non-null   object \n",
      " 3   PAY_1           5625 non-null   object \n",
      " 4   PAY_2           5625 non-null   object \n",
      " 5   PAY_3           5625 non-null   object \n",
      " 6   PAY_4           5625 non-null   object \n",
      " 7   PAY_5           5625 non-null   object \n",
      " 8   PAY_6           5625 non-null   object \n",
      " 9   BILL_AMT1_tipo  5625 non-null   object \n",
      " 10  BILL_AMT2_tipo  5625 non-null   object \n",
      " 11  BILL_AMT3_tipo  5625 non-null   object \n",
      " 12  BILL_AMT4_tipo  5625 non-null   object \n",
      " 13  BILL_AMT5_tipo  5625 non-null   object \n",
      " 14  BILL_AMT6_tipo  5625 non-null   object \n",
      " 15  PAY_AMT1_tipo   5625 non-null   object \n",
      " 16  PAY_AMT2_tipo   5625 non-null   object \n",
      " 17  PAY_AMT3_tipo   5625 non-null   object \n",
      " 18  PAY_AMT4_tipo   5625 non-null   object \n",
      " 19  PAY_AMT5_tipo   5625 non-null   object \n",
      " 20  PAY_AMT6_tipo   5625 non-null   object \n",
      " 21  LIMIT_BAL       5625 non-null   float64\n",
      " 22  AGE             5625 non-null   int64  \n",
      " 23  BILL_AMT1       5625 non-null   float64\n",
      " 24  BILL_AMT2       5625 non-null   float64\n",
      " 25  BILL_AMT3       5625 non-null   float64\n",
      " 26  BILL_AMT4       5625 non-null   float64\n",
      " 27  BILL_AMT5       5625 non-null   float64\n",
      " 28  BILL_AMT6       5625 non-null   float64\n",
      " 29  PAY_AMT1        5625 non-null   float64\n",
      " 30  PAY_AMT2        5625 non-null   float64\n",
      " 31  PAY_AMT3        5625 non-null   float64\n",
      " 32  PAY_AMT4        5625 non-null   float64\n",
      " 33  PAY_AMT5        5625 non-null   float64\n",
      " 34  PAY_AMT6        5625 non-null   float64\n",
      " 35  Prom_monto      5625 non-null   float64\n",
      " 36  Prom_pago       5625 non-null   float64\n",
      " 37  Lim_BILL_AMT1   5625 non-null   float64\n",
      " 38  Lim_BILL_AMT2   5625 non-null   float64\n",
      " 39  Lim_BILL_AMT3   5625 non-null   float64\n",
      " 40  Lim_BILL_AMT4   5625 non-null   float64\n",
      " 41  Lim_BILL_AMT5   5625 non-null   float64\n",
      " 42  Lim_BILL_AMT6   5625 non-null   float64\n",
      " 43  Lim_edad        5625 non-null   float64\n",
      " 44  incumple        5625 non-null   int64  \n",
      "dtypes: float64(22), int64(2), object(21)\n",
      "memory usage: 1.9+ MB\n"
     ]
    }
   ],
   "source": [
    "num = list(pd.DataFrame(df.describe()).columns)\n",
    "tgt = ['incumple']\n",
    "num = [x for x in num if x not in tgt]\n",
    "cat = [col for col in df.columns if col not in num + tgt]\n",
    "df = df[cat + num + tgt].copy()\n",
    "df.info()"
   ]
  },
  {
   "cell_type": "markdown",
   "metadata": {},
   "source": [
    "## Modelaje"
   ]
  },
  {
   "cell_type": "code",
   "execution_count": 81,
   "metadata": {
    "ExecuteTime": {
     "end_time": "2020-11-11T18:31:58.662322Z",
     "start_time": "2020-11-11T18:31:58.637599Z"
    }
   },
   "outputs": [
    {
     "data": {
      "text/plain": [
       "incumple    0.218133\n",
       "dtype: float64"
      ]
     },
     "execution_count": 81,
     "metadata": {},
     "output_type": "execute_result"
    }
   ],
   "source": [
    "X = df.iloc[:,:-1].copy()\n",
    "y = df[tgt]\n",
    "y.mean()"
   ]
  },
  {
   "cell_type": "code",
   "execution_count": 82,
   "metadata": {
    "ExecuteTime": {
     "end_time": "2020-11-11T18:31:58.688435Z",
     "start_time": "2020-11-11T18:31:58.667356Z"
    }
   },
   "outputs": [
    {
     "data": {
      "text/plain": [
       "(5625, 44)"
      ]
     },
     "execution_count": 82,
     "metadata": {},
     "output_type": "execute_result"
    }
   ],
   "source": [
    "X.shape"
   ]
  },
  {
   "cell_type": "code",
   "execution_count": 83,
   "metadata": {
    "ExecuteTime": {
     "end_time": "2020-11-11T18:31:58.758790Z",
     "start_time": "2020-11-11T18:31:58.702117Z"
    }
   },
   "outputs": [
    {
     "data": {
      "text/plain": [
       "0.1112208613196365"
      ]
     },
     "execution_count": 83,
     "metadata": {},
     "output_type": "execute_result"
    }
   ],
   "source": [
    "## Se separan los conjuntos de entrenamiento y prueba\n",
    "from sklearn.model_selection import cross_val_score, train_test_split\n",
    "X_train, X_test, y_train, y_test = train_test_split(X, y,\n",
    "                                                    test_size = 0.1,\n",
    "                                                    random_state = 22)\n",
    "len(y_test) / len(y_train)"
   ]
  },
  {
   "cell_type": "code",
   "execution_count": 84,
   "metadata": {
    "ExecuteTime": {
     "end_time": "2020-11-11T18:31:58.780777Z",
     "start_time": "2020-11-11T18:31:58.768193Z"
    }
   },
   "outputs": [],
   "source": [
    "## Se une la variable objetivo para proceder con IV/WOE\n",
    "X = X_train.join(y_train)\n",
    "y = y_train.copy()"
   ]
  },
  {
   "cell_type": "markdown",
   "metadata": {
    "ExecuteTime": {
     "end_time": "2020-11-04T16:39:29.008690Z",
     "start_time": "2020-11-04T16:39:28.898114Z"
    }
   },
   "source": [
    "### Reducción de dimensiones"
   ]
  },
  {
   "cell_type": "code",
   "execution_count": 85,
   "metadata": {
    "ExecuteTime": {
     "end_time": "2020-11-11T18:32:00.164125Z",
     "start_time": "2020-11-11T18:31:58.785316Z"
    }
   },
   "outputs": [
    {
     "data": {
      "text/plain": [
       "Index(['SEX', 'EDUCATION', 'MARRIAGE', 'PAY_1', 'PAY_2', 'PAY_3', 'PAY_4',\n",
       "       'PAY_5', 'PAY_6', 'BILL_AMT1_tipo', 'BILL_AMT2_tipo', 'BILL_AMT3_tipo',\n",
       "       'BILL_AMT4_tipo', 'BILL_AMT5_tipo', 'BILL_AMT6_tipo', 'PAY_AMT1_tipo',\n",
       "       'PAY_AMT2_tipo', 'PAY_AMT3_tipo', 'PAY_AMT4_tipo', 'PAY_AMT5_tipo',\n",
       "       'PAY_AMT6_tipo', 'LIMIT_BAL', 'AGE', 'BILL_AMT1', 'BILL_AMT2',\n",
       "       'BILL_AMT3', 'BILL_AMT4', 'BILL_AMT5', 'BILL_AMT6', 'PAY_AMT1',\n",
       "       'PAY_AMT2', 'PAY_AMT3', 'PAY_AMT4', 'PAY_AMT5', 'PAY_AMT6',\n",
       "       'Prom_monto', 'Prom_pago', 'Lim_BILL_AMT1', 'Lim_BILL_AMT2',\n",
       "       'Lim_BILL_AMT3', 'Lim_BILL_AMT4', 'Lim_BILL_AMT5', 'Lim_BILL_AMT6',\n",
       "       'Lim_edad', 'incumple', 'LIMIT_BAL_cut', 'AGE_cut', 'BILL_AMT1_cut',\n",
       "       'BILL_AMT2_cut', 'BILL_AMT3_cut', 'BILL_AMT4_cut', 'BILL_AMT5_cut',\n",
       "       'BILL_AMT6_cut', 'PAY_AMT1_cut', 'PAY_AMT2_cut', 'PAY_AMT3_cut',\n",
       "       'PAY_AMT4_cut', 'PAY_AMT5_cut', 'PAY_AMT6_cut', 'Prom_monto_cut',\n",
       "       'Prom_pago_cut', 'Lim_BILL_AMT1_cut', 'Lim_BILL_AMT2_cut',\n",
       "       'Lim_BILL_AMT3_cut', 'Lim_BILL_AMT4_cut', 'Lim_BILL_AMT5_cut',\n",
       "       'Lim_BILL_AMT6_cut', 'Lim_edad_cut'],\n",
       "      dtype='object')"
      ]
     },
     "execution_count": 85,
     "metadata": {},
     "output_type": "execute_result"
    }
   ],
   "source": [
    "## Se discretizan las variables numéricas, se vuelven rangos (por percentil)\n",
    "for col in num:\n",
    "    X[f'{col}_cut'] = pd.qcut(X[f'{col}'],\n",
    "                               q = 6,\n",
    "                              duplicates = 'drop').astype(str)\n",
    "cut = [col for col in X.columns if col.endswith('_cut')]\n",
    "\n",
    "## Se agrupan las variables a evaluar\n",
    "variables = cat + cut\n",
    "\n",
    "## Y se unen con la matriz X, junto con la  variable objetivo\n",
    "X.columns"
   ]
  },
  {
   "cell_type": "code",
   "execution_count": 86,
   "metadata": {
    "ExecuteTime": {
     "end_time": "2020-11-11T18:32:00.182864Z",
     "start_time": "2020-11-11T18:32:00.167234Z"
    }
   },
   "outputs": [],
   "source": [
    "## Se construye la función que enlista el IV (Info Value) por columna\n",
    "# y además, la función puede crear las variables \"woe-izadas\"\n",
    "def iv_woe(obj, df, var, woe = False):\n",
    "    obj = obj #se instancia dentro de la función para que el siguiente bucle la tome en cuenta\n",
    "    iv_fin = {} #se crea un diccionario vacío\n",
    "    for x in var:\n",
    "        aux = df[[x, obj]].copy() #nos interesa evaluar cada variable vs nuestra variable objetivo\n",
    "        aux['n'] = 1 #columna de apoyo para hacer la suma\n",
    "\n",
    "        ## Se transforma la estructura de la tabla:\n",
    "        aux = aux.pivot_table(columns = obj, #teniendo las opciones de nuestra variable objetivo como columnas\n",
    "                              index = x, #y las categorías (rangos para las numéricas) como renglones\n",
    "                              values = 'n', #el contador por categoría vs resultado de la variable objetivo\n",
    "                              aggfunc = 'sum',\n",
    "                              fill_value = 0).copy() #llenar los vacíos con ceros\n",
    "\n",
    "        aux['no_ev'] = aux[0] / aux[0].sum() #divide cada renglón entre el total para obtener la proba de no evento\n",
    "        aux['si_ev'] = aux[1] / aux[1].sum() #proba de sí evento\n",
    "        \n",
    "        aux['woe'] = np.log(aux['no_ev'] / aux['si_ev']) #se crea la columna de WOE (Weight Of Evidence)\n",
    "        aux['iv'] = aux['woe']*(aux['no_ev'] - aux['si_ev']) #se crea la columna individual de IV (Info Value)\n",
    "\n",
    "        iv_fin[x] = aux['iv'].sum().round(3) #y finalmente, suma la columna y la agrega al diccionario\n",
    "\n",
    "        if woe == True: ## crearemos nuevas columnas \"woe-izadas\"\n",
    "            aux = aux[['woe']].reset_index().rename(columns={'woe': f'woe_{x}'})\n",
    "            df = df.merge(aux, on = x, how = 'left')\n",
    "        \n",
    "    iv_fin = pd.DataFrame.from_dict(iv_fin,\n",
    "                                    orient = 'index',\n",
    "                                    columns = ['IV']).sort_values(by = 'IV', ## se ordenan descendentemente\n",
    "                                                                  ascending = False)\n",
    "    iv_fin = iv_fin[iv_fin['IV'] != np.inf].copy() ## Y se eliminan los infinitos\n",
    "    \n",
    "    return iv_fin, df"
   ]
  },
  {
   "cell_type": "code",
   "execution_count": 87,
   "metadata": {
    "ExecuteTime": {
     "end_time": "2020-11-11T18:32:04.783890Z",
     "start_time": "2020-11-11T18:32:00.190696Z"
    }
   },
   "outputs": [
    {
     "data": {
      "text/html": [
       "<div>\n",
       "<style scoped>\n",
       "    .dataframe tbody tr th:only-of-type {\n",
       "        vertical-align: middle;\n",
       "    }\n",
       "\n",
       "    .dataframe tbody tr th {\n",
       "        vertical-align: top;\n",
       "    }\n",
       "\n",
       "    .dataframe thead th {\n",
       "        text-align: right;\n",
       "    }\n",
       "</style>\n",
       "<table border=\"1\" class=\"dataframe\">\n",
       "  <thead>\n",
       "    <tr style=\"text-align: right;\">\n",
       "      <th></th>\n",
       "      <th>index</th>\n",
       "      <th>IV</th>\n",
       "    </tr>\n",
       "  </thead>\n",
       "  <tbody>\n",
       "    <tr>\n",
       "      <th>0</th>\n",
       "      <td>PAY_1</td>\n",
       "      <td>0.645</td>\n",
       "    </tr>\n",
       "    <tr>\n",
       "      <th>1</th>\n",
       "      <td>PAY_2</td>\n",
       "      <td>0.485</td>\n",
       "    </tr>\n",
       "    <tr>\n",
       "      <th>2</th>\n",
       "      <td>PAY_3</td>\n",
       "      <td>0.427</td>\n",
       "    </tr>\n",
       "    <tr>\n",
       "      <th>3</th>\n",
       "      <td>PAY_4</td>\n",
       "      <td>0.401</td>\n",
       "    </tr>\n",
       "    <tr>\n",
       "      <th>4</th>\n",
       "      <td>PAY_5</td>\n",
       "      <td>0.333</td>\n",
       "    </tr>\n",
       "    <tr>\n",
       "      <th>5</th>\n",
       "      <td>PAY_6</td>\n",
       "      <td>0.287</td>\n",
       "    </tr>\n",
       "    <tr>\n",
       "      <th>6</th>\n",
       "      <td>Prom_pago_cut</td>\n",
       "      <td>0.186</td>\n",
       "    </tr>\n",
       "    <tr>\n",
       "      <th>7</th>\n",
       "      <td>Lim_edad_cut</td>\n",
       "      <td>0.180</td>\n",
       "    </tr>\n",
       "    <tr>\n",
       "      <th>8</th>\n",
       "      <td>LIMIT_BAL_cut</td>\n",
       "      <td>0.145</td>\n",
       "    </tr>\n",
       "    <tr>\n",
       "      <th>9</th>\n",
       "      <td>PAY_AMT1_cut</td>\n",
       "      <td>0.136</td>\n",
       "    </tr>\n",
       "    <tr>\n",
       "      <th>10</th>\n",
       "      <td>Lim_BILL_AMT5_cut</td>\n",
       "      <td>0.119</td>\n",
       "    </tr>\n",
       "    <tr>\n",
       "      <th>11</th>\n",
       "      <td>PAY_AMT3_cut</td>\n",
       "      <td>0.114</td>\n",
       "    </tr>\n",
       "    <tr>\n",
       "      <th>12</th>\n",
       "      <td>PAY_AMT2_cut</td>\n",
       "      <td>0.111</td>\n",
       "    </tr>\n",
       "    <tr>\n",
       "      <th>13</th>\n",
       "      <td>PAY_AMT1_tipo</td>\n",
       "      <td>0.110</td>\n",
       "    </tr>\n",
       "    <tr>\n",
       "      <th>14</th>\n",
       "      <td>PAY_AMT3_tipo</td>\n",
       "      <td>0.106</td>\n",
       "    </tr>\n",
       "    <tr>\n",
       "      <th>15</th>\n",
       "      <td>Lim_BILL_AMT6_cut</td>\n",
       "      <td>0.105</td>\n",
       "    </tr>\n",
       "    <tr>\n",
       "      <th>16</th>\n",
       "      <td>PAY_AMT5_cut</td>\n",
       "      <td>0.100</td>\n",
       "    </tr>\n",
       "    <tr>\n",
       "      <th>17</th>\n",
       "      <td>PAY_AMT6_cut</td>\n",
       "      <td>0.092</td>\n",
       "    </tr>\n",
       "    <tr>\n",
       "      <th>18</th>\n",
       "      <td>Lim_BILL_AMT4_cut</td>\n",
       "      <td>0.089</td>\n",
       "    </tr>\n",
       "    <tr>\n",
       "      <th>19</th>\n",
       "      <td>PAY_AMT4_cut</td>\n",
       "      <td>0.079</td>\n",
       "    </tr>\n",
       "    <tr>\n",
       "      <th>20</th>\n",
       "      <td>PAY_AMT2_tipo</td>\n",
       "      <td>0.073</td>\n",
       "    </tr>\n",
       "    <tr>\n",
       "      <th>21</th>\n",
       "      <td>Lim_BILL_AMT3_cut</td>\n",
       "      <td>0.064</td>\n",
       "    </tr>\n",
       "    <tr>\n",
       "      <th>22</th>\n",
       "      <td>Lim_BILL_AMT2_cut</td>\n",
       "      <td>0.061</td>\n",
       "    </tr>\n",
       "    <tr>\n",
       "      <th>23</th>\n",
       "      <td>Lim_BILL_AMT1_cut</td>\n",
       "      <td>0.057</td>\n",
       "    </tr>\n",
       "    <tr>\n",
       "      <th>24</th>\n",
       "      <td>PAY_AMT5_tipo</td>\n",
       "      <td>0.049</td>\n",
       "    </tr>\n",
       "    <tr>\n",
       "      <th>25</th>\n",
       "      <td>PAY_AMT4_tipo</td>\n",
       "      <td>0.045</td>\n",
       "    </tr>\n",
       "    <tr>\n",
       "      <th>26</th>\n",
       "      <td>EDUCATION</td>\n",
       "      <td>0.041</td>\n",
       "    </tr>\n",
       "    <tr>\n",
       "      <th>27</th>\n",
       "      <td>AGE_cut</td>\n",
       "      <td>0.026</td>\n",
       "    </tr>\n",
       "    <tr>\n",
       "      <th>28</th>\n",
       "      <td>PAY_AMT6_tipo</td>\n",
       "      <td>0.025</td>\n",
       "    </tr>\n",
       "    <tr>\n",
       "      <th>29</th>\n",
       "      <td>Prom_monto_cut</td>\n",
       "      <td>0.020</td>\n",
       "    </tr>\n",
       "    <tr>\n",
       "      <th>30</th>\n",
       "      <td>BILL_AMT5_cut</td>\n",
       "      <td>0.019</td>\n",
       "    </tr>\n",
       "    <tr>\n",
       "      <th>31</th>\n",
       "      <td>BILL_AMT2_cut</td>\n",
       "      <td>0.013</td>\n",
       "    </tr>\n",
       "    <tr>\n",
       "      <th>32</th>\n",
       "      <td>BILL_AMT1_cut</td>\n",
       "      <td>0.013</td>\n",
       "    </tr>\n",
       "    <tr>\n",
       "      <th>33</th>\n",
       "      <td>BILL_AMT4_cut</td>\n",
       "      <td>0.012</td>\n",
       "    </tr>\n",
       "    <tr>\n",
       "      <th>34</th>\n",
       "      <td>BILL_AMT6_cut</td>\n",
       "      <td>0.011</td>\n",
       "    </tr>\n",
       "    <tr>\n",
       "      <th>35</th>\n",
       "      <td>BILL_AMT3_cut</td>\n",
       "      <td>0.009</td>\n",
       "    </tr>\n",
       "    <tr>\n",
       "      <th>36</th>\n",
       "      <td>SEX</td>\n",
       "      <td>0.005</td>\n",
       "    </tr>\n",
       "    <tr>\n",
       "      <th>37</th>\n",
       "      <td>MARRIAGE</td>\n",
       "      <td>0.002</td>\n",
       "    </tr>\n",
       "    <tr>\n",
       "      <th>38</th>\n",
       "      <td>BILL_AMT6_tipo</td>\n",
       "      <td>0.001</td>\n",
       "    </tr>\n",
       "    <tr>\n",
       "      <th>39</th>\n",
       "      <td>BILL_AMT4_tipo</td>\n",
       "      <td>0.001</td>\n",
       "    </tr>\n",
       "    <tr>\n",
       "      <th>40</th>\n",
       "      <td>BILL_AMT1_tipo</td>\n",
       "      <td>0.001</td>\n",
       "    </tr>\n",
       "    <tr>\n",
       "      <th>41</th>\n",
       "      <td>BILL_AMT5_tipo</td>\n",
       "      <td>0.000</td>\n",
       "    </tr>\n",
       "    <tr>\n",
       "      <th>42</th>\n",
       "      <td>BILL_AMT3_tipo</td>\n",
       "      <td>0.000</td>\n",
       "    </tr>\n",
       "    <tr>\n",
       "      <th>43</th>\n",
       "      <td>BILL_AMT2_tipo</td>\n",
       "      <td>0.000</td>\n",
       "    </tr>\n",
       "  </tbody>\n",
       "</table>\n",
       "</div>"
      ],
      "text/plain": [
       "                index     IV\n",
       "0               PAY_1  0.645\n",
       "1               PAY_2  0.485\n",
       "2               PAY_3  0.427\n",
       "3               PAY_4  0.401\n",
       "4               PAY_5  0.333\n",
       "5               PAY_6  0.287\n",
       "6       Prom_pago_cut  0.186\n",
       "7        Lim_edad_cut  0.180\n",
       "8       LIMIT_BAL_cut  0.145\n",
       "9        PAY_AMT1_cut  0.136\n",
       "10  Lim_BILL_AMT5_cut  0.119\n",
       "11       PAY_AMT3_cut  0.114\n",
       "12       PAY_AMT2_cut  0.111\n",
       "13      PAY_AMT1_tipo  0.110\n",
       "14      PAY_AMT3_tipo  0.106\n",
       "15  Lim_BILL_AMT6_cut  0.105\n",
       "16       PAY_AMT5_cut  0.100\n",
       "17       PAY_AMT6_cut  0.092\n",
       "18  Lim_BILL_AMT4_cut  0.089\n",
       "19       PAY_AMT4_cut  0.079\n",
       "20      PAY_AMT2_tipo  0.073\n",
       "21  Lim_BILL_AMT3_cut  0.064\n",
       "22  Lim_BILL_AMT2_cut  0.061\n",
       "23  Lim_BILL_AMT1_cut  0.057\n",
       "24      PAY_AMT5_tipo  0.049\n",
       "25      PAY_AMT4_tipo  0.045\n",
       "26          EDUCATION  0.041\n",
       "27            AGE_cut  0.026\n",
       "28      PAY_AMT6_tipo  0.025\n",
       "29     Prom_monto_cut  0.020\n",
       "30      BILL_AMT5_cut  0.019\n",
       "31      BILL_AMT2_cut  0.013\n",
       "32      BILL_AMT1_cut  0.013\n",
       "33      BILL_AMT4_cut  0.012\n",
       "34      BILL_AMT6_cut  0.011\n",
       "35      BILL_AMT3_cut  0.009\n",
       "36                SEX  0.005\n",
       "37           MARRIAGE  0.002\n",
       "38     BILL_AMT6_tipo  0.001\n",
       "39     BILL_AMT4_tipo  0.001\n",
       "40     BILL_AMT1_tipo  0.001\n",
       "41     BILL_AMT5_tipo  0.000\n",
       "42     BILL_AMT3_tipo  0.000\n",
       "43     BILL_AMT2_tipo  0.000"
      ]
     },
     "execution_count": 87,
     "metadata": {},
     "output_type": "execute_result"
    }
   ],
   "source": [
    "## Se aplica la función que evalúa todas las variables de un dataframe\n",
    "resultado = iv_woe(obj = tgt[0],\n",
    "                   df = X,\n",
    "                   var = variables,\n",
    "                   woe = True)\n",
    "\n",
    "## DataFrame del IV por variable\n",
    "iv = resultado[0].reset_index()\n",
    "iv"
   ]
  },
  {
   "cell_type": "code",
   "execution_count": 88,
   "metadata": {
    "ExecuteTime": {
     "end_time": "2020-11-11T18:32:04.840175Z",
     "start_time": "2020-11-11T18:32:04.796036Z"
    }
   },
   "outputs": [
    {
     "data": {
      "text/plain": [
       "['PAY_1',\n",
       " 'PAY_2',\n",
       " 'PAY_3',\n",
       " 'PAY_4',\n",
       " 'PAY_5',\n",
       " 'PAY_6',\n",
       " 'Prom_pago_cut',\n",
       " 'Lim_edad_cut',\n",
       " 'LIMIT_BAL_cut',\n",
       " 'PAY_AMT1_cut',\n",
       " 'Lim_BILL_AMT5_cut',\n",
       " 'PAY_AMT3_cut',\n",
       " 'PAY_AMT2_cut',\n",
       " 'PAY_AMT1_tipo',\n",
       " 'PAY_AMT3_tipo',\n",
       " 'Lim_BILL_AMT6_cut',\n",
       " 'PAY_AMT5_cut',\n",
       " 'PAY_AMT6_cut',\n",
       " 'Lim_BILL_AMT4_cut',\n",
       " 'PAY_AMT4_cut',\n",
       " 'PAY_AMT2_tipo',\n",
       " 'Lim_BILL_AMT3_cut',\n",
       " 'Lim_BILL_AMT2_cut',\n",
       " 'Lim_BILL_AMT1_cut',\n",
       " 'PAY_AMT5_tipo',\n",
       " 'PAY_AMT4_tipo',\n",
       " 'EDUCATION',\n",
       " 'AGE_cut']"
      ]
     },
     "execution_count": 88,
     "metadata": {},
     "output_type": "execute_result"
    }
   ],
   "source": [
    "## Mejores variables con IV > 3%\n",
    "ls_best = list(iv[iv['IV'] > .025]['index'])\n",
    "ls_best"
   ]
  },
  {
   "cell_type": "code",
   "execution_count": 89,
   "metadata": {
    "ExecuteTime": {
     "end_time": "2020-11-11T18:32:05.079423Z",
     "start_time": "2020-11-11T18:32:04.844404Z"
    }
   },
   "outputs": [
    {
     "data": {
      "text/html": [
       "<div>\n",
       "<style scoped>\n",
       "    .dataframe tbody tr th:only-of-type {\n",
       "        vertical-align: middle;\n",
       "    }\n",
       "\n",
       "    .dataframe tbody tr th {\n",
       "        vertical-align: top;\n",
       "    }\n",
       "\n",
       "    .dataframe thead th {\n",
       "        text-align: right;\n",
       "    }\n",
       "</style>\n",
       "<table border=\"1\" class=\"dataframe\">\n",
       "  <thead>\n",
       "    <tr style=\"text-align: right;\">\n",
       "      <th></th>\n",
       "      <th>woe_EDUCATION</th>\n",
       "      <th>woe_PAY_1</th>\n",
       "      <th>woe_PAY_2</th>\n",
       "      <th>woe_PAY_3</th>\n",
       "      <th>woe_PAY_4</th>\n",
       "      <th>woe_PAY_5</th>\n",
       "      <th>woe_PAY_6</th>\n",
       "      <th>woe_PAY_AMT1_tipo</th>\n",
       "      <th>woe_PAY_AMT2_tipo</th>\n",
       "      <th>woe_PAY_AMT3_tipo</th>\n",
       "      <th>woe_PAY_AMT4_tipo</th>\n",
       "      <th>woe_PAY_AMT5_tipo</th>\n",
       "      <th>woe_LIMIT_BAL_cut</th>\n",
       "      <th>woe_AGE_cut</th>\n",
       "      <th>woe_PAY_AMT1_cut</th>\n",
       "      <th>woe_PAY_AMT2_cut</th>\n",
       "      <th>woe_PAY_AMT3_cut</th>\n",
       "      <th>woe_PAY_AMT4_cut</th>\n",
       "      <th>woe_PAY_AMT5_cut</th>\n",
       "      <th>woe_PAY_AMT6_cut</th>\n",
       "      <th>woe_Prom_pago_cut</th>\n",
       "      <th>woe_Lim_BILL_AMT1_cut</th>\n",
       "      <th>woe_Lim_BILL_AMT2_cut</th>\n",
       "      <th>woe_Lim_BILL_AMT3_cut</th>\n",
       "      <th>woe_Lim_BILL_AMT4_cut</th>\n",
       "      <th>woe_Lim_BILL_AMT5_cut</th>\n",
       "      <th>woe_Lim_BILL_AMT6_cut</th>\n",
       "      <th>woe_Lim_edad_cut</th>\n",
       "    </tr>\n",
       "  </thead>\n",
       "  <tbody>\n",
       "    <tr>\n",
       "      <th>1583</th>\n",
       "      <td>-0.118627</td>\n",
       "      <td>-1.227277</td>\n",
       "      <td>-1.391497</td>\n",
       "      <td>-1.359256</td>\n",
       "      <td>-1.471842</td>\n",
       "      <td>-1.491655</td>\n",
       "      <td>-1.326559</td>\n",
       "      <td>0.172621</td>\n",
       "      <td>0.137904</td>\n",
       "      <td>-0.588292</td>\n",
       "      <td>0.116779</td>\n",
       "      <td>-0.377615</td>\n",
       "      <td>-0.092349</td>\n",
       "      <td>0.265975</td>\n",
       "      <td>0.710091</td>\n",
       "      <td>0.68642</td>\n",
       "      <td>-0.354915</td>\n",
       "      <td>0.454231</td>\n",
       "      <td>-0.304676</td>\n",
       "      <td>0.28852</td>\n",
       "      <td>0.476141</td>\n",
       "      <td>0.030962</td>\n",
       "      <td>0.002829</td>\n",
       "      <td>-0.221986</td>\n",
       "      <td>-0.133177</td>\n",
       "      <td>-0.019501</td>\n",
       "      <td>-0.046886</td>\n",
       "      <td>0.291894</td>\n",
       "    </tr>\n",
       "  </tbody>\n",
       "</table>\n",
       "</div>"
      ],
      "text/plain": [
       "      woe_EDUCATION  woe_PAY_1  woe_PAY_2  woe_PAY_3  woe_PAY_4  woe_PAY_5  \\\n",
       "1583      -0.118627  -1.227277  -1.391497  -1.359256  -1.471842  -1.491655   \n",
       "\n",
       "      woe_PAY_6  woe_PAY_AMT1_tipo  woe_PAY_AMT2_tipo  woe_PAY_AMT3_tipo  \\\n",
       "1583  -1.326559           0.172621           0.137904          -0.588292   \n",
       "\n",
       "      woe_PAY_AMT4_tipo  woe_PAY_AMT5_tipo  woe_LIMIT_BAL_cut  woe_AGE_cut  \\\n",
       "1583           0.116779          -0.377615          -0.092349     0.265975   \n",
       "\n",
       "      woe_PAY_AMT1_cut  woe_PAY_AMT2_cut  woe_PAY_AMT3_cut  woe_PAY_AMT4_cut  \\\n",
       "1583          0.710091           0.68642         -0.354915          0.454231   \n",
       "\n",
       "      woe_PAY_AMT5_cut  woe_PAY_AMT6_cut  woe_Prom_pago_cut  \\\n",
       "1583         -0.304676           0.28852           0.476141   \n",
       "\n",
       "      woe_Lim_BILL_AMT1_cut  woe_Lim_BILL_AMT2_cut  woe_Lim_BILL_AMT3_cut  \\\n",
       "1583               0.030962               0.002829              -0.221986   \n",
       "\n",
       "      woe_Lim_BILL_AMT4_cut  woe_Lim_BILL_AMT5_cut  woe_Lim_BILL_AMT6_cut  \\\n",
       "1583              -0.133177              -0.019501              -0.046886   \n",
       "\n",
       "      woe_Lim_edad_cut  \n",
       "1583          0.291894  "
      ]
     },
     "execution_count": 89,
     "metadata": {},
     "output_type": "execute_result"
    }
   ],
   "source": [
    "## Se agregan las variables woe-izadas\n",
    "X = resultado[1].copy()\n",
    "\n",
    "## Se eligen sólo las seleccionadas por IV\n",
    "X = X[[f'woe_{x}' for x in X.columns if x in ls_best]]\n",
    "ls_woe = [col for col in X.columns if col.startswith('woe_')]\n",
    "X.sample()"
   ]
  },
  {
   "cell_type": "markdown",
   "metadata": {},
   "source": [
    "### Entrenamiento"
   ]
  },
  {
   "cell_type": "code",
   "execution_count": 90,
   "metadata": {
    "ExecuteTime": {
     "end_time": "2020-11-11T18:32:08.865416Z",
     "start_time": "2020-11-11T18:32:05.084207Z"
    }
   },
   "outputs": [
    {
     "name": "stderr",
     "output_type": "stream",
     "text": [
      "/home/ef/Desktop/diplomadus/diplomadus/lib/python3.8/site-packages/sklearn/utils/validation.py:72: DataConversionWarning: A column-vector y was passed when a 1d array was expected. Please change the shape of y to (n_samples, ), for example using ravel().\n",
      "  return f(**kwargs)\n"
     ]
    },
    {
     "data": {
      "text/plain": [
       "(0.7581288680928746, 0.00952276100791585)"
      ]
     },
     "execution_count": 90,
     "metadata": {},
     "output_type": "execute_result"
    }
   ],
   "source": [
    "from sklearn.linear_model import LogisticRegression\n",
    "logreg = LogisticRegression(class_weight = 'balanced')\n",
    "logreg.fit(X, y)\n",
    "logreg_res = cross_val_score(estimator = logreg,\n",
    "                             X = X,\n",
    "                             y = y,\n",
    "                             cv = 3,\n",
    "                             n_jobs = -1,\n",
    "                             scoring = \"roc_auc\")\n",
    "\n",
    "np.mean(logreg_res), np.std(logreg_res)"
   ]
  },
  {
   "cell_type": "code",
   "execution_count": 91,
   "metadata": {
    "ExecuteTime": {
     "end_time": "2020-11-11T18:32:09.309104Z",
     "start_time": "2020-11-11T18:32:08.879623Z"
    }
   },
   "outputs": [
    {
     "name": "stderr",
     "output_type": "stream",
     "text": [
      "/home/ef/Desktop/diplomadus/diplomadus/lib/python3.8/site-packages/sklearn/utils/validation.py:72: DataConversionWarning: A column-vector y was passed when a 1d array was expected. Please change the shape of y to (n_samples, ), for example using ravel().\n",
      "  return f(**kwargs)\n"
     ]
    },
    {
     "data": {
      "text/plain": [
       "(0.709305628273953, 0.03661083449246831)"
      ]
     },
     "execution_count": 91,
     "metadata": {},
     "output_type": "execute_result"
    }
   ],
   "source": [
    "from sklearn.linear_model import SGDClassifier\n",
    "sgdr = SGDClassifier()\n",
    "sgdr.fit(X, y)\n",
    "sgd_res = cross_val_score(estimator = sgdr,\n",
    "                          X = X,\n",
    "                          y = y,\n",
    "                          cv = 3,\n",
    "                          n_jobs = -1,\n",
    "                          scoring = 'roc_auc')\n",
    "np.mean(sgd_res), np.std(sgd_res)"
   ]
  },
  {
   "cell_type": "markdown",
   "metadata": {},
   "source": [
    "### Hiperparametrización"
   ]
  },
  {
   "cell_type": "code",
   "execution_count": 92,
   "metadata": {
    "ExecuteTime": {
     "end_time": "2020-11-11T18:33:08.973132Z",
     "start_time": "2020-11-11T18:32:09.320037Z"
    }
   },
   "outputs": [
    {
     "name": "stdout",
     "output_type": "stream",
     "text": [
      "Fitting 3 folds for each of 500 candidates, totalling 1500 fits\n"
     ]
    },
    {
     "name": "stderr",
     "output_type": "stream",
     "text": [
      "[Parallel(n_jobs=-1)]: Using backend LokyBackend with 3 concurrent workers.\n",
      "[Parallel(n_jobs=-1)]: Done  20 tasks      | elapsed:    0.7s\n",
      "[Parallel(n_jobs=-1)]: Done 234 tasks      | elapsed:    8.8s\n",
      "[Parallel(n_jobs=-1)]: Done 594 tasks      | elapsed:   22.7s\n",
      "[Parallel(n_jobs=-1)]: Done 1098 tasks      | elapsed:   42.6s\n",
      "[Parallel(n_jobs=-1)]: Done 1500 out of 1500 | elapsed:   59.4s finished\n",
      "/home/ef/Desktop/diplomadus/diplomadus/lib/python3.8/site-packages/sklearn/linear_model/_logistic.py:1315: UserWarning: l1_ratio parameter is only used when penalty is 'elasticnet'. Got (penalty=l2)\n",
      "  warnings.warn(\"l1_ratio parameter is only used when penalty is \"\n",
      "/home/ef/Desktop/diplomadus/diplomadus/lib/python3.8/site-packages/sklearn/utils/validation.py:72: DataConversionWarning: A column-vector y was passed when a 1d array was expected. Please change the shape of y to (n_samples, ), for example using ravel().\n",
      "  return f(**kwargs)\n"
     ]
    },
    {
     "data": {
      "text/plain": [
       "0.7652859690310668"
      ]
     },
     "execution_count": 92,
     "metadata": {},
     "output_type": "execute_result"
    }
   ],
   "source": [
    "param_grid_log = {\"C\": np.logspace(-7,7,70),\n",
    "                  \"l1_ratio\": [x for x in range(10000)],\n",
    "                  'max_iter':[100,1000,5000],\n",
    "                  \"penalty\": [\"l2\", \"l1\", \"elasticnet\", \"none\"],\n",
    "                  \"solver\":['newton-cg', 'lbfgs', 'liblinear', 'sag', 'saga'],\n",
    "                 }\n",
    "\n",
    "from sklearn.model_selection import RandomizedSearchCV\n",
    "logreg_h = RandomizedSearchCV(estimator = logreg,\n",
    "                              n_jobs = -1,\n",
    "                              scoring = 'roc_auc',\n",
    "                              param_distributions = param_grid_log,\n",
    "                              verbose = 5,\n",
    "                              random_state = 22,\n",
    "                              n_iter = 500,\n",
    "                              cv = 3)\n",
    "logreg_h.fit(X, y)\n",
    "logreg_h.best_score_"
   ]
  },
  {
   "cell_type": "code",
   "execution_count": 93,
   "metadata": {
    "ExecuteTime": {
     "end_time": "2020-11-11T18:33:09.020141Z",
     "start_time": "2020-11-11T18:33:08.986964Z"
    }
   },
   "outputs": [
    {
     "data": {
      "text/plain": [
       "LogisticRegression(class_weight='balanced')"
      ]
     },
     "execution_count": 93,
     "metadata": {},
     "output_type": "execute_result"
    }
   ],
   "source": [
    "import pickle\n",
    "\n",
    "## Guardar modelo\n",
    "with open('cs.pkl', 'wb') as file:\n",
    "    pickle.dump(logreg, file)\n",
    "\n",
    "## Abrir un modelo\n",
    "with open('cs.pkl', 'rb') as file:\n",
    "    cs = pickle.load(file)\n",
    "\n",
    "## Listo para usarse\n",
    "cs"
   ]
  },
  {
   "cell_type": "code",
   "execution_count": 94,
   "metadata": {
    "ExecuteTime": {
     "end_time": "2020-11-11T18:33:09.147234Z",
     "start_time": "2020-11-11T18:33:09.037692Z"
    }
   },
   "outputs": [
    {
     "data": {
      "text/plain": [
       "LogisticRegression(C=0.0018233480008684423, class_weight='balanced',\n",
       "                   l1_ratio=9246, solver='saga')"
      ]
     },
     "execution_count": 94,
     "metadata": {},
     "output_type": "execute_result"
    }
   ],
   "source": [
    "import pickle\n",
    "\n",
    "## Guardar modelo\n",
    "with open('cspp.pkl', 'wb') as file:\n",
    "    pickle.dump(logreg_h.best_estimator_, file)\n",
    "\n",
    "## Abrir un modelo\n",
    "with open('cspp.pkl', 'rb') as file:\n",
    "    cspp = pickle.load(file)\n",
    "\n",
    "## Listo para usarse\n",
    "cspp"
   ]
  },
  {
   "cell_type": "code",
   "execution_count": 95,
   "metadata": {
    "ExecuteTime": {
     "end_time": "2020-11-11T18:33:09.194466Z",
     "start_time": "2020-11-11T18:33:09.153832Z"
    }
   },
   "outputs": [
    {
     "data": {
      "text/plain": [
       "60000"
      ]
     },
     "execution_count": 95,
     "metadata": {},
     "output_type": "execute_result"
    }
   ],
   "source": [
    "## Y qcuánto mejora el SGD si hiper-parametrizamos\n",
    "param_grid = {\"loss\": [\"hinge\", \"log\", \"modified_huber\", \"squared_hinge\", \"perceptron\"],\n",
    "              \"penalty\": [\"l2\", \"l1\", \"elasticnet\"],\n",
    "              \"alpha\": [x/100+0.01 for x in range(100)],\n",
    "              \"l1_ratio\": [x/10 for x in range(10)],\n",
    "              \"learning_rate\": [\"constant\", \"optimal\", \"invscaling\", \"adaptive\"],\n",
    "              \"eta0\": [0.001]\n",
    "             }\n",
    "n_hyper = np.prod(list(map(len, param_grid.values())))\n",
    "n_hyper"
   ]
  },
  {
   "cell_type": "markdown",
   "metadata": {
    "ExecuteTime": {
     "end_time": "2020-11-05T01:28:36.631532Z",
     "start_time": "2020-11-05T01:25:51.602542Z"
    }
   },
   "source": [
    "model = SGDClassifier()\n",
    "hyper = RandomizedSearchCV(estimator = model,\n",
    "                           n_jobs = -1,\n",
    "                           scoring = 'roc_auc',\n",
    "                           param_distributions = param_grid,\n",
    "                           error_score = -1000,\n",
    "                           verbose = 5,\n",
    "                           n_iter = 2000,\n",
    "                           random_state = 0,\n",
    "                           cv = 3)\n",
    "hyper.fit(X, y)\n",
    "hyper.best_score_"
   ]
  },
  {
   "cell_type": "code",
   "execution_count": 97,
   "metadata": {
    "ExecuteTime": {
     "end_time": "2020-11-11T18:33:40.245525Z",
     "start_time": "2020-11-11T18:33:40.060033Z"
    }
   },
   "outputs": [
    {
     "data": {
      "text/html": [
       "<div>\n",
       "<style scoped>\n",
       "    .dataframe tbody tr th:only-of-type {\n",
       "        vertical-align: middle;\n",
       "    }\n",
       "\n",
       "    .dataframe tbody tr th {\n",
       "        vertical-align: top;\n",
       "    }\n",
       "\n",
       "    .dataframe thead th {\n",
       "        text-align: right;\n",
       "    }\n",
       "</style>\n",
       "<table border=\"1\" class=\"dataframe\">\n",
       "  <thead>\n",
       "    <tr style=\"text-align: right;\">\n",
       "      <th></th>\n",
       "      <th>woe_EDUCATION</th>\n",
       "      <th>woe_PAY_1</th>\n",
       "      <th>woe_PAY_2</th>\n",
       "      <th>woe_PAY_3</th>\n",
       "      <th>woe_PAY_4</th>\n",
       "      <th>woe_PAY_5</th>\n",
       "      <th>woe_PAY_6</th>\n",
       "      <th>woe_PAY_AMT1_tipo</th>\n",
       "      <th>woe_PAY_AMT2_tipo</th>\n",
       "      <th>woe_PAY_AMT3_tipo</th>\n",
       "      <th>woe_PAY_AMT4_tipo</th>\n",
       "      <th>woe_PAY_AMT5_tipo</th>\n",
       "      <th>woe_LIMIT_BAL_cut</th>\n",
       "      <th>woe_AGE_cut</th>\n",
       "      <th>woe_PAY_AMT1_cut</th>\n",
       "      <th>woe_PAY_AMT2_cut</th>\n",
       "      <th>woe_PAY_AMT3_cut</th>\n",
       "      <th>woe_PAY_AMT4_cut</th>\n",
       "      <th>woe_PAY_AMT5_cut</th>\n",
       "      <th>woe_PAY_AMT6_cut</th>\n",
       "      <th>woe_Prom_pago_cut</th>\n",
       "      <th>woe_Lim_BILL_AMT1_cut</th>\n",
       "      <th>woe_Lim_BILL_AMT2_cut</th>\n",
       "      <th>woe_Lim_BILL_AMT3_cut</th>\n",
       "      <th>woe_Lim_BILL_AMT4_cut</th>\n",
       "      <th>woe_Lim_BILL_AMT5_cut</th>\n",
       "      <th>woe_Lim_BILL_AMT6_cut</th>\n",
       "      <th>woe_Lim_edad_cut</th>\n",
       "    </tr>\n",
       "  </thead>\n",
       "  <tbody>\n",
       "    <tr>\n",
       "      <th>count</th>\n",
       "      <td>5062.000000</td>\n",
       "      <td>5062.000000</td>\n",
       "      <td>5062.000000</td>\n",
       "      <td>5062.000000</td>\n",
       "      <td>5062.000000</td>\n",
       "      <td>5062.000000</td>\n",
       "      <td>5062.000000</td>\n",
       "      <td>5062.000000</td>\n",
       "      <td>5062.000000</td>\n",
       "      <td>5062.000000</td>\n",
       "      <td>5062.000000</td>\n",
       "      <td>5062.000000</td>\n",
       "      <td>5062.000000</td>\n",
       "      <td>5062.000000</td>\n",
       "      <td>5062.000000</td>\n",
       "      <td>5062.000000</td>\n",
       "      <td>5062.000000</td>\n",
       "      <td>5062.000000</td>\n",
       "      <td>5062.000000</td>\n",
       "      <td>5062.000000</td>\n",
       "      <td>5062.000000</td>\n",
       "      <td>5062.000000</td>\n",
       "      <td>5062.000000</td>\n",
       "      <td>5062.000000</td>\n",
       "      <td>5062.000000</td>\n",
       "      <td>5062.000000</td>\n",
       "      <td>5062.000000</td>\n",
       "      <td>5062.000000</td>\n",
       "    </tr>\n",
       "    <tr>\n",
       "      <th>mean</th>\n",
       "      <td>0.013188</td>\n",
       "      <td>0.148603</td>\n",
       "      <td>0.097377</td>\n",
       "      <td>0.085158</td>\n",
       "      <td>0.075907</td>\n",
       "      <td>0.061597</td>\n",
       "      <td>0.056538</td>\n",
       "      <td>0.026909</td>\n",
       "      <td>0.018345</td>\n",
       "      <td>0.026347</td>\n",
       "      <td>0.011624</td>\n",
       "      <td>0.012929</td>\n",
       "      <td>0.041885</td>\n",
       "      <td>0.007478</td>\n",
       "      <td>0.040844</td>\n",
       "      <td>0.033827</td>\n",
       "      <td>0.032705</td>\n",
       "      <td>0.023557</td>\n",
       "      <td>0.030006</td>\n",
       "      <td>0.028093</td>\n",
       "      <td>0.056390</td>\n",
       "      <td>0.016415</td>\n",
       "      <td>0.017449</td>\n",
       "      <td>0.017900</td>\n",
       "      <td>0.024154</td>\n",
       "      <td>0.030276</td>\n",
       "      <td>0.026758</td>\n",
       "      <td>0.051512</td>\n",
       "    </tr>\n",
       "    <tr>\n",
       "      <th>std</th>\n",
       "      <td>0.220198</td>\n",
       "      <td>0.751705</td>\n",
       "      <td>0.630364</td>\n",
       "      <td>0.589414</td>\n",
       "      <td>0.567665</td>\n",
       "      <td>0.515507</td>\n",
       "      <td>0.482332</td>\n",
       "      <td>0.313165</td>\n",
       "      <td>0.257480</td>\n",
       "      <td>0.308791</td>\n",
       "      <td>0.203856</td>\n",
       "      <td>0.214865</td>\n",
       "      <td>0.386457</td>\n",
       "      <td>0.162813</td>\n",
       "      <td>0.382288</td>\n",
       "      <td>0.348060</td>\n",
       "      <td>0.340654</td>\n",
       "      <td>0.289032</td>\n",
       "      <td>0.326533</td>\n",
       "      <td>0.316274</td>\n",
       "      <td>0.448863</td>\n",
       "      <td>0.241230</td>\n",
       "      <td>0.248890</td>\n",
       "      <td>0.252355</td>\n",
       "      <td>0.294016</td>\n",
       "      <td>0.331399</td>\n",
       "      <td>0.311069</td>\n",
       "      <td>0.429887</td>\n",
       "    </tr>\n",
       "    <tr>\n",
       "      <th>min</th>\n",
       "      <td>-0.155160</td>\n",
       "      <td>-1.227277</td>\n",
       "      <td>-1.391497</td>\n",
       "      <td>-1.359256</td>\n",
       "      <td>-1.471842</td>\n",
       "      <td>-1.491655</td>\n",
       "      <td>-1.326559</td>\n",
       "      <td>-0.646016</td>\n",
       "      <td>-0.536047</td>\n",
       "      <td>-0.588292</td>\n",
       "      <td>-0.383497</td>\n",
       "      <td>-0.377615</td>\n",
       "      <td>-0.458664</td>\n",
       "      <td>-0.216112</td>\n",
       "      <td>-0.386601</td>\n",
       "      <td>-0.337443</td>\n",
       "      <td>-0.354915</td>\n",
       "      <td>-0.244253</td>\n",
       "      <td>-0.304676</td>\n",
       "      <td>-0.245055</td>\n",
       "      <td>-0.477772</td>\n",
       "      <td>-0.275485</td>\n",
       "      <td>-0.346829</td>\n",
       "      <td>-0.387435</td>\n",
       "      <td>-0.510845</td>\n",
       "      <td>-0.649877</td>\n",
       "      <td>-0.607778</td>\n",
       "      <td>-0.602085</td>\n",
       "    </tr>\n",
       "    <tr>\n",
       "      <th>25%</th>\n",
       "      <td>-0.118627</td>\n",
       "      <td>0.339472</td>\n",
       "      <td>0.281864</td>\n",
       "      <td>0.230869</td>\n",
       "      <td>0.191240</td>\n",
       "      <td>0.183769</td>\n",
       "      <td>0.170323</td>\n",
       "      <td>0.172621</td>\n",
       "      <td>0.137904</td>\n",
       "      <td>0.181451</td>\n",
       "      <td>0.116779</td>\n",
       "      <td>0.131117</td>\n",
       "      <td>-0.458664</td>\n",
       "      <td>-0.177577</td>\n",
       "      <td>-0.386601</td>\n",
       "      <td>-0.337443</td>\n",
       "      <td>-0.354915</td>\n",
       "      <td>-0.244253</td>\n",
       "      <td>-0.304676</td>\n",
       "      <td>-0.245055</td>\n",
       "      <td>-0.352674</td>\n",
       "      <td>-0.258891</td>\n",
       "      <td>-0.190719</td>\n",
       "      <td>-0.221986</td>\n",
       "      <td>-0.133177</td>\n",
       "      <td>-0.019501</td>\n",
       "      <td>-0.046886</td>\n",
       "      <td>-0.261607</td>\n",
       "    </tr>\n",
       "    <tr>\n",
       "      <th>50%</th>\n",
       "      <td>-0.118627</td>\n",
       "      <td>0.604253</td>\n",
       "      <td>0.410301</td>\n",
       "      <td>0.340618</td>\n",
       "      <td>0.250092</td>\n",
       "      <td>0.183769</td>\n",
       "      <td>0.170323</td>\n",
       "      <td>0.172621</td>\n",
       "      <td>0.137904</td>\n",
       "      <td>0.181451</td>\n",
       "      <td>0.116779</td>\n",
       "      <td>0.131117</td>\n",
       "      <td>-0.092349</td>\n",
       "      <td>0.015968</td>\n",
       "      <td>0.028512</td>\n",
       "      <td>-0.028676</td>\n",
       "      <td>-0.117131</td>\n",
       "      <td>-0.190196</td>\n",
       "      <td>-0.056763</td>\n",
       "      <td>-0.226502</td>\n",
       "      <td>-0.039386</td>\n",
       "      <td>-0.003794</td>\n",
       "      <td>-0.007576</td>\n",
       "      <td>0.077682</td>\n",
       "      <td>0.056810</td>\n",
       "      <td>0.100369</td>\n",
       "      <td>0.114715</td>\n",
       "      <td>-0.100108</td>\n",
       "    </tr>\n",
       "    <tr>\n",
       "      <th>75%</th>\n",
       "      <td>0.206164</td>\n",
       "      <td>0.604253</td>\n",
       "      <td>0.410301</td>\n",
       "      <td>0.340618</td>\n",
       "      <td>0.250092</td>\n",
       "      <td>0.183769</td>\n",
       "      <td>0.170679</td>\n",
       "      <td>0.172621</td>\n",
       "      <td>0.137904</td>\n",
       "      <td>0.181451</td>\n",
       "      <td>0.116779</td>\n",
       "      <td>0.131117</td>\n",
       "      <td>0.384352</td>\n",
       "      <td>0.102377</td>\n",
       "      <td>0.253276</td>\n",
       "      <td>0.175722</td>\n",
       "      <td>0.290047</td>\n",
       "      <td>0.409225</td>\n",
       "      <td>0.452052</td>\n",
       "      <td>0.288520</td>\n",
       "      <td>0.476141</td>\n",
       "      <td>0.308224</td>\n",
       "      <td>0.316668</td>\n",
       "      <td>0.194650</td>\n",
       "      <td>0.299828</td>\n",
       "      <td>0.274914</td>\n",
       "      <td>0.210377</td>\n",
       "      <td>0.294570</td>\n",
       "    </tr>\n",
       "    <tr>\n",
       "      <th>max</th>\n",
       "      <td>1.283511</td>\n",
       "      <td>0.691667</td>\n",
       "      <td>0.410301</td>\n",
       "      <td>0.344928</td>\n",
       "      <td>0.435151</td>\n",
       "      <td>0.424607</td>\n",
       "      <td>0.401724</td>\n",
       "      <td>0.172621</td>\n",
       "      <td>0.137904</td>\n",
       "      <td>0.181451</td>\n",
       "      <td>0.116779</td>\n",
       "      <td>0.131117</td>\n",
       "      <td>0.633055</td>\n",
       "      <td>0.265975</td>\n",
       "      <td>0.710091</td>\n",
       "      <td>0.686420</td>\n",
       "      <td>0.506180</td>\n",
       "      <td>0.454231</td>\n",
       "      <td>0.525609</td>\n",
       "      <td>0.595843</td>\n",
       "      <td>0.771616</td>\n",
       "      <td>0.332276</td>\n",
       "      <td>0.340866</td>\n",
       "      <td>0.366937</td>\n",
       "      <td>0.375731</td>\n",
       "      <td>0.375731</td>\n",
       "      <td>0.375731</td>\n",
       "      <td>0.713262</td>\n",
       "    </tr>\n",
       "  </tbody>\n",
       "</table>\n",
       "</div>"
      ],
      "text/plain": [
       "       woe_EDUCATION    woe_PAY_1    woe_PAY_2    woe_PAY_3    woe_PAY_4  \\\n",
       "count    5062.000000  5062.000000  5062.000000  5062.000000  5062.000000   \n",
       "mean        0.013188     0.148603     0.097377     0.085158     0.075907   \n",
       "std         0.220198     0.751705     0.630364     0.589414     0.567665   \n",
       "min        -0.155160    -1.227277    -1.391497    -1.359256    -1.471842   \n",
       "25%        -0.118627     0.339472     0.281864     0.230869     0.191240   \n",
       "50%        -0.118627     0.604253     0.410301     0.340618     0.250092   \n",
       "75%         0.206164     0.604253     0.410301     0.340618     0.250092   \n",
       "max         1.283511     0.691667     0.410301     0.344928     0.435151   \n",
       "\n",
       "         woe_PAY_5    woe_PAY_6  woe_PAY_AMT1_tipo  woe_PAY_AMT2_tipo  \\\n",
       "count  5062.000000  5062.000000        5062.000000        5062.000000   \n",
       "mean      0.061597     0.056538           0.026909           0.018345   \n",
       "std       0.515507     0.482332           0.313165           0.257480   \n",
       "min      -1.491655    -1.326559          -0.646016          -0.536047   \n",
       "25%       0.183769     0.170323           0.172621           0.137904   \n",
       "50%       0.183769     0.170323           0.172621           0.137904   \n",
       "75%       0.183769     0.170679           0.172621           0.137904   \n",
       "max       0.424607     0.401724           0.172621           0.137904   \n",
       "\n",
       "       woe_PAY_AMT3_tipo  woe_PAY_AMT4_tipo  woe_PAY_AMT5_tipo  \\\n",
       "count        5062.000000        5062.000000        5062.000000   \n",
       "mean            0.026347           0.011624           0.012929   \n",
       "std             0.308791           0.203856           0.214865   \n",
       "min            -0.588292          -0.383497          -0.377615   \n",
       "25%             0.181451           0.116779           0.131117   \n",
       "50%             0.181451           0.116779           0.131117   \n",
       "75%             0.181451           0.116779           0.131117   \n",
       "max             0.181451           0.116779           0.131117   \n",
       "\n",
       "       woe_LIMIT_BAL_cut  woe_AGE_cut  woe_PAY_AMT1_cut  woe_PAY_AMT2_cut  \\\n",
       "count        5062.000000  5062.000000       5062.000000       5062.000000   \n",
       "mean            0.041885     0.007478          0.040844          0.033827   \n",
       "std             0.386457     0.162813          0.382288          0.348060   \n",
       "min            -0.458664    -0.216112         -0.386601         -0.337443   \n",
       "25%            -0.458664    -0.177577         -0.386601         -0.337443   \n",
       "50%            -0.092349     0.015968          0.028512         -0.028676   \n",
       "75%             0.384352     0.102377          0.253276          0.175722   \n",
       "max             0.633055     0.265975          0.710091          0.686420   \n",
       "\n",
       "       woe_PAY_AMT3_cut  woe_PAY_AMT4_cut  woe_PAY_AMT5_cut  woe_PAY_AMT6_cut  \\\n",
       "count       5062.000000       5062.000000       5062.000000       5062.000000   \n",
       "mean           0.032705          0.023557          0.030006          0.028093   \n",
       "std            0.340654          0.289032          0.326533          0.316274   \n",
       "min           -0.354915         -0.244253         -0.304676         -0.245055   \n",
       "25%           -0.354915         -0.244253         -0.304676         -0.245055   \n",
       "50%           -0.117131         -0.190196         -0.056763         -0.226502   \n",
       "75%            0.290047          0.409225          0.452052          0.288520   \n",
       "max            0.506180          0.454231          0.525609          0.595843   \n",
       "\n",
       "       woe_Prom_pago_cut  woe_Lim_BILL_AMT1_cut  woe_Lim_BILL_AMT2_cut  \\\n",
       "count        5062.000000            5062.000000            5062.000000   \n",
       "mean            0.056390               0.016415               0.017449   \n",
       "std             0.448863               0.241230               0.248890   \n",
       "min            -0.477772              -0.275485              -0.346829   \n",
       "25%            -0.352674              -0.258891              -0.190719   \n",
       "50%            -0.039386              -0.003794              -0.007576   \n",
       "75%             0.476141               0.308224               0.316668   \n",
       "max             0.771616               0.332276               0.340866   \n",
       "\n",
       "       woe_Lim_BILL_AMT3_cut  woe_Lim_BILL_AMT4_cut  woe_Lim_BILL_AMT5_cut  \\\n",
       "count            5062.000000            5062.000000            5062.000000   \n",
       "mean                0.017900               0.024154               0.030276   \n",
       "std                 0.252355               0.294016               0.331399   \n",
       "min                -0.387435              -0.510845              -0.649877   \n",
       "25%                -0.221986              -0.133177              -0.019501   \n",
       "50%                 0.077682               0.056810               0.100369   \n",
       "75%                 0.194650               0.299828               0.274914   \n",
       "max                 0.366937               0.375731               0.375731   \n",
       "\n",
       "       woe_Lim_BILL_AMT6_cut  woe_Lim_edad_cut  \n",
       "count            5062.000000       5062.000000  \n",
       "mean                0.026758          0.051512  \n",
       "std                 0.311069          0.429887  \n",
       "min                -0.607778         -0.602085  \n",
       "25%                -0.046886         -0.261607  \n",
       "50%                 0.114715         -0.100108  \n",
       "75%                 0.210377          0.294570  \n",
       "max                 0.375731          0.713262  "
      ]
     },
     "execution_count": 97,
     "metadata": {},
     "output_type": "execute_result"
    }
   ],
   "source": [
    "X.describe()"
   ]
  },
  {
   "cell_type": "markdown",
   "metadata": {},
   "source": [
    "## Scorecard"
   ]
  },
  {
   "cell_type": "code",
   "execution_count": 35,
   "metadata": {
    "ExecuteTime": {
     "end_time": "2020-11-11T18:14:20.846723Z",
     "start_time": "2020-11-11T18:14:20.830111Z"
    }
   },
   "outputs": [],
   "source": [
    "pdo = 30\n",
    "base_score = 134\n",
    "base_odds = 100\n",
    "factor = pdo/np.log(2)\n",
    "offset = base_score - (factor - np.log(base_odds))\n",
    "m = len(ls_woe)"
   ]
  },
  {
   "cell_type": "markdown",
   "metadata": {
    "ExecuteTime": {
     "end_time": "2020-11-05T01:37:20.459552Z",
     "start_time": "2020-11-05T01:37:20.423858Z"
    }
   },
   "source": [
    "alpha = hyper.best_estimator_.intercept_\n",
    "betas = hyper.best_estimator_.coef_[0]\n",
    "\n",
    "##Cómo afectan las mejores variables al modelo SGD hp?\n",
    "pd.DataFrame(list(zip(ls_woe[4:], betas)),\n",
    "            columns =['Variable', 'Impacto']).sort_values(by = 'Impacto')"
   ]
  },
  {
   "cell_type": "code",
   "execution_count": 36,
   "metadata": {
    "ExecuteTime": {
     "end_time": "2020-11-11T18:14:20.890092Z",
     "start_time": "2020-11-11T18:14:20.856249Z"
    }
   },
   "outputs": [
    {
     "data": {
      "text/html": [
       "<div>\n",
       "<style scoped>\n",
       "    .dataframe tbody tr th:only-of-type {\n",
       "        vertical-align: middle;\n",
       "    }\n",
       "\n",
       "    .dataframe tbody tr th {\n",
       "        vertical-align: top;\n",
       "    }\n",
       "\n",
       "    .dataframe thead th {\n",
       "        text-align: right;\n",
       "    }\n",
       "</style>\n",
       "<table border=\"1\" class=\"dataframe\">\n",
       "  <thead>\n",
       "    <tr style=\"text-align: right;\">\n",
       "      <th></th>\n",
       "      <th>Variable</th>\n",
       "      <th>Impacto</th>\n",
       "    </tr>\n",
       "  </thead>\n",
       "  <tbody>\n",
       "    <tr>\n",
       "      <th>1</th>\n",
       "      <td>woe_PAY_5</td>\n",
       "      <td>-0.660896</td>\n",
       "    </tr>\n",
       "    <tr>\n",
       "      <th>0</th>\n",
       "      <td>woe_PAY_4</td>\n",
       "      <td>-0.538935</td>\n",
       "    </tr>\n",
       "    <tr>\n",
       "      <th>14</th>\n",
       "      <td>woe_PAY_AMT5_cut</td>\n",
       "      <td>-0.509660</td>\n",
       "    </tr>\n",
       "    <tr>\n",
       "      <th>9</th>\n",
       "      <td>woe_AGE_cut</td>\n",
       "      <td>-0.386758</td>\n",
       "    </tr>\n",
       "    <tr>\n",
       "      <th>22</th>\n",
       "      <td>woe_Lim_BILL_AMT6_cut</td>\n",
       "      <td>-0.377676</td>\n",
       "    </tr>\n",
       "    <tr>\n",
       "      <th>3</th>\n",
       "      <td>woe_PAY_AMT1_tipo</td>\n",
       "      <td>-0.329986</td>\n",
       "    </tr>\n",
       "    <tr>\n",
       "      <th>13</th>\n",
       "      <td>woe_PAY_AMT4_cut</td>\n",
       "      <td>-0.276810</td>\n",
       "    </tr>\n",
       "    <tr>\n",
       "      <th>18</th>\n",
       "      <td>woe_Lim_BILL_AMT2_cut</td>\n",
       "      <td>-0.247550</td>\n",
       "    </tr>\n",
       "    <tr>\n",
       "      <th>6</th>\n",
       "      <td>woe_PAY_AMT4_tipo</td>\n",
       "      <td>-0.244403</td>\n",
       "    </tr>\n",
       "    <tr>\n",
       "      <th>21</th>\n",
       "      <td>woe_Lim_BILL_AMT5_cut</td>\n",
       "      <td>-0.231680</td>\n",
       "    </tr>\n",
       "    <tr>\n",
       "      <th>4</th>\n",
       "      <td>woe_PAY_AMT2_tipo</td>\n",
       "      <td>-0.209275</td>\n",
       "    </tr>\n",
       "    <tr>\n",
       "      <th>23</th>\n",
       "      <td>woe_Lim_edad_cut</td>\n",
       "      <td>-0.181966</td>\n",
       "    </tr>\n",
       "    <tr>\n",
       "      <th>19</th>\n",
       "      <td>woe_Lim_BILL_AMT3_cut</td>\n",
       "      <td>-0.167140</td>\n",
       "    </tr>\n",
       "    <tr>\n",
       "      <th>5</th>\n",
       "      <td>woe_PAY_AMT3_tipo</td>\n",
       "      <td>-0.161737</td>\n",
       "    </tr>\n",
       "    <tr>\n",
       "      <th>16</th>\n",
       "      <td>woe_Prom_pago_cut</td>\n",
       "      <td>-0.151772</td>\n",
       "    </tr>\n",
       "    <tr>\n",
       "      <th>15</th>\n",
       "      <td>woe_PAY_AMT6_cut</td>\n",
       "      <td>-0.143579</td>\n",
       "    </tr>\n",
       "    <tr>\n",
       "      <th>20</th>\n",
       "      <td>woe_Lim_BILL_AMT4_cut</td>\n",
       "      <td>-0.107736</td>\n",
       "    </tr>\n",
       "    <tr>\n",
       "      <th>17</th>\n",
       "      <td>woe_Lim_BILL_AMT1_cut</td>\n",
       "      <td>-0.065213</td>\n",
       "    </tr>\n",
       "    <tr>\n",
       "      <th>2</th>\n",
       "      <td>woe_PAY_6</td>\n",
       "      <td>-0.022236</td>\n",
       "    </tr>\n",
       "    <tr>\n",
       "      <th>10</th>\n",
       "      <td>woe_PAY_AMT1_cut</td>\n",
       "      <td>0.094547</td>\n",
       "    </tr>\n",
       "    <tr>\n",
       "      <th>11</th>\n",
       "      <td>woe_PAY_AMT2_cut</td>\n",
       "      <td>0.160612</td>\n",
       "    </tr>\n",
       "    <tr>\n",
       "      <th>8</th>\n",
       "      <td>woe_LIMIT_BAL_cut</td>\n",
       "      <td>0.206128</td>\n",
       "    </tr>\n",
       "    <tr>\n",
       "      <th>7</th>\n",
       "      <td>woe_PAY_AMT5_tipo</td>\n",
       "      <td>0.246663</td>\n",
       "    </tr>\n",
       "    <tr>\n",
       "      <th>12</th>\n",
       "      <td>woe_PAY_AMT3_cut</td>\n",
       "      <td>0.570314</td>\n",
       "    </tr>\n",
       "  </tbody>\n",
       "</table>\n",
       "</div>"
      ],
      "text/plain": [
       "                 Variable   Impacto\n",
       "1               woe_PAY_5 -0.660896\n",
       "0               woe_PAY_4 -0.538935\n",
       "14       woe_PAY_AMT5_cut -0.509660\n",
       "9             woe_AGE_cut -0.386758\n",
       "22  woe_Lim_BILL_AMT6_cut -0.377676\n",
       "3       woe_PAY_AMT1_tipo -0.329986\n",
       "13       woe_PAY_AMT4_cut -0.276810\n",
       "18  woe_Lim_BILL_AMT2_cut -0.247550\n",
       "6       woe_PAY_AMT4_tipo -0.244403\n",
       "21  woe_Lim_BILL_AMT5_cut -0.231680\n",
       "4       woe_PAY_AMT2_tipo -0.209275\n",
       "23       woe_Lim_edad_cut -0.181966\n",
       "19  woe_Lim_BILL_AMT3_cut -0.167140\n",
       "5       woe_PAY_AMT3_tipo -0.161737\n",
       "16      woe_Prom_pago_cut -0.151772\n",
       "15       woe_PAY_AMT6_cut -0.143579\n",
       "20  woe_Lim_BILL_AMT4_cut -0.107736\n",
       "17  woe_Lim_BILL_AMT1_cut -0.065213\n",
       "2               woe_PAY_6 -0.022236\n",
       "10       woe_PAY_AMT1_cut  0.094547\n",
       "11       woe_PAY_AMT2_cut  0.160612\n",
       "8       woe_LIMIT_BAL_cut  0.206128\n",
       "7       woe_PAY_AMT5_tipo  0.246663\n",
       "12       woe_PAY_AMT3_cut  0.570314"
      ]
     },
     "execution_count": 36,
     "metadata": {},
     "output_type": "execute_result"
    }
   ],
   "source": [
    "alpha2 = logreg.intercept_\n",
    "betas2 = logreg.coef_[0]\n",
    "\n",
    "## Cómo afectan las mejores variables al modelo Log hp?\n",
    "pd.DataFrame(list(zip(ls_woe[4:], betas2)),\n",
    "            columns =['Variable', 'Impacto']).sort_values(by = 'Impacto')"
   ]
  },
  {
   "cell_type": "code",
   "execution_count": 37,
   "metadata": {
    "ExecuteTime": {
     "end_time": "2020-11-11T18:14:20.919696Z",
     "start_time": "2020-11-11T18:14:20.894612Z"
    }
   },
   "outputs": [],
   "source": [
    "X = resultado[1].copy()"
   ]
  },
  {
   "cell_type": "code",
   "execution_count": 38,
   "metadata": {
    "ExecuteTime": {
     "end_time": "2020-11-11T18:14:23.022568Z",
     "start_time": "2020-11-11T18:14:20.923979Z"
    }
   },
   "outputs": [
    {
     "data": {
      "text/plain": [
       "count    5062.000000\n",
       "mean       95.391347\n",
       "std        43.587561\n",
       "min       -55.000000\n",
       "25%        74.000000\n",
       "50%       105.000000\n",
       "75%       126.000000\n",
       "max       198.000000\n",
       "Name: score, dtype: float64"
      ]
     },
     "execution_count": 38,
     "metadata": {},
     "output_type": "execute_result"
    }
   ],
   "source": [
    "for feat, beta in zip(ls_woe, betas2):\n",
    "    X[\"P_\" + feat[4:]] = X[feat].apply(lambda x:((-beta*x +\n",
    "                                                    (alpha2/m))*factor) +\n",
    "                                         (offset/m)).astype(int)\n",
    "X[\"score\"] = X[[x for x in X.columns if x.startswith(\"P_\")]].sum(axis = 1)\n",
    "X[\"score\"].describe()"
   ]
  },
  {
   "cell_type": "code",
   "execution_count": 39,
   "metadata": {
    "ExecuteTime": {
     "end_time": "2020-11-11T18:14:23.447017Z",
     "start_time": "2020-11-11T18:14:23.026447Z"
    }
   },
   "outputs": [
    {
     "data": {
      "text/plain": [
       "<AxesSubplot:>"
      ]
     },
     "execution_count": 39,
     "metadata": {},
     "output_type": "execute_result"
    },
    {
     "data": {
      "image/png": "[encoded data removed]",
      "text/plain": [
       "<Figure size 432x288 with 1 Axes>"
      ]
     },
     "metadata": {
      "needs_background": "light"
     },
     "output_type": "display_data"
    }
   ],
   "source": [
    "X[\"score\"].hist()"
   ]
  },
  {
   "cell_type": "code",
   "execution_count": 40,
   "metadata": {
    "ExecuteTime": {
     "end_time": "2020-11-11T18:14:24.049717Z",
     "start_time": "2020-11-11T18:14:23.463878Z"
    }
   },
   "outputs": [
    {
     "data": {
      "text/html": [
       "<div>\n",
       "<style scoped>\n",
       "    .dataframe tbody tr th:only-of-type {\n",
       "        vertical-align: middle;\n",
       "    }\n",
       "\n",
       "    .dataframe tbody tr th {\n",
       "        vertical-align: top;\n",
       "    }\n",
       "\n",
       "    .dataframe thead th {\n",
       "        text-align: right;\n",
       "    }\n",
       "</style>\n",
       "<table border=\"1\" class=\"dataframe\">\n",
       "  <thead>\n",
       "    <tr style=\"text-align: right;\">\n",
       "      <th></th>\n",
       "      <th>P_PAY_1</th>\n",
       "    </tr>\n",
       "    <tr>\n",
       "      <th>PAY_1</th>\n",
       "      <th></th>\n",
       "    </tr>\n",
       "  </thead>\n",
       "  <tbody>\n",
       "    <tr>\n",
       "      <th>No_uso</th>\n",
       "      <td>23</td>\n",
       "    </tr>\n",
       "    <tr>\n",
       "      <th>Pago_correcto</th>\n",
       "      <td>13</td>\n",
       "    </tr>\n",
       "    <tr>\n",
       "      <th>Pago_retrasado</th>\n",
       "      <td>-31</td>\n",
       "    </tr>\n",
       "    <tr>\n",
       "      <th>Uso</th>\n",
       "      <td>20</td>\n",
       "    </tr>\n",
       "  </tbody>\n",
       "</table>\n",
       "</div>"
      ],
      "text/plain": [
       "                P_PAY_1\n",
       "PAY_1                  \n",
       "No_uso               23\n",
       "Pago_correcto        13\n",
       "Pago_retrasado      -31\n",
       "Uso                  20"
      ]
     },
     "metadata": {},
     "output_type": "display_data"
    },
    {
     "data": {
      "text/html": [
       "<div>\n",
       "<style scoped>\n",
       "    .dataframe tbody tr th:only-of-type {\n",
       "        vertical-align: middle;\n",
       "    }\n",
       "\n",
       "    .dataframe tbody tr th {\n",
       "        vertical-align: top;\n",
       "    }\n",
       "\n",
       "    .dataframe thead th {\n",
       "        text-align: right;\n",
       "    }\n",
       "</style>\n",
       "<table border=\"1\" class=\"dataframe\">\n",
       "  <thead>\n",
       "    <tr style=\"text-align: right;\">\n",
       "      <th></th>\n",
       "      <th>P_PAY_2</th>\n",
       "    </tr>\n",
       "    <tr>\n",
       "      <th>PAY_2</th>\n",
       "      <th></th>\n",
       "    </tr>\n",
       "  </thead>\n",
       "  <tbody>\n",
       "    <tr>\n",
       "      <th>No_uso</th>\n",
       "      <td>3</td>\n",
       "    </tr>\n",
       "    <tr>\n",
       "      <th>Pago_correcto</th>\n",
       "      <td>3</td>\n",
       "    </tr>\n",
       "    <tr>\n",
       "      <th>Pago_retrasado</th>\n",
       "      <td>2</td>\n",
       "    </tr>\n",
       "    <tr>\n",
       "      <th>Uso</th>\n",
       "      <td>3</td>\n",
       "    </tr>\n",
       "  </tbody>\n",
       "</table>\n",
       "</div>"
      ],
      "text/plain": [
       "                P_PAY_2\n",
       "PAY_2                  \n",
       "No_uso                3\n",
       "Pago_correcto         3\n",
       "Pago_retrasado        2\n",
       "Uso                   3"
      ]
     },
     "metadata": {},
     "output_type": "display_data"
    },
    {
     "data": {
      "text/html": [
       "<div>\n",
       "<style scoped>\n",
       "    .dataframe tbody tr th:only-of-type {\n",
       "        vertical-align: middle;\n",
       "    }\n",
       "\n",
       "    .dataframe tbody tr th {\n",
       "        vertical-align: top;\n",
       "    }\n",
       "\n",
       "    .dataframe thead th {\n",
       "        text-align: right;\n",
       "    }\n",
       "</style>\n",
       "<table border=\"1\" class=\"dataframe\">\n",
       "  <thead>\n",
       "    <tr style=\"text-align: right;\">\n",
       "      <th></th>\n",
       "      <th>P_PAY_3</th>\n",
       "    </tr>\n",
       "    <tr>\n",
       "      <th>PAY_3</th>\n",
       "      <th></th>\n",
       "    </tr>\n",
       "  </thead>\n",
       "  <tbody>\n",
       "    <tr>\n",
       "      <th>No_uso</th>\n",
       "      <td>6</td>\n",
       "    </tr>\n",
       "    <tr>\n",
       "      <th>Pago_correcto</th>\n",
       "      <td>8</td>\n",
       "    </tr>\n",
       "    <tr>\n",
       "      <th>Pago_retrasado</th>\n",
       "      <td>-15</td>\n",
       "    </tr>\n",
       "    <tr>\n",
       "      <th>Uso</th>\n",
       "      <td>8</td>\n",
       "    </tr>\n",
       "  </tbody>\n",
       "</table>\n",
       "</div>"
      ],
      "text/plain": [
       "                P_PAY_3\n",
       "PAY_3                  \n",
       "No_uso                6\n",
       "Pago_correcto         8\n",
       "Pago_retrasado      -15\n",
       "Uso                   8"
      ]
     },
     "metadata": {},
     "output_type": "display_data"
    },
    {
     "data": {
      "text/html": [
       "<div>\n",
       "<style scoped>\n",
       "    .dataframe tbody tr th:only-of-type {\n",
       "        vertical-align: middle;\n",
       "    }\n",
       "\n",
       "    .dataframe tbody tr th {\n",
       "        vertical-align: top;\n",
       "    }\n",
       "\n",
       "    .dataframe thead th {\n",
       "        text-align: right;\n",
       "    }\n",
       "</style>\n",
       "<table border=\"1\" class=\"dataframe\">\n",
       "  <thead>\n",
       "    <tr style=\"text-align: right;\">\n",
       "      <th></th>\n",
       "      <th>P_PAY_4</th>\n",
       "    </tr>\n",
       "    <tr>\n",
       "      <th>PAY_4</th>\n",
       "      <th></th>\n",
       "    </tr>\n",
       "  </thead>\n",
       "  <tbody>\n",
       "    <tr>\n",
       "      <th>No_uso</th>\n",
       "      <td>5</td>\n",
       "    </tr>\n",
       "    <tr>\n",
       "      <th>Pago_correcto</th>\n",
       "      <td>7</td>\n",
       "    </tr>\n",
       "    <tr>\n",
       "      <th>Pago_retrasado</th>\n",
       "      <td>-9</td>\n",
       "    </tr>\n",
       "    <tr>\n",
       "      <th>Uso</th>\n",
       "      <td>5</td>\n",
       "    </tr>\n",
       "  </tbody>\n",
       "</table>\n",
       "</div>"
      ],
      "text/plain": [
       "                P_PAY_4\n",
       "PAY_4                  \n",
       "No_uso                5\n",
       "Pago_correcto         7\n",
       "Pago_retrasado       -9\n",
       "Uso                   5"
      ]
     },
     "metadata": {},
     "output_type": "display_data"
    },
    {
     "data": {
      "text/html": [
       "<div>\n",
       "<style scoped>\n",
       "    .dataframe tbody tr th:only-of-type {\n",
       "        vertical-align: middle;\n",
       "    }\n",
       "\n",
       "    .dataframe tbody tr th {\n",
       "        vertical-align: top;\n",
       "    }\n",
       "\n",
       "    .dataframe thead th {\n",
       "        text-align: right;\n",
       "    }\n",
       "</style>\n",
       "<table border=\"1\" class=\"dataframe\">\n",
       "  <thead>\n",
       "    <tr style=\"text-align: right;\">\n",
       "      <th></th>\n",
       "      <th>P_PAY_5</th>\n",
       "    </tr>\n",
       "    <tr>\n",
       "      <th>PAY_5</th>\n",
       "      <th></th>\n",
       "    </tr>\n",
       "  </thead>\n",
       "  <tbody>\n",
       "    <tr>\n",
       "      <th>No_uso</th>\n",
       "      <td>4</td>\n",
       "    </tr>\n",
       "    <tr>\n",
       "      <th>Pago_correcto</th>\n",
       "      <td>6</td>\n",
       "    </tr>\n",
       "    <tr>\n",
       "      <th>Pago_retrasado</th>\n",
       "      <td>-7</td>\n",
       "    </tr>\n",
       "    <tr>\n",
       "      <th>Uso</th>\n",
       "      <td>4</td>\n",
       "    </tr>\n",
       "  </tbody>\n",
       "</table>\n",
       "</div>"
      ],
      "text/plain": [
       "                P_PAY_5\n",
       "PAY_5                  \n",
       "No_uso                4\n",
       "Pago_correcto         6\n",
       "Pago_retrasado       -7\n",
       "Uso                   4"
      ]
     },
     "metadata": {},
     "output_type": "display_data"
    },
    {
     "data": {
      "text/html": [
       "<div>\n",
       "<style scoped>\n",
       "    .dataframe tbody tr th:only-of-type {\n",
       "        vertical-align: middle;\n",
       "    }\n",
       "\n",
       "    .dataframe tbody tr th {\n",
       "        vertical-align: top;\n",
       "    }\n",
       "\n",
       "    .dataframe thead th {\n",
       "        text-align: right;\n",
       "    }\n",
       "</style>\n",
       "<table border=\"1\" class=\"dataframe\">\n",
       "  <thead>\n",
       "    <tr style=\"text-align: right;\">\n",
       "      <th></th>\n",
       "      <th>P_PAY_6</th>\n",
       "    </tr>\n",
       "    <tr>\n",
       "      <th>PAY_6</th>\n",
       "      <th></th>\n",
       "    </tr>\n",
       "  </thead>\n",
       "  <tbody>\n",
       "    <tr>\n",
       "      <th>No_uso</th>\n",
       "      <td>5</td>\n",
       "    </tr>\n",
       "    <tr>\n",
       "      <th>Pago_correcto</th>\n",
       "      <td>7</td>\n",
       "    </tr>\n",
       "    <tr>\n",
       "      <th>Pago_retrasado</th>\n",
       "      <td>-10</td>\n",
       "    </tr>\n",
       "    <tr>\n",
       "      <th>Uso</th>\n",
       "      <td>5</td>\n",
       "    </tr>\n",
       "  </tbody>\n",
       "</table>\n",
       "</div>"
      ],
      "text/plain": [
       "                P_PAY_6\n",
       "PAY_6                  \n",
       "No_uso                5\n",
       "Pago_correcto         7\n",
       "Pago_retrasado      -10\n",
       "Uso                   5"
      ]
     },
     "metadata": {},
     "output_type": "display_data"
    },
    {
     "data": {
      "text/html": [
       "<div>\n",
       "<style scoped>\n",
       "    .dataframe tbody tr th:only-of-type {\n",
       "        vertical-align: middle;\n",
       "    }\n",
       "\n",
       "    .dataframe tbody tr th {\n",
       "        vertical-align: top;\n",
       "    }\n",
       "\n",
       "    .dataframe thead th {\n",
       "        text-align: right;\n",
       "    }\n",
       "</style>\n",
       "<table border=\"1\" class=\"dataframe\">\n",
       "  <thead>\n",
       "    <tr style=\"text-align: right;\">\n",
       "      <th></th>\n",
       "      <th>P_Prom_pago_cut</th>\n",
       "    </tr>\n",
       "    <tr>\n",
       "      <th>Prom_pago_cut</th>\n",
       "      <th></th>\n",
       "    </tr>\n",
       "  </thead>\n",
       "  <tbody>\n",
       "    <tr>\n",
       "      <th>(-0.001, 765.25]</th>\n",
       "      <td>1</td>\n",
       "    </tr>\n",
       "    <tr>\n",
       "      <th>(1393.833, 2292.917]</th>\n",
       "      <td>2</td>\n",
       "    </tr>\n",
       "    <tr>\n",
       "      <th>(2292.917, 4154.667]</th>\n",
       "      <td>3</td>\n",
       "    </tr>\n",
       "    <tr>\n",
       "      <th>(4154.667, 7834.75]</th>\n",
       "      <td>5</td>\n",
       "    </tr>\n",
       "    <tr>\n",
       "      <th>(765.25, 1393.833]</th>\n",
       "      <td>1</td>\n",
       "    </tr>\n",
       "    <tr>\n",
       "      <th>(7834.75, 627344.333]</th>\n",
       "      <td>7</td>\n",
       "    </tr>\n",
       "  </tbody>\n",
       "</table>\n",
       "</div>"
      ],
      "text/plain": [
       "                       P_Prom_pago_cut\n",
       "Prom_pago_cut                         \n",
       "(-0.001, 765.25]                     1\n",
       "(1393.833, 2292.917]                 2\n",
       "(2292.917, 4154.667]                 3\n",
       "(4154.667, 7834.75]                  5\n",
       "(765.25, 1393.833]                   1\n",
       "(7834.75, 627344.333]                7"
      ]
     },
     "metadata": {},
     "output_type": "display_data"
    },
    {
     "data": {
      "text/html": [
       "<div>\n",
       "<style scoped>\n",
       "    .dataframe tbody tr th:only-of-type {\n",
       "        vertical-align: middle;\n",
       "    }\n",
       "\n",
       "    .dataframe tbody tr th {\n",
       "        vertical-align: top;\n",
       "    }\n",
       "\n",
       "    .dataframe thead th {\n",
       "        text-align: right;\n",
       "    }\n",
       "</style>\n",
       "<table border=\"1\" class=\"dataframe\">\n",
       "  <thead>\n",
       "    <tr style=\"text-align: right;\">\n",
       "      <th></th>\n",
       "      <th>P_Lim_edad_cut</th>\n",
       "    </tr>\n",
       "    <tr>\n",
       "      <th>Lim_edad_cut</th>\n",
       "      <th></th>\n",
       "    </tr>\n",
       "  </thead>\n",
       "  <tbody>\n",
       "    <tr>\n",
       "      <th>(1250.0, 2352.941]</th>\n",
       "      <td>-2</td>\n",
       "    </tr>\n",
       "    <tr>\n",
       "      <th>(172.41299999999998, 1250.0]</th>\n",
       "      <td>-10</td>\n",
       "    </tr>\n",
       "    <tr>\n",
       "      <th>(2352.941, 4000.0]</th>\n",
       "      <td>1</td>\n",
       "    </tr>\n",
       "    <tr>\n",
       "      <th>(4000.0, 5806.452]</th>\n",
       "      <td>10</td>\n",
       "    </tr>\n",
       "    <tr>\n",
       "      <th>(5806.452, 8333.333]</th>\n",
       "      <td>10</td>\n",
       "    </tr>\n",
       "    <tr>\n",
       "      <th>(8333.333, 23103.448]</th>\n",
       "      <td>19</td>\n",
       "    </tr>\n",
       "  </tbody>\n",
       "</table>\n",
       "</div>"
      ],
      "text/plain": [
       "                              P_Lim_edad_cut\n",
       "Lim_edad_cut                                \n",
       "(1250.0, 2352.941]                        -2\n",
       "(172.41299999999998, 1250.0]             -10\n",
       "(2352.941, 4000.0]                         1\n",
       "(4000.0, 5806.452]                        10\n",
       "(5806.452, 8333.333]                      10\n",
       "(8333.333, 23103.448]                     19"
      ]
     },
     "metadata": {},
     "output_type": "display_data"
    },
    {
     "data": {
      "text/html": [
       "<div>\n",
       "<style scoped>\n",
       "    .dataframe tbody tr th:only-of-type {\n",
       "        vertical-align: middle;\n",
       "    }\n",
       "\n",
       "    .dataframe tbody tr th {\n",
       "        vertical-align: top;\n",
       "    }\n",
       "\n",
       "    .dataframe thead th {\n",
       "        text-align: right;\n",
       "    }\n",
       "</style>\n",
       "<table border=\"1\" class=\"dataframe\">\n",
       "  <thead>\n",
       "    <tr style=\"text-align: right;\">\n",
       "      <th></th>\n",
       "      <th>P_LIMIT_BAL_cut</th>\n",
       "    </tr>\n",
       "    <tr>\n",
       "      <th>LIMIT_BAL_cut</th>\n",
       "      <th></th>\n",
       "    </tr>\n",
       "  </thead>\n",
       "  <tbody>\n",
       "    <tr>\n",
       "      <th>(140000.0, 200000.0]</th>\n",
       "      <td>-1</td>\n",
       "    </tr>\n",
       "    <tr>\n",
       "      <th>(200000.0, 300000.0]</th>\n",
       "      <td>-6</td>\n",
       "    </tr>\n",
       "    <tr>\n",
       "      <th>(300000.0, 800000.0]</th>\n",
       "      <td>-12</td>\n",
       "    </tr>\n",
       "    <tr>\n",
       "      <th>(50000.0, 80000.0]</th>\n",
       "      <td>8</td>\n",
       "    </tr>\n",
       "    <tr>\n",
       "      <th>(80000.0, 140000.0]</th>\n",
       "      <td>5</td>\n",
       "    </tr>\n",
       "    <tr>\n",
       "      <th>(9999.999, 50000.0]</th>\n",
       "      <td>14</td>\n",
       "    </tr>\n",
       "  </tbody>\n",
       "</table>\n",
       "</div>"
      ],
      "text/plain": [
       "                      P_LIMIT_BAL_cut\n",
       "LIMIT_BAL_cut                        \n",
       "(140000.0, 200000.0]               -1\n",
       "(200000.0, 300000.0]               -6\n",
       "(300000.0, 800000.0]              -12\n",
       "(50000.0, 80000.0]                  8\n",
       "(80000.0, 140000.0]                 5\n",
       "(9999.999, 50000.0]                14"
      ]
     },
     "metadata": {},
     "output_type": "display_data"
    },
    {
     "data": {
      "text/html": [
       "<div>\n",
       "<style scoped>\n",
       "    .dataframe tbody tr th:only-of-type {\n",
       "        vertical-align: middle;\n",
       "    }\n",
       "\n",
       "    .dataframe tbody tr th {\n",
       "        vertical-align: top;\n",
       "    }\n",
       "\n",
       "    .dataframe thead th {\n",
       "        text-align: right;\n",
       "    }\n",
       "</style>\n",
       "<table border=\"1\" class=\"dataframe\">\n",
       "  <thead>\n",
       "    <tr style=\"text-align: right;\">\n",
       "      <th></th>\n",
       "      <th>P_PAY_AMT1_cut</th>\n",
       "    </tr>\n",
       "    <tr>\n",
       "      <th>PAY_AMT1_cut</th>\n",
       "      <th></th>\n",
       "    </tr>\n",
       "  </thead>\n",
       "  <tbody>\n",
       "    <tr>\n",
       "      <th>(-0.001, 1400.0]</th>\n",
       "      <td>-5</td>\n",
       "    </tr>\n",
       "    <tr>\n",
       "      <th>(1400.0, 2038.5]</th>\n",
       "      <td>1</td>\n",
       "    </tr>\n",
       "    <tr>\n",
       "      <th>(2038.5, 3732.0]</th>\n",
       "      <td>6</td>\n",
       "    </tr>\n",
       "    <tr>\n",
       "      <th>(3732.0, 7000.0]</th>\n",
       "      <td>9</td>\n",
       "    </tr>\n",
       "    <tr>\n",
       "      <th>(7000.0, 873552.0]</th>\n",
       "      <td>19</td>\n",
       "    </tr>\n",
       "  </tbody>\n",
       "</table>\n",
       "</div>"
      ],
      "text/plain": [
       "                    P_PAY_AMT1_cut\n",
       "PAY_AMT1_cut                      \n",
       "(-0.001, 1400.0]                -5\n",
       "(1400.0, 2038.5]                 1\n",
       "(2038.5, 3732.0]                 6\n",
       "(3732.0, 7000.0]                 9\n",
       "(7000.0, 873552.0]              19"
      ]
     },
     "metadata": {},
     "output_type": "display_data"
    },
    {
     "data": {
      "text/html": [
       "<div>\n",
       "<style scoped>\n",
       "    .dataframe tbody tr th:only-of-type {\n",
       "        vertical-align: middle;\n",
       "    }\n",
       "\n",
       "    .dataframe tbody tr th {\n",
       "        vertical-align: top;\n",
       "    }\n",
       "\n",
       "    .dataframe thead th {\n",
       "        text-align: right;\n",
       "    }\n",
       "</style>\n",
       "<table border=\"1\" class=\"dataframe\">\n",
       "  <thead>\n",
       "    <tr style=\"text-align: right;\">\n",
       "      <th></th>\n",
       "      <th>P_Lim_BILL_AMT5_cut</th>\n",
       "    </tr>\n",
       "    <tr>\n",
       "      <th>Lim_BILL_AMT5_cut</th>\n",
       "      <th></th>\n",
       "    </tr>\n",
       "  </thead>\n",
       "  <tbody>\n",
       "    <tr>\n",
       "      <th>(-0.362, 0.00193]</th>\n",
       "      <td>4</td>\n",
       "    </tr>\n",
       "    <tr>\n",
       "      <th>(0.00193, 0.0343]</th>\n",
       "      <td>9</td>\n",
       "    </tr>\n",
       "    <tr>\n",
       "      <th>(0.0343, 0.216]</th>\n",
       "      <td>11</td>\n",
       "    </tr>\n",
       "    <tr>\n",
       "      <th>(0.216, 0.467]</th>\n",
       "      <td>6</td>\n",
       "    </tr>\n",
       "    <tr>\n",
       "      <th>(0.467, 0.754]</th>\n",
       "      <td>3</td>\n",
       "    </tr>\n",
       "    <tr>\n",
       "      <th>(0.754, 4.926]</th>\n",
       "      <td>-10</td>\n",
       "    </tr>\n",
       "  </tbody>\n",
       "</table>\n",
       "</div>"
      ],
      "text/plain": [
       "                   P_Lim_BILL_AMT5_cut\n",
       "Lim_BILL_AMT5_cut                     \n",
       "(-0.362, 0.00193]                    4\n",
       "(0.00193, 0.0343]                    9\n",
       "(0.0343, 0.216]                     11\n",
       "(0.216, 0.467]                       6\n",
       "(0.467, 0.754]                       3\n",
       "(0.754, 4.926]                     -10"
      ]
     },
     "metadata": {},
     "output_type": "display_data"
    },
    {
     "data": {
      "text/html": [
       "<div>\n",
       "<style scoped>\n",
       "    .dataframe tbody tr th:only-of-type {\n",
       "        vertical-align: middle;\n",
       "    }\n",
       "\n",
       "    .dataframe tbody tr th {\n",
       "        vertical-align: top;\n",
       "    }\n",
       "\n",
       "    .dataframe thead th {\n",
       "        text-align: right;\n",
       "    }\n",
       "</style>\n",
       "<table border=\"1\" class=\"dataframe\">\n",
       "  <thead>\n",
       "    <tr style=\"text-align: right;\">\n",
       "      <th></th>\n",
       "      <th>P_PAY_AMT3_cut</th>\n",
       "    </tr>\n",
       "    <tr>\n",
       "      <th>PAY_AMT3_cut</th>\n",
       "      <th></th>\n",
       "    </tr>\n",
       "  </thead>\n",
       "  <tbody>\n",
       "    <tr>\n",
       "      <th>(-0.001, 1000.0]</th>\n",
       "      <td>1</td>\n",
       "    </tr>\n",
       "    <tr>\n",
       "      <th>(1000.0, 1690.0]</th>\n",
       "      <td>2</td>\n",
       "    </tr>\n",
       "    <tr>\n",
       "      <th>(1690.0, 3003.0]</th>\n",
       "      <td>5</td>\n",
       "    </tr>\n",
       "    <tr>\n",
       "      <th>(3003.0, 6288.5]</th>\n",
       "      <td>5</td>\n",
       "    </tr>\n",
       "    <tr>\n",
       "      <th>(6288.5, 889043.0]</th>\n",
       "      <td>6</td>\n",
       "    </tr>\n",
       "  </tbody>\n",
       "</table>\n",
       "</div>"
      ],
      "text/plain": [
       "                    P_PAY_AMT3_cut\n",
       "PAY_AMT3_cut                      \n",
       "(-0.001, 1000.0]                 1\n",
       "(1000.0, 1690.0]                 2\n",
       "(1690.0, 3003.0]                 5\n",
       "(3003.0, 6288.5]                 5\n",
       "(6288.5, 889043.0]               6"
      ]
     },
     "metadata": {},
     "output_type": "display_data"
    },
    {
     "data": {
      "text/html": [
       "<div>\n",
       "<style scoped>\n",
       "    .dataframe tbody tr th:only-of-type {\n",
       "        vertical-align: middle;\n",
       "    }\n",
       "\n",
       "    .dataframe tbody tr th {\n",
       "        vertical-align: top;\n",
       "    }\n",
       "\n",
       "    .dataframe thead th {\n",
       "        text-align: right;\n",
       "    }\n",
       "</style>\n",
       "<table border=\"1\" class=\"dataframe\">\n",
       "  <thead>\n",
       "    <tr style=\"text-align: right;\">\n",
       "      <th></th>\n",
       "      <th>P_PAY_AMT2_cut</th>\n",
       "    </tr>\n",
       "    <tr>\n",
       "      <th>PAY_AMT2_cut</th>\n",
       "      <th></th>\n",
       "    </tr>\n",
       "  </thead>\n",
       "  <tbody>\n",
       "    <tr>\n",
       "      <th>(-0.001, 1300.0]</th>\n",
       "      <td>1</td>\n",
       "    </tr>\n",
       "    <tr>\n",
       "      <th>(1300.0, 2000.0]</th>\n",
       "      <td>3</td>\n",
       "    </tr>\n",
       "    <tr>\n",
       "      <th>(2000.0, 3567.0]</th>\n",
       "      <td>3</td>\n",
       "    </tr>\n",
       "    <tr>\n",
       "      <th>(3567.0, 7000.0]</th>\n",
       "      <td>4</td>\n",
       "    </tr>\n",
       "    <tr>\n",
       "      <th>(7000.0, 1215471.0]</th>\n",
       "      <td>7</td>\n",
       "    </tr>\n",
       "  </tbody>\n",
       "</table>\n",
       "</div>"
      ],
      "text/plain": [
       "                     P_PAY_AMT2_cut\n",
       "PAY_AMT2_cut                       \n",
       "(-0.001, 1300.0]                  1\n",
       "(1300.0, 2000.0]                  3\n",
       "(2000.0, 3567.0]                  3\n",
       "(3567.0, 7000.0]                  4\n",
       "(7000.0, 1215471.0]               7"
      ]
     },
     "metadata": {},
     "output_type": "display_data"
    },
    {
     "data": {
      "text/html": [
       "<div>\n",
       "<style scoped>\n",
       "    .dataframe tbody tr th:only-of-type {\n",
       "        vertical-align: middle;\n",
       "    }\n",
       "\n",
       "    .dataframe tbody tr th {\n",
       "        vertical-align: top;\n",
       "    }\n",
       "\n",
       "    .dataframe thead th {\n",
       "        text-align: right;\n",
       "    }\n",
       "</style>\n",
       "<table border=\"1\" class=\"dataframe\">\n",
       "  <thead>\n",
       "    <tr style=\"text-align: right;\">\n",
       "      <th></th>\n",
       "      <th>P_PAY_AMT1_tipo</th>\n",
       "    </tr>\n",
       "    <tr>\n",
       "      <th>PAY_AMT1_tipo</th>\n",
       "      <th></th>\n",
       "    </tr>\n",
       "  </thead>\n",
       "  <tbody>\n",
       "    <tr>\n",
       "      <th>&lt;=0</th>\n",
       "      <td>10</td>\n",
       "    </tr>\n",
       "    <tr>\n",
       "      <th>&gt;0</th>\n",
       "      <td>1</td>\n",
       "    </tr>\n",
       "  </tbody>\n",
       "</table>\n",
       "</div>"
      ],
      "text/plain": [
       "               P_PAY_AMT1_tipo\n",
       "PAY_AMT1_tipo                 \n",
       "<=0                         10\n",
       ">0                           1"
      ]
     },
     "metadata": {},
     "output_type": "display_data"
    },
    {
     "data": {
      "text/html": [
       "<div>\n",
       "<style scoped>\n",
       "    .dataframe tbody tr th:only-of-type {\n",
       "        vertical-align: middle;\n",
       "    }\n",
       "\n",
       "    .dataframe tbody tr th {\n",
       "        vertical-align: top;\n",
       "    }\n",
       "\n",
       "    .dataframe thead th {\n",
       "        text-align: right;\n",
       "    }\n",
       "</style>\n",
       "<table border=\"1\" class=\"dataframe\">\n",
       "  <thead>\n",
       "    <tr style=\"text-align: right;\">\n",
       "      <th></th>\n",
       "      <th>P_PAY_AMT3_tipo</th>\n",
       "    </tr>\n",
       "    <tr>\n",
       "      <th>PAY_AMT3_tipo</th>\n",
       "      <th></th>\n",
       "    </tr>\n",
       "  </thead>\n",
       "  <tbody>\n",
       "    <tr>\n",
       "      <th>&lt;=0</th>\n",
       "      <td>-6</td>\n",
       "    </tr>\n",
       "    <tr>\n",
       "      <th>&gt;0</th>\n",
       "      <td>6</td>\n",
       "    </tr>\n",
       "  </tbody>\n",
       "</table>\n",
       "</div>"
      ],
      "text/plain": [
       "               P_PAY_AMT3_tipo\n",
       "PAY_AMT3_tipo                 \n",
       "<=0                         -6\n",
       ">0                           6"
      ]
     },
     "metadata": {},
     "output_type": "display_data"
    },
    {
     "data": {
      "text/html": [
       "<div>\n",
       "<style scoped>\n",
       "    .dataframe tbody tr th:only-of-type {\n",
       "        vertical-align: middle;\n",
       "    }\n",
       "\n",
       "    .dataframe tbody tr th {\n",
       "        vertical-align: top;\n",
       "    }\n",
       "\n",
       "    .dataframe thead th {\n",
       "        text-align: right;\n",
       "    }\n",
       "</style>\n",
       "<table border=\"1\" class=\"dataframe\">\n",
       "  <thead>\n",
       "    <tr style=\"text-align: right;\">\n",
       "      <th></th>\n",
       "      <th>P_Lim_BILL_AMT6_cut</th>\n",
       "    </tr>\n",
       "    <tr>\n",
       "      <th>Lim_BILL_AMT6_cut</th>\n",
       "      <th></th>\n",
       "    </tr>\n",
       "  </thead>\n",
       "  <tbody>\n",
       "    <tr>\n",
       "      <th>(-0.581, 0.000866]</th>\n",
       "      <td>3</td>\n",
       "    </tr>\n",
       "    <tr>\n",
       "      <th>(0.000866, 0.0265]</th>\n",
       "      <td>4</td>\n",
       "    </tr>\n",
       "    <tr>\n",
       "      <th>(0.0265, 0.188]</th>\n",
       "      <td>4</td>\n",
       "    </tr>\n",
       "    <tr>\n",
       "      <th>(0.188, 0.44]</th>\n",
       "      <td>3</td>\n",
       "    </tr>\n",
       "    <tr>\n",
       "      <th>(0.44, 0.737]</th>\n",
       "      <td>3</td>\n",
       "    </tr>\n",
       "    <tr>\n",
       "      <th>(0.737, 3.886]</th>\n",
       "      <td>0</td>\n",
       "    </tr>\n",
       "  </tbody>\n",
       "</table>\n",
       "</div>"
      ],
      "text/plain": [
       "                    P_Lim_BILL_AMT6_cut\n",
       "Lim_BILL_AMT6_cut                      \n",
       "(-0.581, 0.000866]                    3\n",
       "(0.000866, 0.0265]                    4\n",
       "(0.0265, 0.188]                       4\n",
       "(0.188, 0.44]                         3\n",
       "(0.44, 0.737]                         3\n",
       "(0.737, 3.886]                        0"
      ]
     },
     "metadata": {},
     "output_type": "display_data"
    },
    {
     "data": {
      "text/html": [
       "<div>\n",
       "<style scoped>\n",
       "    .dataframe tbody tr th:only-of-type {\n",
       "        vertical-align: middle;\n",
       "    }\n",
       "\n",
       "    .dataframe tbody tr th {\n",
       "        vertical-align: top;\n",
       "    }\n",
       "\n",
       "    .dataframe thead th {\n",
       "        text-align: right;\n",
       "    }\n",
       "</style>\n",
       "<table border=\"1\" class=\"dataframe\">\n",
       "  <thead>\n",
       "    <tr style=\"text-align: right;\">\n",
       "      <th></th>\n",
       "      <th>P_PAY_AMT5_cut</th>\n",
       "    </tr>\n",
       "    <tr>\n",
       "      <th>PAY_AMT5_cut</th>\n",
       "      <th></th>\n",
       "    </tr>\n",
       "  </thead>\n",
       "  <tbody>\n",
       "    <tr>\n",
       "      <th>(-0.001, 629.0]</th>\n",
       "      <td>0</td>\n",
       "    </tr>\n",
       "    <tr>\n",
       "      <th>(1484.0, 3000.0]</th>\n",
       "      <td>3</td>\n",
       "    </tr>\n",
       "    <tr>\n",
       "      <th>(3000.0, 5692.5]</th>\n",
       "      <td>8</td>\n",
       "    </tr>\n",
       "    <tr>\n",
       "      <th>(5692.5, 317077.0]</th>\n",
       "      <td>9</td>\n",
       "    </tr>\n",
       "    <tr>\n",
       "      <th>(629.0, 1484.0]</th>\n",
       "      <td>2</td>\n",
       "    </tr>\n",
       "  </tbody>\n",
       "</table>\n",
       "</div>"
      ],
      "text/plain": [
       "                    P_PAY_AMT5_cut\n",
       "PAY_AMT5_cut                      \n",
       "(-0.001, 629.0]                  0\n",
       "(1484.0, 3000.0]                 3\n",
       "(3000.0, 5692.5]                 8\n",
       "(5692.5, 317077.0]               9\n",
       "(629.0, 1484.0]                  2"
      ]
     },
     "metadata": {},
     "output_type": "display_data"
    },
    {
     "data": {
      "text/html": [
       "<div>\n",
       "<style scoped>\n",
       "    .dataframe tbody tr th:only-of-type {\n",
       "        vertical-align: middle;\n",
       "    }\n",
       "\n",
       "    .dataframe tbody tr th {\n",
       "        vertical-align: top;\n",
       "    }\n",
       "\n",
       "    .dataframe thead th {\n",
       "        text-align: right;\n",
       "    }\n",
       "</style>\n",
       "<table border=\"1\" class=\"dataframe\">\n",
       "  <thead>\n",
       "    <tr style=\"text-align: right;\">\n",
       "      <th></th>\n",
       "      <th>P_PAY_AMT6_cut</th>\n",
       "    </tr>\n",
       "    <tr>\n",
       "      <th>PAY_AMT6_cut</th>\n",
       "      <th></th>\n",
       "    </tr>\n",
       "  </thead>\n",
       "  <tbody>\n",
       "    <tr>\n",
       "      <th>(-0.001, 616.0]</th>\n",
       "      <td>1</td>\n",
       "    </tr>\n",
       "    <tr>\n",
       "      <th>(1500.0, 3000.0]</th>\n",
       "      <td>3</td>\n",
       "    </tr>\n",
       "    <tr>\n",
       "      <th>(3000.0, 5601.5]</th>\n",
       "      <td>5</td>\n",
       "    </tr>\n",
       "    <tr>\n",
       "      <th>(5601.5, 443001.0]</th>\n",
       "      <td>7</td>\n",
       "    </tr>\n",
       "    <tr>\n",
       "      <th>(616.0, 1500.0]</th>\n",
       "      <td>1</td>\n",
       "    </tr>\n",
       "  </tbody>\n",
       "</table>\n",
       "</div>"
      ],
      "text/plain": [
       "                    P_PAY_AMT6_cut\n",
       "PAY_AMT6_cut                      \n",
       "(-0.001, 616.0]                  1\n",
       "(1500.0, 3000.0]                 3\n",
       "(3000.0, 5601.5]                 5\n",
       "(5601.5, 443001.0]               7\n",
       "(616.0, 1500.0]                  1"
      ]
     },
     "metadata": {},
     "output_type": "display_data"
    },
    {
     "data": {
      "text/html": [
       "<div>\n",
       "<style scoped>\n",
       "    .dataframe tbody tr th:only-of-type {\n",
       "        vertical-align: middle;\n",
       "    }\n",
       "\n",
       "    .dataframe tbody tr th {\n",
       "        vertical-align: top;\n",
       "    }\n",
       "\n",
       "    .dataframe thead th {\n",
       "        text-align: right;\n",
       "    }\n",
       "</style>\n",
       "<table border=\"1\" class=\"dataframe\">\n",
       "  <thead>\n",
       "    <tr style=\"text-align: right;\">\n",
       "      <th></th>\n",
       "      <th>P_Lim_BILL_AMT4_cut</th>\n",
       "    </tr>\n",
       "    <tr>\n",
       "      <th>Lim_BILL_AMT4_cut</th>\n",
       "      <th></th>\n",
       "    </tr>\n",
       "  </thead>\n",
       "  <tbody>\n",
       "    <tr>\n",
       "      <th>(-1.375, 0.00288]</th>\n",
       "      <td>3</td>\n",
       "    </tr>\n",
       "    <tr>\n",
       "      <th>(0.00288, 0.0458]</th>\n",
       "      <td>0</td>\n",
       "    </tr>\n",
       "    <tr>\n",
       "      <th>(0.0458, 0.242]</th>\n",
       "      <td>-1</td>\n",
       "    </tr>\n",
       "    <tr>\n",
       "      <th>(0.242, 0.517]</th>\n",
       "      <td>1</td>\n",
       "    </tr>\n",
       "    <tr>\n",
       "      <th>(0.517, 0.829]</th>\n",
       "      <td>5</td>\n",
       "    </tr>\n",
       "    <tr>\n",
       "      <th>(0.829, 5.147]</th>\n",
       "      <td>10</td>\n",
       "    </tr>\n",
       "  </tbody>\n",
       "</table>\n",
       "</div>"
      ],
      "text/plain": [
       "                   P_Lim_BILL_AMT4_cut\n",
       "Lim_BILL_AMT4_cut                     \n",
       "(-1.375, 0.00288]                    3\n",
       "(0.00288, 0.0458]                    0\n",
       "(0.0458, 0.242]                     -1\n",
       "(0.242, 0.517]                       1\n",
       "(0.517, 0.829]                       5\n",
       "(0.829, 5.147]                      10"
      ]
     },
     "metadata": {},
     "output_type": "display_data"
    },
    {
     "data": {
      "text/html": [
       "<div>\n",
       "<style scoped>\n",
       "    .dataframe tbody tr th:only-of-type {\n",
       "        vertical-align: middle;\n",
       "    }\n",
       "\n",
       "    .dataframe tbody tr th {\n",
       "        vertical-align: top;\n",
       "    }\n",
       "\n",
       "    .dataframe thead th {\n",
       "        text-align: right;\n",
       "    }\n",
       "</style>\n",
       "<table border=\"1\" class=\"dataframe\">\n",
       "  <thead>\n",
       "    <tr style=\"text-align: right;\">\n",
       "      <th></th>\n",
       "      <th>P_PAY_AMT4_cut</th>\n",
       "    </tr>\n",
       "    <tr>\n",
       "      <th>PAY_AMT4_cut</th>\n",
       "      <th></th>\n",
       "    </tr>\n",
       "  </thead>\n",
       "  <tbody>\n",
       "    <tr>\n",
       "      <th>(-0.001, 697.0]</th>\n",
       "      <td>2</td>\n",
       "    </tr>\n",
       "    <tr>\n",
       "      <th>(1500.0, 3000.0]</th>\n",
       "      <td>3</td>\n",
       "    </tr>\n",
       "    <tr>\n",
       "      <th>(3000.0, 5500.0]</th>\n",
       "      <td>4</td>\n",
       "    </tr>\n",
       "    <tr>\n",
       "      <th>(5500.0, 621000.0]</th>\n",
       "      <td>4</td>\n",
       "    </tr>\n",
       "    <tr>\n",
       "      <th>(697.0, 1500.0]</th>\n",
       "      <td>2</td>\n",
       "    </tr>\n",
       "  </tbody>\n",
       "</table>\n",
       "</div>"
      ],
      "text/plain": [
       "                    P_PAY_AMT4_cut\n",
       "PAY_AMT4_cut                      \n",
       "(-0.001, 697.0]                  2\n",
       "(1500.0, 3000.0]                 3\n",
       "(3000.0, 5500.0]                 4\n",
       "(5500.0, 621000.0]               4\n",
       "(697.0, 1500.0]                  2"
      ]
     },
     "metadata": {},
     "output_type": "display_data"
    },
    {
     "data": {
      "text/html": [
       "<div>\n",
       "<style scoped>\n",
       "    .dataframe tbody tr th:only-of-type {\n",
       "        vertical-align: middle;\n",
       "    }\n",
       "\n",
       "    .dataframe tbody tr th {\n",
       "        vertical-align: top;\n",
       "    }\n",
       "\n",
       "    .dataframe thead th {\n",
       "        text-align: right;\n",
       "    }\n",
       "</style>\n",
       "<table border=\"1\" class=\"dataframe\">\n",
       "  <thead>\n",
       "    <tr style=\"text-align: right;\">\n",
       "      <th></th>\n",
       "      <th>P_PAY_AMT2_tipo</th>\n",
       "    </tr>\n",
       "    <tr>\n",
       "      <th>PAY_AMT2_tipo</th>\n",
       "      <th></th>\n",
       "    </tr>\n",
       "  </thead>\n",
       "  <tbody>\n",
       "    <tr>\n",
       "      <th>&lt;=0</th>\n",
       "      <td>8</td>\n",
       "    </tr>\n",
       "    <tr>\n",
       "      <th>&gt;0</th>\n",
       "      <td>2</td>\n",
       "    </tr>\n",
       "  </tbody>\n",
       "</table>\n",
       "</div>"
      ],
      "text/plain": [
       "               P_PAY_AMT2_tipo\n",
       "PAY_AMT2_tipo                 \n",
       "<=0                          8\n",
       ">0                           2"
      ]
     },
     "metadata": {},
     "output_type": "display_data"
    },
    {
     "data": {
      "text/html": [
       "<div>\n",
       "<style scoped>\n",
       "    .dataframe tbody tr th:only-of-type {\n",
       "        vertical-align: middle;\n",
       "    }\n",
       "\n",
       "    .dataframe tbody tr th {\n",
       "        vertical-align: top;\n",
       "    }\n",
       "\n",
       "    .dataframe thead th {\n",
       "        text-align: right;\n",
       "    }\n",
       "</style>\n",
       "<table border=\"1\" class=\"dataframe\">\n",
       "  <thead>\n",
       "    <tr style=\"text-align: right;\">\n",
       "      <th></th>\n",
       "      <th>P_Lim_BILL_AMT3_cut</th>\n",
       "    </tr>\n",
       "    <tr>\n",
       "      <th>Lim_BILL_AMT3_cut</th>\n",
       "      <th></th>\n",
       "    </tr>\n",
       "  </thead>\n",
       "  <tbody>\n",
       "    <tr>\n",
       "      <th>(-1.0259999999999998, 0.00386]</th>\n",
       "      <td>4</td>\n",
       "    </tr>\n",
       "    <tr>\n",
       "      <th>(0.00386, 0.0498]</th>\n",
       "      <td>4</td>\n",
       "    </tr>\n",
       "    <tr>\n",
       "      <th>(0.0498, 0.276]</th>\n",
       "      <td>6</td>\n",
       "    </tr>\n",
       "    <tr>\n",
       "      <th>(0.276, 0.585]</th>\n",
       "      <td>4</td>\n",
       "    </tr>\n",
       "    <tr>\n",
       "      <th>(0.585, 0.896]</th>\n",
       "      <td>1</td>\n",
       "    </tr>\n",
       "    <tr>\n",
       "      <th>(0.896, 5.391]</th>\n",
       "      <td>0</td>\n",
       "    </tr>\n",
       "  </tbody>\n",
       "</table>\n",
       "</div>"
      ],
      "text/plain": [
       "                                P_Lim_BILL_AMT3_cut\n",
       "Lim_BILL_AMT3_cut                                  \n",
       "(-1.0259999999999998, 0.00386]                    4\n",
       "(0.00386, 0.0498]                                 4\n",
       "(0.0498, 0.276]                                   6\n",
       "(0.276, 0.585]                                    4\n",
       "(0.585, 0.896]                                    1\n",
       "(0.896, 5.391]                                    0"
      ]
     },
     "metadata": {},
     "output_type": "display_data"
    },
    {
     "data": {
      "text/html": [
       "<div>\n",
       "<style scoped>\n",
       "    .dataframe tbody tr th:only-of-type {\n",
       "        vertical-align: middle;\n",
       "    }\n",
       "\n",
       "    .dataframe tbody tr th {\n",
       "        vertical-align: top;\n",
       "    }\n",
       "\n",
       "    .dataframe thead th {\n",
       "        text-align: right;\n",
       "    }\n",
       "</style>\n",
       "<table border=\"1\" class=\"dataframe\">\n",
       "  <thead>\n",
       "    <tr style=\"text-align: right;\">\n",
       "      <th></th>\n",
       "      <th>P_Lim_BILL_AMT2_cut</th>\n",
       "    </tr>\n",
       "    <tr>\n",
       "      <th>Lim_BILL_AMT2_cut</th>\n",
       "      <th></th>\n",
       "    </tr>\n",
       "  </thead>\n",
       "  <tbody>\n",
       "    <tr>\n",
       "      <th>(-0.147, 0.00428]</th>\n",
       "      <td>3</td>\n",
       "    </tr>\n",
       "    <tr>\n",
       "      <th>(0.00428, 0.0526]</th>\n",
       "      <td>8</td>\n",
       "    </tr>\n",
       "    <tr>\n",
       "      <th>(0.0526, 0.299]</th>\n",
       "      <td>8</td>\n",
       "    </tr>\n",
       "    <tr>\n",
       "      <th>(0.299, 0.642]</th>\n",
       "      <td>3</td>\n",
       "    </tr>\n",
       "    <tr>\n",
       "      <th>(0.642, 0.921]</th>\n",
       "      <td>0</td>\n",
       "    </tr>\n",
       "    <tr>\n",
       "      <th>(0.921, 6.38]</th>\n",
       "      <td>-2</td>\n",
       "    </tr>\n",
       "  </tbody>\n",
       "</table>\n",
       "</div>"
      ],
      "text/plain": [
       "                   P_Lim_BILL_AMT2_cut\n",
       "Lim_BILL_AMT2_cut                     \n",
       "(-0.147, 0.00428]                    3\n",
       "(0.00428, 0.0526]                    8\n",
       "(0.0526, 0.299]                      8\n",
       "(0.299, 0.642]                       3\n",
       "(0.642, 0.921]                       0\n",
       "(0.921, 6.38]                       -2"
      ]
     },
     "metadata": {},
     "output_type": "display_data"
    },
    {
     "data": {
      "text/html": [
       "<div>\n",
       "<style scoped>\n",
       "    .dataframe tbody tr th:only-of-type {\n",
       "        vertical-align: middle;\n",
       "    }\n",
       "\n",
       "    .dataframe tbody tr th {\n",
       "        vertical-align: top;\n",
       "    }\n",
       "\n",
       "    .dataframe thead th {\n",
       "        text-align: right;\n",
       "    }\n",
       "</style>\n",
       "<table border=\"1\" class=\"dataframe\">\n",
       "  <thead>\n",
       "    <tr style=\"text-align: right;\">\n",
       "      <th></th>\n",
       "      <th>P_Lim_BILL_AMT1_cut</th>\n",
       "    </tr>\n",
       "    <tr>\n",
       "      <th>Lim_BILL_AMT1_cut</th>\n",
       "      <th></th>\n",
       "    </tr>\n",
       "  </thead>\n",
       "  <tbody>\n",
       "    <tr>\n",
       "      <th>(-0.0382, 0.00683]</th>\n",
       "      <td>3</td>\n",
       "    </tr>\n",
       "    <tr>\n",
       "      <th>(0.00683, 0.0613]</th>\n",
       "      <td>6</td>\n",
       "    </tr>\n",
       "    <tr>\n",
       "      <th>(0.0613, 0.317]</th>\n",
       "      <td>6</td>\n",
       "    </tr>\n",
       "    <tr>\n",
       "      <th>(0.317, 0.667]</th>\n",
       "      <td>3</td>\n",
       "    </tr>\n",
       "    <tr>\n",
       "      <th>(0.667, 0.933]</th>\n",
       "      <td>0</td>\n",
       "    </tr>\n",
       "    <tr>\n",
       "      <th>(0.933, 6.455]</th>\n",
       "      <td>0</td>\n",
       "    </tr>\n",
       "  </tbody>\n",
       "</table>\n",
       "</div>"
      ],
      "text/plain": [
       "                    P_Lim_BILL_AMT1_cut\n",
       "Lim_BILL_AMT1_cut                      \n",
       "(-0.0382, 0.00683]                    3\n",
       "(0.00683, 0.0613]                     6\n",
       "(0.0613, 0.317]                       6\n",
       "(0.317, 0.667]                        3\n",
       "(0.667, 0.933]                        0\n",
       "(0.933, 6.455]                        0"
      ]
     },
     "metadata": {},
     "output_type": "display_data"
    },
    {
     "data": {
      "text/html": [
       "<div>\n",
       "<style scoped>\n",
       "    .dataframe tbody tr th:only-of-type {\n",
       "        vertical-align: middle;\n",
       "    }\n",
       "\n",
       "    .dataframe tbody tr th {\n",
       "        vertical-align: top;\n",
       "    }\n",
       "\n",
       "    .dataframe thead th {\n",
       "        text-align: right;\n",
       "    }\n",
       "</style>\n",
       "<table border=\"1\" class=\"dataframe\">\n",
       "  <thead>\n",
       "    <tr style=\"text-align: right;\">\n",
       "      <th></th>\n",
       "      <th>P_PAY_AMT5_tipo</th>\n",
       "    </tr>\n",
       "    <tr>\n",
       "      <th>PAY_AMT5_tipo</th>\n",
       "      <th></th>\n",
       "    </tr>\n",
       "  </thead>\n",
       "  <tbody>\n",
       "    <tr>\n",
       "      <th>&lt;=0</th>\n",
       "      <td>6</td>\n",
       "    </tr>\n",
       "    <tr>\n",
       "      <th>&gt;0</th>\n",
       "      <td>2</td>\n",
       "    </tr>\n",
       "  </tbody>\n",
       "</table>\n",
       "</div>"
      ],
      "text/plain": [
       "               P_PAY_AMT5_tipo\n",
       "PAY_AMT5_tipo                 \n",
       "<=0                          6\n",
       ">0                           2"
      ]
     },
     "metadata": {},
     "output_type": "display_data"
    },
    {
     "data": {
      "text/html": [
       "<div>\n",
       "<style scoped>\n",
       "    .dataframe tbody tr th:only-of-type {\n",
       "        vertical-align: middle;\n",
       "    }\n",
       "\n",
       "    .dataframe tbody tr th {\n",
       "        vertical-align: top;\n",
       "    }\n",
       "\n",
       "    .dataframe thead th {\n",
       "        text-align: right;\n",
       "    }\n",
       "</style>\n",
       "<table border=\"1\" class=\"dataframe\">\n",
       "  <thead>\n",
       "    <tr style=\"text-align: right;\">\n",
       "      <th></th>\n",
       "      <th>P_PAY_AMT4_tipo</th>\n",
       "    </tr>\n",
       "    <tr>\n",
       "      <th>PAY_AMT4_tipo</th>\n",
       "      <th></th>\n",
       "    </tr>\n",
       "  </thead>\n",
       "  <tbody>\n",
       "    <tr>\n",
       "      <th>&lt;=0</th>\n",
       "      <td>4</td>\n",
       "    </tr>\n",
       "    <tr>\n",
       "      <th>&gt;0</th>\n",
       "      <td>2</td>\n",
       "    </tr>\n",
       "  </tbody>\n",
       "</table>\n",
       "</div>"
      ],
      "text/plain": [
       "               P_PAY_AMT4_tipo\n",
       "PAY_AMT4_tipo                 \n",
       "<=0                          4\n",
       ">0                           2"
      ]
     },
     "metadata": {},
     "output_type": "display_data"
    },
    {
     "data": {
      "text/html": [
       "<div>\n",
       "<style scoped>\n",
       "    .dataframe tbody tr th:only-of-type {\n",
       "        vertical-align: middle;\n",
       "    }\n",
       "\n",
       "    .dataframe tbody tr th {\n",
       "        vertical-align: top;\n",
       "    }\n",
       "\n",
       "    .dataframe thead th {\n",
       "        text-align: right;\n",
       "    }\n",
       "</style>\n",
       "<table border=\"1\" class=\"dataframe\">\n",
       "  <thead>\n",
       "    <tr style=\"text-align: right;\">\n",
       "      <th></th>\n",
       "      <th>P_EDUCATION</th>\n",
       "    </tr>\n",
       "    <tr>\n",
       "      <th>EDUCATION</th>\n",
       "      <th></th>\n",
       "    </tr>\n",
       "  </thead>\n",
       "  <tbody>\n",
       "    <tr>\n",
       "      <th>Otros</th>\n",
       "      <td>33</td>\n",
       "    </tr>\n",
       "    <tr>\n",
       "      <th>Preparatoria</th>\n",
       "      <td>8</td>\n",
       "    </tr>\n",
       "    <tr>\n",
       "      <th>Secundaria</th>\n",
       "      <td>0</td>\n",
       "    </tr>\n",
       "    <tr>\n",
       "      <th>Universidad</th>\n",
       "      <td>0</td>\n",
       "    </tr>\n",
       "  </tbody>\n",
       "</table>\n",
       "</div>"
      ],
      "text/plain": [
       "              P_EDUCATION\n",
       "EDUCATION                \n",
       "Otros                  33\n",
       "Preparatoria            8\n",
       "Secundaria              0\n",
       "Universidad             0"
      ]
     },
     "metadata": {},
     "output_type": "display_data"
    },
    {
     "data": {
      "text/html": [
       "<div>\n",
       "<style scoped>\n",
       "    .dataframe tbody tr th:only-of-type {\n",
       "        vertical-align: middle;\n",
       "    }\n",
       "\n",
       "    .dataframe tbody tr th {\n",
       "        vertical-align: top;\n",
       "    }\n",
       "\n",
       "    .dataframe thead th {\n",
       "        text-align: right;\n",
       "    }\n",
       "</style>\n",
       "<table border=\"1\" class=\"dataframe\">\n",
       "  <thead>\n",
       "    <tr style=\"text-align: right;\">\n",
       "      <th></th>\n",
       "      <th>P_AGE_cut</th>\n",
       "    </tr>\n",
       "    <tr>\n",
       "      <th>AGE_cut</th>\n",
       "      <th></th>\n",
       "    </tr>\n",
       "  </thead>\n",
       "  <tbody>\n",
       "    <tr>\n",
       "      <th>(20.999, 26.0]</th>\n",
       "      <td>0</td>\n",
       "    </tr>\n",
       "    <tr>\n",
       "      <th>(26.0, 30.0]</th>\n",
       "      <td>4</td>\n",
       "    </tr>\n",
       "    <tr>\n",
       "      <th>(30.0, 34.0]</th>\n",
       "      <td>6</td>\n",
       "    </tr>\n",
       "    <tr>\n",
       "      <th>(34.0, 38.0]</th>\n",
       "      <td>3</td>\n",
       "    </tr>\n",
       "    <tr>\n",
       "      <th>(38.0, 45.0]</th>\n",
       "      <td>3</td>\n",
       "    </tr>\n",
       "    <tr>\n",
       "      <th>(45.0, 70.0]</th>\n",
       "      <td>1</td>\n",
       "    </tr>\n",
       "  </tbody>\n",
       "</table>\n",
       "</div>"
      ],
      "text/plain": [
       "                P_AGE_cut\n",
       "AGE_cut                  \n",
       "(20.999, 26.0]          0\n",
       "(26.0, 30.0]            4\n",
       "(30.0, 34.0]            6\n",
       "(34.0, 38.0]            3\n",
       "(38.0, 45.0]            3\n",
       "(45.0, 70.0]            1"
      ]
     },
     "metadata": {},
     "output_type": "display_data"
    }
   ],
   "source": [
    "for var in ls_best:\n",
    "    display(X[[var, \"P_\" + var]].groupby(var).mean())"
   ]
  }
 ],
 "metadata": {
  "kernelspec": {
   "display_name": "Python 3",
   "language": "python",
   "name": "python3"
  },
  "language_info": {
   "codemirror_mode": {
    "name": "ipython",
    "version": 3
   },
   "file_extension": ".py",
   "mimetype": "text/x-python",
   "name": "python",
   "nbconvert_exporter": "python",
   "pygments_lexer": "ipython3",
   "version": "3.8.5"
  },
  "toc": {
   "base_numbering": 1,
   "nav_menu": {},
   "number_sections": true,
   "sideBar": true,
   "skip_h1_title": true,
   "title_cell": "Table of Contents",
   "title_sidebar": "Contents",
   "toc_cell": false,
   "toc_position": {
    "height": "calc(100% - 180px)",
    "left": "10px",
    "top": "150px",
    "width": "203.542px"
   },
   "toc_section_display": true,
   "toc_window_display": true
  },
  "varInspector": {
   "cols": {
    "lenName": 16,
    "lenType": 16,
    "lenVar": 40
   },
   "kernels_config": {
    "python": {
     "delete_cmd_postfix": "",
     "delete_cmd_prefix": "del ",
     "library": "var_list.py",
     "varRefreshCmd": "print(var_dic_list())"
    },
    "r": {
     "delete_cmd_postfix": ") ",
     "delete_cmd_prefix": "rm(",
     "library": "var_list.r",
     "varRefreshCmd": "cat(var_dic_list()) "
    }
   },
   "types_to_exclude": [
    "module",
    "function",
    "builtin_function_or_method",
    "instance",
    "_Feature"
   ],
   "window_display": false
  }
 },
 "nbformat": 4,
 "nbformat_minor": 4
}
