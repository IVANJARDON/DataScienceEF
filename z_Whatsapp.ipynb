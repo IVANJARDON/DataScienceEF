{
 "cells": [
  {
   "cell_type": "markdown",
   "metadata": {},
   "source": [
    "# Whatsapp"
   ]
  },
  {
   "cell_type": "markdown",
   "metadata": {},
   "source": [
    "## ETL"
   ]
  },
  {
   "cell_type": "markdown",
   "metadata": {},
   "source": [
    "### Importar"
   ]
  },
  {
   "cell_type": "code",
   "execution_count": 1,
   "metadata": {
    "ExecuteTime": {
     "end_time": "2021-01-21T22:35:44.101297Z",
     "start_time": "2021-01-21T22:35:43.070651Z"
    }
   },
   "outputs": [],
   "source": [
    "# %load basic\n",
    "import pandas as pd\n",
    "import numpy as np\n",
    "import matplotlib.pyplot as plt\n",
    "pd.set_option('display.max_columns',200)\n",
    "pd.options.display.float_format = '{:.2f}'.format\n",
    "file = '/home/ef/Documents/Diplomado/data/'"
   ]
  },
  {
   "cell_type": "code",
   "execution_count": 2,
   "metadata": {
    "ExecuteTime": {
     "end_time": "2021-01-21T22:35:44.109143Z",
     "start_time": "2021-01-21T22:35:44.104919Z"
    }
   },
   "outputs": [],
   "source": [
    "import time\n",
    "start = time.time()"
   ]
  },
  {
   "cell_type": "code",
   "execution_count": 3,
   "metadata": {
    "ExecuteTime": {
     "end_time": "2021-01-21T22:35:44.141755Z",
     "start_time": "2021-01-21T22:35:44.114454Z"
    }
   },
   "outputs": [],
   "source": [
    "file += 'WhatsApp Chat with Naps 🐻🐼🐯.txt'"
   ]
  },
  {
   "cell_type": "code",
   "execution_count": 4,
   "metadata": {
    "ExecuteTime": {
     "end_time": "2021-01-21T22:35:44.283862Z",
     "start_time": "2021-01-21T22:35:44.152768Z"
    }
   },
   "outputs": [],
   "source": [
    "with open(file) as chat:\n",
    "    chat = chat.read()"
   ]
  },
  {
   "cell_type": "markdown",
   "metadata": {},
   "source": [
    "Explicación por renglón:\n",
    "\n",
    "1. Se importa el módulo de regular expressions\n",
    "\n",
    "2. Se guardará el patrón de texto en un objeto, el inicio se indica que es un raw string, las 3 comillas simples indican que será multilínea\n",
    "\n",
    "3. Para cada variable, (?P\\<grupo\\>patrón). Entonces la fecha:\n",
    "    \n",
    "    - [^,] separa el texto a partir del símbolo \",\"\n",
    "    \n",
    "    - \\+ significa que el caracter (o grupo) puede repetirse\n",
    "    \n",
    "    - (...) agrupa lo que esté dentro del paréntesis\n",
    "    \n",
    "    - Después de la fecha, hay una coma y por eso se indica después del grupo\n",
    "    \n",
    "    - \\s es un espacio en blanco (el + indica que pueda haber más de un espacio)\n",
    "    \n",
    "3. Separa lo que esté antes de \"-\" y lo agrupa en \"hora\"\n",
    "    \n",
    "4. Misma lógica para \"autor\"\n",
    "    \n",
    "5. Ahora, para el mensaje:\n",
    "    \n",
    "    - \\S es cualquier caracter excepto espacios en blanco, lo contrario a \\s, entonces\n",
    "    [\\s\\S]+ es TODO\n",
    "    \n",
    "    - ? da la pauta para no agrupar el resto del texto, véase punto siguiente\n",
    "    \n",
    "6. Finalmente, esta línea logra que el patrón se repita a lo largo del documento:\n",
    "    - ?= es un match condicional, si lo que sigue cumple con el patrón. Por ejemplo,\n",
    "    'Isaac (?=Asimov)' va a leer 'Isaac ' sólo si está seguido de 'Asimov'\n",
    "    \n",
    "    - para definir el formato de fecha según el doc: \\d es un dígito\n",
    "    \n",
    "    - {1,2} denota que el caracter puede repetirse de una a dos veces\n",
    "    \n",
    "    - \\/ es el símbolo literal con el que se separa día/mes/año\n",
    "    \n",
    "    - | se ocupa como \"or\" para que con...\n",
    "    \n",
    "    - \\Z se pueda tomar en cuenta el último grupo en el documento\n",
    "    \n",
    ".\n",
    "\n",
    "¿Por qué no se podía leer como un txt normal? Principalmente, por los mensajes multilínea: el método pd.read_csv() no puede saber dónde termina el mensaje, además es más complicado separar las columnas dado que existen múltiples delimitadores.\n",
    "\n",
    "En cambio, con regex podemos darle las instrucciones específicas para seguir el patrón correcto."
   ]
  },
  {
   "cell_type": "code",
   "execution_count": 5,
   "metadata": {
    "ExecuteTime": {
     "end_time": "2021-01-21T22:35:45.046856Z",
     "start_time": "2021-01-21T22:35:44.288529Z"
    }
   },
   "outputs": [
    {
     "data": {
      "text/html": [
       "<div>\n",
       "<style scoped>\n",
       "    .dataframe tbody tr th:only-of-type {\n",
       "        vertical-align: middle;\n",
       "    }\n",
       "\n",
       "    .dataframe tbody tr th {\n",
       "        vertical-align: top;\n",
       "    }\n",
       "\n",
       "    .dataframe thead th {\n",
       "        text-align: right;\n",
       "    }\n",
       "</style>\n",
       "<table border=\"1\" class=\"dataframe\">\n",
       "  <thead>\n",
       "    <tr style=\"text-align: right;\">\n",
       "      <th></th>\n",
       "      <th>Fecha</th>\n",
       "      <th>Autor</th>\n",
       "      <th>Mensaje</th>\n",
       "    </tr>\n",
       "  </thead>\n",
       "  <tbody>\n",
       "    <tr>\n",
       "      <th>13993</th>\n",
       "      <td>2020-06-02 10:06:00</td>\n",
       "      <td>Iván Jardón</td>\n",
       "      <td>No we</td>\n",
       "    </tr>\n",
       "    <tr>\n",
       "      <th>25582</th>\n",
       "      <td>2020-07-28 11:54:00</td>\n",
       "      <td>Iván Jardón</td>\n",
       "      <td>Me hizo bussines cases ahí mismo</td>\n",
       "    </tr>\n",
       "    <tr>\n",
       "      <th>30596</th>\n",
       "      <td>2020-08-09 20:35:00</td>\n",
       "      <td>Kevin Bacon</td>\n",
       "      <td>Chingonsisimo</td>\n",
       "    </tr>\n",
       "    <tr>\n",
       "      <th>14069</th>\n",
       "      <td>2020-06-02 21:06:00</td>\n",
       "      <td>Kevin Bacon</td>\n",
       "      <td>Que será 🤔</td>\n",
       "    </tr>\n",
       "  </tbody>\n",
       "</table>\n",
       "</div>"
      ],
      "text/plain": [
       "                    Fecha        Autor                            Mensaje\n",
       "13993 2020-06-02 10:06:00  Iván Jardón                             No we \n",
       "25582 2020-07-28 11:54:00  Iván Jardón  Me hizo bussines cases ahí mismo \n",
       "30596 2020-08-09 20:35:00  Kevin Bacon                     Chingonsisimo \n",
       "14069 2020-06-02 21:06:00  Kevin Bacon                        Que será 🤔 "
      ]
     },
     "execution_count": 5,
     "metadata": {},
     "output_type": "execute_result"
    }
   ],
   "source": [
    "## Se genera el patrón de regular expressions\n",
    "import re\n",
    "pattern =  r'''\n",
    "            (?P<Fecha>[^-]+)\\s+-\\s+\n",
    "            (?P<Autor>[^:]+):\\s+\n",
    "            (?P<Mensaje>[\\s\\S]+?)\n",
    "            (?=(\\d{1,2}/\\d{1,2}/\\d{2})|\\Z)\n",
    "            '''     \n",
    "\n",
    "## Encuentra todos los grupos dado el patrón de texto creado\n",
    "matches = re.finditer(pattern, chat, re.MULTILINE | re.VERBOSE)\n",
    "\n",
    "## Creamos un diccionario en cada registro para hacerlo DataFrame \n",
    "df = pd.DataFrame([x.groupdict() for x in matches])\n",
    "\n",
    "## Obtenemos la fecha de cada registro\n",
    "df['Fecha'] = [''.join(re.findall('(\\d{1,2}\\/\\d{1,2}\\/\\d{2},\\s\\d{2}:\\d{2})',x)\n",
    "                      ) for x in df['Fecha']]\n",
    "## Y cambiamos al tipo correcto\n",
    "df['Fecha'] = pd.to_datetime(df['Fecha'], format = '%m/%d/%y, %H:%M')\n",
    "\n",
    "## Omitimos el \\n de cada mensaje\n",
    "df['Mensaje'] = df['Mensaje'].str.replace('\\n', ' ')\n",
    "df.sample(4)"
   ]
  },
  {
   "cell_type": "markdown",
   "metadata": {},
   "source": [
    "### Funciones"
   ]
  },
  {
   "cell_type": "code",
   "execution_count": 6,
   "metadata": {
    "ExecuteTime": {
     "end_time": "2021-01-21T22:35:45.060522Z",
     "start_time": "2021-01-21T22:35:45.049834Z"
    }
   },
   "outputs": [],
   "source": [
    "## Función para crear detalles de la fecha\n",
    "def split_fecha(df,fecha):\n",
    "    df[f'{fecha}_anio'] = pd.DatetimeIndex(df[fecha]).year\n",
    "    df[f'{fecha}_mes'] = pd.DatetimeIndex(df[fecha]).month\n",
    "    df[f'{fecha}_sem'] = df[fecha].dt.isocalendar().week\n",
    "    df[f'{fecha}_diasem'] = df[fecha].dt.dayofweek + 1\n",
    "    df[f'{fecha}_dia'] = df[fecha].dt.day\n",
    "    df[f'{fecha}_hora'] = df[fecha].dt.hour\n",
    "    df[f'{fecha}_minuto'] = df[fecha].dt.minute\n",
    "    df['hora_min'] = df[f'{fecha}_hora'] + df[f'{fecha}_minuto']/60\n",
    "    df[fecha] = df[fecha].dt.date"
   ]
  },
  {
   "cell_type": "code",
   "execution_count": 7,
   "metadata": {
    "ExecuteTime": {
     "end_time": "2021-01-21T22:35:45.077314Z",
     "start_time": "2021-01-21T22:35:45.065295Z"
    }
   },
   "outputs": [],
   "source": [
    "## Función para agrupar por día, con perc 25, 50 y 75 de la hora+minuto,\n",
    "# y unir los mensajes además de contarlos\n",
    "def group_fecha(df,grupo,hora_min,mensaje):\n",
    "    df = df.groupby(grupo).agg({hora_min:[lambda x: np.percentile(x,10),\n",
    "                                          lambda x: np.percentile(x,25),\n",
    "                                          lambda x: np.percentile(x,50),\n",
    "                                          lambda x: np.percentile(x,75),\n",
    "                                          lambda x: np.percentile(x,90)],\n",
    "                                mensaje:[sum,\n",
    "                                         'count']})\n",
    "    df.columns = [x + '_' + y for x, y in df.columns]\n",
    "    df.rename(columns = {'hora_min_<lambda_0>':'hr_min_10',\n",
    "                         'hora_min_<lambda_1>':'hr_min_25',\n",
    "                         'hora_min_<lambda_2>':'hr_min_50',\n",
    "                         'hora_min_<lambda_3>':'hr_min_75', \n",
    "                         'hora_min_<lambda_4>':'hr_min_90',\n",
    "                         'Mensaje_sum':'Mensaje'}, \n",
    "              inplace = True)\n",
    "    df.reset_index(inplace = True)\n",
    "    return df"
   ]
  },
  {
   "cell_type": "code",
   "execution_count": 8,
   "metadata": {
    "ExecuteTime": {
     "end_time": "2021-01-21T22:35:45.102047Z",
     "start_time": "2021-01-21T22:35:45.086176Z"
    }
   },
   "outputs": [],
   "source": [
    "## Función para limpiar columnas de texto (también quita stopwords)\n",
    "def clean_mensaje(df,mensaje):\n",
    "        import nltk\n",
    "        nltk.download('stopwords')\n",
    "        from nltk.corpus import stopwords\n",
    "        stop_words = stopwords.words('spanish')\n",
    "\n",
    "        def clean_text(text, pattern='[^a-zA-Z]'):\n",
    "            import re\n",
    "            import unicodedata\n",
    "            cleaned_text = unicodedata.normalize('NFD', text).encode('ascii', 'ignore')\n",
    "            cleaned_text = re.sub(pattern, ' ', cleaned_text.decode('utf-8'), flags=re.UNICODE)\n",
    "            cleaned_text = u' '.join(cleaned_text.lower().split())\n",
    "            return cleaned_text\n",
    "        \n",
    "        texto = []\n",
    "        for x in [n.split() for n in [clean_text(x) for x in df[mensaje]]]:\n",
    "            aux = []\n",
    "            for word in x:\n",
    "                if word != 'a':\n",
    "                    word = re.sub('^(j*a*)+(?=\\s)','jaja',word + ' ') # arregla cualquier versión de jajaj\n",
    "                    word = word.strip()\n",
    "                    if word not in stop_words + ['media','omitted','https','www','com']:\n",
    "                        aux.append(word)\n",
    "            texto.append(aux)\n",
    "        df[f'{mensaje}_limpio'] = [' '.join(x) for x in texto]"
   ]
  },
  {
   "cell_type": "code",
   "execution_count": 9,
   "metadata": {
    "ExecuteTime": {
     "end_time": "2021-01-21T22:35:45.120316Z",
     "start_time": "2021-01-21T22:35:45.109290Z"
    }
   },
   "outputs": [],
   "source": [
    "## Función para desplegar características del mensaje\n",
    "def caract_msj(df,mensaje):\n",
    "    df[f'{mensaje}_long'] = df[mensaje].str.len()\n",
    "    df[f'{mensaje}_n_words'] = df[mensaje].str.split().str.len()\n",
    "    df[f'{mensaje}_n_letters'] = df[mensaje].map(lambda x:sum(map(str.isalpha, x)))\n",
    "    df[f'{mensaje}_n_whitespaces'] = df[mensaje].map(lambda x:len(re.findall('\\s', x)))\n",
    "    df[f'{mensaje}_n_media'] = df[mensaje].map(lambda x:len(re.findall('<Media omitted>', x)))\n",
    "    df[f'{mensaje}_url'] = (df[mensaje].str.contains('http'))*1\n",
    "\n",
    "    import emoji\n",
    "    df[f'{mensaje}_n_emojis'] = df[mensaje].map(emoji.emoji_count)"
   ]
  },
  {
   "cell_type": "code",
   "execution_count": 10,
   "metadata": {
    "ExecuteTime": {
     "end_time": "2021-01-21T22:35:52.811037Z",
     "start_time": "2021-01-21T22:35:45.126777Z"
    },
    "scrolled": true
   },
   "outputs": [
    {
     "name": "stderr",
     "output_type": "stream",
     "text": [
      "[nltk_data] Downloading package stopwords to /home/ef/nltk_data...\n",
      "[nltk_data]   Package stopwords is already up-to-date!\n"
     ]
    }
   ],
   "source": [
    "## Se aplican todas las funciones\n",
    "split_fecha(df,'Fecha')\n",
    "grupo = ['Fecha','Autor','Fecha_anio','Fecha_mes','Fecha_sem','Fecha_diasem','Fecha_dia']\n",
    "df = group_fecha(df,grupo,'hora_min','Mensaje')\n",
    "clean_mensaje(df,'Mensaje')\n",
    "caract_msj(df,'Mensaje')"
   ]
  },
  {
   "cell_type": "code",
   "execution_count": 11,
   "metadata": {
    "ExecuteTime": {
     "end_time": "2021-01-21T22:35:52.935703Z",
     "start_time": "2021-01-21T22:35:52.822810Z"
    }
   },
   "outputs": [],
   "source": [
    "## Se guardan los tipos de variables\n",
    "autores = sorted(np.unique(df['Autor']))\n",
    "autores = dict(zip(autores,range(1,len(autores)+1)))\n",
    "cat = [x for x in df.columns if x.startswith('Fecha_')]\n",
    "num = [x for x in df.describe().columns if x not in cat]"
   ]
  },
  {
   "cell_type": "markdown",
   "metadata": {},
   "source": [
    "## Modelaje"
   ]
  },
  {
   "cell_type": "markdown",
   "metadata": {},
   "source": [
    "### Outliers"
   ]
  },
  {
   "cell_type": "code",
   "execution_count": 13,
   "metadata": {
    "ExecuteTime": {
     "end_time": "2021-01-21T22:37:25.684460Z",
     "start_time": "2021-01-21T22:37:25.127578Z"
    }
   },
   "outputs": [
    {
     "data": {
      "text/html": [
       "<div>\n",
       "<style scoped>\n",
       "    .dataframe tbody tr th:only-of-type {\n",
       "        vertical-align: middle;\n",
       "    }\n",
       "\n",
       "    .dataframe tbody tr th {\n",
       "        vertical-align: top;\n",
       "    }\n",
       "\n",
       "    .dataframe thead th {\n",
       "        text-align: right;\n",
       "    }\n",
       "</style>\n",
       "<table border=\"1\" class=\"dataframe\">\n",
       "  <thead>\n",
       "    <tr style=\"text-align: right;\">\n",
       "      <th></th>\n",
       "      <th>hr_min_10</th>\n",
       "      <th>hr_min_25</th>\n",
       "      <th>hr_min_50</th>\n",
       "      <th>hr_min_75</th>\n",
       "      <th>hr_min_90</th>\n",
       "      <th>Mensaje_count</th>\n",
       "      <th>Mensaje_long</th>\n",
       "      <th>Mensaje_n_words</th>\n",
       "      <th>Mensaje_n_letters</th>\n",
       "      <th>Mensaje_n_whitespaces</th>\n",
       "      <th>Mensaje_n_media</th>\n",
       "      <th>Mensaje_url</th>\n",
       "      <th>Mensaje_n_emojis</th>\n",
       "    </tr>\n",
       "  </thead>\n",
       "  <tbody>\n",
       "    <tr>\n",
       "      <th>count</th>\n",
       "      <td>1027.00</td>\n",
       "      <td>1027.00</td>\n",
       "      <td>1027.00</td>\n",
       "      <td>1027.00</td>\n",
       "      <td>1027.00</td>\n",
       "      <td>1027.00</td>\n",
       "      <td>1027.00</td>\n",
       "      <td>1027.00</td>\n",
       "      <td>1027.00</td>\n",
       "      <td>1027.00</td>\n",
       "      <td>1027.00</td>\n",
       "      <td>1027.00</td>\n",
       "      <td>1027.00</td>\n",
       "    </tr>\n",
       "    <tr>\n",
       "      <th>mean</th>\n",
       "      <td>11.21</td>\n",
       "      <td>12.80</td>\n",
       "      <td>15.03</td>\n",
       "      <td>17.13</td>\n",
       "      <td>18.66</td>\n",
       "      <td>51.19</td>\n",
       "      <td>1154.35</td>\n",
       "      <td>205.62</td>\n",
       "      <td>903.71</td>\n",
       "      <td>205.78</td>\n",
       "      <td>6.04</td>\n",
       "      <td>0.22</td>\n",
       "      <td>3.51</td>\n",
       "    </tr>\n",
       "    <tr>\n",
       "      <th>std</th>\n",
       "      <td>3.02</td>\n",
       "      <td>3.31</td>\n",
       "      <td>3.54</td>\n",
       "      <td>3.49</td>\n",
       "      <td>3.29</td>\n",
       "      <td>48.58</td>\n",
       "      <td>1139.40</td>\n",
       "      <td>206.63</td>\n",
       "      <td>895.12</td>\n",
       "      <td>206.84</td>\n",
       "      <td>5.17</td>\n",
       "      <td>0.41</td>\n",
       "      <td>5.33</td>\n",
       "    </tr>\n",
       "    <tr>\n",
       "      <th>min</th>\n",
       "      <td>0.03</td>\n",
       "      <td>0.25</td>\n",
       "      <td>0.38</td>\n",
       "      <td>0.73</td>\n",
       "      <td>8.37</td>\n",
       "      <td>1.00</td>\n",
       "      <td>7.00</td>\n",
       "      <td>1.00</td>\n",
       "      <td>6.00</td>\n",
       "      <td>1.00</td>\n",
       "      <td>0.00</td>\n",
       "      <td>0.00</td>\n",
       "      <td>0.00</td>\n",
       "    </tr>\n",
       "    <tr>\n",
       "      <th>1%</th>\n",
       "      <td>0.34</td>\n",
       "      <td>0.84</td>\n",
       "      <td>8.08</td>\n",
       "      <td>8.93</td>\n",
       "      <td>9.34</td>\n",
       "      <td>1.00</td>\n",
       "      <td>16.00</td>\n",
       "      <td>2.00</td>\n",
       "      <td>12.00</td>\n",
       "      <td>2.00</td>\n",
       "      <td>0.00</td>\n",
       "      <td>0.00</td>\n",
       "      <td>0.00</td>\n",
       "    </tr>\n",
       "    <tr>\n",
       "      <th>10%</th>\n",
       "      <td>8.52</td>\n",
       "      <td>9.46</td>\n",
       "      <td>10.59</td>\n",
       "      <td>12.33</td>\n",
       "      <td>14.13</td>\n",
       "      <td>6.60</td>\n",
       "      <td>123.80</td>\n",
       "      <td>19.60</td>\n",
       "      <td>94.00</td>\n",
       "      <td>19.60</td>\n",
       "      <td>1.00</td>\n",
       "      <td>0.00</td>\n",
       "      <td>0.00</td>\n",
       "    </tr>\n",
       "    <tr>\n",
       "      <th>50%</th>\n",
       "      <td>10.81</td>\n",
       "      <td>12.32</td>\n",
       "      <td>15.02</td>\n",
       "      <td>17.41</td>\n",
       "      <td>19.28</td>\n",
       "      <td>37.00</td>\n",
       "      <td>823.00</td>\n",
       "      <td>142.00</td>\n",
       "      <td>645.00</td>\n",
       "      <td>142.00</td>\n",
       "      <td>5.00</td>\n",
       "      <td>0.00</td>\n",
       "      <td>2.00</td>\n",
       "    </tr>\n",
       "    <tr>\n",
       "      <th>90%</th>\n",
       "      <td>15.31</td>\n",
       "      <td>17.41</td>\n",
       "      <td>19.65</td>\n",
       "      <td>21.63</td>\n",
       "      <td>22.25</td>\n",
       "      <td>117.00</td>\n",
       "      <td>2607.20</td>\n",
       "      <td>469.80</td>\n",
       "      <td>2044.80</td>\n",
       "      <td>472.60</td>\n",
       "      <td>13.00</td>\n",
       "      <td>1.00</td>\n",
       "      <td>10.00</td>\n",
       "    </tr>\n",
       "    <tr>\n",
       "      <th>99%</th>\n",
       "      <td>19.72</td>\n",
       "      <td>20.78</td>\n",
       "      <td>22.30</td>\n",
       "      <td>23.15</td>\n",
       "      <td>23.65</td>\n",
       "      <td>220.92</td>\n",
       "      <td>5190.32</td>\n",
       "      <td>934.44</td>\n",
       "      <td>4074.86</td>\n",
       "      <td>935.18</td>\n",
       "      <td>24.74</td>\n",
       "      <td>1.00</td>\n",
       "      <td>24.00</td>\n",
       "    </tr>\n",
       "    <tr>\n",
       "      <th>max</th>\n",
       "      <td>22.83</td>\n",
       "      <td>22.98</td>\n",
       "      <td>23.17</td>\n",
       "      <td>23.95</td>\n",
       "      <td>23.97</td>\n",
       "      <td>402.00</td>\n",
       "      <td>8503.00</td>\n",
       "      <td>1558.00</td>\n",
       "      <td>6696.00</td>\n",
       "      <td>1558.00</td>\n",
       "      <td>38.00</td>\n",
       "      <td>1.00</td>\n",
       "      <td>58.00</td>\n",
       "    </tr>\n",
       "  </tbody>\n",
       "</table>\n",
       "</div>"
      ],
      "text/plain": [
       "       hr_min_10  hr_min_25  hr_min_50  hr_min_75  hr_min_90  Mensaje_count  \\\n",
       "count    1027.00    1027.00    1027.00    1027.00    1027.00        1027.00   \n",
       "mean       11.21      12.80      15.03      17.13      18.66          51.19   \n",
       "std         3.02       3.31       3.54       3.49       3.29          48.58   \n",
       "min         0.03       0.25       0.38       0.73       8.37           1.00   \n",
       "1%          0.34       0.84       8.08       8.93       9.34           1.00   \n",
       "10%         8.52       9.46      10.59      12.33      14.13           6.60   \n",
       "50%        10.81      12.32      15.02      17.41      19.28          37.00   \n",
       "90%        15.31      17.41      19.65      21.63      22.25         117.00   \n",
       "99%        19.72      20.78      22.30      23.15      23.65         220.92   \n",
       "max        22.83      22.98      23.17      23.95      23.97         402.00   \n",
       "\n",
       "       Mensaje_long  Mensaje_n_words  Mensaje_n_letters  \\\n",
       "count       1027.00          1027.00            1027.00   \n",
       "mean        1154.35           205.62             903.71   \n",
       "std         1139.40           206.63             895.12   \n",
       "min            7.00             1.00               6.00   \n",
       "1%            16.00             2.00              12.00   \n",
       "10%          123.80            19.60              94.00   \n",
       "50%          823.00           142.00             645.00   \n",
       "90%         2607.20           469.80            2044.80   \n",
       "99%         5190.32           934.44            4074.86   \n",
       "max         8503.00          1558.00            6696.00   \n",
       "\n",
       "       Mensaje_n_whitespaces  Mensaje_n_media  Mensaje_url  Mensaje_n_emojis  \n",
       "count                1027.00          1027.00      1027.00           1027.00  \n",
       "mean                  205.78             6.04         0.22              3.51  \n",
       "std                   206.84             5.17         0.41              5.33  \n",
       "min                     1.00             0.00         0.00              0.00  \n",
       "1%                      2.00             0.00         0.00              0.00  \n",
       "10%                    19.60             1.00         0.00              0.00  \n",
       "50%                   142.00             5.00         0.00              2.00  \n",
       "90%                   472.60            13.00         1.00             10.00  \n",
       "99%                   935.18            24.74         1.00             24.00  \n",
       "max                  1558.00            38.00         1.00             58.00  "
      ]
     },
     "metadata": {},
     "output_type": "display_data"
    },
    {
     "data": {
      "text/plain": [
       "'98.25%'"
      ]
     },
     "metadata": {},
     "output_type": "display_data"
    },
    {
     "data": {
      "text/html": [
       "<div>\n",
       "<style scoped>\n",
       "    .dataframe tbody tr th:only-of-type {\n",
       "        vertical-align: middle;\n",
       "    }\n",
       "\n",
       "    .dataframe tbody tr th {\n",
       "        vertical-align: top;\n",
       "    }\n",
       "\n",
       "    .dataframe thead th {\n",
       "        text-align: right;\n",
       "    }\n",
       "</style>\n",
       "<table border=\"1\" class=\"dataframe\">\n",
       "  <thead>\n",
       "    <tr style=\"text-align: right;\">\n",
       "      <th></th>\n",
       "      <th>hr_min_10</th>\n",
       "      <th>hr_min_25</th>\n",
       "      <th>hr_min_50</th>\n",
       "      <th>hr_min_75</th>\n",
       "      <th>hr_min_90</th>\n",
       "      <th>Mensaje_count</th>\n",
       "      <th>Mensaje_long</th>\n",
       "      <th>Mensaje_n_words</th>\n",
       "      <th>Mensaje_n_letters</th>\n",
       "      <th>Mensaje_n_whitespaces</th>\n",
       "      <th>Mensaje_n_media</th>\n",
       "      <th>Mensaje_url</th>\n",
       "      <th>Mensaje_n_emojis</th>\n",
       "    </tr>\n",
       "  </thead>\n",
       "  <tbody>\n",
       "    <tr>\n",
       "      <th>count</th>\n",
       "      <td>1009.00</td>\n",
       "      <td>1009.00</td>\n",
       "      <td>1009.00</td>\n",
       "      <td>1009.00</td>\n",
       "      <td>1009.00</td>\n",
       "      <td>1009.00</td>\n",
       "      <td>1009.00</td>\n",
       "      <td>1009.00</td>\n",
       "      <td>1009.00</td>\n",
       "      <td>1009.00</td>\n",
       "      <td>1009.00</td>\n",
       "      <td>1009.00</td>\n",
       "      <td>1009.00</td>\n",
       "    </tr>\n",
       "    <tr>\n",
       "      <th>mean</th>\n",
       "      <td>11.21</td>\n",
       "      <td>12.80</td>\n",
       "      <td>15.03</td>\n",
       "      <td>17.11</td>\n",
       "      <td>18.63</td>\n",
       "      <td>48.67</td>\n",
       "      <td>1096.93</td>\n",
       "      <td>195.31</td>\n",
       "      <td>858.82</td>\n",
       "      <td>195.46</td>\n",
       "      <td>5.82</td>\n",
       "      <td>0.21</td>\n",
       "      <td>3.11</td>\n",
       "    </tr>\n",
       "    <tr>\n",
       "      <th>std</th>\n",
       "      <td>3.03</td>\n",
       "      <td>3.32</td>\n",
       "      <td>3.56</td>\n",
       "      <td>3.52</td>\n",
       "      <td>3.31</td>\n",
       "      <td>43.61</td>\n",
       "      <td>1036.37</td>\n",
       "      <td>187.92</td>\n",
       "      <td>814.66</td>\n",
       "      <td>188.16</td>\n",
       "      <td>4.76</td>\n",
       "      <td>0.41</td>\n",
       "      <td>4.10</td>\n",
       "    </tr>\n",
       "    <tr>\n",
       "      <th>min</th>\n",
       "      <td>0.03</td>\n",
       "      <td>0.25</td>\n",
       "      <td>0.38</td>\n",
       "      <td>0.73</td>\n",
       "      <td>8.37</td>\n",
       "      <td>1.00</td>\n",
       "      <td>7.00</td>\n",
       "      <td>1.00</td>\n",
       "      <td>6.00</td>\n",
       "      <td>1.00</td>\n",
       "      <td>0.00</td>\n",
       "      <td>0.00</td>\n",
       "      <td>0.00</td>\n",
       "    </tr>\n",
       "    <tr>\n",
       "      <th>1%</th>\n",
       "      <td>0.33</td>\n",
       "      <td>0.68</td>\n",
       "      <td>8.07</td>\n",
       "      <td>8.86</td>\n",
       "      <td>9.33</td>\n",
       "      <td>1.00</td>\n",
       "      <td>16.00</td>\n",
       "      <td>2.00</td>\n",
       "      <td>12.00</td>\n",
       "      <td>2.00</td>\n",
       "      <td>0.00</td>\n",
       "      <td>0.00</td>\n",
       "      <td>0.00</td>\n",
       "    </tr>\n",
       "    <tr>\n",
       "      <th>10%</th>\n",
       "      <td>8.50</td>\n",
       "      <td>9.46</td>\n",
       "      <td>10.48</td>\n",
       "      <td>12.33</td>\n",
       "      <td>14.09</td>\n",
       "      <td>6.00</td>\n",
       "      <td>121.00</td>\n",
       "      <td>19.00</td>\n",
       "      <td>93.00</td>\n",
       "      <td>19.00</td>\n",
       "      <td>1.00</td>\n",
       "      <td>0.00</td>\n",
       "      <td>0.00</td>\n",
       "    </tr>\n",
       "    <tr>\n",
       "      <th>50%</th>\n",
       "      <td>10.79</td>\n",
       "      <td>12.32</td>\n",
       "      <td>15.02</td>\n",
       "      <td>17.38</td>\n",
       "      <td>19.25</td>\n",
       "      <td>37.00</td>\n",
       "      <td>800.00</td>\n",
       "      <td>139.00</td>\n",
       "      <td>624.00</td>\n",
       "      <td>141.00</td>\n",
       "      <td>5.00</td>\n",
       "      <td>0.00</td>\n",
       "      <td>2.00</td>\n",
       "    </tr>\n",
       "    <tr>\n",
       "      <th>90%</th>\n",
       "      <td>15.34</td>\n",
       "      <td>17.41</td>\n",
       "      <td>19.66</td>\n",
       "      <td>21.64</td>\n",
       "      <td>22.27</td>\n",
       "      <td>111.20</td>\n",
       "      <td>2501.00</td>\n",
       "      <td>452.20</td>\n",
       "      <td>1954.60</td>\n",
       "      <td>453.20</td>\n",
       "      <td>12.00</td>\n",
       "      <td>1.00</td>\n",
       "      <td>9.00</td>\n",
       "    </tr>\n",
       "    <tr>\n",
       "      <th>99%</th>\n",
       "      <td>19.80</td>\n",
       "      <td>20.78</td>\n",
       "      <td>22.30</td>\n",
       "      <td>23.16</td>\n",
       "      <td>23.66</td>\n",
       "      <td>188.84</td>\n",
       "      <td>4687.28</td>\n",
       "      <td>842.92</td>\n",
       "      <td>3740.64</td>\n",
       "      <td>842.92</td>\n",
       "      <td>21.00</td>\n",
       "      <td>1.00</td>\n",
       "      <td>18.00</td>\n",
       "    </tr>\n",
       "    <tr>\n",
       "      <th>max</th>\n",
       "      <td>22.83</td>\n",
       "      <td>22.98</td>\n",
       "      <td>23.17</td>\n",
       "      <td>23.95</td>\n",
       "      <td>23.97</td>\n",
       "      <td>275.00</td>\n",
       "      <td>5744.00</td>\n",
       "      <td>1054.00</td>\n",
       "      <td>4547.00</td>\n",
       "      <td>1054.00</td>\n",
       "      <td>26.00</td>\n",
       "      <td>1.00</td>\n",
       "      <td>22.00</td>\n",
       "    </tr>\n",
       "  </tbody>\n",
       "</table>\n",
       "</div>"
      ],
      "text/plain": [
       "       hr_min_10  hr_min_25  hr_min_50  hr_min_75  hr_min_90  Mensaje_count  \\\n",
       "count    1009.00    1009.00    1009.00    1009.00    1009.00        1009.00   \n",
       "mean       11.21      12.80      15.03      17.11      18.63          48.67   \n",
       "std         3.03       3.32       3.56       3.52       3.31          43.61   \n",
       "min         0.03       0.25       0.38       0.73       8.37           1.00   \n",
       "1%          0.33       0.68       8.07       8.86       9.33           1.00   \n",
       "10%         8.50       9.46      10.48      12.33      14.09           6.00   \n",
       "50%        10.79      12.32      15.02      17.38      19.25          37.00   \n",
       "90%        15.34      17.41      19.66      21.64      22.27         111.20   \n",
       "99%        19.80      20.78      22.30      23.16      23.66         188.84   \n",
       "max        22.83      22.98      23.17      23.95      23.97         275.00   \n",
       "\n",
       "       Mensaje_long  Mensaje_n_words  Mensaje_n_letters  \\\n",
       "count       1009.00          1009.00            1009.00   \n",
       "mean        1096.93           195.31             858.82   \n",
       "std         1036.37           187.92             814.66   \n",
       "min            7.00             1.00               6.00   \n",
       "1%            16.00             2.00              12.00   \n",
       "10%          121.00            19.00              93.00   \n",
       "50%          800.00           139.00             624.00   \n",
       "90%         2501.00           452.20            1954.60   \n",
       "99%         4687.28           842.92            3740.64   \n",
       "max         5744.00          1054.00            4547.00   \n",
       "\n",
       "       Mensaje_n_whitespaces  Mensaje_n_media  Mensaje_url  Mensaje_n_emojis  \n",
       "count                1009.00          1009.00      1009.00           1009.00  \n",
       "mean                  195.46             5.82         0.21              3.11  \n",
       "std                   188.16             4.76         0.41              4.10  \n",
       "min                     1.00             0.00         0.00              0.00  \n",
       "1%                      2.00             0.00         0.00              0.00  \n",
       "10%                    19.00             1.00         0.00              0.00  \n",
       "50%                   141.00             5.00         0.00              2.00  \n",
       "90%                   453.20            12.00         1.00              9.00  \n",
       "99%                   842.92            21.00         1.00             18.00  \n",
       "max                  1054.00            26.00         1.00             22.00  "
      ]
     },
     "execution_count": 13,
     "metadata": {},
     "output_type": "execute_result"
    }
   ],
   "source": [
    "display(df[num].describe([.01,.1,.9,.99]))\n",
    "dim_antes = len(df)\n",
    "\n",
    "import whatsapp as wa # módulo personalizado, en validación se detalla\n",
    "for col in num:\n",
    "    df = wa.outlier(df,col)\n",
    "    \n",
    "display('{:.2%}'.format(len(df) / dim_antes))  \n",
    "df[num].describe([.01,.1,.9,.99])"
   ]
  },
  {
   "cell_type": "markdown",
   "metadata": {},
   "source": [
    "### Objetivo"
   ]
  },
  {
   "cell_type": "markdown",
   "metadata": {
    "ExecuteTime": {
     "end_time": "2020-11-28T02:59:15.649915Z",
     "start_time": "2020-11-28T02:59:15.624087Z"
    }
   },
   "source": [
    "Quién es el autor?"
   ]
  },
  {
   "cell_type": "code",
   "execution_count": 14,
   "metadata": {
    "ExecuteTime": {
     "end_time": "2021-01-21T22:37:41.270595Z",
     "start_time": "2021-01-21T22:37:41.220729Z"
    },
    "scrolled": true
   },
   "outputs": [
    {
     "data": {
      "text/html": [
       "<div>\n",
       "<style scoped>\n",
       "    .dataframe tbody tr th:only-of-type {\n",
       "        vertical-align: middle;\n",
       "    }\n",
       "\n",
       "    .dataframe tbody tr th {\n",
       "        vertical-align: top;\n",
       "    }\n",
       "\n",
       "    .dataframe thead th {\n",
       "        text-align: right;\n",
       "    }\n",
       "</style>\n",
       "<table border=\"1\" class=\"dataframe\">\n",
       "  <thead>\n",
       "    <tr style=\"text-align: right;\">\n",
       "      <th></th>\n",
       "      <th>Autor</th>\n",
       "      <th>OBJETIVO</th>\n",
       "    </tr>\n",
       "  </thead>\n",
       "  <tbody>\n",
       "    <tr>\n",
       "      <th>2</th>\n",
       "      <td>EF</td>\n",
       "      <td>1</td>\n",
       "    </tr>\n",
       "    <tr>\n",
       "      <th>0</th>\n",
       "      <td>Iván Jardón</td>\n",
       "      <td>2</td>\n",
       "    </tr>\n",
       "    <tr>\n",
       "      <th>1</th>\n",
       "      <td>Kevin Bacon</td>\n",
       "      <td>3</td>\n",
       "    </tr>\n",
       "  </tbody>\n",
       "</table>\n",
       "</div>"
      ],
      "text/plain": [
       "         Autor  OBJETIVO\n",
       "2           EF         1\n",
       "0  Iván Jardón         2\n",
       "1  Kevin Bacon         3"
      ]
     },
     "execution_count": 14,
     "metadata": {},
     "output_type": "execute_result"
    }
   ],
   "source": [
    "## Se reemplazan los autores (ordenados alfabéticamente) por números\n",
    "df['OBJETIVO'] = df['Autor'].replace(autores)\n",
    "\n",
    "df[['Autor','OBJETIVO']].value_counts().reset_index().sort_values(by = 'OBJETIVO').iloc[:,:2]"
   ]
  },
  {
   "cell_type": "code",
   "execution_count": 15,
   "metadata": {
    "ExecuteTime": {
     "end_time": "2021-01-21T22:37:41.528731Z",
     "start_time": "2021-01-21T22:37:41.280246Z"
    }
   },
   "outputs": [],
   "source": [
    "X = df[['Mensaje_limpio'] + cat + num]\n",
    "y = df['OBJETIVO']"
   ]
  },
  {
   "cell_type": "code",
   "execution_count": 16,
   "metadata": {
    "ExecuteTime": {
     "end_time": "2021-01-21T22:37:41.583460Z",
     "start_time": "2021-01-21T22:37:41.540739Z"
    }
   },
   "outputs": [],
   "source": [
    "from sklearn.model_selection import train_test_split\n",
    "X_train, X_test, y_train, y_test = train_test_split(X, y,\n",
    "                                                    train_size = 0.77, \n",
    "                                                    random_state = 22)"
   ]
  },
  {
   "cell_type": "markdown",
   "metadata": {},
   "source": [
    "### Preprocesamiento"
   ]
  },
  {
   "cell_type": "code",
   "execution_count": 17,
   "metadata": {
    "ExecuteTime": {
     "end_time": "2021-01-21T22:37:41.636972Z",
     "start_time": "2021-01-21T22:37:41.595080Z"
    }
   },
   "outputs": [],
   "source": [
    "## Dummies para categóricas\n",
    "from sklearn.preprocessing import OneHotEncoder\n",
    "ohe = OneHotEncoder(sparse = False, handle_unknown = 'ignore')\n",
    "\n",
    "## Escala para numéricas\n",
    "from sklearn.preprocessing import MinMaxScaler\n",
    "mm_x = MinMaxScaler()\n",
    "\n",
    "## Frecuencia de palabras para texto\n",
    "from sklearn.feature_extraction.text import TfidfVectorizer\n",
    "cv = TfidfVectorizer(ngram_range = (1, 1), \n",
    "                     min_df = 10, \n",
    "                     max_features = 100)\n",
    "\n",
    "## Se aplica transformación para cada tipo de columnas\n",
    "from sklearn.compose import ColumnTransformer\n",
    "prep = ColumnTransformer(transformers=[('OHE', ohe, cat),\n",
    "                                       ('Scale', mm_x, num), \n",
    "                                       ('CountV', cv, 'Mensaje_limpio')])"
   ]
  },
  {
   "cell_type": "code",
   "execution_count": 18,
   "metadata": {
    "ExecuteTime": {
     "end_time": "2021-01-21T22:37:42.536964Z",
     "start_time": "2021-01-21T22:37:41.643751Z"
    }
   },
   "outputs": [
    {
     "data": {
      "text/html": [
       "<div>\n",
       "<style scoped>\n",
       "    .dataframe tbody tr th:only-of-type {\n",
       "        vertical-align: middle;\n",
       "    }\n",
       "\n",
       "    .dataframe tbody tr th {\n",
       "        vertical-align: top;\n",
       "    }\n",
       "\n",
       "    .dataframe thead th {\n",
       "        text-align: right;\n",
       "    }\n",
       "</style>\n",
       "<table border=\"1\" class=\"dataframe\">\n",
       "  <thead>\n",
       "    <tr style=\"text-align: right;\">\n",
       "      <th></th>\n",
       "      <th>EF</th>\n",
       "      <th>Iván Jardón</th>\n",
       "      <th>Kevin Bacon</th>\n",
       "    </tr>\n",
       "  </thead>\n",
       "  <tbody>\n",
       "    <tr>\n",
       "      <th>0</th>\n",
       "      <td>jaja</td>\n",
       "      <td>jaja</td>\n",
       "      <td>jaja</td>\n",
       "    </tr>\n",
       "    <tr>\n",
       "      <th>1</th>\n",
       "      <td>si</td>\n",
       "      <td>si</td>\n",
       "      <td>si</td>\n",
       "    </tr>\n",
       "    <tr>\n",
       "      <th>2</th>\n",
       "      <td>ah</td>\n",
       "      <td>we</td>\n",
       "      <td>jardon</td>\n",
       "    </tr>\n",
       "    <tr>\n",
       "      <th>3</th>\n",
       "      <td>pa</td>\n",
       "      <td>wey</td>\n",
       "      <td>mas</td>\n",
       "    </tr>\n",
       "    <tr>\n",
       "      <th>4</th>\n",
       "      <td>abuebo</td>\n",
       "      <td>mas</td>\n",
       "      <td>brob</td>\n",
       "    </tr>\n",
       "    <tr>\n",
       "      <th>5</th>\n",
       "      <td>amigo</td>\n",
       "      <td>voy</td>\n",
       "      <td>ah</td>\n",
       "    </tr>\n",
       "    <tr>\n",
       "      <th>6</th>\n",
       "      <td>mas</td>\n",
       "      <td>bien</td>\n",
       "      <td>bien</td>\n",
       "    </tr>\n",
       "    <tr>\n",
       "      <th>7</th>\n",
       "      <td>brob</td>\n",
       "      <td>asi</td>\n",
       "      <td>we</td>\n",
       "    </tr>\n",
       "    <tr>\n",
       "      <th>8</th>\n",
       "      <td>we</td>\n",
       "      <td>kevin</td>\n",
       "      <td>bueno</td>\n",
       "    </tr>\n",
       "    <tr>\n",
       "      <th>9</th>\n",
       "      <td>bien</td>\n",
       "      <td>verga</td>\n",
       "      <td>bro</td>\n",
       "    </tr>\n",
       "    <tr>\n",
       "      <th>10</th>\n",
       "      <td>jalo</td>\n",
       "      <td>ah</td>\n",
       "      <td>amigo</td>\n",
       "    </tr>\n",
       "  </tbody>\n",
       "</table>\n",
       "</div>"
      ],
      "text/plain": [
       "        EF Iván Jardón Kevin Bacon\n",
       "0     jaja        jaja        jaja\n",
       "1       si          si          si\n",
       "2       ah          we      jardon\n",
       "3       pa         wey         mas\n",
       "4   abuebo         mas        brob\n",
       "5    amigo         voy          ah\n",
       "6      mas        bien        bien\n",
       "7     brob         asi          we\n",
       "8       we       kevin       bueno\n",
       "9     bien       verga         bro\n",
       "10    jalo          ah       amigo"
      ]
     },
     "execution_count": 18,
     "metadata": {},
     "output_type": "execute_result"
    }
   ],
   "source": [
    "## Top palabras por autor\n",
    "wa.words(df,cv)"
   ]
  },
  {
   "cell_type": "markdown",
   "metadata": {},
   "source": [
    "### Modelos"
   ]
  },
  {
   "cell_type": "code",
   "execution_count": 19,
   "metadata": {
    "ExecuteTime": {
     "end_time": "2021-01-21T22:37:42.556107Z",
     "start_time": "2021-01-21T22:37:42.547497Z"
    }
   },
   "outputs": [],
   "source": [
    "from sklearn.linear_model import LogisticRegression\n",
    "logreg = LogisticRegression()\n",
    "\n",
    "param_logreg = {'penalty':['l1', 'l2', 'elasticnet'], \n",
    "                'C':[x for x in range(1,11)], \n",
    "                'class_weight':['None','balanced'],\n",
    "                'solver':['newton-cg', 'lbfgs', 'liblinear', 'sag', 'saga']\n",
    "                }\n",
    "\n",
    "from sklearn.model_selection import GridSearchCV\n",
    "search_logreg = GridSearchCV(param_grid = param_logreg, \n",
    "                             cv = 4, \n",
    "                             n_jobs = -1, \n",
    "                             scoring = 'accuracy',\n",
    "                             estimator = logreg,\n",
    "                             verbose = 5)"
   ]
  },
  {
   "cell_type": "code",
   "execution_count": 20,
   "metadata": {
    "ExecuteTime": {
     "end_time": "2021-01-21T22:37:42.948200Z",
     "start_time": "2021-01-21T22:37:42.559664Z"
    }
   },
   "outputs": [],
   "source": [
    "from sklearn.ensemble import RandomForestClassifier \n",
    "forest = RandomForestClassifier()\n",
    "\n",
    "param_forest = {'n_estimators': [x for x in range(1400, 1500, 30)],\n",
    "                'max_features': ['auto', 'sqrt', 'log2'],\n",
    "                'criterion': ['gini', 'entropy'],\n",
    "                'class_weight': ['balanced', None],\n",
    "                'min_samples_split': [x for x in range(17, 22)],\n",
    "                'min_samples_leaf': [x/100 for x in range(1, 6)]\n",
    "               }\n",
    "\n",
    "from sklearn.model_selection import RandomizedSearchCV\n",
    "search_forest = RandomizedSearchCV(param_distributions = param_forest, \n",
    "                                   cv = 4, \n",
    "                                   n_jobs = -1, \n",
    "                                   scoring = 'accuracy',\n",
    "                                   estimator = forest,\n",
    "                                   verbose = 5,\n",
    "                                   n_iter = 10,\n",
    "                                   random_state = 22)"
   ]
  },
  {
   "cell_type": "code",
   "execution_count": 21,
   "metadata": {
    "ExecuteTime": {
     "end_time": "2021-01-21T22:37:42.977272Z",
     "start_time": "2021-01-21T22:37:42.961152Z"
    }
   },
   "outputs": [],
   "source": [
    "from sklearn.ensemble import AdaBoostClassifier\n",
    "ada = AdaBoostClassifier()\n",
    "\n",
    "param_ada={'n_estimators':[x for x in range(50,250,50)],\n",
    "           'learning_rate':[x/10 for x in range(1,11)]\n",
    "          }\n",
    "\n",
    "from sklearn.model_selection import RandomizedSearchCV\n",
    "search_ada = RandomizedSearchCV(param_distributions = param_ada, \n",
    "                                cv = 4, \n",
    "                                n_jobs = -1, \n",
    "                                scoring = 'accuracy', \n",
    "                                estimator = ada, \n",
    "                                verbose = 5,\n",
    "                                n_iter = 10,\n",
    "                                random_state = 22)"
   ]
  },
  {
   "cell_type": "code",
   "execution_count": 30,
   "metadata": {
    "ExecuteTime": {
     "end_time": "2021-01-21T22:46:59.923520Z",
     "start_time": "2021-01-21T22:46:59.903802Z"
    }
   },
   "outputs": [],
   "source": [
    "from xgboost.sklearn import XGBClassifier\n",
    "xgb = XGBClassifier()\n",
    "\n",
    "param_xgb = {'learning_rate':[x/100 for x in range(1,111)],\n",
    "             'n_estimators':[x for x in range(1,111)],\n",
    "             'max_depth':[x for x in range(1,11)], \n",
    "             'min_child_weight':[x for x in range(1,111)],\n",
    "             'objective':['count:poisson','multi:softmax'],\n",
    "             'subsample':[x/100 for x in range(50,111)], \n",
    "             'colsample_bytree':[x/100 for x in range(50,111)], \n",
    "            }\n",
    "\n",
    "from sklearn.model_selection import RandomizedSearchCV\n",
    "search_xgb = RandomizedSearchCV(param_distributions = param_xgb, \n",
    "                                cv = 4, \n",
    "                                n_jobs = -1, \n",
    "                                scoring = 'accuracy', \n",
    "                                estimator = xgb, \n",
    "                                verbose = 5,\n",
    "                                n_iter = 100,\n",
    "                                random_state = 22)"
   ]
  },
  {
   "cell_type": "markdown",
   "metadata": {},
   "source": [
    "### Voting"
   ]
  },
  {
   "cell_type": "code",
   "execution_count": 33,
   "metadata": {
    "ExecuteTime": {
     "end_time": "2021-01-21T22:51:30.502478Z",
     "start_time": "2021-01-21T22:51:30.483006Z"
    }
   },
   "outputs": [],
   "source": [
    "from sklearn.ensemble import VotingClassifier\n",
    "vc = VotingClassifier(estimators = [('LogReg', search_logreg), \n",
    "                                    ('Forest', search_forest), \n",
    "                                    ('ADA', search_ada), \n",
    "                                    ('XGB',search_xgb)], \n",
    "                      voting = 'soft')"
   ]
  },
  {
   "cell_type": "markdown",
   "metadata": {},
   "source": [
    "### Pipeline"
   ]
  },
  {
   "cell_type": "code",
   "execution_count": 34,
   "metadata": {
    "ExecuteTime": {
     "end_time": "2021-01-21T22:56:32.300328Z",
     "start_time": "2021-01-21T22:51:36.554476Z"
    }
   },
   "outputs": [
    {
     "name": "stdout",
     "output_type": "stream",
     "text": [
      "Fitting 4 folds for each of 300 candidates, totalling 1200 fits\n"
     ]
    },
    {
     "name": "stderr",
     "output_type": "stream",
     "text": [
      "[Parallel(n_jobs=-1)]: Using backend LokyBackend with 3 concurrent workers.\n",
      "[Parallel(n_jobs=-1)]: Done  26 tasks      | elapsed:    0.2s\n",
      "[Parallel(n_jobs=-1)]: Done 575 tasks      | elapsed:   18.7s\n",
      "[Parallel(n_jobs=-1)]: Done 1187 tasks      | elapsed:   46.0s\n",
      "[Parallel(n_jobs=-1)]: Done 1200 out of 1200 | elapsed:   46.4s finished\n",
      "/home/ef/Desktop/diplomadus/diplomadus/lib/python3.8/site-packages/sklearn/linear_model/_sag.py:329: ConvergenceWarning: The max_iter was reached which means the coef_ did not converge\n",
      "  warnings.warn(\"The max_iter was reached which means \"\n",
      "[Parallel(n_jobs=-1)]: Using backend LokyBackend with 3 concurrent workers.\n"
     ]
    },
    {
     "name": "stdout",
     "output_type": "stream",
     "text": [
      "Fitting 4 folds for each of 10 candidates, totalling 40 fits\n"
     ]
    },
    {
     "name": "stderr",
     "output_type": "stream",
     "text": [
      "[Parallel(n_jobs=-1)]: Done  12 tasks      | elapsed:   35.8s\n",
      "[Parallel(n_jobs=-1)]: Done  40 out of  40 | elapsed:  2.1min finished\n"
     ]
    },
    {
     "name": "stdout",
     "output_type": "stream",
     "text": [
      "Fitting 4 folds for each of 10 candidates, totalling 40 fits\n"
     ]
    },
    {
     "name": "stderr",
     "output_type": "stream",
     "text": [
      "[Parallel(n_jobs=-1)]: Using backend LokyBackend with 3 concurrent workers.\n",
      "[Parallel(n_jobs=-1)]: Done  12 tasks      | elapsed:    9.2s\n",
      "[Parallel(n_jobs=-1)]: Done  40 out of  40 | elapsed:   23.7s finished\n"
     ]
    },
    {
     "name": "stdout",
     "output_type": "stream",
     "text": [
      "Fitting 4 folds for each of 100 candidates, totalling 400 fits\n"
     ]
    },
    {
     "name": "stderr",
     "output_type": "stream",
     "text": [
      "[Parallel(n_jobs=-1)]: Using backend LokyBackend with 3 concurrent workers.\n",
      "[Parallel(n_jobs=-1)]: Done  12 tasks      | elapsed:    2.9s\n",
      "[Parallel(n_jobs=-1)]: Done  66 tasks      | elapsed:   11.5s\n",
      "[Parallel(n_jobs=-1)]: Done 156 tasks      | elapsed:   27.7s\n",
      "[Parallel(n_jobs=-1)]: Done 294 tasks      | elapsed:   55.5s\n",
      "[Parallel(n_jobs=-1)]: Done 400 out of 400 | elapsed:  1.4min finished\n"
     ]
    },
    {
     "data": {
      "text/plain": [
       "0.8068669527896996"
      ]
     },
     "execution_count": 34,
     "metadata": {},
     "output_type": "execute_result"
    }
   ],
   "source": [
    "from sklearn.pipeline import Pipeline\n",
    "modelo = Pipeline(steps=[('preproc', prep),\n",
    "                         ('modelo', vc)])\n",
    "\n",
    "modelo.fit(X_train,y_train).score(X_test,y_test)"
   ]
  },
  {
   "cell_type": "code",
   "execution_count": 37,
   "metadata": {
    "ExecuteTime": {
     "end_time": "2021-01-21T22:56:37.168242Z",
     "start_time": "2021-01-21T22:56:36.833819Z"
    }
   },
   "outputs": [
    {
     "data": {
      "text/html": [
       "<div>\n",
       "<style scoped>\n",
       "    .dataframe tbody tr th:only-of-type {\n",
       "        vertical-align: middle;\n",
       "    }\n",
       "\n",
       "    .dataframe tbody tr th {\n",
       "        vertical-align: top;\n",
       "    }\n",
       "\n",
       "    .dataframe thead th {\n",
       "        text-align: right;\n",
       "    }\n",
       "</style>\n",
       "<table border=\"1\" class=\"dataframe\">\n",
       "  <thead>\n",
       "    <tr style=\"text-align: right;\">\n",
       "      <th>Modelo</th>\n",
       "      <th>LogReg</th>\n",
       "      <th>Forest</th>\n",
       "      <th>ADA</th>\n",
       "      <th>XGB</th>\n",
       "    </tr>\n",
       "  </thead>\n",
       "  <tbody>\n",
       "    <tr>\n",
       "      <th>0</th>\n",
       "      <td>Fecha_dia</td>\n",
       "      <td>hr_min_90</td>\n",
       "      <td>hr_min_90</td>\n",
       "      <td>hr_min_75</td>\n",
       "    </tr>\n",
       "    <tr>\n",
       "      <th>1</th>\n",
       "      <td>Fecha_mes</td>\n",
       "      <td>Mensaje_n_words</td>\n",
       "      <td>hr_min_75</td>\n",
       "      <td>Mensaje_n_words</td>\n",
       "    </tr>\n",
       "    <tr>\n",
       "      <th>2</th>\n",
       "      <td>Fecha_anio</td>\n",
       "      <td>Fecha_sem</td>\n",
       "      <td>hr_min_50</td>\n",
       "      <td>hr_min_90</td>\n",
       "    </tr>\n",
       "    <tr>\n",
       "      <th>3</th>\n",
       "      <td>hr_min_75</td>\n",
       "      <td>Fecha_dia</td>\n",
       "      <td>hr_min_25</td>\n",
       "      <td>Fecha_sem</td>\n",
       "    </tr>\n",
       "    <tr>\n",
       "      <th>4</th>\n",
       "      <td>hr_min_50</td>\n",
       "      <td>Mensaje_long</td>\n",
       "      <td>hr_min_10</td>\n",
       "      <td>Fecha_diasem</td>\n",
       "    </tr>\n",
       "    <tr>\n",
       "      <th>5</th>\n",
       "      <td>hr_min_25</td>\n",
       "      <td>Fecha_diasem</td>\n",
       "      <td>Mensaje_url</td>\n",
       "      <td>Mensaje_count</td>\n",
       "    </tr>\n",
       "    <tr>\n",
       "      <th>6</th>\n",
       "      <td>hr_min_10</td>\n",
       "      <td>hr_min_25</td>\n",
       "      <td>Mensaje_n_words</td>\n",
       "      <td>Fecha_dia</td>\n",
       "    </tr>\n",
       "    <tr>\n",
       "      <th>7</th>\n",
       "      <td>Mensaje_url</td>\n",
       "      <td>hr_min_10</td>\n",
       "      <td>Mensaje_n_whitespaces</td>\n",
       "      <td>hr_min_25</td>\n",
       "    </tr>\n",
       "    <tr>\n",
       "      <th>8</th>\n",
       "      <td>Mensaje_n_words</td>\n",
       "      <td>Mensaje_count</td>\n",
       "      <td>Mensaje_n_media</td>\n",
       "      <td>Mensaje_long</td>\n",
       "    </tr>\n",
       "    <tr>\n",
       "      <th>9</th>\n",
       "      <td>Mensaje_n_whitespaces</td>\n",
       "      <td>hr_min_75</td>\n",
       "      <td>Mensaje_n_letters</td>\n",
       "      <td>hr_min_50</td>\n",
       "    </tr>\n",
       "    <tr>\n",
       "      <th>10</th>\n",
       "      <td>Mensaje_n_media</td>\n",
       "      <td>Mensaje_limpio</td>\n",
       "      <td>Mensaje_n_emojis</td>\n",
       "      <td>hr_min_10</td>\n",
       "    </tr>\n",
       "  </tbody>\n",
       "</table>\n",
       "</div>"
      ],
      "text/plain": [
       "Modelo                 LogReg           Forest                    ADA  \\\n",
       "0                   Fecha_dia        hr_min_90              hr_min_90   \n",
       "1                   Fecha_mes  Mensaje_n_words              hr_min_75   \n",
       "2                  Fecha_anio        Fecha_sem              hr_min_50   \n",
       "3                   hr_min_75        Fecha_dia              hr_min_25   \n",
       "4                   hr_min_50     Mensaje_long              hr_min_10   \n",
       "5                   hr_min_25     Fecha_diasem            Mensaje_url   \n",
       "6                   hr_min_10        hr_min_25        Mensaje_n_words   \n",
       "7                 Mensaje_url        hr_min_10  Mensaje_n_whitespaces   \n",
       "8             Mensaje_n_words    Mensaje_count        Mensaje_n_media   \n",
       "9       Mensaje_n_whitespaces        hr_min_75      Mensaje_n_letters   \n",
       "10            Mensaje_n_media   Mensaje_limpio       Mensaje_n_emojis   \n",
       "\n",
       "Modelo              XGB  \n",
       "0             hr_min_75  \n",
       "1       Mensaje_n_words  \n",
       "2             hr_min_90  \n",
       "3             Fecha_sem  \n",
       "4          Fecha_diasem  \n",
       "5         Mensaje_count  \n",
       "6             Fecha_dia  \n",
       "7             hr_min_25  \n",
       "8          Mensaje_long  \n",
       "9             hr_min_50  \n",
       "10            hr_min_10  "
      ]
     },
     "execution_count": 37,
     "metadata": {},
     "output_type": "execute_result"
    }
   ],
   "source": [
    "## Variables que más se usan para diferenciar al autor/a\n",
    "wa.top_variables(vc,X_train)"
   ]
  },
  {
   "cell_type": "code",
   "execution_count": 38,
   "metadata": {
    "ExecuteTime": {
     "end_time": "2021-01-21T22:56:51.949130Z",
     "start_time": "2021-01-21T22:56:50.883643Z"
    }
   },
   "outputs": [
    {
     "data": {
      "text/html": [
       "<div>\n",
       "<style scoped>\n",
       "    .dataframe tbody tr th:only-of-type {\n",
       "        vertical-align: middle;\n",
       "    }\n",
       "\n",
       "    .dataframe tbody tr th {\n",
       "        vertical-align: top;\n",
       "    }\n",
       "\n",
       "    .dataframe thead th {\n",
       "        text-align: right;\n",
       "    }\n",
       "</style>\n",
       "<table border=\"1\" class=\"dataframe\">\n",
       "  <thead>\n",
       "    <tr style=\"text-align: right;\">\n",
       "      <th></th>\n",
       "      <th>EF</th>\n",
       "      <th>Iván Jardón</th>\n",
       "      <th>Kevin Bacon</th>\n",
       "    </tr>\n",
       "  </thead>\n",
       "  <tbody>\n",
       "    <tr>\n",
       "      <th>EF</th>\n",
       "      <td>0.33</td>\n",
       "      <td>0.00</td>\n",
       "      <td>0.01</td>\n",
       "    </tr>\n",
       "    <tr>\n",
       "      <th>Iván Jardón</th>\n",
       "      <td>0.00</td>\n",
       "      <td>0.33</td>\n",
       "      <td>0.00</td>\n",
       "    </tr>\n",
       "    <tr>\n",
       "      <th>Kevin Bacon</th>\n",
       "      <td>0.00</td>\n",
       "      <td>0.00</td>\n",
       "      <td>0.33</td>\n",
       "    </tr>\n",
       "  </tbody>\n",
       "</table>\n",
       "</div>"
      ],
      "text/plain": [
       "              EF  Iván Jardón  Kevin Bacon\n",
       "EF          0.33         0.00         0.01\n",
       "Iván Jardón 0.00         0.33         0.00\n",
       "Kevin Bacon 0.00         0.00         0.33"
      ]
     },
     "metadata": {},
     "output_type": "display_data"
    },
    {
     "data": {
      "text/plain": [
       "'Accuracy de 99.10%'"
      ]
     },
     "execution_count": 38,
     "metadata": {},
     "output_type": "execute_result"
    }
   ],
   "source": [
    "## En el conjunto de train\n",
    "from sklearn.metrics import confusion_matrix\n",
    "cm = pd.DataFrame(confusion_matrix(y_true = y_train,\n",
    "                                   y_pred = modelo.predict(X_train))/len(y_train), \n",
    "                  index = [{y: x for x, y in autores.items()\n",
    "                           }[n] for n in list(sorted(np.unique(y_train)))], \n",
    "                  columns = [{y: x for x, y in autores.items()\n",
    "                             }[n] for n in list(sorted(np.unique(y_train)))])\n",
    "display(cm)\n",
    "\n",
    "## Con buena acertividad (suma de diagonal en la matriz de confusión)\n",
    "'Accuracy de {:.2%}'.format(np.asarray(cm).trace())"
   ]
  },
  {
   "cell_type": "code",
   "execution_count": 39,
   "metadata": {
    "ExecuteTime": {
     "end_time": "2021-01-21T22:56:52.370260Z",
     "start_time": "2021-01-21T22:56:51.952911Z"
    },
    "scrolled": true
   },
   "outputs": [
    {
     "data": {
      "text/html": [
       "<div>\n",
       "<style scoped>\n",
       "    .dataframe tbody tr th:only-of-type {\n",
       "        vertical-align: middle;\n",
       "    }\n",
       "\n",
       "    .dataframe tbody tr th {\n",
       "        vertical-align: top;\n",
       "    }\n",
       "\n",
       "    .dataframe thead th {\n",
       "        text-align: right;\n",
       "    }\n",
       "</style>\n",
       "<table border=\"1\" class=\"dataframe\">\n",
       "  <thead>\n",
       "    <tr style=\"text-align: right;\">\n",
       "      <th></th>\n",
       "      <th>EF</th>\n",
       "      <th>Iván Jardón</th>\n",
       "      <th>Kevin Bacon</th>\n",
       "    </tr>\n",
       "  </thead>\n",
       "  <tbody>\n",
       "    <tr>\n",
       "      <th>EF</th>\n",
       "      <td>0.28</td>\n",
       "      <td>0.02</td>\n",
       "      <td>0.03</td>\n",
       "    </tr>\n",
       "    <tr>\n",
       "      <th>Iván Jardón</th>\n",
       "      <td>0.03</td>\n",
       "      <td>0.27</td>\n",
       "      <td>0.04</td>\n",
       "    </tr>\n",
       "    <tr>\n",
       "      <th>Kevin Bacon</th>\n",
       "      <td>0.05</td>\n",
       "      <td>0.03</td>\n",
       "      <td>0.26</td>\n",
       "    </tr>\n",
       "  </tbody>\n",
       "</table>\n",
       "</div>"
      ],
      "text/plain": [
       "              EF  Iván Jardón  Kevin Bacon\n",
       "EF          0.28         0.02         0.03\n",
       "Iván Jardón 0.03         0.27         0.04\n",
       "Kevin Bacon 0.05         0.03         0.26"
      ]
     },
     "metadata": {},
     "output_type": "display_data"
    },
    {
     "data": {
      "text/plain": [
       "'Accuracy de 80.69%'"
      ]
     },
     "execution_count": 39,
     "metadata": {},
     "output_type": "execute_result"
    }
   ],
   "source": [
    "## Y en test\n",
    "cm = pd.DataFrame(confusion_matrix(y_true = y_test,\n",
    "                                   y_pred = modelo.predict(X_test))/len(y_test), \n",
    "                  index = [{y: x for x, y in autores.items()\n",
    "                           }[n] for n in list(sorted(np.unique(y_test)))], \n",
    "                  columns = [{y: x for x, y in autores.items()\n",
    "                             }[n] for n in list(sorted(np.unique(y_test)))])\n",
    "display(cm)\n",
    "\n",
    "## Con buena acertividad (suma de diagonal en la matriz de confusión)\n",
    "'Accuracy de {:.2%}'.format(np.asarray(cm).trace())"
   ]
  },
  {
   "cell_type": "code",
   "execution_count": 40,
   "metadata": {
    "ExecuteTime": {
     "end_time": "2021-01-21T22:56:52.583067Z",
     "start_time": "2021-01-21T22:56:52.375040Z"
    }
   },
   "outputs": [],
   "source": [
    "## Guardar OHE, MinMax y modelo\n",
    "import pickle\n",
    "with open('modelo_whatsapp.pkl', \"wb\") as f:\n",
    "    pickle.dump(modelo, f)"
   ]
  },
  {
   "cell_type": "markdown",
   "metadata": {},
   "source": [
    "## Validación"
   ]
  },
  {
   "cell_type": "code",
   "execution_count": 41,
   "metadata": {
    "ExecuteTime": {
     "end_time": "2021-01-21T22:57:15.143731Z",
     "start_time": "2021-01-21T22:57:14.982522Z"
    }
   },
   "outputs": [
    {
     "data": {
      "text/plain": [
       "'Transformadores:'"
      ]
     },
     "metadata": {},
     "output_type": "display_data"
    },
    {
     "data": {
      "text/plain": [
       "[OneHotEncoder(handle_unknown='ignore', sparse=False),\n",
       " MinMaxScaler(),\n",
       " TfidfVectorizer(max_features=100, min_df=10)]"
      ]
     },
     "metadata": {},
     "output_type": "display_data"
    },
    {
     "data": {
      "text/plain": [
       "'Modelos:'"
      ]
     },
     "metadata": {},
     "output_type": "display_data"
    },
    {
     "data": {
      "text/plain": [
       "[LogisticRegression(C=1, class_weight='balanced', penalty='l1', solver='saga'),\n",
       " RandomForestClassifier(criterion='entropy', min_samples_leaf=0.01,\n",
       "                        min_samples_split=18, n_estimators=1400),\n",
       " AdaBoostClassifier(learning_rate=0.1, n_estimators=100),\n",
       " XGBClassifier(base_score=0.5, booster='gbtree', colsample_bylevel=1,\n",
       "               colsample_bynode=1, colsample_bytree=0.65, gamma=0, gpu_id=-1,\n",
       "               importance_type='gain', interaction_constraints='',\n",
       "               learning_rate=0.45, max_delta_step=0, max_depth=5,\n",
       "               min_child_weight=2, missing=nan, monotone_constraints='()',\n",
       "               n_estimators=66, n_jobs=0, num_parallel_tree=1,\n",
       "               objective='multi:softprob', random_state=0, reg_alpha=0,\n",
       "               reg_lambda=1, scale_pos_weight=None, subsample=0.8,\n",
       "               tree_method='exact', validate_parameters=1, verbosity=None)]"
      ]
     },
     "execution_count": 41,
     "metadata": {},
     "output_type": "execute_result"
    }
   ],
   "source": [
    "## Abrir el pickle con lo necesario para validar\n",
    "import pickle    \n",
    "with open('modelo_whatsapp.pkl', \"rb\") as f:\n",
    "    modelo = pickle.load(f)\n",
    "\n",
    "## Listo para usarse\n",
    "display('Transformadores:')\n",
    "display([x[1] for x in modelo.get_params()['steps'][0][1].get_params()['transformers']])\n",
    "display('Modelos:')\n",
    "[x.best_estimator_ for x in modelo.get_params()['modelo'].estimators_]"
   ]
  },
  {
   "cell_type": "code",
   "execution_count": 42,
   "metadata": {
    "ExecuteTime": {
     "end_time": "2021-01-21T22:57:20.567844Z",
     "start_time": "2021-01-21T22:57:15.193140Z"
    }
   },
   "outputs": [
    {
     "name": "stderr",
     "output_type": "stream",
     "text": [
      "[nltk_data] Downloading package stopwords to /home/ef/nltk_data...\n",
      "[nltk_data]   Package stopwords is already up-to-date!\n"
     ]
    },
    {
     "data": {
      "text/html": [
       "<div>\n",
       "<style scoped>\n",
       "    .dataframe tbody tr th:only-of-type {\n",
       "        vertical-align: middle;\n",
       "    }\n",
       "\n",
       "    .dataframe tbody tr th {\n",
       "        vertical-align: top;\n",
       "    }\n",
       "\n",
       "    .dataframe thead th {\n",
       "        text-align: right;\n",
       "    }\n",
       "</style>\n",
       "<table border=\"1\" class=\"dataframe\">\n",
       "  <thead>\n",
       "    <tr style=\"text-align: right;\">\n",
       "      <th></th>\n",
       "      <th>EF</th>\n",
       "      <th>Iván Jardón</th>\n",
       "      <th>Kevin Bacon</th>\n",
       "    </tr>\n",
       "  </thead>\n",
       "  <tbody>\n",
       "    <tr>\n",
       "      <th>EF</th>\n",
       "      <td>0.32</td>\n",
       "      <td>0.00</td>\n",
       "      <td>0.01</td>\n",
       "    </tr>\n",
       "    <tr>\n",
       "      <th>Iván Jardón</th>\n",
       "      <td>0.02</td>\n",
       "      <td>0.30</td>\n",
       "      <td>0.01</td>\n",
       "    </tr>\n",
       "    <tr>\n",
       "      <th>Kevin Bacon</th>\n",
       "      <td>0.01</td>\n",
       "      <td>0.01</td>\n",
       "      <td>0.32</td>\n",
       "    </tr>\n",
       "  </tbody>\n",
       "</table>\n",
       "</div>"
      ],
      "text/plain": [
       "              EF  Iván Jardón  Kevin Bacon\n",
       "EF          0.32         0.00         0.01\n",
       "Iván Jardón 0.02         0.30         0.01\n",
       "Kevin Bacon 0.01         0.01         0.32"
      ]
     },
     "metadata": {},
     "output_type": "display_data"
    },
    {
     "data": {
      "text/plain": [
       "'Accuracy de 93.77%'"
      ]
     },
     "execution_count": 42,
     "metadata": {},
     "output_type": "execute_result"
    }
   ],
   "source": [
    "# %load basic\n",
    "import pandas as pd\n",
    "import numpy as np\n",
    "import matplotlib.pyplot as plt\n",
    "pd.set_option('display.max_columns',200)\n",
    "pd.options.display.float_format = '{:.2f}'.format\n",
    "file = '/home/ef/Documents/Diplomado/data/WhatsApp Chat with Naps 🐻🐼🐯.txt'\n",
    "\n",
    "## Podemos crear un módulo con funciones y clases que ejecuten todo el proceso anterior\n",
    "import whatsapp as wa\n",
    "df = wa.read_chat(file)\n",
    "\n",
    "## Transformación y obtención de tipos de variables\n",
    "df,cat,num,autores = wa.TAD().transform(df)\n",
    "\n",
    "## Se estructura y=f(X)\n",
    "df['OBJETIVO'] = df['Autor'].replace(autores)\n",
    "X = df[['Mensaje_limpio'] + cat + num]\n",
    "y = df['OBJETIVO']\n",
    "\n",
    "## Se predice sobre datos nuevos\n",
    "val = df.join(pd.DataFrame(modelo.predict(X),\n",
    "                           columns = ['Estimado']\n",
    "                          ).replace({y: x for x, y in autores.items()}))\n",
    "\n",
    "## Qué acertividad hay en la validación?\n",
    "from sklearn.metrics import confusion_matrix\n",
    "cm = pd.DataFrame(confusion_matrix(y_true = val['Autor'],\n",
    "                                   y_pred = val['Estimado'])/len(val), \n",
    "                  index = [x for x in autores], \n",
    "                  columns = [x for x in autores])\n",
    "display(cm)\n",
    "\n",
    "## Con buena acertividad (suma de diagonal en la matriz de confusión)\n",
    "'Accuracy de {:.2%}'.format(np.asarray(cm).trace())"
   ]
  },
  {
   "cell_type": "markdown",
   "metadata": {},
   "source": [
    "## Fin"
   ]
  },
  {
   "cell_type": "code",
   "execution_count": 43,
   "metadata": {
    "ExecuteTime": {
     "end_time": "2021-01-21T22:57:28.675437Z",
     "start_time": "2021-01-21T22:57:28.653247Z"
    }
   },
   "outputs": [
    {
     "name": "stdout",
     "output_type": "stream",
     "text": [
      "21 minutos con 44.55 segundos\n"
     ]
    }
   ],
   "source": [
    "import math\n",
    "def time_exp(x):\n",
    "    print(str(int(math.floor(x/60))\n",
    "             ) + \" minutos con \" + '{:.2f}'.format(60*(x/60 - math.floor(x/60))\n",
    "                                                  ) + \" segundos\")\n",
    "end = time.time()\n",
    "time_exp(end - start)"
   ]
  },
  {
   "cell_type": "code",
   "execution_count": 44,
   "metadata": {
    "ExecuteTime": {
     "end_time": "2021-01-21T22:57:28.845042Z",
     "start_time": "2021-01-21T22:57:28.695585Z"
    }
   },
   "outputs": [
    {
     "data": {
      "text/html": [
       "\n",
       "                <audio  controls=\"controls\" autoplay=\"autoplay\">\n",
       "                    <source src=\"data:audio/wav;base64,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\" type=\"audio/wav\" />\n",
       "                    Your browser does not support the audio element.\n",
       "                </audio>\n",
       "              "
      ],
      "text/plain": [
       "<IPython.lib.display.Audio object>"
      ]
     },
     "execution_count": 44,
     "metadata": {},
     "output_type": "execute_result"
    }
   ],
   "source": [
    "## Tono para cuando termina código\n",
    "from IPython.lib.display import Audio\n",
    "import numpy as np\n",
    "\n",
    "framerate = 4410\n",
    "play_time_seconds = 1\n",
    "\n",
    "t = np.linspace(0, play_time_seconds, framerate*play_time_seconds)\n",
    "audio_data = np.sin(5*np.pi*300*t) + np.sin(2*np.pi*240*t)\n",
    "\n",
    "## La siguiente línea debe ir debajo del código p que suene\n",
    "Audio(audio_data, rate=framerate, autoplay=True)"
   ]
  }
 ],
 "metadata": {
  "kernelspec": {
   "display_name": "Python 3",
   "language": "python",
   "name": "python3"
  },
  "language_info": {
   "codemirror_mode": {
    "name": "ipython",
    "version": 3
   },
   "file_extension": ".py",
   "mimetype": "text/x-python",
   "name": "python",
   "nbconvert_exporter": "python",
   "pygments_lexer": "ipython3",
   "version": "3.8.5"
  },
  "toc": {
   "base_numbering": 1,
   "nav_menu": {},
   "number_sections": true,
   "sideBar": true,
   "skip_h1_title": true,
   "title_cell": "Table of Contents",
   "title_sidebar": "Contents",
   "toc_cell": false,
   "toc_position": {
    "height": "calc(100% - 180px)",
    "left": "10px",
    "top": "150px",
    "width": "461.962px"
   },
   "toc_section_display": true,
   "toc_window_display": true
  },
  "varInspector": {
   "cols": {
    "lenName": 16,
    "lenType": 16,
    "lenVar": 40
   },
   "kernels_config": {
    "python": {
     "delete_cmd_postfix": "",
     "delete_cmd_prefix": "del ",
     "library": "var_list.py",
     "varRefreshCmd": "print(var_dic_list())"
    },
    "r": {
     "delete_cmd_postfix": ") ",
     "delete_cmd_prefix": "rm(",
     "library": "var_list.r",
     "varRefreshCmd": "cat(var_dic_list()) "
    }
   },
   "types_to_exclude": [
    "module",
    "function",
    "builtin_function_or_method",
    "instance",
    "_Feature"
   ],
   "window_display": false
  }
 },
 "nbformat": 4,
 "nbformat_minor": 4
}
