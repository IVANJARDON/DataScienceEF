{
 "cells": [
  {
   "cell_type": "markdown",
   "metadata": {
    "id": "OFCvUwsMkWxY"
   },
   "source": [
    "**Todas las funciones deben estar comentadas y deben tener validaciones de acuerdo a los parametros que reciban**\n",
    "\n",
    "**Todas las funciones deben funcionar para cualquier input proporcionado que cumpla las especificaciones, no solo para el ejemplo dado**"
   ]
  },
  {
   "cell_type": "markdown",
   "metadata": {
    "id": "vjkyfGGzkWxd"
   },
   "source": [
    "1) Escriba una función usando NumPy para crear una matriz de registros a partir de una matriz regular dada"
   ]
  },
  {
   "cell_type": "markdown",
   "metadata": {
    "id": "k5z2WEIOkWxg"
   },
   "source": [
    "- input"
   ]
  },
  {
   "cell_type": "code",
   "execution_count": null,
   "metadata": {
    "ExecuteTime": {
     "end_time": "2020-10-27T04:41:31.238919Z",
     "start_time": "2020-10-27T04:41:31.224757Z"
    },
    "id": "myx9w26GkWxk",
    "outputId": "2d7851ba-4c38-48f0-8a77-d94d2094e65a"
   },
   "outputs": [
    {
     "data": {
      "text/plain": [
       "array([['Rodrigo Gonzalez', '$234,345', 'Grupo B'],\n",
       "       ['Rodrigo Gonzalez 2', '$234,345.12', 'Grupo C'],\n",
       "       ['Rodrigo Gonzalez 3', '$2,345', 'Grupo D']], dtype='<U18')"
      ]
     },
     "execution_count": 11,
     "metadata": {
      "tags": []
     },
     "output_type": "execute_result"
    }
   ],
   "source": [
    "array"
   ]
  },
  {
   "cell_type": "markdown",
   "metadata": {
    "id": "zlXgzHuNkWx9"
   },
   "source": [
    "- Output"
   ]
  },
  {
   "cell_type": "code",
   "execution_count": null,
   "metadata": {
    "ExecuteTime": {
     "end_time": "2020-10-27T04:42:24.681138Z",
     "start_time": "2020-10-27T04:42:24.664589Z"
    },
    "id": "pVwbhHW1kWyA",
    "outputId": "96545db7-a15d-4327-e76d-886ecef3daca"
   },
   "outputs": [
    {
     "data": {
      "text/plain": [
       "rec.array([(b'Rodrigo Gonzalez', b'$234,345', b'Grupo B'),\n",
       "           (b'Rodrigo Gonzalez 2', b'$234,345.12', b'Grupo C'),\n",
       "           (b'Rodrigo Gonzalez 3', b'$2,345', b'Grupo D')],\n",
       "          dtype=[('col1', 'S80'), ('col2', 'S80'), ('col3', 'S80')])"
      ]
     },
     "execution_count": 14,
     "metadata": {
      "tags": []
     },
     "output_type": "execute_result"
    }
   ],
   "source": [
    "result"
   ]
  },
  {
   "cell_type": "markdown",
   "metadata": {
    "id": "XjMJDxc-kWyR"
   },
   "source": [
    "2) Función que utilizando NumPy dada una matriz de dimension nxn pueda extraer las filas con valores desiguales y retorne una matrix sin esos elementos iguales "
   ]
  },
  {
   "cell_type": "markdown",
   "metadata": {
    "id": "PjtkStovkWyV"
   },
   "source": [
    "- Input "
   ]
  },
  {
   "cell_type": "code",
   "execution_count": null,
   "metadata": {
    "ExecuteTime": {
     "end_time": "2020-10-27T04:47:32.338011Z",
     "start_time": "2020-10-27T04:47:32.322991Z"
    },
    "id": "dW2zwUMdkWyY",
    "outputId": "a71fed69-9611-4040-e2a4-da602c4663b2"
   },
   "outputs": [
    {
     "data": {
      "text/plain": [
       "array([[1, 2, 2, 1, 1, 1],\n",
       "       [9, 9, 9, 9, 9, 9],\n",
       "       [1, 2, 3, 4, 5, 6]])"
      ]
     },
     "execution_count": 18,
     "metadata": {
      "tags": []
     },
     "output_type": "execute_result"
    }
   ],
   "source": [
    "matriz"
   ]
  },
  {
   "cell_type": "markdown",
   "metadata": {
    "id": "c2mm1JNDkWyo"
   },
   "source": [
    "- Output"
   ]
  },
  {
   "cell_type": "code",
   "execution_count": null,
   "metadata": {
    "ExecuteTime": {
     "end_time": "2020-10-27T04:47:44.411231Z",
     "start_time": "2020-10-27T04:47:44.397475Z"
    },
    "id": "4RfgLalCkWyr",
    "outputId": "b83e46a0-22e0-49ad-ad15-fcbde0df697f"
   },
   "outputs": [
    {
     "data": {
      "text/plain": [
       "array([[1, 2, 2, 1, 1, 1],\n",
       "       [1, 2, 3, 4, 5, 6]])"
      ]
     },
     "execution_count": 19,
     "metadata": {
      "tags": []
     },
     "output_type": "execute_result"
    }
   ],
   "source": [
    "result"
   ]
  },
  {
   "cell_type": "markdown",
   "metadata": {
    "id": "YGe-Y8b9kWy6"
   },
   "source": [
    "3) Función utilizando NumPy que dada una matriz de nx1 retorne una matriz de dimension (2*n+n -2)x1 donde en medio de cada uno de sus elementos añada dos ceros"
   ]
  },
  {
   "cell_type": "markdown",
   "metadata": {
    "id": "mcX5Tg2akWy9"
   },
   "source": [
    "- Input"
   ]
  },
  {
   "cell_type": "code",
   "execution_count": null,
   "metadata": {
    "ExecuteTime": {
     "end_time": "2020-10-27T04:54:09.230008Z",
     "start_time": "2020-10-27T04:54:09.215520Z"
    },
    "id": "-_qAUy9okWzA",
    "outputId": "c5aa3872-c992-43f4-afa8-e37c6221a0a6"
   },
   "outputs": [
    {
     "data": {
      "text/plain": [
       "array([ 1,  2,  3,  4,  5,  6,  7,  8,  9, 10, 11, 12, 13, 14])"
      ]
     },
     "execution_count": 33,
     "metadata": {
      "tags": []
     },
     "output_type": "execute_result"
    }
   ],
   "source": [
    "array"
   ]
  },
  {
   "cell_type": "code",
   "execution_count": null,
   "metadata": {
    "ExecuteTime": {
     "end_time": "2020-10-27T04:54:30.679914Z",
     "start_time": "2020-10-27T04:54:30.646460Z"
    },
    "id": "7Bfj69qdkWzR",
    "outputId": "c0e81d9d-649f-4a60-c46f-054ae995bb41"
   },
   "outputs": [
    {
     "data": {
      "text/plain": [
       "(14,)"
      ]
     },
     "execution_count": 36,
     "metadata": {
      "tags": []
     },
     "output_type": "execute_result"
    }
   ],
   "source": [
    "array.shape"
   ]
  },
  {
   "cell_type": "markdown",
   "metadata": {
    "id": "2Un5oBoNkWzi"
   },
   "source": [
    "- Output"
   ]
  },
  {
   "cell_type": "code",
   "execution_count": null,
   "metadata": {
    "ExecuteTime": {
     "end_time": "2020-10-27T04:54:23.576864Z",
     "start_time": "2020-10-27T04:54:23.560727Z"
    },
    "id": "-fylPEHhkWzm",
    "outputId": "0ef5056e-4528-4ca1-c066-cbb761a9cb17"
   },
   "outputs": [
    {
     "data": {
      "text/plain": [
       "array([ 1.,  0.,  0.,  2.,  0.,  0.,  3.,  0.,  0.,  4.,  0.,  0.,  5.,\n",
       "        0.,  0.,  6.,  0.,  0.,  7.,  0.,  0.,  8.,  0.,  0.,  9.,  0.,\n",
       "        0., 10.,  0.,  0., 11.,  0.,  0., 12.,  0.,  0., 13.,  0.,  0.,\n",
       "       14.])"
      ]
     },
     "execution_count": 35,
     "metadata": {
      "tags": []
     },
     "output_type": "execute_result"
    }
   ],
   "source": [
    "result"
   ]
  },
  {
   "cell_type": "code",
   "execution_count": null,
   "metadata": {
    "ExecuteTime": {
     "end_time": "2020-10-27T04:54:39.113722Z",
     "start_time": "2020-10-27T04:54:39.099932Z"
    },
    "id": "2Rx-_Va1kWz1",
    "outputId": "ab4a3b34-f980-4c5f-d46d-534712813b1e"
   },
   "outputs": [
    {
     "data": {
      "text/plain": [
       "(40,)"
      ]
     },
     "execution_count": 37,
     "metadata": {
      "tags": []
     },
     "output_type": "execute_result"
    }
   ],
   "source": [
    "result.shape"
   ]
  },
  {
   "cell_type": "code",
   "execution_count": null,
   "metadata": {
    "ExecuteTime": {
     "end_time": "2020-10-27T04:54:55.771645Z",
     "start_time": "2020-10-27T04:54:55.764178Z"
    },
    "id": "L_lCq3Y2kW0E"
   },
   "outputs": [],
   "source": [
    "n=array.shape[0]"
   ]
  },
  {
   "cell_type": "code",
   "execution_count": null,
   "metadata": {
    "ExecuteTime": {
     "end_time": "2020-10-27T04:54:57.733861Z",
     "start_time": "2020-10-27T04:54:57.722883Z"
    },
    "id": "KinibaVckW0S",
    "outputId": "b067a20b-e27f-4524-81aa-c6bf0af9088f"
   },
   "outputs": [
    {
     "data": {
      "text/plain": [
       "40"
      ]
     },
     "execution_count": 40,
     "metadata": {
      "tags": []
     },
     "output_type": "execute_result"
    }
   ],
   "source": [
    "2*n+n -2"
   ]
  },
  {
   "cell_type": "code",
   "execution_count": null,
   "metadata": {
    "ExecuteTime": {
     "end_time": "2020-10-27T04:55:01.919406Z",
     "start_time": "2020-10-27T04:55:01.907246Z"
    },
    "id": "uql9g2IokW0h",
    "outputId": "4b39e97a-d371-48b7-d869-6b50f2ce81ba"
   },
   "outputs": [
    {
     "data": {
      "text/plain": [
       "(40,)"
      ]
     },
     "execution_count": 41,
     "metadata": {
      "tags": []
     },
     "output_type": "execute_result"
    }
   ],
   "source": [
    "result.shape"
   ]
  },
  {
   "cell_type": "markdown",
   "metadata": {
    "id": "a909H78PkW0v"
   },
   "source": [
    "4) Escriba una función usando NumPy que reciba como parámetro:\n",
    "    a)dimension_matriz=(12,12)\n",
    "    b)dimension_sub_matriz=(4,4)\n",
    "    \n",
    "    -Generar matriz de números aleatorios entre 0-99 de la dimension especificada en el primer parámetro\n",
    "    -Extraer todas las sub-matrices posibles de la dimension especificada en el segundo parámetro\n",
    "    -En caso de que la dimension de la dimension_sub_matriz sea mayor a dimension_matriz debe de retornar un print mencionando que se debe ingresar una dimension menor\n",
    "    -La función debe retornar una lista donde cada uno de sus elementos debe contener cada una de las submatrices"
   ]
  },
  {
   "cell_type": "markdown",
   "metadata": {
    "id": "fgJe1R4zkW0y"
   },
   "source": [
    "5) Función que tenga como parametros lo siguiente:\n",
    "    - DataFrame de cualquier dimension, con valores numericos en todos sus registros  \n",
    "    - N, un valor entero \n",
    "    Retorne una lista de longitud igual al número de columnas del DataFrame proporcionado, donde cada uno de sus elementos es un sub-DataFrame,Todos deben contener N registros, El primero de ellos debe tener los registros del DataFrame original con los N valores más bajos sobre la primer variable y asi sucesivamente\n",
    "    "
   ]
  },
  {
   "cell_type": "markdown",
   "metadata": {
    "id": "TKBHv1g9kW01"
   },
   "source": [
    "- Input"
   ]
  },
  {
   "cell_type": "code",
   "execution_count": null,
   "metadata": {
    "ExecuteTime": {
     "end_time": "2020-10-27T05:03:34.241474Z",
     "start_time": "2020-10-27T05:03:34.201619Z"
    },
    "id": "vpbXfkn1kW05",
    "outputId": "e145afc7-ac12-409d-cf7d-c3b0f229e6c1"
   },
   "outputs": [
    {
     "data": {
      "text/html": [
       "<div>\n",
       "<style scoped>\n",
       "    .dataframe tbody tr th:only-of-type {\n",
       "        vertical-align: middle;\n",
       "    }\n",
       "\n",
       "    .dataframe tbody tr th {\n",
       "        vertical-align: top;\n",
       "    }\n",
       "\n",
       "    .dataframe thead th {\n",
       "        text-align: right;\n",
       "    }\n",
       "</style>\n",
       "<table border=\"1\" class=\"dataframe\">\n",
       "  <thead>\n",
       "    <tr style=\"text-align: right;\">\n",
       "      <th></th>\n",
       "      <th>variable_1</th>\n",
       "      <th>variable_2</th>\n",
       "      <th>variable_3</th>\n",
       "      <th>variable_4</th>\n",
       "      <th>variable_5</th>\n",
       "      <th>variable_6</th>\n",
       "    </tr>\n",
       "  </thead>\n",
       "  <tbody>\n",
       "    <tr>\n",
       "      <th>0</th>\n",
       "      <td>1</td>\n",
       "      <td>4</td>\n",
       "      <td>7</td>\n",
       "      <td>1</td>\n",
       "      <td>4</td>\n",
       "      <td>12</td>\n",
       "    </tr>\n",
       "    <tr>\n",
       "      <th>1</th>\n",
       "      <td>2</td>\n",
       "      <td>5</td>\n",
       "      <td>5</td>\n",
       "      <td>200</td>\n",
       "      <td>111</td>\n",
       "      <td>5</td>\n",
       "    </tr>\n",
       "    <tr>\n",
       "      <th>2</th>\n",
       "      <td>3</td>\n",
       "      <td>1206</td>\n",
       "      <td>8</td>\n",
       "      <td>3</td>\n",
       "      <td>6</td>\n",
       "      <td>32</td>\n",
       "    </tr>\n",
       "    <tr>\n",
       "      <th>3</th>\n",
       "      <td>4</td>\n",
       "      <td>9</td>\n",
       "      <td>12</td>\n",
       "      <td>4</td>\n",
       "      <td>9</td>\n",
       "      <td>12</td>\n",
       "    </tr>\n",
       "    <tr>\n",
       "      <th>4</th>\n",
       "      <td>7</td>\n",
       "      <td>5</td>\n",
       "      <td>1</td>\n",
       "      <td>767</td>\n",
       "      <td>5</td>\n",
       "      <td>1</td>\n",
       "    </tr>\n",
       "    <tr>\n",
       "      <th>5</th>\n",
       "      <td>11</td>\n",
       "      <td>0</td>\n",
       "      <td>11</td>\n",
       "      <td>11</td>\n",
       "      <td>0</td>\n",
       "      <td>11</td>\n",
       "    </tr>\n",
       "  </tbody>\n",
       "</table>\n",
       "</div>"
      ],
      "text/plain": [
       "   variable_1  variable_2  variable_3  variable_4  variable_5  variable_6\n",
       "0           1           4           7           1           4          12\n",
       "1           2           5           5         200         111           5\n",
       "2           3        1206           8           3           6          32\n",
       "3           4           9          12           4           9          12\n",
       "4           7           5           1         767           5           1\n",
       "5          11           0          11          11           0          11"
      ]
     },
     "execution_count": 43,
     "metadata": {
      "tags": []
     },
     "output_type": "execute_result"
    }
   ],
   "source": [
    "df"
   ]
  },
  {
   "cell_type": "code",
   "execution_count": null,
   "metadata": {
    "ExecuteTime": {
     "end_time": "2020-10-27T05:07:58.341126Z",
     "start_time": "2020-10-27T05:07:58.333579Z"
    },
    "id": "WdNDkbGjkW1G"
   },
   "outputs": [],
   "source": [
    "N=2"
   ]
  },
  {
   "cell_type": "markdown",
   "metadata": {
    "id": "YOY7ikGokW1S"
   },
   "source": [
    "- Output "
   ]
  },
  {
   "cell_type": "code",
   "execution_count": null,
   "metadata": {
    "ExecuteTime": {
     "end_time": "2020-10-27T05:09:20.918832Z",
     "start_time": "2020-10-27T05:09:20.862527Z"
    },
    "id": "f0OfLteekW1U",
    "outputId": "5e48ead9-c29c-4b47-d997-e39ee048b2c0"
   },
   "outputs": [
    {
     "data": {
      "text/plain": [
       "[   variable_1  variable_2  variable_3  variable_4  variable_5  variable_6\n",
       " 0           1           4           7           1           4          12\n",
       " 1           2           5           5         200         111           5,\n",
       "    variable_1  variable_2  variable_3  variable_4  variable_5  variable_6\n",
       " 5          11           0          11          11           0          11\n",
       " 0           1           4           7           1           4          12,\n",
       "    variable_1  variable_2  variable_3  variable_4  variable_5  variable_6\n",
       " 4           7           5           1         767           5           1\n",
       " 1           2           5           5         200         111           5,\n",
       "    variable_1  variable_2  variable_3  variable_4  variable_5  variable_6\n",
       " 0           1           4           7           1           4          12\n",
       " 2           3        1206           8           3           6          32,\n",
       "    variable_1  variable_2  variable_3  variable_4  variable_5  variable_6\n",
       " 5          11           0          11          11           0          11\n",
       " 0           1           4           7           1           4          12,\n",
       "    variable_1  variable_2  variable_3  variable_4  variable_5  variable_6\n",
       " 4           7           5           1         767           5           1\n",
       " 1           2           5           5         200         111           5]"
      ]
     },
     "execution_count": 55,
     "metadata": {
      "tags": []
     },
     "output_type": "execute_result"
    }
   ],
   "source": [
    "lista"
   ]
  },
  {
   "cell_type": "code",
   "execution_count": null,
   "metadata": {
    "ExecuteTime": {
     "end_time": "2020-10-27T05:09:25.043649Z",
     "start_time": "2020-10-27T05:09:25.030916Z"
    },
    "id": "-VMQ5X3OkW1l",
    "outputId": "95751f6a-c16f-40ad-88e7-dc0b1ff72657"
   },
   "outputs": [
    {
     "data": {
      "text/plain": [
       "6"
      ]
     },
     "execution_count": 56,
     "metadata": {
      "tags": []
     },
     "output_type": "execute_result"
    }
   ],
   "source": [
    "len(lista)"
   ]
  },
  {
   "cell_type": "code",
   "execution_count": null,
   "metadata": {
    "ExecuteTime": {
     "end_time": "2020-10-27T05:08:32.232678Z",
     "start_time": "2020-10-27T05:08:32.199262Z"
    },
    "id": "71lrme6CkW1z",
    "outputId": "98d71811-e00f-4ba9-c417-73296da429c7"
   },
   "outputs": [
    {
     "data": {
      "text/html": [
       "<div>\n",
       "<style scoped>\n",
       "    .dataframe tbody tr th:only-of-type {\n",
       "        vertical-align: middle;\n",
       "    }\n",
       "\n",
       "    .dataframe tbody tr th {\n",
       "        vertical-align: top;\n",
       "    }\n",
       "\n",
       "    .dataframe thead th {\n",
       "        text-align: right;\n",
       "    }\n",
       "</style>\n",
       "<table border=\"1\" class=\"dataframe\">\n",
       "  <thead>\n",
       "    <tr style=\"text-align: right;\">\n",
       "      <th></th>\n",
       "      <th>variable_1</th>\n",
       "      <th>variable_2</th>\n",
       "      <th>variable_3</th>\n",
       "      <th>variable_4</th>\n",
       "      <th>variable_5</th>\n",
       "      <th>variable_6</th>\n",
       "    </tr>\n",
       "  </thead>\n",
       "  <tbody>\n",
       "    <tr>\n",
       "      <th>0</th>\n",
       "      <td>1</td>\n",
       "      <td>4</td>\n",
       "      <td>7</td>\n",
       "      <td>1</td>\n",
       "      <td>4</td>\n",
       "      <td>12</td>\n",
       "    </tr>\n",
       "    <tr>\n",
       "      <th>1</th>\n",
       "      <td>2</td>\n",
       "      <td>5</td>\n",
       "      <td>5</td>\n",
       "      <td>200</td>\n",
       "      <td>111</td>\n",
       "      <td>5</td>\n",
       "    </tr>\n",
       "  </tbody>\n",
       "</table>\n",
       "</div>"
      ],
      "text/plain": [
       "   variable_1  variable_2  variable_3  variable_4  variable_5  variable_6\n",
       "0           1           4           7           1           4          12\n",
       "1           2           5           5         200         111           5"
      ]
     },
     "execution_count": 48,
     "metadata": {
      "tags": []
     },
     "output_type": "execute_result"
    }
   ],
   "source": [
    "lista[0]"
   ]
  },
  {
   "cell_type": "code",
   "execution_count": null,
   "metadata": {
    "ExecuteTime": {
     "end_time": "2020-10-27T05:08:37.960371Z",
     "start_time": "2020-10-27T05:08:37.932007Z"
    },
    "id": "iVC5KYs6kW2B",
    "outputId": "3abee034-fdf4-4690-d0e5-6fc57a27ce7b"
   },
   "outputs": [
    {
     "data": {
      "text/html": [
       "<div>\n",
       "<style scoped>\n",
       "    .dataframe tbody tr th:only-of-type {\n",
       "        vertical-align: middle;\n",
       "    }\n",
       "\n",
       "    .dataframe tbody tr th {\n",
       "        vertical-align: top;\n",
       "    }\n",
       "\n",
       "    .dataframe thead th {\n",
       "        text-align: right;\n",
       "    }\n",
       "</style>\n",
       "<table border=\"1\" class=\"dataframe\">\n",
       "  <thead>\n",
       "    <tr style=\"text-align: right;\">\n",
       "      <th></th>\n",
       "      <th>variable_1</th>\n",
       "      <th>variable_2</th>\n",
       "      <th>variable_3</th>\n",
       "      <th>variable_4</th>\n",
       "      <th>variable_5</th>\n",
       "      <th>variable_6</th>\n",
       "    </tr>\n",
       "  </thead>\n",
       "  <tbody>\n",
       "    <tr>\n",
       "      <th>5</th>\n",
       "      <td>11</td>\n",
       "      <td>0</td>\n",
       "      <td>11</td>\n",
       "      <td>11</td>\n",
       "      <td>0</td>\n",
       "      <td>11</td>\n",
       "    </tr>\n",
       "    <tr>\n",
       "      <th>0</th>\n",
       "      <td>1</td>\n",
       "      <td>4</td>\n",
       "      <td>7</td>\n",
       "      <td>1</td>\n",
       "      <td>4</td>\n",
       "      <td>12</td>\n",
       "    </tr>\n",
       "  </tbody>\n",
       "</table>\n",
       "</div>"
      ],
      "text/plain": [
       "   variable_1  variable_2  variable_3  variable_4  variable_5  variable_6\n",
       "5          11           0          11          11           0          11\n",
       "0           1           4           7           1           4          12"
      ]
     },
     "execution_count": 49,
     "metadata": {
      "tags": []
     },
     "output_type": "execute_result"
    }
   ],
   "source": [
    "lista[1]"
   ]
  },
  {
   "cell_type": "code",
   "execution_count": null,
   "metadata": {
    "ExecuteTime": {
     "end_time": "2020-10-27T05:08:43.279166Z",
     "start_time": "2020-10-27T05:08:43.249977Z"
    },
    "id": "-fYByaLPkW2O",
    "outputId": "b118118b-4f84-478b-9914-f7d0f95d99fc"
   },
   "outputs": [
    {
     "data": {
      "text/html": [
       "<div>\n",
       "<style scoped>\n",
       "    .dataframe tbody tr th:only-of-type {\n",
       "        vertical-align: middle;\n",
       "    }\n",
       "\n",
       "    .dataframe tbody tr th {\n",
       "        vertical-align: top;\n",
       "    }\n",
       "\n",
       "    .dataframe thead th {\n",
       "        text-align: right;\n",
       "    }\n",
       "</style>\n",
       "<table border=\"1\" class=\"dataframe\">\n",
       "  <thead>\n",
       "    <tr style=\"text-align: right;\">\n",
       "      <th></th>\n",
       "      <th>variable_1</th>\n",
       "      <th>variable_2</th>\n",
       "      <th>variable_3</th>\n",
       "      <th>variable_4</th>\n",
       "      <th>variable_5</th>\n",
       "      <th>variable_6</th>\n",
       "    </tr>\n",
       "  </thead>\n",
       "  <tbody>\n",
       "    <tr>\n",
       "      <th>4</th>\n",
       "      <td>7</td>\n",
       "      <td>5</td>\n",
       "      <td>1</td>\n",
       "      <td>767</td>\n",
       "      <td>5</td>\n",
       "      <td>1</td>\n",
       "    </tr>\n",
       "    <tr>\n",
       "      <th>1</th>\n",
       "      <td>2</td>\n",
       "      <td>5</td>\n",
       "      <td>5</td>\n",
       "      <td>200</td>\n",
       "      <td>111</td>\n",
       "      <td>5</td>\n",
       "    </tr>\n",
       "  </tbody>\n",
       "</table>\n",
       "</div>"
      ],
      "text/plain": [
       "   variable_1  variable_2  variable_3  variable_4  variable_5  variable_6\n",
       "4           7           5           1         767           5           1\n",
       "1           2           5           5         200         111           5"
      ]
     },
     "execution_count": 50,
     "metadata": {
      "tags": []
     },
     "output_type": "execute_result"
    }
   ],
   "source": [
    "lista[2]"
   ]
  },
  {
   "cell_type": "code",
   "execution_count": null,
   "metadata": {
    "ExecuteTime": {
     "end_time": "2020-10-27T05:08:48.161074Z",
     "start_time": "2020-10-27T05:08:48.131429Z"
    },
    "id": "KQAiC1-ukW2b",
    "outputId": "41ce5b23-ddcd-413c-8618-ab6a64f859a7"
   },
   "outputs": [
    {
     "data": {
      "text/html": [
       "<div>\n",
       "<style scoped>\n",
       "    .dataframe tbody tr th:only-of-type {\n",
       "        vertical-align: middle;\n",
       "    }\n",
       "\n",
       "    .dataframe tbody tr th {\n",
       "        vertical-align: top;\n",
       "    }\n",
       "\n",
       "    .dataframe thead th {\n",
       "        text-align: right;\n",
       "    }\n",
       "</style>\n",
       "<table border=\"1\" class=\"dataframe\">\n",
       "  <thead>\n",
       "    <tr style=\"text-align: right;\">\n",
       "      <th></th>\n",
       "      <th>variable_1</th>\n",
       "      <th>variable_2</th>\n",
       "      <th>variable_3</th>\n",
       "      <th>variable_4</th>\n",
       "      <th>variable_5</th>\n",
       "      <th>variable_6</th>\n",
       "    </tr>\n",
       "  </thead>\n",
       "  <tbody>\n",
       "    <tr>\n",
       "      <th>0</th>\n",
       "      <td>1</td>\n",
       "      <td>4</td>\n",
       "      <td>7</td>\n",
       "      <td>1</td>\n",
       "      <td>4</td>\n",
       "      <td>12</td>\n",
       "    </tr>\n",
       "    <tr>\n",
       "      <th>2</th>\n",
       "      <td>3</td>\n",
       "      <td>1206</td>\n",
       "      <td>8</td>\n",
       "      <td>3</td>\n",
       "      <td>6</td>\n",
       "      <td>32</td>\n",
       "    </tr>\n",
       "  </tbody>\n",
       "</table>\n",
       "</div>"
      ],
      "text/plain": [
       "   variable_1  variable_2  variable_3  variable_4  variable_5  variable_6\n",
       "0           1           4           7           1           4          12\n",
       "2           3        1206           8           3           6          32"
      ]
     },
     "execution_count": 51,
     "metadata": {
      "tags": []
     },
     "output_type": "execute_result"
    }
   ],
   "source": [
    "lista[3]"
   ]
  },
  {
   "cell_type": "code",
   "execution_count": null,
   "metadata": {
    "ExecuteTime": {
     "end_time": "2020-10-27T05:08:51.162659Z",
     "start_time": "2020-10-27T05:08:51.123049Z"
    },
    "id": "OG5I1wwTkW2p",
    "outputId": "f906c78f-32f9-424a-e4de-6b53a9187a55"
   },
   "outputs": [
    {
     "data": {
      "text/html": [
       "<div>\n",
       "<style scoped>\n",
       "    .dataframe tbody tr th:only-of-type {\n",
       "        vertical-align: middle;\n",
       "    }\n",
       "\n",
       "    .dataframe tbody tr th {\n",
       "        vertical-align: top;\n",
       "    }\n",
       "\n",
       "    .dataframe thead th {\n",
       "        text-align: right;\n",
       "    }\n",
       "</style>\n",
       "<table border=\"1\" class=\"dataframe\">\n",
       "  <thead>\n",
       "    <tr style=\"text-align: right;\">\n",
       "      <th></th>\n",
       "      <th>variable_1</th>\n",
       "      <th>variable_2</th>\n",
       "      <th>variable_3</th>\n",
       "      <th>variable_4</th>\n",
       "      <th>variable_5</th>\n",
       "      <th>variable_6</th>\n",
       "    </tr>\n",
       "  </thead>\n",
       "  <tbody>\n",
       "    <tr>\n",
       "      <th>5</th>\n",
       "      <td>11</td>\n",
       "      <td>0</td>\n",
       "      <td>11</td>\n",
       "      <td>11</td>\n",
       "      <td>0</td>\n",
       "      <td>11</td>\n",
       "    </tr>\n",
       "    <tr>\n",
       "      <th>0</th>\n",
       "      <td>1</td>\n",
       "      <td>4</td>\n",
       "      <td>7</td>\n",
       "      <td>1</td>\n",
       "      <td>4</td>\n",
       "      <td>12</td>\n",
       "    </tr>\n",
       "  </tbody>\n",
       "</table>\n",
       "</div>"
      ],
      "text/plain": [
       "   variable_1  variable_2  variable_3  variable_4  variable_5  variable_6\n",
       "5          11           0          11          11           0          11\n",
       "0           1           4           7           1           4          12"
      ]
     },
     "execution_count": 52,
     "metadata": {
      "tags": []
     },
     "output_type": "execute_result"
    }
   ],
   "source": [
    "lista[4]"
   ]
  },
  {
   "cell_type": "code",
   "execution_count": null,
   "metadata": {
    "ExecuteTime": {
     "end_time": "2020-10-27T05:08:54.550117Z",
     "start_time": "2020-10-27T05:08:54.514520Z"
    },
    "id": "lRWiyNONkW24",
    "outputId": "ed2b1cfa-1811-411c-bb61-92bd01dbfed6"
   },
   "outputs": [
    {
     "data": {
      "text/html": [
       "<div>\n",
       "<style scoped>\n",
       "    .dataframe tbody tr th:only-of-type {\n",
       "        vertical-align: middle;\n",
       "    }\n",
       "\n",
       "    .dataframe tbody tr th {\n",
       "        vertical-align: top;\n",
       "    }\n",
       "\n",
       "    .dataframe thead th {\n",
       "        text-align: right;\n",
       "    }\n",
       "</style>\n",
       "<table border=\"1\" class=\"dataframe\">\n",
       "  <thead>\n",
       "    <tr style=\"text-align: right;\">\n",
       "      <th></th>\n",
       "      <th>variable_1</th>\n",
       "      <th>variable_2</th>\n",
       "      <th>variable_3</th>\n",
       "      <th>variable_4</th>\n",
       "      <th>variable_5</th>\n",
       "      <th>variable_6</th>\n",
       "    </tr>\n",
       "  </thead>\n",
       "  <tbody>\n",
       "    <tr>\n",
       "      <th>4</th>\n",
       "      <td>7</td>\n",
       "      <td>5</td>\n",
       "      <td>1</td>\n",
       "      <td>767</td>\n",
       "      <td>5</td>\n",
       "      <td>1</td>\n",
       "    </tr>\n",
       "    <tr>\n",
       "      <th>1</th>\n",
       "      <td>2</td>\n",
       "      <td>5</td>\n",
       "      <td>5</td>\n",
       "      <td>200</td>\n",
       "      <td>111</td>\n",
       "      <td>5</td>\n",
       "    </tr>\n",
       "  </tbody>\n",
       "</table>\n",
       "</div>"
      ],
      "text/plain": [
       "   variable_1  variable_2  variable_3  variable_4  variable_5  variable_6\n",
       "4           7           5           1         767           5           1\n",
       "1           2           5           5         200         111           5"
      ]
     },
     "execution_count": 53,
     "metadata": {
      "tags": []
     },
     "output_type": "execute_result"
    }
   ],
   "source": [
    "lista[5]"
   ]
  },
  {
   "cell_type": "code",
   "execution_count": 57,
   "metadata": {
    "ExecuteTime": {
     "end_time": "2020-10-29T23:12:26.586087Z",
     "start_time": "2020-10-29T23:12:26.545848Z"
    }
   },
   "outputs": [
    {
     "data": {
      "text/html": [
       "<div>\n",
       "<style scoped>\n",
       "    .dataframe tbody tr th:only-of-type {\n",
       "        vertical-align: middle;\n",
       "    }\n",
       "\n",
       "    .dataframe tbody tr th {\n",
       "        vertical-align: top;\n",
       "    }\n",
       "\n",
       "    .dataframe thead th {\n",
       "        text-align: right;\n",
       "    }\n",
       "</style>\n",
       "<table border=\"1\" class=\"dataframe\">\n",
       "  <thead>\n",
       "    <tr style=\"text-align: right;\">\n",
       "      <th></th>\n",
       "      <th>variable_1</th>\n",
       "      <th>variable_2</th>\n",
       "      <th>variable_3</th>\n",
       "      <th>variable_4</th>\n",
       "      <th>variable_5</th>\n",
       "      <th>variable_6</th>\n",
       "    </tr>\n",
       "  </thead>\n",
       "  <tbody>\n",
       "    <tr>\n",
       "      <th>0</th>\n",
       "      <td>42</td>\n",
       "      <td>41</td>\n",
       "      <td>39</td>\n",
       "      <td>122</td>\n",
       "      <td>84</td>\n",
       "      <td>122</td>\n",
       "    </tr>\n",
       "    <tr>\n",
       "      <th>1</th>\n",
       "      <td>3</td>\n",
       "      <td>1</td>\n",
       "      <td>129</td>\n",
       "      <td>195</td>\n",
       "      <td>231</td>\n",
       "      <td>152</td>\n",
       "    </tr>\n",
       "    <tr>\n",
       "      <th>2</th>\n",
       "      <td>33</td>\n",
       "      <td>69</td>\n",
       "      <td>6</td>\n",
       "      <td>139</td>\n",
       "      <td>182</td>\n",
       "      <td>200</td>\n",
       "    </tr>\n",
       "    <tr>\n",
       "      <th>3</th>\n",
       "      <td>7</td>\n",
       "      <td>59</td>\n",
       "      <td>56</td>\n",
       "      <td>9</td>\n",
       "      <td>139</td>\n",
       "      <td>81</td>\n",
       "    </tr>\n",
       "    <tr>\n",
       "      <th>4</th>\n",
       "      <td>9</td>\n",
       "      <td>10</td>\n",
       "      <td>32</td>\n",
       "      <td>129</td>\n",
       "      <td>81</td>\n",
       "      <td>249</td>\n",
       "    </tr>\n",
       "  </tbody>\n",
       "</table>\n",
       "</div>"
      ],
      "text/plain": [
       "   variable_1  variable_2  variable_3  variable_4  variable_5  variable_6\n",
       "0          42          41          39         122          84         122\n",
       "1           3           1         129         195         231         152\n",
       "2          33          69           6         139         182         200\n",
       "3           7          59          56           9         139          81\n",
       "4           9          10          32         129          81         249"
      ]
     },
     "execution_count": 57,
     "metadata": {},
     "output_type": "execute_result"
    }
   ],
   "source": [
    "import numpy as np\n",
    "data = {'variable_1':[int(np.random.randint(0,50,1)) for x in range(0,5)],\n",
    "        'variable_2':[int(np.random.randint(0,100,1)) for x in range(0,5)],\n",
    "        'variable_3':[int(np.random.randint(0,150,1)) for x in range(0,5)],\n",
    "        'variable_4':[int(np.random.randint(0,200,1)) for x in range(0,5)],\n",
    "        'variable_5':[int(np.random.randint(0,250,1)) for x in range(0,5)],\n",
    "        'variable_6':[int(np.random.randint(0,300,1)) for x in range(0,5)]}\n",
    "\n",
    "import pandas as pd\n",
    "data = pd.DataFrame(data)\n",
    "data"
   ]
  },
  {
   "cell_type": "code",
   "execution_count": 63,
   "metadata": {
    "ExecuteTime": {
     "end_time": "2020-10-29T23:18:17.783658Z",
     "start_time": "2020-10-29T23:18:17.735709Z"
    }
   },
   "outputs": [
    {
     "data": {
      "text/plain": [
       "[   variable_1  variable_2  variable_3  variable_4  variable_5  variable_6\n",
       " 1           3           1         129         195         231         152\n",
       " 3           7          59          56           9         139          81\n",
       " 4           9          10          32         129          81         249,\n",
       "    variable_1  variable_2  variable_3  variable_4  variable_5  variable_6\n",
       " 1           3           1         129         195         231         152\n",
       " 4           9          10          32         129          81         249\n",
       " 0          42          41          39         122          84         122,\n",
       "    variable_1  variable_2  variable_3  variable_4  variable_5  variable_6\n",
       " 2          33          69           6         139         182         200\n",
       " 4           9          10          32         129          81         249\n",
       " 0          42          41          39         122          84         122,\n",
       "    variable_1  variable_2  variable_3  variable_4  variable_5  variable_6\n",
       " 3           7          59          56           9         139          81\n",
       " 0          42          41          39         122          84         122\n",
       " 4           9          10          32         129          81         249,\n",
       "    variable_1  variable_2  variable_3  variable_4  variable_5  variable_6\n",
       " 4           9          10          32         129          81         249\n",
       " 0          42          41          39         122          84         122\n",
       " 3           7          59          56           9         139          81,\n",
       "    variable_1  variable_2  variable_3  variable_4  variable_5  variable_6\n",
       " 3           7          59          56           9         139          81\n",
       " 0          42          41          39         122          84         122\n",
       " 1           3           1         129         195         231         152]"
      ]
     },
     "execution_count": 63,
     "metadata": {},
     "output_type": "execute_result"
    }
   ],
   "source": [
    "lista = []\n",
    "N = 3\n",
    "def small_2(df):\n",
    "    for j in df.columns:\n",
    "        lista.append(df.sort_values(by = j).iloc[:N,:])\n",
    "    return lista\n",
    "\n",
    "small_2(data)"
   ]
  },
  {
   "cell_type": "code",
   "execution_count": 64,
   "metadata": {
    "ExecuteTime": {
     "end_time": "2020-10-29T23:18:20.215611Z",
     "start_time": "2020-10-29T23:18:20.194822Z"
    }
   },
   "outputs": [
    {
     "data": {
      "text/html": [
       "<div>\n",
       "<style scoped>\n",
       "    .dataframe tbody tr th:only-of-type {\n",
       "        vertical-align: middle;\n",
       "    }\n",
       "\n",
       "    .dataframe tbody tr th {\n",
       "        vertical-align: top;\n",
       "    }\n",
       "\n",
       "    .dataframe thead th {\n",
       "        text-align: right;\n",
       "    }\n",
       "</style>\n",
       "<table border=\"1\" class=\"dataframe\">\n",
       "  <thead>\n",
       "    <tr style=\"text-align: right;\">\n",
       "      <th></th>\n",
       "      <th>variable_1</th>\n",
       "      <th>variable_2</th>\n",
       "      <th>variable_3</th>\n",
       "      <th>variable_4</th>\n",
       "      <th>variable_5</th>\n",
       "      <th>variable_6</th>\n",
       "    </tr>\n",
       "  </thead>\n",
       "  <tbody>\n",
       "    <tr>\n",
       "      <th>3</th>\n",
       "      <td>7</td>\n",
       "      <td>59</td>\n",
       "      <td>56</td>\n",
       "      <td>9</td>\n",
       "      <td>139</td>\n",
       "      <td>81</td>\n",
       "    </tr>\n",
       "    <tr>\n",
       "      <th>0</th>\n",
       "      <td>42</td>\n",
       "      <td>41</td>\n",
       "      <td>39</td>\n",
       "      <td>122</td>\n",
       "      <td>84</td>\n",
       "      <td>122</td>\n",
       "    </tr>\n",
       "    <tr>\n",
       "      <th>4</th>\n",
       "      <td>9</td>\n",
       "      <td>10</td>\n",
       "      <td>32</td>\n",
       "      <td>129</td>\n",
       "      <td>81</td>\n",
       "      <td>249</td>\n",
       "    </tr>\n",
       "  </tbody>\n",
       "</table>\n",
       "</div>"
      ],
      "text/plain": [
       "   variable_1  variable_2  variable_3  variable_4  variable_5  variable_6\n",
       "3           7          59          56           9         139          81\n",
       "0          42          41          39         122          84         122\n",
       "4           9          10          32         129          81         249"
      ]
     },
     "execution_count": 64,
     "metadata": {},
     "output_type": "execute_result"
    }
   ],
   "source": [
    "lista[3]"
   ]
  },
  {
   "cell_type": "markdown",
   "metadata": {
    "id": "VAfexUMokW3G"
   },
   "source": [
    "6)  Función que tenga como parámetro:\n",
    "\n",
    "        -Dataframe con valores enteros o flotantes en todos sus registros\n",
    "    \n",
    "       Retorne un DataFrame de la misma dimension, donde revise columna por columna los registros, si el segundo registro es menor que el primer registro debe remplazar el valor por cero, si no pasa lo anterior debe conservar su valor original,si el tercer registro es menor que el segundo registro debe remplazarlo por cero, si no pasa lo anterior debe conservar su valor original y asi sucesivamente, Esto lo debe hacer columna por columna"
   ]
  },
  {
   "cell_type": "markdown",
   "metadata": {
    "id": "QNYinJCPkW3I"
   },
   "source": [
    "- Input"
   ]
  },
  {
   "cell_type": "code",
   "execution_count": null,
   "metadata": {
    "ExecuteTime": {
     "end_time": "2020-10-27T05:24:03.981371Z",
     "start_time": "2020-10-27T05:24:03.959235Z"
    },
    "id": "h3Sf1HRnkW3K",
    "outputId": "e9717b99-898e-4771-da48-1cac90df1428"
   },
   "outputs": [
    {
     "data": {
      "text/html": [
       "<div>\n",
       "<style scoped>\n",
       "    .dataframe tbody tr th:only-of-type {\n",
       "        vertical-align: middle;\n",
       "    }\n",
       "\n",
       "    .dataframe tbody tr th {\n",
       "        vertical-align: top;\n",
       "    }\n",
       "\n",
       "    .dataframe thead th {\n",
       "        text-align: right;\n",
       "    }\n",
       "</style>\n",
       "<table border=\"1\" class=\"dataframe\">\n",
       "  <thead>\n",
       "    <tr style=\"text-align: right;\">\n",
       "      <th></th>\n",
       "      <th>variable_1</th>\n",
       "      <th>variable_2</th>\n",
       "    </tr>\n",
       "  </thead>\n",
       "  <tbody>\n",
       "    <tr>\n",
       "      <th>0</th>\n",
       "      <td>12</td>\n",
       "      <td>1</td>\n",
       "    </tr>\n",
       "    <tr>\n",
       "      <th>1</th>\n",
       "      <td>23</td>\n",
       "      <td>23</td>\n",
       "    </tr>\n",
       "    <tr>\n",
       "      <th>2</th>\n",
       "      <td>21</td>\n",
       "      <td>21</td>\n",
       "    </tr>\n",
       "    <tr>\n",
       "      <th>3</th>\n",
       "      <td>27</td>\n",
       "      <td>22</td>\n",
       "    </tr>\n",
       "    <tr>\n",
       "      <th>4</th>\n",
       "      <td>32</td>\n",
       "      <td>32</td>\n",
       "    </tr>\n",
       "    <tr>\n",
       "      <th>5</th>\n",
       "      <td>34</td>\n",
       "      <td>34</td>\n",
       "    </tr>\n",
       "    <tr>\n",
       "      <th>6</th>\n",
       "      <td>33</td>\n",
       "      <td>34</td>\n",
       "    </tr>\n",
       "    <tr>\n",
       "      <th>7</th>\n",
       "      <td>34</td>\n",
       "      <td>34</td>\n",
       "    </tr>\n",
       "    <tr>\n",
       "      <th>8</th>\n",
       "      <td>0</td>\n",
       "      <td>0</td>\n",
       "    </tr>\n",
       "    <tr>\n",
       "      <th>9</th>\n",
       "      <td>65</td>\n",
       "      <td>65</td>\n",
       "    </tr>\n",
       "    <tr>\n",
       "      <th>10</th>\n",
       "      <td>22</td>\n",
       "      <td>22</td>\n",
       "    </tr>\n",
       "    <tr>\n",
       "      <th>11</th>\n",
       "      <td>34</td>\n",
       "      <td>134</td>\n",
       "    </tr>\n",
       "    <tr>\n",
       "      <th>12</th>\n",
       "      <td>19</td>\n",
       "      <td>19</td>\n",
       "    </tr>\n",
       "    <tr>\n",
       "      <th>13</th>\n",
       "      <td>31</td>\n",
       "      <td>31</td>\n",
       "    </tr>\n",
       "    <tr>\n",
       "      <th>14</th>\n",
       "      <td>32</td>\n",
       "      <td>3442</td>\n",
       "    </tr>\n",
       "    <tr>\n",
       "      <th>15</th>\n",
       "      <td>2319</td>\n",
       "      <td>19</td>\n",
       "    </tr>\n",
       "  </tbody>\n",
       "</table>\n",
       "</div>"
      ],
      "text/plain": [
       "    variable_1  variable_2\n",
       "0           12           1\n",
       "1           23          23\n",
       "2           21          21\n",
       "3           27          22\n",
       "4           32          32\n",
       "5           34          34\n",
       "6           33          34\n",
       "7           34          34\n",
       "8            0           0\n",
       "9           65          65\n",
       "10          22          22\n",
       "11          34         134\n",
       "12          19          19\n",
       "13          31          31\n",
       "14          32        3442\n",
       "15        2319          19"
      ]
     },
     "execution_count": 84,
     "metadata": {
      "tags": []
     },
     "output_type": "execute_result"
    }
   ],
   "source": [
    "data"
   ]
  },
  {
   "cell_type": "markdown",
   "metadata": {
    "id": "TeOjlnA2kW3a"
   },
   "source": [
    "- Output"
   ]
  },
  {
   "cell_type": "code",
   "execution_count": null,
   "metadata": {
    "ExecuteTime": {
     "end_time": "2020-10-27T05:24:06.688604Z",
     "start_time": "2020-10-27T05:24:06.665213Z"
    },
    "id": "acjifVOJkW3d",
    "outputId": "b7261a8c-d0cb-436b-bbec-847cc8898697"
   },
   "outputs": [
    {
     "data": {
      "text/html": [
       "<div>\n",
       "<style scoped>\n",
       "    .dataframe tbody tr th:only-of-type {\n",
       "        vertical-align: middle;\n",
       "    }\n",
       "\n",
       "    .dataframe tbody tr th {\n",
       "        vertical-align: top;\n",
       "    }\n",
       "\n",
       "    .dataframe thead th {\n",
       "        text-align: right;\n",
       "    }\n",
       "</style>\n",
       "<table border=\"1\" class=\"dataframe\">\n",
       "  <thead>\n",
       "    <tr style=\"text-align: right;\">\n",
       "      <th></th>\n",
       "      <th>variable_1</th>\n",
       "      <th>variable_2</th>\n",
       "    </tr>\n",
       "  </thead>\n",
       "  <tbody>\n",
       "    <tr>\n",
       "      <th>0</th>\n",
       "      <td>12</td>\n",
       "      <td>1</td>\n",
       "    </tr>\n",
       "    <tr>\n",
       "      <th>1</th>\n",
       "      <td>23</td>\n",
       "      <td>23</td>\n",
       "    </tr>\n",
       "    <tr>\n",
       "      <th>2</th>\n",
       "      <td>0</td>\n",
       "      <td>0</td>\n",
       "    </tr>\n",
       "    <tr>\n",
       "      <th>3</th>\n",
       "      <td>27</td>\n",
       "      <td>0</td>\n",
       "    </tr>\n",
       "    <tr>\n",
       "      <th>4</th>\n",
       "      <td>32</td>\n",
       "      <td>32</td>\n",
       "    </tr>\n",
       "    <tr>\n",
       "      <th>5</th>\n",
       "      <td>34</td>\n",
       "      <td>34</td>\n",
       "    </tr>\n",
       "    <tr>\n",
       "      <th>6</th>\n",
       "      <td>0</td>\n",
       "      <td>34</td>\n",
       "    </tr>\n",
       "    <tr>\n",
       "      <th>7</th>\n",
       "      <td>34</td>\n",
       "      <td>34</td>\n",
       "    </tr>\n",
       "    <tr>\n",
       "      <th>8</th>\n",
       "      <td>0</td>\n",
       "      <td>0</td>\n",
       "    </tr>\n",
       "    <tr>\n",
       "      <th>9</th>\n",
       "      <td>65</td>\n",
       "      <td>65</td>\n",
       "    </tr>\n",
       "    <tr>\n",
       "      <th>10</th>\n",
       "      <td>0</td>\n",
       "      <td>0</td>\n",
       "    </tr>\n",
       "    <tr>\n",
       "      <th>11</th>\n",
       "      <td>0</td>\n",
       "      <td>134</td>\n",
       "    </tr>\n",
       "    <tr>\n",
       "      <th>12</th>\n",
       "      <td>0</td>\n",
       "      <td>0</td>\n",
       "    </tr>\n",
       "    <tr>\n",
       "      <th>13</th>\n",
       "      <td>0</td>\n",
       "      <td>0</td>\n",
       "    </tr>\n",
       "    <tr>\n",
       "      <th>14</th>\n",
       "      <td>0</td>\n",
       "      <td>3442</td>\n",
       "    </tr>\n",
       "    <tr>\n",
       "      <th>15</th>\n",
       "      <td>2319</td>\n",
       "      <td>0</td>\n",
       "    </tr>\n",
       "  </tbody>\n",
       "</table>\n",
       "</div>"
      ],
      "text/plain": [
       "    variable_1  variable_2\n",
       "0           12           1\n",
       "1           23          23\n",
       "2            0           0\n",
       "3           27           0\n",
       "4           32          32\n",
       "5           34          34\n",
       "6            0          34\n",
       "7           34          34\n",
       "8            0           0\n",
       "9           65          65\n",
       "10           0           0\n",
       "11           0         134\n",
       "12           0           0\n",
       "13           0           0\n",
       "14           0        3442\n",
       "15        2319           0"
      ]
     },
     "execution_count": 86,
     "metadata": {
      "tags": []
     },
     "output_type": "execute_result"
    }
   ],
   "source": [
    "data"
   ]
  },
  {
   "cell_type": "code",
   "execution_count": 34,
   "metadata": {
    "ExecuteTime": {
     "end_time": "2020-10-29T21:25:53.259726Z",
     "start_time": "2020-10-29T21:25:53.236291Z"
    },
    "id": "fd-J1MJ4kW3r"
   },
   "outputs": [
    {
     "data": {
      "text/html": [
       "<div>\n",
       "<style scoped>\n",
       "    .dataframe tbody tr th:only-of-type {\n",
       "        vertical-align: middle;\n",
       "    }\n",
       "\n",
       "    .dataframe tbody tr th {\n",
       "        vertical-align: top;\n",
       "    }\n",
       "\n",
       "    .dataframe thead th {\n",
       "        text-align: right;\n",
       "    }\n",
       "</style>\n",
       "<table border=\"1\" class=\"dataframe\">\n",
       "  <thead>\n",
       "    <tr style=\"text-align: right;\">\n",
       "      <th></th>\n",
       "      <th>variable_1</th>\n",
       "      <th>variable_2</th>\n",
       "      <th>variable_3</th>\n",
       "    </tr>\n",
       "  </thead>\n",
       "  <tbody>\n",
       "    <tr>\n",
       "      <th>0</th>\n",
       "      <td>15</td>\n",
       "      <td>170</td>\n",
       "      <td>740</td>\n",
       "    </tr>\n",
       "    <tr>\n",
       "      <th>1</th>\n",
       "      <td>98</td>\n",
       "      <td>4</td>\n",
       "      <td>125</td>\n",
       "    </tr>\n",
       "    <tr>\n",
       "      <th>2</th>\n",
       "      <td>61</td>\n",
       "      <td>78</td>\n",
       "      <td>654</td>\n",
       "    </tr>\n",
       "    <tr>\n",
       "      <th>3</th>\n",
       "      <td>52</td>\n",
       "      <td>96</td>\n",
       "      <td>858</td>\n",
       "    </tr>\n",
       "    <tr>\n",
       "      <th>4</th>\n",
       "      <td>75</td>\n",
       "      <td>50</td>\n",
       "      <td>123</td>\n",
       "    </tr>\n",
       "    <tr>\n",
       "      <th>5</th>\n",
       "      <td>74</td>\n",
       "      <td>52</td>\n",
       "      <td>341</td>\n",
       "    </tr>\n",
       "    <tr>\n",
       "      <th>6</th>\n",
       "      <td>38</td>\n",
       "      <td>124</td>\n",
       "      <td>70</td>\n",
       "    </tr>\n",
       "    <tr>\n",
       "      <th>7</th>\n",
       "      <td>65</td>\n",
       "      <td>70</td>\n",
       "      <td>962</td>\n",
       "    </tr>\n",
       "    <tr>\n",
       "      <th>8</th>\n",
       "      <td>95</td>\n",
       "      <td>10</td>\n",
       "      <td>157</td>\n",
       "    </tr>\n",
       "    <tr>\n",
       "      <th>9</th>\n",
       "      <td>80</td>\n",
       "      <td>40</td>\n",
       "      <td>663</td>\n",
       "    </tr>\n",
       "    <tr>\n",
       "      <th>10</th>\n",
       "      <td>7</td>\n",
       "      <td>186</td>\n",
       "      <td>967</td>\n",
       "    </tr>\n",
       "    <tr>\n",
       "      <th>11</th>\n",
       "      <td>46</td>\n",
       "      <td>108</td>\n",
       "      <td>990</td>\n",
       "    </tr>\n",
       "    <tr>\n",
       "      <th>12</th>\n",
       "      <td>78</td>\n",
       "      <td>44</td>\n",
       "      <td>573</td>\n",
       "    </tr>\n",
       "    <tr>\n",
       "      <th>13</th>\n",
       "      <td>0</td>\n",
       "      <td>200</td>\n",
       "      <td>559</td>\n",
       "    </tr>\n",
       "    <tr>\n",
       "      <th>14</th>\n",
       "      <td>16</td>\n",
       "      <td>168</td>\n",
       "      <td>854</td>\n",
       "    </tr>\n",
       "    <tr>\n",
       "      <th>15</th>\n",
       "      <td>6</td>\n",
       "      <td>188</td>\n",
       "      <td>884</td>\n",
       "    </tr>\n",
       "  </tbody>\n",
       "</table>\n",
       "</div>"
      ],
      "text/plain": [
       "    variable_1  variable_2  variable_3\n",
       "0           15         170         740\n",
       "1           98           4         125\n",
       "2           61          78         654\n",
       "3           52          96         858\n",
       "4           75          50         123\n",
       "5           74          52         341\n",
       "6           38         124          70\n",
       "7           65          70         962\n",
       "8           95          10         157\n",
       "9           80          40         663\n",
       "10           7         186         967\n",
       "11          46         108         990\n",
       "12          78          44         573\n",
       "13           0         200         559\n",
       "14          16         168         854\n",
       "15           6         188         884"
      ]
     },
     "execution_count": 34,
     "metadata": {},
     "output_type": "execute_result"
    }
   ],
   "source": [
    "import numpy as np\n",
    "data = {'variable_1':[x for x in range(0,100)],\n",
    "        'variable_2':[x for x in range(200,0,-2)],\n",
    "        'variable_3':[int(np.random.randint(0,1000,1)) for x in range(0,100)]}\n",
    "\n",
    "import pandas as pd\n",
    "data = pd.DataFrame(data).sample(16).reset_index(drop = True)\n",
    "data"
   ]
  },
  {
   "cell_type": "code",
   "execution_count": 35,
   "metadata": {
    "ExecuteTime": {
     "end_time": "2020-10-29T21:25:54.626974Z",
     "start_time": "2020-10-29T21:25:54.608970Z"
    }
   },
   "outputs": [
    {
     "data": {
      "text/html": [
       "<div>\n",
       "<style scoped>\n",
       "    .dataframe tbody tr th:only-of-type {\n",
       "        vertical-align: middle;\n",
       "    }\n",
       "\n",
       "    .dataframe tbody tr th {\n",
       "        vertical-align: top;\n",
       "    }\n",
       "\n",
       "    .dataframe thead th {\n",
       "        text-align: right;\n",
       "    }\n",
       "</style>\n",
       "<table border=\"1\" class=\"dataframe\">\n",
       "  <thead>\n",
       "    <tr style=\"text-align: right;\">\n",
       "      <th></th>\n",
       "      <th>variable_1</th>\n",
       "      <th>variable_2</th>\n",
       "      <th>variable_3</th>\n",
       "    </tr>\n",
       "  </thead>\n",
       "  <tbody>\n",
       "    <tr>\n",
       "      <th>0</th>\n",
       "      <td>15</td>\n",
       "      <td>170</td>\n",
       "      <td>740</td>\n",
       "    </tr>\n",
       "    <tr>\n",
       "      <th>1</th>\n",
       "      <td>98</td>\n",
       "      <td>0</td>\n",
       "      <td>0</td>\n",
       "    </tr>\n",
       "    <tr>\n",
       "      <th>2</th>\n",
       "      <td>0</td>\n",
       "      <td>78</td>\n",
       "      <td>654</td>\n",
       "    </tr>\n",
       "    <tr>\n",
       "      <th>3</th>\n",
       "      <td>0</td>\n",
       "      <td>96</td>\n",
       "      <td>858</td>\n",
       "    </tr>\n",
       "    <tr>\n",
       "      <th>4</th>\n",
       "      <td>75</td>\n",
       "      <td>0</td>\n",
       "      <td>0</td>\n",
       "    </tr>\n",
       "    <tr>\n",
       "      <th>5</th>\n",
       "      <td>0</td>\n",
       "      <td>52</td>\n",
       "      <td>341</td>\n",
       "    </tr>\n",
       "    <tr>\n",
       "      <th>6</th>\n",
       "      <td>0</td>\n",
       "      <td>124</td>\n",
       "      <td>0</td>\n",
       "    </tr>\n",
       "    <tr>\n",
       "      <th>7</th>\n",
       "      <td>65</td>\n",
       "      <td>0</td>\n",
       "      <td>962</td>\n",
       "    </tr>\n",
       "    <tr>\n",
       "      <th>8</th>\n",
       "      <td>95</td>\n",
       "      <td>0</td>\n",
       "      <td>0</td>\n",
       "    </tr>\n",
       "    <tr>\n",
       "      <th>9</th>\n",
       "      <td>0</td>\n",
       "      <td>40</td>\n",
       "      <td>663</td>\n",
       "    </tr>\n",
       "    <tr>\n",
       "      <th>10</th>\n",
       "      <td>0</td>\n",
       "      <td>186</td>\n",
       "      <td>967</td>\n",
       "    </tr>\n",
       "    <tr>\n",
       "      <th>11</th>\n",
       "      <td>46</td>\n",
       "      <td>0</td>\n",
       "      <td>990</td>\n",
       "    </tr>\n",
       "    <tr>\n",
       "      <th>12</th>\n",
       "      <td>78</td>\n",
       "      <td>0</td>\n",
       "      <td>0</td>\n",
       "    </tr>\n",
       "    <tr>\n",
       "      <th>13</th>\n",
       "      <td>0</td>\n",
       "      <td>200</td>\n",
       "      <td>0</td>\n",
       "    </tr>\n",
       "    <tr>\n",
       "      <th>14</th>\n",
       "      <td>16</td>\n",
       "      <td>0</td>\n",
       "      <td>854</td>\n",
       "    </tr>\n",
       "    <tr>\n",
       "      <th>15</th>\n",
       "      <td>0</td>\n",
       "      <td>188</td>\n",
       "      <td>884</td>\n",
       "    </tr>\n",
       "  </tbody>\n",
       "</table>\n",
       "</div>"
      ],
      "text/plain": [
       "    variable_1  variable_2  variable_3\n",
       "0           15         170         740\n",
       "1           98           0           0\n",
       "2            0          78         654\n",
       "3            0          96         858\n",
       "4           75           0           0\n",
       "5            0          52         341\n",
       "6            0         124           0\n",
       "7           65           0         962\n",
       "8           95           0           0\n",
       "9            0          40         663\n",
       "10           0         186         967\n",
       "11          46           0         990\n",
       "12          78           0           0\n",
       "13           0         200           0\n",
       "14          16           0         854\n",
       "15           0         188         884"
      ]
     },
     "execution_count": 35,
     "metadata": {},
     "output_type": "execute_result"
    }
   ],
   "source": [
    "def menor(df):\n",
    "    for j in df.columns: # Para cada columna\n",
    "        aux = [] # Se va a crear una columna vacía\n",
    "        for i in range(len(df)): # Y ahora, iterando cada renglón\n",
    "            if i == 0:\n",
    "                aux.append(df[j][0]) # Si es el primer renglón, dejar el elemento original\n",
    "            else:\n",
    "                if df[j][i] < df[j][i-1]: # Si el elemento analizado es menor vs el renglón anterior\n",
    "                    aux.append(0) # Apilar un 0 en la lista auxiliar\n",
    "                else:\n",
    "                    aux.append(df[j][i]) # De otro modo, dejar el valor original\n",
    "        df[j] = aux # Finalmente, sustituir la columna analizada\n",
    "    return df\n",
    "\n",
    "menor(data)"
   ]
  }
 ],
 "metadata": {
  "colab": {
   "name": "Extra.ipynb",
   "provenance": []
  },
  "kernelspec": {
   "display_name": "Python 3",
   "language": "python",
   "name": "python3"
  },
  "language_info": {
   "codemirror_mode": {
    "name": "ipython",
    "version": 3
   },
   "file_extension": ".py",
   "mimetype": "text/x-python",
   "name": "python",
   "nbconvert_exporter": "python",
   "pygments_lexer": "ipython3",
   "version": "3.8.5"
  },
  "toc": {
   "base_numbering": 1,
   "nav_menu": {},
   "number_sections": true,
   "sideBar": true,
   "skip_h1_title": true,
   "title_cell": "Table of Contents",
   "title_sidebar": "Contents",
   "toc_cell": false,
   "toc_position": {},
   "toc_section_display": true,
   "toc_window_display": true
  },
  "varInspector": {
   "cols": {
    "lenName": 16,
    "lenType": 16,
    "lenVar": 40
   },
   "kernels_config": {
    "python": {
     "delete_cmd_postfix": "",
     "delete_cmd_prefix": "del ",
     "library": "var_list.py",
     "varRefreshCmd": "print(var_dic_list())"
    },
    "r": {
     "delete_cmd_postfix": ") ",
     "delete_cmd_prefix": "rm(",
     "library": "var_list.r",
     "varRefreshCmd": "cat(var_dic_list()) "
    }
   },
   "types_to_exclude": [
    "module",
    "function",
    "builtin_function_or_method",
    "instance",
    "_Feature"
   ],
   "window_display": false
  }
 },
 "nbformat": 4,
 "nbformat_minor": 1
}
