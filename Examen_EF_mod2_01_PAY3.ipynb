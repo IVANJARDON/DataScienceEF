{
 "cells": [
  {
   "cell_type": "markdown",
   "metadata": {},
   "source": [
    "# EXAMEN 1 MOD2 REGRESIÓN LINEAL"
   ]
  },
  {
   "cell_type": "markdown",
   "metadata": {},
   "source": [
    "## Importar"
   ]
  },
  {
   "cell_type": "code",
   "execution_count": 1,
   "metadata": {
    "ExecuteTime": {
     "end_time": "2020-11-11T15:44:39.781244Z",
     "start_time": "2020-11-11T15:44:39.340632Z"
    }
   },
   "outputs": [],
   "source": [
    "# %load basic\n",
    "import pandas as pd\n",
    "import numpy as np\n",
    "import matplotlib.pyplot as plt\n",
    "pd.set_option('display.max_columns',200)"
   ]
  },
  {
   "cell_type": "code",
   "execution_count": 2,
   "metadata": {
    "ExecuteTime": {
     "end_time": "2020-11-11T15:44:39.832204Z",
     "start_time": "2020-11-11T15:44:39.783581Z"
    }
   },
   "outputs": [
    {
     "data": {
      "text/plain": [
       "{'encoding': 'ascii', 'confidence': 1.0, 'language': ''}"
      ]
     },
     "execution_count": 2,
     "metadata": {},
     "output_type": "execute_result"
    }
   ],
   "source": [
    "## Conocer encoding de csv\n",
    "liga = '/home/ef/Documents/Diplomado/EXAMEN02/'\n",
    "import chardet\n",
    "with open(liga + 'train_PAY_AMT3.csv', 'rb') as rawdata:\n",
    "    result = chardet.detect(rawdata.read(10000))\n",
    "result"
   ]
  },
  {
   "cell_type": "code",
   "execution_count": 3,
   "metadata": {
    "ExecuteTime": {
     "end_time": "2020-11-11T15:44:39.870131Z",
     "start_time": "2020-11-11T15:44:39.835236Z"
    }
   },
   "outputs": [
    {
     "data": {
      "text/html": [
       "<div>\n",
       "<style scoped>\n",
       "    .dataframe tbody tr th:only-of-type {\n",
       "        vertical-align: middle;\n",
       "    }\n",
       "\n",
       "    .dataframe tbody tr th {\n",
       "        vertical-align: top;\n",
       "    }\n",
       "\n",
       "    .dataframe thead th {\n",
       "        text-align: right;\n",
       "    }\n",
       "</style>\n",
       "<table border=\"1\" class=\"dataframe\">\n",
       "  <thead>\n",
       "    <tr style=\"text-align: right;\">\n",
       "      <th></th>\n",
       "      <th>CUSTOMER_ID</th>\n",
       "      <th>LIMIT_BAL</th>\n",
       "      <th>SEX</th>\n",
       "      <th>EDUCATION</th>\n",
       "      <th>MARRIAGE</th>\n",
       "      <th>AGE</th>\n",
       "      <th>PAY_4</th>\n",
       "      <th>PAY_5</th>\n",
       "      <th>PAY_6</th>\n",
       "      <th>BILL_AMT3</th>\n",
       "      <th>BILL_AMT4</th>\n",
       "      <th>BILL_AMT5</th>\n",
       "      <th>BILL_AMT6</th>\n",
       "      <th>PAY_AMT3</th>\n",
       "      <th>PAY_AMT4</th>\n",
       "      <th>PAY_AMT5</th>\n",
       "      <th>PAY_AMT6</th>\n",
       "    </tr>\n",
       "  </thead>\n",
       "  <tbody>\n",
       "    <tr>\n",
       "      <th>2508</th>\n",
       "      <td>25104</td>\n",
       "      <td>70000.0</td>\n",
       "      <td>2</td>\n",
       "      <td>2</td>\n",
       "      <td>2</td>\n",
       "      <td>38</td>\n",
       "      <td>0</td>\n",
       "      <td>0</td>\n",
       "      <td>0</td>\n",
       "      <td>24619.0</td>\n",
       "      <td>25107.0</td>\n",
       "      <td>25634.0</td>\n",
       "      <td>26143.0</td>\n",
       "      <td>898.0</td>\n",
       "      <td>931.0</td>\n",
       "      <td>936.0</td>\n",
       "      <td>970.0</td>\n",
       "    </tr>\n",
       "    <tr>\n",
       "      <th>3419</th>\n",
       "      <td>18934</td>\n",
       "      <td>140000.0</td>\n",
       "      <td>2</td>\n",
       "      <td>2</td>\n",
       "      <td>1</td>\n",
       "      <td>32</td>\n",
       "      <td>0</td>\n",
       "      <td>0</td>\n",
       "      <td>0</td>\n",
       "      <td>133779.0</td>\n",
       "      <td>135943.0</td>\n",
       "      <td>111264.0</td>\n",
       "      <td>111785.0</td>\n",
       "      <td>5000.0</td>\n",
       "      <td>5000.0</td>\n",
       "      <td>4500.0</td>\n",
       "      <td>4500.0</td>\n",
       "    </tr>\n",
       "    <tr>\n",
       "      <th>2369</th>\n",
       "      <td>26147</td>\n",
       "      <td>60000.0</td>\n",
       "      <td>2</td>\n",
       "      <td>2</td>\n",
       "      <td>2</td>\n",
       "      <td>31</td>\n",
       "      <td>0</td>\n",
       "      <td>0</td>\n",
       "      <td>0</td>\n",
       "      <td>59626.0</td>\n",
       "      <td>55775.0</td>\n",
       "      <td>28187.0</td>\n",
       "      <td>28978.0</td>\n",
       "      <td>2300.0</td>\n",
       "      <td>1200.0</td>\n",
       "      <td>1200.0</td>\n",
       "      <td>1500.0</td>\n",
       "    </tr>\n",
       "    <tr>\n",
       "      <th>970</th>\n",
       "      <td>1421</td>\n",
       "      <td>80000.0</td>\n",
       "      <td>2</td>\n",
       "      <td>1</td>\n",
       "      <td>2</td>\n",
       "      <td>29</td>\n",
       "      <td>0</td>\n",
       "      <td>-2</td>\n",
       "      <td>-1</td>\n",
       "      <td>4136.0</td>\n",
       "      <td>0.0</td>\n",
       "      <td>0.0</td>\n",
       "      <td>150.0</td>\n",
       "      <td>0.0</td>\n",
       "      <td>0.0</td>\n",
       "      <td>150.0</td>\n",
       "      <td>419.0</td>\n",
       "    </tr>\n",
       "  </tbody>\n",
       "</table>\n",
       "</div>"
      ],
      "text/plain": [
       "      CUSTOMER_ID  LIMIT_BAL  SEX  EDUCATION  MARRIAGE  AGE  PAY_4  PAY_5  \\\n",
       "2508        25104    70000.0    2          2         2   38      0      0   \n",
       "3419        18934   140000.0    2          2         1   32      0      0   \n",
       "2369        26147    60000.0    2          2         2   31      0      0   \n",
       "970          1421    80000.0    2          1         2   29      0     -2   \n",
       "\n",
       "      PAY_6  BILL_AMT3  BILL_AMT4  BILL_AMT5  BILL_AMT6  PAY_AMT3  PAY_AMT4  \\\n",
       "2508      0    24619.0    25107.0    25634.0    26143.0     898.0     931.0   \n",
       "3419      0   133779.0   135943.0   111264.0   111785.0    5000.0    5000.0   \n",
       "2369      0    59626.0    55775.0    28187.0    28978.0    2300.0    1200.0   \n",
       "970      -1     4136.0        0.0        0.0      150.0       0.0       0.0   \n",
       "\n",
       "      PAY_AMT5  PAY_AMT6  \n",
       "2508     936.0     970.0  \n",
       "3419    4500.0    4500.0  \n",
       "2369    1200.0    1500.0  \n",
       "970      150.0     419.0  "
      ]
     },
     "execution_count": 3,
     "metadata": {},
     "output_type": "execute_result"
    }
   ],
   "source": [
    "df = pd.read_csv(liga + 'train_PAY_AMT3.csv',\n",
    "                 encoding = 'ascii',\n",
    "                 sep = '|',\n",
    "                 low_memory = False)\n",
    "df.sample(4)"
   ]
  },
  {
   "cell_type": "code",
   "execution_count": 4,
   "metadata": {
    "ExecuteTime": {
     "end_time": "2020-11-11T15:44:39.904642Z",
     "start_time": "2020-11-11T15:44:39.879235Z"
    }
   },
   "outputs": [
    {
     "name": "stdout",
     "output_type": "stream",
     "text": [
      "<class 'pandas.core.frame.DataFrame'>\n",
      "RangeIndex: 5625 entries, 0 to 5624\n",
      "Data columns (total 16 columns):\n",
      " #   Column     Non-Null Count  Dtype  \n",
      "---  ------     --------------  -----  \n",
      " 0   LIMIT_BAL  5625 non-null   float64\n",
      " 1   SEX        5625 non-null   int64  \n",
      " 2   EDUCATION  5625 non-null   int64  \n",
      " 3   MARRIAGE   5625 non-null   int64  \n",
      " 4   AGE        5625 non-null   int64  \n",
      " 5   PAY_4      5625 non-null   int64  \n",
      " 6   PAY_5      5625 non-null   int64  \n",
      " 7   PAY_6      5625 non-null   int64  \n",
      " 8   BILL_AMT3  5625 non-null   float64\n",
      " 9   BILL_AMT4  5625 non-null   float64\n",
      " 10  BILL_AMT5  5625 non-null   float64\n",
      " 11  BILL_AMT6  5625 non-null   float64\n",
      " 12  PAY_AMT3   5625 non-null   float64\n",
      " 13  PAY_AMT4   5625 non-null   float64\n",
      " 14  PAY_AMT5   5625 non-null   float64\n",
      " 15  PAY_AMT6   5625 non-null   float64\n",
      "dtypes: float64(9), int64(7)\n",
      "memory usage: 703.2 KB\n"
     ]
    }
   ],
   "source": [
    "dim_antes = len(df)\n",
    "df = df.iloc[:,1:].copy()\n",
    "df.info()"
   ]
  },
  {
   "cell_type": "code",
   "execution_count": 5,
   "metadata": {
    "ExecuteTime": {
     "end_time": "2020-11-11T15:44:39.956872Z",
     "start_time": "2020-11-11T15:44:39.908274Z"
    }
   },
   "outputs": [
    {
     "name": "stdout",
     "output_type": "stream",
     "text": [
      "<class 'pandas.core.frame.DataFrame'>\n",
      "RangeIndex: 5625 entries, 0 to 5624\n",
      "Data columns (total 6 columns):\n",
      " #   Column     Non-Null Count  Dtype \n",
      "---  ------     --------------  ----- \n",
      " 0   SEX        5625 non-null   object\n",
      " 1   EDUCATION  5625 non-null   object\n",
      " 2   MARRIAGE   5625 non-null   object\n",
      " 3   PAY_4      5625 non-null   object\n",
      " 4   PAY_5      5625 non-null   object\n",
      " 5   PAY_6      5625 non-null   object\n",
      "dtypes: object(6)\n",
      "memory usage: 263.8+ KB\n"
     ]
    }
   ],
   "source": [
    "cat = list(df.columns[1:8])\n",
    "cat = [x for x in cat if x not in ['AGE']]\n",
    "for col in cat:\n",
    "    df[col] = df[col].astype(str)\n",
    "df[cat].info()"
   ]
  },
  {
   "cell_type": "code",
   "execution_count": 6,
   "metadata": {
    "ExecuteTime": {
     "end_time": "2020-11-11T15:44:39.986939Z",
     "start_time": "2020-11-11T15:44:39.960533Z"
    }
   },
   "outputs": [
    {
     "name": "stdout",
     "output_type": "stream",
     "text": [
      "<class 'pandas.core.frame.DataFrame'>\n",
      "RangeIndex: 5625 entries, 0 to 5624\n",
      "Data columns (total 10 columns):\n",
      " #   Column     Non-Null Count  Dtype  \n",
      "---  ------     --------------  -----  \n",
      " 0   LIMIT_BAL  5625 non-null   float64\n",
      " 1   AGE        5625 non-null   int64  \n",
      " 2   BILL_AMT3  5625 non-null   float64\n",
      " 3   BILL_AMT4  5625 non-null   float64\n",
      " 4   BILL_AMT5  5625 non-null   float64\n",
      " 5   BILL_AMT6  5625 non-null   float64\n",
      " 6   PAY_AMT3   5625 non-null   float64\n",
      " 7   PAY_AMT4   5625 non-null   float64\n",
      " 8   PAY_AMT5   5625 non-null   float64\n",
      " 9   PAY_AMT6   5625 non-null   float64\n",
      "dtypes: float64(9), int64(1)\n",
      "memory usage: 439.6 KB\n"
     ]
    }
   ],
   "source": [
    "num = [col for col in df.columns if col not in cat]\n",
    "df[num].info()"
   ]
  },
  {
   "cell_type": "code",
   "execution_count": 7,
   "metadata": {
    "ExecuteTime": {
     "end_time": "2020-11-11T15:44:39.996962Z",
     "start_time": "2020-11-11T15:44:39.988900Z"
    }
   },
   "outputs": [],
   "source": [
    "pay = [col for col in df.columns if col.startswith('PAY')]\n",
    "pago = [x for x in pay if x.startswith('PAY_AMT')]\n",
    "estatus = [x for x in pay if x not in pago]\n",
    "monto = [col for col in df.columns if col.startswith('BILL')]"
   ]
  },
  {
   "cell_type": "markdown",
   "metadata": {},
   "source": [
    "## Análisis exploratorio"
   ]
  },
  {
   "cell_type": "markdown",
   "metadata": {},
   "source": [
    "### Categóricas"
   ]
  },
  {
   "cell_type": "code",
   "execution_count": 8,
   "metadata": {
    "ExecuteTime": {
     "end_time": "2020-11-11T15:44:40.032982Z",
     "start_time": "2020-11-11T15:44:40.001904Z"
    }
   },
   "outputs": [
    {
     "data": {
      "text/plain": [
       "SEX          0.000000\n",
       "EDUCATION    0.010667\n",
       "MARRIAGE     0.001956\n",
       "PAY_4        0.000000\n",
       "PAY_5        0.000000\n",
       "PAY_6        0.000000\n",
       "dtype: float64"
      ]
     },
     "execution_count": 8,
     "metadata": {},
     "output_type": "execute_result"
    }
   ],
   "source": [
    "## Reemplazar por NaN\n",
    "dict_replace = {'0':np.nan,\n",
    "                '5':np.nan,\n",
    "                '6':np.nan}\n",
    "df['EDUCATION'] = df['EDUCATION'].replace(dict_replace).copy()\n",
    "\n",
    "df['MARRIAGE'] = df['MARRIAGE'].replace(dict_replace).copy()\n",
    "\n",
    "df[cat].isnull().sum() / len(df)"
   ]
  },
  {
   "cell_type": "code",
   "execution_count": 9,
   "metadata": {
    "ExecuteTime": {
     "end_time": "2020-11-11T15:44:40.054942Z",
     "start_time": "2020-11-11T15:44:40.036711Z"
    }
   },
   "outputs": [
    {
     "data": {
      "text/plain": [
       "0.9873777777777778"
      ]
     },
     "execution_count": 9,
     "metadata": {},
     "output_type": "execute_result"
    }
   ],
   "source": [
    "## Se omiten ausentes\n",
    "df.dropna(inplace = True)\n",
    "len(df) / dim_antes"
   ]
  },
  {
   "cell_type": "markdown",
   "metadata": {},
   "source": [
    "### Numéricas"
   ]
  },
  {
   "cell_type": "code",
   "execution_count": 10,
   "metadata": {
    "ExecuteTime": {
     "end_time": "2020-11-11T15:44:41.310502Z",
     "start_time": "2020-11-11T15:44:40.057389Z"
    }
   },
   "outputs": [
    {
     "data": {
      "text/plain": [
       "array([[<AxesSubplot:title={'center':'LIMIT_BAL'}>,\n",
       "        <AxesSubplot:title={'center':'AGE'}>,\n",
       "        <AxesSubplot:title={'center':'BILL_AMT3'}>],\n",
       "       [<AxesSubplot:title={'center':'BILL_AMT4'}>,\n",
       "        <AxesSubplot:title={'center':'BILL_AMT5'}>,\n",
       "        <AxesSubplot:title={'center':'BILL_AMT6'}>],\n",
       "       [<AxesSubplot:title={'center':'PAY_AMT3'}>,\n",
       "        <AxesSubplot:title={'center':'PAY_AMT4'}>,\n",
       "        <AxesSubplot:title={'center':'PAY_AMT5'}>],\n",
       "       [<AxesSubplot:title={'center':'PAY_AMT6'}>, <AxesSubplot:>,\n",
       "        <AxesSubplot:>]], dtype=object)"
      ]
     },
     "execution_count": 10,
     "metadata": {},
     "output_type": "execute_result"
    },
    {
     "data": {
      "image/png": "[encoded data removed]",
      "text/plain": [
       "<Figure size 432x288 with 12 Axes>"
      ]
     },
     "metadata": {
      "needs_background": "light"
     },
     "output_type": "display_data"
    }
   ],
   "source": [
    "df[num].hist()"
   ]
  },
  {
   "cell_type": "code",
   "execution_count": 11,
   "metadata": {
    "ExecuteTime": {
     "end_time": "2020-11-11T15:44:41.322094Z",
     "start_time": "2020-11-11T15:44:41.312763Z"
    }
   },
   "outputs": [
    {
     "data": {
      "text/plain": [
       "0.9873777777777778"
      ]
     },
     "execution_count": 11,
     "metadata": {},
     "output_type": "execute_result"
    }
   ],
   "source": [
    "len(df) / dim_antes"
   ]
  },
  {
   "cell_type": "markdown",
   "metadata": {},
   "source": [
    "## Ingeniería de variables"
   ]
  },
  {
   "cell_type": "markdown",
   "metadata": {},
   "source": [
    "### Numéricas"
   ]
  },
  {
   "cell_type": "code",
   "execution_count": 12,
   "metadata": {
    "ExecuteTime": {
     "end_time": "2020-11-11T15:44:41.482694Z",
     "start_time": "2020-11-11T15:44:41.323860Z"
    }
   },
   "outputs": [
    {
     "data": {
      "text/plain": [
       "count      5554.000000\n",
       "mean      42506.552710\n",
       "std       62986.167311\n",
       "min      -14204.250000\n",
       "25%        3359.000000\n",
       "50%       18432.750000\n",
       "75%       52029.375000\n",
       "max      565044.500000\n",
       "Name: Prom_monto, dtype: float64"
      ]
     },
     "execution_count": 12,
     "metadata": {},
     "output_type": "execute_result"
    }
   ],
   "source": [
    "## Promedio de todos los montos de pago\n",
    "df['Prom_monto'] = df[monto].mean(axis = 1)\n",
    "num += ['Prom_monto']\n",
    "df['Prom_monto'].describe()"
   ]
  },
  {
   "cell_type": "code",
   "execution_count": 13,
   "metadata": {
    "ExecuteTime": {
     "end_time": "2020-11-11T15:44:41.492233Z",
     "start_time": "2020-11-11T15:44:41.485532Z"
    }
   },
   "outputs": [
    {
     "data": {
      "text/plain": [
       "(5554, 17)"
      ]
     },
     "execution_count": 13,
     "metadata": {},
     "output_type": "execute_result"
    }
   ],
   "source": [
    "## Dimensión hasta ahora\n",
    "df.shape"
   ]
  },
  {
   "cell_type": "code",
   "execution_count": 14,
   "metadata": {
    "ExecuteTime": {
     "end_time": "2020-11-11T15:44:41.500088Z",
     "start_time": "2020-11-11T15:44:41.494453Z"
    }
   },
   "outputs": [],
   "source": [
    "df.reset_index(drop = True, inplace = True)"
   ]
  },
  {
   "cell_type": "markdown",
   "metadata": {},
   "source": [
    "### Categóricas"
   ]
  },
  {
   "cell_type": "code",
   "execution_count": 15,
   "metadata": {
    "ExecuteTime": {
     "end_time": "2020-11-11T15:44:41.866487Z",
     "start_time": "2020-11-11T15:44:41.502677Z"
    }
   },
   "outputs": [
    {
     "data": {
      "text/html": [
       "<div>\n",
       "<style scoped>\n",
       "    .dataframe tbody tr th:only-of-type {\n",
       "        vertical-align: middle;\n",
       "    }\n",
       "\n",
       "    .dataframe tbody tr th {\n",
       "        vertical-align: top;\n",
       "    }\n",
       "\n",
       "    .dataframe thead th {\n",
       "        text-align: right;\n",
       "    }\n",
       "</style>\n",
       "<table border=\"1\" class=\"dataframe\">\n",
       "  <thead>\n",
       "    <tr style=\"text-align: right;\">\n",
       "      <th></th>\n",
       "      <th>index</th>\n",
       "      <th>PAY_4</th>\n",
       "    </tr>\n",
       "  </thead>\n",
       "  <tbody>\n",
       "    <tr>\n",
       "      <th>1</th>\n",
       "      <td>-1</td>\n",
       "      <td>0.196255</td>\n",
       "    </tr>\n",
       "    <tr>\n",
       "      <th>2</th>\n",
       "      <td>-2</td>\n",
       "      <td>0.146381</td>\n",
       "    </tr>\n",
       "    <tr>\n",
       "      <th>0</th>\n",
       "      <td>0</td>\n",
       "      <td>0.545013</td>\n",
       "    </tr>\n",
       "    <tr>\n",
       "      <th>3</th>\n",
       "      <td>&gt;=1</td>\n",
       "      <td>0.112351</td>\n",
       "    </tr>\n",
       "  </tbody>\n",
       "</table>\n",
       "</div>"
      ],
      "text/plain": [
       "  index     PAY_4\n",
       "1    -1  0.196255\n",
       "2    -2  0.146381\n",
       "0     0  0.545013\n",
       "3   >=1  0.112351"
      ]
     },
     "metadata": {},
     "output_type": "display_data"
    },
    {
     "data": {
      "text/html": [
       "<div>\n",
       "<style scoped>\n",
       "    .dataframe tbody tr th:only-of-type {\n",
       "        vertical-align: middle;\n",
       "    }\n",
       "\n",
       "    .dataframe tbody tr th {\n",
       "        vertical-align: top;\n",
       "    }\n",
       "\n",
       "    .dataframe thead th {\n",
       "        text-align: right;\n",
       "    }\n",
       "</style>\n",
       "<table border=\"1\" class=\"dataframe\">\n",
       "  <thead>\n",
       "    <tr style=\"text-align: right;\">\n",
       "      <th></th>\n",
       "      <th>index</th>\n",
       "      <th>PAY_5</th>\n",
       "    </tr>\n",
       "  </thead>\n",
       "  <tbody>\n",
       "    <tr>\n",
       "      <th>1</th>\n",
       "      <td>-1</td>\n",
       "      <td>0.184192</td>\n",
       "    </tr>\n",
       "    <tr>\n",
       "      <th>2</th>\n",
       "      <td>-2</td>\n",
       "      <td>0.154123</td>\n",
       "    </tr>\n",
       "    <tr>\n",
       "      <th>0</th>\n",
       "      <td>0</td>\n",
       "      <td>0.570760</td>\n",
       "    </tr>\n",
       "    <tr>\n",
       "      <th>3</th>\n",
       "      <td>&gt;=1</td>\n",
       "      <td>0.090925</td>\n",
       "    </tr>\n",
       "  </tbody>\n",
       "</table>\n",
       "</div>"
      ],
      "text/plain": [
       "  index     PAY_5\n",
       "1    -1  0.184192\n",
       "2    -2  0.154123\n",
       "0     0  0.570760\n",
       "3   >=1  0.090925"
      ]
     },
     "metadata": {},
     "output_type": "display_data"
    },
    {
     "data": {
      "text/html": [
       "<div>\n",
       "<style scoped>\n",
       "    .dataframe tbody tr th:only-of-type {\n",
       "        vertical-align: middle;\n",
       "    }\n",
       "\n",
       "    .dataframe tbody tr th {\n",
       "        vertical-align: top;\n",
       "    }\n",
       "\n",
       "    .dataframe thead th {\n",
       "        text-align: right;\n",
       "    }\n",
       "</style>\n",
       "<table border=\"1\" class=\"dataframe\">\n",
       "  <thead>\n",
       "    <tr style=\"text-align: right;\">\n",
       "      <th></th>\n",
       "      <th>index</th>\n",
       "      <th>PAY_6</th>\n",
       "    </tr>\n",
       "  </thead>\n",
       "  <tbody>\n",
       "    <tr>\n",
       "      <th>1</th>\n",
       "      <td>-1</td>\n",
       "      <td>0.195535</td>\n",
       "    </tr>\n",
       "    <tr>\n",
       "      <th>2</th>\n",
       "      <td>-2</td>\n",
       "      <td>0.165826</td>\n",
       "    </tr>\n",
       "    <tr>\n",
       "      <th>0</th>\n",
       "      <td>0</td>\n",
       "      <td>0.540151</td>\n",
       "    </tr>\n",
       "    <tr>\n",
       "      <th>3</th>\n",
       "      <td>&gt;=1</td>\n",
       "      <td>0.098488</td>\n",
       "    </tr>\n",
       "  </tbody>\n",
       "</table>\n",
       "</div>"
      ],
      "text/plain": [
       "  index     PAY_6\n",
       "1    -1  0.195535\n",
       "2    -2  0.165826\n",
       "0     0  0.540151\n",
       "3   >=1  0.098488"
      ]
     },
     "metadata": {},
     "output_type": "display_data"
    }
   ],
   "source": [
    "for col in estatus:\n",
    "    aux = []\n",
    "    for i in range(len(df)):\n",
    "        if int(df[col][i]) >= 1:\n",
    "            aux.append('>=1')\n",
    "        else:\n",
    "            aux.append(df[col][i])\n",
    "    df[col] = aux\n",
    "\n",
    "for col in estatus:\n",
    "    display(df[col].value_counts(1).reset_index().sort_values(by = 'index'))"
   ]
  },
  {
   "cell_type": "code",
   "execution_count": 16,
   "metadata": {
    "ExecuteTime": {
     "end_time": "2020-11-11T15:44:41.888358Z",
     "start_time": "2020-11-11T15:44:41.871509Z"
    }
   },
   "outputs": [
    {
     "data": {
      "text/plain": [
       "[]"
      ]
     },
     "execution_count": 16,
     "metadata": {},
     "output_type": "execute_result"
    }
   ],
   "source": [
    "[x for x in df.columns if x not in cat + num]"
   ]
  },
  {
   "cell_type": "code",
   "execution_count": 17,
   "metadata": {
    "ExecuteTime": {
     "end_time": "2020-11-11T15:44:41.910120Z",
     "start_time": "2020-11-11T15:44:41.898861Z"
    }
   },
   "outputs": [
    {
     "data": {
      "text/plain": [
       "['PAY_AMT3']"
      ]
     },
     "execution_count": 17,
     "metadata": {},
     "output_type": "execute_result"
    }
   ],
   "source": [
    "## Se define la variable objetivo\n",
    "tgt = ['PAY_AMT3']\n",
    "num = [x for x in num if x not in tgt]\n",
    "[x for x in df.columns if x not in cat + num]"
   ]
  },
  {
   "cell_type": "code",
   "execution_count": 18,
   "metadata": {
    "ExecuteTime": {
     "end_time": "2020-11-11T15:44:41.944731Z",
     "start_time": "2020-11-11T15:44:41.911901Z"
    }
   },
   "outputs": [
    {
     "name": "stdout",
     "output_type": "stream",
     "text": [
      "<class 'pandas.core.frame.DataFrame'>\n",
      "RangeIndex: 5554 entries, 0 to 5553\n",
      "Data columns (total 6 columns):\n",
      " #   Column     Non-Null Count  Dtype \n",
      "---  ------     --------------  ----- \n",
      " 0   SEX        5554 non-null   object\n",
      " 1   EDUCATION  5554 non-null   object\n",
      " 2   MARRIAGE   5554 non-null   object\n",
      " 3   PAY_4      5554 non-null   object\n",
      " 4   PAY_5      5554 non-null   object\n",
      " 5   PAY_6      5554 non-null   object\n",
      "dtypes: object(6)\n",
      "memory usage: 260.5+ KB\n"
     ]
    }
   ],
   "source": [
    "for col in cat[:3]:\n",
    "    df[col] = df[col].astype(int)\n",
    "    df[col] = df[col].astype(str)\n",
    "df[cat].info()"
   ]
  },
  {
   "cell_type": "markdown",
   "metadata": {},
   "source": [
    "## Modelaje"
   ]
  },
  {
   "cell_type": "code",
   "execution_count": 19,
   "metadata": {
    "ExecuteTime": {
     "end_time": "2020-11-11T15:44:41.978731Z",
     "start_time": "2020-11-11T15:44:41.946810Z"
    }
   },
   "outputs": [
    {
     "data": {
      "text/html": [
       "<div>\n",
       "<style scoped>\n",
       "    .dataframe tbody tr th:only-of-type {\n",
       "        vertical-align: middle;\n",
       "    }\n",
       "\n",
       "    .dataframe tbody tr th {\n",
       "        vertical-align: top;\n",
       "    }\n",
       "\n",
       "    .dataframe thead th {\n",
       "        text-align: right;\n",
       "    }\n",
       "</style>\n",
       "<table border=\"1\" class=\"dataframe\">\n",
       "  <thead>\n",
       "    <tr style=\"text-align: right;\">\n",
       "      <th></th>\n",
       "      <th>PAY_AMT3</th>\n",
       "    </tr>\n",
       "  </thead>\n",
       "  <tbody>\n",
       "    <tr>\n",
       "      <th>count</th>\n",
       "      <td>5554.000000</td>\n",
       "    </tr>\n",
       "    <tr>\n",
       "      <th>mean</th>\n",
       "      <td>5325.640619</td>\n",
       "    </tr>\n",
       "    <tr>\n",
       "      <th>std</th>\n",
       "      <td>16311.347401</td>\n",
       "    </tr>\n",
       "    <tr>\n",
       "      <th>min</th>\n",
       "      <td>0.000000</td>\n",
       "    </tr>\n",
       "    <tr>\n",
       "      <th>25%</th>\n",
       "      <td>361.250000</td>\n",
       "    </tr>\n",
       "    <tr>\n",
       "      <th>50%</th>\n",
       "      <td>1700.000000</td>\n",
       "    </tr>\n",
       "    <tr>\n",
       "      <th>75%</th>\n",
       "      <td>4705.500000</td>\n",
       "    </tr>\n",
       "    <tr>\n",
       "      <th>max</th>\n",
       "      <td>397092.000000</td>\n",
       "    </tr>\n",
       "  </tbody>\n",
       "</table>\n",
       "</div>"
      ],
      "text/plain": [
       "            PAY_AMT3\n",
       "count    5554.000000\n",
       "mean     5325.640619\n",
       "std     16311.347401\n",
       "min         0.000000\n",
       "25%       361.250000\n",
       "50%      1700.000000\n",
       "75%      4705.500000\n",
       "max    397092.000000"
      ]
     },
     "execution_count": 19,
     "metadata": {},
     "output_type": "execute_result"
    }
   ],
   "source": [
    "X = pd.get_dummies(df[cat]).join(df[num])\n",
    "y = df[tgt]\n",
    "y.describe()"
   ]
  },
  {
   "cell_type": "code",
   "execution_count": 20,
   "metadata": {
    "ExecuteTime": {
     "end_time": "2020-11-11T15:44:41.984917Z",
     "start_time": "2020-11-11T15:44:41.980921Z"
    }
   },
   "outputs": [
    {
     "data": {
      "text/plain": [
       "(5554, 31)"
      ]
     },
     "execution_count": 20,
     "metadata": {},
     "output_type": "execute_result"
    }
   ],
   "source": [
    "X.shape"
   ]
  },
  {
   "cell_type": "markdown",
   "metadata": {},
   "source": [
    "### Reducción de dimensiones"
   ]
  },
  {
   "cell_type": "code",
   "execution_count": 21,
   "metadata": {
    "ExecuteTime": {
     "end_time": "2020-11-11T15:44:42.637326Z",
     "start_time": "2020-11-11T15:44:41.987574Z"
    }
   },
   "outputs": [
    {
     "name": "stderr",
     "output_type": "stream",
     "text": [
      "/home/ef/Desktop/diplomadus/diplomadus/lib/python3.8/site-packages/sklearn/utils/validation.py:72: DataConversionWarning: A column-vector y was passed when a 1d array was expected. Please change the shape of y to (n_samples, ), for example using ravel().\n",
      "  return f(**kwargs)\n"
     ]
    },
    {
     "data": {
      "text/html": [
       "<div>\n",
       "<style scoped>\n",
       "    .dataframe tbody tr th:only-of-type {\n",
       "        vertical-align: middle;\n",
       "    }\n",
       "\n",
       "    .dataframe tbody tr th {\n",
       "        vertical-align: top;\n",
       "    }\n",
       "\n",
       "    .dataframe thead th {\n",
       "        text-align: right;\n",
       "    }\n",
       "</style>\n",
       "<table border=\"1\" class=\"dataframe\">\n",
       "  <thead>\n",
       "    <tr style=\"text-align: right;\">\n",
       "      <th></th>\n",
       "      <th>SEX_1</th>\n",
       "      <th>SEX_2</th>\n",
       "      <th>EDUCATION_1</th>\n",
       "      <th>EDUCATION_2</th>\n",
       "      <th>EDUCATION_3</th>\n",
       "      <th>EDUCATION_4</th>\n",
       "      <th>MARRIAGE_1</th>\n",
       "      <th>MARRIAGE_2</th>\n",
       "      <th>MARRIAGE_3</th>\n",
       "      <th>PAY_4_-1</th>\n",
       "      <th>PAY_4_-2</th>\n",
       "      <th>PAY_4_0</th>\n",
       "      <th>PAY_4_&gt;=1</th>\n",
       "      <th>PAY_5_-1</th>\n",
       "      <th>PAY_5_-2</th>\n",
       "      <th>PAY_5_0</th>\n",
       "      <th>PAY_5_&gt;=1</th>\n",
       "      <th>PAY_6_-1</th>\n",
       "      <th>PAY_6_-2</th>\n",
       "      <th>PAY_6_0</th>\n",
       "      <th>PAY_6_&gt;=1</th>\n",
       "      <th>LIMIT_BAL</th>\n",
       "      <th>AGE</th>\n",
       "      <th>BILL_AMT3</th>\n",
       "      <th>BILL_AMT4</th>\n",
       "      <th>BILL_AMT5</th>\n",
       "      <th>BILL_AMT6</th>\n",
       "      <th>PAY_AMT4</th>\n",
       "      <th>PAY_AMT5</th>\n",
       "      <th>PAY_AMT6</th>\n",
       "      <th>Prom_monto</th>\n",
       "    </tr>\n",
       "  </thead>\n",
       "  <tbody>\n",
       "    <tr>\n",
       "      <th>count</th>\n",
       "      <td>5554.000000</td>\n",
       "      <td>5554.000000</td>\n",
       "      <td>5554.000000</td>\n",
       "      <td>5554.000000</td>\n",
       "      <td>5554.000000</td>\n",
       "      <td>5554.000000</td>\n",
       "      <td>5554.000000</td>\n",
       "      <td>5554.000000</td>\n",
       "      <td>5554.000000</td>\n",
       "      <td>5554.000000</td>\n",
       "      <td>5554.000000</td>\n",
       "      <td>5554.000000</td>\n",
       "      <td>5554.000000</td>\n",
       "      <td>5554.000000</td>\n",
       "      <td>5554.000000</td>\n",
       "      <td>5554.000000</td>\n",
       "      <td>5554.000000</td>\n",
       "      <td>5554.000000</td>\n",
       "      <td>5554.000000</td>\n",
       "      <td>5554.000000</td>\n",
       "      <td>5554.000000</td>\n",
       "      <td>5554.000000</td>\n",
       "      <td>5554.000000</td>\n",
       "      <td>5.554000e+03</td>\n",
       "      <td>5554.000000</td>\n",
       "      <td>5554.000000</td>\n",
       "      <td>5554.000000</td>\n",
       "      <td>5554.000000</td>\n",
       "      <td>5554.000000</td>\n",
       "      <td>5554.000000</td>\n",
       "      <td>5554.000000</td>\n",
       "    </tr>\n",
       "    <tr>\n",
       "      <th>mean</th>\n",
       "      <td>0.388909</td>\n",
       "      <td>0.611091</td>\n",
       "      <td>0.369644</td>\n",
       "      <td>0.463450</td>\n",
       "      <td>0.161505</td>\n",
       "      <td>0.005402</td>\n",
       "      <td>0.450486</td>\n",
       "      <td>0.539971</td>\n",
       "      <td>0.009543</td>\n",
       "      <td>0.196255</td>\n",
       "      <td>0.146381</td>\n",
       "      <td>0.545013</td>\n",
       "      <td>0.112351</td>\n",
       "      <td>0.184192</td>\n",
       "      <td>0.154123</td>\n",
       "      <td>0.570760</td>\n",
       "      <td>0.090925</td>\n",
       "      <td>0.195535</td>\n",
       "      <td>0.165826</td>\n",
       "      <td>0.540151</td>\n",
       "      <td>0.098488</td>\n",
       "      <td>169601.670868</td>\n",
       "      <td>35.396111</td>\n",
       "      <td>4.704572e+04</td>\n",
       "      <td>43401.088405</td>\n",
       "      <td>40543.888189</td>\n",
       "      <td>39035.514944</td>\n",
       "      <td>4825.793482</td>\n",
       "      <td>4656.699676</td>\n",
       "      <td>5454.285380</td>\n",
       "      <td>42506.552710</td>\n",
       "    </tr>\n",
       "    <tr>\n",
       "      <th>std</th>\n",
       "      <td>0.487546</td>\n",
       "      <td>0.487546</td>\n",
       "      <td>0.482752</td>\n",
       "      <td>0.498707</td>\n",
       "      <td>0.368029</td>\n",
       "      <td>0.073303</td>\n",
       "      <td>0.497587</td>\n",
       "      <td>0.498445</td>\n",
       "      <td>0.097228</td>\n",
       "      <td>0.397199</td>\n",
       "      <td>0.353520</td>\n",
       "      <td>0.498015</td>\n",
       "      <td>0.315827</td>\n",
       "      <td>0.387675</td>\n",
       "      <td>0.361099</td>\n",
       "      <td>0.495012</td>\n",
       "      <td>0.287529</td>\n",
       "      <td>0.396647</td>\n",
       "      <td>0.371958</td>\n",
       "      <td>0.498430</td>\n",
       "      <td>0.298000</td>\n",
       "      <td>129500.614297</td>\n",
       "      <td>9.136642</td>\n",
       "      <td>7.381636e+04</td>\n",
       "      <td>65753.617507</td>\n",
       "      <td>62126.432600</td>\n",
       "      <td>59911.174705</td>\n",
       "      <td>15415.165694</td>\n",
       "      <td>13779.204647</td>\n",
       "      <td>19152.893606</td>\n",
       "      <td>62986.167311</td>\n",
       "    </tr>\n",
       "    <tr>\n",
       "      <th>min</th>\n",
       "      <td>0.000000</td>\n",
       "      <td>0.000000</td>\n",
       "      <td>0.000000</td>\n",
       "      <td>0.000000</td>\n",
       "      <td>0.000000</td>\n",
       "      <td>0.000000</td>\n",
       "      <td>0.000000</td>\n",
       "      <td>0.000000</td>\n",
       "      <td>0.000000</td>\n",
       "      <td>0.000000</td>\n",
       "      <td>0.000000</td>\n",
       "      <td>0.000000</td>\n",
       "      <td>0.000000</td>\n",
       "      <td>0.000000</td>\n",
       "      <td>0.000000</td>\n",
       "      <td>0.000000</td>\n",
       "      <td>0.000000</td>\n",
       "      <td>0.000000</td>\n",
       "      <td>0.000000</td>\n",
       "      <td>0.000000</td>\n",
       "      <td>0.000000</td>\n",
       "      <td>10000.000000</td>\n",
       "      <td>21.000000</td>\n",
       "      <td>-6.150600e+04</td>\n",
       "      <td>-10938.000000</td>\n",
       "      <td>-37594.000000</td>\n",
       "      <td>-21295.000000</td>\n",
       "      <td>0.000000</td>\n",
       "      <td>0.000000</td>\n",
       "      <td>0.000000</td>\n",
       "      <td>-14204.250000</td>\n",
       "    </tr>\n",
       "    <tr>\n",
       "      <th>25%</th>\n",
       "      <td>0.000000</td>\n",
       "      <td>0.000000</td>\n",
       "      <td>0.000000</td>\n",
       "      <td>0.000000</td>\n",
       "      <td>0.000000</td>\n",
       "      <td>0.000000</td>\n",
       "      <td>0.000000</td>\n",
       "      <td>0.000000</td>\n",
       "      <td>0.000000</td>\n",
       "      <td>0.000000</td>\n",
       "      <td>0.000000</td>\n",
       "      <td>0.000000</td>\n",
       "      <td>0.000000</td>\n",
       "      <td>0.000000</td>\n",
       "      <td>0.000000</td>\n",
       "      <td>0.000000</td>\n",
       "      <td>0.000000</td>\n",
       "      <td>0.000000</td>\n",
       "      <td>0.000000</td>\n",
       "      <td>0.000000</td>\n",
       "      <td>0.000000</td>\n",
       "      <td>60000.000000</td>\n",
       "      <td>28.000000</td>\n",
       "      <td>2.400000e+03</td>\n",
       "      <td>2096.750000</td>\n",
       "      <td>1610.500000</td>\n",
       "      <td>1164.750000</td>\n",
       "      <td>285.000000</td>\n",
       "      <td>201.000000</td>\n",
       "      <td>88.750000</td>\n",
       "      <td>3359.000000</td>\n",
       "    </tr>\n",
       "    <tr>\n",
       "      <th>50%</th>\n",
       "      <td>0.000000</td>\n",
       "      <td>1.000000</td>\n",
       "      <td>0.000000</td>\n",
       "      <td>0.000000</td>\n",
       "      <td>0.000000</td>\n",
       "      <td>0.000000</td>\n",
       "      <td>0.000000</td>\n",
       "      <td>1.000000</td>\n",
       "      <td>0.000000</td>\n",
       "      <td>0.000000</td>\n",
       "      <td>0.000000</td>\n",
       "      <td>1.000000</td>\n",
       "      <td>0.000000</td>\n",
       "      <td>0.000000</td>\n",
       "      <td>0.000000</td>\n",
       "      <td>1.000000</td>\n",
       "      <td>0.000000</td>\n",
       "      <td>0.000000</td>\n",
       "      <td>0.000000</td>\n",
       "      <td>1.000000</td>\n",
       "      <td>0.000000</td>\n",
       "      <td>145000.000000</td>\n",
       "      <td>34.000000</td>\n",
       "      <td>1.918500e+04</td>\n",
       "      <td>18481.000000</td>\n",
       "      <td>17150.000000</td>\n",
       "      <td>16170.000000</td>\n",
       "      <td>1500.000000</td>\n",
       "      <td>1500.000000</td>\n",
       "      <td>1500.000000</td>\n",
       "      <td>18432.750000</td>\n",
       "    </tr>\n",
       "    <tr>\n",
       "      <th>75%</th>\n",
       "      <td>1.000000</td>\n",
       "      <td>1.000000</td>\n",
       "      <td>1.000000</td>\n",
       "      <td>1.000000</td>\n",
       "      <td>0.000000</td>\n",
       "      <td>0.000000</td>\n",
       "      <td>1.000000</td>\n",
       "      <td>1.000000</td>\n",
       "      <td>0.000000</td>\n",
       "      <td>0.000000</td>\n",
       "      <td>0.000000</td>\n",
       "      <td>1.000000</td>\n",
       "      <td>0.000000</td>\n",
       "      <td>0.000000</td>\n",
       "      <td>0.000000</td>\n",
       "      <td>1.000000</td>\n",
       "      <td>0.000000</td>\n",
       "      <td>0.000000</td>\n",
       "      <td>0.000000</td>\n",
       "      <td>1.000000</td>\n",
       "      <td>0.000000</td>\n",
       "      <td>240000.000000</td>\n",
       "      <td>41.000000</td>\n",
       "      <td>5.922825e+04</td>\n",
       "      <td>53711.750000</td>\n",
       "      <td>50061.000000</td>\n",
       "      <td>49065.750000</td>\n",
       "      <td>4000.000000</td>\n",
       "      <td>4000.000000</td>\n",
       "      <td>4000.000000</td>\n",
       "      <td>52029.375000</td>\n",
       "    </tr>\n",
       "    <tr>\n",
       "      <th>max</th>\n",
       "      <td>1.000000</td>\n",
       "      <td>1.000000</td>\n",
       "      <td>1.000000</td>\n",
       "      <td>1.000000</td>\n",
       "      <td>1.000000</td>\n",
       "      <td>1.000000</td>\n",
       "      <td>1.000000</td>\n",
       "      <td>1.000000</td>\n",
       "      <td>1.000000</td>\n",
       "      <td>1.000000</td>\n",
       "      <td>1.000000</td>\n",
       "      <td>1.000000</td>\n",
       "      <td>1.000000</td>\n",
       "      <td>1.000000</td>\n",
       "      <td>1.000000</td>\n",
       "      <td>1.000000</td>\n",
       "      <td>1.000000</td>\n",
       "      <td>1.000000</td>\n",
       "      <td>1.000000</td>\n",
       "      <td>1.000000</td>\n",
       "      <td>1.000000</td>\n",
       "      <td>800000.000000</td>\n",
       "      <td>70.000000</td>\n",
       "      <td>1.664089e+06</td>\n",
       "      <td>706864.000000</td>\n",
       "      <td>530672.000000</td>\n",
       "      <td>498316.000000</td>\n",
       "      <td>432130.000000</td>\n",
       "      <td>379267.000000</td>\n",
       "      <td>443001.000000</td>\n",
       "      <td>565044.500000</td>\n",
       "    </tr>\n",
       "  </tbody>\n",
       "</table>\n",
       "</div>"
      ],
      "text/plain": [
       "             SEX_1        SEX_2  EDUCATION_1  EDUCATION_2  EDUCATION_3  \\\n",
       "count  5554.000000  5554.000000  5554.000000  5554.000000  5554.000000   \n",
       "mean      0.388909     0.611091     0.369644     0.463450     0.161505   \n",
       "std       0.487546     0.487546     0.482752     0.498707     0.368029   \n",
       "min       0.000000     0.000000     0.000000     0.000000     0.000000   \n",
       "25%       0.000000     0.000000     0.000000     0.000000     0.000000   \n",
       "50%       0.000000     1.000000     0.000000     0.000000     0.000000   \n",
       "75%       1.000000     1.000000     1.000000     1.000000     0.000000   \n",
       "max       1.000000     1.000000     1.000000     1.000000     1.000000   \n",
       "\n",
       "       EDUCATION_4   MARRIAGE_1   MARRIAGE_2   MARRIAGE_3     PAY_4_-1  \\\n",
       "count  5554.000000  5554.000000  5554.000000  5554.000000  5554.000000   \n",
       "mean      0.005402     0.450486     0.539971     0.009543     0.196255   \n",
       "std       0.073303     0.497587     0.498445     0.097228     0.397199   \n",
       "min       0.000000     0.000000     0.000000     0.000000     0.000000   \n",
       "25%       0.000000     0.000000     0.000000     0.000000     0.000000   \n",
       "50%       0.000000     0.000000     1.000000     0.000000     0.000000   \n",
       "75%       0.000000     1.000000     1.000000     0.000000     0.000000   \n",
       "max       1.000000     1.000000     1.000000     1.000000     1.000000   \n",
       "\n",
       "          PAY_4_-2      PAY_4_0    PAY_4_>=1     PAY_5_-1     PAY_5_-2  \\\n",
       "count  5554.000000  5554.000000  5554.000000  5554.000000  5554.000000   \n",
       "mean      0.146381     0.545013     0.112351     0.184192     0.154123   \n",
       "std       0.353520     0.498015     0.315827     0.387675     0.361099   \n",
       "min       0.000000     0.000000     0.000000     0.000000     0.000000   \n",
       "25%       0.000000     0.000000     0.000000     0.000000     0.000000   \n",
       "50%       0.000000     1.000000     0.000000     0.000000     0.000000   \n",
       "75%       0.000000     1.000000     0.000000     0.000000     0.000000   \n",
       "max       1.000000     1.000000     1.000000     1.000000     1.000000   \n",
       "\n",
       "           PAY_5_0    PAY_5_>=1     PAY_6_-1     PAY_6_-2      PAY_6_0  \\\n",
       "count  5554.000000  5554.000000  5554.000000  5554.000000  5554.000000   \n",
       "mean      0.570760     0.090925     0.195535     0.165826     0.540151   \n",
       "std       0.495012     0.287529     0.396647     0.371958     0.498430   \n",
       "min       0.000000     0.000000     0.000000     0.000000     0.000000   \n",
       "25%       0.000000     0.000000     0.000000     0.000000     0.000000   \n",
       "50%       1.000000     0.000000     0.000000     0.000000     1.000000   \n",
       "75%       1.000000     0.000000     0.000000     0.000000     1.000000   \n",
       "max       1.000000     1.000000     1.000000     1.000000     1.000000   \n",
       "\n",
       "         PAY_6_>=1      LIMIT_BAL          AGE     BILL_AMT3      BILL_AMT4  \\\n",
       "count  5554.000000    5554.000000  5554.000000  5.554000e+03    5554.000000   \n",
       "mean      0.098488  169601.670868    35.396111  4.704572e+04   43401.088405   \n",
       "std       0.298000  129500.614297     9.136642  7.381636e+04   65753.617507   \n",
       "min       0.000000   10000.000000    21.000000 -6.150600e+04  -10938.000000   \n",
       "25%       0.000000   60000.000000    28.000000  2.400000e+03    2096.750000   \n",
       "50%       0.000000  145000.000000    34.000000  1.918500e+04   18481.000000   \n",
       "75%       0.000000  240000.000000    41.000000  5.922825e+04   53711.750000   \n",
       "max       1.000000  800000.000000    70.000000  1.664089e+06  706864.000000   \n",
       "\n",
       "           BILL_AMT5      BILL_AMT6       PAY_AMT4       PAY_AMT5  \\\n",
       "count    5554.000000    5554.000000    5554.000000    5554.000000   \n",
       "mean    40543.888189   39035.514944    4825.793482    4656.699676   \n",
       "std     62126.432600   59911.174705   15415.165694   13779.204647   \n",
       "min    -37594.000000  -21295.000000       0.000000       0.000000   \n",
       "25%      1610.500000    1164.750000     285.000000     201.000000   \n",
       "50%     17150.000000   16170.000000    1500.000000    1500.000000   \n",
       "75%     50061.000000   49065.750000    4000.000000    4000.000000   \n",
       "max    530672.000000  498316.000000  432130.000000  379267.000000   \n",
       "\n",
       "            PAY_AMT6     Prom_monto  \n",
       "count    5554.000000    5554.000000  \n",
       "mean     5454.285380   42506.552710  \n",
       "std     19152.893606   62986.167311  \n",
       "min         0.000000  -14204.250000  \n",
       "25%        88.750000    3359.000000  \n",
       "50%      1500.000000   18432.750000  \n",
       "75%      4000.000000   52029.375000  \n",
       "max    443001.000000  565044.500000  "
      ]
     },
     "execution_count": 21,
     "metadata": {},
     "output_type": "execute_result"
    }
   ],
   "source": [
    "# Se eligirán las mejores variables\n",
    "from sklearn.feature_selection import SelectKBest, f_regression\n",
    "kb = SelectKBest(k = 31, score_func = f_regression)\n",
    "kb.fit(X, y)\n",
    "\n",
    "ls_best = [x for x, y in zip(X.columns, kb.get_support()) if y]\n",
    "X[ls_best].describe()"
   ]
  },
  {
   "cell_type": "code",
   "execution_count": 22,
   "metadata": {
    "ExecuteTime": {
     "end_time": "2020-11-11T15:44:43.326925Z",
     "start_time": "2020-11-11T15:44:42.644884Z"
    }
   },
   "outputs": [
    {
     "data": {
      "text/plain": [
       "<AxesSubplot:>"
      ]
     },
     "execution_count": 22,
     "metadata": {},
     "output_type": "execute_result"
    },
    {
     "data": {
      "image/png": "[encoded data removed]",
      "text/plain": [
       "<Figure size 432x288 with 2 Axes>"
      ]
     },
     "metadata": {
      "needs_background": "light"
     },
     "output_type": "display_data"
    }
   ],
   "source": [
    "import seaborn as sns\n",
    "sns.heatmap(X[ls_best].corr())"
   ]
  },
  {
   "cell_type": "code",
   "execution_count": 23,
   "metadata": {
    "ExecuteTime": {
     "end_time": "2020-11-11T15:44:43.347565Z",
     "start_time": "2020-11-11T15:44:43.337904Z"
    }
   },
   "outputs": [],
   "source": [
    "## Y modificamos la matriz X con las mejores variables\n",
    "X = X[ls_best].copy()"
   ]
  },
  {
   "cell_type": "markdown",
   "metadata": {},
   "source": [
    "### Escalamiento"
   ]
  },
  {
   "cell_type": "code",
   "execution_count": 24,
   "metadata": {
    "ExecuteTime": {
     "end_time": "2020-11-11T15:44:43.379434Z",
     "start_time": "2020-11-11T15:44:43.354029Z"
    }
   },
   "outputs": [
    {
     "data": {
      "text/plain": [
       "0.11124449779911964"
      ]
     },
     "execution_count": 24,
     "metadata": {},
     "output_type": "execute_result"
    }
   ],
   "source": [
    "## Se separan los conjuntos de entrenamiento y prueba\n",
    "from sklearn.model_selection import cross_val_score, train_test_split\n",
    "X_train, X_test, y_train, y_test = train_test_split(X, y,\n",
    "                                                    test_size = 0.1,\n",
    "                                                    random_state = 22)\n",
    "len(y_test) / len(y_train)"
   ]
  },
  {
   "cell_type": "code",
   "execution_count": 25,
   "metadata": {
    "ExecuteTime": {
     "end_time": "2020-11-11T15:44:43.546622Z",
     "start_time": "2020-11-11T15:44:43.380986Z"
    }
   },
   "outputs": [
    {
     "data": {
      "text/html": [
       "<div>\n",
       "<style scoped>\n",
       "    .dataframe tbody tr th:only-of-type {\n",
       "        vertical-align: middle;\n",
       "    }\n",
       "\n",
       "    .dataframe tbody tr th {\n",
       "        vertical-align: top;\n",
       "    }\n",
       "\n",
       "    .dataframe thead th {\n",
       "        text-align: right;\n",
       "    }\n",
       "</style>\n",
       "<table border=\"1\" class=\"dataframe\">\n",
       "  <thead>\n",
       "    <tr style=\"text-align: right;\">\n",
       "      <th></th>\n",
       "      <th>SEX_1</th>\n",
       "      <th>SEX_2</th>\n",
       "      <th>EDUCATION_1</th>\n",
       "      <th>EDUCATION_2</th>\n",
       "      <th>EDUCATION_3</th>\n",
       "      <th>EDUCATION_4</th>\n",
       "      <th>MARRIAGE_1</th>\n",
       "      <th>MARRIAGE_2</th>\n",
       "      <th>MARRIAGE_3</th>\n",
       "      <th>PAY_4_-1</th>\n",
       "      <th>PAY_4_-2</th>\n",
       "      <th>PAY_4_0</th>\n",
       "      <th>PAY_4_&gt;=1</th>\n",
       "      <th>PAY_5_-1</th>\n",
       "      <th>PAY_5_-2</th>\n",
       "      <th>PAY_5_0</th>\n",
       "      <th>PAY_5_&gt;=1</th>\n",
       "      <th>PAY_6_-1</th>\n",
       "      <th>PAY_6_-2</th>\n",
       "      <th>PAY_6_0</th>\n",
       "      <th>PAY_6_&gt;=1</th>\n",
       "      <th>LIMIT_BAL</th>\n",
       "      <th>AGE</th>\n",
       "      <th>BILL_AMT3</th>\n",
       "      <th>BILL_AMT4</th>\n",
       "      <th>BILL_AMT5</th>\n",
       "      <th>BILL_AMT6</th>\n",
       "      <th>PAY_AMT4</th>\n",
       "      <th>PAY_AMT5</th>\n",
       "      <th>PAY_AMT6</th>\n",
       "      <th>Prom_monto</th>\n",
       "    </tr>\n",
       "  </thead>\n",
       "  <tbody>\n",
       "    <tr>\n",
       "      <th>count</th>\n",
       "      <td>4998.000000</td>\n",
       "      <td>4998.000000</td>\n",
       "      <td>4998.000000</td>\n",
       "      <td>4998.000000</td>\n",
       "      <td>4998.000000</td>\n",
       "      <td>4998.000000</td>\n",
       "      <td>4998.00000</td>\n",
       "      <td>4998.000000</td>\n",
       "      <td>4998.000000</td>\n",
       "      <td>4998.000000</td>\n",
       "      <td>4998.000000</td>\n",
       "      <td>4998.000000</td>\n",
       "      <td>4998.000000</td>\n",
       "      <td>4998.000000</td>\n",
       "      <td>4998.000000</td>\n",
       "      <td>4998.000000</td>\n",
       "      <td>4998.000000</td>\n",
       "      <td>4998.000000</td>\n",
       "      <td>4998.000000</td>\n",
       "      <td>4998.000000</td>\n",
       "      <td>4998.000000</td>\n",
       "      <td>4998.000000</td>\n",
       "      <td>4998.000000</td>\n",
       "      <td>4998.000000</td>\n",
       "      <td>4998.000000</td>\n",
       "      <td>4998.000000</td>\n",
       "      <td>4998.000000</td>\n",
       "      <td>4998.000000</td>\n",
       "      <td>4998.000000</td>\n",
       "      <td>4998.000000</td>\n",
       "      <td>4998.000000</td>\n",
       "    </tr>\n",
       "    <tr>\n",
       "      <th>mean</th>\n",
       "      <td>0.388155</td>\n",
       "      <td>0.611845</td>\n",
       "      <td>0.366347</td>\n",
       "      <td>0.463786</td>\n",
       "      <td>0.164266</td>\n",
       "      <td>0.005602</td>\n",
       "      <td>0.44898</td>\n",
       "      <td>0.540816</td>\n",
       "      <td>0.010204</td>\n",
       "      <td>0.198079</td>\n",
       "      <td>0.146859</td>\n",
       "      <td>0.541216</td>\n",
       "      <td>0.113846</td>\n",
       "      <td>0.182873</td>\n",
       "      <td>0.155462</td>\n",
       "      <td>0.570828</td>\n",
       "      <td>0.090836</td>\n",
       "      <td>0.194078</td>\n",
       "      <td>0.167667</td>\n",
       "      <td>0.540616</td>\n",
       "      <td>0.097639</td>\n",
       "      <td>0.202349</td>\n",
       "      <td>0.294546</td>\n",
       "      <td>0.062896</td>\n",
       "      <td>0.075554</td>\n",
       "      <td>0.137459</td>\n",
       "      <td>0.120917</td>\n",
       "      <td>0.011251</td>\n",
       "      <td>0.012369</td>\n",
       "      <td>0.012770</td>\n",
       "      <td>0.097859</td>\n",
       "    </tr>\n",
       "    <tr>\n",
       "      <th>std</th>\n",
       "      <td>0.487379</td>\n",
       "      <td>0.487379</td>\n",
       "      <td>0.481854</td>\n",
       "      <td>0.498737</td>\n",
       "      <td>0.370554</td>\n",
       "      <td>0.074646</td>\n",
       "      <td>0.49744</td>\n",
       "      <td>0.498381</td>\n",
       "      <td>0.100509</td>\n",
       "      <td>0.398592</td>\n",
       "      <td>0.354000</td>\n",
       "      <td>0.498348</td>\n",
       "      <td>0.317655</td>\n",
       "      <td>0.386601</td>\n",
       "      <td>0.362381</td>\n",
       "      <td>0.495007</td>\n",
       "      <td>0.287405</td>\n",
       "      <td>0.395529</td>\n",
       "      <td>0.373608</td>\n",
       "      <td>0.498397</td>\n",
       "      <td>0.296856</td>\n",
       "      <td>0.163763</td>\n",
       "      <td>0.186912</td>\n",
       "      <td>0.042947</td>\n",
       "      <td>0.091290</td>\n",
       "      <td>0.108872</td>\n",
       "      <td>0.119363</td>\n",
       "      <td>0.036444</td>\n",
       "      <td>0.037295</td>\n",
       "      <td>0.043994</td>\n",
       "      <td>0.108342</td>\n",
       "    </tr>\n",
       "    <tr>\n",
       "      <th>min</th>\n",
       "      <td>0.000000</td>\n",
       "      <td>0.000000</td>\n",
       "      <td>0.000000</td>\n",
       "      <td>0.000000</td>\n",
       "      <td>0.000000</td>\n",
       "      <td>0.000000</td>\n",
       "      <td>0.00000</td>\n",
       "      <td>0.000000</td>\n",
       "      <td>0.000000</td>\n",
       "      <td>0.000000</td>\n",
       "      <td>0.000000</td>\n",
       "      <td>0.000000</td>\n",
       "      <td>0.000000</td>\n",
       "      <td>0.000000</td>\n",
       "      <td>0.000000</td>\n",
       "      <td>0.000000</td>\n",
       "      <td>0.000000</td>\n",
       "      <td>0.000000</td>\n",
       "      <td>0.000000</td>\n",
       "      <td>0.000000</td>\n",
       "      <td>0.000000</td>\n",
       "      <td>0.000000</td>\n",
       "      <td>0.000000</td>\n",
       "      <td>0.000000</td>\n",
       "      <td>0.000000</td>\n",
       "      <td>0.000000</td>\n",
       "      <td>0.000000</td>\n",
       "      <td>0.000000</td>\n",
       "      <td>0.000000</td>\n",
       "      <td>0.000000</td>\n",
       "      <td>0.000000</td>\n",
       "    </tr>\n",
       "    <tr>\n",
       "      <th>25%</th>\n",
       "      <td>0.000000</td>\n",
       "      <td>0.000000</td>\n",
       "      <td>0.000000</td>\n",
       "      <td>0.000000</td>\n",
       "      <td>0.000000</td>\n",
       "      <td>0.000000</td>\n",
       "      <td>0.00000</td>\n",
       "      <td>0.000000</td>\n",
       "      <td>0.000000</td>\n",
       "      <td>0.000000</td>\n",
       "      <td>0.000000</td>\n",
       "      <td>0.000000</td>\n",
       "      <td>0.000000</td>\n",
       "      <td>0.000000</td>\n",
       "      <td>0.000000</td>\n",
       "      <td>0.000000</td>\n",
       "      <td>0.000000</td>\n",
       "      <td>0.000000</td>\n",
       "      <td>0.000000</td>\n",
       "      <td>0.000000</td>\n",
       "      <td>0.000000</td>\n",
       "      <td>0.063291</td>\n",
       "      <td>0.142857</td>\n",
       "      <td>0.037034</td>\n",
       "      <td>0.018129</td>\n",
       "      <td>0.069002</td>\n",
       "      <td>0.044959</td>\n",
       "      <td>0.000660</td>\n",
       "      <td>0.000538</td>\n",
       "      <td>0.000143</td>\n",
       "      <td>0.030288</td>\n",
       "    </tr>\n",
       "    <tr>\n",
       "      <th>50%</th>\n",
       "      <td>0.000000</td>\n",
       "      <td>1.000000</td>\n",
       "      <td>0.000000</td>\n",
       "      <td>0.000000</td>\n",
       "      <td>0.000000</td>\n",
       "      <td>0.000000</td>\n",
       "      <td>0.00000</td>\n",
       "      <td>1.000000</td>\n",
       "      <td>0.000000</td>\n",
       "      <td>0.000000</td>\n",
       "      <td>0.000000</td>\n",
       "      <td>1.000000</td>\n",
       "      <td>0.000000</td>\n",
       "      <td>0.000000</td>\n",
       "      <td>0.000000</td>\n",
       "      <td>1.000000</td>\n",
       "      <td>0.000000</td>\n",
       "      <td>0.000000</td>\n",
       "      <td>0.000000</td>\n",
       "      <td>1.000000</td>\n",
       "      <td>0.000000</td>\n",
       "      <td>0.170886</td>\n",
       "      <td>0.265306</td>\n",
       "      <td>0.046811</td>\n",
       "      <td>0.041012</td>\n",
       "      <td>0.096511</td>\n",
       "      <td>0.075335</td>\n",
       "      <td>0.003471</td>\n",
       "      <td>0.003955</td>\n",
       "      <td>0.003555</td>\n",
       "      <td>0.056470</td>\n",
       "    </tr>\n",
       "    <tr>\n",
       "      <th>75%</th>\n",
       "      <td>1.000000</td>\n",
       "      <td>1.000000</td>\n",
       "      <td>1.000000</td>\n",
       "      <td>1.000000</td>\n",
       "      <td>0.000000</td>\n",
       "      <td>0.000000</td>\n",
       "      <td>1.00000</td>\n",
       "      <td>1.000000</td>\n",
       "      <td>0.000000</td>\n",
       "      <td>0.000000</td>\n",
       "      <td>0.000000</td>\n",
       "      <td>1.000000</td>\n",
       "      <td>0.000000</td>\n",
       "      <td>0.000000</td>\n",
       "      <td>0.000000</td>\n",
       "      <td>1.000000</td>\n",
       "      <td>0.000000</td>\n",
       "      <td>0.000000</td>\n",
       "      <td>0.000000</td>\n",
       "      <td>1.000000</td>\n",
       "      <td>0.000000</td>\n",
       "      <td>0.291139</td>\n",
       "      <td>0.408163</td>\n",
       "      <td>0.069967</td>\n",
       "      <td>0.089989</td>\n",
       "      <td>0.154530</td>\n",
       "      <td>0.141788</td>\n",
       "      <td>0.009256</td>\n",
       "      <td>0.010547</td>\n",
       "      <td>0.009479</td>\n",
       "      <td>0.114496</td>\n",
       "    </tr>\n",
       "    <tr>\n",
       "      <th>max</th>\n",
       "      <td>1.000000</td>\n",
       "      <td>1.000000</td>\n",
       "      <td>1.000000</td>\n",
       "      <td>1.000000</td>\n",
       "      <td>1.000000</td>\n",
       "      <td>1.000000</td>\n",
       "      <td>1.00000</td>\n",
       "      <td>1.000000</td>\n",
       "      <td>1.000000</td>\n",
       "      <td>1.000000</td>\n",
       "      <td>1.000000</td>\n",
       "      <td>1.000000</td>\n",
       "      <td>1.000000</td>\n",
       "      <td>1.000000</td>\n",
       "      <td>1.000000</td>\n",
       "      <td>1.000000</td>\n",
       "      <td>1.000000</td>\n",
       "      <td>1.000000</td>\n",
       "      <td>1.000000</td>\n",
       "      <td>1.000000</td>\n",
       "      <td>1.000000</td>\n",
       "      <td>1.000000</td>\n",
       "      <td>1.000000</td>\n",
       "      <td>1.000000</td>\n",
       "      <td>1.000000</td>\n",
       "      <td>1.000000</td>\n",
       "      <td>1.000000</td>\n",
       "      <td>1.000000</td>\n",
       "      <td>1.000000</td>\n",
       "      <td>1.000000</td>\n",
       "      <td>1.000000</td>\n",
       "    </tr>\n",
       "  </tbody>\n",
       "</table>\n",
       "</div>"
      ],
      "text/plain": [
       "             SEX_1        SEX_2  EDUCATION_1  EDUCATION_2  EDUCATION_3  \\\n",
       "count  4998.000000  4998.000000  4998.000000  4998.000000  4998.000000   \n",
       "mean      0.388155     0.611845     0.366347     0.463786     0.164266   \n",
       "std       0.487379     0.487379     0.481854     0.498737     0.370554   \n",
       "min       0.000000     0.000000     0.000000     0.000000     0.000000   \n",
       "25%       0.000000     0.000000     0.000000     0.000000     0.000000   \n",
       "50%       0.000000     1.000000     0.000000     0.000000     0.000000   \n",
       "75%       1.000000     1.000000     1.000000     1.000000     0.000000   \n",
       "max       1.000000     1.000000     1.000000     1.000000     1.000000   \n",
       "\n",
       "       EDUCATION_4  MARRIAGE_1   MARRIAGE_2   MARRIAGE_3     PAY_4_-1  \\\n",
       "count  4998.000000  4998.00000  4998.000000  4998.000000  4998.000000   \n",
       "mean      0.005602     0.44898     0.540816     0.010204     0.198079   \n",
       "std       0.074646     0.49744     0.498381     0.100509     0.398592   \n",
       "min       0.000000     0.00000     0.000000     0.000000     0.000000   \n",
       "25%       0.000000     0.00000     0.000000     0.000000     0.000000   \n",
       "50%       0.000000     0.00000     1.000000     0.000000     0.000000   \n",
       "75%       0.000000     1.00000     1.000000     0.000000     0.000000   \n",
       "max       1.000000     1.00000     1.000000     1.000000     1.000000   \n",
       "\n",
       "          PAY_4_-2      PAY_4_0    PAY_4_>=1     PAY_5_-1     PAY_5_-2  \\\n",
       "count  4998.000000  4998.000000  4998.000000  4998.000000  4998.000000   \n",
       "mean      0.146859     0.541216     0.113846     0.182873     0.155462   \n",
       "std       0.354000     0.498348     0.317655     0.386601     0.362381   \n",
       "min       0.000000     0.000000     0.000000     0.000000     0.000000   \n",
       "25%       0.000000     0.000000     0.000000     0.000000     0.000000   \n",
       "50%       0.000000     1.000000     0.000000     0.000000     0.000000   \n",
       "75%       0.000000     1.000000     0.000000     0.000000     0.000000   \n",
       "max       1.000000     1.000000     1.000000     1.000000     1.000000   \n",
       "\n",
       "           PAY_5_0    PAY_5_>=1     PAY_6_-1     PAY_6_-2      PAY_6_0  \\\n",
       "count  4998.000000  4998.000000  4998.000000  4998.000000  4998.000000   \n",
       "mean      0.570828     0.090836     0.194078     0.167667     0.540616   \n",
       "std       0.495007     0.287405     0.395529     0.373608     0.498397   \n",
       "min       0.000000     0.000000     0.000000     0.000000     0.000000   \n",
       "25%       0.000000     0.000000     0.000000     0.000000     0.000000   \n",
       "50%       1.000000     0.000000     0.000000     0.000000     1.000000   \n",
       "75%       1.000000     0.000000     0.000000     0.000000     1.000000   \n",
       "max       1.000000     1.000000     1.000000     1.000000     1.000000   \n",
       "\n",
       "         PAY_6_>=1    LIMIT_BAL          AGE    BILL_AMT3    BILL_AMT4  \\\n",
       "count  4998.000000  4998.000000  4998.000000  4998.000000  4998.000000   \n",
       "mean      0.097639     0.202349     0.294546     0.062896     0.075554   \n",
       "std       0.296856     0.163763     0.186912     0.042947     0.091290   \n",
       "min       0.000000     0.000000     0.000000     0.000000     0.000000   \n",
       "25%       0.000000     0.063291     0.142857     0.037034     0.018129   \n",
       "50%       0.000000     0.170886     0.265306     0.046811     0.041012   \n",
       "75%       0.000000     0.291139     0.408163     0.069967     0.089989   \n",
       "max       1.000000     1.000000     1.000000     1.000000     1.000000   \n",
       "\n",
       "         BILL_AMT5    BILL_AMT6     PAY_AMT4     PAY_AMT5     PAY_AMT6  \\\n",
       "count  4998.000000  4998.000000  4998.000000  4998.000000  4998.000000   \n",
       "mean      0.137459     0.120917     0.011251     0.012369     0.012770   \n",
       "std       0.108872     0.119363     0.036444     0.037295     0.043994   \n",
       "min       0.000000     0.000000     0.000000     0.000000     0.000000   \n",
       "25%       0.069002     0.044959     0.000660     0.000538     0.000143   \n",
       "50%       0.096511     0.075335     0.003471     0.003955     0.003555   \n",
       "75%       0.154530     0.141788     0.009256     0.010547     0.009479   \n",
       "max       1.000000     1.000000     1.000000     1.000000     1.000000   \n",
       "\n",
       "        Prom_monto  \n",
       "count  4998.000000  \n",
       "mean      0.097859  \n",
       "std       0.108342  \n",
       "min       0.000000  \n",
       "25%       0.030288  \n",
       "50%       0.056470  \n",
       "75%       0.114496  \n",
       "max       1.000000  "
      ]
     },
     "execution_count": 25,
     "metadata": {},
     "output_type": "execute_result"
    }
   ],
   "source": [
    "from sklearn.preprocessing import MinMaxScaler\n",
    "mm_x = MinMaxScaler()\n",
    "mm_y = MinMaxScaler()\n",
    "\n",
    "## En train se ajusta y transforma\n",
    "X = pd.DataFrame(mm_x.fit_transform(X_train),\n",
    "                 columns = X.columns)\n",
    "y = mm_y.fit_transform(y_train)\n",
    "\n",
    "## Y en test sólo se transforma\n",
    "X_test_mm = pd.DataFrame(mm_x.transform(X_test),\n",
    "                         columns = X.columns)\n",
    "y_test_mm = mm_y.transform(y_test)\n",
    "\n",
    "X.describe()"
   ]
  },
  {
   "cell_type": "markdown",
   "metadata": {},
   "source": [
    "### Entrenamiento"
   ]
  },
  {
   "cell_type": "code",
   "execution_count": 26,
   "metadata": {
    "ExecuteTime": {
     "end_time": "2020-11-11T15:44:47.137159Z",
     "start_time": "2020-11-11T15:44:43.548526Z"
    }
   },
   "outputs": [
    {
     "data": {
      "text/plain": [
       "(0.23986669065162583, 0.06809637231293285)"
      ]
     },
     "execution_count": 26,
     "metadata": {},
     "output_type": "execute_result"
    }
   ],
   "source": [
    "from sklearn.linear_model import Ridge\n",
    "ridge = Ridge(alpha = 1)\n",
    "ridge.fit(X, y)\n",
    "ridge_res = cross_val_score(estimator = ridge,\n",
    "                         X = X,\n",
    "                         y = y,\n",
    "                         cv = 3,\n",
    "                         n_jobs = -1,\n",
    "                         scoring = \"r2\")\n",
    "\n",
    "np.mean(ridge_res), np.std(ridge_res)"
   ]
  },
  {
   "cell_type": "markdown",
   "metadata": {},
   "source": [
    "### Hiper-parametrización"
   ]
  },
  {
   "cell_type": "code",
   "execution_count": 27,
   "metadata": {
    "ExecuteTime": {
     "end_time": "2020-11-11T15:45:29.947999Z",
     "start_time": "2020-11-11T15:44:47.139963Z"
    }
   },
   "outputs": [
    {
     "name": "stderr",
     "output_type": "stream",
     "text": [
      "<ipython-input-27-6d628a40b7e8>:9: UserWarning: With alpha=0, this algorithm does not converge well. You are advised to use the LinearRegression estimator\n",
      "  elasnet_h.fit(X, y)\n",
      "/home/ef/Desktop/diplomadus/diplomadus/lib/python3.8/site-packages/sklearn/linear_model/_coordinate_descent.py:529: UserWarning: Coordinate descent with no regularization may lead to unexpected results and is discouraged.\n",
      "  model = cd_fast.enet_coordinate_descent(\n",
      "/home/ef/Desktop/diplomadus/diplomadus/lib/python3.8/site-packages/sklearn/linear_model/_coordinate_descent.py:529: ConvergenceWarning: Objective did not converge. You might want to increase the number of iterations. Duality gap: 2.713222984039492, tolerance: 0.0008325936760773317\n",
      "  model = cd_fast.enet_coordinate_descent(\n",
      "<ipython-input-27-6d628a40b7e8>:9: UserWarning: With alpha=0, this algorithm does not converge well. You are advised to use the LinearRegression estimator\n",
      "  elasnet_h.fit(X, y)\n",
      "/home/ef/Desktop/diplomadus/diplomadus/lib/python3.8/site-packages/sklearn/linear_model/_coordinate_descent.py:529: UserWarning: Coordinate descent with no regularization may lead to unexpected results and is discouraged.\n",
      "  model = cd_fast.enet_coordinate_descent(\n",
      "/home/ef/Desktop/diplomadus/diplomadus/lib/python3.8/site-packages/sklearn/linear_model/_coordinate_descent.py:529: ConvergenceWarning: Objective did not converge. You might want to increase the number of iterations. Duality gap: 2.713222984039492, tolerance: 0.0008325936760773317\n",
      "  model = cd_fast.enet_coordinate_descent(\n",
      "<ipython-input-27-6d628a40b7e8>:9: UserWarning: With alpha=0, this algorithm does not converge well. You are advised to use the LinearRegression estimator\n",
      "  elasnet_h.fit(X, y)\n",
      "/home/ef/Desktop/diplomadus/diplomadus/lib/python3.8/site-packages/sklearn/linear_model/_coordinate_descent.py:529: UserWarning: Coordinate descent with no regularization may lead to unexpected results and is discouraged.\n",
      "  model = cd_fast.enet_coordinate_descent(\n",
      "/home/ef/Desktop/diplomadus/diplomadus/lib/python3.8/site-packages/sklearn/linear_model/_coordinate_descent.py:529: ConvergenceWarning: Objective did not converge. You might want to increase the number of iterations. Duality gap: 2.713222984039492, tolerance: 0.0008325936760773317\n",
      "  model = cd_fast.enet_coordinate_descent(\n",
      "<ipython-input-27-6d628a40b7e8>:9: UserWarning: With alpha=0, this algorithm does not converge well. You are advised to use the LinearRegression estimator\n",
      "  elasnet_h.fit(X, y)\n",
      "/home/ef/Desktop/diplomadus/diplomadus/lib/python3.8/site-packages/sklearn/linear_model/_coordinate_descent.py:529: UserWarning: Coordinate descent with no regularization may lead to unexpected results and is discouraged.\n",
      "  model = cd_fast.enet_coordinate_descent(\n",
      "/home/ef/Desktop/diplomadus/diplomadus/lib/python3.8/site-packages/sklearn/linear_model/_coordinate_descent.py:529: ConvergenceWarning: Objective did not converge. You might want to increase the number of iterations. Duality gap: 2.713222984039492, tolerance: 0.0008325936760773317\n",
      "  model = cd_fast.enet_coordinate_descent(\n",
      "<ipython-input-27-6d628a40b7e8>:9: UserWarning: With alpha=0, this algorithm does not converge well. You are advised to use the LinearRegression estimator\n",
      "  elasnet_h.fit(X, y)\n",
      "/home/ef/Desktop/diplomadus/diplomadus/lib/python3.8/site-packages/sklearn/linear_model/_coordinate_descent.py:529: UserWarning: Coordinate descent with no regularization may lead to unexpected results and is discouraged.\n",
      "  model = cd_fast.enet_coordinate_descent(\n",
      "/home/ef/Desktop/diplomadus/diplomadus/lib/python3.8/site-packages/sklearn/linear_model/_coordinate_descent.py:529: ConvergenceWarning: Objective did not converge. You might want to increase the number of iterations. Duality gap: 2.713222984039492, tolerance: 0.0008325936760773317\n",
      "  model = cd_fast.enet_coordinate_descent(\n",
      "<ipython-input-27-6d628a40b7e8>:9: UserWarning: With alpha=0, this algorithm does not converge well. You are advised to use the LinearRegression estimator\n",
      "  elasnet_h.fit(X, y)\n",
      "/home/ef/Desktop/diplomadus/diplomadus/lib/python3.8/site-packages/sklearn/linear_model/_coordinate_descent.py:529: UserWarning: Coordinate descent with no regularization may lead to unexpected results and is discouraged.\n",
      "  model = cd_fast.enet_coordinate_descent(\n",
      "/home/ef/Desktop/diplomadus/diplomadus/lib/python3.8/site-packages/sklearn/linear_model/_coordinate_descent.py:529: ConvergenceWarning: Objective did not converge. You might want to increase the number of iterations. Duality gap: 2.713222984039492, tolerance: 0.0008325936760773317\n",
      "  model = cd_fast.enet_coordinate_descent(\n",
      "<ipython-input-27-6d628a40b7e8>:9: UserWarning: With alpha=0, this algorithm does not converge well. You are advised to use the LinearRegression estimator\n",
      "  elasnet_h.fit(X, y)\n",
      "/home/ef/Desktop/diplomadus/diplomadus/lib/python3.8/site-packages/sklearn/linear_model/_coordinate_descent.py:529: UserWarning: Coordinate descent with no regularization may lead to unexpected results and is discouraged.\n",
      "  model = cd_fast.enet_coordinate_descent(\n",
      "/home/ef/Desktop/diplomadus/diplomadus/lib/python3.8/site-packages/sklearn/linear_model/_coordinate_descent.py:529: ConvergenceWarning: Objective did not converge. You might want to increase the number of iterations. Duality gap: 2.713222984039492, tolerance: 0.0008325936760773317\n",
      "  model = cd_fast.enet_coordinate_descent(\n",
      "<ipython-input-27-6d628a40b7e8>:9: UserWarning: With alpha=0, this algorithm does not converge well. You are advised to use the LinearRegression estimator\n",
      "  elasnet_h.fit(X, y)\n",
      "/home/ef/Desktop/diplomadus/diplomadus/lib/python3.8/site-packages/sklearn/linear_model/_coordinate_descent.py:529: UserWarning: Coordinate descent with no regularization may lead to unexpected results and is discouraged.\n",
      "  model = cd_fast.enet_coordinate_descent(\n",
      "/home/ef/Desktop/diplomadus/diplomadus/lib/python3.8/site-packages/sklearn/linear_model/_coordinate_descent.py:529: ConvergenceWarning: Objective did not converge. You might want to increase the number of iterations. Duality gap: 2.713222984039492, tolerance: 0.0008325936760773317\n",
      "  model = cd_fast.enet_coordinate_descent(\n",
      "<ipython-input-27-6d628a40b7e8>:9: UserWarning: With alpha=0, this algorithm does not converge well. You are advised to use the LinearRegression estimator\n",
      "  elasnet_h.fit(X, y)\n",
      "/home/ef/Desktop/diplomadus/diplomadus/lib/python3.8/site-packages/sklearn/linear_model/_coordinate_descent.py:529: UserWarning: Coordinate descent with no regularization may lead to unexpected results and is discouraged.\n",
      "  model = cd_fast.enet_coordinate_descent(\n",
      "/home/ef/Desktop/diplomadus/diplomadus/lib/python3.8/site-packages/sklearn/linear_model/_coordinate_descent.py:529: ConvergenceWarning: Objective did not converge. You might want to increase the number of iterations. Duality gap: 2.713222984039492, tolerance: 0.0008325936760773317\n",
      "  model = cd_fast.enet_coordinate_descent(\n",
      "<ipython-input-27-6d628a40b7e8>:9: UserWarning: With alpha=0, this algorithm does not converge well. You are advised to use the LinearRegression estimator\n",
      "  elasnet_h.fit(X, y)\n",
      "/home/ef/Desktop/diplomadus/diplomadus/lib/python3.8/site-packages/sklearn/linear_model/_coordinate_descent.py:529: UserWarning: Coordinate descent with no regularization may lead to unexpected results and is discouraged.\n",
      "  model = cd_fast.enet_coordinate_descent(\n",
      "/home/ef/Desktop/diplomadus/diplomadus/lib/python3.8/site-packages/sklearn/linear_model/_coordinate_descent.py:529: ConvergenceWarning: Objective did not converge. You might want to increase the number of iterations. Duality gap: 2.713222984039492, tolerance: 0.0008325936760773317\n",
      "  model = cd_fast.enet_coordinate_descent(\n",
      "/home/ef/Desktop/diplomadus/diplomadus/lib/python3.8/site-packages/sklearn/linear_model/_coordinate_descent.py:529: ConvergenceWarning: Objective did not converge. You might want to increase the number of iterations. Duality gap: 4.156097102016626, tolerance: 0.0008325936760773317\n",
      "  model = cd_fast.enet_coordinate_descent(\n",
      "/home/ef/Desktop/diplomadus/diplomadus/lib/python3.8/site-packages/sklearn/linear_model/_coordinate_descent.py:529: ConvergenceWarning: Objective did not converge. You might want to increase the number of iterations. Duality gap: 4.159494809222287, tolerance: 0.0008325936760773317\n",
      "  model = cd_fast.enet_coordinate_descent(\n"
     ]
    },
    {
     "name": "stderr",
     "output_type": "stream",
     "text": [
      "/home/ef/Desktop/diplomadus/diplomadus/lib/python3.8/site-packages/sklearn/linear_model/_coordinate_descent.py:529: ConvergenceWarning: Objective did not converge. You might want to increase the number of iterations. Duality gap: 4.160644020484794, tolerance: 0.0008325936760773317\n",
      "  model = cd_fast.enet_coordinate_descent(\n",
      "/home/ef/Desktop/diplomadus/diplomadus/lib/python3.8/site-packages/sklearn/linear_model/_coordinate_descent.py:529: ConvergenceWarning: Objective did not converge. You might want to increase the number of iterations. Duality gap: 4.161221836713498, tolerance: 0.0008325936760773317\n",
      "  model = cd_fast.enet_coordinate_descent(\n",
      "/home/ef/Desktop/diplomadus/diplomadus/lib/python3.8/site-packages/sklearn/linear_model/_coordinate_descent.py:529: ConvergenceWarning: Objective did not converge. You might want to increase the number of iterations. Duality gap: 4.161569565844911, tolerance: 0.0008325936760773317\n",
      "  model = cd_fast.enet_coordinate_descent(\n",
      "/home/ef/Desktop/diplomadus/diplomadus/lib/python3.8/site-packages/sklearn/linear_model/_coordinate_descent.py:529: ConvergenceWarning: Objective did not converge. You might want to increase the number of iterations. Duality gap: 4.1618018211717125, tolerance: 0.0008325936760773317\n",
      "  model = cd_fast.enet_coordinate_descent(\n",
      "/home/ef/Desktop/diplomadus/diplomadus/lib/python3.8/site-packages/sklearn/linear_model/_coordinate_descent.py:529: ConvergenceWarning: Objective did not converge. You might want to increase the number of iterations. Duality gap: 4.161967932236649, tolerance: 0.0008325936760773317\n",
      "  model = cd_fast.enet_coordinate_descent(\n",
      "/home/ef/Desktop/diplomadus/diplomadus/lib/python3.8/site-packages/sklearn/linear_model/_coordinate_descent.py:529: ConvergenceWarning: Objective did not converge. You might want to increase the number of iterations. Duality gap: 4.162092633132906, tolerance: 0.0008325936760773317\n",
      "  model = cd_fast.enet_coordinate_descent(\n",
      "/home/ef/Desktop/diplomadus/diplomadus/lib/python3.8/site-packages/sklearn/linear_model/_coordinate_descent.py:529: ConvergenceWarning: Objective did not converge. You might want to increase the number of iterations. Duality gap: 4.162189692558861, tolerance: 0.0008325936760773317\n",
      "  model = cd_fast.enet_coordinate_descent(\n"
     ]
    }
   ],
   "source": [
    "from sklearn.linear_model import ElasticNet\n",
    "\n",
    "## Se crea un DF para almacenar scores con diferentes parámetros\n",
    "df_res = pd.DataFrame(columns=[\"alpha\", \"l1_ratio\", \"score\", \"std\"])\n",
    "contador = 0\n",
    "for i in range(0, 100, 10):\n",
    "    for j in range(10):\n",
    "        elasnet_h = ElasticNet(alpha=i, l1_ratio=j/10)\n",
    "        elasnet_h.fit(X, y)\n",
    "        ls_res = cross_val_score(estimator = elasnet_h, \n",
    "                                 X = X, \n",
    "                                 y = y, \n",
    "                                 cv = 3, \n",
    "                                 n_jobs = -1,\n",
    "                                 scoring = \"r2\")\n",
    "        df_res.loc[contador, \"alpha\"] = i\n",
    "        df_res.loc[contador, \"l1_ratio\"] = j\n",
    "        df_res.loc[contador, \"score\"] = np.mean(ls_res)\n",
    "        df_res.loc[contador, \"std\"] = np.std(ls_res)\n",
    "        contador += 1\n",
    "\n",
    "## Se ordena dicho DF\n",
    "df_res = df_res.sort_values(by = 'score',\n",
    "                            ascending = False).copy().head(5)\n",
    "\n",
    "## Se guardan los parámetros del mejor score\n",
    "alphas = df_res.iloc[0,0]\n",
    "l1_ratios = df_res.iloc[0,1]"
   ]
  },
  {
   "cell_type": "code",
   "execution_count": 28,
   "metadata": {
    "ExecuteTime": {
     "end_time": "2020-11-11T15:45:31.956167Z",
     "start_time": "2020-11-11T15:45:29.962574Z"
    }
   },
   "outputs": [
    {
     "name": "stderr",
     "output_type": "stream",
     "text": [
      "<ipython-input-28-7404d29844e2>:4: UserWarning: With alpha=0, this algorithm does not converge well. You are advised to use the LinearRegression estimator\n",
      "  elasnet_h.fit(X, y)\n",
      "/home/ef/Desktop/diplomadus/diplomadus/lib/python3.8/site-packages/sklearn/linear_model/_coordinate_descent.py:529: UserWarning: Coordinate descent with no regularization may lead to unexpected results and is discouraged.\n",
      "  model = cd_fast.enet_coordinate_descent(\n",
      "/home/ef/Desktop/diplomadus/diplomadus/lib/python3.8/site-packages/sklearn/linear_model/_coordinate_descent.py:529: ConvergenceWarning: Objective did not converge. You might want to increase the number of iterations. Duality gap: 2.713222984039492, tolerance: 0.0008325936760773317\n",
      "  model = cd_fast.enet_coordinate_descent(\n"
     ]
    },
    {
     "data": {
      "text/plain": [
       "(0.04209075531309429, 0.37677015178541423)"
      ]
     },
     "execution_count": 28,
     "metadata": {},
     "output_type": "execute_result"
    }
   ],
   "source": [
    "## Y se ejecuta\n",
    "elasnet_h = ElasticNet(alpha = alphas,\n",
    "                     l1_ratio = l1_ratios)\n",
    "elasnet_h.fit(X, y)\n",
    "el_h_res = cross_val_score(estimator = elasnet_h,\n",
    "                           X = X,\n",
    "                           y = y,\n",
    "                           cv = 3,\n",
    "                           n_jobs = -1,\n",
    "                           scoring = \"r2\")\n",
    "\n",
    "np.mean(el_h_res), np.std(el_h_res)"
   ]
  },
  {
   "cell_type": "markdown",
   "metadata": {},
   "source": [
    "### Prueba"
   ]
  },
  {
   "cell_type": "code",
   "execution_count": 29,
   "metadata": {
    "ExecuteTime": {
     "end_time": "2020-11-11T15:45:32.009305Z",
     "start_time": "2020-11-11T15:45:31.957773Z"
    }
   },
   "outputs": [
    {
     "data": {
      "text/html": [
       "<div>\n",
       "<style scoped>\n",
       "    .dataframe tbody tr th:only-of-type {\n",
       "        vertical-align: middle;\n",
       "    }\n",
       "\n",
       "    .dataframe tbody tr th {\n",
       "        vertical-align: top;\n",
       "    }\n",
       "\n",
       "    .dataframe thead th {\n",
       "        text-align: right;\n",
       "    }\n",
       "</style>\n",
       "<table border=\"1\" class=\"dataframe\">\n",
       "  <thead>\n",
       "    <tr style=\"text-align: right;\">\n",
       "      <th></th>\n",
       "      <th>SEX_1</th>\n",
       "      <th>SEX_2</th>\n",
       "      <th>EDUCATION_1</th>\n",
       "      <th>EDUCATION_2</th>\n",
       "      <th>EDUCATION_3</th>\n",
       "      <th>EDUCATION_4</th>\n",
       "      <th>MARRIAGE_1</th>\n",
       "      <th>MARRIAGE_2</th>\n",
       "      <th>MARRIAGE_3</th>\n",
       "      <th>PAY_4_-1</th>\n",
       "      <th>PAY_4_-2</th>\n",
       "      <th>PAY_4_0</th>\n",
       "      <th>PAY_4_&gt;=1</th>\n",
       "      <th>PAY_5_-1</th>\n",
       "      <th>PAY_5_-2</th>\n",
       "      <th>PAY_5_0</th>\n",
       "      <th>PAY_5_&gt;=1</th>\n",
       "      <th>PAY_6_-1</th>\n",
       "      <th>PAY_6_-2</th>\n",
       "      <th>PAY_6_0</th>\n",
       "      <th>PAY_6_&gt;=1</th>\n",
       "      <th>LIMIT_BAL</th>\n",
       "      <th>AGE</th>\n",
       "      <th>BILL_AMT3</th>\n",
       "      <th>BILL_AMT4</th>\n",
       "      <th>BILL_AMT5</th>\n",
       "      <th>BILL_AMT6</th>\n",
       "      <th>PAY_AMT4</th>\n",
       "      <th>PAY_AMT5</th>\n",
       "      <th>PAY_AMT6</th>\n",
       "      <th>Prom_monto</th>\n",
       "    </tr>\n",
       "  </thead>\n",
       "  <tbody>\n",
       "    <tr>\n",
       "      <th>646</th>\n",
       "      <td>0.0</td>\n",
       "      <td>1.0</td>\n",
       "      <td>0.0</td>\n",
       "      <td>1.0</td>\n",
       "      <td>0.0</td>\n",
       "      <td>0.0</td>\n",
       "      <td>0.0</td>\n",
       "      <td>1.0</td>\n",
       "      <td>0.0</td>\n",
       "      <td>0.0</td>\n",
       "      <td>1.0</td>\n",
       "      <td>0.0</td>\n",
       "      <td>0.0</td>\n",
       "      <td>0.0</td>\n",
       "      <td>1.0</td>\n",
       "      <td>0.0</td>\n",
       "      <td>0.0</td>\n",
       "      <td>0.0</td>\n",
       "      <td>1.0</td>\n",
       "      <td>0.0</td>\n",
       "      <td>0.0</td>\n",
       "      <td>0.025316</td>\n",
       "      <td>0.346939</td>\n",
       "      <td>0.035643</td>\n",
       "      <td>0.015238</td>\n",
       "      <td>0.066156</td>\n",
       "      <td>0.042647</td>\n",
       "      <td>0.0</td>\n",
       "      <td>0.0</td>\n",
       "      <td>0.0</td>\n",
       "      <td>0.024522</td>\n",
       "    </tr>\n",
       "  </tbody>\n",
       "</table>\n",
       "</div>"
      ],
      "text/plain": [
       "     SEX_1  SEX_2  EDUCATION_1  EDUCATION_2  EDUCATION_3  EDUCATION_4  \\\n",
       "646    0.0    1.0          0.0          1.0          0.0          0.0   \n",
       "\n",
       "     MARRIAGE_1  MARRIAGE_2  MARRIAGE_3  PAY_4_-1  PAY_4_-2  PAY_4_0  \\\n",
       "646         0.0         1.0         0.0       0.0       1.0      0.0   \n",
       "\n",
       "     PAY_4_>=1  PAY_5_-1  PAY_5_-2  PAY_5_0  PAY_5_>=1  PAY_6_-1  PAY_6_-2  \\\n",
       "646        0.0       0.0       1.0      0.0        0.0       0.0       1.0   \n",
       "\n",
       "     PAY_6_0  PAY_6_>=1  LIMIT_BAL       AGE  BILL_AMT3  BILL_AMT4  BILL_AMT5  \\\n",
       "646      0.0        0.0   0.025316  0.346939   0.035643   0.015238   0.066156   \n",
       "\n",
       "     BILL_AMT6  PAY_AMT4  PAY_AMT5  PAY_AMT6  Prom_monto  \n",
       "646   0.042647       0.0       0.0       0.0    0.024522  "
      ]
     },
     "execution_count": 29,
     "metadata": {},
     "output_type": "execute_result"
    }
   ],
   "source": [
    "pd.DataFrame(X).sample()"
   ]
  },
  {
   "cell_type": "code",
   "execution_count": 30,
   "metadata": {
    "ExecuteTime": {
     "end_time": "2020-11-11T15:45:32.085102Z",
     "start_time": "2020-11-11T15:45:32.013721Z"
    }
   },
   "outputs": [
    {
     "data": {
      "text/plain": [
       "'30.95%'"
      ]
     },
     "execution_count": 30,
     "metadata": {},
     "output_type": "execute_result"
    }
   ],
   "source": [
    "## Y se corre para el conjunto de prueba\n",
    "from sklearn.metrics import r2_score\n",
    "'{:,.2%}'.format(r2_score(y_pred = ridge.predict(X_test_mm),\n",
    "                          y_true = y_test_mm))"
   ]
  },
  {
   "cell_type": "code",
   "execution_count": 31,
   "metadata": {
    "ExecuteTime": {
     "end_time": "2020-11-11T15:45:32.126218Z",
     "start_time": "2020-11-11T15:45:32.087441Z"
    }
   },
   "outputs": [
    {
     "data": {
      "text/plain": [
       "'38.13%'"
      ]
     },
     "execution_count": 31,
     "metadata": {},
     "output_type": "execute_result"
    }
   ],
   "source": [
    "## Y se corre para el conjunto de prueba\n",
    "from sklearn.metrics import r2_score\n",
    "'{:,.2%}'.format(r2_score(y_pred = elasnet_h.predict(X_test_mm),\n",
    "                          y_true = y_test_mm))"
   ]
  },
  {
   "cell_type": "code",
   "execution_count": 32,
   "metadata": {
    "ExecuteTime": {
     "end_time": "2020-11-11T15:45:32.177503Z",
     "start_time": "2020-11-11T15:45:32.137474Z"
    }
   },
   "outputs": [
    {
     "data": {
      "text/plain": [
       "ElasticNet(alpha=0, l1_ratio=0)"
      ]
     },
     "execution_count": 32,
     "metadata": {},
     "output_type": "execute_result"
    }
   ],
   "source": [
    "import pickle\n",
    "\n",
    "## Guardar modelo\n",
    "with open('PAY_3.pkl', 'wb') as file:\n",
    "    pickle.dump(elasnet_h, file)\n",
    "\n",
    "## Abrir un modelo\n",
    "with open('PAY_3.pkl', 'rb') as file:\n",
    "    pay_3 = pickle.load(file)\n",
    "\n",
    "## Listo para usarse\n",
    "pay_3"
   ]
  },
  {
   "cell_type": "code",
   "execution_count": 33,
   "metadata": {
    "ExecuteTime": {
     "end_time": "2020-11-11T15:45:32.199856Z",
     "start_time": "2020-11-11T15:45:32.183917Z"
    }
   },
   "outputs": [
    {
     "data": {
      "text/plain": [
       "'38.13%'"
      ]
     },
     "execution_count": 33,
     "metadata": {},
     "output_type": "execute_result"
    }
   ],
   "source": [
    "'{:,.2%}'.format(r2_score(y_pred = pay_3.predict(X_test_mm),\n",
    "                          y_true = y_test_mm))"
   ]
  },
  {
   "cell_type": "markdown",
   "metadata": {},
   "source": [
    "## Validación"
   ]
  },
  {
   "cell_type": "code",
   "execution_count": 32,
   "metadata": {
    "ExecuteTime": {
     "end_time": "2020-11-05T21:35:40.137740Z",
     "start_time": "2020-11-05T21:35:40.015818Z"
    },
    "scrolled": true
   },
   "outputs": [
    {
     "data": {
      "text/html": [
       "<div>\n",
       "<style scoped>\n",
       "    .dataframe tbody tr th:only-of-type {\n",
       "        vertical-align: middle;\n",
       "    }\n",
       "\n",
       "    .dataframe tbody tr th {\n",
       "        vertical-align: top;\n",
       "    }\n",
       "\n",
       "    .dataframe thead th {\n",
       "        text-align: right;\n",
       "    }\n",
       "</style>\n",
       "<table border=\"1\" class=\"dataframe\">\n",
       "  <thead>\n",
       "    <tr style=\"text-align: right;\">\n",
       "      <th></th>\n",
       "      <th>CUSTOMER_ID</th>\n",
       "      <th>LIMIT_BAL</th>\n",
       "      <th>SEX</th>\n",
       "      <th>EDUCATION</th>\n",
       "      <th>MARRIAGE</th>\n",
       "      <th>AGE</th>\n",
       "      <th>PAY_4</th>\n",
       "      <th>PAY_5</th>\n",
       "      <th>PAY_6</th>\n",
       "      <th>BILL_AMT4</th>\n",
       "      <th>BILL_AMT5</th>\n",
       "      <th>BILL_AMT6</th>\n",
       "      <th>PAY_AMT4</th>\n",
       "      <th>PAY_AMT5</th>\n",
       "      <th>PAY_AMT6</th>\n",
       "      <th>BILL_AMT3</th>\n",
       "    </tr>\n",
       "  </thead>\n",
       "  <tbody>\n",
       "    <tr>\n",
       "      <th>796</th>\n",
       "      <td>6065</td>\n",
       "      <td>210000.0</td>\n",
       "      <td>2</td>\n",
       "      <td>2</td>\n",
       "      <td>2</td>\n",
       "      <td>49</td>\n",
       "      <td>-1</td>\n",
       "      <td>0</td>\n",
       "      <td>0</td>\n",
       "      <td>65825.0</td>\n",
       "      <td>60803.0</td>\n",
       "      <td>56578.0</td>\n",
       "      <td>1420.0</td>\n",
       "      <td>1132.0</td>\n",
       "      <td>5000.0</td>\n",
       "      <td>4056.0</td>\n",
       "    </tr>\n",
       "    <tr>\n",
       "      <th>1551</th>\n",
       "      <td>21022</td>\n",
       "      <td>200000.0</td>\n",
       "      <td>2</td>\n",
       "      <td>1</td>\n",
       "      <td>2</td>\n",
       "      <td>28</td>\n",
       "      <td>-2</td>\n",
       "      <td>-2</td>\n",
       "      <td>-2</td>\n",
       "      <td>0.0</td>\n",
       "      <td>0.0</td>\n",
       "      <td>0.0</td>\n",
       "      <td>0.0</td>\n",
       "      <td>0.0</td>\n",
       "      <td>510.0</td>\n",
       "      <td>0.0</td>\n",
       "    </tr>\n",
       "    <tr>\n",
       "      <th>1790</th>\n",
       "      <td>16752</td>\n",
       "      <td>250000.0</td>\n",
       "      <td>1</td>\n",
       "      <td>1</td>\n",
       "      <td>2</td>\n",
       "      <td>33</td>\n",
       "      <td>-1</td>\n",
       "      <td>-1</td>\n",
       "      <td>-1</td>\n",
       "      <td>1540.0</td>\n",
       "      <td>3088.0</td>\n",
       "      <td>5680.0</td>\n",
       "      <td>3088.0</td>\n",
       "      <td>3000.0</td>\n",
       "      <td>0.0</td>\n",
       "      <td>81.0</td>\n",
       "    </tr>\n",
       "    <tr>\n",
       "      <th>760</th>\n",
       "      <td>21275</td>\n",
       "      <td>30000.0</td>\n",
       "      <td>1</td>\n",
       "      <td>1</td>\n",
       "      <td>1</td>\n",
       "      <td>32</td>\n",
       "      <td>0</td>\n",
       "      <td>0</td>\n",
       "      <td>0</td>\n",
       "      <td>29838.0</td>\n",
       "      <td>29651.0</td>\n",
       "      <td>1567.0</td>\n",
       "      <td>593.0</td>\n",
       "      <td>31.0</td>\n",
       "      <td>0.0</td>\n",
       "      <td>30031.0</td>\n",
       "    </tr>\n",
       "  </tbody>\n",
       "</table>\n",
       "</div>"
      ],
      "text/plain": [
       "      CUSTOMER_ID  LIMIT_BAL  SEX  EDUCATION  MARRIAGE  AGE  PAY_4  PAY_5  \\\n",
       "796          6065   210000.0    2          2         2   49     -1      0   \n",
       "1551        21022   200000.0    2          1         2   28     -2     -2   \n",
       "1790        16752   250000.0    1          1         2   33     -1     -1   \n",
       "760         21275    30000.0    1          1         1   32      0      0   \n",
       "\n",
       "      PAY_6  BILL_AMT4  BILL_AMT5  BILL_AMT6  PAY_AMT4  PAY_AMT5  PAY_AMT6  \\\n",
       "796       0    65825.0    60803.0    56578.0    1420.0    1132.0    5000.0   \n",
       "1551     -2        0.0        0.0        0.0       0.0       0.0     510.0   \n",
       "1790     -1     1540.0     3088.0     5680.0    3088.0    3000.0       0.0   \n",
       "760       0    29838.0    29651.0     1567.0     593.0      31.0       0.0   \n",
       "\n",
       "      BILL_AMT3  \n",
       "796      4056.0  \n",
       "1551        0.0  \n",
       "1790       81.0  \n",
       "760     30031.0  "
      ]
     },
     "execution_count": 32,
     "metadata": {},
     "output_type": "execute_result"
    }
   ],
   "source": [
    "val = pd.read_csv(liga + 'val_PAY_AMT3.csv',\n",
    "                 encoding = 'ascii',\n",
    "                 sep = '|',\n",
    "                 low_memory = False)\n",
    "val.sample(4)"
   ]
  },
  {
   "cell_type": "code",
   "execution_count": 33,
   "metadata": {
    "ExecuteTime": {
     "end_time": "2020-11-05T21:35:40.194153Z",
     "start_time": "2020-11-05T21:35:40.146015Z"
    }
   },
   "outputs": [
    {
     "name": "stdout",
     "output_type": "stream",
     "text": [
      "<class 'pandas.core.frame.DataFrame'>\n",
      "RangeIndex: 1875 entries, 0 to 1874\n",
      "Data columns (total 6 columns):\n",
      " #   Column     Non-Null Count  Dtype \n",
      "---  ------     --------------  ----- \n",
      " 0   SEX        1875 non-null   object\n",
      " 1   EDUCATION  1875 non-null   object\n",
      " 2   MARRIAGE   1875 non-null   object\n",
      " 3   PAY_4      1875 non-null   object\n",
      " 4   PAY_5      1875 non-null   object\n",
      " 5   PAY_6      1875 non-null   object\n",
      "dtypes: object(6)\n",
      "memory usage: 88.0+ KB\n"
     ]
    }
   ],
   "source": [
    "cat = list(val.columns[2:9])\n",
    "cat = [x for x in cat if x not in ['AGE']]\n",
    "for col in cat:\n",
    "    val[col] = val[col].astype(str)\n",
    "val[cat].info()"
   ]
  },
  {
   "cell_type": "code",
   "execution_count": 34,
   "metadata": {
    "ExecuteTime": {
     "end_time": "2020-11-05T21:35:40.235446Z",
     "start_time": "2020-11-05T21:35:40.203701Z"
    }
   },
   "outputs": [
    {
     "name": "stdout",
     "output_type": "stream",
     "text": [
      "<class 'pandas.core.frame.DataFrame'>\n",
      "RangeIndex: 1875 entries, 0 to 1874\n",
      "Data columns (total 9 columns):\n",
      " #   Column     Non-Null Count  Dtype  \n",
      "---  ------     --------------  -----  \n",
      " 0   LIMIT_BAL  1875 non-null   float64\n",
      " 1   AGE        1875 non-null   int64  \n",
      " 2   BILL_AMT4  1875 non-null   float64\n",
      " 3   BILL_AMT5  1875 non-null   float64\n",
      " 4   BILL_AMT6  1875 non-null   float64\n",
      " 5   PAY_AMT4   1875 non-null   float64\n",
      " 6   PAY_AMT5   1875 non-null   float64\n",
      " 7   PAY_AMT6   1875 non-null   float64\n",
      " 8   BILL_AMT3  1875 non-null   float64\n",
      "dtypes: float64(8), int64(1)\n",
      "memory usage: 132.0 KB\n"
     ]
    }
   ],
   "source": [
    "## Ya no existe PAY_AMT1 ni 2  ni 3\n",
    "num = [col for col in val.columns if col not in cat + ['CUSTOMER_ID']]\n",
    "val[num].info()"
   ]
  },
  {
   "cell_type": "code",
   "execution_count": 35,
   "metadata": {
    "ExecuteTime": {
     "end_time": "2020-11-05T21:35:40.251750Z",
     "start_time": "2020-11-05T21:35:40.239949Z"
    }
   },
   "outputs": [],
   "source": [
    "## Ya existen los conjuntos, pero no está de más redefinirlos\n",
    "pay = [col for col in df.columns if col.startswith('PAY')]\n",
    "pago = [x for x in pay if x.startswith('PAY_AMT')]\n",
    "estatus = [x for x in pay if x not in pago]\n",
    "monto = [col for col in df.columns if col.startswith('BILL')]"
   ]
  },
  {
   "cell_type": "code",
   "execution_count": 36,
   "metadata": {
    "ExecuteTime": {
     "end_time": "2020-11-05T21:35:40.336877Z",
     "start_time": "2020-11-05T21:35:40.262216Z"
    }
   },
   "outputs": [
    {
     "data": {
      "text/html": [
       "<div>\n",
       "<style scoped>\n",
       "    .dataframe tbody tr th:only-of-type {\n",
       "        vertical-align: middle;\n",
       "    }\n",
       "\n",
       "    .dataframe tbody tr th {\n",
       "        vertical-align: top;\n",
       "    }\n",
       "\n",
       "    .dataframe thead th {\n",
       "        text-align: right;\n",
       "    }\n",
       "</style>\n",
       "<table border=\"1\" class=\"dataframe\">\n",
       "  <thead>\n",
       "    <tr style=\"text-align: right;\">\n",
       "      <th></th>\n",
       "      <th>SEX_1</th>\n",
       "      <th>SEX_2</th>\n",
       "      <th>EDUCATION_1</th>\n",
       "      <th>EDUCATION_2</th>\n",
       "      <th>EDUCATION_3</th>\n",
       "      <th>EDUCATION_4</th>\n",
       "      <th>MARRIAGE_1</th>\n",
       "      <th>MARRIAGE_2</th>\n",
       "      <th>MARRIAGE_3</th>\n",
       "      <th>PAY_4_-1</th>\n",
       "      <th>PAY_4_-2</th>\n",
       "      <th>PAY_4_0</th>\n",
       "      <th>PAY_4_&gt;=1</th>\n",
       "      <th>PAY_5_-1</th>\n",
       "      <th>PAY_5_-2</th>\n",
       "      <th>PAY_5_0</th>\n",
       "      <th>PAY_5_&gt;=1</th>\n",
       "      <th>PAY_6_-1</th>\n",
       "      <th>PAY_6_-2</th>\n",
       "      <th>PAY_6_0</th>\n",
       "      <th>PAY_6_&gt;=1</th>\n",
       "      <th>LIMIT_BAL</th>\n",
       "      <th>AGE</th>\n",
       "      <th>BILL_AMT3</th>\n",
       "      <th>BILL_AMT4</th>\n",
       "      <th>BILL_AMT5</th>\n",
       "      <th>BILL_AMT6</th>\n",
       "      <th>PAY_AMT4</th>\n",
       "      <th>PAY_AMT5</th>\n",
       "      <th>PAY_AMT6</th>\n",
       "      <th>Prom_monto</th>\n",
       "    </tr>\n",
       "  </thead>\n",
       "  <tbody>\n",
       "    <tr>\n",
       "      <th>384</th>\n",
       "      <td>0.0</td>\n",
       "      <td>1.0</td>\n",
       "      <td>0.0</td>\n",
       "      <td>1.0</td>\n",
       "      <td>0.0</td>\n",
       "      <td>0.0</td>\n",
       "      <td>0.0</td>\n",
       "      <td>0.0</td>\n",
       "      <td>1.0</td>\n",
       "      <td>1.0</td>\n",
       "      <td>0.0</td>\n",
       "      <td>0.0</td>\n",
       "      <td>0.0</td>\n",
       "      <td>0.0</td>\n",
       "      <td>0.0</td>\n",
       "      <td>1.0</td>\n",
       "      <td>0.0</td>\n",
       "      <td>0.0</td>\n",
       "      <td>0.0</td>\n",
       "      <td>1.0</td>\n",
       "      <td>0.0</td>\n",
       "      <td>0.253165</td>\n",
       "      <td>0.632653</td>\n",
       "      <td>0.036116</td>\n",
       "      <td>0.016506</td>\n",
       "      <td>0.168388</td>\n",
       "      <td>0.118117</td>\n",
       "      <td>0.134219</td>\n",
       "      <td>0.003955</td>\n",
       "      <td>0.004739</td>\n",
       "      <td>0.066604</td>\n",
       "    </tr>\n",
       "  </tbody>\n",
       "</table>\n",
       "</div>"
      ],
      "text/plain": [
       "     SEX_1  SEX_2  EDUCATION_1  EDUCATION_2  EDUCATION_3  EDUCATION_4  \\\n",
       "384    0.0    1.0          0.0          1.0          0.0          0.0   \n",
       "\n",
       "     MARRIAGE_1  MARRIAGE_2  MARRIAGE_3  PAY_4_-1  PAY_4_-2  PAY_4_0  \\\n",
       "384         0.0         0.0         1.0       1.0       0.0      0.0   \n",
       "\n",
       "     PAY_4_>=1  PAY_5_-1  PAY_5_-2  PAY_5_0  PAY_5_>=1  PAY_6_-1  PAY_6_-2  \\\n",
       "384        0.0       0.0       0.0      1.0        0.0       0.0       0.0   \n",
       "\n",
       "     PAY_6_0  PAY_6_>=1  LIMIT_BAL       AGE  BILL_AMT3  BILL_AMT4  BILL_AMT5  \\\n",
       "384      1.0        0.0   0.253165  0.632653   0.036116   0.016506   0.168388   \n",
       "\n",
       "     BILL_AMT6  PAY_AMT4  PAY_AMT5  PAY_AMT6  Prom_monto  \n",
       "384   0.118117  0.134219  0.003955  0.004739    0.066604  "
      ]
     },
     "execution_count": 36,
     "metadata": {},
     "output_type": "execute_result"
    }
   ],
   "source": [
    "## Qué columnas necesita el modelo?\n",
    "pd.DataFrame(X).sample()"
   ]
  },
  {
   "cell_type": "markdown",
   "metadata": {
    "ExecuteTime": {
     "end_time": "2020-11-03T16:26:17.671683Z",
     "start_time": "2020-11-03T16:26:17.599051Z"
    }
   },
   "source": [
    "Monto prom\n",
    "\n",
    "Agrupar PAY>=1\n",
    "\n",
    "Dummies para las categóricas\n",
    "\n",
    "Filtrar las mejores columnas\n",
    "\n",
    "Escalamiento"
   ]
  },
  {
   "cell_type": "markdown",
   "metadata": {},
   "source": [
    "### Ingeniería de variables"
   ]
  },
  {
   "cell_type": "code",
   "execution_count": 37,
   "metadata": {
    "ExecuteTime": {
     "end_time": "2020-11-05T21:35:40.389585Z",
     "start_time": "2020-11-05T21:35:40.342591Z"
    }
   },
   "outputs": [
    {
     "data": {
      "text/plain": [
       "count      1875.000000\n",
       "mean      41486.932267\n",
       "std       58913.918399\n",
       "min       -5000.000000\n",
       "25%        4026.875000\n",
       "50%       19172.250000\n",
       "75%       50918.375000\n",
       "max      496734.750000\n",
       "Name: Prom_monto, dtype: float64"
      ]
     },
     "execution_count": 37,
     "metadata": {},
     "output_type": "execute_result"
    }
   ],
   "source": [
    "## Promedio de todos los montos de pago\n",
    "val['Prom_monto'] = val[monto].mean(axis = 1)\n",
    "num += ['Prom_monto']\n",
    "val['Prom_monto'].describe()"
   ]
  },
  {
   "cell_type": "code",
   "execution_count": 38,
   "metadata": {
    "ExecuteTime": {
     "end_time": "2020-11-05T21:35:40.581495Z",
     "start_time": "2020-11-05T21:35:40.394585Z"
    }
   },
   "outputs": [
    {
     "data": {
      "text/html": [
       "<div>\n",
       "<style scoped>\n",
       "    .dataframe tbody tr th:only-of-type {\n",
       "        vertical-align: middle;\n",
       "    }\n",
       "\n",
       "    .dataframe tbody tr th {\n",
       "        vertical-align: top;\n",
       "    }\n",
       "\n",
       "    .dataframe thead th {\n",
       "        text-align: right;\n",
       "    }\n",
       "</style>\n",
       "<table border=\"1\" class=\"dataframe\">\n",
       "  <thead>\n",
       "    <tr style=\"text-align: right;\">\n",
       "      <th></th>\n",
       "      <th>index</th>\n",
       "      <th>PAY_4</th>\n",
       "    </tr>\n",
       "  </thead>\n",
       "  <tbody>\n",
       "    <tr>\n",
       "      <th>1</th>\n",
       "      <td>-1</td>\n",
       "      <td>0.187200</td>\n",
       "    </tr>\n",
       "    <tr>\n",
       "      <th>2</th>\n",
       "      <td>-2</td>\n",
       "      <td>0.139733</td>\n",
       "    </tr>\n",
       "    <tr>\n",
       "      <th>0</th>\n",
       "      <td>0</td>\n",
       "      <td>0.551467</td>\n",
       "    </tr>\n",
       "    <tr>\n",
       "      <th>3</th>\n",
       "      <td>&gt;=1</td>\n",
       "      <td>0.121600</td>\n",
       "    </tr>\n",
       "  </tbody>\n",
       "</table>\n",
       "</div>"
      ],
      "text/plain": [
       "  index     PAY_4\n",
       "1    -1  0.187200\n",
       "2    -2  0.139733\n",
       "0     0  0.551467\n",
       "3   >=1  0.121600"
      ]
     },
     "metadata": {},
     "output_type": "display_data"
    },
    {
     "data": {
      "text/html": [
       "<div>\n",
       "<style scoped>\n",
       "    .dataframe tbody tr th:only-of-type {\n",
       "        vertical-align: middle;\n",
       "    }\n",
       "\n",
       "    .dataframe tbody tr th {\n",
       "        vertical-align: top;\n",
       "    }\n",
       "\n",
       "    .dataframe thead th {\n",
       "        text-align: right;\n",
       "    }\n",
       "</style>\n",
       "<table border=\"1\" class=\"dataframe\">\n",
       "  <thead>\n",
       "    <tr style=\"text-align: right;\">\n",
       "      <th></th>\n",
       "      <th>index</th>\n",
       "      <th>PAY_5</th>\n",
       "    </tr>\n",
       "  </thead>\n",
       "  <tbody>\n",
       "    <tr>\n",
       "      <th>1</th>\n",
       "      <td>-1</td>\n",
       "      <td>0.181867</td>\n",
       "    </tr>\n",
       "    <tr>\n",
       "      <th>2</th>\n",
       "      <td>-2</td>\n",
       "      <td>0.147200</td>\n",
       "    </tr>\n",
       "    <tr>\n",
       "      <th>0</th>\n",
       "      <td>0</td>\n",
       "      <td>0.564800</td>\n",
       "    </tr>\n",
       "    <tr>\n",
       "      <th>3</th>\n",
       "      <td>&gt;=1</td>\n",
       "      <td>0.106133</td>\n",
       "    </tr>\n",
       "  </tbody>\n",
       "</table>\n",
       "</div>"
      ],
      "text/plain": [
       "  index     PAY_5\n",
       "1    -1  0.181867\n",
       "2    -2  0.147200\n",
       "0     0  0.564800\n",
       "3   >=1  0.106133"
      ]
     },
     "metadata": {},
     "output_type": "display_data"
    },
    {
     "data": {
      "text/html": [
       "<div>\n",
       "<style scoped>\n",
       "    .dataframe tbody tr th:only-of-type {\n",
       "        vertical-align: middle;\n",
       "    }\n",
       "\n",
       "    .dataframe tbody tr th {\n",
       "        vertical-align: top;\n",
       "    }\n",
       "\n",
       "    .dataframe thead th {\n",
       "        text-align: right;\n",
       "    }\n",
       "</style>\n",
       "<table border=\"1\" class=\"dataframe\">\n",
       "  <thead>\n",
       "    <tr style=\"text-align: right;\">\n",
       "      <th></th>\n",
       "      <th>index</th>\n",
       "      <th>PAY_6</th>\n",
       "    </tr>\n",
       "  </thead>\n",
       "  <tbody>\n",
       "    <tr>\n",
       "      <th>1</th>\n",
       "      <td>-1</td>\n",
       "      <td>0.184533</td>\n",
       "    </tr>\n",
       "    <tr>\n",
       "      <th>2</th>\n",
       "      <td>-2</td>\n",
       "      <td>0.165867</td>\n",
       "    </tr>\n",
       "    <tr>\n",
       "      <th>0</th>\n",
       "      <td>0</td>\n",
       "      <td>0.530667</td>\n",
       "    </tr>\n",
       "    <tr>\n",
       "      <th>3</th>\n",
       "      <td>&gt;=1</td>\n",
       "      <td>0.118933</td>\n",
       "    </tr>\n",
       "  </tbody>\n",
       "</table>\n",
       "</div>"
      ],
      "text/plain": [
       "  index     PAY_6\n",
       "1    -1  0.184533\n",
       "2    -2  0.165867\n",
       "0     0  0.530667\n",
       "3   >=1  0.118933"
      ]
     },
     "metadata": {},
     "output_type": "display_data"
    }
   ],
   "source": [
    "for col in estatus:\n",
    "    aux = []\n",
    "    for i in range(len(val)):\n",
    "        if int(val[col][i]) >= 1:\n",
    "            aux.append('>=1')\n",
    "        else:\n",
    "            aux.append(val[col][i])\n",
    "    val[col] = aux\n",
    "\n",
    "for col in estatus:\n",
    "    display(val[col].value_counts(1).reset_index().sort_values(by = 'index'))"
   ]
  },
  {
   "cell_type": "markdown",
   "metadata": {},
   "source": [
    "### Reducción de dimensiones"
   ]
  },
  {
   "cell_type": "code",
   "execution_count": 39,
   "metadata": {
    "ExecuteTime": {
     "end_time": "2020-11-05T21:35:40.720975Z",
     "start_time": "2020-11-05T21:35:40.584227Z"
    }
   },
   "outputs": [
    {
     "data": {
      "text/html": [
       "<div>\n",
       "<style scoped>\n",
       "    .dataframe tbody tr th:only-of-type {\n",
       "        vertical-align: middle;\n",
       "    }\n",
       "\n",
       "    .dataframe tbody tr th {\n",
       "        vertical-align: top;\n",
       "    }\n",
       "\n",
       "    .dataframe thead th {\n",
       "        text-align: right;\n",
       "    }\n",
       "</style>\n",
       "<table border=\"1\" class=\"dataframe\">\n",
       "  <thead>\n",
       "    <tr style=\"text-align: right;\">\n",
       "      <th></th>\n",
       "      <th>SEX_1</th>\n",
       "      <th>SEX_2</th>\n",
       "      <th>EDUCATION_1</th>\n",
       "      <th>EDUCATION_2</th>\n",
       "      <th>EDUCATION_3</th>\n",
       "      <th>EDUCATION_4</th>\n",
       "      <th>MARRIAGE_1</th>\n",
       "      <th>MARRIAGE_2</th>\n",
       "      <th>MARRIAGE_3</th>\n",
       "      <th>PAY_4_-1</th>\n",
       "      <th>PAY_4_-2</th>\n",
       "      <th>PAY_4_0</th>\n",
       "      <th>PAY_4_&gt;=1</th>\n",
       "      <th>PAY_5_-1</th>\n",
       "      <th>PAY_5_-2</th>\n",
       "      <th>PAY_5_0</th>\n",
       "      <th>PAY_5_&gt;=1</th>\n",
       "      <th>PAY_6_-1</th>\n",
       "      <th>PAY_6_-2</th>\n",
       "      <th>PAY_6_0</th>\n",
       "      <th>PAY_6_&gt;=1</th>\n",
       "      <th>LIMIT_BAL</th>\n",
       "      <th>AGE</th>\n",
       "      <th>BILL_AMT3</th>\n",
       "      <th>BILL_AMT4</th>\n",
       "      <th>BILL_AMT5</th>\n",
       "      <th>BILL_AMT6</th>\n",
       "      <th>PAY_AMT4</th>\n",
       "      <th>PAY_AMT5</th>\n",
       "      <th>PAY_AMT6</th>\n",
       "      <th>Prom_monto</th>\n",
       "    </tr>\n",
       "  </thead>\n",
       "  <tbody>\n",
       "    <tr>\n",
       "      <th>count</th>\n",
       "      <td>1875.000000</td>\n",
       "      <td>1875.000000</td>\n",
       "      <td>1875.000000</td>\n",
       "      <td>1875.000000</td>\n",
       "      <td>1875.000000</td>\n",
       "      <td>1875.000000</td>\n",
       "      <td>1875.000000</td>\n",
       "      <td>1875.000000</td>\n",
       "      <td>1875.000000</td>\n",
       "      <td>1875.000000</td>\n",
       "      <td>1875.000000</td>\n",
       "      <td>1875.000000</td>\n",
       "      <td>1875.00000</td>\n",
       "      <td>1875.000000</td>\n",
       "      <td>1875.0000</td>\n",
       "      <td>1875.000000</td>\n",
       "      <td>1875.000000</td>\n",
       "      <td>1875.000000</td>\n",
       "      <td>1875.000000</td>\n",
       "      <td>1875.000000</td>\n",
       "      <td>1875.000000</td>\n",
       "      <td>1875.000000</td>\n",
       "      <td>1875.000000</td>\n",
       "      <td>1875.000000</td>\n",
       "      <td>1875.000000</td>\n",
       "      <td>1875.000000</td>\n",
       "      <td>1875.000000</td>\n",
       "      <td>1875.000000</td>\n",
       "      <td>1875.00000</td>\n",
       "      <td>1875.000000</td>\n",
       "      <td>1875.000000</td>\n",
       "    </tr>\n",
       "    <tr>\n",
       "      <th>mean</th>\n",
       "      <td>0.379733</td>\n",
       "      <td>0.620267</td>\n",
       "      <td>0.350400</td>\n",
       "      <td>0.470400</td>\n",
       "      <td>0.166933</td>\n",
       "      <td>0.002667</td>\n",
       "      <td>0.454933</td>\n",
       "      <td>0.531733</td>\n",
       "      <td>0.011733</td>\n",
       "      <td>0.187200</td>\n",
       "      <td>0.139733</td>\n",
       "      <td>0.551467</td>\n",
       "      <td>0.12160</td>\n",
       "      <td>0.181867</td>\n",
       "      <td>0.1472</td>\n",
       "      <td>0.564800</td>\n",
       "      <td>0.106133</td>\n",
       "      <td>0.184533</td>\n",
       "      <td>0.165867</td>\n",
       "      <td>0.530667</td>\n",
       "      <td>0.118933</td>\n",
       "      <td>163562.666667</td>\n",
       "      <td>35.469333</td>\n",
       "      <td>45181.349333</td>\n",
       "      <td>42704.385600</td>\n",
       "      <td>39908.773867</td>\n",
       "      <td>38153.220267</td>\n",
       "      <td>5141.612267</td>\n",
       "      <td>4477.24960</td>\n",
       "      <td>4953.358933</td>\n",
       "      <td>41486.932267</td>\n",
       "    </tr>\n",
       "    <tr>\n",
       "      <th>std</th>\n",
       "      <td>0.485450</td>\n",
       "      <td>0.485450</td>\n",
       "      <td>0.477222</td>\n",
       "      <td>0.499256</td>\n",
       "      <td>0.373016</td>\n",
       "      <td>0.051585</td>\n",
       "      <td>0.498098</td>\n",
       "      <td>0.499125</td>\n",
       "      <td>0.107712</td>\n",
       "      <td>0.390176</td>\n",
       "      <td>0.346803</td>\n",
       "      <td>0.497477</td>\n",
       "      <td>0.32691</td>\n",
       "      <td>0.385838</td>\n",
       "      <td>0.3544</td>\n",
       "      <td>0.495915</td>\n",
       "      <td>0.308090</td>\n",
       "      <td>0.388022</td>\n",
       "      <td>0.372060</td>\n",
       "      <td>0.499192</td>\n",
       "      <td>0.323796</td>\n",
       "      <td>128882.400267</td>\n",
       "      <td>9.330439</td>\n",
       "      <td>64920.485069</td>\n",
       "      <td>62000.874961</td>\n",
       "      <td>59276.776584</td>\n",
       "      <td>58098.915770</td>\n",
       "      <td>19816.492203</td>\n",
       "      <td>14336.01572</td>\n",
       "      <td>16476.055286</td>\n",
       "      <td>58913.918399</td>\n",
       "    </tr>\n",
       "    <tr>\n",
       "      <th>min</th>\n",
       "      <td>0.000000</td>\n",
       "      <td>0.000000</td>\n",
       "      <td>0.000000</td>\n",
       "      <td>0.000000</td>\n",
       "      <td>0.000000</td>\n",
       "      <td>0.000000</td>\n",
       "      <td>0.000000</td>\n",
       "      <td>0.000000</td>\n",
       "      <td>0.000000</td>\n",
       "      <td>0.000000</td>\n",
       "      <td>0.000000</td>\n",
       "      <td>0.000000</td>\n",
       "      <td>0.00000</td>\n",
       "      <td>0.000000</td>\n",
       "      <td>0.0000</td>\n",
       "      <td>0.000000</td>\n",
       "      <td>0.000000</td>\n",
       "      <td>0.000000</td>\n",
       "      <td>0.000000</td>\n",
       "      <td>0.000000</td>\n",
       "      <td>0.000000</td>\n",
       "      <td>10000.000000</td>\n",
       "      <td>21.000000</td>\n",
       "      <td>-157264.000000</td>\n",
       "      <td>-34503.000000</td>\n",
       "      <td>-5857.000000</td>\n",
       "      <td>-5048.000000</td>\n",
       "      <td>0.000000</td>\n",
       "      <td>0.00000</td>\n",
       "      <td>0.000000</td>\n",
       "      <td>-5000.000000</td>\n",
       "    </tr>\n",
       "    <tr>\n",
       "      <th>25%</th>\n",
       "      <td>0.000000</td>\n",
       "      <td>0.000000</td>\n",
       "      <td>0.000000</td>\n",
       "      <td>0.000000</td>\n",
       "      <td>0.000000</td>\n",
       "      <td>0.000000</td>\n",
       "      <td>0.000000</td>\n",
       "      <td>0.000000</td>\n",
       "      <td>0.000000</td>\n",
       "      <td>0.000000</td>\n",
       "      <td>0.000000</td>\n",
       "      <td>0.000000</td>\n",
       "      <td>0.00000</td>\n",
       "      <td>0.000000</td>\n",
       "      <td>0.0000</td>\n",
       "      <td>0.000000</td>\n",
       "      <td>0.000000</td>\n",
       "      <td>0.000000</td>\n",
       "      <td>0.000000</td>\n",
       "      <td>0.000000</td>\n",
       "      <td>0.000000</td>\n",
       "      <td>50000.000000</td>\n",
       "      <td>28.000000</td>\n",
       "      <td>3251.500000</td>\n",
       "      <td>2589.500000</td>\n",
       "      <td>2031.500000</td>\n",
       "      <td>1415.000000</td>\n",
       "      <td>316.000000</td>\n",
       "      <td>157.50000</td>\n",
       "      <td>93.500000</td>\n",
       "      <td>4026.875000</td>\n",
       "    </tr>\n",
       "    <tr>\n",
       "      <th>50%</th>\n",
       "      <td>0.000000</td>\n",
       "      <td>1.000000</td>\n",
       "      <td>0.000000</td>\n",
       "      <td>0.000000</td>\n",
       "      <td>0.000000</td>\n",
       "      <td>0.000000</td>\n",
       "      <td>0.000000</td>\n",
       "      <td>1.000000</td>\n",
       "      <td>0.000000</td>\n",
       "      <td>0.000000</td>\n",
       "      <td>0.000000</td>\n",
       "      <td>1.000000</td>\n",
       "      <td>0.00000</td>\n",
       "      <td>0.000000</td>\n",
       "      <td>0.0000</td>\n",
       "      <td>1.000000</td>\n",
       "      <td>0.000000</td>\n",
       "      <td>0.000000</td>\n",
       "      <td>0.000000</td>\n",
       "      <td>1.000000</td>\n",
       "      <td>0.000000</td>\n",
       "      <td>130000.000000</td>\n",
       "      <td>34.000000</td>\n",
       "      <td>19516.000000</td>\n",
       "      <td>19005.000000</td>\n",
       "      <td>18238.000000</td>\n",
       "      <td>16929.000000</td>\n",
       "      <td>1500.000000</td>\n",
       "      <td>1500.00000</td>\n",
       "      <td>1500.000000</td>\n",
       "      <td>19172.250000</td>\n",
       "    </tr>\n",
       "    <tr>\n",
       "      <th>75%</th>\n",
       "      <td>1.000000</td>\n",
       "      <td>1.000000</td>\n",
       "      <td>1.000000</td>\n",
       "      <td>1.000000</td>\n",
       "      <td>0.000000</td>\n",
       "      <td>0.000000</td>\n",
       "      <td>1.000000</td>\n",
       "      <td>1.000000</td>\n",
       "      <td>0.000000</td>\n",
       "      <td>0.000000</td>\n",
       "      <td>0.000000</td>\n",
       "      <td>1.000000</td>\n",
       "      <td>0.00000</td>\n",
       "      <td>0.000000</td>\n",
       "      <td>0.0000</td>\n",
       "      <td>1.000000</td>\n",
       "      <td>0.000000</td>\n",
       "      <td>0.000000</td>\n",
       "      <td>0.000000</td>\n",
       "      <td>1.000000</td>\n",
       "      <td>0.000000</td>\n",
       "      <td>240000.000000</td>\n",
       "      <td>42.000000</td>\n",
       "      <td>54967.500000</td>\n",
       "      <td>51462.000000</td>\n",
       "      <td>50232.000000</td>\n",
       "      <td>48456.500000</td>\n",
       "      <td>4088.000000</td>\n",
       "      <td>4000.00000</td>\n",
       "      <td>4000.000000</td>\n",
       "      <td>50918.375000</td>\n",
       "    </tr>\n",
       "    <tr>\n",
       "      <th>max</th>\n",
       "      <td>1.000000</td>\n",
       "      <td>1.000000</td>\n",
       "      <td>1.000000</td>\n",
       "      <td>1.000000</td>\n",
       "      <td>1.000000</td>\n",
       "      <td>1.000000</td>\n",
       "      <td>1.000000</td>\n",
       "      <td>1.000000</td>\n",
       "      <td>1.000000</td>\n",
       "      <td>1.000000</td>\n",
       "      <td>1.000000</td>\n",
       "      <td>1.000000</td>\n",
       "      <td>1.00000</td>\n",
       "      <td>1.000000</td>\n",
       "      <td>1.0000</td>\n",
       "      <td>1.000000</td>\n",
       "      <td>1.000000</td>\n",
       "      <td>1.000000</td>\n",
       "      <td>1.000000</td>\n",
       "      <td>1.000000</td>\n",
       "      <td>1.000000</td>\n",
       "      <td>710000.000000</td>\n",
       "      <td>70.000000</td>\n",
       "      <td>499936.000000</td>\n",
       "      <td>505507.000000</td>\n",
       "      <td>500723.000000</td>\n",
       "      <td>511905.000000</td>\n",
       "      <td>621000.000000</td>\n",
       "      <td>317077.00000</td>\n",
       "      <td>280000.000000</td>\n",
       "      <td>496734.750000</td>\n",
       "    </tr>\n",
       "  </tbody>\n",
       "</table>\n",
       "</div>"
      ],
      "text/plain": [
       "             SEX_1        SEX_2  EDUCATION_1  EDUCATION_2  EDUCATION_3  \\\n",
       "count  1875.000000  1875.000000  1875.000000  1875.000000  1875.000000   \n",
       "mean      0.379733     0.620267     0.350400     0.470400     0.166933   \n",
       "std       0.485450     0.485450     0.477222     0.499256     0.373016   \n",
       "min       0.000000     0.000000     0.000000     0.000000     0.000000   \n",
       "25%       0.000000     0.000000     0.000000     0.000000     0.000000   \n",
       "50%       0.000000     1.000000     0.000000     0.000000     0.000000   \n",
       "75%       1.000000     1.000000     1.000000     1.000000     0.000000   \n",
       "max       1.000000     1.000000     1.000000     1.000000     1.000000   \n",
       "\n",
       "       EDUCATION_4   MARRIAGE_1   MARRIAGE_2   MARRIAGE_3     PAY_4_-1  \\\n",
       "count  1875.000000  1875.000000  1875.000000  1875.000000  1875.000000   \n",
       "mean      0.002667     0.454933     0.531733     0.011733     0.187200   \n",
       "std       0.051585     0.498098     0.499125     0.107712     0.390176   \n",
       "min       0.000000     0.000000     0.000000     0.000000     0.000000   \n",
       "25%       0.000000     0.000000     0.000000     0.000000     0.000000   \n",
       "50%       0.000000     0.000000     1.000000     0.000000     0.000000   \n",
       "75%       0.000000     1.000000     1.000000     0.000000     0.000000   \n",
       "max       1.000000     1.000000     1.000000     1.000000     1.000000   \n",
       "\n",
       "          PAY_4_-2      PAY_4_0   PAY_4_>=1     PAY_5_-1   PAY_5_-2  \\\n",
       "count  1875.000000  1875.000000  1875.00000  1875.000000  1875.0000   \n",
       "mean      0.139733     0.551467     0.12160     0.181867     0.1472   \n",
       "std       0.346803     0.497477     0.32691     0.385838     0.3544   \n",
       "min       0.000000     0.000000     0.00000     0.000000     0.0000   \n",
       "25%       0.000000     0.000000     0.00000     0.000000     0.0000   \n",
       "50%       0.000000     1.000000     0.00000     0.000000     0.0000   \n",
       "75%       0.000000     1.000000     0.00000     0.000000     0.0000   \n",
       "max       1.000000     1.000000     1.00000     1.000000     1.0000   \n",
       "\n",
       "           PAY_5_0    PAY_5_>=1     PAY_6_-1     PAY_6_-2      PAY_6_0  \\\n",
       "count  1875.000000  1875.000000  1875.000000  1875.000000  1875.000000   \n",
       "mean      0.564800     0.106133     0.184533     0.165867     0.530667   \n",
       "std       0.495915     0.308090     0.388022     0.372060     0.499192   \n",
       "min       0.000000     0.000000     0.000000     0.000000     0.000000   \n",
       "25%       0.000000     0.000000     0.000000     0.000000     0.000000   \n",
       "50%       1.000000     0.000000     0.000000     0.000000     1.000000   \n",
       "75%       1.000000     0.000000     0.000000     0.000000     1.000000   \n",
       "max       1.000000     1.000000     1.000000     1.000000     1.000000   \n",
       "\n",
       "         PAY_6_>=1      LIMIT_BAL          AGE      BILL_AMT3      BILL_AMT4  \\\n",
       "count  1875.000000    1875.000000  1875.000000    1875.000000    1875.000000   \n",
       "mean      0.118933  163562.666667    35.469333   45181.349333   42704.385600   \n",
       "std       0.323796  128882.400267     9.330439   64920.485069   62000.874961   \n",
       "min       0.000000   10000.000000    21.000000 -157264.000000  -34503.000000   \n",
       "25%       0.000000   50000.000000    28.000000    3251.500000    2589.500000   \n",
       "50%       0.000000  130000.000000    34.000000   19516.000000   19005.000000   \n",
       "75%       0.000000  240000.000000    42.000000   54967.500000   51462.000000   \n",
       "max       1.000000  710000.000000    70.000000  499936.000000  505507.000000   \n",
       "\n",
       "           BILL_AMT5      BILL_AMT6       PAY_AMT4      PAY_AMT5  \\\n",
       "count    1875.000000    1875.000000    1875.000000    1875.00000   \n",
       "mean    39908.773867   38153.220267    5141.612267    4477.24960   \n",
       "std     59276.776584   58098.915770   19816.492203   14336.01572   \n",
       "min     -5857.000000   -5048.000000       0.000000       0.00000   \n",
       "25%      2031.500000    1415.000000     316.000000     157.50000   \n",
       "50%     18238.000000   16929.000000    1500.000000    1500.00000   \n",
       "75%     50232.000000   48456.500000    4088.000000    4000.00000   \n",
       "max    500723.000000  511905.000000  621000.000000  317077.00000   \n",
       "\n",
       "            PAY_AMT6     Prom_monto  \n",
       "count    1875.000000    1875.000000  \n",
       "mean     4953.358933   41486.932267  \n",
       "std     16476.055286   58913.918399  \n",
       "min         0.000000   -5000.000000  \n",
       "25%        93.500000    4026.875000  \n",
       "50%      1500.000000   19172.250000  \n",
       "75%      4000.000000   50918.375000  \n",
       "max    280000.000000  496734.750000  "
      ]
     },
     "execution_count": 39,
     "metadata": {},
     "output_type": "execute_result"
    }
   ],
   "source": [
    "modelo = pd.get_dummies(val[cat]).join(val[num])[ls_best]\n",
    "modelo.describe()"
   ]
  },
  {
   "cell_type": "markdown",
   "metadata": {},
   "source": [
    "### Escalamiento"
   ]
  },
  {
   "cell_type": "code",
   "execution_count": 40,
   "metadata": {
    "ExecuteTime": {
     "end_time": "2020-11-05T21:35:41.003745Z",
     "start_time": "2020-11-05T21:35:40.725552Z"
    }
   },
   "outputs": [
    {
     "data": {
      "text/html": [
       "<div>\n",
       "<style scoped>\n",
       "    .dataframe tbody tr th:only-of-type {\n",
       "        vertical-align: middle;\n",
       "    }\n",
       "\n",
       "    .dataframe tbody tr th {\n",
       "        vertical-align: top;\n",
       "    }\n",
       "\n",
       "    .dataframe thead th {\n",
       "        text-align: right;\n",
       "    }\n",
       "</style>\n",
       "<table border=\"1\" class=\"dataframe\">\n",
       "  <thead>\n",
       "    <tr style=\"text-align: right;\">\n",
       "      <th></th>\n",
       "      <th>SEX_1</th>\n",
       "      <th>SEX_2</th>\n",
       "      <th>EDUCATION_1</th>\n",
       "      <th>EDUCATION_2</th>\n",
       "      <th>EDUCATION_3</th>\n",
       "      <th>EDUCATION_4</th>\n",
       "      <th>MARRIAGE_1</th>\n",
       "      <th>MARRIAGE_2</th>\n",
       "      <th>MARRIAGE_3</th>\n",
       "      <th>PAY_4_-1</th>\n",
       "      <th>PAY_4_-2</th>\n",
       "      <th>PAY_4_0</th>\n",
       "      <th>PAY_4_&gt;=1</th>\n",
       "      <th>PAY_5_-1</th>\n",
       "      <th>PAY_5_-2</th>\n",
       "      <th>PAY_5_0</th>\n",
       "      <th>PAY_5_&gt;=1</th>\n",
       "      <th>PAY_6_-1</th>\n",
       "      <th>PAY_6_-2</th>\n",
       "      <th>PAY_6_0</th>\n",
       "      <th>PAY_6_&gt;=1</th>\n",
       "      <th>LIMIT_BAL</th>\n",
       "      <th>AGE</th>\n",
       "      <th>BILL_AMT3</th>\n",
       "      <th>BILL_AMT4</th>\n",
       "      <th>BILL_AMT5</th>\n",
       "      <th>BILL_AMT6</th>\n",
       "      <th>PAY_AMT4</th>\n",
       "      <th>PAY_AMT5</th>\n",
       "      <th>PAY_AMT6</th>\n",
       "      <th>Prom_monto</th>\n",
       "    </tr>\n",
       "  </thead>\n",
       "  <tbody>\n",
       "    <tr>\n",
       "      <th>count</th>\n",
       "      <td>1875.000000</td>\n",
       "      <td>1875.000000</td>\n",
       "      <td>1875.000000</td>\n",
       "      <td>1875.000000</td>\n",
       "      <td>1875.000000</td>\n",
       "      <td>1875.000000</td>\n",
       "      <td>1875.000000</td>\n",
       "      <td>1875.000000</td>\n",
       "      <td>1875.000000</td>\n",
       "      <td>1875.000000</td>\n",
       "      <td>1875.000000</td>\n",
       "      <td>1875.000000</td>\n",
       "      <td>1875.00000</td>\n",
       "      <td>1875.000000</td>\n",
       "      <td>1875.0000</td>\n",
       "      <td>1875.000000</td>\n",
       "      <td>1875.000000</td>\n",
       "      <td>1875.000000</td>\n",
       "      <td>1875.000000</td>\n",
       "      <td>1875.000000</td>\n",
       "      <td>1875.000000</td>\n",
       "      <td>1875.000000</td>\n",
       "      <td>1875.000000</td>\n",
       "      <td>1875.000000</td>\n",
       "      <td>1875.000000</td>\n",
       "      <td>1875.000000</td>\n",
       "      <td>1875.000000</td>\n",
       "      <td>1875.000000</td>\n",
       "      <td>1875.000000</td>\n",
       "      <td>1875.000000</td>\n",
       "      <td>1875.000000</td>\n",
       "    </tr>\n",
       "    <tr>\n",
       "      <th>mean</th>\n",
       "      <td>0.379733</td>\n",
       "      <td>0.620267</td>\n",
       "      <td>0.350400</td>\n",
       "      <td>0.470400</td>\n",
       "      <td>0.166933</td>\n",
       "      <td>0.002667</td>\n",
       "      <td>0.454933</td>\n",
       "      <td>0.531733</td>\n",
       "      <td>0.011733</td>\n",
       "      <td>0.187200</td>\n",
       "      <td>0.139733</td>\n",
       "      <td>0.551467</td>\n",
       "      <td>0.12160</td>\n",
       "      <td>0.181867</td>\n",
       "      <td>0.1472</td>\n",
       "      <td>0.564800</td>\n",
       "      <td>0.106133</td>\n",
       "      <td>0.184533</td>\n",
       "      <td>0.165867</td>\n",
       "      <td>0.530667</td>\n",
       "      <td>0.118933</td>\n",
       "      <td>0.194383</td>\n",
       "      <td>0.295293</td>\n",
       "      <td>0.061826</td>\n",
       "      <td>0.074731</td>\n",
       "      <td>0.136385</td>\n",
       "      <td>0.119056</td>\n",
       "      <td>0.011898</td>\n",
       "      <td>0.011805</td>\n",
       "      <td>0.011738</td>\n",
       "      <td>0.096144</td>\n",
       "    </tr>\n",
       "    <tr>\n",
       "      <th>std</th>\n",
       "      <td>0.485450</td>\n",
       "      <td>0.485450</td>\n",
       "      <td>0.477222</td>\n",
       "      <td>0.499256</td>\n",
       "      <td>0.373016</td>\n",
       "      <td>0.051585</td>\n",
       "      <td>0.498098</td>\n",
       "      <td>0.499125</td>\n",
       "      <td>0.107712</td>\n",
       "      <td>0.390176</td>\n",
       "      <td>0.346803</td>\n",
       "      <td>0.497477</td>\n",
       "      <td>0.32691</td>\n",
       "      <td>0.385838</td>\n",
       "      <td>0.3544</td>\n",
       "      <td>0.495915</td>\n",
       "      <td>0.308090</td>\n",
       "      <td>0.388022</td>\n",
       "      <td>0.372060</td>\n",
       "      <td>0.499192</td>\n",
       "      <td>0.323796</td>\n",
       "      <td>0.163142</td>\n",
       "      <td>0.190417</td>\n",
       "      <td>0.037622</td>\n",
       "      <td>0.086376</td>\n",
       "      <td>0.104312</td>\n",
       "      <td>0.116354</td>\n",
       "      <td>0.045858</td>\n",
       "      <td>0.037799</td>\n",
       "      <td>0.039043</td>\n",
       "      <td>0.101707</td>\n",
       "    </tr>\n",
       "    <tr>\n",
       "      <th>min</th>\n",
       "      <td>0.000000</td>\n",
       "      <td>0.000000</td>\n",
       "      <td>0.000000</td>\n",
       "      <td>0.000000</td>\n",
       "      <td>0.000000</td>\n",
       "      <td>0.000000</td>\n",
       "      <td>0.000000</td>\n",
       "      <td>0.000000</td>\n",
       "      <td>0.000000</td>\n",
       "      <td>0.000000</td>\n",
       "      <td>0.000000</td>\n",
       "      <td>0.000000</td>\n",
       "      <td>0.00000</td>\n",
       "      <td>0.000000</td>\n",
       "      <td>0.0000</td>\n",
       "      <td>0.000000</td>\n",
       "      <td>0.000000</td>\n",
       "      <td>0.000000</td>\n",
       "      <td>0.000000</td>\n",
       "      <td>0.000000</td>\n",
       "      <td>0.000000</td>\n",
       "      <td>0.000000</td>\n",
       "      <td>0.000000</td>\n",
       "      <td>-0.055493</td>\n",
       "      <td>-0.032829</td>\n",
       "      <td>0.055849</td>\n",
       "      <td>0.032538</td>\n",
       "      <td>0.000000</td>\n",
       "      <td>0.000000</td>\n",
       "      <td>0.000000</td>\n",
       "      <td>0.015890</td>\n",
       "    </tr>\n",
       "    <tr>\n",
       "      <th>25%</th>\n",
       "      <td>0.000000</td>\n",
       "      <td>0.000000</td>\n",
       "      <td>0.000000</td>\n",
       "      <td>0.000000</td>\n",
       "      <td>0.000000</td>\n",
       "      <td>0.000000</td>\n",
       "      <td>0.000000</td>\n",
       "      <td>0.000000</td>\n",
       "      <td>0.000000</td>\n",
       "      <td>0.000000</td>\n",
       "      <td>0.000000</td>\n",
       "      <td>0.000000</td>\n",
       "      <td>0.00000</td>\n",
       "      <td>0.000000</td>\n",
       "      <td>0.0000</td>\n",
       "      <td>0.000000</td>\n",
       "      <td>0.000000</td>\n",
       "      <td>0.000000</td>\n",
       "      <td>0.000000</td>\n",
       "      <td>0.000000</td>\n",
       "      <td>0.000000</td>\n",
       "      <td>0.050633</td>\n",
       "      <td>0.142857</td>\n",
       "      <td>0.037528</td>\n",
       "      <td>0.018846</td>\n",
       "      <td>0.069731</td>\n",
       "      <td>0.045481</td>\n",
       "      <td>0.000731</td>\n",
       "      <td>0.000415</td>\n",
       "      <td>0.000222</td>\n",
       "      <td>0.031474</td>\n",
       "    </tr>\n",
       "    <tr>\n",
       "      <th>50%</th>\n",
       "      <td>0.000000</td>\n",
       "      <td>1.000000</td>\n",
       "      <td>0.000000</td>\n",
       "      <td>0.000000</td>\n",
       "      <td>0.000000</td>\n",
       "      <td>0.000000</td>\n",
       "      <td>0.000000</td>\n",
       "      <td>1.000000</td>\n",
       "      <td>0.000000</td>\n",
       "      <td>0.000000</td>\n",
       "      <td>0.000000</td>\n",
       "      <td>1.000000</td>\n",
       "      <td>0.00000</td>\n",
       "      <td>0.000000</td>\n",
       "      <td>0.0000</td>\n",
       "      <td>1.000000</td>\n",
       "      <td>0.000000</td>\n",
       "      <td>0.000000</td>\n",
       "      <td>0.000000</td>\n",
       "      <td>1.000000</td>\n",
       "      <td>0.000000</td>\n",
       "      <td>0.151899</td>\n",
       "      <td>0.265306</td>\n",
       "      <td>0.046953</td>\n",
       "      <td>0.041715</td>\n",
       "      <td>0.098250</td>\n",
       "      <td>0.076551</td>\n",
       "      <td>0.003471</td>\n",
       "      <td>0.003955</td>\n",
       "      <td>0.003555</td>\n",
       "      <td>0.057620</td>\n",
       "    </tr>\n",
       "    <tr>\n",
       "      <th>75%</th>\n",
       "      <td>1.000000</td>\n",
       "      <td>1.000000</td>\n",
       "      <td>1.000000</td>\n",
       "      <td>1.000000</td>\n",
       "      <td>0.000000</td>\n",
       "      <td>0.000000</td>\n",
       "      <td>1.000000</td>\n",
       "      <td>1.000000</td>\n",
       "      <td>0.000000</td>\n",
       "      <td>0.000000</td>\n",
       "      <td>0.000000</td>\n",
       "      <td>1.000000</td>\n",
       "      <td>0.00000</td>\n",
       "      <td>0.000000</td>\n",
       "      <td>0.0000</td>\n",
       "      <td>1.000000</td>\n",
       "      <td>0.000000</td>\n",
       "      <td>0.000000</td>\n",
       "      <td>0.000000</td>\n",
       "      <td>1.000000</td>\n",
       "      <td>0.000000</td>\n",
       "      <td>0.291139</td>\n",
       "      <td>0.428571</td>\n",
       "      <td>0.067498</td>\n",
       "      <td>0.086932</td>\n",
       "      <td>0.154551</td>\n",
       "      <td>0.139690</td>\n",
       "      <td>0.009460</td>\n",
       "      <td>0.010547</td>\n",
       "      <td>0.009479</td>\n",
       "      <td>0.112426</td>\n",
       "    </tr>\n",
       "    <tr>\n",
       "      <th>max</th>\n",
       "      <td>1.000000</td>\n",
       "      <td>1.000000</td>\n",
       "      <td>1.000000</td>\n",
       "      <td>1.000000</td>\n",
       "      <td>1.000000</td>\n",
       "      <td>1.000000</td>\n",
       "      <td>1.000000</td>\n",
       "      <td>1.000000</td>\n",
       "      <td>1.000000</td>\n",
       "      <td>1.000000</td>\n",
       "      <td>1.000000</td>\n",
       "      <td>1.000000</td>\n",
       "      <td>1.00000</td>\n",
       "      <td>1.000000</td>\n",
       "      <td>1.0000</td>\n",
       "      <td>1.000000</td>\n",
       "      <td>1.000000</td>\n",
       "      <td>1.000000</td>\n",
       "      <td>1.000000</td>\n",
       "      <td>1.000000</td>\n",
       "      <td>1.000000</td>\n",
       "      <td>0.886076</td>\n",
       "      <td>1.000000</td>\n",
       "      <td>0.325361</td>\n",
       "      <td>0.719481</td>\n",
       "      <td>0.947298</td>\n",
       "      <td>1.067833</td>\n",
       "      <td>1.437068</td>\n",
       "      <td>0.836026</td>\n",
       "      <td>0.663507</td>\n",
       "      <td>0.882072</td>\n",
       "    </tr>\n",
       "  </tbody>\n",
       "</table>\n",
       "</div>"
      ],
      "text/plain": [
       "             SEX_1        SEX_2  EDUCATION_1  EDUCATION_2  EDUCATION_3  \\\n",
       "count  1875.000000  1875.000000  1875.000000  1875.000000  1875.000000   \n",
       "mean      0.379733     0.620267     0.350400     0.470400     0.166933   \n",
       "std       0.485450     0.485450     0.477222     0.499256     0.373016   \n",
       "min       0.000000     0.000000     0.000000     0.000000     0.000000   \n",
       "25%       0.000000     0.000000     0.000000     0.000000     0.000000   \n",
       "50%       0.000000     1.000000     0.000000     0.000000     0.000000   \n",
       "75%       1.000000     1.000000     1.000000     1.000000     0.000000   \n",
       "max       1.000000     1.000000     1.000000     1.000000     1.000000   \n",
       "\n",
       "       EDUCATION_4   MARRIAGE_1   MARRIAGE_2   MARRIAGE_3     PAY_4_-1  \\\n",
       "count  1875.000000  1875.000000  1875.000000  1875.000000  1875.000000   \n",
       "mean      0.002667     0.454933     0.531733     0.011733     0.187200   \n",
       "std       0.051585     0.498098     0.499125     0.107712     0.390176   \n",
       "min       0.000000     0.000000     0.000000     0.000000     0.000000   \n",
       "25%       0.000000     0.000000     0.000000     0.000000     0.000000   \n",
       "50%       0.000000     0.000000     1.000000     0.000000     0.000000   \n",
       "75%       0.000000     1.000000     1.000000     0.000000     0.000000   \n",
       "max       1.000000     1.000000     1.000000     1.000000     1.000000   \n",
       "\n",
       "          PAY_4_-2      PAY_4_0   PAY_4_>=1     PAY_5_-1   PAY_5_-2  \\\n",
       "count  1875.000000  1875.000000  1875.00000  1875.000000  1875.0000   \n",
       "mean      0.139733     0.551467     0.12160     0.181867     0.1472   \n",
       "std       0.346803     0.497477     0.32691     0.385838     0.3544   \n",
       "min       0.000000     0.000000     0.00000     0.000000     0.0000   \n",
       "25%       0.000000     0.000000     0.00000     0.000000     0.0000   \n",
       "50%       0.000000     1.000000     0.00000     0.000000     0.0000   \n",
       "75%       0.000000     1.000000     0.00000     0.000000     0.0000   \n",
       "max       1.000000     1.000000     1.00000     1.000000     1.0000   \n",
       "\n",
       "           PAY_5_0    PAY_5_>=1     PAY_6_-1     PAY_6_-2      PAY_6_0  \\\n",
       "count  1875.000000  1875.000000  1875.000000  1875.000000  1875.000000   \n",
       "mean      0.564800     0.106133     0.184533     0.165867     0.530667   \n",
       "std       0.495915     0.308090     0.388022     0.372060     0.499192   \n",
       "min       0.000000     0.000000     0.000000     0.000000     0.000000   \n",
       "25%       0.000000     0.000000     0.000000     0.000000     0.000000   \n",
       "50%       1.000000     0.000000     0.000000     0.000000     1.000000   \n",
       "75%       1.000000     0.000000     0.000000     0.000000     1.000000   \n",
       "max       1.000000     1.000000     1.000000     1.000000     1.000000   \n",
       "\n",
       "         PAY_6_>=1    LIMIT_BAL          AGE    BILL_AMT3    BILL_AMT4  \\\n",
       "count  1875.000000  1875.000000  1875.000000  1875.000000  1875.000000   \n",
       "mean      0.118933     0.194383     0.295293     0.061826     0.074731   \n",
       "std       0.323796     0.163142     0.190417     0.037622     0.086376   \n",
       "min       0.000000     0.000000     0.000000    -0.055493    -0.032829   \n",
       "25%       0.000000     0.050633     0.142857     0.037528     0.018846   \n",
       "50%       0.000000     0.151899     0.265306     0.046953     0.041715   \n",
       "75%       0.000000     0.291139     0.428571     0.067498     0.086932   \n",
       "max       1.000000     0.886076     1.000000     0.325361     0.719481   \n",
       "\n",
       "         BILL_AMT5    BILL_AMT6     PAY_AMT4     PAY_AMT5     PAY_AMT6  \\\n",
       "count  1875.000000  1875.000000  1875.000000  1875.000000  1875.000000   \n",
       "mean      0.136385     0.119056     0.011898     0.011805     0.011738   \n",
       "std       0.104312     0.116354     0.045858     0.037799     0.039043   \n",
       "min       0.055849     0.032538     0.000000     0.000000     0.000000   \n",
       "25%       0.069731     0.045481     0.000731     0.000415     0.000222   \n",
       "50%       0.098250     0.076551     0.003471     0.003955     0.003555   \n",
       "75%       0.154551     0.139690     0.009460     0.010547     0.009479   \n",
       "max       0.947298     1.067833     1.437068     0.836026     0.663507   \n",
       "\n",
       "        Prom_monto  \n",
       "count  1875.000000  \n",
       "mean      0.096144  \n",
       "std       0.101707  \n",
       "min       0.015890  \n",
       "25%       0.031474  \n",
       "50%       0.057620  \n",
       "75%       0.112426  \n",
       "max       0.882072  "
      ]
     },
     "execution_count": 40,
     "metadata": {},
     "output_type": "execute_result"
    }
   ],
   "source": [
    "modelo = pd.DataFrame(mm_x.transform(modelo), columns = modelo.columns)\n",
    "modelo.describe()"
   ]
  },
  {
   "cell_type": "markdown",
   "metadata": {},
   "source": [
    "### Predicción"
   ]
  },
  {
   "cell_type": "code",
   "execution_count": 41,
   "metadata": {
    "ExecuteTime": {
     "end_time": "2020-11-05T21:35:41.066434Z",
     "start_time": "2020-11-05T21:35:41.008804Z"
    }
   },
   "outputs": [
    {
     "data": {
      "text/plain": [
       "count      1875.000000\n",
       "mean       5339.954320\n",
       "std        9918.242840\n",
       "min      -24763.440133\n",
       "25%         918.391498\n",
       "50%        3115.268055\n",
       "75%        7460.465493\n",
       "max      156767.758010\n",
       "Name: y_hat, dtype: float64"
      ]
     },
     "execution_count": 41,
     "metadata": {},
     "output_type": "execute_result"
    }
   ],
   "source": [
    "resultado = pd.DataFrame(elasnet_h.predict(modelo))\n",
    "resultado = pd.DataFrame(mm_y.inverse_transform(resultado),\n",
    "                         columns = ['y_hat'])\n",
    "resultado = pd.DataFrame(val['CUSTOMER_ID']).join(resultado)\n",
    "resultado['y_hat'].describe()"
   ]
  },
  {
   "cell_type": "code",
   "execution_count": 42,
   "metadata": {
    "ExecuteTime": {
     "end_time": "2020-11-05T21:35:41.150709Z",
     "start_time": "2020-11-05T21:35:41.077895Z"
    }
   },
   "outputs": [
    {
     "data": {
      "text/plain": [
       "(count      5554.000000\n",
       " mean       5325.640619\n",
       " std       16311.347401\n",
       " min           0.000000\n",
       " 25%         361.250000\n",
       " 50%        1700.000000\n",
       " 75%        4705.500000\n",
       " max      397092.000000\n",
       " Name: PAY_AMT3, dtype: float64,\n",
       "             PAY_AMT3\n",
       " count     556.000000\n",
       " mean     5325.172662\n",
       " std     17220.386489\n",
       " min         0.000000\n",
       " 25%       379.000000\n",
       " 50%      1669.000000\n",
       " 75%      4459.500000\n",
       " max    278006.000000)"
      ]
     },
     "execution_count": 42,
     "metadata": {},
     "output_type": "execute_result"
    }
   ],
   "source": [
    "df['PAY_AMT3'].describe() , pd.DataFrame(y_test).describe()"
   ]
  },
  {
   "cell_type": "code",
   "execution_count": 43,
   "metadata": {
    "ExecuteTime": {
     "end_time": "2020-11-05T21:35:41.240919Z",
     "start_time": "2020-11-05T21:35:41.162930Z"
    },
    "scrolled": true
   },
   "outputs": [
    {
     "data": {
      "text/plain": [
       "count      1875.000000\n",
       "mean       5953.972279\n",
       "std        9275.281257\n",
       "min           0.000000\n",
       "25%         918.391498\n",
       "50%        3115.268055\n",
       "75%        7460.465493\n",
       "max      156767.758010\n",
       "Name: y_hat, dtype: float64"
      ]
     },
     "execution_count": 43,
     "metadata": {},
     "output_type": "execute_result"
    }
   ],
   "source": [
    "## Hay predicciones negativas, se omiten\n",
    "aux = []\n",
    "for x in resultado['y_hat']:\n",
    "    if x < 0:\n",
    "        aux.append(0)\n",
    "    else:\n",
    "        aux.append(x)\n",
    "\n",
    "resultado['y_hat'] = aux\n",
    "resultado['y_hat'].describe()"
   ]
  },
  {
   "cell_type": "code",
   "execution_count": 44,
   "metadata": {
    "ExecuteTime": {
     "end_time": "2020-11-05T21:35:41.269739Z",
     "start_time": "2020-11-05T21:35:41.245075Z"
    }
   },
   "outputs": [],
   "source": [
    "resultado.to_csv(liga + 'FloresHernandezEfrainIsmael_PAYAMT3.csv',\n",
    "                 index = False)"
   ]
  }
 ],
 "metadata": {
  "kernelspec": {
   "display_name": "Python 3",
   "language": "python",
   "name": "python3"
  },
  "language_info": {
   "codemirror_mode": {
    "name": "ipython",
    "version": 3
   },
   "file_extension": ".py",
   "mimetype": "text/x-python",
   "name": "python",
   "nbconvert_exporter": "python",
   "pygments_lexer": "ipython3",
   "version": "3.8.5"
  },
  "toc": {
   "base_numbering": 1,
   "nav_menu": {},
   "number_sections": true,
   "sideBar": true,
   "skip_h1_title": true,
   "title_cell": "Table of Contents",
   "title_sidebar": "Contents",
   "toc_cell": false,
   "toc_position": {
    "height": "calc(100% - 180px)",
    "left": "10px",
    "top": "150px",
    "width": "203.542px"
   },
   "toc_section_display": true,
   "toc_window_display": true
  },
  "varInspector": {
   "cols": {
    "lenName": 16,
    "lenType": 16,
    "lenVar": 40
   },
   "kernels_config": {
    "python": {
     "delete_cmd_postfix": "",
     "delete_cmd_prefix": "del ",
     "library": "var_list.py",
     "varRefreshCmd": "print(var_dic_list())"
    },
    "r": {
     "delete_cmd_postfix": ") ",
     "delete_cmd_prefix": "rm(",
     "library": "var_list.r",
     "varRefreshCmd": "cat(var_dic_list()) "
    }
   },
   "types_to_exclude": [
    "module",
    "function",
    "builtin_function_or_method",
    "instance",
    "_Feature"
   ],
   "window_display": false
  }
 },
 "nbformat": 4,
 "nbformat_minor": 4
}
