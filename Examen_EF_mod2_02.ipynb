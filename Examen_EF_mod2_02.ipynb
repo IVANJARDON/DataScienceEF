{
 "cells": [
  {
   "cell_type": "markdown",
   "metadata": {},
   "source": [
    "# EXAMEN 2 mod2 "
   ]
  },
  {
   "cell_type": "markdown",
   "metadata": {},
   "source": [
    "## Importar"
   ]
  },
  {
   "cell_type": "code",
   "execution_count": 1,
   "metadata": {
    "ExecuteTime": {
     "end_time": "2020-11-21T17:14:39.545774Z",
     "start_time": "2020-11-21T17:14:38.897727Z"
    }
   },
   "outputs": [],
   "source": [
    "# %load basic\n",
    "import pandas as pd\n",
    "import numpy as np\n",
    "import matplotlib.pyplot as plt\n",
    "pd.set_option('display.max_columns',200)\n",
    "pd.options.display.float_format = '{:.2f}'.format\n",
    "liga = '/home/ef/Documents/Diplomado/EXAMEN0202/Copia de '"
   ]
  },
  {
   "cell_type": "code",
   "execution_count": 2,
   "metadata": {
    "ExecuteTime": {
     "end_time": "2020-11-21T17:14:39.861510Z",
     "start_time": "2020-11-21T17:14:39.551104Z"
    }
   },
   "outputs": [],
   "source": [
    "df = pd.read_csv(liga + 'summary.csv')\n",
    "genre = pd.read_csv(liga + 'song_genres.csv')\n",
    "feat = pd.read_csv(liga + 'audio_features.csv')\n",
    "lyrics = pd.read_csv(liga + 'song_lyrics.csv')"
   ]
  },
  {
   "cell_type": "code",
   "execution_count": 3,
   "metadata": {
    "ExecuteTime": {
     "end_time": "2020-11-21T17:14:40.016345Z",
     "start_time": "2020-11-21T17:14:39.866851Z"
    }
   },
   "outputs": [],
   "source": [
    "## Se une con género, audio features y lyrics\n",
    "df = df.merge(genre, \n",
    "              on = 'track_id',\n",
    "              how = 'left').merge(feat,\n",
    "                                  on = 'track_id',\n",
    "                                  how = 'left').merge(lyrics, \n",
    "                                                      on = 'track_id',\n",
    "                                                      how = 'left')"
   ]
  },
  {
   "cell_type": "code",
   "execution_count": 4,
   "metadata": {
    "ExecuteTime": {
     "end_time": "2020-11-21T17:14:41.296084Z",
     "start_time": "2020-11-21T17:14:40.019485Z"
    }
   },
   "outputs": [],
   "source": [
    "song = pd.read_csv(liga + 'song_play_count.csv')\n",
    "## Se agrupa el promedio por canción\n",
    "song = pd.DataFrame(song.groupby('song_id')['play_count'].mean()).reset_index()\n",
    "## Se une con summary\n",
    "df = df.merge(song, on = 'song_id', how = 'left')"
   ]
  },
  {
   "cell_type": "code",
   "execution_count": 5,
   "metadata": {
    "ExecuteTime": {
     "end_time": "2020-11-21T17:14:41.727577Z",
     "start_time": "2020-11-21T17:14:41.305388Z"
    }
   },
   "outputs": [],
   "source": [
    "tags = pd.read_csv(liga + 'artist_tags.csv')\n",
    "terms = pd.read_csv(liga + 'artist_terms.csv')\n",
    "loc = pd.read_csv(liga + 'artist_location.csv')\n",
    "\n",
    "## Se une con summary\n",
    "df = df.merge(tags, \n",
    "              on = 'artist_id', \n",
    "              how = 'left').merge(terms, \n",
    "                                  on = 'artist_id', \n",
    "                                  how = 'left').merge(loc, \n",
    "                                                      on = 'artist_id',\n",
    "                                                      how = 'left')\n"
   ]
  },
  {
   "cell_type": "markdown",
   "metadata": {},
   "source": [
    "## Análisis exploratorio"
   ]
  },
  {
   "cell_type": "code",
   "execution_count": 6,
   "metadata": {
    "ExecuteTime": {
     "end_time": "2020-11-21T17:14:41.884610Z",
     "start_time": "2020-11-21T17:14:41.730552Z"
    }
   },
   "outputs": [],
   "source": [
    "## Se omiten las columnas sin varianza\n",
    "df = df[[x for x in df.columns if x not in ['energy',\n",
    "                                            'analysis_sample_rate_x',\n",
    "                                            'analysis_sample_rate_y',\n",
    "                                            'sample_rate', \n",
    "                                            'equal_loudness', \n",
    "                                            'lossless',\n",
    "                                            'artist']]].copy()"
   ]
  },
  {
   "cell_type": "code",
   "execution_count": 7,
   "metadata": {
    "ExecuteTime": {
     "end_time": "2020-11-21T17:14:41.986316Z",
     "start_time": "2020-11-21T17:14:41.888647Z"
    }
   },
   "outputs": [],
   "source": [
    "words = [x for x in df.columns if x in lyrics.columns[1:]]\n",
    "df[words] = df[words].fillna(-1)\n",
    "df[['longitude','latitude','play_count']] = df[['longitude',\n",
    "                                                'latitude',\n",
    "                                                'play_count']].fillna(0)\n",
    "df[['main_genre','location','mbtag']] = df[['main_genre',\n",
    "                                            'location',\n",
    "                                            'mbtag']].fillna('No_aplica')"
   ]
  },
  {
   "cell_type": "code",
   "execution_count": 8,
   "metadata": {
    "ExecuteTime": {
     "end_time": "2020-11-21T17:14:42.149767Z",
     "start_time": "2020-11-21T17:14:41.992323Z"
    }
   },
   "outputs": [
    {
     "data": {
      "text/html": [
       "<div>\n",
       "<style scoped>\n",
       "    .dataframe tbody tr th:only-of-type {\n",
       "        vertical-align: middle;\n",
       "    }\n",
       "\n",
       "    .dataframe tbody tr th {\n",
       "        vertical-align: top;\n",
       "    }\n",
       "\n",
       "    .dataframe thead th {\n",
       "        text-align: right;\n",
       "    }\n",
       "</style>\n",
       "<table border=\"1\" class=\"dataframe\">\n",
       "  <thead>\n",
       "    <tr style=\"text-align: right;\">\n",
       "      <th></th>\n",
       "      <th>0</th>\n",
       "    </tr>\n",
       "  </thead>\n",
       "  <tbody>\n",
       "    <tr>\n",
       "      <th>term</th>\n",
       "      <td>0.00</td>\n",
       "    </tr>\n",
       "    <tr>\n",
       "      <th>track_id</th>\n",
       "      <td>0.00</td>\n",
       "    </tr>\n",
       "    <tr>\n",
       "      <th>of</th>\n",
       "      <td>0.00</td>\n",
       "    </tr>\n",
       "    <tr>\n",
       "      <th>need</th>\n",
       "      <td>0.00</td>\n",
       "    </tr>\n",
       "    <tr>\n",
       "      <th>never</th>\n",
       "      <td>0.00</td>\n",
       "    </tr>\n",
       "  </tbody>\n",
       "</table>\n",
       "</div>"
      ],
      "text/plain": [
       "            0\n",
       "term     0.00\n",
       "track_id 0.00\n",
       "of       0.00\n",
       "need     0.00\n",
       "never    0.00"
      ]
     },
     "execution_count": 8,
     "metadata": {},
     "output_type": "execute_result"
    }
   ],
   "source": [
    "df = df[~df['happiness'].isnull()].copy()\n",
    "df.reset_index(drop = True, inplace = True)\n",
    "pd.DataFrame(df.isnull().sum() / len(df)\n",
    "            ).sort_values(by = 0,\n",
    "                          ascending = False).head(5)"
   ]
  },
  {
   "cell_type": "code",
   "execution_count": 9,
   "metadata": {
    "ExecuteTime": {
     "end_time": "2020-11-21T17:14:43.235583Z",
     "start_time": "2020-11-21T17:14:42.154026Z"
    }
   },
   "outputs": [
    {
     "data": {
      "text/plain": [
       "rock         0.39\n",
       "pop          0.15\n",
       "electronic   0.09\n",
       "metal        0.08\n",
       "jazz         0.08\n",
       "rap          0.04\n",
       "punk         0.03\n",
       "blues        0.03\n",
       "folk         0.02\n",
       "country      0.02\n",
       "reggae       0.02\n",
       "rnb          0.02\n",
       "latin        0.01\n",
       "world        0.01\n",
       "no_aplica    0.00\n",
       "new age      0.00\n",
       "Name: main_genre, dtype: float64"
      ]
     },
     "execution_count": 9,
     "metadata": {},
     "output_type": "execute_result"
    }
   ],
   "source": [
    "## Se genera lista de géneros por default\n",
    "generos = list(pd.DataFrame(df['main_genre'].value_counts(1)).reset_index().iloc[1:,0])\n",
    "generos = [x.lower() for x in generos]\n",
    "\n",
    "## Columnas con la unión de tags y terms\n",
    "df['buscar'] = df['mbtag'].astype(str) + df['term'].astype(str) + ['fin fin']\n",
    "\n",
    "## Se busca en la columna creada el primer género mencionado\n",
    "aux = []\n",
    "for i in range(len(df)):\n",
    "    if df['main_genre'][i] == 'No_aplica':\n",
    "        apoyo = [x for x in df['buscar'][i].split() if x in generos] + ['No_aplica']\n",
    "        apoyo = apoyo[0].lower()\n",
    "        aux.append(apoyo)\n",
    "    else:\n",
    "        aux.append(df['main_genre'][i])\n",
    "\n",
    "## Se reemplaza la columna\n",
    "df['main_genre'] = aux\n",
    "## Se vuelven minúsculas todas las letras\n",
    "df['main_genre'] = [x.lower() for x in df['main_genre']]\n",
    "## Ahora existen muy pocas con \"No aplica\" (nulos)\n",
    "df['main_genre'].value_counts(1)"
   ]
  },
  {
   "cell_type": "markdown",
   "metadata": {},
   "source": [
    "## ETL"
   ]
  },
  {
   "cell_type": "markdown",
   "metadata": {},
   "source": [
    "### Crear funciones"
   ]
  },
  {
   "cell_type": "code",
   "execution_count": 10,
   "metadata": {
    "ExecuteTime": {
     "end_time": "2020-11-21T17:14:43.253382Z",
     "start_time": "2020-11-21T17:14:43.245408Z"
    }
   },
   "outputs": [],
   "source": [
    "def longitud(df,col):\n",
    "    df[f'{col}_long'] = df[col].str.len()\n",
    "    df[f'{col}_n_words'] = df[col].str.split(' ').str.len()\n",
    "    df[f'{col}_n_letters'] = df[col].map(lambda x:sum(map(str.isalpha, x)))\n",
    "    return df"
   ]
  },
  {
   "cell_type": "markdown",
   "metadata": {},
   "source": [
    "### Aplicarlas"
   ]
  },
  {
   "cell_type": "code",
   "execution_count": 11,
   "metadata": {
    "ExecuteTime": {
     "end_time": "2020-11-21T17:14:44.446579Z",
     "start_time": "2020-11-21T17:14:43.256276Z"
    },
    "scrolled": true
   },
   "outputs": [],
   "source": [
    "df = df[[x for x in df.columns if x not in ['track_id', 'song_id', 'artist_id',\n",
    "                                            'codec', 'downmix', 'md5_encoded',\n",
    "                                            'location', 'buscar', 'longitude', 'latitude']]]\n",
    "\n",
    "num = [x for x in list(df.describe().columns) if x not in words]\n",
    "cat = list(df[[x for x in df.columns if x not in num + words]].columns)\n",
    "df[cat] = df[cat].astype(str)\n",
    "df = df[cat + num + words].copy()"
   ]
  },
  {
   "cell_type": "code",
   "execution_count": 12,
   "metadata": {
    "ExecuteTime": {
     "end_time": "2020-11-21T17:14:45.961390Z",
     "start_time": "2020-11-21T17:14:44.452430Z"
    }
   },
   "outputs": [],
   "source": [
    "## Se aplica las funciones y algunas extra\n",
    "for col in ['title', 'artist_name', 'release', 'mbtag', 'term']:\n",
    "    df = longitud(df,col)"
   ]
  },
  {
   "cell_type": "markdown",
   "metadata": {
    "ExecuteTime": {
     "end_time": "2020-11-14T22:47:49.797725Z",
     "start_time": "2020-11-14T22:47:49.453662Z"
    }
   },
   "source": [
    "### Outliers"
   ]
  },
  {
   "cell_type": "code",
   "execution_count": 13,
   "metadata": {
    "ExecuteTime": {
     "end_time": "2020-11-21T17:14:46.029309Z",
     "start_time": "2020-11-21T17:14:45.963433Z"
    }
   },
   "outputs": [],
   "source": [
    "## Función para omitir outliers mediante IQR\n",
    "def outlier(df, x , p = 0.2):\n",
    "    var = df[x]\n",
    "    q1 = var.quantile(p/2) #acota el % indicado, tanto máx como mín\n",
    "    q3 = var.quantile(1 - p/2)\n",
    "    iqr = q3 - q1\n",
    "\n",
    "    df = df[(var.isnull()) | ((var >= q1 - 1.5*iqr) & (var <= q3 + 1.5*iqr))].copy()\n",
    "    df.reset_index(drop = True, inplace = True)\n",
    "    return df"
   ]
  },
  {
   "cell_type": "code",
   "execution_count": 14,
   "metadata": {
    "ExecuteTime": {
     "end_time": "2020-11-21T17:14:48.149173Z",
     "start_time": "2020-11-21T17:14:46.039535Z"
    }
   },
   "outputs": [
    {
     "data": {
      "text/html": [
       "<div>\n",
       "<style scoped>\n",
       "    .dataframe tbody tr th:only-of-type {\n",
       "        vertical-align: middle;\n",
       "    }\n",
       "\n",
       "    .dataframe tbody tr th {\n",
       "        vertical-align: top;\n",
       "    }\n",
       "\n",
       "    .dataframe thead th {\n",
       "        text-align: right;\n",
       "    }\n",
       "</style>\n",
       "<table border=\"1\" class=\"dataframe\">\n",
       "  <thead>\n",
       "    <tr style=\"text-align: right;\">\n",
       "      <th></th>\n",
       "      <th>mode_confidence</th>\n",
       "      <th>end_of_fade_in</th>\n",
       "      <th>key_confidence</th>\n",
       "      <th>year</th>\n",
       "      <th>duration</th>\n",
       "      <th>time_signature_confidence</th>\n",
       "      <th>start_of_fade_out</th>\n",
       "      <th>time_signature</th>\n",
       "      <th>tempo</th>\n",
       "      <th>artist_hotttnesss</th>\n",
       "      <th>key</th>\n",
       "      <th>loudness</th>\n",
       "      <th>bit_rate</th>\n",
       "      <th>length</th>\n",
       "      <th>replay_gain</th>\n",
       "      <th>danceability</th>\n",
       "      <th>femaleness</th>\n",
       "      <th>acousticness</th>\n",
       "      <th>aggressiveness</th>\n",
       "      <th>electronicity</th>\n",
       "      <th>happiness</th>\n",
       "      <th>festiveness</th>\n",
       "      <th>relaxation</th>\n",
       "      <th>sadness</th>\n",
       "      <th>brightness</th>\n",
       "      <th>tonality</th>\n",
       "      <th>insrumentalness</th>\n",
       "      <th>play_count</th>\n",
       "    </tr>\n",
       "  </thead>\n",
       "  <tbody>\n",
       "    <tr>\n",
       "      <th>count</th>\n",
       "      <td>37400.00</td>\n",
       "      <td>37400.00</td>\n",
       "      <td>37400.00</td>\n",
       "      <td>37400.00</td>\n",
       "      <td>37400.00</td>\n",
       "      <td>37400.00</td>\n",
       "      <td>37400.00</td>\n",
       "      <td>37400.00</td>\n",
       "      <td>37400.00</td>\n",
       "      <td>37400.00</td>\n",
       "      <td>37400.00</td>\n",
       "      <td>37400.00</td>\n",
       "      <td>37400.00</td>\n",
       "      <td>37400.00</td>\n",
       "      <td>37400.00</td>\n",
       "      <td>37400.00</td>\n",
       "      <td>37400.00</td>\n",
       "      <td>37400.00</td>\n",
       "      <td>37400.00</td>\n",
       "      <td>37400.00</td>\n",
       "      <td>37400.00</td>\n",
       "      <td>37400.00</td>\n",
       "      <td>37400.00</td>\n",
       "      <td>37400.00</td>\n",
       "      <td>37400.00</td>\n",
       "      <td>37400.00</td>\n",
       "      <td>37400.00</td>\n",
       "      <td>37400.00</td>\n",
       "    </tr>\n",
       "    <tr>\n",
       "      <th>mean</th>\n",
       "      <td>0.47</td>\n",
       "      <td>0.93</td>\n",
       "      <td>0.44</td>\n",
       "      <td>1996.67</td>\n",
       "      <td>248.82</td>\n",
       "      <td>0.52</td>\n",
       "      <td>239.69</td>\n",
       "      <td>3.63</td>\n",
       "      <td>125.20</td>\n",
       "      <td>0.47</td>\n",
       "      <td>5.35</td>\n",
       "      <td>-9.72</td>\n",
       "      <td>110715.74</td>\n",
       "      <td>44.99</td>\n",
       "      <td>-10.78</td>\n",
       "      <td>0.43</td>\n",
       "      <td>0.54</td>\n",
       "      <td>0.31</td>\n",
       "      <td>0.38</td>\n",
       "      <td>0.47</td>\n",
       "      <td>0.46</td>\n",
       "      <td>0.41</td>\n",
       "      <td>0.47</td>\n",
       "      <td>0.37</td>\n",
       "      <td>0.60</td>\n",
       "      <td>0.54</td>\n",
       "      <td>0.25</td>\n",
       "      <td>1.33</td>\n",
       "    </tr>\n",
       "    <tr>\n",
       "      <th>std</th>\n",
       "      <td>0.19</td>\n",
       "      <td>2.19</td>\n",
       "      <td>0.28</td>\n",
       "      <td>11.69</td>\n",
       "      <td>109.82</td>\n",
       "      <td>0.37</td>\n",
       "      <td>107.97</td>\n",
       "      <td>1.20</td>\n",
       "      <td>34.43</td>\n",
       "      <td>0.12</td>\n",
       "      <td>3.61</td>\n",
       "      <td>4.86</td>\n",
       "      <td>28612.50</td>\n",
       "      <td>16.06</td>\n",
       "      <td>3.79</td>\n",
       "      <td>0.38</td>\n",
       "      <td>0.32</td>\n",
       "      <td>0.36</td>\n",
       "      <td>0.38</td>\n",
       "      <td>0.32</td>\n",
       "      <td>0.28</td>\n",
       "      <td>0.31</td>\n",
       "      <td>0.36</td>\n",
       "      <td>0.31</td>\n",
       "      <td>0.36</td>\n",
       "      <td>0.38</td>\n",
       "      <td>0.35</td>\n",
       "      <td>1.86</td>\n",
       "    </tr>\n",
       "    <tr>\n",
       "      <th>min</th>\n",
       "      <td>0.00</td>\n",
       "      <td>0.00</td>\n",
       "      <td>0.00</td>\n",
       "      <td>1927.00</td>\n",
       "      <td>0.78</td>\n",
       "      <td>0.00</td>\n",
       "      <td>0.78</td>\n",
       "      <td>0.00</td>\n",
       "      <td>0.00</td>\n",
       "      <td>0.00</td>\n",
       "      <td>0.00</td>\n",
       "      <td>-52.25</td>\n",
       "      <td>51080.00</td>\n",
       "      <td>0.99</td>\n",
       "      <td>-21.99</td>\n",
       "      <td>0.00</td>\n",
       "      <td>0.00</td>\n",
       "      <td>0.00</td>\n",
       "      <td>0.00</td>\n",
       "      <td>0.00</td>\n",
       "      <td>0.00</td>\n",
       "      <td>0.00</td>\n",
       "      <td>0.00</td>\n",
       "      <td>0.00</td>\n",
       "      <td>0.00</td>\n",
       "      <td>0.00</td>\n",
       "      <td>0.00</td>\n",
       "      <td>0.00</td>\n",
       "    </tr>\n",
       "    <tr>\n",
       "      <th>1%</th>\n",
       "      <td>0.00</td>\n",
       "      <td>0.00</td>\n",
       "      <td>0.00</td>\n",
       "      <td>1960.00</td>\n",
       "      <td>44.93</td>\n",
       "      <td>0.00</td>\n",
       "      <td>44.02</td>\n",
       "      <td>1.00</td>\n",
       "      <td>49.59</td>\n",
       "      <td>0.00</td>\n",
       "      <td>0.00</td>\n",
       "      <td>-25.66</td>\n",
       "      <td>64028.00</td>\n",
       "      <td>29.54</td>\n",
       "      <td>-16.75</td>\n",
       "      <td>0.00</td>\n",
       "      <td>0.00</td>\n",
       "      <td>0.00</td>\n",
       "      <td>0.00</td>\n",
       "      <td>0.01</td>\n",
       "      <td>0.00</td>\n",
       "      <td>0.00</td>\n",
       "      <td>0.00</td>\n",
       "      <td>0.01</td>\n",
       "      <td>0.00</td>\n",
       "      <td>0.00</td>\n",
       "      <td>0.00</td>\n",
       "      <td>0.00</td>\n",
       "    </tr>\n",
       "    <tr>\n",
       "      <th>10%</th>\n",
       "      <td>0.23</td>\n",
       "      <td>0.00</td>\n",
       "      <td>0.03</td>\n",
       "      <td>1979.00</td>\n",
       "      <td>141.19</td>\n",
       "      <td>0.00</td>\n",
       "      <td>133.43</td>\n",
       "      <td>1.00</td>\n",
       "      <td>86.09</td>\n",
       "      <td>0.35</td>\n",
       "      <td>0.00</td>\n",
       "      <td>-16.12</td>\n",
       "      <td>64028.00</td>\n",
       "      <td>30.04</td>\n",
       "      <td>-14.79</td>\n",
       "      <td>0.01</td>\n",
       "      <td>0.08</td>\n",
       "      <td>0.00</td>\n",
       "      <td>0.01</td>\n",
       "      <td>0.07</td>\n",
       "      <td>0.08</td>\n",
       "      <td>0.02</td>\n",
       "      <td>0.03</td>\n",
       "      <td>0.03</td>\n",
       "      <td>0.05</td>\n",
       "      <td>0.02</td>\n",
       "      <td>0.00</td>\n",
       "      <td>0.00</td>\n",
       "    </tr>\n",
       "    <tr>\n",
       "      <th>50%</th>\n",
       "      <td>0.48</td>\n",
       "      <td>0.20</td>\n",
       "      <td>0.46</td>\n",
       "      <td>2000.00</td>\n",
       "      <td>232.33</td>\n",
       "      <td>0.56</td>\n",
       "      <td>222.80</td>\n",
       "      <td>4.00</td>\n",
       "      <td>123.01</td>\n",
       "      <td>0.46</td>\n",
       "      <td>6.00</td>\n",
       "      <td>-8.66</td>\n",
       "      <td>128056.00</td>\n",
       "      <td>34.04</td>\n",
       "      <td>-11.55</td>\n",
       "      <td>0.33</td>\n",
       "      <td>0.57</td>\n",
       "      <td>0.10</td>\n",
       "      <td>0.22</td>\n",
       "      <td>0.43</td>\n",
       "      <td>0.45</td>\n",
       "      <td>0.38</td>\n",
       "      <td>0.43</td>\n",
       "      <td>0.28</td>\n",
       "      <td>0.70</td>\n",
       "      <td>0.61</td>\n",
       "      <td>0.05</td>\n",
       "      <td>1.12</td>\n",
       "    </tr>\n",
       "    <tr>\n",
       "      <th>90%</th>\n",
       "      <td>0.71</td>\n",
       "      <td>3.07</td>\n",
       "      <td>0.80</td>\n",
       "      <td>2008.00</td>\n",
       "      <td>372.35</td>\n",
       "      <td>1.00</td>\n",
       "      <td>360.79</td>\n",
       "      <td>4.00</td>\n",
       "      <td>170.21</td>\n",
       "      <td>0.60</td>\n",
       "      <td>10.00</td>\n",
       "      <td>-4.63</td>\n",
       "      <td>128111.00</td>\n",
       "      <td>60.08</td>\n",
       "      <td>-5.82</td>\n",
       "      <td>0.99</td>\n",
       "      <td>0.97</td>\n",
       "      <td>0.93</td>\n",
       "      <td>0.98</td>\n",
       "      <td>0.94</td>\n",
       "      <td>0.86</td>\n",
       "      <td>0.85</td>\n",
       "      <td>0.97</td>\n",
       "      <td>0.87</td>\n",
       "      <td>0.99</td>\n",
       "      <td>0.99</td>\n",
       "      <td>0.93</td>\n",
       "      <td>3.11</td>\n",
       "    </tr>\n",
       "    <tr>\n",
       "      <th>99%</th>\n",
       "      <td>0.88</td>\n",
       "      <td>9.39</td>\n",
       "      <td>1.00</td>\n",
       "      <td>2010.00</td>\n",
       "      <td>620.04</td>\n",
       "      <td>1.00</td>\n",
       "      <td>601.32</td>\n",
       "      <td>7.00</td>\n",
       "      <td>219.76</td>\n",
       "      <td>0.82</td>\n",
       "      <td>11.00</td>\n",
       "      <td>-2.81</td>\n",
       "      <td>128111.00</td>\n",
       "      <td>60.13</td>\n",
       "      <td>1.23</td>\n",
       "      <td>1.00</td>\n",
       "      <td>1.00</td>\n",
       "      <td>1.00</td>\n",
       "      <td>1.00</td>\n",
       "      <td>1.00</td>\n",
       "      <td>0.99</td>\n",
       "      <td>0.97</td>\n",
       "      <td>1.00</td>\n",
       "      <td>0.97</td>\n",
       "      <td>1.00</td>\n",
       "      <td>1.00</td>\n",
       "      <td>1.00</td>\n",
       "      <td>6.33</td>\n",
       "    </tr>\n",
       "    <tr>\n",
       "      <th>max</th>\n",
       "      <td>1.00</td>\n",
       "      <td>60.51</td>\n",
       "      <td>1.00</td>\n",
       "      <td>2010.00</td>\n",
       "      <td>2342.77</td>\n",
       "      <td>1.00</td>\n",
       "      <td>2190.43</td>\n",
       "      <td>7.00</td>\n",
       "      <td>268.09</td>\n",
       "      <td>1.08</td>\n",
       "      <td>11.00</td>\n",
       "      <td>2.45</td>\n",
       "      <td>320000.00</td>\n",
       "      <td>348.00</td>\n",
       "      <td>38.40</td>\n",
       "      <td>1.00</td>\n",
       "      <td>1.00</td>\n",
       "      <td>1.00</td>\n",
       "      <td>1.00</td>\n",
       "      <td>1.00</td>\n",
       "      <td>1.00</td>\n",
       "      <td>1.00</td>\n",
       "      <td>1.00</td>\n",
       "      <td>1.00</td>\n",
       "      <td>1.00</td>\n",
       "      <td>1.00</td>\n",
       "      <td>1.00</td>\n",
       "      <td>75.00</td>\n",
       "    </tr>\n",
       "  </tbody>\n",
       "</table>\n",
       "</div>"
      ],
      "text/plain": [
       "       mode_confidence  end_of_fade_in  key_confidence     year  duration  \\\n",
       "count         37400.00        37400.00        37400.00 37400.00  37400.00   \n",
       "mean              0.47            0.93            0.44  1996.67    248.82   \n",
       "std               0.19            2.19            0.28    11.69    109.82   \n",
       "min               0.00            0.00            0.00  1927.00      0.78   \n",
       "1%                0.00            0.00            0.00  1960.00     44.93   \n",
       "10%               0.23            0.00            0.03  1979.00    141.19   \n",
       "50%               0.48            0.20            0.46  2000.00    232.33   \n",
       "90%               0.71            3.07            0.80  2008.00    372.35   \n",
       "99%               0.88            9.39            1.00  2010.00    620.04   \n",
       "max               1.00           60.51            1.00  2010.00   2342.77   \n",
       "\n",
       "       time_signature_confidence  start_of_fade_out  time_signature    tempo  \\\n",
       "count                   37400.00           37400.00        37400.00 37400.00   \n",
       "mean                        0.52             239.69            3.63   125.20   \n",
       "std                         0.37             107.97            1.20    34.43   \n",
       "min                         0.00               0.78            0.00     0.00   \n",
       "1%                          0.00              44.02            1.00    49.59   \n",
       "10%                         0.00             133.43            1.00    86.09   \n",
       "50%                         0.56             222.80            4.00   123.01   \n",
       "90%                         1.00             360.79            4.00   170.21   \n",
       "99%                         1.00             601.32            7.00   219.76   \n",
       "max                         1.00            2190.43            7.00   268.09   \n",
       "\n",
       "       artist_hotttnesss      key  loudness  bit_rate   length  replay_gain  \\\n",
       "count           37400.00 37400.00  37400.00  37400.00 37400.00     37400.00   \n",
       "mean                0.47     5.35     -9.72 110715.74    44.99       -10.78   \n",
       "std                 0.12     3.61      4.86  28612.50    16.06         3.79   \n",
       "min                 0.00     0.00    -52.25  51080.00     0.99       -21.99   \n",
       "1%                  0.00     0.00    -25.66  64028.00    29.54       -16.75   \n",
       "10%                 0.35     0.00    -16.12  64028.00    30.04       -14.79   \n",
       "50%                 0.46     6.00     -8.66 128056.00    34.04       -11.55   \n",
       "90%                 0.60    10.00     -4.63 128111.00    60.08        -5.82   \n",
       "99%                 0.82    11.00     -2.81 128111.00    60.13         1.23   \n",
       "max                 1.08    11.00      2.45 320000.00   348.00        38.40   \n",
       "\n",
       "       danceability  femaleness  acousticness  aggressiveness  electronicity  \\\n",
       "count      37400.00    37400.00      37400.00        37400.00       37400.00   \n",
       "mean           0.43        0.54          0.31            0.38           0.47   \n",
       "std            0.38        0.32          0.36            0.38           0.32   \n",
       "min            0.00        0.00          0.00            0.00           0.00   \n",
       "1%             0.00        0.00          0.00            0.00           0.01   \n",
       "10%            0.01        0.08          0.00            0.01           0.07   \n",
       "50%            0.33        0.57          0.10            0.22           0.43   \n",
       "90%            0.99        0.97          0.93            0.98           0.94   \n",
       "99%            1.00        1.00          1.00            1.00           1.00   \n",
       "max            1.00        1.00          1.00            1.00           1.00   \n",
       "\n",
       "       happiness  festiveness  relaxation  sadness  brightness  tonality  \\\n",
       "count   37400.00     37400.00    37400.00 37400.00    37400.00  37400.00   \n",
       "mean        0.46         0.41        0.47     0.37        0.60      0.54   \n",
       "std         0.28         0.31        0.36     0.31        0.36      0.38   \n",
       "min         0.00         0.00        0.00     0.00        0.00      0.00   \n",
       "1%          0.00         0.00        0.00     0.01        0.00      0.00   \n",
       "10%         0.08         0.02        0.03     0.03        0.05      0.02   \n",
       "50%         0.45         0.38        0.43     0.28        0.70      0.61   \n",
       "90%         0.86         0.85        0.97     0.87        0.99      0.99   \n",
       "99%         0.99         0.97        1.00     0.97        1.00      1.00   \n",
       "max         1.00         1.00        1.00     1.00        1.00      1.00   \n",
       "\n",
       "       insrumentalness  play_count  \n",
       "count         37400.00    37400.00  \n",
       "mean              0.25        1.33  \n",
       "std               0.35        1.86  \n",
       "min               0.00        0.00  \n",
       "1%                0.00        0.00  \n",
       "10%               0.00        0.00  \n",
       "50%               0.05        1.12  \n",
       "90%               0.93        3.11  \n",
       "99%               1.00        6.33  \n",
       "max               1.00       75.00  "
      ]
     },
     "metadata": {},
     "output_type": "display_data"
    },
    {
     "data": {
      "text/plain": [
       "'95.07%'"
      ]
     },
     "metadata": {},
     "output_type": "display_data"
    },
    {
     "data": {
      "text/html": [
       "<div>\n",
       "<style scoped>\n",
       "    .dataframe tbody tr th:only-of-type {\n",
       "        vertical-align: middle;\n",
       "    }\n",
       "\n",
       "    .dataframe tbody tr th {\n",
       "        vertical-align: top;\n",
       "    }\n",
       "\n",
       "    .dataframe thead th {\n",
       "        text-align: right;\n",
       "    }\n",
       "</style>\n",
       "<table border=\"1\" class=\"dataframe\">\n",
       "  <thead>\n",
       "    <tr style=\"text-align: right;\">\n",
       "      <th></th>\n",
       "      <th>mode_confidence</th>\n",
       "      <th>end_of_fade_in</th>\n",
       "      <th>key_confidence</th>\n",
       "      <th>year</th>\n",
       "      <th>duration</th>\n",
       "      <th>time_signature_confidence</th>\n",
       "      <th>start_of_fade_out</th>\n",
       "      <th>time_signature</th>\n",
       "      <th>tempo</th>\n",
       "      <th>artist_hotttnesss</th>\n",
       "      <th>key</th>\n",
       "      <th>loudness</th>\n",
       "      <th>bit_rate</th>\n",
       "      <th>length</th>\n",
       "      <th>replay_gain</th>\n",
       "      <th>danceability</th>\n",
       "      <th>femaleness</th>\n",
       "      <th>acousticness</th>\n",
       "      <th>aggressiveness</th>\n",
       "      <th>electronicity</th>\n",
       "      <th>happiness</th>\n",
       "      <th>festiveness</th>\n",
       "      <th>relaxation</th>\n",
       "      <th>sadness</th>\n",
       "      <th>brightness</th>\n",
       "      <th>tonality</th>\n",
       "      <th>insrumentalness</th>\n",
       "      <th>play_count</th>\n",
       "    </tr>\n",
       "  </thead>\n",
       "  <tbody>\n",
       "    <tr>\n",
       "      <th>count</th>\n",
       "      <td>35558.00</td>\n",
       "      <td>35558.00</td>\n",
       "      <td>35558.00</td>\n",
       "      <td>35558.00</td>\n",
       "      <td>35558.00</td>\n",
       "      <td>35558.00</td>\n",
       "      <td>35558.00</td>\n",
       "      <td>35558.00</td>\n",
       "      <td>35558.00</td>\n",
       "      <td>35558.00</td>\n",
       "      <td>35558.00</td>\n",
       "      <td>35558.00</td>\n",
       "      <td>35558.00</td>\n",
       "      <td>35558.00</td>\n",
       "      <td>35558.00</td>\n",
       "      <td>35558.00</td>\n",
       "      <td>35558.00</td>\n",
       "      <td>35558.00</td>\n",
       "      <td>35558.00</td>\n",
       "      <td>35558.00</td>\n",
       "      <td>35558.00</td>\n",
       "      <td>35558.00</td>\n",
       "      <td>35558.00</td>\n",
       "      <td>35558.00</td>\n",
       "      <td>35558.00</td>\n",
       "      <td>35558.00</td>\n",
       "      <td>35558.00</td>\n",
       "      <td>35558.00</td>\n",
       "    </tr>\n",
       "    <tr>\n",
       "      <th>mean</th>\n",
       "      <td>0.47</td>\n",
       "      <td>0.72</td>\n",
       "      <td>0.44</td>\n",
       "      <td>1996.63</td>\n",
       "      <td>243.80</td>\n",
       "      <td>0.52</td>\n",
       "      <td>234.77</td>\n",
       "      <td>3.62</td>\n",
       "      <td>125.33</td>\n",
       "      <td>0.47</td>\n",
       "      <td>5.33</td>\n",
       "      <td>-9.61</td>\n",
       "      <td>110774.61</td>\n",
       "      <td>44.76</td>\n",
       "      <td>-10.87</td>\n",
       "      <td>0.43</td>\n",
       "      <td>0.54</td>\n",
       "      <td>0.31</td>\n",
       "      <td>0.38</td>\n",
       "      <td>0.47</td>\n",
       "      <td>0.46</td>\n",
       "      <td>0.41</td>\n",
       "      <td>0.47</td>\n",
       "      <td>0.37</td>\n",
       "      <td>0.60</td>\n",
       "      <td>0.55</td>\n",
       "      <td>0.25</td>\n",
       "      <td>1.27</td>\n",
       "    </tr>\n",
       "    <tr>\n",
       "      <th>std</th>\n",
       "      <td>0.19</td>\n",
       "      <td>1.31</td>\n",
       "      <td>0.27</td>\n",
       "      <td>11.64</td>\n",
       "      <td>95.77</td>\n",
       "      <td>0.37</td>\n",
       "      <td>94.00</td>\n",
       "      <td>1.19</td>\n",
       "      <td>34.35</td>\n",
       "      <td>0.11</td>\n",
       "      <td>3.60</td>\n",
       "      <td>4.68</td>\n",
       "      <td>28544.16</td>\n",
       "      <td>15.06</td>\n",
       "      <td>3.61</td>\n",
       "      <td>0.38</td>\n",
       "      <td>0.32</td>\n",
       "      <td>0.36</td>\n",
       "      <td>0.38</td>\n",
       "      <td>0.32</td>\n",
       "      <td>0.28</td>\n",
       "      <td>0.31</td>\n",
       "      <td>0.36</td>\n",
       "      <td>0.31</td>\n",
       "      <td>0.36</td>\n",
       "      <td>0.38</td>\n",
       "      <td>0.34</td>\n",
       "      <td>1.39</td>\n",
       "    </tr>\n",
       "    <tr>\n",
       "      <th>min</th>\n",
       "      <td>0.00</td>\n",
       "      <td>0.00</td>\n",
       "      <td>0.00</td>\n",
       "      <td>1938.00</td>\n",
       "      <td>0.78</td>\n",
       "      <td>0.00</td>\n",
       "      <td>0.78</td>\n",
       "      <td>0.00</td>\n",
       "      <td>0.00</td>\n",
       "      <td>0.01</td>\n",
       "      <td>0.00</td>\n",
       "      <td>-31.77</td>\n",
       "      <td>51080.00</td>\n",
       "      <td>0.99</td>\n",
       "      <td>-21.99</td>\n",
       "      <td>0.00</td>\n",
       "      <td>0.00</td>\n",
       "      <td>0.00</td>\n",
       "      <td>0.00</td>\n",
       "      <td>0.00</td>\n",
       "      <td>0.00</td>\n",
       "      <td>0.00</td>\n",
       "      <td>0.00</td>\n",
       "      <td>0.00</td>\n",
       "      <td>0.00</td>\n",
       "      <td>0.00</td>\n",
       "      <td>0.00</td>\n",
       "      <td>0.00</td>\n",
       "    </tr>\n",
       "    <tr>\n",
       "      <th>1%</th>\n",
       "      <td>0.00</td>\n",
       "      <td>0.00</td>\n",
       "      <td>0.00</td>\n",
       "      <td>1960.00</td>\n",
       "      <td>46.05</td>\n",
       "      <td>0.00</td>\n",
       "      <td>44.56</td>\n",
       "      <td>1.00</td>\n",
       "      <td>51.54</td>\n",
       "      <td>0.26</td>\n",
       "      <td>0.00</td>\n",
       "      <td>-24.53</td>\n",
       "      <td>64028.00</td>\n",
       "      <td>29.54</td>\n",
       "      <td>-16.75</td>\n",
       "      <td>0.00</td>\n",
       "      <td>0.00</td>\n",
       "      <td>0.00</td>\n",
       "      <td>0.00</td>\n",
       "      <td>0.01</td>\n",
       "      <td>0.00</td>\n",
       "      <td>0.00</td>\n",
       "      <td>0.00</td>\n",
       "      <td>0.01</td>\n",
       "      <td>0.00</td>\n",
       "      <td>0.00</td>\n",
       "      <td>0.00</td>\n",
       "      <td>0.00</td>\n",
       "    </tr>\n",
       "    <tr>\n",
       "      <th>10%</th>\n",
       "      <td>0.23</td>\n",
       "      <td>0.00</td>\n",
       "      <td>0.03</td>\n",
       "      <td>1979.00</td>\n",
       "      <td>140.80</td>\n",
       "      <td>0.00</td>\n",
       "      <td>133.17</td>\n",
       "      <td>1.00</td>\n",
       "      <td>86.23</td>\n",
       "      <td>0.35</td>\n",
       "      <td>0.00</td>\n",
       "      <td>-15.94</td>\n",
       "      <td>64039.00</td>\n",
       "      <td>30.04</td>\n",
       "      <td>-14.81</td>\n",
       "      <td>0.01</td>\n",
       "      <td>0.08</td>\n",
       "      <td>0.00</td>\n",
       "      <td>0.01</td>\n",
       "      <td>0.07</td>\n",
       "      <td>0.09</td>\n",
       "      <td>0.02</td>\n",
       "      <td>0.03</td>\n",
       "      <td>0.03</td>\n",
       "      <td>0.05</td>\n",
       "      <td>0.02</td>\n",
       "      <td>0.00</td>\n",
       "      <td>0.00</td>\n",
       "    </tr>\n",
       "    <tr>\n",
       "      <th>50%</th>\n",
       "      <td>0.48</td>\n",
       "      <td>0.20</td>\n",
       "      <td>0.46</td>\n",
       "      <td>2000.00</td>\n",
       "      <td>230.63</td>\n",
       "      <td>0.56</td>\n",
       "      <td>221.31</td>\n",
       "      <td>4.00</td>\n",
       "      <td>123.08</td>\n",
       "      <td>0.46</td>\n",
       "      <td>5.00</td>\n",
       "      <td>-8.58</td>\n",
       "      <td>128056.00</td>\n",
       "      <td>33.16</td>\n",
       "      <td>-11.58</td>\n",
       "      <td>0.33</td>\n",
       "      <td>0.56</td>\n",
       "      <td>0.10</td>\n",
       "      <td>0.22</td>\n",
       "      <td>0.43</td>\n",
       "      <td>0.45</td>\n",
       "      <td>0.38</td>\n",
       "      <td>0.42</td>\n",
       "      <td>0.28</td>\n",
       "      <td>0.71</td>\n",
       "      <td>0.62</td>\n",
       "      <td>0.05</td>\n",
       "      <td>1.12</td>\n",
       "    </tr>\n",
       "    <tr>\n",
       "      <th>90%</th>\n",
       "      <td>0.71</td>\n",
       "      <td>2.72</td>\n",
       "      <td>0.80</td>\n",
       "      <td>2008.00</td>\n",
       "      <td>362.97</td>\n",
       "      <td>1.00</td>\n",
       "      <td>352.65</td>\n",
       "      <td>4.00</td>\n",
       "      <td>170.63</td>\n",
       "      <td>0.59</td>\n",
       "      <td>10.00</td>\n",
       "      <td>-4.62</td>\n",
       "      <td>128111.00</td>\n",
       "      <td>60.08</td>\n",
       "      <td>-6.04</td>\n",
       "      <td>0.99</td>\n",
       "      <td>0.97</td>\n",
       "      <td>0.93</td>\n",
       "      <td>0.98</td>\n",
       "      <td>0.94</td>\n",
       "      <td>0.86</td>\n",
       "      <td>0.85</td>\n",
       "      <td>0.97</td>\n",
       "      <td>0.87</td>\n",
       "      <td>0.99</td>\n",
       "      <td>0.99</td>\n",
       "      <td>0.91</td>\n",
       "      <td>3.04</td>\n",
       "    </tr>\n",
       "    <tr>\n",
       "      <th>99%</th>\n",
       "      <td>0.88</td>\n",
       "      <td>5.87</td>\n",
       "      <td>1.00</td>\n",
       "      <td>2010.00</td>\n",
       "      <td>547.13</td>\n",
       "      <td>1.00</td>\n",
       "      <td>539.12</td>\n",
       "      <td>7.00</td>\n",
       "      <td>219.35</td>\n",
       "      <td>0.80</td>\n",
       "      <td>11.00</td>\n",
       "      <td>-2.78</td>\n",
       "      <td>128111.00</td>\n",
       "      <td>60.13</td>\n",
       "      <td>0.22</td>\n",
       "      <td>1.00</td>\n",
       "      <td>1.00</td>\n",
       "      <td>1.00</td>\n",
       "      <td>1.00</td>\n",
       "      <td>1.00</td>\n",
       "      <td>0.98</td>\n",
       "      <td>0.97</td>\n",
       "      <td>1.00</td>\n",
       "      <td>0.97</td>\n",
       "      <td>1.00</td>\n",
       "      <td>1.00</td>\n",
       "      <td>1.00</td>\n",
       "      <td>5.46</td>\n",
       "    </tr>\n",
       "    <tr>\n",
       "      <th>max</th>\n",
       "      <td>1.00</td>\n",
       "      <td>7.15</td>\n",
       "      <td>1.00</td>\n",
       "      <td>2010.00</td>\n",
       "      <td>674.74</td>\n",
       "      <td>1.00</td>\n",
       "      <td>654.96</td>\n",
       "      <td>7.00</td>\n",
       "      <td>268.09</td>\n",
       "      <td>0.92</td>\n",
       "      <td>11.00</td>\n",
       "      <td>2.45</td>\n",
       "      <td>224055.00</td>\n",
       "      <td>85.73</td>\n",
       "      <td>6.15</td>\n",
       "      <td>1.00</td>\n",
       "      <td>1.00</td>\n",
       "      <td>1.00</td>\n",
       "      <td>1.00</td>\n",
       "      <td>1.00</td>\n",
       "      <td>1.00</td>\n",
       "      <td>1.00</td>\n",
       "      <td>1.00</td>\n",
       "      <td>1.00</td>\n",
       "      <td>1.00</td>\n",
       "      <td>1.00</td>\n",
       "      <td>1.00</td>\n",
       "      <td>7.50</td>\n",
       "    </tr>\n",
       "  </tbody>\n",
       "</table>\n",
       "</div>"
      ],
      "text/plain": [
       "       mode_confidence  end_of_fade_in  key_confidence     year  duration  \\\n",
       "count         35558.00        35558.00        35558.00 35558.00  35558.00   \n",
       "mean              0.47            0.72            0.44  1996.63    243.80   \n",
       "std               0.19            1.31            0.27    11.64     95.77   \n",
       "min               0.00            0.00            0.00  1938.00      0.78   \n",
       "1%                0.00            0.00            0.00  1960.00     46.05   \n",
       "10%               0.23            0.00            0.03  1979.00    140.80   \n",
       "50%               0.48            0.20            0.46  2000.00    230.63   \n",
       "90%               0.71            2.72            0.80  2008.00    362.97   \n",
       "99%               0.88            5.87            1.00  2010.00    547.13   \n",
       "max               1.00            7.15            1.00  2010.00    674.74   \n",
       "\n",
       "       time_signature_confidence  start_of_fade_out  time_signature    tempo  \\\n",
       "count                   35558.00           35558.00        35558.00 35558.00   \n",
       "mean                        0.52             234.77            3.62   125.33   \n",
       "std                         0.37              94.00            1.19    34.35   \n",
       "min                         0.00               0.78            0.00     0.00   \n",
       "1%                          0.00              44.56            1.00    51.54   \n",
       "10%                         0.00             133.17            1.00    86.23   \n",
       "50%                         0.56             221.31            4.00   123.08   \n",
       "90%                         1.00             352.65            4.00   170.63   \n",
       "99%                         1.00             539.12            7.00   219.35   \n",
       "max                         1.00             654.96            7.00   268.09   \n",
       "\n",
       "       artist_hotttnesss      key  loudness  bit_rate   length  replay_gain  \\\n",
       "count           35558.00 35558.00  35558.00  35558.00 35558.00     35558.00   \n",
       "mean                0.47     5.33     -9.61 110774.61    44.76       -10.87   \n",
       "std                 0.11     3.60      4.68  28544.16    15.06         3.61   \n",
       "min                 0.01     0.00    -31.77  51080.00     0.99       -21.99   \n",
       "1%                  0.26     0.00    -24.53  64028.00    29.54       -16.75   \n",
       "10%                 0.35     0.00    -15.94  64039.00    30.04       -14.81   \n",
       "50%                 0.46     5.00     -8.58 128056.00    33.16       -11.58   \n",
       "90%                 0.59    10.00     -4.62 128111.00    60.08        -6.04   \n",
       "99%                 0.80    11.00     -2.78 128111.00    60.13         0.22   \n",
       "max                 0.92    11.00      2.45 224055.00    85.73         6.15   \n",
       "\n",
       "       danceability  femaleness  acousticness  aggressiveness  electronicity  \\\n",
       "count      35558.00    35558.00      35558.00        35558.00       35558.00   \n",
       "mean           0.43        0.54          0.31            0.38           0.47   \n",
       "std            0.38        0.32          0.36            0.38           0.32   \n",
       "min            0.00        0.00          0.00            0.00           0.00   \n",
       "1%             0.00        0.00          0.00            0.00           0.01   \n",
       "10%            0.01        0.08          0.00            0.01           0.07   \n",
       "50%            0.33        0.56          0.10            0.22           0.43   \n",
       "90%            0.99        0.97          0.93            0.98           0.94   \n",
       "99%            1.00        1.00          1.00            1.00           1.00   \n",
       "max            1.00        1.00          1.00            1.00           1.00   \n",
       "\n",
       "       happiness  festiveness  relaxation  sadness  brightness  tonality  \\\n",
       "count   35558.00     35558.00    35558.00 35558.00    35558.00  35558.00   \n",
       "mean        0.46         0.41        0.47     0.37        0.60      0.55   \n",
       "std         0.28         0.31        0.36     0.31        0.36      0.38   \n",
       "min         0.00         0.00        0.00     0.00        0.00      0.00   \n",
       "1%          0.00         0.00        0.00     0.01        0.00      0.00   \n",
       "10%         0.09         0.02        0.03     0.03        0.05      0.02   \n",
       "50%         0.45         0.38        0.42     0.28        0.71      0.62   \n",
       "90%         0.86         0.85        0.97     0.87        0.99      0.99   \n",
       "99%         0.98         0.97        1.00     0.97        1.00      1.00   \n",
       "max         1.00         1.00        1.00     1.00        1.00      1.00   \n",
       "\n",
       "       insrumentalness  play_count  \n",
       "count         35558.00    35558.00  \n",
       "mean              0.25        1.27  \n",
       "std               0.34        1.39  \n",
       "min               0.00        0.00  \n",
       "1%                0.00        0.00  \n",
       "10%               0.00        0.00  \n",
       "50%               0.05        1.12  \n",
       "90%               0.91        3.04  \n",
       "99%               1.00        5.46  \n",
       "max               1.00        7.50  "
      ]
     },
     "execution_count": 14,
     "metadata": {},
     "output_type": "execute_result"
    }
   ],
   "source": [
    "display(df[num].describe([.01,.1,.9,.99]))\n",
    "dim_antes = len(df)\n",
    "\n",
    "for col in num:\n",
    "    df = outlier(df,col, p = 0.22)\n",
    "    \n",
    "display('{:.2%}'.format(len(df) / dim_antes))  \n",
    "df[num].describe([.01,.1,.9,.99])"
   ]
  },
  {
   "cell_type": "code",
   "execution_count": 15,
   "metadata": {
    "ExecuteTime": {
     "end_time": "2020-11-21T17:14:48.246261Z",
     "start_time": "2020-11-21T17:14:48.153334Z"
    }
   },
   "outputs": [
    {
     "data": {
      "text/plain": [
       "rock         0.39\n",
       "pop          0.16\n",
       "metal        0.09\n",
       "electronic   0.08\n",
       "jazz         0.08\n",
       "rap          0.04\n",
       "punk         0.04\n",
       "blues        0.02\n",
       "Otros        0.02\n",
       "folk         0.02\n",
       "country      0.02\n",
       "reggae       0.02\n",
       "rnb          0.02\n",
       "Name: main_genre, dtype: float64"
      ]
     },
     "execution_count": 15,
     "metadata": {},
     "output_type": "execute_result"
    }
   ],
   "source": [
    "cat = ['main_genre']\n",
    "\n",
    "## Se despliegan las posibles opciones para cada variable categórica,\n",
    "# agrupando las categorías con menos de cierto % de frecuencia\n",
    "adj = [] \n",
    "for col in cat:\n",
    "    aux = []\n",
    "    aux = df[col].value_counts(1, dropna = False).reset_index()\n",
    "    global adj\n",
    "    for i in range(len(aux)):\n",
    "        if aux.iloc[i,1] < .02:\n",
    "            adj.append(aux.iloc[i,0])\n",
    "\n",
    "# adj será la lista de elementos p reemplazar por 'Otros', importante para ETL\n",
    "df[cat] = df[cat].replace(adj, 'Otros')\n",
    "df['main_genre'].value_counts(1)"
   ]
  },
  {
   "cell_type": "markdown",
   "metadata": {},
   "source": [
    "## Modelado \"continuo\""
   ]
  },
  {
   "cell_type": "code",
   "execution_count": 16,
   "metadata": {
    "ExecuteTime": {
     "end_time": "2020-11-21T17:14:48.651380Z",
     "start_time": "2020-11-21T17:14:48.253759Z"
    }
   },
   "outputs": [
    {
     "data": {
      "text/plain": [
       "50   0.20\n",
       "13   0.20\n",
       "72   0.20\n",
       "74   0.20\n",
       "6    0.20\n",
       "Name: OBJETIVO, dtype: float64"
      ]
     },
     "execution_count": 16,
     "metadata": {},
     "output_type": "execute_result"
    }
   ],
   "source": [
    "## Crear rangos para predecir\n",
    "df['OBJETIVO'] , bins = pd.qcut(df['duration'].astype(int),\n",
    "                             q = 5,\n",
    "                             duplicates = 'drop', \n",
    "                             retbins = True)\n",
    "df['OBJETIVO'] = df['OBJETIVO'].astype(str)\n",
    "df['OBJETIVO'] = [int(x[-5:][:2]) for x in df['OBJETIVO']]\n",
    "df['OBJETIVO'].value_counts(1)"
   ]
  },
  {
   "cell_type": "code",
   "execution_count": 17,
   "metadata": {
    "ExecuteTime": {
     "end_time": "2020-11-21T17:14:48.658353Z",
     "start_time": "2020-11-21T17:14:48.653264Z"
    }
   },
   "outputs": [],
   "source": [
    "num = [x for x in num if x not in ['duration']]"
   ]
  },
  {
   "cell_type": "code",
   "execution_count": 18,
   "metadata": {
    "ExecuteTime": {
     "end_time": "2020-11-21T17:14:49.300819Z",
     "start_time": "2020-11-21T17:14:48.665050Z"
    }
   },
   "outputs": [],
   "source": [
    "X = df[cat + num + words]\n",
    "y = df['OBJETIVO'].values.ravel()\n",
    "\n",
    "from sklearn.model_selection import train_test_split\n",
    "X_train, X_test, y_train, y_test = train_test_split(X, y, train_size = 0.9)"
   ]
  },
  {
   "cell_type": "markdown",
   "metadata": {},
   "source": [
    "### OHE"
   ]
  },
  {
   "cell_type": "code",
   "execution_count": 19,
   "metadata": {
    "ExecuteTime": {
     "end_time": "2020-11-21T17:14:49.386561Z",
     "start_time": "2020-11-21T17:14:49.308152Z"
    }
   },
   "outputs": [],
   "source": [
    "from sklearn.preprocessing import OneHotEncoder\n",
    "ohe = OneHotEncoder(sparse = False)\n",
    "\n",
    "## Se obtienen las dummies de cat y se une con num (por eso hereda el index)\n",
    "X_train = pd.DataFrame(ohe.fit_transform(X_train[cat]),\n",
    "                       columns = list(ohe.get_feature_names(X[cat].columns)), \n",
    "                       index = X_train.index).join(X_train[num + words])\n",
    "\n",
    "## Sólo transform\n",
    "X_test = pd.DataFrame(ohe.transform(X_test[cat]),\n",
    "                      columns = list(ohe.get_feature_names(X[cat].columns)), \n",
    "                      index = X_test.index).join(X_test[num + words])"
   ]
  },
  {
   "cell_type": "markdown",
   "metadata": {},
   "source": [
    "### Modelos"
   ]
  },
  {
   "cell_type": "code",
   "execution_count": 20,
   "metadata": {
    "ExecuteTime": {
     "end_time": "2020-11-21T17:20:56.367604Z",
     "start_time": "2020-11-21T17:14:49.396163Z"
    }
   },
   "outputs": [
    {
     "name": "stdout",
     "output_type": "stream",
     "text": [
      "Fitting 4 folds for each of 10 candidates, totalling 40 fits\n"
     ]
    },
    {
     "name": "stderr",
     "output_type": "stream",
     "text": [
      "[Parallel(n_jobs=-1)]: Using backend LokyBackend with 3 concurrent workers.\n",
      "[Parallel(n_jobs=-1)]: Done  12 tasks      | elapsed:  1.5min\n",
      "[Parallel(n_jobs=-1)]: Done  40 out of  40 | elapsed:  5.6min finished\n"
     ]
    },
    {
     "data": {
      "text/plain": [
       "RandomizedSearchCV(cv=4, estimator=RandomForestClassifier(), n_jobs=-1,\n",
       "                   param_distributions={'class_weight': ['balanced', None],\n",
       "                                        'criterion': ['gini', 'entropy'],\n",
       "                                        'max_features': ['auto', 'sqrt',\n",
       "                                                         'log2'],\n",
       "                                        'min_samples_leaf': [0.05, 0.1, 0.15,\n",
       "                                                             0.2, 0.25, 0.3,\n",
       "                                                             0.35, 0.4, 0.45,\n",
       "                                                             0.5],\n",
       "                                        'min_samples_split': [2, 4, 6, 8, 10,\n",
       "                                                              12, 14, 16, 18,\n",
       "                                                              20, 22, 24, 26,\n",
       "                                                              28, 30, 32, 34,\n",
       "                                                              36, 38, 40, 42,\n",
       "                                                              44, 46, 48],\n",
       "                                        'n_estimators': [100, 200, 300, 400,\n",
       "                                                         500, 600, 700, 800,\n",
       "                                                         900, 1000, 1100, 1200,\n",
       "                                                         1300, 1400]},\n",
       "                   scoring='accuracy', verbose=5)"
      ]
     },
     "execution_count": 20,
     "metadata": {},
     "output_type": "execute_result"
    }
   ],
   "source": [
    "from sklearn.ensemble import RandomForestClassifier \n",
    "forest = RandomForestClassifier()\n",
    "\n",
    "param_forest = {'n_estimators': [x for x in range(100, 1500, 100)],\n",
    "                'max_features': ['auto', 'sqrt', 'log2'],\n",
    "                'criterion': ['gini', 'entropy'],\n",
    "                'class_weight': ['balanced', None],\n",
    "                'min_samples_split': [x for x in range(2, 50, 2)],\n",
    "                'min_samples_leaf': [x/100 for x in range(5, 55, 5)]\n",
    "               }\n",
    "\n",
    "from sklearn.model_selection import RandomizedSearchCV\n",
    "search_forest = RandomizedSearchCV(param_distributions = param_forest, \n",
    "                            cv = 4, \n",
    "                            n_jobs = -1, \n",
    "                            scoring = 'accuracy',\n",
    "                            estimator = forest,\n",
    "                            verbose = 5,\n",
    "                            n_iter = 10)\n",
    "\n",
    "search_forest.fit(X_train,y_train)"
   ]
  },
  {
   "cell_type": "code",
   "execution_count": 21,
   "metadata": {
    "ExecuteTime": {
     "end_time": "2020-11-21T17:33:07.254645Z",
     "start_time": "2020-11-21T17:20:56.374563Z"
    }
   },
   "outputs": [
    {
     "name": "stdout",
     "output_type": "stream",
     "text": [
      "Fitting 4 folds for each of 9 candidates, totalling 36 fits\n"
     ]
    },
    {
     "name": "stderr",
     "output_type": "stream",
     "text": [
      "[Parallel(n_jobs=-1)]: Using backend LokyBackend with 3 concurrent workers.\n",
      "[Parallel(n_jobs=-1)]: Done  12 tasks      | elapsed:  2.8min\n",
      "[Parallel(n_jobs=-1)]: Done  36 out of  36 | elapsed: 11.3min finished\n"
     ]
    },
    {
     "data": {
      "text/plain": [
       "RandomizedSearchCV(cv=4, estimator=AdaBoostClassifier(), n_iter=9, n_jobs=-1,\n",
       "                   param_distributions={'learning_rate': [0.001, 0.01, 0.1,\n",
       "                                                          0.5],\n",
       "                                        'n_estimators': [50, 100, 200]},\n",
       "                   scoring='accuracy', verbose=5)"
      ]
     },
     "execution_count": 21,
     "metadata": {},
     "output_type": "execute_result"
    }
   ],
   "source": [
    "from sklearn.ensemble import AdaBoostClassifier\n",
    "ada = AdaBoostClassifier()\n",
    "\n",
    "param_ada={'n_estimators':[50,100,200],\n",
    "           'learning_rate':[.001,0.01,.1,.5]}\n",
    "\n",
    "search_ada = RandomizedSearchCV(param_distributions = param_ada, \n",
    "                                cv = 4, \n",
    "                                n_jobs = -1, \n",
    "                                scoring = 'accuracy', \n",
    "                                estimator = ada, \n",
    "                                verbose = 5,\n",
    "                                n_iter = 9)\n",
    "\n",
    "search_ada.fit(X_train,y_train)"
   ]
  },
  {
   "cell_type": "code",
   "execution_count": 22,
   "metadata": {
    "ExecuteTime": {
     "end_time": "2020-11-21T17:36:33.747558Z",
     "start_time": "2020-11-21T17:33:07.258422Z"
    }
   },
   "outputs": [
    {
     "data": {
      "text/plain": [
       "XGBClassifier(base_score=0.5, booster='gbtree', colsample_bylevel=1,\n",
       "              colsample_bynode=1, colsample_bytree=0.8, gamma=0, gpu_id=-1,\n",
       "              importance_type='gain', interaction_constraints='',\n",
       "              learning_rate=0.1, max_delta_step=0, max_depth=5,\n",
       "              min_child_weight=2, missing=nan, monotone_constraints='()',\n",
       "              n_estimators=190, n_jobs=0, num_parallel_tree=1,\n",
       "              objective='multi:softprob', random_state=22, reg_alpha=0,\n",
       "              reg_lambda=1, scale_pos_weight=None, seed=22, subsample=0.9,\n",
       "              tree_method='exact', validate_parameters=1, verbosity=None)"
      ]
     },
     "execution_count": 22,
     "metadata": {},
     "output_type": "execute_result"
    }
   ],
   "source": [
    "from xgboost.sklearn import XGBClassifier\n",
    "xgb = XGBClassifier(learning_rate = 0.1, \n",
    "                    n_estimators = 190,\n",
    "                    max_depth = 5, \n",
    "                    min_child_weight = 2,\n",
    "                    objective = 'binary:logistic',\n",
    "                    subsample = 0.9, \n",
    "                    colsample_bytree = 0.8, \n",
    "                    seed = 22)\n",
    "\n",
    "xgb.fit(X_train,y_train)"
   ]
  },
  {
   "cell_type": "markdown",
   "metadata": {},
   "source": [
    "### Voting"
   ]
  },
  {
   "cell_type": "code",
   "execution_count": 23,
   "metadata": {
    "ExecuteTime": {
     "end_time": "2020-11-21T17:41:11.569774Z",
     "start_time": "2020-11-21T17:36:33.766458Z"
    }
   },
   "outputs": [
    {
     "data": {
      "text/plain": [
       "VotingClassifier(estimators=[('Forest',\n",
       "                              RandomForestClassifier(class_weight='balanced',\n",
       "                                                     criterion='entropy',\n",
       "                                                     min_samples_leaf=0.1,\n",
       "                                                     min_samples_split=24,\n",
       "                                                     n_estimators=800)),\n",
       "                             ('ADA',\n",
       "                              AdaBoostClassifier(learning_rate=0.001,\n",
       "                                                 n_estimators=200)),\n",
       "                             ('XGB',\n",
       "                              XGBClassifier(base_score=0.5, booster='gbtree',\n",
       "                                            colsample_bylevel=1,\n",
       "                                            colsample_bynode=1,\n",
       "                                            colsample_bytree=0.8, gamma...\n",
       "                                            interaction_constraints='',\n",
       "                                            learning_rate=0.1, max_delta_step=0,\n",
       "                                            max_depth=5, min_child_weight=2,\n",
       "                                            missing=nan,\n",
       "                                            monotone_constraints='()',\n",
       "                                            n_estimators=190, n_jobs=0,\n",
       "                                            num_parallel_tree=1,\n",
       "                                            objective='multi:softprob',\n",
       "                                            random_state=22, reg_alpha=0,\n",
       "                                            reg_lambda=1, scale_pos_weight=None,\n",
       "                                            seed=22, subsample=0.9,\n",
       "                                            tree_method='exact',\n",
       "                                            validate_parameters=1,\n",
       "                                            verbosity=None))],\n",
       "                 voting='soft')"
      ]
     },
     "execution_count": 23,
     "metadata": {},
     "output_type": "execute_result"
    }
   ],
   "source": [
    "from sklearn.ensemble import VotingClassifier\n",
    "vc = VotingClassifier(estimators = [('Forest', search_forest.best_estimator_), \n",
    "                                    ('ADA', search_ada.best_estimator_),\n",
    "                                    ('XGB', xgb)], \n",
    "                      voting = 'soft')\n",
    "\n",
    "vc.fit(X_train, y_train)"
   ]
  },
  {
   "cell_type": "code",
   "execution_count": 24,
   "metadata": {
    "ExecuteTime": {
     "end_time": "2020-11-21T17:41:11.581132Z",
     "start_time": "2020-11-21T17:41:11.572268Z"
    }
   },
   "outputs": [],
   "source": [
    "def score_metrics(X, y, estimator):\n",
    "    from sklearn.model_selection import cross_val_score\n",
    "    ls_scores_roc = cross_val_score(estimator = estimator,\n",
    "                                    X = X, y = y, \n",
    "                                    scoring = 'accuracy', \n",
    "                                    n_jobs = -1, \n",
    "                                    cv = 4)\n",
    "    print(f'Accuracy media: {np.mean(ls_scores_roc):,.2f}, desviación estándar: {np.std(ls_scores_roc)}')"
   ]
  },
  {
   "cell_type": "code",
   "execution_count": 25,
   "metadata": {
    "ExecuteTime": {
     "end_time": "2020-11-21T17:52:28.090517Z",
     "start_time": "2020-11-21T17:41:11.588936Z"
    }
   },
   "outputs": [
    {
     "name": "stdout",
     "output_type": "stream",
     "text": [
      "Accuracy media: 0.97, desviación estándar: 0.0017623183699282357\n"
     ]
    }
   ],
   "source": [
    "score_metrics(X = X_train, \n",
    "              y = y_train, \n",
    "              estimator = vc)"
   ]
  },
  {
   "cell_type": "code",
   "execution_count": 26,
   "metadata": {
    "ExecuteTime": {
     "end_time": "2020-11-21T17:52:48.599183Z",
     "start_time": "2020-11-21T17:52:28.099724Z"
    }
   },
   "outputs": [
    {
     "data": {
      "text/html": [
       "<div>\n",
       "<style scoped>\n",
       "    .dataframe tbody tr th:only-of-type {\n",
       "        vertical-align: middle;\n",
       "    }\n",
       "\n",
       "    .dataframe tbody tr th {\n",
       "        vertical-align: top;\n",
       "    }\n",
       "\n",
       "    .dataframe thead th {\n",
       "        text-align: right;\n",
       "    }\n",
       "</style>\n",
       "<table border=\"1\" class=\"dataframe\">\n",
       "  <thead>\n",
       "    <tr style=\"text-align: right;\">\n",
       "      <th></th>\n",
       "      <th>Modelo</th>\n",
       "      <th>Train</th>\n",
       "      <th>Test</th>\n",
       "    </tr>\n",
       "  </thead>\n",
       "  <tbody>\n",
       "    <tr>\n",
       "      <th>0</th>\n",
       "      <td>Forest</td>\n",
       "      <td>0.59</td>\n",
       "      <td>0.57</td>\n",
       "    </tr>\n",
       "    <tr>\n",
       "      <th>1</th>\n",
       "      <td>ADA</td>\n",
       "      <td>0.93</td>\n",
       "      <td>0.92</td>\n",
       "    </tr>\n",
       "    <tr>\n",
       "      <th>2</th>\n",
       "      <td>XGB</td>\n",
       "      <td>0.99</td>\n",
       "      <td>0.97</td>\n",
       "    </tr>\n",
       "    <tr>\n",
       "      <th>3</th>\n",
       "      <td>Voting</td>\n",
       "      <td>0.99</td>\n",
       "      <td>0.97</td>\n",
       "    </tr>\n",
       "  </tbody>\n",
       "</table>\n",
       "</div>"
      ],
      "text/plain": [
       "   Modelo  Train  Test\n",
       "0  Forest   0.59  0.57\n",
       "1     ADA   0.93  0.92\n",
       "2     XGB   0.99  0.97\n",
       "3  Voting   0.99  0.97"
      ]
     },
     "execution_count": 26,
     "metadata": {},
     "output_type": "execute_result"
    }
   ],
   "source": [
    "scores = pd.DataFrame()\n",
    "scores['Modelo'] = [x[0] for x in vc.estimators] + ['Voting']\n",
    "scores['Train'] = [x[1].score(X_train, y_train) for x in vc.estimators] + [vc.score(X_train,\n",
    "                                                                                    y_train)]\n",
    "scores['Test'] = [x[1].score(X_test, y_test) for x in vc.estimators] + [vc.score(X_test,\n",
    "                                                                                    y_test)]\n",
    "scores"
   ]
  },
  {
   "cell_type": "code",
   "execution_count": 27,
   "metadata": {
    "ExecuteTime": {
     "end_time": "2020-11-21T17:52:49.184445Z",
     "start_time": "2020-11-21T17:52:48.612232Z"
    }
   },
   "outputs": [
    {
     "data": {
      "text/html": [
       "<div>\n",
       "<style scoped>\n",
       "    .dataframe tbody tr th:only-of-type {\n",
       "        vertical-align: middle;\n",
       "    }\n",
       "\n",
       "    .dataframe tbody tr th {\n",
       "        vertical-align: top;\n",
       "    }\n",
       "\n",
       "    .dataframe thead th {\n",
       "        text-align: right;\n",
       "    }\n",
       "</style>\n",
       "<table border=\"1\" class=\"dataframe\">\n",
       "  <thead>\n",
       "    <tr style=\"text-align: right;\">\n",
       "      <th></th>\n",
       "      <th>Variable</th>\n",
       "      <th>Relevancia</th>\n",
       "    </tr>\n",
       "  </thead>\n",
       "  <tbody>\n",
       "    <tr>\n",
       "      <th>0</th>\n",
       "      <td>start_of_fade_out</td>\n",
       "      <td>0.24</td>\n",
       "    </tr>\n",
       "    <tr>\n",
       "      <th>1</th>\n",
       "      <td>main_genre_electronic</td>\n",
       "      <td>0.04</td>\n",
       "    </tr>\n",
       "    <tr>\n",
       "      <th>2</th>\n",
       "      <td>main_genre_punk</td>\n",
       "      <td>0.03</td>\n",
       "    </tr>\n",
       "    <tr>\n",
       "      <th>3</th>\n",
       "      <td>see</td>\n",
       "      <td>0.01</td>\n",
       "    </tr>\n",
       "    <tr>\n",
       "      <th>4</th>\n",
       "      <td>so</td>\n",
       "      <td>0.01</td>\n",
       "    </tr>\n",
       "    <tr>\n",
       "      <th>5</th>\n",
       "      <td>was</td>\n",
       "      <td>0.01</td>\n",
       "    </tr>\n",
       "    <tr>\n",
       "      <th>6</th>\n",
       "      <td>get</td>\n",
       "      <td>0.01</td>\n",
       "    </tr>\n",
       "    <tr>\n",
       "      <th>7</th>\n",
       "      <td>main_genre_metal</td>\n",
       "      <td>0.01</td>\n",
       "    </tr>\n",
       "    <tr>\n",
       "      <th>8</th>\n",
       "      <td>caus</td>\n",
       "      <td>0.01</td>\n",
       "    </tr>\n",
       "    <tr>\n",
       "      <th>9</th>\n",
       "      <td>the</td>\n",
       "      <td>0.01</td>\n",
       "    </tr>\n",
       "  </tbody>\n",
       "</table>\n",
       "</div>"
      ],
      "text/plain": [
       "                Variable  Relevancia\n",
       "0      start_of_fade_out        0.24\n",
       "1  main_genre_electronic        0.04\n",
       "2        main_genre_punk        0.03\n",
       "3                    see        0.01\n",
       "4                     so        0.01\n",
       "5                    was        0.01\n",
       "6                    get        0.01\n",
       "7       main_genre_metal        0.01\n",
       "8                   caus        0.01\n",
       "9                    the        0.01"
      ]
     },
     "execution_count": 27,
     "metadata": {},
     "output_type": "execute_result"
    }
   ],
   "source": [
    "## Así explican las mejores 10 variables a la target, del mejor modelo antes de VC\n",
    "pd.DataFrame(zip(X_train.columns, xgb.feature_importances_),\n",
    "             columns = ['Variable', 'Relevancia']).sort_values(by = 'Relevancia',\n",
    "                                                               ascending = False).head(10).reset_index(drop = True)"
   ]
  },
  {
   "cell_type": "code",
   "execution_count": 28,
   "metadata": {
    "ExecuteTime": {
     "end_time": "2020-11-21T17:52:50.394249Z",
     "start_time": "2020-11-21T17:52:49.192399Z"
    }
   },
   "outputs": [
    {
     "data": {
      "text/html": [
       "<div>\n",
       "<style scoped>\n",
       "    .dataframe tbody tr th:only-of-type {\n",
       "        vertical-align: middle;\n",
       "    }\n",
       "\n",
       "    .dataframe tbody tr th {\n",
       "        vertical-align: top;\n",
       "    }\n",
       "\n",
       "    .dataframe thead th {\n",
       "        text-align: right;\n",
       "    }\n",
       "</style>\n",
       "<table border=\"1\" class=\"dataframe\">\n",
       "  <thead>\n",
       "    <tr style=\"text-align: right;\">\n",
       "      <th></th>\n",
       "      <th>6</th>\n",
       "      <th>13</th>\n",
       "      <th>50</th>\n",
       "      <th>72</th>\n",
       "      <th>74</th>\n",
       "    </tr>\n",
       "  </thead>\n",
       "  <tbody>\n",
       "    <tr>\n",
       "      <th>6</th>\n",
       "      <td>0.19</td>\n",
       "      <td>0.00</td>\n",
       "      <td>0.01</td>\n",
       "      <td>0.00</td>\n",
       "      <td>0.00</td>\n",
       "    </tr>\n",
       "    <tr>\n",
       "      <th>13</th>\n",
       "      <td>0.00</td>\n",
       "      <td>0.19</td>\n",
       "      <td>0.01</td>\n",
       "      <td>0.00</td>\n",
       "      <td>0.00</td>\n",
       "    </tr>\n",
       "    <tr>\n",
       "      <th>50</th>\n",
       "      <td>0.00</td>\n",
       "      <td>0.01</td>\n",
       "      <td>0.19</td>\n",
       "      <td>0.00</td>\n",
       "      <td>0.00</td>\n",
       "    </tr>\n",
       "    <tr>\n",
       "      <th>72</th>\n",
       "      <td>0.00</td>\n",
       "      <td>0.00</td>\n",
       "      <td>0.00</td>\n",
       "      <td>0.19</td>\n",
       "      <td>0.00</td>\n",
       "    </tr>\n",
       "    <tr>\n",
       "      <th>74</th>\n",
       "      <td>0.00</td>\n",
       "      <td>0.00</td>\n",
       "      <td>0.00</td>\n",
       "      <td>0.00</td>\n",
       "      <td>0.21</td>\n",
       "    </tr>\n",
       "  </tbody>\n",
       "</table>\n",
       "</div>"
      ],
      "text/plain": [
       "     6    13   50   72   74\n",
       "6  0.19 0.00 0.01 0.00 0.00\n",
       "13 0.00 0.19 0.01 0.00 0.00\n",
       "50 0.00 0.01 0.19 0.00 0.00\n",
       "72 0.00 0.00 0.00 0.19 0.00\n",
       "74 0.00 0.00 0.00 0.00 0.21"
      ]
     },
     "execution_count": 28,
     "metadata": {},
     "output_type": "execute_result"
    }
   ],
   "source": [
    "from sklearn.metrics import confusion_matrix\n",
    "pd.DataFrame(confusion_matrix(y_true = y_test, y_pred = vc.predict(X_test))/len(y_test), \n",
    "             index = list(sorted(np.unique(y_test))), \n",
    "             columns = list(sorted(np.unique(y_test))))"
   ]
  },
  {
   "cell_type": "markdown",
   "metadata": {},
   "source": [
    "## Modelado discreto"
   ]
  },
  {
   "cell_type": "code",
   "execution_count": 54,
   "metadata": {
    "ExecuteTime": {
     "end_time": "2020-11-21T18:14:40.504146Z",
     "start_time": "2020-11-21T18:14:40.465588Z"
    }
   },
   "outputs": [
    {
     "data": {
      "text/plain": [
       "0   0.61\n",
       "1   0.39\n",
       "Name: OBJETIVO2, dtype: float64"
      ]
     },
     "execution_count": 54,
     "metadata": {},
     "output_type": "execute_result"
    }
   ],
   "source": [
    "df['OBJETIVO2'] = (df['main_genre'] == 'rock')*1\n",
    "df['OBJETIVO2'].value_counts(1)"
   ]
  },
  {
   "cell_type": "code",
   "execution_count": 55,
   "metadata": {
    "ExecuteTime": {
     "end_time": "2020-11-21T18:14:40.611904Z",
     "start_time": "2020-11-21T18:14:40.507329Z"
    }
   },
   "outputs": [],
   "source": [
    "X = df[cat + num]\n",
    "y = df['OBJETIVO2'].values.ravel()\n",
    "\n",
    "from sklearn.model_selection import train_test_split\n",
    "X_train, X_test, y_train, y_test = train_test_split(X, y, train_size = 0.9)"
   ]
  },
  {
   "cell_type": "markdown",
   "metadata": {},
   "source": [
    "### OHE"
   ]
  },
  {
   "cell_type": "code",
   "execution_count": 56,
   "metadata": {
    "ExecuteTime": {
     "end_time": "2020-11-21T18:14:40.691317Z",
     "start_time": "2020-11-21T18:14:40.616965Z"
    }
   },
   "outputs": [],
   "source": [
    "from sklearn.preprocessing import OneHotEncoder\n",
    "ohe = OneHotEncoder(sparse = False)\n",
    "\n",
    "## Se obtienen las dummies de cat y se une con num (por eso hereda el index)\n",
    "X_train = pd.DataFrame(ohe.fit_transform(X_train[cat]),\n",
    "                       columns = list(ohe.get_feature_names(X[cat].columns)), \n",
    "                       index = X_train.index).join(X_train[num])\n",
    "\n",
    "## Sólo transform\n",
    "X_test = pd.DataFrame(ohe.transform(X_test[cat]),\n",
    "                      columns = list(ohe.get_feature_names(X[cat].columns)), \n",
    "                      index = X_test.index).join(X_test[num])"
   ]
  },
  {
   "cell_type": "markdown",
   "metadata": {},
   "source": [
    "### Modelos"
   ]
  },
  {
   "cell_type": "code",
   "execution_count": 59,
   "metadata": {
    "ExecuteTime": {
     "end_time": "2020-11-21T18:24:07.281922Z",
     "start_time": "2020-11-21T18:14:40.745616Z"
    }
   },
   "outputs": [
    {
     "name": "stdout",
     "output_type": "stream",
     "text": [
      "Fitting 4 folds for each of 10 candidates, totalling 40 fits\n"
     ]
    },
    {
     "name": "stderr",
     "output_type": "stream",
     "text": [
      "[Parallel(n_jobs=-1)]: Using backend LokyBackend with 3 concurrent workers.\n",
      "[Parallel(n_jobs=-1)]: Done  12 tasks      | elapsed:  4.3min\n",
      "[Parallel(n_jobs=-1)]: Done  40 out of  40 | elapsed:  8.2min finished\n"
     ]
    },
    {
     "data": {
      "text/plain": [
       "RandomizedSearchCV(cv=4, estimator=RandomForestClassifier(), n_jobs=-1,\n",
       "                   param_distributions={'class_weight': ['balanced', None],\n",
       "                                        'criterion': ['gini', 'entropy'],\n",
       "                                        'max_features': ['auto', 'sqrt',\n",
       "                                                         'log2'],\n",
       "                                        'min_samples_leaf': [0.05, 0.1, 0.15,\n",
       "                                                             0.2, 0.25, 0.3,\n",
       "                                                             0.35, 0.4, 0.45,\n",
       "                                                             0.5],\n",
       "                                        'min_samples_split': [2, 4, 6, 8, 10,\n",
       "                                                              12, 14, 16, 18,\n",
       "                                                              20, 22, 24, 26,\n",
       "                                                              28, 30, 32, 34,\n",
       "                                                              36, 38, 40, 42,\n",
       "                                                              44, 46, 48],\n",
       "                                        'n_estimators': [100, 200, 300, 400,\n",
       "                                                         500, 600, 700, 800,\n",
       "                                                         900, 1000, 1100, 1200,\n",
       "                                                         1300, 1400]},\n",
       "                   scoring='roc_auc', verbose=5)"
      ]
     },
     "execution_count": 59,
     "metadata": {},
     "output_type": "execute_result"
    }
   ],
   "source": [
    "from sklearn.ensemble import RandomForestClassifier \n",
    "forest = RandomForestClassifier()\n",
    "\n",
    "param_forest = {'n_estimators': [x for x in range(100, 1500, 100)],\n",
    "                'max_features': ['auto', 'sqrt', 'log2'],\n",
    "                'criterion': ['gini', 'entropy'],\n",
    "                'class_weight': ['balanced', None],\n",
    "                'min_samples_split': [x for x in range(2, 50, 2)],\n",
    "                'min_samples_leaf': [x/100 for x in range(5, 55, 5)]\n",
    "               }\n",
    "\n",
    "from sklearn.model_selection import RandomizedSearchCV\n",
    "search_forest = RandomizedSearchCV(param_distributions = param_forest, \n",
    "                            cv = 4, \n",
    "                            n_jobs = -1, \n",
    "                            scoring = 'roc_auc',\n",
    "                            estimator = forest,\n",
    "                            verbose = 5,\n",
    "                            n_iter = 10)\n",
    "\n",
    "search_forest.fit(X_train,y_train)"
   ]
  },
  {
   "cell_type": "code",
   "execution_count": 60,
   "metadata": {
    "ExecuteTime": {
     "end_time": "2020-11-21T18:30:40.815261Z",
     "start_time": "2020-11-21T18:24:07.286418Z"
    }
   },
   "outputs": [
    {
     "name": "stdout",
     "output_type": "stream",
     "text": [
      "Fitting 4 folds for each of 9 candidates, totalling 36 fits\n"
     ]
    },
    {
     "name": "stderr",
     "output_type": "stream",
     "text": [
      "[Parallel(n_jobs=-1)]: Using backend LokyBackend with 3 concurrent workers.\n",
      "[Parallel(n_jobs=-1)]: Done  12 tasks      | elapsed:  1.7min\n",
      "[Parallel(n_jobs=-1)]: Done  36 out of  36 | elapsed:  6.3min finished\n"
     ]
    },
    {
     "data": {
      "text/plain": [
       "RandomizedSearchCV(cv=4, estimator=AdaBoostClassifier(), n_iter=9, n_jobs=-1,\n",
       "                   param_distributions={'learning_rate': [0.001, 0.01, 0.1,\n",
       "                                                          0.5],\n",
       "                                        'n_estimators': [50, 100, 200]},\n",
       "                   scoring='roc_auc', verbose=5)"
      ]
     },
     "execution_count": 60,
     "metadata": {},
     "output_type": "execute_result"
    }
   ],
   "source": [
    "from sklearn.ensemble import AdaBoostClassifier\n",
    "ada = AdaBoostClassifier()\n",
    "\n",
    "param_ada={'n_estimators':[50,100,200],\n",
    "           'learning_rate':[.001,0.01,.1,.5]}\n",
    "\n",
    "search_ada = RandomizedSearchCV(param_distributions = param_ada, \n",
    "                                cv = 4, \n",
    "                                n_jobs = -1, \n",
    "                                scoring = 'roc_auc', \n",
    "                                estimator = ada, \n",
    "                                verbose = 5,\n",
    "                                n_iter = 9)\n",
    "\n",
    "search_ada.fit(X_train,y_train)"
   ]
  },
  {
   "cell_type": "code",
   "execution_count": 61,
   "metadata": {
    "ExecuteTime": {
     "end_time": "2020-11-21T18:31:03.899189Z",
     "start_time": "2020-11-21T18:30:40.820281Z"
    }
   },
   "outputs": [
    {
     "data": {
      "text/plain": [
       "XGBClassifier(base_score=0.5, booster='gbtree', colsample_bylevel=1,\n",
       "              colsample_bynode=1, colsample_bytree=0.8, gamma=0, gpu_id=-1,\n",
       "              importance_type='gain', interaction_constraints='',\n",
       "              learning_rate=0.1, max_delta_step=0, max_depth=5,\n",
       "              min_child_weight=2, missing=nan, monotone_constraints='()',\n",
       "              n_estimators=190, n_jobs=0, num_parallel_tree=1, random_state=22,\n",
       "              reg_alpha=0, reg_lambda=1, scale_pos_weight=1, seed=22,\n",
       "              subsample=0.9, tree_method='exact', validate_parameters=1,\n",
       "              verbosity=None)"
      ]
     },
     "execution_count": 61,
     "metadata": {},
     "output_type": "execute_result"
    }
   ],
   "source": [
    "from xgboost.sklearn import XGBClassifier\n",
    "xgb = XGBClassifier(learning_rate = 0.1, \n",
    "                    n_estimators = 190,\n",
    "                    max_depth = 5, \n",
    "                    min_child_weight = 2,\n",
    "                    objective = 'binary:logistic',\n",
    "                    subsample = 0.9, \n",
    "                    colsample_bytree = 0.8, \n",
    "                    seed = 22)\n",
    "\n",
    "xgb.fit(X_train,y_train)"
   ]
  },
  {
   "cell_type": "markdown",
   "metadata": {},
   "source": [
    "### Voting"
   ]
  },
  {
   "cell_type": "code",
   "execution_count": 63,
   "metadata": {
    "ExecuteTime": {
     "end_time": "2020-11-21T18:32:52.468436Z",
     "start_time": "2020-11-21T18:31:03.974595Z"
    }
   },
   "outputs": [
    {
     "data": {
      "text/plain": [
       "VotingClassifier(estimators=[('Forest',\n",
       "                              RandomForestClassifier(class_weight='balanced',\n",
       "                                                     max_features='sqrt',\n",
       "                                                     min_samples_leaf=0.05,\n",
       "                                                     min_samples_split=40,\n",
       "                                                     n_estimators=1300)),\n",
       "                             ('ADA',\n",
       "                              AdaBoostClassifier(learning_rate=0.1,\n",
       "                                                 n_estimators=100)),\n",
       "                             ('XGB',\n",
       "                              XGBClassifier(base_score=0.5, booster='gbtree',\n",
       "                                            colsample_bylevel=1,\n",
       "                                            colsample_bynode=1,\n",
       "                                            colsample_bytree=0.8, gamma=0,\n",
       "                                            gpu_id=-1, importance_type='gain',\n",
       "                                            interaction_constraints='',\n",
       "                                            learning_rate=0.1, max_delta_step=0,\n",
       "                                            max_depth=5, min_child_weight=2,\n",
       "                                            missing=nan,\n",
       "                                            monotone_constraints='()',\n",
       "                                            n_estimators=190, n_jobs=0,\n",
       "                                            num_parallel_tree=1,\n",
       "                                            random_state=22, reg_alpha=0,\n",
       "                                            reg_lambda=1, scale_pos_weight=1,\n",
       "                                            seed=22, subsample=0.9,\n",
       "                                            tree_method='exact',\n",
       "                                            validate_parameters=1,\n",
       "                                            verbosity=None))],\n",
       "                 voting='soft')"
      ]
     },
     "execution_count": 63,
     "metadata": {},
     "output_type": "execute_result"
    }
   ],
   "source": [
    "from sklearn.ensemble import VotingClassifier\n",
    "vc = VotingClassifier(estimators = [('Forest', search_forest.best_estimator_), \n",
    "                                    ('ADA', search_ada.best_estimator_),\n",
    "                                    ('XGB', xgb)], \n",
    "                      voting = 'soft')\n",
    "\n",
    "vc.fit(X_train, y_train)"
   ]
  },
  {
   "cell_type": "code",
   "execution_count": 64,
   "metadata": {
    "ExecuteTime": {
     "end_time": "2020-11-21T18:32:52.491172Z",
     "start_time": "2020-11-21T18:32:52.474007Z"
    }
   },
   "outputs": [],
   "source": [
    "def score_metrics_roc(X, y, estimator):\n",
    "    from sklearn.model_selection import cross_val_score\n",
    "    ls_scores_roc = cross_val_score(estimator = estimator,\n",
    "                                    X = X, y = y, \n",
    "                                    scoring = 'roc_auc', \n",
    "                                    n_jobs = -1, \n",
    "                                    cv = 4)\n",
    "    print(f'ROC media: {np.mean(ls_scores_roc):,.2f}, desviación estándar: {np.std(ls_scores_roc)}')"
   ]
  },
  {
   "cell_type": "code",
   "execution_count": 65,
   "metadata": {
    "ExecuteTime": {
     "end_time": "2020-11-21T18:37:14.120972Z",
     "start_time": "2020-11-21T18:32:52.499528Z"
    }
   },
   "outputs": [
    {
     "name": "stdout",
     "output_type": "stream",
     "text": [
      "ROC media: 1.00, desviación estándar: 0.0\n"
     ]
    }
   ],
   "source": [
    "score_metrics_roc(X = X_train, \n",
    "              y = y_train, \n",
    "              estimator = vc)"
   ]
  },
  {
   "cell_type": "code",
   "execution_count": 66,
   "metadata": {
    "ExecuteTime": {
     "end_time": "2020-11-21T18:37:26.546605Z",
     "start_time": "2020-11-21T18:37:14.134346Z"
    }
   },
   "outputs": [
    {
     "data": {
      "text/html": [
       "<div>\n",
       "<style scoped>\n",
       "    .dataframe tbody tr th:only-of-type {\n",
       "        vertical-align: middle;\n",
       "    }\n",
       "\n",
       "    .dataframe tbody tr th {\n",
       "        vertical-align: top;\n",
       "    }\n",
       "\n",
       "    .dataframe thead th {\n",
       "        text-align: right;\n",
       "    }\n",
       "</style>\n",
       "<table border=\"1\" class=\"dataframe\">\n",
       "  <thead>\n",
       "    <tr style=\"text-align: right;\">\n",
       "      <th></th>\n",
       "      <th>Modelo</th>\n",
       "      <th>Train</th>\n",
       "      <th>Test</th>\n",
       "    </tr>\n",
       "  </thead>\n",
       "  <tbody>\n",
       "    <tr>\n",
       "      <th>0</th>\n",
       "      <td>Forest</td>\n",
       "      <td>0.76</td>\n",
       "      <td>0.77</td>\n",
       "    </tr>\n",
       "    <tr>\n",
       "      <th>1</th>\n",
       "      <td>ADA</td>\n",
       "      <td>1.00</td>\n",
       "      <td>1.00</td>\n",
       "    </tr>\n",
       "    <tr>\n",
       "      <th>2</th>\n",
       "      <td>XGB</td>\n",
       "      <td>1.00</td>\n",
       "      <td>1.00</td>\n",
       "    </tr>\n",
       "    <tr>\n",
       "      <th>3</th>\n",
       "      <td>Voting</td>\n",
       "      <td>1.00</td>\n",
       "      <td>1.00</td>\n",
       "    </tr>\n",
       "  </tbody>\n",
       "</table>\n",
       "</div>"
      ],
      "text/plain": [
       "   Modelo  Train  Test\n",
       "0  Forest   0.76  0.77\n",
       "1     ADA   1.00  1.00\n",
       "2     XGB   1.00  1.00\n",
       "3  Voting   1.00  1.00"
      ]
     },
     "execution_count": 66,
     "metadata": {},
     "output_type": "execute_result"
    }
   ],
   "source": [
    "scores = pd.DataFrame()\n",
    "scores['Modelo'] = [x[0] for x in vc.estimators] + ['Voting']\n",
    "scores['Train'] = [x[1].score(X_train, y_train) for x in vc.estimators] + [vc.score(X_train,\n",
    "                                                                                    y_train)]\n",
    "scores['Test'] = [x[1].score(X_test, y_test) for x in vc.estimators] + [vc.score(X_test,\n",
    "                                                                                    y_test)]\n",
    "scores"
   ]
  },
  {
   "cell_type": "code",
   "execution_count": 67,
   "metadata": {
    "ExecuteTime": {
     "end_time": "2020-11-21T18:37:26.649476Z",
     "start_time": "2020-11-21T18:37:26.555365Z"
    }
   },
   "outputs": [
    {
     "data": {
      "text/html": [
       "<div>\n",
       "<style scoped>\n",
       "    .dataframe tbody tr th:only-of-type {\n",
       "        vertical-align: middle;\n",
       "    }\n",
       "\n",
       "    .dataframe tbody tr th {\n",
       "        vertical-align: top;\n",
       "    }\n",
       "\n",
       "    .dataframe thead th {\n",
       "        text-align: right;\n",
       "    }\n",
       "</style>\n",
       "<table border=\"1\" class=\"dataframe\">\n",
       "  <thead>\n",
       "    <tr style=\"text-align: right;\">\n",
       "      <th></th>\n",
       "      <th>Variable</th>\n",
       "      <th>Relevancia</th>\n",
       "    </tr>\n",
       "  </thead>\n",
       "  <tbody>\n",
       "    <tr>\n",
       "      <th>0</th>\n",
       "      <td>electronicity</td>\n",
       "      <td>0.15</td>\n",
       "    </tr>\n",
       "    <tr>\n",
       "      <th>1</th>\n",
       "      <td>main_genre_pop</td>\n",
       "      <td>0.11</td>\n",
       "    </tr>\n",
       "    <tr>\n",
       "      <th>2</th>\n",
       "      <td>danceability</td>\n",
       "      <td>0.10</td>\n",
       "    </tr>\n",
       "    <tr>\n",
       "      <th>3</th>\n",
       "      <td>main_genre_metal</td>\n",
       "      <td>0.09</td>\n",
       "    </tr>\n",
       "    <tr>\n",
       "      <th>4</th>\n",
       "      <td>main_genre_jazz</td>\n",
       "      <td>0.08</td>\n",
       "    </tr>\n",
       "    <tr>\n",
       "      <th>5</th>\n",
       "      <td>main_genre_electronic</td>\n",
       "      <td>0.08</td>\n",
       "    </tr>\n",
       "    <tr>\n",
       "      <th>6</th>\n",
       "      <td>main_genre_punk</td>\n",
       "      <td>0.06</td>\n",
       "    </tr>\n",
       "    <tr>\n",
       "      <th>7</th>\n",
       "      <td>main_genre_rap</td>\n",
       "      <td>0.05</td>\n",
       "    </tr>\n",
       "    <tr>\n",
       "      <th>8</th>\n",
       "      <td>main_genre_blues</td>\n",
       "      <td>0.05</td>\n",
       "    </tr>\n",
       "    <tr>\n",
       "      <th>9</th>\n",
       "      <td>main_genre_Otros</td>\n",
       "      <td>0.04</td>\n",
       "    </tr>\n",
       "  </tbody>\n",
       "</table>\n",
       "</div>"
      ],
      "text/plain": [
       "                Variable  Relevancia\n",
       "0          electronicity        0.15\n",
       "1         main_genre_pop        0.11\n",
       "2           danceability        0.10\n",
       "3       main_genre_metal        0.09\n",
       "4        main_genre_jazz        0.08\n",
       "5  main_genre_electronic        0.08\n",
       "6        main_genre_punk        0.06\n",
       "7         main_genre_rap        0.05\n",
       "8       main_genre_blues        0.05\n",
       "9       main_genre_Otros        0.04"
      ]
     },
     "execution_count": 67,
     "metadata": {},
     "output_type": "execute_result"
    }
   ],
   "source": [
    "## Así explican las mejores 10 variables a la target, del mejor modelo antes de VC\n",
    "pd.DataFrame(zip(X_train.columns, xgb.feature_importances_),\n",
    "             columns = ['Variable', 'Relevancia']).sort_values(by = 'Relevancia',\n",
    "                                                               ascending = False).head(10).reset_index(drop = True)"
   ]
  },
  {
   "cell_type": "code",
   "execution_count": 68,
   "metadata": {
    "ExecuteTime": {
     "end_time": "2020-11-21T18:37:27.741937Z",
     "start_time": "2020-11-21T18:37:26.655658Z"
    },
    "scrolled": true
   },
   "outputs": [
    {
     "data": {
      "text/html": [
       "<div>\n",
       "<style scoped>\n",
       "    .dataframe tbody tr th:only-of-type {\n",
       "        vertical-align: middle;\n",
       "    }\n",
       "\n",
       "    .dataframe tbody tr th {\n",
       "        vertical-align: top;\n",
       "    }\n",
       "\n",
       "    .dataframe thead th {\n",
       "        text-align: right;\n",
       "    }\n",
       "</style>\n",
       "<table border=\"1\" class=\"dataframe\">\n",
       "  <thead>\n",
       "    <tr style=\"text-align: right;\">\n",
       "      <th></th>\n",
       "      <th>0</th>\n",
       "      <th>1</th>\n",
       "    </tr>\n",
       "  </thead>\n",
       "  <tbody>\n",
       "    <tr>\n",
       "      <th>0</th>\n",
       "      <td>0.61</td>\n",
       "      <td>0.00</td>\n",
       "    </tr>\n",
       "    <tr>\n",
       "      <th>1</th>\n",
       "      <td>0.00</td>\n",
       "      <td>0.39</td>\n",
       "    </tr>\n",
       "  </tbody>\n",
       "</table>\n",
       "</div>"
      ],
      "text/plain": [
       "     0    1\n",
       "0 0.61 0.00\n",
       "1 0.00 0.39"
      ]
     },
     "execution_count": 68,
     "metadata": {},
     "output_type": "execute_result"
    }
   ],
   "source": [
    "from sklearn.metrics import confusion_matrix\n",
    "pd.DataFrame(confusion_matrix(y_true = y_test, y_pred = vc.predict(X_test))/len(y_test), \n",
    "             index = list(sorted(np.unique(y_test))), \n",
    "             columns = list(sorted(np.unique(y_test))))"
   ]
  },
  {
   "cell_type": "markdown",
   "metadata": {},
   "source": [
    "## Predict"
   ]
  },
  {
   "cell_type": "markdown",
   "metadata": {},
   "source": [
    "### Lectura"
   ]
  },
  {
   "cell_type": "code",
   "execution_count": null,
   "metadata": {
    "ExecuteTime": {
     "end_time": "2020-11-20T22:48:32.639740Z",
     "start_time": "2020-11-20T22:48:32.429047Z"
    }
   },
   "outputs": [],
   "source": [
    "val = pd.read_csv(liga + 'EXAMEN_VAL.csv')\n",
    "val.sample(3)"
   ]
  },
  {
   "cell_type": "code",
   "execution_count": null,
   "metadata": {},
   "outputs": [],
   "source": []
  },
  {
   "cell_type": "code",
   "execution_count": null,
   "metadata": {},
   "outputs": [],
   "source": []
  },
  {
   "cell_type": "code",
   "execution_count": null,
   "metadata": {},
   "outputs": [],
   "source": []
  },
  {
   "cell_type": "markdown",
   "metadata": {},
   "source": [
    "### Funciones"
   ]
  },
  {
   "cell_type": "code",
   "execution_count": null,
   "metadata": {},
   "outputs": [],
   "source": []
  },
  {
   "cell_type": "code",
   "execution_count": null,
   "metadata": {},
   "outputs": [],
   "source": []
  },
  {
   "cell_type": "code",
   "execution_count": null,
   "metadata": {},
   "outputs": [],
   "source": []
  },
  {
   "cell_type": "code",
   "execution_count": null,
   "metadata": {
    "ExecuteTime": {
     "end_time": "2020-11-20T22:48:34.793015Z",
     "start_time": "2020-11-20T22:48:34.071229Z"
    }
   },
   "outputs": [],
   "source": [
    "val[cat] = val[cat].replace(adj, 'Otros')"
   ]
  },
  {
   "cell_type": "code",
   "execution_count": null,
   "metadata": {
    "ExecuteTime": {
     "end_time": "2020-11-20T22:48:34.859950Z",
     "start_time": "2020-11-20T22:48:34.799816Z"
    }
   },
   "outputs": [],
   "source": [
    "X_val = val[cat + num]\n",
    "X_val.sample(3)"
   ]
  },
  {
   "cell_type": "markdown",
   "metadata": {},
   "source": [
    "### Mejor modelo"
   ]
  },
  {
   "cell_type": "code",
   "execution_count": null,
   "metadata": {
    "ExecuteTime": {
     "end_time": "2020-11-20T23:07:43.837743Z",
     "start_time": "2020-11-20T23:07:43.814781Z"
    }
   },
   "outputs": [],
   "source": [
    "## El mejor modelo fue el ensamble en paralelo\n",
    "scores"
   ]
  },
  {
   "cell_type": "code",
   "execution_count": null,
   "metadata": {
    "ExecuteTime": {
     "end_time": "2020-11-20T22:48:36.747461Z",
     "start_time": "2020-11-20T22:48:36.387137Z"
    }
   },
   "outputs": [],
   "source": [
    "import pickle\n",
    "\n",
    "## Guardar modelo\n",
    "with open('examen_2_2.pkl', 'wb') as file:\n",
    "    pickle.dump(vc, file)\n",
    "\n",
    "## Abrir un modelo\n",
    "with open('examen_2_2.pkl', 'rb') as file:\n",
    "    modelo = pickle.load(file)\n",
    "\n",
    "## Listo para usarse\n",
    "modelo"
   ]
  },
  {
   "cell_type": "code",
   "execution_count": null,
   "metadata": {
    "ExecuteTime": {
     "end_time": "2020-11-20T22:48:37.069158Z",
     "start_time": "2020-11-20T22:48:36.752020Z"
    }
   },
   "outputs": [],
   "source": [
    "## Se aplica el One Hot Encoder para los dummies de variables categóricas\n",
    "X_val = pd.DataFrame(ohe.fit_transform(X_val[cat]),\n",
    "                       columns = list(ohe.get_feature_names(X[cat].columns)), \n",
    "                       index = X_val.index).join(X_val[num + words])\n",
    "X_val.sample(3)"
   ]
  },
  {
   "cell_type": "code",
   "execution_count": null,
   "metadata": {
    "ExecuteTime": {
     "end_time": "2020-11-20T22:48:37.102137Z",
     "start_time": "2020-11-20T22:48:37.077841Z"
    }
   },
   "outputs": [],
   "source": [
    "## Hay columnas en este nuevo set que el modelo nunca ha visto\n",
    "aux = [x for x in X_val.columns if x not in X_train.columns]\n",
    "aux"
   ]
  },
  {
   "cell_type": "code",
   "execution_count": null,
   "metadata": {
    "ExecuteTime": {
     "end_time": "2020-11-20T22:48:37.188615Z",
     "start_time": "2020-11-20T22:48:37.111926Z"
    }
   },
   "outputs": [],
   "source": [
    "## Dado que son registros nunca antes vistos, se omiten\n",
    "X_val = X_val[[x for x in X_val.columns if x not in aux]].copy()\n",
    "[x for x in X_val.columns if x not in X_train.columns]"
   ]
  },
  {
   "cell_type": "markdown",
   "metadata": {},
   "source": [
    "### Resultado"
   ]
  },
  {
   "cell_type": "code",
   "execution_count": null,
   "metadata": {
    "ExecuteTime": {
     "end_time": "2020-11-20T22:48:34.894517Z",
     "start_time": "2020-11-20T22:48:34.866767Z"
    },
    "scrolled": true
   },
   "outputs": [],
   "source": [
    "## Se reemplazan missings por la media del entrenamiento\n",
    "val['VARIABLE_ANTES'] = val['VARIABLE_ANTES'].replace(np.nan,\n",
    "                                                      X_train['VARIABLE_ANTES'].mean()).astype(int)\n",
    "\n",
    "## Se usan los mismos bines definidos en entrenamiento\n",
    "val['OBJETIVO'] = pd.cut(val['VARIABLE_ANTES'],\n",
    "                             bins = bins).astype(str)\n",
    "\n",
    "## Sólo nos quedamos con el entero de la cota superior\n",
    "val['OBJETIVO'] = [int(x[-5:][:2]) for x in val['OBJETIVO']]\n",
    "val['OBJETIVO'].value_counts(1)"
   ]
  },
  {
   "cell_type": "code",
   "execution_count": null,
   "metadata": {
    "ExecuteTime": {
     "end_time": "2020-11-20T22:59:02.769571Z",
     "start_time": "2020-11-20T22:59:02.746579Z"
    }
   },
   "outputs": [],
   "source": [
    "resultado = pd.DataFrame(val['OBJETIVO'],columns = ['real'])\n",
    "resultado['estimado'] = modelo.predict(X_val)\n",
    "\n",
    "## Buen modelo!\n",
    "from sklearn.metrics import confusion_matrix\n",
    "cm = pd.DataFrame(confusion_matrix(y_true = resultado['real'],\n",
    "                                   y_pred = resultado['estimado'])/len(resultado), \n",
    "                  index = list(sorted(np.unique(y_test))), \n",
    "                  columns = list(sorted(np.unique(y_test))))\n",
    "display(cm)\n",
    "\n",
    "## Con buena acertividad (suma de diagonal en la matriz de confusión)\n",
    "'{:.2%}'.format(np.asarray(cm).trace())"
   ]
  },
  {
   "cell_type": "code",
   "execution_count": 69,
   "metadata": {
    "ExecuteTime": {
     "end_time": "2020-11-21T18:38:02.082757Z",
     "start_time": "2020-11-21T18:38:02.075733Z"
    }
   },
   "outputs": [
    {
     "data": {
      "text/html": [
       "\n",
       "                <audio  controls=\"controls\" autoplay=\"autoplay\">\n",
       "                    <source src=\"data:audio/wav;base64,UklGRpgiAABXQVZFZm10IBAAAAABAAEAOhEAAHQiAAACABAAZGF0YXQiAAAAAKNNhF6iMrYEvQsQQTZnZ0qu91WxYazc22EAiusNsYWSyroxEFNN1EYPFqH8kB7VWy9xYj7S6Hm2f8cr9zIEVNa6mLqNs8njHEhDEinh/CL9XjXjcMtwYS0K31DFA+d0DX//z76nhx+T7tseI+8vvQgg6rwFrkxmfb5m0xra3LXcMQcrHHTzoKgigFKh5+3tIBkVqenJ35wU1WCrfw5VTgqW40D6RCT6IXfiWZcwg7u1KvyqFbT1a89+3uMmfG5md8c+A/8v85Ya9TrzHsfP9I1jkPjM6wMZAmLV3bx55RQ5JHO6ZYInO/svCuw580iKFP2+Wo7spVvjdgNV6PS3sLOo8pxHiW0RTd0SAwDwJZJUPE1YBX+zIJnfwHv1cPp4y9ygMLQDA2NP0l28MOwDAw36QndnPEi49PuvZK2k3bMA5ek0r6qSPr0DE0FOj0V6FMv8hCCJXaJwtzs45vq19ch6+IwDJNQ+l66OgcwxH1lDgCfp+0H+tDcXcnVvhioY3afFnegHDvD9aLzIhs6UwN6oJDovMQf96a8HEE/mfcVkIhjC273dmwjaGyzxWaYHgIajY/CPIdATdeiS4CgX7mJhf7JSHAhr47f7MCW7IL7fgpXdgyq4Af5iFSL01s4s4LUpA3Bedlo8lf3j8ywcJzvgHPTMyIy8kUvP5gQGAdvTF73j59M77HMfZF0luvqTC047SkjbEWi8+o24pz3legOy5sq2yLSJ9fNJgm0nS1AReQC+J3RVuUtcAnaxipnSwqP2hvmUyVCgFbYFBg9RDV3WLjQDWA7fRKNnAEbH8bWud65n3/IANOhjreSSwL/NFRpPPUTtEgf9gCIwX/9vAjmq45G1c8q9+dMC8NHSlbiPVc9wIVZD6SUA+3H/Czo5cwtuqSc32xHGOOqJDlL8BLr+hY6Wj+EfJnQupwXs6a8Ja1FQfrtidhW92tHe/gl0G9nuHKQBgMel1fIeIn4STOdv4bkZ+GQBf01Q9gVT4zT9DiZpHwHdu5OfhJ66yv8IFY/yUs7s4YYsd3FCde05N/ym9MAdRTu9GiXKsosmk5zRzgXn/1zSZb1Z6ok+nnR2Yj8jTPoBDaU8jEciD+C5sY2PqRXnbAMI5a619bVw+DtMZW02SdAPAQGPKURWI0pe/3+vCZrIxLz3i/ixx9ifDLgGCahSN1zxLI0Cug++RrlntUPb7oStma8m4SABeOadqzWTTsKOGN1P4EJpEVf9hCTKYEVvQzYp4Ty1+cv0+ggCuM92lNiQL9KgIz9DTiQm+rEAYjxGdIxsyiRn2YzG0uv6DqT6pLdKhWGYXeSDJ58tIgTt6b0LvlOjfqNg0BLM2fHfWAv7Gn3s7KETgBSoP/WYIiQRL+Zg4lEc8maKft9N3QNO47X+3SYEHkPaB5J2hRe9gwGcFPzw4M2941Uv13ITdH436vp59VAfUDuMGFzHsYqhlOnTpQa6/uTQx73c7DZBOXW+YCgh8fl4DvE9uUZgDGS3fo1xq+LoSwNZ46G0Nrdc+3ROMm0+R14OmgFhKwNXeEhd/Jqtm5rAxsX4gffRxXOfFboEDCxUTlsOK/gBKhGWSLtnW0H262msyrDf4jsBsuThqZyT6cRFG4tQd0HuD7n9jiZVYnVufDO03vy0h80e/CsBfc0skw2SDtXBJRRDryJb+QMCuD5Bdfpq6SGo1xnHbO1ZD+f4SrWrhEaaKOfUKLssogIC6tYNB1bgfnteMRDv2B3hqgxvGhjqyJ88gGyqnvf/IsIPHuVk4+8e3Wj9fWpL0AFc4zkAnCeNHILXZpBjhpS/LQMfFGnvgM2f5SIyInTQchE1r/la9twgSDtMFpnEx4ktljLWaQeB/XXPPr5r79lDvXX5XhgfqPn4DzA/0UWWCfW0YY1craTqGAOm4aSzjLhN/pxQ6mxBRfkMRQI0LbBXu0Zb+cirQpu6yL75Z/b0wyOfMLwAD51VVFotKXUBphJnSqZn8j4X6WKrCbKS5EMB4+IxqBqUj8fyHSRRA0B+Di7+nyjSY49trDBN3NG0HM87/TwAQMv0kVeT8tfRJ9ZCDiGg+GUDDEEndlNpCR/81bfHBe+mDxz39bIhhDuc7+kSKskrKAEq6vsPR1gGf0ZcmQ0l2FTi8w3PGarnsp18gM+s8vlSI1gOGuR85JEhuGpZfe1I0/9948IBSygDG8HU145khxTCxwSSE9ftMs2S5+w0WHV7caMyhvhK92IiLDv9E93B8ojIl3bYGgg8/A7Oy74E8nFGK3YoXRIdc/l/EWNA1UTEBpSyWo1Qr1rs0gLu37ay97lBAbNSjWw+Q6MLAQMGL0tY6kRa9gmq+5u1yqb6P/UcwuieW773EflWSllPJwMBLxQwTHxnezxA5nGqVrM+5jgBCuGNpq2UQMqTIKdRhj4XDbX+tSpAZZNs1i302bq0t9BL/jz/AsnOkLaU2NrRKYZCah/199gEXUP4dppnKRxj1GbIm/DiD0T1prCug0Kesuw8K8gqtP9k6isSfVoVfwNaCQtw15bjMQ8bGTXlqZvTgD2vO/yRI+cMJOOm5TckgmyffGtG4v2w400D6yhnGQDSXI16iJbEUAb0Ekbs9syV6bE3eXYTcDgwbvdI+OQj+zqhESm/NIhzmbXauAjt+rHMbL+o9P5IgnZKWxQbUfkOE4lBw0PrA0Kwao1NsQXuegIz3tixdbs5BLlUGmw3QVwKzQPZMNJYB0NZ812ox5ywzH77B/RIwMGelsDqFEBYL1h1JaQAwxXwTTxn9zlx45Wpr7Ti5xsBKd/1pFeV+8wpIxVS/zy8C0//zyydZoFr+Sqq17i0V9JM/yr+wsa6jyqWwt3AKyJCxh1b91oGq0W1d85lShnc0ibJL/ILEF7zX65Rg1igcO9SLLspR/6y6mUUqFwNf7JXggjP1uHkZRBUGLnirplAgbOxeP69I3ELO+Lk5uAmOm7Qe+JDAPz149oEeSm6F0DP9IukiRrHyQdFErfqzcyn63I6hHeabs8tafZU+V4ltzo5D368jIctm+7cRAmU+V7LIcBW939Lw3ZiWSAZQfmkFKFCnUIMAf+tj41Rs6LvEAJ23AuxB700B61WlGstPyUJqgSpMkZZEkFZ8MWmpp2rzkT8wvJ6vq+e4cLYF3JZBVefI1cAYxemT+VmZjer4M+oFbZ96esAQN1qoxeWv8+zJW5SbzttCvv/7i7rZ1pqFihv1cq0/NM+AAf9g8S6jrKXreCdLaxBIRzS9usH9kdcePBjbhZo0fXJv/MhEGvxIKwLg36iJ/JVLaAo4fwU66kWx17uflZVBAZC1jbmjhF6Fzfgw5fEgTO0qADWI/UJYeE06Isp4G/relVBLfpM5GgG9yn8FYHMoYriip7JMAmHESzpt8zI7S49engPbWkrdvVs+tImXjrDDNy5+4b1nB/fvAkx+BfK7MAN+vNN7XZuVzYXRPk/FqpDYkEp/syry41ctTLxlQG22lCwrb4wCo9Y+WogPf0HlwV4NKdZDD9c7UGll56k0Pn8cPGyvLKePMXAGo9ay1XPIR0ADRlTUXlmyDTv3R6oh7cQ66gAUNvtoe2WjdIwKLJS2DkqCbgAEDEnaR1pLiVE0/C0pdUiAdL7RMLNjU6ZmeNpLyRBfBpa9owJO0rveAFilBMI0NPKSvUlEGzv6qnbgrOk2fRDLnong/uJ6/YY2WC5fu5SkAPJ1ZPnqxKMFq/d55Vegrq2zALbI3UIleCX6TksdHHxecQ+avi15PcHYyosFMTJYokzjCPMhwq6EKTntcz47+Q/WXl0awcplvSR+z4o8DlDCkO3gYbLnknhIgrE9trIy8HN/FpQAXdwVVgVWvngF6VEE0A/+6mpHI5tt7TyCAH12KavZsAtDV9aSmoRO+UGkwZDNvRZ9Dxh6tKjmp+c0pz9EPDxusqepcehHZZbg1QFIPb/wRr0UvdlHzI924OnBbmZ7FMAWtl+oNmXYtWfKuBSOTjzB4kBNTNSastnQSIo0Sq1Udf3AY76B8D0jP6ahuYiMYtA2Bjz9TsLe0xreQBgvRC7zsHL0fYXEGHtvKfBgvamg/cdL0cmLvoR7Ewb32JsfntQJwFj1fjouxOLFSPbHJQPg0m54gTNI/AG2d8M6+cu9nLheDA8t/Yv5YUJvSpNEgvHOIiXjafOywvdDyHmxsw28pJCI3rIaaomyfPC/KIpbzm3B7W0HYauoGvjdApQ9arHv8KU/7NS/nZpU4QTgvmFGZBFrz5S+Jengo6EuSj0agA01w6vMcIrEBtch2kAOd4FngcLOC1ayzpr53eirqCQ1C3+o+44ufieHMp6IIhcLVNBHuD/fhyKVF5lay+W2P6mjLoZ7uz/Xtcen9uYP9gALfpSkzbKBmsCWzVra2RmUR8ez3e1ANm7Ajn5zL0vjMCccunJMuA/NRee9fcMtU7See5d6w2Bzb3MUvj1D0vrmaW+gkepJfrjLwol4/is7Kkd12QJfv1Nyv4S1WXqvxR3FJLYYZLWg9676QatI2kFLd+S7JYxZHS9d5g5FPW65RMLBStdEFXEI4cOjyrR/QzyDqLk6syC9DlF1noNaFIkDvP+/fwq2DggBTOy0IWdooTltArT84fGyMNhAv1U5HZZUb0RvPkuG2tGOD1h9Zel/o6fu471vP9z1YmuD8QoE8RdsWjvNucEuQjPOVFakjh55DGh0qGC1qz+K+2HtzyfocxLI2RdyVGFHN7/RR4UVrBkrSz71Y6mHryN73L/XNXOnfOZIttSL/9S6DSvBV4DgzdybOlkXxwkzde1sNpwA9T3k7t/i5aeXexdNCU/lRVb9cIO6VAjesxbHgtczMbNzfnADyvpgaPTgqWrv/yVMMMjofdb7Q0gwWaPfXZLePzV1NjrtRVRE/7VuJCzhHm+4wh6I98Dkd4q7kQ0vnWFdgA3gvNW5p8MOytdDqPBJIaXkKrTHQ76DSrjI83a9thHc3tCZv8hZ/JF/00sLTiAAryvmYWYpJTn4ApQ8nDF5cQ2BThXtXZCTwMQCfrbHDdHrTtu8qijjo+/veT2/P6y0xeu/8UjFllfyWfeNAEE4QmOO2BaSTaM4QCgBqNv2Bn/p+vgtZafMs8TJiteWFDQGu7/EyCRV+xj5Sls0zSmub328OX+V9OOnCCbDN6WMfBSNzOiBGMEqzlmbVpjahk8y0q2YtwTBGD2Xrnjin2gR+/eNVk++BMq9ZkQFFNeeppZVghLy93OQPt4DwDnc6H9gg+uT/8yMXEia/Yd7nginGj+fOdIMvqr1FHtnRYXEmfTII+lhRnBzQo1I1MCBt7U7/A2BHc5dWY0AfIC5ygOXitPDPe+OoUxkijWKw/zDLjhb80/+W1K+XtpZLQf0vGVAJMtbjfX/1KteoWeppnp+grG8GjEFsYQCGRZcHYjTVUOZ/qKHvFHDzp478uhM5Dhvyr4LP700bitAcgdGdlgzmbOMi0DGAtGPVta8jOl3uWeS6RX2nP/GOpBtAWg0NHSKNte204kGQ8A6SEAWRFjFCfp0O+lXL9T8kb+TdFem2Oc+uDJM8xSgjGjA3kF0ztGbrZhdBZmyc+2FN6mBNz0LrddinaiLfJLN309XxIL9XwSN1WCelpXlQVOygHQrPwdD83kcp8/g4Ww1QG7MRYhP/Xy7ukkaGpXfE5G+feV1M/udxfMEM7Qmo2thr3DpwzdIsYAjN2O8Zs5NnjZc8sxkvC+568PbisyClG8ZoTck6LYJhDgC03g0M2w+/lMaHyCYnAdUfHwAc8umjYl/fWqcYWvqJTrAQs2727DXMfvCn9bFHb9SrUM2Po6IJpIXjiC7AGg7JAGwmH5TP040GytE8oTHEZiwGW/MGsCXAz5PkFaizHE29+dnqU63Lv/f+iusoqgetSGK3ZfUk2BF0UAxiNiWiFiPCR1zr+lB8Gk85X9Qc9Amrqd7ePtNZRSyC+0Ap8G+j0Ub/9ffhOix2a3xt8oBUvzA7XsiYGkEfWkOJI8yhD/9GwUUVePegtV2wJmyTHREP6vDpDifp2YgwezUAQwMrMfIPTa714nJGyae69DzvWS1FHwQhhuDzXOJ4zKh2XGcg50Ijr/I91Z80M8U3lmcjIvNO+J6DERaysHCLK5qYOYlRfbDhHBCureRc4r/ntPwXyOYDMb4/BUA/8vsjVr+qaofoXJqoTt9Qqh7YPCtcjTDYpdo3XSSCQLWvvsITFJmjaM6UqeupEtxIf6Xfx+zjStN8wGH51jomSzLroBrQ2kQBFaFy/s2O+cAKcX3vH/3OYlsSWhLtcwLvtfv0voFY0AqSW1WxthWyEOzKWlusLo9NP8Ms0ymSef4+b/N0hSDC7UAdYHH0DNbzVeiBDxxQ+4duGZBavx3bKQiZym8PfqOZg7Og8G9WcWYlmGeq5SKQCSyG3Sa/8uDkzgl5sHhJO1wQaRMkgeDfPV8Ngpz23GeglBsfOi1Njx/hj/DZrLx4r8iBDJLBD6Ia39y9wz9ec+W3rgcJks6e1j6a8SVSvOBRm3AoNkl4jd4xGVCY/dzs6xAPFRA32NXgAZiPDABCMxtTSq92amooXsrGfv1goI7KfBIsq5EINfHXWiRqAJ7fueI7ZJxDSW5qacmpJVxp37XvvJzBCtas70IeBkcmOpLBsBCg9HQsxZlCwb1hScb6jt3xIAMOWor9Wh7dnOMGpgIEpZFOcAkSf6XABgdB63yaClcsQf9v/7Iss3mKeg3ekBOulRTiwEARwJQUJycFhckg1TxMm4JeP3Bf3vvrBLicioyvobO5A6sA0g9WwYaFtnekRQgP3Tx7PTuwCZDQHevpmNhCi4JgndMtYcBvLj8VYsaW/ceV0+o/HF1GHzqhl+DADJe4lCirzL1hFvISH8htwd94dBTXtIbwIqr+xL6igUKyuIA4q0cYI/mfPfpRJfCD3ca89BA1tULX1/XNUWQPAzBjoypDPi9DSk3YUXrz7xpQpr6tvAo8ujE2phgXRtRCwIkPxQJSlK3DKh4xebjpN9yKL8UfoYywGtrtDeJA1mMmKkKo4AcxDiQ3JZBSpT01Cb7Km74SIAe+M3rpyitdxfM8RgeUjVElQBfikuXs9ehxtux6+lMcZH9xn7EclPlzyi2OzxO3dRjSpEAHIKYUQCcWlanwrIwpW50uREBkPup64ciQOrn/04PHk5LQxM9XwaY10wes1N4PooxwTVAgLyDK7b85cqhce6fgsWM14bDvED89Yu8nDdeKs7o+/71O30RhrsCmjGQ4ici2rObhPTIJf6U9wX+SJEKnyfbW4nietB65sV7io2AQOy94Epm1fiVBMdB/baHdDbBblWQn1nWrUUC/CuB0MzfzIV8hKiLoZLsQnzYgrL6CDAN82OFkBj0XM0QscGRf0AJ4lK4jCv4JyZlZSlypX9NvltyQatANPBJyVn4mCiKBQA5xF0RQJZaieV0KKadquC4yAAv+HTrHijht/kNQhhyEZdEdMBcCtSX4ldlRg1xdOl9cdi+CL6AMd5luWj1e/PPfJQzCiW/9gLfEZ+cWlYrgdRwXC6e+Z+Bnzsl6wCiU2tbABBPVY4sAqM9ZUcUl/jeUtLSfiRxl7WPgM3DFbZOJbdhW69yg06M98ZI/A19FkxaXLId/U4s+1D1Xv20RpJCdDDH4cKjRnR9BQnIBD5M9we+7dG8Xzka90kdepF7AgXnSrZ/oWvlIEhnbTk7xPSBbnZ49B9CApZP31EWJ8S6e8vCT80RTFD7wCglYaFs8X0DQoo53W/3s56GQJlDHP5P3IFCf6vKNZK2C6/3TWYrpXLzHf+DfjHxyCtYdWeKidogl+mJq3/ZxP7Rn1YwyThzQmaDK0/5QoA+999q2qkX+JbODZhD0XwD2QCZC1mYC5cnxUMwwymvclt+Rv578S2laGl0/KaP1pQCyf4/kwNk0jkcVdWwQTtv1u7IOimBqjqkKr/iKavMwM1PiY3PAne9bceNWF/eb1IvfUQxsLXbwRqC/nWjJSnhhzACBBLM1wYRu959d0zzXOedjw21Oud1Qn4SxuWBzzBD4aMjsfTaRZrH4v3Jdw0/UZJon0ZalEidOlV7W0YNypw/BKtR4EnnwrndxR9BIbYvdEnC01bJX0WVpQQ2++2Ci01+C9s7P+dEYfFtXT2pgmE5dy+l9BnHLJmM3K8PS4E3v5bKhBLvCzS2uOW2Zbwzkj/1vYoxk6t0NdzLRNpE16wJFj/8BR5SOJXESI4y4eZra7z5uP/Md41qnGlQOXEOk5hTkOQDgcDXC9pYb9apBL0wFmmiMtp+gP44MIHlXGn0PVTQbBPSiVr/s4OpEo1cjRU1wGevla8wem8BsrokqgTiQ2y8wUUP+k1zwdE9uEgC2MFeSRGPfOixS7ZlAWKCpfU8ZKGh9LCOBJJM9QWee7Q9mI2HnVfdX8zBOoJ1pj5tBvTBau+FYUgkHXWzBefHgv2KtxY/81LPH49aMkfhuhy7soZvin8+aqqEoE5oVfp7BQfA2DXq9LZDYJd9XzgU5UO3+9BDAs2mC6S6RCcpIcKuBX4Lgnf41S+Y9JTH05oRnF9O/kCwv8ELDZLkSrq16aVFZgS0QUAk/WRxJKtTdpBMOlpllzAIhX/gxbrSTFXVR+ayBuZWrCd6Kn/Ydz7qI6mKOgfPVFhhkE+DbwDVTFaYjtZpw/uvrqmV81W+9v208BslFOpzPj5QvVOiiPw/V4Qr0xxcgFS9P5jvV+9XOu/BuDmnqY9iYG0qgjfP6I0bAa89hIj02R0eIJDx/BJxaLarAaXCTHSZpF8iI7FWRQzM0kVu+03+OY4XHYMdMAwRuiH1ib7CxwABB68MITGkSDZHBnFHY/0Q9yIAU1OwH5SZkcdrOeb7x8bMSl+906o84BYo5vrThW5AUXWrtOQEKhfr3yhUaIM9e/RDdo2JC225jKaS4hVuqb5pQg64t69QNQ+ItZpRnA+OdYBtACpLUhLVigH1X+UY5kx07EARPQBw+ut19wFM6lqC1vXIOX+HhhRS2tWjxwJxsSYELI96lz/i9rRp8CnFutqPz9huD/5C4IEUDM5Y6NXpwz5vC6nJ88z/KT1yb7mk0erx/uLRChOzSGG/fsRs06Wcr5PFfw9vHe+8uyvBuzktqR+iQK3WAuUQE8zEwVI90sljWbMd9dAX+4FxRzcuAeSCMjP7Y+HiU/IaxYKM7oTDO2w+Wo7hnekcgAumeYV17P8UBweApW5YYN+k8nbWhrcHBnzb9zFA8NQLX9XZMsa5ebP8GockCj39P2l64CDpdXtnBVMADjVxNROE75hUnxaT7wKHvBlD5o3nSvX42aYCImjvCj7CwiW4Hq9L9YoJUprMm/+NsQAtQFJL0ZLDCYq0m2TwJpL1UsB6fJ6wVmubd/ANVNrc1n2Hsj+whmqTI9VwBmFw4SY0LPR6/3+sdi2pgepCe6lQRhh5D3BCloFSzUFZPdVpgkWu7Wn+tD//F30wrxzk02tv/4JRkpNEiAu/aYTsFCmcmxNPPkru52/ge6NBu7i2KLViY+5/A01QfIxxAPm94onOGgOdyM+A+zUxJ7dtgh6B13NhY6oihTLbhjOMikSbuw5++w9nHgpcT8r/eS11z7+gxwtABO3p4JIlW/ehBvmG6jxrtwOBjFThH9OYlYYMeYN8qwd2ydn8rqj+oC5pwXw1hXY/jfU7tURFsVj33sLTeQIWvD7EEk4BCr34K2W2Yn0vpv8YAfy3iq9L9gOKKlsDG7ANMT/xQLkMC9LsyNUz3GSLpxh19IBgvH9v9yuDuJxOOZrz1cdHb3+bhv3TZ5U6RYOwVqYmbVa7Yv+09aspWOqAPHQQ91gDDyZCUIGRje+ZDhUpQZFuVCozNK7/Qfzv7oWk2SvswF0R1xMWh7o/FwVpFKfcgtLavYvutDACPBYBujgB6FDiie8lRDCQYswfwKX+M4p02k5dmc7tOm4xCTfpglRBu/KMI3ei97NYRqAMpcQ4evT/GxAnXmab34oc+Nk2Mf/pBww/pa0A4IjlxHhnBziGj7wAd1iCJRVxH84YOgVkeVW8+MeESfP74WhIIH5qSry/hVe/UXTLNfYGLplVXu2ShkHp/CUEuc4WCgX3gaVv4pIwf39pQZR3ey8P9ryKvNt1GyDMtX+4gN5MgRLTCGEzIuRq51y2UcCEvCJvnWvu+QXO2RsH1ZOG8X+IR02T5dTChSlvkWYarfW7gj+8tSypNSr/PPrRY1gLzp/CDsHQDllZWZSowOIt/2on9Rm/qLxwrjOkoyxpATKSF9Lpxy1/B4Xj1SCcpxIoPNHuQ/CiPEPBtjeQp/Hisq+JBM5QhwvRgFb+RcsX2tPdaQ4dOewxLDghwoWBYLI7YspjavQQxwgMgQPZOt9/ulCinr5bb0l/OEj2UsBshwj/CGydoEOma/joB3RGdzuaN3BCuxX7X8UXoMTBeWo9A8gNCYw7V2fXYFCrEP0Exbe+2HSfdijG59ntnpcSFwFBvEuFHQ5mSY223STuouew0//2gWy28G8YNzRLShvimtIMPj9DAUHNMRK1x69ybuQNp9826kCl+4gvSOwcueyPctsY1SIGeD+2h5nUHxSJRFLvEeYQrlG8HP9D9PJo1it+vb0RyhgTzh1B0QIODv3ZYFQogDdtbypcdb//jDwyrabksWzkAcLSlJK+BqU/OsYcVZPciBG3vB0uFvD//K0BcHcip1ii3fBpxWbQqQtGQAy+mQu2mxOdNs1Q+W7xEDiWgvJAxPGvoqJjnrTFB6uMXEN+Oo2AGJFYXtFbP8il+Dy2cwCrRwK+rOv/4AIm0fmkR60GILt4t0rDTla/n/kWycRjOQC9i8hQyWK6kWdsIGVrlH2FBZZ+ozR4dlxHnJpAnr8Ra4Dd/HIFe85ySRX2PWRx4z1xY8AAAUX2qq8kN6rMEhwLmoQLi39QwaNNW9KVhz+xgGQ0KCA3fkCE+3Du+awM+pAQBxtnVLMFw7/mSCJUUtROQ4Aul2YIbuo8cz8KtHzovGu+/nrSbBfbDZ6Bl0JLj12ZopOpP1HtIyqQtiH/7Du2bR+kg22dwo4SzZJThmG/MMaSFgGcphDJe62t7LEbfRGBaPa4ZsUjC3EHRjpQiUs+v4a+7UwRG44cwwzIOPZxNTjHQxrAqbDoon9j0vW1B8qMd4Lnur/AdZHI3x+akIgRd/Q2kkElRzk906tn4ASndjobh+LFzDscd6dD3pc+X+nWdQOJuRl90MiPiTe5zubGoLwsFH4AxbP+MbQWNtAITJrOHmYQxAC+fFjF1k66CJ61YuQ6Y1MyL8BFwSA2Ke8z+B/M1JxwmjcK3T8hgcLNwZKyBlJxF6Pd6J83zUDhutxur+x/ezCQlZtzFAbFk3/XCKcUgVQSAvEt4mYBr398hT8RM8uop2w/fzQSyRfiDSQBYUKIT/gZoFMqPrEsm6rENr9/yPt77J3kmS4WA1QTAxIqxeK/KUcFFqmcQNBdusNtxTG0fXFBH7YRprcjOzGhxojQ54q5/0V/AgznW8McjkwDeELxWrl0Qz9ADnBmoiEkR3ZgiGVMEwKVurWA0VK0HynaIkdBt6828AFahyy9fKqVYArn2TrNyBXFufqE98ZEq5e3n9gV4wM1ePP+EsjJiMt5UKZmoJSs0T64BVD9xHQ4twSJOFsWXgxQYEAjPL9GLA69iCf0jWPHY+iyt4CHwPu1ri8HeNNNkZyRmesKc771QiBOIdJLheewdGOK6Rw4V8D8eksua2yz+82RXtt8052FJ//JCSfU6tOUgiZtcqY8L5D9Er7Xs18oV2yAAA=\" type=\"audio/wav\" />\n",
       "                    Your browser does not support the audio element.\n",
       "                </audio>\n",
       "              "
      ],
      "text/plain": [
       "<IPython.lib.display.Audio object>"
      ]
     },
     "execution_count": 69,
     "metadata": {},
     "output_type": "execute_result"
    }
   ],
   "source": [
    "## Tono para cuando termina código\n",
    "from IPython.lib.display import Audio\n",
    "import numpy as np\n",
    "\n",
    "framerate = 4410\n",
    "play_time_seconds = 1\n",
    "\n",
    "t = np.linspace(0, play_time_seconds, framerate*play_time_seconds)\n",
    "audio_data = np.sin(5*np.pi*300*t) + np.sin(2*np.pi*240*t)\n",
    "\n",
    "## La siguiente línea debe ir debajo del código p que suene\n",
    "Audio(audio_data, rate=framerate, autoplay=True)"
   ]
  }
 ],
 "metadata": {
  "kernelspec": {
   "display_name": "Python 3",
   "language": "python",
   "name": "python3"
  },
  "language_info": {
   "codemirror_mode": {
    "name": "ipython",
    "version": 3
   },
   "file_extension": ".py",
   "mimetype": "text/x-python",
   "name": "python",
   "nbconvert_exporter": "python",
   "pygments_lexer": "ipython3",
   "version": "3.8.5"
  },
  "toc": {
   "base_numbering": 1,
   "nav_menu": {},
   "number_sections": true,
   "sideBar": true,
   "skip_h1_title": true,
   "title_cell": "Table of Contents",
   "title_sidebar": "Contents",
   "toc_cell": false,
   "toc_position": {
    "height": "calc(100% - 180px)",
    "left": "10px",
    "top": "150px",
    "width": "410.66px"
   },
   "toc_section_display": true,
   "toc_window_display": true
  },
  "varInspector": {
   "cols": {
    "lenName": 16,
    "lenType": 16,
    "lenVar": 40
   },
   "kernels_config": {
    "python": {
     "delete_cmd_postfix": "",
     "delete_cmd_prefix": "del ",
     "library": "var_list.py",
     "varRefreshCmd": "print(var_dic_list())"
    },
    "r": {
     "delete_cmd_postfix": ") ",
     "delete_cmd_prefix": "rm(",
     "library": "var_list.r",
     "varRefreshCmd": "cat(var_dic_list()) "
    }
   },
   "position": {
    "height": "515.208px",
    "left": "1689.57px",
    "right": "20px",
    "top": "120px",
    "width": "343.767px"
   },
   "types_to_exclude": [
    "module",
    "function",
    "builtin_function_or_method",
    "instance",
    "_Feature"
   ],
   "window_display": false
  }
 },
 "nbformat": 4,
 "nbformat_minor": 4
}
