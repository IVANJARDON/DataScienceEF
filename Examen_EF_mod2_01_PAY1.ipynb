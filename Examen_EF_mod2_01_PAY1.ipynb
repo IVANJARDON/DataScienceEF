{
 "cells": [
  {
   "cell_type": "markdown",
   "metadata": {},
   "source": [
    "# EXAMEN 1 MOD2 REGRESIÓN LINEAL"
   ]
  },
  {
   "cell_type": "markdown",
   "metadata": {},
   "source": [
    "## Importar"
   ]
  },
  {
   "cell_type": "code",
   "execution_count": 1,
   "metadata": {
    "ExecuteTime": {
     "end_time": "2020-11-11T15:38:32.600361Z",
     "start_time": "2020-11-11T15:38:30.370003Z"
    }
   },
   "outputs": [],
   "source": [
    "# %load basic\n",
    "import pandas as pd\n",
    "import numpy as np\n",
    "import matplotlib.pyplot as plt\n",
    "pd.set_option('display.max_columns',200)"
   ]
  },
  {
   "cell_type": "code",
   "execution_count": 2,
   "metadata": {
    "ExecuteTime": {
     "end_time": "2020-11-11T15:38:32.800133Z",
     "start_time": "2020-11-11T15:38:32.602265Z"
    }
   },
   "outputs": [
    {
     "data": {
      "text/plain": [
       "{'encoding': 'ascii', 'confidence': 1.0, 'language': ''}"
      ]
     },
     "execution_count": 2,
     "metadata": {},
     "output_type": "execute_result"
    }
   ],
   "source": [
    "## Conocer encoding de csv\n",
    "liga = '/home/ef/Documents/Diplomado/EXAMEN02/'\n",
    "import chardet\n",
    "with open(liga + 'train_PAY_AMT1.csv', 'rb') as rawdata:\n",
    "    result = chardet.detect(rawdata.read(10000))\n",
    "result"
   ]
  },
  {
   "cell_type": "code",
   "execution_count": 3,
   "metadata": {
    "ExecuteTime": {
     "end_time": "2020-11-11T15:38:32.939274Z",
     "start_time": "2020-11-11T15:38:32.803062Z"
    }
   },
   "outputs": [
    {
     "data": {
      "text/html": [
       "<div>\n",
       "<style scoped>\n",
       "    .dataframe tbody tr th:only-of-type {\n",
       "        vertical-align: middle;\n",
       "    }\n",
       "\n",
       "    .dataframe tbody tr th {\n",
       "        vertical-align: top;\n",
       "    }\n",
       "\n",
       "    .dataframe thead th {\n",
       "        text-align: right;\n",
       "    }\n",
       "</style>\n",
       "<table border=\"1\" class=\"dataframe\">\n",
       "  <thead>\n",
       "    <tr style=\"text-align: right;\">\n",
       "      <th></th>\n",
       "      <th>CUSTOMER_ID</th>\n",
       "      <th>LIMIT_BAL</th>\n",
       "      <th>SEX</th>\n",
       "      <th>EDUCATION</th>\n",
       "      <th>MARRIAGE</th>\n",
       "      <th>AGE</th>\n",
       "      <th>PAY_2</th>\n",
       "      <th>PAY_3</th>\n",
       "      <th>PAY_4</th>\n",
       "      <th>PAY_5</th>\n",
       "      <th>PAY_6</th>\n",
       "      <th>BILL_AMT1</th>\n",
       "      <th>BILL_AMT2</th>\n",
       "      <th>BILL_AMT3</th>\n",
       "      <th>BILL_AMT4</th>\n",
       "      <th>BILL_AMT5</th>\n",
       "      <th>BILL_AMT6</th>\n",
       "      <th>PAY_AMT1</th>\n",
       "      <th>PAY_AMT2</th>\n",
       "      <th>PAY_AMT3</th>\n",
       "      <th>PAY_AMT4</th>\n",
       "      <th>PAY_AMT5</th>\n",
       "      <th>PAY_AMT6</th>\n",
       "    </tr>\n",
       "  </thead>\n",
       "  <tbody>\n",
       "    <tr>\n",
       "      <th>4804</th>\n",
       "      <td>8311</td>\n",
       "      <td>50000.0</td>\n",
       "      <td>2</td>\n",
       "      <td>2</td>\n",
       "      <td>1</td>\n",
       "      <td>36</td>\n",
       "      <td>0</td>\n",
       "      <td>0</td>\n",
       "      <td>0</td>\n",
       "      <td>0</td>\n",
       "      <td>0</td>\n",
       "      <td>16906.0</td>\n",
       "      <td>17645.0</td>\n",
       "      <td>18478.0</td>\n",
       "      <td>10279.0</td>\n",
       "      <td>10646.0</td>\n",
       "      <td>10776.0</td>\n",
       "      <td>1314.0</td>\n",
       "      <td>1147.0</td>\n",
       "      <td>348.0</td>\n",
       "      <td>512.0</td>\n",
       "      <td>435.0</td>\n",
       "      <td>190.0</td>\n",
       "    </tr>\n",
       "    <tr>\n",
       "      <th>5361</th>\n",
       "      <td>7014</td>\n",
       "      <td>210000.0</td>\n",
       "      <td>2</td>\n",
       "      <td>1</td>\n",
       "      <td>2</td>\n",
       "      <td>43</td>\n",
       "      <td>-1</td>\n",
       "      <td>0</td>\n",
       "      <td>0</td>\n",
       "      <td>0</td>\n",
       "      <td>0</td>\n",
       "      <td>-3309.0</td>\n",
       "      <td>177952.0</td>\n",
       "      <td>167125.0</td>\n",
       "      <td>139784.0</td>\n",
       "      <td>142662.0</td>\n",
       "      <td>145725.0</td>\n",
       "      <td>184212.0</td>\n",
       "      <td>5482.0</td>\n",
       "      <td>3493.0</td>\n",
       "      <td>3590.0</td>\n",
       "      <td>3815.0</td>\n",
       "      <td>3876.0</td>\n",
       "    </tr>\n",
       "    <tr>\n",
       "      <th>3671</th>\n",
       "      <td>16975</td>\n",
       "      <td>250000.0</td>\n",
       "      <td>2</td>\n",
       "      <td>1</td>\n",
       "      <td>2</td>\n",
       "      <td>33</td>\n",
       "      <td>-1</td>\n",
       "      <td>-2</td>\n",
       "      <td>-1</td>\n",
       "      <td>0</td>\n",
       "      <td>0</td>\n",
       "      <td>16317.0</td>\n",
       "      <td>0.0</td>\n",
       "      <td>0.0</td>\n",
       "      <td>188841.0</td>\n",
       "      <td>194321.0</td>\n",
       "      <td>198156.0</td>\n",
       "      <td>0.0</td>\n",
       "      <td>0.0</td>\n",
       "      <td>188841.0</td>\n",
       "      <td>8500.0</td>\n",
       "      <td>8000.0</td>\n",
       "      <td>7080.0</td>\n",
       "    </tr>\n",
       "    <tr>\n",
       "      <th>643</th>\n",
       "      <td>25362</td>\n",
       "      <td>150000.0</td>\n",
       "      <td>2</td>\n",
       "      <td>2</td>\n",
       "      <td>2</td>\n",
       "      <td>23</td>\n",
       "      <td>0</td>\n",
       "      <td>0</td>\n",
       "      <td>0</td>\n",
       "      <td>0</td>\n",
       "      <td>0</td>\n",
       "      <td>167317.0</td>\n",
       "      <td>166596.0</td>\n",
       "      <td>165990.0</td>\n",
       "      <td>161285.0</td>\n",
       "      <td>156749.0</td>\n",
       "      <td>151863.0</td>\n",
       "      <td>10000.0</td>\n",
       "      <td>10000.0</td>\n",
       "      <td>6000.0</td>\n",
       "      <td>6000.0</td>\n",
       "      <td>5500.0</td>\n",
       "      <td>5500.0</td>\n",
       "    </tr>\n",
       "  </tbody>\n",
       "</table>\n",
       "</div>"
      ],
      "text/plain": [
       "      CUSTOMER_ID  LIMIT_BAL  SEX  EDUCATION  MARRIAGE  AGE  PAY_2  PAY_3  \\\n",
       "4804         8311    50000.0    2          2         1   36      0      0   \n",
       "5361         7014   210000.0    2          1         2   43     -1      0   \n",
       "3671        16975   250000.0    2          1         2   33     -1     -2   \n",
       "643         25362   150000.0    2          2         2   23      0      0   \n",
       "\n",
       "      PAY_4  PAY_5  PAY_6  BILL_AMT1  BILL_AMT2  BILL_AMT3  BILL_AMT4  \\\n",
       "4804      0      0      0    16906.0    17645.0    18478.0    10279.0   \n",
       "5361      0      0      0    -3309.0   177952.0   167125.0   139784.0   \n",
       "3671     -1      0      0    16317.0        0.0        0.0   188841.0   \n",
       "643       0      0      0   167317.0   166596.0   165990.0   161285.0   \n",
       "\n",
       "      BILL_AMT5  BILL_AMT6  PAY_AMT1  PAY_AMT2  PAY_AMT3  PAY_AMT4  PAY_AMT5  \\\n",
       "4804    10646.0    10776.0    1314.0    1147.0     348.0     512.0     435.0   \n",
       "5361   142662.0   145725.0  184212.0    5482.0    3493.0    3590.0    3815.0   \n",
       "3671   194321.0   198156.0       0.0       0.0  188841.0    8500.0    8000.0   \n",
       "643    156749.0   151863.0   10000.0   10000.0    6000.0    6000.0    5500.0   \n",
       "\n",
       "      PAY_AMT6  \n",
       "4804     190.0  \n",
       "5361    3876.0  \n",
       "3671    7080.0  \n",
       "643     5500.0  "
      ]
     },
     "execution_count": 3,
     "metadata": {},
     "output_type": "execute_result"
    }
   ],
   "source": [
    "df = pd.read_csv(liga + 'train_PAY_AMT1.csv',\n",
    "                 encoding = 'ascii',\n",
    "                 sep = '|',\n",
    "                 low_memory = False)\n",
    "df.sample(4)"
   ]
  },
  {
   "cell_type": "code",
   "execution_count": 4,
   "metadata": {
    "ExecuteTime": {
     "end_time": "2020-11-11T15:38:32.985311Z",
     "start_time": "2020-11-11T15:38:32.943375Z"
    }
   },
   "outputs": [
    {
     "name": "stdout",
     "output_type": "stream",
     "text": [
      "<class 'pandas.core.frame.DataFrame'>\n",
      "RangeIndex: 5625 entries, 0 to 5624\n",
      "Data columns (total 22 columns):\n",
      " #   Column     Non-Null Count  Dtype  \n",
      "---  ------     --------------  -----  \n",
      " 0   LIMIT_BAL  5625 non-null   float64\n",
      " 1   SEX        5625 non-null   int64  \n",
      " 2   EDUCATION  5625 non-null   int64  \n",
      " 3   MARRIAGE   5625 non-null   int64  \n",
      " 4   AGE        5625 non-null   int64  \n",
      " 5   PAY_2      5625 non-null   int64  \n",
      " 6   PAY_3      5625 non-null   int64  \n",
      " 7   PAY_4      5625 non-null   int64  \n",
      " 8   PAY_5      5625 non-null   int64  \n",
      " 9   PAY_6      5625 non-null   int64  \n",
      " 10  BILL_AMT1  5625 non-null   float64\n",
      " 11  BILL_AMT2  5625 non-null   float64\n",
      " 12  BILL_AMT3  5625 non-null   float64\n",
      " 13  BILL_AMT4  5625 non-null   float64\n",
      " 14  BILL_AMT5  5625 non-null   float64\n",
      " 15  BILL_AMT6  5625 non-null   float64\n",
      " 16  PAY_AMT1   5625 non-null   float64\n",
      " 17  PAY_AMT2   5625 non-null   float64\n",
      " 18  PAY_AMT3   5625 non-null   float64\n",
      " 19  PAY_AMT4   5625 non-null   float64\n",
      " 20  PAY_AMT5   5625 non-null   float64\n",
      " 21  PAY_AMT6   5625 non-null   float64\n",
      "dtypes: float64(13), int64(9)\n",
      "memory usage: 966.9 KB\n"
     ]
    }
   ],
   "source": [
    "dim_antes = len(df)\n",
    "df = df.iloc[:,1:].copy()\n",
    "df.info()"
   ]
  },
  {
   "cell_type": "code",
   "execution_count": 5,
   "metadata": {
    "ExecuteTime": {
     "end_time": "2020-11-11T15:38:33.060204Z",
     "start_time": "2020-11-11T15:38:32.987419Z"
    }
   },
   "outputs": [
    {
     "name": "stdout",
     "output_type": "stream",
     "text": [
      "<class 'pandas.core.frame.DataFrame'>\n",
      "RangeIndex: 5625 entries, 0 to 5624\n",
      "Data columns (total 8 columns):\n",
      " #   Column     Non-Null Count  Dtype \n",
      "---  ------     --------------  ----- \n",
      " 0   SEX        5625 non-null   object\n",
      " 1   EDUCATION  5625 non-null   object\n",
      " 2   MARRIAGE   5625 non-null   object\n",
      " 3   PAY_2      5625 non-null   object\n",
      " 4   PAY_3      5625 non-null   object\n",
      " 5   PAY_4      5625 non-null   object\n",
      " 6   PAY_5      5625 non-null   object\n",
      " 7   PAY_6      5625 non-null   object\n",
      "dtypes: object(8)\n",
      "memory usage: 351.7+ KB\n"
     ]
    }
   ],
   "source": [
    "cat = list(df.columns[1:10])\n",
    "cat = [x for x in cat if x not in ['AGE']]\n",
    "for col in cat:\n",
    "    df[col] = df[col].astype(str)\n",
    "df[cat].info()"
   ]
  },
  {
   "cell_type": "code",
   "execution_count": 6,
   "metadata": {
    "ExecuteTime": {
     "end_time": "2020-11-11T15:38:33.087626Z",
     "start_time": "2020-11-11T15:38:33.063347Z"
    }
   },
   "outputs": [
    {
     "name": "stdout",
     "output_type": "stream",
     "text": [
      "<class 'pandas.core.frame.DataFrame'>\n",
      "RangeIndex: 5625 entries, 0 to 5624\n",
      "Data columns (total 14 columns):\n",
      " #   Column     Non-Null Count  Dtype  \n",
      "---  ------     --------------  -----  \n",
      " 0   LIMIT_BAL  5625 non-null   float64\n",
      " 1   AGE        5625 non-null   int64  \n",
      " 2   BILL_AMT1  5625 non-null   float64\n",
      " 3   BILL_AMT2  5625 non-null   float64\n",
      " 4   BILL_AMT3  5625 non-null   float64\n",
      " 5   BILL_AMT4  5625 non-null   float64\n",
      " 6   BILL_AMT5  5625 non-null   float64\n",
      " 7   BILL_AMT6  5625 non-null   float64\n",
      " 8   PAY_AMT1   5625 non-null   float64\n",
      " 9   PAY_AMT2   5625 non-null   float64\n",
      " 10  PAY_AMT3   5625 non-null   float64\n",
      " 11  PAY_AMT4   5625 non-null   float64\n",
      " 12  PAY_AMT5   5625 non-null   float64\n",
      " 13  PAY_AMT6   5625 non-null   float64\n",
      "dtypes: float64(13), int64(1)\n",
      "memory usage: 615.4 KB\n"
     ]
    }
   ],
   "source": [
    "num = [col for col in df.columns if col not in cat]\n",
    "df[num].info()"
   ]
  },
  {
   "cell_type": "code",
   "execution_count": 7,
   "metadata": {
    "ExecuteTime": {
     "end_time": "2020-11-11T15:38:33.097527Z",
     "start_time": "2020-11-11T15:38:33.091335Z"
    }
   },
   "outputs": [],
   "source": [
    "pay = [col for col in df.columns if col.startswith('PAY')]\n",
    "pago = [x for x in pay if x.startswith('PAY_AMT')]\n",
    "estatus = [x for x in pay if x not in pago]\n",
    "monto = [col for col in df.columns if col.startswith('BILL')]"
   ]
  },
  {
   "cell_type": "markdown",
   "metadata": {},
   "source": [
    "## Análisis exploratorio"
   ]
  },
  {
   "cell_type": "markdown",
   "metadata": {},
   "source": [
    "### Categóricas"
   ]
  },
  {
   "cell_type": "code",
   "execution_count": 8,
   "metadata": {
    "ExecuteTime": {
     "end_time": "2020-11-11T15:38:33.176048Z",
     "start_time": "2020-11-11T15:38:33.103964Z"
    }
   },
   "outputs": [
    {
     "data": {
      "text/plain": [
       "SEX          0.000000\n",
       "EDUCATION    0.000533\n",
       "MARRIAGE     0.001956\n",
       "PAY_2        0.000000\n",
       "PAY_3        0.000000\n",
       "PAY_4        0.000000\n",
       "PAY_5        0.000000\n",
       "PAY_6        0.000000\n",
       "dtype: float64"
      ]
     },
     "execution_count": 8,
     "metadata": {},
     "output_type": "execute_result"
    }
   ],
   "source": [
    "## Reemplazar por NaN\n",
    "dict_replace = {'0':np.nan,\n",
    "                '6':'5'}\n",
    "df['EDUCATION'] = df['EDUCATION'].replace(dict_replace).copy()\n",
    "\n",
    "df['MARRIAGE'] = df['MARRIAGE'].replace(dict_replace).copy()\n",
    "\n",
    "df[cat].isnull().sum() / len(df)"
   ]
  },
  {
   "cell_type": "code",
   "execution_count": 9,
   "metadata": {
    "ExecuteTime": {
     "end_time": "2020-11-11T15:38:33.205214Z",
     "start_time": "2020-11-11T15:38:33.187660Z"
    }
   },
   "outputs": [
    {
     "data": {
      "text/plain": [
       "0.9975111111111111"
      ]
     },
     "execution_count": 9,
     "metadata": {},
     "output_type": "execute_result"
    }
   ],
   "source": [
    "## Se omiten ausentes\n",
    "df.dropna(inplace = True)\n",
    "df.reset_index(drop = True, inplace = True)\n",
    "len(df) / dim_antes"
   ]
  },
  {
   "cell_type": "markdown",
   "metadata": {},
   "source": [
    "### Numéricas"
   ]
  },
  {
   "cell_type": "code",
   "execution_count": 10,
   "metadata": {
    "ExecuteTime": {
     "end_time": "2020-11-11T15:38:33.228816Z",
     "start_time": "2020-11-11T15:38:33.209122Z"
    }
   },
   "outputs": [],
   "source": [
    "## Función para omitir outliers mediante IQR\n",
    "def outlier(data, x, how = 'both', p = 0.5):\n",
    "    for i in x:\n",
    "        var = data[i]\n",
    "        q1 = var.quantile(p/2) #acota el % indicado, tanto máx como mín\n",
    "        q3 = var.quantile(1 - p/2)\n",
    "        iqr = q3 - q1\n",
    "\n",
    "        if how == 'max':\n",
    "            data = data[(var.isnull()) | (var <= q3 + 1.5*iqr)].copy() #no debemos eliminar nulos\n",
    "        elif how == 'min':\n",
    "            data = data[(var.isnull()) | (var >= q1 - 1.5*iqr)].copy()\n",
    "        elif how == 'both':\n",
    "            data = data[(var.isnull()) | ((var >= q1 - 1.5*iqr) & (var <= q3 + 1.5*iqr))].copy()\n",
    "        else:\n",
    "            print('¿Cómo quieres acotar outliers? how = min/max/both')\n",
    "\n",
    "        data.reset_index(drop = True, inplace = True)\n",
    "        global df\n",
    "        df = data.copy()"
   ]
  },
  {
   "cell_type": "code",
   "execution_count": 11,
   "metadata": {
    "ExecuteTime": {
     "end_time": "2020-11-11T15:38:34.979662Z",
     "start_time": "2020-11-11T15:38:33.235608Z"
    }
   },
   "outputs": [
    {
     "data": {
      "text/plain": [
       "array([[<AxesSubplot:title={'center':'LIMIT_BAL'}>,\n",
       "        <AxesSubplot:title={'center':'AGE'}>,\n",
       "        <AxesSubplot:title={'center':'BILL_AMT1'}>,\n",
       "        <AxesSubplot:title={'center':'BILL_AMT2'}>],\n",
       "       [<AxesSubplot:title={'center':'BILL_AMT3'}>,\n",
       "        <AxesSubplot:title={'center':'BILL_AMT4'}>,\n",
       "        <AxesSubplot:title={'center':'BILL_AMT5'}>,\n",
       "        <AxesSubplot:title={'center':'BILL_AMT6'}>],\n",
       "       [<AxesSubplot:title={'center':'PAY_AMT1'}>,\n",
       "        <AxesSubplot:title={'center':'PAY_AMT2'}>,\n",
       "        <AxesSubplot:title={'center':'PAY_AMT3'}>,\n",
       "        <AxesSubplot:title={'center':'PAY_AMT4'}>],\n",
       "       [<AxesSubplot:title={'center':'PAY_AMT5'}>,\n",
       "        <AxesSubplot:title={'center':'PAY_AMT6'}>, <AxesSubplot:>,\n",
       "        <AxesSubplot:>]], dtype=object)"
      ]
     },
     "execution_count": 11,
     "metadata": {},
     "output_type": "execute_result"
    },
    {
     "data": {
      "image/png": "[encoded data removed]",
      "text/plain": [
       "<Figure size 432x288 with 16 Axes>"
      ]
     },
     "metadata": {
      "needs_background": "light"
     },
     "output_type": "display_data"
    }
   ],
   "source": [
    "#outlier(df,num, p = 0.1)\n",
    "df[num].hist()"
   ]
  },
  {
   "cell_type": "code",
   "execution_count": 12,
   "metadata": {
    "ExecuteTime": {
     "end_time": "2020-11-11T15:38:35.001325Z",
     "start_time": "2020-11-11T15:38:34.986624Z"
    }
   },
   "outputs": [
    {
     "data": {
      "text/plain": [
       "0.9975111111111111"
      ]
     },
     "execution_count": 12,
     "metadata": {},
     "output_type": "execute_result"
    }
   ],
   "source": [
    "len(df) / dim_antes"
   ]
  },
  {
   "cell_type": "markdown",
   "metadata": {},
   "source": [
    "## Ingeniería de variables"
   ]
  },
  {
   "cell_type": "markdown",
   "metadata": {},
   "source": [
    "### Numéricas"
   ]
  },
  {
   "cell_type": "code",
   "execution_count": 13,
   "metadata": {
    "ExecuteTime": {
     "end_time": "2020-11-11T15:38:35.054122Z",
     "start_time": "2020-11-11T15:38:35.005346Z"
    }
   },
   "outputs": [
    {
     "data": {
      "text/plain": [
       "count      5611.000000\n",
       "mean      44991.985861\n",
       "std       64015.270061\n",
       "min       -7081.166667\n",
       "25%        4789.333333\n",
       "50%       20037.666667\n",
       "75%       56855.666667\n",
       "max      566486.166667\n",
       "Name: Prom_monto, dtype: float64"
      ]
     },
     "execution_count": 13,
     "metadata": {},
     "output_type": "execute_result"
    }
   ],
   "source": [
    "## Promedio de todos los montos de pago\n",
    "df['Prom_monto'] = df[monto].mean(axis = 1)\n",
    "num += ['Prom_monto']\n",
    "df['Prom_monto'].describe()"
   ]
  },
  {
   "cell_type": "code",
   "execution_count": 14,
   "metadata": {
    "ExecuteTime": {
     "end_time": "2020-11-11T15:38:35.068836Z",
     "start_time": "2020-11-11T15:38:35.055828Z"
    }
   },
   "outputs": [
    {
     "data": {
      "text/plain": [
       "['PAY_AMT2', 'PAY_AMT3', 'PAY_AMT4', 'PAY_AMT5', 'PAY_AMT6']"
      ]
     },
     "execution_count": 14,
     "metadata": {},
     "output_type": "execute_result"
    }
   ],
   "source": [
    "pago = [x for x in pago if x not in ['PAY_AMT1']]\n",
    "pago"
   ]
  },
  {
   "cell_type": "code",
   "execution_count": 15,
   "metadata": {
    "ExecuteTime": {
     "end_time": "2020-11-11T15:38:35.086814Z",
     "start_time": "2020-11-11T15:38:35.070607Z"
    }
   },
   "outputs": [
    {
     "data": {
      "text/plain": [
       "count      5611.000000\n",
       "mean       5306.313598\n",
       "std       13234.559117\n",
       "min           0.000000\n",
       "25%        1000.000000\n",
       "50%        2267.000000\n",
       "75%        5271.300000\n",
       "max      578102.800000\n",
       "Name: Prom_pago, dtype: float64"
      ]
     },
     "execution_count": 15,
     "metadata": {},
     "output_type": "execute_result"
    }
   ],
   "source": [
    "## Promedio de todos los pagos de pago\n",
    "df['Prom_pago'] = df[pago].mean(axis = 1)\n",
    "num += ['Prom_pago']\n",
    "df['Prom_pago'].describe()"
   ]
  },
  {
   "cell_type": "code",
   "execution_count": 16,
   "metadata": {
    "ExecuteTime": {
     "end_time": "2020-11-11T15:38:35.142557Z",
     "start_time": "2020-11-11T15:38:35.090602Z"
    }
   },
   "outputs": [
    {
     "data": {
      "text/html": [
       "<div>\n",
       "<style scoped>\n",
       "    .dataframe tbody tr th:only-of-type {\n",
       "        vertical-align: middle;\n",
       "    }\n",
       "\n",
       "    .dataframe tbody tr th {\n",
       "        vertical-align: top;\n",
       "    }\n",
       "\n",
       "    .dataframe thead th {\n",
       "        text-align: right;\n",
       "    }\n",
       "</style>\n",
       "<table border=\"1\" class=\"dataframe\">\n",
       "  <thead>\n",
       "    <tr style=\"text-align: right;\">\n",
       "      <th></th>\n",
       "      <th>dif_2</th>\n",
       "      <th>dif_3</th>\n",
       "      <th>dif_4</th>\n",
       "      <th>dif_5</th>\n",
       "    </tr>\n",
       "  </thead>\n",
       "  <tbody>\n",
       "    <tr>\n",
       "      <th>count</th>\n",
       "      <td>5.611000e+03</td>\n",
       "      <td>5611.000000</td>\n",
       "      <td>5611.000000</td>\n",
       "      <td>5611.000000</td>\n",
       "    </tr>\n",
       "    <tr>\n",
       "      <th>mean</th>\n",
       "      <td>4.087079e+04</td>\n",
       "      <td>38022.374978</td>\n",
       "      <td>35610.242203</td>\n",
       "      <td>34368.538585</td>\n",
       "    </tr>\n",
       "    <tr>\n",
       "      <th>std</th>\n",
       "      <td>6.791519e+04</td>\n",
       "      <td>62887.985513</td>\n",
       "      <td>59018.000152</td>\n",
       "      <td>57028.736976</td>\n",
       "    </tr>\n",
       "    <tr>\n",
       "      <th>min</th>\n",
       "      <td>-1.181069e+06</td>\n",
       "      <td>-683112.000000</td>\n",
       "      <td>-355569.000000</td>\n",
       "      <td>-230000.000000</td>\n",
       "    </tr>\n",
       "    <tr>\n",
       "      <th>25%</th>\n",
       "      <td>0.000000e+00</td>\n",
       "      <td>0.000000</td>\n",
       "      <td>0.000000</td>\n",
       "      <td>0.000000</td>\n",
       "    </tr>\n",
       "    <tr>\n",
       "      <th>50%</th>\n",
       "      <td>1.553600e+04</td>\n",
       "      <td>14373.000000</td>\n",
       "      <td>12581.000000</td>\n",
       "      <td>11204.000000</td>\n",
       "    </tr>\n",
       "    <tr>\n",
       "      <th>75%</th>\n",
       "      <td>5.197000e+04</td>\n",
       "      <td>48048.000000</td>\n",
       "      <td>45635.000000</td>\n",
       "      <td>44547.500000</td>\n",
       "    </tr>\n",
       "    <tr>\n",
       "      <th>max</th>\n",
       "      <td>6.591270e+05</td>\n",
       "      <td>676864.000000</td>\n",
       "      <td>516672.000000</td>\n",
       "      <td>491849.000000</td>\n",
       "    </tr>\n",
       "  </tbody>\n",
       "</table>\n",
       "</div>"
      ],
      "text/plain": [
       "              dif_2          dif_3          dif_4          dif_5\n",
       "count  5.611000e+03    5611.000000    5611.000000    5611.000000\n",
       "mean   4.087079e+04   38022.374978   35610.242203   34368.538585\n",
       "std    6.791519e+04   62887.985513   59018.000152   57028.736976\n",
       "min   -1.181069e+06 -683112.000000 -355569.000000 -230000.000000\n",
       "25%    0.000000e+00       0.000000       0.000000       0.000000\n",
       "50%    1.553600e+04   14373.000000   12581.000000   11204.000000\n",
       "75%    5.197000e+04   48048.000000   45635.000000   44547.500000\n",
       "max    6.591270e+05  676864.000000  516672.000000  491849.000000"
      ]
     },
     "execution_count": 16,
     "metadata": {},
     "output_type": "execute_result"
    }
   ],
   "source": [
    "## Diferencia entre monto y pago \n",
    "## PAGO N ES DEL MONTO N+1 (anterior porque 1=sep, 2=ago, ..., 6=abril)\n",
    "dif = []\n",
    "for i in range(2,6):\n",
    "    df[f'dif_{i}'] =  df[f'BILL_AMT{i+1}'] - df[f'PAY_AMT{i}']\n",
    "    dif += [f'dif_{i}']\n",
    "\n",
    "num += dif\n",
    "df[dif].describe()"
   ]
  },
  {
   "cell_type": "code",
   "execution_count": 17,
   "metadata": {
    "ExecuteTime": {
     "end_time": "2020-11-11T15:38:35.330022Z",
     "start_time": "2020-11-11T15:38:35.144822Z"
    }
   },
   "outputs": [
    {
     "data": {
      "text/plain": [
       "<AxesSubplot:>"
      ]
     },
     "execution_count": 17,
     "metadata": {},
     "output_type": "execute_result"
    },
    {
     "data": {
      "image/png": "[encoded data removed]",
      "text/plain": [
       "<Figure size 432x288 with 1 Axes>"
      ]
     },
     "metadata": {
      "needs_background": "light"
     },
     "output_type": "display_data"
    }
   ],
   "source": [
    "df['Limit_edad'] = df['LIMIT_BAL'] / df['AGE']\n",
    "df['Limit_edad'].hist()"
   ]
  },
  {
   "cell_type": "code",
   "execution_count": 18,
   "metadata": {
    "ExecuteTime": {
     "end_time": "2020-11-11T15:38:35.429101Z",
     "start_time": "2020-11-11T15:38:35.332426Z"
    }
   },
   "outputs": [
    {
     "data": {
      "text/html": [
       "<div>\n",
       "<style scoped>\n",
       "    .dataframe tbody tr th:only-of-type {\n",
       "        vertical-align: middle;\n",
       "    }\n",
       "\n",
       "    .dataframe tbody tr th {\n",
       "        vertical-align: top;\n",
       "    }\n",
       "\n",
       "    .dataframe thead th {\n",
       "        text-align: right;\n",
       "    }\n",
       "</style>\n",
       "<table border=\"1\" class=\"dataframe\">\n",
       "  <thead>\n",
       "    <tr style=\"text-align: right;\">\n",
       "      <th></th>\n",
       "      <th>Prom_monto/lim</th>\n",
       "      <th>Prom_pago/lim</th>\n",
       "      <th>dif_2/lim</th>\n",
       "      <th>dif_3/lim</th>\n",
       "      <th>dif_4/lim</th>\n",
       "      <th>dif_5/lim</th>\n",
       "    </tr>\n",
       "  </thead>\n",
       "  <tbody>\n",
       "    <tr>\n",
       "      <th>count</th>\n",
       "      <td>5611.000000</td>\n",
       "      <td>5611.000000</td>\n",
       "      <td>5611.000000</td>\n",
       "      <td>5611.000000</td>\n",
       "      <td>5611.000000</td>\n",
       "      <td>5611.000000</td>\n",
       "    </tr>\n",
       "    <tr>\n",
       "      <th>mean</th>\n",
       "      <td>12.963465</td>\n",
       "      <td>1.300839</td>\n",
       "      <td>12.046981</td>\n",
       "      <td>11.202618</td>\n",
       "      <td>10.296738</td>\n",
       "      <td>9.958629</td>\n",
       "    </tr>\n",
       "    <tr>\n",
       "      <th>std</th>\n",
       "      <td>13.420085</td>\n",
       "      <td>1.998022</td>\n",
       "      <td>14.335707</td>\n",
       "      <td>13.501800</td>\n",
       "      <td>12.602086</td>\n",
       "      <td>12.496958</td>\n",
       "    </tr>\n",
       "    <tr>\n",
       "      <th>min</th>\n",
       "      <td>-6.743250</td>\n",
       "      <td>0.000000</td>\n",
       "      <td>-145.896759</td>\n",
       "      <td>-84.384424</td>\n",
       "      <td>-43.923229</td>\n",
       "      <td>-26.122500</td>\n",
       "    </tr>\n",
       "    <tr>\n",
       "      <th>25%</th>\n",
       "      <td>1.078584</td>\n",
       "      <td>0.338327</td>\n",
       "      <td>0.000000</td>\n",
       "      <td>0.000000</td>\n",
       "      <td>0.000000</td>\n",
       "      <td>0.000000</td>\n",
       "    </tr>\n",
       "    <tr>\n",
       "      <th>50%</th>\n",
       "      <td>9.058400</td>\n",
       "      <td>0.815232</td>\n",
       "      <td>6.805800</td>\n",
       "      <td>5.916167</td>\n",
       "      <td>5.167435</td>\n",
       "      <td>4.438800</td>\n",
       "    </tr>\n",
       "    <tr>\n",
       "      <th>75%</th>\n",
       "      <td>21.967733</td>\n",
       "      <td>1.470960</td>\n",
       "      <td>21.601607</td>\n",
       "      <td>20.248854</td>\n",
       "      <td>18.477998</td>\n",
       "      <td>17.984190</td>\n",
       "    </tr>\n",
       "    <tr>\n",
       "      <th>max</th>\n",
       "      <td>171.657867</td>\n",
       "      <td>71.412699</td>\n",
       "      <td>166.684800</td>\n",
       "      <td>159.707200</td>\n",
       "      <td>152.520000</td>\n",
       "      <td>119.697600</td>\n",
       "    </tr>\n",
       "  </tbody>\n",
       "</table>\n",
       "</div>"
      ],
      "text/plain": [
       "       Prom_monto/lim  Prom_pago/lim    dif_2/lim    dif_3/lim    dif_4/lim  \\\n",
       "count     5611.000000    5611.000000  5611.000000  5611.000000  5611.000000   \n",
       "mean        12.963465       1.300839    12.046981    11.202618    10.296738   \n",
       "std         13.420085       1.998022    14.335707    13.501800    12.602086   \n",
       "min         -6.743250       0.000000  -145.896759   -84.384424   -43.923229   \n",
       "25%          1.078584       0.338327     0.000000     0.000000     0.000000   \n",
       "50%          9.058400       0.815232     6.805800     5.916167     5.167435   \n",
       "75%         21.967733       1.470960    21.601607    20.248854    18.477998   \n",
       "max        171.657867      71.412699   166.684800   159.707200   152.520000   \n",
       "\n",
       "         dif_5/lim  \n",
       "count  5611.000000  \n",
       "mean      9.958629  \n",
       "std      12.496958  \n",
       "min     -26.122500  \n",
       "25%       0.000000  \n",
       "50%       4.438800  \n",
       "75%      17.984190  \n",
       "max     119.697600  "
      ]
     },
     "execution_count": 18,
     "metadata": {},
     "output_type": "execute_result"
    }
   ],
   "source": [
    "## Variables \"unitarias\", entre el límite de crédito por edad\n",
    "lim = []\n",
    "for x in num[-6:]:\n",
    "    df[f'{x}/lim'] = df[x] / df['Limit_edad']\n",
    "    lim += [f'{x}/lim']\n",
    "    \n",
    "num += lim + ['Limit_edad']\n",
    "df[lim].describe()"
   ]
  },
  {
   "cell_type": "code",
   "execution_count": 19,
   "metadata": {
    "ExecuteTime": {
     "end_time": "2020-11-11T15:38:35.441794Z",
     "start_time": "2020-11-11T15:38:35.431480Z"
    }
   },
   "outputs": [
    {
     "data": {
      "text/plain": [
       "(5611, 35)"
      ]
     },
     "execution_count": 19,
     "metadata": {},
     "output_type": "execute_result"
    }
   ],
   "source": [
    "## Dimensión hasta ahora\n",
    "df.shape"
   ]
  },
  {
   "cell_type": "code",
   "execution_count": 20,
   "metadata": {
    "ExecuteTime": {
     "end_time": "2020-11-11T15:38:35.451669Z",
     "start_time": "2020-11-11T15:38:35.444236Z"
    }
   },
   "outputs": [
    {
     "data": {
      "text/plain": [
       "['LIMIT_BAL',\n",
       " 'AGE',\n",
       " 'BILL_AMT1',\n",
       " 'BILL_AMT2',\n",
       " 'BILL_AMT3',\n",
       " 'BILL_AMT4',\n",
       " 'BILL_AMT5',\n",
       " 'BILL_AMT6',\n",
       " 'PAY_AMT1',\n",
       " 'PAY_AMT2',\n",
       " 'PAY_AMT3',\n",
       " 'PAY_AMT4',\n",
       " 'PAY_AMT5',\n",
       " 'PAY_AMT6',\n",
       " 'Prom_monto',\n",
       " 'Prom_pago',\n",
       " 'dif_2',\n",
       " 'dif_3',\n",
       " 'dif_4',\n",
       " 'dif_5',\n",
       " 'Prom_monto/lim',\n",
       " 'Prom_pago/lim',\n",
       " 'dif_2/lim',\n",
       " 'dif_3/lim',\n",
       " 'dif_4/lim',\n",
       " 'dif_5/lim',\n",
       " 'Limit_edad']"
      ]
     },
     "execution_count": 20,
     "metadata": {},
     "output_type": "execute_result"
    }
   ],
   "source": [
    "num"
   ]
  },
  {
   "cell_type": "markdown",
   "metadata": {},
   "source": [
    "### Categóricas"
   ]
  },
  {
   "cell_type": "code",
   "execution_count": 21,
   "metadata": {
    "ExecuteTime": {
     "end_time": "2020-11-11T15:38:35.829608Z",
     "start_time": "2020-11-11T15:38:35.456778Z"
    }
   },
   "outputs": [
    {
     "data": {
      "text/html": [
       "<div>\n",
       "<style scoped>\n",
       "    .dataframe tbody tr th:only-of-type {\n",
       "        vertical-align: middle;\n",
       "    }\n",
       "\n",
       "    .dataframe tbody tr th {\n",
       "        vertical-align: top;\n",
       "    }\n",
       "\n",
       "    .dataframe thead th {\n",
       "        text-align: right;\n",
       "    }\n",
       "</style>\n",
       "<table border=\"1\" class=\"dataframe\">\n",
       "  <thead>\n",
       "    <tr style=\"text-align: right;\">\n",
       "      <th></th>\n",
       "      <th>index</th>\n",
       "      <th>PAY_2</th>\n",
       "    </tr>\n",
       "  </thead>\n",
       "  <tbody>\n",
       "    <tr>\n",
       "      <th>1</th>\n",
       "      <td>-1</td>\n",
       "      <td>0.201212</td>\n",
       "    </tr>\n",
       "    <tr>\n",
       "      <th>3</th>\n",
       "      <td>-2</td>\n",
       "      <td>0.129032</td>\n",
       "    </tr>\n",
       "    <tr>\n",
       "      <th>0</th>\n",
       "      <td>0</td>\n",
       "      <td>0.525575</td>\n",
       "    </tr>\n",
       "    <tr>\n",
       "      <th>2</th>\n",
       "      <td>&gt;=1</td>\n",
       "      <td>0.144181</td>\n",
       "    </tr>\n",
       "  </tbody>\n",
       "</table>\n",
       "</div>"
      ],
      "text/plain": [
       "  index     PAY_2\n",
       "1    -1  0.201212\n",
       "3    -2  0.129032\n",
       "0     0  0.525575\n",
       "2   >=1  0.144181"
      ]
     },
     "metadata": {},
     "output_type": "display_data"
    },
    {
     "data": {
      "text/html": [
       "<div>\n",
       "<style scoped>\n",
       "    .dataframe tbody tr th:only-of-type {\n",
       "        vertical-align: middle;\n",
       "    }\n",
       "\n",
       "    .dataframe tbody tr th {\n",
       "        vertical-align: top;\n",
       "    }\n",
       "\n",
       "    .dataframe thead th {\n",
       "        text-align: right;\n",
       "    }\n",
       "</style>\n",
       "<table border=\"1\" class=\"dataframe\">\n",
       "  <thead>\n",
       "    <tr style=\"text-align: right;\">\n",
       "      <th></th>\n",
       "      <th>index</th>\n",
       "      <th>PAY_3</th>\n",
       "    </tr>\n",
       "  </thead>\n",
       "  <tbody>\n",
       "    <tr>\n",
       "      <th>1</th>\n",
       "      <td>-1</td>\n",
       "      <td>0.199608</td>\n",
       "    </tr>\n",
       "    <tr>\n",
       "      <th>2</th>\n",
       "      <td>-2</td>\n",
       "      <td>0.138478</td>\n",
       "    </tr>\n",
       "    <tr>\n",
       "      <th>0</th>\n",
       "      <td>0</td>\n",
       "      <td>0.526466</td>\n",
       "    </tr>\n",
       "    <tr>\n",
       "      <th>3</th>\n",
       "      <td>&gt;=1</td>\n",
       "      <td>0.135448</td>\n",
       "    </tr>\n",
       "  </tbody>\n",
       "</table>\n",
       "</div>"
      ],
      "text/plain": [
       "  index     PAY_3\n",
       "1    -1  0.199608\n",
       "2    -2  0.138478\n",
       "0     0  0.526466\n",
       "3   >=1  0.135448"
      ]
     },
     "metadata": {},
     "output_type": "display_data"
    },
    {
     "data": {
      "text/html": [
       "<div>\n",
       "<style scoped>\n",
       "    .dataframe tbody tr th:only-of-type {\n",
       "        vertical-align: middle;\n",
       "    }\n",
       "\n",
       "    .dataframe tbody tr th {\n",
       "        vertical-align: top;\n",
       "    }\n",
       "\n",
       "    .dataframe thead th {\n",
       "        text-align: right;\n",
       "    }\n",
       "</style>\n",
       "<table border=\"1\" class=\"dataframe\">\n",
       "  <thead>\n",
       "    <tr style=\"text-align: right;\">\n",
       "      <th></th>\n",
       "      <th>index</th>\n",
       "      <th>PAY_4</th>\n",
       "    </tr>\n",
       "  </thead>\n",
       "  <tbody>\n",
       "    <tr>\n",
       "      <th>1</th>\n",
       "      <td>-1</td>\n",
       "      <td>0.192479</td>\n",
       "    </tr>\n",
       "    <tr>\n",
       "      <th>2</th>\n",
       "      <td>-2</td>\n",
       "      <td>0.144003</td>\n",
       "    </tr>\n",
       "    <tr>\n",
       "      <th>0</th>\n",
       "      <td>0</td>\n",
       "      <td>0.549635</td>\n",
       "    </tr>\n",
       "    <tr>\n",
       "      <th>3</th>\n",
       "      <td>&gt;=1</td>\n",
       "      <td>0.113883</td>\n",
       "    </tr>\n",
       "  </tbody>\n",
       "</table>\n",
       "</div>"
      ],
      "text/plain": [
       "  index     PAY_4\n",
       "1    -1  0.192479\n",
       "2    -2  0.144003\n",
       "0     0  0.549635\n",
       "3   >=1  0.113883"
      ]
     },
     "metadata": {},
     "output_type": "display_data"
    },
    {
     "data": {
      "text/html": [
       "<div>\n",
       "<style scoped>\n",
       "    .dataframe tbody tr th:only-of-type {\n",
       "        vertical-align: middle;\n",
       "    }\n",
       "\n",
       "    .dataframe tbody tr th {\n",
       "        vertical-align: top;\n",
       "    }\n",
       "\n",
       "    .dataframe thead th {\n",
       "        text-align: right;\n",
       "    }\n",
       "</style>\n",
       "<table border=\"1\" class=\"dataframe\">\n",
       "  <thead>\n",
       "    <tr style=\"text-align: right;\">\n",
       "      <th></th>\n",
       "      <th>index</th>\n",
       "      <th>PAY_5</th>\n",
       "    </tr>\n",
       "  </thead>\n",
       "  <tbody>\n",
       "    <tr>\n",
       "      <th>1</th>\n",
       "      <td>-1</td>\n",
       "      <td>0.184281</td>\n",
       "    </tr>\n",
       "    <tr>\n",
       "      <th>2</th>\n",
       "      <td>-2</td>\n",
       "      <td>0.151666</td>\n",
       "    </tr>\n",
       "    <tr>\n",
       "      <th>0</th>\n",
       "      <td>0</td>\n",
       "      <td>0.570843</td>\n",
       "    </tr>\n",
       "    <tr>\n",
       "      <th>3</th>\n",
       "      <td>&gt;=1</td>\n",
       "      <td>0.093210</td>\n",
       "    </tr>\n",
       "  </tbody>\n",
       "</table>\n",
       "</div>"
      ],
      "text/plain": [
       "  index     PAY_5\n",
       "1    -1  0.184281\n",
       "2    -2  0.151666\n",
       "0     0  0.570843\n",
       "3   >=1  0.093210"
      ]
     },
     "metadata": {},
     "output_type": "display_data"
    },
    {
     "data": {
      "text/html": [
       "<div>\n",
       "<style scoped>\n",
       "    .dataframe tbody tr th:only-of-type {\n",
       "        vertical-align: middle;\n",
       "    }\n",
       "\n",
       "    .dataframe tbody tr th {\n",
       "        vertical-align: top;\n",
       "    }\n",
       "\n",
       "    .dataframe thead th {\n",
       "        text-align: right;\n",
       "    }\n",
       "</style>\n",
       "<table border=\"1\" class=\"dataframe\">\n",
       "  <thead>\n",
       "    <tr style=\"text-align: right;\">\n",
       "      <th></th>\n",
       "      <th>index</th>\n",
       "      <th>PAY_6</th>\n",
       "    </tr>\n",
       "  </thead>\n",
       "  <tbody>\n",
       "    <tr>\n",
       "      <th>1</th>\n",
       "      <td>-1</td>\n",
       "      <td>0.192657</td>\n",
       "    </tr>\n",
       "    <tr>\n",
       "      <th>2</th>\n",
       "      <td>-2</td>\n",
       "      <td>0.165389</td>\n",
       "    </tr>\n",
       "    <tr>\n",
       "      <th>0</th>\n",
       "      <td>0</td>\n",
       "      <td>0.541436</td>\n",
       "    </tr>\n",
       "    <tr>\n",
       "      <th>3</th>\n",
       "      <td>&gt;=1</td>\n",
       "      <td>0.100517</td>\n",
       "    </tr>\n",
       "  </tbody>\n",
       "</table>\n",
       "</div>"
      ],
      "text/plain": [
       "  index     PAY_6\n",
       "1    -1  0.192657\n",
       "2    -2  0.165389\n",
       "0     0  0.541436\n",
       "3   >=1  0.100517"
      ]
     },
     "metadata": {},
     "output_type": "display_data"
    }
   ],
   "source": [
    "for col in estatus:\n",
    "    aux = []\n",
    "    for i in range(len(df)):\n",
    "        if int(df[col][i]) >= 1:\n",
    "            aux.append('>=1')\n",
    "        else:\n",
    "            aux.append(df[col][i])\n",
    "    df[col] = aux\n",
    "\n",
    "for col in estatus:\n",
    "    display(df[col].value_counts(1).reset_index().sort_values(by = 'index'))"
   ]
  },
  {
   "cell_type": "code",
   "execution_count": 22,
   "metadata": {
    "ExecuteTime": {
     "end_time": "2020-11-11T15:38:35.872974Z",
     "start_time": "2020-11-11T15:38:35.842191Z"
    }
   },
   "outputs": [
    {
     "name": "stdout",
     "output_type": "stream",
     "text": [
      "<class 'pandas.core.frame.DataFrame'>\n",
      "RangeIndex: 5611 entries, 0 to 5610\n",
      "Data columns (total 8 columns):\n",
      " #   Column     Non-Null Count  Dtype \n",
      "---  ------     --------------  ----- \n",
      " 0   SEX        5611 non-null   object\n",
      " 1   EDUCATION  5611 non-null   object\n",
      " 2   MARRIAGE   5611 non-null   object\n",
      " 3   PAY_2      5611 non-null   object\n",
      " 4   PAY_3      5611 non-null   object\n",
      " 5   PAY_4      5611 non-null   object\n",
      " 6   PAY_5      5611 non-null   object\n",
      " 7   PAY_6      5611 non-null   object\n",
      "dtypes: object(8)\n",
      "memory usage: 350.8+ KB\n"
     ]
    }
   ],
   "source": [
    "for col in cat[:3]:\n",
    "    df[col] = df[col].astype(int)\n",
    "    df[col] = df[col].astype(str)\n",
    "df[cat].info()"
   ]
  },
  {
   "cell_type": "code",
   "execution_count": 23,
   "metadata": {
    "ExecuteTime": {
     "end_time": "2020-11-11T15:38:35.883988Z",
     "start_time": "2020-11-11T15:38:35.877594Z"
    }
   },
   "outputs": [
    {
     "data": {
      "text/plain": [
       "[]"
      ]
     },
     "execution_count": 23,
     "metadata": {},
     "output_type": "execute_result"
    }
   ],
   "source": [
    "[x for x in df.columns if x not in cat + num]"
   ]
  },
  {
   "cell_type": "code",
   "execution_count": 24,
   "metadata": {
    "ExecuteTime": {
     "end_time": "2020-11-11T15:38:35.904406Z",
     "start_time": "2020-11-11T15:38:35.887194Z"
    }
   },
   "outputs": [
    {
     "data": {
      "text/plain": [
       "['PAY_AMT1']"
      ]
     },
     "execution_count": 24,
     "metadata": {},
     "output_type": "execute_result"
    }
   ],
   "source": [
    "## Se define la variable objetivo\n",
    "tgt = ['PAY_AMT1']\n",
    "num = [x for x in num if x not in tgt]\n",
    "[x for x in df.columns if x not in cat + num]"
   ]
  },
  {
   "cell_type": "code",
   "execution_count": 25,
   "metadata": {
    "ExecuteTime": {
     "end_time": "2020-11-11T15:38:35.942568Z",
     "start_time": "2020-11-11T15:38:35.906521Z"
    }
   },
   "outputs": [
    {
     "name": "stdout",
     "output_type": "stream",
     "text": [
      "<class 'pandas.core.frame.DataFrame'>\n",
      "RangeIndex: 5611 entries, 0 to 5610\n",
      "Data columns (total 8 columns):\n",
      " #   Column     Non-Null Count  Dtype \n",
      "---  ------     --------------  ----- \n",
      " 0   SEX        5611 non-null   object\n",
      " 1   EDUCATION  5611 non-null   object\n",
      " 2   MARRIAGE   5611 non-null   object\n",
      " 3   PAY_2      5611 non-null   object\n",
      " 4   PAY_3      5611 non-null   object\n",
      " 5   PAY_4      5611 non-null   object\n",
      " 6   PAY_5      5611 non-null   object\n",
      " 7   PAY_6      5611 non-null   object\n",
      "dtypes: object(8)\n",
      "memory usage: 350.8+ KB\n"
     ]
    }
   ],
   "source": [
    "for col in cat[:3]:\n",
    "    df[col] = df[col].astype(int)\n",
    "    df[col] = df[col].astype(str)\n",
    "df[cat].info()"
   ]
  },
  {
   "cell_type": "markdown",
   "metadata": {},
   "source": [
    "## Modelaje"
   ]
  },
  {
   "cell_type": "code",
   "execution_count": 26,
   "metadata": {
    "ExecuteTime": {
     "end_time": "2020-11-11T15:38:36.133811Z",
     "start_time": "2020-11-11T15:38:35.955942Z"
    }
   },
   "outputs": [
    {
     "data": {
      "text/plain": [
       "array([[<AxesSubplot:title={'center':'PAY_AMT1'}>]], dtype=object)"
      ]
     },
     "execution_count": 26,
     "metadata": {},
     "output_type": "execute_result"
    },
    {
     "data": {
      "image/png": "[encoded data removed]",
      "text/plain": [
       "<Figure size 432x288 with 1 Axes>"
      ]
     },
     "metadata": {
      "needs_background": "light"
     },
     "output_type": "display_data"
    }
   ],
   "source": [
    "X = pd.get_dummies(df[cat]).join(df[num])\n",
    "y = df[tgt]\n",
    "y.hist()"
   ]
  },
  {
   "cell_type": "code",
   "execution_count": 27,
   "metadata": {
    "ExecuteTime": {
     "end_time": "2020-11-11T15:38:36.143406Z",
     "start_time": "2020-11-11T15:38:36.137731Z"
    }
   },
   "outputs": [
    {
     "data": {
      "text/plain": [
       "(5611, 56)"
      ]
     },
     "execution_count": 27,
     "metadata": {},
     "output_type": "execute_result"
    }
   ],
   "source": [
    "X.shape"
   ]
  },
  {
   "cell_type": "markdown",
   "metadata": {},
   "source": [
    "### Reducción de dimensiones"
   ]
  },
  {
   "cell_type": "code",
   "execution_count": 28,
   "metadata": {
    "ExecuteTime": {
     "end_time": "2020-11-11T15:38:39.085662Z",
     "start_time": "2020-11-11T15:38:36.146084Z"
    }
   },
   "outputs": [
    {
     "name": "stderr",
     "output_type": "stream",
     "text": [
      "/home/ef/Desktop/diplomadus/diplomadus/lib/python3.8/site-packages/sklearn/utils/validation.py:72: DataConversionWarning: A column-vector y was passed when a 1d array was expected. Please change the shape of y to (n_samples, ), for example using ravel().\n",
      "  return f(**kwargs)\n"
     ]
    },
    {
     "data": {
      "text/html": [
       "<div>\n",
       "<style scoped>\n",
       "    .dataframe tbody tr th:only-of-type {\n",
       "        vertical-align: middle;\n",
       "    }\n",
       "\n",
       "    .dataframe tbody tr th {\n",
       "        vertical-align: top;\n",
       "    }\n",
       "\n",
       "    .dataframe thead th {\n",
       "        text-align: right;\n",
       "    }\n",
       "</style>\n",
       "<table border=\"1\" class=\"dataframe\">\n",
       "  <thead>\n",
       "    <tr style=\"text-align: right;\">\n",
       "      <th></th>\n",
       "      <th>MARRIAGE_3</th>\n",
       "      <th>PAY_2_-1</th>\n",
       "      <th>PAY_2_&gt;=1</th>\n",
       "      <th>LIMIT_BAL</th>\n",
       "      <th>BILL_AMT1</th>\n",
       "      <th>BILL_AMT2</th>\n",
       "      <th>BILL_AMT3</th>\n",
       "      <th>BILL_AMT4</th>\n",
       "      <th>BILL_AMT5</th>\n",
       "      <th>BILL_AMT6</th>\n",
       "      <th>PAY_AMT2</th>\n",
       "      <th>PAY_AMT3</th>\n",
       "      <th>PAY_AMT4</th>\n",
       "      <th>PAY_AMT5</th>\n",
       "      <th>PAY_AMT6</th>\n",
       "      <th>Prom_monto</th>\n",
       "      <th>Prom_pago</th>\n",
       "      <th>dif_3</th>\n",
       "      <th>dif_4</th>\n",
       "      <th>dif_5</th>\n",
       "      <th>Prom_pago/lim</th>\n",
       "      <th>Limit_edad</th>\n",
       "    </tr>\n",
       "  </thead>\n",
       "  <tbody>\n",
       "    <tr>\n",
       "      <th>count</th>\n",
       "      <td>5611.000000</td>\n",
       "      <td>5611.000000</td>\n",
       "      <td>5611.000000</td>\n",
       "      <td>5611.000000</td>\n",
       "      <td>5611.000000</td>\n",
       "      <td>5611.000000</td>\n",
       "      <td>5.611000e+03</td>\n",
       "      <td>5611.000000</td>\n",
       "      <td>5611.000000</td>\n",
       "      <td>5611.000000</td>\n",
       "      <td>5.611000e+03</td>\n",
       "      <td>5611.000000</td>\n",
       "      <td>5611.000000</td>\n",
       "      <td>5611.000000</td>\n",
       "      <td>5611.000000</td>\n",
       "      <td>5611.000000</td>\n",
       "      <td>5611.000000</td>\n",
       "      <td>5611.000000</td>\n",
       "      <td>5611.000000</td>\n",
       "      <td>5611.000000</td>\n",
       "      <td>5611.000000</td>\n",
       "      <td>5611.000000</td>\n",
       "    </tr>\n",
       "    <tr>\n",
       "      <th>mean</th>\n",
       "      <td>0.010515</td>\n",
       "      <td>0.201212</td>\n",
       "      <td>0.144181</td>\n",
       "      <td>168267.274996</td>\n",
       "      <td>50955.970950</td>\n",
       "      <td>48833.271788</td>\n",
       "      <td>4.708557e+04</td>\n",
       "      <td>43484.093566</td>\n",
       "      <td>40470.895028</td>\n",
       "      <td>39122.109071</td>\n",
       "      <td>6.214786e+03</td>\n",
       "      <td>5461.718588</td>\n",
       "      <td>4860.652825</td>\n",
       "      <td>4753.570487</td>\n",
       "      <td>5240.840492</td>\n",
       "      <td>44991.985861</td>\n",
       "      <td>5306.313598</td>\n",
       "      <td>38022.374978</td>\n",
       "      <td>35610.242203</td>\n",
       "      <td>34368.538585</td>\n",
       "      <td>1.300839</td>\n",
       "      <td>4854.952742</td>\n",
       "    </tr>\n",
       "    <tr>\n",
       "      <th>std</th>\n",
       "      <td>0.102012</td>\n",
       "      <td>0.400942</td>\n",
       "      <td>0.351305</td>\n",
       "      <td>129594.195142</td>\n",
       "      <td>74118.361793</td>\n",
       "      <td>71516.149018</td>\n",
       "      <td>7.274819e+04</td>\n",
       "      <td>65296.075779</td>\n",
       "      <td>61539.556281</td>\n",
       "      <td>59692.482884</td>\n",
       "      <td>3.297545e+04</td>\n",
       "      <td>20014.029275</td>\n",
       "      <td>16604.561728</td>\n",
       "      <td>14768.363311</td>\n",
       "      <td>17374.394953</td>\n",
       "      <td>64015.270061</td>\n",
       "      <td>13234.559117</td>\n",
       "      <td>62887.985513</td>\n",
       "      <td>59018.000152</td>\n",
       "      <td>57028.736976</td>\n",
       "      <td>1.998022</td>\n",
       "      <td>3702.627172</td>\n",
       "    </tr>\n",
       "    <tr>\n",
       "      <th>min</th>\n",
       "      <td>0.000000</td>\n",
       "      <td>0.000000</td>\n",
       "      <td>0.000000</td>\n",
       "      <td>10000.000000</td>\n",
       "      <td>-9095.000000</td>\n",
       "      <td>-30000.000000</td>\n",
       "      <td>-6.150600e+04</td>\n",
       "      <td>-34503.000000</td>\n",
       "      <td>-37594.000000</td>\n",
       "      <td>-21295.000000</td>\n",
       "      <td>0.000000e+00</td>\n",
       "      <td>0.000000</td>\n",
       "      <td>0.000000</td>\n",
       "      <td>0.000000</td>\n",
       "      <td>0.000000</td>\n",
       "      <td>-7081.166667</td>\n",
       "      <td>0.000000</td>\n",
       "      <td>-683112.000000</td>\n",
       "      <td>-355569.000000</td>\n",
       "      <td>-230000.000000</td>\n",
       "      <td>0.000000</td>\n",
       "      <td>181.818182</td>\n",
       "    </tr>\n",
       "    <tr>\n",
       "      <th>25%</th>\n",
       "      <td>0.000000</td>\n",
       "      <td>0.000000</td>\n",
       "      <td>0.000000</td>\n",
       "      <td>50000.000000</td>\n",
       "      <td>3594.000000</td>\n",
       "      <td>2894.000000</td>\n",
       "      <td>2.631500e+03</td>\n",
       "      <td>2404.000000</td>\n",
       "      <td>1792.000000</td>\n",
       "      <td>1394.500000</td>\n",
       "      <td>9.870000e+02</td>\n",
       "      <td>390.000000</td>\n",
       "      <td>316.000000</td>\n",
       "      <td>269.000000</td>\n",
       "      <td>95.500000</td>\n",
       "      <td>4789.333333</td>\n",
       "      <td>1000.000000</td>\n",
       "      <td>0.000000</td>\n",
       "      <td>0.000000</td>\n",
       "      <td>0.000000</td>\n",
       "      <td>0.338327</td>\n",
       "      <td>1862.435948</td>\n",
       "    </tr>\n",
       "    <tr>\n",
       "      <th>50%</th>\n",
       "      <td>0.000000</td>\n",
       "      <td>0.000000</td>\n",
       "      <td>0.000000</td>\n",
       "      <td>140000.000000</td>\n",
       "      <td>21763.000000</td>\n",
       "      <td>20394.000000</td>\n",
       "      <td>1.937400e+04</td>\n",
       "      <td>18753.000000</td>\n",
       "      <td>17510.000000</td>\n",
       "      <td>16739.000000</td>\n",
       "      <td>2.007000e+03</td>\n",
       "      <td>1800.000000</td>\n",
       "      <td>1500.000000</td>\n",
       "      <td>1509.000000</td>\n",
       "      <td>1500.000000</td>\n",
       "      <td>20037.666667</td>\n",
       "      <td>2267.000000</td>\n",
       "      <td>14373.000000</td>\n",
       "      <td>12581.000000</td>\n",
       "      <td>11204.000000</td>\n",
       "      <td>0.815232</td>\n",
       "      <td>4090.909091</td>\n",
       "    </tr>\n",
       "    <tr>\n",
       "      <th>75%</th>\n",
       "      <td>0.000000</td>\n",
       "      <td>0.000000</td>\n",
       "      <td>0.000000</td>\n",
       "      <td>240000.000000</td>\n",
       "      <td>66740.000000</td>\n",
       "      <td>64090.500000</td>\n",
       "      <td>5.964200e+04</td>\n",
       "      <td>54078.500000</td>\n",
       "      <td>50362.000000</td>\n",
       "      <td>49432.500000</td>\n",
       "      <td>5.000000e+03</td>\n",
       "      <td>4847.000000</td>\n",
       "      <td>4112.000000</td>\n",
       "      <td>4100.000000</td>\n",
       "      <td>4000.000000</td>\n",
       "      <td>56855.666667</td>\n",
       "      <td>5271.300000</td>\n",
       "      <td>48048.000000</td>\n",
       "      <td>45635.000000</td>\n",
       "      <td>44547.500000</td>\n",
       "      <td>1.470960</td>\n",
       "      <td>6896.551724</td>\n",
       "    </tr>\n",
       "    <tr>\n",
       "      <th>max</th>\n",
       "      <td>1.000000</td>\n",
       "      <td>1.000000</td>\n",
       "      <td>1.000000</td>\n",
       "      <td>800000.000000</td>\n",
       "      <td>653062.000000</td>\n",
       "      <td>671563.000000</td>\n",
       "      <td>1.664089e+06</td>\n",
       "      <td>706864.000000</td>\n",
       "      <td>530672.000000</td>\n",
       "      <td>511905.000000</td>\n",
       "      <td>1.684259e+06</td>\n",
       "      <td>889043.000000</td>\n",
       "      <td>621000.000000</td>\n",
       "      <td>379267.000000</td>\n",
       "      <td>422000.000000</td>\n",
       "      <td>566486.166667</td>\n",
       "      <td>578102.800000</td>\n",
       "      <td>676864.000000</td>\n",
       "      <td>516672.000000</td>\n",
       "      <td>491849.000000</td>\n",
       "      <td>71.412699</td>\n",
       "      <td>23103.448276</td>\n",
       "    </tr>\n",
       "  </tbody>\n",
       "</table>\n",
       "</div>"
      ],
      "text/plain": [
       "        MARRIAGE_3     PAY_2_-1    PAY_2_>=1      LIMIT_BAL      BILL_AMT1  \\\n",
       "count  5611.000000  5611.000000  5611.000000    5611.000000    5611.000000   \n",
       "mean      0.010515     0.201212     0.144181  168267.274996   50955.970950   \n",
       "std       0.102012     0.400942     0.351305  129594.195142   74118.361793   \n",
       "min       0.000000     0.000000     0.000000   10000.000000   -9095.000000   \n",
       "25%       0.000000     0.000000     0.000000   50000.000000    3594.000000   \n",
       "50%       0.000000     0.000000     0.000000  140000.000000   21763.000000   \n",
       "75%       0.000000     0.000000     0.000000  240000.000000   66740.000000   \n",
       "max       1.000000     1.000000     1.000000  800000.000000  653062.000000   \n",
       "\n",
       "           BILL_AMT2     BILL_AMT3      BILL_AMT4      BILL_AMT5  \\\n",
       "count    5611.000000  5.611000e+03    5611.000000    5611.000000   \n",
       "mean    48833.271788  4.708557e+04   43484.093566   40470.895028   \n",
       "std     71516.149018  7.274819e+04   65296.075779   61539.556281   \n",
       "min    -30000.000000 -6.150600e+04  -34503.000000  -37594.000000   \n",
       "25%      2894.000000  2.631500e+03    2404.000000    1792.000000   \n",
       "50%     20394.000000  1.937400e+04   18753.000000   17510.000000   \n",
       "75%     64090.500000  5.964200e+04   54078.500000   50362.000000   \n",
       "max    671563.000000  1.664089e+06  706864.000000  530672.000000   \n",
       "\n",
       "           BILL_AMT6      PAY_AMT2       PAY_AMT3       PAY_AMT4  \\\n",
       "count    5611.000000  5.611000e+03    5611.000000    5611.000000   \n",
       "mean    39122.109071  6.214786e+03    5461.718588    4860.652825   \n",
       "std     59692.482884  3.297545e+04   20014.029275   16604.561728   \n",
       "min    -21295.000000  0.000000e+00       0.000000       0.000000   \n",
       "25%      1394.500000  9.870000e+02     390.000000     316.000000   \n",
       "50%     16739.000000  2.007000e+03    1800.000000    1500.000000   \n",
       "75%     49432.500000  5.000000e+03    4847.000000    4112.000000   \n",
       "max    511905.000000  1.684259e+06  889043.000000  621000.000000   \n",
       "\n",
       "            PAY_AMT5       PAY_AMT6     Prom_monto      Prom_pago  \\\n",
       "count    5611.000000    5611.000000    5611.000000    5611.000000   \n",
       "mean     4753.570487    5240.840492   44991.985861    5306.313598   \n",
       "std     14768.363311   17374.394953   64015.270061   13234.559117   \n",
       "min         0.000000       0.000000   -7081.166667       0.000000   \n",
       "25%       269.000000      95.500000    4789.333333    1000.000000   \n",
       "50%      1509.000000    1500.000000   20037.666667    2267.000000   \n",
       "75%      4100.000000    4000.000000   56855.666667    5271.300000   \n",
       "max    379267.000000  422000.000000  566486.166667  578102.800000   \n",
       "\n",
       "               dif_3          dif_4          dif_5  Prom_pago/lim  \\\n",
       "count    5611.000000    5611.000000    5611.000000    5611.000000   \n",
       "mean    38022.374978   35610.242203   34368.538585       1.300839   \n",
       "std     62887.985513   59018.000152   57028.736976       1.998022   \n",
       "min   -683112.000000 -355569.000000 -230000.000000       0.000000   \n",
       "25%         0.000000       0.000000       0.000000       0.338327   \n",
       "50%     14373.000000   12581.000000   11204.000000       0.815232   \n",
       "75%     48048.000000   45635.000000   44547.500000       1.470960   \n",
       "max    676864.000000  516672.000000  491849.000000      71.412699   \n",
       "\n",
       "         Limit_edad  \n",
       "count   5611.000000  \n",
       "mean    4854.952742  \n",
       "std     3702.627172  \n",
       "min      181.818182  \n",
       "25%     1862.435948  \n",
       "50%     4090.909091  \n",
       "75%     6896.551724  \n",
       "max    23103.448276  "
      ]
     },
     "execution_count": 28,
     "metadata": {},
     "output_type": "execute_result"
    }
   ],
   "source": [
    "# Se eligirán las mejores variables\n",
    "from sklearn.feature_selection import SelectKBest, f_regression\n",
    "kb = SelectKBest(k = 22, score_func = f_regression)\n",
    "kb.fit(X, y)\n",
    "\n",
    "ls_best = [x for x, y in zip(X.columns, kb.get_support()) if y]\n",
    "X[ls_best].describe()"
   ]
  },
  {
   "cell_type": "code",
   "execution_count": 29,
   "metadata": {
    "ExecuteTime": {
     "end_time": "2020-11-11T15:38:40.175888Z",
     "start_time": "2020-11-11T15:38:39.088003Z"
    }
   },
   "outputs": [
    {
     "data": {
      "text/plain": [
       "<AxesSubplot:>"
      ]
     },
     "execution_count": 29,
     "metadata": {},
     "output_type": "execute_result"
    },
    {
     "data": {
      "image/png": "[encoded data removed]",
      "text/plain": [
       "<Figure size 432x288 with 2 Axes>"
      ]
     },
     "metadata": {
      "needs_background": "light"
     },
     "output_type": "display_data"
    }
   ],
   "source": [
    "import seaborn as sns\n",
    "sns.heatmap(X[ls_best].corr())"
   ]
  },
  {
   "cell_type": "code",
   "execution_count": 30,
   "metadata": {
    "ExecuteTime": {
     "end_time": "2020-11-11T15:38:40.218822Z",
     "start_time": "2020-11-11T15:38:40.179339Z"
    }
   },
   "outputs": [],
   "source": [
    "## Y modificamos la matriz X con las mejores variables\n",
    "X = X[ls_best].copy()"
   ]
  },
  {
   "cell_type": "markdown",
   "metadata": {},
   "source": [
    "### Escalamiento"
   ]
  },
  {
   "cell_type": "code",
   "execution_count": 31,
   "metadata": {
    "ExecuteTime": {
     "end_time": "2020-11-11T15:38:40.233463Z",
     "start_time": "2020-11-11T15:38:40.221304Z"
    }
   },
   "outputs": [
    {
     "data": {
      "text/plain": [
       "0.250222816399287"
      ]
     },
     "execution_count": 31,
     "metadata": {},
     "output_type": "execute_result"
    }
   ],
   "source": [
    "## Se separan los conjuntos de entrenamiento y prueba\n",
    "from sklearn.model_selection import cross_val_score, train_test_split\n",
    "X_train, X_test, y_train, y_test = train_test_split(X, y,\n",
    "                                                    test_size = 0.2,\n",
    "                                                    random_state = 777)\n",
    "len(y_test) / len(y_train)"
   ]
  },
  {
   "cell_type": "code",
   "execution_count": 32,
   "metadata": {
    "ExecuteTime": {
     "end_time": "2020-11-11T15:38:40.348952Z",
     "start_time": "2020-11-11T15:38:40.236845Z"
    }
   },
   "outputs": [
    {
     "data": {
      "text/html": [
       "<div>\n",
       "<style scoped>\n",
       "    .dataframe tbody tr th:only-of-type {\n",
       "        vertical-align: middle;\n",
       "    }\n",
       "\n",
       "    .dataframe tbody tr th {\n",
       "        vertical-align: top;\n",
       "    }\n",
       "\n",
       "    .dataframe thead th {\n",
       "        text-align: right;\n",
       "    }\n",
       "</style>\n",
       "<table border=\"1\" class=\"dataframe\">\n",
       "  <thead>\n",
       "    <tr style=\"text-align: right;\">\n",
       "      <th></th>\n",
       "      <th>MARRIAGE_3</th>\n",
       "      <th>PAY_2_-1</th>\n",
       "      <th>PAY_2_&gt;=1</th>\n",
       "      <th>LIMIT_BAL</th>\n",
       "      <th>BILL_AMT1</th>\n",
       "      <th>BILL_AMT2</th>\n",
       "      <th>BILL_AMT3</th>\n",
       "      <th>BILL_AMT4</th>\n",
       "      <th>BILL_AMT5</th>\n",
       "      <th>BILL_AMT6</th>\n",
       "      <th>PAY_AMT2</th>\n",
       "      <th>PAY_AMT3</th>\n",
       "      <th>PAY_AMT4</th>\n",
       "      <th>PAY_AMT5</th>\n",
       "      <th>PAY_AMT6</th>\n",
       "      <th>Prom_monto</th>\n",
       "      <th>Prom_pago</th>\n",
       "      <th>dif_3</th>\n",
       "      <th>dif_4</th>\n",
       "      <th>dif_5</th>\n",
       "      <th>Prom_pago/lim</th>\n",
       "      <th>Limit_edad</th>\n",
       "    </tr>\n",
       "  </thead>\n",
       "  <tbody>\n",
       "    <tr>\n",
       "      <th>count</th>\n",
       "      <td>4488.000000</td>\n",
       "      <td>4488.000000</td>\n",
       "      <td>4488.000000</td>\n",
       "      <td>4488.000000</td>\n",
       "      <td>4488.000000</td>\n",
       "      <td>4488.000000</td>\n",
       "      <td>4488.000000</td>\n",
       "      <td>4488.000000</td>\n",
       "      <td>4488.000000</td>\n",
       "      <td>4488.000000</td>\n",
       "      <td>4488.000000</td>\n",
       "      <td>4488.000000</td>\n",
       "      <td>4488.000000</td>\n",
       "      <td>4488.000000</td>\n",
       "      <td>4488.000000</td>\n",
       "      <td>4488.000000</td>\n",
       "      <td>4488.000000</td>\n",
       "      <td>4488.000000</td>\n",
       "      <td>4488.000000</td>\n",
       "      <td>4488.000000</td>\n",
       "      <td>4488.000000</td>\n",
       "      <td>4488.000000</td>\n",
       "    </tr>\n",
       "    <tr>\n",
       "      <th>mean</th>\n",
       "      <td>0.010472</td>\n",
       "      <td>0.201426</td>\n",
       "      <td>0.144162</td>\n",
       "      <td>0.201524</td>\n",
       "      <td>0.090883</td>\n",
       "      <td>0.112561</td>\n",
       "      <td>0.062989</td>\n",
       "      <td>0.105565</td>\n",
       "      <td>0.137518</td>\n",
       "      <td>0.113997</td>\n",
       "      <td>0.003689</td>\n",
       "      <td>0.006478</td>\n",
       "      <td>0.007739</td>\n",
       "      <td>0.012774</td>\n",
       "      <td>0.012367</td>\n",
       "      <td>0.091104</td>\n",
       "      <td>0.009286</td>\n",
       "      <td>0.530239</td>\n",
       "      <td>0.448633</td>\n",
       "      <td>0.366618</td>\n",
       "      <td>0.018138</td>\n",
       "      <td>0.217360</td>\n",
       "    </tr>\n",
       "    <tr>\n",
       "      <th>std</th>\n",
       "      <td>0.101809</td>\n",
       "      <td>0.401110</td>\n",
       "      <td>0.351293</td>\n",
       "      <td>0.165500</td>\n",
       "      <td>0.110855</td>\n",
       "      <td>0.100915</td>\n",
       "      <td>0.042337</td>\n",
       "      <td>0.088202</td>\n",
       "      <td>0.108228</td>\n",
       "      <td>0.112290</td>\n",
       "      <td>0.020899</td>\n",
       "      <td>0.024615</td>\n",
       "      <td>0.027883</td>\n",
       "      <td>0.040421</td>\n",
       "      <td>0.040167</td>\n",
       "      <td>0.111067</td>\n",
       "      <td>0.024540</td>\n",
       "      <td>0.046297</td>\n",
       "      <td>0.067555</td>\n",
       "      <td>0.079196</td>\n",
       "      <td>0.028376</td>\n",
       "      <td>0.171745</td>\n",
       "    </tr>\n",
       "    <tr>\n",
       "      <th>min</th>\n",
       "      <td>0.000000</td>\n",
       "      <td>0.000000</td>\n",
       "      <td>0.000000</td>\n",
       "      <td>0.000000</td>\n",
       "      <td>0.000000</td>\n",
       "      <td>0.000000</td>\n",
       "      <td>0.000000</td>\n",
       "      <td>0.000000</td>\n",
       "      <td>0.000000</td>\n",
       "      <td>0.000000</td>\n",
       "      <td>0.000000</td>\n",
       "      <td>0.000000</td>\n",
       "      <td>0.000000</td>\n",
       "      <td>0.000000</td>\n",
       "      <td>0.000000</td>\n",
       "      <td>0.000000</td>\n",
       "      <td>0.000000</td>\n",
       "      <td>0.000000</td>\n",
       "      <td>0.000000</td>\n",
       "      <td>0.000000</td>\n",
       "      <td>0.000000</td>\n",
       "      <td>0.000000</td>\n",
       "    </tr>\n",
       "    <tr>\n",
       "      <th>25%</th>\n",
       "      <td>0.000000</td>\n",
       "      <td>0.000000</td>\n",
       "      <td>0.000000</td>\n",
       "      <td>0.050633</td>\n",
       "      <td>0.019180</td>\n",
       "      <td>0.046857</td>\n",
       "      <td>0.037137</td>\n",
       "      <td>0.049710</td>\n",
       "      <td>0.069251</td>\n",
       "      <td>0.042643</td>\n",
       "      <td>0.000594</td>\n",
       "      <td>0.000439</td>\n",
       "      <td>0.000497</td>\n",
       "      <td>0.000791</td>\n",
       "      <td>0.000191</td>\n",
       "      <td>0.020696</td>\n",
       "      <td>0.001736</td>\n",
       "      <td>0.502297</td>\n",
       "      <td>0.407650</td>\n",
       "      <td>0.318626</td>\n",
       "      <td>0.004641</td>\n",
       "      <td>0.077869</td>\n",
       "    </tr>\n",
       "    <tr>\n",
       "      <th>50%</th>\n",
       "      <td>0.000000</td>\n",
       "      <td>0.000000</td>\n",
       "      <td>0.000000</td>\n",
       "      <td>0.164557</td>\n",
       "      <td>0.047267</td>\n",
       "      <td>0.072403</td>\n",
       "      <td>0.046944</td>\n",
       "      <td>0.072076</td>\n",
       "      <td>0.097446</td>\n",
       "      <td>0.072342</td>\n",
       "      <td>0.001194</td>\n",
       "      <td>0.002063</td>\n",
       "      <td>0.002415</td>\n",
       "      <td>0.004045</td>\n",
       "      <td>0.003555</td>\n",
       "      <td>0.048507</td>\n",
       "      <td>0.003909</td>\n",
       "      <td>0.512868</td>\n",
       "      <td>0.422579</td>\n",
       "      <td>0.334728</td>\n",
       "      <td>0.011394</td>\n",
       "      <td>0.182575</td>\n",
       "    </tr>\n",
       "    <tr>\n",
       "      <th>75%</th>\n",
       "      <td>0.000000</td>\n",
       "      <td>0.000000</td>\n",
       "      <td>0.000000</td>\n",
       "      <td>0.291139</td>\n",
       "      <td>0.114171</td>\n",
       "      <td>0.134307</td>\n",
       "      <td>0.070235</td>\n",
       "      <td>0.120419</td>\n",
       "      <td>0.154807</td>\n",
       "      <td>0.133163</td>\n",
       "      <td>0.002969</td>\n",
       "      <td>0.005573</td>\n",
       "      <td>0.006531</td>\n",
       "      <td>0.010814</td>\n",
       "      <td>0.009479</td>\n",
       "      <td>0.111796</td>\n",
       "      <td>0.009078</td>\n",
       "      <td>0.537712</td>\n",
       "      <td>0.460628</td>\n",
       "      <td>0.380977</td>\n",
       "      <td>0.020651</td>\n",
       "      <td>0.312713</td>\n",
       "    </tr>\n",
       "    <tr>\n",
       "      <th>max</th>\n",
       "      <td>1.000000</td>\n",
       "      <td>1.000000</td>\n",
       "      <td>1.000000</td>\n",
       "      <td>1.000000</td>\n",
       "      <td>1.000000</td>\n",
       "      <td>1.000000</td>\n",
       "      <td>1.000000</td>\n",
       "      <td>1.000000</td>\n",
       "      <td>1.000000</td>\n",
       "      <td>1.000000</td>\n",
       "      <td>1.000000</td>\n",
       "      <td>1.000000</td>\n",
       "      <td>1.000000</td>\n",
       "      <td>1.000000</td>\n",
       "      <td>1.000000</td>\n",
       "      <td>1.000000</td>\n",
       "      <td>1.000000</td>\n",
       "      <td>1.000000</td>\n",
       "      <td>1.000000</td>\n",
       "      <td>1.000000</td>\n",
       "      <td>1.000000</td>\n",
       "      <td>1.000000</td>\n",
       "    </tr>\n",
       "  </tbody>\n",
       "</table>\n",
       "</div>"
      ],
      "text/plain": [
       "        MARRIAGE_3     PAY_2_-1    PAY_2_>=1    LIMIT_BAL    BILL_AMT1  \\\n",
       "count  4488.000000  4488.000000  4488.000000  4488.000000  4488.000000   \n",
       "mean      0.010472     0.201426     0.144162     0.201524     0.090883   \n",
       "std       0.101809     0.401110     0.351293     0.165500     0.110855   \n",
       "min       0.000000     0.000000     0.000000     0.000000     0.000000   \n",
       "25%       0.000000     0.000000     0.000000     0.050633     0.019180   \n",
       "50%       0.000000     0.000000     0.000000     0.164557     0.047267   \n",
       "75%       0.000000     0.000000     0.000000     0.291139     0.114171   \n",
       "max       1.000000     1.000000     1.000000     1.000000     1.000000   \n",
       "\n",
       "         BILL_AMT2    BILL_AMT3    BILL_AMT4    BILL_AMT5    BILL_AMT6  \\\n",
       "count  4488.000000  4488.000000  4488.000000  4488.000000  4488.000000   \n",
       "mean      0.112561     0.062989     0.105565     0.137518     0.113997   \n",
       "std       0.100915     0.042337     0.088202     0.108228     0.112290   \n",
       "min       0.000000     0.000000     0.000000     0.000000     0.000000   \n",
       "25%       0.046857     0.037137     0.049710     0.069251     0.042643   \n",
       "50%       0.072403     0.046944     0.072076     0.097446     0.072342   \n",
       "75%       0.134307     0.070235     0.120419     0.154807     0.133163   \n",
       "max       1.000000     1.000000     1.000000     1.000000     1.000000   \n",
       "\n",
       "          PAY_AMT2     PAY_AMT3     PAY_AMT4     PAY_AMT5     PAY_AMT6  \\\n",
       "count  4488.000000  4488.000000  4488.000000  4488.000000  4488.000000   \n",
       "mean      0.003689     0.006478     0.007739     0.012774     0.012367   \n",
       "std       0.020899     0.024615     0.027883     0.040421     0.040167   \n",
       "min       0.000000     0.000000     0.000000     0.000000     0.000000   \n",
       "25%       0.000594     0.000439     0.000497     0.000791     0.000191   \n",
       "50%       0.001194     0.002063     0.002415     0.004045     0.003555   \n",
       "75%       0.002969     0.005573     0.006531     0.010814     0.009479   \n",
       "max       1.000000     1.000000     1.000000     1.000000     1.000000   \n",
       "\n",
       "        Prom_monto    Prom_pago        dif_3        dif_4        dif_5  \\\n",
       "count  4488.000000  4488.000000  4488.000000  4488.000000  4488.000000   \n",
       "mean      0.091104     0.009286     0.530239     0.448633     0.366618   \n",
       "std       0.111067     0.024540     0.046297     0.067555     0.079196   \n",
       "min       0.000000     0.000000     0.000000     0.000000     0.000000   \n",
       "25%       0.020696     0.001736     0.502297     0.407650     0.318626   \n",
       "50%       0.048507     0.003909     0.512868     0.422579     0.334728   \n",
       "75%       0.111796     0.009078     0.537712     0.460628     0.380977   \n",
       "max       1.000000     1.000000     1.000000     1.000000     1.000000   \n",
       "\n",
       "       Prom_pago/lim   Limit_edad  \n",
       "count    4488.000000  4488.000000  \n",
       "mean        0.018138     0.217360  \n",
       "std         0.028376     0.171745  \n",
       "min         0.000000     0.000000  \n",
       "25%         0.004641     0.077869  \n",
       "50%         0.011394     0.182575  \n",
       "75%         0.020651     0.312713  \n",
       "max         1.000000     1.000000  "
      ]
     },
     "execution_count": 32,
     "metadata": {},
     "output_type": "execute_result"
    }
   ],
   "source": [
    "from sklearn.preprocessing import MinMaxScaler\n",
    "mm_x = MinMaxScaler()\n",
    "mm_y = MinMaxScaler()\n",
    "\n",
    "## En train se ajusta y transforma\n",
    "X = pd.DataFrame(mm_x.fit_transform(X_train),\n",
    "                 columns = X.columns)\n",
    "y = mm_y.fit_transform(y_train)\n",
    "\n",
    "## Y en test sólo se transforma\n",
    "X_test_mm = pd.DataFrame(mm_x.transform(X_test),\n",
    "                         columns = X.columns)\n",
    "y_test_mm = mm_y.transform(y_test)\n",
    "\n",
    "X.describe()"
   ]
  },
  {
   "cell_type": "markdown",
   "metadata": {},
   "source": [
    "### Entrenamiento"
   ]
  },
  {
   "cell_type": "code",
   "execution_count": 33,
   "metadata": {
    "ExecuteTime": {
     "end_time": "2020-11-11T15:38:45.232352Z",
     "start_time": "2020-11-11T15:38:40.351913Z"
    }
   },
   "outputs": [
    {
     "data": {
      "text/plain": [
       "(0.1987282999242056, 0.06990867924667371)"
      ]
     },
     "execution_count": 33,
     "metadata": {},
     "output_type": "execute_result"
    }
   ],
   "source": [
    "from sklearn.linear_model import Ridge\n",
    "ridge = Ridge(alpha = 1)\n",
    "ridge.fit(X, y)\n",
    "ridge_res = cross_val_score(estimator = ridge,\n",
    "                         X = X,\n",
    "                         y = y,\n",
    "                         cv = 3,\n",
    "                         n_jobs = -1,\n",
    "                         scoring = \"r2\")\n",
    "\n",
    "np.mean(ridge_res), np.std(ridge_res)"
   ]
  },
  {
   "cell_type": "markdown",
   "metadata": {},
   "source": [
    "### Hiper-parametrización"
   ]
  },
  {
   "cell_type": "code",
   "execution_count": 34,
   "metadata": {
    "ExecuteTime": {
     "end_time": "2020-11-11T15:39:09.231231Z",
     "start_time": "2020-11-11T15:38:45.236501Z"
    }
   },
   "outputs": [
    {
     "name": "stderr",
     "output_type": "stream",
     "text": [
      "<ipython-input-34-6d628a40b7e8>:9: UserWarning: With alpha=0, this algorithm does not converge well. You are advised to use the LinearRegression estimator\n",
      "  elasnet_h.fit(X, y)\n",
      "/home/ef/Desktop/diplomadus/diplomadus/lib/python3.8/site-packages/sklearn/linear_model/_coordinate_descent.py:529: UserWarning: Coordinate descent with no regularization may lead to unexpected results and is discouraged.\n",
      "  model = cd_fast.enet_coordinate_descent(\n",
      "/home/ef/Desktop/diplomadus/diplomadus/lib/python3.8/site-packages/sklearn/linear_model/_coordinate_descent.py:529: ConvergenceWarning: Objective did not converge. You might want to increase the number of iterations. Duality gap: 0.6010282327838806, tolerance: 0.0002576515087371638\n",
      "  model = cd_fast.enet_coordinate_descent(\n",
      "<ipython-input-34-6d628a40b7e8>:9: UserWarning: With alpha=0, this algorithm does not converge well. You are advised to use the LinearRegression estimator\n",
      "  elasnet_h.fit(X, y)\n",
      "/home/ef/Desktop/diplomadus/diplomadus/lib/python3.8/site-packages/sklearn/linear_model/_coordinate_descent.py:529: UserWarning: Coordinate descent with no regularization may lead to unexpected results and is discouraged.\n",
      "  model = cd_fast.enet_coordinate_descent(\n",
      "/home/ef/Desktop/diplomadus/diplomadus/lib/python3.8/site-packages/sklearn/linear_model/_coordinate_descent.py:529: ConvergenceWarning: Objective did not converge. You might want to increase the number of iterations. Duality gap: 0.6010282327838806, tolerance: 0.0002576515087371638\n",
      "  model = cd_fast.enet_coordinate_descent(\n",
      "<ipython-input-34-6d628a40b7e8>:9: UserWarning: With alpha=0, this algorithm does not converge well. You are advised to use the LinearRegression estimator\n",
      "  elasnet_h.fit(X, y)\n",
      "/home/ef/Desktop/diplomadus/diplomadus/lib/python3.8/site-packages/sklearn/linear_model/_coordinate_descent.py:529: UserWarning: Coordinate descent with no regularization may lead to unexpected results and is discouraged.\n",
      "  model = cd_fast.enet_coordinate_descent(\n",
      "/home/ef/Desktop/diplomadus/diplomadus/lib/python3.8/site-packages/sklearn/linear_model/_coordinate_descent.py:529: ConvergenceWarning: Objective did not converge. You might want to increase the number of iterations. Duality gap: 0.6010282327838806, tolerance: 0.0002576515087371638\n",
      "  model = cd_fast.enet_coordinate_descent(\n",
      "<ipython-input-34-6d628a40b7e8>:9: UserWarning: With alpha=0, this algorithm does not converge well. You are advised to use the LinearRegression estimator\n",
      "  elasnet_h.fit(X, y)\n",
      "/home/ef/Desktop/diplomadus/diplomadus/lib/python3.8/site-packages/sklearn/linear_model/_coordinate_descent.py:529: UserWarning: Coordinate descent with no regularization may lead to unexpected results and is discouraged.\n",
      "  model = cd_fast.enet_coordinate_descent(\n",
      "/home/ef/Desktop/diplomadus/diplomadus/lib/python3.8/site-packages/sklearn/linear_model/_coordinate_descent.py:529: ConvergenceWarning: Objective did not converge. You might want to increase the number of iterations. Duality gap: 0.6010282327838806, tolerance: 0.0002576515087371638\n",
      "  model = cd_fast.enet_coordinate_descent(\n",
      "<ipython-input-34-6d628a40b7e8>:9: UserWarning: With alpha=0, this algorithm does not converge well. You are advised to use the LinearRegression estimator\n",
      "  elasnet_h.fit(X, y)\n",
      "/home/ef/Desktop/diplomadus/diplomadus/lib/python3.8/site-packages/sklearn/linear_model/_coordinate_descent.py:529: UserWarning: Coordinate descent with no regularization may lead to unexpected results and is discouraged.\n",
      "  model = cd_fast.enet_coordinate_descent(\n",
      "/home/ef/Desktop/diplomadus/diplomadus/lib/python3.8/site-packages/sklearn/linear_model/_coordinate_descent.py:529: ConvergenceWarning: Objective did not converge. You might want to increase the number of iterations. Duality gap: 0.6010282327838806, tolerance: 0.0002576515087371638\n",
      "  model = cd_fast.enet_coordinate_descent(\n",
      "<ipython-input-34-6d628a40b7e8>:9: UserWarning: With alpha=0, this algorithm does not converge well. You are advised to use the LinearRegression estimator\n",
      "  elasnet_h.fit(X, y)\n",
      "/home/ef/Desktop/diplomadus/diplomadus/lib/python3.8/site-packages/sklearn/linear_model/_coordinate_descent.py:529: UserWarning: Coordinate descent with no regularization may lead to unexpected results and is discouraged.\n",
      "  model = cd_fast.enet_coordinate_descent(\n",
      "/home/ef/Desktop/diplomadus/diplomadus/lib/python3.8/site-packages/sklearn/linear_model/_coordinate_descent.py:529: ConvergenceWarning: Objective did not converge. You might want to increase the number of iterations. Duality gap: 0.6010282327838806, tolerance: 0.0002576515087371638\n",
      "  model = cd_fast.enet_coordinate_descent(\n",
      "<ipython-input-34-6d628a40b7e8>:9: UserWarning: With alpha=0, this algorithm does not converge well. You are advised to use the LinearRegression estimator\n",
      "  elasnet_h.fit(X, y)\n",
      "/home/ef/Desktop/diplomadus/diplomadus/lib/python3.8/site-packages/sklearn/linear_model/_coordinate_descent.py:529: UserWarning: Coordinate descent with no regularization may lead to unexpected results and is discouraged.\n",
      "  model = cd_fast.enet_coordinate_descent(\n",
      "/home/ef/Desktop/diplomadus/diplomadus/lib/python3.8/site-packages/sklearn/linear_model/_coordinate_descent.py:529: ConvergenceWarning: Objective did not converge. You might want to increase the number of iterations. Duality gap: 0.6010282327838806, tolerance: 0.0002576515087371638\n",
      "  model = cd_fast.enet_coordinate_descent(\n",
      "<ipython-input-34-6d628a40b7e8>:9: UserWarning: With alpha=0, this algorithm does not converge well. You are advised to use the LinearRegression estimator\n",
      "  elasnet_h.fit(X, y)\n",
      "/home/ef/Desktop/diplomadus/diplomadus/lib/python3.8/site-packages/sklearn/linear_model/_coordinate_descent.py:529: UserWarning: Coordinate descent with no regularization may lead to unexpected results and is discouraged.\n",
      "  model = cd_fast.enet_coordinate_descent(\n",
      "/home/ef/Desktop/diplomadus/diplomadus/lib/python3.8/site-packages/sklearn/linear_model/_coordinate_descent.py:529: ConvergenceWarning: Objective did not converge. You might want to increase the number of iterations. Duality gap: 0.6010282327838806, tolerance: 0.0002576515087371638\n",
      "  model = cd_fast.enet_coordinate_descent(\n",
      "<ipython-input-34-6d628a40b7e8>:9: UserWarning: With alpha=0, this algorithm does not converge well. You are advised to use the LinearRegression estimator\n",
      "  elasnet_h.fit(X, y)\n",
      "/home/ef/Desktop/diplomadus/diplomadus/lib/python3.8/site-packages/sklearn/linear_model/_coordinate_descent.py:529: UserWarning: Coordinate descent with no regularization may lead to unexpected results and is discouraged.\n",
      "  model = cd_fast.enet_coordinate_descent(\n",
      "/home/ef/Desktop/diplomadus/diplomadus/lib/python3.8/site-packages/sklearn/linear_model/_coordinate_descent.py:529: ConvergenceWarning: Objective did not converge. You might want to increase the number of iterations. Duality gap: 0.6010282327838806, tolerance: 0.0002576515087371638\n",
      "  model = cd_fast.enet_coordinate_descent(\n",
      "<ipython-input-34-6d628a40b7e8>:9: UserWarning: With alpha=0, this algorithm does not converge well. You are advised to use the LinearRegression estimator\n",
      "  elasnet_h.fit(X, y)\n",
      "/home/ef/Desktop/diplomadus/diplomadus/lib/python3.8/site-packages/sklearn/linear_model/_coordinate_descent.py:529: UserWarning: Coordinate descent with no regularization may lead to unexpected results and is discouraged.\n",
      "  model = cd_fast.enet_coordinate_descent(\n",
      "/home/ef/Desktop/diplomadus/diplomadus/lib/python3.8/site-packages/sklearn/linear_model/_coordinate_descent.py:529: ConvergenceWarning: Objective did not converge. You might want to increase the number of iterations. Duality gap: 0.6010282327838806, tolerance: 0.0002576515087371638\n",
      "  model = cd_fast.enet_coordinate_descent(\n",
      "/home/ef/Desktop/diplomadus/diplomadus/lib/python3.8/site-packages/sklearn/linear_model/_coordinate_descent.py:529: ConvergenceWarning: Objective did not converge. You might want to increase the number of iterations. Duality gap: 1.2872591909200568, tolerance: 0.0002576515087371638\n",
      "  model = cd_fast.enet_coordinate_descent(\n",
      "/home/ef/Desktop/diplomadus/diplomadus/lib/python3.8/site-packages/sklearn/linear_model/_coordinate_descent.py:529: ConvergenceWarning: Objective did not converge. You might want to increase the number of iterations. Duality gap: 1.287755856483517, tolerance: 0.0002576515087371638\n",
      "  model = cd_fast.enet_coordinate_descent(\n"
     ]
    },
    {
     "name": "stderr",
     "output_type": "stream",
     "text": [
      "/home/ef/Desktop/diplomadus/diplomadus/lib/python3.8/site-packages/sklearn/linear_model/_coordinate_descent.py:529: ConvergenceWarning: Objective did not converge. You might want to increase the number of iterations. Duality gap: 1.287922522767153, tolerance: 0.0002576515087371638\n",
      "  model = cd_fast.enet_coordinate_descent(\n",
      "/home/ef/Desktop/diplomadus/diplomadus/lib/python3.8/site-packages/sklearn/linear_model/_coordinate_descent.py:529: ConvergenceWarning: Objective did not converge. You might want to increase the number of iterations. Duality gap: 1.2880060662669257, tolerance: 0.0002576515087371638\n",
      "  model = cd_fast.enet_coordinate_descent(\n",
      "/home/ef/Desktop/diplomadus/diplomadus/lib/python3.8/site-packages/sklearn/linear_model/_coordinate_descent.py:529: ConvergenceWarning: Objective did not converge. You might want to increase the number of iterations. Duality gap: 1.2880562599439584, tolerance: 0.0002576515087371638\n",
      "  model = cd_fast.enet_coordinate_descent(\n",
      "/home/ef/Desktop/diplomadus/diplomadus/lib/python3.8/site-packages/sklearn/linear_model/_coordinate_descent.py:529: ConvergenceWarning: Objective did not converge. You might want to increase the number of iterations. Duality gap: 1.2880897506135616, tolerance: 0.0002576515087371638\n",
      "  model = cd_fast.enet_coordinate_descent(\n",
      "/home/ef/Desktop/diplomadus/diplomadus/lib/python3.8/site-packages/sklearn/linear_model/_coordinate_descent.py:529: ConvergenceWarning: Objective did not converge. You might want to increase the number of iterations. Duality gap: 1.2881136863608982, tolerance: 0.0002576515087371638\n",
      "  model = cd_fast.enet_coordinate_descent(\n",
      "/home/ef/Desktop/diplomadus/diplomadus/lib/python3.8/site-packages/sklearn/linear_model/_coordinate_descent.py:529: ConvergenceWarning: Objective did not converge. You might want to increase the number of iterations. Duality gap: 1.2881316457478083, tolerance: 0.0002576515087371638\n",
      "  model = cd_fast.enet_coordinate_descent(\n",
      "/home/ef/Desktop/diplomadus/diplomadus/lib/python3.8/site-packages/sklearn/linear_model/_coordinate_descent.py:529: ConvergenceWarning: Objective did not converge. You might want to increase the number of iterations. Duality gap: 1.288145618652827, tolerance: 0.0002576515087371638\n",
      "  model = cd_fast.enet_coordinate_descent(\n"
     ]
    }
   ],
   "source": [
    "from sklearn.linear_model import ElasticNet\n",
    "\n",
    "## Se crea un DF para almacenar scores con diferentes parámetros\n",
    "df_res = pd.DataFrame(columns=[\"alpha\", \"l1_ratio\", \"score\", \"std\"])\n",
    "contador = 0\n",
    "for i in range(0, 100, 10):\n",
    "    for j in range(10):\n",
    "        elasnet_h = ElasticNet(alpha=i, l1_ratio=j/10)\n",
    "        elasnet_h.fit(X, y)\n",
    "        ls_res = cross_val_score(estimator = elasnet_h, \n",
    "                                 X = X, \n",
    "                                 y = y, \n",
    "                                 cv = 3, \n",
    "                                 n_jobs = -1,\n",
    "                                 scoring = \"r2\")\n",
    "        df_res.loc[contador, \"alpha\"] = i\n",
    "        df_res.loc[contador, \"l1_ratio\"] = j\n",
    "        df_res.loc[contador, \"score\"] = np.mean(ls_res)\n",
    "        df_res.loc[contador, \"std\"] = np.std(ls_res)\n",
    "        contador += 1\n",
    "\n",
    "## Se ordena dicho DF\n",
    "df_res = df_res.sort_values(by = 'score',\n",
    "                            ascending = False).copy().head(5)\n",
    "\n",
    "## Se guardan los parámetros del mejor score\n",
    "alphas = df_res.iloc[0,0]\n",
    "l1_ratios = df_res.iloc[0,1]"
   ]
  },
  {
   "cell_type": "code",
   "execution_count": 35,
   "metadata": {
    "ExecuteTime": {
     "end_time": "2020-11-11T15:39:10.171902Z",
     "start_time": "2020-11-11T15:39:09.233944Z"
    },
    "scrolled": true
   },
   "outputs": [
    {
     "name": "stderr",
     "output_type": "stream",
     "text": [
      "<ipython-input-35-7404d29844e2>:4: UserWarning: With alpha=0, this algorithm does not converge well. You are advised to use the LinearRegression estimator\n",
      "  elasnet_h.fit(X, y)\n",
      "/home/ef/Desktop/diplomadus/diplomadus/lib/python3.8/site-packages/sklearn/linear_model/_coordinate_descent.py:529: UserWarning: Coordinate descent with no regularization may lead to unexpected results and is discouraged.\n",
      "  model = cd_fast.enet_coordinate_descent(\n",
      "/home/ef/Desktop/diplomadus/diplomadus/lib/python3.8/site-packages/sklearn/linear_model/_coordinate_descent.py:529: ConvergenceWarning: Objective did not converge. You might want to increase the number of iterations. Duality gap: 0.6010282327838806, tolerance: 0.0002576515087371638\n",
      "  model = cd_fast.enet_coordinate_descent(\n"
     ]
    },
    {
     "data": {
      "text/plain": [
       "(0.26476885033598463, 0.17719401987878375)"
      ]
     },
     "execution_count": 35,
     "metadata": {},
     "output_type": "execute_result"
    }
   ],
   "source": [
    "## Y se ejecuta\n",
    "elasnet_h = ElasticNet(alpha = alphas,\n",
    "                     l1_ratio = l1_ratios)\n",
    "elasnet_h.fit(X, y)\n",
    "el_h_res = cross_val_score(estimator = elasnet_h,\n",
    "                           X = X,\n",
    "                           y = y,\n",
    "                           cv = 3,\n",
    "                           n_jobs = -1,\n",
    "                           scoring = \"r2\")\n",
    "\n",
    "np.mean(el_h_res), np.std(el_h_res)"
   ]
  },
  {
   "cell_type": "markdown",
   "metadata": {},
   "source": [
    "### Prueba"
   ]
  },
  {
   "cell_type": "code",
   "execution_count": 36,
   "metadata": {
    "ExecuteTime": {
     "end_time": "2020-11-11T15:39:10.329602Z",
     "start_time": "2020-11-11T15:39:10.174841Z"
    }
   },
   "outputs": [
    {
     "data": {
      "text/html": [
       "<div>\n",
       "<style scoped>\n",
       "    .dataframe tbody tr th:only-of-type {\n",
       "        vertical-align: middle;\n",
       "    }\n",
       "\n",
       "    .dataframe tbody tr th {\n",
       "        vertical-align: top;\n",
       "    }\n",
       "\n",
       "    .dataframe thead th {\n",
       "        text-align: right;\n",
       "    }\n",
       "</style>\n",
       "<table border=\"1\" class=\"dataframe\">\n",
       "  <thead>\n",
       "    <tr style=\"text-align: right;\">\n",
       "      <th></th>\n",
       "      <th>MARRIAGE_3</th>\n",
       "      <th>PAY_2_-1</th>\n",
       "      <th>PAY_2_&gt;=1</th>\n",
       "      <th>LIMIT_BAL</th>\n",
       "      <th>BILL_AMT1</th>\n",
       "      <th>BILL_AMT2</th>\n",
       "      <th>BILL_AMT3</th>\n",
       "      <th>BILL_AMT4</th>\n",
       "      <th>BILL_AMT5</th>\n",
       "      <th>BILL_AMT6</th>\n",
       "      <th>PAY_AMT2</th>\n",
       "      <th>PAY_AMT3</th>\n",
       "      <th>PAY_AMT4</th>\n",
       "      <th>PAY_AMT5</th>\n",
       "      <th>PAY_AMT6</th>\n",
       "      <th>Prom_monto</th>\n",
       "      <th>Prom_pago</th>\n",
       "      <th>dif_3</th>\n",
       "      <th>dif_4</th>\n",
       "      <th>dif_5</th>\n",
       "      <th>Prom_pago/lim</th>\n",
       "      <th>Limit_edad</th>\n",
       "    </tr>\n",
       "  </thead>\n",
       "  <tbody>\n",
       "    <tr>\n",
       "      <th>count</th>\n",
       "      <td>4488.000000</td>\n",
       "      <td>4488.000000</td>\n",
       "      <td>4488.000000</td>\n",
       "      <td>4488.000000</td>\n",
       "      <td>4488.000000</td>\n",
       "      <td>4488.000000</td>\n",
       "      <td>4488.000000</td>\n",
       "      <td>4488.000000</td>\n",
       "      <td>4488.000000</td>\n",
       "      <td>4488.000000</td>\n",
       "      <td>4488.000000</td>\n",
       "      <td>4488.000000</td>\n",
       "      <td>4488.000000</td>\n",
       "      <td>4488.000000</td>\n",
       "      <td>4488.000000</td>\n",
       "      <td>4488.000000</td>\n",
       "      <td>4488.000000</td>\n",
       "      <td>4488.000000</td>\n",
       "      <td>4488.000000</td>\n",
       "      <td>4488.000000</td>\n",
       "      <td>4488.000000</td>\n",
       "      <td>4488.000000</td>\n",
       "    </tr>\n",
       "    <tr>\n",
       "      <th>mean</th>\n",
       "      <td>0.010472</td>\n",
       "      <td>0.201426</td>\n",
       "      <td>0.144162</td>\n",
       "      <td>0.201524</td>\n",
       "      <td>0.090883</td>\n",
       "      <td>0.112561</td>\n",
       "      <td>0.062989</td>\n",
       "      <td>0.105565</td>\n",
       "      <td>0.137518</td>\n",
       "      <td>0.113997</td>\n",
       "      <td>0.003689</td>\n",
       "      <td>0.006478</td>\n",
       "      <td>0.007739</td>\n",
       "      <td>0.012774</td>\n",
       "      <td>0.012367</td>\n",
       "      <td>0.091104</td>\n",
       "      <td>0.009286</td>\n",
       "      <td>0.530239</td>\n",
       "      <td>0.448633</td>\n",
       "      <td>0.366618</td>\n",
       "      <td>0.018138</td>\n",
       "      <td>0.217360</td>\n",
       "    </tr>\n",
       "    <tr>\n",
       "      <th>std</th>\n",
       "      <td>0.101809</td>\n",
       "      <td>0.401110</td>\n",
       "      <td>0.351293</td>\n",
       "      <td>0.165500</td>\n",
       "      <td>0.110855</td>\n",
       "      <td>0.100915</td>\n",
       "      <td>0.042337</td>\n",
       "      <td>0.088202</td>\n",
       "      <td>0.108228</td>\n",
       "      <td>0.112290</td>\n",
       "      <td>0.020899</td>\n",
       "      <td>0.024615</td>\n",
       "      <td>0.027883</td>\n",
       "      <td>0.040421</td>\n",
       "      <td>0.040167</td>\n",
       "      <td>0.111067</td>\n",
       "      <td>0.024540</td>\n",
       "      <td>0.046297</td>\n",
       "      <td>0.067555</td>\n",
       "      <td>0.079196</td>\n",
       "      <td>0.028376</td>\n",
       "      <td>0.171745</td>\n",
       "    </tr>\n",
       "    <tr>\n",
       "      <th>min</th>\n",
       "      <td>0.000000</td>\n",
       "      <td>0.000000</td>\n",
       "      <td>0.000000</td>\n",
       "      <td>0.000000</td>\n",
       "      <td>0.000000</td>\n",
       "      <td>0.000000</td>\n",
       "      <td>0.000000</td>\n",
       "      <td>0.000000</td>\n",
       "      <td>0.000000</td>\n",
       "      <td>0.000000</td>\n",
       "      <td>0.000000</td>\n",
       "      <td>0.000000</td>\n",
       "      <td>0.000000</td>\n",
       "      <td>0.000000</td>\n",
       "      <td>0.000000</td>\n",
       "      <td>0.000000</td>\n",
       "      <td>0.000000</td>\n",
       "      <td>0.000000</td>\n",
       "      <td>0.000000</td>\n",
       "      <td>0.000000</td>\n",
       "      <td>0.000000</td>\n",
       "      <td>0.000000</td>\n",
       "    </tr>\n",
       "    <tr>\n",
       "      <th>25%</th>\n",
       "      <td>0.000000</td>\n",
       "      <td>0.000000</td>\n",
       "      <td>0.000000</td>\n",
       "      <td>0.050633</td>\n",
       "      <td>0.019180</td>\n",
       "      <td>0.046857</td>\n",
       "      <td>0.037137</td>\n",
       "      <td>0.049710</td>\n",
       "      <td>0.069251</td>\n",
       "      <td>0.042643</td>\n",
       "      <td>0.000594</td>\n",
       "      <td>0.000439</td>\n",
       "      <td>0.000497</td>\n",
       "      <td>0.000791</td>\n",
       "      <td>0.000191</td>\n",
       "      <td>0.020696</td>\n",
       "      <td>0.001736</td>\n",
       "      <td>0.502297</td>\n",
       "      <td>0.407650</td>\n",
       "      <td>0.318626</td>\n",
       "      <td>0.004641</td>\n",
       "      <td>0.077869</td>\n",
       "    </tr>\n",
       "    <tr>\n",
       "      <th>50%</th>\n",
       "      <td>0.000000</td>\n",
       "      <td>0.000000</td>\n",
       "      <td>0.000000</td>\n",
       "      <td>0.164557</td>\n",
       "      <td>0.047267</td>\n",
       "      <td>0.072403</td>\n",
       "      <td>0.046944</td>\n",
       "      <td>0.072076</td>\n",
       "      <td>0.097446</td>\n",
       "      <td>0.072342</td>\n",
       "      <td>0.001194</td>\n",
       "      <td>0.002063</td>\n",
       "      <td>0.002415</td>\n",
       "      <td>0.004045</td>\n",
       "      <td>0.003555</td>\n",
       "      <td>0.048507</td>\n",
       "      <td>0.003909</td>\n",
       "      <td>0.512868</td>\n",
       "      <td>0.422579</td>\n",
       "      <td>0.334728</td>\n",
       "      <td>0.011394</td>\n",
       "      <td>0.182575</td>\n",
       "    </tr>\n",
       "    <tr>\n",
       "      <th>75%</th>\n",
       "      <td>0.000000</td>\n",
       "      <td>0.000000</td>\n",
       "      <td>0.000000</td>\n",
       "      <td>0.291139</td>\n",
       "      <td>0.114171</td>\n",
       "      <td>0.134307</td>\n",
       "      <td>0.070235</td>\n",
       "      <td>0.120419</td>\n",
       "      <td>0.154807</td>\n",
       "      <td>0.133163</td>\n",
       "      <td>0.002969</td>\n",
       "      <td>0.005573</td>\n",
       "      <td>0.006531</td>\n",
       "      <td>0.010814</td>\n",
       "      <td>0.009479</td>\n",
       "      <td>0.111796</td>\n",
       "      <td>0.009078</td>\n",
       "      <td>0.537712</td>\n",
       "      <td>0.460628</td>\n",
       "      <td>0.380977</td>\n",
       "      <td>0.020651</td>\n",
       "      <td>0.312713</td>\n",
       "    </tr>\n",
       "    <tr>\n",
       "      <th>max</th>\n",
       "      <td>1.000000</td>\n",
       "      <td>1.000000</td>\n",
       "      <td>1.000000</td>\n",
       "      <td>1.000000</td>\n",
       "      <td>1.000000</td>\n",
       "      <td>1.000000</td>\n",
       "      <td>1.000000</td>\n",
       "      <td>1.000000</td>\n",
       "      <td>1.000000</td>\n",
       "      <td>1.000000</td>\n",
       "      <td>1.000000</td>\n",
       "      <td>1.000000</td>\n",
       "      <td>1.000000</td>\n",
       "      <td>1.000000</td>\n",
       "      <td>1.000000</td>\n",
       "      <td>1.000000</td>\n",
       "      <td>1.000000</td>\n",
       "      <td>1.000000</td>\n",
       "      <td>1.000000</td>\n",
       "      <td>1.000000</td>\n",
       "      <td>1.000000</td>\n",
       "      <td>1.000000</td>\n",
       "    </tr>\n",
       "  </tbody>\n",
       "</table>\n",
       "</div>"
      ],
      "text/plain": [
       "        MARRIAGE_3     PAY_2_-1    PAY_2_>=1    LIMIT_BAL    BILL_AMT1  \\\n",
       "count  4488.000000  4488.000000  4488.000000  4488.000000  4488.000000   \n",
       "mean      0.010472     0.201426     0.144162     0.201524     0.090883   \n",
       "std       0.101809     0.401110     0.351293     0.165500     0.110855   \n",
       "min       0.000000     0.000000     0.000000     0.000000     0.000000   \n",
       "25%       0.000000     0.000000     0.000000     0.050633     0.019180   \n",
       "50%       0.000000     0.000000     0.000000     0.164557     0.047267   \n",
       "75%       0.000000     0.000000     0.000000     0.291139     0.114171   \n",
       "max       1.000000     1.000000     1.000000     1.000000     1.000000   \n",
       "\n",
       "         BILL_AMT2    BILL_AMT3    BILL_AMT4    BILL_AMT5    BILL_AMT6  \\\n",
       "count  4488.000000  4488.000000  4488.000000  4488.000000  4488.000000   \n",
       "mean      0.112561     0.062989     0.105565     0.137518     0.113997   \n",
       "std       0.100915     0.042337     0.088202     0.108228     0.112290   \n",
       "min       0.000000     0.000000     0.000000     0.000000     0.000000   \n",
       "25%       0.046857     0.037137     0.049710     0.069251     0.042643   \n",
       "50%       0.072403     0.046944     0.072076     0.097446     0.072342   \n",
       "75%       0.134307     0.070235     0.120419     0.154807     0.133163   \n",
       "max       1.000000     1.000000     1.000000     1.000000     1.000000   \n",
       "\n",
       "          PAY_AMT2     PAY_AMT3     PAY_AMT4     PAY_AMT5     PAY_AMT6  \\\n",
       "count  4488.000000  4488.000000  4488.000000  4488.000000  4488.000000   \n",
       "mean      0.003689     0.006478     0.007739     0.012774     0.012367   \n",
       "std       0.020899     0.024615     0.027883     0.040421     0.040167   \n",
       "min       0.000000     0.000000     0.000000     0.000000     0.000000   \n",
       "25%       0.000594     0.000439     0.000497     0.000791     0.000191   \n",
       "50%       0.001194     0.002063     0.002415     0.004045     0.003555   \n",
       "75%       0.002969     0.005573     0.006531     0.010814     0.009479   \n",
       "max       1.000000     1.000000     1.000000     1.000000     1.000000   \n",
       "\n",
       "        Prom_monto    Prom_pago        dif_3        dif_4        dif_5  \\\n",
       "count  4488.000000  4488.000000  4488.000000  4488.000000  4488.000000   \n",
       "mean      0.091104     0.009286     0.530239     0.448633     0.366618   \n",
       "std       0.111067     0.024540     0.046297     0.067555     0.079196   \n",
       "min       0.000000     0.000000     0.000000     0.000000     0.000000   \n",
       "25%       0.020696     0.001736     0.502297     0.407650     0.318626   \n",
       "50%       0.048507     0.003909     0.512868     0.422579     0.334728   \n",
       "75%       0.111796     0.009078     0.537712     0.460628     0.380977   \n",
       "max       1.000000     1.000000     1.000000     1.000000     1.000000   \n",
       "\n",
       "       Prom_pago/lim   Limit_edad  \n",
       "count    4488.000000  4488.000000  \n",
       "mean        0.018138     0.217360  \n",
       "std         0.028376     0.171745  \n",
       "min         0.000000     0.000000  \n",
       "25%         0.004641     0.077869  \n",
       "50%         0.011394     0.182575  \n",
       "75%         0.020651     0.312713  \n",
       "max         1.000000     1.000000  "
      ]
     },
     "execution_count": 36,
     "metadata": {},
     "output_type": "execute_result"
    }
   ],
   "source": [
    "pd.DataFrame(X).describe()"
   ]
  },
  {
   "cell_type": "code",
   "execution_count": 37,
   "metadata": {
    "ExecuteTime": {
     "end_time": "2020-11-11T15:39:10.421604Z",
     "start_time": "2020-11-11T15:39:10.333932Z"
    }
   },
   "outputs": [
    {
     "data": {
      "text/html": [
       "<div>\n",
       "<style scoped>\n",
       "    .dataframe tbody tr th:only-of-type {\n",
       "        vertical-align: middle;\n",
       "    }\n",
       "\n",
       "    .dataframe tbody tr th {\n",
       "        vertical-align: top;\n",
       "    }\n",
       "\n",
       "    .dataframe thead th {\n",
       "        text-align: right;\n",
       "    }\n",
       "</style>\n",
       "<table border=\"1\" class=\"dataframe\">\n",
       "  <thead>\n",
       "    <tr style=\"text-align: right;\">\n",
       "      <th></th>\n",
       "      <th>MARRIAGE_3</th>\n",
       "      <th>PAY_2_-1</th>\n",
       "      <th>PAY_2_&gt;=1</th>\n",
       "      <th>LIMIT_BAL</th>\n",
       "      <th>BILL_AMT1</th>\n",
       "      <th>BILL_AMT2</th>\n",
       "      <th>BILL_AMT3</th>\n",
       "      <th>BILL_AMT4</th>\n",
       "      <th>BILL_AMT5</th>\n",
       "      <th>BILL_AMT6</th>\n",
       "      <th>PAY_AMT2</th>\n",
       "      <th>PAY_AMT3</th>\n",
       "      <th>PAY_AMT4</th>\n",
       "      <th>PAY_AMT5</th>\n",
       "      <th>PAY_AMT6</th>\n",
       "      <th>Prom_monto</th>\n",
       "      <th>Prom_pago</th>\n",
       "      <th>dif_3</th>\n",
       "      <th>dif_4</th>\n",
       "      <th>dif_5</th>\n",
       "      <th>Prom_pago/lim</th>\n",
       "      <th>Limit_edad</th>\n",
       "    </tr>\n",
       "  </thead>\n",
       "  <tbody>\n",
       "    <tr>\n",
       "      <th>count</th>\n",
       "      <td>1123.000000</td>\n",
       "      <td>1123.000000</td>\n",
       "      <td>1123.000000</td>\n",
       "      <td>1123.000000</td>\n",
       "      <td>1123.000000</td>\n",
       "      <td>1123.000000</td>\n",
       "      <td>1123.000000</td>\n",
       "      <td>1123.000000</td>\n",
       "      <td>1123.000000</td>\n",
       "      <td>1123.000000</td>\n",
       "      <td>1123.000000</td>\n",
       "      <td>1123.000000</td>\n",
       "      <td>1123.000000</td>\n",
       "      <td>1123.000000</td>\n",
       "      <td>1123.000000</td>\n",
       "      <td>1123.000000</td>\n",
       "      <td>1123.000000</td>\n",
       "      <td>1123.000000</td>\n",
       "      <td>1123.000000</td>\n",
       "      <td>1123.000000</td>\n",
       "      <td>1123.000000</td>\n",
       "      <td>1123.000000</td>\n",
       "    </tr>\n",
       "    <tr>\n",
       "      <th>mean</th>\n",
       "      <td>0.010686</td>\n",
       "      <td>0.200356</td>\n",
       "      <td>0.144256</td>\n",
       "      <td>0.195599</td>\n",
       "      <td>0.089918</td>\n",
       "      <td>0.111597</td>\n",
       "      <td>0.062695</td>\n",
       "      <td>0.103710</td>\n",
       "      <td>0.136798</td>\n",
       "      <td>0.110568</td>\n",
       "      <td>0.003693</td>\n",
       "      <td>0.004808</td>\n",
       "      <td>0.008178</td>\n",
       "      <td>0.011571</td>\n",
       "      <td>0.012626</td>\n",
       "      <td>0.089525</td>\n",
       "      <td>0.008749</td>\n",
       "      <td>0.530320</td>\n",
       "      <td>0.447851</td>\n",
       "      <td>0.364718</td>\n",
       "      <td>0.018527</td>\n",
       "      <td>0.214448</td>\n",
       "    </tr>\n",
       "    <tr>\n",
       "      <th>std</th>\n",
       "      <td>0.102864</td>\n",
       "      <td>0.400445</td>\n",
       "      <td>0.351506</td>\n",
       "      <td>0.158069</td>\n",
       "      <td>0.116198</td>\n",
       "      <td>0.105972</td>\n",
       "      <td>0.041453</td>\n",
       "      <td>0.087590</td>\n",
       "      <td>0.108601</td>\n",
       "      <td>0.110595</td>\n",
       "      <td>0.013033</td>\n",
       "      <td>0.010425</td>\n",
       "      <td>0.021574</td>\n",
       "      <td>0.032342</td>\n",
       "      <td>0.044983</td>\n",
       "      <td>0.113791</td>\n",
       "      <td>0.014557</td>\n",
       "      <td>0.046043</td>\n",
       "      <td>0.068115</td>\n",
       "      <td>0.078246</td>\n",
       "      <td>0.026342</td>\n",
       "      <td>0.171862</td>\n",
       "    </tr>\n",
       "    <tr>\n",
       "      <th>min</th>\n",
       "      <td>0.000000</td>\n",
       "      <td>0.000000</td>\n",
       "      <td>0.000000</td>\n",
       "      <td>0.000000</td>\n",
       "      <td>0.010715</td>\n",
       "      <td>0.040099</td>\n",
       "      <td>0.034113</td>\n",
       "      <td>0.040161</td>\n",
       "      <td>0.047670</td>\n",
       "      <td>0.012869</td>\n",
       "      <td>0.000000</td>\n",
       "      <td>0.000000</td>\n",
       "      <td>0.000000</td>\n",
       "      <td>0.000000</td>\n",
       "      <td>0.000000</td>\n",
       "      <td>0.011614</td>\n",
       "      <td>0.000000</td>\n",
       "      <td>0.488463</td>\n",
       "      <td>0.379757</td>\n",
       "      <td>0.261487</td>\n",
       "      <td>0.000000</td>\n",
       "      <td>0.000318</td>\n",
       "    </tr>\n",
       "    <tr>\n",
       "      <th>25%</th>\n",
       "      <td>0.000000</td>\n",
       "      <td>0.000000</td>\n",
       "      <td>0.000000</td>\n",
       "      <td>0.063291</td>\n",
       "      <td>0.019004</td>\n",
       "      <td>0.047233</td>\n",
       "      <td>0.037249</td>\n",
       "      <td>0.049963</td>\n",
       "      <td>0.069715</td>\n",
       "      <td>0.042342</td>\n",
       "      <td>0.000568</td>\n",
       "      <td>0.000426</td>\n",
       "      <td>0.000525</td>\n",
       "      <td>0.000279</td>\n",
       "      <td>0.000421</td>\n",
       "      <td>0.020705</td>\n",
       "      <td>0.001647</td>\n",
       "      <td>0.502297</td>\n",
       "      <td>0.407650</td>\n",
       "      <td>0.318626</td>\n",
       "      <td>0.005139</td>\n",
       "      <td>0.078935</td>\n",
       "    </tr>\n",
       "    <tr>\n",
       "      <th>50%</th>\n",
       "      <td>0.000000</td>\n",
       "      <td>0.000000</td>\n",
       "      <td>0.000000</td>\n",
       "      <td>0.164557</td>\n",
       "      <td>0.044508</td>\n",
       "      <td>0.069908</td>\n",
       "      <td>0.046580</td>\n",
       "      <td>0.070937</td>\n",
       "      <td>0.095776</td>\n",
       "      <td>0.068425</td>\n",
       "      <td>0.001187</td>\n",
       "      <td>0.001889</td>\n",
       "      <td>0.002415</td>\n",
       "      <td>0.003955</td>\n",
       "      <td>0.003555</td>\n",
       "      <td>0.045807</td>\n",
       "      <td>0.003988</td>\n",
       "      <td>0.512836</td>\n",
       "      <td>0.421290</td>\n",
       "      <td>0.331743</td>\n",
       "      <td>0.011541</td>\n",
       "      <td>0.179625</td>\n",
       "    </tr>\n",
       "    <tr>\n",
       "      <th>75%</th>\n",
       "      <td>0.000000</td>\n",
       "      <td>0.000000</td>\n",
       "      <td>0.000000</td>\n",
       "      <td>0.278481</td>\n",
       "      <td>0.115142</td>\n",
       "      <td>0.132677</td>\n",
       "      <td>0.069401</td>\n",
       "      <td>0.117312</td>\n",
       "      <td>0.154570</td>\n",
       "      <td>0.127950</td>\n",
       "      <td>0.002980</td>\n",
       "      <td>0.005006</td>\n",
       "      <td>0.007202</td>\n",
       "      <td>0.010694</td>\n",
       "      <td>0.009479</td>\n",
       "      <td>0.107871</td>\n",
       "      <td>0.009394</td>\n",
       "      <td>0.537176</td>\n",
       "      <td>0.457742</td>\n",
       "      <td>0.376277</td>\n",
       "      <td>0.020029</td>\n",
       "      <td>0.300819</td>\n",
       "    </tr>\n",
       "    <tr>\n",
       "      <th>max</th>\n",
       "      <td>1.000000</td>\n",
       "      <td>1.000000</td>\n",
       "      <td>1.000000</td>\n",
       "      <td>0.835443</td>\n",
       "      <td>0.960109</td>\n",
       "      <td>0.906466</td>\n",
       "      <td>0.353022</td>\n",
       "      <td>0.727004</td>\n",
       "      <td>0.880281</td>\n",
       "      <td>0.841168</td>\n",
       "      <td>0.230443</td>\n",
       "      <td>0.112534</td>\n",
       "      <td>0.271271</td>\n",
       "      <td>0.546950</td>\n",
       "      <td>0.729858</td>\n",
       "      <td>0.927333</td>\n",
       "      <td>0.150079</td>\n",
       "      <td>0.860782</td>\n",
       "      <td>0.920130</td>\n",
       "      <td>0.880589</td>\n",
       "      <td>0.354874</td>\n",
       "      <td>1.063288</td>\n",
       "    </tr>\n",
       "  </tbody>\n",
       "</table>\n",
       "</div>"
      ],
      "text/plain": [
       "        MARRIAGE_3     PAY_2_-1    PAY_2_>=1    LIMIT_BAL    BILL_AMT1  \\\n",
       "count  1123.000000  1123.000000  1123.000000  1123.000000  1123.000000   \n",
       "mean      0.010686     0.200356     0.144256     0.195599     0.089918   \n",
       "std       0.102864     0.400445     0.351506     0.158069     0.116198   \n",
       "min       0.000000     0.000000     0.000000     0.000000     0.010715   \n",
       "25%       0.000000     0.000000     0.000000     0.063291     0.019004   \n",
       "50%       0.000000     0.000000     0.000000     0.164557     0.044508   \n",
       "75%       0.000000     0.000000     0.000000     0.278481     0.115142   \n",
       "max       1.000000     1.000000     1.000000     0.835443     0.960109   \n",
       "\n",
       "         BILL_AMT2    BILL_AMT3    BILL_AMT4    BILL_AMT5    BILL_AMT6  \\\n",
       "count  1123.000000  1123.000000  1123.000000  1123.000000  1123.000000   \n",
       "mean      0.111597     0.062695     0.103710     0.136798     0.110568   \n",
       "std       0.105972     0.041453     0.087590     0.108601     0.110595   \n",
       "min       0.040099     0.034113     0.040161     0.047670     0.012869   \n",
       "25%       0.047233     0.037249     0.049963     0.069715     0.042342   \n",
       "50%       0.069908     0.046580     0.070937     0.095776     0.068425   \n",
       "75%       0.132677     0.069401     0.117312     0.154570     0.127950   \n",
       "max       0.906466     0.353022     0.727004     0.880281     0.841168   \n",
       "\n",
       "          PAY_AMT2     PAY_AMT3     PAY_AMT4     PAY_AMT5     PAY_AMT6  \\\n",
       "count  1123.000000  1123.000000  1123.000000  1123.000000  1123.000000   \n",
       "mean      0.003693     0.004808     0.008178     0.011571     0.012626   \n",
       "std       0.013033     0.010425     0.021574     0.032342     0.044983   \n",
       "min       0.000000     0.000000     0.000000     0.000000     0.000000   \n",
       "25%       0.000568     0.000426     0.000525     0.000279     0.000421   \n",
       "50%       0.001187     0.001889     0.002415     0.003955     0.003555   \n",
       "75%       0.002980     0.005006     0.007202     0.010694     0.009479   \n",
       "max       0.230443     0.112534     0.271271     0.546950     0.729858   \n",
       "\n",
       "        Prom_monto    Prom_pago        dif_3        dif_4        dif_5  \\\n",
       "count  1123.000000  1123.000000  1123.000000  1123.000000  1123.000000   \n",
       "mean      0.089525     0.008749     0.530320     0.447851     0.364718   \n",
       "std       0.113791     0.014557     0.046043     0.068115     0.078246   \n",
       "min       0.011614     0.000000     0.488463     0.379757     0.261487   \n",
       "25%       0.020705     0.001647     0.502297     0.407650     0.318626   \n",
       "50%       0.045807     0.003988     0.512836     0.421290     0.331743   \n",
       "75%       0.107871     0.009394     0.537176     0.457742     0.376277   \n",
       "max       0.927333     0.150079     0.860782     0.920130     0.880589   \n",
       "\n",
       "       Prom_pago/lim   Limit_edad  \n",
       "count    1123.000000  1123.000000  \n",
       "mean        0.018527     0.214448  \n",
       "std         0.026342     0.171862  \n",
       "min         0.000000     0.000318  \n",
       "25%         0.005139     0.078935  \n",
       "50%         0.011541     0.179625  \n",
       "75%         0.020029     0.300819  \n",
       "max         0.354874     1.063288  "
      ]
     },
     "execution_count": 37,
     "metadata": {},
     "output_type": "execute_result"
    }
   ],
   "source": [
    "X_test_mm.describe()"
   ]
  },
  {
   "cell_type": "code",
   "execution_count": 38,
   "metadata": {
    "ExecuteTime": {
     "end_time": "2020-11-11T15:39:10.445105Z",
     "start_time": "2020-11-11T15:39:10.424221Z"
    },
    "scrolled": true
   },
   "outputs": [
    {
     "data": {
      "text/plain": [
       "'36.48%'"
      ]
     },
     "execution_count": 38,
     "metadata": {},
     "output_type": "execute_result"
    }
   ],
   "source": [
    "## Y se corre para el conjunto de prueba\n",
    "from sklearn.metrics import r2_score\n",
    "'{:,.2%}'.format(r2_score(y_pred = elasnet_h.predict(X_test_mm),\n",
    "                          y_true = y_test_mm))"
   ]
  },
  {
   "cell_type": "code",
   "execution_count": 39,
   "metadata": {
    "ExecuteTime": {
     "end_time": "2020-11-11T15:39:10.522408Z",
     "start_time": "2020-11-11T15:39:10.455600Z"
    }
   },
   "outputs": [
    {
     "data": {
      "text/html": [
       "<div>\n",
       "<style scoped>\n",
       "    .dataframe tbody tr th:only-of-type {\n",
       "        vertical-align: middle;\n",
       "    }\n",
       "\n",
       "    .dataframe tbody tr th {\n",
       "        vertical-align: top;\n",
       "    }\n",
       "\n",
       "    .dataframe thead th {\n",
       "        text-align: right;\n",
       "    }\n",
       "</style>\n",
       "<table border=\"1\" class=\"dataframe\">\n",
       "  <thead>\n",
       "    <tr style=\"text-align: right;\">\n",
       "      <th></th>\n",
       "      <th>Variable</th>\n",
       "      <th>Explica</th>\n",
       "    </tr>\n",
       "  </thead>\n",
       "  <tbody>\n",
       "    <tr>\n",
       "      <th>6</th>\n",
       "      <td>BILL_AMT3</td>\n",
       "      <td>-0.503044</td>\n",
       "    </tr>\n",
       "    <tr>\n",
       "      <th>4</th>\n",
       "      <td>BILL_AMT1</td>\n",
       "      <td>-0.209500</td>\n",
       "    </tr>\n",
       "    <tr>\n",
       "      <th>15</th>\n",
       "      <td>Prom_monto</td>\n",
       "      <td>-0.058488</td>\n",
       "    </tr>\n",
       "    <tr>\n",
       "      <th>13</th>\n",
       "      <td>PAY_AMT5</td>\n",
       "      <td>-0.030216</td>\n",
       "    </tr>\n",
       "    <tr>\n",
       "      <th>18</th>\n",
       "      <td>dif_4</td>\n",
       "      <td>-0.012436</td>\n",
       "    </tr>\n",
       "    <tr>\n",
       "      <th>21</th>\n",
       "      <td>Limit_edad</td>\n",
       "      <td>-0.005095</td>\n",
       "    </tr>\n",
       "    <tr>\n",
       "      <th>8</th>\n",
       "      <td>BILL_AMT5</td>\n",
       "      <td>-0.001489</td>\n",
       "    </tr>\n",
       "    <tr>\n",
       "      <th>2</th>\n",
       "      <td>PAY_2_&gt;=1</td>\n",
       "      <td>-0.001248</td>\n",
       "    </tr>\n",
       "    <tr>\n",
       "      <th>0</th>\n",
       "      <td>MARRIAGE_3</td>\n",
       "      <td>0.003954</td>\n",
       "    </tr>\n",
       "    <tr>\n",
       "      <th>1</th>\n",
       "      <td>PAY_2_-1</td>\n",
       "      <td>0.005315</td>\n",
       "    </tr>\n",
       "    <tr>\n",
       "      <th>9</th>\n",
       "      <td>BILL_AMT6</td>\n",
       "      <td>0.007989</td>\n",
       "    </tr>\n",
       "    <tr>\n",
       "      <th>16</th>\n",
       "      <td>Prom_pago</td>\n",
       "      <td>0.008656</td>\n",
       "    </tr>\n",
       "    <tr>\n",
       "      <th>19</th>\n",
       "      <td>dif_5</td>\n",
       "      <td>0.008731</td>\n",
       "    </tr>\n",
       "    <tr>\n",
       "      <th>3</th>\n",
       "      <td>LIMIT_BAL</td>\n",
       "      <td>0.009971</td>\n",
       "    </tr>\n",
       "    <tr>\n",
       "      <th>7</th>\n",
       "      <td>BILL_AMT4</td>\n",
       "      <td>0.011815</td>\n",
       "    </tr>\n",
       "    <tr>\n",
       "      <th>14</th>\n",
       "      <td>PAY_AMT6</td>\n",
       "      <td>0.022177</td>\n",
       "    </tr>\n",
       "    <tr>\n",
       "      <th>20</th>\n",
       "      <td>Prom_pago/lim</td>\n",
       "      <td>0.037872</td>\n",
       "    </tr>\n",
       "    <tr>\n",
       "      <th>17</th>\n",
       "      <td>dif_3</td>\n",
       "      <td>0.048409</td>\n",
       "    </tr>\n",
       "    <tr>\n",
       "      <th>12</th>\n",
       "      <td>PAY_AMT4</td>\n",
       "      <td>0.107680</td>\n",
       "    </tr>\n",
       "    <tr>\n",
       "      <th>11</th>\n",
       "      <td>PAY_AMT3</td>\n",
       "      <td>0.153939</td>\n",
       "    </tr>\n",
       "    <tr>\n",
       "      <th>5</th>\n",
       "      <td>BILL_AMT2</td>\n",
       "      <td>0.476417</td>\n",
       "    </tr>\n",
       "    <tr>\n",
       "      <th>10</th>\n",
       "      <td>PAY_AMT2</td>\n",
       "      <td>0.628177</td>\n",
       "    </tr>\n",
       "  </tbody>\n",
       "</table>\n",
       "</div>"
      ],
      "text/plain": [
       "         Variable   Explica\n",
       "6       BILL_AMT3 -0.503044\n",
       "4       BILL_AMT1 -0.209500\n",
       "15     Prom_monto -0.058488\n",
       "13       PAY_AMT5 -0.030216\n",
       "18          dif_4 -0.012436\n",
       "21     Limit_edad -0.005095\n",
       "8       BILL_AMT5 -0.001489\n",
       "2       PAY_2_>=1 -0.001248\n",
       "0      MARRIAGE_3  0.003954\n",
       "1        PAY_2_-1  0.005315\n",
       "9       BILL_AMT6  0.007989\n",
       "16      Prom_pago  0.008656\n",
       "19          dif_5  0.008731\n",
       "3       LIMIT_BAL  0.009971\n",
       "7       BILL_AMT4  0.011815\n",
       "14       PAY_AMT6  0.022177\n",
       "20  Prom_pago/lim  0.037872\n",
       "17          dif_3  0.048409\n",
       "12       PAY_AMT4  0.107680\n",
       "11       PAY_AMT3  0.153939\n",
       "5       BILL_AMT2  0.476417\n",
       "10       PAY_AMT2  0.628177"
      ]
     },
     "execution_count": 39,
     "metadata": {},
     "output_type": "execute_result"
    }
   ],
   "source": [
    "## Se despliega la relación que tiene cada una de las mejores variables que explican\n",
    "# la variable objetivo\n",
    "pd.DataFrame(list(zip(ls_best, elasnet_h.coef_)),\n",
    "            columns = ['Variable', 'Explica']).sort_values(by = 'Explica')"
   ]
  },
  {
   "cell_type": "code",
   "execution_count": 41,
   "metadata": {
    "ExecuteTime": {
     "end_time": "2020-11-11T15:39:21.016412Z",
     "start_time": "2020-11-11T15:39:20.908783Z"
    }
   },
   "outputs": [
    {
     "data": {
      "text/plain": [
       "ElasticNet(alpha=0, l1_ratio=0)"
      ]
     },
     "execution_count": 41,
     "metadata": {},
     "output_type": "execute_result"
    }
   ],
   "source": [
    "import pickle\n",
    "\n",
    "## Guardar modelo\n",
    "with open('PAY_1.pkl', 'wb') as file:\n",
    "    pickle.dump(elasnet_h, file)\n",
    "\n",
    "## Abrir un modelo\n",
    "with open('PAY_1.pkl', 'rb') as file:\n",
    "    pay_1 = pickle.load(file)\n",
    "\n",
    "## Listo para usarse\n",
    "pay_1"
   ]
  },
  {
   "cell_type": "code",
   "execution_count": 42,
   "metadata": {
    "ExecuteTime": {
     "end_time": "2020-11-11T15:39:23.970872Z",
     "start_time": "2020-11-11T15:39:23.953009Z"
    }
   },
   "outputs": [
    {
     "data": {
      "text/plain": [
       "'36.48%'"
      ]
     },
     "execution_count": 42,
     "metadata": {},
     "output_type": "execute_result"
    }
   ],
   "source": [
    "'{:,.2%}'.format(r2_score(y_pred = pay_1.predict(X_test_mm),\n",
    "                          y_true = y_test_mm))"
   ]
  },
  {
   "cell_type": "markdown",
   "metadata": {},
   "source": [
    "## Validación"
   ]
  },
  {
   "cell_type": "code",
   "execution_count": 40,
   "metadata": {
    "ExecuteTime": {
     "end_time": "2020-11-06T17:57:27.854281Z",
     "start_time": "2020-11-06T17:57:27.765644Z"
    }
   },
   "outputs": [
    {
     "data": {
      "text/html": [
       "<div>\n",
       "<style scoped>\n",
       "    .dataframe tbody tr th:only-of-type {\n",
       "        vertical-align: middle;\n",
       "    }\n",
       "\n",
       "    .dataframe tbody tr th {\n",
       "        vertical-align: top;\n",
       "    }\n",
       "\n",
       "    .dataframe thead th {\n",
       "        text-align: right;\n",
       "    }\n",
       "</style>\n",
       "<table border=\"1\" class=\"dataframe\">\n",
       "  <thead>\n",
       "    <tr style=\"text-align: right;\">\n",
       "      <th></th>\n",
       "      <th>CUSTOMER_ID</th>\n",
       "      <th>LIMIT_BAL</th>\n",
       "      <th>SEX</th>\n",
       "      <th>EDUCATION</th>\n",
       "      <th>MARRIAGE</th>\n",
       "      <th>AGE</th>\n",
       "      <th>PAY_2</th>\n",
       "      <th>PAY_3</th>\n",
       "      <th>PAY_4</th>\n",
       "      <th>PAY_5</th>\n",
       "      <th>PAY_6</th>\n",
       "      <th>BILL_AMT1</th>\n",
       "      <th>BILL_AMT2</th>\n",
       "      <th>BILL_AMT3</th>\n",
       "      <th>BILL_AMT4</th>\n",
       "      <th>BILL_AMT5</th>\n",
       "      <th>BILL_AMT6</th>\n",
       "      <th>PAY_AMT2</th>\n",
       "      <th>PAY_AMT3</th>\n",
       "      <th>PAY_AMT4</th>\n",
       "      <th>PAY_AMT5</th>\n",
       "      <th>PAY_AMT6</th>\n",
       "    </tr>\n",
       "  </thead>\n",
       "  <tbody>\n",
       "    <tr>\n",
       "      <th>961</th>\n",
       "      <td>23160</td>\n",
       "      <td>50000.0</td>\n",
       "      <td>2</td>\n",
       "      <td>2</td>\n",
       "      <td>1</td>\n",
       "      <td>41</td>\n",
       "      <td>3</td>\n",
       "      <td>2</td>\n",
       "      <td>0</td>\n",
       "      <td>0</td>\n",
       "      <td>0</td>\n",
       "      <td>21638.0</td>\n",
       "      <td>21008.0</td>\n",
       "      <td>20388.0</td>\n",
       "      <td>21092.0</td>\n",
       "      <td>21511.0</td>\n",
       "      <td>21964.0</td>\n",
       "      <td>0.0</td>\n",
       "      <td>1350.0</td>\n",
       "      <td>769.0</td>\n",
       "      <td>799.0</td>\n",
       "      <td>1000.0</td>\n",
       "    </tr>\n",
       "    <tr>\n",
       "      <th>621</th>\n",
       "      <td>23884</td>\n",
       "      <td>200000.0</td>\n",
       "      <td>1</td>\n",
       "      <td>3</td>\n",
       "      <td>2</td>\n",
       "      <td>34</td>\n",
       "      <td>2</td>\n",
       "      <td>2</td>\n",
       "      <td>3</td>\n",
       "      <td>2</td>\n",
       "      <td>2</td>\n",
       "      <td>138839.0</td>\n",
       "      <td>142121.0</td>\n",
       "      <td>193777.0</td>\n",
       "      <td>189225.0</td>\n",
       "      <td>192304.0</td>\n",
       "      <td>188695.0</td>\n",
       "      <td>56100.0</td>\n",
       "      <td>5.0</td>\n",
       "      <td>7269.0</td>\n",
       "      <td>28.0</td>\n",
       "      <td>5828.0</td>\n",
       "    </tr>\n",
       "    <tr>\n",
       "      <th>464</th>\n",
       "      <td>16865</td>\n",
       "      <td>100000.0</td>\n",
       "      <td>2</td>\n",
       "      <td>1</td>\n",
       "      <td>2</td>\n",
       "      <td>38</td>\n",
       "      <td>2</td>\n",
       "      <td>2</td>\n",
       "      <td>2</td>\n",
       "      <td>2</td>\n",
       "      <td>2</td>\n",
       "      <td>37566.0</td>\n",
       "      <td>37160.0</td>\n",
       "      <td>39750.0</td>\n",
       "      <td>40298.0</td>\n",
       "      <td>40835.0</td>\n",
       "      <td>41529.0</td>\n",
       "      <td>3500.0</td>\n",
       "      <td>1500.0</td>\n",
       "      <td>1500.0</td>\n",
       "      <td>1500.0</td>\n",
       "      <td>2000.0</td>\n",
       "    </tr>\n",
       "    <tr>\n",
       "      <th>1171</th>\n",
       "      <td>7334</td>\n",
       "      <td>20000.0</td>\n",
       "      <td>1</td>\n",
       "      <td>1</td>\n",
       "      <td>2</td>\n",
       "      <td>25</td>\n",
       "      <td>-2</td>\n",
       "      <td>-2</td>\n",
       "      <td>-2</td>\n",
       "      <td>-2</td>\n",
       "      <td>-1</td>\n",
       "      <td>0.0</td>\n",
       "      <td>0.0</td>\n",
       "      <td>0.0</td>\n",
       "      <td>0.0</td>\n",
       "      <td>0.0</td>\n",
       "      <td>1000.0</td>\n",
       "      <td>0.0</td>\n",
       "      <td>0.0</td>\n",
       "      <td>0.0</td>\n",
       "      <td>1000.0</td>\n",
       "      <td>0.0</td>\n",
       "    </tr>\n",
       "  </tbody>\n",
       "</table>\n",
       "</div>"
      ],
      "text/plain": [
       "      CUSTOMER_ID  LIMIT_BAL  SEX  EDUCATION  MARRIAGE  AGE  PAY_2  PAY_3  \\\n",
       "961         23160    50000.0    2          2         1   41      3      2   \n",
       "621         23884   200000.0    1          3         2   34      2      2   \n",
       "464         16865   100000.0    2          1         2   38      2      2   \n",
       "1171         7334    20000.0    1          1         2   25     -2     -2   \n",
       "\n",
       "      PAY_4  PAY_5  PAY_6  BILL_AMT1  BILL_AMT2  BILL_AMT3  BILL_AMT4  \\\n",
       "961       0      0      0    21638.0    21008.0    20388.0    21092.0   \n",
       "621       3      2      2   138839.0   142121.0   193777.0   189225.0   \n",
       "464       2      2      2    37566.0    37160.0    39750.0    40298.0   \n",
       "1171     -2     -2     -1        0.0        0.0        0.0        0.0   \n",
       "\n",
       "      BILL_AMT5  BILL_AMT6  PAY_AMT2  PAY_AMT3  PAY_AMT4  PAY_AMT5  PAY_AMT6  \n",
       "961     21511.0    21964.0       0.0    1350.0     769.0     799.0    1000.0  \n",
       "621    192304.0   188695.0   56100.0       5.0    7269.0      28.0    5828.0  \n",
       "464     40835.0    41529.0    3500.0    1500.0    1500.0    1500.0    2000.0  \n",
       "1171        0.0     1000.0       0.0       0.0       0.0    1000.0       0.0  "
      ]
     },
     "execution_count": 40,
     "metadata": {},
     "output_type": "execute_result"
    }
   ],
   "source": [
    "val = pd.read_csv(liga + 'val_PAY_AMT1.csv',\n",
    "                 encoding = 'ascii',\n",
    "                 sep = '|',\n",
    "                 low_memory = False)\n",
    "val.sample(4)"
   ]
  },
  {
   "cell_type": "code",
   "execution_count": 41,
   "metadata": {
    "ExecuteTime": {
     "end_time": "2020-11-06T17:57:27.923622Z",
     "start_time": "2020-11-06T17:57:27.865216Z"
    }
   },
   "outputs": [
    {
     "name": "stdout",
     "output_type": "stream",
     "text": [
      "<class 'pandas.core.frame.DataFrame'>\n",
      "RangeIndex: 1875 entries, 0 to 1874\n",
      "Data columns (total 8 columns):\n",
      " #   Column     Non-Null Count  Dtype \n",
      "---  ------     --------------  ----- \n",
      " 0   SEX        1875 non-null   object\n",
      " 1   EDUCATION  1875 non-null   object\n",
      " 2   MARRIAGE   1875 non-null   object\n",
      " 3   PAY_2      1875 non-null   object\n",
      " 4   PAY_3      1875 non-null   object\n",
      " 5   PAY_4      1875 non-null   object\n",
      " 6   PAY_5      1875 non-null   object\n",
      " 7   PAY_6      1875 non-null   object\n",
      "dtypes: object(8)\n",
      "memory usage: 117.3+ KB\n"
     ]
    }
   ],
   "source": [
    "cat = list(val.columns[2:11])\n",
    "cat = [x for x in cat if x not in ['AGE']]\n",
    "for col in cat:\n",
    "    val[col] = val[col].astype(str)\n",
    "val[cat].info()"
   ]
  },
  {
   "cell_type": "code",
   "execution_count": 42,
   "metadata": {
    "ExecuteTime": {
     "end_time": "2020-11-06T17:57:27.961655Z",
     "start_time": "2020-11-06T17:57:27.930141Z"
    }
   },
   "outputs": [
    {
     "name": "stdout",
     "output_type": "stream",
     "text": [
      "<class 'pandas.core.frame.DataFrame'>\n",
      "RangeIndex: 1875 entries, 0 to 1874\n",
      "Data columns (total 13 columns):\n",
      " #   Column     Non-Null Count  Dtype  \n",
      "---  ------     --------------  -----  \n",
      " 0   LIMIT_BAL  1875 non-null   float64\n",
      " 1   AGE        1875 non-null   int64  \n",
      " 2   BILL_AMT1  1875 non-null   float64\n",
      " 3   BILL_AMT2  1875 non-null   float64\n",
      " 4   BILL_AMT3  1875 non-null   float64\n",
      " 5   BILL_AMT4  1875 non-null   float64\n",
      " 6   BILL_AMT5  1875 non-null   float64\n",
      " 7   BILL_AMT6  1875 non-null   float64\n",
      " 8   PAY_AMT2   1875 non-null   float64\n",
      " 9   PAY_AMT3   1875 non-null   float64\n",
      " 10  PAY_AMT4   1875 non-null   float64\n",
      " 11  PAY_AMT5   1875 non-null   float64\n",
      " 12  PAY_AMT6   1875 non-null   float64\n",
      "dtypes: float64(12), int64(1)\n",
      "memory usage: 190.6 KB\n"
     ]
    }
   ],
   "source": [
    "## Ya no existe PAY_AMT1 porque será la variable a estimar\n",
    "num = [col for col in val.columns if col not in cat + ['CUSTOMER_ID']]\n",
    "val[num].info()"
   ]
  },
  {
   "cell_type": "code",
   "execution_count": 43,
   "metadata": {
    "ExecuteTime": {
     "end_time": "2020-11-06T17:57:27.979374Z",
     "start_time": "2020-11-06T17:57:27.969066Z"
    }
   },
   "outputs": [],
   "source": [
    "## Ya existen los conjuntos, pero no está de más redefinirlos\n",
    "pay = [col for col in val.columns if col.startswith('PAY')]\n",
    "pago = [x for x in pay if x.startswith('PAY_AMT')]\n",
    "estatus = [x for x in pay if x not in pago]\n",
    "monto = [col for col in val.columns if col.startswith('BILL')]"
   ]
  },
  {
   "cell_type": "code",
   "execution_count": 44,
   "metadata": {
    "ExecuteTime": {
     "end_time": "2020-11-06T17:57:28.070538Z",
     "start_time": "2020-11-06T17:57:27.984635Z"
    }
   },
   "outputs": [
    {
     "data": {
      "text/html": [
       "<div>\n",
       "<style scoped>\n",
       "    .dataframe tbody tr th:only-of-type {\n",
       "        vertical-align: middle;\n",
       "    }\n",
       "\n",
       "    .dataframe tbody tr th {\n",
       "        vertical-align: top;\n",
       "    }\n",
       "\n",
       "    .dataframe thead th {\n",
       "        text-align: right;\n",
       "    }\n",
       "</style>\n",
       "<table border=\"1\" class=\"dataframe\">\n",
       "  <thead>\n",
       "    <tr style=\"text-align: right;\">\n",
       "      <th></th>\n",
       "      <th>MARRIAGE_3</th>\n",
       "      <th>PAY_2_-1</th>\n",
       "      <th>PAY_2_&gt;=1</th>\n",
       "      <th>LIMIT_BAL</th>\n",
       "      <th>BILL_AMT1</th>\n",
       "      <th>BILL_AMT2</th>\n",
       "      <th>BILL_AMT3</th>\n",
       "      <th>BILL_AMT4</th>\n",
       "      <th>BILL_AMT5</th>\n",
       "      <th>BILL_AMT6</th>\n",
       "      <th>PAY_AMT2</th>\n",
       "      <th>PAY_AMT3</th>\n",
       "      <th>PAY_AMT4</th>\n",
       "      <th>PAY_AMT5</th>\n",
       "      <th>PAY_AMT6</th>\n",
       "      <th>Prom_monto</th>\n",
       "      <th>Prom_pago</th>\n",
       "      <th>dif_3</th>\n",
       "      <th>dif_4</th>\n",
       "      <th>dif_5</th>\n",
       "      <th>Prom_pago/lim</th>\n",
       "      <th>Limit_edad</th>\n",
       "    </tr>\n",
       "  </thead>\n",
       "  <tbody>\n",
       "    <tr>\n",
       "      <th>3032</th>\n",
       "      <td>0.0</td>\n",
       "      <td>0.0</td>\n",
       "      <td>1.0</td>\n",
       "      <td>0.012658</td>\n",
       "      <td>0.043994</td>\n",
       "      <td>0.070303</td>\n",
       "      <td>0.045854</td>\n",
       "      <td>0.060956</td>\n",
       "      <td>0.086122</td>\n",
       "      <td>0.039938</td>\n",
       "      <td>0.001187</td>\n",
       "      <td>0.004499</td>\n",
       "      <td>0.003274</td>\n",
       "      <td>0.0</td>\n",
       "      <td>0.0</td>\n",
       "      <td>0.035305</td>\n",
       "      <td>0.002779</td>\n",
       "      <td>0.507215</td>\n",
       "      <td>0.418327</td>\n",
       "      <td>0.318626</td>\n",
       "      <td>0.026997</td>\n",
       "      <td>0.030222</td>\n",
       "    </tr>\n",
       "  </tbody>\n",
       "</table>\n",
       "</div>"
      ],
      "text/plain": [
       "      MARRIAGE_3  PAY_2_-1  PAY_2_>=1  LIMIT_BAL  BILL_AMT1  BILL_AMT2  \\\n",
       "3032         0.0       0.0        1.0   0.012658   0.043994   0.070303   \n",
       "\n",
       "      BILL_AMT3  BILL_AMT4  BILL_AMT5  BILL_AMT6  PAY_AMT2  PAY_AMT3  \\\n",
       "3032   0.045854   0.060956   0.086122   0.039938  0.001187  0.004499   \n",
       "\n",
       "      PAY_AMT4  PAY_AMT5  PAY_AMT6  Prom_monto  Prom_pago     dif_3     dif_4  \\\n",
       "3032  0.003274       0.0       0.0    0.035305   0.002779  0.507215  0.418327   \n",
       "\n",
       "         dif_5  Prom_pago/lim  Limit_edad  \n",
       "3032  0.318626       0.026997    0.030222  "
      ]
     },
     "execution_count": 44,
     "metadata": {},
     "output_type": "execute_result"
    }
   ],
   "source": [
    "## Qué columnas necesita el modelo?\n",
    "pd.DataFrame(X).sample()"
   ]
  },
  {
   "cell_type": "markdown",
   "metadata": {
    "ExecuteTime": {
     "end_time": "2020-11-03T16:26:17.671683Z",
     "start_time": "2020-11-03T16:26:17.599051Z"
    }
   },
   "source": [
    "Monto prom\n",
    "\n",
    "Agrupar PAY>=1\n",
    "\n",
    "Dummies para las categóricas\n",
    "\n",
    "Filtrar las mejores columnas\n",
    "\n",
    "Escalamiento"
   ]
  },
  {
   "cell_type": "markdown",
   "metadata": {},
   "source": [
    "### Ingeniería de variables"
   ]
  },
  {
   "cell_type": "code",
   "execution_count": 45,
   "metadata": {
    "ExecuteTime": {
     "end_time": "2020-11-06T17:57:28.141930Z",
     "start_time": "2020-11-06T17:57:28.077280Z"
    }
   },
   "outputs": [
    {
     "name": "stdout",
     "output_type": "stream",
     "text": [
      "<class 'pandas.core.frame.DataFrame'>\n",
      "RangeIndex: 1875 entries, 0 to 1874\n",
      "Data columns (total 26 columns):\n",
      " #   Column          Non-Null Count  Dtype  \n",
      "---  ------          --------------  -----  \n",
      " 0   LIMIT_BAL       1875 non-null   float64\n",
      " 1   AGE             1875 non-null   int64  \n",
      " 2   BILL_AMT1       1875 non-null   float64\n",
      " 3   BILL_AMT2       1875 non-null   float64\n",
      " 4   BILL_AMT3       1875 non-null   float64\n",
      " 5   BILL_AMT4       1875 non-null   float64\n",
      " 6   BILL_AMT5       1875 non-null   float64\n",
      " 7   BILL_AMT6       1875 non-null   float64\n",
      " 8   PAY_AMT2        1875 non-null   float64\n",
      " 9   PAY_AMT3        1875 non-null   float64\n",
      " 10  PAY_AMT4        1875 non-null   float64\n",
      " 11  PAY_AMT5        1875 non-null   float64\n",
      " 12  PAY_AMT6        1875 non-null   float64\n",
      " 13  Prom_monto      1875 non-null   float64\n",
      " 14  Prom_pago       1875 non-null   float64\n",
      " 15  dif_2           1875 non-null   float64\n",
      " 16  dif_3           1875 non-null   float64\n",
      " 17  dif_4           1875 non-null   float64\n",
      " 18  dif_5           1875 non-null   float64\n",
      " 19  Prom_monto/lim  1875 non-null   float64\n",
      " 20  Prom_pago/lim   1875 non-null   float64\n",
      " 21  dif_2/lim       1875 non-null   float64\n",
      " 22  dif_3/lim       1875 non-null   float64\n",
      " 23  dif_4/lim       1875 non-null   float64\n",
      " 24  dif_5/lim       1875 non-null   float64\n",
      " 25  Limit_edad      1875 non-null   float64\n",
      "dtypes: float64(25), int64(1)\n",
      "memory usage: 381.0 KB\n"
     ]
    }
   ],
   "source": [
    "## Promedio de todos los montos de pago\n",
    "val['Prom_monto'] = val[monto].mean(axis = 1)\n",
    "num += ['Prom_monto']\n",
    "\n",
    "## Promedio de todos los pagos de pago\n",
    "val['Prom_pago'] = val[pago].mean(axis = 1)\n",
    "num += ['Prom_pago']\n",
    "\n",
    "## Diferencia entre monto y pago \n",
    "## PAGO N ES DEL MONTO N+1 (anterior porque 1=sep, 2=ago, ..., 6=abril)\n",
    "dif = []\n",
    "for i in range(2,6):\n",
    "    val[f'dif_{i}'] =  val[f'BILL_AMT{i+1}'] - val[f'PAY_AMT{i}']\n",
    "    dif += [f'dif_{i}']\n",
    "num += dif\n",
    "\n",
    "val['Limit_edad'] = val['LIMIT_BAL'] / val['AGE']\n",
    "\n",
    "## Variables \"unitarias\", entre el límite de crédito por edad\n",
    "lim = []\n",
    "for x in num[-6:]:\n",
    "    val[f'{x}/lim'] = val[x] / val['Limit_edad']\n",
    "    lim += [f'{x}/lim']    \n",
    "num += lim + ['Limit_edad']\n",
    "\n",
    "val[num].info()"
   ]
  },
  {
   "cell_type": "code",
   "execution_count": 46,
   "metadata": {
    "ExecuteTime": {
     "end_time": "2020-11-06T17:57:28.367175Z",
     "start_time": "2020-11-06T17:57:28.146146Z"
    }
   },
   "outputs": [
    {
     "name": "stdout",
     "output_type": "stream",
     "text": [
      "<class 'pandas.core.frame.DataFrame'>\n",
      "RangeIndex: 1875 entries, 0 to 1874\n",
      "Data columns (total 8 columns):\n",
      " #   Column     Non-Null Count  Dtype \n",
      "---  ------     --------------  ----- \n",
      " 0   SEX        1875 non-null   object\n",
      " 1   EDUCATION  1875 non-null   object\n",
      " 2   MARRIAGE   1875 non-null   object\n",
      " 3   PAY_2      1875 non-null   object\n",
      " 4   PAY_3      1875 non-null   object\n",
      " 5   PAY_4      1875 non-null   object\n",
      " 6   PAY_5      1875 non-null   object\n",
      " 7   PAY_6      1875 non-null   object\n",
      "dtypes: object(8)\n",
      "memory usage: 117.3+ KB\n"
     ]
    }
   ],
   "source": [
    "for col in estatus:\n",
    "    aux = []\n",
    "    for i in range(len(val)):\n",
    "        if int(val[col][i]) >= 1:\n",
    "            aux.append('>=1')\n",
    "        else:\n",
    "            aux.append(val[col][i])\n",
    "    val[col] = aux\n",
    "    \n",
    "for col in cat[:3]:\n",
    "    val[col] = val[col].astype(int)\n",
    "    val[col] = val[col].astype(str)\n",
    "val[cat].info()"
   ]
  },
  {
   "cell_type": "markdown",
   "metadata": {},
   "source": [
    "### Reducción de dimensiones"
   ]
  },
  {
   "cell_type": "code",
   "execution_count": 47,
   "metadata": {
    "ExecuteTime": {
     "end_time": "2020-11-06T17:57:28.600386Z",
     "start_time": "2020-11-06T17:57:28.370404Z"
    }
   },
   "outputs": [
    {
     "data": {
      "text/html": [
       "<div>\n",
       "<style scoped>\n",
       "    .dataframe tbody tr th:only-of-type {\n",
       "        vertical-align: middle;\n",
       "    }\n",
       "\n",
       "    .dataframe tbody tr th {\n",
       "        vertical-align: top;\n",
       "    }\n",
       "\n",
       "    .dataframe thead th {\n",
       "        text-align: right;\n",
       "    }\n",
       "</style>\n",
       "<table border=\"1\" class=\"dataframe\">\n",
       "  <thead>\n",
       "    <tr style=\"text-align: right;\">\n",
       "      <th></th>\n",
       "      <th>MARRIAGE_3</th>\n",
       "      <th>PAY_2_-1</th>\n",
       "      <th>PAY_2_&gt;=1</th>\n",
       "      <th>LIMIT_BAL</th>\n",
       "      <th>BILL_AMT1</th>\n",
       "      <th>BILL_AMT2</th>\n",
       "      <th>BILL_AMT3</th>\n",
       "      <th>BILL_AMT4</th>\n",
       "      <th>BILL_AMT5</th>\n",
       "      <th>BILL_AMT6</th>\n",
       "      <th>PAY_AMT2</th>\n",
       "      <th>PAY_AMT3</th>\n",
       "      <th>PAY_AMT4</th>\n",
       "      <th>PAY_AMT5</th>\n",
       "      <th>PAY_AMT6</th>\n",
       "      <th>Prom_monto</th>\n",
       "      <th>Prom_pago</th>\n",
       "      <th>dif_3</th>\n",
       "      <th>dif_4</th>\n",
       "      <th>dif_5</th>\n",
       "      <th>Prom_pago/lim</th>\n",
       "      <th>Limit_edad</th>\n",
       "    </tr>\n",
       "  </thead>\n",
       "  <tbody>\n",
       "    <tr>\n",
       "      <th>count</th>\n",
       "      <td>1875.000000</td>\n",
       "      <td>1875.000000</td>\n",
       "      <td>1875.000000</td>\n",
       "      <td>1875.000000</td>\n",
       "      <td>1875.000000</td>\n",
       "      <td>1875.00000</td>\n",
       "      <td>1875.000000</td>\n",
       "      <td>1875.000000</td>\n",
       "      <td>1875.000000</td>\n",
       "      <td>1875.000000</td>\n",
       "      <td>1875.000000</td>\n",
       "      <td>1875.000000</td>\n",
       "      <td>1875.00000</td>\n",
       "      <td>1875.000000</td>\n",
       "      <td>1875.000000</td>\n",
       "      <td>1875.000000</td>\n",
       "      <td>1875.000000</td>\n",
       "      <td>1875.000000</td>\n",
       "      <td>1875.000000</td>\n",
       "      <td>1875.000000</td>\n",
       "      <td>1875.000000</td>\n",
       "      <td>1875.000000</td>\n",
       "    </tr>\n",
       "    <tr>\n",
       "      <th>mean</th>\n",
       "      <td>0.009067</td>\n",
       "      <td>0.211733</td>\n",
       "      <td>0.153600</td>\n",
       "      <td>167360.000000</td>\n",
       "      <td>51257.246933</td>\n",
       "      <td>48564.95200</td>\n",
       "      <td>45852.744533</td>\n",
       "      <td>42731.132267</td>\n",
       "      <td>40418.536533</td>\n",
       "      <td>38012.933333</td>\n",
       "      <td>5999.858133</td>\n",
       "      <td>5747.890133</td>\n",
       "      <td>5030.21600</td>\n",
       "      <td>4253.560000</td>\n",
       "      <td>5660.153067</td>\n",
       "      <td>44472.924267</td>\n",
       "      <td>5338.335467</td>\n",
       "      <td>36983.242133</td>\n",
       "      <td>35388.320533</td>\n",
       "      <td>33759.373333</td>\n",
       "      <td>1.341640</td>\n",
       "      <td>4823.938385</td>\n",
       "    </tr>\n",
       "    <tr>\n",
       "      <th>std</th>\n",
       "      <td>0.094812</td>\n",
       "      <td>0.408646</td>\n",
       "      <td>0.360661</td>\n",
       "      <td>128625.920928</td>\n",
       "      <td>76539.074734</td>\n",
       "      <td>73111.61181</td>\n",
       "      <td>70117.809952</td>\n",
       "      <td>64500.616218</td>\n",
       "      <td>62158.250263</td>\n",
       "      <td>59224.776891</td>\n",
       "      <td>18846.682706</td>\n",
       "      <td>18257.177701</td>\n",
       "      <td>16634.93738</td>\n",
       "      <td>11233.379263</td>\n",
       "      <td>21803.812308</td>\n",
       "      <td>64224.232116</td>\n",
       "      <td>9805.204498</td>\n",
       "      <td>61702.612671</td>\n",
       "      <td>58722.522571</td>\n",
       "      <td>56837.707946</td>\n",
       "      <td>2.028934</td>\n",
       "      <td>3728.964203</td>\n",
       "    </tr>\n",
       "    <tr>\n",
       "      <th>min</th>\n",
       "      <td>0.000000</td>\n",
       "      <td>0.000000</td>\n",
       "      <td>0.000000</td>\n",
       "      <td>10000.000000</td>\n",
       "      <td>-2225.000000</td>\n",
       "      <td>-26214.00000</td>\n",
       "      <td>-157264.000000</td>\n",
       "      <td>-3300.000000</td>\n",
       "      <td>-19205.000000</td>\n",
       "      <td>-11049.000000</td>\n",
       "      <td>0.000000</td>\n",
       "      <td>0.000000</td>\n",
       "      <td>0.00000</td>\n",
       "      <td>0.000000</td>\n",
       "      <td>0.000000</td>\n",
       "      <td>-1580.000000</td>\n",
       "      <td>0.000000</td>\n",
       "      <td>-165840.000000</td>\n",
       "      <td>-100390.000000</td>\n",
       "      <td>-100000.000000</td>\n",
       "      <td>0.000000</td>\n",
       "      <td>172.413793</td>\n",
       "    </tr>\n",
       "    <tr>\n",
       "      <th>25%</th>\n",
       "      <td>0.000000</td>\n",
       "      <td>0.000000</td>\n",
       "      <td>0.000000</td>\n",
       "      <td>50000.000000</td>\n",
       "      <td>2797.500000</td>\n",
       "      <td>2500.00000</td>\n",
       "      <td>2305.000000</td>\n",
       "      <td>1765.000000</td>\n",
       "      <td>1399.500000</td>\n",
       "      <td>846.500000</td>\n",
       "      <td>629.000000</td>\n",
       "      <td>390.000000</td>\n",
       "      <td>166.50000</td>\n",
       "      <td>3.500000</td>\n",
       "      <td>28.500000</td>\n",
       "      <td>3844.583333</td>\n",
       "      <td>932.500000</td>\n",
       "      <td>0.000000</td>\n",
       "      <td>0.000000</td>\n",
       "      <td>0.000000</td>\n",
       "      <td>0.310410</td>\n",
       "      <td>1777.777778</td>\n",
       "    </tr>\n",
       "    <tr>\n",
       "      <th>50%</th>\n",
       "      <td>0.000000</td>\n",
       "      <td>0.000000</td>\n",
       "      <td>0.000000</td>\n",
       "      <td>140000.000000</td>\n",
       "      <td>19891.000000</td>\n",
       "      <td>19639.00000</td>\n",
       "      <td>19057.000000</td>\n",
       "      <td>18391.000000</td>\n",
       "      <td>17154.000000</td>\n",
       "      <td>14974.000000</td>\n",
       "      <td>2002.000000</td>\n",
       "      <td>1612.000000</td>\n",
       "      <td>1473.00000</td>\n",
       "      <td>1367.000000</td>\n",
       "      <td>1495.000000</td>\n",
       "      <td>19475.500000</td>\n",
       "      <td>2097.000000</td>\n",
       "      <td>13343.000000</td>\n",
       "      <td>11660.000000</td>\n",
       "      <td>9800.000000</td>\n",
       "      <td>0.783640</td>\n",
       "      <td>4000.000000</td>\n",
       "    </tr>\n",
       "    <tr>\n",
       "      <th>75%</th>\n",
       "      <td>0.000000</td>\n",
       "      <td>0.000000</td>\n",
       "      <td>0.000000</td>\n",
       "      <td>240000.000000</td>\n",
       "      <td>63749.500000</td>\n",
       "      <td>60270.50000</td>\n",
       "      <td>56590.000000</td>\n",
       "      <td>50783.000000</td>\n",
       "      <td>49495.500000</td>\n",
       "      <td>47577.000000</td>\n",
       "      <td>5000.000000</td>\n",
       "      <td>4558.500000</td>\n",
       "      <td>4000.00000</td>\n",
       "      <td>3712.500000</td>\n",
       "      <td>4000.000000</td>\n",
       "      <td>54753.083333</td>\n",
       "      <td>5400.000000</td>\n",
       "      <td>46161.000000</td>\n",
       "      <td>44923.500000</td>\n",
       "      <td>43807.500000</td>\n",
       "      <td>1.410095</td>\n",
       "      <td>6881.944444</td>\n",
       "    </tr>\n",
       "    <tr>\n",
       "      <th>max</th>\n",
       "      <td>1.000000</td>\n",
       "      <td>1.000000</td>\n",
       "      <td>1.000000</td>\n",
       "      <td>610000.000000</td>\n",
       "      <td>608594.000000</td>\n",
       "      <td>624475.00000</td>\n",
       "      <td>632041.000000</td>\n",
       "      <td>516575.000000</td>\n",
       "      <td>454845.000000</td>\n",
       "      <td>456596.000000</td>\n",
       "      <td>344261.000000</td>\n",
       "      <td>332809.000000</td>\n",
       "      <td>256662.00000</td>\n",
       "      <td>133841.000000</td>\n",
       "      <td>443001.000000</td>\n",
       "      <td>548854.333333</td>\n",
       "      <td>103771.200000</td>\n",
       "      <td>499354.000000</td>\n",
       "      <td>439545.000000</td>\n",
       "      <td>440596.000000</td>\n",
       "      <td>23.349430</td>\n",
       "      <td>18518.518519</td>\n",
       "    </tr>\n",
       "  </tbody>\n",
       "</table>\n",
       "</div>"
      ],
      "text/plain": [
       "        MARRIAGE_3     PAY_2_-1    PAY_2_>=1      LIMIT_BAL      BILL_AMT1  \\\n",
       "count  1875.000000  1875.000000  1875.000000    1875.000000    1875.000000   \n",
       "mean      0.009067     0.211733     0.153600  167360.000000   51257.246933   \n",
       "std       0.094812     0.408646     0.360661  128625.920928   76539.074734   \n",
       "min       0.000000     0.000000     0.000000   10000.000000   -2225.000000   \n",
       "25%       0.000000     0.000000     0.000000   50000.000000    2797.500000   \n",
       "50%       0.000000     0.000000     0.000000  140000.000000   19891.000000   \n",
       "75%       0.000000     0.000000     0.000000  240000.000000   63749.500000   \n",
       "max       1.000000     1.000000     1.000000  610000.000000  608594.000000   \n",
       "\n",
       "          BILL_AMT2      BILL_AMT3      BILL_AMT4      BILL_AMT5  \\\n",
       "count    1875.00000    1875.000000    1875.000000    1875.000000   \n",
       "mean    48564.95200   45852.744533   42731.132267   40418.536533   \n",
       "std     73111.61181   70117.809952   64500.616218   62158.250263   \n",
       "min    -26214.00000 -157264.000000   -3300.000000  -19205.000000   \n",
       "25%      2500.00000    2305.000000    1765.000000    1399.500000   \n",
       "50%     19639.00000   19057.000000   18391.000000   17154.000000   \n",
       "75%     60270.50000   56590.000000   50783.000000   49495.500000   \n",
       "max    624475.00000  632041.000000  516575.000000  454845.000000   \n",
       "\n",
       "           BILL_AMT6       PAY_AMT2       PAY_AMT3      PAY_AMT4  \\\n",
       "count    1875.000000    1875.000000    1875.000000    1875.00000   \n",
       "mean    38012.933333    5999.858133    5747.890133    5030.21600   \n",
       "std     59224.776891   18846.682706   18257.177701   16634.93738   \n",
       "min    -11049.000000       0.000000       0.000000       0.00000   \n",
       "25%       846.500000     629.000000     390.000000     166.50000   \n",
       "50%     14974.000000    2002.000000    1612.000000    1473.00000   \n",
       "75%     47577.000000    5000.000000    4558.500000    4000.00000   \n",
       "max    456596.000000  344261.000000  332809.000000  256662.00000   \n",
       "\n",
       "            PAY_AMT5       PAY_AMT6     Prom_monto      Prom_pago  \\\n",
       "count    1875.000000    1875.000000    1875.000000    1875.000000   \n",
       "mean     4253.560000    5660.153067   44472.924267    5338.335467   \n",
       "std     11233.379263   21803.812308   64224.232116    9805.204498   \n",
       "min         0.000000       0.000000   -1580.000000       0.000000   \n",
       "25%         3.500000      28.500000    3844.583333     932.500000   \n",
       "50%      1367.000000    1495.000000   19475.500000    2097.000000   \n",
       "75%      3712.500000    4000.000000   54753.083333    5400.000000   \n",
       "max    133841.000000  443001.000000  548854.333333  103771.200000   \n",
       "\n",
       "               dif_3          dif_4          dif_5  Prom_pago/lim  \\\n",
       "count    1875.000000    1875.000000    1875.000000    1875.000000   \n",
       "mean    36983.242133   35388.320533   33759.373333       1.341640   \n",
       "std     61702.612671   58722.522571   56837.707946       2.028934   \n",
       "min   -165840.000000 -100390.000000 -100000.000000       0.000000   \n",
       "25%         0.000000       0.000000       0.000000       0.310410   \n",
       "50%     13343.000000   11660.000000    9800.000000       0.783640   \n",
       "75%     46161.000000   44923.500000   43807.500000       1.410095   \n",
       "max    499354.000000  439545.000000  440596.000000      23.349430   \n",
       "\n",
       "         Limit_edad  \n",
       "count   1875.000000  \n",
       "mean    4823.938385  \n",
       "std     3728.964203  \n",
       "min      172.413793  \n",
       "25%     1777.777778  \n",
       "50%     4000.000000  \n",
       "75%     6881.944444  \n",
       "max    18518.518519  "
      ]
     },
     "execution_count": 47,
     "metadata": {},
     "output_type": "execute_result"
    }
   ],
   "source": [
    "modelo = pd.get_dummies(val[cat]).join(val[num])[ls_best]\n",
    "modelo.describe()"
   ]
  },
  {
   "cell_type": "markdown",
   "metadata": {},
   "source": [
    "### Escalamiento"
   ]
  },
  {
   "cell_type": "code",
   "execution_count": 48,
   "metadata": {
    "ExecuteTime": {
     "end_time": "2020-11-06T17:57:28.795738Z",
     "start_time": "2020-11-06T17:57:28.603367Z"
    }
   },
   "outputs": [
    {
     "data": {
      "text/html": [
       "<div>\n",
       "<style scoped>\n",
       "    .dataframe tbody tr th:only-of-type {\n",
       "        vertical-align: middle;\n",
       "    }\n",
       "\n",
       "    .dataframe tbody tr th {\n",
       "        vertical-align: top;\n",
       "    }\n",
       "\n",
       "    .dataframe thead th {\n",
       "        text-align: right;\n",
       "    }\n",
       "</style>\n",
       "<table border=\"1\" class=\"dataframe\">\n",
       "  <thead>\n",
       "    <tr style=\"text-align: right;\">\n",
       "      <th></th>\n",
       "      <th>MARRIAGE_3</th>\n",
       "      <th>PAY_2_-1</th>\n",
       "      <th>PAY_2_&gt;=1</th>\n",
       "      <th>LIMIT_BAL</th>\n",
       "      <th>BILL_AMT1</th>\n",
       "      <th>BILL_AMT2</th>\n",
       "      <th>BILL_AMT3</th>\n",
       "      <th>BILL_AMT4</th>\n",
       "      <th>BILL_AMT5</th>\n",
       "      <th>BILL_AMT6</th>\n",
       "      <th>PAY_AMT2</th>\n",
       "      <th>PAY_AMT3</th>\n",
       "      <th>PAY_AMT4</th>\n",
       "      <th>PAY_AMT5</th>\n",
       "      <th>PAY_AMT6</th>\n",
       "      <th>Prom_monto</th>\n",
       "      <th>Prom_pago</th>\n",
       "      <th>dif_3</th>\n",
       "      <th>dif_4</th>\n",
       "      <th>dif_5</th>\n",
       "      <th>Prom_pago/lim</th>\n",
       "      <th>Limit_edad</th>\n",
       "    </tr>\n",
       "  </thead>\n",
       "  <tbody>\n",
       "    <tr>\n",
       "      <th>count</th>\n",
       "      <td>1875.000000</td>\n",
       "      <td>1875.000000</td>\n",
       "      <td>1875.000000</td>\n",
       "      <td>1875.000000</td>\n",
       "      <td>1875.000000</td>\n",
       "      <td>1875.000000</td>\n",
       "      <td>1875.000000</td>\n",
       "      <td>1875.000000</td>\n",
       "      <td>1875.000000</td>\n",
       "      <td>1875.000000</td>\n",
       "      <td>1875.000000</td>\n",
       "      <td>1875.000000</td>\n",
       "      <td>1875.000000</td>\n",
       "      <td>1875.000000</td>\n",
       "      <td>1875.000000</td>\n",
       "      <td>1875.000000</td>\n",
       "      <td>1875.000000</td>\n",
       "      <td>1875.000000</td>\n",
       "      <td>1875.000000</td>\n",
       "      <td>1875.000000</td>\n",
       "      <td>1875.000000</td>\n",
       "      <td>1875.000000</td>\n",
       "    </tr>\n",
       "    <tr>\n",
       "      <th>mean</th>\n",
       "      <td>0.009067</td>\n",
       "      <td>0.211733</td>\n",
       "      <td>0.153600</td>\n",
       "      <td>0.199190</td>\n",
       "      <td>0.091145</td>\n",
       "      <td>0.111986</td>\n",
       "      <td>0.062215</td>\n",
       "      <td>0.104178</td>\n",
       "      <td>0.137282</td>\n",
       "      <td>0.111230</td>\n",
       "      <td>0.003562</td>\n",
       "      <td>0.006465</td>\n",
       "      <td>0.008100</td>\n",
       "      <td>0.011215</td>\n",
       "      <td>0.013413</td>\n",
       "      <td>0.089883</td>\n",
       "      <td>0.009234</td>\n",
       "      <td>0.529491</td>\n",
       "      <td>0.448222</td>\n",
       "      <td>0.365394</td>\n",
       "      <td>0.018787</td>\n",
       "      <td>0.215339</td>\n",
       "    </tr>\n",
       "    <tr>\n",
       "      <th>std</th>\n",
       "      <td>0.094812</td>\n",
       "      <td>0.408646</td>\n",
       "      <td>0.360661</td>\n",
       "      <td>0.162818</td>\n",
       "      <td>0.115591</td>\n",
       "      <td>0.104212</td>\n",
       "      <td>0.040634</td>\n",
       "      <td>0.087002</td>\n",
       "      <td>0.109382</td>\n",
       "      <td>0.111074</td>\n",
       "      <td>0.011190</td>\n",
       "      <td>0.020536</td>\n",
       "      <td>0.026787</td>\n",
       "      <td>0.029619</td>\n",
       "      <td>0.051668</td>\n",
       "      <td>0.111973</td>\n",
       "      <td>0.016961</td>\n",
       "      <td>0.045370</td>\n",
       "      <td>0.067324</td>\n",
       "      <td>0.078739</td>\n",
       "      <td>0.028411</td>\n",
       "      <td>0.172979</td>\n",
       "    </tr>\n",
       "    <tr>\n",
       "      <th>min</th>\n",
       "      <td>0.000000</td>\n",
       "      <td>0.000000</td>\n",
       "      <td>0.000000</td>\n",
       "      <td>0.000000</td>\n",
       "      <td>0.010375</td>\n",
       "      <td>0.005397</td>\n",
       "      <td>-0.055493</td>\n",
       "      <td>0.042088</td>\n",
       "      <td>0.032360</td>\n",
       "      <td>0.019216</td>\n",
       "      <td>0.000000</td>\n",
       "      <td>0.000000</td>\n",
       "      <td>0.000000</td>\n",
       "      <td>0.000000</td>\n",
       "      <td>0.000000</td>\n",
       "      <td>0.009591</td>\n",
       "      <td>0.000000</td>\n",
       "      <td>0.380354</td>\n",
       "      <td>0.292556</td>\n",
       "      <td>0.180093</td>\n",
       "      <td>0.000000</td>\n",
       "      <td>-0.000436</td>\n",
       "    </tr>\n",
       "    <tr>\n",
       "      <th>25%</th>\n",
       "      <td>0.000000</td>\n",
       "      <td>0.000000</td>\n",
       "      <td>0.000000</td>\n",
       "      <td>0.050633</td>\n",
       "      <td>0.017960</td>\n",
       "      <td>0.046325</td>\n",
       "      <td>0.036979</td>\n",
       "      <td>0.048920</td>\n",
       "      <td>0.068618</td>\n",
       "      <td>0.041526</td>\n",
       "      <td>0.000373</td>\n",
       "      <td>0.000439</td>\n",
       "      <td>0.000268</td>\n",
       "      <td>0.000009</td>\n",
       "      <td>0.000068</td>\n",
       "      <td>0.019049</td>\n",
       "      <td>0.001613</td>\n",
       "      <td>0.502297</td>\n",
       "      <td>0.407650</td>\n",
       "      <td>0.318626</td>\n",
       "      <td>0.004347</td>\n",
       "      <td>0.074033</td>\n",
       "    </tr>\n",
       "    <tr>\n",
       "      <th>50%</th>\n",
       "      <td>0.000000</td>\n",
       "      <td>0.000000</td>\n",
       "      <td>0.000000</td>\n",
       "      <td>0.164557</td>\n",
       "      <td>0.043775</td>\n",
       "      <td>0.070755</td>\n",
       "      <td>0.046687</td>\n",
       "      <td>0.071347</td>\n",
       "      <td>0.096342</td>\n",
       "      <td>0.068021</td>\n",
       "      <td>0.001189</td>\n",
       "      <td>0.001813</td>\n",
       "      <td>0.002372</td>\n",
       "      <td>0.003604</td>\n",
       "      <td>0.003543</td>\n",
       "      <td>0.046301</td>\n",
       "      <td>0.003627</td>\n",
       "      <td>0.512108</td>\n",
       "      <td>0.421018</td>\n",
       "      <td>0.332202</td>\n",
       "      <td>0.010973</td>\n",
       "      <td>0.177118</td>\n",
       "    </tr>\n",
       "    <tr>\n",
       "      <th>75%</th>\n",
       "      <td>0.000000</td>\n",
       "      <td>0.000000</td>\n",
       "      <td>0.000000</td>\n",
       "      <td>0.291139</td>\n",
       "      <td>0.110011</td>\n",
       "      <td>0.128671</td>\n",
       "      <td>0.068438</td>\n",
       "      <td>0.115039</td>\n",
       "      <td>0.153255</td>\n",
       "      <td>0.129167</td>\n",
       "      <td>0.002969</td>\n",
       "      <td>0.005127</td>\n",
       "      <td>0.006441</td>\n",
       "      <td>0.009789</td>\n",
       "      <td>0.009479</td>\n",
       "      <td>0.107806</td>\n",
       "      <td>0.009341</td>\n",
       "      <td>0.536240</td>\n",
       "      <td>0.459153</td>\n",
       "      <td>0.379314</td>\n",
       "      <td>0.019746</td>\n",
       "      <td>0.310805</td>\n",
       "    </tr>\n",
       "    <tr>\n",
       "      <th>max</th>\n",
       "      <td>1.000000</td>\n",
       "      <td>1.000000</td>\n",
       "      <td>1.000000</td>\n",
       "      <td>0.759494</td>\n",
       "      <td>0.932844</td>\n",
       "      <td>0.932881</td>\n",
       "      <td>0.401918</td>\n",
       "      <td>0.743327</td>\n",
       "      <td>0.866564</td>\n",
       "      <td>0.896270</td>\n",
       "      <td>0.204399</td>\n",
       "      <td>0.374345</td>\n",
       "      <td>0.413304</td>\n",
       "      <td>0.352894</td>\n",
       "      <td>1.049765</td>\n",
       "      <td>0.969259</td>\n",
       "      <td>0.179503</td>\n",
       "      <td>0.869476</td>\n",
       "      <td>0.911576</td>\n",
       "      <td>0.928998</td>\n",
       "      <td>0.326965</td>\n",
       "      <td>0.850602</td>\n",
       "    </tr>\n",
       "  </tbody>\n",
       "</table>\n",
       "</div>"
      ],
      "text/plain": [
       "        MARRIAGE_3     PAY_2_-1    PAY_2_>=1    LIMIT_BAL    BILL_AMT1  \\\n",
       "count  1875.000000  1875.000000  1875.000000  1875.000000  1875.000000   \n",
       "mean      0.009067     0.211733     0.153600     0.199190     0.091145   \n",
       "std       0.094812     0.408646     0.360661     0.162818     0.115591   \n",
       "min       0.000000     0.000000     0.000000     0.000000     0.010375   \n",
       "25%       0.000000     0.000000     0.000000     0.050633     0.017960   \n",
       "50%       0.000000     0.000000     0.000000     0.164557     0.043775   \n",
       "75%       0.000000     0.000000     0.000000     0.291139     0.110011   \n",
       "max       1.000000     1.000000     1.000000     0.759494     0.932844   \n",
       "\n",
       "         BILL_AMT2    BILL_AMT3    BILL_AMT4    BILL_AMT5    BILL_AMT6  \\\n",
       "count  1875.000000  1875.000000  1875.000000  1875.000000  1875.000000   \n",
       "mean      0.111986     0.062215     0.104178     0.137282     0.111230   \n",
       "std       0.104212     0.040634     0.087002     0.109382     0.111074   \n",
       "min       0.005397    -0.055493     0.042088     0.032360     0.019216   \n",
       "25%       0.046325     0.036979     0.048920     0.068618     0.041526   \n",
       "50%       0.070755     0.046687     0.071347     0.096342     0.068021   \n",
       "75%       0.128671     0.068438     0.115039     0.153255     0.129167   \n",
       "max       0.932881     0.401918     0.743327     0.866564     0.896270   \n",
       "\n",
       "          PAY_AMT2     PAY_AMT3     PAY_AMT4     PAY_AMT5     PAY_AMT6  \\\n",
       "count  1875.000000  1875.000000  1875.000000  1875.000000  1875.000000   \n",
       "mean      0.003562     0.006465     0.008100     0.011215     0.013413   \n",
       "std       0.011190     0.020536     0.026787     0.029619     0.051668   \n",
       "min       0.000000     0.000000     0.000000     0.000000     0.000000   \n",
       "25%       0.000373     0.000439     0.000268     0.000009     0.000068   \n",
       "50%       0.001189     0.001813     0.002372     0.003604     0.003543   \n",
       "75%       0.002969     0.005127     0.006441     0.009789     0.009479   \n",
       "max       0.204399     0.374345     0.413304     0.352894     1.049765   \n",
       "\n",
       "        Prom_monto    Prom_pago        dif_3        dif_4        dif_5  \\\n",
       "count  1875.000000  1875.000000  1875.000000  1875.000000  1875.000000   \n",
       "mean      0.089883     0.009234     0.529491     0.448222     0.365394   \n",
       "std       0.111973     0.016961     0.045370     0.067324     0.078739   \n",
       "min       0.009591     0.000000     0.380354     0.292556     0.180093   \n",
       "25%       0.019049     0.001613     0.502297     0.407650     0.318626   \n",
       "50%       0.046301     0.003627     0.512108     0.421018     0.332202   \n",
       "75%       0.107806     0.009341     0.536240     0.459153     0.379314   \n",
       "max       0.969259     0.179503     0.869476     0.911576     0.928998   \n",
       "\n",
       "       Prom_pago/lim   Limit_edad  \n",
       "count    1875.000000  1875.000000  \n",
       "mean        0.018787     0.215339  \n",
       "std         0.028411     0.172979  \n",
       "min         0.000000    -0.000436  \n",
       "25%         0.004347     0.074033  \n",
       "50%         0.010973     0.177118  \n",
       "75%         0.019746     0.310805  \n",
       "max         0.326965     0.850602  "
      ]
     },
     "execution_count": 48,
     "metadata": {},
     "output_type": "execute_result"
    }
   ],
   "source": [
    "modelo = pd.DataFrame(mm_x.transform(modelo), columns = modelo.columns)\n",
    "modelo.describe()"
   ]
  },
  {
   "cell_type": "markdown",
   "metadata": {},
   "source": [
    "### Predicción"
   ]
  },
  {
   "cell_type": "code",
   "execution_count": 49,
   "metadata": {
    "ExecuteTime": {
     "end_time": "2020-11-06T17:57:28.888344Z",
     "start_time": "2020-11-06T17:57:28.798802Z"
    }
   },
   "outputs": [
    {
     "data": {
      "text/plain": [
       "count      1875.000000\n",
       "mean       5983.474263\n",
       "std       14151.965361\n",
       "min     -106628.682024\n",
       "25%         824.212860\n",
       "50%        3581.205873\n",
       "75%        7455.836655\n",
       "max      209669.885827\n",
       "Name: y_hat, dtype: float64"
      ]
     },
     "execution_count": 49,
     "metadata": {},
     "output_type": "execute_result"
    }
   ],
   "source": [
    "resultado = pd.DataFrame(elasnet_h.predict(modelo))\n",
    "resultado = pd.DataFrame(mm_y.inverse_transform(resultado),\n",
    "                         columns = ['y_hat'])\n",
    "resultado = pd.DataFrame(val['CUSTOMER_ID']).join(resultado)\n",
    "resultado['y_hat'].describe()"
   ]
  },
  {
   "cell_type": "code",
   "execution_count": 50,
   "metadata": {
    "ExecuteTime": {
     "end_time": "2020-11-06T17:57:28.962229Z",
     "start_time": "2020-11-06T17:57:28.910489Z"
    }
   },
   "outputs": [
    {
     "data": {
      "text/plain": [
       "(count      5611.000000\n",
       " mean       5699.859918\n",
       " std       19628.754505\n",
       " min           0.000000\n",
       " 25%        1000.000000\n",
       " 50%        2100.000000\n",
       " 75%        5003.500000\n",
       " max      873552.000000\n",
       " Name: PAY_AMT1, dtype: float64,\n",
       "             PAY_AMT1\n",
       " count    1123.000000\n",
       " mean     5011.809439\n",
       " std     13172.384753\n",
       " min         0.000000\n",
       " 25%      1000.000000\n",
       " 50%      2017.000000\n",
       " 75%      5000.000000\n",
       " max    298887.000000)"
      ]
     },
     "execution_count": 50,
     "metadata": {},
     "output_type": "execute_result"
    }
   ],
   "source": [
    "df['PAY_AMT1'].describe() , pd.DataFrame(y_test).describe()"
   ]
  },
  {
   "cell_type": "code",
   "execution_count": 51,
   "metadata": {
    "ExecuteTime": {
     "end_time": "2020-11-06T17:57:29.049332Z",
     "start_time": "2020-11-06T17:57:28.977187Z"
    }
   },
   "outputs": [
    {
     "data": {
      "text/plain": [
       "(count      1875.000000\n",
       " mean       5983.474263\n",
       " std       14151.965361\n",
       " min     -106628.682024\n",
       " 25%         824.212860\n",
       " 50%        3581.205873\n",
       " 75%        7455.836655\n",
       " max      209669.885827\n",
       " Name: y_hat, dtype: float64,\n",
       "                    0\n",
       " count    1123.000000\n",
       " mean     5591.768586\n",
       " std      8501.720587\n",
       " min    -26354.591662\n",
       " 25%       773.852924\n",
       " 50%      3829.183536\n",
       " 75%      7918.181428\n",
       " max    113025.379083)"
      ]
     },
     "execution_count": 51,
     "metadata": {},
     "output_type": "execute_result"
    }
   ],
   "source": [
    "resultado['y_hat'].describe() , pd.DataFrame(mm_y.inverse_transform(ridge.predict(X_test_mm))).describe()"
   ]
  },
  {
   "cell_type": "code",
   "execution_count": 52,
   "metadata": {
    "ExecuteTime": {
     "end_time": "2020-11-06T17:57:29.124221Z",
     "start_time": "2020-11-06T17:57:29.062580Z"
    }
   },
   "outputs": [
    {
     "data": {
      "text/plain": [
       "count      1875.000000\n",
       "mean       6802.589993\n",
       "std       12662.266932\n",
       "min           0.000000\n",
       "25%         824.212860\n",
       "50%        3581.205873\n",
       "75%        7455.836655\n",
       "max      209669.885827\n",
       "Name: y_hat, dtype: float64"
      ]
     },
     "execution_count": 52,
     "metadata": {},
     "output_type": "execute_result"
    }
   ],
   "source": [
    "## Hay predicciones negativas, se omiten\n",
    "aux = []\n",
    "for x in resultado['y_hat']:\n",
    "    if x < 0:\n",
    "        aux.append(0)\n",
    "    else:\n",
    "        aux.append(x)\n",
    "\n",
    "resultado['y_hat'] = aux\n",
    "resultado['y_hat'].describe()"
   ]
  },
  {
   "cell_type": "code",
   "execution_count": 53,
   "metadata": {
    "ExecuteTime": {
     "end_time": "2020-11-06T17:57:29.181675Z",
     "start_time": "2020-11-06T17:57:29.133053Z"
    }
   },
   "outputs": [],
   "source": [
    "resultado.to_csv(liga + 'FloresHernandezEfrainIsmael_PAYAMT1_v2.csv',\n",
    "                 index = False)"
   ]
  }
 ],
 "metadata": {
  "kernelspec": {
   "display_name": "Python 3",
   "language": "python",
   "name": "python3"
  },
  "language_info": {
   "codemirror_mode": {
    "name": "ipython",
    "version": 3
   },
   "file_extension": ".py",
   "mimetype": "text/x-python",
   "name": "python",
   "nbconvert_exporter": "python",
   "pygments_lexer": "ipython3",
   "version": "3.8.5"
  },
  "toc": {
   "base_numbering": 1,
   "nav_menu": {},
   "number_sections": true,
   "sideBar": true,
   "skip_h1_title": true,
   "title_cell": "Table of Contents",
   "title_sidebar": "Contents",
   "toc_cell": false,
   "toc_position": {
    "height": "calc(100% - 180px)",
    "left": "10px",
    "top": "150px",
    "width": "203.542px"
   },
   "toc_section_display": true,
   "toc_window_display": true
  },
  "varInspector": {
   "cols": {
    "lenName": 16,
    "lenType": 16,
    "lenVar": 40
   },
   "kernels_config": {
    "python": {
     "delete_cmd_postfix": "",
     "delete_cmd_prefix": "del ",
     "library": "var_list.py",
     "varRefreshCmd": "print(var_dic_list())"
    },
    "r": {
     "delete_cmd_postfix": ") ",
     "delete_cmd_prefix": "rm(",
     "library": "var_list.r",
     "varRefreshCmd": "cat(var_dic_list()) "
    }
   },
   "types_to_exclude": [
    "module",
    "function",
    "builtin_function_or_method",
    "instance",
    "_Feature"
   ],
   "window_display": false
  }
 },
 "nbformat": 4,
 "nbformat_minor": 4
}
