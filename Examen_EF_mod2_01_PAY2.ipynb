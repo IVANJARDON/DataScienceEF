{
 "cells": [
  {
   "cell_type": "markdown",
   "metadata": {},
   "source": [
    "# EXAMEN 1 MOD2 REGRESIÓN LINEAL"
   ]
  },
  {
   "cell_type": "markdown",
   "metadata": {},
   "source": [
    "## Importar"
   ]
  },
  {
   "cell_type": "code",
   "execution_count": 1,
   "metadata": {
    "ExecuteTime": {
     "end_time": "2020-11-11T15:42:59.378557Z",
     "start_time": "2020-11-11T15:42:58.945182Z"
    }
   },
   "outputs": [],
   "source": [
    "# %load basic\n",
    "import pandas as pd\n",
    "import numpy as np\n",
    "import matplotlib.pyplot as plt\n",
    "pd.set_option('display.max_columns',200)"
   ]
  },
  {
   "cell_type": "code",
   "execution_count": 2,
   "metadata": {
    "ExecuteTime": {
     "end_time": "2020-11-11T15:42:59.416272Z",
     "start_time": "2020-11-11T15:42:59.380764Z"
    }
   },
   "outputs": [
    {
     "data": {
      "text/plain": [
       "{'encoding': 'ascii', 'confidence': 1.0, 'language': ''}"
      ]
     },
     "execution_count": 2,
     "metadata": {},
     "output_type": "execute_result"
    }
   ],
   "source": [
    "## Conocer encoding de csv\n",
    "liga = '/home/ef/Documents/Diplomado/EXAMEN02/'\n",
    "import chardet\n",
    "with open(liga + 'train_PAY_AMT2.csv', 'rb') as rawdata:\n",
    "    result = chardet.detect(rawdata.read(10000))\n",
    "result"
   ]
  },
  {
   "cell_type": "code",
   "execution_count": 3,
   "metadata": {
    "ExecuteTime": {
     "end_time": "2020-11-11T15:42:59.462315Z",
     "start_time": "2020-11-11T15:42:59.419334Z"
    }
   },
   "outputs": [
    {
     "data": {
      "text/html": [
       "<div>\n",
       "<style scoped>\n",
       "    .dataframe tbody tr th:only-of-type {\n",
       "        vertical-align: middle;\n",
       "    }\n",
       "\n",
       "    .dataframe tbody tr th {\n",
       "        vertical-align: top;\n",
       "    }\n",
       "\n",
       "    .dataframe thead th {\n",
       "        text-align: right;\n",
       "    }\n",
       "</style>\n",
       "<table border=\"1\" class=\"dataframe\">\n",
       "  <thead>\n",
       "    <tr style=\"text-align: right;\">\n",
       "      <th></th>\n",
       "      <th>CUSTOMER_ID</th>\n",
       "      <th>LIMIT_BAL</th>\n",
       "      <th>SEX</th>\n",
       "      <th>EDUCATION</th>\n",
       "      <th>MARRIAGE</th>\n",
       "      <th>AGE</th>\n",
       "      <th>PAY_3</th>\n",
       "      <th>PAY_4</th>\n",
       "      <th>PAY_5</th>\n",
       "      <th>PAY_6</th>\n",
       "      <th>BILL_AMT2</th>\n",
       "      <th>BILL_AMT3</th>\n",
       "      <th>BILL_AMT4</th>\n",
       "      <th>BILL_AMT5</th>\n",
       "      <th>BILL_AMT6</th>\n",
       "      <th>PAY_AMT2</th>\n",
       "      <th>PAY_AMT3</th>\n",
       "      <th>PAY_AMT4</th>\n",
       "      <th>PAY_AMT5</th>\n",
       "      <th>PAY_AMT6</th>\n",
       "    </tr>\n",
       "  </thead>\n",
       "  <tbody>\n",
       "    <tr>\n",
       "      <th>1470</th>\n",
       "      <td>6743</td>\n",
       "      <td>300000.0</td>\n",
       "      <td>2</td>\n",
       "      <td>1</td>\n",
       "      <td>2</td>\n",
       "      <td>38</td>\n",
       "      <td>2</td>\n",
       "      <td>0</td>\n",
       "      <td>0</td>\n",
       "      <td>-1</td>\n",
       "      <td>9692.0</td>\n",
       "      <td>3772.0</td>\n",
       "      <td>1919.0</td>\n",
       "      <td>316.0</td>\n",
       "      <td>2360.0</td>\n",
       "      <td>3.0</td>\n",
       "      <td>0.0</td>\n",
       "      <td>0.0</td>\n",
       "      <td>2360.0</td>\n",
       "      <td>0.0</td>\n",
       "    </tr>\n",
       "    <tr>\n",
       "      <th>2118</th>\n",
       "      <td>7726</td>\n",
       "      <td>190000.0</td>\n",
       "      <td>2</td>\n",
       "      <td>1</td>\n",
       "      <td>1</td>\n",
       "      <td>30</td>\n",
       "      <td>-1</td>\n",
       "      <td>-1</td>\n",
       "      <td>-1</td>\n",
       "      <td>-1</td>\n",
       "      <td>500.0</td>\n",
       "      <td>0.0</td>\n",
       "      <td>19000.0</td>\n",
       "      <td>19000.0</td>\n",
       "      <td>19000.0</td>\n",
       "      <td>0.0</td>\n",
       "      <td>19000.0</td>\n",
       "      <td>19000.0</td>\n",
       "      <td>19000.0</td>\n",
       "      <td>19000.0</td>\n",
       "    </tr>\n",
       "    <tr>\n",
       "      <th>3535</th>\n",
       "      <td>3550</td>\n",
       "      <td>150000.0</td>\n",
       "      <td>1</td>\n",
       "      <td>1</td>\n",
       "      <td>2</td>\n",
       "      <td>35</td>\n",
       "      <td>0</td>\n",
       "      <td>0</td>\n",
       "      <td>0</td>\n",
       "      <td>0</td>\n",
       "      <td>147471.0</td>\n",
       "      <td>151713.0</td>\n",
       "      <td>130107.0</td>\n",
       "      <td>78623.0</td>\n",
       "      <td>79743.0</td>\n",
       "      <td>20000.0</td>\n",
       "      <td>5000.0</td>\n",
       "      <td>2000.0</td>\n",
       "      <td>7000.0</td>\n",
       "      <td>15000.0</td>\n",
       "    </tr>\n",
       "    <tr>\n",
       "      <th>539</th>\n",
       "      <td>20073</td>\n",
       "      <td>50000.0</td>\n",
       "      <td>1</td>\n",
       "      <td>2</td>\n",
       "      <td>2</td>\n",
       "      <td>29</td>\n",
       "      <td>-2</td>\n",
       "      <td>-2</td>\n",
       "      <td>-2</td>\n",
       "      <td>-2</td>\n",
       "      <td>0.0</td>\n",
       "      <td>0.0</td>\n",
       "      <td>0.0</td>\n",
       "      <td>0.0</td>\n",
       "      <td>0.0</td>\n",
       "      <td>0.0</td>\n",
       "      <td>0.0</td>\n",
       "      <td>1500.0</td>\n",
       "      <td>0.0</td>\n",
       "      <td>0.0</td>\n",
       "    </tr>\n",
       "  </tbody>\n",
       "</table>\n",
       "</div>"
      ],
      "text/plain": [
       "      CUSTOMER_ID  LIMIT_BAL  SEX  EDUCATION  MARRIAGE  AGE  PAY_3  PAY_4  \\\n",
       "1470         6743   300000.0    2          1         2   38      2      0   \n",
       "2118         7726   190000.0    2          1         1   30     -1     -1   \n",
       "3535         3550   150000.0    1          1         2   35      0      0   \n",
       "539         20073    50000.0    1          2         2   29     -2     -2   \n",
       "\n",
       "      PAY_5  PAY_6  BILL_AMT2  BILL_AMT3  BILL_AMT4  BILL_AMT5  BILL_AMT6  \\\n",
       "1470      0     -1     9692.0     3772.0     1919.0      316.0     2360.0   \n",
       "2118     -1     -1      500.0        0.0    19000.0    19000.0    19000.0   \n",
       "3535      0      0   147471.0   151713.0   130107.0    78623.0    79743.0   \n",
       "539      -2     -2        0.0        0.0        0.0        0.0        0.0   \n",
       "\n",
       "      PAY_AMT2  PAY_AMT3  PAY_AMT4  PAY_AMT5  PAY_AMT6  \n",
       "1470       3.0       0.0       0.0    2360.0       0.0  \n",
       "2118       0.0   19000.0   19000.0   19000.0   19000.0  \n",
       "3535   20000.0    5000.0    2000.0    7000.0   15000.0  \n",
       "539        0.0       0.0    1500.0       0.0       0.0  "
      ]
     },
     "execution_count": 3,
     "metadata": {},
     "output_type": "execute_result"
    }
   ],
   "source": [
    "df = pd.read_csv(liga + 'train_PAY_AMT2.csv',\n",
    "                 encoding = 'ascii',\n",
    "                 sep = '|',\n",
    "                 low_memory = False)\n",
    "df.sample(4)"
   ]
  },
  {
   "cell_type": "code",
   "execution_count": 4,
   "metadata": {
    "ExecuteTime": {
     "end_time": "2020-11-11T15:42:59.478868Z",
     "start_time": "2020-11-11T15:42:59.464604Z"
    }
   },
   "outputs": [
    {
     "name": "stdout",
     "output_type": "stream",
     "text": [
      "<class 'pandas.core.frame.DataFrame'>\n",
      "RangeIndex: 5625 entries, 0 to 5624\n",
      "Data columns (total 19 columns):\n",
      " #   Column     Non-Null Count  Dtype  \n",
      "---  ------     --------------  -----  \n",
      " 0   LIMIT_BAL  5625 non-null   float64\n",
      " 1   SEX        5625 non-null   int64  \n",
      " 2   EDUCATION  5625 non-null   int64  \n",
      " 3   MARRIAGE   5625 non-null   int64  \n",
      " 4   AGE        5625 non-null   int64  \n",
      " 5   PAY_3      5625 non-null   int64  \n",
      " 6   PAY_4      5625 non-null   int64  \n",
      " 7   PAY_5      5625 non-null   int64  \n",
      " 8   PAY_6      5625 non-null   int64  \n",
      " 9   BILL_AMT2  5625 non-null   float64\n",
      " 10  BILL_AMT3  5625 non-null   float64\n",
      " 11  BILL_AMT4  5625 non-null   float64\n",
      " 12  BILL_AMT5  5625 non-null   float64\n",
      " 13  BILL_AMT6  5625 non-null   float64\n",
      " 14  PAY_AMT2   5625 non-null   float64\n",
      " 15  PAY_AMT3   5625 non-null   float64\n",
      " 16  PAY_AMT4   5625 non-null   float64\n",
      " 17  PAY_AMT5   5625 non-null   float64\n",
      " 18  PAY_AMT6   5625 non-null   float64\n",
      "dtypes: float64(11), int64(8)\n",
      "memory usage: 835.1 KB\n"
     ]
    }
   ],
   "source": [
    "dim_antes = len(df)\n",
    "df = df.iloc[:,1:].copy()\n",
    "df.info()"
   ]
  },
  {
   "cell_type": "code",
   "execution_count": 5,
   "metadata": {
    "ExecuteTime": {
     "end_time": "2020-11-11T15:42:59.527076Z",
     "start_time": "2020-11-11T15:42:59.483043Z"
    }
   },
   "outputs": [
    {
     "name": "stdout",
     "output_type": "stream",
     "text": [
      "<class 'pandas.core.frame.DataFrame'>\n",
      "RangeIndex: 5625 entries, 0 to 5624\n",
      "Data columns (total 7 columns):\n",
      " #   Column     Non-Null Count  Dtype \n",
      "---  ------     --------------  ----- \n",
      " 0   SEX        5625 non-null   object\n",
      " 1   EDUCATION  5625 non-null   object\n",
      " 2   MARRIAGE   5625 non-null   object\n",
      " 3   PAY_3      5625 non-null   object\n",
      " 4   PAY_4      5625 non-null   object\n",
      " 5   PAY_5      5625 non-null   object\n",
      " 6   PAY_6      5625 non-null   object\n",
      "dtypes: object(7)\n",
      "memory usage: 307.7+ KB\n"
     ]
    }
   ],
   "source": [
    "cat = list(df.columns[1:9])\n",
    "cat = [x for x in cat if x not in ['AGE']]\n",
    "for col in cat:\n",
    "    df[col] = df[col].astype(str)\n",
    "df[cat].info()"
   ]
  },
  {
   "cell_type": "code",
   "execution_count": 6,
   "metadata": {
    "ExecuteTime": {
     "end_time": "2020-11-11T15:42:59.544749Z",
     "start_time": "2020-11-11T15:42:59.534761Z"
    }
   },
   "outputs": [
    {
     "name": "stdout",
     "output_type": "stream",
     "text": [
      "<class 'pandas.core.frame.DataFrame'>\n",
      "RangeIndex: 5625 entries, 0 to 5624\n",
      "Data columns (total 12 columns):\n",
      " #   Column     Non-Null Count  Dtype  \n",
      "---  ------     --------------  -----  \n",
      " 0   LIMIT_BAL  5625 non-null   float64\n",
      " 1   AGE        5625 non-null   int64  \n",
      " 2   BILL_AMT2  5625 non-null   float64\n",
      " 3   BILL_AMT3  5625 non-null   float64\n",
      " 4   BILL_AMT4  5625 non-null   float64\n",
      " 5   BILL_AMT5  5625 non-null   float64\n",
      " 6   BILL_AMT6  5625 non-null   float64\n",
      " 7   PAY_AMT2   5625 non-null   float64\n",
      " 8   PAY_AMT3   5625 non-null   float64\n",
      " 9   PAY_AMT4   5625 non-null   float64\n",
      " 10  PAY_AMT5   5625 non-null   float64\n",
      " 11  PAY_AMT6   5625 non-null   float64\n",
      "dtypes: float64(11), int64(1)\n",
      "memory usage: 527.5 KB\n"
     ]
    }
   ],
   "source": [
    "num = [col for col in df.columns if col not in cat]\n",
    "df[num].info()"
   ]
  },
  {
   "cell_type": "code",
   "execution_count": 7,
   "metadata": {
    "ExecuteTime": {
     "end_time": "2020-11-11T15:42:59.555357Z",
     "start_time": "2020-11-11T15:42:59.546884Z"
    }
   },
   "outputs": [],
   "source": [
    "pay = [col for col in df.columns if col.startswith('PAY')]\n",
    "pago = [x for x in pay if x.startswith('PAY_AMT')]\n",
    "estatus = [x for x in pay if x not in pago]\n",
    "monto = [col for col in df.columns if col.startswith('BILL')]"
   ]
  },
  {
   "cell_type": "markdown",
   "metadata": {},
   "source": [
    "## Análisis exploratorio"
   ]
  },
  {
   "cell_type": "markdown",
   "metadata": {},
   "source": [
    "### Categóricas"
   ]
  },
  {
   "cell_type": "code",
   "execution_count": 8,
   "metadata": {
    "ExecuteTime": {
     "end_time": "2020-11-11T15:42:59.586683Z",
     "start_time": "2020-11-11T15:42:59.563448Z"
    }
   },
   "outputs": [
    {
     "data": {
      "text/plain": [
       "SEX          0.000000\n",
       "EDUCATION    0.011378\n",
       "MARRIAGE     0.002311\n",
       "PAY_3        0.000000\n",
       "PAY_4        0.000000\n",
       "PAY_5        0.000000\n",
       "PAY_6        0.000000\n",
       "dtype: float64"
      ]
     },
     "execution_count": 8,
     "metadata": {},
     "output_type": "execute_result"
    }
   ],
   "source": [
    "## Reemplazar por NaN\n",
    "dict_replace = {'0':np.nan,\n",
    "                '5':np.nan,\n",
    "                '6':np.nan}\n",
    "df['EDUCATION'] = df['EDUCATION'].replace(dict_replace).copy()\n",
    "\n",
    "df['MARRIAGE'] = df['MARRIAGE'].replace(dict_replace).copy()\n",
    "\n",
    "df[cat].isnull().sum() / len(df)"
   ]
  },
  {
   "cell_type": "code",
   "execution_count": 9,
   "metadata": {
    "ExecuteTime": {
     "end_time": "2020-11-11T15:42:59.613108Z",
     "start_time": "2020-11-11T15:42:59.589073Z"
    }
   },
   "outputs": [
    {
     "data": {
      "text/plain": [
       "0.9863111111111111"
      ]
     },
     "execution_count": 9,
     "metadata": {},
     "output_type": "execute_result"
    }
   ],
   "source": [
    "## Se omiten ausentes\n",
    "df.dropna(inplace = True)\n",
    "len(df) / dim_antes"
   ]
  },
  {
   "cell_type": "markdown",
   "metadata": {},
   "source": [
    "### Numéricas"
   ]
  },
  {
   "cell_type": "code",
   "execution_count": 10,
   "metadata": {
    "ExecuteTime": {
     "end_time": "2020-11-11T15:43:00.917721Z",
     "start_time": "2020-11-11T15:42:59.614973Z"
    }
   },
   "outputs": [
    {
     "data": {
      "text/plain": [
       "array([[<AxesSubplot:title={'center':'LIMIT_BAL'}>,\n",
       "        <AxesSubplot:title={'center':'AGE'}>,\n",
       "        <AxesSubplot:title={'center':'BILL_AMT2'}>],\n",
       "       [<AxesSubplot:title={'center':'BILL_AMT3'}>,\n",
       "        <AxesSubplot:title={'center':'BILL_AMT4'}>,\n",
       "        <AxesSubplot:title={'center':'BILL_AMT5'}>],\n",
       "       [<AxesSubplot:title={'center':'BILL_AMT6'}>,\n",
       "        <AxesSubplot:title={'center':'PAY_AMT2'}>,\n",
       "        <AxesSubplot:title={'center':'PAY_AMT3'}>],\n",
       "       [<AxesSubplot:title={'center':'PAY_AMT4'}>,\n",
       "        <AxesSubplot:title={'center':'PAY_AMT5'}>,\n",
       "        <AxesSubplot:title={'center':'PAY_AMT6'}>]], dtype=object)"
      ]
     },
     "execution_count": 10,
     "metadata": {},
     "output_type": "execute_result"
    },
    {
     "data": {
      "image/png": "[encoded data removed]",
      "text/plain": [
       "<Figure size 432x288 with 12 Axes>"
      ]
     },
     "metadata": {
      "needs_background": "light"
     },
     "output_type": "display_data"
    }
   ],
   "source": [
    "df[num].hist()"
   ]
  },
  {
   "cell_type": "code",
   "execution_count": 11,
   "metadata": {
    "ExecuteTime": {
     "end_time": "2020-11-11T15:43:00.923546Z",
     "start_time": "2020-11-11T15:43:00.919696Z"
    }
   },
   "outputs": [
    {
     "data": {
      "text/plain": [
       "0.9863111111111111"
      ]
     },
     "execution_count": 11,
     "metadata": {},
     "output_type": "execute_result"
    }
   ],
   "source": [
    "len(df) / dim_antes"
   ]
  },
  {
   "cell_type": "markdown",
   "metadata": {},
   "source": [
    "## Ingeniería de variables"
   ]
  },
  {
   "cell_type": "markdown",
   "metadata": {},
   "source": [
    "### Numéricas"
   ]
  },
  {
   "cell_type": "code",
   "execution_count": 12,
   "metadata": {
    "ExecuteTime": {
     "end_time": "2020-11-11T15:43:01.048808Z",
     "start_time": "2020-11-11T15:43:00.925475Z"
    }
   },
   "outputs": [
    {
     "data": {
      "text/plain": [
       "count      5548.000000\n",
       "mean      42943.969683\n",
       "std       61971.960571\n",
       "min       -6062.800000\n",
       "25%        3950.950000\n",
       "50%       19244.000000\n",
       "75%       53883.400000\n",
       "max      549171.000000\n",
       "Name: Prom_monto, dtype: float64"
      ]
     },
     "execution_count": 12,
     "metadata": {},
     "output_type": "execute_result"
    }
   ],
   "source": [
    "## Promedio de todos los montos de pago\n",
    "df['Prom_monto'] = df[monto].mean(axis = 1)\n",
    "num += ['Prom_monto']\n",
    "df['Prom_monto'].describe()"
   ]
  },
  {
   "cell_type": "code",
   "execution_count": 13,
   "metadata": {
    "ExecuteTime": {
     "end_time": "2020-11-11T15:43:01.060414Z",
     "start_time": "2020-11-11T15:43:01.053503Z"
    }
   },
   "outputs": [
    {
     "data": {
      "text/plain": [
       "(5548, 20)"
      ]
     },
     "execution_count": 13,
     "metadata": {},
     "output_type": "execute_result"
    }
   ],
   "source": [
    "## Dimensión hasta ahora\n",
    "df.shape"
   ]
  },
  {
   "cell_type": "code",
   "execution_count": 14,
   "metadata": {
    "ExecuteTime": {
     "end_time": "2020-11-11T15:43:01.070397Z",
     "start_time": "2020-11-11T15:43:01.065264Z"
    }
   },
   "outputs": [],
   "source": [
    "df.reset_index(drop = True, inplace = True)"
   ]
  },
  {
   "cell_type": "markdown",
   "metadata": {},
   "source": [
    "### Categóricas"
   ]
  },
  {
   "cell_type": "code",
   "execution_count": 15,
   "metadata": {
    "ExecuteTime": {
     "end_time": "2020-11-11T15:43:01.436461Z",
     "start_time": "2020-11-11T15:43:01.072755Z"
    }
   },
   "outputs": [
    {
     "data": {
      "text/html": [
       "<div>\n",
       "<style scoped>\n",
       "    .dataframe tbody tr th:only-of-type {\n",
       "        vertical-align: middle;\n",
       "    }\n",
       "\n",
       "    .dataframe tbody tr th {\n",
       "        vertical-align: top;\n",
       "    }\n",
       "\n",
       "    .dataframe thead th {\n",
       "        text-align: right;\n",
       "    }\n",
       "</style>\n",
       "<table border=\"1\" class=\"dataframe\">\n",
       "  <thead>\n",
       "    <tr style=\"text-align: right;\">\n",
       "      <th></th>\n",
       "      <th>index</th>\n",
       "      <th>PAY_3</th>\n",
       "    </tr>\n",
       "  </thead>\n",
       "  <tbody>\n",
       "    <tr>\n",
       "      <th>1</th>\n",
       "      <td>-1</td>\n",
       "      <td>0.204218</td>\n",
       "    </tr>\n",
       "    <tr>\n",
       "      <th>3</th>\n",
       "      <td>-2</td>\n",
       "      <td>0.136806</td>\n",
       "    </tr>\n",
       "    <tr>\n",
       "      <th>0</th>\n",
       "      <td>0</td>\n",
       "      <td>0.521810</td>\n",
       "    </tr>\n",
       "    <tr>\n",
       "      <th>2</th>\n",
       "      <td>&gt;=1</td>\n",
       "      <td>0.137167</td>\n",
       "    </tr>\n",
       "  </tbody>\n",
       "</table>\n",
       "</div>"
      ],
      "text/plain": [
       "  index     PAY_3\n",
       "1    -1  0.204218\n",
       "3    -2  0.136806\n",
       "0     0  0.521810\n",
       "2   >=1  0.137167"
      ]
     },
     "metadata": {},
     "output_type": "display_data"
    },
    {
     "data": {
      "text/html": [
       "<div>\n",
       "<style scoped>\n",
       "    .dataframe tbody tr th:only-of-type {\n",
       "        vertical-align: middle;\n",
       "    }\n",
       "\n",
       "    .dataframe tbody tr th {\n",
       "        vertical-align: top;\n",
       "    }\n",
       "\n",
       "    .dataframe thead th {\n",
       "        text-align: right;\n",
       "    }\n",
       "</style>\n",
       "<table border=\"1\" class=\"dataframe\">\n",
       "  <thead>\n",
       "    <tr style=\"text-align: right;\">\n",
       "      <th></th>\n",
       "      <th>index</th>\n",
       "      <th>PAY_4</th>\n",
       "    </tr>\n",
       "  </thead>\n",
       "  <tbody>\n",
       "    <tr>\n",
       "      <th>1</th>\n",
       "      <td>-1</td>\n",
       "      <td>0.193403</td>\n",
       "    </tr>\n",
       "    <tr>\n",
       "      <th>2</th>\n",
       "      <td>-2</td>\n",
       "      <td>0.145097</td>\n",
       "    </tr>\n",
       "    <tr>\n",
       "      <th>0</th>\n",
       "      <td>0</td>\n",
       "      <td>0.548666</td>\n",
       "    </tr>\n",
       "    <tr>\n",
       "      <th>3</th>\n",
       "      <td>&gt;=1</td>\n",
       "      <td>0.112833</td>\n",
       "    </tr>\n",
       "  </tbody>\n",
       "</table>\n",
       "</div>"
      ],
      "text/plain": [
       "  index     PAY_4\n",
       "1    -1  0.193403\n",
       "2    -2  0.145097\n",
       "0     0  0.548666\n",
       "3   >=1  0.112833"
      ]
     },
     "metadata": {},
     "output_type": "display_data"
    },
    {
     "data": {
      "text/html": [
       "<div>\n",
       "<style scoped>\n",
       "    .dataframe tbody tr th:only-of-type {\n",
       "        vertical-align: middle;\n",
       "    }\n",
       "\n",
       "    .dataframe tbody tr th {\n",
       "        vertical-align: top;\n",
       "    }\n",
       "\n",
       "    .dataframe thead th {\n",
       "        text-align: right;\n",
       "    }\n",
       "</style>\n",
       "<table border=\"1\" class=\"dataframe\">\n",
       "  <thead>\n",
       "    <tr style=\"text-align: right;\">\n",
       "      <th></th>\n",
       "      <th>index</th>\n",
       "      <th>PAY_5</th>\n",
       "    </tr>\n",
       "  </thead>\n",
       "  <tbody>\n",
       "    <tr>\n",
       "      <th>1</th>\n",
       "      <td>-1</td>\n",
       "      <td>0.185833</td>\n",
       "    </tr>\n",
       "    <tr>\n",
       "      <th>2</th>\n",
       "      <td>-2</td>\n",
       "      <td>0.151406</td>\n",
       "    </tr>\n",
       "    <tr>\n",
       "      <th>0</th>\n",
       "      <td>0</td>\n",
       "      <td>0.570476</td>\n",
       "    </tr>\n",
       "    <tr>\n",
       "      <th>3</th>\n",
       "      <td>&gt;=1</td>\n",
       "      <td>0.092286</td>\n",
       "    </tr>\n",
       "  </tbody>\n",
       "</table>\n",
       "</div>"
      ],
      "text/plain": [
       "  index     PAY_5\n",
       "1    -1  0.185833\n",
       "2    -2  0.151406\n",
       "0     0  0.570476\n",
       "3   >=1  0.092286"
      ]
     },
     "metadata": {},
     "output_type": "display_data"
    },
    {
     "data": {
      "text/html": [
       "<div>\n",
       "<style scoped>\n",
       "    .dataframe tbody tr th:only-of-type {\n",
       "        vertical-align: middle;\n",
       "    }\n",
       "\n",
       "    .dataframe tbody tr th {\n",
       "        vertical-align: top;\n",
       "    }\n",
       "\n",
       "    .dataframe thead th {\n",
       "        text-align: right;\n",
       "    }\n",
       "</style>\n",
       "<table border=\"1\" class=\"dataframe\">\n",
       "  <thead>\n",
       "    <tr style=\"text-align: right;\">\n",
       "      <th></th>\n",
       "      <th>index</th>\n",
       "      <th>PAY_6</th>\n",
       "    </tr>\n",
       "  </thead>\n",
       "  <tbody>\n",
       "    <tr>\n",
       "      <th>1</th>\n",
       "      <td>-1</td>\n",
       "      <td>0.193583</td>\n",
       "    </tr>\n",
       "    <tr>\n",
       "      <th>2</th>\n",
       "      <td>-2</td>\n",
       "      <td>0.165285</td>\n",
       "    </tr>\n",
       "    <tr>\n",
       "      <th>0</th>\n",
       "      <td>0</td>\n",
       "      <td>0.535508</td>\n",
       "    </tr>\n",
       "    <tr>\n",
       "      <th>3</th>\n",
       "      <td>&gt;=1</td>\n",
       "      <td>0.105624</td>\n",
       "    </tr>\n",
       "  </tbody>\n",
       "</table>\n",
       "</div>"
      ],
      "text/plain": [
       "  index     PAY_6\n",
       "1    -1  0.193583\n",
       "2    -2  0.165285\n",
       "0     0  0.535508\n",
       "3   >=1  0.105624"
      ]
     },
     "metadata": {},
     "output_type": "display_data"
    }
   ],
   "source": [
    "for col in estatus:\n",
    "    aux = []\n",
    "    for i in range(len(df)):\n",
    "        if int(df[col][i]) >= 1:\n",
    "            aux.append('>=1')\n",
    "        else:\n",
    "            aux.append(df[col][i])\n",
    "    df[col] = aux\n",
    "\n",
    "for col in estatus:\n",
    "    display(df[col].value_counts(1).reset_index().sort_values(by = 'index'))"
   ]
  },
  {
   "cell_type": "code",
   "execution_count": 16,
   "metadata": {
    "ExecuteTime": {
     "end_time": "2020-11-11T15:43:01.460162Z",
     "start_time": "2020-11-11T15:43:01.441498Z"
    }
   },
   "outputs": [
    {
     "data": {
      "text/plain": [
       "[]"
      ]
     },
     "execution_count": 16,
     "metadata": {},
     "output_type": "execute_result"
    }
   ],
   "source": [
    "[x for x in df.columns if x not in cat + num]"
   ]
  },
  {
   "cell_type": "code",
   "execution_count": 17,
   "metadata": {
    "ExecuteTime": {
     "end_time": "2020-11-11T15:43:01.482741Z",
     "start_time": "2020-11-11T15:43:01.468728Z"
    }
   },
   "outputs": [
    {
     "data": {
      "text/plain": [
       "['PAY_AMT2']"
      ]
     },
     "execution_count": 17,
     "metadata": {},
     "output_type": "execute_result"
    }
   ],
   "source": [
    "## Se define la variable objetivo\n",
    "tgt = ['PAY_AMT2']\n",
    "num = [x for x in num if x not in tgt]\n",
    "[x for x in df.columns if x not in cat + num]"
   ]
  },
  {
   "cell_type": "code",
   "execution_count": 18,
   "metadata": {
    "ExecuteTime": {
     "end_time": "2020-11-11T15:43:01.527290Z",
     "start_time": "2020-11-11T15:43:01.484372Z"
    }
   },
   "outputs": [
    {
     "name": "stdout",
     "output_type": "stream",
     "text": [
      "<class 'pandas.core.frame.DataFrame'>\n",
      "RangeIndex: 5548 entries, 0 to 5547\n",
      "Data columns (total 7 columns):\n",
      " #   Column     Non-Null Count  Dtype \n",
      "---  ------     --------------  ----- \n",
      " 0   SEX        5548 non-null   object\n",
      " 1   EDUCATION  5548 non-null   object\n",
      " 2   MARRIAGE   5548 non-null   object\n",
      " 3   PAY_3      5548 non-null   object\n",
      " 4   PAY_4      5548 non-null   object\n",
      " 5   PAY_5      5548 non-null   object\n",
      " 6   PAY_6      5548 non-null   object\n",
      "dtypes: object(7)\n",
      "memory usage: 303.5+ KB\n"
     ]
    }
   ],
   "source": [
    "for col in cat[:3]:\n",
    "    df[col] = df[col].astype(int)\n",
    "    df[col] = df[col].astype(str)\n",
    "df[cat].info()"
   ]
  },
  {
   "cell_type": "markdown",
   "metadata": {},
   "source": [
    "## Modelaje"
   ]
  },
  {
   "cell_type": "code",
   "execution_count": 19,
   "metadata": {
    "ExecuteTime": {
     "end_time": "2020-11-11T15:43:01.587194Z",
     "start_time": "2020-11-11T15:43:01.530569Z"
    }
   },
   "outputs": [
    {
     "data": {
      "text/html": [
       "<div>\n",
       "<style scoped>\n",
       "    .dataframe tbody tr th:only-of-type {\n",
       "        vertical-align: middle;\n",
       "    }\n",
       "\n",
       "    .dataframe tbody tr th {\n",
       "        vertical-align: top;\n",
       "    }\n",
       "\n",
       "    .dataframe thead th {\n",
       "        text-align: right;\n",
       "    }\n",
       "</style>\n",
       "<table border=\"1\" class=\"dataframe\">\n",
       "  <thead>\n",
       "    <tr style=\"text-align: right;\">\n",
       "      <th></th>\n",
       "      <th>PAY_AMT2</th>\n",
       "    </tr>\n",
       "  </thead>\n",
       "  <tbody>\n",
       "    <tr>\n",
       "      <th>count</th>\n",
       "      <td>5.548000e+03</td>\n",
       "    </tr>\n",
       "    <tr>\n",
       "      <th>mean</th>\n",
       "      <td>6.037457e+03</td>\n",
       "    </tr>\n",
       "    <tr>\n",
       "      <th>std</th>\n",
       "      <td>2.883987e+04</td>\n",
       "    </tr>\n",
       "    <tr>\n",
       "      <th>min</th>\n",
       "      <td>0.000000e+00</td>\n",
       "    </tr>\n",
       "    <tr>\n",
       "      <th>25%</th>\n",
       "      <td>8.382500e+02</td>\n",
       "    </tr>\n",
       "    <tr>\n",
       "      <th>50%</th>\n",
       "      <td>2.000000e+03</td>\n",
       "    </tr>\n",
       "    <tr>\n",
       "      <th>75%</th>\n",
       "      <td>5.000000e+03</td>\n",
       "    </tr>\n",
       "    <tr>\n",
       "      <th>max</th>\n",
       "      <td>1.684259e+06</td>\n",
       "    </tr>\n",
       "  </tbody>\n",
       "</table>\n",
       "</div>"
      ],
      "text/plain": [
       "           PAY_AMT2\n",
       "count  5.548000e+03\n",
       "mean   6.037457e+03\n",
       "std    2.883987e+04\n",
       "min    0.000000e+00\n",
       "25%    8.382500e+02\n",
       "50%    2.000000e+03\n",
       "75%    5.000000e+03\n",
       "max    1.684259e+06"
      ]
     },
     "execution_count": 19,
     "metadata": {},
     "output_type": "execute_result"
    }
   ],
   "source": [
    "X = pd.get_dummies(df[cat]).join(df[num])\n",
    "y = df[tgt]\n",
    "y.describe()"
   ]
  },
  {
   "cell_type": "code",
   "execution_count": 20,
   "metadata": {
    "ExecuteTime": {
     "end_time": "2020-11-11T15:43:01.593970Z",
     "start_time": "2020-11-11T15:43:01.589153Z"
    }
   },
   "outputs": [
    {
     "data": {
      "text/plain": [
       "(5548, 37)"
      ]
     },
     "execution_count": 20,
     "metadata": {},
     "output_type": "execute_result"
    }
   ],
   "source": [
    "X.shape"
   ]
  },
  {
   "cell_type": "markdown",
   "metadata": {},
   "source": [
    "### Reducción de dimensiones"
   ]
  },
  {
   "cell_type": "code",
   "execution_count": 21,
   "metadata": {
    "ExecuteTime": {
     "end_time": "2020-11-11T15:43:02.124532Z",
     "start_time": "2020-11-11T15:43:01.596631Z"
    }
   },
   "outputs": [
    {
     "name": "stderr",
     "output_type": "stream",
     "text": [
      "/home/ef/Desktop/diplomadus/diplomadus/lib/python3.8/site-packages/sklearn/utils/validation.py:72: DataConversionWarning: A column-vector y was passed when a 1d array was expected. Please change the shape of y to (n_samples, ), for example using ravel().\n",
      "  return f(**kwargs)\n"
     ]
    },
    {
     "data": {
      "text/html": [
       "<div>\n",
       "<style scoped>\n",
       "    .dataframe tbody tr th:only-of-type {\n",
       "        vertical-align: middle;\n",
       "    }\n",
       "\n",
       "    .dataframe tbody tr th {\n",
       "        vertical-align: top;\n",
       "    }\n",
       "\n",
       "    .dataframe thead th {\n",
       "        text-align: right;\n",
       "    }\n",
       "</style>\n",
       "<table border=\"1\" class=\"dataframe\">\n",
       "  <thead>\n",
       "    <tr style=\"text-align: right;\">\n",
       "      <th></th>\n",
       "      <th>PAY_3_-1</th>\n",
       "      <th>PAY_3_-2</th>\n",
       "      <th>PAY_3_&gt;=1</th>\n",
       "      <th>PAY_4_-2</th>\n",
       "      <th>PAY_6_-1</th>\n",
       "      <th>PAY_6_-2</th>\n",
       "      <th>LIMIT_BAL</th>\n",
       "      <th>BILL_AMT2</th>\n",
       "      <th>BILL_AMT3</th>\n",
       "      <th>BILL_AMT4</th>\n",
       "      <th>BILL_AMT5</th>\n",
       "      <th>BILL_AMT6</th>\n",
       "      <th>PAY_AMT3</th>\n",
       "      <th>PAY_AMT4</th>\n",
       "      <th>PAY_AMT5</th>\n",
       "      <th>PAY_AMT6</th>\n",
       "      <th>Prom_monto</th>\n",
       "    </tr>\n",
       "  </thead>\n",
       "  <tbody>\n",
       "    <tr>\n",
       "      <th>count</th>\n",
       "      <td>5548.000000</td>\n",
       "      <td>5548.000000</td>\n",
       "      <td>5548.000000</td>\n",
       "      <td>5548.000000</td>\n",
       "      <td>5548.000000</td>\n",
       "      <td>5548.000000</td>\n",
       "      <td>5548.000000</td>\n",
       "      <td>5548.000000</td>\n",
       "      <td>5.548000e+03</td>\n",
       "      <td>5548.000000</td>\n",
       "      <td>5548.000000</td>\n",
       "      <td>5548.000000</td>\n",
       "      <td>5548.000000</td>\n",
       "      <td>5548.000000</td>\n",
       "      <td>5548.000000</td>\n",
       "      <td>5548.000000</td>\n",
       "      <td>5548.000000</td>\n",
       "    </tr>\n",
       "    <tr>\n",
       "      <th>mean</th>\n",
       "      <td>0.204218</td>\n",
       "      <td>0.136806</td>\n",
       "      <td>0.137167</td>\n",
       "      <td>0.145097</td>\n",
       "      <td>0.193583</td>\n",
       "      <td>0.165285</td>\n",
       "      <td>167375.212689</td>\n",
       "      <td>47918.177902</td>\n",
       "      <td>4.615743e+04</td>\n",
       "      <td>42665.237203</td>\n",
       "      <td>39790.690699</td>\n",
       "      <td>38188.312004</td>\n",
       "      <td>5353.723864</td>\n",
       "      <td>4681.533706</td>\n",
       "      <td>4470.328947</td>\n",
       "      <td>5137.254867</td>\n",
       "      <td>42943.969683</td>\n",
       "    </tr>\n",
       "    <tr>\n",
       "      <th>std</th>\n",
       "      <td>0.403165</td>\n",
       "      <td>0.343673</td>\n",
       "      <td>0.344054</td>\n",
       "      <td>0.352231</td>\n",
       "      <td>0.395142</td>\n",
       "      <td>0.371471</td>\n",
       "      <td>128407.926685</td>\n",
       "      <td>70712.961009</td>\n",
       "      <td>7.172108e+04</td>\n",
       "      <td>64015.210194</td>\n",
       "      <td>60452.296073</td>\n",
       "      <td>58355.392517</td>\n",
       "      <td>16583.627506</td>\n",
       "      <td>13709.514886</td>\n",
       "      <td>14013.198579</td>\n",
       "      <td>18100.822002</td>\n",
       "      <td>61971.960571</td>\n",
       "    </tr>\n",
       "    <tr>\n",
       "      <th>min</th>\n",
       "      <td>0.000000</td>\n",
       "      <td>0.000000</td>\n",
       "      <td>0.000000</td>\n",
       "      <td>0.000000</td>\n",
       "      <td>0.000000</td>\n",
       "      <td>0.000000</td>\n",
       "      <td>10000.000000</td>\n",
       "      <td>-30000.000000</td>\n",
       "      <td>-1.572640e+05</td>\n",
       "      <td>-34503.000000</td>\n",
       "      <td>-19205.000000</td>\n",
       "      <td>-14433.000000</td>\n",
       "      <td>0.000000</td>\n",
       "      <td>0.000000</td>\n",
       "      <td>0.000000</td>\n",
       "      <td>0.000000</td>\n",
       "      <td>-6062.800000</td>\n",
       "    </tr>\n",
       "    <tr>\n",
       "      <th>25%</th>\n",
       "      <td>0.000000</td>\n",
       "      <td>0.000000</td>\n",
       "      <td>0.000000</td>\n",
       "      <td>0.000000</td>\n",
       "      <td>0.000000</td>\n",
       "      <td>0.000000</td>\n",
       "      <td>50000.000000</td>\n",
       "      <td>2667.750000</td>\n",
       "      <td>2.500000e+03</td>\n",
       "      <td>2243.000000</td>\n",
       "      <td>1700.000000</td>\n",
       "      <td>1159.000000</td>\n",
       "      <td>390.000000</td>\n",
       "      <td>300.000000</td>\n",
       "      <td>159.250000</td>\n",
       "      <td>117.750000</td>\n",
       "      <td>3950.950000</td>\n",
       "    </tr>\n",
       "    <tr>\n",
       "      <th>50%</th>\n",
       "      <td>0.000000</td>\n",
       "      <td>0.000000</td>\n",
       "      <td>0.000000</td>\n",
       "      <td>0.000000</td>\n",
       "      <td>0.000000</td>\n",
       "      <td>0.000000</td>\n",
       "      <td>140000.000000</td>\n",
       "      <td>20054.500000</td>\n",
       "      <td>1.928750e+04</td>\n",
       "      <td>18615.000000</td>\n",
       "      <td>17134.500000</td>\n",
       "      <td>15881.000000</td>\n",
       "      <td>1776.500000</td>\n",
       "      <td>1500.000000</td>\n",
       "      <td>1500.000000</td>\n",
       "      <td>1500.000000</td>\n",
       "      <td>19244.000000</td>\n",
       "    </tr>\n",
       "    <tr>\n",
       "      <th>75%</th>\n",
       "      <td>0.000000</td>\n",
       "      <td>0.000000</td>\n",
       "      <td>0.000000</td>\n",
       "      <td>0.000000</td>\n",
       "      <td>0.000000</td>\n",
       "      <td>0.000000</td>\n",
       "      <td>240000.000000</td>\n",
       "      <td>61351.750000</td>\n",
       "      <td>5.830075e+04</td>\n",
       "      <td>53072.250000</td>\n",
       "      <td>50009.500000</td>\n",
       "      <td>48743.000000</td>\n",
       "      <td>4688.500000</td>\n",
       "      <td>4000.000000</td>\n",
       "      <td>4000.000000</td>\n",
       "      <td>4000.000000</td>\n",
       "      <td>53883.400000</td>\n",
       "    </tr>\n",
       "    <tr>\n",
       "      <th>max</th>\n",
       "      <td>1.000000</td>\n",
       "      <td>1.000000</td>\n",
       "      <td>1.000000</td>\n",
       "      <td>1.000000</td>\n",
       "      <td>1.000000</td>\n",
       "      <td>1.000000</td>\n",
       "      <td>800000.000000</td>\n",
       "      <td>671563.000000</td>\n",
       "      <td>1.664089e+06</td>\n",
       "      <td>706864.000000</td>\n",
       "      <td>530672.000000</td>\n",
       "      <td>511905.000000</td>\n",
       "      <td>397092.000000</td>\n",
       "      <td>256662.000000</td>\n",
       "      <td>379267.000000</td>\n",
       "      <td>443001.000000</td>\n",
       "      <td>549171.000000</td>\n",
       "    </tr>\n",
       "  </tbody>\n",
       "</table>\n",
       "</div>"
      ],
      "text/plain": [
       "          PAY_3_-1     PAY_3_-2    PAY_3_>=1     PAY_4_-2     PAY_6_-1  \\\n",
       "count  5548.000000  5548.000000  5548.000000  5548.000000  5548.000000   \n",
       "mean      0.204218     0.136806     0.137167     0.145097     0.193583   \n",
       "std       0.403165     0.343673     0.344054     0.352231     0.395142   \n",
       "min       0.000000     0.000000     0.000000     0.000000     0.000000   \n",
       "25%       0.000000     0.000000     0.000000     0.000000     0.000000   \n",
       "50%       0.000000     0.000000     0.000000     0.000000     0.000000   \n",
       "75%       0.000000     0.000000     0.000000     0.000000     0.000000   \n",
       "max       1.000000     1.000000     1.000000     1.000000     1.000000   \n",
       "\n",
       "          PAY_6_-2      LIMIT_BAL      BILL_AMT2     BILL_AMT3      BILL_AMT4  \\\n",
       "count  5548.000000    5548.000000    5548.000000  5.548000e+03    5548.000000   \n",
       "mean      0.165285  167375.212689   47918.177902  4.615743e+04   42665.237203   \n",
       "std       0.371471  128407.926685   70712.961009  7.172108e+04   64015.210194   \n",
       "min       0.000000   10000.000000  -30000.000000 -1.572640e+05  -34503.000000   \n",
       "25%       0.000000   50000.000000    2667.750000  2.500000e+03    2243.000000   \n",
       "50%       0.000000  140000.000000   20054.500000  1.928750e+04   18615.000000   \n",
       "75%       0.000000  240000.000000   61351.750000  5.830075e+04   53072.250000   \n",
       "max       1.000000  800000.000000  671563.000000  1.664089e+06  706864.000000   \n",
       "\n",
       "           BILL_AMT5      BILL_AMT6       PAY_AMT3       PAY_AMT4  \\\n",
       "count    5548.000000    5548.000000    5548.000000    5548.000000   \n",
       "mean    39790.690699   38188.312004    5353.723864    4681.533706   \n",
       "std     60452.296073   58355.392517   16583.627506   13709.514886   \n",
       "min    -19205.000000  -14433.000000       0.000000       0.000000   \n",
       "25%      1700.000000    1159.000000     390.000000     300.000000   \n",
       "50%     17134.500000   15881.000000    1776.500000    1500.000000   \n",
       "75%     50009.500000   48743.000000    4688.500000    4000.000000   \n",
       "max    530672.000000  511905.000000  397092.000000  256662.000000   \n",
       "\n",
       "            PAY_AMT5       PAY_AMT6     Prom_monto  \n",
       "count    5548.000000    5548.000000    5548.000000  \n",
       "mean     4470.328947    5137.254867   42943.969683  \n",
       "std     14013.198579   18100.822002   61971.960571  \n",
       "min         0.000000       0.000000   -6062.800000  \n",
       "25%       159.250000     117.750000    3950.950000  \n",
       "50%      1500.000000    1500.000000   19244.000000  \n",
       "75%      4000.000000    4000.000000   53883.400000  \n",
       "max    379267.000000  443001.000000  549171.000000  "
      ]
     },
     "execution_count": 21,
     "metadata": {},
     "output_type": "execute_result"
    }
   ],
   "source": [
    "# Se eligirán las mejores variables\n",
    "from sklearn.feature_selection import SelectKBest, f_regression\n",
    "kb = SelectKBest(k = 17, score_func = f_regression)\n",
    "kb.fit(X, y)\n",
    "\n",
    "ls_best = [x for x, y in zip(X.columns, kb.get_support()) if y]\n",
    "X[ls_best].describe()"
   ]
  },
  {
   "cell_type": "code",
   "execution_count": 22,
   "metadata": {
    "ExecuteTime": {
     "end_time": "2020-11-11T15:43:02.709334Z",
     "start_time": "2020-11-11T15:43:02.127764Z"
    }
   },
   "outputs": [
    {
     "data": {
      "text/plain": [
       "<AxesSubplot:>"
      ]
     },
     "execution_count": 22,
     "metadata": {},
     "output_type": "execute_result"
    },
    {
     "data": {
      "image/png": "[encoded data removed]",
      "text/plain": [
       "<Figure size 432x288 with 2 Axes>"
      ]
     },
     "metadata": {
      "needs_background": "light"
     },
     "output_type": "display_data"
    }
   ],
   "source": [
    "import seaborn as sns\n",
    "sns.heatmap(X[ls_best].corr())"
   ]
  },
  {
   "cell_type": "code",
   "execution_count": 23,
   "metadata": {
    "ExecuteTime": {
     "end_time": "2020-11-11T15:43:02.724310Z",
     "start_time": "2020-11-11T15:43:02.716743Z"
    }
   },
   "outputs": [],
   "source": [
    "## Y modificamos la matriz X con las mejores variables\n",
    "X = X[ls_best].copy()"
   ]
  },
  {
   "cell_type": "markdown",
   "metadata": {},
   "source": [
    "### Escalamiento"
   ]
  },
  {
   "cell_type": "code",
   "execution_count": 24,
   "metadata": {
    "ExecuteTime": {
     "end_time": "2020-11-11T15:43:02.749965Z",
     "start_time": "2020-11-11T15:43:02.738329Z"
    }
   },
   "outputs": [
    {
     "data": {
      "text/plain": [
       "0.11115561786501102"
      ]
     },
     "execution_count": 24,
     "metadata": {},
     "output_type": "execute_result"
    }
   ],
   "source": [
    "## Se separan los conjuntos de entrenamiento y prueba\n",
    "from sklearn.model_selection import cross_val_score, train_test_split\n",
    "X_train, X_test, y_train, y_test = train_test_split(X, y,\n",
    "                                                    test_size = 0.1,\n",
    "                                                    random_state = 22)\n",
    "len(y_test) / len(y_train)"
   ]
  },
  {
   "cell_type": "code",
   "execution_count": 25,
   "metadata": {
    "ExecuteTime": {
     "end_time": "2020-11-11T15:43:02.933948Z",
     "start_time": "2020-11-11T15:43:02.761399Z"
    }
   },
   "outputs": [
    {
     "data": {
      "text/html": [
       "<div>\n",
       "<style scoped>\n",
       "    .dataframe tbody tr th:only-of-type {\n",
       "        vertical-align: middle;\n",
       "    }\n",
       "\n",
       "    .dataframe tbody tr th {\n",
       "        vertical-align: top;\n",
       "    }\n",
       "\n",
       "    .dataframe thead th {\n",
       "        text-align: right;\n",
       "    }\n",
       "</style>\n",
       "<table border=\"1\" class=\"dataframe\">\n",
       "  <thead>\n",
       "    <tr style=\"text-align: right;\">\n",
       "      <th></th>\n",
       "      <th>PAY_3_-1</th>\n",
       "      <th>PAY_3_-2</th>\n",
       "      <th>PAY_3_&gt;=1</th>\n",
       "      <th>PAY_4_-2</th>\n",
       "      <th>PAY_6_-1</th>\n",
       "      <th>PAY_6_-2</th>\n",
       "      <th>LIMIT_BAL</th>\n",
       "      <th>BILL_AMT2</th>\n",
       "      <th>BILL_AMT3</th>\n",
       "      <th>BILL_AMT4</th>\n",
       "      <th>BILL_AMT5</th>\n",
       "      <th>BILL_AMT6</th>\n",
       "      <th>PAY_AMT3</th>\n",
       "      <th>PAY_AMT4</th>\n",
       "      <th>PAY_AMT5</th>\n",
       "      <th>PAY_AMT6</th>\n",
       "      <th>Prom_monto</th>\n",
       "    </tr>\n",
       "  </thead>\n",
       "  <tbody>\n",
       "    <tr>\n",
       "      <th>count</th>\n",
       "      <td>4993.000000</td>\n",
       "      <td>4993.000000</td>\n",
       "      <td>4993.000000</td>\n",
       "      <td>4993.000000</td>\n",
       "      <td>4993.000000</td>\n",
       "      <td>4993.000000</td>\n",
       "      <td>4993.000000</td>\n",
       "      <td>4993.000000</td>\n",
       "      <td>4993.000000</td>\n",
       "      <td>4993.000000</td>\n",
       "      <td>4993.000000</td>\n",
       "      <td>4993.000000</td>\n",
       "      <td>4993.000000</td>\n",
       "      <td>4993.000000</td>\n",
       "      <td>4993.000000</td>\n",
       "      <td>4993.000000</td>\n",
       "      <td>4993.000000</td>\n",
       "    </tr>\n",
       "    <tr>\n",
       "      <th>mean</th>\n",
       "      <td>0.202884</td>\n",
       "      <td>0.136792</td>\n",
       "      <td>0.137593</td>\n",
       "      <td>0.145604</td>\n",
       "      <td>0.192069</td>\n",
       "      <td>0.165432</td>\n",
       "      <td>0.214755</td>\n",
       "      <td>0.111202</td>\n",
       "      <td>0.110807</td>\n",
       "      <td>0.104334</td>\n",
       "      <td>0.107369</td>\n",
       "      <td>0.095088</td>\n",
       "      <td>0.013351</td>\n",
       "      <td>0.017919</td>\n",
       "      <td>0.013955</td>\n",
       "      <td>0.011473</td>\n",
       "      <td>0.088369</td>\n",
       "    </tr>\n",
       "    <tr>\n",
       "      <th>std</th>\n",
       "      <td>0.402187</td>\n",
       "      <td>0.343662</td>\n",
       "      <td>0.344506</td>\n",
       "      <td>0.352744</td>\n",
       "      <td>0.393966</td>\n",
       "      <td>0.371607</td>\n",
       "      <td>0.175529</td>\n",
       "      <td>0.100957</td>\n",
       "      <td>0.095099</td>\n",
       "      <td>0.086905</td>\n",
       "      <td>0.110468</td>\n",
       "      <td>0.111350</td>\n",
       "      <td>0.040556</td>\n",
       "      <td>0.053244</td>\n",
       "      <td>0.042467</td>\n",
       "      <td>0.041415</td>\n",
       "      <td>0.111830</td>\n",
       "    </tr>\n",
       "    <tr>\n",
       "      <th>min</th>\n",
       "      <td>0.000000</td>\n",
       "      <td>0.000000</td>\n",
       "      <td>0.000000</td>\n",
       "      <td>0.000000</td>\n",
       "      <td>0.000000</td>\n",
       "      <td>0.000000</td>\n",
       "      <td>0.000000</td>\n",
       "      <td>0.000000</td>\n",
       "      <td>0.000000</td>\n",
       "      <td>0.000000</td>\n",
       "      <td>0.000000</td>\n",
       "      <td>0.000000</td>\n",
       "      <td>0.000000</td>\n",
       "      <td>0.000000</td>\n",
       "      <td>0.000000</td>\n",
       "      <td>0.000000</td>\n",
       "      <td>0.000000</td>\n",
       "    </tr>\n",
       "    <tr>\n",
       "      <th>25%</th>\n",
       "      <td>0.000000</td>\n",
       "      <td>0.000000</td>\n",
       "      <td>0.000000</td>\n",
       "      <td>0.000000</td>\n",
       "      <td>0.000000</td>\n",
       "      <td>0.000000</td>\n",
       "      <td>0.054795</td>\n",
       "      <td>0.046633</td>\n",
       "      <td>0.050494</td>\n",
       "      <td>0.049615</td>\n",
       "      <td>0.037992</td>\n",
       "      <td>0.024412</td>\n",
       "      <td>0.001002</td>\n",
       "      <td>0.001181</td>\n",
       "      <td>0.000473</td>\n",
       "      <td>0.000226</td>\n",
       "      <td>0.018059</td>\n",
       "    </tr>\n",
       "    <tr>\n",
       "      <th>50%</th>\n",
       "      <td>0.000000</td>\n",
       "      <td>0.000000</td>\n",
       "      <td>0.000000</td>\n",
       "      <td>0.000000</td>\n",
       "      <td>0.000000</td>\n",
       "      <td>0.000000</td>\n",
       "      <td>0.178082</td>\n",
       "      <td>0.071475</td>\n",
       "      <td>0.073742</td>\n",
       "      <td>0.071718</td>\n",
       "      <td>0.065938</td>\n",
       "      <td>0.052507</td>\n",
       "      <td>0.004533</td>\n",
       "      <td>0.005844</td>\n",
       "      <td>0.004731</td>\n",
       "      <td>0.003386</td>\n",
       "      <td>0.045685</td>\n",
       "    </tr>\n",
       "    <tr>\n",
       "      <th>75%</th>\n",
       "      <td>0.000000</td>\n",
       "      <td>0.000000</td>\n",
       "      <td>0.000000</td>\n",
       "      <td>0.000000</td>\n",
       "      <td>0.000000</td>\n",
       "      <td>0.000000</td>\n",
       "      <td>0.315068</td>\n",
       "      <td>0.130104</td>\n",
       "      <td>0.127444</td>\n",
       "      <td>0.118209</td>\n",
       "      <td>0.125855</td>\n",
       "      <td>0.115414</td>\n",
       "      <td>0.011647</td>\n",
       "      <td>0.015585</td>\n",
       "      <td>0.012615</td>\n",
       "      <td>0.009029</td>\n",
       "      <td>0.107480</td>\n",
       "    </tr>\n",
       "    <tr>\n",
       "      <th>max</th>\n",
       "      <td>1.000000</td>\n",
       "      <td>1.000000</td>\n",
       "      <td>1.000000</td>\n",
       "      <td>1.000000</td>\n",
       "      <td>1.000000</td>\n",
       "      <td>1.000000</td>\n",
       "      <td>1.000000</td>\n",
       "      <td>1.000000</td>\n",
       "      <td>1.000000</td>\n",
       "      <td>1.000000</td>\n",
       "      <td>1.000000</td>\n",
       "      <td>1.000000</td>\n",
       "      <td>1.000000</td>\n",
       "      <td>1.000000</td>\n",
       "      <td>1.000000</td>\n",
       "      <td>1.000000</td>\n",
       "      <td>1.000000</td>\n",
       "    </tr>\n",
       "  </tbody>\n",
       "</table>\n",
       "</div>"
      ],
      "text/plain": [
       "          PAY_3_-1     PAY_3_-2    PAY_3_>=1     PAY_4_-2     PAY_6_-1  \\\n",
       "count  4993.000000  4993.000000  4993.000000  4993.000000  4993.000000   \n",
       "mean      0.202884     0.136792     0.137593     0.145604     0.192069   \n",
       "std       0.402187     0.343662     0.344506     0.352744     0.393966   \n",
       "min       0.000000     0.000000     0.000000     0.000000     0.000000   \n",
       "25%       0.000000     0.000000     0.000000     0.000000     0.000000   \n",
       "50%       0.000000     0.000000     0.000000     0.000000     0.000000   \n",
       "75%       0.000000     0.000000     0.000000     0.000000     0.000000   \n",
       "max       1.000000     1.000000     1.000000     1.000000     1.000000   \n",
       "\n",
       "          PAY_6_-2    LIMIT_BAL    BILL_AMT2    BILL_AMT3    BILL_AMT4  \\\n",
       "count  4993.000000  4993.000000  4993.000000  4993.000000  4993.000000   \n",
       "mean      0.165432     0.214755     0.111202     0.110807     0.104334   \n",
       "std       0.371607     0.175529     0.100957     0.095099     0.086905   \n",
       "min       0.000000     0.000000     0.000000     0.000000     0.000000   \n",
       "25%       0.000000     0.054795     0.046633     0.050494     0.049615   \n",
       "50%       0.000000     0.178082     0.071475     0.073742     0.071718   \n",
       "75%       0.000000     0.315068     0.130104     0.127444     0.118209   \n",
       "max       1.000000     1.000000     1.000000     1.000000     1.000000   \n",
       "\n",
       "         BILL_AMT5    BILL_AMT6     PAY_AMT3     PAY_AMT4     PAY_AMT5  \\\n",
       "count  4993.000000  4993.000000  4993.000000  4993.000000  4993.000000   \n",
       "mean      0.107369     0.095088     0.013351     0.017919     0.013955   \n",
       "std       0.110468     0.111350     0.040556     0.053244     0.042467   \n",
       "min       0.000000     0.000000     0.000000     0.000000     0.000000   \n",
       "25%       0.037992     0.024412     0.001002     0.001181     0.000473   \n",
       "50%       0.065938     0.052507     0.004533     0.005844     0.004731   \n",
       "75%       0.125855     0.115414     0.011647     0.015585     0.012615   \n",
       "max       1.000000     1.000000     1.000000     1.000000     1.000000   \n",
       "\n",
       "          PAY_AMT6   Prom_monto  \n",
       "count  4993.000000  4993.000000  \n",
       "mean      0.011473     0.088369  \n",
       "std       0.041415     0.111830  \n",
       "min       0.000000     0.000000  \n",
       "25%       0.000226     0.018059  \n",
       "50%       0.003386     0.045685  \n",
       "75%       0.009029     0.107480  \n",
       "max       1.000000     1.000000  "
      ]
     },
     "execution_count": 25,
     "metadata": {},
     "output_type": "execute_result"
    }
   ],
   "source": [
    "from sklearn.preprocessing import MinMaxScaler\n",
    "mm_x = MinMaxScaler()\n",
    "mm_y = MinMaxScaler()\n",
    "\n",
    "## En train se ajusta y transforma\n",
    "X = pd.DataFrame(mm_x.fit_transform(X_train),\n",
    "                 columns = X.columns)\n",
    "y = mm_y.fit_transform(y_train)\n",
    "\n",
    "## Y en test sólo se transforma\n",
    "X_test_mm = pd.DataFrame(mm_x.transform(X_test),\n",
    "                         columns = X.columns)\n",
    "y_test_mm = mm_y.transform(y_test)\n",
    "\n",
    "X.describe()"
   ]
  },
  {
   "cell_type": "markdown",
   "metadata": {},
   "source": [
    "### Entrenamiento"
   ]
  },
  {
   "cell_type": "code",
   "execution_count": 26,
   "metadata": {
    "ExecuteTime": {
     "end_time": "2020-11-11T15:43:04.791497Z",
     "start_time": "2020-11-11T15:43:02.936697Z"
    }
   },
   "outputs": [
    {
     "data": {
      "text/plain": [
       "(0.42812996721575586, 0.027723800597609947)"
      ]
     },
     "execution_count": 26,
     "metadata": {},
     "output_type": "execute_result"
    }
   ],
   "source": [
    "from sklearn.linear_model import Ridge\n",
    "ridge = Ridge(alpha = 1)\n",
    "ridge.fit(X, y)\n",
    "ridge_res = cross_val_score(estimator = ridge,\n",
    "                         X = X,\n",
    "                         y = y,\n",
    "                         cv = 3,\n",
    "                         n_jobs = -1,\n",
    "                         scoring = \"r2\")\n",
    "\n",
    "np.mean(ridge_res), np.std(ridge_res)"
   ]
  },
  {
   "cell_type": "markdown",
   "metadata": {},
   "source": [
    "### Hiper-parametrización"
   ]
  },
  {
   "cell_type": "code",
   "execution_count": 27,
   "metadata": {
    "ExecuteTime": {
     "end_time": "2020-11-11T15:43:21.920126Z",
     "start_time": "2020-11-11T15:43:04.803476Z"
    }
   },
   "outputs": [
    {
     "name": "stderr",
     "output_type": "stream",
     "text": [
      "<ipython-input-27-31d3d65f391b>:9: UserWarning: With alpha=0, this algorithm does not converge well. You are advised to use the LinearRegression estimator\n",
      "  elasnet_h.fit(X, y)\n",
      "/home/ef/Desktop/diplomadus/diplomadus/lib/python3.8/site-packages/sklearn/linear_model/_coordinate_descent.py:529: UserWarning: Coordinate descent with no regularization may lead to unexpected results and is discouraged.\n",
      "  model = cd_fast.enet_coordinate_descent(\n",
      "/home/ef/Desktop/diplomadus/diplomadus/lib/python3.8/site-packages/sklearn/linear_model/_coordinate_descent.py:529: ConvergenceWarning: Objective did not converge. You might want to increase the number of iterations. Duality gap: 2.831298897196262, tolerance: 0.001168615231204699\n",
      "  model = cd_fast.enet_coordinate_descent(\n",
      "<ipython-input-27-31d3d65f391b>:9: UserWarning: With alpha=0, this algorithm does not converge well. You are advised to use the LinearRegression estimator\n",
      "  elasnet_h.fit(X, y)\n",
      "/home/ef/Desktop/diplomadus/diplomadus/lib/python3.8/site-packages/sklearn/linear_model/_coordinate_descent.py:529: UserWarning: Coordinate descent with no regularization may lead to unexpected results and is discouraged.\n",
      "  model = cd_fast.enet_coordinate_descent(\n",
      "/home/ef/Desktop/diplomadus/diplomadus/lib/python3.8/site-packages/sklearn/linear_model/_coordinate_descent.py:529: ConvergenceWarning: Objective did not converge. You might want to increase the number of iterations. Duality gap: 2.831298897196262, tolerance: 0.001168615231204699\n",
      "  model = cd_fast.enet_coordinate_descent(\n",
      "<ipython-input-27-31d3d65f391b>:9: UserWarning: With alpha=0, this algorithm does not converge well. You are advised to use the LinearRegression estimator\n",
      "  elasnet_h.fit(X, y)\n",
      "/home/ef/Desktop/diplomadus/diplomadus/lib/python3.8/site-packages/sklearn/linear_model/_coordinate_descent.py:529: UserWarning: Coordinate descent with no regularization may lead to unexpected results and is discouraged.\n",
      "  model = cd_fast.enet_coordinate_descent(\n",
      "/home/ef/Desktop/diplomadus/diplomadus/lib/python3.8/site-packages/sklearn/linear_model/_coordinate_descent.py:529: ConvergenceWarning: Objective did not converge. You might want to increase the number of iterations. Duality gap: 2.831298897196262, tolerance: 0.001168615231204699\n",
      "  model = cd_fast.enet_coordinate_descent(\n",
      "<ipython-input-27-31d3d65f391b>:9: UserWarning: With alpha=0, this algorithm does not converge well. You are advised to use the LinearRegression estimator\n",
      "  elasnet_h.fit(X, y)\n",
      "/home/ef/Desktop/diplomadus/diplomadus/lib/python3.8/site-packages/sklearn/linear_model/_coordinate_descent.py:529: UserWarning: Coordinate descent with no regularization may lead to unexpected results and is discouraged.\n",
      "  model = cd_fast.enet_coordinate_descent(\n",
      "/home/ef/Desktop/diplomadus/diplomadus/lib/python3.8/site-packages/sklearn/linear_model/_coordinate_descent.py:529: ConvergenceWarning: Objective did not converge. You might want to increase the number of iterations. Duality gap: 2.831298897196262, tolerance: 0.001168615231204699\n",
      "  model = cd_fast.enet_coordinate_descent(\n",
      "<ipython-input-27-31d3d65f391b>:9: UserWarning: With alpha=0, this algorithm does not converge well. You are advised to use the LinearRegression estimator\n",
      "  elasnet_h.fit(X, y)\n",
      "/home/ef/Desktop/diplomadus/diplomadus/lib/python3.8/site-packages/sklearn/linear_model/_coordinate_descent.py:529: UserWarning: Coordinate descent with no regularization may lead to unexpected results and is discouraged.\n",
      "  model = cd_fast.enet_coordinate_descent(\n",
      "/home/ef/Desktop/diplomadus/diplomadus/lib/python3.8/site-packages/sklearn/linear_model/_coordinate_descent.py:529: ConvergenceWarning: Objective did not converge. You might want to increase the number of iterations. Duality gap: 2.831298897196262, tolerance: 0.001168615231204699\n",
      "  model = cd_fast.enet_coordinate_descent(\n",
      "<ipython-input-27-31d3d65f391b>:9: UserWarning: With alpha=0, this algorithm does not converge well. You are advised to use the LinearRegression estimator\n",
      "  elasnet_h.fit(X, y)\n",
      "/home/ef/Desktop/diplomadus/diplomadus/lib/python3.8/site-packages/sklearn/linear_model/_coordinate_descent.py:529: UserWarning: Coordinate descent with no regularization may lead to unexpected results and is discouraged.\n",
      "  model = cd_fast.enet_coordinate_descent(\n",
      "/home/ef/Desktop/diplomadus/diplomadus/lib/python3.8/site-packages/sklearn/linear_model/_coordinate_descent.py:529: ConvergenceWarning: Objective did not converge. You might want to increase the number of iterations. Duality gap: 2.831298897196262, tolerance: 0.001168615231204699\n",
      "  model = cd_fast.enet_coordinate_descent(\n",
      "<ipython-input-27-31d3d65f391b>:9: UserWarning: With alpha=0, this algorithm does not converge well. You are advised to use the LinearRegression estimator\n",
      "  elasnet_h.fit(X, y)\n",
      "/home/ef/Desktop/diplomadus/diplomadus/lib/python3.8/site-packages/sklearn/linear_model/_coordinate_descent.py:529: UserWarning: Coordinate descent with no regularization may lead to unexpected results and is discouraged.\n",
      "  model = cd_fast.enet_coordinate_descent(\n",
      "/home/ef/Desktop/diplomadus/diplomadus/lib/python3.8/site-packages/sklearn/linear_model/_coordinate_descent.py:529: ConvergenceWarning: Objective did not converge. You might want to increase the number of iterations. Duality gap: 2.831298897196262, tolerance: 0.001168615231204699\n",
      "  model = cd_fast.enet_coordinate_descent(\n",
      "<ipython-input-27-31d3d65f391b>:9: UserWarning: With alpha=0, this algorithm does not converge well. You are advised to use the LinearRegression estimator\n",
      "  elasnet_h.fit(X, y)\n",
      "/home/ef/Desktop/diplomadus/diplomadus/lib/python3.8/site-packages/sklearn/linear_model/_coordinate_descent.py:529: UserWarning: Coordinate descent with no regularization may lead to unexpected results and is discouraged.\n",
      "  model = cd_fast.enet_coordinate_descent(\n",
      "/home/ef/Desktop/diplomadus/diplomadus/lib/python3.8/site-packages/sklearn/linear_model/_coordinate_descent.py:529: ConvergenceWarning: Objective did not converge. You might want to increase the number of iterations. Duality gap: 2.831298897196262, tolerance: 0.001168615231204699\n",
      "  model = cd_fast.enet_coordinate_descent(\n",
      "<ipython-input-27-31d3d65f391b>:9: UserWarning: With alpha=0, this algorithm does not converge well. You are advised to use the LinearRegression estimator\n",
      "  elasnet_h.fit(X, y)\n",
      "/home/ef/Desktop/diplomadus/diplomadus/lib/python3.8/site-packages/sklearn/linear_model/_coordinate_descent.py:529: UserWarning: Coordinate descent with no regularization may lead to unexpected results and is discouraged.\n",
      "  model = cd_fast.enet_coordinate_descent(\n",
      "/home/ef/Desktop/diplomadus/diplomadus/lib/python3.8/site-packages/sklearn/linear_model/_coordinate_descent.py:529: ConvergenceWarning: Objective did not converge. You might want to increase the number of iterations. Duality gap: 2.831298897196262, tolerance: 0.001168615231204699\n",
      "  model = cd_fast.enet_coordinate_descent(\n",
      "<ipython-input-27-31d3d65f391b>:9: UserWarning: With alpha=0, this algorithm does not converge well. You are advised to use the LinearRegression estimator\n",
      "  elasnet_h.fit(X, y)\n",
      "/home/ef/Desktop/diplomadus/diplomadus/lib/python3.8/site-packages/sklearn/linear_model/_coordinate_descent.py:529: UserWarning: Coordinate descent with no regularization may lead to unexpected results and is discouraged.\n",
      "  model = cd_fast.enet_coordinate_descent(\n",
      "/home/ef/Desktop/diplomadus/diplomadus/lib/python3.8/site-packages/sklearn/linear_model/_coordinate_descent.py:529: ConvergenceWarning: Objective did not converge. You might want to increase the number of iterations. Duality gap: 2.831298897196262, tolerance: 0.001168615231204699\n",
      "  model = cd_fast.enet_coordinate_descent(\n",
      "/home/ef/Desktop/diplomadus/diplomadus/lib/python3.8/site-packages/sklearn/linear_model/_coordinate_descent.py:529: ConvergenceWarning: Objective did not converge. You might want to increase the number of iterations. Duality gap: 5.790174876938917, tolerance: 0.001168615231204699\n",
      "  model = cd_fast.enet_coordinate_descent(\n",
      "/home/ef/Desktop/diplomadus/diplomadus/lib/python3.8/site-packages/sklearn/linear_model/_coordinate_descent.py:529: ConvergenceWarning: Objective did not converge. You might want to increase the number of iterations. Duality gap: 5.814857119911813, tolerance: 0.001168615231204699\n",
      "  model = cd_fast.enet_coordinate_descent(\n"
     ]
    },
    {
     "name": "stderr",
     "output_type": "stream",
     "text": [
      "/home/ef/Desktop/diplomadus/diplomadus/lib/python3.8/site-packages/sklearn/linear_model/_coordinate_descent.py:529: ConvergenceWarning: Objective did not converge. You might want to increase the number of iterations. Duality gap: 5.823814296015677, tolerance: 0.001168615231204699\n",
      "  model = cd_fast.enet_coordinate_descent(\n",
      "/home/ef/Desktop/diplomadus/diplomadus/lib/python3.8/site-packages/sklearn/linear_model/_coordinate_descent.py:529: ConvergenceWarning: Objective did not converge. You might want to increase the number of iterations. Duality gap: 5.828451822628032, tolerance: 0.001168615231204699\n",
      "  model = cd_fast.enet_coordinate_descent(\n",
      "/home/ef/Desktop/diplomadus/diplomadus/lib/python3.8/site-packages/sklearn/linear_model/_coordinate_descent.py:529: ConvergenceWarning: Objective did not converge. You might want to increase the number of iterations. Duality gap: 5.831288644584614, tolerance: 0.001168615231204699\n",
      "  model = cd_fast.enet_coordinate_descent(\n",
      "/home/ef/Desktop/diplomadus/diplomadus/lib/python3.8/site-packages/sklearn/linear_model/_coordinate_descent.py:529: ConvergenceWarning: Objective did not converge. You might want to increase the number of iterations. Duality gap: 5.8332033584691745, tolerance: 0.001168615231204699\n",
      "  model = cd_fast.enet_coordinate_descent(\n",
      "/home/ef/Desktop/diplomadus/diplomadus/lib/python3.8/site-packages/sklearn/linear_model/_coordinate_descent.py:529: ConvergenceWarning: Objective did not converge. You might want to increase the number of iterations. Duality gap: 5.834582810346894, tolerance: 0.001168615231204699\n",
      "  model = cd_fast.enet_coordinate_descent(\n",
      "/home/ef/Desktop/diplomadus/diplomadus/lib/python3.8/site-packages/sklearn/linear_model/_coordinate_descent.py:529: ConvergenceWarning: Objective did not converge. You might want to increase the number of iterations. Duality gap: 5.835623966573858, tolerance: 0.001168615231204699\n",
      "  model = cd_fast.enet_coordinate_descent(\n",
      "/home/ef/Desktop/diplomadus/diplomadus/lib/python3.8/site-packages/sklearn/linear_model/_coordinate_descent.py:529: ConvergenceWarning: Objective did not converge. You might want to increase the number of iterations. Duality gap: 5.836437698121368, tolerance: 0.001168615231204699\n",
      "  model = cd_fast.enet_coordinate_descent(\n"
     ]
    }
   ],
   "source": [
    "from sklearn.linear_model import ElasticNet\n",
    "\n",
    "## Se crea un DF para almacenar scores con diferentes parámetros\n",
    "df_res = pd.DataFrame(columns=[\"alpha\", \"l1_ratio\", \"score\", \"std\"])\n",
    "contador = 0\n",
    "for i in range(0, 10, 1):\n",
    "    for j in range(10):\n",
    "        elasnet_h = ElasticNet(alpha=i, l1_ratio=j/10)\n",
    "        elasnet_h.fit(X, y)\n",
    "        ls_res = cross_val_score(estimator = elasnet_h, \n",
    "                                 X = X, \n",
    "                                 y = y, \n",
    "                                 cv = 3, \n",
    "                                 n_jobs = -1,\n",
    "                                 scoring = \"r2\")\n",
    "        df_res.loc[contador, \"alpha\"] = i\n",
    "        df_res.loc[contador, \"l1_ratio\"] = j\n",
    "        df_res.loc[contador, \"score\"] = np.mean(ls_res)\n",
    "        df_res.loc[contador, \"std\"] = np.std(ls_res)\n",
    "        contador += 1\n",
    "\n",
    "## Se ordena dicho DF\n",
    "df_res = df_res.sort_values(by = 'score',\n",
    "                            ascending = False).copy().head(5)\n",
    "\n",
    "## Se guardan los parámetros del mejor score\n",
    "alphas = df_res.iloc[0,0]\n",
    "l1_ratios = df_res.iloc[0,1]"
   ]
  },
  {
   "cell_type": "code",
   "execution_count": 28,
   "metadata": {
    "ExecuteTime": {
     "end_time": "2020-11-11T15:43:22.526507Z",
     "start_time": "2020-11-11T15:43:21.933688Z"
    }
   },
   "outputs": [
    {
     "name": "stderr",
     "output_type": "stream",
     "text": [
      "<ipython-input-28-7404d29844e2>:4: UserWarning: With alpha=0, this algorithm does not converge well. You are advised to use the LinearRegression estimator\n",
      "  elasnet_h.fit(X, y)\n",
      "/home/ef/Desktop/diplomadus/diplomadus/lib/python3.8/site-packages/sklearn/linear_model/_coordinate_descent.py:529: UserWarning: Coordinate descent with no regularization may lead to unexpected results and is discouraged.\n",
      "  model = cd_fast.enet_coordinate_descent(\n",
      "/home/ef/Desktop/diplomadus/diplomadus/lib/python3.8/site-packages/sklearn/linear_model/_coordinate_descent.py:529: ConvergenceWarning: Objective did not converge. You might want to increase the number of iterations. Duality gap: 2.831298897196262, tolerance: 0.001168615231204699\n",
      "  model = cd_fast.enet_coordinate_descent(\n"
     ]
    },
    {
     "data": {
      "text/plain": [
       "(0.46348719914493525, 0.1114500867823709)"
      ]
     },
     "execution_count": 28,
     "metadata": {},
     "output_type": "execute_result"
    }
   ],
   "source": [
    "## Y se ejecuta\n",
    "elasnet_h = ElasticNet(alpha = alphas,\n",
    "                     l1_ratio = l1_ratios)\n",
    "elasnet_h.fit(X, y)\n",
    "el_h_res = cross_val_score(estimator = elasnet_h,\n",
    "                           X = X,\n",
    "                           y = y,\n",
    "                           cv = 3,\n",
    "                           n_jobs = -1,\n",
    "                           scoring = \"r2\")\n",
    "\n",
    "np.mean(el_h_res), np.std(el_h_res)"
   ]
  },
  {
   "cell_type": "markdown",
   "metadata": {},
   "source": [
    "### Prueba"
   ]
  },
  {
   "cell_type": "code",
   "execution_count": 29,
   "metadata": {
    "ExecuteTime": {
     "end_time": "2020-11-11T15:43:22.585878Z",
     "start_time": "2020-11-11T15:43:22.531891Z"
    }
   },
   "outputs": [
    {
     "data": {
      "text/html": [
       "<div>\n",
       "<style scoped>\n",
       "    .dataframe tbody tr th:only-of-type {\n",
       "        vertical-align: middle;\n",
       "    }\n",
       "\n",
       "    .dataframe tbody tr th {\n",
       "        vertical-align: top;\n",
       "    }\n",
       "\n",
       "    .dataframe thead th {\n",
       "        text-align: right;\n",
       "    }\n",
       "</style>\n",
       "<table border=\"1\" class=\"dataframe\">\n",
       "  <thead>\n",
       "    <tr style=\"text-align: right;\">\n",
       "      <th></th>\n",
       "      <th>PAY_3_-1</th>\n",
       "      <th>PAY_3_-2</th>\n",
       "      <th>PAY_3_&gt;=1</th>\n",
       "      <th>PAY_4_-2</th>\n",
       "      <th>PAY_6_-1</th>\n",
       "      <th>PAY_6_-2</th>\n",
       "      <th>LIMIT_BAL</th>\n",
       "      <th>BILL_AMT2</th>\n",
       "      <th>BILL_AMT3</th>\n",
       "      <th>BILL_AMT4</th>\n",
       "      <th>BILL_AMT5</th>\n",
       "      <th>BILL_AMT6</th>\n",
       "      <th>PAY_AMT3</th>\n",
       "      <th>PAY_AMT4</th>\n",
       "      <th>PAY_AMT5</th>\n",
       "      <th>PAY_AMT6</th>\n",
       "      <th>Prom_monto</th>\n",
       "    </tr>\n",
       "  </thead>\n",
       "  <tbody>\n",
       "    <tr>\n",
       "      <th>2865</th>\n",
       "      <td>0.0</td>\n",
       "      <td>0.0</td>\n",
       "      <td>1.0</td>\n",
       "      <td>0.0</td>\n",
       "      <td>1.0</td>\n",
       "      <td>0.0</td>\n",
       "      <td>0.328767</td>\n",
       "      <td>0.04339</td>\n",
       "      <td>0.047151</td>\n",
       "      <td>0.048617</td>\n",
       "      <td>0.040542</td>\n",
       "      <td>0.033027</td>\n",
       "      <td>0.012592</td>\n",
       "      <td>0.012031</td>\n",
       "      <td>0.009461</td>\n",
       "      <td>0.0</td>\n",
       "      <td>0.01482</td>\n",
       "    </tr>\n",
       "  </tbody>\n",
       "</table>\n",
       "</div>"
      ],
      "text/plain": [
       "      PAY_3_-1  PAY_3_-2  PAY_3_>=1  PAY_4_-2  PAY_6_-1  PAY_6_-2  LIMIT_BAL  \\\n",
       "2865       0.0       0.0        1.0       0.0       1.0       0.0   0.328767   \n",
       "\n",
       "      BILL_AMT2  BILL_AMT3  BILL_AMT4  BILL_AMT5  BILL_AMT6  PAY_AMT3  \\\n",
       "2865    0.04339   0.047151   0.048617   0.040542   0.033027  0.012592   \n",
       "\n",
       "      PAY_AMT4  PAY_AMT5  PAY_AMT6  Prom_monto  \n",
       "2865  0.012031  0.009461       0.0     0.01482  "
      ]
     },
     "execution_count": 29,
     "metadata": {},
     "output_type": "execute_result"
    }
   ],
   "source": [
    "pd.DataFrame(X).sample()"
   ]
  },
  {
   "cell_type": "code",
   "execution_count": 30,
   "metadata": {
    "ExecuteTime": {
     "end_time": "2020-11-11T15:43:22.603445Z",
     "start_time": "2020-11-11T15:43:22.587502Z"
    }
   },
   "outputs": [
    {
     "data": {
      "text/plain": [
       "'79.74%'"
      ]
     },
     "execution_count": 30,
     "metadata": {},
     "output_type": "execute_result"
    }
   ],
   "source": [
    "## Y se corre para el conjunto de prueba\n",
    "from sklearn.metrics import r2_score\n",
    "'{:,.2%}'.format(r2_score(y_pred = elasnet_h.predict(X_test_mm),\n",
    "                          y_true = y_test_mm))"
   ]
  },
  {
   "cell_type": "code",
   "execution_count": 31,
   "metadata": {
    "ExecuteTime": {
     "end_time": "2020-11-11T15:43:22.617550Z",
     "start_time": "2020-11-11T15:43:22.605011Z"
    }
   },
   "outputs": [
    {
     "data": {
      "text/plain": [
       "ElasticNet(alpha=0, l1_ratio=0)"
      ]
     },
     "execution_count": 31,
     "metadata": {},
     "output_type": "execute_result"
    }
   ],
   "source": [
    "import pickle\n",
    "\n",
    "## Guardar modelo\n",
    "with open('PAY_2.pkl', 'wb') as file:\n",
    "    pickle.dump(elasnet_h, file)\n",
    "\n",
    "## Abrir un modelo\n",
    "with open('PAY_2.pkl', 'rb') as file:\n",
    "    pay_2 = pickle.load(file)\n",
    "\n",
    "## Listo para usarse\n",
    "pay_2"
   ]
  },
  {
   "cell_type": "code",
   "execution_count": 32,
   "metadata": {
    "ExecuteTime": {
     "end_time": "2020-11-11T15:43:22.646544Z",
     "start_time": "2020-11-11T15:43:22.625116Z"
    }
   },
   "outputs": [
    {
     "data": {
      "text/plain": [
       "'79.74%'"
      ]
     },
     "execution_count": 32,
     "metadata": {},
     "output_type": "execute_result"
    }
   ],
   "source": [
    "'{:,.2%}'.format(r2_score(y_pred = pay_2.predict(X_test_mm),\n",
    "                          y_true = y_test_mm))"
   ]
  },
  {
   "cell_type": "markdown",
   "metadata": {},
   "source": [
    "## Validación"
   ]
  },
  {
   "cell_type": "code",
   "execution_count": 31,
   "metadata": {
    "ExecuteTime": {
     "end_time": "2020-11-05T21:22:26.735210Z",
     "start_time": "2020-11-05T21:22:26.594841Z"
    }
   },
   "outputs": [
    {
     "data": {
      "text/html": [
       "<div>\n",
       "<style scoped>\n",
       "    .dataframe tbody tr th:only-of-type {\n",
       "        vertical-align: middle;\n",
       "    }\n",
       "\n",
       "    .dataframe tbody tr th {\n",
       "        vertical-align: top;\n",
       "    }\n",
       "\n",
       "    .dataframe thead th {\n",
       "        text-align: right;\n",
       "    }\n",
       "</style>\n",
       "<table border=\"1\" class=\"dataframe\">\n",
       "  <thead>\n",
       "    <tr style=\"text-align: right;\">\n",
       "      <th></th>\n",
       "      <th>CUSTOMER_ID</th>\n",
       "      <th>LIMIT_BAL</th>\n",
       "      <th>SEX</th>\n",
       "      <th>EDUCATION</th>\n",
       "      <th>MARRIAGE</th>\n",
       "      <th>AGE</th>\n",
       "      <th>PAY_3</th>\n",
       "      <th>PAY_4</th>\n",
       "      <th>PAY_5</th>\n",
       "      <th>PAY_6</th>\n",
       "      <th>BILL_AMT2</th>\n",
       "      <th>BILL_AMT3</th>\n",
       "      <th>BILL_AMT4</th>\n",
       "      <th>BILL_AMT5</th>\n",
       "      <th>BILL_AMT6</th>\n",
       "      <th>PAY_AMT3</th>\n",
       "      <th>PAY_AMT4</th>\n",
       "      <th>PAY_AMT5</th>\n",
       "      <th>PAY_AMT6</th>\n",
       "    </tr>\n",
       "  </thead>\n",
       "  <tbody>\n",
       "    <tr>\n",
       "      <th>1280</th>\n",
       "      <td>17739</td>\n",
       "      <td>20000.0</td>\n",
       "      <td>2</td>\n",
       "      <td>1</td>\n",
       "      <td>2</td>\n",
       "      <td>22</td>\n",
       "      <td>0</td>\n",
       "      <td>0</td>\n",
       "      <td>0</td>\n",
       "      <td>0</td>\n",
       "      <td>18786.0</td>\n",
       "      <td>16249.0</td>\n",
       "      <td>16478.0</td>\n",
       "      <td>10735.0</td>\n",
       "      <td>3274.0</td>\n",
       "      <td>1000.0</td>\n",
       "      <td>215.0</td>\n",
       "      <td>65.0</td>\n",
       "      <td>0.0</td>\n",
       "    </tr>\n",
       "    <tr>\n",
       "      <th>855</th>\n",
       "      <td>8498</td>\n",
       "      <td>360000.0</td>\n",
       "      <td>1</td>\n",
       "      <td>1</td>\n",
       "      <td>2</td>\n",
       "      <td>34</td>\n",
       "      <td>0</td>\n",
       "      <td>0</td>\n",
       "      <td>0</td>\n",
       "      <td>0</td>\n",
       "      <td>359050.0</td>\n",
       "      <td>366591.0</td>\n",
       "      <td>331833.0</td>\n",
       "      <td>288709.0</td>\n",
       "      <td>290583.0</td>\n",
       "      <td>13801.0</td>\n",
       "      <td>9852.0</td>\n",
       "      <td>10224.0</td>\n",
       "      <td>10010.0</td>\n",
       "    </tr>\n",
       "    <tr>\n",
       "      <th>237</th>\n",
       "      <td>3977</td>\n",
       "      <td>90000.0</td>\n",
       "      <td>2</td>\n",
       "      <td>3</td>\n",
       "      <td>2</td>\n",
       "      <td>24</td>\n",
       "      <td>-1</td>\n",
       "      <td>-1</td>\n",
       "      <td>-1</td>\n",
       "      <td>-2</td>\n",
       "      <td>207.0</td>\n",
       "      <td>18189.0</td>\n",
       "      <td>557.0</td>\n",
       "      <td>0.0</td>\n",
       "      <td>0.0</td>\n",
       "      <td>557.0</td>\n",
       "      <td>0.0</td>\n",
       "      <td>0.0</td>\n",
       "      <td>0.0</td>\n",
       "    </tr>\n",
       "    <tr>\n",
       "      <th>390</th>\n",
       "      <td>19008</td>\n",
       "      <td>210000.0</td>\n",
       "      <td>2</td>\n",
       "      <td>3</td>\n",
       "      <td>2</td>\n",
       "      <td>36</td>\n",
       "      <td>0</td>\n",
       "      <td>0</td>\n",
       "      <td>0</td>\n",
       "      <td>0</td>\n",
       "      <td>203447.0</td>\n",
       "      <td>206683.0</td>\n",
       "      <td>99411.0</td>\n",
       "      <td>63322.0</td>\n",
       "      <td>73433.0</td>\n",
       "      <td>4500.0</td>\n",
       "      <td>2407.0</td>\n",
       "      <td>12700.0</td>\n",
       "      <td>3200.0</td>\n",
       "    </tr>\n",
       "  </tbody>\n",
       "</table>\n",
       "</div>"
      ],
      "text/plain": [
       "      CUSTOMER_ID  LIMIT_BAL  SEX  EDUCATION  MARRIAGE  AGE  PAY_3  PAY_4  \\\n",
       "1280        17739    20000.0    2          1         2   22      0      0   \n",
       "855          8498   360000.0    1          1         2   34      0      0   \n",
       "237          3977    90000.0    2          3         2   24     -1     -1   \n",
       "390         19008   210000.0    2          3         2   36      0      0   \n",
       "\n",
       "      PAY_5  PAY_6  BILL_AMT2  BILL_AMT3  BILL_AMT4  BILL_AMT5  BILL_AMT6  \\\n",
       "1280      0      0    18786.0    16249.0    16478.0    10735.0     3274.0   \n",
       "855       0      0   359050.0   366591.0   331833.0   288709.0   290583.0   \n",
       "237      -1     -2      207.0    18189.0      557.0        0.0        0.0   \n",
       "390       0      0   203447.0   206683.0    99411.0    63322.0    73433.0   \n",
       "\n",
       "      PAY_AMT3  PAY_AMT4  PAY_AMT5  PAY_AMT6  \n",
       "1280    1000.0     215.0      65.0       0.0  \n",
       "855    13801.0    9852.0   10224.0   10010.0  \n",
       "237      557.0       0.0       0.0       0.0  \n",
       "390     4500.0    2407.0   12700.0    3200.0  "
      ]
     },
     "execution_count": 31,
     "metadata": {},
     "output_type": "execute_result"
    }
   ],
   "source": [
    "val = pd.read_csv(liga + 'val_PAY_AMT2.csv',\n",
    "                 encoding = 'ascii',\n",
    "                 sep = '|',\n",
    "                 low_memory = False)\n",
    "val.sample(4)"
   ]
  },
  {
   "cell_type": "code",
   "execution_count": 32,
   "metadata": {
    "ExecuteTime": {
     "end_time": "2020-11-05T21:22:26.800927Z",
     "start_time": "2020-11-05T21:22:26.739060Z"
    }
   },
   "outputs": [
    {
     "name": "stdout",
     "output_type": "stream",
     "text": [
      "<class 'pandas.core.frame.DataFrame'>\n",
      "RangeIndex: 1875 entries, 0 to 1874\n",
      "Data columns (total 7 columns):\n",
      " #   Column     Non-Null Count  Dtype \n",
      "---  ------     --------------  ----- \n",
      " 0   SEX        1875 non-null   object\n",
      " 1   EDUCATION  1875 non-null   object\n",
      " 2   MARRIAGE   1875 non-null   object\n",
      " 3   PAY_3      1875 non-null   object\n",
      " 4   PAY_4      1875 non-null   object\n",
      " 5   PAY_5      1875 non-null   object\n",
      " 6   PAY_6      1875 non-null   object\n",
      "dtypes: object(7)\n",
      "memory usage: 102.7+ KB\n"
     ]
    }
   ],
   "source": [
    "cat = list(val.columns[2:10])\n",
    "cat = [x for x in cat if x not in ['AGE']]\n",
    "for col in cat:\n",
    "    val[col] = val[col].astype(str)\n",
    "val[cat].info()"
   ]
  },
  {
   "cell_type": "code",
   "execution_count": 33,
   "metadata": {
    "ExecuteTime": {
     "end_time": "2020-11-05T21:22:26.835547Z",
     "start_time": "2020-11-05T21:22:26.804672Z"
    }
   },
   "outputs": [
    {
     "name": "stdout",
     "output_type": "stream",
     "text": [
      "<class 'pandas.core.frame.DataFrame'>\n",
      "RangeIndex: 1875 entries, 0 to 1874\n",
      "Data columns (total 11 columns):\n",
      " #   Column     Non-Null Count  Dtype  \n",
      "---  ------     --------------  -----  \n",
      " 0   LIMIT_BAL  1875 non-null   float64\n",
      " 1   AGE        1875 non-null   int64  \n",
      " 2   BILL_AMT2  1875 non-null   float64\n",
      " 3   BILL_AMT3  1875 non-null   float64\n",
      " 4   BILL_AMT4  1875 non-null   float64\n",
      " 5   BILL_AMT5  1875 non-null   float64\n",
      " 6   BILL_AMT6  1875 non-null   float64\n",
      " 7   PAY_AMT3   1875 non-null   float64\n",
      " 8   PAY_AMT4   1875 non-null   float64\n",
      " 9   PAY_AMT5   1875 non-null   float64\n",
      " 10  PAY_AMT6   1875 non-null   float64\n",
      "dtypes: float64(10), int64(1)\n",
      "memory usage: 161.3 KB\n"
     ]
    }
   ],
   "source": [
    "## Ya no existe PAY_AMT1 ni 2 \n",
    "num = [col for col in val.columns if col not in cat + ['CUSTOMER_ID']]\n",
    "val[num].info()"
   ]
  },
  {
   "cell_type": "code",
   "execution_count": 34,
   "metadata": {
    "ExecuteTime": {
     "end_time": "2020-11-05T21:22:26.856792Z",
     "start_time": "2020-11-05T21:22:26.840327Z"
    }
   },
   "outputs": [],
   "source": [
    "## Ya existen los conjuntos, pero no está de más redefinirlos\n",
    "pay = [col for col in df.columns if col.startswith('PAY')]\n",
    "pago = [x for x in pay if x.startswith('PAY_AMT')]\n",
    "estatus = [x for x in pay if x not in pago]\n",
    "monto = [col for col in df.columns if col.startswith('BILL')]"
   ]
  },
  {
   "cell_type": "code",
   "execution_count": 35,
   "metadata": {
    "ExecuteTime": {
     "end_time": "2020-11-05T21:22:26.924886Z",
     "start_time": "2020-11-05T21:22:26.866701Z"
    }
   },
   "outputs": [
    {
     "data": {
      "text/html": [
       "<div>\n",
       "<style scoped>\n",
       "    .dataframe tbody tr th:only-of-type {\n",
       "        vertical-align: middle;\n",
       "    }\n",
       "\n",
       "    .dataframe tbody tr th {\n",
       "        vertical-align: top;\n",
       "    }\n",
       "\n",
       "    .dataframe thead th {\n",
       "        text-align: right;\n",
       "    }\n",
       "</style>\n",
       "<table border=\"1\" class=\"dataframe\">\n",
       "  <thead>\n",
       "    <tr style=\"text-align: right;\">\n",
       "      <th></th>\n",
       "      <th>PAY_3_-1</th>\n",
       "      <th>PAY_3_-2</th>\n",
       "      <th>PAY_3_&gt;=1</th>\n",
       "      <th>PAY_4_-2</th>\n",
       "      <th>PAY_6_-1</th>\n",
       "      <th>PAY_6_-2</th>\n",
       "      <th>LIMIT_BAL</th>\n",
       "      <th>BILL_AMT2</th>\n",
       "      <th>BILL_AMT3</th>\n",
       "      <th>BILL_AMT4</th>\n",
       "      <th>BILL_AMT5</th>\n",
       "      <th>BILL_AMT6</th>\n",
       "      <th>PAY_AMT3</th>\n",
       "      <th>PAY_AMT4</th>\n",
       "      <th>PAY_AMT5</th>\n",
       "      <th>PAY_AMT6</th>\n",
       "      <th>Prom_monto</th>\n",
       "    </tr>\n",
       "  </thead>\n",
       "  <tbody>\n",
       "    <tr>\n",
       "      <th>3375</th>\n",
       "      <td>0.0</td>\n",
       "      <td>0.0</td>\n",
       "      <td>0.0</td>\n",
       "      <td>0.0</td>\n",
       "      <td>0.0</td>\n",
       "      <td>0.0</td>\n",
       "      <td>0.054795</td>\n",
       "      <td>0.075922</td>\n",
       "      <td>0.080037</td>\n",
       "      <td>0.078858</td>\n",
       "      <td>0.078694</td>\n",
       "      <td>0.068504</td>\n",
       "      <td>0.002141</td>\n",
       "      <td>0.003394</td>\n",
       "      <td>0.003072</td>\n",
       "      <td>0.002172</td>\n",
       "      <td>0.053937</td>\n",
       "    </tr>\n",
       "  </tbody>\n",
       "</table>\n",
       "</div>"
      ],
      "text/plain": [
       "      PAY_3_-1  PAY_3_-2  PAY_3_>=1  PAY_4_-2  PAY_6_-1  PAY_6_-2  LIMIT_BAL  \\\n",
       "3375       0.0       0.0        0.0       0.0       0.0       0.0   0.054795   \n",
       "\n",
       "      BILL_AMT2  BILL_AMT3  BILL_AMT4  BILL_AMT5  BILL_AMT6  PAY_AMT3  \\\n",
       "3375   0.075922   0.080037   0.078858   0.078694   0.068504  0.002141   \n",
       "\n",
       "      PAY_AMT4  PAY_AMT5  PAY_AMT6  Prom_monto  \n",
       "3375  0.003394  0.003072  0.002172    0.053937  "
      ]
     },
     "execution_count": 35,
     "metadata": {},
     "output_type": "execute_result"
    }
   ],
   "source": [
    "## Qué columnas necesita el modelo?\n",
    "pd.DataFrame(X).sample()"
   ]
  },
  {
   "cell_type": "markdown",
   "metadata": {
    "ExecuteTime": {
     "end_time": "2020-11-03T16:26:17.671683Z",
     "start_time": "2020-11-03T16:26:17.599051Z"
    }
   },
   "source": [
    "Monto prom\n",
    "\n",
    "Agrupar PAY>=1\n",
    "\n",
    "Dummies para las categóricas\n",
    "\n",
    "Filtrar las mejores columnas\n",
    "\n",
    "Escalamiento"
   ]
  },
  {
   "cell_type": "markdown",
   "metadata": {},
   "source": [
    "### Ingeniería de variables"
   ]
  },
  {
   "cell_type": "code",
   "execution_count": 36,
   "metadata": {
    "ExecuteTime": {
     "end_time": "2020-11-05T21:22:26.979402Z",
     "start_time": "2020-11-05T21:22:26.934925Z"
    }
   },
   "outputs": [
    {
     "data": {
      "text/plain": [
       "count      1875.000000\n",
       "mean      44854.795307\n",
       "std       64883.562488\n",
       "min      -10099.400000\n",
       "25%        4126.000000\n",
       "50%       19289.600000\n",
       "75%       55675.800000\n",
       "max      500322.600000\n",
       "Name: Prom_monto, dtype: float64"
      ]
     },
     "execution_count": 36,
     "metadata": {},
     "output_type": "execute_result"
    }
   ],
   "source": [
    "## Promedio de todos los montos de pago\n",
    "val['Prom_monto'] = val[monto].mean(axis = 1)\n",
    "num += ['Prom_monto']\n",
    "val['Prom_monto'].describe()"
   ]
  },
  {
   "cell_type": "code",
   "execution_count": 37,
   "metadata": {
    "ExecuteTime": {
     "end_time": "2020-11-05T21:22:27.157858Z",
     "start_time": "2020-11-05T21:22:26.990654Z"
    }
   },
   "outputs": [
    {
     "data": {
      "text/html": [
       "<div>\n",
       "<style scoped>\n",
       "    .dataframe tbody tr th:only-of-type {\n",
       "        vertical-align: middle;\n",
       "    }\n",
       "\n",
       "    .dataframe tbody tr th {\n",
       "        vertical-align: top;\n",
       "    }\n",
       "\n",
       "    .dataframe thead th {\n",
       "        text-align: right;\n",
       "    }\n",
       "</style>\n",
       "<table border=\"1\" class=\"dataframe\">\n",
       "  <thead>\n",
       "    <tr style=\"text-align: right;\">\n",
       "      <th></th>\n",
       "      <th>index</th>\n",
       "      <th>PAY_3</th>\n",
       "    </tr>\n",
       "  </thead>\n",
       "  <tbody>\n",
       "    <tr>\n",
       "      <th>1</th>\n",
       "      <td>-1</td>\n",
       "      <td>0.198400</td>\n",
       "    </tr>\n",
       "    <tr>\n",
       "      <th>3</th>\n",
       "      <td>-2</td>\n",
       "      <td>0.135467</td>\n",
       "    </tr>\n",
       "    <tr>\n",
       "      <th>0</th>\n",
       "      <td>0</td>\n",
       "      <td>0.525333</td>\n",
       "    </tr>\n",
       "    <tr>\n",
       "      <th>2</th>\n",
       "      <td>&gt;=1</td>\n",
       "      <td>0.140800</td>\n",
       "    </tr>\n",
       "  </tbody>\n",
       "</table>\n",
       "</div>"
      ],
      "text/plain": [
       "  index     PAY_3\n",
       "1    -1  0.198400\n",
       "3    -2  0.135467\n",
       "0     0  0.525333\n",
       "2   >=1  0.140800"
      ]
     },
     "metadata": {},
     "output_type": "display_data"
    },
    {
     "data": {
      "text/html": [
       "<div>\n",
       "<style scoped>\n",
       "    .dataframe tbody tr th:only-of-type {\n",
       "        vertical-align: middle;\n",
       "    }\n",
       "\n",
       "    .dataframe tbody tr th {\n",
       "        vertical-align: top;\n",
       "    }\n",
       "\n",
       "    .dataframe thead th {\n",
       "        text-align: right;\n",
       "    }\n",
       "</style>\n",
       "<table border=\"1\" class=\"dataframe\">\n",
       "  <thead>\n",
       "    <tr style=\"text-align: right;\">\n",
       "      <th></th>\n",
       "      <th>index</th>\n",
       "      <th>PAY_4</th>\n",
       "    </tr>\n",
       "  </thead>\n",
       "  <tbody>\n",
       "    <tr>\n",
       "      <th>1</th>\n",
       "      <td>-1</td>\n",
       "      <td>0.197333</td>\n",
       "    </tr>\n",
       "    <tr>\n",
       "      <th>2</th>\n",
       "      <td>-2</td>\n",
       "      <td>0.142933</td>\n",
       "    </tr>\n",
       "    <tr>\n",
       "      <th>0</th>\n",
       "      <td>0</td>\n",
       "      <td>0.539200</td>\n",
       "    </tr>\n",
       "    <tr>\n",
       "      <th>3</th>\n",
       "      <td>&gt;=1</td>\n",
       "      <td>0.120533</td>\n",
       "    </tr>\n",
       "  </tbody>\n",
       "</table>\n",
       "</div>"
      ],
      "text/plain": [
       "  index     PAY_4\n",
       "1    -1  0.197333\n",
       "2    -2  0.142933\n",
       "0     0  0.539200\n",
       "3   >=1  0.120533"
      ]
     },
     "metadata": {},
     "output_type": "display_data"
    },
    {
     "data": {
      "text/html": [
       "<div>\n",
       "<style scoped>\n",
       "    .dataframe tbody tr th:only-of-type {\n",
       "        vertical-align: middle;\n",
       "    }\n",
       "\n",
       "    .dataframe tbody tr th {\n",
       "        vertical-align: top;\n",
       "    }\n",
       "\n",
       "    .dataframe thead th {\n",
       "        text-align: right;\n",
       "    }\n",
       "</style>\n",
       "<table border=\"1\" class=\"dataframe\">\n",
       "  <thead>\n",
       "    <tr style=\"text-align: right;\">\n",
       "      <th></th>\n",
       "      <th>index</th>\n",
       "      <th>PAY_5</th>\n",
       "    </tr>\n",
       "  </thead>\n",
       "  <tbody>\n",
       "    <tr>\n",
       "      <th>1</th>\n",
       "      <td>-1</td>\n",
       "      <td>0.177600</td>\n",
       "    </tr>\n",
       "    <tr>\n",
       "      <th>2</th>\n",
       "      <td>-2</td>\n",
       "      <td>0.154667</td>\n",
       "    </tr>\n",
       "    <tr>\n",
       "      <th>0</th>\n",
       "      <td>0</td>\n",
       "      <td>0.565333</td>\n",
       "    </tr>\n",
       "    <tr>\n",
       "      <th>3</th>\n",
       "      <td>&gt;=1</td>\n",
       "      <td>0.102400</td>\n",
       "    </tr>\n",
       "  </tbody>\n",
       "</table>\n",
       "</div>"
      ],
      "text/plain": [
       "  index     PAY_5\n",
       "1    -1  0.177600\n",
       "2    -2  0.154667\n",
       "0     0  0.565333\n",
       "3   >=1  0.102400"
      ]
     },
     "metadata": {},
     "output_type": "display_data"
    },
    {
     "data": {
      "text/html": [
       "<div>\n",
       "<style scoped>\n",
       "    .dataframe tbody tr th:only-of-type {\n",
       "        vertical-align: middle;\n",
       "    }\n",
       "\n",
       "    .dataframe tbody tr th {\n",
       "        vertical-align: top;\n",
       "    }\n",
       "\n",
       "    .dataframe thead th {\n",
       "        text-align: right;\n",
       "    }\n",
       "</style>\n",
       "<table border=\"1\" class=\"dataframe\">\n",
       "  <thead>\n",
       "    <tr style=\"text-align: right;\">\n",
       "      <th></th>\n",
       "      <th>index</th>\n",
       "      <th>PAY_6</th>\n",
       "    </tr>\n",
       "  </thead>\n",
       "  <tbody>\n",
       "    <tr>\n",
       "      <th>1</th>\n",
       "      <td>-1</td>\n",
       "      <td>0.192000</td>\n",
       "    </tr>\n",
       "    <tr>\n",
       "      <th>2</th>\n",
       "      <td>-2</td>\n",
       "      <td>0.165867</td>\n",
       "    </tr>\n",
       "    <tr>\n",
       "      <th>0</th>\n",
       "      <td>0</td>\n",
       "      <td>0.544000</td>\n",
       "    </tr>\n",
       "    <tr>\n",
       "      <th>3</th>\n",
       "      <td>&gt;=1</td>\n",
       "      <td>0.098133</td>\n",
       "    </tr>\n",
       "  </tbody>\n",
       "</table>\n",
       "</div>"
      ],
      "text/plain": [
       "  index     PAY_6\n",
       "1    -1  0.192000\n",
       "2    -2  0.165867\n",
       "0     0  0.544000\n",
       "3   >=1  0.098133"
      ]
     },
     "metadata": {},
     "output_type": "display_data"
    }
   ],
   "source": [
    "for col in estatus:\n",
    "    aux = []\n",
    "    for i in range(len(val)):\n",
    "        if int(val[col][i]) >= 1:\n",
    "            aux.append('>=1')\n",
    "        else:\n",
    "            aux.append(val[col][i])\n",
    "    val[col] = aux\n",
    "\n",
    "for col in estatus:\n",
    "    display(val[col].value_counts(1).reset_index().sort_values(by = 'index'))"
   ]
  },
  {
   "cell_type": "markdown",
   "metadata": {},
   "source": [
    "### Reducción de dimensiones"
   ]
  },
  {
   "cell_type": "code",
   "execution_count": 38,
   "metadata": {
    "ExecuteTime": {
     "end_time": "2020-11-05T21:22:27.317575Z",
     "start_time": "2020-11-05T21:22:27.160777Z"
    }
   },
   "outputs": [
    {
     "data": {
      "text/html": [
       "<div>\n",
       "<style scoped>\n",
       "    .dataframe tbody tr th:only-of-type {\n",
       "        vertical-align: middle;\n",
       "    }\n",
       "\n",
       "    .dataframe tbody tr th {\n",
       "        vertical-align: top;\n",
       "    }\n",
       "\n",
       "    .dataframe thead th {\n",
       "        text-align: right;\n",
       "    }\n",
       "</style>\n",
       "<table border=\"1\" class=\"dataframe\">\n",
       "  <thead>\n",
       "    <tr style=\"text-align: right;\">\n",
       "      <th></th>\n",
       "      <th>PAY_3_-1</th>\n",
       "      <th>PAY_3_-2</th>\n",
       "      <th>PAY_3_&gt;=1</th>\n",
       "      <th>PAY_4_-2</th>\n",
       "      <th>PAY_6_-1</th>\n",
       "      <th>PAY_6_-2</th>\n",
       "      <th>LIMIT_BAL</th>\n",
       "      <th>BILL_AMT2</th>\n",
       "      <th>BILL_AMT3</th>\n",
       "      <th>BILL_AMT4</th>\n",
       "      <th>BILL_AMT5</th>\n",
       "      <th>BILL_AMT6</th>\n",
       "      <th>PAY_AMT3</th>\n",
       "      <th>PAY_AMT4</th>\n",
       "      <th>PAY_AMT5</th>\n",
       "      <th>PAY_AMT6</th>\n",
       "      <th>Prom_monto</th>\n",
       "    </tr>\n",
       "  </thead>\n",
       "  <tbody>\n",
       "    <tr>\n",
       "      <th>count</th>\n",
       "      <td>1875.000000</td>\n",
       "      <td>1875.000000</td>\n",
       "      <td>1875.000000</td>\n",
       "      <td>1875.000000</td>\n",
       "      <td>1875.000000</td>\n",
       "      <td>1875.000000</td>\n",
       "      <td>1875.000000</td>\n",
       "      <td>1875.000000</td>\n",
       "      <td>1875.000000</td>\n",
       "      <td>1875.000000</td>\n",
       "      <td>1875.000000</td>\n",
       "      <td>1875.000000</td>\n",
       "      <td>1875.000000</td>\n",
       "      <td>1875.000000</td>\n",
       "      <td>1875.000000</td>\n",
       "      <td>1875.000000</td>\n",
       "      <td>1875.000000</td>\n",
       "    </tr>\n",
       "    <tr>\n",
       "      <th>mean</th>\n",
       "      <td>0.198400</td>\n",
       "      <td>0.135467</td>\n",
       "      <td>0.140800</td>\n",
       "      <td>0.142933</td>\n",
       "      <td>0.192000</td>\n",
       "      <td>0.165867</td>\n",
       "      <td>170213.333333</td>\n",
       "      <td>49971.432000</td>\n",
       "      <td>47479.625600</td>\n",
       "      <td>44586.739733</td>\n",
       "      <td>41852.840533</td>\n",
       "      <td>40383.338667</td>\n",
       "      <td>6141.407467</td>\n",
       "      <td>5587.078400</td>\n",
       "      <td>5042.612267</td>\n",
       "      <td>5817.337600</td>\n",
       "      <td>44854.795307</td>\n",
       "    </tr>\n",
       "    <tr>\n",
       "      <th>std</th>\n",
       "      <td>0.398901</td>\n",
       "      <td>0.342313</td>\n",
       "      <td>0.347908</td>\n",
       "      <td>0.350098</td>\n",
       "      <td>0.393978</td>\n",
       "      <td>0.372060</td>\n",
       "      <td>132062.116838</td>\n",
       "      <td>73103.143142</td>\n",
       "      <td>71302.046281</td>\n",
       "      <td>66883.478661</td>\n",
       "      <td>63875.424128</td>\n",
       "      <td>62332.046515</td>\n",
       "      <td>26778.905772</td>\n",
       "      <td>23241.159608</td>\n",
       "      <td>13688.012436</td>\n",
       "      <td>19385.157253</td>\n",
       "      <td>64883.562488</td>\n",
       "    </tr>\n",
       "    <tr>\n",
       "      <th>min</th>\n",
       "      <td>0.000000</td>\n",
       "      <td>0.000000</td>\n",
       "      <td>0.000000</td>\n",
       "      <td>0.000000</td>\n",
       "      <td>0.000000</td>\n",
       "      <td>0.000000</td>\n",
       "      <td>10000.000000</td>\n",
       "      <td>-8523.000000</td>\n",
       "      <td>-61506.000000</td>\n",
       "      <td>-10938.000000</td>\n",
       "      <td>-37594.000000</td>\n",
       "      <td>-21295.000000</td>\n",
       "      <td>0.000000</td>\n",
       "      <td>0.000000</td>\n",
       "      <td>0.000000</td>\n",
       "      <td>0.000000</td>\n",
       "      <td>-10099.400000</td>\n",
       "    </tr>\n",
       "    <tr>\n",
       "      <th>25%</th>\n",
       "      <td>0.000000</td>\n",
       "      <td>0.000000</td>\n",
       "      <td>0.000000</td>\n",
       "      <td>0.000000</td>\n",
       "      <td>0.000000</td>\n",
       "      <td>0.000000</td>\n",
       "      <td>50000.000000</td>\n",
       "      <td>3120.000000</td>\n",
       "      <td>2500.000000</td>\n",
       "      <td>2172.500000</td>\n",
       "      <td>1732.500000</td>\n",
       "      <td>1413.500000</td>\n",
       "      <td>339.500000</td>\n",
       "      <td>260.000000</td>\n",
       "      <td>316.000000</td>\n",
       "      <td>11.000000</td>\n",
       "      <td>4126.000000</td>\n",
       "    </tr>\n",
       "    <tr>\n",
       "      <th>50%</th>\n",
       "      <td>0.000000</td>\n",
       "      <td>0.000000</td>\n",
       "      <td>0.000000</td>\n",
       "      <td>0.000000</td>\n",
       "      <td>0.000000</td>\n",
       "      <td>0.000000</td>\n",
       "      <td>140000.000000</td>\n",
       "      <td>20496.000000</td>\n",
       "      <td>19085.000000</td>\n",
       "      <td>18768.000000</td>\n",
       "      <td>18121.000000</td>\n",
       "      <td>17500.000000</td>\n",
       "      <td>1665.000000</td>\n",
       "      <td>1500.000000</td>\n",
       "      <td>1544.000000</td>\n",
       "      <td>1500.000000</td>\n",
       "      <td>19289.600000</td>\n",
       "    </tr>\n",
       "    <tr>\n",
       "      <th>75%</th>\n",
       "      <td>0.000000</td>\n",
       "      <td>0.000000</td>\n",
       "      <td>0.000000</td>\n",
       "      <td>0.000000</td>\n",
       "      <td>0.000000</td>\n",
       "      <td>0.000000</td>\n",
       "      <td>240000.000000</td>\n",
       "      <td>66118.500000</td>\n",
       "      <td>58532.000000</td>\n",
       "      <td>53678.000000</td>\n",
       "      <td>50551.000000</td>\n",
       "      <td>48927.000000</td>\n",
       "      <td>5000.000000</td>\n",
       "      <td>4256.500000</td>\n",
       "      <td>4461.500000</td>\n",
       "      <td>4297.000000</td>\n",
       "      <td>55675.800000</td>\n",
       "    </tr>\n",
       "    <tr>\n",
       "      <th>max</th>\n",
       "      <td>1.000000</td>\n",
       "      <td>1.000000</td>\n",
       "      <td>1.000000</td>\n",
       "      <td>1.000000</td>\n",
       "      <td>1.000000</td>\n",
       "      <td>1.000000</td>\n",
       "      <td>650000.000000</td>\n",
       "      <td>605943.000000</td>\n",
       "      <td>499936.000000</td>\n",
       "      <td>514249.000000</td>\n",
       "      <td>484612.000000</td>\n",
       "      <td>472480.000000</td>\n",
       "      <td>889043.000000</td>\n",
       "      <td>621000.000000</td>\n",
       "      <td>231133.000000</td>\n",
       "      <td>308000.000000</td>\n",
       "      <td>500322.600000</td>\n",
       "    </tr>\n",
       "  </tbody>\n",
       "</table>\n",
       "</div>"
      ],
      "text/plain": [
       "          PAY_3_-1     PAY_3_-2    PAY_3_>=1     PAY_4_-2     PAY_6_-1  \\\n",
       "count  1875.000000  1875.000000  1875.000000  1875.000000  1875.000000   \n",
       "mean      0.198400     0.135467     0.140800     0.142933     0.192000   \n",
       "std       0.398901     0.342313     0.347908     0.350098     0.393978   \n",
       "min       0.000000     0.000000     0.000000     0.000000     0.000000   \n",
       "25%       0.000000     0.000000     0.000000     0.000000     0.000000   \n",
       "50%       0.000000     0.000000     0.000000     0.000000     0.000000   \n",
       "75%       0.000000     0.000000     0.000000     0.000000     0.000000   \n",
       "max       1.000000     1.000000     1.000000     1.000000     1.000000   \n",
       "\n",
       "          PAY_6_-2      LIMIT_BAL      BILL_AMT2      BILL_AMT3  \\\n",
       "count  1875.000000    1875.000000    1875.000000    1875.000000   \n",
       "mean      0.165867  170213.333333   49971.432000   47479.625600   \n",
       "std       0.372060  132062.116838   73103.143142   71302.046281   \n",
       "min       0.000000   10000.000000   -8523.000000  -61506.000000   \n",
       "25%       0.000000   50000.000000    3120.000000    2500.000000   \n",
       "50%       0.000000  140000.000000   20496.000000   19085.000000   \n",
       "75%       0.000000  240000.000000   66118.500000   58532.000000   \n",
       "max       1.000000  650000.000000  605943.000000  499936.000000   \n",
       "\n",
       "           BILL_AMT4      BILL_AMT5      BILL_AMT6       PAY_AMT3  \\\n",
       "count    1875.000000    1875.000000    1875.000000    1875.000000   \n",
       "mean    44586.739733   41852.840533   40383.338667    6141.407467   \n",
       "std     66883.478661   63875.424128   62332.046515   26778.905772   \n",
       "min    -10938.000000  -37594.000000  -21295.000000       0.000000   \n",
       "25%      2172.500000    1732.500000    1413.500000     339.500000   \n",
       "50%     18768.000000   18121.000000   17500.000000    1665.000000   \n",
       "75%     53678.000000   50551.000000   48927.000000    5000.000000   \n",
       "max    514249.000000  484612.000000  472480.000000  889043.000000   \n",
       "\n",
       "            PAY_AMT4       PAY_AMT5       PAY_AMT6     Prom_monto  \n",
       "count    1875.000000    1875.000000    1875.000000    1875.000000  \n",
       "mean     5587.078400    5042.612267    5817.337600   44854.795307  \n",
       "std     23241.159608   13688.012436   19385.157253   64883.562488  \n",
       "min         0.000000       0.000000       0.000000  -10099.400000  \n",
       "25%       260.000000     316.000000      11.000000    4126.000000  \n",
       "50%      1500.000000    1544.000000    1500.000000   19289.600000  \n",
       "75%      4256.500000    4461.500000    4297.000000   55675.800000  \n",
       "max    621000.000000  231133.000000  308000.000000  500322.600000  "
      ]
     },
     "execution_count": 38,
     "metadata": {},
     "output_type": "execute_result"
    }
   ],
   "source": [
    "modelo = pd.get_dummies(val[cat]).join(val[num])[ls_best]\n",
    "modelo.describe()"
   ]
  },
  {
   "cell_type": "markdown",
   "metadata": {},
   "source": [
    "### Escalamiento"
   ]
  },
  {
   "cell_type": "code",
   "execution_count": 39,
   "metadata": {
    "ExecuteTime": {
     "end_time": "2020-11-05T21:22:27.413960Z",
     "start_time": "2020-11-05T21:22:27.320105Z"
    }
   },
   "outputs": [
    {
     "data": {
      "text/html": [
       "<div>\n",
       "<style scoped>\n",
       "    .dataframe tbody tr th:only-of-type {\n",
       "        vertical-align: middle;\n",
       "    }\n",
       "\n",
       "    .dataframe tbody tr th {\n",
       "        vertical-align: top;\n",
       "    }\n",
       "\n",
       "    .dataframe thead th {\n",
       "        text-align: right;\n",
       "    }\n",
       "</style>\n",
       "<table border=\"1\" class=\"dataframe\">\n",
       "  <thead>\n",
       "    <tr style=\"text-align: right;\">\n",
       "      <th></th>\n",
       "      <th>PAY_3_-1</th>\n",
       "      <th>PAY_3_-2</th>\n",
       "      <th>PAY_3_&gt;=1</th>\n",
       "      <th>PAY_4_-2</th>\n",
       "      <th>PAY_6_-1</th>\n",
       "      <th>PAY_6_-2</th>\n",
       "      <th>LIMIT_BAL</th>\n",
       "      <th>BILL_AMT2</th>\n",
       "      <th>BILL_AMT3</th>\n",
       "      <th>BILL_AMT4</th>\n",
       "      <th>BILL_AMT5</th>\n",
       "      <th>BILL_AMT6</th>\n",
       "      <th>PAY_AMT3</th>\n",
       "      <th>PAY_AMT4</th>\n",
       "      <th>PAY_AMT5</th>\n",
       "      <th>PAY_AMT6</th>\n",
       "      <th>Prom_monto</th>\n",
       "    </tr>\n",
       "  </thead>\n",
       "  <tbody>\n",
       "    <tr>\n",
       "      <th>count</th>\n",
       "      <td>1875.000000</td>\n",
       "      <td>1875.000000</td>\n",
       "      <td>1875.000000</td>\n",
       "      <td>1875.000000</td>\n",
       "      <td>1875.000000</td>\n",
       "      <td>1875.000000</td>\n",
       "      <td>1875.000000</td>\n",
       "      <td>1875.000000</td>\n",
       "      <td>1875.000000</td>\n",
       "      <td>1875.000000</td>\n",
       "      <td>1875.000000</td>\n",
       "      <td>1875.000000</td>\n",
       "      <td>1875.000000</td>\n",
       "      <td>1875.000000</td>\n",
       "      <td>1875.000000</td>\n",
       "      <td>1875.000000</td>\n",
       "      <td>1875.000000</td>\n",
       "    </tr>\n",
       "    <tr>\n",
       "      <th>mean</th>\n",
       "      <td>0.198400</td>\n",
       "      <td>0.135467</td>\n",
       "      <td>0.140800</td>\n",
       "      <td>0.142933</td>\n",
       "      <td>0.192000</td>\n",
       "      <td>0.165867</td>\n",
       "      <td>0.219470</td>\n",
       "      <td>0.113990</td>\n",
       "      <td>0.112649</td>\n",
       "      <td>0.106681</td>\n",
       "      <td>0.111039</td>\n",
       "      <td>0.099316</td>\n",
       "      <td>0.015466</td>\n",
       "      <td>0.021768</td>\n",
       "      <td>0.015903</td>\n",
       "      <td>0.013132</td>\n",
       "      <td>0.091705</td>\n",
       "    </tr>\n",
       "    <tr>\n",
       "      <th>std</th>\n",
       "      <td>0.398901</td>\n",
       "      <td>0.342313</td>\n",
       "      <td>0.347908</td>\n",
       "      <td>0.350098</td>\n",
       "      <td>0.393978</td>\n",
       "      <td>0.372060</td>\n",
       "      <td>0.180907</td>\n",
       "      <td>0.104200</td>\n",
       "      <td>0.098529</td>\n",
       "      <td>0.090216</td>\n",
       "      <td>0.116163</td>\n",
       "      <td>0.119064</td>\n",
       "      <td>0.067438</td>\n",
       "      <td>0.090552</td>\n",
       "      <td>0.043169</td>\n",
       "      <td>0.043759</td>\n",
       "      <td>0.116858</td>\n",
       "    </tr>\n",
       "    <tr>\n",
       "      <th>min</th>\n",
       "      <td>0.000000</td>\n",
       "      <td>0.000000</td>\n",
       "      <td>0.000000</td>\n",
       "      <td>0.000000</td>\n",
       "      <td>0.000000</td>\n",
       "      <td>0.000000</td>\n",
       "      <td>0.000000</td>\n",
       "      <td>0.030613</td>\n",
       "      <td>-0.037952</td>\n",
       "      <td>0.031786</td>\n",
       "      <td>-0.033442</td>\n",
       "      <td>-0.018500</td>\n",
       "      <td>0.000000</td>\n",
       "      <td>0.000000</td>\n",
       "      <td>0.000000</td>\n",
       "      <td>0.000000</td>\n",
       "      <td>-0.007270</td>\n",
       "    </tr>\n",
       "    <tr>\n",
       "      <th>25%</th>\n",
       "      <td>0.000000</td>\n",
       "      <td>0.000000</td>\n",
       "      <td>0.000000</td>\n",
       "      <td>0.000000</td>\n",
       "      <td>0.000000</td>\n",
       "      <td>0.000000</td>\n",
       "      <td>0.054795</td>\n",
       "      <td>0.047209</td>\n",
       "      <td>0.050494</td>\n",
       "      <td>0.049470</td>\n",
       "      <td>0.038077</td>\n",
       "      <td>0.024877</td>\n",
       "      <td>0.000855</td>\n",
       "      <td>0.001013</td>\n",
       "      <td>0.000997</td>\n",
       "      <td>0.000025</td>\n",
       "      <td>0.018350</td>\n",
       "    </tr>\n",
       "    <tr>\n",
       "      <th>50%</th>\n",
       "      <td>0.000000</td>\n",
       "      <td>0.000000</td>\n",
       "      <td>0.000000</td>\n",
       "      <td>0.000000</td>\n",
       "      <td>0.000000</td>\n",
       "      <td>0.000000</td>\n",
       "      <td>0.178082</td>\n",
       "      <td>0.071976</td>\n",
       "      <td>0.073412</td>\n",
       "      <td>0.071855</td>\n",
       "      <td>0.067881</td>\n",
       "      <td>0.055605</td>\n",
       "      <td>0.004193</td>\n",
       "      <td>0.005844</td>\n",
       "      <td>0.004869</td>\n",
       "      <td>0.003386</td>\n",
       "      <td>0.045661</td>\n",
       "    </tr>\n",
       "    <tr>\n",
       "      <th>75%</th>\n",
       "      <td>0.000000</td>\n",
       "      <td>0.000000</td>\n",
       "      <td>0.000000</td>\n",
       "      <td>0.000000</td>\n",
       "      <td>0.000000</td>\n",
       "      <td>0.000000</td>\n",
       "      <td>0.315068</td>\n",
       "      <td>0.137006</td>\n",
       "      <td>0.127922</td>\n",
       "      <td>0.118944</td>\n",
       "      <td>0.126857</td>\n",
       "      <td>0.115636</td>\n",
       "      <td>0.012592</td>\n",
       "      <td>0.016584</td>\n",
       "      <td>0.014071</td>\n",
       "      <td>0.009700</td>\n",
       "      <td>0.111194</td>\n",
       "    </tr>\n",
       "    <tr>\n",
       "      <th>max</th>\n",
       "      <td>1.000000</td>\n",
       "      <td>1.000000</td>\n",
       "      <td>1.000000</td>\n",
       "      <td>1.000000</td>\n",
       "      <td>1.000000</td>\n",
       "      <td>1.000000</td>\n",
       "      <td>0.876712</td>\n",
       "      <td>0.906466</td>\n",
       "      <td>0.737876</td>\n",
       "      <td>0.740189</td>\n",
       "      <td>0.916236</td>\n",
       "      <td>0.924692</td>\n",
       "      <td>2.238884</td>\n",
       "      <td>2.419525</td>\n",
       "      <td>0.728949</td>\n",
       "      <td>0.695258</td>\n",
       "      <td>0.912022</td>\n",
       "    </tr>\n",
       "  </tbody>\n",
       "</table>\n",
       "</div>"
      ],
      "text/plain": [
       "          PAY_3_-1     PAY_3_-2    PAY_3_>=1     PAY_4_-2     PAY_6_-1  \\\n",
       "count  1875.000000  1875.000000  1875.000000  1875.000000  1875.000000   \n",
       "mean      0.198400     0.135467     0.140800     0.142933     0.192000   \n",
       "std       0.398901     0.342313     0.347908     0.350098     0.393978   \n",
       "min       0.000000     0.000000     0.000000     0.000000     0.000000   \n",
       "25%       0.000000     0.000000     0.000000     0.000000     0.000000   \n",
       "50%       0.000000     0.000000     0.000000     0.000000     0.000000   \n",
       "75%       0.000000     0.000000     0.000000     0.000000     0.000000   \n",
       "max       1.000000     1.000000     1.000000     1.000000     1.000000   \n",
       "\n",
       "          PAY_6_-2    LIMIT_BAL    BILL_AMT2    BILL_AMT3    BILL_AMT4  \\\n",
       "count  1875.000000  1875.000000  1875.000000  1875.000000  1875.000000   \n",
       "mean      0.165867     0.219470     0.113990     0.112649     0.106681   \n",
       "std       0.372060     0.180907     0.104200     0.098529     0.090216   \n",
       "min       0.000000     0.000000     0.030613    -0.037952     0.031786   \n",
       "25%       0.000000     0.054795     0.047209     0.050494     0.049470   \n",
       "50%       0.000000     0.178082     0.071976     0.073412     0.071855   \n",
       "75%       0.000000     0.315068     0.137006     0.127922     0.118944   \n",
       "max       1.000000     0.876712     0.906466     0.737876     0.740189   \n",
       "\n",
       "         BILL_AMT5    BILL_AMT6     PAY_AMT3     PAY_AMT4     PAY_AMT5  \\\n",
       "count  1875.000000  1875.000000  1875.000000  1875.000000  1875.000000   \n",
       "mean      0.111039     0.099316     0.015466     0.021768     0.015903   \n",
       "std       0.116163     0.119064     0.067438     0.090552     0.043169   \n",
       "min      -0.033442    -0.018500     0.000000     0.000000     0.000000   \n",
       "25%       0.038077     0.024877     0.000855     0.001013     0.000997   \n",
       "50%       0.067881     0.055605     0.004193     0.005844     0.004869   \n",
       "75%       0.126857     0.115636     0.012592     0.016584     0.014071   \n",
       "max       0.916236     0.924692     2.238884     2.419525     0.728949   \n",
       "\n",
       "          PAY_AMT6   Prom_monto  \n",
       "count  1875.000000  1875.000000  \n",
       "mean      0.013132     0.091705  \n",
       "std       0.043759     0.116858  \n",
       "min       0.000000    -0.007270  \n",
       "25%       0.000025     0.018350  \n",
       "50%       0.003386     0.045661  \n",
       "75%       0.009700     0.111194  \n",
       "max       0.695258     0.912022  "
      ]
     },
     "execution_count": 39,
     "metadata": {},
     "output_type": "execute_result"
    }
   ],
   "source": [
    "modelo = pd.DataFrame(mm_x.transform(modelo), columns = modelo.columns)\n",
    "modelo.describe()"
   ]
  },
  {
   "cell_type": "markdown",
   "metadata": {},
   "source": [
    "### Predicción"
   ]
  },
  {
   "cell_type": "code",
   "execution_count": 40,
   "metadata": {
    "ExecuteTime": {
     "end_time": "2020-11-05T21:22:27.481222Z",
     "start_time": "2020-11-05T21:22:27.416926Z"
    }
   },
   "outputs": [
    {
     "data": {
      "text/plain": [
       "count      1875.000000\n",
       "mean       5770.075118\n",
       "std       14185.558989\n",
       "min     -119625.937747\n",
       "25%        1253.525439\n",
       "50%        4065.482917\n",
       "75%        8051.728154\n",
       "max      201647.918893\n",
       "Name: y_hat, dtype: float64"
      ]
     },
     "execution_count": 40,
     "metadata": {},
     "output_type": "execute_result"
    }
   ],
   "source": [
    "resultado = pd.DataFrame(elasnet_h.predict(modelo))\n",
    "resultado = pd.DataFrame(mm_y.inverse_transform(resultado),\n",
    "                         columns = ['y_hat'])\n",
    "resultado = pd.DataFrame(val['CUSTOMER_ID']).join(resultado)\n",
    "resultado['y_hat'].describe()"
   ]
  },
  {
   "cell_type": "code",
   "execution_count": 41,
   "metadata": {
    "ExecuteTime": {
     "end_time": "2020-11-05T21:22:27.523223Z",
     "start_time": "2020-11-05T21:22:27.491646Z"
    }
   },
   "outputs": [
    {
     "data": {
      "text/plain": [
       "(count    5.548000e+03\n",
       " mean     6.037457e+03\n",
       " std      2.883987e+04\n",
       " min      0.000000e+00\n",
       " 25%      8.382500e+02\n",
       " 50%      2.000000e+03\n",
       " 75%      5.000000e+03\n",
       " max      1.684259e+06\n",
       " Name: PAY_AMT2, dtype: float64,\n",
       "            PAY_AMT2\n",
       " count  5.550000e+02\n",
       " mean   9.246328e+03\n",
       " std    7.455792e+04\n",
       " min    0.000000e+00\n",
       " 25%    1.000000e+03\n",
       " 50%    2.327000e+03\n",
       " 75%    5.213500e+03\n",
       " max    1.684259e+06)"
      ]
     },
     "execution_count": 41,
     "metadata": {},
     "output_type": "execute_result"
    }
   ],
   "source": [
    "df['PAY_AMT2'].describe() , pd.DataFrame(y_test).describe()"
   ]
  },
  {
   "cell_type": "code",
   "execution_count": 42,
   "metadata": {
    "ExecuteTime": {
     "end_time": "2020-11-05T21:22:27.583168Z",
     "start_time": "2020-11-05T21:22:27.529608Z"
    },
    "scrolled": true
   },
   "outputs": [
    {
     "data": {
      "text/plain": [
       "count      1875.000000\n",
       "mean       6787.303781\n",
       "std       12506.132558\n",
       "min           0.000000\n",
       "25%        1253.525439\n",
       "50%        4065.482917\n",
       "75%        8051.728154\n",
       "max      201647.918893\n",
       "Name: y_hat, dtype: float64"
      ]
     },
     "execution_count": 42,
     "metadata": {},
     "output_type": "execute_result"
    }
   ],
   "source": [
    "## Hay predicciones negativas, se omiten\n",
    "aux = []\n",
    "for x in resultado['y_hat']:\n",
    "    if x < 0:\n",
    "        aux.append(0)\n",
    "    else:\n",
    "        aux.append(x)\n",
    "\n",
    "resultado['y_hat'] = aux\n",
    "resultado['y_hat'].describe()"
   ]
  },
  {
   "cell_type": "code",
   "execution_count": 43,
   "metadata": {
    "ExecuteTime": {
     "end_time": "2020-11-05T21:22:27.635931Z",
     "start_time": "2020-11-05T21:22:27.592494Z"
    }
   },
   "outputs": [],
   "source": [
    "resultado.to_csv(liga + 'FloresHernandezEfrainIsmael_PAYAMT2.csv',\n",
    "                 index = False)"
   ]
  }
 ],
 "metadata": {
  "kernelspec": {
   "display_name": "Python 3",
   "language": "python",
   "name": "python3"
  },
  "language_info": {
   "codemirror_mode": {
    "name": "ipython",
    "version": 3
   },
   "file_extension": ".py",
   "mimetype": "text/x-python",
   "name": "python",
   "nbconvert_exporter": "python",
   "pygments_lexer": "ipython3",
   "version": "3.8.5"
  },
  "toc": {
   "base_numbering": 1,
   "nav_menu": {},
   "number_sections": true,
   "sideBar": true,
   "skip_h1_title": true,
   "title_cell": "Table of Contents",
   "title_sidebar": "Contents",
   "toc_cell": false,
   "toc_position": {
    "height": "calc(100% - 180px)",
    "left": "10px",
    "top": "150px",
    "width": "203.542px"
   },
   "toc_section_display": true,
   "toc_window_display": true
  },
  "varInspector": {
   "cols": {
    "lenName": 16,
    "lenType": 16,
    "lenVar": 40
   },
   "kernels_config": {
    "python": {
     "delete_cmd_postfix": "",
     "delete_cmd_prefix": "del ",
     "library": "var_list.py",
     "varRefreshCmd": "print(var_dic_list())"
    },
    "r": {
     "delete_cmd_postfix": ") ",
     "delete_cmd_prefix": "rm(",
     "library": "var_list.r",
     "varRefreshCmd": "cat(var_dic_list()) "
    }
   },
   "types_to_exclude": [
    "module",
    "function",
    "builtin_function_or_method",
    "instance",
    "_Feature"
   ],
   "window_display": false
  }
 },
 "nbformat": 4,
 "nbformat_minor": 4
}
