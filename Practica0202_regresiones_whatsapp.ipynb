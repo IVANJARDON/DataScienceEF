{
 "cells": [
  {
   "cell_type": "markdown",
   "metadata": {},
   "source": [
    "# Practica Whatsapp"
   ]
  },
  {
   "cell_type": "markdown",
   "metadata": {},
   "source": [
    "## Importar"
   ]
  },
  {
   "cell_type": "code",
   "execution_count": 1,
   "metadata": {
    "ExecuteTime": {
     "end_time": "2020-10-26T20:56:36.564623Z",
     "start_time": "2020-10-26T20:56:33.734528Z"
    }
   },
   "outputs": [],
   "source": [
    "# %load basic\n",
    "import pandas as pd\n",
    "import numpy as np\n",
    "import matplotlib.pyplot as plt\n"
   ]
  },
  {
   "cell_type": "code",
   "execution_count": 2,
   "metadata": {
    "ExecuteTime": {
     "end_time": "2020-10-26T20:56:36.860660Z",
     "start_time": "2020-10-26T20:56:36.570849Z"
    }
   },
   "outputs": [
    {
     "data": {
      "text/html": [
       "<div>\n",
       "<style scoped>\n",
       "    .dataframe tbody tr th:only-of-type {\n",
       "        vertical-align: middle;\n",
       "    }\n",
       "\n",
       "    .dataframe tbody tr th {\n",
       "        vertical-align: top;\n",
       "    }\n",
       "\n",
       "    .dataframe thead th {\n",
       "        text-align: right;\n",
       "    }\n",
       "</style>\n",
       "<table border=\"1\" class=\"dataframe\">\n",
       "  <thead>\n",
       "    <tr style=\"text-align: right;\">\n",
       "      <th></th>\n",
       "      <th>0</th>\n",
       "    </tr>\n",
       "  </thead>\n",
       "  <tbody>\n",
       "    <tr>\n",
       "      <th>4571</th>\n",
       "      <td>4/4/20, 22:18 - Kevin Bacon: Jardon es rifado</td>\n",
       "    </tr>\n",
       "    <tr>\n",
       "      <th>30615</th>\n",
       "      <td>8/9/20, 20:05 - Kevin Bacon: .</td>\n",
       "    </tr>\n",
       "    <tr>\n",
       "      <th>38581</th>\n",
       "      <td>10/9/20, 18:15 - Kevin Bacon: Jajajajaja anda ...</td>\n",
       "    </tr>\n",
       "    <tr>\n",
       "      <th>33544</th>\n",
       "      <td>8/23/20, 20:25 - Iván Jardón: Si me compro el ...</td>\n",
       "    </tr>\n",
       "  </tbody>\n",
       "</table>\n",
       "</div>"
      ],
      "text/plain": [
       "                                                       0\n",
       "4571       4/4/20, 22:18 - Kevin Bacon: Jardon es rifado\n",
       "30615                     8/9/20, 20:05 - Kevin Bacon: .\n",
       "38581  10/9/20, 18:15 - Kevin Bacon: Jajajajaja anda ...\n",
       "33544  8/23/20, 20:25 - Iván Jardón: Si me compro el ..."
      ]
     },
     "execution_count": 2,
     "metadata": {},
     "output_type": "execute_result"
    }
   ],
   "source": [
    "df = pd.read_csv('/home/ef/Documents/Diplomado/data/Naps.txt',\n",
    "                 sep = ',-:',\n",
    "                 header = None,\n",
    "                 engine = 'python')\n",
    "df.sample(4)"
   ]
  },
  {
   "cell_type": "code",
   "execution_count": 3,
   "metadata": {
    "ExecuteTime": {
     "end_time": "2020-10-26T20:56:37.721654Z",
     "start_time": "2020-10-26T20:56:36.869773Z"
    }
   },
   "outputs": [
    {
     "data": {
      "text/html": [
       "<div>\n",
       "<style scoped>\n",
       "    .dataframe tbody tr th:only-of-type {\n",
       "        vertical-align: middle;\n",
       "    }\n",
       "\n",
       "    .dataframe tbody tr th {\n",
       "        vertical-align: top;\n",
       "    }\n",
       "\n",
       "    .dataframe thead th {\n",
       "        text-align: right;\n",
       "    }\n",
       "</style>\n",
       "<table border=\"1\" class=\"dataframe\">\n",
       "  <thead>\n",
       "    <tr style=\"text-align: right;\">\n",
       "      <th></th>\n",
       "      <th>Fecha</th>\n",
       "      <th>Hora</th>\n",
       "      <th>Autor</th>\n",
       "      <th>Mensaje</th>\n",
       "    </tr>\n",
       "  </thead>\n",
       "  <tbody>\n",
       "    <tr>\n",
       "      <th>33655</th>\n",
       "      <td>8/24/20</td>\n",
       "      <td>11:03</td>\n",
       "      <td>EF</td>\n",
       "      <td>Jajajaja</td>\n",
       "    </tr>\n",
       "    <tr>\n",
       "      <th>6986</th>\n",
       "      <td>4/23/20</td>\n",
       "      <td>14:32</td>\n",
       "      <td>Iván Jardón</td>\n",
       "      <td>Ayúdala tu entonces</td>\n",
       "    </tr>\n",
       "    <tr>\n",
       "      <th>39537</th>\n",
       "      <td>10/18/20</td>\n",
       "      <td>14:14</td>\n",
       "      <td>Kevin Bacon</td>\n",
       "      <td>Los tuyos también, brob</td>\n",
       "    </tr>\n",
       "    <tr>\n",
       "      <th>11508</th>\n",
       "      <td>5/16/20</td>\n",
       "      <td>16:27</td>\n",
       "      <td>Kevin Bacon</td>\n",
       "      <td>Luego averiguan por qué</td>\n",
       "    </tr>\n",
       "  </tbody>\n",
       "</table>\n",
       "</div>"
      ],
      "text/plain": [
       "          Fecha     Hora         Autor                   Mensaje\n",
       "33655   8/24/20   11:03             EF                  Jajajaja\n",
       "6986    4/23/20   14:32    Iván Jardón       Ayúdala tu entonces\n",
       "39537  10/18/20   14:14    Kevin Bacon   Los tuyos también, brob\n",
       "11508   5/16/20   16:27    Kevin Bacon   Luego averiguan por qué"
      ]
     },
     "execution_count": 3,
     "metadata": {},
     "output_type": "execute_result"
    }
   ],
   "source": [
    "## Se construye una tabla semi-estructurada\n",
    "aux1 = df[0].str.split(',', n = 1, expand = True).copy()\n",
    "df['Fecha'] = aux1[0]\n",
    "\n",
    "aux2 = aux1[1].str.split('-',n = 1, expand = True).copy()\n",
    "df['Hora'] = aux2[0]\n",
    "\n",
    "aux3 = aux2[1].str.split(':',n = 1, expand = True).copy()\n",
    "df['Autor'] = aux3[0]\n",
    "df['Mensaje'] = aux3[1]\n",
    "df = df.iloc[:,1:].copy()\n",
    "df.sample(4)"
   ]
  },
  {
   "cell_type": "markdown",
   "metadata": {},
   "source": [
    "## Limpieza"
   ]
  },
  {
   "cell_type": "markdown",
   "metadata": {},
   "source": [
    "### Autores"
   ]
  },
  {
   "cell_type": "code",
   "execution_count": 4,
   "metadata": {
    "ExecuteTime": {
     "end_time": "2020-10-26T20:56:37.786081Z",
     "start_time": "2020-10-26T20:56:37.728579Z"
    }
   },
   "outputs": [
    {
     "data": {
      "text/plain": [
       " Kevin Bacon                                                                                      0.397950\n",
       " Iván Jardón                                                                                      0.353325\n",
       " EF                                                                                               0.248250\n",
       " Iván Jardón changed their phone number to a new number. Tap to message or add the new number.    0.000050\n",
       " Iván Jardón added Kevin Bacon                                                                    0.000050\n",
       " Kevin Bacon left                                                                                 0.000050\n",
       " Kevin Bacon changed the subject from \"Naps 🐻🐼🐔\" to \"Naps 🐻🐼🐯\"                                    0.000050\n",
       " You changed this group's icon                                                                    0.000025\n",
       " Iván Jardón changed the subject from \"Naps 🐻🐼🐯\" to \"Naps 🐻🐼🐔\"                                    0.000025\n",
       " Kevin Bacon changed the subject from \"Naps Honestos 🐻🐼🐯\" to \"Call center Volaris\"                0.000025\n",
       "99.5737574994564                                                                                  0.000025\n",
       " Kevin Bacon changed the subject from \"Naps Solteros Honestos🐻🐼🐯\" to \"Naps Honestos 🐻🐼🐯\"          0.000025\n",
       " Kevin Bacon changed the subject from \"Call center Volaris\" to \"Naps 🐻🐼🐯\"                         0.000025\n",
       " Kevin Bacon changed the subject from \"Naps 🐻🐼🐯\" to \"Naps Solterones 🐻🐼🐯\"                         0.000025\n",
       " You added Iván Jardón                                                                            0.000025\n",
       " Iván Jardón changed the subject from \"Naps 🧔🏾👨🏻👨🏼\" to \"Naps 🐻🐼🐔\"                                 0.000025\n",
       " Kevin Bacon changed the subject from \"Naps Solterones 🐻🐼🐯\" to \"Naps Solteros Honestos🐻🐼🐯\"        0.000025\n",
       " You removed Iván Jardón                                                                          0.000025\n",
       "Name: Autor, dtype: float64"
      ]
     },
     "execution_count": 4,
     "metadata": {},
     "output_type": "execute_result"
    }
   ],
   "source": [
    "## Sólo hay tres integrantes en el grupo de chat\n",
    "df['Autor'].value_counts(1)"
   ]
  },
  {
   "cell_type": "code",
   "execution_count": 5,
   "metadata": {
    "ExecuteTime": {
     "end_time": "2020-10-26T20:56:38.011687Z",
     "start_time": "2020-10-26T20:56:37.789137Z"
    }
   },
   "outputs": [
    {
     "data": {
      "text/html": [
       "<div>\n",
       "<style scoped>\n",
       "    .dataframe tbody tr th:only-of-type {\n",
       "        vertical-align: middle;\n",
       "    }\n",
       "\n",
       "    .dataframe tbody tr th {\n",
       "        vertical-align: top;\n",
       "    }\n",
       "\n",
       "    .dataframe thead th {\n",
       "        text-align: right;\n",
       "    }\n",
       "</style>\n",
       "<table border=\"1\" class=\"dataframe\">\n",
       "  <thead>\n",
       "    <tr style=\"text-align: right;\">\n",
       "      <th></th>\n",
       "      <th>index</th>\n",
       "      <th>Autor</th>\n",
       "    </tr>\n",
       "  </thead>\n",
       "  <tbody>\n",
       "    <tr>\n",
       "      <th>0</th>\n",
       "      <td>Kevin Bacon</td>\n",
       "      <td>0.396700</td>\n",
       "    </tr>\n",
       "    <tr>\n",
       "      <th>1</th>\n",
       "      <td>Iván Jardón</td>\n",
       "      <td>0.352216</td>\n",
       "    </tr>\n",
       "    <tr>\n",
       "      <th>2</th>\n",
       "      <td>EF</td>\n",
       "      <td>0.247470</td>\n",
       "    </tr>\n",
       "    <tr>\n",
       "      <th>3</th>\n",
       "      <td>Otros</td>\n",
       "      <td>0.003614</td>\n",
       "    </tr>\n",
       "  </tbody>\n",
       "</table>\n",
       "</div>"
      ],
      "text/plain": [
       "          index     Autor\n",
       "0   Kevin Bacon  0.396700\n",
       "1   Iván Jardón  0.352216\n",
       "2            EF  0.247470\n",
       "3         Otros  0.003614"
      ]
     },
     "metadata": {},
     "output_type": "display_data"
    }
   ],
   "source": [
    "## Se despliegan las posibles opciones para cada variable categórica,\n",
    "# agrupando las categorías con menos del 1% de frecuencia\n",
    "cat = ['Autor']\n",
    "adj = []\n",
    "for col in cat:\n",
    "    aux = []\n",
    "    aux = df[col].value_counts(1, dropna = False).reset_index()\n",
    "    global adj\n",
    "    for i in range(len(aux)):\n",
    "        if aux.iloc[i,1] < .01:\n",
    "            adj.append(aux.iloc[i,0])\n",
    "df[cat] = df[cat].replace(adj, 'Otros')\n",
    "\n",
    "for col in cat:\n",
    "    display(df[col].value_counts(1).reset_index())"
   ]
  },
  {
   "cell_type": "code",
   "execution_count": 6,
   "metadata": {
    "ExecuteTime": {
     "end_time": "2020-10-26T20:56:38.116001Z",
     "start_time": "2020-10-26T20:56:38.015255Z"
    }
   },
   "outputs": [
    {
     "data": {
      "text/plain": [
       " Kevin Bacon    0.398139\n",
       " Iván Jardón    0.353493\n",
       " EF             0.248368\n",
       "Name: Autor, dtype: float64"
      ]
     },
     "execution_count": 6,
     "metadata": {},
     "output_type": "execute_result"
    }
   ],
   "source": [
    "df = df[df['Autor'] != 'Otros'].copy()\n",
    "df['Autor'].value_counts(1)"
   ]
  },
  {
   "cell_type": "markdown",
   "metadata": {},
   "source": [
    "### Fecha y hora"
   ]
  },
  {
   "cell_type": "code",
   "execution_count": 7,
   "metadata": {
    "ExecuteTime": {
     "end_time": "2020-10-26T20:56:39.019266Z",
     "start_time": "2020-10-26T20:56:38.120334Z"
    }
   },
   "outputs": [
    {
     "data": {
      "text/plain": [
       "<AxesSubplot:>"
      ]
     },
     "execution_count": 7,
     "metadata": {},
     "output_type": "execute_result"
    },
    {
     "data": {
      "image/png": "[encoded data removed]",
      "text/plain": [
       "<Figure size 432x288 with 1 Axes>"
      ]
     },
     "metadata": {
      "needs_background": "light"
     },
     "output_type": "display_data"
    }
   ],
   "source": [
    "df['Fecha'] = pd.to_datetime(df['Fecha'])\n",
    "df['Mes'] = [x.strftime('%m') for x in df['Fecha']]\n",
    "df['Mes'].hist()"
   ]
  },
  {
   "cell_type": "code",
   "execution_count": 8,
   "metadata": {
    "ExecuteTime": {
     "end_time": "2020-10-26T20:56:39.481493Z",
     "start_time": "2020-10-26T20:56:39.024446Z"
    }
   },
   "outputs": [
    {
     "data": {
      "text/plain": [
       "<AxesSubplot:>"
      ]
     },
     "execution_count": 8,
     "metadata": {},
     "output_type": "execute_result"
    },
    {
     "data": {
      "image/png": "[encoded data removed]",
      "text/plain": [
       "<Figure size 432x288 with 1 Axes>"
      ]
     },
     "metadata": {
      "needs_background": "light"
     },
     "output_type": "display_data"
    }
   ],
   "source": [
    "df['hora_solo'] = [int(x.strip()[:2]) for x in df['Hora']]\n",
    "df['hora_solo'].hist()"
   ]
  },
  {
   "cell_type": "code",
   "execution_count": 9,
   "metadata": {
    "ExecuteTime": {
     "end_time": "2020-10-26T20:56:40.017392Z",
     "start_time": "2020-10-26T20:56:39.486029Z"
    }
   },
   "outputs": [
    {
     "data": {
      "text/plain": [
       "array([[<AxesSubplot:title={'center':'hora_solo'}>]], dtype=object)"
      ]
     },
     "execution_count": 9,
     "metadata": {},
     "output_type": "execute_result"
    },
    {
     "data": {
      "image/png": "[encoded data removed]",
      "text/plain": [
       "<Figure size 432x288 with 1 Axes>"
      ]
     },
     "metadata": {
      "needs_background": "light"
     },
     "output_type": "display_data"
    }
   ],
   "source": [
    "## Función para omitir outliers mediante IQR\n",
    "def outlier(data, x, how = 'both', p = 0.6):\n",
    "    for i in x:\n",
    "        var = data[i]\n",
    "        q1 = var.quantile(p/2) #acota el % indicado, tanto máx como mín\n",
    "        q3 = var.quantile(1 - p/2)\n",
    "        iqr = q3 - q1\n",
    "\n",
    "        if how == 'max':\n",
    "            data = data[(var.isnull()) | (var <= q3 + 1.5*iqr)].copy() #no debemos eliminar nulos\n",
    "        elif how == 'min':\n",
    "            data = data[(var.isnull()) | (var >= q1 - 1.5*iqr)].copy()\n",
    "        elif how == 'both':\n",
    "            data = data[(var.isnull()) | ((var >= q1 - 1.5*iqr) & (var <= q3 + 1.5*iqr))].copy()\n",
    "        else:\n",
    "            print('¿Cómo quieres acotar outliers? how = min/max/both')\n",
    "\n",
    "        data.reset_index(drop = True, inplace = True)\n",
    "        global df\n",
    "        df = data.copy()\n",
    "\n",
    "num = ['hora_solo']\n",
    "outlier(df,num)\n",
    "df[num].hist()"
   ]
  },
  {
   "cell_type": "code",
   "execution_count": 10,
   "metadata": {
    "ExecuteTime": {
     "end_time": "2020-10-26T20:56:40.475584Z",
     "start_time": "2020-10-26T20:56:40.037036Z"
    }
   },
   "outputs": [
    {
     "data": {
      "text/plain": [
       "<AxesSubplot:>"
      ]
     },
     "execution_count": 10,
     "metadata": {},
     "output_type": "execute_result"
    },
    {
     "data": {
      "image/png": "[encoded data removed]",
      "text/plain": [
       "<Figure size 432x288 with 1 Axes>"
      ]
     },
     "metadata": {
      "needs_background": "light"
     },
     "output_type": "display_data"
    }
   ],
   "source": [
    "df['minutos'] = [int(x.strip()[3:]) for x in df['Hora']]\n",
    "df['minutos'].hist()"
   ]
  },
  {
   "cell_type": "markdown",
   "metadata": {},
   "source": [
    "### Mensaje"
   ]
  },
  {
   "cell_type": "code",
   "execution_count": 11,
   "metadata": {
    "ExecuteTime": {
     "end_time": "2020-10-26T20:56:40.648669Z",
     "start_time": "2020-10-26T20:56:40.492513Z"
    }
   },
   "outputs": [
    {
     "data": {
      "text/plain": [
       " <Media omitted>                                       0.117251\n",
       " Jajajaja                                              0.024616\n",
       " Jajaja                                                0.015096\n",
       " Jajajajaja                                            0.013388\n",
       " .                                                     0.007134\n",
       "                                                         ...   \n",
       " En ese momento, no todo el tiempo como acostumbras    0.000025\n",
       " Igual, no hay dolor ni nada, entonces cool            0.000025\n",
       " Cogerte un culito *                                   0.000025\n",
       " Así pasa siempre                                      0.000025\n",
       " Siiii!                                                0.000025\n",
       "Name: Mensaje, Length: 25545, dtype: float64"
      ]
     },
     "execution_count": 11,
     "metadata": {},
     "output_type": "execute_result"
    }
   ],
   "source": [
    "df['Mensaje'].value_counts(1)"
   ]
  },
  {
   "cell_type": "code",
   "execution_count": 12,
   "metadata": {
    "ExecuteTime": {
     "end_time": "2020-10-26T20:56:40.976353Z",
     "start_time": "2020-10-26T20:56:40.664225Z"
    }
   },
   "outputs": [
    {
     "data": {
      "text/plain": [
       "media omitted       0.117251\n",
       "jajajaja            0.025972\n",
       "                    0.025168\n",
       "jajaja              0.015372\n",
       "jajajajaja          0.014594\n",
       "jajajajajaja        0.007008\n",
       "jajajajajajaja      0.004245\n",
       "jalo                0.003140\n",
       "x2                  0.003064\n",
       "si                  0.002838\n",
       "no                  0.002311\n",
       "jaja                0.002286\n",
       "jajajajajajajaja    0.002160\n",
       "Name: Mensaje_limpio, dtype: float64"
      ]
     },
     "execution_count": 12,
     "metadata": {},
     "output_type": "execute_result"
    }
   ],
   "source": [
    "## Función para limpiar mensajes\n",
    "import unicodedata\n",
    "import re\n",
    "\n",
    "def limpiar_texto(text, pattern ='[^a-zA-Z0-9 ]'):\n",
    "    cleaned_text = unicodedata.normalize('NFD', text).encode('ascii', 'ignore')\n",
    "    cleaned_text = re.sub(pattern, ' ', cleaned_text.decode('utf-8'), flags = re.UNICODE)\n",
    "    cleaned_text = u' '.join(cleaned_text.lower().split())\n",
    "    return cleaned_text\n",
    "\n",
    "df['Mensaje_limpio'] = df['Mensaje'].map(limpiar_texto)\n",
    "df['Mensaje_limpio'].value_counts(1).head(13)"
   ]
  },
  {
   "cell_type": "code",
   "execution_count": 13,
   "metadata": {
    "ExecuteTime": {
     "end_time": "2020-10-26T20:56:41.154465Z",
     "start_time": "2020-10-26T20:56:40.989794Z"
    }
   },
   "outputs": [
    {
     "data": {
      "text/plain": [
       "media omitted               0.117251\n",
       "jaja                        0.106752\n",
       "                            0.025168\n",
       "jalo                        0.003140\n",
       "x2                          0.003064\n",
       "si                          0.002838\n",
       "no                          0.002311\n",
       "no we                       0.002160\n",
       "mames                       0.002009\n",
       "simon                       0.001683\n",
       "gpi                         0.001633\n",
       "a webo                      0.001608\n",
       "this message was deleted    0.001582\n",
       "Name: Mensaje_limpio, dtype: float64"
      ]
     },
     "execution_count": 13,
     "metadata": {},
     "output_type": "execute_result"
    }
   ],
   "source": [
    "## Juntar 'jajaja's\n",
    "aux = []\n",
    "for x in df['Mensaje_limpio']:\n",
    "    if (x.startswith('ja') | x.startswith('aj') | x.startswith('jj') | x.startswith('aa')) & (x.endswith('ja') | x.endswith('aj') | x.endswith('jj') | x.endswith('aa')):\n",
    "        aux.append('jaja')\n",
    "    else:\n",
    "        aux.append(x)\n",
    "df['Mensaje_limpio'] = aux\n",
    "df['Mensaje_limpio'].value_counts(1).head(13)"
   ]
  },
  {
   "cell_type": "markdown",
   "metadata": {},
   "source": [
    "## Ingeniería de variables"
   ]
  },
  {
   "cell_type": "markdown",
   "metadata": {},
   "source": [
    "### Numéricas"
   ]
  },
  {
   "cell_type": "code",
   "execution_count": 14,
   "metadata": {
    "ExecuteTime": {
     "end_time": "2020-10-26T20:56:41.902473Z",
     "start_time": "2020-10-26T20:56:41.171516Z"
    }
   },
   "outputs": [
    {
     "data": {
      "text/plain": [
       "Fecha               0.000000\n",
       "Hora                0.000000\n",
       "Autor               0.000000\n",
       "Mensaje             0.000000\n",
       "Mes                 0.000000\n",
       "hora_solo           0.000000\n",
       "minutos             0.000000\n",
       "Mensaje_limpio      0.000000\n",
       "num_palabras        0.000000\n",
       "num_caracteres      0.000000\n",
       "num_letras          0.000000\n",
       "num_minus_letras    0.027354\n",
       "num_mayus_letras    0.027354\n",
       "dtype: float64"
      ]
     },
     "execution_count": 14,
     "metadata": {},
     "output_type": "execute_result"
    }
   ],
   "source": [
    "df['num_palabras'] = df['Mensaje_limpio'].str.split(' ').str.len()\n",
    "df['num_caracteres'] = df['Mensaje'].str.strip().str.len()\n",
    "df['num_letras'] = df['Mensaje_limpio'].map(lambda x:sum(map(str.isalpha, x)))\n",
    "df['num_minus_letras'] = df['Mensaje'].map(lambda x:sum(map(str.islower,\n",
    "                                                                   x))) / df['num_letras']\n",
    "df['num_mayus_letras'] = df['Mensaje'].map(lambda x:sum(map(str.isupper,\n",
    "                                                                   x))) / df['num_letras']\n",
    "df.isnull().sum() / len(df)"
   ]
  },
  {
   "cell_type": "code",
   "execution_count": 15,
   "metadata": {
    "ExecuteTime": {
     "end_time": "2020-10-26T20:56:42.014180Z",
     "start_time": "2020-10-26T20:56:41.907461Z"
    }
   },
   "outputs": [
    {
     "data": {
      "text/plain": [
       "Fecha               0.0\n",
       "Hora                0.0\n",
       "Autor               0.0\n",
       "Mensaje             0.0\n",
       "Mes                 0.0\n",
       "hora_solo           0.0\n",
       "minutos             0.0\n",
       "Mensaje_limpio      0.0\n",
       "num_palabras        0.0\n",
       "num_caracteres      0.0\n",
       "num_letras          0.0\n",
       "num_minus_letras    0.0\n",
       "num_mayus_letras    0.0\n",
       "dtype: float64"
      ]
     },
     "execution_count": 15,
     "metadata": {},
     "output_type": "execute_result"
    }
   ],
   "source": [
    "df = df.fillna(0).copy()\n",
    "df.isnull().sum() / len(df)"
   ]
  },
  {
   "cell_type": "code",
   "execution_count": 16,
   "metadata": {
    "ExecuteTime": {
     "end_time": "2020-10-26T20:56:42.715563Z",
     "start_time": "2020-10-26T20:56:42.018446Z"
    }
   },
   "outputs": [
    {
     "data": {
      "text/plain": [
       "<AxesSubplot:>"
      ]
     },
     "execution_count": 16,
     "metadata": {},
     "output_type": "execute_result"
    },
    {
     "data": {
      "image/png": "[encoded data removed]",
      "text/plain": [
       "<Figure size 432x288 with 1 Axes>"
      ]
     },
     "metadata": {
      "needs_background": "light"
     },
     "output_type": "display_data"
    }
   ],
   "source": [
    "import emoji\n",
    "df['proporcion_emojis'] = df['Mensaje'].map(emoji.emoji_count) / df['num_caracteres']\n",
    "## Hay mensajes que sólo son emojis\n",
    "df[df['proporcion_emojis'] > 0]['proporcion_emojis'].hist()"
   ]
  },
  {
   "cell_type": "code",
   "execution_count": 17,
   "metadata": {
    "ExecuteTime": {
     "end_time": "2020-10-26T20:56:44.351290Z",
     "start_time": "2020-10-26T20:56:42.726560Z"
    },
    "scrolled": true
   },
   "outputs": [
    {
     "data": {
      "text/plain": [
       "array([[<AxesSubplot:title={'center':'hora_solo'}>,\n",
       "        <AxesSubplot:title={'center':'num_palabras'}>],\n",
       "       [<AxesSubplot:title={'center':'num_caracteres'}>,\n",
       "        <AxesSubplot:title={'center':'num_letras'}>],\n",
       "       [<AxesSubplot:title={'center':'num_minus_letras'}>,\n",
       "        <AxesSubplot:title={'center':'num_mayus_letras'}>]], dtype=object)"
      ]
     },
     "metadata": {},
     "output_type": "display_data"
    },
    {
     "data": {
      "image/png": "[encoded data removed]",
      "text/plain": [
       "<Figure size 432x288 with 6 Axes>"
      ]
     },
     "metadata": {
      "needs_background": "light"
     },
     "output_type": "display_data"
    }
   ],
   "source": [
    "num += [col for col in df.columns if col.startswith('num')]\n",
    "display(df[df['proporcion_emojis'] > 0][num].hist())"
   ]
  },
  {
   "cell_type": "code",
   "execution_count": 18,
   "metadata": {
    "ExecuteTime": {
     "end_time": "2020-10-26T20:56:46.418185Z",
     "start_time": "2020-10-26T20:56:44.355132Z"
    }
   },
   "outputs": [
    {
     "data": {
      "text/plain": [
       "array([[<AxesSubplot:title={'center':'hora_solo'}>,\n",
       "        <AxesSubplot:title={'center':'num_palabras'}>],\n",
       "       [<AxesSubplot:title={'center':'num_caracteres'}>,\n",
       "        <AxesSubplot:title={'center':'num_letras'}>],\n",
       "       [<AxesSubplot:title={'center':'num_minus_letras'}>,\n",
       "        <AxesSubplot:title={'center':'num_mayus_letras'}>]], dtype=object)"
      ]
     },
     "execution_count": 18,
     "metadata": {},
     "output_type": "execute_result"
    },
    {
     "data": {
      "image/png": "[encoded data removed]",
      "text/plain": [
       "<Figure size 432x288 with 6 Axes>"
      ]
     },
     "metadata": {
      "needs_background": "light"
     },
     "output_type": "display_data"
    }
   ],
   "source": [
    "## Sin outliers\n",
    "outlier(df,num, p = 0.1)\n",
    "df[df['proporcion_emojis'] > 0][num].hist()"
   ]
  },
  {
   "cell_type": "markdown",
   "metadata": {},
   "source": [
    "### Categóricas"
   ]
  },
  {
   "cell_type": "code",
   "execution_count": 19,
   "metadata": {
    "ExecuteTime": {
     "end_time": "2020-10-26T20:56:46.469705Z",
     "start_time": "2020-10-26T20:56:46.432155Z"
    }
   },
   "outputs": [
    {
     "data": {
      "text/plain": [
       "0.000000    0.961407\n",
       "1.000000    0.014517\n",
       "0.100000    0.001227\n",
       "0.083333    0.001150\n",
       "0.062500    0.000946\n",
       "              ...   \n",
       "0.011111    0.000026\n",
       "0.012346    0.000026\n",
       "0.078947    0.000026\n",
       "0.009615    0.000026\n",
       "0.010526    0.000026\n",
       "Name: proporcion_emojis, Length: 151, dtype: float64"
      ]
     },
     "execution_count": 19,
     "metadata": {},
     "output_type": "execute_result"
    }
   ],
   "source": [
    "df['proporcion_emojis'].value_counts(1)"
   ]
  },
  {
   "cell_type": "code",
   "execution_count": 20,
   "metadata": {
    "ExecuteTime": {
     "end_time": "2020-10-26T20:56:46.627345Z",
     "start_time": "2020-10-26T20:56:46.472604Z"
    }
   },
   "outputs": [
    {
     "data": {
      "text/plain": [
       "0    0.880693\n",
       "1    0.119307\n",
       "Name: media, dtype: float64"
      ]
     },
     "execution_count": 20,
     "metadata": {},
     "output_type": "execute_result"
    }
   ],
   "source": [
    "## El mensaje es imagen/sticker/video/...?\n",
    "aux = []\n",
    "for x in df['Mensaje_limpio']:\n",
    "    if x == 'media omitted':\n",
    "        aux.append(1)\n",
    "    else:\n",
    "        aux.append(0)\n",
    "\n",
    "df['media'] = aux\n",
    "df['media'].value_counts(1)"
   ]
  },
  {
   "cell_type": "code",
   "execution_count": 21,
   "metadata": {
    "ExecuteTime": {
     "end_time": "2020-10-26T20:56:47.525078Z",
     "start_time": "2020-10-26T20:56:46.641822Z"
    }
   },
   "outputs": [
    {
     "data": {
      "text/plain": [
       "texto    0.842100\n",
       "media    0.119307\n",
       "mixto    0.024076\n",
       "emoji    0.014517\n",
       "Name: tipo, dtype: float64"
      ]
     },
     "execution_count": 21,
     "metadata": {},
     "output_type": "execute_result"
    }
   ],
   "source": [
    "## El mensaje tiene emojis o incluso sólo son emojis?\n",
    "aux = []\n",
    "col = df['proporcion_emojis']\n",
    "for x in range(len(col)):\n",
    "    if col[x] == 1:\n",
    "        aux.append('emoji')\n",
    "    elif col[x] > 0:\n",
    "        aux.append('mixto')\n",
    "    elif df['media'][x] == 1:\n",
    "        aux.append('media')\n",
    "    else:\n",
    "        aux.append('texto')\n",
    "\n",
    "df['tipo'] = aux\n",
    "df['tipo'].value_counts(1)"
   ]
  },
  {
   "cell_type": "code",
   "execution_count": 22,
   "metadata": {
    "ExecuteTime": {
     "end_time": "2020-10-26T20:56:47.576112Z",
     "start_time": "2020-10-26T20:56:47.528628Z"
    }
   },
   "outputs": [
    {
     "data": {
      "text/html": [
       "<div>\n",
       "<style scoped>\n",
       "    .dataframe tbody tr th:only-of-type {\n",
       "        vertical-align: middle;\n",
       "    }\n",
       "\n",
       "    .dataframe tbody tr th {\n",
       "        vertical-align: top;\n",
       "    }\n",
       "\n",
       "    .dataframe thead th {\n",
       "        text-align: right;\n",
       "    }\n",
       "</style>\n",
       "<table border=\"1\" class=\"dataframe\">\n",
       "  <thead>\n",
       "    <tr style=\"text-align: right;\">\n",
       "      <th></th>\n",
       "      <th>hora_solo</th>\n",
       "    </tr>\n",
       "  </thead>\n",
       "  <tbody>\n",
       "    <tr>\n",
       "      <th>5</th>\n",
       "      <td>0.000179</td>\n",
       "    </tr>\n",
       "    <tr>\n",
       "      <th>6</th>\n",
       "      <td>0.001099</td>\n",
       "    </tr>\n",
       "    <tr>\n",
       "      <th>7</th>\n",
       "      <td>0.006952</td>\n",
       "    </tr>\n",
       "    <tr>\n",
       "      <th>8</th>\n",
       "      <td>0.040485</td>\n",
       "    </tr>\n",
       "    <tr>\n",
       "      <th>9</th>\n",
       "      <td>0.095614</td>\n",
       "    </tr>\n",
       "    <tr>\n",
       "      <th>10</th>\n",
       "      <td>0.177503</td>\n",
       "    </tr>\n",
       "    <tr>\n",
       "      <th>11</th>\n",
       "      <td>0.261028</td>\n",
       "    </tr>\n",
       "    <tr>\n",
       "      <th>12</th>\n",
       "      <td>0.331698</td>\n",
       "    </tr>\n",
       "    <tr>\n",
       "      <th>13</th>\n",
       "      <td>0.404514</td>\n",
       "    </tr>\n",
       "    <tr>\n",
       "      <th>14</th>\n",
       "      <td>0.468972</td>\n",
       "    </tr>\n",
       "    <tr>\n",
       "      <th>15</th>\n",
       "      <td>0.546312</td>\n",
       "    </tr>\n",
       "    <tr>\n",
       "      <th>16</th>\n",
       "      <td>0.607703</td>\n",
       "    </tr>\n",
       "    <tr>\n",
       "      <th>17</th>\n",
       "      <td>0.687062</td>\n",
       "    </tr>\n",
       "    <tr>\n",
       "      <th>18</th>\n",
       "      <td>0.752799</td>\n",
       "    </tr>\n",
       "    <tr>\n",
       "      <th>19</th>\n",
       "      <td>0.815545</td>\n",
       "    </tr>\n",
       "    <tr>\n",
       "      <th>20</th>\n",
       "      <td>0.869269</td>\n",
       "    </tr>\n",
       "    <tr>\n",
       "      <th>21</th>\n",
       "      <td>0.936181</td>\n",
       "    </tr>\n",
       "    <tr>\n",
       "      <th>22</th>\n",
       "      <td>0.987349</td>\n",
       "    </tr>\n",
       "    <tr>\n",
       "      <th>23</th>\n",
       "      <td>1.000000</td>\n",
       "    </tr>\n",
       "  </tbody>\n",
       "</table>\n",
       "</div>"
      ],
      "text/plain": [
       "    hora_solo\n",
       "5    0.000179\n",
       "6    0.001099\n",
       "7    0.006952\n",
       "8    0.040485\n",
       "9    0.095614\n",
       "10   0.177503\n",
       "11   0.261028\n",
       "12   0.331698\n",
       "13   0.404514\n",
       "14   0.468972\n",
       "15   0.546312\n",
       "16   0.607703\n",
       "17   0.687062\n",
       "18   0.752799\n",
       "19   0.815545\n",
       "20   0.869269\n",
       "21   0.936181\n",
       "22   0.987349\n",
       "23   1.000000"
      ]
     },
     "execution_count": 22,
     "metadata": {},
     "output_type": "execute_result"
    }
   ],
   "source": [
    "## Crear 5 categorías de rango horario\n",
    "aux = pd.DataFrame(df['hora_solo'].value_counts(1).sort_index())\n",
    "aux.cumsum()"
   ]
  },
  {
   "cell_type": "code",
   "execution_count": 23,
   "metadata": {
    "ExecuteTime": {
     "end_time": "2020-10-26T20:56:47.666254Z",
     "start_time": "2020-10-26T20:56:47.583249Z"
    }
   },
   "outputs": [
    {
     "data": {
      "text/plain": [
       "00-10    0.177503\n",
       "11-13    0.227010\n",
       "14-16    0.203190\n",
       "17-19    0.207841\n",
       "20-24    0.184455\n",
       "Name: hora_rango, dtype: float64"
      ]
     },
     "execution_count": 23,
     "metadata": {},
     "output_type": "execute_result"
    }
   ],
   "source": [
    "aux = []\n",
    "for x in df['hora_solo']:\n",
    "    if x < 11:\n",
    "        aux.append('00-10')\n",
    "    elif x < 14:\n",
    "        aux.append('11-13')\n",
    "    elif x < 17:\n",
    "        aux.append('14-16')\n",
    "    elif x < 20:\n",
    "        aux.append('17-19')\n",
    "    else:\n",
    "        aux.append('20-24')\n",
    "\n",
    "df['hora_rango'] = aux\n",
    "df['hora_rango'].value_counts(1).sort_index()"
   ]
  },
  {
   "cell_type": "code",
   "execution_count": 24,
   "metadata": {
    "ExecuteTime": {
     "end_time": "2020-10-26T20:56:47.809175Z",
     "start_time": "2020-10-26T20:56:47.676069Z"
    }
   },
   "outputs": [
    {
     "data": {
      "text/plain": [
       "2    0.178066\n",
       "5    0.169734\n",
       "4    0.158514\n",
       "3    0.156213\n",
       "1    0.134872\n",
       "6    0.107218\n",
       "7    0.095384\n",
       "Name: dia_sem, dtype: float64"
      ]
     },
     "execution_count": 24,
     "metadata": {},
     "output_type": "execute_result"
    }
   ],
   "source": [
    "## Día de la semana\n",
    "df['dia_sem'] = [x.weekday() + 1 for x in df['Fecha']]\n",
    "\n",
    "df['dia_sem'].value_counts(1)"
   ]
  },
  {
   "cell_type": "code",
   "execution_count": 25,
   "metadata": {
    "ExecuteTime": {
     "end_time": "2020-10-26T20:56:48.629597Z",
     "start_time": "2020-10-26T20:56:47.815193Z"
    }
   },
   "outputs": [
    {
     "data": {
      "text/plain": [
       "1     0.546823\n",
       "2     0.264172\n",
       "3     0.111358\n",
       "4     0.045034\n",
       "5     0.018249\n",
       "6     0.007540\n",
       "7     0.003169\n",
       "8     0.001712\n",
       "9     0.000869\n",
       "10    0.000511\n",
       "11    0.000307\n",
       "13    0.000077\n",
       "12    0.000077\n",
       "15    0.000051\n",
       "14    0.000051\n",
       "Name: msj_seguidos, dtype: float64"
      ]
     },
     "execution_count": 25,
     "metadata": {},
     "output_type": "execute_result"
    }
   ],
   "source": [
    "## Mensajes seguidos del mismo autor\n",
    "aux = []\n",
    "cont = 1\n",
    "for x in range(len(df)):\n",
    "    if x == 0:\n",
    "        aux.append(1)\n",
    "    else:\n",
    "        if df['Autor'][x] == df['Autor'][x - 1]:\n",
    "            cont += 1\n",
    "            aux.append(cont)\n",
    "        else:\n",
    "            cont = 1\n",
    "            aux.append(1)\n",
    "df['msj_seguidos'] = aux\n",
    "df['msj_seguidos'].value_counts(1)"
   ]
  },
  {
   "cell_type": "code",
   "execution_count": 26,
   "metadata": {
    "ExecuteTime": {
     "end_time": "2020-10-26T20:56:49.132209Z",
     "start_time": "2020-10-26T20:56:48.637159Z"
    }
   },
   "outputs": [],
   "source": [
    "## Etiqueta para el último mensaje enviado por autor,\n",
    "aux = []\n",
    "for i in range(len(df)):\n",
    "    if i >= len(df) - 1:\n",
    "        aux.append(1)\n",
    "    else:\n",
    "        if df['msj_seguidos'][i + 1] == 1:\n",
    "            aux.append(1)\n",
    "        else:\n",
    "            aux.append(0)\n",
    "\n",
    "df['max_msj'] = aux\n",
    "df['max_msj'].value_counts(1)\n",
    "\n",
    "## Se filtran sólo los últimos mensajes por autor\n",
    "df = df[df['max_msj'] == 1].copy().reset_index(drop = True)"
   ]
  },
  {
   "cell_type": "code",
   "execution_count": 27,
   "metadata": {
    "ExecuteTime": {
     "end_time": "2020-10-26T20:56:50.168455Z",
     "start_time": "2020-10-26T20:56:49.136441Z"
    }
   },
   "outputs": [
    {
     "data": {
      "text/plain": [
       "<AxesSubplot:>"
      ]
     },
     "execution_count": 27,
     "metadata": {},
     "output_type": "execute_result"
    },
    {
     "data": {
      "image/png": "[encoded data removed]",
      "text/plain": [
       "<Figure size 432x288 with 1 Axes>"
      ]
     },
     "metadata": {
      "needs_background": "light"
     },
     "output_type": "display_data"
    }
   ],
   "source": [
    "## Diferencia de minutos respecto al primer mensaje\n",
    "\n",
    "## Cardinalidad de los días en el conjunto\n",
    "dia_min = df['Fecha'].min()\n",
    "df['dia'] = [x - dia_min for x in df['Fecha']]\n",
    "df['dia'] = df['dia'].dt.days.astype(int)\n",
    "\n",
    "## Cardinalidad de minuto entre todo el conjunto\n",
    "df['tiempo'] = 24*60*df['dia'] + 60*df['hora_solo'] + df['minutos']\n",
    "df['tiempo'].hist()"
   ]
  },
  {
   "cell_type": "code",
   "execution_count": 28,
   "metadata": {
    "ExecuteTime": {
     "end_time": "2020-10-26T20:56:50.247716Z",
     "start_time": "2020-10-26T20:56:50.172779Z"
    }
   },
   "outputs": [
    {
     "data": {
      "text/plain": [
       "0       0.0\n",
       "1       1.0\n",
       "2    2236.0\n",
       "3       5.0\n",
       "4       1.0\n",
       "5       3.0\n",
       "Name: dif_minutos, dtype: float64"
      ]
     },
     "execution_count": 28,
     "metadata": {},
     "output_type": "execute_result"
    }
   ],
   "source": [
    "## Diferencia vs el registro anterior\n",
    "df['dif_minutos'] = df['tiempo'] - df.sort_values(by=['Fecha','tiempo'],\n",
    "                                                  ascending = True)['tiempo'].shift(1)\n",
    "df['dif_minutos'] = df['dif_minutos'].fillna(0).copy()\n",
    "df['dif_minutos'].head(6)"
   ]
  },
  {
   "cell_type": "code",
   "execution_count": 29,
   "metadata": {
    "ExecuteTime": {
     "end_time": "2020-10-26T20:56:50.332166Z",
     "start_time": "2020-10-26T20:56:50.250585Z"
    }
   },
   "outputs": [
    {
     "data": {
      "text/html": [
       "<div>\n",
       "<style scoped>\n",
       "    .dataframe tbody tr th:only-of-type {\n",
       "        vertical-align: middle;\n",
       "    }\n",
       "\n",
       "    .dataframe tbody tr th {\n",
       "        vertical-align: top;\n",
       "    }\n",
       "\n",
       "    .dataframe thead th {\n",
       "        text-align: right;\n",
       "    }\n",
       "</style>\n",
       "<table border=\"1\" class=\"dataframe\">\n",
       "  <thead>\n",
       "    <tr style=\"text-align: right;\">\n",
       "      <th></th>\n",
       "      <th>Fecha</th>\n",
       "      <th>Hora</th>\n",
       "      <th>Autor</th>\n",
       "      <th>Mensaje</th>\n",
       "      <th>Mes</th>\n",
       "      <th>hora_solo</th>\n",
       "      <th>minutos</th>\n",
       "      <th>Mensaje_limpio</th>\n",
       "      <th>num_palabras</th>\n",
       "      <th>num_caracteres</th>\n",
       "      <th>...</th>\n",
       "      <th>proporcion_emojis</th>\n",
       "      <th>media</th>\n",
       "      <th>tipo</th>\n",
       "      <th>hora_rango</th>\n",
       "      <th>dia_sem</th>\n",
       "      <th>msj_seguidos</th>\n",
       "      <th>max_msj</th>\n",
       "      <th>dia</th>\n",
       "      <th>tiempo</th>\n",
       "      <th>dif_minutos</th>\n",
       "    </tr>\n",
       "  </thead>\n",
       "  <tbody>\n",
       "    <tr>\n",
       "      <th>0</th>\n",
       "      <td>2020-02-03</td>\n",
       "      <td>19:51</td>\n",
       "      <td>Kevin Bacon</td>\n",
       "      <td>Ni mergas</td>\n",
       "      <td>02</td>\n",
       "      <td>19</td>\n",
       "      <td>51</td>\n",
       "      <td>ni mergas</td>\n",
       "      <td>2</td>\n",
       "      <td>9</td>\n",
       "      <td>...</td>\n",
       "      <td>0.0</td>\n",
       "      <td>0</td>\n",
       "      <td>texto</td>\n",
       "      <td>17-19</td>\n",
       "      <td>1</td>\n",
       "      <td>1</td>\n",
       "      <td>1</td>\n",
       "      <td>0</td>\n",
       "      <td>1191</td>\n",
       "      <td>0.0</td>\n",
       "    </tr>\n",
       "    <tr>\n",
       "      <th>1</th>\n",
       "      <td>2020-02-03</td>\n",
       "      <td>19:52</td>\n",
       "      <td>Iván Jardón</td>\n",
       "      <td>Eso es todo lo que quería escuchar</td>\n",
       "      <td>02</td>\n",
       "      <td>19</td>\n",
       "      <td>52</td>\n",
       "      <td>eso es todo lo que queria escuchar</td>\n",
       "      <td>7</td>\n",
       "      <td>34</td>\n",
       "      <td>...</td>\n",
       "      <td>0.0</td>\n",
       "      <td>0</td>\n",
       "      <td>texto</td>\n",
       "      <td>17-19</td>\n",
       "      <td>1</td>\n",
       "      <td>2</td>\n",
       "      <td>1</td>\n",
       "      <td>0</td>\n",
       "      <td>1192</td>\n",
       "      <td>1.0</td>\n",
       "    </tr>\n",
       "    <tr>\n",
       "      <th>2</th>\n",
       "      <td>2020-02-05</td>\n",
       "      <td>09:08</td>\n",
       "      <td>EF</td>\n",
       "      <td>Cómo van mis sandwiches?</td>\n",
       "      <td>02</td>\n",
       "      <td>9</td>\n",
       "      <td>8</td>\n",
       "      <td>como van mis sandwiches</td>\n",
       "      <td>4</td>\n",
       "      <td>24</td>\n",
       "      <td>...</td>\n",
       "      <td>0.0</td>\n",
       "      <td>0</td>\n",
       "      <td>texto</td>\n",
       "      <td>00-10</td>\n",
       "      <td>3</td>\n",
       "      <td>1</td>\n",
       "      <td>1</td>\n",
       "      <td>2</td>\n",
       "      <td>3428</td>\n",
       "      <td>2236.0</td>\n",
       "    </tr>\n",
       "    <tr>\n",
       "      <th>3</th>\n",
       "      <td>2020-02-05</td>\n",
       "      <td>09:13</td>\n",
       "      <td>Iván Jardón</td>\n",
       "      <td>Creo que la he cagado</td>\n",
       "      <td>02</td>\n",
       "      <td>9</td>\n",
       "      <td>13</td>\n",
       "      <td>creo que la he cagado</td>\n",
       "      <td>5</td>\n",
       "      <td>21</td>\n",
       "      <td>...</td>\n",
       "      <td>0.0</td>\n",
       "      <td>0</td>\n",
       "      <td>texto</td>\n",
       "      <td>00-10</td>\n",
       "      <td>3</td>\n",
       "      <td>2</td>\n",
       "      <td>1</td>\n",
       "      <td>2</td>\n",
       "      <td>3433</td>\n",
       "      <td>5.0</td>\n",
       "    </tr>\n",
       "    <tr>\n",
       "      <th>4</th>\n",
       "      <td>2020-02-05</td>\n",
       "      <td>09:14</td>\n",
       "      <td>EF</td>\n",
       "      <td>No desesperes</td>\n",
       "      <td>02</td>\n",
       "      <td>9</td>\n",
       "      <td>14</td>\n",
       "      <td>no desesperes</td>\n",
       "      <td>2</td>\n",
       "      <td>13</td>\n",
       "      <td>...</td>\n",
       "      <td>0.0</td>\n",
       "      <td>0</td>\n",
       "      <td>texto</td>\n",
       "      <td>00-10</td>\n",
       "      <td>3</td>\n",
       "      <td>2</td>\n",
       "      <td>1</td>\n",
       "      <td>2</td>\n",
       "      <td>3434</td>\n",
       "      <td>1.0</td>\n",
       "    </tr>\n",
       "    <tr>\n",
       "      <th>5</th>\n",
       "      <td>2020-02-05</td>\n",
       "      <td>09:17</td>\n",
       "      <td>Iván Jardón</td>\n",
       "      <td>Ptm</td>\n",
       "      <td>02</td>\n",
       "      <td>9</td>\n",
       "      <td>17</td>\n",
       "      <td>ptm</td>\n",
       "      <td>1</td>\n",
       "      <td>3</td>\n",
       "      <td>...</td>\n",
       "      <td>0.0</td>\n",
       "      <td>0</td>\n",
       "      <td>texto</td>\n",
       "      <td>00-10</td>\n",
       "      <td>3</td>\n",
       "      <td>6</td>\n",
       "      <td>1</td>\n",
       "      <td>2</td>\n",
       "      <td>3437</td>\n",
       "      <td>3.0</td>\n",
       "    </tr>\n",
       "  </tbody>\n",
       "</table>\n",
       "<p>6 rows × 23 columns</p>\n",
       "</div>"
      ],
      "text/plain": [
       "       Fecha     Hora         Autor                              Mensaje Mes  \\\n",
       "0 2020-02-03   19:51    Kevin Bacon                            Ni mergas  02   \n",
       "1 2020-02-03   19:52    Iván Jardón   Eso es todo lo que quería escuchar  02   \n",
       "2 2020-02-05   09:08             EF             Cómo van mis sandwiches?  02   \n",
       "3 2020-02-05   09:13    Iván Jardón                Creo que la he cagado  02   \n",
       "4 2020-02-05   09:14             EF                        No desesperes  02   \n",
       "5 2020-02-05   09:17    Iván Jardón                                  Ptm  02   \n",
       "\n",
       "   hora_solo  minutos                      Mensaje_limpio  num_palabras  \\\n",
       "0         19       51                           ni mergas             2   \n",
       "1         19       52  eso es todo lo que queria escuchar             7   \n",
       "2          9        8             como van mis sandwiches             4   \n",
       "3          9       13               creo que la he cagado             5   \n",
       "4          9       14                       no desesperes             2   \n",
       "5          9       17                                 ptm             1   \n",
       "\n",
       "   num_caracteres  ...  proporcion_emojis  media   tipo  hora_rango  dia_sem  \\\n",
       "0               9  ...                0.0      0  texto       17-19        1   \n",
       "1              34  ...                0.0      0  texto       17-19        1   \n",
       "2              24  ...                0.0      0  texto       00-10        3   \n",
       "3              21  ...                0.0      0  texto       00-10        3   \n",
       "4              13  ...                0.0      0  texto       00-10        3   \n",
       "5               3  ...                0.0      0  texto       00-10        3   \n",
       "\n",
       "  msj_seguidos max_msj  dia  tiempo  dif_minutos  \n",
       "0            1       1    0    1191          0.0  \n",
       "1            2       1    0    1192          1.0  \n",
       "2            1       1    2    3428       2236.0  \n",
       "3            2       1    2    3433          5.0  \n",
       "4            2       1    2    3434          1.0  \n",
       "5            6       1    2    3437          3.0  \n",
       "\n",
       "[6 rows x 23 columns]"
      ]
     },
     "execution_count": 29,
     "metadata": {},
     "output_type": "execute_result"
    }
   ],
   "source": [
    "df.head(6)"
   ]
  },
  {
   "cell_type": "markdown",
   "metadata": {},
   "source": [
    "### Variable objetivo"
   ]
  },
  {
   "cell_type": "code",
   "execution_count": 30,
   "metadata": {
    "ExecuteTime": {
     "end_time": "2020-10-26T20:56:50.381115Z",
     "start_time": "2020-10-26T20:56:50.339854Z"
    }
   },
   "outputs": [
    {
     "data": {
      "text/plain": [
       "0    0.825099\n",
       "1    0.174901\n",
       "Name: vistus, dtype: float64"
      ]
     },
     "execution_count": 30,
     "metadata": {},
     "output_type": "execute_result"
    }
   ],
   "source": [
    "df['vistus'] = df['dif_minutos'] > 5\n",
    "df['vistus'] = df['vistus'].astype(int)\n",
    "df['vistus'].value_counts(1)"
   ]
  },
  {
   "cell_type": "markdown",
   "metadata": {},
   "source": [
    "## Regresión logística"
   ]
  },
  {
   "cell_type": "markdown",
   "metadata": {},
   "source": [
    "### Reducción de dimensiones"
   ]
  },
  {
   "cell_type": "code",
   "execution_count": 31,
   "metadata": {
    "ExecuteTime": {
     "end_time": "2020-10-26T20:56:50.406008Z",
     "start_time": "2020-10-26T20:56:50.385120Z"
    }
   },
   "outputs": [
    {
     "data": {
      "text/plain": [
       "Index(['Fecha', 'Hora', 'Autor', 'Mensaje', 'Mes', 'hora_solo', 'minutos',\n",
       "       'Mensaje_limpio', 'num_palabras', 'num_caracteres', 'num_letras',\n",
       "       'num_minus_letras', 'num_mayus_letras', 'proporcion_emojis', 'media',\n",
       "       'tipo', 'hora_rango', 'dia_sem', 'msj_seguidos', 'max_msj', 'dia',\n",
       "       'tiempo', 'dif_minutos', 'vistus'],\n",
       "      dtype='object')"
      ]
     },
     "execution_count": 31,
     "metadata": {},
     "output_type": "execute_result"
    }
   ],
   "source": [
    "df.columns"
   ]
  },
  {
   "cell_type": "code",
   "execution_count": 32,
   "metadata": {
    "ExecuteTime": {
     "end_time": "2020-10-26T20:56:50.559487Z",
     "start_time": "2020-10-26T20:56:50.417606Z"
    }
   },
   "outputs": [
    {
     "data": {
      "text/html": [
       "<div>\n",
       "<style scoped>\n",
       "    .dataframe tbody tr th:only-of-type {\n",
       "        vertical-align: middle;\n",
       "    }\n",
       "\n",
       "    .dataframe tbody tr th {\n",
       "        vertical-align: top;\n",
       "    }\n",
       "\n",
       "    .dataframe thead th {\n",
       "        text-align: right;\n",
       "    }\n",
       "</style>\n",
       "<table border=\"1\" class=\"dataframe\">\n",
       "  <thead>\n",
       "    <tr style=\"text-align: right;\">\n",
       "      <th></th>\n",
       "      <th>hora_solo</th>\n",
       "      <th>num_palabras</th>\n",
       "      <th>num_caracteres</th>\n",
       "      <th>num_letras</th>\n",
       "      <th>num_minus_letras</th>\n",
       "      <th>num_mayus_letras</th>\n",
       "      <th>minutos</th>\n",
       "      <th>proporcion_emojis</th>\n",
       "      <th>dia</th>\n",
       "      <th>tiempo</th>\n",
       "    </tr>\n",
       "  </thead>\n",
       "  <tbody>\n",
       "    <tr>\n",
       "      <th>count</th>\n",
       "      <td>21395.000000</td>\n",
       "      <td>21395.000000</td>\n",
       "      <td>21395.000000</td>\n",
       "      <td>21395.000000</td>\n",
       "      <td>21395.000000</td>\n",
       "      <td>21395.000000</td>\n",
       "      <td>21395.000000</td>\n",
       "      <td>21395.000000</td>\n",
       "      <td>21395.000000</td>\n",
       "      <td>21395.000000</td>\n",
       "    </tr>\n",
       "    <tr>\n",
       "      <th>mean</th>\n",
       "      <td>14.972564</td>\n",
       "      <td>3.975976</td>\n",
       "      <td>21.117457</td>\n",
       "      <td>16.862772</td>\n",
       "      <td>0.959396</td>\n",
       "      <td>0.104042</td>\n",
       "      <td>29.366020</td>\n",
       "      <td>0.019331</td>\n",
       "      <td>145.125076</td>\n",
       "      <td>209907.829212</td>\n",
       "    </tr>\n",
       "    <tr>\n",
       "      <th>std</th>\n",
       "      <td>4.176590</td>\n",
       "      <td>3.444288</td>\n",
       "      <td>17.663868</td>\n",
       "      <td>14.219031</td>\n",
       "      <td>0.397794</td>\n",
       "      <td>0.088221</td>\n",
       "      <td>17.516227</td>\n",
       "      <td>0.130529</td>\n",
       "      <td>61.821340</td>\n",
       "      <td>89014.985881</td>\n",
       "    </tr>\n",
       "    <tr>\n",
       "      <th>min</th>\n",
       "      <td>5.000000</td>\n",
       "      <td>1.000000</td>\n",
       "      <td>1.000000</td>\n",
       "      <td>0.000000</td>\n",
       "      <td>0.000000</td>\n",
       "      <td>0.000000</td>\n",
       "      <td>0.000000</td>\n",
       "      <td>0.000000</td>\n",
       "      <td>0.000000</td>\n",
       "      <td>1191.000000</td>\n",
       "    </tr>\n",
       "    <tr>\n",
       "      <th>25%</th>\n",
       "      <td>11.000000</td>\n",
       "      <td>2.000000</td>\n",
       "      <td>10.000000</td>\n",
       "      <td>8.000000</td>\n",
       "      <td>0.888889</td>\n",
       "      <td>0.047619</td>\n",
       "      <td>14.000000</td>\n",
       "      <td>0.000000</td>\n",
       "      <td>97.000000</td>\n",
       "      <td>140616.000000</td>\n",
       "    </tr>\n",
       "    <tr>\n",
       "      <th>50%</th>\n",
       "      <td>15.000000</td>\n",
       "      <td>3.000000</td>\n",
       "      <td>15.000000</td>\n",
       "      <td>12.000000</td>\n",
       "      <td>0.923077</td>\n",
       "      <td>0.083333</td>\n",
       "      <td>29.000000</td>\n",
       "      <td>0.000000</td>\n",
       "      <td>151.000000</td>\n",
       "      <td>218167.000000</td>\n",
       "    </tr>\n",
       "    <tr>\n",
       "      <th>75%</th>\n",
       "      <td>18.000000</td>\n",
       "      <td>5.000000</td>\n",
       "      <td>27.000000</td>\n",
       "      <td>22.000000</td>\n",
       "      <td>0.958333</td>\n",
       "      <td>0.125000</td>\n",
       "      <td>45.000000</td>\n",
       "      <td>0.000000</td>\n",
       "      <td>187.000000</td>\n",
       "      <td>270168.500000</td>\n",
       "    </tr>\n",
       "    <tr>\n",
       "      <th>max</th>\n",
       "      <td>23.000000</td>\n",
       "      <td>26.000000</td>\n",
       "      <td>135.000000</td>\n",
       "      <td>109.000000</td>\n",
       "      <td>4.000000</td>\n",
       "      <td>0.600000</td>\n",
       "      <td>59.000000</td>\n",
       "      <td>1.000000</td>\n",
       "      <td>264.000000</td>\n",
       "      <td>381022.000000</td>\n",
       "    </tr>\n",
       "  </tbody>\n",
       "</table>\n",
       "</div>"
      ],
      "text/plain": [
       "          hora_solo  num_palabras  num_caracteres    num_letras  \\\n",
       "count  21395.000000  21395.000000    21395.000000  21395.000000   \n",
       "mean      14.972564      3.975976       21.117457     16.862772   \n",
       "std        4.176590      3.444288       17.663868     14.219031   \n",
       "min        5.000000      1.000000        1.000000      0.000000   \n",
       "25%       11.000000      2.000000       10.000000      8.000000   \n",
       "50%       15.000000      3.000000       15.000000     12.000000   \n",
       "75%       18.000000      5.000000       27.000000     22.000000   \n",
       "max       23.000000     26.000000      135.000000    109.000000   \n",
       "\n",
       "       num_minus_letras  num_mayus_letras       minutos  proporcion_emojis  \\\n",
       "count      21395.000000      21395.000000  21395.000000       21395.000000   \n",
       "mean           0.959396          0.104042     29.366020           0.019331   \n",
       "std            0.397794          0.088221     17.516227           0.130529   \n",
       "min            0.000000          0.000000      0.000000           0.000000   \n",
       "25%            0.888889          0.047619     14.000000           0.000000   \n",
       "50%            0.923077          0.083333     29.000000           0.000000   \n",
       "75%            0.958333          0.125000     45.000000           0.000000   \n",
       "max            4.000000          0.600000     59.000000           1.000000   \n",
       "\n",
       "                dia         tiempo  \n",
       "count  21395.000000   21395.000000  \n",
       "mean     145.125076  209907.829212  \n",
       "std       61.821340   89014.985881  \n",
       "min        0.000000    1191.000000  \n",
       "25%       97.000000  140616.000000  \n",
       "50%      151.000000  218167.000000  \n",
       "75%      187.000000  270168.500000  \n",
       "max      264.000000  381022.000000  "
      ]
     },
     "execution_count": 32,
     "metadata": {},
     "output_type": "execute_result"
    }
   ],
   "source": [
    "num += ['minutos', 'proporcion_emojis', 'dia', 'tiempo']\n",
    "df[num].describe()"
   ]
  },
  {
   "cell_type": "code",
   "execution_count": 33,
   "metadata": {
    "ExecuteTime": {
     "end_time": "2020-10-26T20:56:50.759641Z",
     "start_time": "2020-10-26T20:56:50.563448Z"
    }
   },
   "outputs": [
    {
     "data": {
      "text/html": [
       "<div>\n",
       "<style scoped>\n",
       "    .dataframe tbody tr th:only-of-type {\n",
       "        vertical-align: middle;\n",
       "    }\n",
       "\n",
       "    .dataframe tbody tr th {\n",
       "        vertical-align: top;\n",
       "    }\n",
       "\n",
       "    .dataframe thead th {\n",
       "        text-align: right;\n",
       "    }\n",
       "</style>\n",
       "<table border=\"1\" class=\"dataframe\">\n",
       "  <thead>\n",
       "    <tr style=\"text-align: right;\">\n",
       "      <th></th>\n",
       "      <th>hora_solo_nor</th>\n",
       "      <th>num_palabras_nor</th>\n",
       "      <th>num_caracteres_nor</th>\n",
       "      <th>num_letras_nor</th>\n",
       "      <th>num_minus_letras_nor</th>\n",
       "      <th>num_mayus_letras_nor</th>\n",
       "      <th>minutos_nor</th>\n",
       "      <th>proporcion_emojis_nor</th>\n",
       "      <th>dia_nor</th>\n",
       "      <th>tiempo_nor</th>\n",
       "    </tr>\n",
       "  </thead>\n",
       "  <tbody>\n",
       "    <tr>\n",
       "      <th>count</th>\n",
       "      <td>21395.000000</td>\n",
       "      <td>21395.000000</td>\n",
       "      <td>21395.000000</td>\n",
       "      <td>21395.000000</td>\n",
       "      <td>21395.000000</td>\n",
       "      <td>21395.000000</td>\n",
       "      <td>21395.000000</td>\n",
       "      <td>21395.000000</td>\n",
       "      <td>21395.000000</td>\n",
       "      <td>21395.000000</td>\n",
       "    </tr>\n",
       "    <tr>\n",
       "      <th>mean</th>\n",
       "      <td>0.554031</td>\n",
       "      <td>0.119039</td>\n",
       "      <td>0.150130</td>\n",
       "      <td>0.154704</td>\n",
       "      <td>0.239849</td>\n",
       "      <td>0.173403</td>\n",
       "      <td>0.497729</td>\n",
       "      <td>0.019331</td>\n",
       "      <td>0.549716</td>\n",
       "      <td>0.549499</td>\n",
       "    </tr>\n",
       "    <tr>\n",
       "      <th>std</th>\n",
       "      <td>0.232033</td>\n",
       "      <td>0.137772</td>\n",
       "      <td>0.131820</td>\n",
       "      <td>0.130450</td>\n",
       "      <td>0.099449</td>\n",
       "      <td>0.147035</td>\n",
       "      <td>0.296885</td>\n",
       "      <td>0.130529</td>\n",
       "      <td>0.234172</td>\n",
       "      <td>0.234354</td>\n",
       "    </tr>\n",
       "    <tr>\n",
       "      <th>min</th>\n",
       "      <td>0.000000</td>\n",
       "      <td>0.000000</td>\n",
       "      <td>0.000000</td>\n",
       "      <td>0.000000</td>\n",
       "      <td>0.000000</td>\n",
       "      <td>0.000000</td>\n",
       "      <td>0.000000</td>\n",
       "      <td>0.000000</td>\n",
       "      <td>0.000000</td>\n",
       "      <td>0.000000</td>\n",
       "    </tr>\n",
       "    <tr>\n",
       "      <th>25%</th>\n",
       "      <td>0.333333</td>\n",
       "      <td>0.040000</td>\n",
       "      <td>0.067164</td>\n",
       "      <td>0.073394</td>\n",
       "      <td>0.222222</td>\n",
       "      <td>0.079365</td>\n",
       "      <td>0.237288</td>\n",
       "      <td>0.000000</td>\n",
       "      <td>0.367424</td>\n",
       "      <td>0.367071</td>\n",
       "    </tr>\n",
       "    <tr>\n",
       "      <th>50%</th>\n",
       "      <td>0.555556</td>\n",
       "      <td>0.080000</td>\n",
       "      <td>0.104478</td>\n",
       "      <td>0.110092</td>\n",
       "      <td>0.230769</td>\n",
       "      <td>0.138889</td>\n",
       "      <td>0.491525</td>\n",
       "      <td>0.000000</td>\n",
       "      <td>0.571970</td>\n",
       "      <td>0.571244</td>\n",
       "    </tr>\n",
       "    <tr>\n",
       "      <th>75%</th>\n",
       "      <td>0.722222</td>\n",
       "      <td>0.160000</td>\n",
       "      <td>0.194030</td>\n",
       "      <td>0.201835</td>\n",
       "      <td>0.239583</td>\n",
       "      <td>0.208333</td>\n",
       "      <td>0.762712</td>\n",
       "      <td>0.000000</td>\n",
       "      <td>0.708333</td>\n",
       "      <td>0.708150</td>\n",
       "    </tr>\n",
       "    <tr>\n",
       "      <th>max</th>\n",
       "      <td>1.000000</td>\n",
       "      <td>1.000000</td>\n",
       "      <td>1.000000</td>\n",
       "      <td>1.000000</td>\n",
       "      <td>1.000000</td>\n",
       "      <td>1.000000</td>\n",
       "      <td>1.000000</td>\n",
       "      <td>1.000000</td>\n",
       "      <td>1.000000</td>\n",
       "      <td>1.000000</td>\n",
       "    </tr>\n",
       "  </tbody>\n",
       "</table>\n",
       "</div>"
      ],
      "text/plain": [
       "       hora_solo_nor  num_palabras_nor  num_caracteres_nor  num_letras_nor  \\\n",
       "count   21395.000000      21395.000000        21395.000000    21395.000000   \n",
       "mean        0.554031          0.119039            0.150130        0.154704   \n",
       "std         0.232033          0.137772            0.131820        0.130450   \n",
       "min         0.000000          0.000000            0.000000        0.000000   \n",
       "25%         0.333333          0.040000            0.067164        0.073394   \n",
       "50%         0.555556          0.080000            0.104478        0.110092   \n",
       "75%         0.722222          0.160000            0.194030        0.201835   \n",
       "max         1.000000          1.000000            1.000000        1.000000   \n",
       "\n",
       "       num_minus_letras_nor  num_mayus_letras_nor   minutos_nor  \\\n",
       "count          21395.000000          21395.000000  21395.000000   \n",
       "mean               0.239849              0.173403      0.497729   \n",
       "std                0.099449              0.147035      0.296885   \n",
       "min                0.000000              0.000000      0.000000   \n",
       "25%                0.222222              0.079365      0.237288   \n",
       "50%                0.230769              0.138889      0.491525   \n",
       "75%                0.239583              0.208333      0.762712   \n",
       "max                1.000000              1.000000      1.000000   \n",
       "\n",
       "       proporcion_emojis_nor       dia_nor    tiempo_nor  \n",
       "count           21395.000000  21395.000000  21395.000000  \n",
       "mean                0.019331      0.549716      0.549499  \n",
       "std                 0.130529      0.234172      0.234354  \n",
       "min                 0.000000      0.000000      0.000000  \n",
       "25%                 0.000000      0.367424      0.367071  \n",
       "50%                 0.000000      0.571970      0.571244  \n",
       "75%                 0.000000      0.708333      0.708150  \n",
       "max                 1.000000      1.000000      1.000000  "
      ]
     },
     "execution_count": 33,
     "metadata": {},
     "output_type": "execute_result"
    }
   ],
   "source": [
    "for x in num:\n",
    "    min_num = df[x].min()\n",
    "    max_num = df[x].max()\n",
    "    rango = max_num - min_num\n",
    "    df[f'{x}_nor'] = (df[x] - min_num) / rango\n",
    "\n",
    "num_nor = [col for col in df.columns if col.endswith('nor')]\n",
    "df[num_nor].describe()"
   ]
  },
  {
   "cell_type": "code",
   "execution_count": 34,
   "metadata": {
    "ExecuteTime": {
     "end_time": "2020-10-26T20:56:50.789841Z",
     "start_time": "2020-10-26T20:56:50.770614Z"
    }
   },
   "outputs": [
    {
     "data": {
      "text/plain": [
       "['Mensaje_limpio', 'tipo', 'hora_rango', 'dia_sem', 'msj_seguidos', 'max_msj']"
      ]
     },
     "execution_count": 34,
     "metadata": {},
     "output_type": "execute_result"
    }
   ],
   "source": [
    "cat = [col for col in df.iloc[:,7:].columns if col not in num + num_nor + ['dif_minutos',\n",
    "                                                                           'media',\n",
    "                                                                           'vistus']]\n",
    "cat"
   ]
  },
  {
   "cell_type": "code",
   "execution_count": 35,
   "metadata": {
    "ExecuteTime": {
     "end_time": "2020-10-26T20:57:10.302992Z",
     "start_time": "2020-10-26T20:56:50.807013Z"
    }
   },
   "outputs": [
    {
     "name": "stderr",
     "output_type": "stream",
     "text": [
      "/home/ef/Desktop/diplomadus/diplomadus/lib/python3.8/site-packages/sklearn/feature_selection/_univariate_selection.py:302: RuntimeWarning: divide by zero encountered in true_divide\n",
      "  corr /= X_norms\n",
      "/home/ef/Desktop/diplomadus/diplomadus/lib/python3.8/site-packages/sklearn/feature_selection/_univariate_selection.py:307: RuntimeWarning: invalid value encountered in true_divide\n",
      "  F = corr ** 2 / (1 - corr ** 2) * degrees_of_freedom\n"
     ]
    },
    {
     "data": {
      "text/plain": [
       "['num_palabras_nor',\n",
       " 'msj_seguidos',\n",
       " 'Mensaje_limpio_media omitted',\n",
       " 'tipo_media',\n",
       " 'tipo_texto',\n",
       " 'media',\n",
       " 'no',\n",
       " 'omitted',\n",
       " 'pero']"
      ]
     },
     "execution_count": 35,
     "metadata": {},
     "output_type": "execute_result"
    }
   ],
   "source": [
    "## Se vectoriza el mensaje limpio, se limpian las palabras\n",
    "from sklearn.feature_extraction.text import CountVectorizer, TfidfVectorizer\n",
    "cv = TfidfVectorizer(ngram_range = (1, 1),\n",
    "                     min_df = 10,\n",
    "                     max_features = 100)\n",
    "cv.fit(df['Mensaje_limpio'])\n",
    "\n",
    "## Se crea nuestra matriz de variables numéricas (normalizadas) y las categóricas como dummies\n",
    "num = num_nor\n",
    "X = df[num].join(pd.get_dummies(df[cat]))\n",
    "## Se crea la matriz en donde cada palabra es una columna (estilo dummy)\n",
    "aux = pd.DataFrame(data = cv.transform(df['Mensaje_limpio']).todense(),\n",
    "                   columns = cv.get_feature_names()).reset_index()\n",
    "X = X.reset_index().merge(aux, on = 'index', how = 'left')\n",
    "## Se define la variable objetivo\n",
    "y = df['vistus']\n",
    "\n",
    "## Se eligirán las mejores variables\n",
    "from sklearn.feature_selection import SelectKBest, f_classif, f_regression\n",
    "kb = SelectKBest(k = 9, score_func = f_regression)\n",
    "kb.fit(X, y)\n",
    "\n",
    "ls_best = [x for x, y in zip(X.columns, kb.get_support()) if y]\n",
    "ls_best"
   ]
  },
  {
   "cell_type": "code",
   "execution_count": 36,
   "metadata": {
    "ExecuteTime": {
     "end_time": "2020-10-26T20:57:10.369672Z",
     "start_time": "2020-10-26T20:57:10.325686Z"
    }
   },
   "outputs": [],
   "source": [
    "## Y se actualiza nuestra matriz de variables a sólo esas\n",
    "X = X[ls_best]\n",
    "\n",
    "## Se hace la partición del conjunto de entrenamiento y de prueba\n",
    "from sklearn.model_selection import cross_val_score, train_test_split\n",
    "X_train, X_test, y_train, y_test = train_test_split(X, y)"
   ]
  },
  {
   "cell_type": "markdown",
   "metadata": {},
   "source": [
    "### Modelaje"
   ]
  },
  {
   "cell_type": "code",
   "execution_count": 37,
   "metadata": {
    "ExecuteTime": {
     "end_time": "2020-10-26T20:57:13.092088Z",
     "start_time": "2020-10-26T20:57:10.385587Z"
    }
   },
   "outputs": [
    {
     "data": {
      "text/plain": [
       "(0.6698533514662179, 0.009746860536869734)"
      ]
     },
     "execution_count": 37,
     "metadata": {},
     "output_type": "execute_result"
    }
   ],
   "source": [
    "from sklearn.linear_model import LogisticRegression\n",
    "logreg = LogisticRegression()\n",
    "logreg.fit(X_train, y_train)\n",
    "ls_scores = cross_val_score(X = X_train,\n",
    "                            y = y_train,\n",
    "                            cv = 4,\n",
    "                            estimator = logreg,\n",
    "                            scoring = 'roc_auc')\n",
    "## Se observa la acertividad en 4 diferentes secciones del conjunto de entrenamiento\n",
    "np.mean(ls_scores), np.std(ls_scores)"
   ]
  },
  {
   "cell_type": "code",
   "execution_count": 38,
   "metadata": {
    "ExecuteTime": {
     "end_time": "2020-10-26T20:57:13.114016Z",
     "start_time": "2020-10-26T20:57:13.096364Z"
    }
   },
   "outputs": [
    {
     "data": {
      "text/plain": [
       "'82.28%'"
      ]
     },
     "execution_count": 38,
     "metadata": {},
     "output_type": "execute_result"
    }
   ],
   "source": [
    "## La acertividad en el conjunto de prueba es subjetivamente confiable\n",
    "'{:,.2%}'.format(logreg.score(X_test, y_test))"
   ]
  },
  {
   "cell_type": "code",
   "execution_count": 39,
   "metadata": {
    "ExecuteTime": {
     "end_time": "2020-10-26T20:57:13.246839Z",
     "start_time": "2020-10-26T20:57:13.117823Z"
    }
   },
   "outputs": [
    {
     "data": {
      "text/html": [
       "<div>\n",
       "<style scoped>\n",
       "    .dataframe tbody tr th:only-of-type {\n",
       "        vertical-align: middle;\n",
       "    }\n",
       "\n",
       "    .dataframe tbody tr th {\n",
       "        vertical-align: top;\n",
       "    }\n",
       "\n",
       "    .dataframe thead th {\n",
       "        text-align: right;\n",
       "    }\n",
       "</style>\n",
       "<table border=\"1\" class=\"dataframe\">\n",
       "  <thead>\n",
       "    <tr style=\"text-align: right;\">\n",
       "      <th></th>\n",
       "      <th>Variable</th>\n",
       "      <th>Explica_vistus</th>\n",
       "    </tr>\n",
       "  </thead>\n",
       "  <tbody>\n",
       "    <tr>\n",
       "      <th>8</th>\n",
       "      <td>pero</td>\n",
       "      <td>-1.656394</td>\n",
       "    </tr>\n",
       "    <tr>\n",
       "      <th>6</th>\n",
       "      <td>no</td>\n",
       "      <td>-0.422328</td>\n",
       "    </tr>\n",
       "    <tr>\n",
       "      <th>4</th>\n",
       "      <td>tipo_texto</td>\n",
       "      <td>-0.173159</td>\n",
       "    </tr>\n",
       "    <tr>\n",
       "      <th>5</th>\n",
       "      <td>media</td>\n",
       "      <td>0.163022</td>\n",
       "    </tr>\n",
       "    <tr>\n",
       "      <th>0</th>\n",
       "      <td>num_palabras_nor</td>\n",
       "      <td>0.197556</td>\n",
       "    </tr>\n",
       "    <tr>\n",
       "      <th>1</th>\n",
       "      <td>msj_seguidos</td>\n",
       "      <td>0.213924</td>\n",
       "    </tr>\n",
       "    <tr>\n",
       "      <th>7</th>\n",
       "      <td>omitted</td>\n",
       "      <td>0.335492</td>\n",
       "    </tr>\n",
       "    <tr>\n",
       "      <th>2</th>\n",
       "      <td>Mensaje_limpio_media omitted</td>\n",
       "      <td>0.474353</td>\n",
       "    </tr>\n",
       "    <tr>\n",
       "      <th>3</th>\n",
       "      <td>tipo_media</td>\n",
       "      <td>0.474353</td>\n",
       "    </tr>\n",
       "  </tbody>\n",
       "</table>\n",
       "</div>"
      ],
      "text/plain": [
       "                       Variable  Explica_vistus\n",
       "8                          pero       -1.656394\n",
       "6                            no       -0.422328\n",
       "4                    tipo_texto       -0.173159\n",
       "5                         media        0.163022\n",
       "0              num_palabras_nor        0.197556\n",
       "1                  msj_seguidos        0.213924\n",
       "7                       omitted        0.335492\n",
       "2  Mensaje_limpio_media omitted        0.474353\n",
       "3                    tipo_media        0.474353"
      ]
     },
     "execution_count": 39,
     "metadata": {},
     "output_type": "execute_result"
    }
   ],
   "source": [
    "## Se despliega la relación que tiene cada una de las mejores variables que explican\n",
    "# la variable objetivo\n",
    "pd.DataFrame(list(zip(ls_best, logreg.coef_[0])),\n",
    "            columns = ['Variable', 'Explica_vistus']).sort_values(by = 'Explica_vistus')"
   ]
  },
  {
   "cell_type": "code",
   "execution_count": 40,
   "metadata": {
    "ExecuteTime": {
     "end_time": "2020-10-26T20:57:13.290481Z",
     "start_time": "2020-10-26T20:57:13.252856Z"
    }
   },
   "outputs": [],
   "source": [
    "## Se preserva el modelo\n",
    "pd.to_pickle(logreg, 'logreg.diplo')"
   ]
  },
  {
   "cell_type": "markdown",
   "metadata": {},
   "source": [
    "## Regresión lineal"
   ]
  },
  {
   "cell_type": "code",
   "execution_count": 41,
   "metadata": {
    "ExecuteTime": {
     "end_time": "2020-10-26T20:57:13.342994Z",
     "start_time": "2020-10-26T20:57:13.294917Z"
    }
   },
   "outputs": [],
   "source": [
    "## Respaldo de tabla limpia\n",
    "df_respaldo = df.copy()"
   ]
  },
  {
   "cell_type": "code",
   "execution_count": 42,
   "metadata": {
    "ExecuteTime": {
     "end_time": "2020-10-26T20:57:13.391459Z",
     "start_time": "2020-10-26T20:57:13.355853Z"
    }
   },
   "outputs": [],
   "source": [
    "df = df_respaldo.copy()"
   ]
  },
  {
   "cell_type": "markdown",
   "metadata": {},
   "source": [
    "### Reducción de dimensiones"
   ]
  },
  {
   "cell_type": "code",
   "execution_count": 43,
   "metadata": {
    "ExecuteTime": {
     "end_time": "2020-10-26T20:57:13.532557Z",
     "start_time": "2020-10-26T20:57:13.395653Z"
    }
   },
   "outputs": [
    {
     "data": {
      "text/html": [
       "<div>\n",
       "<style scoped>\n",
       "    .dataframe tbody tr th:only-of-type {\n",
       "        vertical-align: middle;\n",
       "    }\n",
       "\n",
       "    .dataframe tbody tr th {\n",
       "        vertical-align: top;\n",
       "    }\n",
       "\n",
       "    .dataframe thead th {\n",
       "        text-align: right;\n",
       "    }\n",
       "</style>\n",
       "<table border=\"1\" class=\"dataframe\">\n",
       "  <thead>\n",
       "    <tr style=\"text-align: right;\">\n",
       "      <th>Autor</th>\n",
       "      <th>Fecha</th>\n",
       "      <th>hora_rango</th>\n",
       "      <th>dia_sem</th>\n",
       "      <th>EF</th>\n",
       "      <th>Iván Jardón</th>\n",
       "      <th>Kevin Bacon</th>\n",
       "    </tr>\n",
       "  </thead>\n",
       "  <tbody>\n",
       "    <tr>\n",
       "      <th>789</th>\n",
       "      <td>2020-08-25</td>\n",
       "      <td>17-19</td>\n",
       "      <td>2</td>\n",
       "      <td>30.0</td>\n",
       "      <td>34.0</td>\n",
       "      <td>32.0</td>\n",
       "    </tr>\n",
       "    <tr>\n",
       "      <th>753</th>\n",
       "      <td>2020-08-18</td>\n",
       "      <td>11-13</td>\n",
       "      <td>2</td>\n",
       "      <td>6.0</td>\n",
       "      <td>7.0</td>\n",
       "      <td>5.0</td>\n",
       "    </tr>\n",
       "    <tr>\n",
       "      <th>72</th>\n",
       "      <td>2020-03-04</td>\n",
       "      <td>17-19</td>\n",
       "      <td>3</td>\n",
       "      <td>0.0</td>\n",
       "      <td>2.0</td>\n",
       "      <td>1.0</td>\n",
       "    </tr>\n",
       "    <tr>\n",
       "      <th>466</th>\n",
       "      <td>2020-06-17</td>\n",
       "      <td>17-19</td>\n",
       "      <td>3</td>\n",
       "      <td>25.0</td>\n",
       "      <td>19.0</td>\n",
       "      <td>18.0</td>\n",
       "    </tr>\n",
       "  </tbody>\n",
       "</table>\n",
       "</div>"
      ],
      "text/plain": [
       "Autor      Fecha hora_rango  dia_sem    EF   Iván Jardón   Kevin Bacon\n",
       "789   2020-08-25      17-19        2  30.0          34.0          32.0\n",
       "753   2020-08-18      11-13        2   6.0           7.0           5.0\n",
       "72    2020-03-04      17-19        3   0.0           2.0           1.0\n",
       "466   2020-06-17      17-19        3  25.0          19.0          18.0"
      ]
     },
     "execution_count": 43,
     "metadata": {},
     "output_type": "execute_result"
    }
   ],
   "source": [
    "## Se quiere conocer\n",
    "df = df_respaldo.copy()\n",
    "df = pd.pivot_table(df,\n",
    "                    index = ['Fecha', 'hora_rango', 'dia_sem'],\n",
    "                    columns = 'Autor',\n",
    "                    values = 'Mensaje',\n",
    "                    aggfunc = 'count').copy().reset_index()\n",
    "df.fillna(0, inplace = True)\n",
    "df.sample(4)"
   ]
  },
  {
   "cell_type": "code",
   "execution_count": 45,
   "metadata": {
    "ExecuteTime": {
     "end_time": "2020-10-26T20:59:53.419395Z",
     "start_time": "2020-10-26T20:59:53.114666Z"
    }
   },
   "outputs": [
    {
     "data": {
      "text/plain": [
       "<AxesSubplot:>"
      ]
     },
     "execution_count": 45,
     "metadata": {},
     "output_type": "execute_result"
    },
    {
     "data": {
      "image/png": "[encoded data removed]",
      "text/plain": [
       "<Figure size 432x288 with 1 Axes>"
      ]
     },
     "metadata": {
      "needs_background": "light"
     },
     "output_type": "display_data"
    }
   ],
   "source": [
    "objetivo = ' Kevin Bacon'\n",
    "resto = [col for col in df.iloc[:,-3:].columns if col not in objetivo]\n",
    "\n",
    "df['sum_chat'] = df[resto[0]] + df[resto[1]]\n",
    "df['sum_chat'].hist()"
   ]
  },
  {
   "cell_type": "code",
   "execution_count": 45,
   "metadata": {
    "ExecuteTime": {
     "end_time": "2020-10-26T00:41:42.646867Z",
     "start_time": "2020-10-26T00:41:42.357373Z"
    }
   },
   "outputs": [
    {
     "data": {
      "text/plain": [
       "<AxesSubplot:>"
      ]
     },
     "execution_count": 45,
     "metadata": {},
     "output_type": "execute_result"
    },
    {
     "data": {
      "image/png": "[encoded data removed]",
      "text/plain": [
       "<Figure size 432x288 with 1 Axes>"
      ]
     },
     "metadata": {
      "needs_background": "light"
     },
     "output_type": "display_data"
    }
   ],
   "source": [
    "outlier(df,['sum_chat'])\n",
    "df['sum_chat'].hist()"
   ]
  },
  {
   "cell_type": "code",
   "execution_count": 46,
   "metadata": {
    "ExecuteTime": {
     "end_time": "2020-10-26T00:41:42.679169Z",
     "start_time": "2020-10-26T00:41:42.655085Z"
    }
   },
   "outputs": [
    {
     "data": {
      "text/plain": [
       "['dia_sem',\n",
       " ' EF',\n",
       " ' Iván Jardón',\n",
       " 'sum_chat',\n",
       " '00-10',\n",
       " '11-13',\n",
       " '14-16',\n",
       " '17-19',\n",
       " '20-24']"
      ]
     },
     "execution_count": 46,
     "metadata": {},
     "output_type": "execute_result"
    }
   ],
   "source": [
    "variables = df.iloc[:,2:].columns\n",
    "\n",
    "X = df[[x for x in variables if x not in objetivo]].join(pd.get_dummies(df['hora_rango']))\n",
    "y = df[objetivo]\n",
    "\n",
    "## Se eligirán las mejores variables\n",
    "from sklearn.feature_selection import SelectKBest, f_classif, f_regression\n",
    "kb = SelectKBest(k = 9, score_func = f_regression)\n",
    "kb.fit(X, y)\n",
    "\n",
    "ls_best = [x for x, y in zip(X.columns, kb.get_support()) if y]\n",
    "ls_best"
   ]
  },
  {
   "cell_type": "code",
   "execution_count": 47,
   "metadata": {
    "ExecuteTime": {
     "end_time": "2020-10-26T00:41:42.702713Z",
     "start_time": "2020-10-26T00:41:42.682609Z"
    }
   },
   "outputs": [
    {
     "data": {
      "text/html": [
       "<div>\n",
       "<style scoped>\n",
       "    .dataframe tbody tr th:only-of-type {\n",
       "        vertical-align: middle;\n",
       "    }\n",
       "\n",
       "    .dataframe tbody tr th {\n",
       "        vertical-align: top;\n",
       "    }\n",
       "\n",
       "    .dataframe thead th {\n",
       "        text-align: right;\n",
       "    }\n",
       "</style>\n",
       "<table border=\"1\" class=\"dataframe\">\n",
       "  <thead>\n",
       "    <tr style=\"text-align: right;\">\n",
       "      <th></th>\n",
       "      <th>dia_sem</th>\n",
       "      <th>EF</th>\n",
       "      <th>Iván Jardón</th>\n",
       "      <th>sum_chat</th>\n",
       "      <th>00-10</th>\n",
       "      <th>11-13</th>\n",
       "      <th>14-16</th>\n",
       "      <th>17-19</th>\n",
       "      <th>20-24</th>\n",
       "      <th>Kevin Bacon</th>\n",
       "    </tr>\n",
       "  </thead>\n",
       "  <tbody>\n",
       "    <tr>\n",
       "      <th>0</th>\n",
       "      <td>1</td>\n",
       "      <td>0.0</td>\n",
       "      <td>1.0</td>\n",
       "      <td>1.0</td>\n",
       "      <td>0</td>\n",
       "      <td>0</td>\n",
       "      <td>0</td>\n",
       "      <td>1</td>\n",
       "      <td>0</td>\n",
       "      <td>1.0</td>\n",
       "    </tr>\n",
       "    <tr>\n",
       "      <th>1</th>\n",
       "      <td>3</td>\n",
       "      <td>6.0</td>\n",
       "      <td>8.0</td>\n",
       "      <td>14.0</td>\n",
       "      <td>1</td>\n",
       "      <td>0</td>\n",
       "      <td>0</td>\n",
       "      <td>0</td>\n",
       "      <td>0</td>\n",
       "      <td>7.0</td>\n",
       "    </tr>\n",
       "    <tr>\n",
       "      <th>2</th>\n",
       "      <td>3</td>\n",
       "      <td>4.0</td>\n",
       "      <td>1.0</td>\n",
       "      <td>5.0</td>\n",
       "      <td>0</td>\n",
       "      <td>1</td>\n",
       "      <td>0</td>\n",
       "      <td>0</td>\n",
       "      <td>0</td>\n",
       "      <td>3.0</td>\n",
       "    </tr>\n",
       "    <tr>\n",
       "      <th>3</th>\n",
       "      <td>3</td>\n",
       "      <td>1.0</td>\n",
       "      <td>0.0</td>\n",
       "      <td>1.0</td>\n",
       "      <td>0</td>\n",
       "      <td>0</td>\n",
       "      <td>0</td>\n",
       "      <td>1</td>\n",
       "      <td>0</td>\n",
       "      <td>2.0</td>\n",
       "    </tr>\n",
       "  </tbody>\n",
       "</table>\n",
       "</div>"
      ],
      "text/plain": [
       "   dia_sem   EF   Iván Jardón  sum_chat  00-10  11-13  14-16  17-19  20-24  \\\n",
       "0        1  0.0           1.0       1.0      0      0      0      1      0   \n",
       "1        3  6.0           8.0      14.0      1      0      0      0      0   \n",
       "2        3  4.0           1.0       5.0      0      1      0      0      0   \n",
       "3        3  1.0           0.0       1.0      0      0      0      1      0   \n",
       "\n",
       "    Kevin Bacon  \n",
       "0           1.0  \n",
       "1           7.0  \n",
       "2           3.0  \n",
       "3           2.0  "
      ]
     },
     "execution_count": 47,
     "metadata": {},
     "output_type": "execute_result"
    }
   ],
   "source": [
    "X = X[ls_best]\n",
    "X.head(4).join(y.head(4))"
   ]
  },
  {
   "cell_type": "code",
   "execution_count": 48,
   "metadata": {
    "ExecuteTime": {
     "end_time": "2020-10-26T00:41:44.977023Z",
     "start_time": "2020-10-26T00:41:42.705974Z"
    }
   },
   "outputs": [
    {
     "data": {
      "text/plain": [
       "(0.7320673195015495, 0.03180897363280953)"
      ]
     },
     "execution_count": 48,
     "metadata": {},
     "output_type": "execute_result"
    }
   ],
   "source": [
    "from sklearn.linear_model import LinearRegression, Lars, ElasticNet, Lasso, Ridge, BayesianRidge\n",
    "linreg = LinearRegression()\n",
    "linreg.fit(X, y)\n",
    "ls_res = cross_val_score(estimator = linreg,\n",
    "                         X = X,\n",
    "                         y = y,\n",
    "                         cv = 4,\n",
    "                         n_jobs = -1,\n",
    "                         scoring='r2')\n",
    "np.mean(ls_res), np.std(ls_res)"
   ]
  },
  {
   "cell_type": "code",
   "execution_count": 49,
   "metadata": {
    "ExecuteTime": {
     "end_time": "2020-10-26T00:41:45.012367Z",
     "start_time": "2020-10-26T00:41:44.990343Z"
    }
   },
   "outputs": [
    {
     "data": {
      "text/plain": [
       "array([0.72186575, 0.74729855, 0.6865494 , 0.77255558])"
      ]
     },
     "execution_count": 49,
     "metadata": {},
     "output_type": "execute_result"
    }
   ],
   "source": [
    "ls_res"
   ]
  },
  {
   "cell_type": "code",
   "execution_count": 50,
   "metadata": {
    "ExecuteTime": {
     "end_time": "2020-10-26T00:41:45.042341Z",
     "start_time": "2020-10-26T00:41:45.015917Z"
    }
   },
   "outputs": [
    {
     "data": {
      "text/html": [
       "<div>\n",
       "<style scoped>\n",
       "    .dataframe tbody tr th:only-of-type {\n",
       "        vertical-align: middle;\n",
       "    }\n",
       "\n",
       "    .dataframe tbody tr th {\n",
       "        vertical-align: top;\n",
       "    }\n",
       "\n",
       "    .dataframe thead th {\n",
       "        text-align: right;\n",
       "    }\n",
       "</style>\n",
       "<table border=\"1\" class=\"dataframe\">\n",
       "  <thead>\n",
       "    <tr style=\"text-align: right;\">\n",
       "      <th></th>\n",
       "      <th>Variable</th>\n",
       "      <th>Explica_texto</th>\n",
       "    </tr>\n",
       "  </thead>\n",
       "  <tbody>\n",
       "    <tr>\n",
       "      <th>6</th>\n",
       "      <td>sum_chat</td>\n",
       "      <td>-0.120697</td>\n",
       "    </tr>\n",
       "    <tr>\n",
       "      <th>0</th>\n",
       "      <td>Fecha</td>\n",
       "      <td>-0.096343</td>\n",
       "    </tr>\n",
       "    <tr>\n",
       "      <th>1</th>\n",
       "      <td>hora_rango</td>\n",
       "      <td>0.155645</td>\n",
       "    </tr>\n",
       "    <tr>\n",
       "      <th>4</th>\n",
       "      <td>Iván Jardón</td>\n",
       "      <td>0.180547</td>\n",
       "    </tr>\n",
       "    <tr>\n",
       "      <th>2</th>\n",
       "      <td>dia_sem</td>\n",
       "      <td>0.210477</td>\n",
       "    </tr>\n",
       "    <tr>\n",
       "      <th>5</th>\n",
       "      <td>Kevin Bacon</td>\n",
       "      <td>0.317739</td>\n",
       "    </tr>\n",
       "    <tr>\n",
       "      <th>3</th>\n",
       "      <td>EF</td>\n",
       "      <td>0.366122</td>\n",
       "    </tr>\n",
       "  </tbody>\n",
       "</table>\n",
       "</div>"
      ],
      "text/plain": [
       "       Variable  Explica_texto\n",
       "6      sum_chat      -0.120697\n",
       "0         Fecha      -0.096343\n",
       "1    hora_rango       0.155645\n",
       "4   Iván Jardón       0.180547\n",
       "2       dia_sem       0.210477\n",
       "5   Kevin Bacon       0.317739\n",
       "3            EF       0.366122"
      ]
     },
     "execution_count": 50,
     "metadata": {},
     "output_type": "execute_result"
    }
   ],
   "source": [
    "## Se despliega la relación que tiene cada una de las mejores variables que explican\n",
    "# la variable objetivo\n",
    "pd.DataFrame(list(zip(df.columns, linreg.coef_)),\n",
    "            columns = ['Variable', 'Explica_texto']).sort_values(by = 'Explica_texto')"
   ]
  },
  {
   "cell_type": "code",
   "execution_count": 51,
   "metadata": {
    "ExecuteTime": {
     "end_time": "2020-10-26T00:41:45.054474Z",
     "start_time": "2020-10-26T00:41:45.045381Z"
    }
   },
   "outputs": [
    {
     "data": {
      "text/plain": [
       "{'LinearRegression': 0.7320673195015495}"
      ]
     },
     "execution_count": 51,
     "metadata": {},
     "output_type": "execute_result"
    }
   ],
   "source": [
    "## Se crea diccionario para consolidar resultados\n",
    "dc_scores = {}\n",
    "dc_scores.update({str(linreg).split('(')[0]: np.mean(ls_res)})\n",
    "dc_scores"
   ]
  },
  {
   "cell_type": "markdown",
   "metadata": {},
   "source": [
    "### LARS"
   ]
  },
  {
   "cell_type": "code",
   "execution_count": 52,
   "metadata": {
    "ExecuteTime": {
     "end_time": "2020-10-26T00:41:45.102951Z",
     "start_time": "2020-10-26T00:41:45.058943Z"
    }
   },
   "outputs": [
    {
     "data": {
      "text/plain": [
       "(0.7320673195015504, 0.03180897363281)"
      ]
     },
     "execution_count": 52,
     "metadata": {},
     "output_type": "execute_result"
    }
   ],
   "source": [
    "larsreg = Lars()\n",
    "larsreg.fit(X, y)\n",
    "ls_res = cross_val_score(estimator = larsreg,\n",
    "                         X = X,\n",
    "                         y = y,\n",
    "                         cv = 4,\n",
    "                         n_jobs = -1,\n",
    "                         scoring = 'r2')\n",
    "np.mean(ls_res), np.std(ls_res)"
   ]
  },
  {
   "cell_type": "code",
   "execution_count": 53,
   "metadata": {
    "ExecuteTime": {
     "end_time": "2020-10-26T00:41:45.117155Z",
     "start_time": "2020-10-26T00:41:45.105489Z"
    }
   },
   "outputs": [
    {
     "data": {
      "text/html": [
       "<div>\n",
       "<style scoped>\n",
       "    .dataframe tbody tr th:only-of-type {\n",
       "        vertical-align: middle;\n",
       "    }\n",
       "\n",
       "    .dataframe tbody tr th {\n",
       "        vertical-align: top;\n",
       "    }\n",
       "\n",
       "    .dataframe thead th {\n",
       "        text-align: right;\n",
       "    }\n",
       "</style>\n",
       "<table border=\"1\" class=\"dataframe\">\n",
       "  <thead>\n",
       "    <tr style=\"text-align: right;\">\n",
       "      <th></th>\n",
       "      <th>Variable</th>\n",
       "      <th>Explica_texto</th>\n",
       "    </tr>\n",
       "  </thead>\n",
       "  <tbody>\n",
       "    <tr>\n",
       "      <th>0</th>\n",
       "      <td>dia_sem</td>\n",
       "      <td>-0.096343</td>\n",
       "    </tr>\n",
       "    <tr>\n",
       "      <th>1</th>\n",
       "      <td>EF</td>\n",
       "      <td>0.000000</td>\n",
       "    </tr>\n",
       "    <tr>\n",
       "      <th>2</th>\n",
       "      <td>Iván Jardón</td>\n",
       "      <td>0.054831</td>\n",
       "    </tr>\n",
       "    <tr>\n",
       "      <th>4</th>\n",
       "      <td>sum_chat</td>\n",
       "      <td>0.254730</td>\n",
       "    </tr>\n",
       "    <tr>\n",
       "      <th>3</th>\n",
       "      <td>Kevin Bacon</td>\n",
       "      <td>0.521767</td>\n",
       "    </tr>\n",
       "  </tbody>\n",
       "</table>\n",
       "</div>"
      ],
      "text/plain": [
       "       Variable  Explica_texto\n",
       "0       dia_sem      -0.096343\n",
       "1            EF       0.000000\n",
       "2   Iván Jardón       0.054831\n",
       "4      sum_chat       0.254730\n",
       "3   Kevin Bacon       0.521767"
      ]
     },
     "execution_count": 53,
     "metadata": {},
     "output_type": "execute_result"
    }
   ],
   "source": [
    "## Se despliega la relación que tiene cada una de las mejores variables que explican\n",
    "# la variable objetivo\n",
    "pd.DataFrame(list(zip(variables, larsreg.coef_)),\n",
    "            columns = ['Variable', 'Explica_texto']).sort_values(by = 'Explica_texto')"
   ]
  },
  {
   "cell_type": "code",
   "execution_count": 54,
   "metadata": {
    "ExecuteTime": {
     "end_time": "2020-10-26T00:41:45.131858Z",
     "start_time": "2020-10-26T00:41:45.119611Z"
    }
   },
   "outputs": [
    {
     "data": {
      "text/plain": [
       "{'LinearRegression': 0.7320673195015495, 'Lars': 0.7320673195015504}"
      ]
     },
     "execution_count": 54,
     "metadata": {},
     "output_type": "execute_result"
    }
   ],
   "source": [
    "dc_scores.update({str(larsreg).split('(')[0]: np.mean(ls_res)})\n",
    "dc_scores"
   ]
  },
  {
   "cell_type": "markdown",
   "metadata": {},
   "source": [
    "### Ridge"
   ]
  },
  {
   "cell_type": "code",
   "execution_count": 55,
   "metadata": {
    "ExecuteTime": {
     "end_time": "2020-10-26T00:41:52.718587Z",
     "start_time": "2020-10-26T00:41:45.135304Z"
    }
   },
   "outputs": [
    {
     "data": {
      "text/plain": [
       "(0.7330491898904268, 0.032652813496317386)"
      ]
     },
     "execution_count": 55,
     "metadata": {},
     "output_type": "execute_result"
    }
   ],
   "source": [
    "## Se prueba con diferentes valores de alpha\n",
    "aux = []\n",
    "for i in range(0, 1000, 5):\n",
    "    ridgereg = Ridge(alpha = i)\n",
    "    ridgereg.fit(X, y)\n",
    "    ls_res = cross_val_score(estimator = ridgereg,\n",
    "                             X = X,\n",
    "                             y = y,\n",
    "                             cv = 4,\n",
    "                             n_jobs = -1,\n",
    "                             scoring = 'r2')\n",
    "    aux.append(np.mean(ls_res))\n",
    "aux = pd.DataFrame(aux, \n",
    "                  columns = ['R2']).reset_index()\n",
    "\n",
    "## Se escoge la mejor alpha\n",
    "R2 = 0\n",
    "for x in range(len(aux)):\n",
    "    if aux['R2'][x] > R2:\n",
    "        R2 = aux['R2'][x]\n",
    "        alpha = aux['index'][x]\n",
    "\n",
    "## Y se muestra la media y varianza de la validación cruzada con la mejor alpha\n",
    "ridgereg = Ridge(alpha = alpha)\n",
    "ridgereg.fit(X, y)\n",
    "ls_res = cross_val_score(estimator = ridgereg,\n",
    "                         X=X,\n",
    "                         y=y,\n",
    "                         cv=4,\n",
    "                         n_jobs = -1,\n",
    "                         scoring='r2')\n",
    "np.mean(ls_res), np.std(ls_res)"
   ]
  },
  {
   "cell_type": "code",
   "execution_count": 56,
   "metadata": {
    "ExecuteTime": {
     "end_time": "2020-10-26T00:41:52.740329Z",
     "start_time": "2020-10-26T00:41:52.720903Z"
    }
   },
   "outputs": [
    {
     "data": {
      "text/html": [
       "<div>\n",
       "<style scoped>\n",
       "    .dataframe tbody tr th:only-of-type {\n",
       "        vertical-align: middle;\n",
       "    }\n",
       "\n",
       "    .dataframe tbody tr th {\n",
       "        vertical-align: top;\n",
       "    }\n",
       "\n",
       "    .dataframe thead th {\n",
       "        text-align: right;\n",
       "    }\n",
       "</style>\n",
       "<table border=\"1\" class=\"dataframe\">\n",
       "  <thead>\n",
       "    <tr style=\"text-align: right;\">\n",
       "      <th></th>\n",
       "      <th>Variable</th>\n",
       "      <th>Explica_texto</th>\n",
       "    </tr>\n",
       "  </thead>\n",
       "  <tbody>\n",
       "    <tr>\n",
       "      <th>0</th>\n",
       "      <td>dia_sem</td>\n",
       "      <td>-0.091348</td>\n",
       "    </tr>\n",
       "    <tr>\n",
       "      <th>4</th>\n",
       "      <td>sum_chat</td>\n",
       "      <td>0.098509</td>\n",
       "    </tr>\n",
       "    <tr>\n",
       "      <th>1</th>\n",
       "      <td>EF</td>\n",
       "      <td>0.158165</td>\n",
       "    </tr>\n",
       "    <tr>\n",
       "      <th>2</th>\n",
       "      <td>Iván Jardón</td>\n",
       "      <td>0.207838</td>\n",
       "    </tr>\n",
       "    <tr>\n",
       "      <th>3</th>\n",
       "      <td>Kevin Bacon</td>\n",
       "      <td>0.366003</td>\n",
       "    </tr>\n",
       "  </tbody>\n",
       "</table>\n",
       "</div>"
      ],
      "text/plain": [
       "       Variable  Explica_texto\n",
       "0       dia_sem      -0.091348\n",
       "4      sum_chat       0.098509\n",
       "1            EF       0.158165\n",
       "2   Iván Jardón       0.207838\n",
       "3   Kevin Bacon       0.366003"
      ]
     },
     "execution_count": 56,
     "metadata": {},
     "output_type": "execute_result"
    }
   ],
   "source": [
    "## Se despliega la relación que tiene cada una de las mejores variables que explican\n",
    "# la variable objetivo\n",
    "pd.DataFrame(list(zip(variables, ridgereg.coef_)),\n",
    "            columns = ['Variable', 'Explica_texto']).sort_values(by = 'Explica_texto')"
   ]
  },
  {
   "cell_type": "code",
   "execution_count": 57,
   "metadata": {
    "ExecuteTime": {
     "end_time": "2020-10-26T00:41:52.764119Z",
     "start_time": "2020-10-26T00:41:52.744010Z"
    }
   },
   "outputs": [
    {
     "data": {
      "text/plain": [
       "{'LinearRegression': 0.7320673195015495,\n",
       " 'Lars': 0.7320673195015504,\n",
       " 'Ridge': 0.7330491898904268}"
      ]
     },
     "execution_count": 57,
     "metadata": {},
     "output_type": "execute_result"
    }
   ],
   "source": [
    "dc_scores.update({str(ridgereg).split('(')[0]: np.mean(ls_res)})\n",
    "dc_scores"
   ]
  },
  {
   "cell_type": "markdown",
   "metadata": {},
   "source": [
    "### Lasso"
   ]
  },
  {
   "cell_type": "code",
   "execution_count": 58,
   "metadata": {
    "ExecuteTime": {
     "end_time": "2020-10-26T00:42:02.455599Z",
     "start_time": "2020-10-26T00:41:52.768756Z"
    }
   },
   "outputs": [
    {
     "name": "stderr",
     "output_type": "stream",
     "text": [
      "<ipython-input-58-874fc20bc1c6>:5: UserWarning: With alpha=0, this algorithm does not converge well. You are advised to use the LinearRegression estimator\n",
      "  lasso.fit(X, y)\n",
      "/home/ef/Desktop/diplomadus/diplomadus/lib/python3.8/site-packages/sklearn/linear_model/_coordinate_descent.py:529: UserWarning: Coordinate descent with no regularization may lead to unexpected results and is discouraged.\n",
      "  model = cd_fast.enet_coordinate_descent(\n",
      "/home/ef/Desktop/diplomadus/diplomadus/lib/python3.8/site-packages/sklearn/linear_model/_coordinate_descent.py:529: ConvergenceWarning: Objective did not converge. You might want to increase the number of iterations. Duality gap: 3397.5667282553864, tolerance: 2.6718028665931626\n",
      "  model = cd_fast.enet_coordinate_descent(\n"
     ]
    },
    {
     "data": {
      "text/plain": [
       "(0.6028193491440142, 0.03087326249164444)"
      ]
     },
     "execution_count": 58,
     "metadata": {},
     "output_type": "execute_result"
    }
   ],
   "source": [
    "## Se prueba con diferentes valores de alpha\n",
    "aux = []\n",
    "for i in range(0, 1000, 5):\n",
    "    lasso = Lasso(alpha = i/100)\n",
    "    lasso.fit(X, y)\n",
    "    ls_res = cross_val_score(estimator = lasso,\n",
    "                             X = X,\n",
    "                             y = y,\n",
    "                             cv = 4,\n",
    "                             n_jobs = -1,\n",
    "                             scoring = 'r2')\n",
    "    aux.append(np.mean(ls_res))\n",
    "aux = pd.DataFrame(aux, \n",
    "                  columns = ['R2']).reset_index()\n",
    "\n",
    "## Se escoge la mejor alpha\n",
    "R2 = 0\n",
    "for x in range(len(aux)):\n",
    "    if aux['R2'][x] > R2:\n",
    "        R2 = aux['R2'][x]\n",
    "        alpha = aux['index'][x]\n",
    "\n",
    "## Y se muestra la media y varianza de la validación cruzada con la mejor alpha\n",
    "lasso = Lasso(alpha = alpha)\n",
    "lasso.fit(X, y)\n",
    "ls_res = cross_val_score(estimator = lasso,\n",
    "                             X = X,\n",
    "                             y = y,\n",
    "                             cv = 4,\n",
    "                             n_jobs = -1,\n",
    "                             scoring = 'r2')\n",
    "np.mean(ls_res), np.std(ls_res)"
   ]
  },
  {
   "cell_type": "code",
   "execution_count": 59,
   "metadata": {
    "ExecuteTime": {
     "end_time": "2020-10-26T00:42:02.489974Z",
     "start_time": "2020-10-26T00:42:02.468784Z"
    }
   },
   "outputs": [
    {
     "data": {
      "text/html": [
       "<div>\n",
       "<style scoped>\n",
       "    .dataframe tbody tr th:only-of-type {\n",
       "        vertical-align: middle;\n",
       "    }\n",
       "\n",
       "    .dataframe tbody tr th {\n",
       "        vertical-align: top;\n",
       "    }\n",
       "\n",
       "    .dataframe thead th {\n",
       "        text-align: right;\n",
       "    }\n",
       "</style>\n",
       "<table border=\"1\" class=\"dataframe\">\n",
       "  <thead>\n",
       "    <tr style=\"text-align: right;\">\n",
       "      <th></th>\n",
       "      <th>Variable</th>\n",
       "      <th>Explica_texto</th>\n",
       "    </tr>\n",
       "  </thead>\n",
       "  <tbody>\n",
       "    <tr>\n",
       "      <th>0</th>\n",
       "      <td>dia_sem</td>\n",
       "      <td>-0.000000</td>\n",
       "    </tr>\n",
       "    <tr>\n",
       "      <th>1</th>\n",
       "      <td>EF</td>\n",
       "      <td>0.000000</td>\n",
       "    </tr>\n",
       "    <tr>\n",
       "      <th>2</th>\n",
       "      <td>Iván Jardón</td>\n",
       "      <td>0.000000</td>\n",
       "    </tr>\n",
       "    <tr>\n",
       "      <th>4</th>\n",
       "      <td>sum_chat</td>\n",
       "      <td>0.000000</td>\n",
       "    </tr>\n",
       "    <tr>\n",
       "      <th>3</th>\n",
       "      <td>Kevin Bacon</td>\n",
       "      <td>0.329167</td>\n",
       "    </tr>\n",
       "  </tbody>\n",
       "</table>\n",
       "</div>"
      ],
      "text/plain": [
       "       Variable  Explica_texto\n",
       "0       dia_sem      -0.000000\n",
       "1            EF       0.000000\n",
       "2   Iván Jardón       0.000000\n",
       "4      sum_chat       0.000000\n",
       "3   Kevin Bacon       0.329167"
      ]
     },
     "execution_count": 59,
     "metadata": {},
     "output_type": "execute_result"
    }
   ],
   "source": [
    "## Se despliega la relación que tiene cada una de las mejores variables que explican\n",
    "# la variable objetivo\n",
    "pd.DataFrame(list(zip(variables, lasso.coef_)),\n",
    "            columns = ['Variable', 'Explica_texto']).sort_values(by = 'Explica_texto')"
   ]
  },
  {
   "cell_type": "code",
   "execution_count": 60,
   "metadata": {
    "ExecuteTime": {
     "end_time": "2020-10-26T00:42:02.520629Z",
     "start_time": "2020-10-26T00:42:02.502178Z"
    },
    "scrolled": true
   },
   "outputs": [
    {
     "data": {
      "text/plain": [
       "{'LinearRegression': 0.7320673195015495,\n",
       " 'Lars': 0.7320673195015504,\n",
       " 'Ridge': 0.7330491898904268,\n",
       " 'Lasso': 0.6028193491440142}"
      ]
     },
     "execution_count": 60,
     "metadata": {},
     "output_type": "execute_result"
    }
   ],
   "source": [
    "dc_scores.update({str(lasso).split('(')[0]: np.mean(ls_res)})\n",
    "dc_scores"
   ]
  },
  {
   "cell_type": "markdown",
   "metadata": {},
   "source": [
    "### Regresión Bayesiana"
   ]
  },
  {
   "cell_type": "code",
   "execution_count": 61,
   "metadata": {
    "ExecuteTime": {
     "end_time": "2020-10-26T00:42:02.631273Z",
     "start_time": "2020-10-26T00:42:02.526560Z"
    }
   },
   "outputs": [
    {
     "data": {
      "text/plain": [
       "(0.7330146482653148, 0.032607638409276656)"
      ]
     },
     "execution_count": 61,
     "metadata": {},
     "output_type": "execute_result"
    }
   ],
   "source": [
    "bayreg = BayesianRidge()\n",
    "bayreg.fit(X, y)\n",
    "ls_res = cross_val_score(estimator = bayreg,\n",
    "                         X = X, \n",
    "                         y = y, \n",
    "                         cv = 4, \n",
    "                         n_jobs = -1, \n",
    "                         scoring = 'r2')\n",
    "np.mean(ls_res), np.std(ls_res)"
   ]
  },
  {
   "cell_type": "code",
   "execution_count": 62,
   "metadata": {
    "ExecuteTime": {
     "end_time": "2020-10-26T00:42:02.670102Z",
     "start_time": "2020-10-26T00:42:02.639514Z"
    }
   },
   "outputs": [
    {
     "data": {
      "text/html": [
       "<div>\n",
       "<style scoped>\n",
       "    .dataframe tbody tr th:only-of-type {\n",
       "        vertical-align: middle;\n",
       "    }\n",
       "\n",
       "    .dataframe tbody tr th {\n",
       "        vertical-align: top;\n",
       "    }\n",
       "\n",
       "    .dataframe thead th {\n",
       "        text-align: right;\n",
       "    }\n",
       "</style>\n",
       "<table border=\"1\" class=\"dataframe\">\n",
       "  <thead>\n",
       "    <tr style=\"text-align: right;\">\n",
       "      <th></th>\n",
       "      <th>Variable</th>\n",
       "      <th>Explica_texto</th>\n",
       "    </tr>\n",
       "  </thead>\n",
       "  <tbody>\n",
       "    <tr>\n",
       "      <th>0</th>\n",
       "      <td>dia_sem</td>\n",
       "      <td>-0.091952</td>\n",
       "    </tr>\n",
       "    <tr>\n",
       "      <th>4</th>\n",
       "      <td>sum_chat</td>\n",
       "      <td>0.105168</td>\n",
       "    </tr>\n",
       "    <tr>\n",
       "      <th>1</th>\n",
       "      <td>EF</td>\n",
       "      <td>0.157953</td>\n",
       "    </tr>\n",
       "    <tr>\n",
       "      <th>2</th>\n",
       "      <td>Iván Jardón</td>\n",
       "      <td>0.208093</td>\n",
       "    </tr>\n",
       "    <tr>\n",
       "      <th>3</th>\n",
       "      <td>Kevin Bacon</td>\n",
       "      <td>0.366046</td>\n",
       "    </tr>\n",
       "  </tbody>\n",
       "</table>\n",
       "</div>"
      ],
      "text/plain": [
       "       Variable  Explica_texto\n",
       "0       dia_sem      -0.091952\n",
       "4      sum_chat       0.105168\n",
       "1            EF       0.157953\n",
       "2   Iván Jardón       0.208093\n",
       "3   Kevin Bacon       0.366046"
      ]
     },
     "execution_count": 62,
     "metadata": {},
     "output_type": "execute_result"
    }
   ],
   "source": [
    "## Se despliega la relación que tiene cada una de las mejores variables que explican\n",
    "# la variable objetivo\n",
    "pd.DataFrame(list(zip(variables, bayreg.coef_)),\n",
    "            columns = ['Variable', 'Explica_texto']).sort_values(by = 'Explica_texto')"
   ]
  },
  {
   "cell_type": "code",
   "execution_count": 63,
   "metadata": {
    "ExecuteTime": {
     "end_time": "2020-10-26T00:42:02.686818Z",
     "start_time": "2020-10-26T00:42:02.677720Z"
    },
    "scrolled": true
   },
   "outputs": [
    {
     "data": {
      "text/plain": [
       "{'LinearRegression': 0.7320673195015495,\n",
       " 'Lars': 0.7320673195015504,\n",
       " 'Ridge': 0.7330491898904268,\n",
       " 'Lasso': 0.6028193491440142,\n",
       " 'BayesianRidge': 0.7330146482653148}"
      ]
     },
     "execution_count": 63,
     "metadata": {},
     "output_type": "execute_result"
    }
   ],
   "source": [
    "dc_scores.update({str(bayreg).split('(')[0]: np.mean(ls_res)})\n",
    "dc_scores"
   ]
  },
  {
   "cell_type": "markdown",
   "metadata": {},
   "source": [
    "### Elección de modelo"
   ]
  },
  {
   "cell_type": "code",
   "execution_count": 64,
   "metadata": {
    "ExecuteTime": {
     "end_time": "2020-10-26T00:42:02.751165Z",
     "start_time": "2020-10-26T00:42:02.691050Z"
    }
   },
   "outputs": [
    {
     "data": {
      "text/html": [
       "<div>\n",
       "<style scoped>\n",
       "    .dataframe tbody tr th:only-of-type {\n",
       "        vertical-align: middle;\n",
       "    }\n",
       "\n",
       "    .dataframe tbody tr th {\n",
       "        vertical-align: top;\n",
       "    }\n",
       "\n",
       "    .dataframe thead th {\n",
       "        text-align: right;\n",
       "    }\n",
       "</style>\n",
       "<table border=\"1\" class=\"dataframe\">\n",
       "  <thead>\n",
       "    <tr style=\"text-align: right;\">\n",
       "      <th></th>\n",
       "      <th>LinearRegression</th>\n",
       "      <th>Lars</th>\n",
       "      <th>Ridge</th>\n",
       "      <th>Lasso</th>\n",
       "      <th>BayesianRidge</th>\n",
       "    </tr>\n",
       "    <tr>\n",
       "      <th>features</th>\n",
       "      <th></th>\n",
       "      <th></th>\n",
       "      <th></th>\n",
       "      <th></th>\n",
       "      <th></th>\n",
       "    </tr>\n",
       "  </thead>\n",
       "  <tbody>\n",
       "    <tr>\n",
       "      <th>intercepto</th>\n",
       "      <td>0.585067</td>\n",
       "      <td>0.510884</td>\n",
       "      <td>0.567717</td>\n",
       "      <td>2.411723</td>\n",
       "      <td>0.569411</td>\n",
       "    </tr>\n",
       "    <tr>\n",
       "      <th>dia_sem</th>\n",
       "      <td>-0.096343</td>\n",
       "      <td>-0.096343</td>\n",
       "      <td>-0.091348</td>\n",
       "      <td>-0.000000</td>\n",
       "      <td>-0.091952</td>\n",
       "    </tr>\n",
       "    <tr>\n",
       "      <th>EF</th>\n",
       "      <td>0.155645</td>\n",
       "      <td>0.000000</td>\n",
       "      <td>0.158165</td>\n",
       "      <td>0.000000</td>\n",
       "      <td>0.157953</td>\n",
       "    </tr>\n",
       "    <tr>\n",
       "      <th>Iván Jardón</th>\n",
       "      <td>0.210477</td>\n",
       "      <td>0.054831</td>\n",
       "      <td>0.207838</td>\n",
       "      <td>0.000000</td>\n",
       "      <td>0.208093</td>\n",
       "    </tr>\n",
       "    <tr>\n",
       "      <th>sum_chat</th>\n",
       "      <td>0.366122</td>\n",
       "      <td>0.521767</td>\n",
       "      <td>0.366003</td>\n",
       "      <td>0.329167</td>\n",
       "      <td>0.366046</td>\n",
       "    </tr>\n",
       "    <tr>\n",
       "      <th>00-10</th>\n",
       "      <td>0.180547</td>\n",
       "      <td>0.254730</td>\n",
       "      <td>0.098509</td>\n",
       "      <td>0.000000</td>\n",
       "      <td>0.105168</td>\n",
       "    </tr>\n",
       "    <tr>\n",
       "      <th>11-13</th>\n",
       "      <td>0.317739</td>\n",
       "      <td>0.391922</td>\n",
       "      <td>0.168533</td>\n",
       "      <td>0.000000</td>\n",
       "      <td>0.180342</td>\n",
       "    </tr>\n",
       "    <tr>\n",
       "      <th>14-16</th>\n",
       "      <td>-0.120697</td>\n",
       "      <td>-0.046514</td>\n",
       "      <td>-0.064918</td>\n",
       "      <td>-0.000000</td>\n",
       "      <td>-0.069364</td>\n",
       "    </tr>\n",
       "    <tr>\n",
       "      <th>17-19</th>\n",
       "      <td>-0.303406</td>\n",
       "      <td>-0.229223</td>\n",
       "      <td>-0.165013</td>\n",
       "      <td>-0.000000</td>\n",
       "      <td>-0.176243</td>\n",
       "    </tr>\n",
       "    <tr>\n",
       "      <th>20-24</th>\n",
       "      <td>-0.074183</td>\n",
       "      <td>0.000000</td>\n",
       "      <td>-0.037111</td>\n",
       "      <td>-0.000000</td>\n",
       "      <td>-0.039903</td>\n",
       "    </tr>\n",
       "  </tbody>\n",
       "</table>\n",
       "</div>"
      ],
      "text/plain": [
       "              LinearRegression      Lars     Ridge     Lasso  BayesianRidge\n",
       "features                                                                   \n",
       "intercepto            0.585067  0.510884  0.567717  2.411723       0.569411\n",
       "dia_sem              -0.096343 -0.096343 -0.091348 -0.000000      -0.091952\n",
       " EF                   0.155645  0.000000  0.158165  0.000000       0.157953\n",
       " Iván Jardón          0.210477  0.054831  0.207838  0.000000       0.208093\n",
       "sum_chat              0.366122  0.521767  0.366003  0.329167       0.366046\n",
       "00-10                 0.180547  0.254730  0.098509  0.000000       0.105168\n",
       "11-13                 0.317739  0.391922  0.168533  0.000000       0.180342\n",
       "14-16                -0.120697 -0.046514 -0.064918 -0.000000      -0.069364\n",
       "17-19                -0.303406 -0.229223 -0.165013 -0.000000      -0.176243\n",
       "20-24                -0.074183  0.000000 -0.037111 -0.000000      -0.039903"
      ]
     },
     "metadata": {},
     "output_type": "display_data"
    }
   ],
   "source": [
    "## Se presenta qué tanto afectan las variables a la variable objetivo\n",
    "# con los diferentes modelos construidos\n",
    "resul = pd.DataFrame(columns=[])\n",
    "alfas = pd.DataFrame(columns=[])\n",
    "for model in [linreg, larsreg, ridgereg, lasso, bayreg]:\n",
    "    resul[str(model).split('(')[0]] = model.coef_\n",
    "    alfas[str(model).split('(')[0]] = [model.intercept_]\n",
    "\n",
    "resul['features'] = list(X.columns)\n",
    "resul = resul.set_index('features')\n",
    "alfas['features'] = ['intercepto']\n",
    "alfas = alfas.set_index('features')\n",
    "resul = alfas.append(resul)\n",
    "display(resul)"
   ]
  },
  {
   "cell_type": "code",
   "execution_count": 65,
   "metadata": {
    "ExecuteTime": {
     "end_time": "2020-10-26T00:42:02.782165Z",
     "start_time": "2020-10-26T00:42:02.753987Z"
    }
   },
   "outputs": [
    {
     "data": {
      "text/html": [
       "<div>\n",
       "<style scoped>\n",
       "    .dataframe tbody tr th:only-of-type {\n",
       "        vertical-align: middle;\n",
       "    }\n",
       "\n",
       "    .dataframe tbody tr th {\n",
       "        vertical-align: top;\n",
       "    }\n",
       "\n",
       "    .dataframe thead th {\n",
       "        text-align: right;\n",
       "    }\n",
       "</style>\n",
       "<table border=\"1\" class=\"dataframe\">\n",
       "  <thead>\n",
       "    <tr style=\"text-align: right;\">\n",
       "      <th></th>\n",
       "      <th>index</th>\n",
       "      <th>R2</th>\n",
       "    </tr>\n",
       "  </thead>\n",
       "  <tbody>\n",
       "    <tr>\n",
       "      <th>2</th>\n",
       "      <td>Ridge</td>\n",
       "      <td>0.733049</td>\n",
       "    </tr>\n",
       "    <tr>\n",
       "      <th>4</th>\n",
       "      <td>BayesianRidge</td>\n",
       "      <td>0.733015</td>\n",
       "    </tr>\n",
       "    <tr>\n",
       "      <th>1</th>\n",
       "      <td>Lars</td>\n",
       "      <td>0.732067</td>\n",
       "    </tr>\n",
       "    <tr>\n",
       "      <th>0</th>\n",
       "      <td>LinearRegression</td>\n",
       "      <td>0.732067</td>\n",
       "    </tr>\n",
       "    <tr>\n",
       "      <th>3</th>\n",
       "      <td>Lasso</td>\n",
       "      <td>0.602819</td>\n",
       "    </tr>\n",
       "  </tbody>\n",
       "</table>\n",
       "</div>"
      ],
      "text/plain": [
       "              index        R2\n",
       "2             Ridge  0.733049\n",
       "4     BayesianRidge  0.733015\n",
       "1              Lars  0.732067\n",
       "0  LinearRegression  0.732067\n",
       "3             Lasso  0.602819"
      ]
     },
     "metadata": {},
     "output_type": "display_data"
    }
   ],
   "source": [
    "## El más acertado es la regresión ridge\n",
    "display(pd.DataFrame.from_dict(dc_scores,\n",
    "                       orient = 'index',\n",
    "                       columns = ['R2']).reset_index().sort_values(by = 'R2',\n",
    "                                                                  ascending = False))"
   ]
  },
  {
   "cell_type": "code",
   "execution_count": 74,
   "metadata": {
    "ExecuteTime": {
     "end_time": "2020-10-26T00:42:29.422082Z",
     "start_time": "2020-10-26T00:42:29.307578Z"
    }
   },
   "outputs": [
    {
     "data": {
      "text/plain": [
       "('77.87%', '3.42%')"
      ]
     },
     "execution_count": 74,
     "metadata": {},
     "output_type": "execute_result"
    }
   ],
   "source": [
    "## Aplicando el mejor modelo al conjunto de prueba a través de validación cruzada\n",
    "X_train, X_test, y_train, y_test = train_test_split(X, y, test_size = 0.3)\n",
    "model = Ridge()\n",
    "model.fit(X_train, y_train)\n",
    "ls_medias = cross_val_score(estimator = model,\n",
    "                            X = X_test,\n",
    "                            y = y_test, \n",
    "                            cv = 4, \n",
    "                            n_jobs = -1, \n",
    "                            scoring = 'r2')\n",
    "'{:,.2%}'.format(np.mean(ls_medias)), '{:,.2%}'.format(np.std(ls_medias))\n",
    "## Se obtiene una acertividad subjetivamente confiable"
   ]
  }
 ],
 "metadata": {
  "kernelspec": {
   "display_name": "Python 3",
   "language": "python",
   "name": "python3"
  },
  "language_info": {
   "codemirror_mode": {
    "name": "ipython",
    "version": 3
   },
   "file_extension": ".py",
   "mimetype": "text/x-python",
   "name": "python",
   "nbconvert_exporter": "python",
   "pygments_lexer": "ipython3",
   "version": "3.8.5"
  },
  "toc": {
   "base_numbering": 1,
   "nav_menu": {},
   "number_sections": true,
   "sideBar": true,
   "skip_h1_title": true,
   "title_cell": "Table of Contents",
   "title_sidebar": "Contents",
   "toc_cell": false,
   "toc_position": {
    "height": "calc(100% - 180px)",
    "left": "10px",
    "top": "150px",
    "width": "410.66px"
   },
   "toc_section_display": true,
   "toc_window_display": true
  },
  "varInspector": {
   "cols": {
    "lenName": 16,
    "lenType": 16,
    "lenVar": 40
   },
   "kernels_config": {
    "python": {
     "delete_cmd_postfix": "",
     "delete_cmd_prefix": "del ",
     "library": "var_list.py",
     "varRefreshCmd": "print(var_dic_list())"
    },
    "r": {
     "delete_cmd_postfix": ") ",
     "delete_cmd_prefix": "rm(",
     "library": "var_list.r",
     "varRefreshCmd": "cat(var_dic_list()) "
    }
   },
   "types_to_exclude": [
    "module",
    "function",
    "builtin_function_or_method",
    "instance",
    "_Feature"
   ],
   "window_display": false
  }
 },
 "nbformat": 4,
 "nbformat_minor": 4
}
