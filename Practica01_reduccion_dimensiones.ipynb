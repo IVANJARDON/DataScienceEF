{
 "cells": [
  {
   "cell_type": "markdown",
   "metadata": {},
   "source": [
    "# Práctica reducción de dimensiones"
   ]
  },
  {
   "cell_type": "markdown",
   "metadata": {},
   "source": [
    "## Importar"
   ]
  },
  {
   "cell_type": "code",
   "execution_count": 1,
   "metadata": {
    "ExecuteTime": {
     "end_time": "2020-09-23T20:30:00.503147Z",
     "start_time": "2020-09-23T20:29:59.535342Z"
    }
   },
   "outputs": [],
   "source": [
    "# %load basic\n",
    "import pandas as pd\n",
    "import numpy as np\n",
    "import matplotlib.pyplot as plt"
   ]
  },
  {
   "cell_type": "code",
   "execution_count": 2,
   "metadata": {
    "ExecuteTime": {
     "end_time": "2020-09-23T20:30:00.548391Z",
     "start_time": "2020-09-23T20:30:00.505627Z"
    }
   },
   "outputs": [
    {
     "name": "stdout",
     "output_type": "stream",
     "text": [
      "{'encoding': 'ascii', 'confidence': 1.0, 'language': ''}\n"
     ]
    }
   ],
   "source": [
    "import chardet\n",
    "\n",
    "with open('/home/ef/Documents/Diplomado/data/bank-full - bank-full.csv', 'rb') as rawdata:\n",
    "    result = chardet.detect(rawdata.read(10000))\n",
    "   \n",
    "print(result)"
   ]
  },
  {
   "cell_type": "code",
   "execution_count": 3,
   "metadata": {
    "ExecuteTime": {
     "end_time": "2020-09-23T20:30:01.193234Z",
     "start_time": "2020-09-23T20:30:00.554258Z"
    }
   },
   "outputs": [
    {
     "data": {
      "text/html": [
       "<div>\n",
       "<style scoped>\n",
       "    .dataframe tbody tr th:only-of-type {\n",
       "        vertical-align: middle;\n",
       "    }\n",
       "\n",
       "    .dataframe tbody tr th {\n",
       "        vertical-align: top;\n",
       "    }\n",
       "\n",
       "    .dataframe thead th {\n",
       "        text-align: right;\n",
       "    }\n",
       "</style>\n",
       "<table border=\"1\" class=\"dataframe\">\n",
       "  <thead>\n",
       "    <tr style=\"text-align: right;\">\n",
       "      <th></th>\n",
       "      <th>age</th>\n",
       "      <th>job</th>\n",
       "      <th>marital</th>\n",
       "      <th>education</th>\n",
       "      <th>default</th>\n",
       "      <th>balance</th>\n",
       "      <th>housing</th>\n",
       "      <th>loan</th>\n",
       "      <th>contact</th>\n",
       "      <th>day</th>\n",
       "      <th>month</th>\n",
       "      <th>duration</th>\n",
       "      <th>campaign</th>\n",
       "      <th>pdays</th>\n",
       "      <th>previous</th>\n",
       "      <th>poutcome</th>\n",
       "      <th>y</th>\n",
       "    </tr>\n",
       "  </thead>\n",
       "  <tbody>\n",
       "    <tr>\n",
       "      <th>34413</th>\n",
       "      <td>33</td>\n",
       "      <td>management</td>\n",
       "      <td>single</td>\n",
       "      <td>tertiary</td>\n",
       "      <td>no</td>\n",
       "      <td>1373</td>\n",
       "      <td>yes</td>\n",
       "      <td>no</td>\n",
       "      <td>cellular</td>\n",
       "      <td>5</td>\n",
       "      <td>may</td>\n",
       "      <td>17</td>\n",
       "      <td>5</td>\n",
       "      <td>349</td>\n",
       "      <td>2</td>\n",
       "      <td>failure</td>\n",
       "      <td>no</td>\n",
       "    </tr>\n",
       "    <tr>\n",
       "      <th>28621</th>\n",
       "      <td>39</td>\n",
       "      <td>technician</td>\n",
       "      <td>divorced</td>\n",
       "      <td>secondary</td>\n",
       "      <td>no</td>\n",
       "      <td>1333</td>\n",
       "      <td>yes</td>\n",
       "      <td>yes</td>\n",
       "      <td>cellular</td>\n",
       "      <td>29</td>\n",
       "      <td>jan</td>\n",
       "      <td>585</td>\n",
       "      <td>2</td>\n",
       "      <td>246</td>\n",
       "      <td>1</td>\n",
       "      <td>failure</td>\n",
       "      <td>no</td>\n",
       "    </tr>\n",
       "    <tr>\n",
       "      <th>1229</th>\n",
       "      <td>36</td>\n",
       "      <td>technician</td>\n",
       "      <td>married</td>\n",
       "      <td>secondary</td>\n",
       "      <td>no</td>\n",
       "      <td>5611</td>\n",
       "      <td>yes</td>\n",
       "      <td>no</td>\n",
       "      <td>unknown</td>\n",
       "      <td>8</td>\n",
       "      <td>may</td>\n",
       "      <td>39</td>\n",
       "      <td>1</td>\n",
       "      <td>-1</td>\n",
       "      <td>0</td>\n",
       "      <td>unknown</td>\n",
       "      <td>no</td>\n",
       "    </tr>\n",
       "    <tr>\n",
       "      <th>35759</th>\n",
       "      <td>48</td>\n",
       "      <td>admin.</td>\n",
       "      <td>married</td>\n",
       "      <td>secondary</td>\n",
       "      <td>no</td>\n",
       "      <td>1131</td>\n",
       "      <td>no</td>\n",
       "      <td>yes</td>\n",
       "      <td>cellular</td>\n",
       "      <td>8</td>\n",
       "      <td>may</td>\n",
       "      <td>49</td>\n",
       "      <td>1</td>\n",
       "      <td>-1</td>\n",
       "      <td>0</td>\n",
       "      <td>unknown</td>\n",
       "      <td>no</td>\n",
       "    </tr>\n",
       "    <tr>\n",
       "      <th>12632</th>\n",
       "      <td>41</td>\n",
       "      <td>services</td>\n",
       "      <td>married</td>\n",
       "      <td>secondary</td>\n",
       "      <td>no</td>\n",
       "      <td>6618</td>\n",
       "      <td>yes</td>\n",
       "      <td>no</td>\n",
       "      <td>unknown</td>\n",
       "      <td>4</td>\n",
       "      <td>jul</td>\n",
       "      <td>104</td>\n",
       "      <td>1</td>\n",
       "      <td>-1</td>\n",
       "      <td>0</td>\n",
       "      <td>unknown</td>\n",
       "      <td>no</td>\n",
       "    </tr>\n",
       "    <tr>\n",
       "      <th>5298</th>\n",
       "      <td>31</td>\n",
       "      <td>management</td>\n",
       "      <td>married</td>\n",
       "      <td>tertiary</td>\n",
       "      <td>no</td>\n",
       "      <td>5889</td>\n",
       "      <td>yes</td>\n",
       "      <td>no</td>\n",
       "      <td>unknown</td>\n",
       "      <td>23</td>\n",
       "      <td>may</td>\n",
       "      <td>237</td>\n",
       "      <td>1</td>\n",
       "      <td>-1</td>\n",
       "      <td>0</td>\n",
       "      <td>unknown</td>\n",
       "      <td>no</td>\n",
       "    </tr>\n",
       "    <tr>\n",
       "      <th>33329</th>\n",
       "      <td>59</td>\n",
       "      <td>management</td>\n",
       "      <td>married</td>\n",
       "      <td>tertiary</td>\n",
       "      <td>no</td>\n",
       "      <td>287</td>\n",
       "      <td>yes</td>\n",
       "      <td>no</td>\n",
       "      <td>cellular</td>\n",
       "      <td>20</td>\n",
       "      <td>apr</td>\n",
       "      <td>818</td>\n",
       "      <td>2</td>\n",
       "      <td>242</td>\n",
       "      <td>8</td>\n",
       "      <td>failure</td>\n",
       "      <td>no</td>\n",
       "    </tr>\n",
       "    <tr>\n",
       "      <th>31094</th>\n",
       "      <td>63</td>\n",
       "      <td>retired</td>\n",
       "      <td>married</td>\n",
       "      <td>secondary</td>\n",
       "      <td>no</td>\n",
       "      <td>1612</td>\n",
       "      <td>no</td>\n",
       "      <td>no</td>\n",
       "      <td>telephone</td>\n",
       "      <td>17</td>\n",
       "      <td>feb</td>\n",
       "      <td>233</td>\n",
       "      <td>2</td>\n",
       "      <td>-1</td>\n",
       "      <td>0</td>\n",
       "      <td>unknown</td>\n",
       "      <td>yes</td>\n",
       "    </tr>\n",
       "    <tr>\n",
       "      <th>19368</th>\n",
       "      <td>50</td>\n",
       "      <td>self-employed</td>\n",
       "      <td>married</td>\n",
       "      <td>secondary</td>\n",
       "      <td>no</td>\n",
       "      <td>3025</td>\n",
       "      <td>no</td>\n",
       "      <td>yes</td>\n",
       "      <td>cellular</td>\n",
       "      <td>6</td>\n",
       "      <td>aug</td>\n",
       "      <td>168</td>\n",
       "      <td>3</td>\n",
       "      <td>-1</td>\n",
       "      <td>0</td>\n",
       "      <td>unknown</td>\n",
       "      <td>no</td>\n",
       "    </tr>\n",
       "    <tr>\n",
       "      <th>32557</th>\n",
       "      <td>52</td>\n",
       "      <td>retired</td>\n",
       "      <td>divorced</td>\n",
       "      <td>primary</td>\n",
       "      <td>no</td>\n",
       "      <td>-779</td>\n",
       "      <td>yes</td>\n",
       "      <td>yes</td>\n",
       "      <td>cellular</td>\n",
       "      <td>17</td>\n",
       "      <td>apr</td>\n",
       "      <td>709</td>\n",
       "      <td>1</td>\n",
       "      <td>-1</td>\n",
       "      <td>0</td>\n",
       "      <td>unknown</td>\n",
       "      <td>yes</td>\n",
       "    </tr>\n",
       "  </tbody>\n",
       "</table>\n",
       "</div>"
      ],
      "text/plain": [
       "       age            job   marital  education default  balance housing loan  \\\n",
       "34413   33     management    single   tertiary      no     1373     yes   no   \n",
       "28621   39     technician  divorced  secondary      no     1333     yes  yes   \n",
       "1229    36     technician   married  secondary      no     5611     yes   no   \n",
       "35759   48         admin.   married  secondary      no     1131      no  yes   \n",
       "12632   41       services   married  secondary      no     6618     yes   no   \n",
       "5298    31     management   married   tertiary      no     5889     yes   no   \n",
       "33329   59     management   married   tertiary      no      287     yes   no   \n",
       "31094   63        retired   married  secondary      no     1612      no   no   \n",
       "19368   50  self-employed   married  secondary      no     3025      no  yes   \n",
       "32557   52        retired  divorced    primary      no     -779     yes  yes   \n",
       "\n",
       "         contact  day month  duration  campaign  pdays  previous poutcome    y  \n",
       "34413   cellular    5   may        17         5    349         2  failure   no  \n",
       "28621   cellular   29   jan       585         2    246         1  failure   no  \n",
       "1229     unknown    8   may        39         1     -1         0  unknown   no  \n",
       "35759   cellular    8   may        49         1     -1         0  unknown   no  \n",
       "12632    unknown    4   jul       104         1     -1         0  unknown   no  \n",
       "5298     unknown   23   may       237         1     -1         0  unknown   no  \n",
       "33329   cellular   20   apr       818         2    242         8  failure   no  \n",
       "31094  telephone   17   feb       233         2     -1         0  unknown  yes  \n",
       "19368   cellular    6   aug       168         3     -1         0  unknown   no  \n",
       "32557   cellular   17   apr       709         1     -1         0  unknown  yes  "
      ]
     },
     "execution_count": 3,
     "metadata": {},
     "output_type": "execute_result"
    }
   ],
   "source": [
    "df = pd.read_csv('/home/ef/Documents/Diplomado/data/bank-full(1).csv',\n",
    "                 sep = ';',\n",
    "                engine = 'python')\n",
    "\n",
    "df.sample(10)"
   ]
  },
  {
   "cell_type": "code",
   "execution_count": 4,
   "metadata": {
    "ExecuteTime": {
     "end_time": "2020-09-23T20:30:01.228646Z",
     "start_time": "2020-09-23T20:30:01.195163Z"
    }
   },
   "outputs": [
    {
     "data": {
      "text/plain": [
       "age          0.0\n",
       "job          0.0\n",
       "marital      0.0\n",
       "education    0.0\n",
       "default      0.0\n",
       "balance      0.0\n",
       "housing      0.0\n",
       "loan         0.0\n",
       "contact      0.0\n",
       "day          0.0\n",
       "month        0.0\n",
       "duration     0.0\n",
       "campaign     0.0\n",
       "pdays        0.0\n",
       "previous     0.0\n",
       "poutcome     0.0\n",
       "y            0.0\n",
       "dtype: float64"
      ]
     },
     "execution_count": 4,
     "metadata": {},
     "output_type": "execute_result"
    }
   ],
   "source": [
    "## No hay vacíos! (al parecer)\n",
    "df.isnull().sum() / df.shape[0]"
   ]
  },
  {
   "cell_type": "code",
   "execution_count": 5,
   "metadata": {
    "ExecuteTime": {
     "end_time": "2020-09-23T20:30:01.237416Z",
     "start_time": "2020-09-23T20:30:01.231251Z"
    }
   },
   "outputs": [
    {
     "data": {
      "text/plain": [
       "(45211, 17)"
      ]
     },
     "execution_count": 5,
     "metadata": {},
     "output_type": "execute_result"
    }
   ],
   "source": [
    "dim_antes = df.shape[0]\n",
    "df.shape"
   ]
  },
  {
   "cell_type": "code",
   "execution_count": 6,
   "metadata": {
    "ExecuteTime": {
     "end_time": "2020-09-23T20:30:01.246682Z",
     "start_time": "2020-09-23T20:30:01.240708Z"
    }
   },
   "outputs": [
    {
     "data": {
      "text/plain": [
       "Index(['age', 'job', 'marital', 'education', 'default', 'balance', 'housing',\n",
       "       'loan', 'contact', 'day', 'month', 'duration', 'campaign', 'pdays',\n",
       "       'previous', 'poutcome', 'y'],\n",
       "      dtype='object')"
      ]
     },
     "execution_count": 6,
     "metadata": {},
     "output_type": "execute_result"
    }
   ],
   "source": [
    "df.columns"
   ]
  },
  {
   "cell_type": "code",
   "execution_count": 7,
   "metadata": {
    "ExecuteTime": {
     "end_time": "2020-09-23T20:30:01.254095Z",
     "start_time": "2020-09-23T20:30:01.249441Z"
    }
   },
   "outputs": [],
   "source": [
    "cat = ['job','marital','education','default','housing', 'loan', 'contact', 'month', 'poutcome']\n",
    "cont = ['age', 'balance', 'day', 'duration', 'campaign', 'pdays', 'previous']"
   ]
  },
  {
   "cell_type": "markdown",
   "metadata": {},
   "source": [
    "## Limpieza"
   ]
  },
  {
   "cell_type": "markdown",
   "metadata": {},
   "source": [
    "### Numéricas"
   ]
  },
  {
   "cell_type": "code",
   "execution_count": 8,
   "metadata": {
    "ExecuteTime": {
     "end_time": "2020-09-23T20:30:01.263699Z",
     "start_time": "2020-09-23T20:30:01.257445Z"
    }
   },
   "outputs": [],
   "source": [
    "## Función para omitir outliers mediante IQR\n",
    "def outlier(data, x, how):\n",
    "\n",
    "    var = data[x]\n",
    "    q1 = var.quantile(.25)\n",
    "    q3 = var.quantile(.75)\n",
    "    iqr = q3 - q1\n",
    "    \n",
    "    if how == 'max':\n",
    "        data = data[var <= q3 + 1.5*iqr].copy()\n",
    "        var = data[x]\n",
    "        print(var.hist())\n",
    "    elif how == 'min':\n",
    "        data = data[var >= q1 - 1.5*iqr].copy()\n",
    "        var = data[x]\n",
    "        print(var.hist())\n",
    "    elif how == 'both':\n",
    "        data = data[(var >= q1 - 1.5*iqr) & (var <= q3 + 1.5*iqr)].copy()\n",
    "        var = data[x]\n",
    "        print(var.hist())\n",
    "    else:\n",
    "        print('¿Cómo quieres acotar outliers? how = min/max/both')\n",
    "    \n",
    "    data.reset_index(drop = True, inplace = True)\n",
    "    global df\n",
    "    df = data.copy()"
   ]
  },
  {
   "cell_type": "code",
   "execution_count": 9,
   "metadata": {
    "ExecuteTime": {
     "end_time": "2020-09-23T20:30:02.280584Z",
     "start_time": "2020-09-23T20:30:01.267160Z"
    }
   },
   "outputs": [
    {
     "data": {
      "text/plain": [
       "array([[<AxesSubplot:title={'center':'age'}>,\n",
       "        <AxesSubplot:title={'center':'balance'}>,\n",
       "        <AxesSubplot:title={'center':'day'}>],\n",
       "       [<AxesSubplot:title={'center':'duration'}>,\n",
       "        <AxesSubplot:title={'center':'campaign'}>,\n",
       "        <AxesSubplot:title={'center':'pdays'}>],\n",
       "       [<AxesSubplot:title={'center':'previous'}>, <AxesSubplot:>,\n",
       "        <AxesSubplot:>]], dtype=object)"
      ]
     },
     "execution_count": 9,
     "metadata": {},
     "output_type": "execute_result"
    },
    {
     "data": {
      "image/png": "[encoded data removed]",
      "text/plain": [
       "<Figure size 432x288 with 9 Axes>"
      ]
     },
     "metadata": {
      "needs_background": "light"
     },
     "output_type": "display_data"
    }
   ],
   "source": [
    "df[cont].hist()"
   ]
  },
  {
   "cell_type": "code",
   "execution_count": 10,
   "metadata": {
    "ExecuteTime": {
     "end_time": "2020-09-23T20:30:02.473683Z",
     "start_time": "2020-09-23T20:30:02.285022Z"
    }
   },
   "outputs": [
    {
     "name": "stdout",
     "output_type": "stream",
     "text": [
      "AxesSubplot(0.125,0.125;0.775x0.755)\n"
     ]
    },
    {
     "data": {
      "image/png": "[encoded data removed]",
      "text/plain": [
       "<Figure size 432x288 with 1 Axes>"
      ]
     },
     "metadata": {
      "needs_background": "light"
     },
     "output_type": "display_data"
    }
   ],
   "source": [
    "outlier(df, 'age', 'max')"
   ]
  },
  {
   "cell_type": "code",
   "execution_count": 11,
   "metadata": {
    "ExecuteTime": {
     "end_time": "2020-09-23T20:30:02.677072Z",
     "start_time": "2020-09-23T20:30:02.476626Z"
    }
   },
   "outputs": [
    {
     "name": "stdout",
     "output_type": "stream",
     "text": [
      "AxesSubplot(0.125,0.125;0.775x0.755)\n"
     ]
    },
    {
     "data": {
      "image/png": "[encoded data removed]",
      "text/plain": [
       "<Figure size 432x288 with 1 Axes>"
      ]
     },
     "metadata": {
      "needs_background": "light"
     },
     "output_type": "display_data"
    }
   ],
   "source": [
    "outlier(df, 'balance', 'max')"
   ]
  },
  {
   "cell_type": "code",
   "execution_count": 12,
   "metadata": {
    "ExecuteTime": {
     "end_time": "2020-09-23T20:30:02.857201Z",
     "start_time": "2020-09-23T20:30:02.682181Z"
    }
   },
   "outputs": [
    {
     "name": "stdout",
     "output_type": "stream",
     "text": [
      "AxesSubplot(0.125,0.125;0.775x0.755)\n"
     ]
    },
    {
     "data": {
      "image/png": "[encoded data removed]",
      "text/plain": [
       "<Figure size 432x288 with 1 Axes>"
      ]
     },
     "metadata": {
      "needs_background": "light"
     },
     "output_type": "display_data"
    }
   ],
   "source": [
    "## Al parecer, la variable de balance tiene también outliers negativos\n",
    "outlier(df, 'balance', 'min')"
   ]
  },
  {
   "cell_type": "code",
   "execution_count": 13,
   "metadata": {
    "ExecuteTime": {
     "end_time": "2020-09-23T20:30:03.039620Z",
     "start_time": "2020-09-23T20:30:02.863167Z"
    }
   },
   "outputs": [
    {
     "name": "stdout",
     "output_type": "stream",
     "text": [
      "AxesSubplot(0.125,0.125;0.775x0.755)\n"
     ]
    },
    {
     "data": {
      "image/png": "[encoded data removed]",
      "text/plain": [
       "<Figure size 432x288 with 1 Axes>"
      ]
     },
     "metadata": {
      "needs_background": "light"
     },
     "output_type": "display_data"
    }
   ],
   "source": [
    "outlier(df, 'duration', 'max')"
   ]
  },
  {
   "cell_type": "code",
   "execution_count": 14,
   "metadata": {
    "ExecuteTime": {
     "end_time": "2020-09-23T20:30:03.249123Z",
     "start_time": "2020-09-23T20:30:03.045285Z"
    }
   },
   "outputs": [
    {
     "name": "stdout",
     "output_type": "stream",
     "text": [
      "AxesSubplot(0.125,0.125;0.775x0.755)\n"
     ]
    },
    {
     "data": {
      "image/png": "[encoded data removed]",
      "text/plain": [
       "<Figure size 432x288 with 1 Axes>"
      ]
     },
     "metadata": {
      "needs_background": "light"
     },
     "output_type": "display_data"
    }
   ],
   "source": [
    "outlier(df, 'campaign', 'max')"
   ]
  },
  {
   "cell_type": "code",
   "execution_count": 15,
   "metadata": {
    "ExecuteTime": {
     "end_time": "2020-09-23T20:30:03.441683Z",
     "start_time": "2020-09-23T20:30:03.251202Z"
    }
   },
   "outputs": [
    {
     "name": "stdout",
     "output_type": "stream",
     "text": [
      "AxesSubplot(0.125,0.125;0.775x0.755)\n"
     ]
    },
    {
     "data": {
      "image/png": "[encoded data removed]",
      "text/plain": [
       "<Figure size 432x288 with 1 Axes>"
      ]
     },
     "metadata": {
      "needs_background": "light"
     },
     "output_type": "display_data"
    }
   ],
   "source": [
    "outlier(df, 'pdays', 'max')"
   ]
  },
  {
   "cell_type": "code",
   "execution_count": 16,
   "metadata": {
    "ExecuteTime": {
     "end_time": "2020-09-23T20:30:03.636683Z",
     "start_time": "2020-09-23T20:30:03.443269Z"
    }
   },
   "outputs": [
    {
     "name": "stdout",
     "output_type": "stream",
     "text": [
      "AxesSubplot(0.125,0.125;0.775x0.755)\n"
     ]
    },
    {
     "data": {
      "image/png": "[encoded data removed]",
      "text/plain": [
       "<Figure size 432x288 with 1 Axes>"
      ]
     },
     "metadata": {
      "needs_background": "light"
     },
     "output_type": "display_data"
    }
   ],
   "source": [
    "outlier(df, 'previous', 'max')"
   ]
  },
  {
   "cell_type": "code",
   "execution_count": 17,
   "metadata": {
    "ExecuteTime": {
     "end_time": "2020-09-23T20:30:03.660335Z",
     "start_time": "2020-09-23T20:30:03.638985Z"
    }
   },
   "outputs": [
    {
     "data": {
      "text/plain": [
       "pdays  previous\n",
       "-1     0           28055\n",
       "dtype: int64"
      ]
     },
     "execution_count": 17,
     "metadata": {},
     "output_type": "execute_result"
    }
   ],
   "source": [
    "## No parece que estas columnas aporten al conjunto de datos\n",
    "df[['pdays', 'previous']].value_counts()"
   ]
  },
  {
   "cell_type": "code",
   "execution_count": 18,
   "metadata": {
    "ExecuteTime": {
     "end_time": "2020-09-23T20:30:03.671039Z",
     "start_time": "2020-09-23T20:30:03.662931Z"
    }
   },
   "outputs": [
    {
     "data": {
      "text/plain": [
       "['age', 'balance', 'day', 'duration', 'campaign']"
      ]
     },
     "execution_count": 18,
     "metadata": {},
     "output_type": "execute_result"
    }
   ],
   "source": [
    "## Se omiten dentro del conjunto de variables continuas\n",
    "cont = [x for x in cont if x not in ['pdays', 'previous']]\n",
    "cont"
   ]
  },
  {
   "cell_type": "markdown",
   "metadata": {},
   "source": [
    "### Categóricas"
   ]
  },
  {
   "cell_type": "code",
   "execution_count": 19,
   "metadata": {
    "ExecuteTime": {
     "end_time": "2020-09-23T20:30:03.690362Z",
     "start_time": "2020-09-23T20:30:03.673517Z"
    }
   },
   "outputs": [
    {
     "data": {
      "text/plain": [
       "blue-collar      0.225735\n",
       "management       0.198574\n",
       "technician       0.170237\n",
       "admin.           0.115915\n",
       "services         0.097523\n",
       "retired          0.040492\n",
       "entrepreneur     0.034290\n",
       "self-employed    0.033826\n",
       "unemployed       0.029157\n",
       "housemaid        0.029121\n",
       "student          0.018927\n",
       "unknown          0.006202\n",
       "Name: job, dtype: float64"
      ]
     },
     "execution_count": 19,
     "metadata": {},
     "output_type": "execute_result"
    }
   ],
   "source": [
    "## La variable de trabajo tiene bajo % desconocido, cuenta como valor ausente\n",
    "df['job'].value_counts(1)"
   ]
  },
  {
   "cell_type": "code",
   "execution_count": 20,
   "metadata": {
    "ExecuteTime": {
     "end_time": "2020-09-23T20:30:03.719941Z",
     "start_time": "2020-09-23T20:30:03.692781Z"
    }
   },
   "outputs": [
    {
     "data": {
      "text/plain": [
       "blue-collar      0.227144\n",
       "management       0.199813\n",
       "technician       0.171299\n",
       "admin.           0.116639\n",
       "services         0.098131\n",
       "retired          0.040745\n",
       "entrepreneur     0.034504\n",
       "self-employed    0.034038\n",
       "unemployed       0.029339\n",
       "housemaid        0.029303\n",
       "student          0.019045\n",
       "Name: job, dtype: float64"
      ]
     },
     "execution_count": 20,
     "metadata": {},
     "output_type": "execute_result"
    }
   ],
   "source": [
    "## Se omite, no hay riesgo de mucha pérdida de info\n",
    "df['job'] = df['job'].replace('unknown', np.nan )\n",
    "df = df[~(df['job'].isnull())].copy()\n",
    "df.reset_index(drop = True, inplace = True)\n",
    "df['job'].value_counts(1, dropna = False)"
   ]
  },
  {
   "cell_type": "code",
   "execution_count": 21,
   "metadata": {
    "ExecuteTime": {
     "end_time": "2020-09-23T20:30:03.740912Z",
     "start_time": "2020-09-23T20:30:03.721933Z"
    }
   },
   "outputs": [
    {
     "data": {
      "text/plain": [
       "secondary    0.530110\n",
       "tertiary     0.277321\n",
       "primary      0.155769\n",
       "unknown      0.036799\n",
       "Name: education, dtype: float64"
      ]
     },
     "execution_count": 21,
     "metadata": {},
     "output_type": "execute_result"
    }
   ],
   "source": [
    "## Mismo caso para la variable de educación\n",
    "df['education'].value_counts(1, dropna = False)"
   ]
  },
  {
   "cell_type": "code",
   "execution_count": 22,
   "metadata": {
    "ExecuteTime": {
     "end_time": "2020-09-23T20:30:03.852786Z",
     "start_time": "2020-09-23T20:30:03.742863Z"
    }
   },
   "outputs": [
    {
     "data": {
      "text/plain": [
       "secondary    0.550363\n",
       "tertiary     0.287917\n",
       "primary      0.161720\n",
       "Name: education, dtype: float64"
      ]
     },
     "execution_count": 22,
     "metadata": {},
     "output_type": "execute_result"
    }
   ],
   "source": [
    "df['education'] = df['education'].replace('unknown', np.nan )\n",
    "df = df[~(df['education'].isnull())].copy()\n",
    "df.reset_index(drop = True, inplace = True)\n",
    "df['education'].value_counts(1, dropna = False)"
   ]
  },
  {
   "cell_type": "code",
   "execution_count": 23,
   "metadata": {
    "ExecuteTime": {
     "end_time": "2020-09-23T20:30:03.874102Z",
     "start_time": "2020-09-23T20:30:03.861606Z"
    }
   },
   "outputs": [
    {
     "data": {
      "text/plain": [
       "cellular     0.589387\n",
       "unknown      0.358592\n",
       "telephone    0.052020\n",
       "Name: contact, dtype: float64"
      ]
     },
     "execution_count": 23,
     "metadata": {},
     "output_type": "execute_result"
    }
   ],
   "source": [
    "## Por otro lado, no es recomendable remover el valor \"unknown\",\n",
    "## la falta de información también es información\n",
    "df['contact'].value_counts(1, dropna = False)"
   ]
  },
  {
   "cell_type": "code",
   "execution_count": 24,
   "metadata": {
    "ExecuteTime": {
     "end_time": "2020-09-23T20:30:03.887211Z",
     "start_time": "2020-09-23T20:30:03.876768Z"
    }
   },
   "outputs": [
    {
     "data": {
      "text/plain": [
       "unknown    1.0\n",
       "Name: poutcome, dtype: float64"
      ]
     },
     "execution_count": 24,
     "metadata": {},
     "output_type": "execute_result"
    }
   ],
   "source": [
    "## Otra variable que no aporta a nuestro conjunto de datos\n",
    "df['poutcome'].value_counts(1, dropna = False)"
   ]
  },
  {
   "cell_type": "code",
   "execution_count": 25,
   "metadata": {
    "ExecuteTime": {
     "end_time": "2020-09-23T20:30:03.894620Z",
     "start_time": "2020-09-23T20:30:03.890216Z"
    }
   },
   "outputs": [
    {
     "data": {
      "text/plain": [
       "['job',\n",
       " 'marital',\n",
       " 'education',\n",
       " 'default',\n",
       " 'housing',\n",
       " 'loan',\n",
       " 'contact',\n",
       " 'month']"
      ]
     },
     "execution_count": 25,
     "metadata": {},
     "output_type": "execute_result"
    }
   ],
   "source": [
    "## Se omite de nuestro conjunto de variables categóricas\n",
    "cat = [x for x in cat if x not in 'poutcome']\n",
    "cat"
   ]
  },
  {
   "cell_type": "code",
   "execution_count": 26,
   "metadata": {
    "ExecuteTime": {
     "end_time": "2020-09-23T20:30:03.901742Z",
     "start_time": "2020-09-23T20:30:03.897139Z"
    }
   },
   "outputs": [
    {
     "data": {
      "text/plain": [
       "0.593992612417332"
      ]
     },
     "execution_count": 26,
     "metadata": {},
     "output_type": "execute_result"
    }
   ],
   "source": [
    "## Después de la limpieza, contamos con casi el 60% de los datos :/\n",
    "df.shape[0] / dim_antes"
   ]
  },
  {
   "cell_type": "markdown",
   "metadata": {},
   "source": [
    "## Selección de variables"
   ]
  },
  {
   "cell_type": "markdown",
   "metadata": {},
   "source": [
    "### PCA"
   ]
  },
  {
   "cell_type": "code",
   "execution_count": 27,
   "metadata": {
    "ExecuteTime": {
     "end_time": "2020-09-23T20:30:04.826180Z",
     "start_time": "2020-09-23T20:30:03.907192Z"
    }
   },
   "outputs": [
    {
     "data": {
      "text/plain": [
       "array([[ 1.81048003,  1.87823902, -1.29174694,  0.40743953, -0.88901197],\n",
       "       [ 0.38485176, -0.7000158 , -1.29174694, -0.38840689, -0.88901197],\n",
       "       [-0.73528474, -0.73294526, -1.29174694, -0.93102945, -0.88901197],\n",
       "       ...,\n",
       "       [-1.75359065, -0.59756858,  0.14675625,  0.44361436, -0.88901197],\n",
       "       [-1.54992947, -0.1194816 ,  0.14675625,  1.31181045, -0.1445185 ],\n",
       "       [ 1.70864944,  0.07931477,  0.14675625,  2.19447648,  1.34446843]])"
      ]
     },
     "execution_count": 27,
     "metadata": {},
     "output_type": "execute_result"
    }
   ],
   "source": [
    "## Las variables numéricas se estandarizan\n",
    "\n",
    "from sklearn.preprocessing import StandardScaler\n",
    "sc = StandardScaler() #se guarda el método para escalar\n",
    "\n",
    "X = df[cont].copy()\n",
    "sc.fit(X) #se calculan los parámetros para estandarizar\n",
    "\n",
    "X = sc.transform(X) #se aplica la estandarización\n",
    "X"
   ]
  },
  {
   "cell_type": "code",
   "execution_count": 28,
   "metadata": {
    "ExecuteTime": {
     "end_time": "2020-09-23T20:30:05.056885Z",
     "start_time": "2020-09-23T20:30:04.827801Z"
    }
   },
   "outputs": [
    {
     "data": {
      "text/html": [
       "<div>\n",
       "<style scoped>\n",
       "    .dataframe tbody tr th:only-of-type {\n",
       "        vertical-align: middle;\n",
       "    }\n",
       "\n",
       "    .dataframe tbody tr th {\n",
       "        vertical-align: top;\n",
       "    }\n",
       "\n",
       "    .dataframe thead th {\n",
       "        text-align: right;\n",
       "    }\n",
       "</style>\n",
       "<table border=\"1\" class=\"dataframe\">\n",
       "  <thead>\n",
       "    <tr style=\"text-align: right;\">\n",
       "      <th></th>\n",
       "      <th>0</th>\n",
       "      <th>1</th>\n",
       "      <th>2</th>\n",
       "    </tr>\n",
       "  </thead>\n",
       "  <tbody>\n",
       "    <tr>\n",
       "      <th>11918</th>\n",
       "      <td>0.781159</td>\n",
       "      <td>-0.376804</td>\n",
       "      <td>-0.200154</td>\n",
       "    </tr>\n",
       "    <tr>\n",
       "      <th>3073</th>\n",
       "      <td>-0.744115</td>\n",
       "      <td>-1.387191</td>\n",
       "      <td>-0.457077</td>\n",
       "    </tr>\n",
       "    <tr>\n",
       "      <th>13476</th>\n",
       "      <td>1.329241</td>\n",
       "      <td>-1.058506</td>\n",
       "      <td>0.811945</td>\n",
       "    </tr>\n",
       "    <tr>\n",
       "      <th>21443</th>\n",
       "      <td>0.843170</td>\n",
       "      <td>3.391725</td>\n",
       "      <td>0.014435</td>\n",
       "    </tr>\n",
       "  </tbody>\n",
       "</table>\n",
       "</div>"
      ],
      "text/plain": [
       "              0         1         2\n",
       "11918  0.781159 -0.376804 -0.200154\n",
       "3073  -0.744115 -1.387191 -0.457077\n",
       "13476  1.329241 -1.058506  0.811945\n",
       "21443  0.843170  3.391725  0.014435"
      ]
     },
     "execution_count": 28,
     "metadata": {},
     "output_type": "execute_result"
    }
   ],
   "source": [
    "## Mediante el modelo no supervisado PCA, se busca\n",
    "## reducir las variables numéricas a sólo 3, la mitad\n",
    "\n",
    "#from sklearn.pipeline import Pipeline\n",
    "from sklearn.decomposition import PCA\n",
    "pca = PCA(n_components = 3)\n",
    "\n",
    "Xpca = pd.DataFrame(pca.fit_transform(X))\n",
    "Xpca.sample(4)"
   ]
  },
  {
   "cell_type": "code",
   "execution_count": 29,
   "metadata": {
    "ExecuteTime": {
     "end_time": "2020-09-23T20:30:05.091252Z",
     "start_time": "2020-09-23T20:30:05.062523Z"
    }
   },
   "outputs": [
    {
     "data": {
      "text/plain": [
       "array([0.2333973 , 0.44959516, 0.64745332])"
      ]
     },
     "execution_count": 29,
     "metadata": {},
     "output_type": "execute_result"
    }
   ],
   "source": [
    "## Nos explican casi el 61% del todas las variables\n",
    "pca.explained_variance_ratio_.cumsum()"
   ]
  },
  {
   "cell_type": "code",
   "execution_count": 30,
   "metadata": {
    "ExecuteTime": {
     "end_time": "2020-09-23T20:30:05.977941Z",
     "start_time": "2020-09-23T20:30:05.094298Z"
    }
   },
   "outputs": [
    {
     "data": {
      "text/plain": [
       "<mpl_toolkits.mplot3d.art3d.Path3DCollection at 0x7f51d59a6310>"
      ]
     },
     "execution_count": 30,
     "metadata": {},
     "output_type": "execute_result"
    },
    {
     "data": {
      "image/png": "[encoded data removed]",
      "text/plain": [
       "<Figure size 432x288 with 1 Axes>"
      ]
     },
     "metadata": {
      "needs_background": "light"
     },
     "output_type": "display_data"
    }
   ],
   "source": [
    "## Comparando en una gráfica 3D\n",
    "ax = plt.axes(projection = '3d')\n",
    "ax.scatter3D(Xpca[0],\n",
    "            Xpca[1],\n",
    "            Xpca[2])\n",
    "\n",
    "## No hay tanta dispersión, es bueno (?)"
   ]
  },
  {
   "cell_type": "markdown",
   "metadata": {},
   "source": [
    "### Kbest"
   ]
  },
  {
   "cell_type": "code",
   "execution_count": 31,
   "metadata": {
    "ExecuteTime": {
     "end_time": "2020-09-23T20:30:05.993401Z",
     "start_time": "2020-09-23T20:30:05.980590Z"
    }
   },
   "outputs": [
    {
     "data": {
      "text/plain": [
       "no     0.944331\n",
       "yes    0.055669\n",
       "Name: y, dtype: float64"
      ]
     },
     "execution_count": 31,
     "metadata": {},
     "output_type": "execute_result"
    }
   ],
   "source": [
    "## Otra forma de reducir variables es elegir a las que nos explican\n",
    "## nuestra variable objetivo:\n",
    "df['y'].value_counts(1)"
   ]
  },
  {
   "cell_type": "code",
   "execution_count": 32,
   "metadata": {
    "ExecuteTime": {
     "end_time": "2020-09-23T20:30:06.085838Z",
     "start_time": "2020-09-23T20:30:05.995661Z"
    }
   },
   "outputs": [
    {
     "data": {
      "text/plain": [
       "array([  12.70420346,  118.49771788,   33.45054339, 1726.36078786,\n",
       "         92.35756512])"
      ]
     },
     "execution_count": 32,
     "metadata": {},
     "output_type": "execute_result"
    }
   ],
   "source": [
    "from sklearn.feature_selection import SelectKBest\n",
    "\n",
    "sk = SelectKBest(k = 2) #Queremos las 2 mejores variables que expliquen la var objetivo\n",
    "sk.fit(X, df['y'])\n",
    "\n",
    "sk.scores_ #son las 2 con el valor máximo"
   ]
  },
  {
   "cell_type": "code",
   "execution_count": 33,
   "metadata": {
    "ExecuteTime": {
     "end_time": "2020-09-23T20:30:06.106532Z",
     "start_time": "2020-09-23T20:30:06.094772Z"
    }
   },
   "outputs": [
    {
     "data": {
      "text/plain": [
       "['balance', 'duration']"
      ]
     },
     "execution_count": 33,
     "metadata": {},
     "output_type": "execute_result"
    }
   ],
   "source": [
    "best = [a for a,b in list(zip(cont,sk.get_support())) if b] \n",
    "best #que son:"
   ]
  },
  {
   "cell_type": "code",
   "execution_count": 34,
   "metadata": {
    "ExecuteTime": {
     "end_time": "2020-09-23T20:30:08.026330Z",
     "start_time": "2020-09-23T20:30:06.108360Z"
    }
   },
   "outputs": [
    {
     "data": {
      "text/plain": [
       "<seaborn.axisgrid.PairGrid at 0x7f51d594fd00>"
      ]
     },
     "execution_count": 34,
     "metadata": {},
     "output_type": "execute_result"
    },
    {
     "data": {
      "image/png": "[encoded data removed]",
      "text/plain": [
       "<Figure size 413.25x360 with 6 Axes>"
      ]
     },
     "metadata": {
      "needs_background": "light"
     },
     "output_type": "display_data"
    }
   ],
   "source": [
    "## Así, la variable objetivo tiene un distinto comportamiento claro para estas dos variables:\n",
    "\n",
    "import seaborn as sns\n",
    "\n",
    "best = best + ['y']\n",
    "sns.pairplot(df[best],\n",
    "            hue = 'y',\n",
    "            palette = 'Paired')"
   ]
  },
  {
   "cell_type": "markdown",
   "metadata": {},
   "source": [
    "### Transformación entrópica"
   ]
  },
  {
   "cell_type": "markdown",
   "metadata": {
    "ExecuteTime": {
     "end_time": "2020-09-20T16:17:58.339375Z",
     "start_time": "2020-09-20T16:17:58.315363Z"
    }
   },
   "source": [
    "Consta de seleccionar las variables categóricas y numéricas-discretizadas (hechas rango) que mejor expliquen el resultado de nuestra variable objetivo"
   ]
  },
  {
   "cell_type": "code",
   "execution_count": 35,
   "metadata": {
    "ExecuteTime": {
     "end_time": "2020-09-23T20:30:08.037409Z",
     "start_time": "2020-09-23T20:30:08.030675Z"
    }
   },
   "outputs": [
    {
     "data": {
      "text/plain": [
       "['age', 'balance', 'day', 'duration', 'campaign']"
      ]
     },
     "execution_count": 35,
     "metadata": {},
     "output_type": "execute_result"
    }
   ],
   "source": [
    "cont"
   ]
  },
  {
   "cell_type": "code",
   "execution_count": 36,
   "metadata": {
    "ExecuteTime": {
     "end_time": "2020-09-23T20:30:08.813094Z",
     "start_time": "2020-09-23T20:30:08.049119Z"
    }
   },
   "outputs": [
    {
     "data": {
      "text/plain": [
       "(-1336.001, 32.0]    0.250829\n",
       "(32.0, 315.0]        0.250121\n",
       "(913.0, 3412.0]      0.249972\n",
       "(315.0, 913.0]       0.249078\n",
       "Name: balance_cut, dtype: float64"
      ]
     },
     "execution_count": 36,
     "metadata": {},
     "output_type": "execute_result"
    }
   ],
   "source": [
    "## Se discretizan las variables numéricas, se vuelven rangos (por percentil)\n",
    "for col in cont:\n",
    "    df[f'{col}_cut'] = pd.qcut(df[f'{col}'],\n",
    "                               q = 4,\n",
    "                              duplicates = 'drop').astype(str)\n",
    "## Ejemplo\n",
    "df['balance_cut'].value_counts(1, dropna = False)"
   ]
  },
  {
   "cell_type": "code",
   "execution_count": 37,
   "metadata": {
    "ExecuteTime": {
     "end_time": "2020-09-23T20:30:08.835164Z",
     "start_time": "2020-09-23T20:30:08.816728Z"
    }
   },
   "outputs": [
    {
     "data": {
      "text/plain": [
       "Index(['age', 'job', 'marital', 'education', 'default', 'balance', 'housing',\n",
       "       'loan', 'contact', 'day', 'month', 'duration', 'campaign', 'pdays',\n",
       "       'previous', 'poutcome', 'y', 'age_cut', 'balance_cut', 'day_cut',\n",
       "       'duration_cut', 'campaign_cut'],\n",
       "      dtype='object')"
      ]
     },
     "execution_count": 37,
     "metadata": {},
     "output_type": "execute_result"
    }
   ],
   "source": [
    "## Ahora contamos con las variables categóricas, numéricas y las discretizadas\n",
    "df.columns"
   ]
  },
  {
   "cell_type": "code",
   "execution_count": 38,
   "metadata": {
    "ExecuteTime": {
     "end_time": "2020-09-23T20:30:08.844755Z",
     "start_time": "2020-09-23T20:30:08.836953Z"
    }
   },
   "outputs": [
    {
     "data": {
      "text/plain": [
       "['job',\n",
       " 'marital',\n",
       " 'education',\n",
       " 'default',\n",
       " 'housing',\n",
       " 'loan',\n",
       " 'contact',\n",
       " 'month',\n",
       " 'age_cut',\n",
       " 'balance_cut',\n",
       " 'day_cut',\n",
       " 'duration_cut',\n",
       " 'campaign_cut']"
      ]
     },
     "execution_count": 38,
     "metadata": {},
     "output_type": "execute_result"
    }
   ],
   "source": [
    "## Se agrupan las variables a evaluar\n",
    "variables = cat + [col for col in df.columns if col.endswith('_cut')]\n",
    "variables"
   ]
  },
  {
   "cell_type": "code",
   "execution_count": 39,
   "metadata": {
    "ExecuteTime": {
     "end_time": "2020-09-23T20:30:08.856177Z",
     "start_time": "2020-09-23T20:30:08.848514Z"
    }
   },
   "outputs": [],
   "source": [
    "## Se construye la función que enlista el IV (Info Value) por columna\n",
    "def iv(obj, df, var):\n",
    "    obj = obj #se instancia dentro de la función para que el siguiente bucle la tome en cuenta\n",
    "    iv_fin = {} #se crea un diccionario vacío\n",
    "    for x in var:\n",
    "        aux = df[[x, obj]].copy() #nos interesa evaluar cada variable vs nuestra variable objetivo\n",
    "        aux['n'] = 1 #columna de apoyo para hacer la suma\n",
    "\n",
    "        ## Se transforma la estructura de la tabla:\n",
    "        aux = aux.pivot_table(columns = obj, #teniendo las opciones de nuestra variable objetivo como columnas\n",
    "                              index = x, #y las categorías (rangos para las numéricas) como renglones\n",
    "                              values = 'n', #el contador para categoría vs resultado de la variable objetivo\n",
    "                              aggfunc = 'sum',\n",
    "                              fill_value = 0).copy() #llenar los vacíos con ceros\n",
    "        \n",
    "        aux['no_ev'] = aux['no'] / aux['no'].sum() #divide cada renglón entre el total para obtener la proba de no evento\n",
    "        aux['si_ev'] = aux['yes'] / aux['yes'].sum() #proba de sí evento\n",
    "        \n",
    "        aux['woe'] = np.log(aux['no_ev'] / aux['si_ev']) #se crea la columna de WOE (Weight Of Evidence)\n",
    "        aux['iv'] = aux['woe']*(aux['no_ev'] - aux['si_ev']) #se crea la columna individual de IV (Info Value)\n",
    "\n",
    "        iv_fin[x] = aux['iv'].sum().round(3) #y finalmente, suma la columna y la agrega al diccionario\n",
    "\n",
    "    iv_fin = pd.DataFrame.from_dict(iv_fin,\n",
    "                                    orient = 'index',\n",
    "                                    columns = ['IV']).sort_values(by = 'IV',\n",
    "                                                                  ascending = False)\n",
    "    \n",
    "    return iv_fin"
   ]
  },
  {
   "cell_type": "code",
   "execution_count": 40,
   "metadata": {
    "ExecuteTime": {
     "end_time": "2020-09-23T20:30:34.781918Z",
     "start_time": "2020-09-23T20:30:34.525426Z"
    }
   },
   "outputs": [
    {
     "data": {
      "text/html": [
       "<div>\n",
       "<style scoped>\n",
       "    .dataframe tbody tr th:only-of-type {\n",
       "        vertical-align: middle;\n",
       "    }\n",
       "\n",
       "    .dataframe tbody tr th {\n",
       "        vertical-align: top;\n",
       "    }\n",
       "\n",
       "    .dataframe thead th {\n",
       "        text-align: right;\n",
       "    }\n",
       "</style>\n",
       "<table border=\"1\" class=\"dataframe\">\n",
       "  <thead>\n",
       "    <tr style=\"text-align: right;\">\n",
       "      <th></th>\n",
       "      <th>IV</th>\n",
       "    </tr>\n",
       "  </thead>\n",
       "  <tbody>\n",
       "    <tr>\n",
       "      <th>duration_cut</th>\n",
       "      <td>0.866</td>\n",
       "    </tr>\n",
       "    <tr>\n",
       "      <th>month</th>\n",
       "      <td>0.792</td>\n",
       "    </tr>\n",
       "    <tr>\n",
       "      <th>contact</th>\n",
       "      <td>0.519</td>\n",
       "    </tr>\n",
       "    <tr>\n",
       "      <th>housing</th>\n",
       "      <td>0.309</td>\n",
       "    </tr>\n",
       "    <tr>\n",
       "      <th>job</th>\n",
       "      <td>0.194</td>\n",
       "    </tr>\n",
       "    <tr>\n",
       "      <th>education</th>\n",
       "      <td>0.104</td>\n",
       "    </tr>\n",
       "    <tr>\n",
       "      <th>balance_cut</th>\n",
       "      <td>0.102</td>\n",
       "    </tr>\n",
       "    <tr>\n",
       "      <th>age_cut</th>\n",
       "      <td>0.089</td>\n",
       "    </tr>\n",
       "    <tr>\n",
       "      <th>loan</th>\n",
       "      <td>0.083</td>\n",
       "    </tr>\n",
       "    <tr>\n",
       "      <th>marital</th>\n",
       "      <td>0.082</td>\n",
       "    </tr>\n",
       "    <tr>\n",
       "      <th>campaign_cut</th>\n",
       "      <td>0.055</td>\n",
       "    </tr>\n",
       "    <tr>\n",
       "      <th>day_cut</th>\n",
       "      <td>0.029</td>\n",
       "    </tr>\n",
       "    <tr>\n",
       "      <th>default</th>\n",
       "      <td>0.004</td>\n",
       "    </tr>\n",
       "  </tbody>\n",
       "</table>\n",
       "</div>"
      ],
      "text/plain": [
       "                 IV\n",
       "duration_cut  0.866\n",
       "month         0.792\n",
       "contact       0.519\n",
       "housing       0.309\n",
       "job           0.194\n",
       "education     0.104\n",
       "balance_cut   0.102\n",
       "age_cut       0.089\n",
       "loan          0.083\n",
       "marital       0.082\n",
       "campaign_cut  0.055\n",
       "day_cut       0.029\n",
       "default       0.004"
      ]
     },
     "execution_count": 40,
     "metadata": {},
     "output_type": "execute_result"
    }
   ],
   "source": [
    "## Se aplica la función que evalúa todas las variables de un dataframe\n",
    "iv(obj = 'y',df = df, var = variables)"
   ]
  },
  {
   "cell_type": "markdown",
   "metadata": {},
   "source": [
    "Las 2 variables numéricas más representativas para el resultado de nuestra variable objetivo son duración del contacto y el balance del cliente, mismo resultado con Kbest. La ventaja de este metodología es que despliega el \"nivel\" de influencia de las variables numéricas y también categóricas. Ahora el banco puede enfocar el presupuesto eficientemente para concretar contratos de crédito."
   ]
  }
 ],
 "metadata": {
  "kernelspec": {
   "display_name": "Python 3",
   "language": "python",
   "name": "python3"
  },
  "language_info": {
   "codemirror_mode": {
    "name": "ipython",
    "version": 3
   },
   "file_extension": ".py",
   "mimetype": "text/x-python",
   "name": "python",
   "nbconvert_exporter": "python",
   "pygments_lexer": "ipython3",
   "version": "3.8.5"
  },
  "toc": {
   "base_numbering": 1,
   "nav_menu": {},
   "number_sections": true,
   "sideBar": true,
   "skip_h1_title": true,
   "title_cell": "Table of Contents",
   "title_sidebar": "Contents",
   "toc_cell": false,
   "toc_position": {
    "height": "calc(100% - 180px)",
    "left": "10px",
    "top": "150px",
    "width": "410.66px"
   },
   "toc_section_display": true,
   "toc_window_display": true
  },
  "varInspector": {
   "cols": {
    "lenName": 16,
    "lenType": 16,
    "lenVar": 40
   },
   "kernels_config": {
    "python": {
     "delete_cmd_postfix": "",
     "delete_cmd_prefix": "del ",
     "library": "var_list.py",
     "varRefreshCmd": "print(var_dic_list())"
    },
    "r": {
     "delete_cmd_postfix": ") ",
     "delete_cmd_prefix": "rm(",
     "library": "var_list.r",
     "varRefreshCmd": "cat(var_dic_list()) "
    }
   },
   "types_to_exclude": [
    "module",
    "function",
    "builtin_function_or_method",
    "instance",
    "_Feature"
   ],
   "window_display": false
  }
 },
 "nbformat": 4,
 "nbformat_minor": 4
}
