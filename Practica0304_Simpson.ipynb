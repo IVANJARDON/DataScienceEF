{
 "cells": [
  {
   "cell_type": "markdown",
   "metadata": {},
   "source": [
    "# Simpson"
   ]
  },
  {
   "cell_type": "markdown",
   "metadata": {},
   "source": [
    "## Importar"
   ]
  },
  {
   "cell_type": "code",
   "execution_count": 1,
   "metadata": {
    "ExecuteTime": {
     "end_time": "2021-02-06T18:03:31.689620Z",
     "start_time": "2021-02-06T18:03:30.309711Z"
    }
   },
   "outputs": [
    {
     "data": {
      "text/plain": [
       "['pokemon (1).csv',\n",
       " 'pokemon_cluster.csv',\n",
       " 'simpsons_characters.csv',\n",
       " 'ratings.csv',\n",
       " 'datapackage.json',\n",
       " 'pokemon_cluster',\n",
       " 'tags.csv',\n",
       " 'simpsons_episodes.csv',\n",
       " 'simpsons_locations.csv',\n",
       " 'digits_train_sample.csv',\n",
       " 'movies.csv',\n",
       " 'simpsons_script_lines.csv',\n",
       " 'simpson_limpio.csv',\n",
       " 'fake_news.csv']"
      ]
     },
     "execution_count": 1,
     "metadata": {},
     "output_type": "execute_result"
    }
   ],
   "source": [
    "# %load basic\n",
    "import os\n",
    "import numpy as np\n",
    "import pandas as pd\n",
    "import matplotlib.pyplot as plt\n",
    "pd.set_option('display.max_columns',200)\n",
    "pd.options.display.float_format = '{:.2f}'.format\n",
    "liga = '/home/ef/Documents/Diplomado/data/Mod_III/'\n",
    "os.listdir(liga)"
   ]
  },
  {
   "cell_type": "code",
   "execution_count": 2,
   "metadata": {
    "ExecuteTime": {
     "end_time": "2021-02-06T18:03:31.715018Z",
     "start_time": "2021-02-06T18:03:31.703659Z"
    }
   },
   "outputs": [
    {
     "data": {
      "text/plain": [
       "['simpsons_characters.csv',\n",
       " 'simpsons_episodes.csv',\n",
       " 'simpsons_locations.csv',\n",
       " 'simpsons_script_lines.csv',\n",
       " 'simpson_limpio.csv']"
      ]
     },
     "execution_count": 2,
     "metadata": {},
     "output_type": "execute_result"
    }
   ],
   "source": [
    "[x for x in os.listdir(liga) if x.startswith('simp')]"
   ]
  },
  {
   "cell_type": "code",
   "execution_count": 3,
   "metadata": {
    "ExecuteTime": {
     "end_time": "2021-02-06T18:03:33.528838Z",
     "start_time": "2021-02-06T18:03:31.722403Z"
    }
   },
   "outputs": [
    {
     "name": "stderr",
     "output_type": "stream",
     "text": [
      "/home/ef/Desktop/diplomadus/diplomadus/lib/python3.8/site-packages/IPython/core/interactiveshell.py:3145: DtypeWarning: Columns (4,5,6) have mixed types.Specify dtype option on import or set low_memory=False.\n",
      "  has_raised = await self.run_ast_nodes(code_ast.body, cell_name,\n"
     ]
    },
    {
     "name": "stdout",
     "output_type": "stream",
     "text": [
      "(131708, 13)\n"
     ]
    },
    {
     "data": {
      "text/html": [
       "<div>\n",
       "<style scoped>\n",
       "    .dataframe tbody tr th:only-of-type {\n",
       "        vertical-align: middle;\n",
       "    }\n",
       "\n",
       "    .dataframe tbody tr th {\n",
       "        vertical-align: top;\n",
       "    }\n",
       "\n",
       "    .dataframe thead th {\n",
       "        text-align: right;\n",
       "    }\n",
       "</style>\n",
       "<table border=\"1\" class=\"dataframe\">\n",
       "  <thead>\n",
       "    <tr style=\"text-align: right;\">\n",
       "      <th></th>\n",
       "      <th>id</th>\n",
       "      <th>episode_id</th>\n",
       "      <th>number</th>\n",
       "      <th>raw_text</th>\n",
       "      <th>timestamp_in_ms</th>\n",
       "      <th>speaking_line</th>\n",
       "      <th>character_id</th>\n",
       "      <th>location_id</th>\n",
       "      <th>raw_character_text</th>\n",
       "      <th>raw_location_text</th>\n",
       "      <th>spoken_words</th>\n",
       "      <th>normalized_text</th>\n",
       "      <th>word_count</th>\n",
       "    </tr>\n",
       "  </thead>\n",
       "  <tbody>\n",
       "    <tr>\n",
       "      <th>17358</th>\n",
       "      <td>27020</td>\n",
       "      <td>91</td>\n",
       "      <td>221</td>\n",
       "      <td>Marge Simpson: What happened here?</td>\n",
       "      <td>1035000</td>\n",
       "      <td>True</td>\n",
       "      <td>1.00</td>\n",
       "      <td>5.00</td>\n",
       "      <td>Marge Simpson</td>\n",
       "      <td>Simpson Home</td>\n",
       "      <td>What happened here?</td>\n",
       "      <td>what happened here</td>\n",
       "      <td>3</td>\n",
       "    </tr>\n",
       "    <tr>\n",
       "      <th>4701</th>\n",
       "      <td>14255</td>\n",
       "      <td>47</td>\n",
       "      <td>249</td>\n",
       "      <td>Marge Simpson: (TURNING) Homer ?! (DISAPPOINTE...</td>\n",
       "      <td>1012000</td>\n",
       "      <td>True</td>\n",
       "      <td>1.00</td>\n",
       "      <td>389.00</td>\n",
       "      <td>Marge Simpson</td>\n",
       "      <td>Bouvier House</td>\n",
       "      <td>Homer ?!</td>\n",
       "      <td>homer</td>\n",
       "      <td>1</td>\n",
       "    </tr>\n",
       "    <tr>\n",
       "      <th>102520</th>\n",
       "      <td>112602</td>\n",
       "      <td>395</td>\n",
       "      <td>87</td>\n",
       "      <td>Troll Moe: What? No, my character's supposed t...</td>\n",
       "      <td>391000</td>\n",
       "      <td>True</td>\n",
       "      <td>4926.00</td>\n",
       "      <td>3260.00</td>\n",
       "      <td>Troll Moe</td>\n",
       "      <td>EARTHLAND REALMS</td>\n",
       "      <td>What? No, my character's supposed to look like...</td>\n",
       "      <td>what no my characters supposed to look like me...</td>\n",
       "      <td>17</td>\n",
       "    </tr>\n",
       "    <tr>\n",
       "      <th>111361</th>\n",
       "      <td>121531</td>\n",
       "      <td>429</td>\n",
       "      <td>118</td>\n",
       "      <td>Prof. Hobbes: Ah, track three, \"Researching Th...</td>\n",
       "      <td>598000</td>\n",
       "      <td>True</td>\n",
       "      <td>5303.00</td>\n",
       "      <td>3522.00</td>\n",
       "      <td>Prof. Hobbes</td>\n",
       "      <td>HOBBES HOUSE</td>\n",
       "      <td>Ah, track three, \"Researching The Brief.\"</td>\n",
       "      <td>ah track three researching the brief</td>\n",
       "      <td>6</td>\n",
       "    </tr>\n",
       "  </tbody>\n",
       "</table>\n",
       "</div>"
      ],
      "text/plain": [
       "            id  episode_id  number  \\\n",
       "17358    27020          91     221   \n",
       "4701     14255          47     249   \n",
       "102520  112602         395      87   \n",
       "111361  121531         429     118   \n",
       "\n",
       "                                                 raw_text timestamp_in_ms  \\\n",
       "17358                  Marge Simpson: What happened here?         1035000   \n",
       "4701    Marge Simpson: (TURNING) Homer ?! (DISAPPOINTE...         1012000   \n",
       "102520  Troll Moe: What? No, my character's supposed t...          391000   \n",
       "111361  Prof. Hobbes: Ah, track three, \"Researching Th...          598000   \n",
       "\n",
       "       speaking_line character_id  location_id raw_character_text  \\\n",
       "17358           True         1.00         5.00      Marge Simpson   \n",
       "4701            True         1.00       389.00      Marge Simpson   \n",
       "102520          True      4926.00      3260.00          Troll Moe   \n",
       "111361          True      5303.00      3522.00       Prof. Hobbes   \n",
       "\n",
       "       raw_location_text                                       spoken_words  \\\n",
       "17358       Simpson Home                                What happened here?   \n",
       "4701       Bouvier House                                           Homer ?!   \n",
       "102520  EARTHLAND REALMS  What? No, my character's supposed to look like...   \n",
       "111361      HOBBES HOUSE          Ah, track three, \"Researching The Brief.\"   \n",
       "\n",
       "                                          normalized_text word_count  \n",
       "17358                                  what happened here          3  \n",
       "4701                                                homer          1  \n",
       "102520  what no my characters supposed to look like me...         17  \n",
       "111361               ah track three researching the brief          6  "
      ]
     },
     "execution_count": 3,
     "metadata": {},
     "output_type": "execute_result"
    }
   ],
   "source": [
    "df = pd.read_csv(liga + 'simpsons_script_lines.csv')\n",
    "df.dropna(inplace = True)\n",
    "print(df.shape)\n",
    "df.sample(4)"
   ]
  },
  {
   "cell_type": "markdown",
   "metadata": {
    "ExecuteTime": {
     "end_time": "2021-02-06T16:42:33.530472Z",
     "start_time": "2021-02-06T16:42:33.364264Z"
    }
   },
   "source": [
    "## Funciones"
   ]
  },
  {
   "cell_type": "code",
   "execution_count": 4,
   "metadata": {
    "ExecuteTime": {
     "end_time": "2021-02-06T18:03:34.863154Z",
     "start_time": "2021-02-06T18:03:33.541829Z"
    }
   },
   "outputs": [],
   "source": [
    "'''\n",
    "#Activar si es la primera vez que se ocupan stopwords o Lemmatizer\n",
    "import nltk\n",
    "nltk.download('stopwords')\n",
    "nltk.download('wordnet')\n",
    "'''\n",
    "import re\n",
    "import unicodedata\n",
    "from nltk.corpus import stopwords\n",
    "from nltk.stem import WordNetLemmatizer\n",
    "\n",
    "lem = WordNetLemmatizer()\n",
    "\n",
    "def clean_text(text,language = 'english',\n",
    "               add_stopwords = [], \n",
    "               pattern ='[^a-zA-Z]'):\n",
    "    cleaned_text = unicodedata.normalize('NFD', str(text)).encode('ascii', 'ignore')\n",
    "    cleaned_text = re.sub(pattern, ' ', \n",
    "                          cleaned_text.decode('utf-8'), \n",
    "                          flags = re.UNICODE)\n",
    "    cleaned_text = ' '.join([lem.lemmatize(word) for word in \n",
    "                             cleaned_text.lower().split() if word not in \n",
    "                             stopwords.words(language) + add_stopwords])\n",
    "    return cleaned_text"
   ]
  },
  {
   "cell_type": "code",
   "execution_count": 5,
   "metadata": {
    "ExecuteTime": {
     "end_time": "2021-02-06T18:03:34.876704Z",
     "start_time": "2021-02-06T18:03:34.866903Z"
    }
   },
   "outputs": [],
   "source": [
    "from nltk import sent_tokenize\n",
    "from nltk.sentiment.vader import SentimentIntensityAnalyzer\n",
    "\n",
    "def sentiment(text):\n",
    "    sid = SentimentIntensityAnalyzer()\n",
    "    try:\n",
    "        list(map(sid.polarity_scores,sent_tokenize(text)))[0]\n",
    "    except:\n",
    "        sentences = sent_tokenize('a')\n",
    "    else:\n",
    "        sentences = sent_tokenize(text)\n",
    "    res = map(sid.polarity_scores, sentences)\n",
    "    return list(res)[0]"
   ]
  },
  {
   "cell_type": "code",
   "execution_count": 6,
   "metadata": {
    "ExecuteTime": {
     "end_time": "2021-02-06T18:03:35.009130Z",
     "start_time": "2021-02-06T18:03:34.882586Z"
    }
   },
   "outputs": [],
   "source": [
    "from PIL import Image\n",
    "from wordcloud import WordCloud\n",
    "\n",
    "def get_wordcloud(text, image_dir, image_name, n_title = 20,repeat = False):\n",
    "    #Sub-función para desplegar la imagen\n",
    "    def plot_data(data):\n",
    "      plt.imshow(data, interpolation='nearest')\n",
    "      plt.show()\n",
    "        \n",
    "    ##IMPORTAR    \n",
    "    orig = Image.open(image_dir + image_name)\n",
    "    plot_data(np.array(orig))\n",
    "    \n",
    "    #AJUSTAR\n",
    "    img = Image.new('RGB', orig.size, (255,255,255))\n",
    "    try:\n",
    "        img.paste(orig,orig) #ajusta la parte transparente pa que no se interprete como negro\n",
    "    except:\n",
    "        mask = np.array(orig)\n",
    "    else:\n",
    "        img.paste(orig,orig)\n",
    "        mask = np.array(img) #convierte la imagen a datos (# de color)\n",
    "    wordcloud = WordCloud(mask = mask, #lienzo para las palabras\n",
    "                          #dirección de fuente (tipo de letra)\n",
    "                          font_path = '/usr/share/fonts/opentype/urw-base35/URWGothic-DemiOblique.otf',\n",
    "                          color_func = lambda *args, **kwargs: 'white', #letras blancas\n",
    "                          include_numbers = True,\n",
    "                          prefer_horizontal = 0.83, #porcentaje de palabras horizontales\n",
    "                          background_color = 'black', \n",
    "                          max_words = 10000,\n",
    "                          max_font_size = 73,\n",
    "                          repeat = repeat) #se repiten las palabras?\n",
    "    wordcloud.generate(text+(' '+image_name[:-4].replace('_','-')+' ')*n_title\n",
    "                      ).to_file(image_dir +f'WP_{image_name[:-4]}.png') #guarda como png\n",
    "    wordcloud = Image.open(image_dir +f'WP_{image_name[:-4]}.png').convert('RGBA')\n",
    "    datas = wordcloud.getdata() #para obtener nuevamente la info en datos (RGBA contempla transparencia en el último elem)\n",
    "    wordcloud.putdata([(255,255,255,0) if x[0]==x[1]==x[2]!=255 else x for x in datas]) #si el color no es blanco (letras) vuelve transparente al pixelo\n",
    "    wordcloud.paste(orig, box = (0,0), mask = wordcloud) #se sobrepone contra la orignal\n",
    "    wordcloud.save(image_dir +f'WP_{image_name[:-4]}.png') #guarda la nueva imagen como png\n",
    "    display(wordcloud)"
   ]
  },
  {
   "cell_type": "markdown",
   "metadata": {},
   "source": [
    "## EDA"
   ]
  },
  {
   "cell_type": "code",
   "execution_count": 7,
   "metadata": {
    "ExecuteTime": {
     "end_time": "2021-02-06T18:04:16.896184Z",
     "start_time": "2021-02-06T18:03:35.012197Z"
    },
    "scrolled": true
   },
   "outputs": [
    {
     "name": "stderr",
     "output_type": "stream",
     "text": [
      "Process ForkProcess-4:\n",
      "Traceback (most recent call last):\n",
      "  File \"/usr/lib/python3.8/multiprocessing/process.py\", line 315, in _bootstrap\n",
      "    self.run()\n",
      "  File \"/usr/lib/python3.8/multiprocessing/process.py\", line 108, in run\n",
      "    self._target(*self._args, **self._kwargs)\n",
      "  File \"/usr/lib/python3.8/concurrent/futures/process.py\", line 233, in _process_worker\n",
      "    call_item = call_queue.get(block=True)\n",
      "  File \"/usr/lib/python3.8/multiprocessing/connection.py\", line 216, in recv_bytes\n",
      "    buf = self._recv_bytes(maxlength)\n",
      "  File \"/usr/lib/python3.8/multiprocessing/queues.py\", line 97, in get\n",
      "    res = self._recv_bytes()\n",
      "  File \"/usr/lib/python3.8/multiprocessing/connection.py\", line 414, in _recv_bytes\n",
      "    buf = self._recv(4)\n",
      "KeyboardInterrupt\n",
      "Exception in thread QueueManagerThread:\n",
      "Traceback (most recent call last):\n",
      "  File \"/usr/lib/python3.8/threading.py\", line 932, in _bootstrap_inner\n",
      "    self.run()\n",
      "  File \"/usr/lib/python3.8/threading.py\", line 870, in run\n",
      "    self._target(*self._args, **self._kwargs)\n",
      "  File \"/usr/lib/python3.8/concurrent/futures/process.py\", line 394, in _queue_management_worker\n",
      "    work_item.future.set_exception(bpe)\n",
      "  File \"/usr/lib/python3.8/concurrent/futures/_base.py\", line 539, in set_exception\n",
      "    raise InvalidStateError('{}: {!r}'.format(self._state, self))\n",
      "concurrent.futures._base.InvalidStateError: CANCELLED: <Future at 0x7fec6141deb0 state=cancelled>\n"
     ]
    },
    {
     "ename": "KeyboardInterrupt",
     "evalue": "",
     "output_type": "error",
     "traceback": [
      "\u001b[0;31m---------------------------------------------------------------------------\u001b[0m",
      "\u001b[0;31mKeyboardInterrupt\u001b[0m                         Traceback (most recent call last)",
      "\u001b[0;32m<ipython-input-7-37e22d685239>\u001b[0m in \u001b[0;36m<module>\u001b[0;34m\u001b[0m\n\u001b[1;32m      3\u001b[0m \u001b[0mtexto\u001b[0m \u001b[0;34m=\u001b[0m \u001b[0;34m'normalized_text'\u001b[0m\u001b[0;34m\u001b[0m\u001b[0;34m\u001b[0m\u001b[0m\n\u001b[1;32m      4\u001b[0m \u001b[0;32mwith\u001b[0m \u001b[0mconcurrent\u001b[0m\u001b[0;34m.\u001b[0m\u001b[0mfutures\u001b[0m\u001b[0;34m.\u001b[0m\u001b[0mProcessPoolExecutor\u001b[0m\u001b[0;34m(\u001b[0m\u001b[0;34m)\u001b[0m \u001b[0;32mas\u001b[0m \u001b[0mexecutor\u001b[0m\u001b[0;34m:\u001b[0m\u001b[0;34m\u001b[0m\u001b[0;34m\u001b[0m\u001b[0m\n\u001b[0;32m----> 5\u001b[0;31m     \u001b[0mlimpio\u001b[0m \u001b[0;34m=\u001b[0m \u001b[0mlist\u001b[0m\u001b[0;34m(\u001b[0m\u001b[0mexecutor\u001b[0m\u001b[0;34m.\u001b[0m\u001b[0mmap\u001b[0m\u001b[0;34m(\u001b[0m\u001b[0mclean_text\u001b[0m\u001b[0;34m,\u001b[0m \u001b[0mdf\u001b[0m\u001b[0;34m[\u001b[0m\u001b[0mtexto\u001b[0m\u001b[0;34m]\u001b[0m\u001b[0;34m)\u001b[0m\u001b[0;34m)\u001b[0m\u001b[0;34m\u001b[0m\u001b[0;34m\u001b[0m\u001b[0m\n\u001b[0m\u001b[1;32m      6\u001b[0m \u001b[0;34m\u001b[0m\u001b[0m\n\u001b[1;32m      7\u001b[0m \u001b[0mdf\u001b[0m\u001b[0;34m[\u001b[0m\u001b[0;34mf'{texto}_limpio'\u001b[0m\u001b[0;34m]\u001b[0m \u001b[0;34m=\u001b[0m \u001b[0mlist\u001b[0m\u001b[0;34m(\u001b[0m\u001b[0mmap\u001b[0m\u001b[0;34m(\u001b[0m\u001b[0;32mlambda\u001b[0m \u001b[0mx\u001b[0m\u001b[0;34m:\u001b[0m\u001b[0mstr\u001b[0m\u001b[0;34m(\u001b[0m\u001b[0mx\u001b[0m\u001b[0;34m)\u001b[0m\u001b[0;34m,\u001b[0m\u001b[0mlimpio\u001b[0m\u001b[0;34m)\u001b[0m\u001b[0;34m)\u001b[0m\u001b[0;34m\u001b[0m\u001b[0;34m\u001b[0m\u001b[0m\n",
      "\u001b[0;32m/usr/lib/python3.8/concurrent/futures/process.py\u001b[0m in \u001b[0;36m_chain_from_iterable_of_lists\u001b[0;34m(iterable)\u001b[0m\n\u001b[1;32m    482\u001b[0m     \u001b[0mcareful\u001b[0m \u001b[0;32mnot\u001b[0m \u001b[0mto\u001b[0m \u001b[0mkeep\u001b[0m \u001b[0mreferences\u001b[0m \u001b[0mto\u001b[0m \u001b[0myielded\u001b[0m \u001b[0mobjects\u001b[0m\u001b[0;34m.\u001b[0m\u001b[0;34m\u001b[0m\u001b[0;34m\u001b[0m\u001b[0m\n\u001b[1;32m    483\u001b[0m     \"\"\"\n\u001b[0;32m--> 484\u001b[0;31m     \u001b[0;32mfor\u001b[0m \u001b[0melement\u001b[0m \u001b[0;32min\u001b[0m \u001b[0miterable\u001b[0m\u001b[0;34m:\u001b[0m\u001b[0;34m\u001b[0m\u001b[0;34m\u001b[0m\u001b[0m\n\u001b[0m\u001b[1;32m    485\u001b[0m         \u001b[0melement\u001b[0m\u001b[0;34m.\u001b[0m\u001b[0mreverse\u001b[0m\u001b[0;34m(\u001b[0m\u001b[0;34m)\u001b[0m\u001b[0;34m\u001b[0m\u001b[0;34m\u001b[0m\u001b[0m\n\u001b[1;32m    486\u001b[0m         \u001b[0;32mwhile\u001b[0m \u001b[0melement\u001b[0m\u001b[0;34m:\u001b[0m\u001b[0;34m\u001b[0m\u001b[0;34m\u001b[0m\u001b[0m\n",
      "\u001b[0;32m/usr/lib/python3.8/concurrent/futures/_base.py\u001b[0m in \u001b[0;36mresult_iterator\u001b[0;34m()\u001b[0m\n\u001b[1;32m    609\u001b[0m                     \u001b[0;31m# Careful not to keep a reference to the popped future\u001b[0m\u001b[0;34m\u001b[0m\u001b[0;34m\u001b[0m\u001b[0;34m\u001b[0m\u001b[0m\n\u001b[1;32m    610\u001b[0m                     \u001b[0;32mif\u001b[0m \u001b[0mtimeout\u001b[0m \u001b[0;32mis\u001b[0m \u001b[0;32mNone\u001b[0m\u001b[0;34m:\u001b[0m\u001b[0;34m\u001b[0m\u001b[0;34m\u001b[0m\u001b[0m\n\u001b[0;32m--> 611\u001b[0;31m                         \u001b[0;32myield\u001b[0m \u001b[0mfs\u001b[0m\u001b[0;34m.\u001b[0m\u001b[0mpop\u001b[0m\u001b[0;34m(\u001b[0m\u001b[0;34m)\u001b[0m\u001b[0;34m.\u001b[0m\u001b[0mresult\u001b[0m\u001b[0;34m(\u001b[0m\u001b[0;34m)\u001b[0m\u001b[0;34m\u001b[0m\u001b[0;34m\u001b[0m\u001b[0m\n\u001b[0m\u001b[1;32m    612\u001b[0m                     \u001b[0;32melse\u001b[0m\u001b[0;34m:\u001b[0m\u001b[0;34m\u001b[0m\u001b[0;34m\u001b[0m\u001b[0m\n\u001b[1;32m    613\u001b[0m                         \u001b[0;32myield\u001b[0m \u001b[0mfs\u001b[0m\u001b[0;34m.\u001b[0m\u001b[0mpop\u001b[0m\u001b[0;34m(\u001b[0m\u001b[0;34m)\u001b[0m\u001b[0;34m.\u001b[0m\u001b[0mresult\u001b[0m\u001b[0;34m(\u001b[0m\u001b[0mend_time\u001b[0m \u001b[0;34m-\u001b[0m \u001b[0mtime\u001b[0m\u001b[0;34m.\u001b[0m\u001b[0mmonotonic\u001b[0m\u001b[0;34m(\u001b[0m\u001b[0;34m)\u001b[0m\u001b[0;34m)\u001b[0m\u001b[0;34m\u001b[0m\u001b[0;34m\u001b[0m\u001b[0m\n",
      "\u001b[0;32m/usr/lib/python3.8/concurrent/futures/_base.py\u001b[0m in \u001b[0;36mresult\u001b[0;34m(self, timeout)\u001b[0m\n\u001b[1;32m    432\u001b[0m                 \u001b[0;32mreturn\u001b[0m \u001b[0mself\u001b[0m\u001b[0;34m.\u001b[0m\u001b[0m__get_result\u001b[0m\u001b[0;34m(\u001b[0m\u001b[0;34m)\u001b[0m\u001b[0;34m\u001b[0m\u001b[0;34m\u001b[0m\u001b[0m\n\u001b[1;32m    433\u001b[0m \u001b[0;34m\u001b[0m\u001b[0m\n\u001b[0;32m--> 434\u001b[0;31m             \u001b[0mself\u001b[0m\u001b[0;34m.\u001b[0m\u001b[0m_condition\u001b[0m\u001b[0;34m.\u001b[0m\u001b[0mwait\u001b[0m\u001b[0;34m(\u001b[0m\u001b[0mtimeout\u001b[0m\u001b[0;34m)\u001b[0m\u001b[0;34m\u001b[0m\u001b[0;34m\u001b[0m\u001b[0m\n\u001b[0m\u001b[1;32m    435\u001b[0m \u001b[0;34m\u001b[0m\u001b[0m\n\u001b[1;32m    436\u001b[0m             \u001b[0;32mif\u001b[0m \u001b[0mself\u001b[0m\u001b[0;34m.\u001b[0m\u001b[0m_state\u001b[0m \u001b[0;32min\u001b[0m \u001b[0;34m[\u001b[0m\u001b[0mCANCELLED\u001b[0m\u001b[0;34m,\u001b[0m \u001b[0mCANCELLED_AND_NOTIFIED\u001b[0m\u001b[0;34m]\u001b[0m\u001b[0;34m:\u001b[0m\u001b[0;34m\u001b[0m\u001b[0;34m\u001b[0m\u001b[0m\n",
      "\u001b[0;32m/usr/lib/python3.8/threading.py\u001b[0m in \u001b[0;36mwait\u001b[0;34m(self, timeout)\u001b[0m\n\u001b[1;32m    300\u001b[0m         \u001b[0;32mtry\u001b[0m\u001b[0;34m:\u001b[0m    \u001b[0;31m# restore state no matter what (e.g., KeyboardInterrupt)\u001b[0m\u001b[0;34m\u001b[0m\u001b[0;34m\u001b[0m\u001b[0m\n\u001b[1;32m    301\u001b[0m             \u001b[0;32mif\u001b[0m \u001b[0mtimeout\u001b[0m \u001b[0;32mis\u001b[0m \u001b[0;32mNone\u001b[0m\u001b[0;34m:\u001b[0m\u001b[0;34m\u001b[0m\u001b[0;34m\u001b[0m\u001b[0m\n\u001b[0;32m--> 302\u001b[0;31m                 \u001b[0mwaiter\u001b[0m\u001b[0;34m.\u001b[0m\u001b[0macquire\u001b[0m\u001b[0;34m(\u001b[0m\u001b[0;34m)\u001b[0m\u001b[0;34m\u001b[0m\u001b[0;34m\u001b[0m\u001b[0m\n\u001b[0m\u001b[1;32m    303\u001b[0m                 \u001b[0mgotit\u001b[0m \u001b[0;34m=\u001b[0m \u001b[0;32mTrue\u001b[0m\u001b[0;34m\u001b[0m\u001b[0;34m\u001b[0m\u001b[0m\n\u001b[1;32m    304\u001b[0m             \u001b[0;32melse\u001b[0m\u001b[0;34m:\u001b[0m\u001b[0;34m\u001b[0m\u001b[0;34m\u001b[0m\u001b[0m\n",
      "\u001b[0;31mKeyboardInterrupt\u001b[0m: "
     ]
    },
    {
     "name": "stderr",
     "output_type": "stream",
     "text": [
      "Process ForkProcess-2:\n",
      "Process ForkProcess-3:\n",
      "Traceback (most recent call last):\n",
      "  File \"/usr/lib/python3.8/multiprocessing/process.py\", line 315, in _bootstrap\n",
      "    self.run()\n",
      "  File \"/usr/lib/python3.8/multiprocessing/process.py\", line 108, in run\n",
      "    self._target(*self._args, **self._kwargs)\n",
      "Process ForkProcess-1:\n",
      "Traceback (most recent call last):\n",
      "Traceback (most recent call last):\n",
      "  File \"/usr/lib/python3.8/multiprocessing/process.py\", line 315, in _bootstrap\n",
      "    self.run()\n",
      "  File \"/usr/lib/python3.8/concurrent/futures/process.py\", line 233, in _process_worker\n",
      "    call_item = call_queue.get(block=True)\n",
      "  File \"/usr/lib/python3.8/multiprocessing/process.py\", line 315, in _bootstrap\n",
      "    self.run()\n",
      "  File \"/usr/lib/python3.8/multiprocessing/queues.py\", line 96, in get\n",
      "    with self._rlock:\n",
      "  File \"/usr/lib/python3.8/multiprocessing/process.py\", line 108, in run\n",
      "    self._target(*self._args, **self._kwargs)\n",
      "  File \"/usr/lib/python3.8/multiprocessing/synchronize.py\", line 95, in __enter__\n",
      "    return self._semlock.__enter__()\n",
      "  File \"/usr/lib/python3.8/concurrent/futures/process.py\", line 233, in _process_worker\n",
      "    call_item = call_queue.get(block=True)\n",
      "  File \"/usr/lib/python3.8/multiprocessing/process.py\", line 108, in run\n",
      "    self._target(*self._args, **self._kwargs)\n",
      "  File \"/usr/lib/python3.8/concurrent/futures/process.py\", line 233, in _process_worker\n",
      "    call_item = call_queue.get(block=True)\n",
      "KeyboardInterrupt\n",
      "  File \"/usr/lib/python3.8/multiprocessing/queues.py\", line 96, in get\n",
      "    with self._rlock:\n",
      "  File \"/usr/lib/python3.8/multiprocessing/synchronize.py\", line 95, in __enter__\n",
      "    return self._semlock.__enter__()\n",
      "  File \"/usr/lib/python3.8/multiprocessing/queues.py\", line 97, in get\n",
      "    res = self._recv_bytes()\n",
      "KeyboardInterrupt\n",
      "  File \"/usr/lib/python3.8/multiprocessing/connection.py\", line 216, in recv_bytes\n",
      "    buf = self._recv_bytes(maxlength)\n",
      "  File \"/usr/lib/python3.8/multiprocessing/connection.py\", line 414, in _recv_bytes\n",
      "    buf = self._recv(4)\n",
      "  File \"/usr/lib/python3.8/multiprocessing/connection.py\", line 379, in _recv\n",
      "    chunk = read(handle, remaining)\n",
      "KeyboardInterrupt\n"
     ]
    }
   ],
   "source": [
    "import concurrent.futures\n",
    "\n",
    "texto = 'normalized_text'\n",
    "with concurrent.futures.ProcessPoolExecutor() as executor:\n",
    "    limpio = list(executor.map(clean_text, df[texto]))\n",
    "\n",
    "df[f'{texto}_limpio'] = list(map(lambda x:str(x),limpio))\n",
    "df[f'{texto}_long'] = df[texto].str.len()\n",
    "df[f'{texto}_n_words'] = df[texto].str.split().str.len()\n",
    "df[f'{texto}_relevant'] = (df[f'{texto}_limpio'].str.len()+1) / (df[texto].str.len()+1)\n",
    "\n",
    "df[[texto,f'{texto}_limpio',f'{texto}_long',\n",
    "    f'{texto}_n_words',f'{texto}_relevant']].sample(7)"
   ]
  },
  {
   "cell_type": "code",
   "execution_count": null,
   "metadata": {
    "ExecuteTime": {
     "end_time": "2021-02-06T18:04:16.904622Z",
     "start_time": "2021-02-06T18:03:30.360Z"
    }
   },
   "outputs": [],
   "source": [
    "import concurrent.futures\n",
    "\n",
    "texto = 'normalized_text_limpio'\n",
    "with concurrent.futures.ProcessPoolExecutor() as executor:\n",
    "    sentim = pd.DataFrame(list(executor.map(sentiment,\n",
    "                                            df[texto])))\n",
    "\n",
    "df = df.iloc[:,:-4].reset_index(drop = True).join(sentim)\n",
    "df.sample(4)"
   ]
  },
  {
   "cell_type": "code",
   "execution_count": null,
   "metadata": {
    "ExecuteTime": {
     "end_time": "2021-02-06T18:04:16.907450Z",
     "start_time": "2021-02-06T18:03:30.368Z"
    }
   },
   "outputs": [],
   "source": [
    "df.to_csv(liga + 'simpson_limpio.csv', index = False)"
   ]
  },
  {
   "cell_type": "markdown",
   "metadata": {},
   "source": [
    "## Wordcloud"
   ]
  },
  {
   "cell_type": "code",
   "execution_count": null,
   "metadata": {
    "ExecuteTime": {
     "end_time": "2021-02-06T18:04:16.909489Z",
     "start_time": "2021-02-06T18:03:30.378Z"
    }
   },
   "outputs": [],
   "source": [
    "image_dir = '/home/ef/Desktop/diplomadus/diplomadus/_practicas/images/simpson/'\n",
    "images = ['homer.jpg','marge.png','lisa.png','bart.png']\n",
    "for image in images:\n",
    "    texto = ' '.join(df[df['raw_character_text'] == f'{image[:-4].capitalize()} Simpson']['normalized_text_limpio'])\n",
    "    get_wordcloud(texto,image_dir, image)"
   ]
  },
  {
   "cell_type": "markdown",
   "metadata": {},
   "source": [
    "## TAD"
   ]
  },
  {
   "cell_type": "code",
   "execution_count": 84,
   "metadata": {
    "ExecuteTime": {
     "end_time": "2021-02-06T18:34:37.232742Z",
     "start_time": "2021-02-06T18:34:35.689539Z"
    }
   },
   "outputs": [
    {
     "name": "stderr",
     "output_type": "stream",
     "text": [
      "/home/ef/Desktop/diplomadus/diplomadus/lib/python3.8/site-packages/IPython/core/interactiveshell.py:3145: DtypeWarning: Columns (12) have mixed types.Specify dtype option on import or set low_memory=False.\n",
      "  has_raised = await self.run_ast_nodes(code_ast.body, cell_name,\n"
     ]
    }
   ],
   "source": [
    "df = pd.read_csv(liga + 'simpson_limpio.csv')"
   ]
  },
  {
   "cell_type": "code",
   "execution_count": 85,
   "metadata": {
    "ExecuteTime": {
     "end_time": "2021-02-06T18:34:37.543206Z",
     "start_time": "2021-02-06T18:34:37.237384Z"
    }
   },
   "outputs": [
    {
     "data": {
      "text/html": [
       "<div>\n",
       "<style scoped>\n",
       "    .dataframe tbody tr th:only-of-type {\n",
       "        vertical-align: middle;\n",
       "    }\n",
       "\n",
       "    .dataframe tbody tr th {\n",
       "        vertical-align: top;\n",
       "    }\n",
       "\n",
       "    .dataframe thead th {\n",
       "        text-align: right;\n",
       "    }\n",
       "</style>\n",
       "<table border=\"1\" class=\"dataframe\">\n",
       "  <thead>\n",
       "    <tr style=\"text-align: right;\">\n",
       "      <th></th>\n",
       "      <th>raw_text</th>\n",
       "      <th>speaking_line</th>\n",
       "      <th>raw_character_text</th>\n",
       "      <th>raw_location_text</th>\n",
       "      <th>spoken_words</th>\n",
       "      <th>normalized_text</th>\n",
       "      <th>word_count</th>\n",
       "      <th>normalized_text_limpio</th>\n",
       "      <th>id</th>\n",
       "      <th>episode_id</th>\n",
       "      <th>number</th>\n",
       "      <th>timestamp_in_ms</th>\n",
       "      <th>character_id</th>\n",
       "      <th>location_id</th>\n",
       "      <th>normalized_text_long</th>\n",
       "      <th>normalized_text_n_words</th>\n",
       "      <th>normalized_text_relevant</th>\n",
       "      <th>neg</th>\n",
       "      <th>neu</th>\n",
       "      <th>pos</th>\n",
       "      <th>compound</th>\n",
       "    </tr>\n",
       "  </thead>\n",
       "  <tbody>\n",
       "    <tr>\n",
       "      <th>48175</th>\n",
       "      <td>Bart Simpson: (PUZZLED) You're not mad?</td>\n",
       "      <td>True</td>\n",
       "      <td>Bart Simpson</td>\n",
       "      <td>Springfield Elementary School</td>\n",
       "      <td>You're not mad?</td>\n",
       "      <td>youre not mad</td>\n",
       "      <td>3</td>\n",
       "      <td>youre mad</td>\n",
       "      <td>67187</td>\n",
       "      <td>235</td>\n",
       "      <td>133</td>\n",
       "      <td>573000</td>\n",
       "      <td>8.00</td>\n",
       "      <td>3.00</td>\n",
       "      <td>13</td>\n",
       "      <td>3</td>\n",
       "      <td>0.71</td>\n",
       "      <td>0.76</td>\n",
       "      <td>0.24</td>\n",
       "      <td>0.00</td>\n",
       "      <td>-0.49</td>\n",
       "    </tr>\n",
       "  </tbody>\n",
       "</table>\n",
       "</div>"
      ],
      "text/plain": [
       "                                      raw_text  speaking_line  \\\n",
       "48175  Bart Simpson: (PUZZLED) You're not mad?           True   \n",
       "\n",
       "      raw_character_text              raw_location_text     spoken_words  \\\n",
       "48175       Bart Simpson  Springfield Elementary School  You're not mad?   \n",
       "\n",
       "      normalized_text word_count normalized_text_limpio     id  episode_id  \\\n",
       "48175   youre not mad          3              youre mad  67187         235   \n",
       "\n",
       "       number  timestamp_in_ms  character_id  location_id  \\\n",
       "48175     133           573000          8.00         3.00   \n",
       "\n",
       "       normalized_text_long  normalized_text_n_words  \\\n",
       "48175                    13                        3   \n",
       "\n",
       "       normalized_text_relevant  neg  neu  pos  compound  \n",
       "48175                      0.71 0.76 0.24 0.00     -0.49  "
      ]
     },
     "execution_count": 85,
     "metadata": {},
     "output_type": "execute_result"
    }
   ],
   "source": [
    "num = [x for x in df.describe().columns]\n",
    "cat = [x for x in df.columns if x not in num]\n",
    "\n",
    "df = df[cat+num].copy()\n",
    "df.sample()"
   ]
  },
  {
   "cell_type": "code",
   "execution_count": 86,
   "metadata": {
    "ExecuteTime": {
     "end_time": "2021-02-06T18:34:37.595201Z",
     "start_time": "2021-02-06T18:34:37.548158Z"
    }
   },
   "outputs": [
    {
     "data": {
      "text/html": [
       "<div>\n",
       "<style scoped>\n",
       "    .dataframe tbody tr th:only-of-type {\n",
       "        vertical-align: middle;\n",
       "    }\n",
       "\n",
       "    .dataframe tbody tr th {\n",
       "        vertical-align: top;\n",
       "    }\n",
       "\n",
       "    .dataframe thead th {\n",
       "        text-align: right;\n",
       "    }\n",
       "</style>\n",
       "<table border=\"1\" class=\"dataframe\">\n",
       "  <thead>\n",
       "    <tr style=\"text-align: right;\">\n",
       "      <th></th>\n",
       "      <th>id</th>\n",
       "      <th>image_url</th>\n",
       "      <th>imdb_rating</th>\n",
       "      <th>imdb_votes</th>\n",
       "      <th>number_in_season</th>\n",
       "      <th>number_in_series</th>\n",
       "      <th>original_air_date</th>\n",
       "      <th>original_air_year</th>\n",
       "      <th>production_code</th>\n",
       "      <th>season</th>\n",
       "      <th>title</th>\n",
       "      <th>us_viewers_in_millions</th>\n",
       "      <th>video_url</th>\n",
       "      <th>views</th>\n",
       "    </tr>\n",
       "  </thead>\n",
       "  <tbody>\n",
       "    <tr>\n",
       "      <th>82</th>\n",
       "      <td>222</td>\n",
       "      <td>http://static-media.fxx.com/img/FX_Networks_-_...</td>\n",
       "      <td>7.60</td>\n",
       "      <td>831.00</td>\n",
       "      <td>19</td>\n",
       "      <td>222</td>\n",
       "      <td>1999-04-11</td>\n",
       "      <td>1999</td>\n",
       "      <td>AABF15</td>\n",
       "      <td>10</td>\n",
       "      <td>Mom and Pop Art</td>\n",
       "      <td>8.50</td>\n",
       "      <td>http://www.simpsonsworld.com/video/310457411688</td>\n",
       "      <td>47851.00</td>\n",
       "    </tr>\n",
       "  </tbody>\n",
       "</table>\n",
       "</div>"
      ],
      "text/plain": [
       "     id                                          image_url  imdb_rating  \\\n",
       "82  222  http://static-media.fxx.com/img/FX_Networks_-_...         7.60   \n",
       "\n",
       "    imdb_votes  number_in_season  number_in_series original_air_date  \\\n",
       "82      831.00                19               222        1999-04-11   \n",
       "\n",
       "    original_air_year production_code  season            title  \\\n",
       "82               1999          AABF15      10  Mom and Pop Art   \n",
       "\n",
       "    us_viewers_in_millions                                        video_url  \\\n",
       "82                    8.50  http://www.simpsonsworld.com/video/310457411688   \n",
       "\n",
       "      views  \n",
       "82 47851.00  "
      ]
     },
     "execution_count": 86,
     "metadata": {},
     "output_type": "execute_result"
    }
   ],
   "source": [
    "ep = pd.read_csv(liga + 'simpsons_episodes.csv')\n",
    "ep.sample()"
   ]
  },
  {
   "cell_type": "code",
   "execution_count": 87,
   "metadata": {
    "ExecuteTime": {
     "end_time": "2021-02-06T18:34:37.765081Z",
     "start_time": "2021-02-06T18:34:37.600409Z"
    }
   },
   "outputs": [
    {
     "data": {
      "text/plain": [
       "Index(['raw_text', 'speaking_line', 'raw_character_text', 'raw_location_text',\n",
       "       'spoken_words', 'normalized_text', 'word_count',\n",
       "       'normalized_text_limpio', 'id_x', 'episode_id', 'number',\n",
       "       'timestamp_in_ms', 'character_id', 'location_id',\n",
       "       'normalized_text_long', 'normalized_text_n_words',\n",
       "       'normalized_text_relevant', 'neg', 'neu', 'pos', 'compound', 'id_y',\n",
       "       'imdb_rating'],\n",
       "      dtype='object')"
      ]
     },
     "execution_count": 87,
     "metadata": {},
     "output_type": "execute_result"
    }
   ],
   "source": [
    "df = df.merge(ep[['id','imdb_rating']], \n",
    "              left_on = 'episode_id', \n",
    "              right_on = 'id', \n",
    "              how = 'left')\n",
    "df.columns"
   ]
  },
  {
   "cell_type": "code",
   "execution_count": 88,
   "metadata": {
    "ExecuteTime": {
     "end_time": "2021-02-06T18:34:37.867078Z",
     "start_time": "2021-02-06T18:34:37.768768Z"
    }
   },
   "outputs": [
    {
     "data": {
      "text/html": [
       "<div>\n",
       "<style scoped>\n",
       "    .dataframe tbody tr th:only-of-type {\n",
       "        vertical-align: middle;\n",
       "    }\n",
       "\n",
       "    .dataframe tbody tr th {\n",
       "        vertical-align: top;\n",
       "    }\n",
       "\n",
       "    .dataframe thead th {\n",
       "        text-align: right;\n",
       "    }\n",
       "</style>\n",
       "<table border=\"1\" class=\"dataframe\">\n",
       "  <thead>\n",
       "    <tr style=\"text-align: right;\">\n",
       "      <th></th>\n",
       "      <th>raw_text</th>\n",
       "      <th>speaking_line</th>\n",
       "      <th>raw_character_text</th>\n",
       "      <th>raw_location_text</th>\n",
       "      <th>spoken_words</th>\n",
       "      <th>normalized_text</th>\n",
       "      <th>word_count</th>\n",
       "      <th>normalized_text_limpio</th>\n",
       "      <th>id_x</th>\n",
       "      <th>episode_id</th>\n",
       "      <th>number</th>\n",
       "      <th>timestamp_in_ms</th>\n",
       "      <th>character_id</th>\n",
       "      <th>location_id</th>\n",
       "      <th>normalized_text_long</th>\n",
       "      <th>normalized_text_n_words</th>\n",
       "      <th>normalized_text_relevant</th>\n",
       "      <th>neg</th>\n",
       "      <th>neu</th>\n",
       "      <th>pos</th>\n",
       "      <th>compound</th>\n",
       "      <th>id_y</th>\n",
       "      <th>imdb_rating</th>\n",
       "    </tr>\n",
       "  </thead>\n",
       "  <tbody>\n",
       "    <tr>\n",
       "      <th>91759</th>\n",
       "      <td>Marge Simpson: (SING-SONG, ENTICING) They have...</td>\n",
       "      <td>True</td>\n",
       "      <td>Marge Simpson</td>\n",
       "      <td>Kozy Kabins</td>\n",
       "      <td>They have a pe-dal car.</td>\n",
       "      <td>they have a pe-dal car</td>\n",
       "      <td>5</td>\n",
       "      <td>pe dal car</td>\n",
       "      <td>120416</td>\n",
       "      <td>425</td>\n",
       "      <td>125</td>\n",
       "      <td>483000</td>\n",
       "      <td>1.00</td>\n",
       "      <td>3479.00</td>\n",
       "      <td>22</td>\n",
       "      <td>5</td>\n",
       "      <td>0.48</td>\n",
       "      <td>0.00</td>\n",
       "      <td>1.00</td>\n",
       "      <td>0.00</td>\n",
       "      <td>0.00</td>\n",
       "      <td>425</td>\n",
       "      <td>6.60</td>\n",
       "    </tr>\n",
       "  </tbody>\n",
       "</table>\n",
       "</div>"
      ],
      "text/plain": [
       "                                                raw_text  speaking_line  \\\n",
       "91759  Marge Simpson: (SING-SONG, ENTICING) They have...           True   \n",
       "\n",
       "      raw_character_text raw_location_text             spoken_words  \\\n",
       "91759      Marge Simpson       Kozy Kabins  They have a pe-dal car.   \n",
       "\n",
       "              normalized_text word_count normalized_text_limpio    id_x  \\\n",
       "91759  they have a pe-dal car          5             pe dal car  120416   \n",
       "\n",
       "       episode_id  number  timestamp_in_ms  character_id  location_id  \\\n",
       "91759         425     125           483000          1.00      3479.00   \n",
       "\n",
       "       normalized_text_long  normalized_text_n_words  \\\n",
       "91759                    22                        5   \n",
       "\n",
       "       normalized_text_relevant  neg  neu  pos  compound  id_y  imdb_rating  \n",
       "91759                      0.48 0.00 1.00 0.00      0.00   425         6.60  "
      ]
     },
     "execution_count": 88,
     "metadata": {},
     "output_type": "execute_result"
    }
   ],
   "source": [
    "df.sample()"
   ]
  },
  {
   "cell_type": "code",
   "execution_count": 89,
   "metadata": {
    "ExecuteTime": {
     "end_time": "2021-02-06T18:34:37.953242Z",
     "start_time": "2021-02-06T18:34:37.874296Z"
    }
   },
   "outputs": [],
   "source": [
    "grupo = ['word_count', 'normalized_text_long','normalized_text_relevant', \n",
    "         'neg', 'neu','pos', 'compound', 'imdb_rating']\n",
    "\n",
    "X = df.groupby('raw_character_text')[grupo].mean()"
   ]
  },
  {
   "cell_type": "markdown",
   "metadata": {},
   "source": [
    "## Preprocesamiento"
   ]
  },
  {
   "cell_type": "code",
   "execution_count": 90,
   "metadata": {
    "ExecuteTime": {
     "end_time": "2021-02-06T18:34:38.049037Z",
     "start_time": "2021-02-06T18:34:37.960580Z"
    }
   },
   "outputs": [
    {
     "data": {
      "text/html": [
       "<div>\n",
       "<style scoped>\n",
       "    .dataframe tbody tr th:only-of-type {\n",
       "        vertical-align: middle;\n",
       "    }\n",
       "\n",
       "    .dataframe tbody tr th {\n",
       "        vertical-align: top;\n",
       "    }\n",
       "\n",
       "    .dataframe thead th {\n",
       "        text-align: right;\n",
       "    }\n",
       "</style>\n",
       "<table border=\"1\" class=\"dataframe\">\n",
       "  <thead>\n",
       "    <tr style=\"text-align: right;\">\n",
       "      <th></th>\n",
       "      <th>normalized_text_long</th>\n",
       "      <th>normalized_text_relevant</th>\n",
       "      <th>neg</th>\n",
       "      <th>neu</th>\n",
       "      <th>pos</th>\n",
       "      <th>compound</th>\n",
       "      <th>imdb_rating</th>\n",
       "    </tr>\n",
       "  </thead>\n",
       "  <tbody>\n",
       "    <tr>\n",
       "      <th>count</th>\n",
       "      <td>6249.00</td>\n",
       "      <td>6249.00</td>\n",
       "      <td>6249.00</td>\n",
       "      <td>6249.00</td>\n",
       "      <td>6249.00</td>\n",
       "      <td>6249.00</td>\n",
       "      <td>6249.00</td>\n",
       "    </tr>\n",
       "    <tr>\n",
       "      <th>mean</th>\n",
       "      <td>0.12</td>\n",
       "      <td>0.70</td>\n",
       "      <td>0.10</td>\n",
       "      <td>0.71</td>\n",
       "      <td>0.17</td>\n",
       "      <td>0.53</td>\n",
       "      <td>0.62</td>\n",
       "    </tr>\n",
       "    <tr>\n",
       "      <th>std</th>\n",
       "      <td>0.08</td>\n",
       "      <td>0.15</td>\n",
       "      <td>0.17</td>\n",
       "      <td>0.25</td>\n",
       "      <td>0.20</td>\n",
       "      <td>0.14</td>\n",
       "      <td>0.15</td>\n",
       "    </tr>\n",
       "    <tr>\n",
       "      <th>min</th>\n",
       "      <td>0.00</td>\n",
       "      <td>0.00</td>\n",
       "      <td>0.00</td>\n",
       "      <td>0.00</td>\n",
       "      <td>0.00</td>\n",
       "      <td>0.00</td>\n",
       "      <td>0.00</td>\n",
       "    </tr>\n",
       "    <tr>\n",
       "      <th>25%</th>\n",
       "      <td>0.06</td>\n",
       "      <td>0.62</td>\n",
       "      <td>0.00</td>\n",
       "      <td>0.57</td>\n",
       "      <td>0.00</td>\n",
       "      <td>0.49</td>\n",
       "      <td>0.52</td>\n",
       "    </tr>\n",
       "    <tr>\n",
       "      <th>50%</th>\n",
       "      <td>0.10</td>\n",
       "      <td>0.69</td>\n",
       "      <td>0.00</td>\n",
       "      <td>0.72</td>\n",
       "      <td>0.14</td>\n",
       "      <td>0.50</td>\n",
       "      <td>0.60</td>\n",
       "    </tr>\n",
       "    <tr>\n",
       "      <th>75%</th>\n",
       "      <td>0.15</td>\n",
       "      <td>0.78</td>\n",
       "      <td>0.14</td>\n",
       "      <td>1.00</td>\n",
       "      <td>0.27</td>\n",
       "      <td>0.60</td>\n",
       "      <td>0.73</td>\n",
       "    </tr>\n",
       "    <tr>\n",
       "      <th>max</th>\n",
       "      <td>1.00</td>\n",
       "      <td>1.00</td>\n",
       "      <td>1.00</td>\n",
       "      <td>1.00</td>\n",
       "      <td>1.00</td>\n",
       "      <td>1.00</td>\n",
       "      <td>1.00</td>\n",
       "    </tr>\n",
       "  </tbody>\n",
       "</table>\n",
       "</div>"
      ],
      "text/plain": [
       "       normalized_text_long  normalized_text_relevant     neg     neu     pos  \\\n",
       "count               6249.00                   6249.00 6249.00 6249.00 6249.00   \n",
       "mean                   0.12                      0.70    0.10    0.71    0.17   \n",
       "std                    0.08                      0.15    0.17    0.25    0.20   \n",
       "min                    0.00                      0.00    0.00    0.00    0.00   \n",
       "25%                    0.06                      0.62    0.00    0.57    0.00   \n",
       "50%                    0.10                      0.69    0.00    0.72    0.14   \n",
       "75%                    0.15                      0.78    0.14    1.00    0.27   \n",
       "max                    1.00                      1.00    1.00    1.00    1.00   \n",
       "\n",
       "       compound  imdb_rating  \n",
       "count   6249.00      6249.00  \n",
       "mean       0.53         0.62  \n",
       "std        0.14         0.15  \n",
       "min        0.00         0.00  \n",
       "25%        0.49         0.52  \n",
       "50%        0.50         0.60  \n",
       "75%        0.60         0.73  \n",
       "max        1.00         1.00  "
      ]
     },
     "execution_count": 90,
     "metadata": {},
     "output_type": "execute_result"
    }
   ],
   "source": [
    "from sklearn.preprocessing import MinMaxScaler\n",
    "mm_x = MinMaxScaler()\n",
    "\n",
    "Xs = pd.DataFrame(mm_x.fit_transform(X),\n",
    "                  index = X.index, \n",
    "                  columns = X.columns)\n",
    "\n",
    "Xs.describe()"
   ]
  },
  {
   "cell_type": "markdown",
   "metadata": {},
   "source": [
    "## Clúster"
   ]
  },
  {
   "cell_type": "code",
   "execution_count": 91,
   "metadata": {
    "ExecuteTime": {
     "end_time": "2021-02-06T18:34:39.816383Z",
     "start_time": "2021-02-06T18:34:38.056506Z"
    }
   },
   "outputs": [
    {
     "data": {
      "text/plain": [
       "<seaborn.axisgrid.FacetGrid at 0x7fec3fecc7f0>"
      ]
     },
     "execution_count": 91,
     "metadata": {},
     "output_type": "execute_result"
    },
    {
     "data": {
      "image/png": "[encoded data removed]",
      "text/plain": [
       "<Figure size 403.5x360 with 1 Axes>"
      ]
     },
     "metadata": {
      "needs_background": "light"
     },
     "output_type": "display_data"
    }
   ],
   "source": [
    "import seaborn as sns\n",
    "from sklearn.decomposition import PCA\n",
    "from sklearn.mixture import GaussianMixture\n",
    "\n",
    "cluster = GaussianMixture(n_components = 4, random_state = 22)\n",
    "pca = PCA(n_components = 2)\n",
    "Xa = pd.DataFrame(pca.fit_transform(Xs),\n",
    "                  index = Xs.index, \n",
    "                  columns=[\"p1\", \"p2\"])\n",
    "\n",
    "X['Cluster'] = Xa['Cluster'] = (cluster.fit_predict(Xa) + 1).astype(str)\n",
    "sns.lmplot(data = Xa,\n",
    "           x = 'p1',\n",
    "           y = 'p2',\n",
    "           fit_reg = False, \n",
    "           hue = 'Cluster', \n",
    "           palette = 'Paired')"
   ]
  },
  {
   "cell_type": "code",
   "execution_count": 92,
   "metadata": {
    "ExecuteTime": {
     "end_time": "2021-02-06T18:34:40.133261Z",
     "start_time": "2021-02-06T18:34:39.824084Z"
    }
   },
   "outputs": [],
   "source": [
    "df = df.set_index('raw_character_text').join(Xa['Cluster'])"
   ]
  },
  {
   "cell_type": "code",
   "execution_count": 93,
   "metadata": {
    "ExecuteTime": {
     "end_time": "2021-02-06T18:34:40.312018Z",
     "start_time": "2021-02-06T18:34:40.139188Z"
    }
   },
   "outputs": [
    {
     "data": {
      "text/html": [
       "<div>\n",
       "<style scoped>\n",
       "    .dataframe tbody tr th:only-of-type {\n",
       "        vertical-align: middle;\n",
       "    }\n",
       "\n",
       "    .dataframe tbody tr th {\n",
       "        vertical-align: top;\n",
       "    }\n",
       "\n",
       "    .dataframe thead th {\n",
       "        text-align: right;\n",
       "    }\n",
       "</style>\n",
       "<table border=\"1\" class=\"dataframe\">\n",
       "  <thead>\n",
       "    <tr style=\"text-align: right;\">\n",
       "      <th>Cluster</th>\n",
       "      <th>1</th>\n",
       "      <th>2</th>\n",
       "      <th>3</th>\n",
       "      <th>4</th>\n",
       "    </tr>\n",
       "  </thead>\n",
       "  <tbody>\n",
       "    <tr>\n",
       "      <th>speaking_line</th>\n",
       "      <td>True</td>\n",
       "      <td>True</td>\n",
       "      <td>True</td>\n",
       "      <td>True</td>\n",
       "    </tr>\n",
       "    <tr>\n",
       "      <th>id_x</th>\n",
       "      <td>78343.73</td>\n",
       "      <td>77317.52</td>\n",
       "      <td>81453.25</td>\n",
       "      <td>82016.82</td>\n",
       "    </tr>\n",
       "    <tr>\n",
       "      <th>episode_id</th>\n",
       "      <td>275.55</td>\n",
       "      <td>271.77</td>\n",
       "      <td>286.46</td>\n",
       "      <td>288.45</td>\n",
       "    </tr>\n",
       "    <tr>\n",
       "      <th>number</th>\n",
       "      <td>142.64</td>\n",
       "      <td>141.88</td>\n",
       "      <td>136.65</td>\n",
       "      <td>149.39</td>\n",
       "    </tr>\n",
       "    <tr>\n",
       "      <th>timestamp_in_ms</th>\n",
       "      <td>667155.66</td>\n",
       "      <td>653864.08</td>\n",
       "      <td>644425.24</td>\n",
       "      <td>694579.25</td>\n",
       "    </tr>\n",
       "    <tr>\n",
       "      <th>character_id</th>\n",
       "      <td>534.12</td>\n",
       "      <td>3218.03</td>\n",
       "      <td>3447.49</td>\n",
       "      <td>3323.52</td>\n",
       "    </tr>\n",
       "    <tr>\n",
       "      <th>location_id</th>\n",
       "      <td>814.51</td>\n",
       "      <td>1123.10</td>\n",
       "      <td>1148.00</td>\n",
       "      <td>1162.52</td>\n",
       "    </tr>\n",
       "    <tr>\n",
       "      <th>normalized_text_long</th>\n",
       "      <td>49.76</td>\n",
       "      <td>52.04</td>\n",
       "      <td>32.83</td>\n",
       "      <td>47.76</td>\n",
       "    </tr>\n",
       "    <tr>\n",
       "      <th>normalized_text_n_words</th>\n",
       "      <td>9.95</td>\n",
       "      <td>10.19</td>\n",
       "      <td>6.46</td>\n",
       "      <td>9.45</td>\n",
       "    </tr>\n",
       "    <tr>\n",
       "      <th>normalized_text_relevant</th>\n",
       "      <td>0.69</td>\n",
       "      <td>0.71</td>\n",
       "      <td>0.75</td>\n",
       "      <td>0.66</td>\n",
       "    </tr>\n",
       "    <tr>\n",
       "      <th>neg</th>\n",
       "      <td>0.10</td>\n",
       "      <td>0.01</td>\n",
       "      <td>0.00</td>\n",
       "      <td>0.34</td>\n",
       "    </tr>\n",
       "    <tr>\n",
       "      <th>neu</th>\n",
       "      <td>0.70</td>\n",
       "      <td>0.50</td>\n",
       "      <td>1.00</td>\n",
       "      <td>0.46</td>\n",
       "    </tr>\n",
       "    <tr>\n",
       "      <th>pos</th>\n",
       "      <td>0.19</td>\n",
       "      <td>0.49</td>\n",
       "      <td>0.00</td>\n",
       "      <td>0.15</td>\n",
       "    </tr>\n",
       "    <tr>\n",
       "      <th>compound</th>\n",
       "      <td>0.09</td>\n",
       "      <td>0.45</td>\n",
       "      <td>0.00</td>\n",
       "      <td>-0.18</td>\n",
       "    </tr>\n",
       "    <tr>\n",
       "      <th>id_y</th>\n",
       "      <td>275.55</td>\n",
       "      <td>271.77</td>\n",
       "      <td>286.46</td>\n",
       "      <td>288.45</td>\n",
       "    </tr>\n",
       "    <tr>\n",
       "      <th>imdb_rating</th>\n",
       "      <td>7.44</td>\n",
       "      <td>7.44</td>\n",
       "      <td>7.44</td>\n",
       "      <td>7.37</td>\n",
       "    </tr>\n",
       "  </tbody>\n",
       "</table>\n",
       "</div>"
      ],
      "text/plain": [
       "Cluster                          1         2         3         4\n",
       "speaking_line                 True      True      True      True\n",
       "id_x                      78343.73  77317.52  81453.25  82016.82\n",
       "episode_id                  275.55    271.77    286.46    288.45\n",
       "number                      142.64    141.88    136.65    149.39\n",
       "timestamp_in_ms          667155.66 653864.08 644425.24 694579.25\n",
       "character_id                534.12   3218.03   3447.49   3323.52\n",
       "location_id                 814.51   1123.10   1148.00   1162.52\n",
       "normalized_text_long         49.76     52.04     32.83     47.76\n",
       "normalized_text_n_words       9.95     10.19      6.46      9.45\n",
       "normalized_text_relevant      0.69      0.71      0.75      0.66\n",
       "neg                           0.10      0.01      0.00      0.34\n",
       "neu                           0.70      0.50      1.00      0.46\n",
       "pos                           0.19      0.49      0.00      0.15\n",
       "compound                      0.09      0.45      0.00     -0.18\n",
       "id_y                        275.55    271.77    286.46    288.45\n",
       "imdb_rating                   7.44      7.44      7.44      7.37"
      ]
     },
     "execution_count": 93,
     "metadata": {},
     "output_type": "execute_result"
    }
   ],
   "source": [
    "df.groupby('Cluster').mean().transpose()"
   ]
  },
  {
   "cell_type": "code",
   "execution_count": 94,
   "metadata": {
    "ExecuteTime": {
     "end_time": "2021-02-06T18:34:40.674444Z",
     "start_time": "2021-02-06T18:34:40.322781Z"
    }
   },
   "outputs": [
    {
     "data": {
      "text/plain": [
       "{'Bart Simpson1',\n",
       " 'Dr. Simpson1',\n",
       " 'Grampa Simpson1',\n",
       " 'Great Grampa Simpson3',\n",
       " 'Homer Simpson1',\n",
       " 'Lisa Simpson1',\n",
       " 'Maggie Simpson1',\n",
       " 'Marge Simpson1',\n",
       " 'Mona Simpson1',\n",
       " 'Virgil Simpson1'}"
      ]
     },
     "execution_count": 94,
     "metadata": {},
     "output_type": "execute_result"
    }
   ],
   "source": [
    "simp = [x for x in set(df.reset_index()['raw_character_text']) if x.endswith('Simpson')]\n",
    "\n",
    "aux = df.reset_index()[['raw_character_text','Cluster']]\n",
    "\n",
    "lista = []\n",
    "for x,y in zip(aux['raw_character_text'],aux['Cluster']):\n",
    "    if x in simp:\n",
    "        lista.append(x + str(y))\n",
    "        \n",
    "\n",
    "set(lista)"
   ]
  },
  {
   "cell_type": "code",
   "execution_count": 96,
   "metadata": {
    "ExecuteTime": {
     "end_time": "2021-02-06T18:34:56.284900Z",
     "start_time": "2021-02-06T18:34:56.274389Z"
    }
   },
   "outputs": [
    {
     "data": {
      "text/plain": [
       "1   0.43\n",
       "3   0.26\n",
       "4   0.16\n",
       "2   0.15\n",
       "Name: Cluster, dtype: float64"
      ]
     },
     "execution_count": 96,
     "metadata": {},
     "output_type": "execute_result"
    }
   ],
   "source": [
    "X['Cluster'].value_counts(1)"
   ]
  }
 ],
 "metadata": {
  "kernelspec": {
   "display_name": "Python 3",
   "language": "python",
   "name": "python3"
  },
  "language_info": {
   "codemirror_mode": {
    "name": "ipython",
    "version": 3
   },
   "file_extension": ".py",
   "mimetype": "text/x-python",
   "name": "python",
   "nbconvert_exporter": "python",
   "pygments_lexer": "ipython3",
   "version": "3.8.5"
  },
  "toc": {
   "base_numbering": 1,
   "nav_menu": {},
   "number_sections": true,
   "sideBar": true,
   "skip_h1_title": true,
   "title_cell": "Table of Contents",
   "title_sidebar": "Contents",
   "toc_cell": false,
   "toc_position": {
    "height": "calc(100% - 180px)",
    "left": "10px",
    "top": "150px",
    "width": "361.594px"
   },
   "toc_section_display": true,
   "toc_window_display": true
  },
  "varInspector": {
   "cols": {
    "lenName": 16,
    "lenType": 16,
    "lenVar": 40
   },
   "kernels_config": {
    "python": {
     "delete_cmd_postfix": "",
     "delete_cmd_prefix": "del ",
     "library": "var_list.py",
     "varRefreshCmd": "print(var_dic_list())"
    },
    "r": {
     "delete_cmd_postfix": ") ",
     "delete_cmd_prefix": "rm(",
     "library": "var_list.r",
     "varRefreshCmd": "cat(var_dic_list()) "
    }
   },
   "types_to_exclude": [
    "module",
    "function",
    "builtin_function_or_method",
    "instance",
    "_Feature"
   ],
   "window_display": false
  }
 },
 "nbformat": 4,
 "nbformat_minor": 4
}
