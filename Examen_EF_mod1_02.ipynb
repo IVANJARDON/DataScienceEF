{
 "cells": [
  {
   "cell_type": "markdown",
   "metadata": {},
   "source": [
    "# Examen 2, módulo I"
   ]
  },
  {
   "cell_type": "markdown",
   "metadata": {},
   "source": [
    "## Importar"
   ]
  },
  {
   "cell_type": "code",
   "execution_count": 1,
   "metadata": {
    "ExecuteTime": {
     "end_time": "2020-09-26T18:05:24.092753Z",
     "start_time": "2020-09-26T18:05:22.609198Z"
    }
   },
   "outputs": [],
   "source": [
    "# %load basic\n",
    "import pandas as pd\n",
    "import numpy as np\n",
    "import matplotlib.pyplot as plt\n",
    "pd.set_option('display.max_columns',200)"
   ]
  },
  {
   "cell_type": "code",
   "execution_count": 2,
   "metadata": {
    "ExecuteTime": {
     "end_time": "2020-09-26T18:05:24.128357Z",
     "start_time": "2020-09-26T18:05:24.103584Z"
    }
   },
   "outputs": [],
   "source": [
    "## Definir tono de audio\n",
    "from IPython.lib.display import Audio\n",
    "\n",
    "framerate = 4410\n",
    "play_time_seconds = 1\n",
    "\n",
    "t = np.linspace(0, play_time_seconds, framerate*play_time_seconds)\n",
    "audio_data = np.sin(5*np.pi*300*t) + np.sin(2*np.pi*240*t)"
   ]
  },
  {
   "cell_type": "code",
   "execution_count": 3,
   "metadata": {
    "ExecuteTime": {
     "end_time": "2020-09-26T18:05:24.424881Z",
     "start_time": "2020-09-26T18:05:24.136164Z"
    }
   },
   "outputs": [
    {
     "data": {
      "text/plain": [
       "{'encoding': 'utf-8', 'confidence': 0.505, 'language': ''}"
      ]
     },
     "execution_count": 3,
     "metadata": {},
     "output_type": "execute_result"
    }
   ],
   "source": [
    "import chardet\n",
    "\n",
    "with open('/home/ef/Documents/Diplomado/EXAMEN01/sinac2019DatosAbiertos.csv', 'rb') as rawdata:\n",
    "    result = chardet.detect(rawdata.read(10000))\n",
    "   \n",
    "result"
   ]
  },
  {
   "cell_type": "code",
   "execution_count": 4,
   "metadata": {
    "ExecuteTime": {
     "end_time": "2020-09-26T18:06:04.516787Z",
     "start_time": "2020-09-26T18:05:24.433149Z"
    }
   },
   "outputs": [
    {
     "data": {
      "text/html": [
       "<div>\n",
       "<style scoped>\n",
       "    .dataframe tbody tr th:only-of-type {\n",
       "        vertical-align: middle;\n",
       "    }\n",
       "\n",
       "    .dataframe tbody tr th {\n",
       "        vertical-align: top;\n",
       "    }\n",
       "\n",
       "    .dataframe thead th {\n",
       "        text-align: right;\n",
       "    }\n",
       "</style>\n",
       "<table border=\"1\" class=\"dataframe\">\n",
       "  <thead>\n",
       "    <tr style=\"text-align: right;\">\n",
       "      <th></th>\n",
       "      <th>CEDOCVE</th>\n",
       "      <th>ENT_NACM</th>\n",
       "      <th>MPO_NACM</th>\n",
       "      <th>FECH_NACM</th>\n",
       "      <th>EDADM</th>\n",
       "      <th>CON_INDM</th>\n",
       "      <th>HABLA_INDM</th>\n",
       "      <th>CUAL_LENGM</th>\n",
       "      <th>EDOCIVIL</th>\n",
       "      <th>TIPOVIAL_RES</th>\n",
       "      <th>TIPOASEN_RES</th>\n",
       "      <th>ENT_RES</th>\n",
       "      <th>MPO_RES</th>\n",
       "      <th>LOC_RES</th>\n",
       "      <th>NUM_EMB</th>\n",
       "      <th>NUM_NACMTO</th>\n",
       "      <th>NUM_NACVIVO</th>\n",
       "      <th>HIJO_SOBV</th>\n",
       "      <th>HIJO_ANTE</th>\n",
       "      <th>VIVE_AUN</th>\n",
       "      <th>ORDEN_NAC</th>\n",
       "      <th>ATEN_PREN</th>\n",
       "      <th>TRIM_CONS</th>\n",
       "      <th>TOT_CONS</th>\n",
       "      <th>SOB_PARTO</th>\n",
       "      <th>DERHAB</th>\n",
       "      <th>DERHAB2</th>\n",
       "      <th>NIV_ESCOL</th>\n",
       "      <th>OCUPHAB</th>\n",
       "      <th>CVEOCUPHAB</th>\n",
       "      <th>TRAB_ACT</th>\n",
       "      <th>FECH_NACH</th>\n",
       "      <th>HORA_NACH</th>\n",
       "      <th>SEXOH</th>\n",
       "      <th>GESTACH</th>\n",
       "      <th>TALLAH</th>\n",
       "      <th>PESOH</th>\n",
       "      <th>APGARH</th>\n",
       "      <th>SILVERMAN</th>\n",
       "      <th>BCG</th>\n",
       "      <th>HEP_B</th>\n",
       "      <th>VIT_A</th>\n",
       "      <th>VIT_K</th>\n",
       "      <th>TAM_AUD</th>\n",
       "      <th>PRODUCTO</th>\n",
       "      <th>ACELRN</th>\n",
       "      <th>CVE_CIE</th>\n",
       "      <th>ACELRN2</th>\n",
       "      <th>CVE_CIE2</th>\n",
       "      <th>PROCNAC</th>\n",
       "      <th>FORCEPS</th>\n",
       "      <th>ESPECIFIQUE</th>\n",
       "      <th>INST_NAC</th>\n",
       "      <th>UNIMED</th>\n",
       "      <th>CLUES</th>\n",
       "      <th>ATENDIO</th>\n",
       "      <th>ATEN_OTRO</th>\n",
       "      <th>TIPOVIAL_NAC</th>\n",
       "      <th>TIPOASEN_NAC</th>\n",
       "      <th>ENT_NAC</th>\n",
       "      <th>MPO_NAC</th>\n",
       "      <th>LOC_NAC</th>\n",
       "      <th>CERT_POR</th>\n",
       "      <th>OTROMEDICO</th>\n",
       "      <th>UNIMED_33_1</th>\n",
       "      <th>CLUES_33_2</th>\n",
       "      <th>TIPOVIAL_CERT</th>\n",
       "      <th>TIPOASEN_CERT</th>\n",
       "      <th>ENT_CERT</th>\n",
       "      <th>MPO_CERT</th>\n",
       "      <th>LOC_CERT</th>\n",
       "      <th>FECH_CERT</th>\n",
       "      <th>FECH_ALTA</th>\n",
       "      <th>FECH_CAMB</th>\n",
       "      <th>IDCAPTURA</th>\n",
       "      <th>TIPO_FORMATO</th>\n",
       "    </tr>\n",
       "  </thead>\n",
       "  <tbody>\n",
       "    <tr>\n",
       "      <th>280271</th>\n",
       "      <td>8</td>\n",
       "      <td>8</td>\n",
       "      <td>37.0</td>\n",
       "      <td>04/02/1999</td>\n",
       "      <td>20</td>\n",
       "      <td>2.0</td>\n",
       "      <td>2.0</td>\n",
       "      <td>9999</td>\n",
       "      <td>12</td>\n",
       "      <td>5.0</td>\n",
       "      <td>7.0</td>\n",
       "      <td>8</td>\n",
       "      <td>37</td>\n",
       "      <td>1</td>\n",
       "      <td>1</td>\n",
       "      <td>0</td>\n",
       "      <td>1</td>\n",
       "      <td>1</td>\n",
       "      <td>3</td>\n",
       "      <td>0</td>\n",
       "      <td>1</td>\n",
       "      <td>1</td>\n",
       "      <td>1</td>\n",
       "      <td>8</td>\n",
       "      <td>1</td>\n",
       "      <td>2</td>\n",
       "      <td>0</td>\n",
       "      <td>5</td>\n",
       "      <td>OPERADORA</td>\n",
       "      <td>13</td>\n",
       "      <td>1</td>\n",
       "      <td>06/04/2019</td>\n",
       "      <td>03:08:00</td>\n",
       "      <td>1</td>\n",
       "      <td>39</td>\n",
       "      <td>53</td>\n",
       "      <td>3570</td>\n",
       "      <td>9</td>\n",
       "      <td>0</td>\n",
       "      <td>2</td>\n",
       "      <td>2</td>\n",
       "      <td>2</td>\n",
       "      <td>1</td>\n",
       "      <td>2</td>\n",
       "      <td>1</td>\n",
       "      <td>NINGUNA APARENTE</td>\n",
       "      <td>0000</td>\n",
       "      <td>NINGUNA APARENTE</td>\n",
       "      <td>0000</td>\n",
       "      <td>2</td>\n",
       "      <td>9</td>\n",
       "      <td>NaN</td>\n",
       "      <td>3</td>\n",
       "      <td>HGZ 35 CD.JUAREZ</td>\n",
       "      <td>CHIMS000305</td>\n",
       "      <td>1.0</td>\n",
       "      <td>NaN</td>\n",
       "      <td>3.0</td>\n",
       "      <td>7</td>\n",
       "      <td>8</td>\n",
       "      <td>37</td>\n",
       "      <td>1</td>\n",
       "      <td>1.0</td>\n",
       "      <td>NaN</td>\n",
       "      <td>NO APLICA</td>\n",
       "      <td>9997</td>\n",
       "      <td>3.0</td>\n",
       "      <td>7.0</td>\n",
       "      <td>8</td>\n",
       "      <td>37</td>\n",
       "      <td>1</td>\n",
       "      <td>06/04/2019</td>\n",
       "      <td>04/09/2019</td>\n",
       "      <td>NaN</td>\n",
       "      <td>NaN</td>\n",
       "      <td>2015.0</td>\n",
       "    </tr>\n",
       "    <tr>\n",
       "      <th>1010055</th>\n",
       "      <td>16</td>\n",
       "      <td>16</td>\n",
       "      <td>76.0</td>\n",
       "      <td>02/10/1989</td>\n",
       "      <td>29</td>\n",
       "      <td>2.0</td>\n",
       "      <td>2.0</td>\n",
       "      <td>0000</td>\n",
       "      <td>11</td>\n",
       "      <td>5.0</td>\n",
       "      <td>7.0</td>\n",
       "      <td>16</td>\n",
       "      <td>108</td>\n",
       "      <td>1</td>\n",
       "      <td>1</td>\n",
       "      <td>0</td>\n",
       "      <td>1</td>\n",
       "      <td>1</td>\n",
       "      <td>3</td>\n",
       "      <td>0</td>\n",
       "      <td>1</td>\n",
       "      <td>1</td>\n",
       "      <td>1</td>\n",
       "      <td>9</td>\n",
       "      <td>1</td>\n",
       "      <td>2</td>\n",
       "      <td>0</td>\n",
       "      <td>10</td>\n",
       "      <td>PROFESORA</td>\n",
       "      <td>7</td>\n",
       "      <td>1</td>\n",
       "      <td>03/01/2019</td>\n",
       "      <td>08:42:00</td>\n",
       "      <td>1</td>\n",
       "      <td>37</td>\n",
       "      <td>47</td>\n",
       "      <td>2630</td>\n",
       "      <td>10</td>\n",
       "      <td>0</td>\n",
       "      <td>2</td>\n",
       "      <td>2</td>\n",
       "      <td>2</td>\n",
       "      <td>1</td>\n",
       "      <td>2</td>\n",
       "      <td>1</td>\n",
       "      <td>NINGUNA APARENTE</td>\n",
       "      <td>0000</td>\n",
       "      <td>NINGUNA APARENTE</td>\n",
       "      <td>0000</td>\n",
       "      <td>2</td>\n",
       "      <td>0</td>\n",
       "      <td>NaN</td>\n",
       "      <td>10</td>\n",
       "      <td>CLÍNICA HOSPITAL SAN JOSÉ S.A. DE C.V.</td>\n",
       "      <td>MNSMP000844</td>\n",
       "      <td>11.0</td>\n",
       "      <td>NaN</td>\n",
       "      <td>5.0</td>\n",
       "      <td>7</td>\n",
       "      <td>16</td>\n",
       "      <td>108</td>\n",
       "      <td>1</td>\n",
       "      <td>1.0</td>\n",
       "      <td>NaN</td>\n",
       "      <td>NaN</td>\n",
       "      <td>9997</td>\n",
       "      <td>5.0</td>\n",
       "      <td>7.0</td>\n",
       "      <td>16</td>\n",
       "      <td>108</td>\n",
       "      <td>1</td>\n",
       "      <td>03/01/2019</td>\n",
       "      <td>14/03/19</td>\n",
       "      <td>NaN</td>\n",
       "      <td>1.0</td>\n",
       "      <td>2015.0</td>\n",
       "    </tr>\n",
       "    <tr>\n",
       "      <th>897495</th>\n",
       "      <td>15</td>\n",
       "      <td>15</td>\n",
       "      <td>14.0</td>\n",
       "      <td>11/01/1985</td>\n",
       "      <td>34</td>\n",
       "      <td>1.0</td>\n",
       "      <td>2.0</td>\n",
       "      <td>0000</td>\n",
       "      <td>15</td>\n",
       "      <td>5.0</td>\n",
       "      <td>7.0</td>\n",
       "      <td>15</td>\n",
       "      <td>14</td>\n",
       "      <td>1</td>\n",
       "      <td>99</td>\n",
       "      <td>99</td>\n",
       "      <td>99</td>\n",
       "      <td>99</td>\n",
       "      <td>9</td>\n",
       "      <td>0</td>\n",
       "      <td>99</td>\n",
       "      <td>1</td>\n",
       "      <td>9</td>\n",
       "      <td>99</td>\n",
       "      <td>1</td>\n",
       "      <td>7</td>\n",
       "      <td>0</td>\n",
       "      <td>88</td>\n",
       "      <td>AMA DE CASA</td>\n",
       "      <td>2</td>\n",
       "      <td>2</td>\n",
       "      <td>02/07/2019</td>\n",
       "      <td>19:10:00</td>\n",
       "      <td>1</td>\n",
       "      <td>42</td>\n",
       "      <td>55</td>\n",
       "      <td>9999</td>\n",
       "      <td>8</td>\n",
       "      <td>99</td>\n",
       "      <td>1</td>\n",
       "      <td>1</td>\n",
       "      <td>9</td>\n",
       "      <td>9</td>\n",
       "      <td>9</td>\n",
       "      <td>1</td>\n",
       "      <td>NINGUNA APARENTE</td>\n",
       "      <td>0000</td>\n",
       "      <td>NINGUNA APARENTE</td>\n",
       "      <td>0000</td>\n",
       "      <td>2</td>\n",
       "      <td>0</td>\n",
       "      <td>NaN</td>\n",
       "      <td>1</td>\n",
       "      <td>HOSPITAL GENERAL ATLACOMULCO</td>\n",
       "      <td>MCSSA010123</td>\n",
       "      <td>11.0</td>\n",
       "      <td>NaN</td>\n",
       "      <td>5.0</td>\n",
       "      <td>7</td>\n",
       "      <td>15</td>\n",
       "      <td>14</td>\n",
       "      <td>75</td>\n",
       "      <td>2.0</td>\n",
       "      <td>MEDICO GENERAL</td>\n",
       "      <td>NaN</td>\n",
       "      <td>9997</td>\n",
       "      <td>5.0</td>\n",
       "      <td>7.0</td>\n",
       "      <td>15</td>\n",
       "      <td>14</td>\n",
       "      <td>75</td>\n",
       "      <td>05/07/2019</td>\n",
       "      <td>07/07/19</td>\n",
       "      <td>NaN</td>\n",
       "      <td>1.0</td>\n",
       "      <td>2015.0</td>\n",
       "    </tr>\n",
       "    <tr>\n",
       "      <th>394920</th>\n",
       "      <td>9</td>\n",
       "      <td>15</td>\n",
       "      <td>70.0</td>\n",
       "      <td>07/03/1988</td>\n",
       "      <td>31</td>\n",
       "      <td>2.0</td>\n",
       "      <td>2.0</td>\n",
       "      <td>9999</td>\n",
       "      <td>11</td>\n",
       "      <td>5.0</td>\n",
       "      <td>7.0</td>\n",
       "      <td>9</td>\n",
       "      <td>5</td>\n",
       "      <td>1</td>\n",
       "      <td>5</td>\n",
       "      <td>3</td>\n",
       "      <td>2</td>\n",
       "      <td>2</td>\n",
       "      <td>2</td>\n",
       "      <td>0</td>\n",
       "      <td>5</td>\n",
       "      <td>1</td>\n",
       "      <td>1</td>\n",
       "      <td>15</td>\n",
       "      <td>1</td>\n",
       "      <td>2</td>\n",
       "      <td>0</td>\n",
       "      <td>8</td>\n",
       "      <td>ENFERMERA</td>\n",
       "      <td>5</td>\n",
       "      <td>1</td>\n",
       "      <td>11/12/2019</td>\n",
       "      <td>12:19:00</td>\n",
       "      <td>2</td>\n",
       "      <td>39</td>\n",
       "      <td>48</td>\n",
       "      <td>3300</td>\n",
       "      <td>9</td>\n",
       "      <td>0</td>\n",
       "      <td>2</td>\n",
       "      <td>2</td>\n",
       "      <td>2</td>\n",
       "      <td>2</td>\n",
       "      <td>2</td>\n",
       "      <td>1</td>\n",
       "      <td>NINGUNA APARENTE</td>\n",
       "      <td>0000</td>\n",
       "      <td>NINGUNA APARENTE</td>\n",
       "      <td>0000</td>\n",
       "      <td>2</td>\n",
       "      <td>9</td>\n",
       "      <td>NaN</td>\n",
       "      <td>3</td>\n",
       "      <td>HGO CM LA RAZA</td>\n",
       "      <td>DFIMS000044</td>\n",
       "      <td>1.0</td>\n",
       "      <td>NaN</td>\n",
       "      <td>7.0</td>\n",
       "      <td>7</td>\n",
       "      <td>9</td>\n",
       "      <td>2</td>\n",
       "      <td>1</td>\n",
       "      <td>2.0</td>\n",
       "      <td>GINECO OBSTETRA</td>\n",
       "      <td>NO APLICA</td>\n",
       "      <td>9997</td>\n",
       "      <td>7.0</td>\n",
       "      <td>7.0</td>\n",
       "      <td>9</td>\n",
       "      <td>2</td>\n",
       "      <td>1</td>\n",
       "      <td>11/12/2019</td>\n",
       "      <td>01/07/2020</td>\n",
       "      <td>NaN</td>\n",
       "      <td>1.0</td>\n",
       "      <td>2015.0</td>\n",
       "    </tr>\n",
       "  </tbody>\n",
       "</table>\n",
       "</div>"
      ],
      "text/plain": [
       "         CEDOCVE  ENT_NACM  MPO_NACM   FECH_NACM  EDADM  CON_INDM  HABLA_INDM  \\\n",
       "280271         8         8      37.0  04/02/1999     20       2.0         2.0   \n",
       "1010055       16        16      76.0  02/10/1989     29       2.0         2.0   \n",
       "897495        15        15      14.0  11/01/1985     34       1.0         2.0   \n",
       "394920         9        15      70.0  07/03/1988     31       2.0         2.0   \n",
       "\n",
       "        CUAL_LENGM  EDOCIVIL  TIPOVIAL_RES  TIPOASEN_RES  ENT_RES  MPO_RES  \\\n",
       "280271        9999        12           5.0           7.0        8       37   \n",
       "1010055       0000        11           5.0           7.0       16      108   \n",
       "897495        0000        15           5.0           7.0       15       14   \n",
       "394920        9999        11           5.0           7.0        9        5   \n",
       "\n",
       "         LOC_RES  NUM_EMB  NUM_NACMTO  NUM_NACVIVO  HIJO_SOBV  HIJO_ANTE  \\\n",
       "280271         1        1           0            1          1          3   \n",
       "1010055        1        1           0            1          1          3   \n",
       "897495         1       99          99           99         99          9   \n",
       "394920         1        5           3            2          2          2   \n",
       "\n",
       "         VIVE_AUN  ORDEN_NAC  ATEN_PREN  TRIM_CONS  TOT_CONS  SOB_PARTO  \\\n",
       "280271          0          1          1          1         8          1   \n",
       "1010055         0          1          1          1         9          1   \n",
       "897495          0         99          1          9        99          1   \n",
       "394920          0          5          1          1        15          1   \n",
       "\n",
       "         DERHAB  DERHAB2  NIV_ESCOL      OCUPHAB  CVEOCUPHAB  TRAB_ACT  \\\n",
       "280271        2        0          5    OPERADORA          13         1   \n",
       "1010055       2        0         10    PROFESORA           7         1   \n",
       "897495        7        0         88  AMA DE CASA           2         2   \n",
       "394920        2        0          8    ENFERMERA           5         1   \n",
       "\n",
       "          FECH_NACH HORA_NACH  SEXOH  GESTACH  TALLAH  PESOH  APGARH  \\\n",
       "280271   06/04/2019  03:08:00      1       39      53   3570       9   \n",
       "1010055  03/01/2019  08:42:00      1       37      47   2630      10   \n",
       "897495   02/07/2019  19:10:00      1       42      55   9999       8   \n",
       "394920   11/12/2019  12:19:00      2       39      48   3300       9   \n",
       "\n",
       "         SILVERMAN  BCG  HEP_B  VIT_A  VIT_K  TAM_AUD  PRODUCTO  \\\n",
       "280271           0    2      2      2      1        2         1   \n",
       "1010055          0    2      2      2      1        2         1   \n",
       "897495          99    1      1      9      9        9         1   \n",
       "394920           0    2      2      2      2        2         1   \n",
       "\n",
       "                   ACELRN CVE_CIE           ACELRN2 CVE_CIE2  PROCNAC  \\\n",
       "280271   NINGUNA APARENTE    0000  NINGUNA APARENTE     0000        2   \n",
       "1010055  NINGUNA APARENTE    0000  NINGUNA APARENTE     0000        2   \n",
       "897495   NINGUNA APARENTE    0000  NINGUNA APARENTE     0000        2   \n",
       "394920   NINGUNA APARENTE    0000  NINGUNA APARENTE     0000        2   \n",
       "\n",
       "         FORCEPS ESPECIFIQUE  INST_NAC  \\\n",
       "280271         9         NaN         3   \n",
       "1010055        0         NaN        10   \n",
       "897495         0         NaN         1   \n",
       "394920         9         NaN         3   \n",
       "\n",
       "                                         UNIMED        CLUES  ATENDIO  \\\n",
       "280271                         HGZ 35 CD.JUAREZ  CHIMS000305      1.0   \n",
       "1010055  CLÍNICA HOSPITAL SAN JOSÉ S.A. DE C.V.  MNSMP000844     11.0   \n",
       "897495             HOSPITAL GENERAL ATLACOMULCO  MCSSA010123     11.0   \n",
       "394920                           HGO CM LA RAZA  DFIMS000044      1.0   \n",
       "\n",
       "        ATEN_OTRO  TIPOVIAL_NAC  TIPOASEN_NAC  ENT_NAC  MPO_NAC  LOC_NAC  \\\n",
       "280271        NaN           3.0             7        8       37        1   \n",
       "1010055       NaN           5.0             7       16      108        1   \n",
       "897495        NaN           5.0             7       15       14       75   \n",
       "394920        NaN           7.0             7        9        2        1   \n",
       "\n",
       "         CERT_POR       OTROMEDICO UNIMED_33_1 CLUES_33_2  TIPOVIAL_CERT  \\\n",
       "280271        1.0              NaN   NO APLICA       9997            3.0   \n",
       "1010055       1.0              NaN         NaN       9997            5.0   \n",
       "897495        2.0   MEDICO GENERAL         NaN       9997            5.0   \n",
       "394920        2.0  GINECO OBSTETRA   NO APLICA       9997            7.0   \n",
       "\n",
       "         TIPOASEN_CERT  ENT_CERT  MPO_CERT  LOC_CERT   FECH_CERT   FECH_ALTA  \\\n",
       "280271             7.0         8        37         1  06/04/2019  04/09/2019   \n",
       "1010055            7.0        16       108         1  03/01/2019    14/03/19   \n",
       "897495             7.0        15        14        75  05/07/2019    07/07/19   \n",
       "394920             7.0         9         2         1  11/12/2019  01/07/2020   \n",
       "\n",
       "         FECH_CAMB  IDCAPTURA  TIPO_FORMATO  \n",
       "280271         NaN        NaN        2015.0  \n",
       "1010055        NaN        1.0        2015.0  \n",
       "897495         NaN        1.0        2015.0  \n",
       "394920         NaN        1.0        2015.0  "
      ]
     },
     "execution_count": 4,
     "metadata": {},
     "output_type": "execute_result"
    }
   ],
   "source": [
    "df = pd.read_csv('/home/ef/Documents/Diplomado/EXAMEN01/sinac2019DatosAbiertos.csv',\n",
    "                 sep = ',',\n",
    "                 encoding = 'UTF-8',\n",
    "                 low_memory = False,\n",
    "                 warn_bad_lines=True,\n",
    "                 error_bad_lines=False)\n",
    "\n",
    "df.sample(4)"
   ]
  },
  {
   "cell_type": "code",
   "execution_count": 5,
   "metadata": {
    "ExecuteTime": {
     "end_time": "2020-09-26T18:06:04.554116Z",
     "start_time": "2020-09-26T18:06:04.527427Z"
    }
   },
   "outputs": [
    {
     "data": {
      "text/plain": [
       "(1868214, 76)"
      ]
     },
     "execution_count": 5,
     "metadata": {},
     "output_type": "execute_result"
    }
   ],
   "source": [
    "dim_antes = df.shape[0]\n",
    "df.shape"
   ]
  },
  {
   "cell_type": "code",
   "execution_count": 6,
   "metadata": {
    "ExecuteTime": {
     "end_time": "2020-09-26T18:06:04.592428Z",
     "start_time": "2020-09-26T18:06:04.560487Z"
    },
    "scrolled": false
   },
   "outputs": [
    {
     "data": {
      "text/plain": [
       "Index(['CEDOCVE', 'ENT_NACM', 'MPO_NACM', 'FECH_NACM', 'EDADM', 'CON_INDM',\n",
       "       'HABLA_INDM', 'CUAL_LENGM', 'EDOCIVIL', 'TIPOVIAL_RES', 'TIPOASEN_RES',\n",
       "       'ENT_RES', 'MPO_RES', 'LOC_RES', 'NUM_EMB', 'NUM_NACMTO', 'NUM_NACVIVO',\n",
       "       'HIJO_SOBV', 'HIJO_ANTE', 'VIVE_AUN', 'ORDEN_NAC', 'ATEN_PREN',\n",
       "       'TRIM_CONS', 'TOT_CONS', 'SOB_PARTO', 'DERHAB', 'DERHAB2', 'NIV_ESCOL',\n",
       "       'OCUPHAB', 'CVEOCUPHAB', 'TRAB_ACT', 'FECH_NACH', 'HORA_NACH', 'SEXOH',\n",
       "       'GESTACH', 'TALLAH', 'PESOH', 'APGARH', 'SILVERMAN', 'BCG', 'HEP_B',\n",
       "       'VIT_A', 'VIT_K', 'TAM_AUD', 'PRODUCTO', 'ACELRN', 'CVE_CIE', 'ACELRN2',\n",
       "       'CVE_CIE2', 'PROCNAC', 'FORCEPS', 'ESPECIFIQUE', 'INST_NAC', 'UNIMED',\n",
       "       'CLUES', 'ATENDIO', 'ATEN_OTRO', 'TIPOVIAL_NAC', 'TIPOASEN_NAC',\n",
       "       'ENT_NAC', 'MPO_NAC', 'LOC_NAC', 'CERT_POR', 'OTROMEDICO',\n",
       "       'UNIMED_33_1', 'CLUES_33_2', 'TIPOVIAL_CERT', 'TIPOASEN_CERT',\n",
       "       'ENT_CERT', 'MPO_CERT', 'LOC_CERT', 'FECH_CERT', 'FECH_ALTA',\n",
       "       'FECH_CAMB', 'IDCAPTURA', 'TIPO_FORMATO'],\n",
       "      dtype='object')"
      ]
     },
     "execution_count": 6,
     "metadata": {},
     "output_type": "execute_result"
    }
   ],
   "source": [
    "df.columns"
   ]
  },
  {
   "cell_type": "markdown",
   "metadata": {},
   "source": [
    "## Organizar columnas"
   ]
  },
  {
   "cell_type": "code",
   "execution_count": 7,
   "metadata": {
    "ExecuteTime": {
     "end_time": "2020-09-26T18:06:05.195733Z",
     "start_time": "2020-09-26T18:06:04.597182Z"
    }
   },
   "outputs": [
    {
     "data": {
      "text/plain": [
       "['CEDOCVE',\n",
       " 'ENT_NACM',\n",
       " 'MPO_NACM',\n",
       " 'FECH_NACM',\n",
       " 'EDADM',\n",
       " 'CON_INDM',\n",
       " 'HABLA_INDM',\n",
       " 'CUAL_LENGM',\n",
       " 'EDOCIVIL',\n",
       " 'TIPOVIAL_RES',\n",
       " 'TIPOASEN_RES',\n",
       " 'ENT_RES',\n",
       " 'MPO_RES',\n",
       " 'LOC_RES',\n",
       " 'NUM_EMB',\n",
       " 'NUM_NACMTO',\n",
       " 'NUM_NACVIVO',\n",
       " 'HIJO_SOBV',\n",
       " 'HIJO_ANTE',\n",
       " 'VIVE_AUN',\n",
       " 'ORDEN_NAC',\n",
       " 'ATEN_PREN',\n",
       " 'TRIM_CONS',\n",
       " 'TOT_CONS',\n",
       " 'SOB_PARTO',\n",
       " 'DERHAB',\n",
       " 'DERHAB2',\n",
       " 'NIV_ESCOL',\n",
       " 'OCUPHAB',\n",
       " 'CVEOCUPHAB',\n",
       " 'TRAB_ACT']"
      ]
     },
     "execution_count": 7,
     "metadata": {},
     "output_type": "execute_result"
    }
   ],
   "source": [
    "mom = list(df.iloc[:,0:31].columns)\n",
    "mom"
   ]
  },
  {
   "cell_type": "code",
   "execution_count": 8,
   "metadata": {
    "ExecuteTime": {
     "end_time": "2020-09-26T18:06:06.041206Z",
     "start_time": "2020-09-26T18:06:05.204290Z"
    }
   },
   "outputs": [
    {
     "data": {
      "text/plain": [
       "['FECH_NACH',\n",
       " 'HORA_NACH',\n",
       " 'SEXOH',\n",
       " 'GESTACH',\n",
       " 'TALLAH',\n",
       " 'PESOH',\n",
       " 'APGARH',\n",
       " 'SILVERMAN',\n",
       " 'BCG',\n",
       " 'HEP_B',\n",
       " 'VIT_A',\n",
       " 'VIT_K',\n",
       " 'TAM_AUD',\n",
       " 'PRODUCTO',\n",
       " 'ACELRN',\n",
       " 'CVE_CIE',\n",
       " 'ACELRN2',\n",
       " 'CVE_CIE2',\n",
       " 'PROCNAC',\n",
       " 'FORCEPS',\n",
       " 'ESPECIFIQUE',\n",
       " 'INST_NAC',\n",
       " 'UNIMED',\n",
       " 'CLUES',\n",
       " 'ATENDIO',\n",
       " 'ATEN_OTRO',\n",
       " 'TIPOVIAL_NAC',\n",
       " 'TIPOASEN_NAC',\n",
       " 'ENT_NAC',\n",
       " 'MPO_NAC',\n",
       " 'LOC_NAC',\n",
       " 'CERT_POR',\n",
       " 'OTROMEDICO',\n",
       " 'UNIMED_33_1',\n",
       " 'CLUES_33_2']"
      ]
     },
     "execution_count": 8,
     "metadata": {},
     "output_type": "execute_result"
    }
   ],
   "source": [
    "bb = list(df.iloc[:,31:-10].columns)\n",
    "bb"
   ]
  },
  {
   "cell_type": "code",
   "execution_count": 9,
   "metadata": {
    "ExecuteTime": {
     "end_time": "2020-09-26T18:06:06.069691Z",
     "start_time": "2020-09-26T18:06:06.046906Z"
    }
   },
   "outputs": [
    {
     "data": {
      "text/plain": [
       "['TIPOVIAL_CERT',\n",
       " 'TIPOASEN_CERT',\n",
       " 'ENT_CERT',\n",
       " 'MPO_CERT',\n",
       " 'LOC_CERT',\n",
       " 'FECH_CERT',\n",
       " 'FECH_ALTA',\n",
       " 'FECH_CAMB',\n",
       " 'IDCAPTURA',\n",
       " 'TIPO_FORMATO']"
      ]
     },
     "execution_count": 9,
     "metadata": {},
     "output_type": "execute_result"
    }
   ],
   "source": [
    "otro = [col for col in df.columns if col not in mom + bb]\n",
    "otro"
   ]
  },
  {
   "cell_type": "code",
   "execution_count": 10,
   "metadata": {
    "ExecuteTime": {
     "end_time": "2020-09-26T18:06:06.103188Z",
     "start_time": "2020-09-26T18:06:06.075325Z"
    }
   },
   "outputs": [
    {
     "data": {
      "text/plain": [
       "['NUM_EMB',\n",
       " 'NUM_NACMTO',\n",
       " 'NUM_NACVIVO',\n",
       " 'HIJO_SOBV',\n",
       " 'TOT_CONS',\n",
       " 'GESTACH',\n",
       " 'TALLAH',\n",
       " 'PESOH',\n",
       " 'APGARH',\n",
       " 'SILVERMAN']"
      ]
     },
     "execution_count": 10,
     "metadata": {},
     "output_type": "execute_result"
    }
   ],
   "source": [
    "num = list([col for col in df.columns if col.startswith('NUM')] + ['HIJO_SOBV',\n",
    "                                                             'TOT_CONS',\n",
    "                                                             'GESTACH',\n",
    "                                                             'TALLAH',\n",
    "                                                             'PESOH',\n",
    "                                                             'APGARH',\n",
    "                                                             'SILVERMAN'])\n",
    "num"
   ]
  },
  {
   "cell_type": "code",
   "execution_count": 11,
   "metadata": {
    "ExecuteTime": {
     "end_time": "2020-09-26T18:06:06.133599Z",
     "start_time": "2020-09-26T18:06:06.109176Z"
    }
   },
   "outputs": [
    {
     "data": {
      "text/plain": [
       "['CEDOCVE',\n",
       " 'ENT_NACM',\n",
       " 'MPO_NACM',\n",
       " 'FECH_NACM',\n",
       " 'EDADM',\n",
       " 'CON_INDM',\n",
       " 'HABLA_INDM',\n",
       " 'CUAL_LENGM',\n",
       " 'EDOCIVIL',\n",
       " 'TIPOVIAL_RES',\n",
       " 'TIPOASEN_RES',\n",
       " 'ENT_RES',\n",
       " 'MPO_RES',\n",
       " 'LOC_RES',\n",
       " 'HIJO_ANTE',\n",
       " 'VIVE_AUN',\n",
       " 'ORDEN_NAC',\n",
       " 'ATEN_PREN',\n",
       " 'TRIM_CONS',\n",
       " 'SOB_PARTO',\n",
       " 'DERHAB',\n",
       " 'DERHAB2',\n",
       " 'NIV_ESCOL',\n",
       " 'OCUPHAB',\n",
       " 'CVEOCUPHAB',\n",
       " 'TRAB_ACT',\n",
       " 'FECH_NACH',\n",
       " 'HORA_NACH',\n",
       " 'SEXOH',\n",
       " 'BCG',\n",
       " 'HEP_B',\n",
       " 'VIT_A',\n",
       " 'VIT_K',\n",
       " 'TAM_AUD',\n",
       " 'PRODUCTO',\n",
       " 'ACELRN',\n",
       " 'CVE_CIE',\n",
       " 'ACELRN2',\n",
       " 'CVE_CIE2',\n",
       " 'PROCNAC',\n",
       " 'FORCEPS',\n",
       " 'ESPECIFIQUE',\n",
       " 'INST_NAC',\n",
       " 'UNIMED',\n",
       " 'CLUES',\n",
       " 'ATENDIO',\n",
       " 'ATEN_OTRO',\n",
       " 'TIPOVIAL_NAC',\n",
       " 'TIPOASEN_NAC',\n",
       " 'ENT_NAC',\n",
       " 'MPO_NAC',\n",
       " 'LOC_NAC',\n",
       " 'CERT_POR',\n",
       " 'OTROMEDICO',\n",
       " 'UNIMED_33_1',\n",
       " 'CLUES_33_2',\n",
       " 'TIPOVIAL_CERT',\n",
       " 'TIPOASEN_CERT',\n",
       " 'ENT_CERT',\n",
       " 'MPO_CERT',\n",
       " 'LOC_CERT',\n",
       " 'FECH_CERT',\n",
       " 'FECH_ALTA',\n",
       " 'FECH_CAMB',\n",
       " 'IDCAPTURA',\n",
       " 'TIPO_FORMATO']"
      ]
     },
     "execution_count": 11,
     "metadata": {},
     "output_type": "execute_result"
    }
   ],
   "source": [
    "cat = list([col for col in df.columns if col not in num])\n",
    "cat"
   ]
  },
  {
   "cell_type": "markdown",
   "metadata": {},
   "source": [
    "## Calidad de datos"
   ]
  },
  {
   "cell_type": "markdown",
   "metadata": {},
   "source": [
    "### Numéricas"
   ]
  },
  {
   "cell_type": "code",
   "execution_count": 12,
   "metadata": {
    "ExecuteTime": {
     "end_time": "2020-09-26T18:06:06.355726Z",
     "start_time": "2020-09-26T18:06:06.152786Z"
    }
   },
   "outputs": [
    {
     "data": {
      "text/plain": [
       "NUM_EMB        0.0\n",
       "NUM_NACMTO     0.0\n",
       "NUM_NACVIVO    0.0\n",
       "HIJO_SOBV      0.0\n",
       "TOT_CONS       0.0\n",
       "GESTACH        0.0\n",
       "TALLAH         0.0\n",
       "PESOH          0.0\n",
       "APGARH         0.0\n",
       "SILVERMAN      0.0\n",
       "dtype: float64"
      ]
     },
     "execution_count": 12,
     "metadata": {},
     "output_type": "execute_result"
    }
   ],
   "source": [
    "## Al parecer, no hay vacíos en variables numéricas\n",
    "df[num].isnull().sum() / df.shape[0]"
   ]
  },
  {
   "cell_type": "code",
   "execution_count": 13,
   "metadata": {
    "ExecuteTime": {
     "end_time": "2020-09-26T18:06:07.885164Z",
     "start_time": "2020-09-26T18:06:06.361147Z"
    },
    "scrolled": true
   },
   "outputs": [
    {
     "data": {
      "text/html": [
       "<div>\n",
       "<style scoped>\n",
       "    .dataframe tbody tr th:only-of-type {\n",
       "        vertical-align: middle;\n",
       "    }\n",
       "\n",
       "    .dataframe tbody tr th {\n",
       "        vertical-align: top;\n",
       "    }\n",
       "\n",
       "    .dataframe thead th {\n",
       "        text-align: right;\n",
       "    }\n",
       "</style>\n",
       "<table border=\"1\" class=\"dataframe\">\n",
       "  <thead>\n",
       "    <tr style=\"text-align: right;\">\n",
       "      <th></th>\n",
       "      <th>NUM_EMB</th>\n",
       "      <th>NUM_NACMTO</th>\n",
       "      <th>NUM_NACVIVO</th>\n",
       "      <th>HIJO_SOBV</th>\n",
       "      <th>TOT_CONS</th>\n",
       "      <th>GESTACH</th>\n",
       "      <th>TALLAH</th>\n",
       "      <th>PESOH</th>\n",
       "      <th>APGARH</th>\n",
       "      <th>SILVERMAN</th>\n",
       "    </tr>\n",
       "  </thead>\n",
       "  <tbody>\n",
       "    <tr>\n",
       "      <th>count</th>\n",
       "      <td>1.868214e+06</td>\n",
       "      <td>1.868214e+06</td>\n",
       "      <td>1.868214e+06</td>\n",
       "      <td>1.868214e+06</td>\n",
       "      <td>1.868214e+06</td>\n",
       "      <td>1.868214e+06</td>\n",
       "      <td>1.868214e+06</td>\n",
       "      <td>1.868214e+06</td>\n",
       "      <td>1.868214e+06</td>\n",
       "      <td>1.868214e+06</td>\n",
       "    </tr>\n",
       "    <tr>\n",
       "      <th>mean</th>\n",
       "      <td>2.243351e+00</td>\n",
       "      <td>4.432827e-01</td>\n",
       "      <td>2.081254e+00</td>\n",
       "      <td>2.112397e+00</td>\n",
       "      <td>8.932624e+00</td>\n",
       "      <td>3.872644e+01</td>\n",
       "      <td>4.970817e+01</td>\n",
       "      <td>3.498297e+03</td>\n",
       "      <td>9.613361e+00</td>\n",
       "      <td>1.311876e+00</td>\n",
       "    </tr>\n",
       "    <tr>\n",
       "      <th>std</th>\n",
       "      <td>1.980703e+00</td>\n",
       "      <td>4.960689e+00</td>\n",
       "      <td>2.473481e+00</td>\n",
       "      <td>3.206576e+00</td>\n",
       "      <td>1.177146e+01</td>\n",
       "      <td>2.940490e+00</td>\n",
       "      <td>3.160785e+00</td>\n",
       "      <td>1.615465e+03</td>\n",
       "      <td>8.114272e+00</td>\n",
       "      <td>1.029468e+01</td>\n",
       "    </tr>\n",
       "    <tr>\n",
       "      <th>min</th>\n",
       "      <td>1.000000e+00</td>\n",
       "      <td>0.000000e+00</td>\n",
       "      <td>0.000000e+00</td>\n",
       "      <td>0.000000e+00</td>\n",
       "      <td>0.000000e+00</td>\n",
       "      <td>1.900000e+01</td>\n",
       "      <td>4.000000e+00</td>\n",
       "      <td>3.000000e+01</td>\n",
       "      <td>0.000000e+00</td>\n",
       "      <td>0.000000e+00</td>\n",
       "    </tr>\n",
       "    <tr>\n",
       "      <th>20%</th>\n",
       "      <td>1.000000e+00</td>\n",
       "      <td>0.000000e+00</td>\n",
       "      <td>1.000000e+00</td>\n",
       "      <td>1.000000e+00</td>\n",
       "      <td>5.000000e+00</td>\n",
       "      <td>3.800000e+01</td>\n",
       "      <td>4.800000e+01</td>\n",
       "      <td>2.800000e+03</td>\n",
       "      <td>9.000000e+00</td>\n",
       "      <td>0.000000e+00</td>\n",
       "    </tr>\n",
       "    <tr>\n",
       "      <th>40%</th>\n",
       "      <td>2.000000e+00</td>\n",
       "      <td>0.000000e+00</td>\n",
       "      <td>2.000000e+00</td>\n",
       "      <td>2.000000e+00</td>\n",
       "      <td>7.000000e+00</td>\n",
       "      <td>3.900000e+01</td>\n",
       "      <td>4.900000e+01</td>\n",
       "      <td>3.050000e+03</td>\n",
       "      <td>9.000000e+00</td>\n",
       "      <td>0.000000e+00</td>\n",
       "    </tr>\n",
       "    <tr>\n",
       "      <th>50%</th>\n",
       "      <td>2.000000e+00</td>\n",
       "      <td>0.000000e+00</td>\n",
       "      <td>2.000000e+00</td>\n",
       "      <td>2.000000e+00</td>\n",
       "      <td>8.000000e+00</td>\n",
       "      <td>3.900000e+01</td>\n",
       "      <td>5.000000e+01</td>\n",
       "      <td>3.170000e+03</td>\n",
       "      <td>9.000000e+00</td>\n",
       "      <td>0.000000e+00</td>\n",
       "    </tr>\n",
       "    <tr>\n",
       "      <th>60%</th>\n",
       "      <td>2.000000e+00</td>\n",
       "      <td>0.000000e+00</td>\n",
       "      <td>2.000000e+00</td>\n",
       "      <td>2.000000e+00</td>\n",
       "      <td>8.000000e+00</td>\n",
       "      <td>3.900000e+01</td>\n",
       "      <td>5.000000e+01</td>\n",
       "      <td>3.290000e+03</td>\n",
       "      <td>9.000000e+00</td>\n",
       "      <td>0.000000e+00</td>\n",
       "    </tr>\n",
       "    <tr>\n",
       "      <th>80%</th>\n",
       "      <td>3.000000e+00</td>\n",
       "      <td>0.000000e+00</td>\n",
       "      <td>3.000000e+00</td>\n",
       "      <td>3.000000e+00</td>\n",
       "      <td>1.000000e+01</td>\n",
       "      <td>4.000000e+01</td>\n",
       "      <td>5.200000e+01</td>\n",
       "      <td>3.580000e+03</td>\n",
       "      <td>9.000000e+00</td>\n",
       "      <td>0.000000e+00</td>\n",
       "    </tr>\n",
       "    <tr>\n",
       "      <th>95%</th>\n",
       "      <td>5.000000e+00</td>\n",
       "      <td>1.000000e+00</td>\n",
       "      <td>4.000000e+00</td>\n",
       "      <td>4.000000e+00</td>\n",
       "      <td>1.500000e+01</td>\n",
       "      <td>4.100000e+01</td>\n",
       "      <td>5.400000e+01</td>\n",
       "      <td>9.999000e+03</td>\n",
       "      <td>9.000000e+00</td>\n",
       "      <td>2.000000e+00</td>\n",
       "    </tr>\n",
       "    <tr>\n",
       "      <th>max</th>\n",
       "      <td>9.900000e+01</td>\n",
       "      <td>9.900000e+01</td>\n",
       "      <td>9.900000e+01</td>\n",
       "      <td>9.900000e+01</td>\n",
       "      <td>9.900000e+01</td>\n",
       "      <td>9.900000e+01</td>\n",
       "      <td>9.900000e+01</td>\n",
       "      <td>9.999000e+03</td>\n",
       "      <td>9.900000e+01</td>\n",
       "      <td>9.900000e+01</td>\n",
       "    </tr>\n",
       "  </tbody>\n",
       "</table>\n",
       "</div>"
      ],
      "text/plain": [
       "            NUM_EMB    NUM_NACMTO   NUM_NACVIVO     HIJO_SOBV      TOT_CONS  \\\n",
       "count  1.868214e+06  1.868214e+06  1.868214e+06  1.868214e+06  1.868214e+06   \n",
       "mean   2.243351e+00  4.432827e-01  2.081254e+00  2.112397e+00  8.932624e+00   \n",
       "std    1.980703e+00  4.960689e+00  2.473481e+00  3.206576e+00  1.177146e+01   \n",
       "min    1.000000e+00  0.000000e+00  0.000000e+00  0.000000e+00  0.000000e+00   \n",
       "20%    1.000000e+00  0.000000e+00  1.000000e+00  1.000000e+00  5.000000e+00   \n",
       "40%    2.000000e+00  0.000000e+00  2.000000e+00  2.000000e+00  7.000000e+00   \n",
       "50%    2.000000e+00  0.000000e+00  2.000000e+00  2.000000e+00  8.000000e+00   \n",
       "60%    2.000000e+00  0.000000e+00  2.000000e+00  2.000000e+00  8.000000e+00   \n",
       "80%    3.000000e+00  0.000000e+00  3.000000e+00  3.000000e+00  1.000000e+01   \n",
       "95%    5.000000e+00  1.000000e+00  4.000000e+00  4.000000e+00  1.500000e+01   \n",
       "max    9.900000e+01  9.900000e+01  9.900000e+01  9.900000e+01  9.900000e+01   \n",
       "\n",
       "            GESTACH        TALLAH         PESOH        APGARH     SILVERMAN  \n",
       "count  1.868214e+06  1.868214e+06  1.868214e+06  1.868214e+06  1.868214e+06  \n",
       "mean   3.872644e+01  4.970817e+01  3.498297e+03  9.613361e+00  1.311876e+00  \n",
       "std    2.940490e+00  3.160785e+00  1.615465e+03  8.114272e+00  1.029468e+01  \n",
       "min    1.900000e+01  4.000000e+00  3.000000e+01  0.000000e+00  0.000000e+00  \n",
       "20%    3.800000e+01  4.800000e+01  2.800000e+03  9.000000e+00  0.000000e+00  \n",
       "40%    3.900000e+01  4.900000e+01  3.050000e+03  9.000000e+00  0.000000e+00  \n",
       "50%    3.900000e+01  5.000000e+01  3.170000e+03  9.000000e+00  0.000000e+00  \n",
       "60%    3.900000e+01  5.000000e+01  3.290000e+03  9.000000e+00  0.000000e+00  \n",
       "80%    4.000000e+01  5.200000e+01  3.580000e+03  9.000000e+00  0.000000e+00  \n",
       "95%    4.100000e+01  5.400000e+01  9.999000e+03  9.000000e+00  2.000000e+00  \n",
       "max    9.900000e+01  9.900000e+01  9.999000e+03  9.900000e+01  9.900000e+01  "
      ]
     },
     "execution_count": 13,
     "metadata": {},
     "output_type": "execute_result"
    }
   ],
   "source": [
    "## Peeeeero, el valor 99 parece significar que es un registro nulo\n",
    "df[num].describe([i/10 for i in range(2,10,2)] + [.95])"
   ]
  },
  {
   "cell_type": "code",
   "execution_count": 14,
   "metadata": {
    "ExecuteTime": {
     "end_time": "2020-09-26T18:06:12.389696Z",
     "start_time": "2020-09-26T18:06:07.889991Z"
    }
   },
   "outputs": [
    {
     "data": {
      "text/plain": [
       "NUM_EMB        0.000244\n",
       "NUM_NACMTO     0.002501\n",
       "NUM_NACVIVO    0.000511\n",
       "HIJO_SOBV      0.000957\n",
       "TOT_CONS       0.015458\n",
       "GESTACH        0.001500\n",
       "TALLAH         0.000587\n",
       "PESOH          0.000012\n",
       "APGARH         0.008093\n",
       "SILVERMAN      0.010880\n",
       "dtype: float64"
      ]
     },
     "execution_count": 14,
     "metadata": {},
     "output_type": "execute_result"
    }
   ],
   "source": [
    "## Se reemplaza por NaN, sí hay registros vacíos\n",
    "df[num] = df[num].replace(99,np.nan).copy()\n",
    "df[num].isnull().sum() / df.shape[0]"
   ]
  },
  {
   "cell_type": "code",
   "execution_count": 15,
   "metadata": {
    "ExecuteTime": {
     "end_time": "2020-09-26T18:06:12.993802Z",
     "start_time": "2020-09-26T18:06:12.393437Z"
    }
   },
   "outputs": [
    {
     "data": {
      "text/plain": [
       "0.9684222471301468"
      ]
     },
     "execution_count": 15,
     "metadata": {},
     "output_type": "execute_result"
    }
   ],
   "source": [
    "## Si eliminaramos los vacíos, nos quedaríamos con el 96% de los registros\n",
    "df[num].dropna().shape[0] / dim_antes"
   ]
  },
  {
   "cell_type": "markdown",
   "metadata": {
    "ExecuteTime": {
     "end_time": "2020-09-26T14:50:00.463204Z",
     "start_time": "2020-09-26T14:50:00.436497Z"
    }
   },
   "source": [
    "Podemos imputar registros? Primero hay que eliminar outliers para no sesgar la media o distribución"
   ]
  },
  {
   "cell_type": "markdown",
   "metadata": {},
   "source": [
    "#### Atípicos"
   ]
  },
  {
   "cell_type": "code",
   "execution_count": 16,
   "metadata": {
    "ExecuteTime": {
     "end_time": "2020-09-26T18:06:13.042980Z",
     "start_time": "2020-09-26T18:06:13.011512Z"
    }
   },
   "outputs": [],
   "source": [
    "## Función para omitir outliers mediante IQR\n",
    "def outlier(data, x, how = 'both', p):\n",
    "\n",
    "    var = data[x]\n",
    "    q1 = var.quantile(p/2) #acota el % indicado, tanto máx como mín\n",
    "    q3 = var.quantile(1 - p/2)\n",
    "    iqr = q3 - q1\n",
    "    \n",
    "    if how == 'max':\n",
    "        data = data[(var.isnull()) | (var <= q3 + 1.5*iqr)].copy() #no debemos eliminar nulos\n",
    "        var = data[x]\n",
    "        print(var.hist())\n",
    "    elif how == 'min':\n",
    "        data = data[(var.isnull()) | (var >= q1 - 1.5*iqr)].copy()\n",
    "        var = data[x]\n",
    "        print(var.hist())\n",
    "    elif how == 'both':\n",
    "        data = data[(var.isnull()) | ((var >= q1 - 1.5*iqr) & (var <= q3 + 1.5*iqr))].copy()\n",
    "        var = data[x]\n",
    "        print(var.hist())\n",
    "    else:\n",
    "        print('¿Cómo quieres acotar outliers? how = min/max/both')\n",
    "    \n",
    "    data.reset_index(drop = True, inplace = True)\n",
    "    global df\n",
    "    df = data.copy()"
   ]
  },
  {
   "cell_type": "code",
   "execution_count": 17,
   "metadata": {
    "ExecuteTime": {
     "end_time": "2020-09-26T18:06:16.995958Z",
     "start_time": "2020-09-26T18:06:13.047462Z"
    },
    "scrolled": true
   },
   "outputs": [
    {
     "data": {
      "text/plain": [
       "array([[<AxesSubplot:title={'center':'NUM_EMB'}>,\n",
       "        <AxesSubplot:title={'center':'NUM_NACMTO'}>,\n",
       "        <AxesSubplot:title={'center':'NUM_NACVIVO'}>],\n",
       "       [<AxesSubplot:title={'center':'HIJO_SOBV'}>,\n",
       "        <AxesSubplot:title={'center':'TOT_CONS'}>,\n",
       "        <AxesSubplot:title={'center':'GESTACH'}>],\n",
       "       [<AxesSubplot:title={'center':'TALLAH'}>,\n",
       "        <AxesSubplot:title={'center':'PESOH'}>,\n",
       "        <AxesSubplot:title={'center':'APGARH'}>],\n",
       "       [<AxesSubplot:title={'center':'SILVERMAN'}>, <AxesSubplot:>,\n",
       "        <AxesSubplot:>]], dtype=object)"
      ]
     },
     "execution_count": 17,
     "metadata": {},
     "output_type": "execute_result"
    },
    {
     "data": {
      "image/png": "[encoded data removed]",
      "text/plain": [
       "<Figure size 432x288 with 12 Axes>"
      ]
     },
     "metadata": {
      "needs_background": "light"
     },
     "output_type": "display_data"
    }
   ],
   "source": [
    "df[num].hist()"
   ]
  },
  {
   "cell_type": "code",
   "execution_count": 18,
   "metadata": {
    "ExecuteTime": {
     "end_time": "2020-09-26T18:06:17.014332Z",
     "start_time": "2020-09-26T18:06:17.000100Z"
    }
   },
   "outputs": [
    {
     "data": {
      "text/plain": [
       "['NUM_EMB',\n",
       " 'NUM_NACMTO',\n",
       " 'NUM_NACVIVO',\n",
       " 'HIJO_SOBV',\n",
       " 'TOT_CONS',\n",
       " 'GESTACH',\n",
       " 'TALLAH',\n",
       " 'PESOH',\n",
       " 'APGARH',\n",
       " 'SILVERMAN']"
      ]
     },
     "execution_count": 18,
     "metadata": {},
     "output_type": "execute_result"
    }
   ],
   "source": [
    "num"
   ]
  },
  {
   "cell_type": "code",
   "execution_count": 19,
   "metadata": {
    "ExecuteTime": {
     "end_time": "2020-09-26T18:06:22.721250Z",
     "start_time": "2020-09-26T18:06:17.024631Z"
    },
    "scrolled": true
   },
   "outputs": [
    {
     "name": "stdout",
     "output_type": "stream",
     "text": [
      "AxesSubplot(0.125,0.125;0.775x0.755)\n"
     ]
    },
    {
     "data": {
      "image/png": "[encoded data removed]",
      "text/plain": [
       "<Figure size 432x288 with 1 Axes>"
      ]
     },
     "metadata": {
      "needs_background": "light"
     },
     "output_type": "display_data"
    }
   ],
   "source": [
    "outlier(df, 'NUM_EMB', 'max', .1)"
   ]
  },
  {
   "cell_type": "code",
   "execution_count": 20,
   "metadata": {
    "ExecuteTime": {
     "end_time": "2020-09-26T18:06:27.960768Z",
     "start_time": "2020-09-26T18:06:22.737482Z"
    }
   },
   "outputs": [
    {
     "name": "stdout",
     "output_type": "stream",
     "text": [
      "AxesSubplot(0.125,0.125;0.775x0.755)\n"
     ]
    },
    {
     "data": {
      "image/png": "[encoded data removed]",
      "text/plain": [
       "<Figure size 432x288 with 1 Axes>"
      ]
     },
     "metadata": {
      "needs_background": "light"
     },
     "output_type": "display_data"
    }
   ],
   "source": [
    "outlier(df, 'NUM_NACMTO', 'max', .1)"
   ]
  },
  {
   "cell_type": "code",
   "execution_count": 21,
   "metadata": {
    "ExecuteTime": {
     "end_time": "2020-09-26T18:06:33.039953Z",
     "start_time": "2020-09-26T18:06:27.965057Z"
    }
   },
   "outputs": [
    {
     "name": "stdout",
     "output_type": "stream",
     "text": [
      "AxesSubplot(0.125,0.125;0.775x0.755)\n"
     ]
    },
    {
     "data": {
      "image/png": "[encoded data removed]",
      "text/plain": [
       "<Figure size 432x288 with 1 Axes>"
      ]
     },
     "metadata": {
      "needs_background": "light"
     },
     "output_type": "display_data"
    }
   ],
   "source": [
    "outlier(df, 'NUM_NACVIVO', 'both', .1)"
   ]
  },
  {
   "cell_type": "code",
   "execution_count": 22,
   "metadata": {
    "ExecuteTime": {
     "end_time": "2020-09-26T18:06:37.732073Z",
     "start_time": "2020-09-26T18:06:33.047011Z"
    }
   },
   "outputs": [
    {
     "name": "stdout",
     "output_type": "stream",
     "text": [
      "AxesSubplot(0.125,0.125;0.775x0.755)\n"
     ]
    },
    {
     "data": {
      "image/png": "[encoded data removed]",
      "text/plain": [
       "<Figure size 432x288 with 1 Axes>"
      ]
     },
     "metadata": {
      "needs_background": "light"
     },
     "output_type": "display_data"
    }
   ],
   "source": [
    "outlier(df, 'HIJO_SOBV', 'max', .1)"
   ]
  },
  {
   "cell_type": "code",
   "execution_count": 23,
   "metadata": {
    "ExecuteTime": {
     "end_time": "2020-09-26T18:06:42.135053Z",
     "start_time": "2020-09-26T18:06:37.746183Z"
    }
   },
   "outputs": [
    {
     "name": "stdout",
     "output_type": "stream",
     "text": [
      "AxesSubplot(0.125,0.125;0.775x0.755)\n"
     ]
    },
    {
     "data": {
      "image/png": "[encoded data removed]",
      "text/plain": [
       "<Figure size 432x288 with 1 Axes>"
      ]
     },
     "metadata": {
      "needs_background": "light"
     },
     "output_type": "display_data"
    }
   ],
   "source": [
    "outlier(df, 'TOT_CONS', 'max', .2)"
   ]
  },
  {
   "cell_type": "code",
   "execution_count": 24,
   "metadata": {
    "ExecuteTime": {
     "end_time": "2020-09-26T18:06:46.523679Z",
     "start_time": "2020-09-26T18:06:42.146745Z"
    }
   },
   "outputs": [
    {
     "name": "stdout",
     "output_type": "stream",
     "text": [
      "AxesSubplot(0.125,0.125;0.775x0.755)\n"
     ]
    },
    {
     "data": {
      "image/png": "[encoded data removed]",
      "text/plain": [
       "<Figure size 432x288 with 1 Axes>"
      ]
     },
     "metadata": {
      "needs_background": "light"
     },
     "output_type": "display_data"
    }
   ],
   "source": [
    "outlier(df, 'GESTACH', 'both', .15)"
   ]
  },
  {
   "cell_type": "code",
   "execution_count": 25,
   "metadata": {
    "ExecuteTime": {
     "end_time": "2020-09-26T18:06:51.042592Z",
     "start_time": "2020-09-26T18:06:46.527357Z"
    }
   },
   "outputs": [
    {
     "name": "stdout",
     "output_type": "stream",
     "text": [
      "AxesSubplot(0.125,0.125;0.775x0.755)\n"
     ]
    },
    {
     "data": {
      "image/png": "[encoded data removed]",
      "text/plain": [
       "<Figure size 432x288 with 1 Axes>"
      ]
     },
     "metadata": {
      "needs_background": "light"
     },
     "output_type": "display_data"
    }
   ],
   "source": [
    "outlier(df, 'TALLAH', 'both', .2)"
   ]
  },
  {
   "cell_type": "code",
   "execution_count": 26,
   "metadata": {
    "ExecuteTime": {
     "end_time": "2020-09-26T18:06:55.551611Z",
     "start_time": "2020-09-26T18:06:51.047121Z"
    }
   },
   "outputs": [
    {
     "name": "stdout",
     "output_type": "stream",
     "text": [
      "AxesSubplot(0.125,0.125;0.775x0.755)\n"
     ]
    },
    {
     "data": {
      "image/png": "[encoded data removed]",
      "text/plain": [
       "<Figure size 432x288 with 1 Axes>"
      ]
     },
     "metadata": {
      "needs_background": "light"
     },
     "output_type": "display_data"
    }
   ],
   "source": [
    "outlier(df, 'PESOH', 'both', .12)"
   ]
  },
  {
   "cell_type": "code",
   "execution_count": 27,
   "metadata": {
    "ExecuteTime": {
     "end_time": "2020-09-26T18:06:59.787704Z",
     "start_time": "2020-09-26T18:06:55.555735Z"
    }
   },
   "outputs": [
    {
     "name": "stdout",
     "output_type": "stream",
     "text": [
      "AxesSubplot(0.125,0.125;0.775x0.755)\n"
     ]
    },
    {
     "data": {
      "image/png": "[encoded data removed]",
      "text/plain": [
       "<Figure size 432x288 with 1 Axes>"
      ]
     },
     "metadata": {
      "needs_background": "light"
     },
     "output_type": "display_data"
    }
   ],
   "source": [
    "outlier(df, 'APGARH', 'min', .1)"
   ]
  },
  {
   "cell_type": "code",
   "execution_count": 28,
   "metadata": {
    "ExecuteTime": {
     "end_time": "2020-09-26T18:07:04.205273Z",
     "start_time": "2020-09-26T18:06:59.791671Z"
    }
   },
   "outputs": [
    {
     "name": "stdout",
     "output_type": "stream",
     "text": [
      "AxesSubplot(0.125,0.125;0.775x0.755)\n"
     ]
    },
    {
     "data": {
      "image/png": "[encoded data removed]",
      "text/plain": [
       "<Figure size 432x288 with 1 Axes>"
      ]
     },
     "metadata": {
      "needs_background": "light"
     },
     "output_type": "display_data"
    }
   ],
   "source": [
    "outlier(df, 'SILVERMAN', 'max', .1)"
   ]
  },
  {
   "cell_type": "code",
   "execution_count": 29,
   "metadata": {
    "ExecuteTime": {
     "end_time": "2020-09-26T18:07:04.220565Z",
     "start_time": "2020-09-26T18:07:04.209816Z"
    }
   },
   "outputs": [
    {
     "data": {
      "text/plain": [
       "0.9028537415949136"
      ]
     },
     "execution_count": 29,
     "metadata": {},
     "output_type": "execute_result"
    }
   ],
   "source": [
    "## Listo, después de tratar valores atípicos contamos con el 90% de los datos, aún hay ausentes\n",
    "df.shape[0] / dim_antes"
   ]
  },
  {
   "cell_type": "code",
   "execution_count": 30,
   "metadata": {
    "ExecuteTime": {
     "end_time": "2020-09-26T18:07:08.357260Z",
     "start_time": "2020-09-26T18:07:08.148963Z"
    },
    "scrolled": true
   },
   "outputs": [
    {
     "data": {
      "text/plain": [
       "array([[<AxesSubplot:title={'center':'NUM_EMB'}>,\n",
       "        <AxesSubplot:title={'center':'NUM_NACMTO'}>,\n",
       "        <AxesSubplot:title={'center':'NUM_NACVIVO'}>],\n",
       "       [<AxesSubplot:title={'center':'HIJO_SOBV'}>,\n",
       "        <AxesSubplot:title={'center':'TOT_CONS'}>,\n",
       "        <AxesSubplot:title={'center':'GESTACH'}>],\n",
       "       [<AxesSubplot:title={'center':'TALLAH'}>,\n",
       "        <AxesSubplot:title={'center':'PESOH'}>,\n",
       "        <AxesSubplot:title={'center':'APGARH'}>],\n",
       "       [<AxesSubplot:title={'center':'SILVERMAN'}>, <AxesSubplot:>,\n",
       "        <AxesSubplot:>]], dtype=object)"
      ]
     },
     "execution_count": 30,
     "metadata": {},
     "output_type": "execute_result"
    },
    {
     "data": {
      "image/png": "[encoded data removed]",
      "text/plain": [
       "<Figure size 432x288 with 12 Axes>"
      ]
     },
     "metadata": {
      "needs_background": "light"
     },
     "output_type": "display_data"
    }
   ],
   "source": [
    "## Pero las distribuciones ya son más naturales\n",
    "df[num].hist()"
   ]
  },
  {
   "cell_type": "markdown",
   "metadata": {},
   "source": [
    "#### Ausentes"
   ]
  },
  {
   "cell_type": "code",
   "execution_count": 31,
   "metadata": {
    "ExecuteTime": {
     "end_time": "2020-09-26T18:07:08.357260Z",
     "start_time": "2020-09-26T18:07:08.148963Z"
    },
    "scrolled": true
   },
   "outputs": [
    {
     "data": {
      "text/plain": [
       "NUM_EMB        0.000215\n",
       "NUM_NACMTO     0.002462\n",
       "NUM_NACVIVO    0.000467\n",
       "HIJO_SOBV      0.000910\n",
       "TOT_CONS       0.015287\n",
       "GESTACH        0.001454\n",
       "TALLAH         0.000238\n",
       "PESOH          0.000011\n",
       "APGARH         0.007794\n",
       "SILVERMAN      0.010232\n",
       "dtype: float64"
      ]
     },
     "execution_count": 31,
     "metadata": {},
     "output_type": "execute_result"
    }
   ],
   "source": [
    "df[num].isnull().sum() / df.shape[0]"
   ]
  },
  {
   "cell_type": "code",
   "execution_count": 32,
   "metadata": {
    "ExecuteTime": {
     "end_time": "2020-09-26T18:07:09.152088Z",
     "start_time": "2020-09-26T18:07:08.361436Z"
    }
   },
   "outputs": [],
   "source": [
    "## Función para comparar variables antes y después de imputar valores ausentes\n",
    "import seaborn as sns\n",
    "def compara(df, variable):\n",
    "    sns.distplot(df[variable].dropna(), #variable original pero sin vacíos\n",
    "                 label = \"Original\",\n",
    "                 hist = False)    \n",
    "    sns.distplot(df[f'{variable}_imput'], #variable con valores ausentes calculados\n",
    "                 color = \"red\", \n",
    "                 label = \"Imput\",\n",
    "                 hist = False)\n",
    "    plt.legend()\n",
    "\n",
    "## Imput vacíos con la mediana\n",
    "for imput in num:\n",
    "    df_prom = df[imput].fillna(df[imput].median()).copy()\n",
    "    df[f'{imput}_imput'] = df_prom.copy()\n",
    "\n",
    "compara(df, 'VARIABLE')"
   ]
  },
  {
   "cell_type": "code",
   "execution_count": 35,
   "metadata": {
    "ExecuteTime": {
     "end_time": "2020-09-26T18:07:13.186213Z",
     "start_time": "2020-09-26T18:07:11.911637Z"
    }
   },
   "outputs": [
    {
     "data": {
      "image/png": "[encoded data removed]",
      "text/plain": [
       "<Figure size 432x288 with 1 Axes>"
      ]
     },
     "metadata": {
      "needs_background": "light"
     },
     "output_type": "display_data"
    }
   ],
   "source": [
    "compara(df, 'GESTACH')"
   ]
  },
  {
   "cell_type": "code",
   "execution_count": 36,
   "metadata": {
    "ExecuteTime": {
     "end_time": "2020-09-26T18:07:13.980641Z",
     "start_time": "2020-09-26T18:07:13.191535Z"
    },
    "scrolled": true
   },
   "outputs": [
    {
     "data": {
      "text/plain": [
       "NUM_EMB_imput        0.0\n",
       "NUM_NACMTO_imput     0.0\n",
       "NUM_NACVIVO_imput    0.0\n",
       "HIJO_SOBV_imput      0.0\n",
       "TOT_CONS_imput       0.0\n",
       "GESTACH_imput        0.0\n",
       "TALLAH_imput         0.0\n",
       "PESOH_imput          0.0\n",
       "APGARH_imput         0.0\n",
       "SILVERMAN_imput      0.0\n",
       "dtype: float64"
      ]
     },
     "execution_count": 36,
     "metadata": {},
     "output_type": "execute_result"
    }
   ],
   "source": [
    "## Listo, el 4% que podíamos perder se ha imputado con la mediana de cada variable\n",
    "num = [col for col in df.columns if col.endswith('_imput')]\n",
    "df[num].isnull().sum() / df.shape[0]"
   ]
  },
  {
   "cell_type": "markdown",
   "metadata": {},
   "source": [
    "### Categóricas"
   ]
  },
  {
   "cell_type": "code",
   "execution_count": 37,
   "metadata": {
    "ExecuteTime": {
     "end_time": "2020-09-26T18:07:20.629123Z",
     "start_time": "2020-09-26T18:07:13.988529Z"
    },
    "scrolled": true
   },
   "outputs": [
    {
     "data": {
      "text/html": [
       "<div>\n",
       "<style scoped>\n",
       "    .dataframe tbody tr th:only-of-type {\n",
       "        vertical-align: middle;\n",
       "    }\n",
       "\n",
       "    .dataframe tbody tr th {\n",
       "        vertical-align: top;\n",
       "    }\n",
       "\n",
       "    .dataframe thead th {\n",
       "        text-align: right;\n",
       "    }\n",
       "</style>\n",
       "<table border=\"1\" class=\"dataframe\">\n",
       "  <thead>\n",
       "    <tr style=\"text-align: right;\">\n",
       "      <th></th>\n",
       "      <th>CEDOCVE</th>\n",
       "      <th>ENT_NACM</th>\n",
       "      <th>MPO_NACM</th>\n",
       "      <th>EDADM</th>\n",
       "      <th>CON_INDM</th>\n",
       "      <th>HABLA_INDM</th>\n",
       "      <th>EDOCIVIL</th>\n",
       "      <th>TIPOVIAL_RES</th>\n",
       "      <th>TIPOASEN_RES</th>\n",
       "      <th>ENT_RES</th>\n",
       "      <th>MPO_RES</th>\n",
       "      <th>LOC_RES</th>\n",
       "      <th>HIJO_ANTE</th>\n",
       "      <th>VIVE_AUN</th>\n",
       "      <th>ORDEN_NAC</th>\n",
       "      <th>ATEN_PREN</th>\n",
       "      <th>TRIM_CONS</th>\n",
       "      <th>SOB_PARTO</th>\n",
       "      <th>DERHAB</th>\n",
       "      <th>DERHAB2</th>\n",
       "      <th>NIV_ESCOL</th>\n",
       "      <th>CVEOCUPHAB</th>\n",
       "      <th>TRAB_ACT</th>\n",
       "      <th>SEXOH</th>\n",
       "      <th>BCG</th>\n",
       "      <th>HEP_B</th>\n",
       "      <th>VIT_A</th>\n",
       "      <th>VIT_K</th>\n",
       "      <th>TAM_AUD</th>\n",
       "      <th>PRODUCTO</th>\n",
       "      <th>PROCNAC</th>\n",
       "      <th>FORCEPS</th>\n",
       "      <th>INST_NAC</th>\n",
       "      <th>ATENDIO</th>\n",
       "      <th>TIPOVIAL_NAC</th>\n",
       "      <th>TIPOASEN_NAC</th>\n",
       "      <th>ENT_NAC</th>\n",
       "      <th>MPO_NAC</th>\n",
       "      <th>LOC_NAC</th>\n",
       "      <th>CERT_POR</th>\n",
       "      <th>TIPOVIAL_CERT</th>\n",
       "      <th>TIPOASEN_CERT</th>\n",
       "      <th>ENT_CERT</th>\n",
       "      <th>MPO_CERT</th>\n",
       "      <th>LOC_CERT</th>\n",
       "      <th>FECH_CAMB</th>\n",
       "      <th>IDCAPTURA</th>\n",
       "      <th>TIPO_FORMATO</th>\n",
       "    </tr>\n",
       "  </thead>\n",
       "  <tbody>\n",
       "    <tr>\n",
       "      <th>count</th>\n",
       "      <td>1.686724e+06</td>\n",
       "      <td>1.686724e+06</td>\n",
       "      <td>1.686723e+06</td>\n",
       "      <td>1.686724e+06</td>\n",
       "      <td>1.686723e+06</td>\n",
       "      <td>1.686723e+06</td>\n",
       "      <td>1.686724e+06</td>\n",
       "      <td>1.684014e+06</td>\n",
       "      <td>1.684014e+06</td>\n",
       "      <td>1.686724e+06</td>\n",
       "      <td>1.686724e+06</td>\n",
       "      <td>1.686724e+06</td>\n",
       "      <td>1.686724e+06</td>\n",
       "      <td>1.686724e+06</td>\n",
       "      <td>1.686724e+06</td>\n",
       "      <td>1.686724e+06</td>\n",
       "      <td>1.686724e+06</td>\n",
       "      <td>1.686724e+06</td>\n",
       "      <td>1.686724e+06</td>\n",
       "      <td>1.686724e+06</td>\n",
       "      <td>1.686724e+06</td>\n",
       "      <td>1.686724e+06</td>\n",
       "      <td>1.686724e+06</td>\n",
       "      <td>1.686724e+06</td>\n",
       "      <td>1.686724e+06</td>\n",
       "      <td>1.686724e+06</td>\n",
       "      <td>1.686724e+06</td>\n",
       "      <td>1.686724e+06</td>\n",
       "      <td>1.686724e+06</td>\n",
       "      <td>1.686724e+06</td>\n",
       "      <td>1.686724e+06</td>\n",
       "      <td>1.686724e+06</td>\n",
       "      <td>1.686724e+06</td>\n",
       "      <td>1.686722e+06</td>\n",
       "      <td>1.684011e+06</td>\n",
       "      <td>1.686724e+06</td>\n",
       "      <td>1.686724e+06</td>\n",
       "      <td>1.686724e+06</td>\n",
       "      <td>1.686724e+06</td>\n",
       "      <td>1.686722e+06</td>\n",
       "      <td>1.686722e+06</td>\n",
       "      <td>1.686722e+06</td>\n",
       "      <td>1.686724e+06</td>\n",
       "      <td>1.686724e+06</td>\n",
       "      <td>1.686724e+06</td>\n",
       "      <td>0.0</td>\n",
       "      <td>1.251957e+06</td>\n",
       "      <td>1.685837e+06</td>\n",
       "    </tr>\n",
       "    <tr>\n",
       "      <th>mean</th>\n",
       "      <td>1.655076e+01</td>\n",
       "      <td>1.716750e+01</td>\n",
       "      <td>8.846308e+01</td>\n",
       "      <td>2.578835e+01</td>\n",
       "      <td>1.995127e+00</td>\n",
       "      <td>2.015658e+00</td>\n",
       "      <td>1.527095e+01</td>\n",
       "      <td>8.678769e+00</td>\n",
       "      <td>1.211872e+01</td>\n",
       "      <td>1.676206e+01</td>\n",
       "      <td>5.623844e+01</td>\n",
       "      <td>1.423803e+02</td>\n",
       "      <td>1.788202e+00</td>\n",
       "      <td>6.611117e-01</td>\n",
       "      <td>2.455967e+00</td>\n",
       "      <td>1.042132e+00</td>\n",
       "      <td>1.298897e+00</td>\n",
       "      <td>1.004059e+00</td>\n",
       "      <td>8.071656e+00</td>\n",
       "      <td>2.421816e+01</td>\n",
       "      <td>6.884989e+00</td>\n",
       "      <td>8.321080e+00</td>\n",
       "      <td>1.135977e+00</td>\n",
       "      <td>1.491283e+00</td>\n",
       "      <td>2.145202e+00</td>\n",
       "      <td>2.136324e+00</td>\n",
       "      <td>1.988285e+00</td>\n",
       "      <td>1.126775e+00</td>\n",
       "      <td>2.164907e+00</td>\n",
       "      <td>1.018256e+00</td>\n",
       "      <td>1.521895e+00</td>\n",
       "      <td>4.087973e+00</td>\n",
       "      <td>4.363139e+00</td>\n",
       "      <td>9.313599e+00</td>\n",
       "      <td>7.487591e+00</td>\n",
       "      <td>1.167262e+01</td>\n",
       "      <td>1.661125e+01</td>\n",
       "      <td>5.021124e+01</td>\n",
       "      <td>2.369215e+01</td>\n",
       "      <td>2.025681e+00</td>\n",
       "      <td>7.699165e+00</td>\n",
       "      <td>1.145932e+01</td>\n",
       "      <td>1.656362e+01</td>\n",
       "      <td>5.016146e+01</td>\n",
       "      <td>2.339810e+01</td>\n",
       "      <td>NaN</td>\n",
       "      <td>1.187996e+00</td>\n",
       "      <td>2.015002e+03</td>\n",
       "    </tr>\n",
       "    <tr>\n",
       "      <th>std</th>\n",
       "      <td>7.922861e+00</td>\n",
       "      <td>9.511581e+00</td>\n",
       "      <td>1.904019e+02</td>\n",
       "      <td>6.398446e+00</td>\n",
       "      <td>7.170412e-01</td>\n",
       "      <td>7.312542e-01</td>\n",
       "      <td>1.290086e+01</td>\n",
       "      <td>1.719151e+01</td>\n",
       "      <td>1.334048e+01</td>\n",
       "      <td>8.673383e+00</td>\n",
       "      <td>8.819201e+01</td>\n",
       "      <td>1.099693e+03</td>\n",
       "      <td>9.840485e-01</td>\n",
       "      <td>6.676318e-01</td>\n",
       "      <td>5.179648e+00</td>\n",
       "      <td>4.204394e-01</td>\n",
       "      <td>9.602358e-01</td>\n",
       "      <td>1.759314e-01</td>\n",
       "      <td>1.752697e+01</td>\n",
       "      <td>3.913357e+01</td>\n",
       "      <td>9.705010e+00</td>\n",
       "      <td>2.084115e+01</td>\n",
       "      <td>9.867768e-01</td>\n",
       "      <td>5.390992e-01</td>\n",
       "      <td>1.329958e+00</td>\n",
       "      <td>1.340510e+00</td>\n",
       "      <td>1.257117e+00</td>\n",
       "      <td>6.808588e-01</td>\n",
       "      <td>1.260000e+00</td>\n",
       "      <td>2.582341e-01</td>\n",
       "      <td>6.480680e-01</td>\n",
       "      <td>4.413733e+00</td>\n",
       "      <td>6.836829e+00</td>\n",
       "      <td>4.568300e+00</td>\n",
       "      <td>1.433990e+01</td>\n",
       "      <td>1.101165e+02</td>\n",
       "      <td>7.740747e+01</td>\n",
       "      <td>6.384886e+01</td>\n",
       "      <td>4.294065e+02</td>\n",
       "      <td>1.872845e+00</td>\n",
       "      <td>1.498928e+01</td>\n",
       "      <td>1.615633e+01</td>\n",
       "      <td>1.465701e+01</td>\n",
       "      <td>6.387564e+01</td>\n",
       "      <td>4.284688e+02</td>\n",
       "      <td>NaN</td>\n",
       "      <td>1.023345e+00</td>\n",
       "      <td>2.203141e+00</td>\n",
       "    </tr>\n",
       "    <tr>\n",
       "      <th>min</th>\n",
       "      <td>1.000000e+00</td>\n",
       "      <td>1.000000e+00</td>\n",
       "      <td>1.000000e+00</td>\n",
       "      <td>9.000000e+00</td>\n",
       "      <td>0.000000e+00</td>\n",
       "      <td>0.000000e+00</td>\n",
       "      <td>1.100000e+01</td>\n",
       "      <td>0.000000e+00</td>\n",
       "      <td>0.000000e+00</td>\n",
       "      <td>0.000000e+00</td>\n",
       "      <td>1.000000e+00</td>\n",
       "      <td>0.000000e+00</td>\n",
       "      <td>1.000000e+00</td>\n",
       "      <td>0.000000e+00</td>\n",
       "      <td>1.000000e+00</td>\n",
       "      <td>1.000000e+00</td>\n",
       "      <td>0.000000e+00</td>\n",
       "      <td>1.000000e+00</td>\n",
       "      <td>1.000000e+00</td>\n",
       "      <td>0.000000e+00</td>\n",
       "      <td>1.000000e+00</td>\n",
       "      <td>0.000000e+00</td>\n",
       "      <td>0.000000e+00</td>\n",
       "      <td>1.000000e+00</td>\n",
       "      <td>1.000000e+00</td>\n",
       "      <td>0.000000e+00</td>\n",
       "      <td>0.000000e+00</td>\n",
       "      <td>0.000000e+00</td>\n",
       "      <td>0.000000e+00</td>\n",
       "      <td>0.000000e+00</td>\n",
       "      <td>1.000000e+00</td>\n",
       "      <td>0.000000e+00</td>\n",
       "      <td>1.000000e+00</td>\n",
       "      <td>1.000000e+00</td>\n",
       "      <td>0.000000e+00</td>\n",
       "      <td>0.000000e+00</td>\n",
       "      <td>1.000000e+00</td>\n",
       "      <td>1.000000e+00</td>\n",
       "      <td>0.000000e+00</td>\n",
       "      <td>1.000000e+00</td>\n",
       "      <td>0.000000e+00</td>\n",
       "      <td>0.000000e+00</td>\n",
       "      <td>0.000000e+00</td>\n",
       "      <td>1.000000e+00</td>\n",
       "      <td>0.000000e+00</td>\n",
       "      <td>NaN</td>\n",
       "      <td>1.000000e+00</td>\n",
       "      <td>1.000000e+00</td>\n",
       "    </tr>\n",
       "    <tr>\n",
       "      <th>20%</th>\n",
       "      <td>9.000000e+00</td>\n",
       "      <td>9.000000e+00</td>\n",
       "      <td>1.000000e+01</td>\n",
       "      <td>2.000000e+01</td>\n",
       "      <td>2.000000e+00</td>\n",
       "      <td>2.000000e+00</td>\n",
       "      <td>1.100000e+01</td>\n",
       "      <td>5.000000e+00</td>\n",
       "      <td>7.000000e+00</td>\n",
       "      <td>9.000000e+00</td>\n",
       "      <td>9.000000e+00</td>\n",
       "      <td>1.000000e+00</td>\n",
       "      <td>1.000000e+00</td>\n",
       "      <td>0.000000e+00</td>\n",
       "      <td>1.000000e+00</td>\n",
       "      <td>1.000000e+00</td>\n",
       "      <td>1.000000e+00</td>\n",
       "      <td>1.000000e+00</td>\n",
       "      <td>2.000000e+00</td>\n",
       "      <td>0.000000e+00</td>\n",
       "      <td>5.000000e+00</td>\n",
       "      <td>2.000000e+00</td>\n",
       "      <td>0.000000e+00</td>\n",
       "      <td>1.000000e+00</td>\n",
       "      <td>2.000000e+00</td>\n",
       "      <td>2.000000e+00</td>\n",
       "      <td>1.000000e+00</td>\n",
       "      <td>1.000000e+00</td>\n",
       "      <td>2.000000e+00</td>\n",
       "      <td>1.000000e+00</td>\n",
       "      <td>1.000000e+00</td>\n",
       "      <td>0.000000e+00</td>\n",
       "      <td>1.000000e+00</td>\n",
       "      <td>1.000000e+00</td>\n",
       "      <td>3.000000e+00</td>\n",
       "      <td>7.000000e+00</td>\n",
       "      <td>9.000000e+00</td>\n",
       "      <td>8.000000e+00</td>\n",
       "      <td>1.000000e+00</td>\n",
       "      <td>1.000000e+00</td>\n",
       "      <td>3.000000e+00</td>\n",
       "      <td>7.000000e+00</td>\n",
       "      <td>9.000000e+00</td>\n",
       "      <td>8.000000e+00</td>\n",
       "      <td>1.000000e+00</td>\n",
       "      <td>NaN</td>\n",
       "      <td>1.000000e+00</td>\n",
       "      <td>2.015000e+03</td>\n",
       "    </tr>\n",
       "    <tr>\n",
       "      <th>40%</th>\n",
       "      <td>1.400000e+01</td>\n",
       "      <td>1.400000e+01</td>\n",
       "      <td>2.700000e+01</td>\n",
       "      <td>2.300000e+01</td>\n",
       "      <td>2.000000e+00</td>\n",
       "      <td>2.000000e+00</td>\n",
       "      <td>1.200000e+01</td>\n",
       "      <td>5.000000e+00</td>\n",
       "      <td>7.000000e+00</td>\n",
       "      <td>1.400000e+01</td>\n",
       "      <td>2.400000e+01</td>\n",
       "      <td>1.000000e+00</td>\n",
       "      <td>1.000000e+00</td>\n",
       "      <td>1.000000e+00</td>\n",
       "      <td>2.000000e+00</td>\n",
       "      <td>1.000000e+00</td>\n",
       "      <td>1.000000e+00</td>\n",
       "      <td>1.000000e+00</td>\n",
       "      <td>2.000000e+00</td>\n",
       "      <td>0.000000e+00</td>\n",
       "      <td>5.000000e+00</td>\n",
       "      <td>2.000000e+00</td>\n",
       "      <td>1.000000e+00</td>\n",
       "      <td>1.000000e+00</td>\n",
       "      <td>2.000000e+00</td>\n",
       "      <td>2.000000e+00</td>\n",
       "      <td>2.000000e+00</td>\n",
       "      <td>1.000000e+00</td>\n",
       "      <td>2.000000e+00</td>\n",
       "      <td>1.000000e+00</td>\n",
       "      <td>1.000000e+00</td>\n",
       "      <td>0.000000e+00</td>\n",
       "      <td>1.000000e+00</td>\n",
       "      <td>1.100000e+01</td>\n",
       "      <td>4.000000e+00</td>\n",
       "      <td>7.000000e+00</td>\n",
       "      <td>1.400000e+01</td>\n",
       "      <td>2.300000e+01</td>\n",
       "      <td>1.000000e+00</td>\n",
       "      <td>1.000000e+00</td>\n",
       "      <td>4.000000e+00</td>\n",
       "      <td>7.000000e+00</td>\n",
       "      <td>1.400000e+01</td>\n",
       "      <td>2.300000e+01</td>\n",
       "      <td>1.000000e+00</td>\n",
       "      <td>NaN</td>\n",
       "      <td>1.000000e+00</td>\n",
       "      <td>2.015000e+03</td>\n",
       "    </tr>\n",
       "    <tr>\n",
       "      <th>50%</th>\n",
       "      <td>1.500000e+01</td>\n",
       "      <td>1.500000e+01</td>\n",
       "      <td>3.700000e+01</td>\n",
       "      <td>2.500000e+01</td>\n",
       "      <td>2.000000e+00</td>\n",
       "      <td>2.000000e+00</td>\n",
       "      <td>1.500000e+01</td>\n",
       "      <td>5.000000e+00</td>\n",
       "      <td>7.000000e+00</td>\n",
       "      <td>1.500000e+01</td>\n",
       "      <td>3.300000e+01</td>\n",
       "      <td>1.000000e+00</td>\n",
       "      <td>1.000000e+00</td>\n",
       "      <td>1.000000e+00</td>\n",
       "      <td>2.000000e+00</td>\n",
       "      <td>1.000000e+00</td>\n",
       "      <td>1.000000e+00</td>\n",
       "      <td>1.000000e+00</td>\n",
       "      <td>7.000000e+00</td>\n",
       "      <td>0.000000e+00</td>\n",
       "      <td>6.000000e+00</td>\n",
       "      <td>2.000000e+00</td>\n",
       "      <td>1.000000e+00</td>\n",
       "      <td>1.000000e+00</td>\n",
       "      <td>2.000000e+00</td>\n",
       "      <td>2.000000e+00</td>\n",
       "      <td>2.000000e+00</td>\n",
       "      <td>1.000000e+00</td>\n",
       "      <td>2.000000e+00</td>\n",
       "      <td>1.000000e+00</td>\n",
       "      <td>1.000000e+00</td>\n",
       "      <td>0.000000e+00</td>\n",
       "      <td>3.000000e+00</td>\n",
       "      <td>1.100000e+01</td>\n",
       "      <td>5.000000e+00</td>\n",
       "      <td>7.000000e+00</td>\n",
       "      <td>1.500000e+01</td>\n",
       "      <td>3.300000e+01</td>\n",
       "      <td>1.000000e+00</td>\n",
       "      <td>1.000000e+00</td>\n",
       "      <td>5.000000e+00</td>\n",
       "      <td>7.000000e+00</td>\n",
       "      <td>1.500000e+01</td>\n",
       "      <td>3.300000e+01</td>\n",
       "      <td>1.000000e+00</td>\n",
       "      <td>NaN</td>\n",
       "      <td>1.000000e+00</td>\n",
       "      <td>2.015000e+03</td>\n",
       "    </tr>\n",
       "    <tr>\n",
       "      <th>60%</th>\n",
       "      <td>1.900000e+01</td>\n",
       "      <td>1.900000e+01</td>\n",
       "      <td>4.300000e+01</td>\n",
       "      <td>2.700000e+01</td>\n",
       "      <td>2.000000e+00</td>\n",
       "      <td>2.000000e+00</td>\n",
       "      <td>1.500000e+01</td>\n",
       "      <td>5.000000e+00</td>\n",
       "      <td>7.000000e+00</td>\n",
       "      <td>1.900000e+01</td>\n",
       "      <td>4.100000e+01</td>\n",
       "      <td>1.000000e+00</td>\n",
       "      <td>2.000000e+00</td>\n",
       "      <td>1.000000e+00</td>\n",
       "      <td>2.000000e+00</td>\n",
       "      <td>1.000000e+00</td>\n",
       "      <td>1.000000e+00</td>\n",
       "      <td>1.000000e+00</td>\n",
       "      <td>7.000000e+00</td>\n",
       "      <td>1.000000e+00</td>\n",
       "      <td>7.000000e+00</td>\n",
       "      <td>2.000000e+00</td>\n",
       "      <td>2.000000e+00</td>\n",
       "      <td>2.000000e+00</td>\n",
       "      <td>2.000000e+00</td>\n",
       "      <td>2.000000e+00</td>\n",
       "      <td>2.000000e+00</td>\n",
       "      <td>1.000000e+00</td>\n",
       "      <td>2.000000e+00</td>\n",
       "      <td>1.000000e+00</td>\n",
       "      <td>2.000000e+00</td>\n",
       "      <td>8.000000e+00</td>\n",
       "      <td>3.000000e+00</td>\n",
       "      <td>1.100000e+01</td>\n",
       "      <td>5.000000e+00</td>\n",
       "      <td>7.000000e+00</td>\n",
       "      <td>1.900000e+01</td>\n",
       "      <td>3.900000e+01</td>\n",
       "      <td>1.000000e+00</td>\n",
       "      <td>2.000000e+00</td>\n",
       "      <td>5.000000e+00</td>\n",
       "      <td>7.000000e+00</td>\n",
       "      <td>1.900000e+01</td>\n",
       "      <td>3.900000e+01</td>\n",
       "      <td>1.000000e+00</td>\n",
       "      <td>NaN</td>\n",
       "      <td>1.000000e+00</td>\n",
       "      <td>2.015000e+03</td>\n",
       "    </tr>\n",
       "    <tr>\n",
       "      <th>80%</th>\n",
       "      <td>2.400000e+01</td>\n",
       "      <td>2.500000e+01</td>\n",
       "      <td>1.010000e+02</td>\n",
       "      <td>3.100000e+01</td>\n",
       "      <td>2.000000e+00</td>\n",
       "      <td>2.000000e+00</td>\n",
       "      <td>1.500000e+01</td>\n",
       "      <td>5.000000e+00</td>\n",
       "      <td>1.600000e+01</td>\n",
       "      <td>2.400000e+01</td>\n",
       "      <td>9.100000e+01</td>\n",
       "      <td>7.000000e+00</td>\n",
       "      <td>3.000000e+00</td>\n",
       "      <td>1.000000e+00</td>\n",
       "      <td>3.000000e+00</td>\n",
       "      <td>1.000000e+00</td>\n",
       "      <td>2.000000e+00</td>\n",
       "      <td>1.000000e+00</td>\n",
       "      <td>7.000000e+00</td>\n",
       "      <td>8.800000e+01</td>\n",
       "      <td>7.000000e+00</td>\n",
       "      <td>6.000000e+00</td>\n",
       "      <td>2.000000e+00</td>\n",
       "      <td>2.000000e+00</td>\n",
       "      <td>2.000000e+00</td>\n",
       "      <td>2.000000e+00</td>\n",
       "      <td>2.000000e+00</td>\n",
       "      <td>1.000000e+00</td>\n",
       "      <td>2.000000e+00</td>\n",
       "      <td>1.000000e+00</td>\n",
       "      <td>2.000000e+00</td>\n",
       "      <td>9.000000e+00</td>\n",
       "      <td>1.000000e+01</td>\n",
       "      <td>1.100000e+01</td>\n",
       "      <td>5.000000e+00</td>\n",
       "      <td>7.000000e+00</td>\n",
       "      <td>2.400000e+01</td>\n",
       "      <td>8.500000e+01</td>\n",
       "      <td>1.000000e+00</td>\n",
       "      <td>2.000000e+00</td>\n",
       "      <td>5.000000e+00</td>\n",
       "      <td>7.000000e+00</td>\n",
       "      <td>2.400000e+01</td>\n",
       "      <td>8.500000e+01</td>\n",
       "      <td>1.000000e+00</td>\n",
       "      <td>NaN</td>\n",
       "      <td>1.000000e+00</td>\n",
       "      <td>2.015000e+03</td>\n",
       "    </tr>\n",
       "    <tr>\n",
       "      <th>95%</th>\n",
       "      <td>3.000000e+01</td>\n",
       "      <td>3.000000e+01</td>\n",
       "      <td>3.260000e+02</td>\n",
       "      <td>3.700000e+01</td>\n",
       "      <td>2.000000e+00</td>\n",
       "      <td>2.000000e+00</td>\n",
       "      <td>1.500000e+01</td>\n",
       "      <td>2.200000e+01</td>\n",
       "      <td>2.800000e+01</td>\n",
       "      <td>3.000000e+01</td>\n",
       "      <td>1.610000e+02</td>\n",
       "      <td>1.190000e+02</td>\n",
       "      <td>3.000000e+00</td>\n",
       "      <td>1.000000e+00</td>\n",
       "      <td>5.000000e+00</td>\n",
       "      <td>1.000000e+00</td>\n",
       "      <td>2.000000e+00</td>\n",
       "      <td>1.000000e+00</td>\n",
       "      <td>1.000000e+01</td>\n",
       "      <td>8.800000e+01</td>\n",
       "      <td>1.000000e+01</td>\n",
       "      <td>9.000000e+01</td>\n",
       "      <td>2.000000e+00</td>\n",
       "      <td>2.000000e+00</td>\n",
       "      <td>2.000000e+00</td>\n",
       "      <td>2.000000e+00</td>\n",
       "      <td>2.000000e+00</td>\n",
       "      <td>2.000000e+00</td>\n",
       "      <td>2.000000e+00</td>\n",
       "      <td>1.000000e+00</td>\n",
       "      <td>2.000000e+00</td>\n",
       "      <td>9.000000e+00</td>\n",
       "      <td>1.000000e+01</td>\n",
       "      <td>1.400000e+01</td>\n",
       "      <td>2.400000e+01</td>\n",
       "      <td>3.600000e+01</td>\n",
       "      <td>3.000000e+01</td>\n",
       "      <td>1.420000e+02</td>\n",
       "      <td>5.000000e+00</td>\n",
       "      <td>7.000000e+00</td>\n",
       "      <td>2.400000e+01</td>\n",
       "      <td>3.500000e+01</td>\n",
       "      <td>3.000000e+01</td>\n",
       "      <td>1.420000e+02</td>\n",
       "      <td>5.000000e+00</td>\n",
       "      <td>NaN</td>\n",
       "      <td>2.000000e+00</td>\n",
       "      <td>2.015000e+03</td>\n",
       "    </tr>\n",
       "    <tr>\n",
       "      <th>max</th>\n",
       "      <td>3.200000e+01</td>\n",
       "      <td>9.900000e+01</td>\n",
       "      <td>9.990000e+02</td>\n",
       "      <td>9.900000e+01</td>\n",
       "      <td>9.000000e+00</td>\n",
       "      <td>9.000000e+00</td>\n",
       "      <td>9.900000e+01</td>\n",
       "      <td>9.900000e+01</td>\n",
       "      <td>9.900000e+01</td>\n",
       "      <td>9.900000e+01</td>\n",
       "      <td>9.990000e+02</td>\n",
       "      <td>9.999000e+03</td>\n",
       "      <td>9.000000e+00</td>\n",
       "      <td>9.000000e+00</td>\n",
       "      <td>9.900000e+01</td>\n",
       "      <td>9.000000e+00</td>\n",
       "      <td>9.000000e+00</td>\n",
       "      <td>9.000000e+00</td>\n",
       "      <td>9.900000e+01</td>\n",
       "      <td>9.900000e+01</td>\n",
       "      <td>9.900000e+01</td>\n",
       "      <td>9.900000e+01</td>\n",
       "      <td>9.000000e+00</td>\n",
       "      <td>9.000000e+00</td>\n",
       "      <td>9.000000e+00</td>\n",
       "      <td>9.000000e+00</td>\n",
       "      <td>9.000000e+00</td>\n",
       "      <td>9.000000e+00</td>\n",
       "      <td>9.000000e+00</td>\n",
       "      <td>9.000000e+00</td>\n",
       "      <td>9.000000e+00</td>\n",
       "      <td>9.000000e+00</td>\n",
       "      <td>9.900000e+01</td>\n",
       "      <td>1.600000e+01</td>\n",
       "      <td>9.900000e+01</td>\n",
       "      <td>9.999900e+04</td>\n",
       "      <td>9.999900e+04</td>\n",
       "      <td>9.990000e+02</td>\n",
       "      <td>9.999000e+03</td>\n",
       "      <td>9.000000e+00</td>\n",
       "      <td>9.900000e+01</td>\n",
       "      <td>9.900000e+01</td>\n",
       "      <td>1.134000e+04</td>\n",
       "      <td>9.990000e+02</td>\n",
       "      <td>9.999000e+03</td>\n",
       "      <td>NaN</td>\n",
       "      <td>9.000000e+00</td>\n",
       "      <td>2.016000e+03</td>\n",
       "    </tr>\n",
       "  </tbody>\n",
       "</table>\n",
       "</div>"
      ],
      "text/plain": [
       "            CEDOCVE      ENT_NACM      MPO_NACM         EDADM      CON_INDM  \\\n",
       "count  1.686724e+06  1.686724e+06  1.686723e+06  1.686724e+06  1.686723e+06   \n",
       "mean   1.655076e+01  1.716750e+01  8.846308e+01  2.578835e+01  1.995127e+00   \n",
       "std    7.922861e+00  9.511581e+00  1.904019e+02  6.398446e+00  7.170412e-01   \n",
       "min    1.000000e+00  1.000000e+00  1.000000e+00  9.000000e+00  0.000000e+00   \n",
       "20%    9.000000e+00  9.000000e+00  1.000000e+01  2.000000e+01  2.000000e+00   \n",
       "40%    1.400000e+01  1.400000e+01  2.700000e+01  2.300000e+01  2.000000e+00   \n",
       "50%    1.500000e+01  1.500000e+01  3.700000e+01  2.500000e+01  2.000000e+00   \n",
       "60%    1.900000e+01  1.900000e+01  4.300000e+01  2.700000e+01  2.000000e+00   \n",
       "80%    2.400000e+01  2.500000e+01  1.010000e+02  3.100000e+01  2.000000e+00   \n",
       "95%    3.000000e+01  3.000000e+01  3.260000e+02  3.700000e+01  2.000000e+00   \n",
       "max    3.200000e+01  9.900000e+01  9.990000e+02  9.900000e+01  9.000000e+00   \n",
       "\n",
       "         HABLA_INDM      EDOCIVIL  TIPOVIAL_RES  TIPOASEN_RES       ENT_RES  \\\n",
       "count  1.686723e+06  1.686724e+06  1.684014e+06  1.684014e+06  1.686724e+06   \n",
       "mean   2.015658e+00  1.527095e+01  8.678769e+00  1.211872e+01  1.676206e+01   \n",
       "std    7.312542e-01  1.290086e+01  1.719151e+01  1.334048e+01  8.673383e+00   \n",
       "min    0.000000e+00  1.100000e+01  0.000000e+00  0.000000e+00  0.000000e+00   \n",
       "20%    2.000000e+00  1.100000e+01  5.000000e+00  7.000000e+00  9.000000e+00   \n",
       "40%    2.000000e+00  1.200000e+01  5.000000e+00  7.000000e+00  1.400000e+01   \n",
       "50%    2.000000e+00  1.500000e+01  5.000000e+00  7.000000e+00  1.500000e+01   \n",
       "60%    2.000000e+00  1.500000e+01  5.000000e+00  7.000000e+00  1.900000e+01   \n",
       "80%    2.000000e+00  1.500000e+01  5.000000e+00  1.600000e+01  2.400000e+01   \n",
       "95%    2.000000e+00  1.500000e+01  2.200000e+01  2.800000e+01  3.000000e+01   \n",
       "max    9.000000e+00  9.900000e+01  9.900000e+01  9.900000e+01  9.900000e+01   \n",
       "\n",
       "            MPO_RES       LOC_RES     HIJO_ANTE      VIVE_AUN     ORDEN_NAC  \\\n",
       "count  1.686724e+06  1.686724e+06  1.686724e+06  1.686724e+06  1.686724e+06   \n",
       "mean   5.623844e+01  1.423803e+02  1.788202e+00  6.611117e-01  2.455967e+00   \n",
       "std    8.819201e+01  1.099693e+03  9.840485e-01  6.676318e-01  5.179648e+00   \n",
       "min    1.000000e+00  0.000000e+00  1.000000e+00  0.000000e+00  1.000000e+00   \n",
       "20%    9.000000e+00  1.000000e+00  1.000000e+00  0.000000e+00  1.000000e+00   \n",
       "40%    2.400000e+01  1.000000e+00  1.000000e+00  1.000000e+00  2.000000e+00   \n",
       "50%    3.300000e+01  1.000000e+00  1.000000e+00  1.000000e+00  2.000000e+00   \n",
       "60%    4.100000e+01  1.000000e+00  2.000000e+00  1.000000e+00  2.000000e+00   \n",
       "80%    9.100000e+01  7.000000e+00  3.000000e+00  1.000000e+00  3.000000e+00   \n",
       "95%    1.610000e+02  1.190000e+02  3.000000e+00  1.000000e+00  5.000000e+00   \n",
       "max    9.990000e+02  9.999000e+03  9.000000e+00  9.000000e+00  9.900000e+01   \n",
       "\n",
       "          ATEN_PREN     TRIM_CONS     SOB_PARTO        DERHAB       DERHAB2  \\\n",
       "count  1.686724e+06  1.686724e+06  1.686724e+06  1.686724e+06  1.686724e+06   \n",
       "mean   1.042132e+00  1.298897e+00  1.004059e+00  8.071656e+00  2.421816e+01   \n",
       "std    4.204394e-01  9.602358e-01  1.759314e-01  1.752697e+01  3.913357e+01   \n",
       "min    1.000000e+00  0.000000e+00  1.000000e+00  1.000000e+00  0.000000e+00   \n",
       "20%    1.000000e+00  1.000000e+00  1.000000e+00  2.000000e+00  0.000000e+00   \n",
       "40%    1.000000e+00  1.000000e+00  1.000000e+00  2.000000e+00  0.000000e+00   \n",
       "50%    1.000000e+00  1.000000e+00  1.000000e+00  7.000000e+00  0.000000e+00   \n",
       "60%    1.000000e+00  1.000000e+00  1.000000e+00  7.000000e+00  1.000000e+00   \n",
       "80%    1.000000e+00  2.000000e+00  1.000000e+00  7.000000e+00  8.800000e+01   \n",
       "95%    1.000000e+00  2.000000e+00  1.000000e+00  1.000000e+01  8.800000e+01   \n",
       "max    9.000000e+00  9.000000e+00  9.000000e+00  9.900000e+01  9.900000e+01   \n",
       "\n",
       "          NIV_ESCOL    CVEOCUPHAB      TRAB_ACT         SEXOH           BCG  \\\n",
       "count  1.686724e+06  1.686724e+06  1.686724e+06  1.686724e+06  1.686724e+06   \n",
       "mean   6.884989e+00  8.321080e+00  1.135977e+00  1.491283e+00  2.145202e+00   \n",
       "std    9.705010e+00  2.084115e+01  9.867768e-01  5.390992e-01  1.329958e+00   \n",
       "min    1.000000e+00  0.000000e+00  0.000000e+00  1.000000e+00  1.000000e+00   \n",
       "20%    5.000000e+00  2.000000e+00  0.000000e+00  1.000000e+00  2.000000e+00   \n",
       "40%    5.000000e+00  2.000000e+00  1.000000e+00  1.000000e+00  2.000000e+00   \n",
       "50%    6.000000e+00  2.000000e+00  1.000000e+00  1.000000e+00  2.000000e+00   \n",
       "60%    7.000000e+00  2.000000e+00  2.000000e+00  2.000000e+00  2.000000e+00   \n",
       "80%    7.000000e+00  6.000000e+00  2.000000e+00  2.000000e+00  2.000000e+00   \n",
       "95%    1.000000e+01  9.000000e+01  2.000000e+00  2.000000e+00  2.000000e+00   \n",
       "max    9.900000e+01  9.900000e+01  9.000000e+00  9.000000e+00  9.000000e+00   \n",
       "\n",
       "              HEP_B         VIT_A         VIT_K       TAM_AUD      PRODUCTO  \\\n",
       "count  1.686724e+06  1.686724e+06  1.686724e+06  1.686724e+06  1.686724e+06   \n",
       "mean   2.136324e+00  1.988285e+00  1.126775e+00  2.164907e+00  1.018256e+00   \n",
       "std    1.340510e+00  1.257117e+00  6.808588e-01  1.260000e+00  2.582341e-01   \n",
       "min    0.000000e+00  0.000000e+00  0.000000e+00  0.000000e+00  0.000000e+00   \n",
       "20%    2.000000e+00  1.000000e+00  1.000000e+00  2.000000e+00  1.000000e+00   \n",
       "40%    2.000000e+00  2.000000e+00  1.000000e+00  2.000000e+00  1.000000e+00   \n",
       "50%    2.000000e+00  2.000000e+00  1.000000e+00  2.000000e+00  1.000000e+00   \n",
       "60%    2.000000e+00  2.000000e+00  1.000000e+00  2.000000e+00  1.000000e+00   \n",
       "80%    2.000000e+00  2.000000e+00  1.000000e+00  2.000000e+00  1.000000e+00   \n",
       "95%    2.000000e+00  2.000000e+00  2.000000e+00  2.000000e+00  1.000000e+00   \n",
       "max    9.000000e+00  9.000000e+00  9.000000e+00  9.000000e+00  9.000000e+00   \n",
       "\n",
       "            PROCNAC       FORCEPS      INST_NAC       ATENDIO  TIPOVIAL_NAC  \\\n",
       "count  1.686724e+06  1.686724e+06  1.686724e+06  1.686722e+06  1.684011e+06   \n",
       "mean   1.521895e+00  4.087973e+00  4.363139e+00  9.313599e+00  7.487591e+00   \n",
       "std    6.480680e-01  4.413733e+00  6.836829e+00  4.568300e+00  1.433990e+01   \n",
       "min    1.000000e+00  0.000000e+00  1.000000e+00  1.000000e+00  0.000000e+00   \n",
       "20%    1.000000e+00  0.000000e+00  1.000000e+00  1.000000e+00  3.000000e+00   \n",
       "40%    1.000000e+00  0.000000e+00  1.000000e+00  1.100000e+01  4.000000e+00   \n",
       "50%    1.000000e+00  0.000000e+00  3.000000e+00  1.100000e+01  5.000000e+00   \n",
       "60%    2.000000e+00  8.000000e+00  3.000000e+00  1.100000e+01  5.000000e+00   \n",
       "80%    2.000000e+00  9.000000e+00  1.000000e+01  1.100000e+01  5.000000e+00   \n",
       "95%    2.000000e+00  9.000000e+00  1.000000e+01  1.400000e+01  2.400000e+01   \n",
       "max    9.000000e+00  9.000000e+00  9.900000e+01  1.600000e+01  9.900000e+01   \n",
       "\n",
       "       TIPOASEN_NAC       ENT_NAC       MPO_NAC       LOC_NAC      CERT_POR  \\\n",
       "count  1.686724e+06  1.686724e+06  1.686724e+06  1.686724e+06  1.686722e+06   \n",
       "mean   1.167262e+01  1.661125e+01  5.021124e+01  2.369215e+01  2.025681e+00   \n",
       "std    1.101165e+02  7.740747e+01  6.384886e+01  4.294065e+02  1.872845e+00   \n",
       "min    0.000000e+00  1.000000e+00  1.000000e+00  0.000000e+00  1.000000e+00   \n",
       "20%    7.000000e+00  9.000000e+00  8.000000e+00  1.000000e+00  1.000000e+00   \n",
       "40%    7.000000e+00  1.400000e+01  2.300000e+01  1.000000e+00  1.000000e+00   \n",
       "50%    7.000000e+00  1.500000e+01  3.300000e+01  1.000000e+00  1.000000e+00   \n",
       "60%    7.000000e+00  1.900000e+01  3.900000e+01  1.000000e+00  2.000000e+00   \n",
       "80%    7.000000e+00  2.400000e+01  8.500000e+01  1.000000e+00  2.000000e+00   \n",
       "95%    3.600000e+01  3.000000e+01  1.420000e+02  5.000000e+00  7.000000e+00   \n",
       "max    9.999900e+04  9.999900e+04  9.990000e+02  9.999000e+03  9.000000e+00   \n",
       "\n",
       "       TIPOVIAL_CERT  TIPOASEN_CERT      ENT_CERT      MPO_CERT      LOC_CERT  \\\n",
       "count   1.686722e+06   1.686722e+06  1.686724e+06  1.686724e+06  1.686724e+06   \n",
       "mean    7.699165e+00   1.145932e+01  1.656362e+01  5.016146e+01  2.339810e+01   \n",
       "std     1.498928e+01   1.615633e+01  1.465701e+01  6.387564e+01  4.284688e+02   \n",
       "min     0.000000e+00   0.000000e+00  0.000000e+00  1.000000e+00  0.000000e+00   \n",
       "20%     3.000000e+00   7.000000e+00  9.000000e+00  8.000000e+00  1.000000e+00   \n",
       "40%     4.000000e+00   7.000000e+00  1.400000e+01  2.300000e+01  1.000000e+00   \n",
       "50%     5.000000e+00   7.000000e+00  1.500000e+01  3.300000e+01  1.000000e+00   \n",
       "60%     5.000000e+00   7.000000e+00  1.900000e+01  3.900000e+01  1.000000e+00   \n",
       "80%     5.000000e+00   7.000000e+00  2.400000e+01  8.500000e+01  1.000000e+00   \n",
       "95%     2.400000e+01   3.500000e+01  3.000000e+01  1.420000e+02  5.000000e+00   \n",
       "max     9.900000e+01   9.900000e+01  1.134000e+04  9.990000e+02  9.999000e+03   \n",
       "\n",
       "       FECH_CAMB     IDCAPTURA  TIPO_FORMATO  \n",
       "count        0.0  1.251957e+06  1.685837e+06  \n",
       "mean         NaN  1.187996e+00  2.015002e+03  \n",
       "std          NaN  1.023345e+00  2.203141e+00  \n",
       "min          NaN  1.000000e+00  1.000000e+00  \n",
       "20%          NaN  1.000000e+00  2.015000e+03  \n",
       "40%          NaN  1.000000e+00  2.015000e+03  \n",
       "50%          NaN  1.000000e+00  2.015000e+03  \n",
       "60%          NaN  1.000000e+00  2.015000e+03  \n",
       "80%          NaN  1.000000e+00  2.015000e+03  \n",
       "95%          NaN  2.000000e+00  2.015000e+03  \n",
       "max          NaN  9.000000e+00  2.016000e+03  "
      ]
     },
     "execution_count": 37,
     "metadata": {},
     "output_type": "execute_result"
    }
   ],
   "source": [
    "## Como en las variables numéricas valor 9,99,999,9999 parecen significar registros nulos\n",
    "df[cat].describe([i/10 for i in range(2,10,2)] + [.95])"
   ]
  },
  {
   "cell_type": "code",
   "execution_count": 38,
   "metadata": {
    "ExecuteTime": {
     "end_time": "2020-09-26T18:08:11.867366Z",
     "start_time": "2020-09-26T18:07:20.632527Z"
    }
   },
   "outputs": [],
   "source": [
    "## Vacíos en variables categóricas\n",
    "dict_replace = {9:np.nan, 99:np.nan, 999:np.nan, 9999:np.nan}\n",
    "df[cat] = df[cat].replace(dict_replace).copy()"
   ]
  },
  {
   "cell_type": "code",
   "execution_count": 39,
   "metadata": {
    "ExecuteTime": {
     "end_time": "2020-09-26T18:08:22.313543Z",
     "start_time": "2020-09-26T18:08:11.891886Z"
    }
   },
   "outputs": [
    {
     "data": {
      "text/html": [
       "<div>\n",
       "<style scoped>\n",
       "    .dataframe tbody tr th:only-of-type {\n",
       "        vertical-align: middle;\n",
       "    }\n",
       "\n",
       "    .dataframe tbody tr th {\n",
       "        vertical-align: top;\n",
       "    }\n",
       "\n",
       "    .dataframe thead th {\n",
       "        text-align: right;\n",
       "    }\n",
       "</style>\n",
       "<table border=\"1\" class=\"dataframe\">\n",
       "  <thead>\n",
       "    <tr style=\"text-align: right;\">\n",
       "      <th></th>\n",
       "      <th>index</th>\n",
       "      <th>%vacíos</th>\n",
       "    </tr>\n",
       "  </thead>\n",
       "  <tbody>\n",
       "    <tr>\n",
       "      <th>0</th>\n",
       "      <td>FECH_CAMB</td>\n",
       "      <td>1.000000</td>\n",
       "    </tr>\n",
       "    <tr>\n",
       "      <th>1</th>\n",
       "      <td>ATEN_OTRO</td>\n",
       "      <td>0.999993</td>\n",
       "    </tr>\n",
       "    <tr>\n",
       "      <th>2</th>\n",
       "      <td>ESPECIFIQUE</td>\n",
       "      <td>0.999369</td>\n",
       "    </tr>\n",
       "    <tr>\n",
       "      <th>3</th>\n",
       "      <td>OTROMEDICO</td>\n",
       "      <td>0.717312</td>\n",
       "    </tr>\n",
       "    <tr>\n",
       "      <th>4</th>\n",
       "      <td>UNIMED_33_1</td>\n",
       "      <td>0.446361</td>\n",
       "    </tr>\n",
       "  </tbody>\n",
       "</table>\n",
       "</div>"
      ],
      "text/plain": [
       "         index   %vacíos\n",
       "0    FECH_CAMB  1.000000\n",
       "1    ATEN_OTRO  0.999993\n",
       "2  ESPECIFIQUE  0.999369\n",
       "3   OTROMEDICO  0.717312\n",
       "4  UNIMED_33_1  0.446361"
      ]
     },
     "execution_count": 39,
     "metadata": {},
     "output_type": "execute_result"
    }
   ],
   "source": [
    "## Hay vacíos en todas :'(\n",
    "aux = pd.DataFrame((df[cat].isnull().sum()/df[cat].shape[0])[df[cat].isnull().sum()/df[cat].shape[0] != 0].sort_values(ascending = False), \n",
    "                   columns = ['%vacíos'])\n",
    "aux.reset_index(drop = False, inplace = True)\n",
    "aux.head(5)"
   ]
  },
  {
   "cell_type": "code",
   "execution_count": 40,
   "metadata": {
    "ExecuteTime": {
     "end_time": "2020-09-26T18:08:24.407760Z",
     "start_time": "2020-09-26T18:08:22.319412Z"
    }
   },
   "outputs": [],
   "source": [
    "## Se decide omitir las columnas con más del 25% de registros vacíos\n",
    "cat = [col for col in cat if col not in list(aux[aux['%vacíos'] > 0.25]['index'])]\n",
    "\n",
    "df = df[num + cat].copy()"
   ]
  },
  {
   "cell_type": "code",
   "execution_count": 41,
   "metadata": {
    "ExecuteTime": {
     "end_time": "2020-09-26T18:09:47.337538Z",
     "start_time": "2020-09-26T18:08:24.412167Z"
    }
   },
   "outputs": [
    {
     "data": {
      "text/html": [
       "<div>\n",
       "<style scoped>\n",
       "    .dataframe tbody tr th:only-of-type {\n",
       "        vertical-align: middle;\n",
       "    }\n",
       "\n",
       "    .dataframe tbody tr th {\n",
       "        vertical-align: top;\n",
       "    }\n",
       "\n",
       "    .dataframe thead th {\n",
       "        text-align: right;\n",
       "    }\n",
       "</style>\n",
       "<table border=\"1\" class=\"dataframe\">\n",
       "  <thead>\n",
       "    <tr style=\"text-align: right;\">\n",
       "      <th></th>\n",
       "      <th>%vacíos</th>\n",
       "    </tr>\n",
       "  </thead>\n",
       "  <tbody>\n",
       "    <tr>\n",
       "      <th>ENT_NACM</th>\n",
       "      <td>0.079178</td>\n",
       "    </tr>\n",
       "    <tr>\n",
       "      <th>ENT_CERT</th>\n",
       "      <td>0.069074</td>\n",
       "    </tr>\n",
       "    <tr>\n",
       "      <th>CEDOCVE</th>\n",
       "      <td>0.069062</td>\n",
       "    </tr>\n",
       "    <tr>\n",
       "      <th>ENT_NAC</th>\n",
       "      <td>0.069061</td>\n",
       "    </tr>\n",
       "    <tr>\n",
       "      <th>ENT_RES</th>\n",
       "      <td>0.058019</td>\n",
       "    </tr>\n",
       "    <tr>\n",
       "      <th>MPO_NACM</th>\n",
       "      <td>0.038477</td>\n",
       "    </tr>\n",
       "  </tbody>\n",
       "</table>\n",
       "</div>"
      ],
      "text/plain": [
       "           %vacíos\n",
       "ENT_NACM  0.079178\n",
       "ENT_CERT  0.069074\n",
       "CEDOCVE   0.069062\n",
       "ENT_NAC   0.069061\n",
       "ENT_RES   0.058019\n",
       "MPO_NACM  0.038477"
      ]
     },
     "execution_count": 41,
     "metadata": {},
     "output_type": "execute_result"
    }
   ],
   "source": [
    "## Se decide dropear los valores ausentes para las variables con menos del 5% de ausentes\n",
    "dropear = list(aux[aux['%vacíos'] < 0.05]['index'])\n",
    "\n",
    "for col in dropear:\n",
    "    df = df[~(df[col].isnull())].copy()\n",
    "    df.reset_index(drop = True, inplace = True)\n",
    "\n",
    "aux = pd.DataFrame((df[cat].isnull().sum()/df[cat].shape[0])[df[cat].isnull().sum()/df[cat].shape[0] != 0].sort_values(ascending = False), \n",
    "                   columns = ['%vacíos'])\n",
    "\n",
    "aux"
   ]
  },
  {
   "cell_type": "code",
   "execution_count": 42,
   "metadata": {
    "ExecuteTime": {
     "end_time": "2020-09-26T18:09:47.481412Z",
     "start_time": "2020-09-26T18:09:47.346477Z"
    }
   },
   "outputs": [
    {
     "data": {
      "text/html": [
       "<div>\n",
       "<style scoped>\n",
       "    .dataframe tbody tr th:only-of-type {\n",
       "        vertical-align: middle;\n",
       "    }\n",
       "\n",
       "    .dataframe tbody tr th {\n",
       "        vertical-align: top;\n",
       "    }\n",
       "\n",
       "    .dataframe thead th {\n",
       "        text-align: right;\n",
       "    }\n",
       "</style>\n",
       "<table border=\"1\" class=\"dataframe\">\n",
       "  <thead>\n",
       "    <tr style=\"text-align: right;\">\n",
       "      <th></th>\n",
       "      <th>ENT_CERT</th>\n",
       "      <th>CEDOCVE</th>\n",
       "      <th>ENT_NAC</th>\n",
       "    </tr>\n",
       "  </thead>\n",
       "  <tbody>\n",
       "    <tr>\n",
       "      <th>233632</th>\n",
       "      <td>NaN</td>\n",
       "      <td>NaN</td>\n",
       "      <td>NaN</td>\n",
       "    </tr>\n",
       "    <tr>\n",
       "      <th>249354</th>\n",
       "      <td>NaN</td>\n",
       "      <td>NaN</td>\n",
       "      <td>NaN</td>\n",
       "    </tr>\n",
       "    <tr>\n",
       "      <th>189435</th>\n",
       "      <td>NaN</td>\n",
       "      <td>NaN</td>\n",
       "      <td>NaN</td>\n",
       "    </tr>\n",
       "    <tr>\n",
       "      <th>251032</th>\n",
       "      <td>NaN</td>\n",
       "      <td>NaN</td>\n",
       "      <td>NaN</td>\n",
       "    </tr>\n",
       "  </tbody>\n",
       "</table>\n",
       "</div>"
      ],
      "text/plain": [
       "        ENT_CERT  CEDOCVE  ENT_NAC\n",
       "233632       NaN      NaN      NaN\n",
       "249354       NaN      NaN      NaN\n",
       "189435       NaN      NaN      NaN\n",
       "251032       NaN      NaN      NaN"
      ]
     },
     "execution_count": 42,
     "metadata": {},
     "output_type": "execute_result"
    }
   ],
   "source": [
    "## La variable entidad de certificación, captura y nacimiento tienen el mismo % de vacíos\n",
    "df[df['ENT_CERT'].isnull()][['ENT_CERT', 'CEDOCVE', 'ENT_NAC']].sample(4)"
   ]
  },
  {
   "cell_type": "code",
   "execution_count": 43,
   "metadata": {
    "ExecuteTime": {
     "end_time": "2020-09-26T18:09:57.285063Z",
     "start_time": "2020-09-26T18:09:47.487013Z"
    }
   },
   "outputs": [
    {
     "data": {
      "text/html": [
       "<div>\n",
       "<style scoped>\n",
       "    .dataframe tbody tr th:only-of-type {\n",
       "        vertical-align: middle;\n",
       "    }\n",
       "\n",
       "    .dataframe tbody tr th {\n",
       "        vertical-align: top;\n",
       "    }\n",
       "\n",
       "    .dataframe thead th {\n",
       "        text-align: right;\n",
       "    }\n",
       "</style>\n",
       "<table border=\"1\" class=\"dataframe\">\n",
       "  <thead>\n",
       "    <tr style=\"text-align: right;\">\n",
       "      <th></th>\n",
       "      <th>%vacíos</th>\n",
       "    </tr>\n",
       "  </thead>\n",
       "  <tbody>\n",
       "    <tr>\n",
       "      <th>ENT_NACM</th>\n",
       "      <td>0.035482</td>\n",
       "    </tr>\n",
       "    <tr>\n",
       "      <th>MPO_NACM</th>\n",
       "      <td>0.031331</td>\n",
       "    </tr>\n",
       "    <tr>\n",
       "      <th>ENT_RES</th>\n",
       "      <td>0.003627</td>\n",
       "    </tr>\n",
       "  </tbody>\n",
       "</table>\n",
       "</div>"
      ],
      "text/plain": [
       "           %vacíos\n",
       "ENT_NACM  0.035482\n",
       "MPO_NACM  0.031331\n",
       "ENT_RES   0.003627"
      ]
     },
     "execution_count": 43,
     "metadata": {},
     "output_type": "execute_result"
    }
   ],
   "source": [
    "## Entonces se omiten\n",
    "dropear = ['ENT_CERT', 'CEDOCVE', 'ENT_NAC']\n",
    "\n",
    "for col in dropear:\n",
    "    df = df[~(df[col].isnull())].copy()\n",
    "    df.reset_index(drop = True, inplace = True)\n",
    "\n",
    "aux = pd.DataFrame((df[cat].isnull().sum()/df[cat].shape[0])[df[cat].isnull().sum()/df[cat].shape[0] != 0].sort_values(ascending = False), \n",
    "                   columns = ['%vacíos'])\n",
    "\n",
    "aux"
   ]
  },
  {
   "cell_type": "code",
   "execution_count": 44,
   "metadata": {
    "ExecuteTime": {
     "end_time": "2020-09-26T18:10:05.384683Z",
     "start_time": "2020-09-26T18:09:57.291905Z"
    }
   },
   "outputs": [
    {
     "data": {
      "text/html": [
       "<div>\n",
       "<style scoped>\n",
       "    .dataframe tbody tr th:only-of-type {\n",
       "        vertical-align: middle;\n",
       "    }\n",
       "\n",
       "    .dataframe tbody tr th {\n",
       "        vertical-align: top;\n",
       "    }\n",
       "\n",
       "    .dataframe thead th {\n",
       "        text-align: right;\n",
       "    }\n",
       "</style>\n",
       "<table border=\"1\" class=\"dataframe\">\n",
       "  <thead>\n",
       "    <tr style=\"text-align: right;\">\n",
       "      <th></th>\n",
       "      <th>%vacíos</th>\n",
       "    </tr>\n",
       "  </thead>\n",
       "  <tbody>\n",
       "    <tr>\n",
       "      <th>MPO_NACM</th>\n",
       "      <td>0.023407</td>\n",
       "    </tr>\n",
       "  </tbody>\n",
       "</table>\n",
       "</div>"
      ],
      "text/plain": [
       "           %vacíos\n",
       "MPO_NACM  0.023407"
      ]
     },
     "execution_count": 44,
     "metadata": {},
     "output_type": "execute_result"
    }
   ],
   "source": [
    "## Dado el porcentaje de valores ausentes restantes, no hay riesgo en eliminarlos también\n",
    "dropear = ['ENT_RES', 'ENT_NACM']\n",
    "\n",
    "for col in dropear:\n",
    "    df = df[~(df[col].isnull())].copy()\n",
    "    df.reset_index(drop = True, inplace = True)\n",
    "    \n",
    "pd.DataFrame((df[cat].isnull().sum()/df[cat].shape[0])[df[cat].isnull().sum()/df[cat].shape[0] != 0].sort_values(ascending = False), \n",
    "            columns = ['%vacíos'])"
   ]
  },
  {
   "cell_type": "code",
   "execution_count": 45,
   "metadata": {
    "ExecuteTime": {
     "end_time": "2020-09-26T18:10:05.400544Z",
     "start_time": "2020-09-26T18:10:05.391693Z"
    }
   },
   "outputs": [
    {
     "data": {
      "text/plain": [
       "0.5977045456248589"
      ]
     },
     "execution_count": 45,
     "metadata": {},
     "output_type": "execute_result"
    }
   ],
   "source": [
    "## Después de la limpieza, contamos con el 58.5% de los datos :(\n",
    "df.shape[0] / dim_antes"
   ]
  },
  {
   "cell_type": "markdown",
   "metadata": {},
   "source": [
    "## Ingeniería de variables"
   ]
  },
  {
   "cell_type": "code",
   "execution_count": 46,
   "metadata": {
    "ExecuteTime": {
     "end_time": "2020-09-26T18:10:05.800247Z",
     "start_time": "2020-09-26T18:10:05.406175Z"
    }
   },
   "outputs": [
    {
     "data": {
      "text/plain": [
       "9     0.095016\n",
       "8     0.091822\n",
       "10    0.090066\n",
       "7     0.085259\n",
       "1     0.084005\n",
       "11    0.082626\n",
       "3     0.080760\n",
       "5     0.080505\n",
       "12    0.080263\n",
       "6     0.078524\n",
       "4     0.078043\n",
       "2     0.073110\n",
       "Name: Mes_nace_bb, dtype: float64"
      ]
     },
     "execution_count": 46,
     "metadata": {},
     "output_type": "execute_result"
    }
   ],
   "source": [
    "df['Mes_nace_bb'] = pd.to_datetime(df['FECH_NACH'], dayfirst = True).dt.month\n",
    "df['Mes_nace_bb'].value_counts(1)"
   ]
  },
  {
   "cell_type": "markdown",
   "metadata": {},
   "source": [
    "## Análisis exploratorio"
   ]
  },
  {
   "cell_type": "code",
   "execution_count": 47,
   "metadata": {
    "ExecuteTime": {
     "end_time": "2020-09-26T18:10:05.830494Z",
     "start_time": "2020-09-26T18:10:05.808919Z"
    }
   },
   "outputs": [
    {
     "data": {
      "text/plain": [
       "Index(['NUM_EMB_imput', 'NUM_NACMTO_imput', 'NUM_NACVIVO_imput',\n",
       "       'HIJO_SOBV_imput', 'TOT_CONS_imput', 'GESTACH_imput', 'TALLAH_imput',\n",
       "       'PESOH_imput', 'APGARH_imput', 'SILVERMAN_imput', 'CEDOCVE', 'ENT_NACM',\n",
       "       'MPO_NACM', 'FECH_NACM', 'EDADM', 'CON_INDM', 'HABLA_INDM',\n",
       "       'CUAL_LENGM', 'EDOCIVIL', 'TIPOVIAL_RES', 'TIPOASEN_RES', 'ENT_RES',\n",
       "       'MPO_RES', 'LOC_RES', 'HIJO_ANTE', 'VIVE_AUN', 'ORDEN_NAC', 'ATEN_PREN',\n",
       "       'TRIM_CONS', 'SOB_PARTO', 'DERHAB', 'DERHAB2', 'NIV_ESCOL', 'OCUPHAB',\n",
       "       'CVEOCUPHAB', 'TRAB_ACT', 'FECH_NACH', 'HORA_NACH', 'SEXOH', 'BCG',\n",
       "       'HEP_B', 'VIT_A', 'VIT_K', 'TAM_AUD', 'PRODUCTO', 'ACELRN', 'CVE_CIE',\n",
       "       'ACELRN2', 'CVE_CIE2', 'PROCNAC', 'INST_NAC', 'UNIMED', 'CLUES',\n",
       "       'ATENDIO', 'TIPOVIAL_NAC', 'TIPOASEN_NAC', 'ENT_NAC', 'MPO_NAC',\n",
       "       'LOC_NAC', 'CERT_POR', 'CLUES_33_2', 'TIPOVIAL_CERT', 'TIPOASEN_CERT',\n",
       "       'ENT_CERT', 'MPO_CERT', 'LOC_CERT', 'FECH_CERT', 'FECH_ALTA',\n",
       "       'TIPO_FORMATO', 'Mes_nace_bb'],\n",
       "      dtype='object')"
      ]
     },
     "execution_count": 47,
     "metadata": {},
     "output_type": "execute_result"
    }
   ],
   "source": [
    "df.columns"
   ]
  },
  {
   "cell_type": "code",
   "execution_count": 48,
   "metadata": {
    "ExecuteTime": {
     "end_time": "2020-09-26T18:10:05.874557Z",
     "start_time": "2020-09-26T18:10:05.838807Z"
    }
   },
   "outputs": [
    {
     "data": {
      "text/plain": [
       "1.0     0.450806\n",
       "10.0    0.245562\n",
       "3.0     0.204924\n",
       "2.0     0.055450\n",
       "8.0     0.022396\n",
       "4.0     0.015703\n",
       "6.0     0.002901\n",
       "5.0     0.001185\n",
       "7.0     0.000831\n",
       "12.0    0.000158\n",
       "11.0    0.000049\n",
       "13.0    0.000036\n",
       "Name: INST_NAC, dtype: float64"
      ]
     },
     "execution_count": 48,
     "metadata": {},
     "output_type": "execute_result"
    }
   ],
   "source": [
    "df['INST_NAC'].value_counts(1)"
   ]
  },
  {
   "cell_type": "code",
   "execution_count": 49,
   "metadata": {
    "ExecuteTime": {
     "end_time": "2020-09-26T18:10:06.588856Z",
     "start_time": "2020-09-26T18:10:05.880640Z"
    }
   },
   "outputs": [
    {
     "data": {
      "text/html": [
       "<div>\n",
       "<style scoped>\n",
       "    .dataframe tbody tr th:only-of-type {\n",
       "        vertical-align: middle;\n",
       "    }\n",
       "\n",
       "    .dataframe tbody tr th {\n",
       "        vertical-align: top;\n",
       "    }\n",
       "\n",
       "    .dataframe thead th {\n",
       "        text-align: right;\n",
       "    }\n",
       "</style>\n",
       "<table border=\"1\" class=\"dataframe\">\n",
       "  <thead>\n",
       "    <tr style=\"text-align: right;\">\n",
       "      <th></th>\n",
       "      <th>INST_NAC</th>\n",
       "      <th>Mes_nace_bb</th>\n",
       "      <th>Nacidos_vivos</th>\n",
       "    </tr>\n",
       "  </thead>\n",
       "  <tbody>\n",
       "    <tr>\n",
       "      <th>0</th>\n",
       "      <td>1.0</td>\n",
       "      <td>1</td>\n",
       "      <td>2.068737</td>\n",
       "    </tr>\n",
       "    <tr>\n",
       "      <th>1</th>\n",
       "      <td>1.0</td>\n",
       "      <td>2</td>\n",
       "      <td>2.060859</td>\n",
       "    </tr>\n",
       "    <tr>\n",
       "      <th>2</th>\n",
       "      <td>1.0</td>\n",
       "      <td>3</td>\n",
       "      <td>2.074367</td>\n",
       "    </tr>\n",
       "    <tr>\n",
       "      <th>3</th>\n",
       "      <td>1.0</td>\n",
       "      <td>4</td>\n",
       "      <td>2.087908</td>\n",
       "    </tr>\n",
       "    <tr>\n",
       "      <th>4</th>\n",
       "      <td>1.0</td>\n",
       "      <td>5</td>\n",
       "      <td>2.081502</td>\n",
       "    </tr>\n",
       "    <tr>\n",
       "      <th>...</th>\n",
       "      <td>...</td>\n",
       "      <td>...</td>\n",
       "      <td>...</td>\n",
       "    </tr>\n",
       "    <tr>\n",
       "      <th>138</th>\n",
       "      <td>13.0</td>\n",
       "      <td>8</td>\n",
       "      <td>1.666667</td>\n",
       "    </tr>\n",
       "    <tr>\n",
       "      <th>139</th>\n",
       "      <td>13.0</td>\n",
       "      <td>9</td>\n",
       "      <td>1.500000</td>\n",
       "    </tr>\n",
       "    <tr>\n",
       "      <th>140</th>\n",
       "      <td>13.0</td>\n",
       "      <td>10</td>\n",
       "      <td>3.500000</td>\n",
       "    </tr>\n",
       "    <tr>\n",
       "      <th>141</th>\n",
       "      <td>13.0</td>\n",
       "      <td>11</td>\n",
       "      <td>3.000000</td>\n",
       "    </tr>\n",
       "    <tr>\n",
       "      <th>142</th>\n",
       "      <td>13.0</td>\n",
       "      <td>12</td>\n",
       "      <td>2.250000</td>\n",
       "    </tr>\n",
       "  </tbody>\n",
       "</table>\n",
       "<p>143 rows × 3 columns</p>\n",
       "</div>"
      ],
      "text/plain": [
       "     INST_NAC  Mes_nace_bb  Nacidos_vivos\n",
       "0         1.0            1       2.068737\n",
       "1         1.0            2       2.060859\n",
       "2         1.0            3       2.074367\n",
       "3         1.0            4       2.087908\n",
       "4         1.0            5       2.081502\n",
       "..        ...          ...            ...\n",
       "138      13.0            8       1.666667\n",
       "139      13.0            9       1.500000\n",
       "140      13.0           10       3.500000\n",
       "141      13.0           11       3.000000\n",
       "142      13.0           12       2.250000\n",
       "\n",
       "[143 rows x 3 columns]"
      ]
     },
     "execution_count": 49,
     "metadata": {},
     "output_type": "execute_result"
    }
   ],
   "source": [
    "## Cómo es el total de nacidos por mes en lugares de nacimiento?\n",
    "aux = df.copy()\n",
    "heat = aux.groupby(['INST_NAC', 'Mes_nace_bb']).agg({'NUM_NACVIVO_imput':'mean'}).copy()\n",
    "heat.reset_index(drop = False, inplace = True)\n",
    "heat.rename(columns = {'NUM_NACVIVO_imput':'Nacidos_vivos'}, inplace = True)\n",
    "heat"
   ]
  },
  {
   "cell_type": "code",
   "execution_count": 50,
   "metadata": {
    "ExecuteTime": {
     "end_time": "2020-09-26T18:10:07.659123Z",
     "start_time": "2020-09-26T18:10:06.603157Z"
    }
   },
   "outputs": [
    {
     "data": {
      "text/plain": [
       "<AxesSubplot:xlabel='None-Mes_nace_bb', ylabel='INST_NAC'>"
      ]
     },
     "execution_count": 50,
     "metadata": {},
     "output_type": "execute_result"
    },
    {
     "data": {
      "image/png": "[encoded data removed]",
      "text/plain": [
       "<Figure size 432x288 with 2 Axes>"
      ]
     },
     "metadata": {
      "needs_background": "light"
     },
     "output_type": "display_data"
    }
   ],
   "source": [
    "heat = heat.pivot_table(index = 'INST_NAC',\n",
    "                columns = 'Mes_nace_bb').copy()\n",
    "sns.heatmap(heat,\n",
    "            cmap = 'Blues')"
   ]
  },
  {
   "cell_type": "code",
   "execution_count": 51,
   "metadata": {
    "ExecuteTime": {
     "end_time": "2020-09-26T18:10:07.711499Z",
     "start_time": "2020-09-26T18:10:07.667168Z"
    }
   },
   "outputs": [
    {
     "data": {
      "text/plain": [
       "1.0    0.513628\n",
       "2.0    0.486372\n",
       "Name: SEXOH, dtype: float64"
      ]
     },
     "execution_count": 51,
     "metadata": {},
     "output_type": "execute_result"
    }
   ],
   "source": [
    "## La talla y el peso depende de los meses de gestación?\n",
    "## Habrá diferencia por género?\n",
    "df['SEXOH'].value_counts(1)"
   ]
  },
  {
   "cell_type": "code",
   "execution_count": 52,
   "metadata": {
    "ExecuteTime": {
     "end_time": "2020-09-26T18:10:11.533084Z",
     "start_time": "2020-09-26T18:10:07.718286Z"
    }
   },
   "outputs": [
    {
     "data": {
      "text/plain": [
       "<seaborn.axisgrid.PairGrid at 0x7f6ddae695e0>"
      ]
     },
     "execution_count": 52,
     "metadata": {},
     "output_type": "execute_result"
    },
    {
     "data": {
      "image/png": "[encoded data removed]",
      "text/plain": [
       "<Figure size 435.375x360 with 6 Axes>"
      ]
     },
     "metadata": {
      "needs_background": "light"
     },
     "output_type": "display_data"
    }
   ],
   "source": [
    "dict_repl_sexo = {1:'Hombre', 2:'Mujer'}\n",
    "df['Genero'] = df['SEXOH'].replace(dict_repl_sexo)\n",
    "\n",
    "aux = df[['Genero', 'TALLAH_imput', 'PESOH_imput']].sample(frac = .01).sort_values('Genero').copy()\n",
    "sns.pairplot(aux,\n",
    "            hue = 'Genero',\n",
    "            markers = ['X', 'v'])"
   ]
  },
  {
   "cell_type": "markdown",
   "metadata": {},
   "source": [
    "## Reducción de dimensiones"
   ]
  },
  {
   "cell_type": "code",
   "execution_count": 53,
   "metadata": {
    "ExecuteTime": {
     "end_time": "2020-09-26T18:10:12.900642Z",
     "start_time": "2020-09-26T18:10:11.552056Z"
    }
   },
   "outputs": [
    {
     "data": {
      "text/plain": [
       "array([[-0.98209987, -0.39751607, -0.93377852, ..., -0.96431089,\n",
       "         0.06789302, -0.24635433],\n",
       "       [-0.15308152, -0.39751607, -0.01527332, ...,  0.21032994,\n",
       "         0.06789302, -0.24635433],\n",
       "       [ 1.50495517, -0.39751607,  1.82173706, ...,  0.39827247,\n",
       "         0.06789302, -0.24635433],\n",
       "       ...,\n",
       "       [-0.15308152, -0.39751607, -0.01527332, ..., -0.54144019,\n",
       "         0.06789302, -0.24635433],\n",
       "       [-0.98209987, -0.39751607, -0.93377852, ...,  0.75066471,\n",
       "         0.06789302, -0.24635433],\n",
       "       [ 0.67593683,  1.92326748, -0.01527332, ..., -0.40048329,\n",
       "         0.06789302, -0.24635433]])"
      ]
     },
     "execution_count": 53,
     "metadata": {},
     "output_type": "execute_result"
    }
   ],
   "source": [
    "## El algoritmo PCA ocupa a las variables numéricas estandarizadas\n",
    "\n",
    "from sklearn.preprocessing import StandardScaler\n",
    "sc = StandardScaler() #se guarda el método para escalar\n",
    "\n",
    "X = df[num].copy()\n",
    "sc.fit(X) #se calculan los parámetros para estandarizar\n",
    "\n",
    "X = sc.transform(X) #se aplica la estandarización\n",
    "X"
   ]
  },
  {
   "cell_type": "code",
   "execution_count": 54,
   "metadata": {
    "ExecuteTime": {
     "end_time": "2020-09-26T18:10:20.610085Z",
     "start_time": "2020-09-26T18:10:12.905681Z"
    }
   },
   "outputs": [
    {
     "data": {
      "text/html": [
       "<div>\n",
       "<style scoped>\n",
       "    .dataframe tbody tr th:only-of-type {\n",
       "        vertical-align: middle;\n",
       "    }\n",
       "\n",
       "    .dataframe tbody tr th {\n",
       "        vertical-align: top;\n",
       "    }\n",
       "\n",
       "    .dataframe thead th {\n",
       "        text-align: right;\n",
       "    }\n",
       "</style>\n",
       "<table border=\"1\" class=\"dataframe\">\n",
       "  <thead>\n",
       "    <tr style=\"text-align: right;\">\n",
       "      <th></th>\n",
       "      <th>0</th>\n",
       "      <th>1</th>\n",
       "      <th>2</th>\n",
       "    </tr>\n",
       "  </thead>\n",
       "  <tbody>\n",
       "    <tr>\n",
       "      <th>179546</th>\n",
       "      <td>-1.557378</td>\n",
       "      <td>0.365380</td>\n",
       "      <td>0.392670</td>\n",
       "    </tr>\n",
       "    <tr>\n",
       "      <th>841311</th>\n",
       "      <td>2.170543</td>\n",
       "      <td>-1.219079</td>\n",
       "      <td>-3.150726</td>\n",
       "    </tr>\n",
       "    <tr>\n",
       "      <th>357374</th>\n",
       "      <td>-0.185464</td>\n",
       "      <td>-0.698276</td>\n",
       "      <td>-0.273078</td>\n",
       "    </tr>\n",
       "    <tr>\n",
       "      <th>542340</th>\n",
       "      <td>-1.860595</td>\n",
       "      <td>-0.247019</td>\n",
       "      <td>-0.774278</td>\n",
       "    </tr>\n",
       "  </tbody>\n",
       "</table>\n",
       "</div>"
      ],
      "text/plain": [
       "               0         1         2\n",
       "179546 -1.557378  0.365380  0.392670\n",
       "841311  2.170543 -1.219079 -3.150726\n",
       "357374 -0.185464 -0.698276 -0.273078\n",
       "542340 -1.860595 -0.247019 -0.774278"
      ]
     },
     "execution_count": 54,
     "metadata": {},
     "output_type": "execute_result"
    }
   ],
   "source": [
    "## Mediante el modelo no supervisado PCA, se reducen las variables numéricas \n",
    "\n",
    "from sklearn.decomposition import PCA\n",
    "pca = PCA(n_components = 3)\n",
    "\n",
    "Xpca = pd.DataFrame(pca.fit_transform(X))\n",
    "Xpca.sample(4)"
   ]
  },
  {
   "cell_type": "code",
   "execution_count": 55,
   "metadata": {
    "ExecuteTime": {
     "end_time": "2020-09-26T18:10:20.637624Z",
     "start_time": "2020-09-26T18:10:20.618593Z"
    }
   },
   "outputs": [
    {
     "data": {
      "text/plain": [
       "array([0.29780014, 0.49876891, 0.6133755 ])"
      ]
     },
     "execution_count": 55,
     "metadata": {},
     "output_type": "execute_result"
    }
   ],
   "source": [
    "## Nos explican buen % del todas las variables\n",
    "pca.explained_variance_ratio_.cumsum()"
   ]
  },
  {
   "cell_type": "code",
   "execution_count": 56,
   "metadata": {
    "ExecuteTime": {
     "end_time": "2020-09-26T18:10:49.264519Z",
     "start_time": "2020-09-26T18:10:20.641720Z"
    },
    "scrolled": true
   },
   "outputs": [
    {
     "data": {
      "text/plain": [
       "<mpl_toolkits.mplot3d.art3d.Path3DCollection at 0x7f6e277c3730>"
      ]
     },
     "execution_count": 56,
     "metadata": {},
     "output_type": "execute_result"
    },
    {
     "data": {
      "image/png": "[encoded data removed]",
      "text/plain": [
       "<Figure size 432x288 with 1 Axes>"
      ]
     },
     "metadata": {
      "needs_background": "light"
     },
     "output_type": "display_data"
    }
   ],
   "source": [
    "## Comparando en una gráfica 3D\n",
    "ax = plt.axes(projection = '3d')\n",
    "ax.scatter3D(Xpca[0],\n",
    "            Xpca[1],\n",
    "            Xpca[2])\n",
    "\n",
    "## No hay tanta dispersión, es bueno (?)"
   ]
  },
  {
   "cell_type": "markdown",
   "metadata": {},
   "source": [
    "## Selección de variables"
   ]
  },
  {
   "cell_type": "markdown",
   "metadata": {},
   "source": [
    "### Kbest"
   ]
  },
  {
   "cell_type": "code",
   "execution_count": 57,
   "metadata": {
    "ExecuteTime": {
     "end_time": "2020-09-26T18:10:49.304771Z",
     "start_time": "2020-09-26T18:10:49.268964Z"
    }
   },
   "outputs": [
    {
     "data": {
      "text/plain": [
       "1.0    0.509721\n",
       "2.0    0.477973\n",
       "4.0    0.010578\n",
       "3.0    0.001376\n",
       "8.0    0.000352\n",
       "Name: PROCNAC, dtype: float64"
      ]
     },
     "execution_count": 57,
     "metadata": {},
     "output_type": "execute_result"
    }
   ],
   "source": [
    "## Otra forma de reducir variables es elegir a las que nos explican\n",
    "## nuestra variable objetivo:\n",
    "df['PROCNAC'].value_counts(1)"
   ]
  },
  {
   "cell_type": "code",
   "execution_count": 58,
   "metadata": {
    "ExecuteTime": {
     "end_time": "2020-09-26T18:10:50.149270Z",
     "start_time": "2020-09-26T18:10:49.310801Z"
    }
   },
   "outputs": [
    {
     "data": {
      "text/plain": [
       "1    0.509721\n",
       "0    0.490279\n",
       "Name: Parto_natural, dtype: float64"
      ]
     },
     "execution_count": 58,
     "metadata": {},
     "output_type": "execute_result"
    }
   ],
   "source": [
    "## El parto fue de manera natural o no?\n",
    "aux = []\n",
    "for i in df['PROCNAC']:\n",
    "    if i == 1:\n",
    "        aux.append(1)\n",
    "    else:\n",
    "        aux.append(0)\n",
    "        \n",
    "df['Parto_natural'] = aux\n",
    "df['Parto_natural'].value_counts(1)"
   ]
  },
  {
   "cell_type": "code",
   "execution_count": 59,
   "metadata": {
    "ExecuteTime": {
     "end_time": "2020-09-26T18:10:50.764111Z",
     "start_time": "2020-09-26T18:10:50.154361Z"
    }
   },
   "outputs": [
    {
     "data": {
      "text/plain": [
       "array([8.90111083e+03, 3.33039439e+03, 1.45506070e+04, 1.44534562e+04,\n",
       "       4.12418386e+04, 2.17194923e+04, 5.33651858e+03, 7.58674447e+00,\n",
       "       1.11350739e+03, 3.53824441e+03])"
      ]
     },
     "execution_count": 59,
     "metadata": {},
     "output_type": "execute_result"
    }
   ],
   "source": [
    "from sklearn.feature_selection import SelectKBest\n",
    "\n",
    "sk = SelectKBest(k = 2) #Queremos las 2 mejores variables que expliquen la var objetivo\n",
    "sk.fit(X, df['Parto_natural'])\n",
    "best_var = [a for a,b in list(zip(num,sk.get_support())) if b] \n",
    "best_var\n",
    "\n",
    "sk.scores_ #son las 2 con el valor máximo"
   ]
  },
  {
   "cell_type": "code",
   "execution_count": 60,
   "metadata": {
    "ExecuteTime": {
     "end_time": "2020-09-26T18:10:50.802966Z",
     "start_time": "2020-09-26T18:10:50.767956Z"
    }
   },
   "outputs": [
    {
     "data": {
      "text/plain": [
       "['TOT_CONS_imput', 'GESTACH_imput']"
      ]
     },
     "execution_count": 60,
     "metadata": {},
     "output_type": "execute_result"
    }
   ],
   "source": [
    "best_var = [a for a,b in list(zip(num,sk.get_support())) if b] \n",
    "best_var #que son:"
   ]
  },
  {
   "cell_type": "code",
   "execution_count": 61,
   "metadata": {
    "ExecuteTime": {
     "end_time": "2020-09-26T18:11:17.796384Z",
     "start_time": "2020-09-26T18:10:50.809766Z"
    }
   },
   "outputs": [
    {
     "data": {
      "text/plain": [
       "<seaborn.axisgrid.PairGrid at 0x7f6e195ff250>"
      ]
     },
     "execution_count": 61,
     "metadata": {},
     "output_type": "execute_result"
    },
    {
     "data": {
      "image/png": "[encoded data removed]",
      "text/plain": [
       "<Figure size 434.5x360 with 6 Axes>"
      ]
     },
     "metadata": {
      "needs_background": "light"
     },
     "output_type": "display_data"
    }
   ],
   "source": [
    "## Así, la variable objetivo tiene un distinto comportamiento para estas dos variables:\n",
    "best_var = best_var + ['Parto_natural']\n",
    "sns.pairplot(df[best_var],\n",
    "            hue = 'Parto_natural',\n",
    "            palette = 'Paired')"
   ]
  },
  {
   "cell_type": "markdown",
   "metadata": {},
   "source": [
    "### Transformación entrópica"
   ]
  },
  {
   "cell_type": "markdown",
   "metadata": {
    "ExecuteTime": {
     "end_time": "2020-09-20T16:17:58.339375Z",
     "start_time": "2020-09-20T16:17:58.315363Z"
    }
   },
   "source": [
    "Consta de seleccionar las variables categóricas y numéricas-discretizadas (hechas rango) que mejor expliquen el resultado de nuestra variable objetivo"
   ]
  },
  {
   "cell_type": "code",
   "execution_count": 62,
   "metadata": {
    "ExecuteTime": {
     "end_time": "2020-09-26T18:11:17.818506Z",
     "start_time": "2020-09-26T18:11:17.803159Z"
    }
   },
   "outputs": [
    {
     "data": {
      "text/plain": [
       "['NUM_EMB_imput',\n",
       " 'NUM_NACMTO_imput',\n",
       " 'NUM_NACVIVO_imput',\n",
       " 'HIJO_SOBV_imput',\n",
       " 'TOT_CONS_imput',\n",
       " 'GESTACH_imput',\n",
       " 'TALLAH_imput',\n",
       " 'PESOH_imput',\n",
       " 'APGARH_imput',\n",
       " 'SILVERMAN_imput']"
      ]
     },
     "execution_count": 62,
     "metadata": {},
     "output_type": "execute_result"
    }
   ],
   "source": [
    "num"
   ]
  },
  {
   "cell_type": "code",
   "execution_count": 63,
   "metadata": {
    "ExecuteTime": {
     "end_time": "2020-09-26T18:13:02.875132Z",
     "start_time": "2020-09-26T18:11:17.823031Z"
    }
   },
   "outputs": [
    {
     "data": {
      "text/plain": [
       "(50.999, 2900.0]    0.270403\n",
       "(3440.0, 4860.0]    0.249394\n",
       "(3150.0, 3440.0]    0.246855\n",
       "(2900.0, 3150.0]    0.233348\n",
       "Name: PESOH_imput_cut, dtype: float64"
      ]
     },
     "execution_count": 63,
     "metadata": {},
     "output_type": "execute_result"
    }
   ],
   "source": [
    "## Se discretizan las variables numéricas, se vuelven rangos (por percentil)\n",
    "for col in num:\n",
    "    df[f'{col}_cut'] = pd.qcut(df[f'{col}'],\n",
    "                               q = 4,\n",
    "                              duplicates = 'drop').astype(str)\n",
    "## Ejemplo\n",
    "df['PESOH_imput_cut'].value_counts(1, dropna = False)"
   ]
  },
  {
   "cell_type": "code",
   "execution_count": 64,
   "metadata": {
    "ExecuteTime": {
     "end_time": "2020-09-26T18:13:02.908810Z",
     "start_time": "2020-09-26T18:13:02.892728Z"
    }
   },
   "outputs": [
    {
     "data": {
      "text/plain": [
       "Index(['NUM_EMB_imput', 'NUM_NACMTO_imput', 'NUM_NACVIVO_imput',\n",
       "       'HIJO_SOBV_imput', 'TOT_CONS_imput', 'GESTACH_imput', 'TALLAH_imput',\n",
       "       'PESOH_imput', 'APGARH_imput', 'SILVERMAN_imput', 'CEDOCVE', 'ENT_NACM',\n",
       "       'MPO_NACM', 'FECH_NACM', 'EDADM', 'CON_INDM', 'HABLA_INDM',\n",
       "       'CUAL_LENGM', 'EDOCIVIL', 'TIPOVIAL_RES', 'TIPOASEN_RES', 'ENT_RES',\n",
       "       'MPO_RES', 'LOC_RES', 'HIJO_ANTE', 'VIVE_AUN', 'ORDEN_NAC', 'ATEN_PREN',\n",
       "       'TRIM_CONS', 'SOB_PARTO', 'DERHAB', 'DERHAB2', 'NIV_ESCOL', 'OCUPHAB',\n",
       "       'CVEOCUPHAB', 'TRAB_ACT', 'FECH_NACH', 'HORA_NACH', 'SEXOH', 'BCG',\n",
       "       'HEP_B', 'VIT_A', 'VIT_K', 'TAM_AUD', 'PRODUCTO', 'ACELRN', 'CVE_CIE',\n",
       "       'ACELRN2', 'CVE_CIE2', 'PROCNAC', 'INST_NAC', 'UNIMED', 'CLUES',\n",
       "       'ATENDIO', 'TIPOVIAL_NAC', 'TIPOASEN_NAC', 'ENT_NAC', 'MPO_NAC',\n",
       "       'LOC_NAC', 'CERT_POR', 'CLUES_33_2', 'TIPOVIAL_CERT', 'TIPOASEN_CERT',\n",
       "       'ENT_CERT', 'MPO_CERT', 'LOC_CERT', 'FECH_CERT', 'FECH_ALTA',\n",
       "       'TIPO_FORMATO', 'Mes_nace_bb', 'Genero', 'Parto_natural',\n",
       "       'NUM_EMB_imput_cut', 'NUM_NACMTO_imput_cut', 'NUM_NACVIVO_imput_cut',\n",
       "       'HIJO_SOBV_imput_cut', 'TOT_CONS_imput_cut', 'GESTACH_imput_cut',\n",
       "       'TALLAH_imput_cut', 'PESOH_imput_cut', 'APGARH_imput_cut',\n",
       "       'SILVERMAN_imput_cut'],\n",
       "      dtype='object')"
      ]
     },
     "execution_count": 64,
     "metadata": {},
     "output_type": "execute_result"
    }
   ],
   "source": [
    "## Ahora contamos con las variables categóricas, numéricas y las discretizadas\n",
    "df.columns"
   ]
  },
  {
   "cell_type": "code",
   "execution_count": 65,
   "metadata": {
    "ExecuteTime": {
     "end_time": "2020-09-26T18:13:02.930007Z",
     "start_time": "2020-09-26T18:13:02.922503Z"
    }
   },
   "outputs": [],
   "source": [
    "## Se agrupan las variables a evaluar\n",
    "evaluar = cat + [col for col in df.columns if col.endswith('_cut')]"
   ]
  },
  {
   "cell_type": "code",
   "execution_count": 66,
   "metadata": {
    "ExecuteTime": {
     "end_time": "2020-09-26T18:13:02.959379Z",
     "start_time": "2020-09-26T18:13:02.934298Z"
    }
   },
   "outputs": [],
   "source": [
    "## Se construye la función que enlista el IV (Info Value) por columna\n",
    "def iv(obj, df, var):\n",
    "    obj = obj #se instancia dentro de la función para que el siguiente bucle la tome en cuenta\n",
    "    iv_fin = {} #se crea un diccionario vacío\n",
    "    for x in var:\n",
    "        aux = df[[x, obj]].copy() #nos interesa evaluar cada variable vs nuestra variable objetivo\n",
    "        aux['n'] = 1 #columna de apoyo para hacer la suma\n",
    "\n",
    "        ## Se transforma la estructura de la tabla:\n",
    "        aux = aux.pivot_table(columns = obj, #teniendo las opciones de nuestra variable objetivo como columnas\n",
    "                              index = x, #y las categorías (rangos para las numéricas) como renglones\n",
    "                              values = 'n', #el contador por categoría vs resultado de la variable objetivo\n",
    "                              aggfunc = 'sum',\n",
    "                              fill_value = 0).copy() #llenar los vacíos con ceros\n",
    "        ## CAMBIAR 0-1 POR YES-NO, SEGÚN EL EJEMPLO\n",
    "        aux['no_ev'] = aux[0] / aux[0].sum() #divide cada renglón entre el total para obtener la proba de no evento\n",
    "        aux['si_ev'] = aux[1] / aux[1].sum() #proba de sí evento\n",
    "        \n",
    "        aux['woe'] = np.log(aux['no_ev'] / aux['si_ev']) #se crea la columna de WOE (Weight Of Evidence)\n",
    "        aux['iv'] = aux['woe']*(aux['no_ev'] - aux['si_ev']) #se crea la columna individual de IV (Info Value)\n",
    "\n",
    "        iv_fin[x] = aux['iv'].sum().round(3) #y finalmente, suma la columna y la agrega al diccionario\n",
    "\n",
    "    iv_fin = pd.DataFrame.from_dict(iv_fin,\n",
    "                                    orient = 'index',\n",
    "                                    columns = ['IV']).sort_values(by = 'IV',\n",
    "                                                                  ascending = False)\n",
    "    iv_fin = iv_fin[iv_fin['IV'] < 1].copy()\n",
    "    \n",
    "    return iv_fin"
   ]
  },
  {
   "cell_type": "code",
   "execution_count": 67,
   "metadata": {
    "ExecuteTime": {
     "end_time": "2020-09-26T18:13:19.848412Z",
     "start_time": "2020-09-26T18:13:02.985297Z"
    }
   },
   "outputs": [
    {
     "name": "stderr",
     "output_type": "stream",
     "text": [
      "/home/ef/Desktop/diplomadus/diplomadus/lib/python3.8/site-packages/pandas/core/series.py:726: RuntimeWarning: divide by zero encountered in log\n",
      "  result = getattr(ufunc, method)(*inputs, **kwargs)\n",
      "/home/ef/Desktop/diplomadus/diplomadus/lib/python3.8/site-packages/pandas/core/series.py:726: RuntimeWarning: divide by zero encountered in log\n",
      "  result = getattr(ufunc, method)(*inputs, **kwargs)\n",
      "/home/ef/Desktop/diplomadus/diplomadus/lib/python3.8/site-packages/pandas/core/series.py:726: RuntimeWarning: divide by zero encountered in log\n",
      "  result = getattr(ufunc, method)(*inputs, **kwargs)\n",
      "/home/ef/Desktop/diplomadus/diplomadus/lib/python3.8/site-packages/pandas/core/series.py:726: RuntimeWarning: divide by zero encountered in log\n",
      "  result = getattr(ufunc, method)(*inputs, **kwargs)\n",
      "/home/ef/Desktop/diplomadus/diplomadus/lib/python3.8/site-packages/pandas/core/series.py:726: RuntimeWarning: divide by zero encountered in log\n",
      "  result = getattr(ufunc, method)(*inputs, **kwargs)\n",
      "/home/ef/Desktop/diplomadus/diplomadus/lib/python3.8/site-packages/pandas/core/series.py:726: RuntimeWarning: divide by zero encountered in log\n",
      "  result = getattr(ufunc, method)(*inputs, **kwargs)\n",
      "/home/ef/Desktop/diplomadus/diplomadus/lib/python3.8/site-packages/pandas/core/series.py:726: RuntimeWarning: divide by zero encountered in log\n",
      "  result = getattr(ufunc, method)(*inputs, **kwargs)\n",
      "/home/ef/Desktop/diplomadus/diplomadus/lib/python3.8/site-packages/pandas/core/series.py:726: RuntimeWarning: divide by zero encountered in log\n",
      "  result = getattr(ufunc, method)(*inputs, **kwargs)\n",
      "/home/ef/Desktop/diplomadus/diplomadus/lib/python3.8/site-packages/pandas/core/series.py:726: RuntimeWarning: divide by zero encountered in log\n",
      "  result = getattr(ufunc, method)(*inputs, **kwargs)\n",
      "/home/ef/Desktop/diplomadus/diplomadus/lib/python3.8/site-packages/pandas/core/series.py:726: RuntimeWarning: divide by zero encountered in log\n",
      "  result = getattr(ufunc, method)(*inputs, **kwargs)\n",
      "/home/ef/Desktop/diplomadus/diplomadus/lib/python3.8/site-packages/pandas/core/series.py:726: RuntimeWarning: divide by zero encountered in log\n",
      "  result = getattr(ufunc, method)(*inputs, **kwargs)\n",
      "/home/ef/Desktop/diplomadus/diplomadus/lib/python3.8/site-packages/pandas/core/series.py:726: RuntimeWarning: divide by zero encountered in log\n",
      "  result = getattr(ufunc, method)(*inputs, **kwargs)\n",
      "/home/ef/Desktop/diplomadus/diplomadus/lib/python3.8/site-packages/pandas/core/series.py:726: RuntimeWarning: divide by zero encountered in log\n",
      "  result = getattr(ufunc, method)(*inputs, **kwargs)\n",
      "/home/ef/Desktop/diplomadus/diplomadus/lib/python3.8/site-packages/pandas/core/series.py:726: RuntimeWarning: divide by zero encountered in log\n",
      "  result = getattr(ufunc, method)(*inputs, **kwargs)\n",
      "/home/ef/Desktop/diplomadus/diplomadus/lib/python3.8/site-packages/pandas/core/series.py:726: RuntimeWarning: divide by zero encountered in log\n",
      "  result = getattr(ufunc, method)(*inputs, **kwargs)\n",
      "/home/ef/Desktop/diplomadus/diplomadus/lib/python3.8/site-packages/pandas/core/series.py:726: RuntimeWarning: divide by zero encountered in log\n",
      "  result = getattr(ufunc, method)(*inputs, **kwargs)\n",
      "/home/ef/Desktop/diplomadus/diplomadus/lib/python3.8/site-packages/pandas/core/series.py:726: RuntimeWarning: divide by zero encountered in log\n",
      "  result = getattr(ufunc, method)(*inputs, **kwargs)\n",
      "/home/ef/Desktop/diplomadus/diplomadus/lib/python3.8/site-packages/pandas/core/series.py:726: RuntimeWarning: divide by zero encountered in log\n",
      "  result = getattr(ufunc, method)(*inputs, **kwargs)\n",
      "/home/ef/Desktop/diplomadus/diplomadus/lib/python3.8/site-packages/pandas/core/series.py:726: RuntimeWarning: divide by zero encountered in log\n",
      "  result = getattr(ufunc, method)(*inputs, **kwargs)\n",
      "/home/ef/Desktop/diplomadus/diplomadus/lib/python3.8/site-packages/pandas/core/series.py:726: RuntimeWarning: divide by zero encountered in log\n",
      "  result = getattr(ufunc, method)(*inputs, **kwargs)\n",
      "/home/ef/Desktop/diplomadus/diplomadus/lib/python3.8/site-packages/pandas/core/series.py:726: RuntimeWarning: divide by zero encountered in log\n",
      "  result = getattr(ufunc, method)(*inputs, **kwargs)\n",
      "/home/ef/Desktop/diplomadus/diplomadus/lib/python3.8/site-packages/pandas/core/series.py:726: RuntimeWarning: divide by zero encountered in log\n",
      "  result = getattr(ufunc, method)(*inputs, **kwargs)\n",
      "/home/ef/Desktop/diplomadus/diplomadus/lib/python3.8/site-packages/pandas/core/series.py:726: RuntimeWarning: divide by zero encountered in log\n",
      "  result = getattr(ufunc, method)(*inputs, **kwargs)\n",
      "/home/ef/Desktop/diplomadus/diplomadus/lib/python3.8/site-packages/pandas/core/series.py:726: RuntimeWarning: divide by zero encountered in log\n",
      "  result = getattr(ufunc, method)(*inputs, **kwargs)\n",
      "/home/ef/Desktop/diplomadus/diplomadus/lib/python3.8/site-packages/pandas/core/series.py:726: RuntimeWarning: divide by zero encountered in log\n",
      "  result = getattr(ufunc, method)(*inputs, **kwargs)\n"
     ]
    },
    {
     "data": {
      "text/html": [
       "<div>\n",
       "<style scoped>\n",
       "    .dataframe tbody tr th:only-of-type {\n",
       "        vertical-align: middle;\n",
       "    }\n",
       "\n",
       "    .dataframe tbody tr th {\n",
       "        vertical-align: top;\n",
       "    }\n",
       "\n",
       "    .dataframe thead th {\n",
       "        text-align: right;\n",
       "    }\n",
       "</style>\n",
       "<table border=\"1\" class=\"dataframe\">\n",
       "  <thead>\n",
       "    <tr style=\"text-align: right;\">\n",
       "      <th></th>\n",
       "      <th>IV</th>\n",
       "    </tr>\n",
       "  </thead>\n",
       "  <tbody>\n",
       "    <tr>\n",
       "      <th>INST_NAC</th>\n",
       "      <td>0.804</td>\n",
       "    </tr>\n",
       "    <tr>\n",
       "      <th>ATENDIO</th>\n",
       "      <td>0.494</td>\n",
       "    </tr>\n",
       "    <tr>\n",
       "      <th>DERHAB</th>\n",
       "      <td>0.293</td>\n",
       "    </tr>\n",
       "    <tr>\n",
       "      <th>HORA_NACH</th>\n",
       "      <td>0.234</td>\n",
       "    </tr>\n",
       "    <tr>\n",
       "      <th>NIV_ESCOL</th>\n",
       "      <td>0.196</td>\n",
       "    </tr>\n",
       "    <tr>\n",
       "      <th>TOT_CONS_imput_cut</th>\n",
       "      <td>0.157</td>\n",
       "    </tr>\n",
       "    <tr>\n",
       "      <th>CVEOCUPHAB</th>\n",
       "      <td>0.127</td>\n",
       "    </tr>\n",
       "    <tr>\n",
       "      <th>GESTACH_imput_cut</th>\n",
       "      <td>0.094</td>\n",
       "    </tr>\n",
       "    <tr>\n",
       "      <th>CERT_POR</th>\n",
       "      <td>0.087</td>\n",
       "    </tr>\n",
       "    <tr>\n",
       "      <th>TRIM_CONS</th>\n",
       "      <td>0.080</td>\n",
       "    </tr>\n",
       "    <tr>\n",
       "      <th>TRAB_ACT</th>\n",
       "      <td>0.073</td>\n",
       "    </tr>\n",
       "    <tr>\n",
       "      <th>VIT_A</th>\n",
       "      <td>0.072</td>\n",
       "    </tr>\n",
       "    <tr>\n",
       "      <th>ENT_NAC</th>\n",
       "      <td>0.070</td>\n",
       "    </tr>\n",
       "    <tr>\n",
       "      <th>ENT_CERT</th>\n",
       "      <td>0.070</td>\n",
       "    </tr>\n",
       "    <tr>\n",
       "      <th>CEDOCVE</th>\n",
       "      <td>0.070</td>\n",
       "    </tr>\n",
       "    <tr>\n",
       "      <th>ENT_NACM</th>\n",
       "      <td>0.065</td>\n",
       "    </tr>\n",
       "    <tr>\n",
       "      <th>HIJO_SOBV_imput_cut</th>\n",
       "      <td>0.060</td>\n",
       "    </tr>\n",
       "    <tr>\n",
       "      <th>NUM_NACVIVO_imput_cut</th>\n",
       "      <td>0.059</td>\n",
       "    </tr>\n",
       "    <tr>\n",
       "      <th>EDOCIVIL</th>\n",
       "      <td>0.057</td>\n",
       "    </tr>\n",
       "    <tr>\n",
       "      <th>PRODUCTO</th>\n",
       "      <td>0.055</td>\n",
       "    </tr>\n",
       "    <tr>\n",
       "      <th>BCG</th>\n",
       "      <td>0.043</td>\n",
       "    </tr>\n",
       "    <tr>\n",
       "      <th>TIPOVIAL_CERT</th>\n",
       "      <td>0.036</td>\n",
       "    </tr>\n",
       "    <tr>\n",
       "      <th>DERHAB2</th>\n",
       "      <td>0.034</td>\n",
       "    </tr>\n",
       "    <tr>\n",
       "      <th>HEP_B</th>\n",
       "      <td>0.033</td>\n",
       "    </tr>\n",
       "    <tr>\n",
       "      <th>APGARH_imput_cut</th>\n",
       "      <td>0.033</td>\n",
       "    </tr>\n",
       "    <tr>\n",
       "      <th>HABLA_INDM</th>\n",
       "      <td>0.033</td>\n",
       "    </tr>\n",
       "    <tr>\n",
       "      <th>CON_INDM</th>\n",
       "      <td>0.032</td>\n",
       "    </tr>\n",
       "    <tr>\n",
       "      <th>ORDEN_NAC</th>\n",
       "      <td>0.032</td>\n",
       "    </tr>\n",
       "    <tr>\n",
       "      <th>FECH_NACH</th>\n",
       "      <td>0.030</td>\n",
       "    </tr>\n",
       "    <tr>\n",
       "      <th>NUM_EMB_imput_cut</th>\n",
       "      <td>0.030</td>\n",
       "    </tr>\n",
       "    <tr>\n",
       "      <th>HIJO_ANTE</th>\n",
       "      <td>0.028</td>\n",
       "    </tr>\n",
       "    <tr>\n",
       "      <th>TIPOASEN_RES</th>\n",
       "      <td>0.027</td>\n",
       "    </tr>\n",
       "    <tr>\n",
       "      <th>VIVE_AUN</th>\n",
       "      <td>0.025</td>\n",
       "    </tr>\n",
       "    <tr>\n",
       "      <th>ATEN_PREN</th>\n",
       "      <td>0.021</td>\n",
       "    </tr>\n",
       "    <tr>\n",
       "      <th>TALLAH_imput_cut</th>\n",
       "      <td>0.014</td>\n",
       "    </tr>\n",
       "    <tr>\n",
       "      <th>TIPOVIAL_RES</th>\n",
       "      <td>0.012</td>\n",
       "    </tr>\n",
       "    <tr>\n",
       "      <th>PESOH_imput_cut</th>\n",
       "      <td>0.008</td>\n",
       "    </tr>\n",
       "    <tr>\n",
       "      <th>TAM_AUD</th>\n",
       "      <td>0.003</td>\n",
       "    </tr>\n",
       "    <tr>\n",
       "      <th>TIPO_FORMATO</th>\n",
       "      <td>0.003</td>\n",
       "    </tr>\n",
       "    <tr>\n",
       "      <th>VIT_K</th>\n",
       "      <td>0.001</td>\n",
       "    </tr>\n",
       "    <tr>\n",
       "      <th>NUM_NACMTO_imput_cut</th>\n",
       "      <td>0.000</td>\n",
       "    </tr>\n",
       "    <tr>\n",
       "      <th>SOB_PARTO</th>\n",
       "      <td>0.000</td>\n",
       "    </tr>\n",
       "    <tr>\n",
       "      <th>SEXOH</th>\n",
       "      <td>0.000</td>\n",
       "    </tr>\n",
       "    <tr>\n",
       "      <th>SILVERMAN_imput_cut</th>\n",
       "      <td>0.000</td>\n",
       "    </tr>\n",
       "  </tbody>\n",
       "</table>\n",
       "</div>"
      ],
      "text/plain": [
       "                          IV\n",
       "INST_NAC               0.804\n",
       "ATENDIO                0.494\n",
       "DERHAB                 0.293\n",
       "HORA_NACH              0.234\n",
       "NIV_ESCOL              0.196\n",
       "TOT_CONS_imput_cut     0.157\n",
       "CVEOCUPHAB             0.127\n",
       "GESTACH_imput_cut      0.094\n",
       "CERT_POR               0.087\n",
       "TRIM_CONS              0.080\n",
       "TRAB_ACT               0.073\n",
       "VIT_A                  0.072\n",
       "ENT_NAC                0.070\n",
       "ENT_CERT               0.070\n",
       "CEDOCVE                0.070\n",
       "ENT_NACM               0.065\n",
       "HIJO_SOBV_imput_cut    0.060\n",
       "NUM_NACVIVO_imput_cut  0.059\n",
       "EDOCIVIL               0.057\n",
       "PRODUCTO               0.055\n",
       "BCG                    0.043\n",
       "TIPOVIAL_CERT          0.036\n",
       "DERHAB2                0.034\n",
       "HEP_B                  0.033\n",
       "APGARH_imput_cut       0.033\n",
       "HABLA_INDM             0.033\n",
       "CON_INDM               0.032\n",
       "ORDEN_NAC              0.032\n",
       "FECH_NACH              0.030\n",
       "NUM_EMB_imput_cut      0.030\n",
       "HIJO_ANTE              0.028\n",
       "TIPOASEN_RES           0.027\n",
       "VIVE_AUN               0.025\n",
       "ATEN_PREN              0.021\n",
       "TALLAH_imput_cut       0.014\n",
       "TIPOVIAL_RES           0.012\n",
       "PESOH_imput_cut        0.008\n",
       "TAM_AUD                0.003\n",
       "TIPO_FORMATO           0.003\n",
       "VIT_K                  0.001\n",
       "NUM_NACMTO_imput_cut   0.000\n",
       "SOB_PARTO              0.000\n",
       "SEXOH                  0.000\n",
       "SILVERMAN_imput_cut    0.000"
      ]
     },
     "execution_count": 67,
     "metadata": {},
     "output_type": "execute_result"
    }
   ],
   "source": [
    "## Se aplica la función que evalúa todas las variables de un dataframe\n",
    "iv(obj = 'Parto_natural',df = df, var = evaluar)"
   ]
  },
  {
   "cell_type": "markdown",
   "metadata": {},
   "source": [
    "La ventaja de este metodología es que despliega el \"nivel\" de influencia de las variables numéricas y también categóricas."
   ]
  },
  {
   "cell_type": "code",
   "execution_count": 68,
   "metadata": {
    "ExecuteTime": {
     "end_time": "2020-09-26T18:13:19.920807Z",
     "start_time": "2020-09-26T18:13:19.881850Z"
    }
   },
   "outputs": [
    {
     "data": {
      "text/html": [
       "\n",
       "                <audio  controls=\"controls\" autoplay=\"autoplay\">\n",
       "                    <source src=\"data:audio/wav;base64,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\" type=\"audio/wav\" />\n",
       "                    Your browser does not support the audio element.\n",
       "                </audio>\n",
       "              "
      ],
      "text/plain": [
       "<IPython.lib.display.Audio object>"
      ]
     },
     "execution_count": 68,
     "metadata": {},
     "output_type": "execute_result"
    }
   ],
   "source": [
    "## La siguiente línea debe ir debajo del código p que suene\n",
    "Audio(audio_data, rate=framerate, autoplay=True)"
   ]
  }
 ],
 "metadata": {
  "kernelspec": {
   "display_name": "Python 3",
   "language": "python",
   "name": "python3"
  },
  "language_info": {
   "codemirror_mode": {
    "name": "ipython",
    "version": 3
   },
   "file_extension": ".py",
   "mimetype": "text/x-python",
   "name": "python",
   "nbconvert_exporter": "python",
   "pygments_lexer": "ipython3",
   "version": "3.8.5"
  },
  "toc": {
   "base_numbering": 1,
   "nav_menu": {},
   "number_sections": true,
   "sideBar": true,
   "skip_h1_title": true,
   "title_cell": "Table of Contents",
   "title_sidebar": "Contents",
   "toc_cell": false,
   "toc_position": {
    "height": "calc(100% - 180px)",
    "left": "10px",
    "top": "150px",
    "width": "410.66px"
   },
   "toc_section_display": true,
   "toc_window_display": true
  },
  "varInspector": {
   "cols": {
    "lenName": 16,
    "lenType": 16,
    "lenVar": 40
   },
   "kernels_config": {
    "python": {
     "delete_cmd_postfix": "",
     "delete_cmd_prefix": "del ",
     "library": "var_list.py",
     "varRefreshCmd": "print(var_dic_list())"
    },
    "r": {
     "delete_cmd_postfix": ") ",
     "delete_cmd_prefix": "rm(",
     "library": "var_list.r",
     "varRefreshCmd": "cat(var_dic_list()) "
    }
   },
   "types_to_exclude": [
    "module",
    "function",
    "builtin_function_or_method",
    "instance",
    "_Feature"
   ],
   "window_display": false
  }
 },
 "nbformat": 4,
 "nbformat_minor": 4
}
