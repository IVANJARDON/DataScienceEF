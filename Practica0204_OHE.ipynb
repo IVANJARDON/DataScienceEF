{
 "cells": [
  {
   "cell_type": "markdown",
   "metadata": {},
   "source": [
    "# Practica 4"
   ]
  },
  {
   "cell_type": "markdown",
   "metadata": {},
   "source": [
    "## Importar"
   ]
  },
  {
   "cell_type": "code",
   "execution_count": 52,
   "metadata": {
    "ExecuteTime": {
     "end_time": "2020-11-14T18:31:58.896866Z",
     "start_time": "2020-11-14T18:31:58.869777Z"
    }
   },
   "outputs": [],
   "source": [
    "# %load basic\n",
    "import pandas as pd\n",
    "import numpy as np\n",
    "import matplotlib.pyplot as plt\n",
    "pd.set_option('display.max_columns',200)\n",
    "pd.options.display.float_format = '{:.2f}'.format"
   ]
  },
  {
   "cell_type": "code",
   "execution_count": 53,
   "metadata": {
    "ExecuteTime": {
     "end_time": "2020-11-14T18:31:58.968976Z",
     "start_time": "2020-11-14T18:31:58.918669Z"
    }
   },
   "outputs": [
    {
     "name": "stdout",
     "output_type": "stream",
     "text": [
      "<class 'pandas.core.frame.DataFrame'>\n",
      "RangeIndex: 46 entries, 0 to 45\n",
      "Data columns (total 13 columns):\n",
      " #   Column                                              Non-Null Count  Dtype  \n",
      "---  ------                                              --------------  -----  \n",
      " 0   Marca temporal                                      46 non-null     object \n",
      " 1   Pares de zapatos                                    46 non-null     float64\n",
      " 2   Número de selfies en promedio a la semana           46 non-null     int64  \n",
      " 3   Temperatura del agua al bañarte                     46 non-null     object \n",
      " 4   ¿Te gusta bailar?                                   46 non-null     object \n",
      " 5   Tiempo en bañarse minutos                           46 non-null     int64  \n",
      " 6   Número de amigos en Facebook                        46 non-null     int64  \n",
      " 7   Horas de sueño diarias                              46 non-null     float64\n",
      " 8   Porcentaje de batería (0-100)                       46 non-null     int64  \n",
      " 9   Género de película                                  46 non-null     object \n",
      " 10  ¿Cuántas chelas te tomas por salida? (de cuartito)  46 non-null     int64  \n",
      " 11  Número de piercings                                 46 non-null     int64  \n",
      " 12  Género                                              46 non-null     object \n",
      "dtypes: float64(2), int64(6), object(5)\n",
      "memory usage: 4.8+ KB\n"
     ]
    }
   ],
   "source": [
    "liga = '/home/ef/Documents/Diplomado/data/'\n",
    "df = pd.read_csv(liga + 'hombre_mujer_dataset.csv')\n",
    "df.info()"
   ]
  },
  {
   "cell_type": "code",
   "execution_count": 54,
   "metadata": {
    "ExecuteTime": {
     "end_time": "2020-11-14T18:31:58.998574Z",
     "start_time": "2020-11-14T18:31:58.979507Z"
    }
   },
   "outputs": [],
   "source": [
    "df = df.iloc[:,1:]"
   ]
  },
  {
   "cell_type": "code",
   "execution_count": 55,
   "metadata": {
    "ExecuteTime": {
     "end_time": "2020-11-14T18:31:59.024834Z",
     "start_time": "2020-11-14T18:31:59.006933Z"
    }
   },
   "outputs": [
    {
     "data": {
      "text/plain": [
       "Pares de zapatos                                     0.00\n",
       "Número de selfies en promedio a la semana            0.00\n",
       "Temperatura del agua al bañarte                      0.00\n",
       "¿Te gusta bailar?                                    0.00\n",
       "Tiempo en bañarse minutos                            0.00\n",
       "Número de amigos en Facebook                         0.00\n",
       "Horas de sueño diarias                               0.00\n",
       "Porcentaje de batería (0-100)                        0.00\n",
       "Género de película                                   0.00\n",
       "¿Cuántas chelas te tomas por salida? (de cuartito)   0.00\n",
       "Número de piercings                                  0.00\n",
       "Género                                               0.00\n",
       "dtype: float64"
      ]
     },
     "execution_count": 55,
     "metadata": {},
     "output_type": "execute_result"
    }
   ],
   "source": [
    "df.isnull().sum() /len(df)"
   ]
  },
  {
   "cell_type": "code",
   "execution_count": 56,
   "metadata": {
    "ExecuteTime": {
     "end_time": "2020-11-14T18:31:59.128008Z",
     "start_time": "2020-11-14T18:31:59.030915Z"
    }
   },
   "outputs": [
    {
     "data": {
      "text/html": [
       "<div>\n",
       "<style scoped>\n",
       "    .dataframe tbody tr th:only-of-type {\n",
       "        vertical-align: middle;\n",
       "    }\n",
       "\n",
       "    .dataframe tbody tr th {\n",
       "        vertical-align: top;\n",
       "    }\n",
       "\n",
       "    .dataframe thead th {\n",
       "        text-align: right;\n",
       "    }\n",
       "</style>\n",
       "<table border=\"1\" class=\"dataframe\">\n",
       "  <thead>\n",
       "    <tr style=\"text-align: right;\">\n",
       "      <th></th>\n",
       "      <th>Pares de zapatos</th>\n",
       "      <th>Número de selfies en promedio a la semana</th>\n",
       "      <th>Tiempo en bañarse minutos</th>\n",
       "      <th>Número de amigos en Facebook</th>\n",
       "      <th>Horas de sueño diarias</th>\n",
       "      <th>Porcentaje de batería (0-100)</th>\n",
       "      <th>¿Cuántas chelas te tomas por salida? (de cuartito)</th>\n",
       "      <th>Número de piercings</th>\n",
       "    </tr>\n",
       "  </thead>\n",
       "  <tbody>\n",
       "    <tr>\n",
       "      <th>count</th>\n",
       "      <td>46.00</td>\n",
       "      <td>46.00</td>\n",
       "      <td>46.00</td>\n",
       "      <td>46.00</td>\n",
       "      <td>46.00</td>\n",
       "      <td>46.00</td>\n",
       "      <td>46.00</td>\n",
       "      <td>46.00</td>\n",
       "    </tr>\n",
       "    <tr>\n",
       "      <th>mean</th>\n",
       "      <td>14.02</td>\n",
       "      <td>4.61</td>\n",
       "      <td>15.54</td>\n",
       "      <td>556.33</td>\n",
       "      <td>6.71</td>\n",
       "      <td>56.37</td>\n",
       "      <td>4.78</td>\n",
       "      <td>0.48</td>\n",
       "    </tr>\n",
       "    <tr>\n",
       "      <th>std</th>\n",
       "      <td>10.02</td>\n",
       "      <td>15.13</td>\n",
       "      <td>6.32</td>\n",
       "      <td>457.74</td>\n",
       "      <td>1.01</td>\n",
       "      <td>30.98</td>\n",
       "      <td>3.85</td>\n",
       "      <td>1.07</td>\n",
       "    </tr>\n",
       "    <tr>\n",
       "      <th>min</th>\n",
       "      <td>2.00</td>\n",
       "      <td>0.00</td>\n",
       "      <td>5.00</td>\n",
       "      <td>60.00</td>\n",
       "      <td>5.00</td>\n",
       "      <td>0.00</td>\n",
       "      <td>0.00</td>\n",
       "      <td>0.00</td>\n",
       "    </tr>\n",
       "    <tr>\n",
       "      <th>0%</th>\n",
       "      <td>2.00</td>\n",
       "      <td>0.00</td>\n",
       "      <td>5.00</td>\n",
       "      <td>60.00</td>\n",
       "      <td>5.00</td>\n",
       "      <td>0.00</td>\n",
       "      <td>0.00</td>\n",
       "      <td>0.00</td>\n",
       "    </tr>\n",
       "    <tr>\n",
       "      <th>1%</th>\n",
       "      <td>2.00</td>\n",
       "      <td>0.00</td>\n",
       "      <td>6.35</td>\n",
       "      <td>61.35</td>\n",
       "      <td>5.00</td>\n",
       "      <td>2.70</td>\n",
       "      <td>0.00</td>\n",
       "      <td>0.00</td>\n",
       "    </tr>\n",
       "    <tr>\n",
       "      <th>10%</th>\n",
       "      <td>3.00</td>\n",
       "      <td>0.00</td>\n",
       "      <td>10.00</td>\n",
       "      <td>100.00</td>\n",
       "      <td>6.00</td>\n",
       "      <td>16.00</td>\n",
       "      <td>0.00</td>\n",
       "      <td>0.00</td>\n",
       "    </tr>\n",
       "    <tr>\n",
       "      <th>20%</th>\n",
       "      <td>5.00</td>\n",
       "      <td>0.00</td>\n",
       "      <td>10.00</td>\n",
       "      <td>236.00</td>\n",
       "      <td>6.00</td>\n",
       "      <td>23.00</td>\n",
       "      <td>0.00</td>\n",
       "      <td>0.00</td>\n",
       "    </tr>\n",
       "    <tr>\n",
       "      <th>30%</th>\n",
       "      <td>7.25</td>\n",
       "      <td>0.00</td>\n",
       "      <td>10.00</td>\n",
       "      <td>294.00</td>\n",
       "      <td>6.00</td>\n",
       "      <td>29.50</td>\n",
       "      <td>2.50</td>\n",
       "      <td>0.00</td>\n",
       "    </tr>\n",
       "    <tr>\n",
       "      <th>40%</th>\n",
       "      <td>10.00</td>\n",
       "      <td>1.00</td>\n",
       "      <td>10.00</td>\n",
       "      <td>363.00</td>\n",
       "      <td>6.00</td>\n",
       "      <td>48.00</td>\n",
       "      <td>3.00</td>\n",
       "      <td>0.00</td>\n",
       "    </tr>\n",
       "    <tr>\n",
       "      <th>50%</th>\n",
       "      <td>10.00</td>\n",
       "      <td>1.00</td>\n",
       "      <td>15.00</td>\n",
       "      <td>465.00</td>\n",
       "      <td>7.00</td>\n",
       "      <td>60.00</td>\n",
       "      <td>5.00</td>\n",
       "      <td>0.00</td>\n",
       "    </tr>\n",
       "    <tr>\n",
       "      <th>60%</th>\n",
       "      <td>15.00</td>\n",
       "      <td>1.00</td>\n",
       "      <td>15.00</td>\n",
       "      <td>525.00</td>\n",
       "      <td>7.00</td>\n",
       "      <td>72.00</td>\n",
       "      <td>6.00</td>\n",
       "      <td>0.00</td>\n",
       "    </tr>\n",
       "    <tr>\n",
       "      <th>70%</th>\n",
       "      <td>20.00</td>\n",
       "      <td>3.00</td>\n",
       "      <td>20.00</td>\n",
       "      <td>666.00</td>\n",
       "      <td>7.00</td>\n",
       "      <td>82.00</td>\n",
       "      <td>7.00</td>\n",
       "      <td>0.00</td>\n",
       "    </tr>\n",
       "    <tr>\n",
       "      <th>80%</th>\n",
       "      <td>24.00</td>\n",
       "      <td>5.00</td>\n",
       "      <td>20.00</td>\n",
       "      <td>750.00</td>\n",
       "      <td>8.00</td>\n",
       "      <td>87.00</td>\n",
       "      <td>8.00</td>\n",
       "      <td>0.00</td>\n",
       "    </tr>\n",
       "    <tr>\n",
       "      <th>90%</th>\n",
       "      <td>27.00</td>\n",
       "      <td>5.00</td>\n",
       "      <td>22.50</td>\n",
       "      <td>1095.50</td>\n",
       "      <td>8.00</td>\n",
       "      <td>93.50</td>\n",
       "      <td>10.00</td>\n",
       "      <td>2.00</td>\n",
       "    </tr>\n",
       "    <tr>\n",
       "      <th>99%</th>\n",
       "      <td>38.65</td>\n",
       "      <td>68.50</td>\n",
       "      <td>30.00</td>\n",
       "      <td>2082.50</td>\n",
       "      <td>9.00</td>\n",
       "      <td>99.55</td>\n",
       "      <td>13.65</td>\n",
       "      <td>4.00</td>\n",
       "    </tr>\n",
       "    <tr>\n",
       "      <th>max</th>\n",
       "      <td>40.00</td>\n",
       "      <td>100.00</td>\n",
       "      <td>30.00</td>\n",
       "      <td>2600.00</td>\n",
       "      <td>9.00</td>\n",
       "      <td>100.00</td>\n",
       "      <td>15.00</td>\n",
       "      <td>4.00</td>\n",
       "    </tr>\n",
       "  </tbody>\n",
       "</table>\n",
       "</div>"
      ],
      "text/plain": [
       "       Pares de zapatos  Número de selfies en promedio a la semana  \\\n",
       "count             46.00                                      46.00   \n",
       "mean              14.02                                       4.61   \n",
       "std               10.02                                      15.13   \n",
       "min                2.00                                       0.00   \n",
       "0%                 2.00                                       0.00   \n",
       "1%                 2.00                                       0.00   \n",
       "10%                3.00                                       0.00   \n",
       "20%                5.00                                       0.00   \n",
       "30%                7.25                                       0.00   \n",
       "40%               10.00                                       1.00   \n",
       "50%               10.00                                       1.00   \n",
       "60%               15.00                                       1.00   \n",
       "70%               20.00                                       3.00   \n",
       "80%               24.00                                       5.00   \n",
       "90%               27.00                                       5.00   \n",
       "99%               38.65                                      68.50   \n",
       "max               40.00                                     100.00   \n",
       "\n",
       "       Tiempo en bañarse minutos  Número de amigos en Facebook  \\\n",
       "count                      46.00                         46.00   \n",
       "mean                       15.54                        556.33   \n",
       "std                         6.32                        457.74   \n",
       "min                         5.00                         60.00   \n",
       "0%                          5.00                         60.00   \n",
       "1%                          6.35                         61.35   \n",
       "10%                        10.00                        100.00   \n",
       "20%                        10.00                        236.00   \n",
       "30%                        10.00                        294.00   \n",
       "40%                        10.00                        363.00   \n",
       "50%                        15.00                        465.00   \n",
       "60%                        15.00                        525.00   \n",
       "70%                        20.00                        666.00   \n",
       "80%                        20.00                        750.00   \n",
       "90%                        22.50                       1095.50   \n",
       "99%                        30.00                       2082.50   \n",
       "max                        30.00                       2600.00   \n",
       "\n",
       "       Horas de sueño diarias  Porcentaje de batería (0-100)  \\\n",
       "count                   46.00                          46.00   \n",
       "mean                     6.71                          56.37   \n",
       "std                      1.01                          30.98   \n",
       "min                      5.00                           0.00   \n",
       "0%                       5.00                           0.00   \n",
       "1%                       5.00                           2.70   \n",
       "10%                      6.00                          16.00   \n",
       "20%                      6.00                          23.00   \n",
       "30%                      6.00                          29.50   \n",
       "40%                      6.00                          48.00   \n",
       "50%                      7.00                          60.00   \n",
       "60%                      7.00                          72.00   \n",
       "70%                      7.00                          82.00   \n",
       "80%                      8.00                          87.00   \n",
       "90%                      8.00                          93.50   \n",
       "99%                      9.00                          99.55   \n",
       "max                      9.00                         100.00   \n",
       "\n",
       "       ¿Cuántas chelas te tomas por salida? (de cuartito)  Número de piercings  \n",
       "count                                              46.00                 46.00  \n",
       "mean                                                4.78                  0.48  \n",
       "std                                                 3.85                  1.07  \n",
       "min                                                 0.00                  0.00  \n",
       "0%                                                  0.00                  0.00  \n",
       "1%                                                  0.00                  0.00  \n",
       "10%                                                 0.00                  0.00  \n",
       "20%                                                 0.00                  0.00  \n",
       "30%                                                 2.50                  0.00  \n",
       "40%                                                 3.00                  0.00  \n",
       "50%                                                 5.00                  0.00  \n",
       "60%                                                 6.00                  0.00  \n",
       "70%                                                 7.00                  0.00  \n",
       "80%                                                 8.00                  0.00  \n",
       "90%                                                10.00                  2.00  \n",
       "99%                                                13.65                  4.00  \n",
       "max                                                15.00                  4.00  "
      ]
     },
     "execution_count": 56,
     "metadata": {},
     "output_type": "execute_result"
    }
   ],
   "source": [
    "df.describe([i/10 for i in range(10)] + [.01,.99])"
   ]
  },
  {
   "cell_type": "code",
   "execution_count": 57,
   "metadata": {
    "ExecuteTime": {
     "end_time": "2020-11-14T18:31:59.233941Z",
     "start_time": "2020-11-14T18:31:59.135182Z"
    }
   },
   "outputs": [
    {
     "data": {
      "text/plain": [
       "['Pares de zapatos',\n",
       " 'Número de selfies en promedio a la semana',\n",
       " 'Tiempo en bañarse minutos',\n",
       " 'Número de amigos en Facebook',\n",
       " 'Horas de sueño diarias',\n",
       " 'Porcentaje de batería (0-100)',\n",
       " '¿Cuántas chelas te tomas por salida? (de cuartito)',\n",
       " 'Número de piercings']"
      ]
     },
     "execution_count": 57,
     "metadata": {},
     "output_type": "execute_result"
    }
   ],
   "source": [
    "num = list(df.describe().columns)\n",
    "cat = [x for x in df.columns if x not in num + ['Género']]\n",
    "num"
   ]
  },
  {
   "cell_type": "code",
   "execution_count": 58,
   "metadata": {
    "ExecuteTime": {
     "end_time": "2020-11-14T18:31:59.358612Z",
     "start_time": "2020-11-14T18:31:59.250421Z"
    }
   },
   "outputs": [
    {
     "data": {
      "text/html": [
       "<div>\n",
       "<style scoped>\n",
       "    .dataframe tbody tr th:only-of-type {\n",
       "        vertical-align: middle;\n",
       "    }\n",
       "\n",
       "    .dataframe tbody tr th {\n",
       "        vertical-align: top;\n",
       "    }\n",
       "\n",
       "    .dataframe thead th {\n",
       "        text-align: right;\n",
       "    }\n",
       "</style>\n",
       "<table border=\"1\" class=\"dataframe\">\n",
       "  <thead>\n",
       "    <tr style=\"text-align: right;\">\n",
       "      <th></th>\n",
       "      <th>index</th>\n",
       "      <th>Temperatura del agua al bañarte</th>\n",
       "    </tr>\n",
       "  </thead>\n",
       "  <tbody>\n",
       "    <tr>\n",
       "      <th>0</th>\n",
       "      <td>Caliente</td>\n",
       "      <td>0.52</td>\n",
       "    </tr>\n",
       "    <tr>\n",
       "      <th>1</th>\n",
       "      <td>Ambas</td>\n",
       "      <td>0.39</td>\n",
       "    </tr>\n",
       "    <tr>\n",
       "      <th>2</th>\n",
       "      <td>Fría</td>\n",
       "      <td>0.09</td>\n",
       "    </tr>\n",
       "  </tbody>\n",
       "</table>\n",
       "</div>"
      ],
      "text/plain": [
       "      index  Temperatura del agua al bañarte\n",
       "0  Caliente                             0.52\n",
       "1     Ambas                             0.39\n",
       "2      Fría                             0.09"
      ]
     },
     "metadata": {},
     "output_type": "display_data"
    },
    {
     "data": {
      "text/html": [
       "<div>\n",
       "<style scoped>\n",
       "    .dataframe tbody tr th:only-of-type {\n",
       "        vertical-align: middle;\n",
       "    }\n",
       "\n",
       "    .dataframe tbody tr th {\n",
       "        vertical-align: top;\n",
       "    }\n",
       "\n",
       "    .dataframe thead th {\n",
       "        text-align: right;\n",
       "    }\n",
       "</style>\n",
       "<table border=\"1\" class=\"dataframe\">\n",
       "  <thead>\n",
       "    <tr style=\"text-align: right;\">\n",
       "      <th></th>\n",
       "      <th>index</th>\n",
       "      <th>¿Te gusta bailar?</th>\n",
       "    </tr>\n",
       "  </thead>\n",
       "  <tbody>\n",
       "    <tr>\n",
       "      <th>0</th>\n",
       "      <td>Si</td>\n",
       "      <td>0.83</td>\n",
       "    </tr>\n",
       "    <tr>\n",
       "      <th>1</th>\n",
       "      <td>No</td>\n",
       "      <td>0.17</td>\n",
       "    </tr>\n",
       "  </tbody>\n",
       "</table>\n",
       "</div>"
      ],
      "text/plain": [
       "  index  ¿Te gusta bailar?\n",
       "0    Si               0.83\n",
       "1    No               0.17"
      ]
     },
     "metadata": {},
     "output_type": "display_data"
    },
    {
     "data": {
      "text/html": [
       "<div>\n",
       "<style scoped>\n",
       "    .dataframe tbody tr th:only-of-type {\n",
       "        vertical-align: middle;\n",
       "    }\n",
       "\n",
       "    .dataframe tbody tr th {\n",
       "        vertical-align: top;\n",
       "    }\n",
       "\n",
       "    .dataframe thead th {\n",
       "        text-align: right;\n",
       "    }\n",
       "</style>\n",
       "<table border=\"1\" class=\"dataframe\">\n",
       "  <thead>\n",
       "    <tr style=\"text-align: right;\">\n",
       "      <th></th>\n",
       "      <th>index</th>\n",
       "      <th>Género de película</th>\n",
       "    </tr>\n",
       "  </thead>\n",
       "  <tbody>\n",
       "    <tr>\n",
       "      <th>0</th>\n",
       "      <td>Terror</td>\n",
       "      <td>0.28</td>\n",
       "    </tr>\n",
       "    <tr>\n",
       "      <th>1</th>\n",
       "      <td>Comedia</td>\n",
       "      <td>0.28</td>\n",
       "    </tr>\n",
       "    <tr>\n",
       "      <th>2</th>\n",
       "      <td>Accion</td>\n",
       "      <td>0.26</td>\n",
       "    </tr>\n",
       "    <tr>\n",
       "      <th>3</th>\n",
       "      <td>Drama</td>\n",
       "      <td>0.17</td>\n",
       "    </tr>\n",
       "  </tbody>\n",
       "</table>\n",
       "</div>"
      ],
      "text/plain": [
       "     index  Género de película\n",
       "0   Terror                0.28\n",
       "1  Comedia                0.28\n",
       "2   Accion                0.26\n",
       "3    Drama                0.17"
      ]
     },
     "metadata": {},
     "output_type": "display_data"
    }
   ],
   "source": [
    "for col in cat:\n",
    "    display(df[col].value_counts(1).reset_index())"
   ]
  },
  {
   "cell_type": "code",
   "execution_count": 59,
   "metadata": {
    "ExecuteTime": {
     "end_time": "2020-11-14T18:31:59.515893Z",
     "start_time": "2020-11-14T18:31:59.364213Z"
    }
   },
   "outputs": [
    {
     "data": {
      "text/plain": [
       "(5.0, 10.0]    0.33\n",
       "(1.999, 5.0]   0.24\n",
       "(24.0, 40.0]   0.20\n",
       "(15.0, 24.0]   0.15\n",
       "(10.0, 15.0]   0.09\n",
       "Name: Pares de zapatos_cut, dtype: float64"
      ]
     },
     "execution_count": 59,
     "metadata": {},
     "output_type": "execute_result"
    }
   ],
   "source": [
    "for col in num:\n",
    "    df[f'{col}_cut'] = pd.qcut(df[col], q = 5, duplicates = 'drop')\n",
    "\n",
    "cut = [x for x in df.columns if x.endswith('_cut')]\n",
    "df['Pares de zapatos_cut'].value_counts(1)"
   ]
  },
  {
   "cell_type": "code",
   "execution_count": 60,
   "metadata": {
    "ExecuteTime": {
     "end_time": "2020-11-14T18:31:59.559764Z",
     "start_time": "2020-11-14T18:31:59.520149Z"
    }
   },
   "outputs": [
    {
     "data": {
      "text/plain": [
       "(24.0, 40.0]   nan\n",
       "(15.0, 24.0]   nan\n",
       "(10.0, 15.0]   nan\n",
       "(5.0, 10.0]    nan\n",
       "(1.999, 5.0]   nan\n",
       "Name: Pares de zapatos_cut, dtype: float64"
      ]
     },
     "execution_count": 60,
     "metadata": {},
     "output_type": "execute_result"
    }
   ],
   "source": [
    "df[df['Género'] == 1]['Pares de zapatos_cut'].value_counts(1)"
   ]
  },
  {
   "cell_type": "code",
   "execution_count": 61,
   "metadata": {
    "ExecuteTime": {
     "end_time": "2020-11-14T18:31:59.613561Z",
     "start_time": "2020-11-14T18:31:59.565134Z"
    }
   },
   "outputs": [
    {
     "data": {
      "text/plain": [
       "(24.0, 40.0]   nan\n",
       "(15.0, 24.0]   nan\n",
       "(10.0, 15.0]   nan\n",
       "(5.0, 10.0]    nan\n",
       "(1.999, 5.0]   nan\n",
       "Name: Pares de zapatos_cut, dtype: float64"
      ]
     },
     "execution_count": 61,
     "metadata": {},
     "output_type": "execute_result"
    }
   ],
   "source": [
    "df[df['Género'] == 0]['Pares de zapatos_cut'].value_counts(1)"
   ]
  },
  {
   "cell_type": "code",
   "execution_count": 62,
   "metadata": {
    "ExecuteTime": {
     "end_time": "2020-11-14T18:31:59.624996Z",
     "start_time": "2020-11-14T18:31:59.616176Z"
    }
   },
   "outputs": [],
   "source": [
    "aux = []\n",
    "for x in df['Género']:\n",
    "    if x == 'Hombre':\n",
    "        aux.append(1)\n",
    "    else:\n",
    "        aux.append(0)\n",
    "        \n",
    "df['Género'] = aux"
   ]
  },
  {
   "cell_type": "code",
   "execution_count": 63,
   "metadata": {
    "ExecuteTime": {
     "end_time": "2020-11-14T18:31:59.637952Z",
     "start_time": "2020-11-14T18:31:59.634156Z"
    }
   },
   "outputs": [],
   "source": [
    "import pydotplus\n",
    "import numpy as np\n",
    "import pandas as pd\n",
    "from sklearn.tree import _tree\n",
    "from IPython.display import Image \n",
    "from sklearn.pipeline import Pipeline\n",
    "from sklearn.preprocessing import OneHotEncoder\n",
    "from sklearn.tree import DecisionTreeClassifier, export_graphviz\n",
    "from sklearn.model_selection import RandomizedSearchCV, GridSearchCV\n",
    "from sklearn.model_selection import cross_val_score, train_test_split"
   ]
  },
  {
   "cell_type": "code",
   "execution_count": 64,
   "metadata": {
    "ExecuteTime": {
     "end_time": "2020-11-14T18:31:59.660492Z",
     "start_time": "2020-11-14T18:31:59.654116Z"
    }
   },
   "outputs": [],
   "source": [
    "from six import StringIO"
   ]
  },
  {
   "cell_type": "code",
   "execution_count": 65,
   "metadata": {
    "ExecuteTime": {
     "end_time": "2020-11-14T18:31:59.694166Z",
     "start_time": "2020-11-14T18:31:59.679159Z"
    }
   },
   "outputs": [],
   "source": [
    "def tree_to_code(tree, feature_names):\n",
    "    tree_ = tree.tree_\n",
    "    feature_name = [\n",
    "        feature_names[i] if i != _tree.TREE_UNDEFINED else \"undefined!\"\n",
    "        for i in tree_.feature\n",
    "    ]\n",
    "    features = ','.join(feature_names)\n",
    "    print(f\"def tree({features}):\")\n",
    "\n",
    "    def recurse(node, depth):\n",
    "        indent = \"  \" * depth\n",
    "        if tree_.feature[node] != _tree.TREE_UNDEFINED:\n",
    "            name = feature_name[node]\n",
    "            threshold = tree_.threshold[node]\n",
    "            print(f\"{indent}if {name} <= {threshold}:\")\n",
    "            recurse(tree_.children_left[node], depth + 1)\n",
    "            print(f\"{indent}else:  # if {name} > {threshold}\")\n",
    "            recurse(tree_.children_right[node], depth + 1)\n",
    "        else:\n",
    "            print(f\"{indent}return {tree_.value[node]}\".format(indent, tree_.value[node]))\n",
    "\n",
    "    recurse(0, 1)"
   ]
  },
  {
   "cell_type": "code",
   "execution_count": 66,
   "metadata": {
    "ExecuteTime": {
     "end_time": "2020-11-14T18:31:59.717481Z",
     "start_time": "2020-11-14T18:31:59.702336Z"
    }
   },
   "outputs": [],
   "source": [
    "def classification_metrics(X, y, estimator):\n",
    "    ls_scores_roc = cross_val_score(estimator=estimator, X=X, y=y, scoring=\"roc_auc\", n_jobs=-1, cv=4)\n",
    "    print(f\"ROC media: {np.mean(ls_scores_roc):,.2f}, desviación estándar: {np.std(ls_scores_roc)}\")"
   ]
  },
  {
   "cell_type": "code",
   "execution_count": 67,
   "metadata": {
    "ExecuteTime": {
     "end_time": "2020-11-14T18:31:59.761065Z",
     "start_time": "2020-11-14T18:31:59.721432Z"
    }
   },
   "outputs": [
    {
     "data": {
      "text/plain": [
       "1   0.57\n",
       "0   0.43\n",
       "Name: Género, dtype: float64"
      ]
     },
     "execution_count": 67,
     "metadata": {},
     "output_type": "execute_result"
    }
   ],
   "source": [
    "X = df[cat + cut]\n",
    "y = df['Género']\n",
    "y.value_counts(1)"
   ]
  },
  {
   "cell_type": "code",
   "execution_count": 68,
   "metadata": {
    "ExecuteTime": {
     "end_time": "2020-11-14T18:31:59.821541Z",
     "start_time": "2020-11-14T18:31:59.764681Z"
    },
    "scrolled": true
   },
   "outputs": [
    {
     "data": {
      "text/html": [
       "<div>\n",
       "<style scoped>\n",
       "    .dataframe tbody tr th:only-of-type {\n",
       "        vertical-align: middle;\n",
       "    }\n",
       "\n",
       "    .dataframe tbody tr th {\n",
       "        vertical-align: top;\n",
       "    }\n",
       "\n",
       "    .dataframe thead th {\n",
       "        text-align: right;\n",
       "    }\n",
       "</style>\n",
       "<table border=\"1\" class=\"dataframe\">\n",
       "  <thead>\n",
       "    <tr style=\"text-align: right;\">\n",
       "      <th></th>\n",
       "      <th>Temperatura del agua al bañarte</th>\n",
       "      <th>¿Te gusta bailar?</th>\n",
       "      <th>Género de película</th>\n",
       "      <th>Pares de zapatos_cut</th>\n",
       "      <th>Número de selfies en promedio a la semana_cut</th>\n",
       "      <th>Tiempo en bañarse minutos_cut</th>\n",
       "      <th>Número de amigos en Facebook_cut</th>\n",
       "      <th>Horas de sueño diarias_cut</th>\n",
       "      <th>Porcentaje de batería (0-100)_cut</th>\n",
       "      <th>¿Cuántas chelas te tomas por salida? (de cuartito)_cut</th>\n",
       "      <th>Número de piercings_cut</th>\n",
       "    </tr>\n",
       "  </thead>\n",
       "  <tbody>\n",
       "    <tr>\n",
       "      <th>20</th>\n",
       "      <td>Caliente</td>\n",
       "      <td>Si</td>\n",
       "      <td>Terror</td>\n",
       "      <td>(15.0, 24.0]</td>\n",
       "      <td>(5.0, 100.0]</td>\n",
       "      <td>(4.999, 10.0]</td>\n",
       "      <td>(750.0, 2600.0]</td>\n",
       "      <td>(6.0, 7.0]</td>\n",
       "      <td>(87.0, 100.0]</td>\n",
       "      <td>(8.0, 15.0]</td>\n",
       "      <td>(-0.001, 4.0]</td>\n",
       "    </tr>\n",
       "  </tbody>\n",
       "</table>\n",
       "</div>"
      ],
      "text/plain": [
       "   Temperatura del agua al bañarte ¿Te gusta bailar? Género de película  \\\n",
       "20                        Caliente                Si             Terror   \n",
       "\n",
       "   Pares de zapatos_cut Número de selfies en promedio a la semana_cut  \\\n",
       "20         (15.0, 24.0]                                  (5.0, 100.0]   \n",
       "\n",
       "   Tiempo en bañarse minutos_cut Número de amigos en Facebook_cut  \\\n",
       "20                 (4.999, 10.0]                  (750.0, 2600.0]   \n",
       "\n",
       "   Horas de sueño diarias_cut Porcentaje de batería (0-100)_cut  \\\n",
       "20                 (6.0, 7.0]                     (87.0, 100.0]   \n",
       "\n",
       "   ¿Cuántas chelas te tomas por salida? (de cuartito)_cut  \\\n",
       "20                                        (8.0, 15.0]       \n",
       "\n",
       "   Número de piercings_cut  \n",
       "20           (-0.001, 4.0]  "
      ]
     },
     "execution_count": 68,
     "metadata": {},
     "output_type": "execute_result"
    }
   ],
   "source": [
    "X.sample()"
   ]
  },
  {
   "cell_type": "code",
   "execution_count": 69,
   "metadata": {
    "ExecuteTime": {
     "end_time": "2020-11-14T18:31:59.856702Z",
     "start_time": "2020-11-14T18:31:59.828764Z"
    }
   },
   "outputs": [],
   "source": [
    "X_train, X_test, y_train, y_test = train_test_split(X, y, train_size=0.9)"
   ]
  },
  {
   "cell_type": "code",
   "execution_count": 70,
   "metadata": {
    "ExecuteTime": {
     "end_time": "2020-11-14T18:31:59.900869Z",
     "start_time": "2020-11-14T18:31:59.870421Z"
    }
   },
   "outputs": [
    {
     "data": {
      "text/plain": [
       "((41, 11), (5, 11))"
      ]
     },
     "execution_count": 70,
     "metadata": {},
     "output_type": "execute_result"
    }
   ],
   "source": [
    "X_train.shape, X_test.shape"
   ]
  },
  {
   "cell_type": "code",
   "execution_count": 71,
   "metadata": {
    "ExecuteTime": {
     "end_time": "2020-11-14T18:31:59.948615Z",
     "start_time": "2020-11-14T18:31:59.922058Z"
    }
   },
   "outputs": [
    {
     "data": {
      "text/plain": [
       "((41,), (5,))"
      ]
     },
     "execution_count": 71,
     "metadata": {},
     "output_type": "execute_result"
    }
   ],
   "source": [
    "y_train.shape, y_test.shape"
   ]
  },
  {
   "cell_type": "markdown",
   "metadata": {},
   "source": [
    "## Modelado"
   ]
  },
  {
   "cell_type": "code",
   "execution_count": 72,
   "metadata": {
    "ExecuteTime": {
     "end_time": "2020-11-14T18:32:00.067138Z",
     "start_time": "2020-11-14T18:31:59.956957Z"
    }
   },
   "outputs": [
    {
     "data": {
      "text/plain": [
       "array([[1., 0., 0., ..., 0., 0., 1.],\n",
       "       [1., 0., 0., ..., 0., 0., 1.],\n",
       "       [0., 1., 0., ..., 0., 1., 1.],\n",
       "       ...,\n",
       "       [1., 0., 0., ..., 0., 0., 1.],\n",
       "       [1., 0., 0., ..., 0., 0., 1.],\n",
       "       [0., 1., 0., ..., 0., 0., 1.]])"
      ]
     },
     "execution_count": 72,
     "metadata": {},
     "output_type": "execute_result"
    }
   ],
   "source": [
    "ohe = OneHotEncoder(sparse=False)\n",
    "ohe.fit_transform(df[cat + cut])"
   ]
  },
  {
   "cell_type": "code",
   "execution_count": 73,
   "metadata": {
    "ExecuteTime": {
     "end_time": "2020-11-14T18:32:00.240707Z",
     "start_time": "2020-11-14T18:32:00.074056Z"
    }
   },
   "outputs": [
    {
     "data": {
      "text/plain": [
       "1.0"
      ]
     },
     "metadata": {},
     "output_type": "display_data"
    },
    {
     "data": {
      "text/plain": [
       "0.2"
      ]
     },
     "execution_count": 73,
     "metadata": {},
     "output_type": "execute_result"
    }
   ],
   "source": [
    "tree = DecisionTreeClassifier()\n",
    "pipe = Pipeline([(\"encoder\", ohe), (\"tree\", tree)])\n",
    "pipe.fit(X_train, y_train)\n",
    "display(pipe.score(X_train, y_train))\n",
    "pipe.score(X_test, y_test)"
   ]
  },
  {
   "cell_type": "code",
   "execution_count": 74,
   "metadata": {
    "ExecuteTime": {
     "end_time": "2020-11-14T18:32:00.871920Z",
     "start_time": "2020-11-14T18:32:00.243998Z"
    }
   },
   "outputs": [
    {
     "data": {
      "image/png": "[encoded data removed]",
      "text/plain": [
       "<IPython.core.display.Image object>"
      ]
     },
     "execution_count": 74,
     "metadata": {},
     "output_type": "execute_result"
    }
   ],
   "source": [
    "from six import StringIO\n",
    "dot_data = StringIO()\n",
    "export_graphviz(pipe[\"tree\"], out_file=dot_data, feature_names=ohe.get_feature_names(),\n",
    "                filled=True, rounded=True,\n",
    "                special_characters=True)\n",
    "graph = pydotplus.graph_from_dot_data(dot_data.getvalue())  \n",
    "Image(graph.create_png())"
   ]
  },
  {
   "cell_type": "code",
   "execution_count": 75,
   "metadata": {
    "ExecuteTime": {
     "end_time": "2020-11-14T18:32:00.952371Z",
     "start_time": "2020-11-14T18:32:00.875410Z"
    }
   },
   "outputs": [
    {
     "data": {
      "text/html": [
       "<div>\n",
       "<style scoped>\n",
       "    .dataframe tbody tr th:only-of-type {\n",
       "        vertical-align: middle;\n",
       "    }\n",
       "\n",
       "    .dataframe tbody tr th {\n",
       "        vertical-align: top;\n",
       "    }\n",
       "\n",
       "    .dataframe thead th {\n",
       "        text-align: right;\n",
       "    }\n",
       "</style>\n",
       "<table border=\"1\" class=\"dataframe\">\n",
       "  <thead>\n",
       "    <tr style=\"text-align: right;\">\n",
       "      <th></th>\n",
       "      <th>Temperatura del agua al bañarte</th>\n",
       "      <th>¿Te gusta bailar?</th>\n",
       "      <th>Género de película</th>\n",
       "      <th>Pares de zapatos_cut</th>\n",
       "      <th>Número de selfies en promedio a la semana_cut</th>\n",
       "      <th>Tiempo en bañarse minutos_cut</th>\n",
       "      <th>Número de amigos en Facebook_cut</th>\n",
       "      <th>Horas de sueño diarias_cut</th>\n",
       "      <th>Porcentaje de batería (0-100)_cut</th>\n",
       "      <th>¿Cuántas chelas te tomas por salida? (de cuartito)_cut</th>\n",
       "      <th>Número de piercings_cut</th>\n",
       "    </tr>\n",
       "  </thead>\n",
       "  <tbody>\n",
       "    <tr>\n",
       "      <th>17</th>\n",
       "      <td>Ambas</td>\n",
       "      <td>Si</td>\n",
       "      <td>Drama</td>\n",
       "      <td>(24.0, 40.0]</td>\n",
       "      <td>(-1e-15, 1.0]</td>\n",
       "      <td>(15.0, 20.0]</td>\n",
       "      <td>(59.999, 236.0]</td>\n",
       "      <td>(4.999, 6.0]</td>\n",
       "      <td>(48.0, 72.0]</td>\n",
       "      <td>(6.0, 8.0]</td>\n",
       "      <td>(-0.001, 4.0]</td>\n",
       "    </tr>\n",
       "  </tbody>\n",
       "</table>\n",
       "</div>"
      ],
      "text/plain": [
       "   Temperatura del agua al bañarte ¿Te gusta bailar? Género de película  \\\n",
       "17                           Ambas                Si              Drama   \n",
       "\n",
       "   Pares de zapatos_cut Número de selfies en promedio a la semana_cut  \\\n",
       "17         (24.0, 40.0]                                 (-1e-15, 1.0]   \n",
       "\n",
       "   Tiempo en bañarse minutos_cut Número de amigos en Facebook_cut  \\\n",
       "17                  (15.0, 20.0]                  (59.999, 236.0]   \n",
       "\n",
       "   Horas de sueño diarias_cut Porcentaje de batería (0-100)_cut  \\\n",
       "17               (4.999, 6.0]                      (48.0, 72.0]   \n",
       "\n",
       "   ¿Cuántas chelas te tomas por salida? (de cuartito)_cut  \\\n",
       "17                                         (6.0, 8.0]       \n",
       "\n",
       "   Número de piercings_cut  \n",
       "17           (-0.001, 4.0]  "
      ]
     },
     "execution_count": 75,
     "metadata": {},
     "output_type": "execute_result"
    }
   ],
   "source": [
    "X_train.sample()"
   ]
  },
  {
   "cell_type": "code",
   "execution_count": 76,
   "metadata": {
    "ExecuteTime": {
     "end_time": "2020-11-14T18:32:01.017015Z",
     "start_time": "2020-11-14T18:32:00.955735Z"
    }
   },
   "outputs": [
    {
     "name": "stdout",
     "output_type": "stream",
     "text": [
      "<class 'pandas.core.frame.DataFrame'>\n",
      "Int64Index: 41 entries, 4 to 32\n",
      "Data columns (total 11 columns):\n",
      " #   Column                                                  Non-Null Count  Dtype   \n",
      "---  ------                                                  --------------  -----   \n",
      " 0   Temperatura del agua al bañarte                         41 non-null     object  \n",
      " 1   ¿Te gusta bailar?                                       41 non-null     object  \n",
      " 2   Género de película                                      41 non-null     object  \n",
      " 3   Pares de zapatos_cut                                    41 non-null     category\n",
      " 4   Número de selfies en promedio a la semana_cut           41 non-null     category\n",
      " 5   Tiempo en bañarse minutos_cut                           41 non-null     category\n",
      " 6   Número de amigos en Facebook_cut                        41 non-null     category\n",
      " 7   Horas de sueño diarias_cut                              41 non-null     category\n",
      " 8   Porcentaje de batería (0-100)_cut                       41 non-null     category\n",
      " 9   ¿Cuántas chelas te tomas por salida? (de cuartito)_cut  41 non-null     category\n",
      " 10  Número de piercings_cut                                 41 non-null     category\n",
      "dtypes: category(8), object(3)\n",
      "memory usage: 3.3+ KB\n"
     ]
    }
   ],
   "source": [
    "X_train.info()"
   ]
  },
  {
   "cell_type": "code",
   "execution_count": 77,
   "metadata": {
    "ExecuteTime": {
     "end_time": "2020-11-14T18:32:01.054533Z",
     "start_time": "2020-11-14T18:32:01.023799Z"
    }
   },
   "outputs": [
    {
     "name": "stdout",
     "output_type": "stream",
     "text": [
      "def tree(x0_Ambas,x0_Caliente,x0_Fría,x1_No,x1_Si,x2_Accion,x2_Comedia,x2_Drama,x2_Terror,x3_(1.999, 5.0],x3_(5.0, 10.0],x3_(10.0, 15.0],x3_(15.0, 24.0],x3_(24.0, 40.0],x4_(-1e-15, 1.0],x4_(1.000000000000004, 5.0],x4_(5.0, 100.0],x5_(4.999, 10.0],x5_(10.0, 15.0],x5_(15.0, 20.0],x5_(20.0, 30.0],x6_(59.999, 236.0],x6_(236.0, 363.0],x6_(363.0, 525.0],x6_(525.0, 750.0],x6_(750.0, 2600.0],x7_(4.999, 6.0],x7_(6.0, 7.0],x7_(7.0, 8.0],x7_(8.0, 9.0],x8_(-0.001, 23.0],x8_(23.0, 48.0],x8_(48.0, 72.0],x8_(72.0, 87.0],x8_(87.0, 100.0],x9_(-0.001, 3.0],x9_(3.0, 6.0],x9_(6.0, 8.0],x9_(8.0, 15.0],x10_(-0.001, 4.0]):\n",
      "  if x2_Accion <= 0.5:\n",
      "    if x3_(1.999, 5.0] <= 0.5:\n",
      "      if x8_(48.0, 72.0] <= 0.5:\n",
      "        if x2_Comedia <= 0.5:\n",
      "          return [[10.  0.]]\n",
      "        else:  # if x2_Comedia > 0.5\n",
      "          if x6_(363.0, 525.0] <= 0.5:\n",
      "            if x9_(6.0, 8.0] <= 0.5:\n",
      "              return [[6. 0.]]\n",
      "            else:  # if x9_(6.0, 8.0] > 0.5\n",
      "              return [[0. 1.]]\n",
      "          else:  # if x6_(363.0, 525.0] > 0.5\n",
      "            return [[0. 1.]]\n",
      "      else:  # if x8_(48.0, 72.0] > 0.5\n",
      "        if x5_(10.0, 15.0] <= 0.5:\n",
      "          return [[0. 3.]]\n",
      "        else:  # if x5_(10.0, 15.0] > 0.5\n",
      "          return [[2. 0.]]\n",
      "    else:  # if x3_(1.999, 5.0] > 0.5\n",
      "      return [[0. 7.]]\n",
      "  else:  # if x2_Accion > 0.5\n",
      "    return [[ 0. 11.]]\n",
      "None\n"
     ]
    }
   ],
   "source": [
    "print(tree_to_code(feature_names=ohe.get_feature_names(), tree=tree))"
   ]
  },
  {
   "cell_type": "code",
   "execution_count": 78,
   "metadata": {
    "ExecuteTime": {
     "end_time": "2020-11-14T18:32:01.116827Z",
     "start_time": "2020-11-14T18:32:01.071969Z"
    }
   },
   "outputs": [
    {
     "data": {
      "text/plain": [
       "0.2"
      ]
     },
     "execution_count": 78,
     "metadata": {},
     "output_type": "execute_result"
    }
   ],
   "source": [
    "pipe.score(X_test, y_test)"
   ]
  },
  {
   "cell_type": "code",
   "execution_count": 79,
   "metadata": {
    "ExecuteTime": {
     "end_time": "2020-11-14T18:32:01.172764Z",
     "start_time": "2020-11-14T18:32:01.121106Z"
    }
   },
   "outputs": [
    {
     "name": "stderr",
     "output_type": "stream",
     "text": [
      "<ipython-input-79-1212e6d56061>:1: SettingWithCopyWarning: \n",
      "A value is trying to be set on a copy of a slice from a DataFrame.\n",
      "Try using .loc[row_indexer,col_indexer] = value instead\n",
      "\n",
      "See the caveats in the documentation: https://pandas.pydata.org/pandas-docs/stable/user_guide/indexing.html#returning-a-view-versus-a-copy\n",
      "  X[\"proba\"] = pipe.predict_proba(X)[:, 0]\n"
     ]
    }
   ],
   "source": [
    "X[\"proba\"] = pipe.predict_proba(X)[:, 0]\n",
    "aux = pd.DataFrame(zip(ohe.get_feature_names(X_train.columns), \n",
    "                       tree.feature_importances_)).sort_values(by=1, ascending = False)"
   ]
  },
  {
   "cell_type": "code",
   "execution_count": 80,
   "metadata": {
    "ExecuteTime": {
     "end_time": "2020-11-14T18:32:01.210047Z",
     "start_time": "2020-11-14T18:32:01.184995Z"
    }
   },
   "outputs": [
    {
     "data": {
      "text/html": [
       "<div>\n",
       "<style scoped>\n",
       "    .dataframe tbody tr th:only-of-type {\n",
       "        vertical-align: middle;\n",
       "    }\n",
       "\n",
       "    .dataframe tbody tr th {\n",
       "        vertical-align: top;\n",
       "    }\n",
       "\n",
       "    .dataframe thead th {\n",
       "        text-align: right;\n",
       "    }\n",
       "</style>\n",
       "<table border=\"1\" class=\"dataframe\">\n",
       "  <thead>\n",
       "    <tr style=\"text-align: right;\">\n",
       "      <th></th>\n",
       "      <th>0</th>\n",
       "      <th>1</th>\n",
       "    </tr>\n",
       "  </thead>\n",
       "  <tbody>\n",
       "    <tr>\n",
       "      <th>0</th>\n",
       "      <td>Pares de zapatos_cut_(1.999, 5.0]</td>\n",
       "      <td>0.33</td>\n",
       "    </tr>\n",
       "    <tr>\n",
       "      <th>1</th>\n",
       "      <td>Género de película_Accion</td>\n",
       "      <td>0.29</td>\n",
       "    </tr>\n",
       "    <tr>\n",
       "      <th>2</th>\n",
       "      <td>Tiempo en bañarse minutos_cut_(10.0, 15.0]</td>\n",
       "      <td>0.12</td>\n",
       "    </tr>\n",
       "    <tr>\n",
       "      <th>3</th>\n",
       "      <td>Porcentaje de batería (0-100)_cut_(48.0, 72.0]</td>\n",
       "      <td>0.09</td>\n",
       "    </tr>\n",
       "    <tr>\n",
       "      <th>4</th>\n",
       "      <td>¿Cuántas chelas te tomas por salida? (de cuart...</td>\n",
       "      <td>0.08</td>\n",
       "    </tr>\n",
       "    <tr>\n",
       "      <th>5</th>\n",
       "      <td>Número de amigos en Facebook_cut_(363.0, 525.0]</td>\n",
       "      <td>0.06</td>\n",
       "    </tr>\n",
       "    <tr>\n",
       "      <th>6</th>\n",
       "      <td>Género de película_Comedia</td>\n",
       "      <td>0.03</td>\n",
       "    </tr>\n",
       "    <tr>\n",
       "      <th>7</th>\n",
       "      <td>¿Cuántas chelas te tomas por salida? (de cuart...</td>\n",
       "      <td>0.00</td>\n",
       "    </tr>\n",
       "    <tr>\n",
       "      <th>8</th>\n",
       "      <td>Porcentaje de batería (0-100)_cut_(87.0, 100.0]</td>\n",
       "      <td>0.00</td>\n",
       "    </tr>\n",
       "    <tr>\n",
       "      <th>9</th>\n",
       "      <td>¿Cuántas chelas te tomas por salida? (de cuart...</td>\n",
       "      <td>0.00</td>\n",
       "    </tr>\n",
       "    <tr>\n",
       "      <th>10</th>\n",
       "      <td>Porcentaje de batería (0-100)_cut_(72.0, 87.0]</td>\n",
       "      <td>0.00</td>\n",
       "    </tr>\n",
       "    <tr>\n",
       "      <th>11</th>\n",
       "      <td>Número de amigos en Facebook_cut_(236.0, 363.0]</td>\n",
       "      <td>0.00</td>\n",
       "    </tr>\n",
       "  </tbody>\n",
       "</table>\n",
       "</div>"
      ],
      "text/plain": [
       "                                                    0    1\n",
       "0                   Pares de zapatos_cut_(1.999, 5.0] 0.33\n",
       "1                           Género de película_Accion 0.29\n",
       "2          Tiempo en bañarse minutos_cut_(10.0, 15.0] 0.12\n",
       "3      Porcentaje de batería (0-100)_cut_(48.0, 72.0] 0.09\n",
       "4   ¿Cuántas chelas te tomas por salida? (de cuart... 0.08\n",
       "5     Número de amigos en Facebook_cut_(363.0, 525.0] 0.06\n",
       "6                          Género de película_Comedia 0.03\n",
       "7   ¿Cuántas chelas te tomas por salida? (de cuart... 0.00\n",
       "8     Porcentaje de batería (0-100)_cut_(87.0, 100.0] 0.00\n",
       "9   ¿Cuántas chelas te tomas por salida? (de cuart... 0.00\n",
       "10     Porcentaje de batería (0-100)_cut_(72.0, 87.0] 0.00\n",
       "11    Número de amigos en Facebook_cut_(236.0, 363.0] 0.00"
      ]
     },
     "execution_count": 80,
     "metadata": {},
     "output_type": "execute_result"
    }
   ],
   "source": [
    "aux.reset_index(drop = True, inplace = True)\n",
    "aux.iloc[:12,:]"
   ]
  },
  {
   "cell_type": "code",
   "execution_count": 82,
   "metadata": {
    "ExecuteTime": {
     "end_time": "2020-11-14T18:32:01.307926Z",
     "start_time": "2020-11-14T18:32:01.237185Z"
    }
   },
   "outputs": [
    {
     "data": {
      "text/html": [
       "<div>\n",
       "<style scoped>\n",
       "    .dataframe tbody tr th:only-of-type {\n",
       "        vertical-align: middle;\n",
       "    }\n",
       "\n",
       "    .dataframe tbody tr th {\n",
       "        vertical-align: top;\n",
       "    }\n",
       "\n",
       "    .dataframe thead th {\n",
       "        text-align: right;\n",
       "    }\n",
       "</style>\n",
       "<table border=\"1\" class=\"dataframe\">\n",
       "  <thead>\n",
       "    <tr style=\"text-align: right;\">\n",
       "      <th></th>\n",
       "      <th>Pares de zapatos</th>\n",
       "      <th>Número de selfies en promedio a la semana</th>\n",
       "      <th>Temperatura del agua al bañarte</th>\n",
       "      <th>¿Te gusta bailar?</th>\n",
       "      <th>Tiempo en bañarse minutos</th>\n",
       "      <th>Número de amigos en Facebook</th>\n",
       "      <th>Horas de sueño diarias</th>\n",
       "      <th>Porcentaje de batería (0-100)</th>\n",
       "      <th>Género de película</th>\n",
       "      <th>¿Cuántas chelas te tomas por salida? (de cuartito)</th>\n",
       "      <th>Número de piercings</th>\n",
       "    </tr>\n",
       "  </thead>\n",
       "  <tbody>\n",
       "    <tr>\n",
       "      <th>0</th>\n",
       "      <td>4</td>\n",
       "      <td>0</td>\n",
       "      <td>Caliente</td>\n",
       "      <td>No</td>\n",
       "      <td>10</td>\n",
       "      <td>450</td>\n",
       "      <td>8</td>\n",
       "      <td>49</td>\n",
       "      <td>Drama</td>\n",
       "      <td>0</td>\n",
       "      <td>0</td>\n",
       "    </tr>\n",
       "    <tr>\n",
       "      <th>1</th>\n",
       "      <td>30</td>\n",
       "      <td>25</td>\n",
       "      <td>Ambas</td>\n",
       "      <td>Si</td>\n",
       "      <td>30</td>\n",
       "      <td>1167</td>\n",
       "      <td>6</td>\n",
       "      <td>71</td>\n",
       "      <td>Drama</td>\n",
       "      <td>6</td>\n",
       "      <td>2</td>\n",
       "    </tr>\n",
       "    <tr>\n",
       "      <th>2</th>\n",
       "      <td>12</td>\n",
       "      <td>1</td>\n",
       "      <td>Caliente</td>\n",
       "      <td>Si</td>\n",
       "      <td>20</td>\n",
       "      <td>1,713</td>\n",
       "      <td>8</td>\n",
       "      <td>31</td>\n",
       "      <td>Comedia</td>\n",
       "      <td>0</td>\n",
       "      <td>0</td>\n",
       "    </tr>\n",
       "    <tr>\n",
       "      <th>3</th>\n",
       "      <td>4</td>\n",
       "      <td>1</td>\n",
       "      <td>Caliente</td>\n",
       "      <td>Si</td>\n",
       "      <td>10</td>\n",
       "      <td>1024</td>\n",
       "      <td>6</td>\n",
       "      <td>19</td>\n",
       "      <td>Terror</td>\n",
       "      <td>8</td>\n",
       "      <td>0</td>\n",
       "    </tr>\n",
       "    <tr>\n",
       "      <th>4</th>\n",
       "      <td>12</td>\n",
       "      <td>0</td>\n",
       "      <td>Caliente</td>\n",
       "      <td>Si</td>\n",
       "      <td>30</td>\n",
       "      <td>300</td>\n",
       "      <td>6</td>\n",
       "      <td>54</td>\n",
       "      <td>Accion</td>\n",
       "      <td>0</td>\n",
       "      <td>0</td>\n",
       "    </tr>\n",
       "    <tr>\n",
       "      <th>5</th>\n",
       "      <td>20</td>\n",
       "      <td>15</td>\n",
       "      <td>Caliente</td>\n",
       "      <td>Si</td>\n",
       "      <td>20</td>\n",
       "      <td>319</td>\n",
       "      <td>8</td>\n",
       "      <td>93</td>\n",
       "      <td>Comedia</td>\n",
       "      <td>6</td>\n",
       "      <td>2</td>\n",
       "    </tr>\n",
       "  </tbody>\n",
       "</table>\n",
       "</div>"
      ],
      "text/plain": [
       "   Pares de zapatos  Número de selfies en promedio a la semana  \\\n",
       "0                 4                                          0   \n",
       "1                30                                         25   \n",
       "2                12                                          1   \n",
       "3                 4                                          1   \n",
       "4                12                                          0   \n",
       "5                20                                         15   \n",
       "\n",
       "  Temperatura del agua al bañarte ¿Te gusta bailar?  \\\n",
       "0                        Caliente                No   \n",
       "1                           Ambas                Si   \n",
       "2                        Caliente                Si   \n",
       "3                        Caliente                Si   \n",
       "4                        Caliente                Si   \n",
       "5                        Caliente                Si   \n",
       "\n",
       "   Tiempo en bañarse minutos Número de amigos en Facebook  \\\n",
       "0                         10                          450   \n",
       "1                         30                         1167   \n",
       "2                         20                        1,713   \n",
       "3                         10                         1024   \n",
       "4                         30                          300   \n",
       "5                         20                          319   \n",
       "\n",
       "   Horas de sueño diarias  Porcentaje de batería (0-100) Género de película  \\\n",
       "0                       8                             49              Drama   \n",
       "1                       6                             71              Drama   \n",
       "2                       8                             31            Comedia   \n",
       "3                       6                             19             Terror   \n",
       "4                       6                             54             Accion   \n",
       "5                       8                             93            Comedia   \n",
       "\n",
       "   ¿Cuántas chelas te tomas por salida? (de cuartito)  Número de piercings  \n",
       "0                                                  0                     0  \n",
       "1                                                  6                     2  \n",
       "2                                                  0                     0  \n",
       "3                                                  8                     0  \n",
       "4                                                  0                     0  \n",
       "5                                                  6                     2  "
      ]
     },
     "execution_count": 82,
     "metadata": {},
     "output_type": "execute_result"
    }
   ],
   "source": [
    "val = pd.read_csv(liga + 'validate_hm.csv')\n",
    "val"
   ]
  },
  {
   "cell_type": "code",
   "execution_count": null,
   "metadata": {},
   "outputs": [],
   "source": [
    "1\tH\n",
    "2\tM\n",
    "3\tM\n",
    "4\tH\n",
    "5\tH\n",
    "6\tM"
   ]
  },
  {
   "cell_type": "code",
   "execution_count": 46,
   "metadata": {
    "ExecuteTime": {
     "end_time": "2020-11-14T18:28:29.422000Z",
     "start_time": "2020-11-14T18:28:29.375605Z"
    }
   },
   "outputs": [
    {
     "name": "stdout",
     "output_type": "stream",
     "text": [
      "<class 'pandas.core.frame.DataFrame'>\n",
      "RangeIndex: 6 entries, 0 to 5\n",
      "Data columns (total 11 columns):\n",
      " #   Column                                              Non-Null Count  Dtype \n",
      "---  ------                                              --------------  ----- \n",
      " 0   Pares de zapatos                                    6 non-null      int64 \n",
      " 1   Número de selfies en promedio a la semana           6 non-null      int64 \n",
      " 2   Temperatura del agua al bañarte                     6 non-null      object\n",
      " 3   ¿Te gusta bailar?                                   6 non-null      object\n",
      " 4   Tiempo en bañarse minutos                           6 non-null      int64 \n",
      " 5   Número de amigos en Facebook                        6 non-null      int64 \n",
      " 6   Horas de sueño diarias                              6 non-null      int64 \n",
      " 7   Porcentaje de batería (0-100)                       6 non-null      int64 \n",
      " 8   Género de película                                  6 non-null      object\n",
      " 9   ¿Cuántas chelas te tomas por salida? (de cuartito)  6 non-null      int64 \n",
      " 10  Número de piercings                                 6 non-null      int64 \n",
      "dtypes: int64(8), object(3)\n",
      "memory usage: 656.0+ bytes\n"
     ]
    }
   ],
   "source": [
    "val.loc[2,'Número de amigos en Facebook'] = 1713\n",
    "val['Número de amigos en Facebook'] =val['Número de amigos en Facebook'].astype(int)\n",
    "val.info()"
   ]
  }
 ],
 "metadata": {
  "kernelspec": {
   "display_name": "Python 3",
   "language": "python",
   "name": "python3"
  },
  "language_info": {
   "codemirror_mode": {
    "name": "ipython",
    "version": 3
   },
   "file_extension": ".py",
   "mimetype": "text/x-python",
   "name": "python",
   "nbconvert_exporter": "python",
   "pygments_lexer": "ipython3",
   "version": "3.8.5"
  },
  "toc": {
   "base_numbering": 1,
   "nav_menu": {},
   "number_sections": true,
   "sideBar": true,
   "skip_h1_title": true,
   "title_cell": "Table of Contents",
   "title_sidebar": "Contents",
   "toc_cell": false,
   "toc_position": {
    "height": "calc(100% - 180px)",
    "left": "10px",
    "top": "150px",
    "width": "410.66px"
   },
   "toc_section_display": true,
   "toc_window_display": true
  },
  "varInspector": {
   "cols": {
    "lenName": 16,
    "lenType": 16,
    "lenVar": 40
   },
   "kernels_config": {
    "python": {
     "delete_cmd_postfix": "",
     "delete_cmd_prefix": "del ",
     "library": "var_list.py",
     "varRefreshCmd": "print(var_dic_list())"
    },
    "r": {
     "delete_cmd_postfix": ") ",
     "delete_cmd_prefix": "rm(",
     "library": "var_list.r",
     "varRefreshCmd": "cat(var_dic_list()) "
    }
   },
   "types_to_exclude": [
    "module",
    "function",
    "builtin_function_or_method",
    "instance",
    "_Feature"
   ],
   "window_display": false
  }
 },
 "nbformat": 4,
 "nbformat_minor": 4
}
