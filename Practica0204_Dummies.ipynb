{
 "cells": [
  {
   "cell_type": "markdown",
   "metadata": {},
   "source": [
    "# Practica 4"
   ]
  },
  {
   "cell_type": "markdown",
   "metadata": {},
   "source": [
    "## Importar"
   ]
  },
  {
   "cell_type": "code",
   "execution_count": 1,
   "metadata": {
    "ExecuteTime": {
     "end_time": "2020-11-14T17:45:38.577888Z",
     "start_time": "2020-11-14T17:45:37.395075Z"
    }
   },
   "outputs": [],
   "source": [
    "# %load basic\n",
    "import pandas as pd\n",
    "import numpy as np\n",
    "import matplotlib.pyplot as plt\n",
    "pd.set_option('display.max_columns',200)\n",
    "pd.options.display.float_format = '{:.2f}'.format"
   ]
  },
  {
   "cell_type": "code",
   "execution_count": 2,
   "metadata": {
    "ExecuteTime": {
     "end_time": "2020-11-14T17:45:38.641639Z",
     "start_time": "2020-11-14T17:45:38.584204Z"
    }
   },
   "outputs": [
    {
     "name": "stdout",
     "output_type": "stream",
     "text": [
      "<class 'pandas.core.frame.DataFrame'>\n",
      "RangeIndex: 46 entries, 0 to 45\n",
      "Data columns (total 13 columns):\n",
      " #   Column                                              Non-Null Count  Dtype  \n",
      "---  ------                                              --------------  -----  \n",
      " 0   Marca temporal                                      46 non-null     object \n",
      " 1   Pares de zapatos                                    46 non-null     float64\n",
      " 2   Número de selfies en promedio a la semana           46 non-null     int64  \n",
      " 3   Temperatura del agua al bañarte                     46 non-null     object \n",
      " 4   ¿Te gusta bailar?                                   46 non-null     object \n",
      " 5   Tiempo en bañarse minutos                           46 non-null     int64  \n",
      " 6   Número de amigos en Facebook                        46 non-null     int64  \n",
      " 7   Horas de sueño diarias                              46 non-null     float64\n",
      " 8   Porcentaje de batería (0-100)                       46 non-null     int64  \n",
      " 9   Género de película                                  46 non-null     object \n",
      " 10  ¿Cuántas chelas te tomas por salida? (de cuartito)  46 non-null     int64  \n",
      " 11  Número de piercings                                 46 non-null     int64  \n",
      " 12  Género                                              46 non-null     object \n",
      "dtypes: float64(2), int64(6), object(5)\n",
      "memory usage: 4.8+ KB\n"
     ]
    }
   ],
   "source": [
    "liga = '/home/ef/Documents/Diplomado/data/'\n",
    "df = pd.read_csv(liga + 'hombre_mujer_dataset.csv')\n",
    "df.info()"
   ]
  },
  {
   "cell_type": "code",
   "execution_count": 3,
   "metadata": {
    "ExecuteTime": {
     "end_time": "2020-11-14T17:45:38.656258Z",
     "start_time": "2020-11-14T17:45:38.645515Z"
    }
   },
   "outputs": [],
   "source": [
    "df = df.iloc[:,1:]"
   ]
  },
  {
   "cell_type": "code",
   "execution_count": 4,
   "metadata": {
    "ExecuteTime": {
     "end_time": "2020-11-14T17:45:38.694565Z",
     "start_time": "2020-11-14T17:45:38.663129Z"
    }
   },
   "outputs": [
    {
     "data": {
      "text/plain": [
       "Pares de zapatos                                     0.00\n",
       "Número de selfies en promedio a la semana            0.00\n",
       "Temperatura del agua al bañarte                      0.00\n",
       "¿Te gusta bailar?                                    0.00\n",
       "Tiempo en bañarse minutos                            0.00\n",
       "Número de amigos en Facebook                         0.00\n",
       "Horas de sueño diarias                               0.00\n",
       "Porcentaje de batería (0-100)                        0.00\n",
       "Género de película                                   0.00\n",
       "¿Cuántas chelas te tomas por salida? (de cuartito)   0.00\n",
       "Número de piercings                                  0.00\n",
       "Género                                               0.00\n",
       "dtype: float64"
      ]
     },
     "execution_count": 4,
     "metadata": {},
     "output_type": "execute_result"
    }
   ],
   "source": [
    "df.isnull().sum() /len(df)"
   ]
  },
  {
   "cell_type": "code",
   "execution_count": 5,
   "metadata": {
    "ExecuteTime": {
     "end_time": "2020-11-14T17:45:38.788828Z",
     "start_time": "2020-11-14T17:45:38.699719Z"
    }
   },
   "outputs": [
    {
     "data": {
      "text/html": [
       "<div>\n",
       "<style scoped>\n",
       "    .dataframe tbody tr th:only-of-type {\n",
       "        vertical-align: middle;\n",
       "    }\n",
       "\n",
       "    .dataframe tbody tr th {\n",
       "        vertical-align: top;\n",
       "    }\n",
       "\n",
       "    .dataframe thead th {\n",
       "        text-align: right;\n",
       "    }\n",
       "</style>\n",
       "<table border=\"1\" class=\"dataframe\">\n",
       "  <thead>\n",
       "    <tr style=\"text-align: right;\">\n",
       "      <th></th>\n",
       "      <th>Pares de zapatos</th>\n",
       "      <th>Número de selfies en promedio a la semana</th>\n",
       "      <th>Tiempo en bañarse minutos</th>\n",
       "      <th>Número de amigos en Facebook</th>\n",
       "      <th>Horas de sueño diarias</th>\n",
       "      <th>Porcentaje de batería (0-100)</th>\n",
       "      <th>¿Cuántas chelas te tomas por salida? (de cuartito)</th>\n",
       "      <th>Número de piercings</th>\n",
       "    </tr>\n",
       "  </thead>\n",
       "  <tbody>\n",
       "    <tr>\n",
       "      <th>count</th>\n",
       "      <td>46.00</td>\n",
       "      <td>46.00</td>\n",
       "      <td>46.00</td>\n",
       "      <td>46.00</td>\n",
       "      <td>46.00</td>\n",
       "      <td>46.00</td>\n",
       "      <td>46.00</td>\n",
       "      <td>46.00</td>\n",
       "    </tr>\n",
       "    <tr>\n",
       "      <th>mean</th>\n",
       "      <td>14.02</td>\n",
       "      <td>4.61</td>\n",
       "      <td>15.54</td>\n",
       "      <td>556.33</td>\n",
       "      <td>6.71</td>\n",
       "      <td>56.37</td>\n",
       "      <td>4.78</td>\n",
       "      <td>0.48</td>\n",
       "    </tr>\n",
       "    <tr>\n",
       "      <th>std</th>\n",
       "      <td>10.02</td>\n",
       "      <td>15.13</td>\n",
       "      <td>6.32</td>\n",
       "      <td>457.74</td>\n",
       "      <td>1.01</td>\n",
       "      <td>30.98</td>\n",
       "      <td>3.85</td>\n",
       "      <td>1.07</td>\n",
       "    </tr>\n",
       "    <tr>\n",
       "      <th>min</th>\n",
       "      <td>2.00</td>\n",
       "      <td>0.00</td>\n",
       "      <td>5.00</td>\n",
       "      <td>60.00</td>\n",
       "      <td>5.00</td>\n",
       "      <td>0.00</td>\n",
       "      <td>0.00</td>\n",
       "      <td>0.00</td>\n",
       "    </tr>\n",
       "    <tr>\n",
       "      <th>0%</th>\n",
       "      <td>2.00</td>\n",
       "      <td>0.00</td>\n",
       "      <td>5.00</td>\n",
       "      <td>60.00</td>\n",
       "      <td>5.00</td>\n",
       "      <td>0.00</td>\n",
       "      <td>0.00</td>\n",
       "      <td>0.00</td>\n",
       "    </tr>\n",
       "    <tr>\n",
       "      <th>1%</th>\n",
       "      <td>2.00</td>\n",
       "      <td>0.00</td>\n",
       "      <td>6.35</td>\n",
       "      <td>61.35</td>\n",
       "      <td>5.00</td>\n",
       "      <td>2.70</td>\n",
       "      <td>0.00</td>\n",
       "      <td>0.00</td>\n",
       "    </tr>\n",
       "    <tr>\n",
       "      <th>10%</th>\n",
       "      <td>3.00</td>\n",
       "      <td>0.00</td>\n",
       "      <td>10.00</td>\n",
       "      <td>100.00</td>\n",
       "      <td>6.00</td>\n",
       "      <td>16.00</td>\n",
       "      <td>0.00</td>\n",
       "      <td>0.00</td>\n",
       "    </tr>\n",
       "    <tr>\n",
       "      <th>20%</th>\n",
       "      <td>5.00</td>\n",
       "      <td>0.00</td>\n",
       "      <td>10.00</td>\n",
       "      <td>236.00</td>\n",
       "      <td>6.00</td>\n",
       "      <td>23.00</td>\n",
       "      <td>0.00</td>\n",
       "      <td>0.00</td>\n",
       "    </tr>\n",
       "    <tr>\n",
       "      <th>30%</th>\n",
       "      <td>7.25</td>\n",
       "      <td>0.00</td>\n",
       "      <td>10.00</td>\n",
       "      <td>294.00</td>\n",
       "      <td>6.00</td>\n",
       "      <td>29.50</td>\n",
       "      <td>2.50</td>\n",
       "      <td>0.00</td>\n",
       "    </tr>\n",
       "    <tr>\n",
       "      <th>40%</th>\n",
       "      <td>10.00</td>\n",
       "      <td>1.00</td>\n",
       "      <td>10.00</td>\n",
       "      <td>363.00</td>\n",
       "      <td>6.00</td>\n",
       "      <td>48.00</td>\n",
       "      <td>3.00</td>\n",
       "      <td>0.00</td>\n",
       "    </tr>\n",
       "    <tr>\n",
       "      <th>50%</th>\n",
       "      <td>10.00</td>\n",
       "      <td>1.00</td>\n",
       "      <td>15.00</td>\n",
       "      <td>465.00</td>\n",
       "      <td>7.00</td>\n",
       "      <td>60.00</td>\n",
       "      <td>5.00</td>\n",
       "      <td>0.00</td>\n",
       "    </tr>\n",
       "    <tr>\n",
       "      <th>60%</th>\n",
       "      <td>15.00</td>\n",
       "      <td>1.00</td>\n",
       "      <td>15.00</td>\n",
       "      <td>525.00</td>\n",
       "      <td>7.00</td>\n",
       "      <td>72.00</td>\n",
       "      <td>6.00</td>\n",
       "      <td>0.00</td>\n",
       "    </tr>\n",
       "    <tr>\n",
       "      <th>70%</th>\n",
       "      <td>20.00</td>\n",
       "      <td>3.00</td>\n",
       "      <td>20.00</td>\n",
       "      <td>666.00</td>\n",
       "      <td>7.00</td>\n",
       "      <td>82.00</td>\n",
       "      <td>7.00</td>\n",
       "      <td>0.00</td>\n",
       "    </tr>\n",
       "    <tr>\n",
       "      <th>80%</th>\n",
       "      <td>24.00</td>\n",
       "      <td>5.00</td>\n",
       "      <td>20.00</td>\n",
       "      <td>750.00</td>\n",
       "      <td>8.00</td>\n",
       "      <td>87.00</td>\n",
       "      <td>8.00</td>\n",
       "      <td>0.00</td>\n",
       "    </tr>\n",
       "    <tr>\n",
       "      <th>90%</th>\n",
       "      <td>27.00</td>\n",
       "      <td>5.00</td>\n",
       "      <td>22.50</td>\n",
       "      <td>1095.50</td>\n",
       "      <td>8.00</td>\n",
       "      <td>93.50</td>\n",
       "      <td>10.00</td>\n",
       "      <td>2.00</td>\n",
       "    </tr>\n",
       "    <tr>\n",
       "      <th>99%</th>\n",
       "      <td>38.65</td>\n",
       "      <td>68.50</td>\n",
       "      <td>30.00</td>\n",
       "      <td>2082.50</td>\n",
       "      <td>9.00</td>\n",
       "      <td>99.55</td>\n",
       "      <td>13.65</td>\n",
       "      <td>4.00</td>\n",
       "    </tr>\n",
       "    <tr>\n",
       "      <th>max</th>\n",
       "      <td>40.00</td>\n",
       "      <td>100.00</td>\n",
       "      <td>30.00</td>\n",
       "      <td>2600.00</td>\n",
       "      <td>9.00</td>\n",
       "      <td>100.00</td>\n",
       "      <td>15.00</td>\n",
       "      <td>4.00</td>\n",
       "    </tr>\n",
       "  </tbody>\n",
       "</table>\n",
       "</div>"
      ],
      "text/plain": [
       "       Pares de zapatos  Número de selfies en promedio a la semana  \\\n",
       "count             46.00                                      46.00   \n",
       "mean              14.02                                       4.61   \n",
       "std               10.02                                      15.13   \n",
       "min                2.00                                       0.00   \n",
       "0%                 2.00                                       0.00   \n",
       "1%                 2.00                                       0.00   \n",
       "10%                3.00                                       0.00   \n",
       "20%                5.00                                       0.00   \n",
       "30%                7.25                                       0.00   \n",
       "40%               10.00                                       1.00   \n",
       "50%               10.00                                       1.00   \n",
       "60%               15.00                                       1.00   \n",
       "70%               20.00                                       3.00   \n",
       "80%               24.00                                       5.00   \n",
       "90%               27.00                                       5.00   \n",
       "99%               38.65                                      68.50   \n",
       "max               40.00                                     100.00   \n",
       "\n",
       "       Tiempo en bañarse minutos  Número de amigos en Facebook  \\\n",
       "count                      46.00                         46.00   \n",
       "mean                       15.54                        556.33   \n",
       "std                         6.32                        457.74   \n",
       "min                         5.00                         60.00   \n",
       "0%                          5.00                         60.00   \n",
       "1%                          6.35                         61.35   \n",
       "10%                        10.00                        100.00   \n",
       "20%                        10.00                        236.00   \n",
       "30%                        10.00                        294.00   \n",
       "40%                        10.00                        363.00   \n",
       "50%                        15.00                        465.00   \n",
       "60%                        15.00                        525.00   \n",
       "70%                        20.00                        666.00   \n",
       "80%                        20.00                        750.00   \n",
       "90%                        22.50                       1095.50   \n",
       "99%                        30.00                       2082.50   \n",
       "max                        30.00                       2600.00   \n",
       "\n",
       "       Horas de sueño diarias  Porcentaje de batería (0-100)  \\\n",
       "count                   46.00                          46.00   \n",
       "mean                     6.71                          56.37   \n",
       "std                      1.01                          30.98   \n",
       "min                      5.00                           0.00   \n",
       "0%                       5.00                           0.00   \n",
       "1%                       5.00                           2.70   \n",
       "10%                      6.00                          16.00   \n",
       "20%                      6.00                          23.00   \n",
       "30%                      6.00                          29.50   \n",
       "40%                      6.00                          48.00   \n",
       "50%                      7.00                          60.00   \n",
       "60%                      7.00                          72.00   \n",
       "70%                      7.00                          82.00   \n",
       "80%                      8.00                          87.00   \n",
       "90%                      8.00                          93.50   \n",
       "99%                      9.00                          99.55   \n",
       "max                      9.00                         100.00   \n",
       "\n",
       "       ¿Cuántas chelas te tomas por salida? (de cuartito)  Número de piercings  \n",
       "count                                              46.00                 46.00  \n",
       "mean                                                4.78                  0.48  \n",
       "std                                                 3.85                  1.07  \n",
       "min                                                 0.00                  0.00  \n",
       "0%                                                  0.00                  0.00  \n",
       "1%                                                  0.00                  0.00  \n",
       "10%                                                 0.00                  0.00  \n",
       "20%                                                 0.00                  0.00  \n",
       "30%                                                 2.50                  0.00  \n",
       "40%                                                 3.00                  0.00  \n",
       "50%                                                 5.00                  0.00  \n",
       "60%                                                 6.00                  0.00  \n",
       "70%                                                 7.00                  0.00  \n",
       "80%                                                 8.00                  0.00  \n",
       "90%                                                10.00                  2.00  \n",
       "99%                                                13.65                  4.00  \n",
       "max                                                15.00                  4.00  "
      ]
     },
     "execution_count": 5,
     "metadata": {},
     "output_type": "execute_result"
    }
   ],
   "source": [
    "df.describe([i/10 for i in range(10)] + [.01,.99])"
   ]
  },
  {
   "cell_type": "code",
   "execution_count": 6,
   "metadata": {
    "ExecuteTime": {
     "end_time": "2020-11-14T17:45:38.848255Z",
     "start_time": "2020-11-14T17:45:38.792232Z"
    }
   },
   "outputs": [
    {
     "data": {
      "text/plain": [
       "['Pares de zapatos',\n",
       " 'Número de selfies en promedio a la semana',\n",
       " 'Tiempo en bañarse minutos',\n",
       " 'Número de amigos en Facebook',\n",
       " 'Horas de sueño diarias',\n",
       " 'Porcentaje de batería (0-100)',\n",
       " '¿Cuántas chelas te tomas por salida? (de cuartito)',\n",
       " 'Número de piercings']"
      ]
     },
     "execution_count": 6,
     "metadata": {},
     "output_type": "execute_result"
    }
   ],
   "source": [
    "num = list(df.describe().columns)\n",
    "cat = [x for x in df.columns if x not in num + ['Género']]\n",
    "num"
   ]
  },
  {
   "cell_type": "code",
   "execution_count": 7,
   "metadata": {
    "ExecuteTime": {
     "end_time": "2020-11-14T17:45:38.918538Z",
     "start_time": "2020-11-14T17:45:38.852558Z"
    }
   },
   "outputs": [
    {
     "data": {
      "text/html": [
       "<div>\n",
       "<style scoped>\n",
       "    .dataframe tbody tr th:only-of-type {\n",
       "        vertical-align: middle;\n",
       "    }\n",
       "\n",
       "    .dataframe tbody tr th {\n",
       "        vertical-align: top;\n",
       "    }\n",
       "\n",
       "    .dataframe thead th {\n",
       "        text-align: right;\n",
       "    }\n",
       "</style>\n",
       "<table border=\"1\" class=\"dataframe\">\n",
       "  <thead>\n",
       "    <tr style=\"text-align: right;\">\n",
       "      <th></th>\n",
       "      <th>index</th>\n",
       "      <th>Temperatura del agua al bañarte</th>\n",
       "    </tr>\n",
       "  </thead>\n",
       "  <tbody>\n",
       "    <tr>\n",
       "      <th>0</th>\n",
       "      <td>Caliente</td>\n",
       "      <td>0.52</td>\n",
       "    </tr>\n",
       "    <tr>\n",
       "      <th>1</th>\n",
       "      <td>Ambas</td>\n",
       "      <td>0.39</td>\n",
       "    </tr>\n",
       "    <tr>\n",
       "      <th>2</th>\n",
       "      <td>Fría</td>\n",
       "      <td>0.09</td>\n",
       "    </tr>\n",
       "  </tbody>\n",
       "</table>\n",
       "</div>"
      ],
      "text/plain": [
       "      index  Temperatura del agua al bañarte\n",
       "0  Caliente                             0.52\n",
       "1     Ambas                             0.39\n",
       "2      Fría                             0.09"
      ]
     },
     "metadata": {},
     "output_type": "display_data"
    },
    {
     "data": {
      "text/html": [
       "<div>\n",
       "<style scoped>\n",
       "    .dataframe tbody tr th:only-of-type {\n",
       "        vertical-align: middle;\n",
       "    }\n",
       "\n",
       "    .dataframe tbody tr th {\n",
       "        vertical-align: top;\n",
       "    }\n",
       "\n",
       "    .dataframe thead th {\n",
       "        text-align: right;\n",
       "    }\n",
       "</style>\n",
       "<table border=\"1\" class=\"dataframe\">\n",
       "  <thead>\n",
       "    <tr style=\"text-align: right;\">\n",
       "      <th></th>\n",
       "      <th>index</th>\n",
       "      <th>¿Te gusta bailar?</th>\n",
       "    </tr>\n",
       "  </thead>\n",
       "  <tbody>\n",
       "    <tr>\n",
       "      <th>0</th>\n",
       "      <td>Si</td>\n",
       "      <td>0.83</td>\n",
       "    </tr>\n",
       "    <tr>\n",
       "      <th>1</th>\n",
       "      <td>No</td>\n",
       "      <td>0.17</td>\n",
       "    </tr>\n",
       "  </tbody>\n",
       "</table>\n",
       "</div>"
      ],
      "text/plain": [
       "  index  ¿Te gusta bailar?\n",
       "0    Si               0.83\n",
       "1    No               0.17"
      ]
     },
     "metadata": {},
     "output_type": "display_data"
    },
    {
     "data": {
      "text/html": [
       "<div>\n",
       "<style scoped>\n",
       "    .dataframe tbody tr th:only-of-type {\n",
       "        vertical-align: middle;\n",
       "    }\n",
       "\n",
       "    .dataframe tbody tr th {\n",
       "        vertical-align: top;\n",
       "    }\n",
       "\n",
       "    .dataframe thead th {\n",
       "        text-align: right;\n",
       "    }\n",
       "</style>\n",
       "<table border=\"1\" class=\"dataframe\">\n",
       "  <thead>\n",
       "    <tr style=\"text-align: right;\">\n",
       "      <th></th>\n",
       "      <th>index</th>\n",
       "      <th>Género de película</th>\n",
       "    </tr>\n",
       "  </thead>\n",
       "  <tbody>\n",
       "    <tr>\n",
       "      <th>0</th>\n",
       "      <td>Terror</td>\n",
       "      <td>0.28</td>\n",
       "    </tr>\n",
       "    <tr>\n",
       "      <th>1</th>\n",
       "      <td>Comedia</td>\n",
       "      <td>0.28</td>\n",
       "    </tr>\n",
       "    <tr>\n",
       "      <th>2</th>\n",
       "      <td>Accion</td>\n",
       "      <td>0.26</td>\n",
       "    </tr>\n",
       "    <tr>\n",
       "      <th>3</th>\n",
       "      <td>Drama</td>\n",
       "      <td>0.17</td>\n",
       "    </tr>\n",
       "  </tbody>\n",
       "</table>\n",
       "</div>"
      ],
      "text/plain": [
       "     index  Género de película\n",
       "0   Terror                0.28\n",
       "1  Comedia                0.28\n",
       "2   Accion                0.26\n",
       "3    Drama                0.17"
      ]
     },
     "metadata": {},
     "output_type": "display_data"
    }
   ],
   "source": [
    "for col in cat:\n",
    "    display(df[col].value_counts(1).reset_index())"
   ]
  },
  {
   "cell_type": "code",
   "execution_count": 8,
   "metadata": {
    "ExecuteTime": {
     "end_time": "2020-11-14T17:45:39.048968Z",
     "start_time": "2020-11-14T17:45:38.932937Z"
    }
   },
   "outputs": [
    {
     "data": {
      "text/plain": [
       "(5.0, 10.0]    0.33\n",
       "(1.999, 5.0]   0.24\n",
       "(24.0, 40.0]   0.20\n",
       "(15.0, 24.0]   0.15\n",
       "(10.0, 15.0]   0.09\n",
       "Name: Pares de zapatos_cut, dtype: float64"
      ]
     },
     "execution_count": 8,
     "metadata": {},
     "output_type": "execute_result"
    }
   ],
   "source": [
    "for col in num:\n",
    "    df[f'{col}_cut'] = pd.qcut(df[col], q = 5, duplicates = 'drop')\n",
    "\n",
    "cut = [x for x in df.columns if x.endswith('_cut')]\n",
    "cat += cut\n",
    "df['Pares de zapatos_cut'].value_counts(1)"
   ]
  },
  {
   "cell_type": "code",
   "execution_count": 30,
   "metadata": {
    "ExecuteTime": {
     "end_time": "2020-11-14T17:51:49.494808Z",
     "start_time": "2020-11-14T17:51:49.443894Z"
    }
   },
   "outputs": [
    {
     "data": {
      "text/plain": [
       "(5.0, 10.0]    0.42\n",
       "(1.999, 5.0]   0.42\n",
       "(24.0, 40.0]   0.08\n",
       "(10.0, 15.0]   0.08\n",
       "(15.0, 24.0]   0.00\n",
       "Name: Pares de zapatos_cut, dtype: float64"
      ]
     },
     "execution_count": 30,
     "metadata": {},
     "output_type": "execute_result"
    }
   ],
   "source": [
    "df[df['Género'] == 1]['Pares de zapatos_cut'].value_counts(1)"
   ]
  },
  {
   "cell_type": "code",
   "execution_count": 31,
   "metadata": {
    "ExecuteTime": {
     "end_time": "2020-11-14T17:51:56.156327Z",
     "start_time": "2020-11-14T17:51:56.120331Z"
    }
   },
   "outputs": [
    {
     "data": {
      "text/plain": [
       "(24.0, 40.0]   0.35\n",
       "(15.0, 24.0]   0.35\n",
       "(5.0, 10.0]    0.20\n",
       "(10.0, 15.0]   0.10\n",
       "(1.999, 5.0]   0.00\n",
       "Name: Pares de zapatos_cut, dtype: float64"
      ]
     },
     "execution_count": 31,
     "metadata": {},
     "output_type": "execute_result"
    }
   ],
   "source": [
    "df[df['Género'] == 0]['Pares de zapatos_cut'].value_counts(1)"
   ]
  },
  {
   "cell_type": "code",
   "execution_count": 9,
   "metadata": {
    "ExecuteTime": {
     "end_time": "2020-11-14T17:45:39.069862Z",
     "start_time": "2020-11-14T17:45:39.059463Z"
    }
   },
   "outputs": [],
   "source": [
    "aux = []\n",
    "for x in df['Género']:\n",
    "    if x == 'Hombre':\n",
    "        aux.append(1)\n",
    "    else:\n",
    "        aux.append(0)\n",
    "        \n",
    "df['Género'] = aux"
   ]
  },
  {
   "cell_type": "code",
   "execution_count": 10,
   "metadata": {
    "ExecuteTime": {
     "end_time": "2020-11-14T17:45:39.124610Z",
     "start_time": "2020-11-14T17:45:39.076402Z"
    }
   },
   "outputs": [
    {
     "data": {
      "text/plain": [
       "1   0.57\n",
       "0   0.43\n",
       "Name: Género, dtype: float64"
      ]
     },
     "execution_count": 10,
     "metadata": {},
     "output_type": "execute_result"
    }
   ],
   "source": [
    "X = df[cat + num]\n",
    "y = df['Género']\n",
    "y.value_counts(1)"
   ]
  },
  {
   "cell_type": "code",
   "execution_count": 11,
   "metadata": {
    "ExecuteTime": {
     "end_time": "2020-11-14T17:45:39.258430Z",
     "start_time": "2020-11-14T17:45:39.128620Z"
    }
   },
   "outputs": [
    {
     "data": {
      "text/html": [
       "<div>\n",
       "<style scoped>\n",
       "    .dataframe tbody tr th:only-of-type {\n",
       "        vertical-align: middle;\n",
       "    }\n",
       "\n",
       "    .dataframe tbody tr th {\n",
       "        vertical-align: top;\n",
       "    }\n",
       "\n",
       "    .dataframe thead th {\n",
       "        text-align: right;\n",
       "    }\n",
       "</style>\n",
       "<table border=\"1\" class=\"dataframe\">\n",
       "  <thead>\n",
       "    <tr style=\"text-align: right;\">\n",
       "      <th></th>\n",
       "      <th>Pares de zapatos</th>\n",
       "      <th>Número de selfies en promedio a la semana</th>\n",
       "      <th>Tiempo en bañarse minutos</th>\n",
       "      <th>Número de amigos en Facebook</th>\n",
       "      <th>Horas de sueño diarias</th>\n",
       "      <th>Porcentaje de batería (0-100)</th>\n",
       "      <th>¿Cuántas chelas te tomas por salida? (de cuartito)</th>\n",
       "      <th>Número de piercings</th>\n",
       "      <th>Temperatura del agua al bañarte_Ambas</th>\n",
       "      <th>Temperatura del agua al bañarte_Caliente</th>\n",
       "      <th>Temperatura del agua al bañarte_Fría</th>\n",
       "      <th>¿Te gusta bailar?_No</th>\n",
       "      <th>¿Te gusta bailar?_Si</th>\n",
       "      <th>Género de película_Accion</th>\n",
       "      <th>Género de película_Comedia</th>\n",
       "      <th>Género de película_Drama</th>\n",
       "      <th>Género de película_Terror</th>\n",
       "      <th>Pares de zapatos_cut_(1.999, 5.0]</th>\n",
       "      <th>Pares de zapatos_cut_(5.0, 10.0]</th>\n",
       "      <th>Pares de zapatos_cut_(10.0, 15.0]</th>\n",
       "      <th>Pares de zapatos_cut_(15.0, 24.0]</th>\n",
       "      <th>Pares de zapatos_cut_(24.0, 40.0]</th>\n",
       "      <th>Número de selfies en promedio a la semana_cut_(-1e-15, 1.0]</th>\n",
       "      <th>Número de selfies en promedio a la semana_cut_(1.0, 1.000000000000004]</th>\n",
       "      <th>Número de selfies en promedio a la semana_cut_(1.000000000000004, 5.0]</th>\n",
       "      <th>Número de selfies en promedio a la semana_cut_(5.0, 100.0]</th>\n",
       "      <th>Tiempo en bañarse minutos_cut_(4.999, 10.0]</th>\n",
       "      <th>Tiempo en bañarse minutos_cut_(10.0, 15.0]</th>\n",
       "      <th>Tiempo en bañarse minutos_cut_(15.0, 20.0]</th>\n",
       "      <th>Tiempo en bañarse minutos_cut_(20.0, 30.0]</th>\n",
       "      <th>Número de amigos en Facebook_cut_(59.999, 236.0]</th>\n",
       "      <th>Número de amigos en Facebook_cut_(236.0, 363.0]</th>\n",
       "      <th>Número de amigos en Facebook_cut_(363.0, 525.0]</th>\n",
       "      <th>Número de amigos en Facebook_cut_(525.0, 750.0]</th>\n",
       "      <th>Número de amigos en Facebook_cut_(750.0, 2600.0]</th>\n",
       "      <th>Horas de sueño diarias_cut_(4.999, 6.0]</th>\n",
       "      <th>Horas de sueño diarias_cut_(6.0, 7.0]</th>\n",
       "      <th>Horas de sueño diarias_cut_(7.0, 8.0]</th>\n",
       "      <th>Horas de sueño diarias_cut_(8.0, 9.0]</th>\n",
       "      <th>Porcentaje de batería (0-100)_cut_(-0.001, 23.0]</th>\n",
       "      <th>Porcentaje de batería (0-100)_cut_(23.0, 48.0]</th>\n",
       "      <th>Porcentaje de batería (0-100)_cut_(48.0, 72.0]</th>\n",
       "      <th>Porcentaje de batería (0-100)_cut_(72.0, 87.0]</th>\n",
       "      <th>Porcentaje de batería (0-100)_cut_(87.0, 100.0]</th>\n",
       "      <th>¿Cuántas chelas te tomas por salida? (de cuartito)_cut_(-0.001, 3.0]</th>\n",
       "      <th>¿Cuántas chelas te tomas por salida? (de cuartito)_cut_(3.0, 6.0]</th>\n",
       "      <th>¿Cuántas chelas te tomas por salida? (de cuartito)_cut_(6.0, 8.0]</th>\n",
       "      <th>¿Cuántas chelas te tomas por salida? (de cuartito)_cut_(8.0, 15.0]</th>\n",
       "      <th>Número de piercings_cut_(-0.001, 4.0]</th>\n",
       "    </tr>\n",
       "  </thead>\n",
       "  <tbody>\n",
       "    <tr>\n",
       "      <th>25</th>\n",
       "      <td>8.00</td>\n",
       "      <td>1</td>\n",
       "      <td>5</td>\n",
       "      <td>676</td>\n",
       "      <td>5.00</td>\n",
       "      <td>99</td>\n",
       "      <td>0</td>\n",
       "      <td>0</td>\n",
       "      <td>0</td>\n",
       "      <td>0</td>\n",
       "      <td>1</td>\n",
       "      <td>0</td>\n",
       "      <td>1</td>\n",
       "      <td>0</td>\n",
       "      <td>1</td>\n",
       "      <td>0</td>\n",
       "      <td>0</td>\n",
       "      <td>0</td>\n",
       "      <td>1</td>\n",
       "      <td>0</td>\n",
       "      <td>0</td>\n",
       "      <td>0</td>\n",
       "      <td>1</td>\n",
       "      <td>0</td>\n",
       "      <td>0</td>\n",
       "      <td>0</td>\n",
       "      <td>1</td>\n",
       "      <td>0</td>\n",
       "      <td>0</td>\n",
       "      <td>0</td>\n",
       "      <td>0</td>\n",
       "      <td>0</td>\n",
       "      <td>0</td>\n",
       "      <td>1</td>\n",
       "      <td>0</td>\n",
       "      <td>1</td>\n",
       "      <td>0</td>\n",
       "      <td>0</td>\n",
       "      <td>0</td>\n",
       "      <td>0</td>\n",
       "      <td>0</td>\n",
       "      <td>0</td>\n",
       "      <td>0</td>\n",
       "      <td>1</td>\n",
       "      <td>1</td>\n",
       "      <td>0</td>\n",
       "      <td>0</td>\n",
       "      <td>0</td>\n",
       "      <td>1</td>\n",
       "    </tr>\n",
       "  </tbody>\n",
       "</table>\n",
       "</div>"
      ],
      "text/plain": [
       "    Pares de zapatos  Número de selfies en promedio a la semana  \\\n",
       "25              8.00                                          1   \n",
       "\n",
       "    Tiempo en bañarse minutos  Número de amigos en Facebook  \\\n",
       "25                          5                           676   \n",
       "\n",
       "    Horas de sueño diarias  Porcentaje de batería (0-100)  \\\n",
       "25                    5.00                             99   \n",
       "\n",
       "    ¿Cuántas chelas te tomas por salida? (de cuartito)  Número de piercings  \\\n",
       "25                                                  0                     0   \n",
       "\n",
       "    Temperatura del agua al bañarte_Ambas  \\\n",
       "25                                      0   \n",
       "\n",
       "    Temperatura del agua al bañarte_Caliente  \\\n",
       "25                                         0   \n",
       "\n",
       "    Temperatura del agua al bañarte_Fría  ¿Te gusta bailar?_No  \\\n",
       "25                                     1                     0   \n",
       "\n",
       "    ¿Te gusta bailar?_Si  Género de película_Accion  \\\n",
       "25                     1                          0   \n",
       "\n",
       "    Género de película_Comedia  Género de película_Drama  \\\n",
       "25                           1                         0   \n",
       "\n",
       "    Género de película_Terror  Pares de zapatos_cut_(1.999, 5.0]  \\\n",
       "25                          0                                  0   \n",
       "\n",
       "    Pares de zapatos_cut_(5.0, 10.0]  Pares de zapatos_cut_(10.0, 15.0]  \\\n",
       "25                                 1                                  0   \n",
       "\n",
       "    Pares de zapatos_cut_(15.0, 24.0]  Pares de zapatos_cut_(24.0, 40.0]  \\\n",
       "25                                  0                                  0   \n",
       "\n",
       "    Número de selfies en promedio a la semana_cut_(-1e-15, 1.0]  \\\n",
       "25                                                  1             \n",
       "\n",
       "    Número de selfies en promedio a la semana_cut_(1.0, 1.000000000000004]  \\\n",
       "25                                                  0                        \n",
       "\n",
       "    Número de selfies en promedio a la semana_cut_(1.000000000000004, 5.0]  \\\n",
       "25                                                  0                        \n",
       "\n",
       "    Número de selfies en promedio a la semana_cut_(5.0, 100.0]  \\\n",
       "25                                                  0            \n",
       "\n",
       "    Tiempo en bañarse minutos_cut_(4.999, 10.0]  \\\n",
       "25                                            1   \n",
       "\n",
       "    Tiempo en bañarse minutos_cut_(10.0, 15.0]  \\\n",
       "25                                           0   \n",
       "\n",
       "    Tiempo en bañarse minutos_cut_(15.0, 20.0]  \\\n",
       "25                                           0   \n",
       "\n",
       "    Tiempo en bañarse minutos_cut_(20.0, 30.0]  \\\n",
       "25                                           0   \n",
       "\n",
       "    Número de amigos en Facebook_cut_(59.999, 236.0]  \\\n",
       "25                                                 0   \n",
       "\n",
       "    Número de amigos en Facebook_cut_(236.0, 363.0]  \\\n",
       "25                                                0   \n",
       "\n",
       "    Número de amigos en Facebook_cut_(363.0, 525.0]  \\\n",
       "25                                                0   \n",
       "\n",
       "    Número de amigos en Facebook_cut_(525.0, 750.0]  \\\n",
       "25                                                1   \n",
       "\n",
       "    Número de amigos en Facebook_cut_(750.0, 2600.0]  \\\n",
       "25                                                 0   \n",
       "\n",
       "    Horas de sueño diarias_cut_(4.999, 6.0]  \\\n",
       "25                                        1   \n",
       "\n",
       "    Horas de sueño diarias_cut_(6.0, 7.0]  \\\n",
       "25                                      0   \n",
       "\n",
       "    Horas de sueño diarias_cut_(7.0, 8.0]  \\\n",
       "25                                      0   \n",
       "\n",
       "    Horas de sueño diarias_cut_(8.0, 9.0]  \\\n",
       "25                                      0   \n",
       "\n",
       "    Porcentaje de batería (0-100)_cut_(-0.001, 23.0]  \\\n",
       "25                                                 0   \n",
       "\n",
       "    Porcentaje de batería (0-100)_cut_(23.0, 48.0]  \\\n",
       "25                                               0   \n",
       "\n",
       "    Porcentaje de batería (0-100)_cut_(48.0, 72.0]  \\\n",
       "25                                               0   \n",
       "\n",
       "    Porcentaje de batería (0-100)_cut_(72.0, 87.0]  \\\n",
       "25                                               0   \n",
       "\n",
       "    Porcentaje de batería (0-100)_cut_(87.0, 100.0]  \\\n",
       "25                                                1   \n",
       "\n",
       "    ¿Cuántas chelas te tomas por salida? (de cuartito)_cut_(-0.001, 3.0]  \\\n",
       "25                                                  1                      \n",
       "\n",
       "    ¿Cuántas chelas te tomas por salida? (de cuartito)_cut_(3.0, 6.0]  \\\n",
       "25                                                  0                   \n",
       "\n",
       "    ¿Cuántas chelas te tomas por salida? (de cuartito)_cut_(6.0, 8.0]  \\\n",
       "25                                                  0                   \n",
       "\n",
       "    ¿Cuántas chelas te tomas por salida? (de cuartito)_cut_(8.0, 15.0]  \\\n",
       "25                                                  0                    \n",
       "\n",
       "    Número de piercings_cut_(-0.001, 4.0]  \n",
       "25                                      1  "
      ]
     },
     "execution_count": 11,
     "metadata": {},
     "output_type": "execute_result"
    }
   ],
   "source": [
    "X = X[num].join(pd.get_dummies(X[cat]))\n",
    "X.sample()"
   ]
  },
  {
   "cell_type": "code",
   "execution_count": 12,
   "metadata": {
    "ExecuteTime": {
     "end_time": "2020-11-14T17:45:40.364933Z",
     "start_time": "2020-11-14T17:45:39.261643Z"
    }
   },
   "outputs": [],
   "source": [
    "import pydotplus\n",
    "import numpy as np\n",
    "import pandas as pd\n",
    "from sklearn.tree import _tree\n",
    "from IPython.display import Image \n",
    "from sklearn.pipeline import Pipeline\n",
    "from sklearn.preprocessing import OneHotEncoder\n",
    "from sklearn.tree import DecisionTreeClassifier, export_graphviz\n",
    "from sklearn.model_selection import RandomizedSearchCV, GridSearchCV\n",
    "from sklearn.model_selection import cross_val_score, train_test_split"
   ]
  },
  {
   "cell_type": "code",
   "execution_count": 13,
   "metadata": {
    "ExecuteTime": {
     "end_time": "2020-11-14T17:45:40.383561Z",
     "start_time": "2020-11-14T17:45:40.369430Z"
    }
   },
   "outputs": [],
   "source": [
    "def tree_to_code(tree, feature_names):\n",
    "    tree_ = tree.tree_\n",
    "    feature_name = [\n",
    "        feature_names[i] if i != _tree.TREE_UNDEFINED else \"undefined!\"\n",
    "        for i in tree_.feature\n",
    "    ]\n",
    "    features = ','.join(feature_names)\n",
    "    print(f\"def tree({features}):\")\n",
    "\n",
    "    def recurse(node, depth):\n",
    "        indent = \"  \" * depth\n",
    "        if tree_.feature[node] != _tree.TREE_UNDEFINED:\n",
    "            name = feature_name[node]\n",
    "            threshold = tree_.threshold[node]\n",
    "            print(f\"{indent}if {name} <= {threshold}:\")\n",
    "            recurse(tree_.children_left[node], depth + 1)\n",
    "            print(f\"{indent}else:  # if {name} > {threshold}\")\n",
    "            recurse(tree_.children_right[node], depth + 1)\n",
    "        else:\n",
    "            print(f\"{indent}return {tree_.value[node]}\".format(indent, tree_.value[node]))\n",
    "\n",
    "    recurse(0, 1)"
   ]
  },
  {
   "cell_type": "code",
   "execution_count": 14,
   "metadata": {
    "ExecuteTime": {
     "end_time": "2020-11-14T17:45:40.406980Z",
     "start_time": "2020-11-14T17:45:40.397022Z"
    }
   },
   "outputs": [],
   "source": [
    "def classification_metrics(X, y, estimator):\n",
    "    ls_scores_roc = cross_val_score(estimator=estimator, X=X, y=y, scoring=\"roc_auc\", n_jobs=-1, cv=4)\n",
    "    print(f\"ROC media: {np.mean(ls_scores_roc):,.2f}, desviación estándar: {np.std(ls_scores_roc)}\")"
   ]
  },
  {
   "cell_type": "code",
   "execution_count": 15,
   "metadata": {
    "ExecuteTime": {
     "end_time": "2020-11-14T17:45:40.445682Z",
     "start_time": "2020-11-14T17:45:40.413145Z"
    }
   },
   "outputs": [],
   "source": [
    "X_train, X_test, y_train, y_test = train_test_split(X, y, train_size=0.9)"
   ]
  },
  {
   "cell_type": "code",
   "execution_count": 16,
   "metadata": {
    "ExecuteTime": {
     "end_time": "2020-11-14T17:45:40.479443Z",
     "start_time": "2020-11-14T17:45:40.455822Z"
    }
   },
   "outputs": [
    {
     "data": {
      "text/plain": [
       "((41, 49), (5, 49))"
      ]
     },
     "execution_count": 16,
     "metadata": {},
     "output_type": "execute_result"
    }
   ],
   "source": [
    "X_train.shape, X_test.shape"
   ]
  },
  {
   "cell_type": "code",
   "execution_count": 17,
   "metadata": {
    "ExecuteTime": {
     "end_time": "2020-11-14T17:45:40.509523Z",
     "start_time": "2020-11-14T17:45:40.483647Z"
    }
   },
   "outputs": [
    {
     "data": {
      "text/plain": [
       "((41,), (5,))"
      ]
     },
     "execution_count": 17,
     "metadata": {},
     "output_type": "execute_result"
    }
   ],
   "source": [
    "y_train.shape, y_test.shape"
   ]
  },
  {
   "cell_type": "markdown",
   "metadata": {},
   "source": [
    "## Modelado"
   ]
  },
  {
   "cell_type": "code",
   "execution_count": 18,
   "metadata": {
    "ExecuteTime": {
     "end_time": "2020-11-14T17:45:40.584817Z",
     "start_time": "2020-11-14T17:45:40.518441Z"
    }
   },
   "outputs": [
    {
     "data": {
      "text/plain": [
       "1.0"
      ]
     },
     "metadata": {},
     "output_type": "display_data"
    },
    {
     "data": {
      "text/plain": [
       "0.6"
      ]
     },
     "execution_count": 18,
     "metadata": {},
     "output_type": "execute_result"
    }
   ],
   "source": [
    "tree = DecisionTreeClassifier()\n",
    "tree.fit(X_train, y_train)\n",
    "display(tree.score(X_train, y_train))\n",
    "tree.score(X_test, y_test)"
   ]
  },
  {
   "cell_type": "code",
   "execution_count": 20,
   "metadata": {
    "ExecuteTime": {
     "end_time": "2020-11-14T17:45:45.209423Z",
     "start_time": "2020-11-14T17:45:40.629919Z"
    }
   },
   "outputs": [
    {
     "name": "stdout",
     "output_type": "stream",
     "text": [
      "ROC media: 0.67, desviación estándar: 0.038808200021244056\n"
     ]
    }
   ],
   "source": [
    "classification_metrics(X=X_train, y=y_train, estimator=tree)"
   ]
  },
  {
   "cell_type": "code",
   "execution_count": 28,
   "metadata": {
    "ExecuteTime": {
     "end_time": "2020-11-14T17:50:55.851927Z",
     "start_time": "2020-11-14T17:50:55.803036Z"
    }
   },
   "outputs": [
    {
     "data": {
      "text/plain": [
       "0.8780487804878049"
      ]
     },
     "metadata": {},
     "output_type": "display_data"
    },
    {
     "data": {
      "text/plain": [
       "0.6"
      ]
     },
     "execution_count": 28,
     "metadata": {},
     "output_type": "execute_result"
    }
   ],
   "source": [
    "tree2 = DecisionTreeClassifier(criterion='entropy', max_depth=3, max_features='log2',\n",
    "                       min_samples_leaf=0.06, splitter='random')\n",
    "tree2.fit(X_train, y_train)\n",
    "display(tree2.score(X_train, y_train))\n",
    "tree2.score(X_test, y_test)"
   ]
  },
  {
   "cell_type": "code",
   "execution_count": 29,
   "metadata": {
    "ExecuteTime": {
     "end_time": "2020-11-14T17:51:02.367781Z",
     "start_time": "2020-11-14T17:50:58.731689Z"
    }
   },
   "outputs": [
    {
     "name": "stdout",
     "output_type": "stream",
     "text": [
      "ROC media: 0.65, desviación estándar: 0.09109671295448105\n"
     ]
    }
   ],
   "source": [
    "classification_metrics(X=X_train, y=y_train, estimator=tree2)"
   ]
  },
  {
   "cell_type": "markdown",
   "metadata": {},
   "source": [
    "## Hiperparametrización"
   ]
  },
  {
   "cell_type": "code",
   "execution_count": 22,
   "metadata": {
    "ExecuteTime": {
     "end_time": "2020-11-14T17:45:45.369415Z",
     "start_time": "2020-11-14T17:45:45.349837Z"
    }
   },
   "outputs": [],
   "source": [
    "param_dist = {\"max_depth\": range(1, 5),\n",
    "              \"max_features\": [\"auto\", \"sqrt\", \"log2\"],\n",
    "              \"min_samples_leaf\": [x/100 for x in range(5, 51, 1)] + [x for x in range(1, 21)], \n",
    "              \"criterion\": [\"gini\", \"entropy\"],\n",
    "              \"splitter\": [\"best\", \"random\"],\n",
    "              \"class_weight\": [\"balanced\", None]}"
   ]
  },
  {
   "cell_type": "code",
   "execution_count": 23,
   "metadata": {
    "ExecuteTime": {
     "end_time": "2020-11-14T17:45:45.419378Z",
     "start_time": "2020-11-14T17:45:45.389537Z"
    }
   },
   "outputs": [
    {
     "data": {
      "text/plain": [
       "dict_keys(['ccp_alpha', 'class_weight', 'criterion', 'max_depth', 'max_features', 'max_leaf_nodes', 'min_impurity_decrease', 'min_impurity_split', 'min_samples_leaf', 'min_samples_split', 'min_weight_fraction_leaf', 'presort', 'random_state', 'splitter'])"
      ]
     },
     "execution_count": 23,
     "metadata": {},
     "output_type": "execute_result"
    }
   ],
   "source": [
    "tree.get_params().keys()"
   ]
  },
  {
   "cell_type": "code",
   "execution_count": 24,
   "metadata": {
    "ExecuteTime": {
     "end_time": "2020-11-14T17:50:12.240225Z",
     "start_time": "2020-11-14T17:45:45.426391Z"
    }
   },
   "outputs": [
    {
     "name": "stdout",
     "output_type": "stream",
     "text": [
      "Fitting 3 folds for each of 6336 candidates, totalling 19008 fits\n"
     ]
    },
    {
     "name": "stderr",
     "output_type": "stream",
     "text": [
      "[Parallel(n_jobs=-1)]: Using backend LokyBackend with 3 concurrent workers.\n",
      "[Parallel(n_jobs=-1)]: Done  18 tasks      | elapsed:    0.3s\n",
      "[Parallel(n_jobs=-1)]: Done 234 tasks      | elapsed:    3.0s\n",
      "[Parallel(n_jobs=-1)]: Done 594 tasks      | elapsed:    8.5s\n",
      "[Parallel(n_jobs=-1)]: Done 1098 tasks      | elapsed:   16.5s\n",
      "[Parallel(n_jobs=-1)]: Done 1746 tasks      | elapsed:   25.6s\n",
      "[Parallel(n_jobs=-1)]: Done 2538 tasks      | elapsed:   36.4s\n",
      "[Parallel(n_jobs=-1)]: Done 3894 tasks      | elapsed:   54.4s\n",
      "[Parallel(n_jobs=-1)]: Done 6054 tasks      | elapsed:  1.4min\n",
      "[Parallel(n_jobs=-1)]: Done 8502 tasks      | elapsed:  2.0min\n",
      "[Parallel(n_jobs=-1)]: Done 11238 tasks      | elapsed:  2.6min\n",
      "[Parallel(n_jobs=-1)]: Done 14262 tasks      | elapsed:  3.4min\n",
      "[Parallel(n_jobs=-1)]: Done 17574 tasks      | elapsed:  4.1min\n",
      "[Parallel(n_jobs=-1)]: Done 19008 out of 19008 | elapsed:  4.4min finished\n"
     ]
    },
    {
     "data": {
      "text/plain": [
       "GridSearchCV(cv=3, estimator=DecisionTreeClassifier(), n_jobs=-1,\n",
       "             param_grid={'class_weight': ['balanced', None],\n",
       "                         'criterion': ['gini', 'entropy'],\n",
       "                         'max_depth': range(1, 5),\n",
       "                         'max_features': ['auto', 'sqrt', 'log2'],\n",
       "                         'min_samples_leaf': [0.05, 0.06, 0.07, 0.08, 0.09, 0.1,\n",
       "                                              0.11, 0.12, 0.13, 0.14, 0.15,\n",
       "                                              0.16, 0.17, 0.18, 0.19, 0.2, 0.21,\n",
       "                                              0.22, 0.23, 0.24, 0.25, 0.26,\n",
       "                                              0.27, 0.28, 0.29, 0.3, 0.31, 0.32,\n",
       "                                              0.33, 0.34, ...],\n",
       "                         'splitter': ['best', 'random']},\n",
       "             scoring='roc_auc', verbose=5)"
      ]
     },
     "execution_count": 24,
     "metadata": {},
     "output_type": "execute_result"
    }
   ],
   "source": [
    "search = GridSearchCV(param_grid=param_dist, \n",
    "                      cv=3, \n",
    "                      n_jobs=-1, \n",
    "                      scoring=\"roc_auc\",\n",
    "                      estimator=tree, \n",
    "                      verbose=5,)\n",
    "search.fit(X_train, y_train)"
   ]
  },
  {
   "cell_type": "code",
   "execution_count": 26,
   "metadata": {
    "ExecuteTime": {
     "end_time": "2020-11-14T17:50:35.044320Z",
     "start_time": "2020-11-14T17:50:35.015514Z"
    }
   },
   "outputs": [
    {
     "data": {
      "text/plain": [
       "0.7500000000000001"
      ]
     },
     "metadata": {},
     "output_type": "display_data"
    },
    {
     "data": {
      "text/plain": [
       "0.9118055555555555"
      ]
     },
     "execution_count": 26,
     "metadata": {},
     "output_type": "execute_result"
    }
   ],
   "source": [
    "display(search.score(X_test, y_test))\n",
    "search.best_score_"
   ]
  },
  {
   "cell_type": "code",
   "execution_count": 27,
   "metadata": {
    "ExecuteTime": {
     "end_time": "2020-11-14T17:50:36.830952Z",
     "start_time": "2020-11-14T17:50:36.817760Z"
    }
   },
   "outputs": [
    {
     "data": {
      "text/plain": [
       "DecisionTreeClassifier(criterion='entropy', max_depth=3, max_features='log2',\n",
       "                       min_samples_leaf=0.06, splitter='random')"
      ]
     },
     "execution_count": 27,
     "metadata": {},
     "output_type": "execute_result"
    }
   ],
   "source": [
    "search.best_estimator_"
   ]
  }
 ],
 "metadata": {
  "kernelspec": {
   "display_name": "Python 3",
   "language": "python",
   "name": "python3"
  },
  "language_info": {
   "codemirror_mode": {
    "name": "ipython",
    "version": 3
   },
   "file_extension": ".py",
   "mimetype": "text/x-python",
   "name": "python",
   "nbconvert_exporter": "python",
   "pygments_lexer": "ipython3",
   "version": "3.8.5"
  },
  "toc": {
   "base_numbering": 1,
   "nav_menu": {},
   "number_sections": true,
   "sideBar": true,
   "skip_h1_title": true,
   "title_cell": "Table of Contents",
   "title_sidebar": "Contents",
   "toc_cell": false,
   "toc_position": {
    "height": "calc(100% - 180px)",
    "left": "10px",
    "top": "150px",
    "width": "410.66px"
   },
   "toc_section_display": true,
   "toc_window_display": true
  },
  "varInspector": {
   "cols": {
    "lenName": 16,
    "lenType": 16,
    "lenVar": 40
   },
   "kernels_config": {
    "python": {
     "delete_cmd_postfix": "",
     "delete_cmd_prefix": "del ",
     "library": "var_list.py",
     "varRefreshCmd": "print(var_dic_list())"
    },
    "r": {
     "delete_cmd_postfix": ") ",
     "delete_cmd_prefix": "rm(",
     "library": "var_list.r",
     "varRefreshCmd": "cat(var_dic_list()) "
    }
   },
   "types_to_exclude": [
    "module",
    "function",
    "builtin_function_or_method",
    "instance",
    "_Feature"
   ],
   "window_display": false
  }
 },
 "nbformat": 4,
 "nbformat_minor": 4
}
