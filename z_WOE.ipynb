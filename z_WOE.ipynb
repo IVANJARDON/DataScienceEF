{
 "cells": [
  {
   "cell_type": "markdown",
   "metadata": {},
   "source": [
    "# Práctica reducción de dimensiones"
   ]
  },
  {
   "cell_type": "markdown",
   "metadata": {},
   "source": [
    "## Importar"
   ]
  },
  {
   "cell_type": "code",
   "execution_count": 1,
   "metadata": {
    "ExecuteTime": {
     "end_time": "2020-11-25T00:03:56.448649Z",
     "start_time": "2020-11-25T00:03:55.395359Z"
    }
   },
   "outputs": [],
   "source": [
    "# %load basic\n",
    "import pandas as pd\n",
    "import numpy as np\n",
    "import matplotlib.pyplot as plt"
   ]
  },
  {
   "cell_type": "code",
   "execution_count": 2,
   "metadata": {
    "ExecuteTime": {
     "end_time": "2020-11-25T00:03:56.533656Z",
     "start_time": "2020-11-25T00:03:56.455923Z"
    }
   },
   "outputs": [
    {
     "name": "stdout",
     "output_type": "stream",
     "text": [
      "{'encoding': 'ascii', 'confidence': 1.0, 'language': ''}\n"
     ]
    }
   ],
   "source": [
    "import chardet\n",
    "\n",
    "with open('/home/ef/Documents/Diplomado/data/bank-full - bank-full.csv', 'rb') as rawdata:\n",
    "    result = chardet.detect(rawdata.read(10000))\n",
    "   \n",
    "print(result)"
   ]
  },
  {
   "cell_type": "code",
   "execution_count": 3,
   "metadata": {
    "ExecuteTime": {
     "end_time": "2020-11-25T00:03:57.779278Z",
     "start_time": "2020-11-25T00:03:56.544878Z"
    }
   },
   "outputs": [
    {
     "data": {
      "text/html": [
       "<div>\n",
       "<style scoped>\n",
       "    .dataframe tbody tr th:only-of-type {\n",
       "        vertical-align: middle;\n",
       "    }\n",
       "\n",
       "    .dataframe tbody tr th {\n",
       "        vertical-align: top;\n",
       "    }\n",
       "\n",
       "    .dataframe thead th {\n",
       "        text-align: right;\n",
       "    }\n",
       "</style>\n",
       "<table border=\"1\" class=\"dataframe\">\n",
       "  <thead>\n",
       "    <tr style=\"text-align: right;\">\n",
       "      <th></th>\n",
       "      <th>age</th>\n",
       "      <th>job</th>\n",
       "      <th>marital</th>\n",
       "      <th>education</th>\n",
       "      <th>default</th>\n",
       "      <th>balance</th>\n",
       "      <th>housing</th>\n",
       "      <th>loan</th>\n",
       "      <th>contact</th>\n",
       "      <th>day</th>\n",
       "      <th>month</th>\n",
       "      <th>duration</th>\n",
       "      <th>campaign</th>\n",
       "      <th>pdays</th>\n",
       "      <th>previous</th>\n",
       "      <th>poutcome</th>\n",
       "      <th>y</th>\n",
       "    </tr>\n",
       "  </thead>\n",
       "  <tbody>\n",
       "    <tr>\n",
       "      <th>21635</th>\n",
       "      <td>35</td>\n",
       "      <td>technician</td>\n",
       "      <td>married</td>\n",
       "      <td>secondary</td>\n",
       "      <td>no</td>\n",
       "      <td>141</td>\n",
       "      <td>yes</td>\n",
       "      <td>no</td>\n",
       "      <td>cellular</td>\n",
       "      <td>19</td>\n",
       "      <td>aug</td>\n",
       "      <td>299</td>\n",
       "      <td>2</td>\n",
       "      <td>-1</td>\n",
       "      <td>0</td>\n",
       "      <td>unknown</td>\n",
       "      <td>no</td>\n",
       "    </tr>\n",
       "    <tr>\n",
       "      <th>38291</th>\n",
       "      <td>31</td>\n",
       "      <td>admin.</td>\n",
       "      <td>divorced</td>\n",
       "      <td>secondary</td>\n",
       "      <td>no</td>\n",
       "      <td>360</td>\n",
       "      <td>no</td>\n",
       "      <td>no</td>\n",
       "      <td>cellular</td>\n",
       "      <td>15</td>\n",
       "      <td>may</td>\n",
       "      <td>332</td>\n",
       "      <td>1</td>\n",
       "      <td>297</td>\n",
       "      <td>2</td>\n",
       "      <td>other</td>\n",
       "      <td>no</td>\n",
       "    </tr>\n",
       "    <tr>\n",
       "      <th>10763</th>\n",
       "      <td>44</td>\n",
       "      <td>management</td>\n",
       "      <td>married</td>\n",
       "      <td>tertiary</td>\n",
       "      <td>no</td>\n",
       "      <td>3091</td>\n",
       "      <td>yes</td>\n",
       "      <td>no</td>\n",
       "      <td>unknown</td>\n",
       "      <td>17</td>\n",
       "      <td>jun</td>\n",
       "      <td>331</td>\n",
       "      <td>4</td>\n",
       "      <td>-1</td>\n",
       "      <td>0</td>\n",
       "      <td>unknown</td>\n",
       "      <td>no</td>\n",
       "    </tr>\n",
       "    <tr>\n",
       "      <th>44750</th>\n",
       "      <td>28</td>\n",
       "      <td>management</td>\n",
       "      <td>married</td>\n",
       "      <td>tertiary</td>\n",
       "      <td>no</td>\n",
       "      <td>12</td>\n",
       "      <td>yes</td>\n",
       "      <td>no</td>\n",
       "      <td>cellular</td>\n",
       "      <td>9</td>\n",
       "      <td>sep</td>\n",
       "      <td>202</td>\n",
       "      <td>1</td>\n",
       "      <td>-1</td>\n",
       "      <td>0</td>\n",
       "      <td>unknown</td>\n",
       "      <td>yes</td>\n",
       "    </tr>\n",
       "    <tr>\n",
       "      <th>18047</th>\n",
       "      <td>36</td>\n",
       "      <td>management</td>\n",
       "      <td>married</td>\n",
       "      <td>tertiary</td>\n",
       "      <td>no</td>\n",
       "      <td>96</td>\n",
       "      <td>no</td>\n",
       "      <td>no</td>\n",
       "      <td>cellular</td>\n",
       "      <td>30</td>\n",
       "      <td>jul</td>\n",
       "      <td>729</td>\n",
       "      <td>4</td>\n",
       "      <td>-1</td>\n",
       "      <td>0</td>\n",
       "      <td>unknown</td>\n",
       "      <td>yes</td>\n",
       "    </tr>\n",
       "    <tr>\n",
       "      <th>691</th>\n",
       "      <td>36</td>\n",
       "      <td>blue-collar</td>\n",
       "      <td>married</td>\n",
       "      <td>primary</td>\n",
       "      <td>no</td>\n",
       "      <td>23</td>\n",
       "      <td>yes</td>\n",
       "      <td>no</td>\n",
       "      <td>unknown</td>\n",
       "      <td>6</td>\n",
       "      <td>may</td>\n",
       "      <td>400</td>\n",
       "      <td>2</td>\n",
       "      <td>-1</td>\n",
       "      <td>0</td>\n",
       "      <td>unknown</td>\n",
       "      <td>no</td>\n",
       "    </tr>\n",
       "    <tr>\n",
       "      <th>40649</th>\n",
       "      <td>25</td>\n",
       "      <td>self-employed</td>\n",
       "      <td>single</td>\n",
       "      <td>tertiary</td>\n",
       "      <td>no</td>\n",
       "      <td>557</td>\n",
       "      <td>no</td>\n",
       "      <td>no</td>\n",
       "      <td>telephone</td>\n",
       "      <td>5</td>\n",
       "      <td>aug</td>\n",
       "      <td>813</td>\n",
       "      <td>2</td>\n",
       "      <td>-1</td>\n",
       "      <td>0</td>\n",
       "      <td>unknown</td>\n",
       "      <td>no</td>\n",
       "    </tr>\n",
       "    <tr>\n",
       "      <th>1717</th>\n",
       "      <td>28</td>\n",
       "      <td>admin.</td>\n",
       "      <td>single</td>\n",
       "      <td>secondary</td>\n",
       "      <td>no</td>\n",
       "      <td>2831</td>\n",
       "      <td>yes</td>\n",
       "      <td>no</td>\n",
       "      <td>unknown</td>\n",
       "      <td>9</td>\n",
       "      <td>may</td>\n",
       "      <td>211</td>\n",
       "      <td>3</td>\n",
       "      <td>-1</td>\n",
       "      <td>0</td>\n",
       "      <td>unknown</td>\n",
       "      <td>no</td>\n",
       "    </tr>\n",
       "    <tr>\n",
       "      <th>779</th>\n",
       "      <td>42</td>\n",
       "      <td>admin.</td>\n",
       "      <td>married</td>\n",
       "      <td>secondary</td>\n",
       "      <td>no</td>\n",
       "      <td>445</td>\n",
       "      <td>yes</td>\n",
       "      <td>no</td>\n",
       "      <td>unknown</td>\n",
       "      <td>7</td>\n",
       "      <td>may</td>\n",
       "      <td>202</td>\n",
       "      <td>2</td>\n",
       "      <td>-1</td>\n",
       "      <td>0</td>\n",
       "      <td>unknown</td>\n",
       "      <td>no</td>\n",
       "    </tr>\n",
       "    <tr>\n",
       "      <th>34490</th>\n",
       "      <td>48</td>\n",
       "      <td>blue-collar</td>\n",
       "      <td>single</td>\n",
       "      <td>secondary</td>\n",
       "      <td>no</td>\n",
       "      <td>0</td>\n",
       "      <td>yes</td>\n",
       "      <td>no</td>\n",
       "      <td>cellular</td>\n",
       "      <td>5</td>\n",
       "      <td>may</td>\n",
       "      <td>95</td>\n",
       "      <td>1</td>\n",
       "      <td>-1</td>\n",
       "      <td>0</td>\n",
       "      <td>unknown</td>\n",
       "      <td>no</td>\n",
       "    </tr>\n",
       "  </tbody>\n",
       "</table>\n",
       "</div>"
      ],
      "text/plain": [
       "       age            job   marital  education default  balance housing loan  \\\n",
       "21635   35     technician   married  secondary      no      141     yes   no   \n",
       "38291   31         admin.  divorced  secondary      no      360      no   no   \n",
       "10763   44     management   married   tertiary      no     3091     yes   no   \n",
       "44750   28     management   married   tertiary      no       12     yes   no   \n",
       "18047   36     management   married   tertiary      no       96      no   no   \n",
       "691     36    blue-collar   married    primary      no       23     yes   no   \n",
       "40649   25  self-employed    single   tertiary      no      557      no   no   \n",
       "1717    28         admin.    single  secondary      no     2831     yes   no   \n",
       "779     42         admin.   married  secondary      no      445     yes   no   \n",
       "34490   48    blue-collar    single  secondary      no        0     yes   no   \n",
       "\n",
       "         contact  day month  duration  campaign  pdays  previous poutcome    y  \n",
       "21635   cellular   19   aug       299         2     -1         0  unknown   no  \n",
       "38291   cellular   15   may       332         1    297         2    other   no  \n",
       "10763    unknown   17   jun       331         4     -1         0  unknown   no  \n",
       "44750   cellular    9   sep       202         1     -1         0  unknown  yes  \n",
       "18047   cellular   30   jul       729         4     -1         0  unknown  yes  \n",
       "691      unknown    6   may       400         2     -1         0  unknown   no  \n",
       "40649  telephone    5   aug       813         2     -1         0  unknown   no  \n",
       "1717     unknown    9   may       211         3     -1         0  unknown   no  \n",
       "779      unknown    7   may       202         2     -1         0  unknown   no  \n",
       "34490   cellular    5   may        95         1     -1         0  unknown   no  "
      ]
     },
     "execution_count": 3,
     "metadata": {},
     "output_type": "execute_result"
    }
   ],
   "source": [
    "df = pd.read_csv('/home/ef/Documents/Diplomado/data/bank-full(1).csv',\n",
    "                 sep = ';',\n",
    "                engine = 'python')\n",
    "\n",
    "df.sample(10)"
   ]
  },
  {
   "cell_type": "code",
   "execution_count": 4,
   "metadata": {
    "ExecuteTime": {
     "end_time": "2020-11-25T00:03:57.829097Z",
     "start_time": "2020-11-25T00:03:57.784284Z"
    }
   },
   "outputs": [
    {
     "data": {
      "text/plain": [
       "age          0.0\n",
       "job          0.0\n",
       "marital      0.0\n",
       "education    0.0\n",
       "default      0.0\n",
       "balance      0.0\n",
       "housing      0.0\n",
       "loan         0.0\n",
       "contact      0.0\n",
       "day          0.0\n",
       "month        0.0\n",
       "duration     0.0\n",
       "campaign     0.0\n",
       "pdays        0.0\n",
       "previous     0.0\n",
       "poutcome     0.0\n",
       "y            0.0\n",
       "dtype: float64"
      ]
     },
     "execution_count": 4,
     "metadata": {},
     "output_type": "execute_result"
    }
   ],
   "source": [
    "## No hay vacíos! (al parecer)\n",
    "df.isnull().sum() / df.shape[0]"
   ]
  },
  {
   "cell_type": "code",
   "execution_count": 5,
   "metadata": {
    "ExecuteTime": {
     "end_time": "2020-11-25T00:03:57.984810Z",
     "start_time": "2020-11-25T00:03:57.834128Z"
    }
   },
   "outputs": [
    {
     "data": {
      "text/plain": [
       "(45211, 17)"
      ]
     },
     "execution_count": 5,
     "metadata": {},
     "output_type": "execute_result"
    }
   ],
   "source": [
    "dim_antes = df.shape[0]\n",
    "df.shape"
   ]
  },
  {
   "cell_type": "code",
   "execution_count": 6,
   "metadata": {
    "ExecuteTime": {
     "end_time": "2020-11-25T00:03:58.012228Z",
     "start_time": "2020-11-25T00:03:57.993334Z"
    }
   },
   "outputs": [
    {
     "data": {
      "text/plain": [
       "Index(['age', 'job', 'marital', 'education', 'default', 'balance', 'housing',\n",
       "       'loan', 'contact', 'day', 'month', 'duration', 'campaign', 'pdays',\n",
       "       'previous', 'poutcome', 'y'],\n",
       "      dtype='object')"
      ]
     },
     "execution_count": 6,
     "metadata": {},
     "output_type": "execute_result"
    }
   ],
   "source": [
    "df.columns"
   ]
  },
  {
   "cell_type": "code",
   "execution_count": 7,
   "metadata": {
    "ExecuteTime": {
     "end_time": "2020-11-25T00:03:58.029021Z",
     "start_time": "2020-11-25T00:03:58.014865Z"
    }
   },
   "outputs": [],
   "source": [
    "cat = ['job','marital','education','default','housing', 'loan', 'contact', 'month', 'poutcome']\n",
    "num = ['age', 'balance', 'day', 'duration', 'campaign', 'pdays', 'previous']"
   ]
  },
  {
   "cell_type": "markdown",
   "metadata": {},
   "source": [
    "## Limpieza"
   ]
  },
  {
   "cell_type": "markdown",
   "metadata": {},
   "source": [
    "### Numéricas"
   ]
  },
  {
   "cell_type": "code",
   "execution_count": 8,
   "metadata": {
    "ExecuteTime": {
     "end_time": "2020-11-25T00:03:58.084723Z",
     "start_time": "2020-11-25T00:03:58.047096Z"
    }
   },
   "outputs": [],
   "source": [
    "## Función para omitir outliers mediante IQR\n",
    "def outlier(data, x, how):\n",
    "\n",
    "    var = data[x]\n",
    "    q1 = var.quantile(.25)\n",
    "    q3 = var.quantile(.75)\n",
    "    iqr = q3 - q1\n",
    "    \n",
    "    if how == 'max':\n",
    "        data = data[var <= q3 + 1.5*iqr].copy()\n",
    "        var = data[x]\n",
    "        print(var.hist())\n",
    "    elif how == 'min':\n",
    "        data = data[var >= q1 - 1.5*iqr].copy()\n",
    "        var = data[x]\n",
    "        print(var.hist())\n",
    "    elif how == 'both':\n",
    "        data = data[(var >= q1 - 1.5*iqr) & (var <= q3 + 1.5*iqr)].copy()\n",
    "        var = data[x]\n",
    "        print(var.hist())\n",
    "    else:\n",
    "        print('¿Cómo quieres acotar outliers? how = min/max/both')\n",
    "    \n",
    "    data.reset_index(drop = True, inplace = True)\n",
    "    global df\n",
    "    df = data.copy()"
   ]
  },
  {
   "cell_type": "code",
   "execution_count": 9,
   "metadata": {
    "ExecuteTime": {
     "end_time": "2020-11-25T00:03:59.981120Z",
     "start_time": "2020-11-25T00:03:58.096533Z"
    }
   },
   "outputs": [
    {
     "data": {
      "text/plain": [
       "array([[<AxesSubplot:title={'center':'age'}>,\n",
       "        <AxesSubplot:title={'center':'balance'}>,\n",
       "        <AxesSubplot:title={'center':'day'}>],\n",
       "       [<AxesSubplot:title={'center':'duration'}>,\n",
       "        <AxesSubplot:title={'center':'campaign'}>,\n",
       "        <AxesSubplot:title={'center':'pdays'}>],\n",
       "       [<AxesSubplot:title={'center':'previous'}>, <AxesSubplot:>,\n",
       "        <AxesSubplot:>]], dtype=object)"
      ]
     },
     "execution_count": 9,
     "metadata": {},
     "output_type": "execute_result"
    },
    {
     "data": {
      "image/png": "[encoded data removed]",
      "text/plain": [
       "<Figure size 432x288 with 9 Axes>"
      ]
     },
     "metadata": {
      "needs_background": "light"
     },
     "output_type": "display_data"
    }
   ],
   "source": [
    "df[num].hist()"
   ]
  },
  {
   "cell_type": "code",
   "execution_count": 10,
   "metadata": {
    "ExecuteTime": {
     "end_time": "2020-11-25T00:04:00.974924Z",
     "start_time": "2020-11-25T00:03:59.985773Z"
    }
   },
   "outputs": [
    {
     "name": "stdout",
     "output_type": "stream",
     "text": [
      "AxesSubplot(0.125,0.125;0.775x0.755)\n",
      "AxesSubplot(0.125,0.125;0.775x0.755)\n",
      "AxesSubplot(0.125,0.125;0.775x0.755)\n",
      "AxesSubplot(0.125,0.125;0.775x0.755)\n",
      "AxesSubplot(0.125,0.125;0.775x0.755)\n",
      "AxesSubplot(0.125,0.125;0.775x0.755)\n",
      "AxesSubplot(0.125,0.125;0.775x0.755)\n"
     ]
    },
    {
     "data": {
      "image/png": "[encoded data removed]",
      "text/plain": [
       "<Figure size 432x288 with 1 Axes>"
      ]
     },
     "metadata": {
      "needs_background": "light"
     },
     "output_type": "display_data"
    }
   ],
   "source": [
    "for col in num:\n",
    "    outlier(df,col, how = 'both')"
   ]
  },
  {
   "cell_type": "code",
   "execution_count": 11,
   "metadata": {
    "ExecuteTime": {
     "end_time": "2020-11-25T00:04:01.004466Z",
     "start_time": "2020-11-25T00:04:00.979464Z"
    }
   },
   "outputs": [
    {
     "data": {
      "text/plain": [
       "pdays  previous\n",
       "-1     0           28069\n",
       "dtype: int64"
      ]
     },
     "execution_count": 11,
     "metadata": {},
     "output_type": "execute_result"
    }
   ],
   "source": [
    "## No parece que estas columnas aporten al conjunto de datos\n",
    "df[['pdays', 'previous']].value_counts()"
   ]
  },
  {
   "cell_type": "code",
   "execution_count": 12,
   "metadata": {
    "ExecuteTime": {
     "end_time": "2020-11-25T00:04:01.030783Z",
     "start_time": "2020-11-25T00:04:01.012467Z"
    }
   },
   "outputs": [
    {
     "data": {
      "text/plain": [
       "['age', 'balance', 'day', 'duration', 'campaign']"
      ]
     },
     "execution_count": 12,
     "metadata": {},
     "output_type": "execute_result"
    }
   ],
   "source": [
    "## Se omiten dentro del conjunto de variables continuas\n",
    "num = [x for x in num if x not in ['pdays', 'previous']]\n",
    "num"
   ]
  },
  {
   "cell_type": "markdown",
   "metadata": {},
   "source": [
    "### Categóricas"
   ]
  },
  {
   "cell_type": "code",
   "execution_count": 13,
   "metadata": {
    "ExecuteTime": {
     "end_time": "2020-11-25T00:04:01.101366Z",
     "start_time": "2020-11-25T00:04:01.038283Z"
    }
   },
   "outputs": [
    {
     "data": {
      "text/plain": [
       "blue-collar      0.225729\n",
       "management       0.198582\n",
       "technician       0.170295\n",
       "admin.           0.115857\n",
       "services         0.097510\n",
       "retired          0.040472\n",
       "entrepreneur     0.034273\n",
       "self-employed    0.033916\n",
       "unemployed       0.029142\n",
       "housemaid        0.029107\n",
       "student          0.018918\n",
       "unknown          0.006199\n",
       "Name: job, dtype: float64"
      ]
     },
     "execution_count": 13,
     "metadata": {},
     "output_type": "execute_result"
    }
   ],
   "source": [
    "## La variable de trabajo tiene bajo % desconocido, cuenta como valor ausente\n",
    "df['job'].value_counts(1)"
   ]
  },
  {
   "cell_type": "code",
   "execution_count": 14,
   "metadata": {
    "ExecuteTime": {
     "end_time": "2020-11-25T00:04:01.160953Z",
     "start_time": "2020-11-25T00:04:01.107721Z"
    }
   },
   "outputs": [
    {
     "data": {
      "text/plain": [
       "blue-collar      0.227137\n",
       "management       0.199821\n",
       "technician       0.171357\n",
       "admin.           0.116580\n",
       "services         0.098118\n",
       "retired          0.040724\n",
       "entrepreneur     0.034486\n",
       "self-employed    0.034128\n",
       "unemployed       0.029324\n",
       "housemaid        0.029288\n",
       "student          0.019036\n",
       "Name: job, dtype: float64"
      ]
     },
     "execution_count": 14,
     "metadata": {},
     "output_type": "execute_result"
    }
   ],
   "source": [
    "## Se omite, no hay riesgo de mucha pérdida de info\n",
    "df['job'] = df['job'].replace('unknown', np.nan )\n",
    "df = df[~(df['job'].isnull())].copy()\n",
    "df.reset_index(drop = True, inplace = True)\n",
    "df['job'].value_counts(1, dropna = False)"
   ]
  },
  {
   "cell_type": "code",
   "execution_count": 15,
   "metadata": {
    "ExecuteTime": {
     "end_time": "2020-11-25T00:04:01.191428Z",
     "start_time": "2020-11-25T00:04:01.164416Z"
    }
   },
   "outputs": [
    {
     "data": {
      "text/plain": [
       "secondary    0.529952\n",
       "tertiary     0.277362\n",
       "primary      0.155870\n",
       "unknown      0.036817\n",
       "Name: education, dtype: float64"
      ]
     },
     "execution_count": 15,
     "metadata": {},
     "output_type": "execute_result"
    }
   ],
   "source": [
    "## Mismo caso para la variable de educación\n",
    "df['education'].value_counts(1, dropna = False)"
   ]
  },
  {
   "cell_type": "code",
   "execution_count": 16,
   "metadata": {
    "ExecuteTime": {
     "end_time": "2020-11-25T00:04:01.265090Z",
     "start_time": "2020-11-25T00:04:01.206333Z"
    }
   },
   "outputs": [
    {
     "data": {
      "text/plain": [
       "secondary    0.550208\n",
       "tertiary     0.287963\n",
       "primary      0.161828\n",
       "Name: education, dtype: float64"
      ]
     },
     "execution_count": 16,
     "metadata": {},
     "output_type": "execute_result"
    }
   ],
   "source": [
    "df['education'] = df['education'].replace('unknown', np.nan )\n",
    "df = df[~(df['education'].isnull())].copy()\n",
    "df.reset_index(drop = True, inplace = True)\n",
    "df['education'].value_counts(1, dropna = False)"
   ]
  },
  {
   "cell_type": "code",
   "execution_count": 17,
   "metadata": {
    "ExecuteTime": {
     "end_time": "2020-11-25T00:04:01.294734Z",
     "start_time": "2020-11-25T00:04:01.270006Z"
    }
   },
   "outputs": [
    {
     "data": {
      "text/plain": [
       "cellular     0.589177\n",
       "unknown      0.358828\n",
       "telephone    0.051995\n",
       "Name: contact, dtype: float64"
      ]
     },
     "execution_count": 17,
     "metadata": {},
     "output_type": "execute_result"
    }
   ],
   "source": [
    "## Por otro lado, no es recomendable remover el valor \"unknown\",\n",
    "## la falta de información también es información\n",
    "df['contact'].value_counts(1, dropna = False)"
   ]
  },
  {
   "cell_type": "code",
   "execution_count": 18,
   "metadata": {
    "ExecuteTime": {
     "end_time": "2020-11-25T00:04:01.317710Z",
     "start_time": "2020-11-25T00:04:01.298483Z"
    }
   },
   "outputs": [
    {
     "data": {
      "text/plain": [
       "unknown    1.0\n",
       "Name: poutcome, dtype: float64"
      ]
     },
     "execution_count": 18,
     "metadata": {},
     "output_type": "execute_result"
    }
   ],
   "source": [
    "## Otra variable que no aporta a nuestro conjunto de datos\n",
    "df['poutcome'].value_counts(1, dropna = False)"
   ]
  },
  {
   "cell_type": "code",
   "execution_count": 19,
   "metadata": {
    "ExecuteTime": {
     "end_time": "2020-11-25T00:04:01.337535Z",
     "start_time": "2020-11-25T00:04:01.323767Z"
    }
   },
   "outputs": [
    {
     "data": {
      "text/plain": [
       "['job',\n",
       " 'marital',\n",
       " 'education',\n",
       " 'default',\n",
       " 'housing',\n",
       " 'loan',\n",
       " 'contact',\n",
       " 'month']"
      ]
     },
     "execution_count": 19,
     "metadata": {},
     "output_type": "execute_result"
    }
   ],
   "source": [
    "## Se omite de nuestro conjunto de variables categóricas\n",
    "cat = [x for x in cat if x not in 'poutcome']\n",
    "cat"
   ]
  },
  {
   "cell_type": "code",
   "execution_count": 20,
   "metadata": {
    "ExecuteTime": {
     "end_time": "2020-11-25T00:04:01.357342Z",
     "start_time": "2020-11-25T00:04:01.345530Z"
    }
   },
   "outputs": [
    {
     "data": {
      "text/plain": [
       "0.594280153060096"
      ]
     },
     "execution_count": 20,
     "metadata": {},
     "output_type": "execute_result"
    }
   ],
   "source": [
    "## Después de la limpieza, contamos con casi el 60% de los datos :/\n",
    "df.shape[0] / dim_antes"
   ]
  },
  {
   "cell_type": "markdown",
   "metadata": {},
   "source": [
    "## WOE"
   ]
  },
  {
   "cell_type": "code",
   "execution_count": 21,
   "metadata": {
    "ExecuteTime": {
     "end_time": "2020-11-25T00:04:01.393172Z",
     "start_time": "2020-11-25T00:04:01.363582Z"
    }
   },
   "outputs": [
    {
     "data": {
      "text/plain": [
       "0    0.604771\n",
       "1    0.395229\n",
       "Name: OBJETIVO, dtype: float64"
      ]
     },
     "execution_count": 21,
     "metadata": {},
     "output_type": "execute_result"
    }
   ],
   "source": [
    "## Se crea una variable dicotómica para usar como objetivo\n",
    "df['OBJETIVO'] = (df['campaign'] == 1 )*1\n",
    "df['OBJETIVO'].value_counts(1)"
   ]
  },
  {
   "cell_type": "code",
   "execution_count": 22,
   "metadata": {
    "ExecuteTime": {
     "end_time": "2020-11-25T00:04:01.837471Z",
     "start_time": "2020-11-25T00:04:01.400254Z"
    }
   },
   "outputs": [
    {
     "data": {
      "text/plain": [
       "<AxesSubplot:>"
      ]
     },
     "execution_count": 22,
     "metadata": {},
     "output_type": "execute_result"
    },
    {
     "data": {
      "image/png": "[encoded data removed]",
      "text/plain": [
       "<Figure size 432x288 with 1 Axes>"
      ]
     },
     "metadata": {
      "needs_background": "light"
     },
     "output_type": "display_data"
    }
   ],
   "source": [
    "df['age'].hist()"
   ]
  },
  {
   "cell_type": "code",
   "execution_count": 23,
   "metadata": {
    "ExecuteTime": {
     "end_time": "2020-11-25T00:04:01.913243Z",
     "start_time": "2020-11-25T00:04:01.856296Z"
    }
   },
   "outputs": [
    {
     "data": {
      "text/html": [
       "<div>\n",
       "<style scoped>\n",
       "    .dataframe tbody tr th:only-of-type {\n",
       "        vertical-align: middle;\n",
       "    }\n",
       "\n",
       "    .dataframe tbody tr th {\n",
       "        vertical-align: top;\n",
       "    }\n",
       "\n",
       "    .dataframe thead th {\n",
       "        text-align: right;\n",
       "    }\n",
       "</style>\n",
       "<table border=\"1\" class=\"dataframe\">\n",
       "  <thead>\n",
       "    <tr style=\"text-align: right;\">\n",
       "      <th></th>\n",
       "      <th>index</th>\n",
       "      <th>age</th>\n",
       "    </tr>\n",
       "  </thead>\n",
       "  <tbody>\n",
       "    <tr>\n",
       "      <th>1</th>\n",
       "      <td>(17.999, 32.0]</td>\n",
       "      <td>0.259119</td>\n",
       "    </tr>\n",
       "    <tr>\n",
       "      <th>0</th>\n",
       "      <td>(32.0, 39.0]</td>\n",
       "      <td>0.272369</td>\n",
       "    </tr>\n",
       "    <tr>\n",
       "      <th>2</th>\n",
       "      <td>(39.0, 48.0]</td>\n",
       "      <td>0.237829</td>\n",
       "    </tr>\n",
       "    <tr>\n",
       "      <th>3</th>\n",
       "      <td>(48.0, 70.0]</td>\n",
       "      <td>0.230683</td>\n",
       "    </tr>\n",
       "  </tbody>\n",
       "</table>\n",
       "</div>"
      ],
      "text/plain": [
       "            index       age\n",
       "1  (17.999, 32.0]  0.259119\n",
       "0    (32.0, 39.0]  0.272369\n",
       "2    (39.0, 48.0]  0.237829\n",
       "3    (48.0, 70.0]  0.230683"
      ]
     },
     "execution_count": 23,
     "metadata": {},
     "output_type": "execute_result"
    }
   ],
   "source": [
    "pd.qcut(df['age'], q = 4).value_counts(1).reset_index().sort_values(by = 'index')"
   ]
  },
  {
   "cell_type": "code",
   "execution_count": 24,
   "metadata": {
    "ExecuteTime": {
     "end_time": "2020-11-25T00:04:01.973241Z",
     "start_time": "2020-11-25T00:04:01.941982Z"
    }
   },
   "outputs": [
    {
     "data": {
      "text/plain": [
       "2"
      ]
     },
     "execution_count": 24,
     "metadata": {},
     "output_type": "execute_result"
    }
   ],
   "source": [
    "len(pd.qcut(df['age'], q = 4, retbins = True))"
   ]
  },
  {
   "cell_type": "code",
   "execution_count": 25,
   "metadata": {
    "ExecuteTime": {
     "end_time": "2020-11-25T00:04:02.007277Z",
     "start_time": "2020-11-25T00:04:01.982451Z"
    }
   },
   "outputs": [
    {
     "data": {
      "text/plain": [
       "array([18., 32., 39., 48., 70.])"
      ]
     },
     "execution_count": 25,
     "metadata": {},
     "output_type": "execute_result"
    }
   ],
   "source": [
    "pd.qcut(df['age'], q = 4, retbins = True)[1]"
   ]
  },
  {
   "cell_type": "code",
   "execution_count": 26,
   "metadata": {
    "ExecuteTime": {
     "end_time": "2020-11-25T00:04:03.940674Z",
     "start_time": "2020-11-25T00:04:02.028168Z"
    }
   },
   "outputs": [
    {
     "name": "stderr",
     "output_type": "stream",
     "text": [
      "<ipython-input-26-124a16b076d2>:14: SettingWithCopyWarning: \n",
      "A value is trying to be set on a copy of a slice from a DataFrame.\n",
      "Try using .loc[row_indexer,col_indexer] = value instead\n",
      "\n",
      "See the caveats in the documentation: https://pandas.pydata.org/pandas-docs/stable/user_guide/indexing.html#returning-a-view-versus-a-copy\n",
      "  X_train[f'{col}_cut'] , bines = pd.qcut(X_train[f'{col}'],\n",
      "<ipython-input-26-124a16b076d2>:19: SettingWithCopyWarning: \n",
      "A value is trying to be set on a copy of a slice from a DataFrame.\n",
      "Try using .loc[row_indexer,col_indexer] = value instead\n",
      "\n",
      "See the caveats in the documentation: https://pandas.pydata.org/pandas-docs/stable/user_guide/indexing.html#returning-a-view-versus-a-copy\n",
      "  X_train[f'{col}_cut'] = X_train[f'{col}_cut'].astype(str)\n",
      "<ipython-input-26-124a16b076d2>:22: SettingWithCopyWarning: \n",
      "A value is trying to be set on a copy of a slice from a DataFrame.\n",
      "Try using .loc[row_indexer,col_indexer] = value instead\n",
      "\n",
      "See the caveats in the documentation: https://pandas.pydata.org/pandas-docs/stable/user_guide/indexing.html#returning-a-view-versus-a-copy\n",
      "  X_test[f'{col}_cut'] = pd.cut(X_test[f'{col}'],\n",
      "<ipython-input-26-124a16b076d2>:14: SettingWithCopyWarning: \n",
      "A value is trying to be set on a copy of a slice from a DataFrame.\n",
      "Try using .loc[row_indexer,col_indexer] = value instead\n",
      "\n",
      "See the caveats in the documentation: https://pandas.pydata.org/pandas-docs/stable/user_guide/indexing.html#returning-a-view-versus-a-copy\n",
      "  X_train[f'{col}_cut'] , bines = pd.qcut(X_train[f'{col}'],\n",
      "<ipython-input-26-124a16b076d2>:19: SettingWithCopyWarning: \n",
      "A value is trying to be set on a copy of a slice from a DataFrame.\n",
      "Try using .loc[row_indexer,col_indexer] = value instead\n",
      "\n",
      "See the caveats in the documentation: https://pandas.pydata.org/pandas-docs/stable/user_guide/indexing.html#returning-a-view-versus-a-copy\n",
      "  X_train[f'{col}_cut'] = X_train[f'{col}_cut'].astype(str)\n",
      "<ipython-input-26-124a16b076d2>:22: SettingWithCopyWarning: \n",
      "A value is trying to be set on a copy of a slice from a DataFrame.\n",
      "Try using .loc[row_indexer,col_indexer] = value instead\n",
      "\n",
      "See the caveats in the documentation: https://pandas.pydata.org/pandas-docs/stable/user_guide/indexing.html#returning-a-view-versus-a-copy\n",
      "  X_test[f'{col}_cut'] = pd.cut(X_test[f'{col}'],\n",
      "<ipython-input-26-124a16b076d2>:14: SettingWithCopyWarning: \n",
      "A value is trying to be set on a copy of a slice from a DataFrame.\n",
      "Try using .loc[row_indexer,col_indexer] = value instead\n",
      "\n",
      "See the caveats in the documentation: https://pandas.pydata.org/pandas-docs/stable/user_guide/indexing.html#returning-a-view-versus-a-copy\n",
      "  X_train[f'{col}_cut'] , bines = pd.qcut(X_train[f'{col}'],\n",
      "<ipython-input-26-124a16b076d2>:19: SettingWithCopyWarning: \n",
      "A value is trying to be set on a copy of a slice from a DataFrame.\n",
      "Try using .loc[row_indexer,col_indexer] = value instead\n",
      "\n",
      "See the caveats in the documentation: https://pandas.pydata.org/pandas-docs/stable/user_guide/indexing.html#returning-a-view-versus-a-copy\n",
      "  X_train[f'{col}_cut'] = X_train[f'{col}_cut'].astype(str)\n",
      "<ipython-input-26-124a16b076d2>:22: SettingWithCopyWarning: \n",
      "A value is trying to be set on a copy of a slice from a DataFrame.\n",
      "Try using .loc[row_indexer,col_indexer] = value instead\n",
      "\n",
      "See the caveats in the documentation: https://pandas.pydata.org/pandas-docs/stable/user_guide/indexing.html#returning-a-view-versus-a-copy\n",
      "  X_test[f'{col}_cut'] = pd.cut(X_test[f'{col}'],\n"
     ]
    }
   ],
   "source": [
    "## Guardar variables continuas y categóricas en listas\n",
    "num = ['age', 'balance', 'duration']\n",
    "cat = ['job','marital','education']\n",
    "\n",
    "## Se separa el conjunto de entrenamiento y prueba\n",
    "X = df[cat + num]\n",
    "y = df['OBJETIVO']\n",
    "\n",
    "from sklearn.model_selection import train_test_split\n",
    "X_train, X_test, y_train, y_test = train_test_split(X, y, test_size = 0.3)\n",
    "\n",
    "## Se discretizan las variables numéricas en train, se vuelven rangos (por percentil)\n",
    "for col in num:\n",
    "    X_train[f'{col}_cut'] , bines = pd.qcut(X_train[f'{col}'],\n",
    "                                           q = 4, # el 4 significa que cada corte tendrá el 25% de los registros\n",
    "                                           retbins = True, ## se guardan los cortes para aplicar a test\n",
    "                                           duplicates = 'drop')\n",
    "    \n",
    "    X_train[f'{col}_cut'] = X_train[f'{col}_cut'].astype(str)\n",
    "    \n",
    "    ## Se aplican los bines de train a test\n",
    "    X_test[f'{col}_cut'] = pd.cut(X_test[f'{col}'],\n",
    "                                  bins = bines).astype(str)\n",
    "\n",
    "## Se reemplazan los missings\n",
    "X_train = X_train.replace(np.nan, \"Missings\")\n",
    "X_test = X_test.replace({np.nan:\"Missings\",'nan':\"Missings\"})"
   ]
  },
  {
   "cell_type": "code",
   "execution_count": 27,
   "metadata": {
    "ExecuteTime": {
     "end_time": "2020-11-25T00:04:04.040061Z",
     "start_time": "2020-11-25T00:04:03.945150Z"
    }
   },
   "outputs": [
    {
     "data": {
      "text/html": [
       "<div>\n",
       "<style scoped>\n",
       "    .dataframe tbody tr th:only-of-type {\n",
       "        vertical-align: middle;\n",
       "    }\n",
       "\n",
       "    .dataframe tbody tr th {\n",
       "        vertical-align: top;\n",
       "    }\n",
       "\n",
       "    .dataframe thead th {\n",
       "        text-align: right;\n",
       "    }\n",
       "</style>\n",
       "<table border=\"1\" class=\"dataframe\">\n",
       "  <thead>\n",
       "    <tr style=\"text-align: right;\">\n",
       "      <th></th>\n",
       "      <th>index</th>\n",
       "      <th>age_cut</th>\n",
       "    </tr>\n",
       "  </thead>\n",
       "  <tbody>\n",
       "    <tr>\n",
       "      <th>1</th>\n",
       "      <td>(17.999, 32.0]</td>\n",
       "      <td>0.260754</td>\n",
       "    </tr>\n",
       "    <tr>\n",
       "      <th>2</th>\n",
       "      <td>(32.0, 38.0]</td>\n",
       "      <td>0.240230</td>\n",
       "    </tr>\n",
       "    <tr>\n",
       "      <th>0</th>\n",
       "      <td>(38.0, 48.0]</td>\n",
       "      <td>0.268570</td>\n",
       "    </tr>\n",
       "    <tr>\n",
       "      <th>3</th>\n",
       "      <td>(48.0, 70.0]</td>\n",
       "      <td>0.230446</td>\n",
       "    </tr>\n",
       "  </tbody>\n",
       "</table>\n",
       "</div>"
      ],
      "text/plain": [
       "            index   age_cut\n",
       "1  (17.999, 32.0]  0.260754\n",
       "2    (32.0, 38.0]  0.240230\n",
       "0    (38.0, 48.0]  0.268570\n",
       "3    (48.0, 70.0]  0.230446"
      ]
     },
     "metadata": {},
     "output_type": "display_data"
    },
    {
     "data": {
      "text/html": [
       "<div>\n",
       "<style scoped>\n",
       "    .dataframe tbody tr th:only-of-type {\n",
       "        vertical-align: middle;\n",
       "    }\n",
       "\n",
       "    .dataframe tbody tr th {\n",
       "        vertical-align: top;\n",
       "    }\n",
       "\n",
       "    .dataframe thead th {\n",
       "        text-align: right;\n",
       "    }\n",
       "</style>\n",
       "<table border=\"1\" class=\"dataframe\">\n",
       "  <thead>\n",
       "    <tr style=\"text-align: right;\">\n",
       "      <th></th>\n",
       "      <th>index</th>\n",
       "      <th>age_cut</th>\n",
       "    </tr>\n",
       "  </thead>\n",
       "  <tbody>\n",
       "    <tr>\n",
       "      <th>1</th>\n",
       "      <td>(18.0, 32.0]</td>\n",
       "      <td>0.255179</td>\n",
       "    </tr>\n",
       "    <tr>\n",
       "      <th>2</th>\n",
       "      <td>(32.0, 38.0]</td>\n",
       "      <td>0.236943</td>\n",
       "    </tr>\n",
       "    <tr>\n",
       "      <th>0</th>\n",
       "      <td>(38.0, 48.0]</td>\n",
       "      <td>0.276517</td>\n",
       "    </tr>\n",
       "    <tr>\n",
       "      <th>3</th>\n",
       "      <td>(48.0, 70.0]</td>\n",
       "      <td>0.231237</td>\n",
       "    </tr>\n",
       "    <tr>\n",
       "      <th>4</th>\n",
       "      <td>Missings</td>\n",
       "      <td>0.000124</td>\n",
       "    </tr>\n",
       "  </tbody>\n",
       "</table>\n",
       "</div>"
      ],
      "text/plain": [
       "          index   age_cut\n",
       "1  (18.0, 32.0]  0.255179\n",
       "2  (32.0, 38.0]  0.236943\n",
       "0  (38.0, 48.0]  0.276517\n",
       "3  (48.0, 70.0]  0.231237\n",
       "4      Missings  0.000124"
      ]
     },
     "execution_count": 27,
     "metadata": {},
     "output_type": "execute_result"
    }
   ],
   "source": [
    "## COMENTARIO\n",
    "display(X_train['age_cut'].value_counts(1).reset_index().sort_values(by = 'index'))\n",
    "X_test['age_cut'].value_counts(1).reset_index().sort_values(by = 'index')"
   ]
  },
  {
   "cell_type": "code",
   "execution_count": 28,
   "metadata": {
    "ExecuteTime": {
     "end_time": "2020-11-25T00:04:04.132460Z",
     "start_time": "2020-11-25T00:04:04.045140Z"
    }
   },
   "outputs": [
    {
     "data": {
      "text/html": [
       "<div>\n",
       "<style scoped>\n",
       "    .dataframe tbody tr th:only-of-type {\n",
       "        vertical-align: middle;\n",
       "    }\n",
       "\n",
       "    .dataframe tbody tr th {\n",
       "        vertical-align: top;\n",
       "    }\n",
       "\n",
       "    .dataframe thead th {\n",
       "        text-align: right;\n",
       "    }\n",
       "</style>\n",
       "<table border=\"1\" class=\"dataframe\">\n",
       "  <thead>\n",
       "    <tr style=\"text-align: right;\">\n",
       "      <th></th>\n",
       "      <th>job</th>\n",
       "      <th>marital</th>\n",
       "      <th>education</th>\n",
       "      <th>age</th>\n",
       "      <th>balance</th>\n",
       "      <th>duration</th>\n",
       "      <th>age_cut</th>\n",
       "      <th>balance_cut</th>\n",
       "      <th>duration_cut</th>\n",
       "    </tr>\n",
       "  </thead>\n",
       "  <tbody>\n",
       "    <tr>\n",
       "      <th>25710</th>\n",
       "      <td>student</td>\n",
       "      <td>single</td>\n",
       "      <td>primary</td>\n",
       "      <td>18</td>\n",
       "      <td>608</td>\n",
       "      <td>267</td>\n",
       "      <td>Missings</td>\n",
       "      <td>(309.0, 901.0]</td>\n",
       "      <td>(168.0, 275.0]</td>\n",
       "    </tr>\n",
       "  </tbody>\n",
       "</table>\n",
       "</div>"
      ],
      "text/plain": [
       "           job marital education  age  balance  duration   age_cut  \\\n",
       "25710  student  single   primary   18      608       267  Missings   \n",
       "\n",
       "          balance_cut    duration_cut  \n",
       "25710  (309.0, 901.0]  (168.0, 275.0]  "
      ]
     },
     "execution_count": 28,
     "metadata": {},
     "output_type": "execute_result"
    }
   ],
   "source": [
    "## COMENTARIO\n",
    "X_test[X_test['age_cut'] == 'Missings']"
   ]
  },
  {
   "cell_type": "code",
   "execution_count": 29,
   "metadata": {
    "ExecuteTime": {
     "end_time": "2020-11-25T00:04:04.176263Z",
     "start_time": "2020-11-25T00:04:04.144198Z"
    }
   },
   "outputs": [],
   "source": [
    "def woe(obj, df, var):\n",
    "    obj = obj #se instancia dentro de la función para que el siguiente bucle la tome en cuenta\n",
    "    woe_dict = {} #se crea un diccionario vacío\n",
    "    iv_fin = {}\n",
    "    for x in var:\n",
    "        aux = df[[x, obj]].copy() #nos interesa evaluar cada variable vs nuestra variable objetivo\n",
    "        aux['n'] = 1 #columna de apoyo para hacer la suma\n",
    "\n",
    "        ## Se transforma la estructura de la tabla:\n",
    "        aux = aux.pivot_table(columns = obj, #teniendo las opciones de nuestra variable objetivo como columnas\n",
    "                              index = x, #y las categorías (rangos para las numéricas) como renglones\n",
    "                              values = 'n', #el contador por categoría vs resultado de la variable objetivo\n",
    "                              aggfunc = 'sum',\n",
    "                              fill_value = 0).copy() #llenar los vacíos con ceros\n",
    "\n",
    "        aux['no_ev'] = aux[0] / aux[0].sum() #divide cada renglón entre el total para obtener la proba de no evento\n",
    "        aux['si_ev'] = aux[1] / aux[1].sum() #proba de sí evento\n",
    "        \n",
    "        aux['woe'] = np.log(aux['no_ev'] / aux['si_ev']) #se crea la columna de WOE (Weight Of Evidence)\n",
    "        \n",
    "        ## Se obtiene IV\n",
    "        aux['iv'] = aux['woe']*(aux['no_ev'] - aux['si_ev']) #se crea la columna individual de IV (Info Value)\n",
    "        iv_fin[x] = aux['iv'].sum() #y finalmente, suma la columna y la agrega al diccionario\n",
    "        \n",
    "        ## Nos quedamos con la columna woe y le cambiamos el nombre según la variable\n",
    "        aux = aux['woe'].reset_index().rename(columns={'woe': f'W_{x}'})\n",
    "\n",
    "        ## Actualizamos diccionario woe\n",
    "        woe_dict[x] = dict(zip(aux.iloc[:,0],aux.iloc[:,1]))\n",
    "        \n",
    "        ## crearemos nuevas columnas \"woe-izadas\"\n",
    "        df = df.merge(aux, on = x, how = 'left')\n",
    "    \n",
    "    return df, woe_dict, iv_fin"
   ]
  },
  {
   "cell_type": "code",
   "execution_count": 30,
   "metadata": {
    "ExecuteTime": {
     "end_time": "2020-11-25T00:04:05.076954Z",
     "start_time": "2020-11-25T00:04:04.181250Z"
    }
   },
   "outputs": [
    {
     "name": "stderr",
     "output_type": "stream",
     "text": [
      "/home/ef/Desktop/diplomadus/diplomadus/lib/python3.8/site-packages/pandas/core/series.py:726: RuntimeWarning: divide by zero encountered in log\n",
      "  result = getattr(ufunc, method)(*inputs, **kwargs)\n",
      "/home/ef/Desktop/diplomadus/diplomadus/lib/python3.8/site-packages/pandas/core/series.py:726: RuntimeWarning: divide by zero encountered in log\n",
      "  result = getattr(ufunc, method)(*inputs, **kwargs)\n"
     ]
    }
   ],
   "source": [
    "## Unimos X con y tanto en train como en test\n",
    "train = X_train.join(pd.DataFrame(y_train, columns = ['OBJETIVO']))\n",
    "test = X_test.join(pd.DataFrame(y_test, columns = ['OBJETIVO']))\n",
    "\n",
    "def examen(train, test, var):\n",
    "    train, dic_woe, iv = woe('OBJETIVO', train, var)\n",
    "    test = woe('OBJETIVO', test, var)[0]\n",
    "    return train, test, dic_woe, iv\n",
    "\n",
    "## Se agrupan las variables a evaluar: categóricas y numéricas discretizadas (cut)\n",
    "variables = cat + [col for col in X_train.columns if col.endswith('_cut')]\n",
    "\n",
    "## Se aplica la función\n",
    "X_train_woe, X_test_woe, woe_dic, iv = examen(train, test, variables)"
   ]
  },
  {
   "cell_type": "code",
   "execution_count": 31,
   "metadata": {
    "ExecuteTime": {
     "end_time": "2020-11-25T00:04:05.200333Z",
     "start_time": "2020-11-25T00:04:05.079371Z"
    }
   },
   "outputs": [
    {
     "data": {
      "text/html": [
       "<div>\n",
       "<style scoped>\n",
       "    .dataframe tbody tr th:only-of-type {\n",
       "        vertical-align: middle;\n",
       "    }\n",
       "\n",
       "    .dataframe tbody tr th {\n",
       "        vertical-align: top;\n",
       "    }\n",
       "\n",
       "    .dataframe thead th {\n",
       "        text-align: right;\n",
       "    }\n",
       "</style>\n",
       "<table border=\"1\" class=\"dataframe\">\n",
       "  <thead>\n",
       "    <tr style=\"text-align: right;\">\n",
       "      <th></th>\n",
       "      <th>job</th>\n",
       "      <th>marital</th>\n",
       "      <th>education</th>\n",
       "      <th>age</th>\n",
       "      <th>balance</th>\n",
       "      <th>duration</th>\n",
       "      <th>age_cut</th>\n",
       "      <th>balance_cut</th>\n",
       "      <th>duration_cut</th>\n",
       "      <th>OBJETIVO</th>\n",
       "      <th>W_job</th>\n",
       "      <th>W_marital</th>\n",
       "      <th>W_education</th>\n",
       "      <th>W_age_cut</th>\n",
       "      <th>W_balance_cut</th>\n",
       "      <th>W_duration_cut</th>\n",
       "    </tr>\n",
       "  </thead>\n",
       "  <tbody>\n",
       "    <tr>\n",
       "      <th>12876</th>\n",
       "      <td>blue-collar</td>\n",
       "      <td>married</td>\n",
       "      <td>secondary</td>\n",
       "      <td>40</td>\n",
       "      <td>617</td>\n",
       "      <td>257</td>\n",
       "      <td>(38.0, 48.0]</td>\n",
       "      <td>(309.0, 901.0]</td>\n",
       "      <td>(168.0, 275.0]</td>\n",
       "      <td>1</td>\n",
       "      <td>0.033908</td>\n",
       "      <td>0.083053</td>\n",
       "      <td>-0.034937</td>\n",
       "      <td>0.035259</td>\n",
       "      <td>0.004940</td>\n",
       "      <td>-0.061140</td>\n",
       "    </tr>\n",
       "    <tr>\n",
       "      <th>14099</th>\n",
       "      <td>management</td>\n",
       "      <td>single</td>\n",
       "      <td>secondary</td>\n",
       "      <td>27</td>\n",
       "      <td>116</td>\n",
       "      <td>138</td>\n",
       "      <td>(17.999, 32.0]</td>\n",
       "      <td>(29.0, 309.0]</td>\n",
       "      <td>(101.0, 168.0]</td>\n",
       "      <td>0</td>\n",
       "      <td>0.119955</td>\n",
       "      <td>-0.145524</td>\n",
       "      <td>-0.034937</td>\n",
       "      <td>-0.136163</td>\n",
       "      <td>-0.000218</td>\n",
       "      <td>0.039265</td>\n",
       "    </tr>\n",
       "    <tr>\n",
       "      <th>3514</th>\n",
       "      <td>management</td>\n",
       "      <td>married</td>\n",
       "      <td>secondary</td>\n",
       "      <td>35</td>\n",
       "      <td>97</td>\n",
       "      <td>135</td>\n",
       "      <td>(32.0, 38.0]</td>\n",
       "      <td>(29.0, 309.0]</td>\n",
       "      <td>(101.0, 168.0]</td>\n",
       "      <td>0</td>\n",
       "      <td>0.119955</td>\n",
       "      <td>0.083053</td>\n",
       "      <td>-0.034937</td>\n",
       "      <td>0.000889</td>\n",
       "      <td>-0.000218</td>\n",
       "      <td>0.039265</td>\n",
       "    </tr>\n",
       "  </tbody>\n",
       "</table>\n",
       "</div>"
      ],
      "text/plain": [
       "               job  marital  education  age  balance  duration  \\\n",
       "12876  blue-collar  married  secondary   40      617       257   \n",
       "14099   management   single  secondary   27      116       138   \n",
       "3514    management  married  secondary   35       97       135   \n",
       "\n",
       "              age_cut     balance_cut    duration_cut  OBJETIVO     W_job  \\\n",
       "12876    (38.0, 48.0]  (309.0, 901.0]  (168.0, 275.0]         1  0.033908   \n",
       "14099  (17.999, 32.0]   (29.0, 309.0]  (101.0, 168.0]         0  0.119955   \n",
       "3514     (32.0, 38.0]   (29.0, 309.0]  (101.0, 168.0]         0  0.119955   \n",
       "\n",
       "       W_marital  W_education  W_age_cut  W_balance_cut  W_duration_cut  \n",
       "12876   0.083053    -0.034937   0.035259       0.004940       -0.061140  \n",
       "14099  -0.145524    -0.034937  -0.136163      -0.000218        0.039265  \n",
       "3514    0.083053    -0.034937   0.000889      -0.000218        0.039265  "
      ]
     },
     "metadata": {},
     "output_type": "display_data"
    },
    {
     "data": {
      "text/html": [
       "<div>\n",
       "<style scoped>\n",
       "    .dataframe tbody tr th:only-of-type {\n",
       "        vertical-align: middle;\n",
       "    }\n",
       "\n",
       "    .dataframe tbody tr th {\n",
       "        vertical-align: top;\n",
       "    }\n",
       "\n",
       "    .dataframe thead th {\n",
       "        text-align: right;\n",
       "    }\n",
       "</style>\n",
       "<table border=\"1\" class=\"dataframe\">\n",
       "  <thead>\n",
       "    <tr style=\"text-align: right;\">\n",
       "      <th></th>\n",
       "      <th>job</th>\n",
       "      <th>marital</th>\n",
       "      <th>education</th>\n",
       "      <th>age</th>\n",
       "      <th>balance</th>\n",
       "      <th>duration</th>\n",
       "      <th>age_cut</th>\n",
       "      <th>balance_cut</th>\n",
       "      <th>duration_cut</th>\n",
       "      <th>OBJETIVO</th>\n",
       "      <th>W_job</th>\n",
       "      <th>W_marital</th>\n",
       "      <th>W_education</th>\n",
       "      <th>W_age_cut</th>\n",
       "      <th>W_balance_cut</th>\n",
       "      <th>W_duration_cut</th>\n",
       "    </tr>\n",
       "  </thead>\n",
       "  <tbody>\n",
       "    <tr>\n",
       "      <th>209</th>\n",
       "      <td>blue-collar</td>\n",
       "      <td>single</td>\n",
       "      <td>secondary</td>\n",
       "      <td>25</td>\n",
       "      <td>249</td>\n",
       "      <td>149</td>\n",
       "      <td>(18.0, 32.0]</td>\n",
       "      <td>(29.0, 309.0]</td>\n",
       "      <td>(101.0, 168.0]</td>\n",
       "      <td>0</td>\n",
       "      <td>-0.043317</td>\n",
       "      <td>-0.178874</td>\n",
       "      <td>-0.034405</td>\n",
       "      <td>-0.118138</td>\n",
       "      <td>0.001216</td>\n",
       "      <td>0.073160</td>\n",
       "    </tr>\n",
       "    <tr>\n",
       "      <th>1059</th>\n",
       "      <td>self-employed</td>\n",
       "      <td>married</td>\n",
       "      <td>secondary</td>\n",
       "      <td>31</td>\n",
       "      <td>0</td>\n",
       "      <td>36</td>\n",
       "      <td>(18.0, 32.0]</td>\n",
       "      <td>(-1854.0, 29.0]</td>\n",
       "      <td>(0.0, 101.0]</td>\n",
       "      <td>0</td>\n",
       "      <td>0.028186</td>\n",
       "      <td>0.097715</td>\n",
       "      <td>-0.034405</td>\n",
       "      <td>-0.118138</td>\n",
       "      <td>0.036184</td>\n",
       "      <td>0.049784</td>\n",
       "    </tr>\n",
       "    <tr>\n",
       "      <th>5507</th>\n",
       "      <td>self-employed</td>\n",
       "      <td>married</td>\n",
       "      <td>tertiary</td>\n",
       "      <td>49</td>\n",
       "      <td>99</td>\n",
       "      <td>83</td>\n",
       "      <td>(48.0, 70.0]</td>\n",
       "      <td>(29.0, 309.0]</td>\n",
       "      <td>(0.0, 101.0]</td>\n",
       "      <td>1</td>\n",
       "      <td>0.028186</td>\n",
       "      <td>0.097715</td>\n",
       "      <td>0.061863</td>\n",
       "      <td>0.018124</td>\n",
       "      <td>0.001216</td>\n",
       "      <td>0.049784</td>\n",
       "    </tr>\n",
       "  </tbody>\n",
       "</table>\n",
       "</div>"
      ],
      "text/plain": [
       "                job  marital  education  age  balance  duration       age_cut  \\\n",
       "209     blue-collar   single  secondary   25      249       149  (18.0, 32.0]   \n",
       "1059  self-employed  married  secondary   31        0        36  (18.0, 32.0]   \n",
       "5507  self-employed  married   tertiary   49       99        83  (48.0, 70.0]   \n",
       "\n",
       "          balance_cut    duration_cut  OBJETIVO     W_job  W_marital  \\\n",
       "209     (29.0, 309.0]  (101.0, 168.0]         0 -0.043317  -0.178874   \n",
       "1059  (-1854.0, 29.0]    (0.0, 101.0]         0  0.028186   0.097715   \n",
       "5507    (29.0, 309.0]    (0.0, 101.0]         1  0.028186   0.097715   \n",
       "\n",
       "      W_education  W_age_cut  W_balance_cut  W_duration_cut  \n",
       "209     -0.034405  -0.118138       0.001216        0.073160  \n",
       "1059    -0.034405  -0.118138       0.036184        0.049784  \n",
       "5507     0.061863   0.018124       0.001216        0.049784  "
      ]
     },
     "metadata": {},
     "output_type": "display_data"
    },
    {
     "data": {
      "text/plain": [
       "{'job': 0.02288695835257753,\n",
       " 'marital': 0.010606379957071716,\n",
       " 'education': 0.0015413946556486167,\n",
       " 'age_cut': 0.008266185956095105,\n",
       " 'balance_cut': 0.000563973183809606,\n",
       " 'duration_cut': 0.004706933165070633}"
      ]
     },
     "metadata": {},
     "output_type": "display_data"
    },
    {
     "data": {
      "text/plain": [
       "{'job': {'admin.': -0.22647827660614162,\n",
       "  'blue-collar': 0.033907917032108464,\n",
       "  'entrepreneur': -0.13748530329327016,\n",
       "  'housemaid': 0.12787386439091966,\n",
       "  'management': 0.11995469707833584,\n",
       "  'retired': -0.12489045465095437,\n",
       "  'self-employed': 0.04902201009178894,\n",
       "  'services': -0.15039904129330223,\n",
       "  'student': -0.3386052848094835,\n",
       "  'technician': 0.17376611925259614,\n",
       "  'unemployed': -0.28535775893795995},\n",
       " 'marital': {'divorced': -0.06329856365739954,\n",
       "  'married': 0.08305265141022078,\n",
       "  'single': -0.14552363161068885},\n",
       " 'education': {'primary': 0.031113152523526928,\n",
       "  'secondary': -0.0349367265565438,\n",
       "  'tertiary': 0.04978581827199334},\n",
       " 'age_cut': {'(17.999, 32.0]': -0.1361625850872005,\n",
       "  '(32.0, 38.0]': 0.0008890509847918049,\n",
       "  '(38.0, 48.0]': 0.035259399496319795,\n",
       "  '(48.0, 70.0]': 0.11556999602529434},\n",
       " 'balance_cut': {'(-1854.001, 29.0]': 0.03099368042526952,\n",
       "  '(29.0, 309.0]': -0.00021807745083460677,\n",
       "  '(309.0, 901.0]': 0.0049396702091410605,\n",
       "  '(901.0, 3412.0]': -0.03560376382418903},\n",
       " 'duration_cut': {'(-0.001, 101.0]': 0.0929633092145453,\n",
       "  '(101.0, 168.0]': 0.03926534483513855,\n",
       "  '(168.0, 275.0]': -0.061140127158491056,\n",
       "  '(275.0, 634.0]': -0.07030745872765529}}"
      ]
     },
     "execution_count": 31,
     "metadata": {},
     "output_type": "execute_result"
    }
   ],
   "source": [
    "display(X_train_woe.sample(3))\n",
    "display(X_test_woe.sample(3))\n",
    "display(iv)\n",
    "woe_dic"
   ]
  }
 ],
 "metadata": {
  "kernelspec": {
   "display_name": "Python 3",
   "language": "python",
   "name": "python3"
  },
  "language_info": {
   "codemirror_mode": {
    "name": "ipython",
    "version": 3
   },
   "file_extension": ".py",
   "mimetype": "text/x-python",
   "name": "python",
   "nbconvert_exporter": "python",
   "pygments_lexer": "ipython3",
   "version": "3.8.5"
  },
  "toc": {
   "base_numbering": 1,
   "nav_menu": {},
   "number_sections": true,
   "sideBar": true,
   "skip_h1_title": true,
   "title_cell": "Table of Contents",
   "title_sidebar": "Contents",
   "toc_cell": false,
   "toc_position": {
    "height": "calc(100% - 180px)",
    "left": "10px",
    "top": "150px",
    "width": "410.66px"
   },
   "toc_section_display": true,
   "toc_window_display": true
  },
  "varInspector": {
   "cols": {
    "lenName": 16,
    "lenType": 16,
    "lenVar": 40
   },
   "kernels_config": {
    "python": {
     "delete_cmd_postfix": "",
     "delete_cmd_prefix": "del ",
     "library": "var_list.py",
     "varRefreshCmd": "print(var_dic_list())"
    },
    "r": {
     "delete_cmd_postfix": ") ",
     "delete_cmd_prefix": "rm(",
     "library": "var_list.r",
     "varRefreshCmd": "cat(var_dic_list()) "
    }
   },
   "types_to_exclude": [
    "module",
    "function",
    "builtin_function_or_method",
    "instance",
    "_Feature"
   ],
   "window_display": false
  }
 },
 "nbformat": 4,
 "nbformat_minor": 4
}
