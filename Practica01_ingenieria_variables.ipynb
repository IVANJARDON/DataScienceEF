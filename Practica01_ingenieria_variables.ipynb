{
 "cells": [
  {
   "cell_type": "code",
   "execution_count": 1,
   "metadata": {},
   "outputs": [],
   "source": [
    "import pandas as pd\n",
    "import numpy as np\n",
    "import missingno as msno \n",
    "import matplotlib.pyplot as plt\n",
    "%matplotlib inline\n",
    "pd.set_option('display.max_columns',100)"
   ]
  },
  {
   "cell_type": "code",
   "execution_count": 3,
   "metadata": {},
   "outputs": [],
   "source": [
    "data = pd.read_csv('/home/ef/Downloads/avocado.csv')"
   ]
  },
  {
   "cell_type": "code",
   "execution_count": 4,
   "metadata": {},
   "outputs": [
    {
     "data": {
      "text/html": [
       "<div>\n",
       "<style scoped>\n",
       "    .dataframe tbody tr th:only-of-type {\n",
       "        vertical-align: middle;\n",
       "    }\n",
       "\n",
       "    .dataframe tbody tr th {\n",
       "        vertical-align: top;\n",
       "    }\n",
       "\n",
       "    .dataframe thead th {\n",
       "        text-align: right;\n",
       "    }\n",
       "</style>\n",
       "<table border=\"1\" class=\"dataframe\">\n",
       "  <thead>\n",
       "    <tr style=\"text-align: right;\">\n",
       "      <th></th>\n",
       "      <th>Unnamed: 0</th>\n",
       "      <th>Date</th>\n",
       "      <th>AveragePrice</th>\n",
       "      <th>Total Volume</th>\n",
       "      <th>4046</th>\n",
       "      <th>4225</th>\n",
       "      <th>4770</th>\n",
       "      <th>Total Bags</th>\n",
       "      <th>Small Bags</th>\n",
       "      <th>Large Bags</th>\n",
       "      <th>XLarge Bags</th>\n",
       "      <th>type</th>\n",
       "      <th>year</th>\n",
       "      <th>region</th>\n",
       "    </tr>\n",
       "  </thead>\n",
       "  <tbody>\n",
       "    <tr>\n",
       "      <th>0</th>\n",
       "      <td>0</td>\n",
       "      <td>2015-12-27</td>\n",
       "      <td>1.33</td>\n",
       "      <td>64236.62</td>\n",
       "      <td>1036.74</td>\n",
       "      <td>54454.85</td>\n",
       "      <td>48.16</td>\n",
       "      <td>8696.87</td>\n",
       "      <td>8603.62</td>\n",
       "      <td>93.25</td>\n",
       "      <td>0.0</td>\n",
       "      <td>conventional</td>\n",
       "      <td>2015</td>\n",
       "      <td>Albany</td>\n",
       "    </tr>\n",
       "    <tr>\n",
       "      <th>1</th>\n",
       "      <td>1</td>\n",
       "      <td>2015-12-20</td>\n",
       "      <td>1.35</td>\n",
       "      <td>54876.98</td>\n",
       "      <td>674.28</td>\n",
       "      <td>44638.81</td>\n",
       "      <td>58.33</td>\n",
       "      <td>9505.56</td>\n",
       "      <td>9408.07</td>\n",
       "      <td>97.49</td>\n",
       "      <td>0.0</td>\n",
       "      <td>conventional</td>\n",
       "      <td>2015</td>\n",
       "      <td>Albany</td>\n",
       "    </tr>\n",
       "    <tr>\n",
       "      <th>2</th>\n",
       "      <td>2</td>\n",
       "      <td>2015-12-13</td>\n",
       "      <td>0.93</td>\n",
       "      <td>118220.22</td>\n",
       "      <td>794.70</td>\n",
       "      <td>109149.67</td>\n",
       "      <td>130.50</td>\n",
       "      <td>8145.35</td>\n",
       "      <td>8042.21</td>\n",
       "      <td>103.14</td>\n",
       "      <td>0.0</td>\n",
       "      <td>conventional</td>\n",
       "      <td>2015</td>\n",
       "      <td>Albany</td>\n",
       "    </tr>\n",
       "    <tr>\n",
       "      <th>3</th>\n",
       "      <td>3</td>\n",
       "      <td>2015-12-06</td>\n",
       "      <td>1.08</td>\n",
       "      <td>78992.15</td>\n",
       "      <td>1132.00</td>\n",
       "      <td>71976.41</td>\n",
       "      <td>72.58</td>\n",
       "      <td>5811.16</td>\n",
       "      <td>5677.40</td>\n",
       "      <td>133.76</td>\n",
       "      <td>0.0</td>\n",
       "      <td>conventional</td>\n",
       "      <td>2015</td>\n",
       "      <td>Albany</td>\n",
       "    </tr>\n",
       "    <tr>\n",
       "      <th>4</th>\n",
       "      <td>4</td>\n",
       "      <td>2015-11-29</td>\n",
       "      <td>1.28</td>\n",
       "      <td>51039.60</td>\n",
       "      <td>941.48</td>\n",
       "      <td>43838.39</td>\n",
       "      <td>75.78</td>\n",
       "      <td>6183.95</td>\n",
       "      <td>5986.26</td>\n",
       "      <td>197.69</td>\n",
       "      <td>0.0</td>\n",
       "      <td>conventional</td>\n",
       "      <td>2015</td>\n",
       "      <td>Albany</td>\n",
       "    </tr>\n",
       "  </tbody>\n",
       "</table>\n",
       "</div>"
      ],
      "text/plain": [
       "   Unnamed: 0        Date  AveragePrice  Total Volume     4046       4225  \\\n",
       "0           0  2015-12-27          1.33      64236.62  1036.74   54454.85   \n",
       "1           1  2015-12-20          1.35      54876.98   674.28   44638.81   \n",
       "2           2  2015-12-13          0.93     118220.22   794.70  109149.67   \n",
       "3           3  2015-12-06          1.08      78992.15  1132.00   71976.41   \n",
       "4           4  2015-11-29          1.28      51039.60   941.48   43838.39   \n",
       "\n",
       "     4770  Total Bags  Small Bags  Large Bags  XLarge Bags          type  \\\n",
       "0   48.16     8696.87     8603.62       93.25          0.0  conventional   \n",
       "1   58.33     9505.56     9408.07       97.49          0.0  conventional   \n",
       "2  130.50     8145.35     8042.21      103.14          0.0  conventional   \n",
       "3   72.58     5811.16     5677.40      133.76          0.0  conventional   \n",
       "4   75.78     6183.95     5986.26      197.69          0.0  conventional   \n",
       "\n",
       "   year  region  \n",
       "0  2015  Albany  \n",
       "1  2015  Albany  \n",
       "2  2015  Albany  \n",
       "3  2015  Albany  \n",
       "4  2015  Albany  "
      ]
     },
     "execution_count": 4,
     "metadata": {},
     "output_type": "execute_result"
    }
   ],
   "source": [
    "data.head()"
   ]
  },
  {
   "cell_type": "code",
   "execution_count": 5,
   "metadata": {},
   "outputs": [
    {
     "data": {
      "text/plain": [
       "(18249, 14)"
      ]
     },
     "execution_count": 5,
     "metadata": {},
     "output_type": "execute_result"
    }
   ],
   "source": [
    "#Dimensión del df\n",
    "data.shape"
   ]
  },
  {
   "cell_type": "code",
   "execution_count": null,
   "metadata": {},
   "outputs": [],
   "source": [
    "#CALIDAD DE DATOS"
   ]
  },
  {
   "cell_type": "code",
   "execution_count": 7,
   "metadata": {},
   "outputs": [],
   "source": [
    "#Renombrar columnas\n",
    "data.rename(columns={'Unnamed: 0':'ID'},inplace=True)"
   ]
  },
  {
   "cell_type": "code",
   "execution_count": 8,
   "metadata": {},
   "outputs": [
    {
     "name": "stdout",
     "output_type": "stream",
     "text": [
      "<class 'pandas.core.frame.DataFrame'>\n",
      "RangeIndex: 18249 entries, 0 to 18248\n",
      "Data columns (total 14 columns):\n",
      " #   Column        Non-Null Count  Dtype  \n",
      "---  ------        --------------  -----  \n",
      " 0   ID            18249 non-null  int64  \n",
      " 1   Date          18249 non-null  object \n",
      " 2   AveragePrice  18249 non-null  float64\n",
      " 3   Total Volume  18249 non-null  float64\n",
      " 4   4046          18249 non-null  float64\n",
      " 5   4225          18249 non-null  float64\n",
      " 6   4770          18249 non-null  float64\n",
      " 7   Total Bags    18249 non-null  float64\n",
      " 8   Small Bags    18249 non-null  float64\n",
      " 9   Large Bags    18249 non-null  float64\n",
      " 10  XLarge Bags   18249 non-null  float64\n",
      " 11  type          18249 non-null  object \n",
      " 12  year          18249 non-null  int64  \n",
      " 13  region        18249 non-null  object \n",
      "dtypes: float64(9), int64(2), object(3)\n",
      "memory usage: 1.9+ MB\n"
     ]
    }
   ],
   "source": [
    "data.info()"
   ]
  },
  {
   "cell_type": "code",
   "execution_count": 10,
   "metadata": {},
   "outputs": [],
   "source": [
    "#Convertir a fecha\n",
    "data['Date']=pd.to_datetime(data['Date'])"
   ]
  },
  {
   "cell_type": "code",
   "execution_count": 12,
   "metadata": {},
   "outputs": [
    {
     "name": "stdout",
     "output_type": "stream",
     "text": [
      "<class 'pandas.core.frame.DataFrame'>\n",
      "RangeIndex: 18249 entries, 0 to 18248\n",
      "Data columns (total 14 columns):\n",
      " #   Column        Non-Null Count  Dtype         \n",
      "---  ------        --------------  -----         \n",
      " 0   ID            18249 non-null  int64         \n",
      " 1   Date          18249 non-null  datetime64[ns]\n",
      " 2   AveragePrice  18249 non-null  float64       \n",
      " 3   Total Volume  18249 non-null  float64       \n",
      " 4   4046          18249 non-null  float64       \n",
      " 5   4225          18249 non-null  float64       \n",
      " 6   4770          18249 non-null  float64       \n",
      " 7   Total Bags    18249 non-null  float64       \n",
      " 8   Small Bags    18249 non-null  float64       \n",
      " 9   Large Bags    18249 non-null  float64       \n",
      " 10  XLarge Bags   18249 non-null  float64       \n",
      " 11  type          18249 non-null  object        \n",
      " 12  year          18249 non-null  int64         \n",
      " 13  region        18249 non-null  object        \n",
      "dtypes: datetime64[ns](1), float64(9), int64(2), object(2)\n",
      "memory usage: 1.9+ MB\n"
     ]
    }
   ],
   "source": [
    "data.info()"
   ]
  },
  {
   "cell_type": "code",
   "execution_count": 14,
   "metadata": {},
   "outputs": [
    {
     "data": {
      "text/plain": [
       "Index(['ID', 'Date', 'AveragePrice', 'Total Volume', '4046', '4225', '4770',\n",
       "       'Total Bags', 'Small Bags', 'Large Bags', 'XLarge Bags', 'type', 'year',\n",
       "       'region'],\n",
       "      dtype='object')"
      ]
     },
     "execution_count": 14,
     "metadata": {},
     "output_type": "execute_result"
    }
   ],
   "source": [
    "data.columns"
   ]
  },
  {
   "cell_type": "code",
   "execution_count": 93,
   "metadata": {},
   "outputs": [],
   "source": [
    "num = ['AveragePrice', 'Total Volume', '4046', '4225', '4770', 'Total Bags', 'Small Bags', 'Large Bags', 'XLarge Bags']\n",
    "cat = ['type', 'year','region']"
   ]
  },
  {
   "cell_type": "code",
   "execution_count": 17,
   "metadata": {},
   "outputs": [
    {
     "data": {
      "text/plain": [
       "ID              1.0\n",
       "Date            1.0\n",
       "AveragePrice    1.0\n",
       "Total Volume    1.0\n",
       "4046            1.0\n",
       "4225            1.0\n",
       "4770            1.0\n",
       "Total Bags      1.0\n",
       "Small Bags      1.0\n",
       "Large Bags      1.0\n",
       "XLarge Bags     1.0\n",
       "type            1.0\n",
       "year            1.0\n",
       "region          1.0\n",
       "dtype: float64"
      ]
     },
     "execution_count": 17,
     "metadata": {},
     "output_type": "execute_result"
    }
   ],
   "source": [
    "1-data.isnull().sum()/data.shape[0] "
   ]
  },
  {
   "cell_type": "code",
   "execution_count": 18,
   "metadata": {},
   "outputs": [
    {
     "data": {
      "text/plain": [
       "<AxesSubplot:>"
      ]
     },
     "execution_count": 18,
     "metadata": {},
     "output_type": "execute_result"
    },
    {
     "data": {
      "image/png": "[encoded data removed]",
      "text/plain": [
       "<Figure size 1800x720 with 2 Axes>"
      ]
     },
     "metadata": {
      "needs_background": "light"
     },
     "output_type": "display_data"
    }
   ],
   "source": [
    "msno.matrix(data)\n",
    "#NO hay datos nulos (yeah!)"
   ]
  },
  {
   "cell_type": "code",
   "execution_count": 19,
   "metadata": {},
   "outputs": [
    {
     "data": {
      "text/html": [
       "<div>\n",
       "<style scoped>\n",
       "    .dataframe tbody tr th:only-of-type {\n",
       "        vertical-align: middle;\n",
       "    }\n",
       "\n",
       "    .dataframe tbody tr th {\n",
       "        vertical-align: top;\n",
       "    }\n",
       "\n",
       "    .dataframe thead th {\n",
       "        text-align: right;\n",
       "    }\n",
       "</style>\n",
       "<table border=\"1\" class=\"dataframe\">\n",
       "  <thead>\n",
       "    <tr style=\"text-align: right;\">\n",
       "      <th></th>\n",
       "      <th>AveragePrice_std</th>\n",
       "      <th>Total Volume_std</th>\n",
       "      <th>4046_std</th>\n",
       "      <th>4225_std</th>\n",
       "      <th>4770_std</th>\n",
       "      <th>Total Bags_std</th>\n",
       "      <th>Small Bags_std</th>\n",
       "      <th>Large Bags_std</th>\n",
       "      <th>XLarge Bags_std</th>\n",
       "    </tr>\n",
       "  </thead>\n",
       "  <tbody>\n",
       "    <tr>\n",
       "      <th>count</th>\n",
       "      <td>18249.0000</td>\n",
       "      <td>18249.0000</td>\n",
       "      <td>18249.0000</td>\n",
       "      <td>18249.0000</td>\n",
       "      <td>18249.0000</td>\n",
       "      <td>18249.0000</td>\n",
       "      <td>18249.0000</td>\n",
       "      <td>18249.0000</td>\n",
       "      <td>18249.0000</td>\n",
       "    </tr>\n",
       "    <tr>\n",
       "      <th>mean</th>\n",
       "      <td>0.0000</td>\n",
       "      <td>-0.0000</td>\n",
       "      <td>0.0000</td>\n",
       "      <td>-0.0000</td>\n",
       "      <td>0.0000</td>\n",
       "      <td>0.0000</td>\n",
       "      <td>-0.0000</td>\n",
       "      <td>-0.0000</td>\n",
       "      <td>0.0000</td>\n",
       "    </tr>\n",
       "    <tr>\n",
       "      <th>std</th>\n",
       "      <td>1.0000</td>\n",
       "      <td>1.0000</td>\n",
       "      <td>1.0000</td>\n",
       "      <td>1.0000</td>\n",
       "      <td>1.0000</td>\n",
       "      <td>1.0000</td>\n",
       "      <td>1.0000</td>\n",
       "      <td>1.0000</td>\n",
       "      <td>1.0000</td>\n",
       "    </tr>\n",
       "    <tr>\n",
       "      <th>min</th>\n",
       "      <td>-2.3989</td>\n",
       "      <td>-0.2463</td>\n",
       "      <td>-0.2316</td>\n",
       "      <td>-0.2451</td>\n",
       "      <td>-0.2125</td>\n",
       "      <td>-0.2430</td>\n",
       "      <td>-0.2442</td>\n",
       "      <td>-0.2227</td>\n",
       "      <td>-0.1756</td>\n",
       "    </tr>\n",
       "    <tr>\n",
       "      <th>10%</th>\n",
       "      <td>-1.1820</td>\n",
       "      <td>-0.2452</td>\n",
       "      <td>-0.2316</td>\n",
       "      <td>-0.2448</td>\n",
       "      <td>-0.2125</td>\n",
       "      <td>-0.2417</td>\n",
       "      <td>-0.2434</td>\n",
       "      <td>-0.2227</td>\n",
       "      <td>-0.1756</td>\n",
       "    </tr>\n",
       "    <tr>\n",
       "      <th>20%</th>\n",
       "      <td>-0.8840</td>\n",
       "      <td>-0.2439</td>\n",
       "      <td>-0.2312</td>\n",
       "      <td>-0.2435</td>\n",
       "      <td>-0.2125</td>\n",
       "      <td>-0.2396</td>\n",
       "      <td>-0.2419</td>\n",
       "      <td>-0.2226</td>\n",
       "      <td>-0.1756</td>\n",
       "    </tr>\n",
       "    <tr>\n",
       "      <th>30%</th>\n",
       "      <td>-0.6357</td>\n",
       "      <td>-0.2419</td>\n",
       "      <td>-0.2305</td>\n",
       "      <td>-0.2416</td>\n",
       "      <td>-0.2125</td>\n",
       "      <td>-0.2356</td>\n",
       "      <td>-0.2378</td>\n",
       "      <td>-0.2214</td>\n",
       "      <td>-0.1756</td>\n",
       "    </tr>\n",
       "    <tr>\n",
       "      <th>40%</th>\n",
       "      <td>-0.3625</td>\n",
       "      <td>-0.2341</td>\n",
       "      <td>-0.2291</td>\n",
       "      <td>-0.2360</td>\n",
       "      <td>-0.2121</td>\n",
       "      <td>-0.2261</td>\n",
       "      <td>-0.2288</td>\n",
       "      <td>-0.2182</td>\n",
       "      <td>-0.1756</td>\n",
       "    </tr>\n",
       "    <tr>\n",
       "      <th>50%</th>\n",
       "      <td>-0.0893</td>\n",
       "      <td>-0.2152</td>\n",
       "      <td>-0.2248</td>\n",
       "      <td>-0.2210</td>\n",
       "      <td>-0.2108</td>\n",
       "      <td>-0.2027</td>\n",
       "      <td>-0.2088</td>\n",
       "      <td>-0.2119</td>\n",
       "      <td>-0.1756</td>\n",
       "    </tr>\n",
       "    <tr>\n",
       "      <th>60%</th>\n",
       "      <td>0.1838</td>\n",
       "      <td>-0.1906</td>\n",
       "      <td>-0.2066</td>\n",
       "      <td>-0.2009</td>\n",
       "      <td>-0.2054</td>\n",
       "      <td>-0.1798</td>\n",
       "      <td>-0.1816</td>\n",
       "      <td>-0.1978</td>\n",
       "      <td>-0.1756</td>\n",
       "    </tr>\n",
       "    <tr>\n",
       "      <th>70%</th>\n",
       "      <td>0.4818</td>\n",
       "      <td>-0.1538</td>\n",
       "      <td>-0.1700</td>\n",
       "      <td>-0.1635</td>\n",
       "      <td>-0.1803</td>\n",
       "      <td>-0.1528</td>\n",
       "      <td>-0.1519</td>\n",
       "      <td>-0.1637</td>\n",
       "      <td>-0.1744</td>\n",
       "    </tr>\n",
       "    <tr>\n",
       "      <th>80%</th>\n",
       "      <td>0.8295</td>\n",
       "      <td>-0.0712</td>\n",
       "      <td>-0.1109</td>\n",
       "      <td>-0.0606</td>\n",
       "      <td>-0.1104</td>\n",
       "      <td>-0.0916</td>\n",
       "      <td>-0.1041</td>\n",
       "      <td>-0.0819</td>\n",
       "      <td>-0.1441</td>\n",
       "    </tr>\n",
       "    <tr>\n",
       "      <th>90%</th>\n",
       "      <td>1.3013</td>\n",
       "      <td>0.1553</td>\n",
       "      <td>0.1940</td>\n",
       "      <td>0.1708</td>\n",
       "      <td>0.0805</td>\n",
       "      <td>0.2053</td>\n",
       "      <td>0.2306</td>\n",
       "      <td>0.1638</td>\n",
       "      <td>0.0329</td>\n",
       "    </tr>\n",
       "    <tr>\n",
       "      <th>max</th>\n",
       "      <td>4.5794</td>\n",
       "      <td>17.8527</td>\n",
       "      <td>17.7477</td>\n",
       "      <td>16.7553</td>\n",
       "      <td>23.4832</td>\n",
       "      <td>19.4004</td>\n",
       "      <td>17.6933</td>\n",
       "      <td>23.2195</td>\n",
       "      <td>31.0061</td>\n",
       "    </tr>\n",
       "  </tbody>\n",
       "</table>\n",
       "</div>"
      ],
      "text/plain": [
       "       AveragePrice_std  Total Volume_std    4046_std    4225_std    4770_std  \\\n",
       "count        18249.0000        18249.0000  18249.0000  18249.0000  18249.0000   \n",
       "mean             0.0000           -0.0000      0.0000     -0.0000      0.0000   \n",
       "std              1.0000            1.0000      1.0000      1.0000      1.0000   \n",
       "min             -2.3989           -0.2463     -0.2316     -0.2451     -0.2125   \n",
       "10%             -1.1820           -0.2452     -0.2316     -0.2448     -0.2125   \n",
       "20%             -0.8840           -0.2439     -0.2312     -0.2435     -0.2125   \n",
       "30%             -0.6357           -0.2419     -0.2305     -0.2416     -0.2125   \n",
       "40%             -0.3625           -0.2341     -0.2291     -0.2360     -0.2121   \n",
       "50%             -0.0893           -0.2152     -0.2248     -0.2210     -0.2108   \n",
       "60%              0.1838           -0.1906     -0.2066     -0.2009     -0.2054   \n",
       "70%              0.4818           -0.1538     -0.1700     -0.1635     -0.1803   \n",
       "80%              0.8295           -0.0712     -0.1109     -0.0606     -0.1104   \n",
       "90%              1.3013            0.1553      0.1940      0.1708      0.0805   \n",
       "max              4.5794           17.8527     17.7477     16.7553     23.4832   \n",
       "\n",
       "       Total Bags_std  Small Bags_std  Large Bags_std  XLarge Bags_std  \n",
       "count      18249.0000      18249.0000      18249.0000       18249.0000  \n",
       "mean           0.0000         -0.0000         -0.0000           0.0000  \n",
       "std            1.0000          1.0000          1.0000           1.0000  \n",
       "min           -0.2430         -0.2442         -0.2227          -0.1756  \n",
       "10%           -0.2417         -0.2434         -0.2227          -0.1756  \n",
       "20%           -0.2396         -0.2419         -0.2226          -0.1756  \n",
       "30%           -0.2356         -0.2378         -0.2214          -0.1756  \n",
       "40%           -0.2261         -0.2288         -0.2182          -0.1756  \n",
       "50%           -0.2027         -0.2088         -0.2119          -0.1756  \n",
       "60%           -0.1798         -0.1816         -0.1978          -0.1756  \n",
       "70%           -0.1528         -0.1519         -0.1637          -0.1744  \n",
       "80%           -0.0916         -0.1041         -0.0819          -0.1441  \n",
       "90%            0.2053          0.2306          0.1638           0.0329  \n",
       "max           19.4004         17.6933         23.2195          31.0061  "
      ]
     },
     "execution_count": 19,
     "metadata": {},
     "output_type": "execute_result"
    }
   ],
   "source": [
    "#Estandarización manual\n",
    "for col in num:\n",
    "    data[f'{col}_std']=(data[col]-data[col].mean())/data[col].std()\n",
    "\n",
    "#Guardar las nuevas columnas en un objeto\n",
    "var_std=[col for col in data.columns if col.endswith('std')]\n",
    "\n",
    "#Describe te muestra la distribución de columnas numéricas\n",
    "data[var_std].describe([i/100 for i in range(10,100,10)]).round(4)\n",
    "\n",
    "#Existen outliers máximos para todas las variables numéricas y outlier mínimo en el precio promedio "
   ]
  },
  {
   "cell_type": "code",
   "execution_count": 24,
   "metadata": {},
   "outputs": [],
   "source": [
    "#data2 = data[(data['AveragePrice']>data['AveragePrice'].quantile(.05))\n",
    "#                      &(data['AveragePrice']<data['AveragePrice'].quantile(.95))]\n",
    "data2 = data[~((data['Total Volume']>data['Total Volume'].quantile(.95)))]\n",
    "data2 = data2[~((data2['4046']>data2['4046'].quantile(.95)))]\n",
    "data2 = data2[~((data2['4225']>data2['4225'].quantile(.95)))]\n",
    "data2 = data2[~((data2['4770']>data2['4770'].quantile(.95)))]\n",
    "#no se omiten los outliers de total bags porque es la suma de las siguientes 3 columnas\n",
    "data2 = data2[~((data2['Small Bags']>data2['Small Bags'].quantile(.95)))]\n",
    "data2 = data2[~((data2['Large Bags']>data2['Large Bags'].quantile(.95)))]\n",
    "data2 = data2[~((data2['XLarge Bags']>data2['XLarge Bags'].quantile(.95)))]"
   ]
  },
  {
   "cell_type": "code",
   "execution_count": 25,
   "metadata": {},
   "outputs": [
    {
     "data": {
      "text/plain": [
       "0.69817524247904"
      ]
     },
     "execution_count": 25,
     "metadata": {},
     "output_type": "execute_result"
    }
   ],
   "source": [
    "#Omitimos el 30% del total de registros, es bastante pero con el análisis gráfico concluimos que es necesario\n",
    "data2.shape[0]/data.shape[0]"
   ]
  },
  {
   "cell_type": "code",
   "execution_count": 28,
   "metadata": {},
   "outputs": [
    {
     "data": {
      "text/plain": [
       "<AxesSubplot:>"
      ]
     },
     "execution_count": 28,
     "metadata": {},
     "output_type": "execute_result"
    },
    {
     "data": {
      "image/png": "[encoded data removed]",
      "text/plain": [
       "<Figure size 432x288 with 1 Axes>"
      ]
     },
     "metadata": {
      "needs_background": "light"
     },
     "output_type": "display_data"
    }
   ],
   "source": [
    "#ANTES\n",
    "data['Total Volume'].hist()"
   ]
  },
  {
   "cell_type": "code",
   "execution_count": 29,
   "metadata": {},
   "outputs": [
    {
     "data": {
      "text/plain": [
       "<AxesSubplot:>"
      ]
     },
     "execution_count": 29,
     "metadata": {},
     "output_type": "execute_result"
    },
    {
     "data": {
      "image/png": "[encoded data removed]",
      "text/plain": [
       "<Figure size 432x288 with 1 Axes>"
      ]
     },
     "metadata": {
      "needs_background": "light"
     },
     "output_type": "display_data"
    }
   ],
   "source": [
    "#DESPUÉS\n",
    "data2['Total Volume'].hist()"
   ]
  },
  {
   "cell_type": "code",
   "execution_count": 30,
   "metadata": {},
   "outputs": [
    {
     "data": {
      "text/plain": [
       "<AxesSubplot:>"
      ]
     },
     "execution_count": 30,
     "metadata": {},
     "output_type": "execute_result"
    },
    {
     "data": {
      "image/png": "[encoded data removed]",
      "text/plain": [
       "<Figure size 432x288 with 1 Axes>"
      ]
     },
     "metadata": {
      "needs_background": "light"
     },
     "output_type": "display_data"
    }
   ],
   "source": [
    "#ANTES\n",
    "data['4046'].hist()"
   ]
  },
  {
   "cell_type": "code",
   "execution_count": 38,
   "metadata": {},
   "outputs": [
    {
     "data": {
      "text/plain": [
       "<AxesSubplot:>"
      ]
     },
     "execution_count": 38,
     "metadata": {},
     "output_type": "execute_result"
    },
    {
     "data": {
      "image/png": "[encoded data removed]",
      "text/plain": [
       "<Figure size 432x288 with 1 Axes>"
      ]
     },
     "metadata": {
      "needs_background": "light"
     },
     "output_type": "display_data"
    }
   ],
   "source": [
    "#DESPUÉS\n",
    "data2['4046'].hist()"
   ]
  },
  {
   "cell_type": "code",
   "execution_count": 39,
   "metadata": {},
   "outputs": [
    {
     "data": {
      "text/plain": [
       "<AxesSubplot:>"
      ]
     },
     "execution_count": 39,
     "metadata": {},
     "output_type": "execute_result"
    },
    {
     "data": {
      "image/png": "[encoded data removed]",
      "text/plain": [
       "<Figure size 432x288 with 1 Axes>"
      ]
     },
     "metadata": {
      "needs_background": "light"
     },
     "output_type": "display_data"
    }
   ],
   "source": [
    "#ANTES\n",
    "data['Small Bags'].hist()"
   ]
  },
  {
   "cell_type": "code",
   "execution_count": 40,
   "metadata": {},
   "outputs": [
    {
     "data": {
      "text/plain": [
       "<AxesSubplot:>"
      ]
     },
     "execution_count": 40,
     "metadata": {},
     "output_type": "execute_result"
    },
    {
     "data": {
      "image/png": "[encoded data removed]",
      "text/plain": [
       "<Figure size 432x288 with 1 Axes>"
      ]
     },
     "metadata": {
      "needs_background": "light"
     },
     "output_type": "display_data"
    }
   ],
   "source": [
    "#DESPUÉS\n",
    "data2['Small Bags'].hist()"
   ]
  },
  {
   "cell_type": "code",
   "execution_count": null,
   "metadata": {},
   "outputs": [],
   "source": [
    "#INGENIERÍA DE VARIABLES"
   ]
  },
  {
   "cell_type": "code",
   "execution_count": 42,
   "metadata": {},
   "outputs": [
    {
     "data": {
      "text/html": [
       "<div>\n",
       "<style scoped>\n",
       "    .dataframe tbody tr th:only-of-type {\n",
       "        vertical-align: middle;\n",
       "    }\n",
       "\n",
       "    .dataframe tbody tr th {\n",
       "        vertical-align: top;\n",
       "    }\n",
       "\n",
       "    .dataframe thead th {\n",
       "        text-align: right;\n",
       "    }\n",
       "</style>\n",
       "<table border=\"1\" class=\"dataframe\">\n",
       "  <thead>\n",
       "    <tr style=\"text-align: right;\">\n",
       "      <th></th>\n",
       "      <th>AveragePrice</th>\n",
       "      <th>Total Volume</th>\n",
       "      <th>4046</th>\n",
       "      <th>4225</th>\n",
       "      <th>4770</th>\n",
       "      <th>Total Bags</th>\n",
       "      <th>Small Bags</th>\n",
       "      <th>Large Bags</th>\n",
       "      <th>XLarge Bags</th>\n",
       "    </tr>\n",
       "  </thead>\n",
       "  <tbody>\n",
       "    <tr>\n",
       "      <th>count</th>\n",
       "      <td>12741.000000</td>\n",
       "      <td>1.274100e+04</td>\n",
       "      <td>12741.000000</td>\n",
       "      <td>12741.000000</td>\n",
       "      <td>12741.00000</td>\n",
       "      <td>12741.000000</td>\n",
       "      <td>12741.000000</td>\n",
       "      <td>12741.000000</td>\n",
       "      <td>12741.000000</td>\n",
       "    </tr>\n",
       "    <tr>\n",
       "      <th>mean</th>\n",
       "      <td>1.520366</td>\n",
       "      <td>9.289046e+04</td>\n",
       "      <td>27795.638359</td>\n",
       "      <td>35376.560831</td>\n",
       "      <td>1217.49537</td>\n",
       "      <td>28499.143456</td>\n",
       "      <td>22406.408916</td>\n",
       "      <td>6036.238061</td>\n",
       "      <td>56.495929</td>\n",
       "    </tr>\n",
       "    <tr>\n",
       "      <th>std</th>\n",
       "      <td>0.391758</td>\n",
       "      <td>1.377783e+05</td>\n",
       "      <td>65270.376320</td>\n",
       "      <td>67562.885681</td>\n",
       "      <td>3208.31610</td>\n",
       "      <td>34772.316009</td>\n",
       "      <td>29379.974527</td>\n",
       "      <td>11181.854119</td>\n",
       "      <td>233.984183</td>\n",
       "    </tr>\n",
       "    <tr>\n",
       "      <th>min</th>\n",
       "      <td>0.440000</td>\n",
       "      <td>8.456000e+01</td>\n",
       "      <td>0.000000</td>\n",
       "      <td>0.000000</td>\n",
       "      <td>0.00000</td>\n",
       "      <td>0.000000</td>\n",
       "      <td>0.000000</td>\n",
       "      <td>0.000000</td>\n",
       "      <td>0.000000</td>\n",
       "    </tr>\n",
       "    <tr>\n",
       "      <th>25%</th>\n",
       "      <td>1.230000</td>\n",
       "      <td>6.991110e+03</td>\n",
       "      <td>340.200000</td>\n",
       "      <td>1416.230000</td>\n",
       "      <td>0.00000</td>\n",
       "      <td>2717.230000</td>\n",
       "      <td>1302.930000</td>\n",
       "      <td>14.390000</td>\n",
       "      <td>0.000000</td>\n",
       "    </tr>\n",
       "    <tr>\n",
       "      <th>50%</th>\n",
       "      <td>1.500000</td>\n",
       "      <td>2.351436e+04</td>\n",
       "      <td>2133.740000</td>\n",
       "      <td>6533.700000</td>\n",
       "      <td>11.82000</td>\n",
       "      <td>10358.380000</td>\n",
       "      <td>7524.280000</td>\n",
       "      <td>892.440000</td>\n",
       "      <td>0.000000</td>\n",
       "    </tr>\n",
       "    <tr>\n",
       "      <th>75%</th>\n",
       "      <td>1.780000</td>\n",
       "      <td>1.281088e+05</td>\n",
       "      <td>16980.320000</td>\n",
       "      <td>37610.340000</td>\n",
       "      <td>431.28000</td>\n",
       "      <td>47821.850000</td>\n",
       "      <td>36180.970000</td>\n",
       "      <td>6028.550000</td>\n",
       "      <td>0.000000</td>\n",
       "    </tr>\n",
       "    <tr>\n",
       "      <th>max</th>\n",
       "      <td>3.250000</td>\n",
       "      <td>1.086740e+06</td>\n",
       "      <td>579515.760000</td>\n",
       "      <td>443903.930000</td>\n",
       "      <td>19961.19000</td>\n",
       "      <td>190144.100000</td>\n",
       "      <td>139363.880000</td>\n",
       "      <td>58844.050000</td>\n",
       "      <td>1768.970000</td>\n",
       "    </tr>\n",
       "  </tbody>\n",
       "</table>\n",
       "</div>"
      ],
      "text/plain": [
       "       AveragePrice  Total Volume           4046           4225         4770  \\\n",
       "count  12741.000000  1.274100e+04   12741.000000   12741.000000  12741.00000   \n",
       "mean       1.520366  9.289046e+04   27795.638359   35376.560831   1217.49537   \n",
       "std        0.391758  1.377783e+05   65270.376320   67562.885681   3208.31610   \n",
       "min        0.440000  8.456000e+01       0.000000       0.000000      0.00000   \n",
       "25%        1.230000  6.991110e+03     340.200000    1416.230000      0.00000   \n",
       "50%        1.500000  2.351436e+04    2133.740000    6533.700000     11.82000   \n",
       "75%        1.780000  1.281088e+05   16980.320000   37610.340000    431.28000   \n",
       "max        3.250000  1.086740e+06  579515.760000  443903.930000  19961.19000   \n",
       "\n",
       "          Total Bags     Small Bags    Large Bags   XLarge Bags  \n",
       "count   12741.000000   12741.000000  12741.000000  12741.000000  \n",
       "mean    28499.143456   22406.408916   6036.238061     56.495929  \n",
       "std     34772.316009   29379.974527  11181.854119    233.984183  \n",
       "min         0.000000       0.000000      0.000000      0.000000  \n",
       "25%      2717.230000    1302.930000     14.390000      0.000000  \n",
       "50%     10358.380000    7524.280000    892.440000      0.000000  \n",
       "75%     47821.850000   36180.970000   6028.550000      0.000000  \n",
       "max    190144.100000  139363.880000  58844.050000   1768.970000  "
      ]
     },
     "execution_count": 42,
     "metadata": {},
     "output_type": "execute_result"
    }
   ],
   "source": [
    "data2[num].describe()"
   ]
  },
  {
   "cell_type": "code",
   "execution_count": 52,
   "metadata": {},
   "outputs": [],
   "source": [
    "data2['Total_revenue'] = data2['AveragePrice']*data2['Total Volume']\n",
    "data2['Avoc_p_bag'] = np.where(data2['Total Bags']==0, 0, data2['Total Volume']/data2['Total Bags'])\n",
    "data2['Missed_bags'] = round(data2['Total Bags'] - data2['Small Bags'] - data2['Large Bags'] - data2['XLarge Bags'],0)"
   ]
  },
  {
   "cell_type": "code",
   "execution_count": 53,
   "metadata": {},
   "outputs": [
    {
     "data": {
      "text/html": [
       "<div>\n",
       "<style scoped>\n",
       "    .dataframe tbody tr th:only-of-type {\n",
       "        vertical-align: middle;\n",
       "    }\n",
       "\n",
       "    .dataframe tbody tr th {\n",
       "        vertical-align: top;\n",
       "    }\n",
       "\n",
       "    .dataframe thead th {\n",
       "        text-align: right;\n",
       "    }\n",
       "</style>\n",
       "<table border=\"1\" class=\"dataframe\">\n",
       "  <thead>\n",
       "    <tr style=\"text-align: right;\">\n",
       "      <th></th>\n",
       "      <th>Total_revenue</th>\n",
       "      <th>Avoc_p_bag</th>\n",
       "      <th>Missed_bags</th>\n",
       "    </tr>\n",
       "  </thead>\n",
       "  <tbody>\n",
       "    <tr>\n",
       "      <th>count</th>\n",
       "      <td>1.274100e+04</td>\n",
       "      <td>12741.000000</td>\n",
       "      <td>12741.000000</td>\n",
       "    </tr>\n",
       "    <tr>\n",
       "      <th>mean</th>\n",
       "      <td>1.178595e+05</td>\n",
       "      <td>10.243155</td>\n",
       "      <td>0.000549</td>\n",
       "    </tr>\n",
       "    <tr>\n",
       "      <th>std</th>\n",
       "      <td>1.648644e+05</td>\n",
       "      <td>139.728710</td>\n",
       "      <td>0.049325</td>\n",
       "    </tr>\n",
       "    <tr>\n",
       "      <th>min</th>\n",
       "      <td>1.344504e+02</td>\n",
       "      <td>0.000000</td>\n",
       "      <td>-1.000000</td>\n",
       "    </tr>\n",
       "    <tr>\n",
       "      <th>25%</th>\n",
       "      <td>1.127379e+04</td>\n",
       "      <td>1.539606</td>\n",
       "      <td>0.000000</td>\n",
       "    </tr>\n",
       "    <tr>\n",
       "      <th>50%</th>\n",
       "      <td>3.785545e+04</td>\n",
       "      <td>2.459755</td>\n",
       "      <td>0.000000</td>\n",
       "    </tr>\n",
       "    <tr>\n",
       "      <th>75%</th>\n",
       "      <td>1.668301e+05</td>\n",
       "      <td>4.150595</td>\n",
       "      <td>0.000000</td>\n",
       "    </tr>\n",
       "    <tr>\n",
       "      <th>max</th>\n",
       "      <td>1.264747e+06</td>\n",
       "      <td>7708.260450</td>\n",
       "      <td>1.000000</td>\n",
       "    </tr>\n",
       "  </tbody>\n",
       "</table>\n",
       "</div>"
      ],
      "text/plain": [
       "       Total_revenue    Avoc_p_bag   Missed_bags\n",
       "count   1.274100e+04  12741.000000  12741.000000\n",
       "mean    1.178595e+05     10.243155      0.000549\n",
       "std     1.648644e+05    139.728710      0.049325\n",
       "min     1.344504e+02      0.000000     -1.000000\n",
       "25%     1.127379e+04      1.539606      0.000000\n",
       "50%     3.785545e+04      2.459755      0.000000\n",
       "75%     1.668301e+05      4.150595      0.000000\n",
       "max     1.264747e+06   7708.260450      1.000000"
      ]
     },
     "execution_count": 53,
     "metadata": {},
     "output_type": "execute_result"
    }
   ],
   "source": [
    "data2[['Total_revenue', 'Avoc_p_bag', 'Missed_bags']].describe()"
   ]
  },
  {
   "cell_type": "code",
   "execution_count": 62,
   "metadata": {},
   "outputs": [],
   "source": [
    "#df[col].dt.year/month/week/etc para una columna con formato de fecha\n",
    "data2['Month'] = data2['Date'].dt.month"
   ]
  },
  {
   "cell_type": "code",
   "execution_count": 63,
   "metadata": {},
   "outputs": [
    {
     "data": {
      "text/plain": [
       "1     1381\n",
       "3     1290\n",
       "2     1197\n",
       "10    1128\n",
       "5     1054\n",
       "11    1039\n",
       "4     1007\n",
       "12     994\n",
       "8      955\n",
       "7      947\n",
       "9      935\n",
       "6      814\n",
       "Name: Month, dtype: int64"
      ]
     },
     "execution_count": 63,
     "metadata": {},
     "output_type": "execute_result"
    }
   ],
   "source": [
    "data2['Month'].value_counts()"
   ]
  },
  {
   "cell_type": "code",
   "execution_count": 94,
   "metadata": {},
   "outputs": [
    {
     "data": {
      "text/html": [
       "<div>\n",
       "<style scoped>\n",
       "    .dataframe tbody tr th:only-of-type {\n",
       "        vertical-align: middle;\n",
       "    }\n",
       "\n",
       "    .dataframe tbody tr th {\n",
       "        vertical-align: top;\n",
       "    }\n",
       "\n",
       "    .dataframe thead th {\n",
       "        text-align: right;\n",
       "    }\n",
       "</style>\n",
       "<table border=\"1\" class=\"dataframe\">\n",
       "  <thead>\n",
       "    <tr style=\"text-align: right;\">\n",
       "      <th></th>\n",
       "      <th>AveragePrice</th>\n",
       "      <th>Total Volume</th>\n",
       "      <th>4046</th>\n",
       "      <th>4225</th>\n",
       "      <th>4770</th>\n",
       "      <th>Total Bags</th>\n",
       "      <th>Small Bags</th>\n",
       "      <th>Large Bags</th>\n",
       "      <th>XLarge Bags</th>\n",
       "      <th>Total_revenue</th>\n",
       "      <th>Avoc_p_bag</th>\n",
       "      <th>Missed_bags</th>\n",
       "    </tr>\n",
       "  </thead>\n",
       "  <tbody>\n",
       "    <tr>\n",
       "      <th>AveragePrice</th>\n",
       "      <td>1.000000</td>\n",
       "      <td>-0.432969</td>\n",
       "      <td>-0.381967</td>\n",
       "      <td>-0.285487</td>\n",
       "      <td>-0.326026</td>\n",
       "      <td>-0.413792</td>\n",
       "      <td>-0.371287</td>\n",
       "      <td>-0.307504</td>\n",
       "      <td>-0.177996</td>\n",
       "      <td>-0.313316</td>\n",
       "      <td>0.041032</td>\n",
       "      <td>-0.002366</td>\n",
       "    </tr>\n",
       "    <tr>\n",
       "      <th>Total Volume</th>\n",
       "      <td>-0.432969</td>\n",
       "      <td>1.000000</td>\n",
       "      <td>0.800253</td>\n",
       "      <td>0.820555</td>\n",
       "      <td>0.547731</td>\n",
       "      <td>0.815264</td>\n",
       "      <td>0.780894</td>\n",
       "      <td>0.478256</td>\n",
       "      <td>0.248591</td>\n",
       "      <td>0.958119</td>\n",
       "      <td>-0.019588</td>\n",
       "      <td>0.030679</td>\n",
       "    </tr>\n",
       "    <tr>\n",
       "      <th>4046</th>\n",
       "      <td>-0.381967</td>\n",
       "      <td>0.800253</td>\n",
       "      <td>1.000000</td>\n",
       "      <td>0.358874</td>\n",
       "      <td>0.442163</td>\n",
       "      <td>0.555689</td>\n",
       "      <td>0.488765</td>\n",
       "      <td>0.441097</td>\n",
       "      <td>0.129937</td>\n",
       "      <td>0.694240</td>\n",
       "      <td>-0.007219</td>\n",
       "      <td>0.022278</td>\n",
       "    </tr>\n",
       "    <tr>\n",
       "      <th>4225</th>\n",
       "      <td>-0.285487</td>\n",
       "      <td>0.820555</td>\n",
       "      <td>0.358874</td>\n",
       "      <td>1.000000</td>\n",
       "      <td>0.449289</td>\n",
       "      <td>0.593180</td>\n",
       "      <td>0.611050</td>\n",
       "      <td>0.234276</td>\n",
       "      <td>0.230623</td>\n",
       "      <td>0.833212</td>\n",
       "      <td>-0.011202</td>\n",
       "      <td>0.022924</td>\n",
       "    </tr>\n",
       "    <tr>\n",
       "      <th>4770</th>\n",
       "      <td>-0.326026</td>\n",
       "      <td>0.547731</td>\n",
       "      <td>0.442163</td>\n",
       "      <td>0.449289</td>\n",
       "      <td>1.000000</td>\n",
       "      <td>0.375076</td>\n",
       "      <td>0.398415</td>\n",
       "      <td>0.115227</td>\n",
       "      <td>0.206866</td>\n",
       "      <td>0.485659</td>\n",
       "      <td>-0.014350</td>\n",
       "      <td>0.015163</td>\n",
       "    </tr>\n",
       "    <tr>\n",
       "      <th>Total Bags</th>\n",
       "      <td>-0.413792</td>\n",
       "      <td>0.815264</td>\n",
       "      <td>0.555689</td>\n",
       "      <td>0.593180</td>\n",
       "      <td>0.375076</td>\n",
       "      <td>1.000000</td>\n",
       "      <td>0.952572</td>\n",
       "      <td>0.601124</td>\n",
       "      <td>0.273911</td>\n",
       "      <td>0.829432</td>\n",
       "      <td>-0.040971</td>\n",
       "      <td>0.033801</td>\n",
       "    </tr>\n",
       "    <tr>\n",
       "      <th>Small Bags</th>\n",
       "      <td>-0.371287</td>\n",
       "      <td>0.780894</td>\n",
       "      <td>0.488765</td>\n",
       "      <td>0.611050</td>\n",
       "      <td>0.398415</td>\n",
       "      <td>0.952572</td>\n",
       "      <td>1.000000</td>\n",
       "      <td>0.329497</td>\n",
       "      <td>0.251155</td>\n",
       "      <td>0.799528</td>\n",
       "      <td>-0.037860</td>\n",
       "      <td>0.020542</td>\n",
       "    </tr>\n",
       "    <tr>\n",
       "      <th>Large Bags</th>\n",
       "      <td>-0.307504</td>\n",
       "      <td>0.478256</td>\n",
       "      <td>0.441097</td>\n",
       "      <td>0.234276</td>\n",
       "      <td>0.115227</td>\n",
       "      <td>0.601124</td>\n",
       "      <td>0.329497</td>\n",
       "      <td>1.000000</td>\n",
       "      <td>0.170956</td>\n",
       "      <td>0.473125</td>\n",
       "      <td>-0.027696</td>\n",
       "      <td>0.051380</td>\n",
       "    </tr>\n",
       "    <tr>\n",
       "      <th>XLarge Bags</th>\n",
       "      <td>-0.177996</td>\n",
       "      <td>0.248591</td>\n",
       "      <td>0.129937</td>\n",
       "      <td>0.230623</td>\n",
       "      <td>0.206866</td>\n",
       "      <td>0.273911</td>\n",
       "      <td>0.251155</td>\n",
       "      <td>0.170956</td>\n",
       "      <td>1.000000</td>\n",
       "      <td>0.259537</td>\n",
       "      <td>-0.011212</td>\n",
       "      <td>-0.011762</td>\n",
       "    </tr>\n",
       "    <tr>\n",
       "      <th>Total_revenue</th>\n",
       "      <td>-0.313316</td>\n",
       "      <td>0.958119</td>\n",
       "      <td>0.694240</td>\n",
       "      <td>0.833212</td>\n",
       "      <td>0.485659</td>\n",
       "      <td>0.829432</td>\n",
       "      <td>0.799528</td>\n",
       "      <td>0.473125</td>\n",
       "      <td>0.259537</td>\n",
       "      <td>1.000000</td>\n",
       "      <td>-0.018475</td>\n",
       "      <td>0.036477</td>\n",
       "    </tr>\n",
       "    <tr>\n",
       "      <th>Avoc_p_bag</th>\n",
       "      <td>0.041032</td>\n",
       "      <td>-0.019588</td>\n",
       "      <td>-0.007219</td>\n",
       "      <td>-0.011202</td>\n",
       "      <td>-0.014350</td>\n",
       "      <td>-0.040971</td>\n",
       "      <td>-0.037860</td>\n",
       "      <td>-0.027696</td>\n",
       "      <td>-0.011212</td>\n",
       "      <td>-0.018475</td>\n",
       "      <td>1.000000</td>\n",
       "      <td>-0.000542</td>\n",
       "    </tr>\n",
       "    <tr>\n",
       "      <th>Missed_bags</th>\n",
       "      <td>-0.002366</td>\n",
       "      <td>0.030679</td>\n",
       "      <td>0.022278</td>\n",
       "      <td>0.022924</td>\n",
       "      <td>0.015163</td>\n",
       "      <td>0.033801</td>\n",
       "      <td>0.020542</td>\n",
       "      <td>0.051380</td>\n",
       "      <td>-0.011762</td>\n",
       "      <td>0.036477</td>\n",
       "      <td>-0.000542</td>\n",
       "      <td>1.000000</td>\n",
       "    </tr>\n",
       "  </tbody>\n",
       "</table>\n",
       "</div>"
      ],
      "text/plain": [
       "               AveragePrice  Total Volume      4046      4225      4770  \\\n",
       "AveragePrice       1.000000     -0.432969 -0.381967 -0.285487 -0.326026   \n",
       "Total Volume      -0.432969      1.000000  0.800253  0.820555  0.547731   \n",
       "4046              -0.381967      0.800253  1.000000  0.358874  0.442163   \n",
       "4225              -0.285487      0.820555  0.358874  1.000000  0.449289   \n",
       "4770              -0.326026      0.547731  0.442163  0.449289  1.000000   \n",
       "Total Bags        -0.413792      0.815264  0.555689  0.593180  0.375076   \n",
       "Small Bags        -0.371287      0.780894  0.488765  0.611050  0.398415   \n",
       "Large Bags        -0.307504      0.478256  0.441097  0.234276  0.115227   \n",
       "XLarge Bags       -0.177996      0.248591  0.129937  0.230623  0.206866   \n",
       "Total_revenue     -0.313316      0.958119  0.694240  0.833212  0.485659   \n",
       "Avoc_p_bag         0.041032     -0.019588 -0.007219 -0.011202 -0.014350   \n",
       "Missed_bags       -0.002366      0.030679  0.022278  0.022924  0.015163   \n",
       "\n",
       "               Total Bags  Small Bags  Large Bags  XLarge Bags  Total_revenue  \\\n",
       "AveragePrice    -0.413792   -0.371287   -0.307504    -0.177996      -0.313316   \n",
       "Total Volume     0.815264    0.780894    0.478256     0.248591       0.958119   \n",
       "4046             0.555689    0.488765    0.441097     0.129937       0.694240   \n",
       "4225             0.593180    0.611050    0.234276     0.230623       0.833212   \n",
       "4770             0.375076    0.398415    0.115227     0.206866       0.485659   \n",
       "Total Bags       1.000000    0.952572    0.601124     0.273911       0.829432   \n",
       "Small Bags       0.952572    1.000000    0.329497     0.251155       0.799528   \n",
       "Large Bags       0.601124    0.329497    1.000000     0.170956       0.473125   \n",
       "XLarge Bags      0.273911    0.251155    0.170956     1.000000       0.259537   \n",
       "Total_revenue    0.829432    0.799528    0.473125     0.259537       1.000000   \n",
       "Avoc_p_bag      -0.040971   -0.037860   -0.027696    -0.011212      -0.018475   \n",
       "Missed_bags      0.033801    0.020542    0.051380    -0.011762       0.036477   \n",
       "\n",
       "               Avoc_p_bag  Missed_bags  \n",
       "AveragePrice     0.041032    -0.002366  \n",
       "Total Volume    -0.019588     0.030679  \n",
       "4046            -0.007219     0.022278  \n",
       "4225            -0.011202     0.022924  \n",
       "4770            -0.014350     0.015163  \n",
       "Total Bags      -0.040971     0.033801  \n",
       "Small Bags      -0.037860     0.020542  \n",
       "Large Bags      -0.027696     0.051380  \n",
       "XLarge Bags     -0.011212    -0.011762  \n",
       "Total_revenue   -0.018475     0.036477  \n",
       "Avoc_p_bag       1.000000    -0.000542  \n",
       "Missed_bags     -0.000542     1.000000  "
      ]
     },
     "execution_count": 94,
     "metadata": {},
     "output_type": "execute_result"
    }
   ],
   "source": [
    "#La relación entre variables numéricas más grande es el ingreso total vs el total de aguacates vendidos,\n",
    "#ya que la variable ingreso fue creada a partir de la otra\n",
    "num = num + ['Total_revenue', 'Avoc_p_bag', 'Missed_bags']\n",
    "data2[num].corr()"
   ]
  },
  {
   "cell_type": "code",
   "execution_count": 97,
   "metadata": {},
   "outputs": [
    {
     "data": {
      "text/plain": [
       "<AxesSubplot:xlabel='Date'>"
      ]
     },
     "execution_count": 97,
     "metadata": {},
     "output_type": "execute_result"
    },
    {
     "data": {
      "image/png": "[encoded data removed]",
      "text/plain": [
       "<Figure size 432x288 with 1 Axes>"
      ]
     },
     "metadata": {
      "needs_background": "light"
     },
     "output_type": "display_data"
    }
   ],
   "source": [
    "#Por ello, el comportamiento mensual promedio tiene gran similitud entre estas variables\n",
    "data_month = data2[['Total Volume', 'Total_revenue', 'Date']].groupby(pd.Grouper(key='Date', freq=\"1MS\")).mean()\n",
    "data_month.plot()"
   ]
  },
  {
   "cell_type": "code",
   "execution_count": 98,
   "metadata": {},
   "outputs": [
    {
     "data": {
      "text/plain": [
       "<matplotlib.collections.PathCollection at 0x7fd70556d430>"
      ]
     },
     "execution_count": 98,
     "metadata": {},
     "output_type": "execute_result"
    },
    {
     "data": {
      "image/png": "[encoded data removed]",
      "text/plain": [
       "<Figure size 432x288 with 1 Axes>"
      ]
     },
     "metadata": {
      "needs_background": "light"
     },
     "output_type": "display_data"
    }
   ],
   "source": [
    "#Ahora, se comprueba con una gráfica de dispersión que el total de bolsas vendidas depende de las bolsas pequeñas vendidas\n",
    "X = data2['Small Bags']\n",
    "y = data2['Total Bags']\n",
    "plt.scatter(X,y)"
   ]
  }
 ],
 "metadata": {
  "kernelspec": {
   "display_name": "Python 3",
   "language": "python",
   "name": "python3"
  },
  "language_info": {
   "codemirror_mode": {
    "name": "ipython",
    "version": 3
   },
   "file_extension": ".py",
   "mimetype": "text/x-python",
   "name": "python",
   "nbconvert_exporter": "python",
   "pygments_lexer": "ipython3",
   "version": "3.8.5"
  },
  "toc": {
   "base_numbering": 1,
   "nav_menu": {},
   "number_sections": true,
   "sideBar": true,
   "skip_h1_title": false,
   "title_cell": "Table of Contents",
   "title_sidebar": "Contents",
   "toc_cell": false,
   "toc_position": {},
   "toc_section_display": true,
   "toc_window_display": false
  },
  "varInspector": {
   "cols": {
    "lenName": 16,
    "lenType": 16,
    "lenVar": 40
   },
   "kernels_config": {
    "python": {
     "delete_cmd_postfix": "",
     "delete_cmd_prefix": "del ",
     "library": "var_list.py",
     "varRefreshCmd": "print(var_dic_list())"
    },
    "r": {
     "delete_cmd_postfix": ") ",
     "delete_cmd_prefix": "rm(",
     "library": "var_list.r",
     "varRefreshCmd": "cat(var_dic_list()) "
    }
   },
   "types_to_exclude": [
    "module",
    "function",
    "builtin_function_or_method",
    "instance",
    "_Feature"
   ],
   "window_display": false
  }
 },
 "nbformat": 4,
 "nbformat_minor": 4
}
